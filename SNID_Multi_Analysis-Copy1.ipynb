{
 "cells": [
  {
   "cell_type": "code",
   "execution_count": 1,
   "metadata": {},
   "outputs": [],
   "source": [
    "import subprocess\n",
    "import shlex\n",
    "import pandas as pd\n",
    "import numpy as np\n",
    "from astropy.table import Table\n",
    "from astropy.table import Column\n",
    "import os\n",
    "import glob2\n",
    "import matplotlib.pyplot as plt\n",
    "from matplotlib.backends.backend_pdf import PdfPages\n",
    "import SNID_Analysis\n",
    "import numpy as np\n",
    "import gc\n",
    "import glob"
   ]
  },
  {
   "cell_type": "code",
   "execution_count": 2,
   "metadata": {},
   "outputs": [],
   "source": [
    "sample = Table.read(\"/mnt/c/users/20xha/Documents/Caltech/Research/NewZTF/ML_sample.ascii\", format = \"ascii\")"
   ]
  },
  {
   "cell_type": "code",
   "execution_count": 3,
   "metadata": {},
   "outputs": [],
   "source": [
    "sample_location = \"/home/hallflower/spectra/spectra/\"\n",
    "source = \"/mnt/c/users/20xha/Documents/Caltech/Research/NewZTF/SNIDoutput/\"\n",
    "image_output = \"/mnt/c/users/20xha/Documents/Caltech/Research/NewZTF/Images/\"\n",
    "param = \"/mnt/c/users/20xha/Documents/GitHub/supernova-spectrum-analysis/snid.param\"\n",
    "snid = \"/mnt/c/users/20xha/Documents/Caltech/Research/SNID/snid-5.0/snid\""
   ]
  },
  {
   "cell_type": "code",
   "execution_count": 4,
   "metadata": {},
   "outputs": [
    {
     "data": {
      "text/plain": [
       "4411"
      ]
     },
     "execution_count": 4,
     "metadata": {},
     "output_type": "execute_result"
    }
   ],
   "source": [
    "np.size(np.unique(sample[\"col1\"]))"
   ]
  },
  {
   "cell_type": "code",
   "execution_count": 5,
   "metadata": {},
   "outputs": [
    {
     "name": "stdout",
     "output_type": "stream",
     "text": [
      "ZTF20aasdpxi /mnt/c/users/20xha/Documents/Caltech/Research/SNID/snid-5.0/snid zmax=.2 rlapmin=0 verbose=0 plot=0 fluxout=5 /home/hallflower/spectra/spectra/ZTF20aasdpxi_20200322_Keck1_v1.ascii\n",
      "0\n",
      "ZTF20aattyuz /mnt/c/users/20xha/Documents/Caltech/Research/SNID/snid-5.0/snid zmax=.2 rlapmin=0 verbose=0 plot=0 fluxout=5 /home/hallflower/spectra/spectra/ZTF20aattyuz_20200720_Keck1_v1.ascii\n",
      "ZTF20aatxryt /mnt/c/users/20xha/Documents/Caltech/Research/SNID/snid-5.0/snid zmax=.2 rlapmin=0 verbose=0 plot=0 fluxout=5 /home/hallflower/spectra/spectra/ZTF20aatxryt_20200720_Keck1_v1.ascii\n",
      "100\n",
      "ZTF20aavgcnu /mnt/c/users/20xha/Documents/Caltech/Research/SNID/snid-5.0/snid zmax=.2 rlapmin=0 verbose=0 plot=0 fluxout=5 /home/hallflower/spectra/spectra/ZTF20aavgcnu_20200623_Keck1_v1.ascii\n",
      "ZTF20aawxsit /mnt/c/users/20xha/Documents/Caltech/Research/SNID/snid-5.0/snid zmax=.2 rlapmin=0 verbose=0 plot=0 fluxout=5 /home/hallflower/spectra/spectra/ZTF20aawxsit_20200623_Keck1_v1.ascii\n",
      "200\n",
      "ZTF20aayhacx /mnt/c/users/20xha/Documents/Caltech/Research/SNID/snid-5.0/snid zmax=.2 rlapmin=0 verbose=0 plot=0 fluxout=5 /home/hallflower/spectra/spectra/ZTF20aayhacx_20200623_Keck1_v1.ascii\n",
      "ZTF20aayprqz /mnt/c/users/20xha/Documents/Caltech/Research/SNID/snid-5.0/snid zmax=.2 rlapmin=0 verbose=0 plot=0 fluxout=5 /home/hallflower/spectra/spectra/ZTF20aayprqz_20200720_Keck1_v1.ascii\n",
      "ZTF20abaszgh /mnt/c/users/20xha/Documents/Caltech/Research/SNID/snid-5.0/snid zmax=.2 rlapmin=0 verbose=0 plot=0 fluxout=5 /home/hallflower/spectra/spectra/ZTF20abaszgh_20200720_Keck1_v1.ascii\n",
      "ZTF20abatows /mnt/c/users/20xha/Documents/Caltech/Research/SNID/snid-5.0/snid zmax=.2 rlapmin=0 verbose=0 plot=0 fluxout=5 /home/hallflower/spectra/spectra/ZTF20abatows_20200623_Keck1_v2.ascii\n",
      "300\n",
      "ZTF20abcbxpj /mnt/c/users/20xha/Documents/Caltech/Research/SNID/snid-5.0/snid zmax=.2 rlapmin=0 verbose=0 plot=0 fluxout=5 /home/hallflower/spectra/spectra/ZTF20abcbxpj_20200720_Keck1_v1.ascii\n",
      "ZTF20abdxoeu /mnt/c/users/20xha/Documents/Caltech/Research/SNID/snid-5.0/snid zmax=.2 rlapmin=0 verbose=0 plot=0 fluxout=5 /home/hallflower/spectra/spectra/ZTF20abdxoeu_20200623_Keck1_v1.ascii\n",
      "ZTF20abefbpl /mnt/c/users/20xha/Documents/Caltech/Research/SNID/snid-5.0/snid zmax=.2 rlapmin=0 verbose=0 plot=0 fluxout=5 /home/hallflower/spectra/spectra/ZTF20abefbpl_20200623_Keck1_v1.ascii\n",
      "ZTF20abeimho /mnt/c/users/20xha/Documents/Caltech/Research/SNID/snid-5.0/snid zmax=.2 rlapmin=0 verbose=0 plot=0 fluxout=5 /home/hallflower/spectra/spectra/ZTF20abeimho_20200720_Keck1_v1.ascii\n",
      "ZTF20abeohfn /mnt/c/users/20xha/Documents/Caltech/Research/SNID/snid-5.0/snid zmax=.2 rlapmin=0 verbose=0 plot=0 fluxout=5 /home/hallflower/spectra/spectra/ZTF20abeohfn_20200613_P60_v1.ascii\n",
      "400\n",
      "ZTF20abevcoo /mnt/c/users/20xha/Documents/Caltech/Research/SNID/snid-5.0/snid zmax=.2 rlapmin=0 verbose=0 plot=0 fluxout=5 /home/hallflower/spectra/spectra/ZTF20abevcoo_20200720_Keck1_v1.ascii\n",
      "500\n",
      "600\n"
     ]
    }
   ],
   "source": [
    "error_array = []\n",
    "counter = 0\n",
    "dont_work = 0\n",
    "dont_work_array = []\n",
    "for i in np.unique(sample[\"col1\"])[(1100+2700):]:\n",
    "    gc.collect()\n",
    "    try:\n",
    "        fnamelist = \"\"\n",
    "        samples = (sample[np.where(i == sample[\"col1\"])][\"col8\"])\n",
    "        for j in samples[-1:]:\n",
    "            fnamelist += sample_location + str(j) + \",\"\n",
    "        fnamelist = fnamelist[0:-1]\n",
    "\n",
    "        outputname = \"\"\n",
    "        for j in samples[-1:]:\n",
    "            flist_versionname = j.split(\"/\")[-1].split(\".\")[0]\n",
    "            outputname += str(flist_versionname) + \"_COMB_\"\n",
    "        outputname = outputname[0:-6]\n",
    "\n",
    "        sample_location_temp = sample_location + str(i)\n",
    "\n",
    "        output, error, bashCommand = SNID_Analysis.run_files(sample_location_temp, fnamelist, source, i)\n",
    "\n",
    "        if(not(\"No template meets\" in str(output)) and not(\"Correlation function is all zero!\" in str(output))):\n",
    "            SNID_Analysis.plot_best_15(sample_location_temp, outputname, source, image_output)\n",
    "            gc.collect()\n",
    "            SNID_Analysis.parse_output(sample_location_temp, source, outputname, i)\n",
    "            dont_work += 1\n",
    "            dont_work_array.append(i)\n",
    "        else:\n",
    "            print(i, bashCommand)\n",
    "    except:\n",
    "        print(i, output, bashCommand)\n",
    "\n",
    "    if(counter % 100 == 0):\n",
    "        print(counter)\n",
    "    counter+=1"
   ]
  },
  {
   "cell_type": "code",
   "execution_count": 6,
   "metadata": {},
   "outputs": [],
   "source": [
    "directory = \"/mnt/c/users/20xha/Documents/Caltech/Research/NewZTF/SNIDoutput/\""
   ]
  },
  {
   "cell_type": "code",
   "execution_count": 7,
   "metadata": {},
   "outputs": [
    {
     "name": "stdout",
     "output_type": "stream",
     "text": [
      "100 4411\n",
      "200 4411\n",
      "300 4411\n",
      "400 4411\n",
      "500 4411\n",
      "600 4411\n",
      "700 4411\n",
      "800 4411\n",
      "ZTF18abxdkni failed\n",
      "900 4411\n",
      "1000 4411\n",
      "1100 4411\n",
      "ZTF18acrngnl failed\n",
      "ZTF18acsxvrp failed\n",
      "1200 4411\n",
      "1300 4411\n",
      "1400 4411\n",
      "1500 4411\n",
      "1600 4411\n",
      "1700 4411\n",
      "1800 4411\n",
      "ZTF19aarqnjw failed\n",
      "ZTF19aarupqs failed\n",
      "1900 4411\n",
      "2000 4411\n",
      "2100 4411\n",
      "2200 4411\n",
      "2300 4411\n",
      "2400 4411\n",
      "2500 4411\n",
      "2600 4411\n",
      "2700 4411\n",
      "2800 4411\n",
      "2900 4411\n",
      "3000 4411\n",
      "3100 4411\n",
      "3200 4411\n",
      "3300 4411\n",
      "3400 4411\n",
      "3500 4411\n",
      "3600 4411\n",
      "3700 4411\n",
      "3800 4411\n",
      "3900 4411\n",
      "4000 4411\n",
      "4100 4411\n",
      "4200 4411\n",
      "4300 4411\n",
      "4400 4411\n"
     ]
    }
   ],
   "source": [
    "Table_List = []\n",
    "count = 0\n",
    "for i in np.unique(sample[\"col1\"]):\n",
    "    try:\n",
    "        row = []\n",
    "        row.append(i)\n",
    "        files = glob.glob(directory + i + \"/*.readableoutput\")\n",
    "        if(len(files) != 0):\n",
    "            row.append(files[0].split(\"/\")[-1])\n",
    "            templates_list = Table.read(files[0], format = \"ascii\")\n",
    "            Table_List.append([i, templates_list])\n",
    "        count += 1\n",
    "        if count % 100 == 0:\n",
    "            print(count, 4411)\n",
    "    except:\n",
    "        print(i,\"failed\")\n",
    "Table_List_Numpy = np.asarray(Table_List)"
   ]
  },
  {
   "cell_type": "code",
   "execution_count": 8,
   "metadata": {},
   "outputs": [
    {
     "data": {
      "text/plain": [
       "4206"
      ]
     },
     "execution_count": 8,
     "metadata": {},
     "output_type": "execute_result"
    }
   ],
   "source": [
    "len(Table_List_Numpy)"
   ]
  },
  {
   "cell_type": "code",
   "execution_count": 9,
   "metadata": {},
   "outputs": [],
   "source": [
    "np.save(\"/mnt/c/users/20xha/Documents/Caltech/Research/NewZTF/SNIDoutput\", Table_List_Numpy)"
   ]
  },
  {
   "cell_type": "code",
   "execution_count": null,
   "metadata": {},
   "outputs": [],
   "source": []
  }
 ],
 "metadata": {
  "kernelspec": {
   "display_name": "Python 3",
   "language": "python",
   "name": "python3"
  },
  "language_info": {
   "codemirror_mode": {
    "name": "ipython",
    "version": 3
   },
   "file_extension": ".py",
   "mimetype": "text/x-python",
   "name": "python",
   "nbconvert_exporter": "python",
   "pygments_lexer": "ipython3",
   "version": "3.7.6"
  }
 },
 "nbformat": 4,
 "nbformat_minor": 4
}
