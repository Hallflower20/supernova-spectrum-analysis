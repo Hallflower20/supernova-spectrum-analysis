{
 "cells": [
  {
   "cell_type": "code",
   "execution_count": 1,
   "metadata": {},
   "outputs": [],
   "source": [
    "import numpy as np\n",
    "import pandas as pd \n",
    "from astropy.io import fits\n",
    "import matplotlib.pyplot as plt\n",
    "from astropy.table import Table\n",
    "import glob\n",
    "\n",
    "%matplotlib inline"
   ]
  },
  {
   "cell_type": "code",
   "execution_count": 15,
   "metadata": {},
   "outputs": [],
   "source": [
    "templates = glob.glob(\"/home/xhall/Documents/SNID/templates-2.0/*.lnw\")"
   ]
  },
  {
   "cell_type": "code",
   "execution_count": 16,
   "metadata": {},
   "outputs": [],
   "source": [
    "TemplatesClass = Table(\n",
    "                    names=(\"Template\", \"Class\"\n",
    "                    ),\n",
    "                    meta={\"name\": \"Template Types\"},\n",
    "                    dtype=(\"U64\", \"U64\"\n",
    "                          )\n",
    "                    )"
   ]
  },
  {
   "cell_type": "code",
   "execution_count": 17,
   "metadata": {},
   "outputs": [],
   "source": [
    "f = open(templates[0])\n",
    "lines = f.readlines()\n",
    "sntype = lines[0].split()[-3]"
   ]
  },
  {
   "cell_type": "code",
   "execution_count": 18,
   "metadata": {},
   "outputs": [
    {
     "data": {
      "text/plain": [
       "'sn02cx'"
      ]
     },
     "execution_count": 18,
     "metadata": {},
     "output_type": "execute_result"
    }
   ],
   "source": [
    "templates[0].split(\"/\")[-1].split(\".\")[0]"
   ]
  },
  {
   "cell_type": "code",
   "execution_count": 19,
   "metadata": {},
   "outputs": [],
   "source": [
    "for i in templates:\n",
    "    f = open(i)\n",
    "    lines = f.readlines()\n",
    "    row = [i.split(\"/\")[-1].split(\".\")[0],lines[0].split()[-3]]\n",
    "    TemplatesClass.add_row(row)"
   ]
  },
  {
   "cell_type": "code",
   "execution_count": 20,
   "metadata": {},
   "outputs": [],
   "source": [
    "TemplatesClass.to_pandas().to_csv(\"/home/xhall/Documents/NewZTF/Template_Class.csv\", index = False)"
   ]
  },
  {
   "cell_type": "code",
   "execution_count": 21,
   "metadata": {},
   "outputs": [],
   "source": [
    "Changes = Table.from_pandas(pd.read_csv(\"/home/xhall/Documents/SNID/changes.csv\"))"
   ]
  },
  {
   "cell_type": "code",
   "execution_count": 22,
   "metadata": {},
   "outputs": [
    {
     "data": {
      "text/html": [
       "<i>Table length=18</i>\n",
       "<table id=\"table139731081054032\" class=\"table-striped table-bordered table-condensed\">\n",
       "<thead><tr><th>snname</th><th>old_type</th><th>new_type</th></tr></thead>\n",
       "<thead><tr><th>str14</th><th>str6</th><th>str7</th></tr></thead>\n",
       "<tr><td>sn2005ek</td><td>Ic-pec</td><td>Ic-norm</td></tr>\n",
       "<tr><td>sn2005la</td><td>Ib-pec</td><td>Ibn</td></tr>\n",
       "<tr><td>sn1987A</td><td>II-pec</td><td>II-norm</td></tr>\n",
       "<tr><td>sn2006gz</td><td>Ia-pec</td><td>Ia-SC</td></tr>\n",
       "<tr><td>sn2005hk</td><td>Ia-pec</td><td>Ia-02cx</td></tr>\n",
       "<tr><td>snls03D3bb</td><td>Ia-pec</td><td>Ia-SC</td></tr>\n",
       "<tr><td>sn2008ae</td><td>Ia-pec</td><td>Ia-02cx</td></tr>\n",
       "<tr><td>sn2008D</td><td>Ib-pec</td><td>Ib-norm</td></tr>\n",
       "<tr><td>sn2002cx</td><td>Ia-pec</td><td>Ia-02cx</td></tr>\n",
       "<tr><td>sn2007uy</td><td>Ib-pec</td><td>Ib-norm</td></tr>\n",
       "<tr><td>sn08es_bsnip</td><td>II-pec</td><td>II-norm</td></tr>\n",
       "<tr><td>sn87A</td><td>II-pec</td><td>II-norm</td></tr>\n",
       "<tr><td>sn03fg</td><td>Ia-pec</td><td>Ia-SC</td></tr>\n",
       "<tr><td>sn2005cc</td><td>Ia-pec</td><td>Ia-02cx</td></tr>\n",
       "<tr><td>sn2008A</td><td>Ia-pec</td><td>Ia-02cx</td></tr>\n",
       "<tr><td>sn2006tf_bsnip</td><td>II-pec</td><td>IIn</td></tr>\n",
       "<tr><td>sn06gz</td><td>Ia-pec</td><td>Ia-SC</td></tr>\n",
       "<tr><td>sn06gy_bsnip</td><td>II-pec</td><td>IIn</td></tr>\n",
       "</table>"
      ],
      "text/plain": [
       "<Table length=18>\n",
       "    snname     old_type new_type\n",
       "    str14        str6     str7  \n",
       "-------------- -------- --------\n",
       "      sn2005ek   Ic-pec  Ic-norm\n",
       "      sn2005la   Ib-pec      Ibn\n",
       "       sn1987A   II-pec  II-norm\n",
       "      sn2006gz   Ia-pec    Ia-SC\n",
       "      sn2005hk   Ia-pec  Ia-02cx\n",
       "    snls03D3bb   Ia-pec    Ia-SC\n",
       "      sn2008ae   Ia-pec  Ia-02cx\n",
       "       sn2008D   Ib-pec  Ib-norm\n",
       "      sn2002cx   Ia-pec  Ia-02cx\n",
       "      sn2007uy   Ib-pec  Ib-norm\n",
       "  sn08es_bsnip   II-pec  II-norm\n",
       "         sn87A   II-pec  II-norm\n",
       "        sn03fg   Ia-pec    Ia-SC\n",
       "      sn2005cc   Ia-pec  Ia-02cx\n",
       "       sn2008A   Ia-pec  Ia-02cx\n",
       "sn2006tf_bsnip   II-pec      IIn\n",
       "        sn06gz   Ia-pec    Ia-SC\n",
       "  sn06gy_bsnip   II-pec      IIn"
      ]
     },
     "execution_count": 22,
     "metadata": {},
     "output_type": "execute_result"
    }
   ],
   "source": [
    "Changes"
   ]
  },
  {
   "cell_type": "code",
   "execution_count": 36,
   "metadata": {},
   "outputs": [],
   "source": [
    "PreferredTemplatesClass = Table(\n",
    "                    names=(\"Template\", \"Class\", \"NewClass\"\n",
    "                    ),\n",
    "                    meta={\"name\": \"Template Types\"},\n",
    "                    dtype=(\"U64\", \"U64\", \"U64\"\n",
    "                          )\n",
    "                    )"
   ]
  },
  {
   "cell_type": "code",
   "execution_count": 29,
   "metadata": {},
   "outputs": [
    {
     "name": "stdout",
     "output_type": "stream",
     "text": [
      "AGN\n",
      "C-star\n",
      "Gal\n",
      "II\n",
      "II-pec\n",
      "IIL\n",
      "IIP\n",
      "IIb\n",
      "IIn\n",
      "Ia-02cx\n",
      "Ia-91T\n",
      "Ia-91bg\n",
      "Ia-99aa\n",
      "Ia-csm\n",
      "Ia-norm\n",
      "Ia-pec\n",
      "Ib-norm\n",
      "Ib-pec\n",
      "Ibn\n",
      "Ic-SL\n",
      "Ic-broad\n",
      "Ic-norm\n",
      "Ic-pec\n",
      "LBV\n",
      "M-star\n",
      "QSO\n"
     ]
    }
   ],
   "source": [
    "for i in np.unique(TemplatesClass[\"Class\"]): print(i)"
   ]
  },
  {
   "cell_type": "code",
   "execution_count": 37,
   "metadata": {},
   "outputs": [],
   "source": [
    "for i in templates:\n",
    "    f = open(i)\n",
    "    lines = f.readlines()\n",
    "    row = [i.split(\"/\")[-1].split(\".\")[0]]\n",
    "    sntype = lines[0].split()[-3]\n",
    "    row.append(sntype)\n",
    "    if(sntype == \"Ic-broad\"):\n",
    "        sntype = \"Ic-BL\"\n",
    "    elif(sntype == \"IIP\"):\n",
    "        sntype = \"II-norm\"\n",
    "    elif(sntype == \"IIL\"):\n",
    "        sntype = \"II-norm\"\n",
    "    elif(sntype == \"Ic-SL\"):\n",
    "        sntype = \"SLSN-I\"\n",
    "    elif(sntype == \"Ia-99a\"):\n",
    "        sntype = \"Ia-norm\"\n",
    "    row.append(sntype)\n",
    "    PreferredTemplatesClass.add_row(row)"
   ]
  },
  {
   "cell_type": "code",
   "execution_count": 32,
   "metadata": {},
   "outputs": [
    {
     "name": "stdout",
     "output_type": "stream",
     "text": [
      "AGN\n",
      "C-star\n",
      "Gal\n",
      "II\n",
      "II-norm\n",
      "II-pec\n",
      "IIb\n",
      "IIn\n",
      "Ia-02cx\n",
      "Ia-91T\n",
      "Ia-91bg\n",
      "Ia-99aa\n",
      "Ia-csm\n",
      "Ia-norm\n",
      "Ia-pec\n",
      "Ib-norm\n",
      "Ib-pec\n",
      "Ibn\n",
      "Ic-BL\n",
      "Ic-norm\n",
      "Ic-pec\n",
      "LBV\n",
      "M-star\n",
      "QSO\n",
      "SLSN-I\n"
     ]
    }
   ],
   "source": [
    "for i in np.unique(PreferredTemplatesClass[\"Class\"]): print(i)"
   ]
  },
  {
   "cell_type": "code",
   "execution_count": 38,
   "metadata": {},
   "outputs": [
    {
     "data": {
      "text/html": [
       "<i>Table length=857</i>\n",
       "<table id=\"table139731795585232\" class=\"table-striped table-bordered table-condensed\">\n",
       "<thead><tr><th>Template</th><th>Class</th><th>NewClass</th></tr></thead>\n",
       "<thead><tr><th>str64</th><th>str64</th><th>str64</th></tr></thead>\n",
       "<tr><td>sn02cx</td><td>Ia-02cx</td><td>Ia-02cx</td></tr>\n",
       "<tr><td>carbonstar2</td><td>C-star</td><td>C-star</td></tr>\n",
       "<tr><td>sn03ab_bsnip</td><td>IIP</td><td>II-norm</td></tr>\n",
       "<tr><td>sn95al</td><td>Ia-norm</td><td>Ia-norm</td></tr>\n",
       "<tr><td>sn2008ar</td><td>Ia-norm</td><td>Ia-norm</td></tr>\n",
       "<tr><td>sn00H</td><td>IIb</td><td>IIb</td></tr>\n",
       "<tr><td>sn2008R</td><td>Ia-91bg</td><td>Ia-91bg</td></tr>\n",
       "<tr><td>sn07it</td><td>II</td><td>II</td></tr>\n",
       "<tr><td>sn06or_bsnip</td><td>Ia-norm</td><td>Ia-norm</td></tr>\n",
       "<tr><td>sn90I</td><td>Ib-norm</td><td>Ib-norm</td></tr>\n",
       "<tr><td>...</td><td>...</td><td>...</td></tr>\n",
       "<tr><td>sn06gy_bsnip</td><td>II-pec</td><td>II-pec</td></tr>\n",
       "<tr><td>sn2006N</td><td>Ia-norm</td><td>Ia-norm</td></tr>\n",
       "<tr><td>sn1997dc</td><td>Ib-norm</td><td>Ib-norm</td></tr>\n",
       "<tr><td>sn2004ao</td><td>Ib-norm</td><td>Ib-norm</td></tr>\n",
       "<tr><td>sn2007bg</td><td>Ic-broad</td><td>Ic-BL</td></tr>\n",
       "<tr><td>sn99ex</td><td>Ib-norm</td><td>Ib-norm</td></tr>\n",
       "<tr><td>sn97ab_bsnip</td><td>IIn</td><td>IIn</td></tr>\n",
       "<tr><td>sn2006ep</td><td>Ib-norm</td><td>Ib-norm</td></tr>\n",
       "<tr><td>sn99aa_bsnip</td><td>Ia-99aa</td><td>Ia-99aa</td></tr>\n",
       "<tr><td>sn2007hj</td><td>Ia-norm</td><td>Ia-norm</td></tr>\n",
       "</table>"
      ],
      "text/plain": [
       "<Table length=857>\n",
       "  Template    Class   NewClass\n",
       "   str64      str64    str64  \n",
       "------------ -------- --------\n",
       "      sn02cx  Ia-02cx  Ia-02cx\n",
       " carbonstar2   C-star   C-star\n",
       "sn03ab_bsnip      IIP  II-norm\n",
       "      sn95al  Ia-norm  Ia-norm\n",
       "    sn2008ar  Ia-norm  Ia-norm\n",
       "       sn00H      IIb      IIb\n",
       "     sn2008R  Ia-91bg  Ia-91bg\n",
       "      sn07it       II       II\n",
       "sn06or_bsnip  Ia-norm  Ia-norm\n",
       "       sn90I  Ib-norm  Ib-norm\n",
       "         ...      ...      ...\n",
       "sn06gy_bsnip   II-pec   II-pec\n",
       "     sn2006N  Ia-norm  Ia-norm\n",
       "    sn1997dc  Ib-norm  Ib-norm\n",
       "    sn2004ao  Ib-norm  Ib-norm\n",
       "    sn2007bg Ic-broad    Ic-BL\n",
       "      sn99ex  Ib-norm  Ib-norm\n",
       "sn97ab_bsnip      IIn      IIn\n",
       "    sn2006ep  Ib-norm  Ib-norm\n",
       "sn99aa_bsnip  Ia-99aa  Ia-99aa\n",
       "    sn2007hj  Ia-norm  Ia-norm"
      ]
     },
     "execution_count": 38,
     "metadata": {},
     "output_type": "execute_result"
    }
   ],
   "source": [
    "for i in PreferredTemplatesClass:\n",
    "    f = open(i + \".lnw\")"
   ]
  },
  {
   "cell_type": "code",
   "execution_count": null,
   "metadata": {},
   "outputs": [],
   "source": []
  }
 ],
 "metadata": {
  "kernelspec": {
   "display_name": "Python 3",
   "language": "python",
   "name": "python3"
  },
  "language_info": {
   "codemirror_mode": {
    "name": "ipython",
    "version": 3
   },
   "file_extension": ".py",
   "mimetype": "text/x-python",
   "name": "python",
   "nbconvert_exporter": "python",
   "pygments_lexer": "ipython3",
   "version": "3.7.6"
  }
 },
 "nbformat": 4,
 "nbformat_minor": 4
}
