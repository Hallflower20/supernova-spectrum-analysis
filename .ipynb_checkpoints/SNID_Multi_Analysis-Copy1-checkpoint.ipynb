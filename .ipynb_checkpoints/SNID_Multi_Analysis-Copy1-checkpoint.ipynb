{
 "cells": [
  {
   "cell_type": "code",
   "execution_count": 1,
   "metadata": {},
   "outputs": [],
   "source": [
    "import subprocess\n",
    "import shlex\n",
    "import pandas as pd\n",
    "import numpy as np\n",
    "from astropy.table import Table\n",
    "from astropy.table import Column\n",
    "import os\n",
    "import glob2\n",
    "import matplotlib.pyplot as plt\n",
    "from matplotlib.backends.backend_pdf import PdfPages\n",
    "import SNID_Analysis\n",
    "import numpy as np\n",
    "import gc\n",
    "import glob"
   ]
  },
  {
   "cell_type": "code",
   "execution_count": 2,
   "metadata": {},
   "outputs": [],
   "source": [
    "sample = Table.read(\"/mnt/c/users/20xha/Documents/Caltech/Research/NewZTF/ML_sample.ascii\", format = \"ascii\")"
   ]
  },
  {
   "cell_type": "code",
   "execution_count": 3,
   "metadata": {},
   "outputs": [],
   "source": [
    "sample_location = \"/home/hallflower/spectra/spectra/\"\n",
    "source = \"/mnt/c/users/20xha/Documents/Caltech/Research/NewZTF/SNIDoutput/\"\n",
    "image_output = \"/mnt/c/users/20xha/Documents/Caltech/Research/NewZTF/Images/\"\n",
    "param = \"/mnt/c/users/20xha/Documents/GitHub/supernova-spectrum-analysis/snid.param\"\n",
    "snid = \"/mnt/c/users/20xha/Documents/Caltech/Research/SNID/snid-5.0/snid\""
   ]
  },
  {
   "cell_type": "code",
   "execution_count": 4,
   "metadata": {},
   "outputs": [
    {
     "data": {
      "text/plain": [
       "4411"
      ]
     },
     "execution_count": 4,
     "metadata": {},
     "output_type": "execute_result"
    }
   ],
   "source": [
    "np.size(np.unique(sample[\"col1\"]))"
   ]
  },
  {
   "cell_type": "code",
   "execution_count": null,
   "metadata": {},
   "outputs": [
    {
     "name": "stdout",
     "output_type": "stream",
     "text": [
      "0\n",
      "ZTF18aaaibml /mnt/c/users/20xha/Documents/Caltech/Research/SNID/snid-5.0/snid zmax=.2 rlapmin=0 verbose=0 plot=0 fluxout=5 /home/hallflower/spectra/spectra/ZTF18aaaibml_20200219_Keck1_v1.ascii\n",
      "ZTF18aadbtae /mnt/c/users/20xha/Documents/Caltech/Research/SNID/snid-5.0/snid zmax=.2 rlapmin=0 verbose=0 plot=0 fluxout=5 /home/hallflower/spectra/spectra/ZTF18aadbtae_20190701_P200_v2.ascii\n",
      "ZTF18aahhzqn /mnt/c/users/20xha/Documents/Caltech/Research/SNID/snid-5.0/snid zmax=.2 rlapmin=0 verbose=0 plot=0 fluxout=5 /home/hallflower/spectra/spectra/ZTF18aahhzqn_20190403_Keck1_v1.ascii\n",
      "ZTF18aahpzhc /mnt/c/users/20xha/Documents/Caltech/Research/SNID/snid-5.0/snid zmax=.2 rlapmin=0 verbose=0 plot=0 fluxout=5 /home/hallflower/spectra/spectra/ZTF18aahpzhc_20180425_P60_v2.ascii\n",
      "ZTF18aaisyyp /mnt/c/users/20xha/Documents/Caltech/Research/SNID/snid-5.0/snid zmax=.2 rlapmin=0 verbose=0 plot=0 fluxout=5 /home/hallflower/spectra/spectra/ZTF18aaisyyp_20190403_Keck1_v1.ascii\n",
      "100\n",
      "ZTF18aaoufjt /mnt/c/users/20xha/Documents/Caltech/Research/SNID/snid-5.0/snid zmax=.2 rlapmin=0 verbose=0 plot=0 fluxout=5 /home/hallflower/spectra/spectra/ZTF18aaoufjt_20190704_Keck1_v1.ascii\n",
      "ZTF18aapgrxo /mnt/c/users/20xha/Documents/Caltech/Research/SNID/snid-5.0/snid zmax=.2 rlapmin=0 verbose=0 plot=0 fluxout=5 /home/hallflower/spectra/spectra/ZTF18aapgrxo_20190702_Keck1_v1.ascii\n",
      "200\n",
      "300\n",
      "ZTF18abdbysy /mnt/c/users/20xha/Documents/Caltech/Research/SNID/snid-5.0/snid zmax=.2 rlapmin=0 verbose=0 plot=0 fluxout=5 /home/hallflower/spectra/spectra/ZTF18abdbysy_20180902_Keck2_v2.ascii\n",
      "400\n",
      "ZTF18abffyqp /mnt/c/users/20xha/Documents/Caltech/Research/SNID/snid-5.0/snid zmax=.2 rlapmin=0 verbose=0 plot=0 fluxout=5 /home/hallflower/spectra/spectra/ZTF18abffyqp_20190706_Keck1_v2.ascii\n",
      "500\n",
      "ZTF18abkhqhk /mnt/c/users/20xha/Documents/Caltech/Research/SNID/snid-5.0/snid zmax=.2 rlapmin=0 verbose=0 plot=0 fluxout=5 /home/hallflower/spectra/spectra/ZTF18abkhqhk_20180803_P60_v1.ascii\n",
      "ZTF18abkmbpy /mnt/c/users/20xha/Documents/Caltech/Research/SNID/snid-5.0/snid zmax=.2 rlapmin=0 verbose=0 plot=0 fluxout=5 /home/hallflower/spectra/spectra/ZTF18abkmbpy_20180902_Keck2_v1.ascii\n",
      "ZTF18ablwafp /mnt/c/users/20xha/Documents/Caltech/Research/SNID/snid-5.0/snid zmax=.2 rlapmin=0 verbose=0 plot=0 fluxout=5 /home/hallflower/spectra/spectra/ZTF18ablwafp_20190702_Keck1_v1.ascii\n",
      "600\n",
      "ZTF18abojpnr /mnt/c/users/20xha/Documents/Caltech/Research/SNID/snid-5.0/snid zmax=.2 rlapmin=0 verbose=0 plot=0 fluxout=5 /home/hallflower/spectra/spectra/ZTF18abojpnr_20190603_Keck1_v1.ascii\n",
      "ZTF18abscyjj /mnt/c/users/20xha/Documents/Caltech/Research/SNID/snid-5.0/snid zmax=.2 rlapmin=0 verbose=0 plot=0 fluxout=5 /home/hallflower/spectra/spectra/ZTF18abscyjj_20190406_Keck1_v1.ascii\n",
      "ZTF18abshezu /mnt/c/users/20xha/Documents/Caltech/Research/SNID/snid-5.0/snid zmax=.2 rlapmin=0 verbose=0 plot=0 fluxout=5 /home/hallflower/spectra/spectra/ZTF18abshezu_20190702_Keck1_v2.ascii\n",
      "700\n",
      "ZTF18abwkrbl /mnt/c/users/20xha/Documents/Caltech/Research/SNID/snid-5.0/snid zmax=.2 rlapmin=0 verbose=0 plot=0 fluxout=5 /home/hallflower/spectra/spectra/ZTF18abwkrbl_20190706_Keck1_v1.ascii\n",
      "800\n",
      "ZTF18abwoxal /mnt/c/users/20xha/Documents/Caltech/Research/SNID/snid-5.0/snid zmax=.2 rlapmin=0 verbose=0 plot=0 fluxout=5 /home/hallflower/spectra/spectra/ZTF18abwoxal_20180917_P60_v1.ascii\n",
      "ZTF18acbwazl /mnt/c/users/20xha/Documents/Caltech/Research/SNID/snid-5.0/snid zmax=.2 rlapmin=0 verbose=0 plot=0 fluxout=5 /home/hallflower/spectra/spectra/ZTF18acbwazl_20190603_Keck1_v1.ascii\n",
      "900\n",
      "ZTF18acbzqlw /mnt/c/users/20xha/Documents/Caltech/Research/SNID/snid-5.0/snid zmax=.2 rlapmin=0 verbose=0 plot=0 fluxout=5 /home/hallflower/spectra/spectra/ZTF18acbzqlw_20181110_Keck1_v1.ascii\n",
      "ZTF18accnfrz /mnt/c/users/20xha/Documents/Caltech/Research/SNID/snid-5.0/snid zmax=.2 rlapmin=0 verbose=0 plot=0 fluxout=5 /home/hallflower/spectra/spectra/ZTF18accnfrz_20190307_Keck1_v1.ascii\n",
      "ZTF18acdvvgx b' PEAKFIT: fit quits before half peak points!\\n How did this happen? Center =          82\\n left: fit, half =        5120          62 right: fit, half =          93          90\\n left: inflect, zero =          78        5120 right: inflect, zero =          97          93\\n     77     78     79     80     81     82     83     84     85     86     87\\n  0.805  0.854  0.904  0.949  0.983  1.000  0.999  0.977  0.936  0.876  0.797\\n' /mnt/c/users/20xha/Documents/Caltech/Research/SNID/snid-5.0/snid zmax=.2 rlapmin=0 verbose=0 plot=0 fluxout=5 /home/hallflower/spectra/spectra/ZTF18acdvvgx_20181116_APO_v1.ascii\n",
      "1000\n",
      "ZTF18acebssa /mnt/c/users/20xha/Documents/Caltech/Research/SNID/snid-5.0/snid zmax=.2 rlapmin=0 verbose=0 plot=0 fluxout=5 /home/hallflower/spectra/spectra/ZTF18acebssa_20181223_P60_v1.ascii\n",
      "ZTF18acenqto /mnt/c/users/20xha/Documents/Caltech/Research/SNID/snid-5.0/snid zmax=.2 rlapmin=0 verbose=0 plot=0 fluxout=5 /home/hallflower/spectra/spectra/ZTF18acenqto_20190829_Keck1_v1.ascii\n",
      "ZTF18achcpwu /mnt/c/users/20xha/Documents/Caltech/Research/SNID/snid-5.0/snid zmax=.2 rlapmin=0 verbose=0 plot=0 fluxout=5 /home/hallflower/spectra/spectra/ZTF18achcpwu_20190403_Keck1_v1.ascii\n",
      "ZTF18acisruf /mnt/c/users/20xha/Documents/Caltech/Research/SNID/snid-5.0/snid zmax=.2 rlapmin=0 verbose=0 plot=0 fluxout=5 /home/hallflower/spectra/spectra/ZTF18acisruf_20190603_Keck1_v1.ascii\n",
      "ZTF18acpdvos /mnt/c/users/20xha/Documents/Caltech/Research/SNID/snid-5.0/snid zmax=.2 rlapmin=0 verbose=0 plot=0 fluxout=5 /home/hallflower/spectra/spectra/ZTF18acpdvos_20191203_DCT_v1.ascii\n",
      "ZTF18acqsfxh /mnt/c/users/20xha/Documents/Caltech/Research/SNID/snid-5.0/snid zmax=.2 rlapmin=0 verbose=0 plot=0 fluxout=5 /home/hallflower/spectra/spectra/ZTF18acqsfxh_20181201_Keck1_v3.ascii\n",
      "1100\n",
      "ZTF18acqugen /mnt/c/users/20xha/Documents/Caltech/Research/SNID/snid-5.0/snid zmax=.2 rlapmin=0 verbose=0 plot=0 fluxout=5 /home/hallflower/spectra/spectra/ZTF18acqugen_20200720_Keck1_v1.ascii\n"
     ]
    }
   ],
   "source": [
    "error_array = []\n",
    "counter = 0\n",
    "dont_work = 0\n",
    "dont_work_array = []\n",
    "for i in np.unique(sample[\"col1\"])[1100:]:\n",
    "    gc.collect()\n",
    "    try:\n",
    "        fnamelist = \"\"\n",
    "        samples = (sample[np.where(i == sample[\"col1\"])][\"col8\"])\n",
    "        for j in samples[-1:]:\n",
    "            fnamelist += sample_location + str(j) + \",\"\n",
    "        fnamelist = fnamelist[0:-1]\n",
    "\n",
    "        outputname = \"\"\n",
    "        for j in samples[-1:]:\n",
    "            flist_versionname = j.split(\"/\")[-1].split(\".\")[0]\n",
    "            outputname += str(flist_versionname) + \"_COMB_\"\n",
    "        outputname = outputname[0:-6]\n",
    "\n",
    "        sample_location_temp = sample_location + str(i)\n",
    "\n",
    "        output, error, bashCommand = SNID_Analysis.run_files(sample_location_temp, fnamelist, source, i)\n",
    "\n",
    "        if(not(\"No template meets\" in str(output)) and not(\"Correlation function is all zero!\" in str(output))):\n",
    "            SNID_Analysis.plot_best_15(sample_location_temp, outputname, source, image_output)\n",
    "            gc.collect()\n",
    "            SNID_Analysis.parse_output(sample_location_temp, source, outputname, i)\n",
    "            dont_work += 1\n",
    "            dont_work_array.append(i)\n",
    "        else:\n",
    "            print(i, bashCommand)\n",
    "    except:\n",
    "        print(i, output, bashCommand)\n",
    "\n",
    "    if(counter % 100 == 0):\n",
    "        print(counter)\n",
    "    counter+=1"
   ]
  },
  {
   "cell_type": "code",
   "execution_count": 5,
   "metadata": {},
   "outputs": [],
   "source": [
    "directory = \"/mnt/c/users/20xha/Documents/Caltech/Research/NewZTF/SNIDoutput/\""
   ]
  },
  {
   "cell_type": "code",
   "execution_count": 6,
   "metadata": {},
   "outputs": [
    {
     "name": "stdout",
     "output_type": "stream",
     "text": [
      "100 4411\n",
      "200 4411\n",
      "300 4411\n",
      "400 4411\n",
      "500 4411\n",
      "600 4411\n",
      "700 4411\n",
      "800 4411\n",
      "ZTF18abxdkni failed\n",
      "900 4411\n",
      "1000 4411\n",
      "1100 4411\n",
      "ZTF18acrngnl failed\n",
      "ZTF18acrtwlx failed\n",
      "ZTF18acsxvrp failed\n",
      "1200 4411\n",
      "1300 4411\n",
      "1400 4411\n",
      "1500 4411\n",
      "1600 4411\n",
      "1700 4411\n",
      "1800 4411\n",
      "ZTF19aarqnjw failed\n",
      "ZTF19aarupqs failed\n",
      "1900 4411\n",
      "2000 4411\n",
      "2100 4411\n",
      "2200 4411\n",
      "ZTF19abgrcxs failed\n",
      "2300 4411\n",
      "2400 4411\n",
      "ZTF19abqrhvt failed\n",
      "2500 4411\n",
      "2600 4411\n",
      "2700 4411\n",
      "2800 4411\n",
      "ZTF19aceclwm failed\n",
      "2900 4411\n",
      "3000 4411\n",
      "3100 4411\n",
      "3200 4411\n",
      "3300 4411\n",
      "3400 4411\n",
      "3500 4411\n",
      "3600 4411\n",
      "3700 4411\n",
      "3800 4411\n",
      "3900 4411\n",
      "4000 4411\n",
      "4100 4411\n",
      "4200 4411\n",
      "4300 4411\n",
      "4400 4411\n"
     ]
    }
   ],
   "source": [
    "Table_List = []\n",
    "count = 0\n",
    "for i in np.unique(sample[\"col1\"]):\n",
    "    try:\n",
    "        row = []\n",
    "        row.append(i)\n",
    "        files = glob.glob(directory + i + \"/*.readableoutput\")\n",
    "        if(len(files) != 0):\n",
    "            row.append(files[0].split(\"/\")[-1])\n",
    "            templates_list = Table.read(files[0], format = \"ascii\")\n",
    "            Table_List.append([i, templates_list])\n",
    "        count += 1\n",
    "        if count % 100 == 0:\n",
    "            print(count, 4411)\n",
    "    except:\n",
    "        print(i,\"failed\")\n",
    "Table_List_Numpy = np.asarray(Table_List)"
   ]
  },
  {
   "cell_type": "code",
   "execution_count": 7,
   "metadata": {},
   "outputs": [
    {
     "data": {
      "text/plain": [
       "4007"
      ]
     },
     "execution_count": 7,
     "metadata": {},
     "output_type": "execute_result"
    }
   ],
   "source": [
    "len(Table_List_Numpy)"
   ]
  },
  {
   "cell_type": "code",
   "execution_count": 10,
   "metadata": {},
   "outputs": [],
   "source": [
    "np.save(\"/mnt/c/users/20xha/Documents/Caltech/Research/NewZTF/SNIDoutput\", Table_List_Numpy)"
   ]
  },
  {
   "cell_type": "code",
   "execution_count": null,
   "metadata": {},
   "outputs": [],
   "source": []
  }
 ],
 "metadata": {
  "kernelspec": {
   "display_name": "Python 3",
   "language": "python",
   "name": "python3"
  },
  "language_info": {
   "codemirror_mode": {
    "name": "ipython",
    "version": 3
   },
   "file_extension": ".py",
   "mimetype": "text/x-python",
   "name": "python",
   "nbconvert_exporter": "python",
   "pygments_lexer": "ipython3",
   "version": "3.7.6"
  }
 },
 "nbformat": 4,
 "nbformat_minor": 4
}
