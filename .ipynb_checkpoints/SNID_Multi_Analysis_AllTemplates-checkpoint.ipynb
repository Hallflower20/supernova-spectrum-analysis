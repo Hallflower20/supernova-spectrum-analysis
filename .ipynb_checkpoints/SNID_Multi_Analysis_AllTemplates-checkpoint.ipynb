{
 "cells": [
  {
   "cell_type": "code",
   "execution_count": 1,
   "metadata": {},
   "outputs": [],
   "source": [
    "import subprocess\n",
    "import shlex\n",
    "import pandas as pd\n",
    "import numpy as np\n",
    "from astropy.table import Table\n",
    "from astropy.table import Column\n",
    "import os\n",
    "import glob2\n",
    "import matplotlib.pyplot as plt\n",
    "from matplotlib.backends.backend_pdf import PdfPages\n",
    "import SNID_Analysis\n",
    "import numpy as np\n",
    "import gc\n",
    "import glob"
   ]
  },
  {
   "cell_type": "code",
   "execution_count": 2,
   "metadata": {},
   "outputs": [],
   "source": [
    "sample = Table.read(\"/home/xhall/Documents/NewZTF/ML_sample.ascii\", format = \"ascii\")"
   ]
  },
  {
   "cell_type": "code",
   "execution_count": 3,
   "metadata": {},
   "outputs": [],
   "source": [
    "sample_location = \"/home/xhall/Documents/NewZTF/spectra/\"\n",
    "source = \"/home/xhall/Documents/NewZTF/SNIDoutput/\"\n",
    "image_output = \"/home/xhall/Documents/NewZTF/Images/\"\n",
    "snid = \"/home/xhall/Documents/SNID/snid-5.0/snid\""
   ]
  },
  {
   "cell_type": "code",
   "execution_count": 4,
   "metadata": {},
   "outputs": [
    {
     "data": {
      "text/plain": [
       "8843"
      ]
     },
     "execution_count": 4,
     "metadata": {},
     "output_type": "execute_result"
    }
   ],
   "source": [
    "np.size(np.unique(sample[\"col8\"]))"
   ]
  },
  {
   "cell_type": "code",
   "execution_count": null,
   "metadata": {},
   "outputs": [
    {
     "name": "stdout",
     "output_type": "stream",
     "text": [
      "0\n"
     ]
    }
   ],
   "source": [
    "error_array = []\n",
    "counter = 0\n",
    "dont_work = 0\n",
    "dont_work_array = []\n",
    "for i in np.unique(sample[\"col8\"]):\n",
    "    gc.collect()\n",
    "    try:\n",
    "        filenoascii = i.split(\".\")[0]\n",
    "\n",
    "        fnamelist = sample_location + str(i)\n",
    "\n",
    "        outputname = str(filenoascii)\n",
    "\n",
    "        sample_location_temp = sample_location + str(filenoascii)\n",
    "\n",
    "        output, error, bashCommand = SNID_Analysis.run_files(sample_location_temp, fnamelist, source, filenoascii)\n",
    "\n",
    "        if(not(\"No template meets\" in str(output)) and not(\"Correlation function is all zero!\" in str(output))):\n",
    "            SNID_Analysis.plot_best_15(sample_location_temp, outputname, source, image_output)\n",
    "            gc.collect()\n",
    "            SNID_Analysis.parse_output(sample_location_temp, source, outputname, filenoascii)\n",
    "            dont_work += 1\n",
    "            dont_work_array.append(filenoascii)\n",
    "        else:\n",
    "            print(i, bashCommand)\n",
    "    except:\n",
    "        print(i, output, bashCommand)\n",
    "\n",
    "    if(counter % 100 == 0):\n",
    "        print(counter)\n",
    "    counter+=1"
   ]
  },
  {
   "cell_type": "code",
   "execution_count": 12,
   "metadata": {},
   "outputs": [
    {
     "name": "stdout",
     "output_type": "stream",
     "text": [
      "ZTF17aaajnki_20180320_P60_v2.ascii\n",
      "0\n",
      "ZTF17aaaobyl_20180826_P60_v2.ascii\n",
      "ZTF17aaapufz_20190304_P200_v1.ascii\n",
      "ZTF17aaaukqn_20180904_P60_v1.ascii\n"
     ]
    },
    {
     "ename": "FileNotFoundError",
     "evalue": "[Errno 2] No such file or directory: '/home/xhall/Documents/NewZTF/SNIDoutput/ZTF17aaaukqn_20180904_P60_v1/ZTF17aaaukqn_20180904_P60_v1_snid.output'",
     "output_type": "error",
     "traceback": [
      "\u001b[0;31m---------------------------------------------------------------------------\u001b[0m",
      "\u001b[0;31mFileNotFoundError\u001b[0m                         Traceback (most recent call last)",
      "\u001b[0;32m<ipython-input-12-ff4d55b7581e>\u001b[0m in \u001b[0;36m<module>\u001b[0;34m\u001b[0m\n\u001b[1;32m     12\u001b[0m \u001b[0;34m\u001b[0m\u001b[0m\n\u001b[1;32m     13\u001b[0m     \u001b[0msample_location_temp\u001b[0m \u001b[0;34m=\u001b[0m \u001b[0msample_location\u001b[0m \u001b[0;34m+\u001b[0m \u001b[0mstr\u001b[0m\u001b[0;34m(\u001b[0m\u001b[0mfilenoascii\u001b[0m\u001b[0;34m)\u001b[0m\u001b[0;34m\u001b[0m\u001b[0;34m\u001b[0m\u001b[0m\n\u001b[0;32m---> 14\u001b[0;31m     \u001b[0mSNID_Analysis\u001b[0m\u001b[0;34m.\u001b[0m\u001b[0mparse_output\u001b[0m\u001b[0;34m(\u001b[0m\u001b[0msample_location_temp\u001b[0m\u001b[0;34m,\u001b[0m \u001b[0msource\u001b[0m\u001b[0;34m,\u001b[0m \u001b[0moutputname\u001b[0m\u001b[0;34m,\u001b[0m \u001b[0mfilenoascii\u001b[0m\u001b[0;34m)\u001b[0m\u001b[0;34m\u001b[0m\u001b[0;34m\u001b[0m\u001b[0m\n\u001b[0m\u001b[1;32m     15\u001b[0m \u001b[0;34m\u001b[0m\u001b[0m\n\u001b[1;32m     16\u001b[0m     \u001b[0;32mif\u001b[0m\u001b[0;34m(\u001b[0m\u001b[0mcounter\u001b[0m \u001b[0;34m%\u001b[0m \u001b[0;36m100\u001b[0m \u001b[0;34m==\u001b[0m \u001b[0;36m0\u001b[0m\u001b[0;34m)\u001b[0m\u001b[0;34m:\u001b[0m\u001b[0;34m\u001b[0m\u001b[0;34m\u001b[0m\u001b[0m\n",
      "\u001b[0;32m~/Documents/GitHub/supernova-spectrum-analysis/SNID_Analysis.py\u001b[0m in \u001b[0;36mparse_output\u001b[0;34m(specfile, overall_source, flist_versionname, fname, returnoutput)\u001b[0m\n\u001b[1;32m    101\u001b[0m     \u001b[0msource\u001b[0m \u001b[0;34m=\u001b[0m \u001b[0moverall_source\u001b[0m \u001b[0;34m+\u001b[0m \u001b[0mfname\u001b[0m\u001b[0;34m\u001b[0m\u001b[0;34m\u001b[0m\u001b[0m\n\u001b[1;32m    102\u001b[0m \u001b[0;34m\u001b[0m\u001b[0m\n\u001b[0;32m--> 103\u001b[0;31m     \u001b[0mf\u001b[0m \u001b[0;34m=\u001b[0m \u001b[0mopen\u001b[0m\u001b[0;34m(\u001b[0m\u001b[0msource\u001b[0m \u001b[0;34m+\u001b[0m \u001b[0;34m\"/\"\u001b[0m \u001b[0;34m+\u001b[0m \u001b[0mflist_versionname\u001b[0m \u001b[0;34m+\u001b[0m \u001b[0;34m\"_snid.output\"\u001b[0m\u001b[0;34m,\u001b[0m \u001b[0;34m\"r\"\u001b[0m\u001b[0;34m)\u001b[0m\u001b[0;34m\u001b[0m\u001b[0;34m\u001b[0m\u001b[0m\n\u001b[0m\u001b[1;32m    104\u001b[0m \u001b[0;34m\u001b[0m\u001b[0m\n\u001b[1;32m    105\u001b[0m     \u001b[0mlines\u001b[0m \u001b[0;34m=\u001b[0m \u001b[0mf\u001b[0m\u001b[0;34m.\u001b[0m\u001b[0mreadlines\u001b[0m\u001b[0;34m(\u001b[0m\u001b[0;34m)\u001b[0m\u001b[0;34m\u001b[0m\u001b[0;34m\u001b[0m\u001b[0m\n",
      "\u001b[0;31mFileNotFoundError\u001b[0m: [Errno 2] No such file or directory: '/home/xhall/Documents/NewZTF/SNIDoutput/ZTF17aaaukqn_20180904_P60_v1/ZTF17aaaukqn_20180904_P60_v1_snid.output'"
     ]
    }
   ],
   "source": [
    "error_array = []\n",
    "counter = 0\n",
    "dont_work = 0\n",
    "dont_work_array = []\n",
    "for i in np.unique(sample[\"col8\"]):\n",
    "    try:\n",
    "        filenoascii = i.split(\".\")[0]\n",
    "\n",
    "        fnamelist = sample_location + str(i)\n",
    "\n",
    "        outputname = str(filenoascii)\n",
    "\n",
    "        sample_location_temp = sample_location + str(filenoascii)\n",
    "        SNID_Analysis.parse_output(sample_location_temp, source, outputname, filenoascii)\n",
    "    except:\n",
    "        print(i)\n",
    "        dont_work += 1\n",
    "    if(counter % 100 == 0):\n",
    "        print(counter)\n",
    "    counter+=1"
   ]
  },
  {
   "cell_type": "code",
   "execution_count": 11,
   "metadata": {},
   "outputs": [
    {
     "data": {
      "text/html": [
       "&lt;Column name=&apos;col8&apos; dtype=&apos;str43&apos; length=8839&gt;\n",
       "<table>\n",
       "<tr><td>ZTF17aaaobyl_20180826_P60_v2.ascii</td></tr>\n",
       "<tr><td>ZTF17aaapufz_20190304_P200_v1.ascii</td></tr>\n",
       "<tr><td>ZTF17aaaukqn_20180904_P60_v1.ascii</td></tr>\n",
       "<tr><td>ZTF17aaawgkc_20180822_P60_v1.ascii</td></tr>\n",
       "<tr><td>ZTF17aaayjzy_20191214_P60_v1.ascii</td></tr>\n",
       "<tr><td>ZTF17aaazdba_20190224_P60_v1.ascii</td></tr>\n",
       "<tr><td>ZTF17aaazdba_20190303_P60_v1.ascii</td></tr>\n",
       "<tr><td>ZTF17aaazdba_20190304_P200_v1.ascii</td></tr>\n",
       "<tr><td>ZTF17aaazdba_20190304_P60_v1.ascii</td></tr>\n",
       "<tr><td>ZTF17aaazdba_20190309_Gemini_N_v2.ascii</td></tr>\n",
       "<tr><td>ZTF17aaazdba_20190310_DCT_v1.ascii</td></tr>\n",
       "<tr><td>ZTF17aaazdba_20190315_P60_v1.ascii</td></tr>\n",
       "<tr><td>...</td></tr>\n",
       "<tr><td>ZTF20abpgnos_20200730_P60_v1.ascii</td></tr>\n",
       "<tr><td>ZTF20abplamr_20200804_P60_v1.ascii</td></tr>\n",
       "<tr><td>ZTF20abpmqnr_20200731_P60_v1.ascii</td></tr>\n",
       "<tr><td>ZTF20abpmqnr_20200731_P60_v2.ascii</td></tr>\n",
       "<tr><td>ZTF20abpmqnr_20200804_LT_v1.ascii</td></tr>\n",
       "<tr><td>ZTF20abpqhjh_20200731_P60_v1.ascii</td></tr>\n",
       "<tr><td>ZTF20abpqhjh_20200804_P60_v1.ascii</td></tr>\n",
       "<tr><td>ZTF20abpscln_20200802_P60_v1.ascii</td></tr>\n",
       "<tr><td>ZTF20abptxls_20200802_P60_v1.ascii</td></tr>\n",
       "<tr><td>ZTF20abptxls_20200802_P60_v2.ascii</td></tr>\n",
       "<tr><td>ZTF20abptxls_20200804_P60_v1.ascii</td></tr>\n",
       "<tr><td>ZTF20abpvhqv_20200801_P60_v1.ascii</td></tr>\n",
       "</table>"
      ],
      "text/plain": [
       "<Column name='col8' dtype='str43' length=8839>\n",
       "     ZTF17aaaobyl_20180826_P60_v2.ascii\n",
       "    ZTF17aaapufz_20190304_P200_v1.ascii\n",
       "     ZTF17aaaukqn_20180904_P60_v1.ascii\n",
       "     ZTF17aaawgkc_20180822_P60_v1.ascii\n",
       "     ZTF17aaayjzy_20191214_P60_v1.ascii\n",
       "     ZTF17aaazdba_20190224_P60_v1.ascii\n",
       "     ZTF17aaazdba_20190303_P60_v1.ascii\n",
       "    ZTF17aaazdba_20190304_P200_v1.ascii\n",
       "     ZTF17aaazdba_20190304_P60_v1.ascii\n",
       "ZTF17aaazdba_20190309_Gemini_N_v2.ascii\n",
       "     ZTF17aaazdba_20190310_DCT_v1.ascii\n",
       "     ZTF17aaazdba_20190315_P60_v1.ascii\n",
       "                                    ...\n",
       "     ZTF20abpgnos_20200730_P60_v1.ascii\n",
       "     ZTF20abplamr_20200804_P60_v1.ascii\n",
       "     ZTF20abpmqnr_20200731_P60_v1.ascii\n",
       "     ZTF20abpmqnr_20200731_P60_v2.ascii\n",
       "      ZTF20abpmqnr_20200804_LT_v1.ascii\n",
       "     ZTF20abpqhjh_20200731_P60_v1.ascii\n",
       "     ZTF20abpqhjh_20200804_P60_v1.ascii\n",
       "     ZTF20abpscln_20200802_P60_v1.ascii\n",
       "     ZTF20abptxls_20200802_P60_v1.ascii\n",
       "     ZTF20abptxls_20200802_P60_v2.ascii\n",
       "     ZTF20abptxls_20200804_P60_v1.ascii\n",
       "     ZTF20abpvhqv_20200801_P60_v1.ascii"
      ]
     },
     "execution_count": 11,
     "metadata": {},
     "output_type": "execute_result"
    }
   ],
   "source": [
    "np.unique(sample[\"col8\"])[4:]"
   ]
  },
  {
   "cell_type": "code",
   "execution_count": null,
   "metadata": {},
   "outputs": [],
   "source": []
  }
 ],
 "metadata": {
  "kernelspec": {
   "display_name": "Python 3",
   "language": "python",
   "name": "python3"
  },
  "language_info": {
   "codemirror_mode": {
    "name": "ipython",
    "version": 3
   },
   "file_extension": ".py",
   "mimetype": "text/x-python",
   "name": "python",
   "nbconvert_exporter": "python",
   "pygments_lexer": "ipython3",
   "version": "3.7.6"
  }
 },
 "nbformat": 4,
 "nbformat_minor": 4
}
