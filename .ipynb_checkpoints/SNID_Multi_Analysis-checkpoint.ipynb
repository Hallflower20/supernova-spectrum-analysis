{
 "cells": [
  {
   "cell_type": "code",
   "execution_count": 2,
   "metadata": {},
   "outputs": [],
   "source": [
    "import subprocess\n",
    "import shlex\n",
    "import pandas as pd\n",
    "import numpy as np\n",
    "from astropy.table import Table\n",
    "from astropy.table import Column\n",
    "import os\n",
    "import glob2\n",
    "import matplotlib.pyplot as plt\n",
    "from matplotlib.backends.backend_pdf import PdfPages\n",
    "import SNID_Analysis\n",
    "import numpy as np\n",
    "import gc"
   ]
  },
  {
   "cell_type": "code",
   "execution_count": 3,
   "metadata": {},
   "outputs": [],
   "source": [
    "sample = Table.read(\"/mnt/c/users/20xha/Documents/Caltech/Research/NewZTF/ML_sample.ascii\", format = \"ascii\")"
   ]
  },
  {
   "cell_type": "code",
   "execution_count": 4,
   "metadata": {},
   "outputs": [],
   "source": [
    "sample_location = \"/mnt/c/users/20xha/Documents/Caltech/Research/NewZTF/spectra/\"\n",
    "source = \"/mnt/c/users/20xha/Documents/Caltech/Research/NewZTF/SNIDoutput/\"\n",
    "image_output = \"/mnt/c/users/20xha/Documents/Caltech/Research/NewZTF/SNIDoutput/Images/\"\n",
    "param = \"/mnt/c/users/20xha/Documents/GitHub/supernova-spectrum-analysis/snid.param\"\n",
    "snid = \"/mnt/c/users/20xha/Documents/Caltech/Research/SNID/snid-5.0/snid\""
   ]
  },
  {
   "cell_type": "code",
   "execution_count": null,
   "metadata": {},
   "outputs": [
    {
     "name": "stdout",
     "output_type": "stream",
     "text": [
      "AT2018hrg\n",
      "Not Normal Error\n",
      "b''\n",
      "b'Note: The following floating-point exceptions are signalling: IEEE_DENORMAL\\n'\n",
      "AT2018hrg\n",
      "SN2017iuk\n",
      "Not Normal Error\n",
      "b''\n",
      "b'Note: The following floating-point exceptions are signalling: IEEE_DENORMAL\\n'\n",
      "SN2017iuk\n",
      "ZTF17aaajnki\n",
      "Not Normal Error\n",
      "b''\n",
      "b\"At line 1094 of file source/snidmore.f (unit = 1, file = '/mnt/c/users/20xha/Documents/Caltech/Research/NewZTF/spectra/ZTF17aaajnki_20180320_P60_v2.ascii')\\nFortran runtime error: Bad value during integer read\\n\\nError termination. Backtrace:\\n#0  0x7efe295e5d0a\\n#1  0x7efe295e6819\\n#2  0x7efe295e74ef\\n#3  0x7efe29824d00\\n#4  0x7efe29829464\\n#5  0x7efe2982a8db\\n#6  0x56141361b10f\\n#7  0x56141360b867\\n#8  0x561413611a3c\\n#9  0x7efe292470b2\\n#10  0x56141360b77d\\n#11  0xffffffffffffffff\\n\"\n",
      "ZTF17aaajnki\n",
      "ZTF17aaaobyl\n"
     ]
    }
   ],
   "source": [
    "error_array = []\n",
    "counter = 0\n",
    "dont_work = 0\n",
    "for i in np.unique(sample[\"col1\"]):\n",
    "    gc.collect()\n",
    "    try:\n",
    "        fnamelist = \"\"\n",
    "        for j in (sample[np.where(i == sample[\"col1\"])][\"col8\"]):\n",
    "            fnamelist += sample_location + str(j) + \" \"\n",
    "        sample_location_temp = sample_location + str(i)\n",
    "\n",
    "        output, error = SNID_Analysis.run_files(sample_location_temp, fnamelist, source, i)\n",
    "\n",
    "        if(not(\"No template meets\" in str(output))):\n",
    "            SNID_Analysis.plot_best_15(sample_location_temp, i, source, image_output)\n",
    "            gc.collect()\n",
    "            SNID_Analysis.parse_output(sample_location_temp, i, source)\n",
    "            dont_work += 1\n",
    "        else:\n",
    "            print(i)\n",
    "\n",
    "        if(counter % 100 == 0):\n",
    "            print(counter)\n",
    "        counter+=1\n",
    "    except:\n",
    "        print(\"Not Normal Error\")\n",
    "        print(output)\n",
    "        print(error)\n",
    "        print(i)\n",
    "        dont_work += 1"
   ]
  },
  {
   "cell_type": "code",
   "execution_count": null,
   "metadata": {},
   "outputs": [],
   "source": [
    "#output, error = SNID_Analysis.run_files(sample_location_temp, fnamelist, source)"
   ]
  },
  {
   "cell_type": "code",
   "execution_count": null,
   "metadata": {},
   "outputs": [],
   "source": [
    "#fnamelist"
   ]
  },
  {
   "cell_type": "code",
   "execution_count": null,
   "metadata": {},
   "outputs": [],
   "source": [
    "#\"No template meets\" in str(output)"
   ]
  },
  {
   "cell_type": "code",
   "execution_count": null,
   "metadata": {},
   "outputs": [],
   "source": []
  }
 ],
 "metadata": {
  "kernelspec": {
   "display_name": "Python 3",
   "language": "python",
   "name": "python3"
  },
  "language_info": {
   "codemirror_mode": {
    "name": "ipython",
    "version": 3
   },
   "file_extension": ".py",
   "mimetype": "text/x-python",
   "name": "python",
   "nbconvert_exporter": "python",
   "pygments_lexer": "ipython3",
   "version": "3.7.6"
  }
 },
 "nbformat": 4,
 "nbformat_minor": 4
}
