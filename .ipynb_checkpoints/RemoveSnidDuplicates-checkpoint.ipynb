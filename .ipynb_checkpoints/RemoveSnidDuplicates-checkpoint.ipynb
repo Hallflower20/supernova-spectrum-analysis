{
 "cells": [
  {
   "cell_type": "code",
   "execution_count": 182,
   "metadata": {},
   "outputs": [],
   "source": [
    "import pandas as pd\n",
    "import numpy as np\n",
    "import matplotlib.pyplot as plt\n",
    "\n",
    "import glob\n",
    "from pathlib import Path"
   ]
  },
  {
   "cell_type": "code",
   "execution_count": 3,
   "metadata": {},
   "outputs": [],
   "source": [
    "tmpl_files = glob.glob('/Users/adamamiller/Downloads/templates-2.0/*lnw')"
   ]
  },
  {
   "cell_type": "code",
   "execution_count": 12,
   "metadata": {},
   "outputs": [
    {
     "name": "stdout",
     "output_type": "stream",
     "text": [
      "/Users/adamamiller/Downloads/templates-2.0/sn87A.lnw\n",
      "/Users/adamamiller/Downloads/templates-2.0/sn1987A.lnw\n"
     ]
    }
   ],
   "source": [
    "for tf in tmpl_files:\n",
    "    if '87A' in tf:\n",
    "        print(tf)\n",
    "        with open(tf) as f:\n",
    "            ll = f.readlines()"
   ]
  },
  {
   "cell_type": "markdown",
   "metadata": {},
   "source": [
    "### Loop over all files to find matches"
   ]
  },
  {
   "cell_type": "code",
   "execution_count": 32,
   "metadata": {},
   "outputs": [],
   "source": [
    "sn_name = np.empty(len(tmpl_files)).astype(str)\n",
    "for sn_num, tf in enumerate(tmpl_files):\n",
    "    name = tf.split('/')[-1].split('.lnw')[0]\n",
    "    if len(name.split('sn')) > 1:\n",
    "        this_sn = name.split('sn')[1].split('_b')[0]\n",
    "        if this_sn[0:2] == '19' or this_sn[0:2] == '20':\n",
    "            sn_name[sn_num] = this_sn[2:]\n",
    "        else:\n",
    "            sn_name[sn_num] = this_sn\n",
    "    else:\n",
    "        sn_name[sn_num] = name"
   ]
  },
  {
   "cell_type": "code",
   "execution_count": 48,
   "metadata": {},
   "outputs": [],
   "source": [
    "match_list = []\n",
    "for snn in sn_name:\n",
    "    match = np.where(sn_name == snn)\n",
    "    if len(match[0]) > 1 and snn not in match_list:\n",
    "        match_list.append(snn)"
   ]
  },
  {
   "cell_type": "markdown",
   "metadata": {},
   "source": [
    "### Given 2 random files, check for matching dates and remove them"
   ]
  },
  {
   "cell_type": "code",
   "execution_count": 90,
   "metadata": {},
   "outputs": [
    {
     "name": "stdout",
     "output_type": "stream",
     "text": [
      "03du\n"
     ]
    }
   ],
   "source": [
    "match = match_list[-4]\n",
    "print(match)"
   ]
  },
  {
   "cell_type": "code",
   "execution_count": 190,
   "metadata": {},
   "outputs": [
    {
     "name": "stdout",
     "output_type": "stream",
     "text": [
      "warning   01el\n",
      "warning   04aw\n",
      "warning   94Q\n",
      "warning   97ef\n",
      "warning   97dc\n",
      "warning   05gj\n",
      "warning   02ap\n",
      "warning   98dt\n",
      "warning   98S\n",
      "warning   90U\n",
      "warning   90B\n",
      "warning   92H\n",
      "warning   83V\n",
      "warning   05hk\n",
      "warning   99dn\n",
      "warning   91ar\n",
      "warning   91A\n",
      "warning   02bo\n",
      "warning   98T\n",
      "warning   99ex\n",
      "warning   87A\n",
      "warning   93ac\n",
      "warning   97dd\n",
      "warning   84L\n",
      "warning   97cy\n",
      "warning   97cn\n",
      "warning   98aq\n",
      "warning   93J\n",
      "warning   80K\n",
      "warning   97dq\n",
      "warning   88L\n",
      "warning   99em\n",
      "warning   86G\n",
      "warning   99di\n",
      "warning   95F\n",
      "warning   96cb\n",
      "warning   00H\n",
      "warning   98bw\n",
      "warning   92ar\n",
      "warning   79C\n",
      "warning   97ei\n",
      "warning   90N\n",
      "warning   99aa\n",
      "warning   97br\n",
      "warning   99gi\n",
      "warning   83N\n",
      "warning   04dj\n",
      "warning   90K\n",
      "warning   91N\n",
      "warning   90aa\n",
      "warning   90I\n",
      "warning   91M\n",
      "warning   92A\n",
      "warning   03cg\n",
      "warning   04et\n",
      "warning   06gz\n",
      "warning   05cs\n",
      "warning   02ic\n",
      "warning   06bp\n",
      "warning   03du\n"
     ]
    }
   ],
   "source": [
    "for match in match_list:\n",
    "\n",
    "    matches = np.where(sn_name == match)\n",
    "    nspec = np.empty(len(matches[0])).astype(int)\n",
    "    for m_num, m in enumerate(matches[0]):\n",
    "        line1 = pd.read_csv(tmpl_files[m], nrows=1, header=None, delim_whitespace=True)\n",
    "        nspec[m_num] = int(line1[0])\n",
    "\n",
    "    order = np.argsort(nspec)[::-1]\n",
    "\n",
    "    for m_num, m in enumerate(matches[0][order]):\n",
    "        line1 = pd.read_csv(tmpl_files[m], nrows=1, header=None, delim_whitespace=True)\n",
    "        nskip = int(line1[4])\n",
    "        line_ages = pd.read_csv(tmpl_files[m], nrows=1, \n",
    "                                skiprows = nskip + 2,\n",
    "                                header=None, delim_whitespace=True)\n",
    "\n",
    "        if m_num == 0:\n",
    "            ages = line_ages.iloc[0].values[1:]\n",
    "            continue\n",
    "        else:\n",
    "            dup_idx = []\n",
    "            for spec_num, age in enumerate(line_ages.iloc[0].values[1:]):\n",
    "                if age in list(ages):\n",
    "                    dup_idx.append(spec_num)\n",
    "            if len(dup_idx) > 0:\n",
    "                print('warning  ', sn_name[m])\n",
    "                # loop to create new file\n",
    "                nspec_this_sn = int(line1[0])\n",
    "\n",
    "                with open(tmpl_files[m]) as tf:\n",
    "                    ll = tf.readlines()\n",
    "\n",
    "                with open(tmpl_files[m].replace('.lnw','_new.lnw'), 'w') as tfw:\n",
    "                    new_line1 = '{0:>5}'.format(nspec_this_sn - len(dup_idx)) + ll[0][5:]\n",
    "                    print(new_line1[:-1], file=tfw)\n",
    "\n",
    "                    for l in ll[1:nskip+2]:\n",
    "                        new_line = l[0:7]\n",
    "                        for dup_num, di in enumerate(dup_idx):\n",
    "                            if dup_num == 0:\n",
    "                                new_line += l[7:7 + di*16]\n",
    "                            else: \n",
    "                                new_line += l[23 + dup_idx[dup_num-1]*16:7 + di*16]\n",
    "                            if dup_num == len(dup_idx) - 1:\n",
    "                                new_line += l[23 + di*16:]\n",
    "                        print(new_line[:-1], file=tfw)\n",
    "\n",
    "                    for l in ll[nskip+2:]:\n",
    "                        new_line = l[0:8]\n",
    "                        for dup_num, di in enumerate(dup_idx):\n",
    "                            if dup_num == 0:\n",
    "                                new_line += l[8:8 + di*9]\n",
    "                            else: \n",
    "                                new_line += l[17 + dup_idx[dup_num-1]*9:8 + di*9]\n",
    "                            if dup_num == len(dup_idx) - 1:\n",
    "                                new_line += l[17 + di*9:]\n",
    "                        print(new_line[:-1], file=tfw)\n",
    "\n",
    "                Path(tmpl_files[m]).rename(tmpl_files[m].replace('templates-2.0','templates-2.0/old_with_duplicates'))\n",
    "\n",
    "\n",
    "        if m_num + 1 < len(matches[0]):\n",
    "            ages = np.append(ages, line_ages.iloc[0].values[1:])"
   ]
  },
  {
   "cell_type": "code",
   "execution_count": null,
   "metadata": {},
   "outputs": [],
   "source": []
  }
 ],
 "metadata": {
  "kernelspec": {
   "display_name": "Python 3",
   "language": "python",
   "name": "python3"
  },
  "language_info": {
   "codemirror_mode": {
    "name": "ipython",
    "version": 3
   },
   "file_extension": ".py",
   "mimetype": "text/x-python",
   "name": "python",
   "nbconvert_exporter": "python",
   "pygments_lexer": "ipython3",
   "version": "3.7.1"
  }
 },
 "nbformat": 4,
 "nbformat_minor": 4
}
