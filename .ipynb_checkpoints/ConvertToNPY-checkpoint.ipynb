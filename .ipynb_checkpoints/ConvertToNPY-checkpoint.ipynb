{
 "cells": [
  {
   "cell_type": "code",
   "execution_count": 1,
   "metadata": {},
   "outputs": [],
   "source": [
    "import subprocess\n",
    "import shlex\n",
    "import pandas as pd\n",
    "import numpy as np\n",
    "from astropy.table import Table\n",
    "from astropy.table import Column\n",
    "import os\n",
    "import glob2\n",
    "import matplotlib.pyplot as plt\n",
    "from matplotlib.backends.backend_pdf import PdfPages\n",
    "import SNID_Analysis\n",
    "import numpy as np\n",
    "import gc\n",
    "import glob"
   ]
  },
  {
   "cell_type": "code",
   "execution_count": 4,
   "metadata": {},
   "outputs": [],
   "source": [
    "sample = Table.read(\"/home/xhall/Documents/NewZTF/ML_sample.ascii\", format = \"ascii\")"
   ]
  },
  {
   "cell_type": "code",
   "execution_count": 5,
   "metadata": {},
   "outputs": [],
   "source": [
    "directory = \"/home/xhall/Documents/NewZTF/SNIDoutput/\""
   ]
  },
  {
   "cell_type": "code",
   "execution_count": 9,
   "metadata": {},
   "outputs": [
    {
     "data": {
      "text/plain": [
       "'ZTF18aabssth_20180309_P60_v1'"
      ]
     },
     "execution_count": 9,
     "metadata": {},
     "output_type": "execute_result"
    }
   ],
   "source": [
    "sample[\"col8\"][0].split(\".\")[0]"
   ]
  },
  {
   "cell_type": "code",
   "execution_count": null,
   "metadata": {},
   "outputs": [],
   "source": [
    "Table_List = []\n",
    "sample_length = np.size(sample)\n",
    "count = 0\n",
    "for i in np.unique(sample[\"col8\"]):\n",
    "    try:\n",
    "        new_i = i.split(\".\")[0]\n",
    "        row = []\n",
    "        row.append(new_i)\n",
    "        files = glob.glob(directory + new_i + \"/*.readableoutput\")\n",
    "        if(len(files) != 0):\n",
    "            row.append(files[0].split(\"/\")[-1])\n",
    "            templates_list = Table.read(files[0], format = \"ascii\")\n",
    "            Table_List.append([new_i, templates_list])\n",
    "        if count % 100 == 0:\n",
    "            print(count, sample_length)\n",
    "        count += 1\n",
    "    except:\n",
    "        print(new_i,\"failed\")\n",
    "Table_List_Numpy = np.asarray(Table_List)"
   ]
  }
 ],
 "metadata": {
  "kernelspec": {
   "display_name": "Python 3",
   "language": "python",
   "name": "python3"
  },
  "language_info": {
   "codemirror_mode": {
    "name": "ipython",
    "version": 3
   },
   "file_extension": ".py",
   "mimetype": "text/x-python",
   "name": "python",
   "nbconvert_exporter": "python",
   "pygments_lexer": "ipython3",
   "version": "3.7.6"
  }
 },
 "nbformat": 4,
 "nbformat_minor": 4
}
