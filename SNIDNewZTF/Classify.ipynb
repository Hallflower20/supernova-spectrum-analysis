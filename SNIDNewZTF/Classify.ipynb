{
 "cells": [
  {
   "cell_type": "code",
   "execution_count": 21,
   "metadata": {},
   "outputs": [],
   "source": [
    "import os\n",
    "import astropy\n",
    "import numpy as np\n",
    "from astropy.table import Table\n",
    "from astropy.table import Column\n",
    "import glob\n",
    "import matplotlib.pyplot as plt\n",
    "import pandas as pd\n",
    "from collections import Counter\n",
    "from mpl_toolkits.mplot3d import Axes3D"
   ]
  },
  {
   "cell_type": "code",
   "execution_count": 22,
   "metadata": {},
   "outputs": [],
   "source": [
    "sample = Table.read(\"/home/xhall/Documents/NewZTF/ML_sample.ascii\", format = \"ascii\")\n",
    "sample.rename_column('col1', 'ZTF_Name')\n",
    "sample.rename_column('col2', \"Class\")\n",
    "sample.rename_column('col8', \"Version\")"
   ]
  },
  {
   "cell_type": "code",
   "execution_count": 23,
   "metadata": {},
   "outputs": [
    {
     "data": {
      "text/plain": [
       "4411"
      ]
     },
     "execution_count": 23,
     "metadata": {},
     "output_type": "execute_result"
    }
   ],
   "source": [
    "np.size(np.unique(sample[\"ZTF_Name\"]))"
   ]
  },
  {
   "cell_type": "code",
   "execution_count": 24,
   "metadata": {},
   "outputs": [],
   "source": [
    "snidoutput = np.load(\"/home/xhall/Documents/NewZTF/SNIDoutput100.npy\",allow_pickle=True)"
   ]
  },
  {
   "cell_type": "code",
   "execution_count": 25,
   "metadata": {},
   "outputs": [
    {
     "data": {
      "text/plain": [
       "'AT2018hrg_20181103_P60_v1'"
      ]
     },
     "execution_count": 25,
     "metadata": {},
     "output_type": "execute_result"
    }
   ],
   "source": [
    "snidoutput[0][0]"
   ]
  },
  {
   "cell_type": "code",
   "execution_count": 26,
   "metadata": {},
   "outputs": [],
   "source": [
    "ResultsTable_SNID = Table(\n",
    "                    names=(\"Version\", \"c_rlap\", \"c_snid\"\n",
    "                    ),\n",
    "                    meta={\"name\": \"Class Results\"},\n",
    "                    dtype=(\"U64\", \"float64\", \"U64\"\n",
    "                          )\n",
    "                    )\n",
    "for j in snidoutput:\n",
    "    row = []\n",
    "    row.append(j[0] + \".ascii\")\n",
    "    row.append(j[1][0][\"rlap\"])\n",
    "    row.append(j[1][0][\"type\"])\n",
    "    ResultsTable_SNID.add_row(row)"
   ]
  },
  {
   "cell_type": "code",
   "execution_count": 27,
   "metadata": {},
   "outputs": [],
   "source": [
    "ZTable_best = Table(\n",
    "                    names=(\"Version\", \"sntemplate\", \"z_rlap\", \"z_snid\", \"z_snid_err\", \"age\", \"age_flag\", \"z_level\"\n",
    "                    ),\n",
    "                    meta={\"name\": \"Redscore Results\"},\n",
    "                    dtype=(\"U64\", \"U64\", \"float64\", \"float64\", \"float64\",\"float64\", \"float64\", \"int32\"\n",
    "                          )\n",
    "                    )\n",
    "for j in snidoutput:\n",
    "    row = []\n",
    "    row.append(j[0] + \".ascii\")\n",
    "    row.append(j[1][0][\"sn\"])\n",
    "    good = j[1][np.where(j[1][\"grade\"] == \"good\")]\n",
    "    good = good[np.where(good[\"z\"] <= .2)]\n",
    "    if(len(good) != 0):\n",
    "        row.append(good[0][\"rlap\"])\n",
    "        row.append(float(good[0][\"z\"]))\n",
    "        row.append(float(good[0][\"zerr\"]))\n",
    "        row.append(float(good[0][\"age\"]))\n",
    "        row.append(float(good[0][\"age_flag\"]))\n",
    "        row.append(1)\n",
    "    else:\n",
    "        row.append(j[1][0][\"rlap\"])\n",
    "        row.append(float(j[1][0][\"z\"]))\n",
    "        row.append(float(j[1][0][\"zerr\"]))\n",
    "        row.append(float(j[1][0][\"age\"]))\n",
    "        row.append(float(j[1][0][\"age_flag\"]))\n",
    "        row.append(0)\n",
    "    ZTable_best.add_row(row)"
   ]
  },
  {
   "cell_type": "code",
   "execution_count": 28,
   "metadata": {},
   "outputs": [
    {
     "name": "stderr",
     "output_type": "stream",
     "text": [
      "WARNING: MergeConflictWarning: Cannot merge meta key 'name' types <class 'str'> and <class 'str'>, choosing name='Redscore Results' [astropy.utils.metadata]\n"
     ]
    }
   ],
   "source": [
    "RedshiftClass = astropy.table.join(astropy.table.join(ResultsTable_SNID, ZTable_best),sample)"
   ]
  },
  {
   "cell_type": "code",
   "execution_count": 29,
   "metadata": {},
   "outputs": [
    {
     "data": {
      "text/html": [
       "<i>Table length=40</i>\n",
       "<table id=\"table139840898435344\" class=\"table-striped table-bordered table-condensed\">\n",
       "<thead><tr><th>Version</th><th>c_rlap</th><th>c_snid</th><th>sntemplate</th><th>z_rlap</th><th>z_snid</th><th>z_snid_err</th><th>age</th><th>age_flag</th><th>z_level</th><th>ZTF_Name</th><th>Class</th><th>col3</th><th>col4</th><th>col5</th><th>col6</th><th>col7</th><th>col9</th></tr></thead>\n",
       "<thead><tr><th>str64</th><th>float64</th><th>str64</th><th>str64</th><th>float64</th><th>float64</th><th>float64</th><th>float64</th><th>float64</th><th>int32</th><th>str12</th><th>str12</th><th>float64</th><th>float64</th><th>float64</th><th>float64</th><th>float64</th><th>int64</th></tr></thead>\n",
       "<tr><td>ZTF17aaazdba_20190309_Gemini_N_v2.ascii</td><td>4.77</td><td>Ia-norm</td><td>sn2007ci</td><td>4.77</td><td>0.1967</td><td>0.0111</td><td>18.4</td><td>0.0</td><td>1</td><td>ZTF17aaazdba</td><td>TDE</td><td>0.022</td><td>nan</td><td>2458551.5</td><td>2458561.68</td><td>-10.18</td><td>0</td></tr>\n",
       "<tr><td>ZTF17aaazdba_20190310_DCT_v1.ascii</td><td>7.86</td><td>Ia-norm</td><td>sn1999cc</td><td>7.86</td><td>0.0223</td><td>0.0075</td><td>18.2</td><td>0.0</td><td>1</td><td>ZTF17aaazdba</td><td>TDE</td><td>0.022</td><td>nan</td><td>2458552.5</td><td>2458561.68</td><td>-9.18</td><td>0</td></tr>\n",
       "<tr><td>ZTF17aaazdba_20190316_NOT_v1.ascii</td><td>6.03</td><td>Ia-norm</td><td>sn2002do</td><td>6.03</td><td>0.0332</td><td>0.0094</td><td>22.6</td><td>0.0</td><td>1</td><td>ZTF17aaazdba</td><td>TDE</td><td>0.022</td><td>nan</td><td>2458558.5</td><td>2458561.68</td><td>-3.18</td><td>0</td></tr>\n",
       "<tr><td>ZTF17aaazdba_20190424_P60_v1.ascii</td><td>7.32</td><td>Ia-norm</td><td>sn90N</td><td>7.32</td><td>0.9621</td><td>0.0085</td><td>-6.4</td><td>0.0</td><td>0</td><td>ZTF17aaazdba</td><td>TDE</td><td>0.022</td><td>nan</td><td>2458597.5</td><td>2458561.68</td><td>35.82</td><td>0</td></tr>\n",
       "<tr><td>ZTF17aaazdba_20190501_Keck1_v1.ascii</td><td>7.64</td><td>Ia-norm</td><td>sn2001G</td><td>7.33</td><td>0.0341</td><td>0.0113</td><td>32.7</td><td>0.0</td><td>1</td><td>ZTF17aaazdba</td><td>TDE</td><td>0.022</td><td>nan</td><td>2458604.5</td><td>2458561.68</td><td>42.82</td><td>0</td></tr>\n",
       "<tr><td>ZTF17aaazdba_20190505_Lick_3-m_v1.ascii</td><td>9.38</td><td>Ia-norm</td><td>sn95E</td><td>9.38</td><td>0.0358</td><td>0.009</td><td>32.7</td><td>0.0</td><td>1</td><td>ZTF17aaazdba</td><td>TDE</td><td>0.022</td><td>nan</td><td>2458608.5</td><td>2458561.68</td><td>46.82</td><td>0</td></tr>\n",
       "<tr><td>ZTF17aaazdba_20190529_DCT_v1.ascii</td><td>6.84</td><td>Ia-norm</td><td>sn1996ai</td><td>6.84</td><td>0.0287</td><td>0.0094</td><td>25.0</td><td>0.0</td><td>1</td><td>ZTF17aaazdba</td><td>TDE</td><td>0.022</td><td>nan</td><td>2458632.5</td><td>2458561.68</td><td>70.82</td><td>0</td></tr>\n",
       "<tr><td>ZTF18aaaqexr_20200215_P60_v1.ascii</td><td>10.11</td><td>Ia-norm</td><td>sn1991M</td><td>10.11</td><td>0.7297</td><td>0.0057</td><td>111.8</td><td>0.0</td><td>0</td><td>ZTF18aaaqexr</td><td>Ia</td><td>0.0702</td><td>nan</td><td>2458894.5</td><td>2458891.87</td><td>2.63</td><td>0</td></tr>\n",
       "<tr><td>ZTF18aabcvnq_20180604_P60_v1.ascii</td><td>6.96</td><td>Ia-norm</td><td>sn2005cf</td><td>6.96</td><td>0.1741</td><td>0.0084</td><td>-2.4</td><td>0.0</td><td>1</td><td>ZTF18aabcvnq</td><td>star</td><td>nan</td><td>nan</td><td>2458273.5</td><td>2458260.62</td><td>12.88</td><td>0</td></tr>\n",
       "<tr><td>ZTF18aabtxvd_20180404_DCT_v3.ascii</td><td>7.12</td><td>Ia-norm</td><td>sn94ae</td><td>7.12</td><td>0.327</td><td>0.0091</td><td>367.7</td><td>0.0</td><td>0</td><td>ZTF18aabtxvd</td><td>TDE</td><td>0.071</td><td>nan</td><td>2458212.5</td><td>2458223.62</td><td>-11.12</td><td>0</td></tr>\n",
       "<tr><td>...</td><td>...</td><td>...</td><td>...</td><td>...</td><td>...</td><td>...</td><td>...</td><td>...</td><td>...</td><td>...</td><td>...</td><td>...</td><td>...</td><td>...</td><td>...</td><td>...</td><td>...</td></tr>\n",
       "<tr><td>ZTF18aahmhxu_20180428_LT_v1.ascii</td><td>4.36</td><td>Ia-norm</td><td>sn03du</td><td>3.01</td><td>0.1985</td><td>0.0126</td><td>113.7</td><td>0.0</td><td>1</td><td>ZTF18aahmhxu</td><td>SLSN-II</td><td>0.167</td><td>nan</td><td>2458236.5</td><td>2458266.68</td><td>-30.18</td><td>1</td></tr>\n",
       "<tr><td>ZTF18aahpbwz_20180426_P60_v1.ascii</td><td>5.04</td><td>Ia-norm</td><td>sn2004eo</td><td>5.04</td><td>0.046</td><td>0.0097</td><td>224.9</td><td>0.0</td><td>1</td><td>ZTF18aahpbwz</td><td>Ic</td><td>0.069</td><td>nan</td><td>2458234.5</td><td>2458245.6</td><td>-11.1</td><td>1</td></tr>\n",
       "<tr><td>ZTF18aahpbwz_20180509_P60_v1.ascii</td><td>8.17</td><td>Ia-norm</td><td>sn1984A</td><td>8.17</td><td>0.0847</td><td>0.0087</td><td>-5.9</td><td>0.0</td><td>1</td><td>ZTF18aahpbwz</td><td>Ic</td><td>0.069</td><td>nan</td><td>2458247.5</td><td>2458245.6</td><td>1.9</td><td>1</td></tr>\n",
       "<tr><td>ZTF18aahpbwz_20180509_P60_v2.ascii</td><td>9.61</td><td>Ia-norm</td><td>sn2002cd</td><td>6.31</td><td>0.1956</td><td>0.011</td><td>-5.0</td><td>0.0</td><td>1</td><td>ZTF18aahpbwz</td><td>Ic</td><td>0.069</td><td>nan</td><td>2458247.5</td><td>2458245.6</td><td>1.9</td><td>1</td></tr>\n",
       "<tr><td>ZTF18aahpbwz_20180509_P60_v3.ascii</td><td>7.91</td><td>Ia-norm</td><td>sn2002cd</td><td>5.77</td><td>0.1976</td><td>0.0112</td><td>-6.4</td><td>0.0</td><td>1</td><td>ZTF18aahpbwz</td><td>Ic</td><td>0.069</td><td>nan</td><td>2458247.5</td><td>2458245.6</td><td>1.9</td><td>1</td></tr>\n",
       "<tr><td>ZTF18aahptcq_20180415_P60_v1.ascii</td><td>11.12</td><td>Ia-norm</td><td>sn2005A</td><td>11.12</td><td>0.0668</td><td>0.0054</td><td>-1.3</td><td>0.0</td><td>1</td><td>ZTF18aahptcq</td><td>Ia</td><td>0.054</td><td>0.063542</td><td>2458223.5</td><td>2458224.65</td><td>-1.15</td><td>1</td></tr>\n",
       "<tr><td>ZTF18aahqkbt_20180418_P60_v1.ascii</td><td>7.97</td><td>Ia-norm</td><td>sn2001N</td><td>7.97</td><td>0.0651</td><td>0.0076</td><td>30.0</td><td>0.0</td><td>1</td><td>ZTF18aahqkbt</td><td>TDE</td><td>0.051</td><td>nan</td><td>2458226.5</td><td>2458249.61</td><td>-23.11</td><td>0</td></tr>\n",
       "<tr><td>ZTF18aahqkbt_20180513_DCT_v1.ascii</td><td>5.18</td><td>Ia-norm</td><td>sn90N</td><td>5.18</td><td>0.3132</td><td>0.0146</td><td>245.2</td><td>0.0</td><td>0</td><td>ZTF18aahqkbt</td><td>TDE</td><td>0.051</td><td>nan</td><td>2458251.5</td><td>2458249.61</td><td>1.89</td><td>0</td></tr>\n",
       "<tr><td>ZTF18aahqmsr_20180426_P60_v1.ascii</td><td>9.09</td><td>Ia-norm</td><td>sn06cp</td><td>9.09</td><td>0.0712</td><td>0.0073</td><td>-5.3</td><td>0.0</td><td>1</td><td>ZTF18aahqmsr</td><td>Ia</td><td>0.064</td><td>nan</td><td>2458234.5</td><td>2458231.62</td><td>2.88</td><td>1</td></tr>\n",
       "<tr><td>ZTF18aahtjsc_20190401_P60_v1.ascii</td><td>5.92</td><td>Ia-norm</td><td>sn2001N</td><td>5.39</td><td>0.0589</td><td>0.0093</td><td>29.1</td><td>0.0</td><td>1</td><td>ZTF18aahtjsc</td><td>Ia</td><td>0.0529</td><td>nan</td><td>2458574.5</td><td>2458575.69</td><td>-1.19</td><td>0</td></tr>\n",
       "</table>"
      ],
      "text/plain": [
       "<Table length=40>\n",
       "                Version                  c_rlap  c_snid ...   col7   col9\n",
       "                 str64                  float64  str64  ... float64 int64\n",
       "--------------------------------------- ------- ------- ... ------- -----\n",
       "ZTF17aaazdba_20190309_Gemini_N_v2.ascii    4.77 Ia-norm ...  -10.18     0\n",
       "     ZTF17aaazdba_20190310_DCT_v1.ascii    7.86 Ia-norm ...   -9.18     0\n",
       "     ZTF17aaazdba_20190316_NOT_v1.ascii    6.03 Ia-norm ...   -3.18     0\n",
       "     ZTF17aaazdba_20190424_P60_v1.ascii    7.32 Ia-norm ...   35.82     0\n",
       "   ZTF17aaazdba_20190501_Keck1_v1.ascii    7.64 Ia-norm ...   42.82     0\n",
       "ZTF17aaazdba_20190505_Lick_3-m_v1.ascii    9.38 Ia-norm ...   46.82     0\n",
       "     ZTF17aaazdba_20190529_DCT_v1.ascii    6.84 Ia-norm ...   70.82     0\n",
       "     ZTF18aaaqexr_20200215_P60_v1.ascii   10.11 Ia-norm ...    2.63     0\n",
       "     ZTF18aabcvnq_20180604_P60_v1.ascii    6.96 Ia-norm ...   12.88     0\n",
       "     ZTF18aabtxvd_20180404_DCT_v3.ascii    7.12 Ia-norm ...  -11.12     0\n",
       "                                    ...     ...     ... ...     ...   ...\n",
       "      ZTF18aahmhxu_20180428_LT_v1.ascii    4.36 Ia-norm ...  -30.18     1\n",
       "     ZTF18aahpbwz_20180426_P60_v1.ascii    5.04 Ia-norm ...   -11.1     1\n",
       "     ZTF18aahpbwz_20180509_P60_v1.ascii    8.17 Ia-norm ...     1.9     1\n",
       "     ZTF18aahpbwz_20180509_P60_v2.ascii    9.61 Ia-norm ...     1.9     1\n",
       "     ZTF18aahpbwz_20180509_P60_v3.ascii    7.91 Ia-norm ...     1.9     1\n",
       "     ZTF18aahptcq_20180415_P60_v1.ascii   11.12 Ia-norm ...   -1.15     1\n",
       "     ZTF18aahqkbt_20180418_P60_v1.ascii    7.97 Ia-norm ...  -23.11     0\n",
       "     ZTF18aahqkbt_20180513_DCT_v1.ascii    5.18 Ia-norm ...    1.89     0\n",
       "     ZTF18aahqmsr_20180426_P60_v1.ascii    9.09 Ia-norm ...    2.88     1\n",
       "     ZTF18aahtjsc_20190401_P60_v1.ascii    5.92 Ia-norm ...   -1.19     0"
      ]
     },
     "execution_count": 29,
     "metadata": {},
     "output_type": "execute_result"
    }
   ],
   "source": [
    "RedshiftClass[RedshiftClass[\"c_snid\"] == \"Ia-norm\"]"
   ]
  },
  {
   "cell_type": "code",
   "execution_count": 30,
   "metadata": {},
   "outputs": [],
   "source": [
    "RedshiftClass.to_pandas().to_csv(\"/home/xhall/Documents/NewZTF/ML_sample_snid100.csv\", index=False)"
   ]
  },
  {
   "cell_type": "code",
   "execution_count": 11,
   "metadata": {},
   "outputs": [],
   "source": [
    "RedshiftClass = Table.from_pandas(pd.read_csv(\"/home/xhall/Documents/NewZTF/ML_sample_snid.csv\"))"
   ]
  },
  {
   "cell_type": "code",
   "execution_count": 12,
   "metadata": {},
   "outputs": [
    {
     "data": {
      "text/plain": [
       "3860"
      ]
     },
     "execution_count": 12,
     "metadata": {},
     "output_type": "execute_result"
    }
   ],
   "source": [
    "len(np.unique(RedshiftClass[np.where(RedshiftClass[\"z_snid\"] < .2)][\"ZTF_Name\"]))"
   ]
  },
  {
   "cell_type": "code",
   "execution_count": 13,
   "metadata": {},
   "outputs": [
    {
     "data": {
      "text/plain": [
       "4323"
      ]
     },
     "execution_count": 13,
     "metadata": {},
     "output_type": "execute_result"
    }
   ],
   "source": [
    "len(np.unique(RedshiftClass[\"ZTF_Name\"]))"
   ]
  },
  {
   "cell_type": "code",
   "execution_count": null,
   "metadata": {},
   "outputs": [],
   "source": []
  },
  {
   "cell_type": "code",
   "execution_count": null,
   "metadata": {},
   "outputs": [],
   "source": []
  },
  {
   "cell_type": "code",
   "execution_count": null,
   "metadata": {},
   "outputs": [],
   "source": []
  }
 ],
 "metadata": {
  "kernelspec": {
   "display_name": "Python 3",
   "language": "python",
   "name": "python3"
  },
  "language_info": {
   "codemirror_mode": {
    "name": "ipython",
    "version": 3
   },
   "file_extension": ".py",
   "mimetype": "text/x-python",
   "name": "python",
   "nbconvert_exporter": "python",
   "pygments_lexer": "ipython3",
   "version": "3.7.6"
  }
 },
 "nbformat": 4,
 "nbformat_minor": 4
}
