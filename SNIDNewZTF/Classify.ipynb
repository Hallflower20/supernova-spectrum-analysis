{
 "cells": [
  {
   "cell_type": "code",
   "execution_count": 1,
   "metadata": {},
   "outputs": [],
   "source": [
    "import os\n",
    "import astropy\n",
    "import numpy as np\n",
    "from astropy.table import Table\n",
    "from astropy.table import Column\n",
    "import glob\n",
    "import matplotlib.pyplot as plt\n",
    "import pandas as pd\n",
    "from collections import Counter\n",
    "from mpl_toolkits.mplot3d import Axes3D"
   ]
  },
  {
   "cell_type": "code",
   "execution_count": 2,
   "metadata": {},
   "outputs": [],
   "source": [
    "sample = Table.read(\"/home/xhall/Documents/NewZTF/ML_sample.ascii\", format = \"ascii\")\n",
    "sample.rename_column('col1', 'ZTF_Name')\n",
    "sample.rename_column('col2', \"Class\")\n",
    "sample.rename_column('col8', \"Version\")"
   ]
  },
  {
   "cell_type": "code",
   "execution_count": 3,
   "metadata": {},
   "outputs": [],
   "source": [
    "sample_2018 = Table.from_pandas(pd.read_hdf(\"/home/xhall/Documents/NewZTF/final_rcf_table.h5\"))"
   ]
  },
  {
   "cell_type": "code",
   "execution_count": 4,
   "metadata": {},
   "outputs": [],
   "source": [
    "joined_sample = astropy.table.join(sample_2018,sample)"
   ]
  },
  {
   "cell_type": "code",
   "execution_count": 5,
   "metadata": {},
   "outputs": [
    {
     "data": {
      "text/html": [
       "<i>Row index=0</i>\n",
       "<table id=\"table139944550591056\">\n",
       "<thead><tr><th>ZTF_Name</th><th>Class</th><th>col3</th><th>col4</th><th>col5</th><th>col6</th><th>col7</th><th>Version</th><th>col9</th></tr></thead>\n",
       "<thead><tr><th>str12</th><th>str12</th><th>float64</th><th>float64</th><th>float64</th><th>float64</th><th>float64</th><th>str43</th><th>int64</th></tr></thead>\n",
       "<tr><td>ZTF18aabssth</td><td>II</td><td>0.026</td><td>0.022914</td><td>2458186.5</td><td>2458218.66</td><td>-32.16</td><td>ZTF18aabssth_20180309_P60_v1.ascii</td><td>1</td></tr>\n",
       "</table>"
      ],
      "text/plain": [
       "<Row index=0>\n",
       "  ZTF_Name   Class   col3    col4      col5      col6      col7               Version                col9\n",
       "   str12     str12 float64 float64   float64   float64   float64               str43                int64\n",
       "------------ ----- ------- -------- --------- ---------- ------- ---------------------------------- -----\n",
       "ZTF18aabssth    II   0.026 0.022914 2458186.5 2458218.66  -32.16 ZTF18aabssth_20180309_P60_v1.ascii     1"
      ]
     },
     "execution_count": 5,
     "metadata": {},
     "output_type": "execute_result"
    }
   ],
   "source": [
    "sample[0]"
   ]
  },
  {
   "cell_type": "code",
   "execution_count": 6,
   "metadata": {},
   "outputs": [
    {
     "data": {
      "text/plain": [
       "4411"
      ]
     },
     "execution_count": 6,
     "metadata": {},
     "output_type": "execute_result"
    }
   ],
   "source": [
    "np.size(np.unique(sample[\"ZTF_Name\"]))"
   ]
  },
  {
   "cell_type": "code",
   "execution_count": 12,
   "metadata": {},
   "outputs": [],
   "source": [
    "snidoutput = np.load(\"//home/xhall/Documents/NewZTF/sample_2018/SNID_2018_output.npy\",allow_pickle=True)"
   ]
  },
  {
   "cell_type": "code",
   "execution_count": 13,
   "metadata": {},
   "outputs": [
    {
     "data": {
      "text/plain": [
       "'ZTF18aabssth_20180309_P60_v1'"
      ]
     },
     "execution_count": 13,
     "metadata": {},
     "output_type": "execute_result"
    }
   ],
   "source": [
    "snidoutput[0][0]"
   ]
  },
  {
   "cell_type": "markdown",
   "metadata": {},
   "source": [
    "ResultsTable_SNID = Table(\n",
    "                    names=(\"Version\", \"c_rlap\", \"c_snid\"\n",
    "                    ),\n",
    "                    meta={\"name\": \"Class Results\"},\n",
    "                    dtype=(\"U64\", \"float64\", \"U64\"\n",
    "                          )\n",
    "                    )\n",
    "for j in snidoutput:\n",
    "    row = []\n",
    "    row.append(j[0] + \".ascii\")\n",
    "    row.append(j[1][0][\"rlap\"])\n",
    "    row.append(j[1][0][\"type\"])\n",
    "    ResultsTable_SNID.add_row(row)"
   ]
  },
  {
   "cell_type": "code",
   "execution_count": 14,
   "metadata": {},
   "outputs": [],
   "source": [
    "ZTable_best = Table(\n",
    "                    names=(\"Version\", \"ZTF_Name\", \"sntemplate\", \"c_rlap\", \"c_snid\", \"z_rlap\", \"z_snid\", \"z_snid_err\", \"age\", \"age_flag\", \"z_level\"\n",
    "                    ),\n",
    "                    meta={\"name\": \"Redscore Results\"},\n",
    "                    dtype=(\"U64\", \"U64\", \"U64\", \"float64\", \"U64\", \"float64\", \"float64\",\"float64\", \"float64\", \"int32\", \"int32\"\n",
    "                          )\n",
    "                    )\n",
    "for j in snidoutput:\n",
    "    row = []\n",
    "    row.append(j[0] + \".ascii\")\n",
    "    row.append(j[0].split(\"_\")[0])\n",
    "    row.append(j[1][0][\"sn\"])\n",
    "    row.append(j[1][0][\"rlap\"])\n",
    "    row.append(j[1][0][\"type\"])\n",
    "    good = j[1][np.where(j[1][\"grade\"] == \"good\")]\n",
    "    if(\"SLSN\" in str(j[1][0][\"type\"])):\n",
    "        good = good[np.where(good[\"z\"] <= .5)]\n",
    "    else:\n",
    "        good = good[np.where(good[\"z\"] <= .2)]\n",
    "    if(len(good) != 0):\n",
    "        row.append(good[0][\"rlap\"])\n",
    "        row.append(float(good[0][\"z\"]))\n",
    "        row.append(float(good[0][\"zerr\"]))\n",
    "        row.append(float(good[0][\"age\"]))\n",
    "        row.append(float(good[0][\"age_flag\"]))\n",
    "        row.append(1)\n",
    "    else:\n",
    "        row.append(j[1][0][\"rlap\"])\n",
    "        row.append(float(j[1][0][\"z\"]))\n",
    "        row.append(float(j[1][0][\"zerr\"]))\n",
    "        row.append(float(j[1][0][\"age\"]))\n",
    "        row.append(float(j[1][0][\"age_flag\"]))\n",
    "        row.append(0)\n",
    "    ZTable_best.add_row(row)"
   ]
  },
  {
   "cell_type": "code",
   "execution_count": 15,
   "metadata": {},
   "outputs": [],
   "source": [
    "RedshiftClass = astropy.table.join(ZTable_best, joined_sample)"
   ]
  },
  {
   "cell_type": "code",
   "execution_count": 16,
   "metadata": {},
   "outputs": [
    {
     "data": {
      "text/plain": [
       "1543"
      ]
     },
     "execution_count": 16,
     "metadata": {},
     "output_type": "execute_result"
    }
   ],
   "source": [
    "len(RedshiftClass)"
   ]
  },
  {
   "cell_type": "code",
   "execution_count": 20,
   "metadata": {},
   "outputs": [
    {
     "data": {
      "text/html": [
       "<i>Table length=1</i>\n",
       "<table id=\"table139944518599824\" class=\"table-striped table-bordered table-condensed\">\n",
       "<thead><tr><th>Version</th><th>ZTF_Name</th><th>sntemplate</th><th>c_rlap</th><th>c_snid</th><th>z_rlap</th><th>z_snid</th><th>z_snid_err</th><th>age</th><th>age_flag</th><th>z_level</th><th>TNS_Name</th><th>discovered_by</th><th>tns_internal_name</th><th>RA_sn</th><th>Dec_sn</th><th>sn_type</th><th>z_sn</th><th>g_jd_max</th><th>g_max</th><th>g_unc_max</th><th>r_jd_max</th><th>r_max</th><th>r_unc_max</th><th>ebv</th><th>host_name_PS1</th><th>RA_host_PS1</th><th>Dec_host_PS1</th><th>z_host</th><th>sep</th><th>projected_kpc</th><th>gKron_PS1</th><th>rKron_PS1</th><th>iKron_PS1</th><th>zKron_PS1</th><th>yKron_PS1</th><th>w1_host</th><th>w2_host</th><th>ebv_host</th><th>Class</th><th>col3</th><th>col4</th><th>col5</th><th>col6</th><th>col7</th><th>col9</th></tr></thead>\n",
       "<thead><tr><th>str64</th><th>str64</th><th>str64</th><th>float64</th><th>str64</th><th>float64</th><th>float64</th><th>float64</th><th>float64</th><th>int32</th><th>int32</th><th>str9</th><th>str13</th><th>str29</th><th>float64</th><th>float64</th><th>str9</th><th>float64</th><th>float64</th><th>float64</th><th>float64</th><th>float64</th><th>float64</th><th>float64</th><th>float64</th><th>str21</th><th>float64</th><th>float64</th><th>float64</th><th>float64</th><th>float64</th><th>float64</th><th>float64</th><th>float64</th><th>float64</th><th>float64</th><th>float64</th><th>float64</th><th>float64</th><th>str12</th><th>float64</th><th>float64</th><th>float64</th><th>float64</th><th>float64</th><th>int64</th></tr></thead>\n",
       "<tr><td>ZTF18aaxdrjn_20180531_P60_v1.ascii</td><td>ZTF18aaxdrjn</td><td>sn2007uy</td><td>8.82</td><td>Ib-norm</td><td>8.82</td><td>0.0395</td><td>0.0084</td><td>-6.18</td><td>0</td><td>1</td><td>SN2018cdt</td><td>ZTF</td><td>ZTF18aaxdrjn</td><td>185.00686948460054</td><td>56.158869509170785</td><td>Ia</td><td>0.032</td><td>2458279.6963542</td><td>16.928712844848633</td><td>0.01022690162062645</td><td>2458279.6771296</td><td>17.034038543701172</td><td>0.01343842875212431</td><td>0.01841</td><td>PSO J185.0063+56.1629</td><td>185.00629234</td><td>56.16290614</td><td>0.033987</td><td>14.577857706313072</td><td>9.872598716847808</td><td>15.097900390625</td><td>14.307999610900879</td><td>13.927800178527832</td><td>13.898799896240234</td><td>13.651599884033203</td><td>13.73404554575454</td><td>14.381776271826267</td><td>0.01846</td><td>Ia</td><td>0.032</td><td>0.033987</td><td>2458269.5</td><td>2458279.65</td><td>-10.15</td><td>1</td></tr>\n",
       "</table>"
      ],
      "text/plain": [
       "<Table length=1>\n",
       "             Version                 ZTF_Name   sntemplate ...   col7   col9\n",
       "              str64                   str64       str64    ... float64 int64\n",
       "---------------------------------- ------------ ---------- ... ------- -----\n",
       "ZTF18aaxdrjn_20180531_P60_v1.ascii ZTF18aaxdrjn   sn2007uy ...  -10.15     1"
      ]
     },
     "execution_count": 20,
     "metadata": {},
     "output_type": "execute_result"
    }
   ],
   "source": [
    "RedshiftClass[np.where(RedshiftClass[\"Version\"] == \"ZTF18aaxdrjn_20180531_P60_v1.ascii\")]"
   ]
  },
  {
   "cell_type": "code",
   "execution_count": 17,
   "metadata": {},
   "outputs": [
    {
     "data": {
      "text/html": [
       "&lt;Column name=&apos;c_snid&apos; dtype=&apos;str64&apos; length=19&gt;\n",
       "<table>\n",
       "<tr><td>AGN</td></tr>\n",
       "<tr><td>C-star</td></tr>\n",
       "<tr><td>Gal</td></tr>\n",
       "<tr><td>II-norm</td></tr>\n",
       "<tr><td>IIb</td></tr>\n",
       "<tr><td>IIn</td></tr>\n",
       "<tr><td>Ia-02cx</td></tr>\n",
       "<tr><td>Ia-03fg</td></tr>\n",
       "<tr><td>Ia-91T</td></tr>\n",
       "<tr><td>Ia-91bg</td></tr>\n",
       "<tr><td>Ia-csm</td></tr>\n",
       "<tr><td>Ia-norm</td></tr>\n",
       "<tr><td>Ib-norm</td></tr>\n",
       "<tr><td>Ibn</td></tr>\n",
       "<tr><td>Ic-BL</td></tr>\n",
       "<tr><td>Ic-SLSN</td></tr>\n",
       "<tr><td>Ic-norm</td></tr>\n",
       "<tr><td>LBV</td></tr>\n",
       "<tr><td>QSO</td></tr>\n",
       "</table>"
      ],
      "text/plain": [
       "<Column name='c_snid' dtype='str64' length=19>\n",
       "    AGN\n",
       " C-star\n",
       "    Gal\n",
       "II-norm\n",
       "    IIb\n",
       "    IIn\n",
       "Ia-02cx\n",
       "Ia-03fg\n",
       " Ia-91T\n",
       "Ia-91bg\n",
       " Ia-csm\n",
       "Ia-norm\n",
       "Ib-norm\n",
       "    Ibn\n",
       "  Ic-BL\n",
       "Ic-SLSN\n",
       "Ic-norm\n",
       "    LBV\n",
       "    QSO"
      ]
     },
     "execution_count": 17,
     "metadata": {},
     "output_type": "execute_result"
    }
   ],
   "source": [
    "np.unique(RedshiftClass[\"c_snid\"])"
   ]
  },
  {
   "cell_type": "code",
   "execution_count": 19,
   "metadata": {},
   "outputs": [],
   "source": [
    "RedshiftClass.to_pandas().to_csv(\"/home/xhall/Documents/NewZTF/sample_2018/ML_sample_snid_2018.csv\", index=False)"
   ]
  },
  {
   "cell_type": "code",
   "execution_count": null,
   "metadata": {},
   "outputs": [],
   "source": [
    "RedshiftClass = Table.from_pandas(pd.read_csv(\"/home/xhall/Documents/NewZTF/ML_sample_snid.csv\"))"
   ]
  },
  {
   "cell_type": "code",
   "execution_count": null,
   "metadata": {},
   "outputs": [],
   "source": [
    "len(np.unique(RedshiftClass[np.where(RedshiftClass[\"z_snid\"] < .2)][\"ZTF_Name\"]))"
   ]
  },
  {
   "cell_type": "code",
   "execution_count": null,
   "metadata": {},
   "outputs": [],
   "source": [
    "len(np.unique(RedshiftClass[\"ZTF_Name\"]))"
   ]
  },
  {
   "cell_type": "code",
   "execution_count": 59,
   "metadata": {},
   "outputs": [
    {
     "data": {
      "text/html": [
       "<i>Table length=8</i>\n",
       "<table id=\"table140330662035984\" class=\"table-striped table-bordered table-condensed\">\n",
       "<thead><tr><th>Version</th><th>ZTF_Name</th><th>sntemplate</th><th>c_rlap</th><th>c_snid</th><th>z_rlap</th><th>z_snid</th><th>z_snid_err</th><th>age</th><th>age_flag</th><th>z_level</th><th>Class</th><th>col3</th><th>col4</th><th>col5</th><th>col6</th><th>col7</th><th>col9</th></tr></thead>\n",
       "<thead><tr><th>str64</th><th>str64</th><th>str64</th><th>float64</th><th>str64</th><th>float64</th><th>float64</th><th>float64</th><th>float64</th><th>int32</th><th>int32</th><th>str12</th><th>float64</th><th>float64</th><th>float64</th><th>float64</th><th>float64</th><th>int64</th></tr></thead>\n",
       "<tr><td>ZTF18aabilqu_20180522_P200_v1.ascii</td><td>ZTF18aabilqu</td><td>agn</td><td>15.45</td><td>AGN</td><td>15.45</td><td>0.0219</td><td>0.0017</td><td>-99.9</td><td>2</td><td>1</td><td>AGN</td><td>0.0222</td><td>nan</td><td>2458260.5</td><td>2458598.61</td><td>-338.11</td><td>0</td></tr>\n",
       "<tr><td>ZTF18aadkjmo_20181102_P60_v1.ascii</td><td>ZTF18aadkjmo</td><td>agn</td><td>12.57</td><td>AGN</td><td>12.57</td><td>0.0231</td><td>0.0027</td><td>-99.9</td><td>2</td><td>1</td><td>AGN</td><td>0.02499</td><td>nan</td><td>2458424.5</td><td>2458455.72</td><td>-31.22</td><td>0</td></tr>\n",
       "<tr><td>ZTF18aahatvc_20200527_P200_v1.ascii</td><td>ZTF18aahatvc</td><td>sn97br</td><td>8.73</td><td>Ia-91T</td><td>8.73</td><td>0.0785</td><td>0.0064</td><td>12.4</td><td>0</td><td>1</td><td>Ia-91T</td><td>0.0778</td><td>nan</td><td>2458996.5</td><td>2458985.72</td><td>10.78</td><td>0</td></tr>\n",
       "<tr><td>ZTF18aahatvc_20200527_P200_v4.ascii</td><td>ZTF18aahatvc</td><td>sn97br</td><td>8.73</td><td>Ia-91T</td><td>8.73</td><td>0.0785</td><td>0.0064</td><td>12.4</td><td>0</td><td>1</td><td>Ia-91T</td><td>0.0778</td><td>nan</td><td>2458996.5</td><td>2458985.72</td><td>10.78</td><td>0</td></tr>\n",
       "<tr><td>ZTF18aahatvc_20200527_P200_v5.ascii</td><td>ZTF18aahatvc</td><td>sn97br</td><td>8.73</td><td>Ia-91T</td><td>8.73</td><td>0.0785</td><td>0.0064</td><td>12.4</td><td>0</td><td>1</td><td>Ia-91T</td><td>0.0778</td><td>nan</td><td>2458996.5</td><td>2458985.72</td><td>10.78</td><td>0</td></tr>\n",
       "<tr><td>ZTF18aahfgyz_20180410_P200_v1.ascii</td><td>ZTF18aahfgyz</td><td>sn06em</td><td>19.62</td><td>Ia-91bg</td><td>19.62</td><td>0.0113</td><td>0.0028</td><td>4.26</td><td>0</td><td>1</td><td>Ia-91bg</td><td>0.011</td><td>0.012012</td><td>2458218.5</td><td>2458218.75</td><td>-0.25</td><td>1</td></tr>\n",
       "<tr><td>ZTF18aahhenr_20180411_APO_v1.ascii</td><td>ZTF18aahhenr</td><td>sn1999aa</td><td>9.92</td><td>Ia-91T</td><td>9.92</td><td>0.081</td><td>0.0057</td><td>-4.1</td><td>0</td><td>1</td><td>Ia-91T</td><td>0.078</td><td>0.076358</td><td>2458219.5</td><td>2458222.73</td><td>-3.23</td><td>1</td></tr>\n",
       "<tr><td>ZTF18aahhenr_20180412_LT_v1.ascii</td><td>ZTF18aahhenr</td><td>sn2005hj</td><td>6.96</td><td>Ia-91T</td><td>6.96</td><td>0.0784</td><td>0.0059</td><td>-4.3</td><td>0</td><td>1</td><td>Ia-91T</td><td>0.078</td><td>0.076358</td><td>2458220.5</td><td>2458222.73</td><td>-2.23</td><td>1</td></tr>\n",
       "</table>"
      ],
      "text/plain": [
       "<Table length=8>\n",
       "              Version                 ZTF_Name   sntemplate ...   col7   col9\n",
       "               str64                   str64       str64    ... float64 int64\n",
       "----------------------------------- ------------ ---------- ... ------- -----\n",
       "ZTF18aabilqu_20180522_P200_v1.ascii ZTF18aabilqu        agn ... -338.11     0\n",
       " ZTF18aadkjmo_20181102_P60_v1.ascii ZTF18aadkjmo        agn ...  -31.22     0\n",
       "ZTF18aahatvc_20200527_P200_v1.ascii ZTF18aahatvc     sn97br ...   10.78     0\n",
       "ZTF18aahatvc_20200527_P200_v4.ascii ZTF18aahatvc     sn97br ...   10.78     0\n",
       "ZTF18aahatvc_20200527_P200_v5.ascii ZTF18aahatvc     sn97br ...   10.78     0\n",
       "ZTF18aahfgyz_20180410_P200_v1.ascii ZTF18aahfgyz     sn06em ...   -0.25     1\n",
       " ZTF18aahhenr_20180411_APO_v1.ascii ZTF18aahhenr   sn1999aa ...   -3.23     1\n",
       "  ZTF18aahhenr_20180412_LT_v1.ascii ZTF18aahhenr   sn2005hj ...   -2.23     1"
      ]
     },
     "execution_count": 59,
     "metadata": {},
     "output_type": "execute_result"
    }
   ],
   "source": [
    "RedshiftClass[np.where(RedshiftClass[\"c_snid\"] == RedshiftClass[\"Class\"])]"
   ]
  },
  {
   "cell_type": "code",
   "execution_count": 78,
   "metadata": {},
   "outputs": [
    {
     "data": {
      "text/html": [
       "<i>Table length=27</i>\n",
       "<table id=\"table140330662959696\" class=\"table-striped table-bordered table-condensed\">\n",
       "<thead><tr><th>Version</th><th>ZTF_Name</th><th>sntemplate</th><th>c_rlap</th><th>c_snid</th><th>z_rlap</th><th>z_snid</th><th>z_snid_err</th><th>age</th><th>age_flag</th><th>z_level</th><th>Class</th><th>col3</th><th>col4</th><th>col5</th><th>col6</th><th>col7</th><th>col9</th></tr></thead>\n",
       "<thead><tr><th>str64</th><th>str64</th><th>str64</th><th>float64</th><th>str64</th><th>float64</th><th>float64</th><th>float64</th><th>float64</th><th>int32</th><th>int32</th><th>str12</th><th>float64</th><th>float64</th><th>float64</th><th>float64</th><th>float64</th><th>int64</th></tr></thead>\n",
       "<tr><td>ZTF18aahfgyz_20180410_P200_v1.ascii</td><td>ZTF18aahfgyz</td><td>sn06em</td><td>19.62</td><td>Ia-91bg</td><td>19.62</td><td>0.0113</td><td>0.0028</td><td>4.26</td><td>0</td><td>1</td><td>Ia-91bg</td><td>0.011</td><td>0.012012</td><td>2458218.5</td><td>2458218.75</td><td>-0.25</td><td>1</td></tr>\n",
       "<tr><td>ZTF18aajtlbf_20180420_P200_v1.ascii</td><td>ZTF18aajtlbf</td><td>sn02cf</td><td>19.42</td><td>Ia-91bg</td><td>19.42</td><td>0.0301</td><td>0.0026</td><td>-0.65</td><td>0</td><td>1</td><td>Ia-91bg</td><td>0.028</td><td>0.027989</td><td>2458228.5</td><td>2458229.9</td><td>-1.4</td><td>1</td></tr>\n",
       "<tr><td>ZTF18aakaljn_20180421_Ekar_v1.ascii</td><td>ZTF18aakaljn</td><td>sn91T</td><td>14.4</td><td>Ia-91T</td><td>14.4</td><td>0.0665</td><td>0.0039</td><td>-0.2</td><td>0</td><td>1</td><td>Ia-91T</td><td>0.066</td><td>0.070028</td><td>2458229.5</td><td>2458227.61</td><td>1.89</td><td>1</td></tr>\n",
       "<tr><td>ZTF18aakrnvd_20180517_P200_v1.ascii</td><td>ZTF18aakrnvd</td><td>sn1998S</td><td>10.45</td><td>IIn</td><td>10.45</td><td>0.0446</td><td>0.0041</td><td>75.5</td><td>0</td><td>1</td><td>IIn</td><td>0.047</td><td>0.045349</td><td>2458255.5</td><td>2458312.64</td><td>-57.14</td><td>1</td></tr>\n",
       "<tr><td>ZTF18aamftst_20180615_P60_v1.ascii</td><td>ZTF18aamftst</td><td>sn1997cy</td><td>16.83</td><td>IIn</td><td>16.83</td><td>0.0458</td><td>0.0038</td><td>14.1</td><td>1</td><td>1</td><td>IIn</td><td>0.046</td><td>0.037801</td><td>2458284.5</td><td>2458312.64</td><td>-28.14</td><td>1</td></tr>\n",
       "<tr><td>ZTF18aaqjovh_20180509_P60_v1.ascii</td><td>ZTF18aaqjovh</td><td>sn1997ef</td><td>6.11</td><td>Ic-BL</td><td>6.11</td><td>0.3352</td><td>0.0181</td><td>-13.9</td><td>0</td><td>0</td><td>Ic-BL</td><td>0.053</td><td>0.054031</td><td>2458247.5</td><td>2458248.69</td><td>-1.19</td><td>1</td></tr>\n",
       "<tr><td>ZTF18aasycpd_20180602_P60_v1.ascii</td><td>ZTF18aasycpd</td><td>sn2000H</td><td>9.6</td><td>IIb</td><td>9.6</td><td>0.0499</td><td>0.0057</td><td>13.4</td><td>0</td><td>1</td><td>IIb</td><td>0.05</td><td>0.045154</td><td>2458271.5</td><td>2458270.75</td><td>0.75</td><td>1</td></tr>\n",
       "<tr><td>ZTF18abclfee_20180704_LT_v1.ascii</td><td>ZTF18abclfee</td><td>sn2005cc</td><td>12.7</td><td>Ia-02cx</td><td>12.7</td><td>0.0278</td><td>0.0023</td><td>3.6</td><td>0</td><td>1</td><td>Ia-02cx</td><td>0.029</td><td>nan</td><td>2458303.5</td><td>2458299.65</td><td>3.85</td><td>1</td></tr>\n",
       "<tr><td>ZTF18abclfee_20180708_P200_v2.ascii</td><td>ZTF18abclfee</td><td>sn02cx</td><td>10.49</td><td>Ia-02cx</td><td>10.49</td><td>0.0301</td><td>0.0033</td><td>10.3</td><td>0</td><td>1</td><td>Ia-02cx</td><td>0.029</td><td>nan</td><td>2458307.5</td><td>2458299.65</td><td>7.85</td><td>1</td></tr>\n",
       "<tr><td>ZTF18abcyilc_20180717_P200_v2.ascii</td><td>ZTF18abcyilc</td><td>sn2002cx</td><td>11.32</td><td>Ia-02cx</td><td>11.32</td><td>0.0552</td><td>0.0037</td><td>24.0</td><td>0</td><td>1</td><td>Ia-02cx</td><td>0.057</td><td>nan</td><td>2458316.5</td><td>2458312.67</td><td>3.83</td><td>1</td></tr>\n",
       "<tr><td>...</td><td>...</td><td>...</td><td>...</td><td>...</td><td>...</td><td>...</td><td>...</td><td>...</td><td>...</td><td>...</td><td>...</td><td>...</td><td>...</td><td>...</td><td>...</td><td>...</td><td>...</td></tr>\n",
       "<tr><td>ZTF18abojpnr_20180912_P200_v2.ascii</td><td>ZTF18abojpnr</td><td>sn2011ei</td><td>9.62</td><td>IIb</td><td>9.62</td><td>0.0445</td><td>0.0045</td><td>-4.0</td><td>0</td><td>1</td><td>IIb</td><td>0.035</td><td>nan</td><td>2458373.5</td><td>2458374.78</td><td>-1.28</td><td>1</td></tr>\n",
       "<tr><td>ZTF18abojpnr_20181008_NOT_v1.ascii</td><td>ZTF18abojpnr</td><td>sn2003bg</td><td>8.92</td><td>IIb</td><td>8.92</td><td>0.0373</td><td>0.005</td><td>20.4</td><td>0</td><td>1</td><td>IIb</td><td>0.035</td><td>nan</td><td>2458399.5</td><td>2458374.78</td><td>24.72</td><td>1</td></tr>\n",
       "<tr><td>ZTF18abojpnr_20181113_NOT_v1.ascii</td><td>ZTF18abojpnr</td><td>sn2011ei</td><td>6.09</td><td>IIb</td><td>6.09</td><td>0.0354</td><td>0.0072</td><td>66.0</td><td>0</td><td>1</td><td>IIb</td><td>0.035</td><td>nan</td><td>2458435.5</td><td>2458374.78</td><td>60.72</td><td>1</td></tr>\n",
       "<tr><td>ZTF18abtvstb_20180909_NTT_v1.ascii</td><td>ZTF18abtvstb</td><td>sn2011dh</td><td>15.72</td><td>IIb</td><td>15.72</td><td>0.0209</td><td>0.0039</td><td>9.4</td><td>0</td><td>1</td><td>IIb</td><td>0.022</td><td>nan</td><td>2458370.5</td><td>2458368.72</td><td>1.78</td><td>1</td></tr>\n",
       "<tr><td>ZTF18acqphpd_20190704_Keck1_v1.ascii</td><td>ZTF18acqphpd</td><td>sn2002ap</td><td>19.53</td><td>Ic-BL</td><td>19.53</td><td>0.0418</td><td>0.0037</td><td>238.5</td><td>0</td><td>1</td><td>Ic-BL</td><td>0.037</td><td>nan</td><td>2458668.5</td><td>2458465.97</td><td>202.53</td><td>1</td></tr>\n",
       "<tr><td>ZTF18acqphpd_20190704_Keck1_v2.ascii</td><td>ZTF18acqphpd</td><td>sn2002ap</td><td>23.1</td><td>Ic-BL</td><td>23.1</td><td>0.0417</td><td>0.0031</td><td>238.5</td><td>0</td><td>1</td><td>Ic-BL</td><td>0.037</td><td>nan</td><td>2458668.5</td><td>2458465.97</td><td>202.53</td><td>1</td></tr>\n",
       "<tr><td>ZTF18acrheel_20190104_Keck1_v2.ascii</td><td>ZTF18acrheel</td><td>sn2006jc</td><td>17.19</td><td>Ibn</td><td>17.19</td><td>0.0598</td><td>0.0017</td><td>18.5</td><td>0</td><td>1</td><td>Ibn</td><td>0.055</td><td>nan</td><td>2458487.5</td><td>2458450.94</td><td>36.56</td><td>1</td></tr>\n",
       "<tr><td>ZTF18acslbve_20181212_P60_v1.ascii</td><td>ZTF18acslbve</td><td>sn05hk</td><td>10.8</td><td>Ia-02cx</td><td>10.8</td><td>0.0479</td><td>0.0054</td><td>-6.3</td><td>0</td><td>1</td><td>Ia-02cx</td><td>0.048</td><td>nan</td><td>2458464.5</td><td>2458475.6</td><td>-11.1</td><td>1</td></tr>\n",
       "<tr><td>ZTF18acslpba_20181209_P60_v1.ascii</td><td>ZTF18acslpba</td><td>sn1986G</td><td>9.4</td><td>Ia-91bg</td><td>9.4</td><td>0.0326</td><td>0.0059</td><td>-3.0</td><td>0</td><td>1</td><td>Ia-91bg</td><td>0.048</td><td>0.029314</td><td>2458461.5</td><td>2458462.72</td><td>-1.22</td><td>1</td></tr>\n",
       "<tr><td>ZTF18acslpba_20181222_P60_v2.ascii</td><td>ZTF18acslpba</td><td>sn1991bg</td><td>7.61</td><td>Ia-91bg</td><td>7.61</td><td>0.0317</td><td>0.0089</td><td>32.1</td><td>0</td><td>1</td><td>Ia-91bg</td><td>0.048</td><td>0.029314</td><td>2458474.5</td><td>2458462.72</td><td>11.78</td><td>1</td></tr>\n",
       "</table>"
      ],
      "text/plain": [
       "<Table length=27>\n",
       "              Version                  ZTF_Name   sntemplate ...   col7   col9\n",
       "               str64                    str64       str64    ... float64 int64\n",
       "------------------------------------ ------------ ---------- ... ------- -----\n",
       " ZTF18aahfgyz_20180410_P200_v1.ascii ZTF18aahfgyz     sn06em ...   -0.25     1\n",
       " ZTF18aajtlbf_20180420_P200_v1.ascii ZTF18aajtlbf     sn02cf ...    -1.4     1\n",
       " ZTF18aakaljn_20180421_Ekar_v1.ascii ZTF18aakaljn      sn91T ...    1.89     1\n",
       " ZTF18aakrnvd_20180517_P200_v1.ascii ZTF18aakrnvd    sn1998S ...  -57.14     1\n",
       "  ZTF18aamftst_20180615_P60_v1.ascii ZTF18aamftst   sn1997cy ...  -28.14     1\n",
       "  ZTF18aaqjovh_20180509_P60_v1.ascii ZTF18aaqjovh   sn1997ef ...   -1.19     1\n",
       "  ZTF18aasycpd_20180602_P60_v1.ascii ZTF18aasycpd    sn2000H ...    0.75     1\n",
       "   ZTF18abclfee_20180704_LT_v1.ascii ZTF18abclfee   sn2005cc ...    3.85     1\n",
       " ZTF18abclfee_20180708_P200_v2.ascii ZTF18abclfee     sn02cx ...    7.85     1\n",
       " ZTF18abcyilc_20180717_P200_v2.ascii ZTF18abcyilc   sn2002cx ...    3.83     1\n",
       "                                 ...          ...        ... ...     ...   ...\n",
       " ZTF18abojpnr_20180912_P200_v2.ascii ZTF18abojpnr   sn2011ei ...   -1.28     1\n",
       "  ZTF18abojpnr_20181008_NOT_v1.ascii ZTF18abojpnr   sn2003bg ...   24.72     1\n",
       "  ZTF18abojpnr_20181113_NOT_v1.ascii ZTF18abojpnr   sn2011ei ...   60.72     1\n",
       "  ZTF18abtvstb_20180909_NTT_v1.ascii ZTF18abtvstb   sn2011dh ...    1.78     1\n",
       "ZTF18acqphpd_20190704_Keck1_v1.ascii ZTF18acqphpd   sn2002ap ...  202.53     1\n",
       "ZTF18acqphpd_20190704_Keck1_v2.ascii ZTF18acqphpd   sn2002ap ...  202.53     1\n",
       "ZTF18acrheel_20190104_Keck1_v2.ascii ZTF18acrheel   sn2006jc ...   36.56     1\n",
       "  ZTF18acslbve_20181212_P60_v1.ascii ZTF18acslbve     sn05hk ...   -11.1     1\n",
       "  ZTF18acslpba_20181209_P60_v1.ascii ZTF18acslpba    sn1986G ...   -1.22     1\n",
       "  ZTF18acslpba_20181222_P60_v2.ascii ZTF18acslpba   sn1991bg ...   11.78     1"
      ]
     },
     "execution_count": 78,
     "metadata": {},
     "output_type": "execute_result"
    }
   ],
   "source": [
    "RedshiftClass[RedshiftClass[\"c_snid\"] == RedshiftClass[\"Class\"]]"
   ]
  },
  {
   "cell_type": "code",
   "execution_count": null,
   "metadata": {},
   "outputs": [],
   "source": []
  }
 ],
 "metadata": {
  "kernelspec": {
   "display_name": "Python 3",
   "language": "python",
   "name": "python3"
  },
  "language_info": {
   "codemirror_mode": {
    "name": "ipython",
    "version": 3
   },
   "file_extension": ".py",
   "mimetype": "text/x-python",
   "name": "python",
   "nbconvert_exporter": "python",
   "pygments_lexer": "ipython3",
   "version": "3.7.6"
  }
 },
 "nbformat": 4,
 "nbformat_minor": 4
}
