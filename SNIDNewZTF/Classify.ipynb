{
 "cells": [
  {
   "cell_type": "code",
   "execution_count": 1,
   "metadata": {},
   "outputs": [],
   "source": [
    "import os\n",
    "import astropy\n",
    "import numpy as np\n",
    "from astropy.table import Table\n",
    "from astropy.table import Column\n",
    "import glob\n",
    "import matplotlib.pyplot as plt\n",
    "import pandas as pd\n",
    "from collections import Counter\n",
    "from mpl_toolkits.mplot3d import Axes3D"
   ]
  },
  {
   "cell_type": "code",
   "execution_count": 4,
   "metadata": {},
   "outputs": [],
   "source": [
    "sample = Table.read(\"/mnt/c/users/20xha/Documents/Caltech/Research/NewZTF/ML_sample.ascii\", format = \"ascii\")\n",
    "sample.rename_column('col1', 'ZTF_Name')\n",
    "sample.rename_column('col2', \"Class\")\n",
    "sample.rename_column('col8', \"Version\")"
   ]
  },
  {
   "cell_type": "code",
   "execution_count": 6,
   "metadata": {},
   "outputs": [
    {
     "data": {
      "text/plain": [
       "4411"
      ]
     },
     "execution_count": 6,
     "metadata": {},
     "output_type": "execute_result"
    }
   ],
   "source": [
    "np.size(np.unique(sample[\"ZTF_Name\"]))"
   ]
  },
  {
   "cell_type": "code",
   "execution_count": 7,
   "metadata": {},
   "outputs": [],
   "source": [
    "snidoutput = np.load(\"/mnt/c/users/20xha/Documents/Caltech/Research/NewZTF/SNIDoutput.npy\",allow_pickle=True)"
   ]
  },
  {
   "cell_type": "code",
   "execution_count": 47,
   "metadata": {},
   "outputs": [],
   "source": [
    "ResultsTable_SNID = Table(\n",
    "                    names=(\"ZTF_Name\", \"rlap_c\", \"snid_c\"\n",
    "                    ),\n",
    "                    meta={\"name\": \"Spectrum Results after SNID\"},\n",
    "                    dtype=(\"U64\", \"float64\", \"U64\"\n",
    "                          )\n",
    "                    )\n",
    "for j in snidoutput:\n",
    "    row = []\n",
    "    row.append(j[0])\n",
    "    row.append(j[1][0][\"rlap\"])\n",
    "    row.append(j[1][0][\"type\"])\n",
    "    ResultsTable_SNID.add_row(row)"
   ]
  },
  {
   "cell_type": "code",
   "execution_count": 28,
   "metadata": {},
   "outputs": [],
   "source": [
    "ZTable_best = Table(\n",
    "                    names=(\"ZTF_Name\", \"rlap_z\", \"z_snid\", \"z_snid_err\"\n",
    "                    ),\n",
    "                    meta={\"name\": \"Spectrum Results after SNID\"},\n",
    "                    dtype=(\"U64\", \"float64\", \"float64\", \"float64\"\n",
    "                          )\n",
    "                    )\n",
    "for j in snidoutput:\n",
    "    row = []\n",
    "    row.append(j[0])\n",
    "    good = j[1][np.where(j[1][\"grade\"] == \"good\")]\n",
    "    if(len(good) != 0):\n",
    "        row.append(good[0][\"rlap\"])\n",
    "        row.append(float(np.mean(good[0][\"z\"])))\n",
    "        row.append(float(np.sqrt(np.mean(good[0][\"zerr\"] ** 2))))\n",
    "        ZTable_best.add_row(row)"
   ]
  },
  {
   "cell_type": "code",
   "execution_count": 41,
   "metadata": {},
   "outputs": [],
   "source": [
    "indicies = []\n",
    "sampleunique = np.unique(sample[\"ZTF_Name\"])\n",
    "for i in sampleunique:\n",
    "    version = np.where(i == sample[\"ZTF_Name\"])[0][-1]\n",
    "    indicies.append(version)\n",
    "sample_latestversion = sample[indicies]"
   ]
  },
  {
   "cell_type": "code",
   "execution_count": 48,
   "metadata": {},
   "outputs": [],
   "source": [
    "RedshiftClass = astropy.table.join(astropy.table.join(ResultsTable_SNID, ZTable_best),sample_latestversion)"
   ]
  },
  {
   "cell_type": "code",
   "execution_count": 49,
   "metadata": {},
   "outputs": [
    {
     "data": {
      "text/html": [
       "<i>Table length=4206</i>\n",
       "<table id=\"table140000971426640\" class=\"table-striped table-bordered table-condensed\">\n",
       "<thead><tr><th>ZTF_Name</th><th>rlap_c</th><th>snid_c</th><th>rlap_z</th><th>z_snid</th><th>z_snid_err</th><th>Class</th><th>col3</th><th>col4</th><th>col5</th><th>col6</th><th>col7</th><th>Version</th><th>col9</th></tr></thead>\n",
       "<thead><tr><th>str64</th><th>float64</th><th>str64</th><th>float64</th><th>float64</th><th>float64</th><th>str12</th><th>float64</th><th>float64</th><th>float64</th><th>float64</th><th>float64</th><th>str43</th><th>int64</th></tr></thead>\n",
       "<tr><td>AT2018hrg</td><td>5.95</td><td>IIP</td><td>5.95</td><td>0.0026</td><td>0.0091</td><td>nova</td><td>-0.00016</td><td>-0.00016</td><td>2458425.5</td><td>nan</td><td>nan</td><td>AT2018hrg_20181103_P60_v1.ascii</td><td>2</td></tr>\n",
       "<tr><td>SN2017iuk</td><td>6.06</td><td>Gal</td><td>6.06</td><td>0.037</td><td>0.0026</td><td>Ic-BL</td><td>0.0368</td><td>0.0368</td><td>2458456.5</td><td>nan</td><td>nan</td><td>SN2017iuk_20181204_Keck1_v1.ascii</td><td>2</td></tr>\n",
       "<tr><td>ZTF17aaajnki</td><td>21.67</td><td>Gal</td><td>21.67</td><td>-0.0003</td><td>0.0013</td><td>AGN</td><td>0.00106</td><td>nan</td><td>2458197.5</td><td>2458462.0</td><td>-264.5</td><td>ZTF17aaajnki_20180320_P60_v2.ascii</td><td>0</td></tr>\n",
       "<tr><td>ZTF17aaaobyl</td><td>8.75</td><td>AGN</td><td>8.75</td><td>0.0016</td><td>0.003</td><td>CV</td><td>nan</td><td>nan</td><td>2458356.5</td><td>2458871.69</td><td>-515.19</td><td>ZTF17aaaobyl_20180826_P60_v2.ascii</td><td>0</td></tr>\n",
       "<tr><td>ZTF17aaapufz</td><td>31.28</td><td>Gal</td><td>31.28</td><td>0.0025</td><td>0.0006</td><td>LBV</td><td>0.00261</td><td>nan</td><td>2458546.5</td><td>2458994.68</td><td>-448.18</td><td>ZTF17aaapufz_20190304_P200_v1.ascii</td><td>0</td></tr>\n",
       "<tr><td>ZTF17aaaukqn</td><td>3.5</td><td>II-pec</td><td>3.48</td><td>0.0184</td><td>0.0061</td><td>CV</td><td>0.0</td><td>nan</td><td>2458365.5</td><td>2458364.86</td><td>0.64</td><td>ZTF17aaaukqn_20180904_P60_v1.ascii</td><td>0</td></tr>\n",
       "<tr><td>ZTF17aaawgkc</td><td>3.64</td><td>II-pec</td><td>2.34</td><td>0.0139</td><td>0.0117</td><td>CV</td><td>nan</td><td>nan</td><td>2458352.5</td><td>2459043.8</td><td>-691.3</td><td>ZTF17aaawgkc_20180822_P60_v1.ascii</td><td>0</td></tr>\n",
       "<tr><td>ZTF17aaayjzy</td><td>14.7</td><td>Gal</td><td>14.7</td><td>0.0484</td><td>0.0016</td><td>AGN?</td><td>0.046</td><td>nan</td><td>2458831.5</td><td>2458829.58</td><td>1.92</td><td>ZTF17aaayjzy_20191214_P60_v1.ascii</td><td>0</td></tr>\n",
       "<tr><td>ZTF17aaazdba</td><td>7.66</td><td>Ia-91bg</td><td>7.66</td><td>0.0856</td><td>0.0115</td><td>TDE</td><td>0.022</td><td>nan</td><td>2458820.5</td><td>2458561.68</td><td>258.82</td><td>ZTF17aaazdba_20191203_DCT_v2.ascii</td><td>0</td></tr>\n",
       "<tr><td>ZTF17aabcpcp</td><td>15.86</td><td>Gal</td><td>15.86</td><td>0.0339</td><td>0.0023</td><td>galaxy</td><td>nan</td><td>nan</td><td>2458424.5</td><td>2458422.81</td><td>1.69</td><td>ZTF17aabcpcp_20181102_P60_v1.ascii</td><td>0</td></tr>\n",
       "<tr><td>...</td><td>...</td><td>...</td><td>...</td><td>...</td><td>...</td><td>...</td><td>...</td><td>...</td><td>...</td><td>...</td><td>...</td><td>...</td><td>...</td></tr>\n",
       "<tr><td>ZTF20abpeyat</td><td>8.4</td><td>Ia-norm</td><td>8.4</td><td>0.0431</td><td>0.0082</td><td>Ia</td><td>0.05</td><td>nan</td><td>2459064.5</td><td>2459063.69</td><td>0.81</td><td>ZTF20abpeyat_20200803_P60_v1.ascii</td><td>0</td></tr>\n",
       "<tr><td>ZTF20abpfbih</td><td>5.52</td><td>Ia-norm</td><td>5.52</td><td>0.0639</td><td>0.0085</td><td>-</td><td>0.04869</td><td>nan</td><td>2459063.5</td><td>2459062.64</td><td>0.86</td><td>ZTF20abpfbih_20200802_P60_v1.ascii</td><td>0</td></tr>\n",
       "<tr><td>ZTF20abpglei</td><td>9.82</td><td>Ia-norm</td><td>9.82</td><td>0.068</td><td>0.0056</td><td>-</td><td>nan</td><td>nan</td><td>2459065.5</td><td>2459063.77</td><td>1.73</td><td>ZTF20abpglei_20200804_P60_v1.ascii</td><td>0</td></tr>\n",
       "<tr><td>ZTF20abpgnos</td><td>3.72</td><td>Ia-91bg</td><td>3.72</td><td>0.0281</td><td>0.0126</td><td>-</td><td>nan</td><td>nan</td><td>2459060.5</td><td>2459060.78</td><td>-0.28</td><td>ZTF20abpgnos_20200730_P60_v1.ascii</td><td>0</td></tr>\n",
       "<tr><td>ZTF20abplamr</td><td>5.94</td><td>Ia-norm</td><td>5.94</td><td>0.0743</td><td>0.0073</td><td>-</td><td>0.0643</td><td>nan</td><td>2459065.5</td><td>2459063.63</td><td>1.87</td><td>ZTF20abplamr_20200804_P60_v1.ascii</td><td>0</td></tr>\n",
       "<tr><td>ZTF20abpmqnr</td><td>9.16</td><td>AGN</td><td>9.16</td><td>0.0204</td><td>0.0025</td><td>-</td><td>0.024</td><td>nan</td><td>2459065.5</td><td>2459063.87</td><td>1.63</td><td>ZTF20abpmqnr_20200804_LT_v1.ascii</td><td>0</td></tr>\n",
       "<tr><td>ZTF20abpqhjh</td><td>3.71</td><td>Ia-91T</td><td>3.71</td><td>0.0855</td><td>0.0115</td><td>-</td><td>nan</td><td>nan</td><td>2459065.5</td><td>2459061.66</td><td>3.84</td><td>ZTF20abpqhjh_20200804_P60_v1.ascii</td><td>0</td></tr>\n",
       "<tr><td>ZTF20abpscln</td><td>6.61</td><td>Ia-norm</td><td>6.61</td><td>0.0684</td><td>0.0083</td><td>-</td><td>nan</td><td>nan</td><td>2459063.5</td><td>2459063.77</td><td>-0.27</td><td>ZTF20abpscln_20200802_P60_v1.ascii</td><td>0</td></tr>\n",
       "<tr><td>ZTF20abptxls</td><td>5.0</td><td>Ia-norm</td><td>5.0</td><td>0.0587</td><td>0.0088</td><td>I?</td><td>0.01635</td><td>nan</td><td>2459065.5</td><td>2459062.85</td><td>2.65</td><td>ZTF20abptxls_20200804_P60_v1.ascii</td><td>0</td></tr>\n",
       "<tr><td>ZTF20abpvhqv</td><td>5.17</td><td>Ic-broad</td><td>4.35</td><td>0.0695</td><td>0.0144</td><td>-</td><td>0.01572</td><td>nan</td><td>2459062.5</td><td>2459061.9</td><td>0.6</td><td>ZTF20abpvhqv_20200801_P60_v1.ascii</td><td>0</td></tr>\n",
       "</table>"
      ],
      "text/plain": [
       "<Table length=4206>\n",
       "  ZTF_Name    rlap_c  snid_c  ...               Version                col9\n",
       "   str64     float64  str64   ...                str43                int64\n",
       "------------ ------- -------- ... ----------------------------------- -----\n",
       "   AT2018hrg    5.95      IIP ...     AT2018hrg_20181103_P60_v1.ascii     2\n",
       "   SN2017iuk    6.06      Gal ...   SN2017iuk_20181204_Keck1_v1.ascii     2\n",
       "ZTF17aaajnki   21.67      Gal ...  ZTF17aaajnki_20180320_P60_v2.ascii     0\n",
       "ZTF17aaaobyl    8.75      AGN ...  ZTF17aaaobyl_20180826_P60_v2.ascii     0\n",
       "ZTF17aaapufz   31.28      Gal ... ZTF17aaapufz_20190304_P200_v1.ascii     0\n",
       "ZTF17aaaukqn     3.5   II-pec ...  ZTF17aaaukqn_20180904_P60_v1.ascii     0\n",
       "ZTF17aaawgkc    3.64   II-pec ...  ZTF17aaawgkc_20180822_P60_v1.ascii     0\n",
       "ZTF17aaayjzy    14.7      Gal ...  ZTF17aaayjzy_20191214_P60_v1.ascii     0\n",
       "ZTF17aaazdba    7.66  Ia-91bg ...  ZTF17aaazdba_20191203_DCT_v2.ascii     0\n",
       "ZTF17aabcpcp   15.86      Gal ...  ZTF17aabcpcp_20181102_P60_v1.ascii     0\n",
       "         ...     ...      ... ...                                 ...   ...\n",
       "ZTF20abpeyat     8.4  Ia-norm ...  ZTF20abpeyat_20200803_P60_v1.ascii     0\n",
       "ZTF20abpfbih    5.52  Ia-norm ...  ZTF20abpfbih_20200802_P60_v1.ascii     0\n",
       "ZTF20abpglei    9.82  Ia-norm ...  ZTF20abpglei_20200804_P60_v1.ascii     0\n",
       "ZTF20abpgnos    3.72  Ia-91bg ...  ZTF20abpgnos_20200730_P60_v1.ascii     0\n",
       "ZTF20abplamr    5.94  Ia-norm ...  ZTF20abplamr_20200804_P60_v1.ascii     0\n",
       "ZTF20abpmqnr    9.16      AGN ...   ZTF20abpmqnr_20200804_LT_v1.ascii     0\n",
       "ZTF20abpqhjh    3.71   Ia-91T ...  ZTF20abpqhjh_20200804_P60_v1.ascii     0\n",
       "ZTF20abpscln    6.61  Ia-norm ...  ZTF20abpscln_20200802_P60_v1.ascii     0\n",
       "ZTF20abptxls     5.0  Ia-norm ...  ZTF20abptxls_20200804_P60_v1.ascii     0\n",
       "ZTF20abpvhqv    5.17 Ic-broad ...  ZTF20abpvhqv_20200801_P60_v1.ascii     0"
      ]
     },
     "execution_count": 49,
     "metadata": {},
     "output_type": "execute_result"
    }
   ],
   "source": [
    "RedshiftClass"
   ]
  },
  {
   "cell_type": "code",
   "execution_count": null,
   "metadata": {},
   "outputs": [],
   "source": []
  }
 ],
 "metadata": {
  "kernelspec": {
   "display_name": "Python 3",
   "language": "python",
   "name": "python3"
  },
  "language_info": {
   "codemirror_mode": {
    "name": "ipython",
    "version": 3
   },
   "file_extension": ".py",
   "mimetype": "text/x-python",
   "name": "python",
   "nbconvert_exporter": "python",
   "pygments_lexer": "ipython3",
   "version": "3.8.5"
  }
 },
 "nbformat": 4,
 "nbformat_minor": 4
}
