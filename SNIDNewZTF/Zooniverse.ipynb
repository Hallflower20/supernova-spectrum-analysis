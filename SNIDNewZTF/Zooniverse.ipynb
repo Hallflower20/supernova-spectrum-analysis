{
 "cells": [
  {
   "cell_type": "code",
   "execution_count": 1,
   "metadata": {},
   "outputs": [],
   "source": [
    "import os\n",
    "import astropy\n",
    "import numpy as np\n",
    "from astropy.table import Table\n",
    "from astropy.table import Column\n",
    "import glob\n",
    "import matplotlib.pyplot as plt\n",
    "import pandas as pd\n",
    "from collections import Counter\n",
    "from mpl_toolkits.mplot3d import Axes3D"
   ]
  },
  {
   "cell_type": "code",
   "execution_count": 2,
   "metadata": {},
   "outputs": [],
   "source": [
    "RedshiftClass = Table.from_pandas(pd.read_csv(\"/home/xhall/Documents/NewZTF/sample_2018/ML_sample_snid_norepeat_2018.csv\"))"
   ]
  },
  {
   "cell_type": "code",
   "execution_count": 3,
   "metadata": {},
   "outputs": [],
   "source": [
    "indicies = []\n",
    "taken = []\n",
    "counter = 0\n",
    "for i in RedshiftClass:\n",
    "    if not(\"Ia\" in i[\"c_snid\"] and i[\"c_rlap\"] > 10):\n",
    "        indicies.append(counter)\n",
    "        taken.append(i[\"ZTF_Name\"])\n",
    "    counter+=1"
   ]
  },
  {
   "cell_type": "code",
   "execution_count": 4,
   "metadata": {},
   "outputs": [
    {
     "name": "stdout",
     "output_type": "stream",
     "text": [
      "1543\n"
     ]
    },
    {
     "data": {
      "text/plain": [
       "1061"
      ]
     },
     "execution_count": 4,
     "metadata": {},
     "output_type": "execute_result"
    }
   ],
   "source": [
    "print(len(RedshiftClass))\n",
    "len(indicies)"
   ]
  },
  {
   "cell_type": "code",
   "execution_count": 5,
   "metadata": {},
   "outputs": [],
   "source": [
    "manifest = Table(\n",
    "        names=(\"!ZTF_Version\", \"!ZTF_Name\", \"#Image0\", \"#Image1\", \"#Image2\", \"#Image3\", \"#Image4\", \"z_snid\", \"z_snid_err\"\n",
    "        ),\n",
    "        meta={\"name\": \"Spectrum Results after SNID\"},\n",
    "        dtype=(\"U64\", \"U64\", \"U64\", \"U64\", \"U64\", \"U64\", \"U64\", \"Float64\", \"Float64\"\n",
    "              )\n",
    "        )"
   ]
  },
  {
   "cell_type": "code",
   "execution_count": 6,
   "metadata": {},
   "outputs": [],
   "source": [
    "for i in RedshiftClass:\n",
    "    row = []\n",
    "    version = i[\"Version\"].split('.')[0]\n",
    "    row.append(version)\n",
    "    row.append(i[\"ZTF_Name\"])\n",
    "    for j in range(1,6):\n",
    "        row.append(\"snidfits_emclip_\" + version + \"_\" + str(j)+\".png\")\n",
    "    row.append(round(i[\"z_snid\"],3))\n",
    "    row.append(round(i[\"z_snid_err\"],3))\n",
    "    manifest.add_row(row)"
   ]
  },
  {
   "cell_type": "code",
   "execution_count": 7,
   "metadata": {},
   "outputs": [],
   "source": [
    "manifest.to_pandas().to_csv(\"/home/xhall/Documents/NewZTF/sample_2018/ImageOutput/manifest.csv\", index = False)"
   ]
  },
  {
   "cell_type": "code",
   "execution_count": 8,
   "metadata": {},
   "outputs": [
    {
     "name": "stdout",
     "output_type": "stream",
     "text": [
      "747\n"
     ]
    },
    {
     "data": {
      "text/plain": [
       "747"
      ]
     },
     "execution_count": 8,
     "metadata": {},
     "output_type": "execute_result"
    }
   ],
   "source": [
    "print(len(np.unique(manifest[\"!ZTF_Name\"])))\n",
    "len(np.unique(RedshiftClass[\"ZTF_Name\"]))"
   ]
  },
  {
   "cell_type": "code",
   "execution_count": 9,
   "metadata": {},
   "outputs": [
    {
     "data": {
      "text/html": [
       "<i>Table length=1543</i>\n",
       "<table id=\"table139976965362576\" class=\"table-striped table-bordered table-condensed\">\n",
       "<thead><tr><th>!ZTF_Version</th><th>!ZTF_Name</th><th>#Image0</th><th>#Image1</th><th>#Image2</th><th>#Image3</th><th>#Image4</th><th>z_snid</th><th>z_snid_err</th></tr></thead>\n",
       "<thead><tr><th>str64</th><th>str64</th><th>str64</th><th>str64</th><th>str64</th><th>str64</th><th>str64</th><th>float64</th><th>float64</th></tr></thead>\n",
       "<tr><td>ZTF18aabssth_20180309_P60_v1</td><td>ZTF18aabssth</td><td>snidfits_emclip_ZTF18aabssth_20180309_P60_v1_1.png</td><td>snidfits_emclip_ZTF18aabssth_20180309_P60_v1_2.png</td><td>snidfits_emclip_ZTF18aabssth_20180309_P60_v1_3.png</td><td>snidfits_emclip_ZTF18aabssth_20180309_P60_v1_4.png</td><td>snidfits_emclip_ZTF18aabssth_20180309_P60_v1_5.png</td><td>0.036</td><td>0.008</td></tr>\n",
       "<tr><td>ZTF18aabxlsv_20180510_P60_v1</td><td>ZTF18aabxlsv</td><td>snidfits_emclip_ZTF18aabxlsv_20180510_P60_v1_1.png</td><td>snidfits_emclip_ZTF18aabxlsv_20180510_P60_v1_2.png</td><td>snidfits_emclip_ZTF18aabxlsv_20180510_P60_v1_3.png</td><td>snidfits_emclip_ZTF18aabxlsv_20180510_P60_v1_4.png</td><td>snidfits_emclip_ZTF18aabxlsv_20180510_P60_v1_5.png</td><td>0.056</td><td>0.008</td></tr>\n",
       "<tr><td>ZTF18aabxlsv_20180517_P200_v1</td><td>ZTF18aabxlsv</td><td>snidfits_emclip_ZTF18aabxlsv_20180517_P200_v1_1.png</td><td>snidfits_emclip_ZTF18aabxlsv_20180517_P200_v1_2.png</td><td>snidfits_emclip_ZTF18aabxlsv_20180517_P200_v1_3.png</td><td>snidfits_emclip_ZTF18aabxlsv_20180517_P200_v1_4.png</td><td>snidfits_emclip_ZTF18aabxlsv_20180517_P200_v1_5.png</td><td>0.057</td><td>0.007</td></tr>\n",
       "<tr><td>ZTF18aabxlsv_20181110_Keck1_v1</td><td>ZTF18aabxlsv</td><td>snidfits_emclip_ZTF18aabxlsv_20181110_Keck1_v1_1.png</td><td>snidfits_emclip_ZTF18aabxlsv_20181110_Keck1_v1_2.png</td><td>snidfits_emclip_ZTF18aabxlsv_20181110_Keck1_v1_3.png</td><td>snidfits_emclip_ZTF18aabxlsv_20181110_Keck1_v1_4.png</td><td>snidfits_emclip_ZTF18aabxlsv_20181110_Keck1_v1_5.png</td><td>0.047</td><td>0.003</td></tr>\n",
       "<tr><td>ZTF18aaemivw_20181104_P60_v1</td><td>ZTF18aaemivw</td><td>snidfits_emclip_ZTF18aaemivw_20181104_P60_v1_1.png</td><td>snidfits_emclip_ZTF18aaemivw_20181104_P60_v1_2.png</td><td>snidfits_emclip_ZTF18aaemivw_20181104_P60_v1_3.png</td><td>snidfits_emclip_ZTF18aaemivw_20181104_P60_v1_4.png</td><td>snidfits_emclip_ZTF18aaemivw_20181104_P60_v1_5.png</td><td>0.064</td><td>0.006</td></tr>\n",
       "<tr><td>ZTF18aagpzjk_20180320_P60_v1</td><td>ZTF18aagpzjk</td><td>snidfits_emclip_ZTF18aagpzjk_20180320_P60_v1_1.png</td><td>snidfits_emclip_ZTF18aagpzjk_20180320_P60_v1_2.png</td><td>snidfits_emclip_ZTF18aagpzjk_20180320_P60_v1_3.png</td><td>snidfits_emclip_ZTF18aagpzjk_20180320_P60_v1_4.png</td><td>snidfits_emclip_ZTF18aagpzjk_20180320_P60_v1_5.png</td><td>0.464</td><td>0.007</td></tr>\n",
       "<tr><td>ZTF18aagpzjk_20180410_P200_v1</td><td>ZTF18aagpzjk</td><td>snidfits_emclip_ZTF18aagpzjk_20180410_P200_v1_1.png</td><td>snidfits_emclip_ZTF18aagpzjk_20180410_P200_v1_2.png</td><td>snidfits_emclip_ZTF18aagpzjk_20180410_P200_v1_3.png</td><td>snidfits_emclip_ZTF18aagpzjk_20180410_P200_v1_4.png</td><td>snidfits_emclip_ZTF18aagpzjk_20180410_P200_v1_5.png</td><td>0.013</td><td>0.003</td></tr>\n",
       "<tr><td>ZTF18aagrdcs_20180327_P60_v1</td><td>ZTF18aagrdcs</td><td>snidfits_emclip_ZTF18aagrdcs_20180327_P60_v1_1.png</td><td>snidfits_emclip_ZTF18aagrdcs_20180327_P60_v1_2.png</td><td>snidfits_emclip_ZTF18aagrdcs_20180327_P60_v1_3.png</td><td>snidfits_emclip_ZTF18aagrdcs_20180327_P60_v1_4.png</td><td>snidfits_emclip_ZTF18aagrdcs_20180327_P60_v1_5.png</td><td>0.168</td><td>0.01</td></tr>\n",
       "<tr><td>ZTF18aagrdcs_20180419_P200_v1</td><td>ZTF18aagrdcs</td><td>snidfits_emclip_ZTF18aagrdcs_20180419_P200_v1_1.png</td><td>snidfits_emclip_ZTF18aagrdcs_20180419_P200_v1_2.png</td><td>snidfits_emclip_ZTF18aagrdcs_20180419_P200_v1_3.png</td><td>snidfits_emclip_ZTF18aagrdcs_20180419_P200_v1_4.png</td><td>snidfits_emclip_ZTF18aagrdcs_20180419_P200_v1_5.png</td><td>0.015</td><td>0.003</td></tr>\n",
       "<tr><td>ZTF18aagrdcs_20180419_TNG_v1</td><td>ZTF18aagrdcs</td><td>snidfits_emclip_ZTF18aagrdcs_20180419_TNG_v1_1.png</td><td>snidfits_emclip_ZTF18aagrdcs_20180419_TNG_v1_2.png</td><td>snidfits_emclip_ZTF18aagrdcs_20180419_TNG_v1_3.png</td><td>snidfits_emclip_ZTF18aagrdcs_20180419_TNG_v1_4.png</td><td>snidfits_emclip_ZTF18aagrdcs_20180419_TNG_v1_5.png</td><td>0.012</td><td>0.003</td></tr>\n",
       "<tr><td>...</td><td>...</td><td>...</td><td>...</td><td>...</td><td>...</td><td>...</td><td>...</td><td>...</td></tr>\n",
       "<tr><td>ZTF18adaylyq_20181231_P60_v2</td><td>ZTF18adaylyq</td><td>snidfits_emclip_ZTF18adaylyq_20181231_P60_v2_1.png</td><td>snidfits_emclip_ZTF18adaylyq_20181231_P60_v2_2.png</td><td>snidfits_emclip_ZTF18adaylyq_20181231_P60_v2_3.png</td><td>snidfits_emclip_ZTF18adaylyq_20181231_P60_v2_4.png</td><td>snidfits_emclip_ZTF18adaylyq_20181231_P60_v2_5.png</td><td>0.244</td><td>0.004</td></tr>\n",
       "<tr><td>ZTF18adaylyq_20190104_P60_v1</td><td>ZTF18adaylyq</td><td>snidfits_emclip_ZTF18adaylyq_20190104_P60_v1_1.png</td><td>snidfits_emclip_ZTF18adaylyq_20190104_P60_v1_2.png</td><td>snidfits_emclip_ZTF18adaylyq_20190104_P60_v1_3.png</td><td>snidfits_emclip_ZTF18adaylyq_20190104_P60_v1_4.png</td><td>snidfits_emclip_ZTF18adaylyq_20190104_P60_v1_5.png</td><td>0.064</td><td>0.006</td></tr>\n",
       "<tr><td>ZTF18adazgdh_20190104_Keck1_v1</td><td>ZTF18adazgdh</td><td>snidfits_emclip_ZTF18adazgdh_20190104_Keck1_v1_1.png</td><td>snidfits_emclip_ZTF18adazgdh_20190104_Keck1_v1_2.png</td><td>snidfits_emclip_ZTF18adazgdh_20190104_Keck1_v1_3.png</td><td>snidfits_emclip_ZTF18adazgdh_20190104_Keck1_v1_4.png</td><td>snidfits_emclip_ZTF18adazgdh_20190104_Keck1_v1_5.png</td><td>0.075</td><td>0.004</td></tr>\n",
       "<tr><td>ZTF18adbadfz_20190103_P60_v1</td><td>ZTF18adbadfz</td><td>snidfits_emclip_ZTF18adbadfz_20190103_P60_v1_1.png</td><td>snidfits_emclip_ZTF18adbadfz_20190103_P60_v1_2.png</td><td>snidfits_emclip_ZTF18adbadfz_20190103_P60_v1_3.png</td><td>snidfits_emclip_ZTF18adbadfz_20190103_P60_v1_4.png</td><td>snidfits_emclip_ZTF18adbadfz_20190103_P60_v1_5.png</td><td>0.035</td><td>0.007</td></tr>\n",
       "<tr><td>ZTF18adbadqp_20190104_P60_v1</td><td>ZTF18adbadqp</td><td>snidfits_emclip_ZTF18adbadqp_20190104_P60_v1_1.png</td><td>snidfits_emclip_ZTF18adbadqp_20190104_P60_v1_2.png</td><td>snidfits_emclip_ZTF18adbadqp_20190104_P60_v1_3.png</td><td>snidfits_emclip_ZTF18adbadqp_20190104_P60_v1_4.png</td><td>snidfits_emclip_ZTF18adbadqp_20190104_P60_v1_5.png</td><td>0.083</td><td>0.004</td></tr>\n",
       "<tr><td>ZTF18adbckox_20181231_P60_v1</td><td>ZTF18adbckox</td><td>snidfits_emclip_ZTF18adbckox_20181231_P60_v1_1.png</td><td>snidfits_emclip_ZTF18adbckox_20181231_P60_v1_2.png</td><td>snidfits_emclip_ZTF18adbckox_20181231_P60_v1_3.png</td><td>snidfits_emclip_ZTF18adbckox_20181231_P60_v1_4.png</td><td>snidfits_emclip_ZTF18adbckox_20181231_P60_v1_5.png</td><td>0.045</td><td>0.007</td></tr>\n",
       "<tr><td>ZTF18adbckox_20190101_WHT_v1</td><td>ZTF18adbckox</td><td>snidfits_emclip_ZTF18adbckox_20190101_WHT_v1_1.png</td><td>snidfits_emclip_ZTF18adbckox_20190101_WHT_v1_2.png</td><td>snidfits_emclip_ZTF18adbckox_20190101_WHT_v1_3.png</td><td>snidfits_emclip_ZTF18adbckox_20190101_WHT_v1_4.png</td><td>snidfits_emclip_ZTF18adbckox_20190101_WHT_v1_5.png</td><td>0.047</td><td>0.003</td></tr>\n",
       "<tr><td>ZTF18adbckox_20190104_P60_v1</td><td>ZTF18adbckox</td><td>snidfits_emclip_ZTF18adbckox_20190104_P60_v1_1.png</td><td>snidfits_emclip_ZTF18adbckox_20190104_P60_v1_2.png</td><td>snidfits_emclip_ZTF18adbckox_20190104_P60_v1_3.png</td><td>snidfits_emclip_ZTF18adbckox_20190104_P60_v1_4.png</td><td>snidfits_emclip_ZTF18adbckox_20190104_P60_v1_5.png</td><td>0.056</td><td>0.004</td></tr>\n",
       "<tr><td>ZTF18adbclkd_20181230_P60_v1</td><td>ZTF18adbclkd</td><td>snidfits_emclip_ZTF18adbclkd_20181230_P60_v1_1.png</td><td>snidfits_emclip_ZTF18adbclkd_20181230_P60_v1_2.png</td><td>snidfits_emclip_ZTF18adbclkd_20181230_P60_v1_3.png</td><td>snidfits_emclip_ZTF18adbclkd_20181230_P60_v1_4.png</td><td>snidfits_emclip_ZTF18adbclkd_20181230_P60_v1_5.png</td><td>0.038</td><td>0.012</td></tr>\n",
       "<tr><td>ZTF18adbclkd_20181231_P60_v1</td><td>ZTF18adbclkd</td><td>snidfits_emclip_ZTF18adbclkd_20181231_P60_v1_1.png</td><td>snidfits_emclip_ZTF18adbclkd_20181231_P60_v1_2.png</td><td>snidfits_emclip_ZTF18adbclkd_20181231_P60_v1_3.png</td><td>snidfits_emclip_ZTF18adbclkd_20181231_P60_v1_4.png</td><td>snidfits_emclip_ZTF18adbclkd_20181231_P60_v1_5.png</td><td>0.013</td><td>0.007</td></tr>\n",
       "</table>"
      ],
      "text/plain": [
       "<Table length=1543>\n",
       "         !ZTF_Version           !ZTF_Name   ...  z_snid z_snid_err\n",
       "            str64                 str64     ... float64  float64  \n",
       "------------------------------ ------------ ... ------- ----------\n",
       "  ZTF18aabssth_20180309_P60_v1 ZTF18aabssth ...   0.036      0.008\n",
       "  ZTF18aabxlsv_20180510_P60_v1 ZTF18aabxlsv ...   0.056      0.008\n",
       " ZTF18aabxlsv_20180517_P200_v1 ZTF18aabxlsv ...   0.057      0.007\n",
       "ZTF18aabxlsv_20181110_Keck1_v1 ZTF18aabxlsv ...   0.047      0.003\n",
       "  ZTF18aaemivw_20181104_P60_v1 ZTF18aaemivw ...   0.064      0.006\n",
       "  ZTF18aagpzjk_20180320_P60_v1 ZTF18aagpzjk ...   0.464      0.007\n",
       " ZTF18aagpzjk_20180410_P200_v1 ZTF18aagpzjk ...   0.013      0.003\n",
       "  ZTF18aagrdcs_20180327_P60_v1 ZTF18aagrdcs ...   0.168       0.01\n",
       " ZTF18aagrdcs_20180419_P200_v1 ZTF18aagrdcs ...   0.015      0.003\n",
       "  ZTF18aagrdcs_20180419_TNG_v1 ZTF18aagrdcs ...   0.012      0.003\n",
       "                           ...          ... ...     ...        ...\n",
       "  ZTF18adaylyq_20181231_P60_v2 ZTF18adaylyq ...   0.244      0.004\n",
       "  ZTF18adaylyq_20190104_P60_v1 ZTF18adaylyq ...   0.064      0.006\n",
       "ZTF18adazgdh_20190104_Keck1_v1 ZTF18adazgdh ...   0.075      0.004\n",
       "  ZTF18adbadfz_20190103_P60_v1 ZTF18adbadfz ...   0.035      0.007\n",
       "  ZTF18adbadqp_20190104_P60_v1 ZTF18adbadqp ...   0.083      0.004\n",
       "  ZTF18adbckox_20181231_P60_v1 ZTF18adbckox ...   0.045      0.007\n",
       "  ZTF18adbckox_20190101_WHT_v1 ZTF18adbckox ...   0.047      0.003\n",
       "  ZTF18adbckox_20190104_P60_v1 ZTF18adbckox ...   0.056      0.004\n",
       "  ZTF18adbclkd_20181230_P60_v1 ZTF18adbclkd ...   0.038      0.012\n",
       "  ZTF18adbclkd_20181231_P60_v1 ZTF18adbclkd ...   0.013      0.007"
      ]
     },
     "execution_count": 9,
     "metadata": {},
     "output_type": "execute_result"
    }
   ],
   "source": [
    "manifest"
   ]
  },
  {
   "cell_type": "code",
   "execution_count": null,
   "metadata": {},
   "outputs": [],
   "source": []
  }
 ],
 "metadata": {
  "kernelspec": {
   "display_name": "Python 3",
   "language": "python",
   "name": "python3"
  },
  "language_info": {
   "codemirror_mode": {
    "name": "ipython",
    "version": 3
   },
   "file_extension": ".py",
   "mimetype": "text/x-python",
   "name": "python",
   "nbconvert_exporter": "python",
   "pygments_lexer": "ipython3",
   "version": "3.7.6"
  }
 },
 "nbformat": 4,
 "nbformat_minor": 4
}
