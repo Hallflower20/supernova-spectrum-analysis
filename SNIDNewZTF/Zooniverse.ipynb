{
 "cells": [
  {
   "cell_type": "code",
   "execution_count": 26,
   "metadata": {},
   "outputs": [],
   "source": [
    "import os\n",
    "import astropy\n",
    "import numpy as np\n",
    "from astropy.table import Table\n",
    "from astropy.table import Column\n",
    "import glob\n",
    "import matplotlib.pyplot as plt\n",
    "import pandas as pd\n",
    "from collections import Counter\n",
    "from mpl_toolkits.mplot3d import Axes3D"
   ]
  },
  {
   "cell_type": "code",
   "execution_count": 27,
   "metadata": {},
   "outputs": [],
   "source": [
    "RedshiftClass = Table.from_pandas(pd.read_csv(\"/home/xhall/Documents/NewZTF/ML_sample_snid100.csv\"))"
   ]
  },
  {
   "cell_type": "code",
   "execution_count": 28,
   "metadata": {},
   "outputs": [],
   "source": [
    "indicies = []\n",
    "taken = []\n",
    "counter = 0\n",
    "for i in RedshiftClass:\n",
    "    if not(\"Ia\" in i[\"c_snid\"] and i[\"c_rlap\"] > 10):\n",
    "        indicies.append(counter)\n",
    "        taken.append(i[\"ZTF_Name\"])\n",
    "    counter+=1"
   ]
  },
  {
   "cell_type": "code",
   "execution_count": 29,
   "metadata": {},
   "outputs": [
    {
     "name": "stdout",
     "output_type": "stream",
     "text": [
      "200\n"
     ]
    },
    {
     "data": {
      "text/plain": [
       "183"
      ]
     },
     "execution_count": 29,
     "metadata": {},
     "output_type": "execute_result"
    }
   ],
   "source": [
    "print(len(RedshiftClass))\n",
    "len(indicies)"
   ]
  },
  {
   "cell_type": "code",
   "execution_count": 30,
   "metadata": {},
   "outputs": [],
   "source": [
    "manifest = Table(\n",
    "        names=(\"!ZTF_Version\", \"ZTF_Name\", \"#Image0\", \"#Image1\", \"#Image2\", \"#Image3\", \"#Image4\", \"z_snid\", \"z_snid_err\"\n",
    "        ),\n",
    "        meta={\"name\": \"Spectrum Results after SNID\"},\n",
    "        dtype=(\"U64\", \"U64\", \"U64\", \"U64\", \"U64\", \"U64\", \"U64\", \"Float64\", \"Float64\"\n",
    "              )\n",
    "        )"
   ]
  },
  {
   "cell_type": "code",
   "execution_count": 31,
   "metadata": {},
   "outputs": [],
   "source": [
    "for i in RedshiftClass:\n",
    "    row = []\n",
    "    version = i[\"Version\"].split('.')[0]\n",
    "    row.append(version)\n",
    "    row.append(i[\"ZTF_Name\"])\n",
    "    for j in range(5):\n",
    "        row.append(\"snidfits_emclip_\" + version + \"_\" + str(j)+\".png\")\n",
    "    row.append(round(i[\"z_snid\"],3))\n",
    "    row.append(round(i[\"z_snid_err\"],3))\n",
    "    manifest.add_row(row)"
   ]
  },
  {
   "cell_type": "code",
   "execution_count": 32,
   "metadata": {},
   "outputs": [],
   "source": [
    "manifest.to_pandas().to_csv(\"/home/xhall/Documents/NewZTF/Images/manifest.csv\", index = False)"
   ]
  },
  {
   "cell_type": "code",
   "execution_count": 24,
   "metadata": {},
   "outputs": [
    {
     "name": "stdout",
     "output_type": "stream",
     "text": [
      "49\n"
     ]
    },
    {
     "data": {
      "text/plain": [
       "49"
      ]
     },
     "execution_count": 24,
     "metadata": {},
     "output_type": "execute_result"
    }
   ],
   "source": [
    "print(len(np.unique(manifest[\"ZTF_Name\"])))\n",
    "len(np.unique(RedshiftClass[\"ZTF_Name\"]))"
   ]
  },
  {
   "cell_type": "code",
   "execution_count": 25,
   "metadata": {},
   "outputs": [
    {
     "data": {
      "text/html": [
       "<i>Table length=100</i>\n",
       "<table id=\"table139754545982736\" class=\"table-striped table-bordered table-condensed\">\n",
       "<thead><tr><th>!ZTF_Version</th><th>ZTF_Name</th><th>#Image0</th><th>#Image1</th><th>#Image2</th><th>#Image3</th><th>#Image4</th><th>z_snid</th><th>z_snid_err</th></tr></thead>\n",
       "<thead><tr><th>str64</th><th>str64</th><th>str64</th><th>str64</th><th>str64</th><th>str64</th><th>str64</th><th>float64</th><th>float64</th></tr></thead>\n",
       "<tr><td>AT2018hrg_20181103_P60_v1</td><td>AT2018hrg</td><td>snidfits_emclip_AT2018hrg_20181103_P60_v1_0.png</td><td>snidfits_emclip_AT2018hrg_20181103_P60_v1_1.png</td><td>snidfits_emclip_AT2018hrg_20181103_P60_v1_2.png</td><td>snidfits_emclip_AT2018hrg_20181103_P60_v1_3.png</td><td>snidfits_emclip_AT2018hrg_20181103_P60_v1_4.png</td><td>0.007</td><td>0.009</td></tr>\n",
       "<tr><td>SN2017iuk_20181204_Keck1_v1</td><td>SN2017iuk</td><td>snidfits_emclip_SN2017iuk_20181204_Keck1_v1_0.png</td><td>snidfits_emclip_SN2017iuk_20181204_Keck1_v1_1.png</td><td>snidfits_emclip_SN2017iuk_20181204_Keck1_v1_2.png</td><td>snidfits_emclip_SN2017iuk_20181204_Keck1_v1_3.png</td><td>snidfits_emclip_SN2017iuk_20181204_Keck1_v1_4.png</td><td>0.038</td><td>0.003</td></tr>\n",
       "<tr><td>ZTF17aaajnki_20180320_P60_v1</td><td>ZTF17aaajnki</td><td>snidfits_emclip_ZTF17aaajnki_20180320_P60_v1_0.png</td><td>snidfits_emclip_ZTF17aaajnki_20180320_P60_v1_1.png</td><td>snidfits_emclip_ZTF17aaajnki_20180320_P60_v1_2.png</td><td>snidfits_emclip_ZTF17aaajnki_20180320_P60_v1_3.png</td><td>snidfits_emclip_ZTF17aaajnki_20180320_P60_v1_4.png</td><td>-0.0</td><td>0.002</td></tr>\n",
       "<tr><td>ZTF17aaajnki_20180320_P60_v2</td><td>ZTF17aaajnki</td><td>snidfits_emclip_ZTF17aaajnki_20180320_P60_v2_0.png</td><td>snidfits_emclip_ZTF17aaajnki_20180320_P60_v2_1.png</td><td>snidfits_emclip_ZTF17aaajnki_20180320_P60_v2_2.png</td><td>snidfits_emclip_ZTF17aaajnki_20180320_P60_v2_3.png</td><td>snidfits_emclip_ZTF17aaajnki_20180320_P60_v2_4.png</td><td>-0.0</td><td>0.002</td></tr>\n",
       "<tr><td>ZTF17aaaobyl_20180826_P60_v2</td><td>ZTF17aaaobyl</td><td>snidfits_emclip_ZTF17aaaobyl_20180826_P60_v2_0.png</td><td>snidfits_emclip_ZTF17aaaobyl_20180826_P60_v2_1.png</td><td>snidfits_emclip_ZTF17aaaobyl_20180826_P60_v2_2.png</td><td>snidfits_emclip_ZTF17aaaobyl_20180826_P60_v2_3.png</td><td>snidfits_emclip_ZTF17aaaobyl_20180826_P60_v2_4.png</td><td>0.002</td><td>0.003</td></tr>\n",
       "<tr><td>ZTF17aaapufz_20190304_P200_v1</td><td>ZTF17aaapufz</td><td>snidfits_emclip_ZTF17aaapufz_20190304_P200_v1_0.png</td><td>snidfits_emclip_ZTF17aaapufz_20190304_P200_v1_1.png</td><td>snidfits_emclip_ZTF17aaapufz_20190304_P200_v1_2.png</td><td>snidfits_emclip_ZTF17aaapufz_20190304_P200_v1_3.png</td><td>snidfits_emclip_ZTF17aaapufz_20190304_P200_v1_4.png</td><td>0.002</td><td>0.001</td></tr>\n",
       "<tr><td>ZTF17aaaukqn_20180904_P60_v1</td><td>ZTF17aaaukqn</td><td>snidfits_emclip_ZTF17aaaukqn_20180904_P60_v1_0.png</td><td>snidfits_emclip_ZTF17aaaukqn_20180904_P60_v1_1.png</td><td>snidfits_emclip_ZTF17aaaukqn_20180904_P60_v1_2.png</td><td>snidfits_emclip_ZTF17aaaukqn_20180904_P60_v1_3.png</td><td>snidfits_emclip_ZTF17aaaukqn_20180904_P60_v1_4.png</td><td>0.326</td><td>0.015</td></tr>\n",
       "<tr><td>ZTF17aaawgkc_20180822_P60_v1</td><td>ZTF17aaawgkc</td><td>snidfits_emclip_ZTF17aaawgkc_20180822_P60_v1_0.png</td><td>snidfits_emclip_ZTF17aaawgkc_20180822_P60_v1_1.png</td><td>snidfits_emclip_ZTF17aaawgkc_20180822_P60_v1_2.png</td><td>snidfits_emclip_ZTF17aaawgkc_20180822_P60_v1_3.png</td><td>snidfits_emclip_ZTF17aaawgkc_20180822_P60_v1_4.png</td><td>0.274</td><td>0.011</td></tr>\n",
       "<tr><td>ZTF17aaayjzy_20191214_P60_v1</td><td>ZTF17aaayjzy</td><td>snidfits_emclip_ZTF17aaayjzy_20191214_P60_v1_0.png</td><td>snidfits_emclip_ZTF17aaayjzy_20191214_P60_v1_1.png</td><td>snidfits_emclip_ZTF17aaayjzy_20191214_P60_v1_2.png</td><td>snidfits_emclip_ZTF17aaayjzy_20191214_P60_v1_3.png</td><td>snidfits_emclip_ZTF17aaayjzy_20191214_P60_v1_4.png</td><td>0.048</td><td>0.001</td></tr>\n",
       "<tr><td>ZTF17aaazdba_20190224_P60_v1</td><td>ZTF17aaazdba</td><td>snidfits_emclip_ZTF17aaazdba_20190224_P60_v1_0.png</td><td>snidfits_emclip_ZTF17aaazdba_20190224_P60_v1_1.png</td><td>snidfits_emclip_ZTF17aaazdba_20190224_P60_v1_2.png</td><td>snidfits_emclip_ZTF17aaazdba_20190224_P60_v1_3.png</td><td>snidfits_emclip_ZTF17aaazdba_20190224_P60_v1_4.png</td><td>0.04</td><td>0.011</td></tr>\n",
       "<tr><td>...</td><td>...</td><td>...</td><td>...</td><td>...</td><td>...</td><td>...</td><td>...</td><td>...</td></tr>\n",
       "<tr><td>ZTF18aaegvyd_20190625_P60_v1</td><td>ZTF18aaegvyd</td><td>snidfits_emclip_ZTF18aaegvyd_20190625_P60_v1_0.png</td><td>snidfits_emclip_ZTF18aaegvyd_20190625_P60_v1_1.png</td><td>snidfits_emclip_ZTF18aaegvyd_20190625_P60_v1_2.png</td><td>snidfits_emclip_ZTF18aaegvyd_20190625_P60_v1_3.png</td><td>snidfits_emclip_ZTF18aaegvyd_20190625_P60_v1_4.png</td><td>0.065</td><td>0.008</td></tr>\n",
       "<tr><td>ZTF18aaekkoj_20180514_Keck1_v1</td><td>ZTF18aaekkoj</td><td>snidfits_emclip_ZTF18aaekkoj_20180514_Keck1_v1_0.png</td><td>snidfits_emclip_ZTF18aaekkoj_20180514_Keck1_v1_1.png</td><td>snidfits_emclip_ZTF18aaekkoj_20180514_Keck1_v1_2.png</td><td>snidfits_emclip_ZTF18aaekkoj_20180514_Keck1_v1_3.png</td><td>snidfits_emclip_ZTF18aaekkoj_20180514_Keck1_v1_4.png</td><td>0.045</td><td>0.0</td></tr>\n",
       "<tr><td>ZTF18aaemivw_20181104_P60_v1</td><td>ZTF18aaemivw</td><td>snidfits_emclip_ZTF18aaemivw_20181104_P60_v1_0.png</td><td>snidfits_emclip_ZTF18aaemivw_20181104_P60_v1_1.png</td><td>snidfits_emclip_ZTF18aaemivw_20181104_P60_v1_2.png</td><td>snidfits_emclip_ZTF18aaemivw_20181104_P60_v1_3.png</td><td>snidfits_emclip_ZTF18aaemivw_20181104_P60_v1_4.png</td><td>0.065</td><td>0.004</td></tr>\n",
       "<tr><td>ZTF18aaenfaa_20180922_P60_v1</td><td>ZTF18aaenfaa</td><td>snidfits_emclip_ZTF18aaenfaa_20180922_P60_v1_0.png</td><td>snidfits_emclip_ZTF18aaenfaa_20180922_P60_v1_1.png</td><td>snidfits_emclip_ZTF18aaenfaa_20180922_P60_v1_2.png</td><td>snidfits_emclip_ZTF18aaenfaa_20180922_P60_v1_3.png</td><td>snidfits_emclip_ZTF18aaenfaa_20180922_P60_v1_4.png</td><td>0.073</td><td>0.002</td></tr>\n",
       "<tr><td>ZTF18aaenucd_20190315_P200_v1</td><td>ZTF18aaenucd</td><td>snidfits_emclip_ZTF18aaenucd_20190315_P200_v1_0.png</td><td>snidfits_emclip_ZTF18aaenucd_20190315_P200_v1_1.png</td><td>snidfits_emclip_ZTF18aaenucd_20190315_P200_v1_2.png</td><td>snidfits_emclip_ZTF18aaenucd_20190315_P200_v1_3.png</td><td>snidfits_emclip_ZTF18aaenucd_20190315_P200_v1_4.png</td><td>0.567</td><td>0.011</td></tr>\n",
       "<tr><td>ZTF18aaeoiwu_20191019_P60_v1</td><td>ZTF18aaeoiwu</td><td>snidfits_emclip_ZTF18aaeoiwu_20191019_P60_v1_0.png</td><td>snidfits_emclip_ZTF18aaeoiwu_20191019_P60_v1_1.png</td><td>snidfits_emclip_ZTF18aaeoiwu_20191019_P60_v1_2.png</td><td>snidfits_emclip_ZTF18aaeoiwu_20191019_P60_v1_3.png</td><td>snidfits_emclip_ZTF18aaeoiwu_20191019_P60_v1_4.png</td><td>0.63</td><td>0.007</td></tr>\n",
       "<tr><td>ZTF18aaermez_20190212_P200_v1</td><td>ZTF18aaermez</td><td>snidfits_emclip_ZTF18aaermez_20190212_P200_v1_0.png</td><td>snidfits_emclip_ZTF18aaermez_20190212_P200_v1_1.png</td><td>snidfits_emclip_ZTF18aaermez_20190212_P200_v1_2.png</td><td>snidfits_emclip_ZTF18aaermez_20190212_P200_v1_3.png</td><td>snidfits_emclip_ZTF18aaermez_20190212_P200_v1_4.png</td><td>0.023</td><td>0.002</td></tr>\n",
       "<tr><td>ZTF18aaexyql_20191102_P60_v1</td><td>ZTF18aaexyql</td><td>snidfits_emclip_ZTF18aaexyql_20191102_P60_v1_0.png</td><td>snidfits_emclip_ZTF18aaexyql_20191102_P60_v1_1.png</td><td>snidfits_emclip_ZTF18aaexyql_20191102_P60_v1_2.png</td><td>snidfits_emclip_ZTF18aaexyql_20191102_P60_v1_3.png</td><td>snidfits_emclip_ZTF18aaexyql_20191102_P60_v1_4.png</td><td>0.452</td><td>0.011</td></tr>\n",
       "<tr><td>ZTF18aaexyql_20191126_P60_v1</td><td>ZTF18aaexyql</td><td>snidfits_emclip_ZTF18aaexyql_20191126_P60_v1_0.png</td><td>snidfits_emclip_ZTF18aaexyql_20191126_P60_v1_1.png</td><td>snidfits_emclip_ZTF18aaexyql_20191126_P60_v1_2.png</td><td>snidfits_emclip_ZTF18aaexyql_20191126_P60_v1_3.png</td><td>snidfits_emclip_ZTF18aaexyql_20191126_P60_v1_4.png</td><td>0.032</td><td>0.006</td></tr>\n",
       "<tr><td>ZTF18aaexyql_20200101_P200_v1</td><td>ZTF18aaexyql</td><td>snidfits_emclip_ZTF18aaexyql_20200101_P200_v1_0.png</td><td>snidfits_emclip_ZTF18aaexyql_20200101_P200_v1_1.png</td><td>snidfits_emclip_ZTF18aaexyql_20200101_P200_v1_2.png</td><td>snidfits_emclip_ZTF18aaexyql_20200101_P200_v1_3.png</td><td>snidfits_emclip_ZTF18aaexyql_20200101_P200_v1_4.png</td><td>0.029</td><td>0.001</td></tr>\n",
       "</table>"
      ],
      "text/plain": [
       "<Table length=100>\n",
       "         !ZTF_Version            ZTF_Name   ...  z_snid z_snid_err\n",
       "            str64                 str64     ... float64  float64  \n",
       "------------------------------ ------------ ... ------- ----------\n",
       "     AT2018hrg_20181103_P60_v1    AT2018hrg ...   0.007      0.009\n",
       "   SN2017iuk_20181204_Keck1_v1    SN2017iuk ...   0.038      0.003\n",
       "  ZTF17aaajnki_20180320_P60_v1 ZTF17aaajnki ...    -0.0      0.002\n",
       "  ZTF17aaajnki_20180320_P60_v2 ZTF17aaajnki ...    -0.0      0.002\n",
       "  ZTF17aaaobyl_20180826_P60_v2 ZTF17aaaobyl ...   0.002      0.003\n",
       " ZTF17aaapufz_20190304_P200_v1 ZTF17aaapufz ...   0.002      0.001\n",
       "  ZTF17aaaukqn_20180904_P60_v1 ZTF17aaaukqn ...   0.326      0.015\n",
       "  ZTF17aaawgkc_20180822_P60_v1 ZTF17aaawgkc ...   0.274      0.011\n",
       "  ZTF17aaayjzy_20191214_P60_v1 ZTF17aaayjzy ...   0.048      0.001\n",
       "  ZTF17aaazdba_20190224_P60_v1 ZTF17aaazdba ...    0.04      0.011\n",
       "                           ...          ... ...     ...        ...\n",
       "  ZTF18aaegvyd_20190625_P60_v1 ZTF18aaegvyd ...   0.065      0.008\n",
       "ZTF18aaekkoj_20180514_Keck1_v1 ZTF18aaekkoj ...   0.045        0.0\n",
       "  ZTF18aaemivw_20181104_P60_v1 ZTF18aaemivw ...   0.065      0.004\n",
       "  ZTF18aaenfaa_20180922_P60_v1 ZTF18aaenfaa ...   0.073      0.002\n",
       " ZTF18aaenucd_20190315_P200_v1 ZTF18aaenucd ...   0.567      0.011\n",
       "  ZTF18aaeoiwu_20191019_P60_v1 ZTF18aaeoiwu ...    0.63      0.007\n",
       " ZTF18aaermez_20190212_P200_v1 ZTF18aaermez ...   0.023      0.002\n",
       "  ZTF18aaexyql_20191102_P60_v1 ZTF18aaexyql ...   0.452      0.011\n",
       "  ZTF18aaexyql_20191126_P60_v1 ZTF18aaexyql ...   0.032      0.006\n",
       " ZTF18aaexyql_20200101_P200_v1 ZTF18aaexyql ...   0.029      0.001"
      ]
     },
     "execution_count": 25,
     "metadata": {},
     "output_type": "execute_result"
    }
   ],
   "source": [
    "manifest"
   ]
  },
  {
   "cell_type": "code",
   "execution_count": null,
   "metadata": {},
   "outputs": [],
   "source": []
  }
 ],
 "metadata": {
  "kernelspec": {
   "display_name": "Python 3",
   "language": "python",
   "name": "python3"
  },
  "language_info": {
   "codemirror_mode": {
    "name": "ipython",
    "version": 3
   },
   "file_extension": ".py",
   "mimetype": "text/x-python",
   "name": "python",
   "nbconvert_exporter": "python",
   "pygments_lexer": "ipython3",
   "version": "3.7.6"
  }
 },
 "nbformat": 4,
 "nbformat_minor": 4
}
