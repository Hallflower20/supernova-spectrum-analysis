{
 "cells": [
  {
   "cell_type": "code",
   "execution_count": 18,
   "metadata": {},
   "outputs": [],
   "source": [
    "import os\n",
    "import astropy\n",
    "import numpy as np\n",
    "from astropy.table import Table\n",
    "from astropy.table import Column\n",
    "import glob\n",
    "import matplotlib.pyplot as plt\n",
    "import pandas as pd\n",
    "from collections import Counter\n",
    "from mpl_toolkits.mplot3d import Axes3D"
   ]
  },
  {
   "cell_type": "code",
   "execution_count": 19,
   "metadata": {},
   "outputs": [],
   "source": [
    "RedshiftClass = Table.from_pandas(pd.read_csv(\"/home/xhall/Documents/NewZTF/ML_sample_snid200.csv\"))"
   ]
  },
  {
   "cell_type": "code",
   "execution_count": 20,
   "metadata": {},
   "outputs": [],
   "source": [
    "indicies = []\n",
    "taken = []\n",
    "counter = 0\n",
    "for i in RedshiftClass:\n",
    "    if not(\"Ia\" in i[\"c_snid\"] and i[\"c_rlap\"] > 10):\n",
    "        indicies.append(counter)\n",
    "        taken.append(i[\"ZTF_Name\"])\n",
    "    counter+=1"
   ]
  },
  {
   "cell_type": "code",
   "execution_count": 21,
   "metadata": {},
   "outputs": [
    {
     "name": "stdout",
     "output_type": "stream",
     "text": [
      "194\n"
     ]
    },
    {
     "data": {
      "text/plain": [
       "179"
      ]
     },
     "execution_count": 21,
     "metadata": {},
     "output_type": "execute_result"
    }
   ],
   "source": [
    "print(len(RedshiftClass))\n",
    "len(indicies)"
   ]
  },
  {
   "cell_type": "code",
   "execution_count": 22,
   "metadata": {},
   "outputs": [],
   "source": [
    "manifest = Table(\n",
    "        names=(\"!ZTF_Version\", \"!ZTF_Name\", \"#Image0\", \"#Image1\", \"#Image2\", \"#Image3\", \"#Image4\", \"z_snid\", \"z_snid_err\"\n",
    "        ),\n",
    "        meta={\"name\": \"Spectrum Results after SNID\"},\n",
    "        dtype=(\"U64\", \"U64\", \"U64\", \"U64\", \"U64\", \"U64\", \"U64\", \"Float64\", \"Float64\"\n",
    "              )\n",
    "        )"
   ]
  },
  {
   "cell_type": "code",
   "execution_count": 23,
   "metadata": {},
   "outputs": [],
   "source": [
    "for i in RedshiftClass:\n",
    "    row = []\n",
    "    version = i[\"Version\"].split('.')[0]\n",
    "    row.append(version)\n",
    "    row.append(i[\"ZTF_Name\"])\n",
    "    for j in range(1,6):\n",
    "        row.append(\"snidfits_emclip_\" + version + \"_\" + str(j)+\".png\")\n",
    "    row.append(round(i[\"z_snid\"],3))\n",
    "    row.append(round(i[\"z_snid_err\"],3))\n",
    "    manifest.add_row(row)"
   ]
  },
  {
   "cell_type": "code",
   "execution_count": 24,
   "metadata": {},
   "outputs": [],
   "source": [
    "manifest.to_pandas().to_csv(\"/home/xhall/Documents/NewZTF/Images/manifest.csv\", index = False)"
   ]
  },
  {
   "cell_type": "code",
   "execution_count": 26,
   "metadata": {},
   "outputs": [
    {
     "name": "stdout",
     "output_type": "stream",
     "text": [
      "91\n"
     ]
    },
    {
     "data": {
      "text/plain": [
       "91"
      ]
     },
     "execution_count": 26,
     "metadata": {},
     "output_type": "execute_result"
    }
   ],
   "source": [
    "print(len(np.unique(manifest[\"!ZTF_Name\"])))\n",
    "len(np.unique(RedshiftClass[\"ZTF_Name\"]))"
   ]
  },
  {
   "cell_type": "code",
   "execution_count": 27,
   "metadata": {},
   "outputs": [
    {
     "data": {
      "text/html": [
       "<i>Table length=194</i>\n",
       "<table id=\"table139883861736720\" class=\"table-striped table-bordered table-condensed\">\n",
       "<thead><tr><th>!ZTF_Version</th><th>!ZTF_Name</th><th>#Image0</th><th>#Image1</th><th>#Image2</th><th>#Image3</th><th>#Image4</th><th>z_snid</th><th>z_snid_err</th></tr></thead>\n",
       "<thead><tr><th>str64</th><th>str64</th><th>str64</th><th>str64</th><th>str64</th><th>str64</th><th>str64</th><th>float64</th><th>float64</th></tr></thead>\n",
       "<tr><td>AT2018hrg_20181103_P60_v1</td><td>AT2018hrg</td><td>snidfits_emclip_AT2018hrg_20181103_P60_v1_1.png</td><td>snidfits_emclip_AT2018hrg_20181103_P60_v1_2.png</td><td>snidfits_emclip_AT2018hrg_20181103_P60_v1_3.png</td><td>snidfits_emclip_AT2018hrg_20181103_P60_v1_4.png</td><td>snidfits_emclip_AT2018hrg_20181103_P60_v1_5.png</td><td>0.008</td><td>0.009</td></tr>\n",
       "<tr><td>SN2017iuk_20181204_Keck1_v1</td><td>SN2017iuk</td><td>snidfits_emclip_SN2017iuk_20181204_Keck1_v1_1.png</td><td>snidfits_emclip_SN2017iuk_20181204_Keck1_v1_2.png</td><td>snidfits_emclip_SN2017iuk_20181204_Keck1_v1_3.png</td><td>snidfits_emclip_SN2017iuk_20181204_Keck1_v1_4.png</td><td>snidfits_emclip_SN2017iuk_20181204_Keck1_v1_5.png</td><td>0.037</td><td>0.003</td></tr>\n",
       "<tr><td>ZTF17aaajnki_20180320_P60_v1</td><td>ZTF17aaajnki</td><td>snidfits_emclip_ZTF17aaajnki_20180320_P60_v1_1.png</td><td>snidfits_emclip_ZTF17aaajnki_20180320_P60_v1_2.png</td><td>snidfits_emclip_ZTF17aaajnki_20180320_P60_v1_3.png</td><td>snidfits_emclip_ZTF17aaajnki_20180320_P60_v1_4.png</td><td>snidfits_emclip_ZTF17aaajnki_20180320_P60_v1_5.png</td><td>0.0</td><td>0.002</td></tr>\n",
       "<tr><td>ZTF17aaajnki_20180320_P60_v2</td><td>ZTF17aaajnki</td><td>snidfits_emclip_ZTF17aaajnki_20180320_P60_v2_1.png</td><td>snidfits_emclip_ZTF17aaajnki_20180320_P60_v2_2.png</td><td>snidfits_emclip_ZTF17aaajnki_20180320_P60_v2_3.png</td><td>snidfits_emclip_ZTF17aaajnki_20180320_P60_v2_4.png</td><td>snidfits_emclip_ZTF17aaajnki_20180320_P60_v2_5.png</td><td>-0.0</td><td>0.002</td></tr>\n",
       "<tr><td>ZTF17aaaobyl_20180826_P60_v2</td><td>ZTF17aaaobyl</td><td>snidfits_emclip_ZTF17aaaobyl_20180826_P60_v2_1.png</td><td>snidfits_emclip_ZTF17aaaobyl_20180826_P60_v2_2.png</td><td>snidfits_emclip_ZTF17aaaobyl_20180826_P60_v2_3.png</td><td>snidfits_emclip_ZTF17aaaobyl_20180826_P60_v2_4.png</td><td>snidfits_emclip_ZTF17aaaobyl_20180826_P60_v2_5.png</td><td>0.002</td><td>0.002</td></tr>\n",
       "<tr><td>ZTF17aaapufz_20190304_P200_v1</td><td>ZTF17aaapufz</td><td>snidfits_emclip_ZTF17aaapufz_20190304_P200_v1_1.png</td><td>snidfits_emclip_ZTF17aaapufz_20190304_P200_v1_2.png</td><td>snidfits_emclip_ZTF17aaapufz_20190304_P200_v1_3.png</td><td>snidfits_emclip_ZTF17aaapufz_20190304_P200_v1_4.png</td><td>snidfits_emclip_ZTF17aaapufz_20190304_P200_v1_5.png</td><td>0.002</td><td>0.001</td></tr>\n",
       "<tr><td>ZTF17aaaukqn_20180904_P60_v1</td><td>ZTF17aaaukqn</td><td>snidfits_emclip_ZTF17aaaukqn_20180904_P60_v1_1.png</td><td>snidfits_emclip_ZTF17aaaukqn_20180904_P60_v1_2.png</td><td>snidfits_emclip_ZTF17aaaukqn_20180904_P60_v1_3.png</td><td>snidfits_emclip_ZTF17aaaukqn_20180904_P60_v1_4.png</td><td>snidfits_emclip_ZTF17aaaukqn_20180904_P60_v1_5.png</td><td>0.326</td><td>0.015</td></tr>\n",
       "<tr><td>ZTF17aaawgkc_20180822_P60_v1</td><td>ZTF17aaawgkc</td><td>snidfits_emclip_ZTF17aaawgkc_20180822_P60_v1_1.png</td><td>snidfits_emclip_ZTF17aaawgkc_20180822_P60_v1_2.png</td><td>snidfits_emclip_ZTF17aaawgkc_20180822_P60_v1_3.png</td><td>snidfits_emclip_ZTF17aaawgkc_20180822_P60_v1_4.png</td><td>snidfits_emclip_ZTF17aaawgkc_20180822_P60_v1_5.png</td><td>0.274</td><td>0.011</td></tr>\n",
       "<tr><td>ZTF17aaayjzy_20191214_P60_v1</td><td>ZTF17aaayjzy</td><td>snidfits_emclip_ZTF17aaayjzy_20191214_P60_v1_1.png</td><td>snidfits_emclip_ZTF17aaayjzy_20191214_P60_v1_2.png</td><td>snidfits_emclip_ZTF17aaayjzy_20191214_P60_v1_3.png</td><td>snidfits_emclip_ZTF17aaayjzy_20191214_P60_v1_4.png</td><td>snidfits_emclip_ZTF17aaayjzy_20191214_P60_v1_5.png</td><td>0.048</td><td>0.001</td></tr>\n",
       "<tr><td>ZTF17aaazdba_20190224_P60_v1</td><td>ZTF17aaazdba</td><td>snidfits_emclip_ZTF17aaazdba_20190224_P60_v1_1.png</td><td>snidfits_emclip_ZTF17aaazdba_20190224_P60_v1_2.png</td><td>snidfits_emclip_ZTF17aaazdba_20190224_P60_v1_3.png</td><td>snidfits_emclip_ZTF17aaazdba_20190224_P60_v1_4.png</td><td>snidfits_emclip_ZTF17aaazdba_20190224_P60_v1_5.png</td><td>0.04</td><td>0.011</td></tr>\n",
       "<tr><td>...</td><td>...</td><td>...</td><td>...</td><td>...</td><td>...</td><td>...</td><td>...</td><td>...</td></tr>\n",
       "<tr><td>ZTF18aahqkbt_20180513_DCT_v1</td><td>ZTF18aahqkbt</td><td>snidfits_emclip_ZTF18aahqkbt_20180513_DCT_v1_1.png</td><td>snidfits_emclip_ZTF18aahqkbt_20180513_DCT_v1_2.png</td><td>snidfits_emclip_ZTF18aahqkbt_20180513_DCT_v1_3.png</td><td>snidfits_emclip_ZTF18aahqkbt_20180513_DCT_v1_4.png</td><td>snidfits_emclip_ZTF18aahqkbt_20180513_DCT_v1_5.png</td><td>0.313</td><td>0.015</td></tr>\n",
       "<tr><td>ZTF18aahqkbt_20180517_P60_v1</td><td>ZTF18aahqkbt</td><td>snidfits_emclip_ZTF18aahqkbt_20180517_P60_v1_1.png</td><td>snidfits_emclip_ZTF18aahqkbt_20180517_P60_v1_2.png</td><td>snidfits_emclip_ZTF18aahqkbt_20180517_P60_v1_3.png</td><td>snidfits_emclip_ZTF18aahqkbt_20180517_P60_v1_4.png</td><td>snidfits_emclip_ZTF18aahqkbt_20180517_P60_v1_5.png</td><td>0.052</td><td>0.01</td></tr>\n",
       "<tr><td>ZTF18aahqkbt_20180519_DCT_v1</td><td>ZTF18aahqkbt</td><td>snidfits_emclip_ZTF18aahqkbt_20180519_DCT_v1_1.png</td><td>snidfits_emclip_ZTF18aahqkbt_20180519_DCT_v1_2.png</td><td>snidfits_emclip_ZTF18aahqkbt_20180519_DCT_v1_3.png</td><td>snidfits_emclip_ZTF18aahqkbt_20180519_DCT_v1_4.png</td><td>snidfits_emclip_ZTF18aahqkbt_20180519_DCT_v1_5.png</td><td>0.06</td><td>0.008</td></tr>\n",
       "<tr><td>ZTF18aahqkbt_20180520_P60_v1</td><td>ZTF18aahqkbt</td><td>snidfits_emclip_ZTF18aahqkbt_20180520_P60_v1_1.png</td><td>snidfits_emclip_ZTF18aahqkbt_20180520_P60_v1_2.png</td><td>snidfits_emclip_ZTF18aahqkbt_20180520_P60_v1_3.png</td><td>snidfits_emclip_ZTF18aahqkbt_20180520_P60_v1_4.png</td><td>snidfits_emclip_ZTF18aahqkbt_20180520_P60_v1_5.png</td><td>0.282</td><td>0.019</td></tr>\n",
       "<tr><td>ZTF18aahqkbt_20180913_DCT_v1</td><td>ZTF18aahqkbt</td><td>snidfits_emclip_ZTF18aahqkbt_20180913_DCT_v1_1.png</td><td>snidfits_emclip_ZTF18aahqkbt_20180913_DCT_v1_2.png</td><td>snidfits_emclip_ZTF18aahqkbt_20180913_DCT_v1_3.png</td><td>snidfits_emclip_ZTF18aahqkbt_20180913_DCT_v1_4.png</td><td>snidfits_emclip_ZTF18aahqkbt_20180913_DCT_v1_5.png</td><td>0.048</td><td>0.005</td></tr>\n",
       "<tr><td>ZTF18aahqkbt_20191023_DCT_v1</td><td>ZTF18aahqkbt</td><td>snidfits_emclip_ZTF18aahqkbt_20191023_DCT_v1_1.png</td><td>snidfits_emclip_ZTF18aahqkbt_20191023_DCT_v1_2.png</td><td>snidfits_emclip_ZTF18aahqkbt_20191023_DCT_v1_3.png</td><td>snidfits_emclip_ZTF18aahqkbt_20191023_DCT_v1_4.png</td><td>snidfits_emclip_ZTF18aahqkbt_20191023_DCT_v1_5.png</td><td>0.05</td><td>0.003</td></tr>\n",
       "<tr><td>ZTF18aahqmsr_20180426_P60_v1</td><td>ZTF18aahqmsr</td><td>snidfits_emclip_ZTF18aahqmsr_20180426_P60_v1_1.png</td><td>snidfits_emclip_ZTF18aahqmsr_20180426_P60_v1_2.png</td><td>snidfits_emclip_ZTF18aahqmsr_20180426_P60_v1_3.png</td><td>snidfits_emclip_ZTF18aahqmsr_20180426_P60_v1_4.png</td><td>snidfits_emclip_ZTF18aahqmsr_20180426_P60_v1_5.png</td><td>0.06</td><td>0.008</td></tr>\n",
       "<tr><td>ZTF18aahshhp_20200303_P60_v1</td><td>ZTF18aahshhp</td><td>snidfits_emclip_ZTF18aahshhp_20200303_P60_v1_1.png</td><td>snidfits_emclip_ZTF18aahshhp_20200303_P60_v1_2.png</td><td>snidfits_emclip_ZTF18aahshhp_20200303_P60_v1_3.png</td><td>snidfits_emclip_ZTF18aahshhp_20200303_P60_v1_4.png</td><td>snidfits_emclip_ZTF18aahshhp_20200303_P60_v1_5.png</td><td>0.058</td><td>0.007</td></tr>\n",
       "<tr><td>ZTF18aahtjsc_20190401_P60_v1</td><td>ZTF18aahtjsc</td><td>snidfits_emclip_ZTF18aahtjsc_20190401_P60_v1_1.png</td><td>snidfits_emclip_ZTF18aahtjsc_20190401_P60_v1_2.png</td><td>snidfits_emclip_ZTF18aahtjsc_20190401_P60_v1_3.png</td><td>snidfits_emclip_ZTF18aahtjsc_20190401_P60_v1_4.png</td><td>snidfits_emclip_ZTF18aahtjsc_20190401_P60_v1_5.png</td><td>0.059</td><td>0.009</td></tr>\n",
       "<tr><td>ZTF18aahtkze_20180513_DCT_v1</td><td>ZTF18aahtkze</td><td>snidfits_emclip_ZTF18aahtkze_20180513_DCT_v1_1.png</td><td>snidfits_emclip_ZTF18aahtkze_20180513_DCT_v1_2.png</td><td>snidfits_emclip_ZTF18aahtkze_20180513_DCT_v1_3.png</td><td>snidfits_emclip_ZTF18aahtkze_20180513_DCT_v1_4.png</td><td>snidfits_emclip_ZTF18aahtkze_20180513_DCT_v1_5.png</td><td>0.07</td><td>0.001</td></tr>\n",
       "</table>"
      ],
      "text/plain": [
       "<Table length=194>\n",
       "         !ZTF_Version          !ZTF_Name   ...  z_snid z_snid_err\n",
       "            str64                str64     ... float64  float64  \n",
       "----------------------------- ------------ ... ------- ----------\n",
       "    AT2018hrg_20181103_P60_v1    AT2018hrg ...   0.008      0.009\n",
       "  SN2017iuk_20181204_Keck1_v1    SN2017iuk ...   0.037      0.003\n",
       " ZTF17aaajnki_20180320_P60_v1 ZTF17aaajnki ...     0.0      0.002\n",
       " ZTF17aaajnki_20180320_P60_v2 ZTF17aaajnki ...    -0.0      0.002\n",
       " ZTF17aaaobyl_20180826_P60_v2 ZTF17aaaobyl ...   0.002      0.002\n",
       "ZTF17aaapufz_20190304_P200_v1 ZTF17aaapufz ...   0.002      0.001\n",
       " ZTF17aaaukqn_20180904_P60_v1 ZTF17aaaukqn ...   0.326      0.015\n",
       " ZTF17aaawgkc_20180822_P60_v1 ZTF17aaawgkc ...   0.274      0.011\n",
       " ZTF17aaayjzy_20191214_P60_v1 ZTF17aaayjzy ...   0.048      0.001\n",
       " ZTF17aaazdba_20190224_P60_v1 ZTF17aaazdba ...    0.04      0.011\n",
       "                          ...          ... ...     ...        ...\n",
       " ZTF18aahqkbt_20180513_DCT_v1 ZTF18aahqkbt ...   0.313      0.015\n",
       " ZTF18aahqkbt_20180517_P60_v1 ZTF18aahqkbt ...   0.052       0.01\n",
       " ZTF18aahqkbt_20180519_DCT_v1 ZTF18aahqkbt ...    0.06      0.008\n",
       " ZTF18aahqkbt_20180520_P60_v1 ZTF18aahqkbt ...   0.282      0.019\n",
       " ZTF18aahqkbt_20180913_DCT_v1 ZTF18aahqkbt ...   0.048      0.005\n",
       " ZTF18aahqkbt_20191023_DCT_v1 ZTF18aahqkbt ...    0.05      0.003\n",
       " ZTF18aahqmsr_20180426_P60_v1 ZTF18aahqmsr ...    0.06      0.008\n",
       " ZTF18aahshhp_20200303_P60_v1 ZTF18aahshhp ...   0.058      0.007\n",
       " ZTF18aahtjsc_20190401_P60_v1 ZTF18aahtjsc ...   0.059      0.009\n",
       " ZTF18aahtkze_20180513_DCT_v1 ZTF18aahtkze ...    0.07      0.001"
      ]
     },
     "execution_count": 27,
     "metadata": {},
     "output_type": "execute_result"
    }
   ],
   "source": [
    "manifest"
   ]
  },
  {
   "cell_type": "code",
   "execution_count": null,
   "metadata": {},
   "outputs": [],
   "source": []
  }
 ],
 "metadata": {
  "kernelspec": {
   "display_name": "Python 3",
   "language": "python",
   "name": "python3"
  },
  "language_info": {
   "codemirror_mode": {
    "name": "ipython",
    "version": 3
   },
   "file_extension": ".py",
   "mimetype": "text/x-python",
   "name": "python",
   "nbconvert_exporter": "python",
   "pygments_lexer": "ipython3",
   "version": "3.7.6"
  }
 },
 "nbformat": 4,
 "nbformat_minor": 4
}
