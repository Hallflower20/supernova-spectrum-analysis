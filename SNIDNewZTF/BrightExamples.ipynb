{
 "cells": [
  {
   "cell_type": "code",
   "execution_count": 100,
   "metadata": {},
   "outputs": [],
   "source": [
    "import numpy as np\n",
    "import pandas as pd \n",
    "from astropy.io import fits\n",
    "import matplotlib.pyplot as plt\n",
    "from astropy.table import Table\n",
    "import glob\n",
    "import astropy\n",
    "import gc\n",
    "import os\n",
    "import subprocess\n",
    "import shlex\n",
    "\n",
    "%matplotlib inline"
   ]
  },
  {
   "cell_type": "code",
   "execution_count": 94,
   "metadata": {},
   "outputs": [],
   "source": [
    "def run_files(fname, fnamelist, source, item_name):\n",
    "    new_source = source + item_name\n",
    "    if(not(os.path.exists(new_source))):\n",
    "        os.mkdir(new_source)\n",
    "    bashCommand = snid + \" rlapmin=0 verbose=0 plot=0 fluxout=5 \" + fnamelist\n",
    "    process = subprocess.Popen(shlex.split(bashCommand), stdout = subprocess.PIPE, stderr = subprocess.PIPE , cwd=new_source)\n",
    "    output, error = process.communicate()\n",
    "    return output, error, bashCommand"
   ]
  },
  {
   "cell_type": "code",
   "execution_count": 8,
   "metadata": {},
   "outputs": [],
   "source": [
    "typeinfo = [\n",
    "    \"Ia\",\n",
    "    \"Ia-norm\",\n",
    "    \"Ia-91T\",\n",
    "    \"Ia-91bg\",\n",
    "    \"Ia-csm\",\n",
    "    \"Ia-02cx\",\n",
    "    \"Ia-03fg\",\n",
    "    \"Ib\",\n",
    "    \"Ib-norm\",\n",
    "    \"IIb\",\n",
    "    \"Ibn\",\n",
    "    \"Ic\",\n",
    "    \"Ic-norm\",\n",
    "    \"Ic-BL\",\n",
    "    \"Ic-SLSN\",\n",
    "    \"II\",\n",
    "    \"II-norm\",\n",
    "    \"IIn\",\n",
    "    \"NotSN\",\n",
    "    \"AGN\",\n",
    "    \"Gal\",\n",
    "    \"LBV\",\n",
    "    \"M-star\",\n",
    "    \"QSO\",\n",
    "    \"C-star\"\n",
    "]"
   ]
  },
  {
   "cell_type": "code",
   "execution_count": 43,
   "metadata": {},
   "outputs": [],
   "source": [
    "sample = pd.read_hdf(\"/home/xhall/Documents/NewZTF/final_rcf_table.h5\")"
   ]
  },
  {
   "cell_type": "code",
   "execution_count": 16,
   "metadata": {},
   "outputs": [
    {
     "data": {
      "text/html": [
       "&lt;Column name=&apos;sn_type&apos; dtype=&apos;str9&apos; length=19&gt;\n",
       "<table>\n",
       "<tr><td>II</td></tr>\n",
       "<tr><td>II-87A</td></tr>\n",
       "<tr><td>IIb</td></tr>\n",
       "<tr><td>IIn</td></tr>\n",
       "<tr><td>Ia</td></tr>\n",
       "<tr><td>Ia-02cx</td></tr>\n",
       "<tr><td>Ia-91T</td></tr>\n",
       "<tr><td>Ia-91bg</td></tr>\n",
       "<tr><td>Ia-SC</td></tr>\n",
       "<tr><td>Ia-csm</td></tr>\n",
       "<tr><td>Ib</td></tr>\n",
       "<tr><td>Ib/c</td></tr>\n",
       "<tr><td>Ibn</td></tr>\n",
       "<tr><td>Ic</td></tr>\n",
       "<tr><td>Ic-BL</td></tr>\n",
       "<tr><td>Ic-pec</td></tr>\n",
       "<tr><td>SLSN-I</td></tr>\n",
       "<tr><td>SLSN-II</td></tr>\n",
       "<tr><td>ambiguous</td></tr>\n",
       "</table>"
      ],
      "text/plain": [
       "<Column name='sn_type' dtype='str9' length=19>\n",
       "       II\n",
       "   II-87A\n",
       "      IIb\n",
       "      IIn\n",
       "       Ia\n",
       "  Ia-02cx\n",
       "   Ia-91T\n",
       "  Ia-91bg\n",
       "    Ia-SC\n",
       "   Ia-csm\n",
       "       Ib\n",
       "     Ib/c\n",
       "      Ibn\n",
       "       Ic\n",
       "    Ic-BL\n",
       "   Ic-pec\n",
       "   SLSN-I\n",
       "  SLSN-II\n",
       "ambiguous"
      ]
     },
     "execution_count": 16,
     "metadata": {},
     "output_type": "execute_result"
    }
   ],
   "source": [
    "np.unique(sample[\"sn_type\"])"
   ]
  },
  {
   "cell_type": "code",
   "execution_count": 103,
   "metadata": {},
   "outputs": [],
   "source": [
    "best_examples = []\n",
    "for i in np.unique(sample[\"sn_type\"]):\n",
    "    location = sample.iloc[np.where(sample[\"sn_type\"] == i)]\n",
    "    top5 = location.sort_values(\"g_max\", ascending = False).iloc[0:5]\n",
    "    if(len(top5) != 0):\n",
    "        best_examples.append(top5)"
   ]
  },
  {
   "cell_type": "code",
   "execution_count": 104,
   "metadata": {},
   "outputs": [],
   "source": [
    "best_examples_tables = Table.from_pandas(pd.concat(best_examples))"
   ]
  },
  {
   "cell_type": "code",
   "execution_count": 105,
   "metadata": {},
   "outputs": [],
   "source": [
    "SEDM = Table.read(\"/home/xhall/Documents/NewZTF/ML_sample.ascii\", format = \"ascii\")\n",
    "SEDM.rename_column('col1', 'ZTF_Name')\n",
    "SEDM.rename_column('col2', \"Class\")\n",
    "SEDM.rename_column('col8', \"Version\")"
   ]
  },
  {
   "cell_type": "code",
   "execution_count": 106,
   "metadata": {},
   "outputs": [],
   "source": [
    "runlist = (astropy.table.join(best_examples_tables, SEDM))"
   ]
  },
  {
   "cell_type": "code",
   "execution_count": 111,
   "metadata": {},
   "outputs": [],
   "source": [
    "sample_location = \"/home/xhall/Documents/NewZTF/spectra/\"\n",
    "source = \"/home/xhall/Documents/NewZTF/AllBrightTypes/\"\n",
    "snid = \"/home/xhall/Documents/SNID/snid-5.0/snid\""
   ]
  },
  {
   "cell_type": "code",
   "execution_count": 112,
   "metadata": {},
   "outputs": [
    {
     "name": "stdout",
     "output_type": "stream",
     "text": [
      "50\n",
      "100\n",
      "150\n",
      "200\n",
      "200\n"
     ]
    }
   ],
   "source": [
    "error_array = []\n",
    "counter = 0\n",
    "dont_work = 0\n",
    "dont_work_array = []\n",
    "for i in np.unique(runlist[\"Version\"]):\n",
    "    gc.collect()\n",
    "    counter += 1\n",
    "\n",
    "    filenoascii = i.split(\".\")[0]\n",
    "\n",
    "    fnamelist = sample_location + str(i)\n",
    "\n",
    "    outputname = str(filenoascii)\n",
    "\n",
    "    sample_location_temp = sample_location + str(filenoascii)\n",
    "\n",
    "    output, error, bashCommand = run_files(sample_location_temp, fnamelist, source, filenoascii)\n",
    "    if(counter % 50 == 0 and counter != 0):\n",
    "        print(counter)\n",
    "\n",
    "    if(counter % 200 == 0 and counter != 0):\n",
    "        print(counter)\n",
    "        break"
   ]
  },
  {
   "cell_type": "code",
   "execution_count": null,
   "metadata": {},
   "outputs": [],
   "source": []
  }
 ],
 "metadata": {
  "kernelspec": {
   "display_name": "Python 3",
   "language": "python",
   "name": "python3"
  },
  "language_info": {
   "codemirror_mode": {
    "name": "ipython",
    "version": 3
   },
   "file_extension": ".py",
   "mimetype": "text/x-python",
   "name": "python",
   "nbconvert_exporter": "python",
   "pygments_lexer": "ipython3",
   "version": "3.7.6"
  }
 },
 "nbformat": 4,
 "nbformat_minor": 4
}
