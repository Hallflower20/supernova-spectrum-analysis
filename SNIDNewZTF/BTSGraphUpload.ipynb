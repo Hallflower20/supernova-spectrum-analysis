{
 "cells": [
  {
   "cell_type": "code",
   "execution_count": 15,
   "metadata": {},
   "outputs": [],
   "source": [
    "import subprocess\n",
    "import shlex\n",
    "import pandas as pd\n",
    "import numpy as np\n",
    "from astropy.table import Table\n",
    "from astropy.table import Column\n",
    "import os\n",
    "import matplotlib.pyplot as plt\n",
    "from matplotlib.backends.backend_pdf import PdfPages\n",
    "from matplotlib.ticker import MultipleLocator\n",
    "import glob\n",
    "from matplotlib import pyplot\n",
    "import matplotlib.gridspec as gridspec\n",
    "import gc\n",
    "import astropy\n",
    "from scipy import interpolate\n",
    "import pickle\n",
    "from astropy.time import Time"
   ]
  },
  {
   "cell_type": "code",
   "execution_count": 40,
   "metadata": {},
   "outputs": [],
   "source": [
    "basedir = \"/home/xhall/Documents/\"\n",
    "source = basedir + \"NewZTF/sample_2020/SNIDoutput/\"\n",
    "output = basedir + \"NewZTF/sample_2020/BTSoutput/\"\n",
    "\n",
    "sample200 = Table.from_pandas(pd.read_csv(basedir + \"NewZTF/ML_sample_snid200.csv\"))\n",
    "ML_sample_snid_examples = Table.from_pandas(pd.read_csv(basedir + \"NewZTF/ML_sample_snid_brightexamples.csv\"))\n",
    "sample_2018 = Table.from_pandas(pd.read_csv(basedir + \"NewZTF/sample_2018/ML_sample_snid_norepeat_2018.csv\"))\n",
    "sample_2020 = Table.from_pandas(pd.read_csv(\"/home/xhall/Documents/NewZTF/sample_2020/SNID_2020_output.csv\"))\n",
    "sample_remaining = Table.from_pandas(pd.read_csv(\"/home/xhall/Documents/ZTFI/SNID_2020_remaining_output.csv\"))\n",
    "superfit_results = Table.from_pandas(pd.read_csv(\"/home/xhall/Documents/Superfit/superfit_classes_ZTFI.csv\"))\n",
    "a_file = open(\"/home/xhall/Documents/Superfit/short_path_dict.pkl\", \"rb\")\n",
    "short_path_dict = pickle.load(a_file)\n",
    "phase_data = Table.from_pandas(pd.read_csv(\"/home/xhall/Documents/ZTFI/phase.csv\"))"
   ]
  },
  {
   "cell_type": "code",
   "execution_count": 41,
   "metadata": {},
   "outputs": [],
   "source": [
    "joined_table = astropy.table.join(sample_2020, superfit_results)"
   ]
  },
  {
   "cell_type": "code",
   "execution_count": 44,
   "metadata": {},
   "outputs": [
    {
     "data": {
      "text/html": [
       "<i>Row index=0</i>\n",
       "<table id=\"table140178258599056\">\n",
       "<thead><tr><th>Version</th><th>ZTF_Name</th><th>z_sntemplate</th><th>z_rlap</th><th>z_snid</th><th>z_snid_err</th><th>z_level</th><th>rank_1</th><th>sntemplate_1</th><th>rlap_1</th><th>c_snid_1</th><th>z_snid_1</th><th>z_snid_err_1</th><th>age_1</th><th>age_flag_1</th><th>rank_2</th><th>sntemplate_2</th><th>rlap_2</th><th>c_snid_2</th><th>z_snid_2</th><th>z_snid_err_2</th><th>age_2</th><th>age_flag_2</th><th>rank_3</th><th>sntemplate_3</th><th>rlap_3</th><th>c_snid_3</th><th>z_snid_3</th><th>z_snid_err_3</th><th>age_3</th><th>age_flag_3</th><th>rank_4</th><th>sntemplate_4</th><th>rlap_4</th><th>c_snid_4</th><th>z_snid_4</th><th>z_snid_err_4</th><th>age_4</th><th>age_flag_4</th><th>rank_5</th><th>sntemplate_5</th><th>rlap_5</th><th>c_snid_5</th><th>z_snid_5</th><th>z_snid_err_5</th><th>age_5</th><th>age_flag_5</th><th>Resolution</th><th>Superfit_c</th><th>Superfit_z</th><th>Match</th><th>Gal</th><th>Frac(SN)</th><th>Frac(gal)</th><th>Phase</th><th>Av</th></tr></thead>\n",
       "<thead><tr><th>str39</th><th>str12</th><th>str12</th><th>float64</th><th>float64</th><th>float64</th><th>int64</th><th>int64</th><th>str12</th><th>float64</th><th>str7</th><th>float64</th><th>float64</th><th>float64</th><th>int64</th><th>int64</th><th>str12</th><th>float64</th><th>str7</th><th>float64</th><th>float64</th><th>float64</th><th>int64</th><th>int64</th><th>str12</th><th>float64</th><th>str7</th><th>float64</th><th>float64</th><th>float64</th><th>int64</th><th>int64</th><th>str12</th><th>float64</th><th>str7</th><th>float64</th><th>float64</th><th>float64</th><th>int64</th><th>int64</th><th>str12</th><th>float64</th><th>str7</th><th>float64</th><th>float64</th><th>float64</th><th>int64</th><th>str36</th><th>str12</th><th>float64</th><th>str42</th><th>str80</th><th>float64</th><th>float64</th><th>float64</th><th>float64</th></tr></thead>\n",
       "<tr><td>ZTF17aaajnki_20180320_P60_v1.ascii</td><td>ZTF17aaajnki</td><td>kcSB2</td><td>17.99</td><td>-0.0</td><td>0.0015</td><td>1</td><td>1</td><td>kcSB2</td><td>17.99</td><td>Gal</td><td>-0.0</td><td>0.0015</td><td>-99.9</td><td>2</td><td>2</td><td>kcSB1</td><td>17.3</td><td>Gal</td><td>0.0001</td><td>0.0016</td><td>-99.9</td><td>2</td><td>3</td><td>PS1-10bzj</td><td>10.61</td><td>Ic-SLSN</td><td>0.0003</td><td>0.0026</td><td>6.55</td><td>0</td><td>5</td><td>kcSB4</td><td>5.8</td><td>Gal</td><td>-0.0002</td><td>0.0041</td><td>-99.9</td><td>2</td><td>8</td><td>sn07it</td><td>5.28</td><td>II-norm</td><td>0.0007</td><td>0.0051</td><td>191.0</td><td>0</td><td>ZTF17aaajnki_20180320_P60_v1_10</td><td>IIn</td><td>0.001113</td><td>IIn/2010jl/KAST+2455651.6779977</td><td>/mnt/c/Users/20xha/Documents/Caltech/Research/superfit/bank/binnings/10A/gal/SB2</td><td>0.39013362</td><td>0.6098664</td><td>164.178</td><td>1.6</td></tr>\n",
       "</table>"
      ],
      "text/plain": [
       "<Row index=0>\n",
       "             Version                 ZTF_Name   z_sntemplate  z_rlap  z_snid z_snid_err z_level rank_1 sntemplate_1  rlap_1 c_snid_1 z_snid_1 z_snid_err_1  age_1  age_flag_1 rank_2 sntemplate_2  rlap_2 c_snid_2 z_snid_2 z_snid_err_2  age_2  age_flag_2 rank_3 sntemplate_3  rlap_3 c_snid_3 z_snid_3 z_snid_err_3  age_3  age_flag_3 rank_4 sntemplate_4  rlap_4 c_snid_4 z_snid_4 z_snid_err_4  age_4  age_flag_4 rank_5 sntemplate_5  rlap_5 c_snid_5 z_snid_5 z_snid_err_5  age_5  age_flag_5            Resolution           Superfit_c Superfit_z              Match                                                    Gal                                         Frac(SN)  Frac(gal)  Phase     Av  \n",
       "              str39                   str12        str12     float64 float64  float64    int64  int64     str12     float64   str7   float64    float64    float64   int64    int64     str12     float64   str7   float64    float64    float64   int64    int64     str12     float64   str7   float64    float64    float64   int64    int64     str12     float64   str7   float64    float64    float64   int64    int64     str12     float64   str7   float64    float64    float64   int64                 str36                str12     float64                str42                                                   str80                                        float64    float64  float64 float64\n",
       "---------------------------------- ------------ ------------ ------- ------- ---------- ------- ------ ------------ ------- -------- -------- ------------ ------- ---------- ------ ------------ ------- -------- -------- ------------ ------- ---------- ------ ------------ ------- -------- -------- ------------ ------- ---------- ------ ------------ ------- -------- -------- ------------ ------- ---------- ------ ------------ ------- -------- -------- ------------ ------- ---------- ------------------------------- ---------- ---------- ------------------------------- -------------------------------------------------------------------------------- ---------- --------- ------- -------\n",
       "ZTF17aaajnki_20180320_P60_v1.ascii ZTF17aaajnki        kcSB2   17.99    -0.0     0.0015       1      1        kcSB2   17.99      Gal     -0.0       0.0015   -99.9          2      2        kcSB1    17.3      Gal   0.0001       0.0016   -99.9          2      3    PS1-10bzj   10.61  Ic-SLSN   0.0003       0.0026    6.55          0      5        kcSB4     5.8      Gal  -0.0002       0.0041   -99.9          2      8       sn07it    5.28  II-norm   0.0007       0.0051   191.0          0 ZTF17aaajnki_20180320_P60_v1_10        IIn   0.001113 IIn/2010jl/KAST+2455651.6779977 /mnt/c/Users/20xha/Documents/Caltech/Research/superfit/bank/binnings/10A/gal/SB2 0.39013362 0.6098664 164.178     1.6"
      ]
     },
     "execution_count": 44,
     "metadata": {},
     "output_type": "execute_result"
    }
   ],
   "source": [
    "joined_table[0]"
   ]
  },
  {
   "cell_type": "code",
   "execution_count": 49,
   "metadata": {},
   "outputs": [
    {
     "data": {
      "text/html": [
       "<i>Row index=0</i>\n",
       "<table id=\"table140179227546000\">\n",
       "<thead><tr><th>ZTFID</th><th>IAUID</th><th>RA</th><th>Dec</th><th>peakt</th><th>peakfilt</th><th>peakmag</th><th>peakabs</th><th>duration</th><th>rise</th><th>fade</th><th>type</th><th>redshift</th><th>b</th><th>A_V</th></tr></thead>\n",
       "<thead><tr><th>str12</th><th>str10</th><th>str11</th><th>str11</th><th>float64</th><th>str1</th><th>float64</th><th>str6</th><th>str8</th><th>str8</th><th>str8</th><th>str10</th><th>str7</th><th>float64</th><th>float64</th></tr></thead>\n",
       "<tr><td>ZTF18aagstdc</td><td>SN2018apn</td><td>15:50:03.55</td><td>+42:05:18.5</td><td>210.86</td><td>g</td><td>17.2413</td><td>-18.39</td><td>&gt;10.484</td><td>&gt;3.96</td><td>6.524</td><td>SN Ia</td><td>0.03</td><td>50.84684165</td><td>0.055</td></tr>\n",
       "</table>"
      ],
      "text/plain": [
       "<Row index=0>\n",
       "   ZTFID       IAUID        RA         Dec      peakt  peakfilt peakmag peakabs duration  rise  fade  type redshift      b        A_V  \n",
       "   str12       str10      str11       str11    float64   str1   float64   str6    str8    str8  str8 str10   str7     float64   float64\n",
       "------------ --------- ----------- ----------- ------- -------- ------- ------- -------- ----- ----- ----- -------- ----------- -------\n",
       "ZTF18aagstdc SN2018apn 15:50:03.55 +42:05:18.5  210.86        g 17.2413  -18.39  >10.484 >3.96 6.524 SN Ia     0.03 50.84684165   0.055"
      ]
     },
     "execution_count": 49,
     "metadata": {},
     "output_type": "execute_result"
    }
   ],
   "source": [
    "phase_data[0]"
   ]
  },
  {
   "cell_type": "code",
   "execution_count": 45,
   "metadata": {},
   "outputs": [],
   "source": [
    "ZTFid = np.unique(joined_table[\"ZTF_Name\"])"
   ]
  },
  {
   "cell_type": "code",
   "execution_count": null,
   "metadata": {},
   "outputs": [],
   "source": []
  },
  {
   "cell_type": "code",
   "execution_count": 39,
   "metadata": {},
   "outputs": [
    {
     "name": "stdout",
     "output_type": "stream",
     "text": [
      "10\n",
      "20\n",
      "30\n",
      "40\n",
      "50\n",
      "60\n",
      "70\n",
      "80\n",
      "90\n",
      "100\n"
     ]
    }
   ],
   "source": [
    "counter = 0\n",
    "for j in phase_data[\"ZTFID\"][0:100]:\n",
    "    counter += 1\n",
    "    if(counter % 10 == 0):\n",
    "        print(counter)\n",
    "    index = np.where(joined_table[\"ZTF_Name\"] == j)\n",
    "    for i in joined_table[index]:\n",
    "        sn_path = \"/home/xhall/Documents/Superfit/bank/binnings/10A/sne/\" + i[\"Match\"][0:i[\"Match\"].rfind(\"/\")] + \"/\" + short_path_dict[i[\"Match\"]]\n",
    "        gal_path = basedir + \"Superfit/\" +i[\"Gal\"][i[\"Gal\"].rfind(\"bank\")::]\n",
    "        data = Table.read(\"/home/xhall/Documents/NewZTF/spectra_nonan/\" + i[\"Version\"], format = \"ascii\")\n",
    "        \n",
    "        nova = np.loadtxt(sn_path)\n",
    "        host = np.loadtxt(gal_path)\n",
    "        nova[:,1]=nova[:,1]/np.nanmedian(nova[:,1])\n",
    "        host[:,1]=host[:,1]/np.nanmedian(host[:,1])\n",
    "        \n",
    "        lam = np.linspace(max(np.min(host[:,0]),np.min(nova[:,0])),min(np.max(host[:,0]),np.max(nova[:,0])), 10000)\n",
    "        \n",
    "        nova_int = interpolate.interp1d(nova[:,0] , nova[:,1] ,   bounds_error=False, fill_value='nan')\n",
    "\n",
    "        host_int = interpolate.interp1d(host[:,0], host[:,1],   bounds_error=False, fill_value='nan')\n",
    "\n",
    "        host_nova = i[\"Frac(SN)\"]*nova_int(lam) + i[\"Frac(gal)\"]*host_int(lam)\n",
    "        \n",
    "        spectra_name = i[\"Version\"].split(\".\")[0]\n",
    "        z_snid = i[\"z_snid\"]\n",
    "        \n",
    "        source_folder = source + spectra_name\n",
    "        files = np.sort(glob.glob(source_folder+\"/*.dat\"))\n",
    "        \n",
    "        files = np.sort(files)\n",
    "        matches_files = files[0:len(files)-1]\n",
    "        spectra = Table.read(files[-1], format = \"ascii\", names = [\"wavelength\", \"flux\"])\n",
    "        match = Table.read(files[0], format = \"ascii\", names = [\"redshifted_wavelength\", \"flux\"])\n",
    "        \n",
    "        low, high = 5300, 5700\n",
    "\n",
    "        x, y = spectra[\"wavelength\"] / (1 + i[\"z_snid_1\"]), spectra[\"flux\"]\n",
    "        xs, ys = data[\"col1\"] / (1 + i[\"Superfit_z\"]), data[\"col2\"]\n",
    "        ys = ys/np.median(ys[np.where((xs < high) & (xs > low))])\n",
    "        xi, yi = match[\"redshifted_wavelength\"] / (1 + i[\"z_snid_1\"]), match[\"flux\"]\n",
    "        xsi, ysi = lam, host_nova\n",
    "        ysi = ysi/np.median(ysi[np.where((xsi < high) & (xsi > low))])\n",
    "\n",
    "        min_overlap = max(np.min(xsi), np.min(xi))\n",
    "        max_overlap = min(np.max(xsi), np.max(xi))\n",
    "        interp_grid = np.linspace(min_overlap, max_overlap, 10000)\n",
    "        snid_interp = interpolate.interp1d(xi, yi)\n",
    "        supy_interp = interpolate.interp1d(xsi, ysi)\n",
    "        sep_t = np.max(np.abs((supy_interp(interp_grid)) - (snid_interp(interp_grid))))\n",
    "\n",
    "        min_overlap_d = max(np.min(x), np.min(xs))\n",
    "        max_overlap_d = min(np.max(x), np.max(xs))\n",
    "        interp_grid_d = np.linspace(min_overlap_d, max_overlap_d, 10000)\n",
    "        snid_interp_d = interpolate.interp1d(x, y)\n",
    "        supy_interp_d = interpolate.interp1d(xs, ys)\n",
    "        sep_d = np.max(np.abs((supy_interp_d(interp_grid_d)) - (snid_interp_d(interp_grid_d))))\n",
    "\n",
    "        sep = max(sep_d, sep_t)/2\n",
    "\n",
    "        t_max = phase_data[np.where(phase_data[\"ZTFID\"] == i[\"ZTF_Name\"])][\"peakt\"] + 2458000\n",
    "\n",
    "        date_obs = i[\"Version\"].split(\"_\")[1]\n",
    "        astropy_t_obs = Time(date_obs[0:4] + \"-\" + date_obs[4:6] + \"-\" + date_obs[6::])\n",
    "        t_obs = astropy_t_obs.jd\n",
    "        phase_obs_snid = (t_obs-t_max)/(1 + i[\"z_snid_1\"])\n",
    "        phase_obs_superfit = (t_obs-t_max)/(1 + i[\"Superfit_z\"])\n",
    "\n",
    "        fig, ax = plt.subplots(figsize=(8,4.5))\n",
    "\n",
    "        ax.plot(xs,ys + sep,color='#32384D',label='New SN (SNID $\\phi = {:.0f}$)(Superfit $\\phi = {:.0f}$)'.format(phase_obs_snid[0], phase_obs_superfit[0]),alpha=0.5)\n",
    "        ax.plot(x,y- sep,color='#32384D' ,alpha=0.5)\n",
    "        ax.plot(xi,yi - sep,color='#217CA3',label='SNID template (z = {:.3f})($\\phi = {:.0f}$)'.format(i[\"z_snid_1\"], i[\"age_1\"]), lw=3)\n",
    "        ax.plot(xsi,ysi + sep,color='#E29930',label='Superfit template (z = {:.3f})($\\phi = {:.0f}$)'.format(i[\"Superfit_z\"], i[\"Phase\"]), lw=3)\n",
    "\n",
    "        ax.plot(x[-3],y[-3],color='#217CA3', lw=3)\n",
    "        ax.set_xlabel(r'Rest Frame Wavelength ($\\mathrm{\\AA}$)', fontsize=17)\n",
    "        ax.set_ylabel('Relative Flux', fontsize=17)\n",
    "        ax.tick_params(which='both',labelsize=15)\n",
    "\n",
    "        ax.grid(axis='x', color='0.7', ls=':')\n",
    "        ax.xaxis.set_minor_locator(MultipleLocator(250))\n",
    "        ax.set_yticklabels([])\n",
    "\n",
    "        ax.text(0.565, 0.955, 'Superfit type: ',\n",
    "                va='center',\n",
    "                fontsize=15, transform=plt.gcf().transFigure)\n",
    "        ax.text(0.745, 0.955, i[\"Superfit_c\"],\n",
    "                color='#E29930', weight='bold', va='center',\n",
    "                fontsize=23, transform=plt.gcf().transFigure)\n",
    "\n",
    "        ax.text(0.105, 0.955, 'SNID type: ',\n",
    "                va='center',\n",
    "                fontsize=15, transform=plt.gcf().transFigure)\n",
    "        ax.text(0.245, 0.955, i[\"c_snid_1\"],\n",
    "                color='#217CA3', weight='bold', va='center',\n",
    "                fontsize=23, transform=plt.gcf().transFigure)\n",
    "\n",
    "        ax.set_xlim(min(np.min(x),np.min(xs)),max(np.max(x),np.max(xs)))\n",
    "\n",
    "        ax.legend(fancybox=True)\n",
    "        fig.subplots_adjust(left=0.055,right=0.99,top=0.925,bottom=0.145)\n",
    "        \n",
    "        fig.savefig('/home/xhall/Documents/NewZTF/sample_2020/BTSoutput/' + j + '_' + i[\"Version\"] + '.png', dpi = 600)\n",
    "        plt.close(fig)\n",
    "        plt.close()"
   ]
  },
  {
   "cell_type": "code",
   "execution_count": 24,
   "metadata": {},
   "outputs": [
    {
     "data": {
      "text/plain": [
       "(array([], dtype=int64),)"
      ]
     },
     "execution_count": 24,
     "metadata": {},
     "output_type": "execute_result"
    }
   ],
   "source": [
    "np.where(phase_data[\"ZTFID\"] == i[\"ZTF_Name\"])"
   ]
  },
  {
   "cell_type": "code",
   "execution_count": 26,
   "metadata": {},
   "outputs": [
    {
     "data": {
      "text/plain": [
       "'ZTF17aabcpcp'"
      ]
     },
     "execution_count": 26,
     "metadata": {},
     "output_type": "execute_result"
    }
   ],
   "source": [
    "i[\"ZTF_Name\"]"
   ]
  },
  {
   "cell_type": "code",
   "execution_count": 27,
   "metadata": {},
   "outputs": [
    {
     "data": {
      "text/plain": [
       "False"
      ]
     },
     "execution_count": 27,
     "metadata": {},
     "output_type": "execute_result"
    }
   ],
   "source": [
    "i[\"ZTF_Name\"] in phase_data[\"ZTFID\"]"
   ]
  },
  {
   "cell_type": "code",
   "execution_count": 28,
   "metadata": {},
   "outputs": [
    {
     "data": {
      "text/plain": [
       "'ZTF17aabcpcp'"
      ]
     },
     "execution_count": 28,
     "metadata": {},
     "output_type": "execute_result"
    }
   ],
   "source": [
    "i[\"ZTF_Name\"]"
   ]
  },
  {
   "cell_type": "code",
   "execution_count": 31,
   "metadata": {},
   "outputs": [
    {
     "data": {
      "text/plain": [
       "1"
      ]
     },
     "execution_count": 31,
     "metadata": {},
     "output_type": "execute_result"
    }
   ],
   "source": [
    "counter"
   ]
  },
  {
   "cell_type": "code",
   "execution_count": 33,
   "metadata": {},
   "outputs": [
    {
     "name": "stdout",
     "output_type": "stream",
     "text": [
      "ZTF18aaqjcvv\n",
      "ZTF18aarbgdn\n",
      "ZTF18aaphzut\n",
      "ZTF18aahjdnz\n",
      "ZTF18aakqtwt\n",
      "ZTF18aaqfziz\n",
      "ZTF18aamfrvy\n",
      "ZTF18aaripcr\n",
      "ZTF18aabdjmb\n",
      "ZTF18aauuqrh\n"
     ]
    }
   ],
   "source": [
    "for j in phase_data[\"ZTFID\"][0:100]:\n",
    "    if(j not in joined_table[\"ZTF_Name\"]):\n",
    "        print(j)"
   ]
  },
  {
   "cell_type": "code",
   "execution_count": null,
   "metadata": {},
   "outputs": [],
   "source": []
  }
 ],
 "metadata": {
  "kernelspec": {
   "display_name": "Python 3",
   "language": "python",
   "name": "python3"
  },
  "language_info": {
   "codemirror_mode": {
    "name": "ipython",
    "version": 3
   },
   "file_extension": ".py",
   "mimetype": "text/x-python",
   "name": "python",
   "nbconvert_exporter": "python",
   "pygments_lexer": "ipython3",
   "version": "3.7.6"
  }
 },
 "nbformat": 4,
 "nbformat_minor": 4
}
