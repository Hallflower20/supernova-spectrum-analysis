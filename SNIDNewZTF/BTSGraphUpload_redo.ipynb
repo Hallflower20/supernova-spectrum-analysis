{
 "cells": [
  {
   "cell_type": "code",
   "execution_count": 1,
   "metadata": {},
   "outputs": [],
   "source": [
    "import subprocess\n",
    "import shlex\n",
    "import pandas as pd\n",
    "import numpy as np\n",
    "from astropy.table import Table\n",
    "from astropy.table import Column\n",
    "import os\n",
    "import matplotlib.pyplot as plt\n",
    "from matplotlib.backends.backend_pdf import PdfPages\n",
    "from matplotlib.ticker import MultipleLocator\n",
    "import glob\n",
    "from matplotlib import pyplot\n",
    "import matplotlib.gridspec as gridspec\n",
    "import gc\n",
    "import astropy\n",
    "from scipy import interpolate\n",
    "import pickle\n",
    "from astropy.time import Time"
   ]
  },
  {
   "cell_type": "code",
   "execution_count": 2,
   "metadata": {},
   "outputs": [],
   "source": [
    "basedir = \"/home/xhall/Documents/\"\n",
    "source = basedir + \"NewZTF/sample_2020/SNIDoutput/\"\n",
    "source2 = \"/home/xhall/Documents/ZTFI/remaining_output/\"\n",
    "output = basedir + \"ZTFI/BTS_all_output/\"\n",
    "\n",
    "sample200 = Table.from_pandas(pd.read_csv(basedir + \"NewZTF/ML_sample_snid200.csv\"))\n",
    "ML_sample_snid_examples = Table.from_pandas(pd.read_csv(basedir + \"NewZTF/ML_sample_snid_brightexamples.csv\"))\n",
    "sample_2018 = Table.from_pandas(pd.read_csv(basedir + \"NewZTF/sample_2018/ML_sample_snid_norepeat_2018.csv\"))\n",
    "sample_2020 = Table.from_pandas(pd.read_csv(\"/home/xhall/Documents/NewZTF/sample_2020/SNID_2020_output.csv\"))\n",
    "sample_remaining = Table.from_pandas(pd.read_csv(\"/home/xhall/Documents/ZTFI/SNID_2020_remaining_output.csv\"))\n",
    "#superfit_results = Table.from_pandas(pd.read_csv(\"/home/xhall/Documents/Superfit/superfit_classes_ZTFI.csv\"))\n",
    "a_file = open(\"/home/xhall/Documents/Superfit/short_path_dict.pkl\", \"rb\")\n",
    "short_path_dict = pickle.load(a_file)\n",
    "phase_data = Table.from_pandas(pd.read_csv(\"/home/xhall/Documents/ZTFI/phase.csv\"))"
   ]
  },
  {
   "cell_type": "code",
   "execution_count": 3,
   "metadata": {},
   "outputs": [],
   "source": [
    "final_rcf_table = Table.from_pandas(pd.read_hdf(r\"/home/xhall/Documents/NewZTF/final_rcf_table.h5\"))"
   ]
  },
  {
   "cell_type": "code",
   "execution_count": 4,
   "metadata": {},
   "outputs": [],
   "source": [
    "superfit_results = Table.from_pandas(pd.read_csv(\"/home/xhall/Documents/ZTFI/CSV_results/superfit_classes_ZTFI.csv\"))\n",
    "ztfI_table_snid = Table.from_pandas(pd.read_csv(\"/home/xhall/Documents/ZTFI/CSV_results/snid_classes_ZTFI.csv\"))"
   ]
  },
  {
   "cell_type": "code",
   "execution_count": 5,
   "metadata": {},
   "outputs": [],
   "source": [
    "superfit_replacements = Table.from_pandas(pd.read_csv(\"superfit_classes_ZTFI_missing.csv\"))"
   ]
  },
  {
   "cell_type": "code",
   "execution_count": 6,
   "metadata": {},
   "outputs": [],
   "source": [
    "joined_table_right = []\n",
    "counter = 0\n",
    "for i in ztfI_table_snid[\"ZTF_Name\"]:\n",
    "    if(i not in final_rcf_table[\"ZTF_Name\"]):\n",
    "        joined_table_right.append(counter)\n",
    "    counter += 1"
   ]
  },
  {
   "cell_type": "code",
   "execution_count": 7,
   "metadata": {},
   "outputs": [
    {
     "data": {
      "text/html": [
       "<i>Table length=232</i>\n",
       "<table id=\"table140304516918608\" class=\"table-striped table-bordered table-condensed\">\n",
       "<thead><tr><th>Version</th><th>Resolution</th><th>Superfit_c</th><th>Superfit_z</th><th>Match</th><th>Gal</th><th>Frac(SN)</th><th>Frac(gal)</th><th>Phase</th><th>Av</th></tr></thead>\n",
       "<thead><tr><th>str39</th><th>str42</th><th>str18</th><th>float64</th><th>str55</th><th>str3</th><th>float64</th><th>float64</th><th>str7</th><th>float64</th></tr></thead>\n",
       "<tr><td>ZTF18aaaibml_20200214_P200_v1.ascii</td><td>binnings/ZTF18aaaibml_20200214_P200_v1</td><td>II-flash</td><td>0.0348</td><td>II-flash/iPTF15crj_early/ALFOSC phase-band : u-</td><td>SB3</td><td>0.43786549999999996</td><td>0.5621345</td><td>u</td><td>-0.2</td></tr>\n",
       "<tr><td>ZTF18aabybkt_20180309_P60_v1.ascii</td><td>binnings/ZTF18aabybkt_20180309_P60_v1</td><td>II-flash</td><td>0.007619</td><td>II-flash/iPTF15crj_early/GMOS phase-band : u-</td><td>SB1</td><td>0.8830676</td><td>0.11693242</td><td>u</td><td>1.6</td></tr>\n",
       "<tr><td>ZTF18aaexyql_20200124_Keck1_v1.ascii</td><td>binnings/ZTF18aaexyql_20200124_Keck1_v1</td><td>II</td><td>0.03</td><td>II/iPTF15crj/DBSP phase-band : u-</td><td>Sc</td><td>0.23081067</td><td>0.7691893</td><td>u</td><td>1.4</td></tr>\n",
       "<tr><td>ZTF18aahatvc_20200522_P60_v1.ascii</td><td>binnings/ZTF18aahatvc_20200522_P60_v1</td><td>Ia-CSM</td><td>0.08169</td><td>Ia-CSM/2016iks/EFOSC2-NTT phase-band : u-</td><td>Sc</td><td>0.9443309999999999</td><td>0.05566904</td><td>u</td><td>-2.0</td></tr>\n",
       "<tr><td>ZTF18aahmhxu_20180717_P200_v1.ascii</td><td>binnings/ZTF18aahmhxu_20180717_P200_v1</td><td>SLSN-IIn</td><td>0.16699999999999998</td><td>SLSN-IIn/PTF10jwd/LRIS phase-band : u-</td><td>Sa</td><td>0.8891824</td><td>0.110817604</td><td>u</td><td>-0.8</td></tr>\n",
       "<tr><td>ZTF18aahqkbt_20180520_P60_v1.ascii</td><td>binnings/ZTF18aahqkbt_20180520_P60_v1</td><td>II-flash</td><td>0.05355</td><td>II-flash/iPTF15crj_early/GMOS phase-band : u-</td><td>Sc</td><td>0.89702946</td><td>0.10297056</td><td>u</td><td>-2.0</td></tr>\n",
       "<tr><td>ZTF18aaisyyp_20190403_Keck1_v1.ascii</td><td>binnings/ZTF18aaisyyp_20190403_Keck1_v1</td><td>SLSN-I</td><td>0.132</td><td>SLSN-I/PTF10nmn/LRIS phase-band : u-</td><td>SB2</td><td>0.5807971</td><td>0.41920292</td><td>u</td><td>2.0</td></tr>\n",
       "<tr><td>ZTF18aaizerg_20200114_P60_v1.ascii</td><td>binnings/ZTF18aaizerg_20200114_P60_v1</td><td>Ia-CSM</td><td>0.0667875</td><td>Ia-CSM/2019fcg/EFOSC2-NTT phase-band : u-</td><td>Sc</td><td>0.9905951999999999</td><td>0.009404758000000001</td><td>u</td><td>-2.0</td></tr>\n",
       "<tr><td>ZTF18aajqcue_20190104_Keck1_v1.ascii</td><td>binnings/ZTF18aajqcue_20190104_Keck1_v1</td><td>Ca-Ib</td><td>0.069825</td><td>Ca-Ib/iPTF15eqv/MMT-Blue phase-band : u-</td><td>Sb</td><td>0.031818226</td><td>0.9681818000000001</td><td>u</td><td>2.0</td></tr>\n",
       "<tr><td>ZTF18aajtlbf_20180420_P200_v1.ascii</td><td>binnings/ZTF18aajtlbf_20180420_P200_v1</td><td>Ia 91bg-like</td><td>0.0273</td><td>Ia 91bg-like/2015ac/KAST phase-band : u-</td><td>SB2</td><td>0.7801168</td><td>0.21988322</td><td>u</td><td>1.2</td></tr>\n",
       "<tr><td>...</td><td>...</td><td>...</td><td>...</td><td>...</td><td>...</td><td>...</td><td>...</td><td>...</td><td>...</td></tr>\n",
       "<tr><td>ZTF20aciievv_20201109_NOT_v1.ascii</td><td>binnings/ZTF20aciievv_20201109_NOT_v1</td><td>Ia 91T-like</td><td>0.006825</td><td>Ia 91T-like/2018hfr/KAST phase-band : u-</td><td>SB3</td><td>0.8922056</td><td>0.10779443</td><td>u</td><td>1.8</td></tr>\n",
       "<tr><td>ZTF20acjeflr_20201030_P60_v1.ascii</td><td>binnings/ZTF20acjeflr_20201030_P60_v1</td><td>II-flash</td><td>0.0304</td><td>II-flash/iPTF15crj_early/GMOS phase-band : u-</td><td>SB3</td><td>0.93755114</td><td>0.062448844</td><td>u</td><td>-1.2</td></tr>\n",
       "<tr><td>ZTF20acjeflr_20201124_P60_v1.ascii</td><td>binnings/ZTF20acjeflr_20201124_P60_v1</td><td>Ia-CSM</td><td>0.0304</td><td>Ia-CSM/2019fcg/EFOSC2-NTT phase-band : u-</td><td>SB6</td><td>0.9264882</td><td>0.07351175</td><td>u</td><td>-0.4</td></tr>\n",
       "<tr><td>ZTF20acjetyf_20201029_P60_v2.ascii</td><td>binnings/ZTF20acjetyf_20201029_P60_v2</td><td>Ia-CSM</td><td>0.03465</td><td>Ia-CSM/2019fcg/EFOSC2-NTT phase-band : u-</td><td>Sc</td><td>0.9393935</td><td>0.060606465</td><td>u</td><td>-1.8</td></tr>\n",
       "<tr><td>ZTF20aclggpx_20201029_NTT_v1.ascii</td><td>binnings/ZTF20aclggpx_20201029_NTT_v1</td><td>SLSN-I</td><td>0.0741</td><td>SLSN-I/PTF10aagc/LRIS phase-band : u-</td><td>S0</td><td>0.88564754</td><td>0.11435246</td><td>u</td><td>-1.6</td></tr>\n",
       "<tr><td>ZTF20acnwjwp_20201104_P60_v1.ascii</td><td>binnings/ZTF20acnwjwp_20201104_P60_v1</td><td>SLSN-I</td><td>0.076</td><td>SLSN-I/PTF10aagc/LRIS phase-band : u-</td><td>Sa</td><td>0.9014833000000001</td><td>0.09851669</td><td>u</td><td>-1.2</td></tr>\n",
       "<tr><td>ZTF20acplhku_20201116_P60_v1.ascii</td><td>binnings/ZTF20acplhku_20201116_P60_v1</td><td>SLSN-I</td><td>0.07400000000000001</td><td>SLSN-I/PTF10aagc/LRIS phase-band : u-</td><td>Sb</td><td>0.94945824</td><td>0.05054178</td><td>u</td><td>-2.0</td></tr>\n",
       "<tr><td>ZTF20acvchhw_20210114_Keck1_v1.ascii</td><td>binnings/ZTF20acvchhw_20210114_Keck1_v1</td><td>Ia-norm</td><td>0.04715</td><td>Ia-norm/2012cu/KAST phase-band : u-</td><td>E</td><td>0.6258366</td><td>0.37416336</td><td>u</td><td>1.6</td></tr>\n",
       "<tr><td>ZTF21aapehpx_20210416_NOT_v1.ascii</td><td>binnings/ZTF21aapehpx_20210416_NOT_v1</td><td>Ia 91bg-like</td><td>0.03315</td><td>Ia 91bg-like/2015ac/KAST phase-band : u-</td><td>S0</td><td>0.99128544</td><td>0.00871453</td><td>u</td><td>-0.6</td></tr>\n",
       "<tr><td>ZTF21aavuqzr_20210511_NOT_v1.ascii</td><td>binnings/ZTF21aavuqzr_20210511_NOT_v1</td><td>Ia-CSM</td><td>0.1013</td><td>Ia-CSM/2019fcg/EFOSC2-NTT phase-band : u-</td><td>Sb</td><td>0.84652853</td><td>0.15347149999999998</td><td>u</td><td>2.0</td></tr>\n",
       "</table>"
      ],
      "text/plain": [
       "<Table length=232>\n",
       "              Version                ...    Av  \n",
       "               str39                 ... float64\n",
       "------------------------------------ ... -------\n",
       " ZTF18aaaibml_20200214_P200_v1.ascii ...    -0.2\n",
       "  ZTF18aabybkt_20180309_P60_v1.ascii ...     1.6\n",
       "ZTF18aaexyql_20200124_Keck1_v1.ascii ...     1.4\n",
       "  ZTF18aahatvc_20200522_P60_v1.ascii ...    -2.0\n",
       " ZTF18aahmhxu_20180717_P200_v1.ascii ...    -0.8\n",
       "  ZTF18aahqkbt_20180520_P60_v1.ascii ...    -2.0\n",
       "ZTF18aaisyyp_20190403_Keck1_v1.ascii ...     2.0\n",
       "  ZTF18aaizerg_20200114_P60_v1.ascii ...    -2.0\n",
       "ZTF18aajqcue_20190104_Keck1_v1.ascii ...     2.0\n",
       " ZTF18aajtlbf_20180420_P200_v1.ascii ...     1.2\n",
       "                                 ... ...     ...\n",
       "  ZTF20aciievv_20201109_NOT_v1.ascii ...     1.8\n",
       "  ZTF20acjeflr_20201030_P60_v1.ascii ...    -1.2\n",
       "  ZTF20acjeflr_20201124_P60_v1.ascii ...    -0.4\n",
       "  ZTF20acjetyf_20201029_P60_v2.ascii ...    -1.8\n",
       "  ZTF20aclggpx_20201029_NTT_v1.ascii ...    -1.6\n",
       "  ZTF20acnwjwp_20201104_P60_v1.ascii ...    -1.2\n",
       "  ZTF20acplhku_20201116_P60_v1.ascii ...    -2.0\n",
       "ZTF20acvchhw_20210114_Keck1_v1.ascii ...     1.6\n",
       "  ZTF21aapehpx_20210416_NOT_v1.ascii ...    -0.6\n",
       "  ZTF21aavuqzr_20210511_NOT_v1.ascii ...     2.0"
      ]
     },
     "execution_count": 7,
     "metadata": {},
     "output_type": "execute_result"
    }
   ],
   "source": [
    "superfit_replacements[np.where(superfit_replacements[\"Phase\"] == \"u\")]"
   ]
  },
  {
   "cell_type": "code",
   "execution_count": 8,
   "metadata": {},
   "outputs": [],
   "source": [
    "ztfI_table_snid_no2018 = ztfI_table_snid[joined_table_right]"
   ]
  },
  {
   "cell_type": "code",
   "execution_count": 9,
   "metadata": {},
   "outputs": [],
   "source": [
    "joined_table = astropy.table.join(ztfI_table_snid_no2018, superfit_results)"
   ]
  },
  {
   "cell_type": "code",
   "execution_count": 10,
   "metadata": {},
   "outputs": [],
   "source": [
    "joined_table.to_pandas().to_csv(\"/home/xhall/Documents/ZTFI/CSV_results/superfit_snid_ZTFI_no2018.csv\", index = False)"
   ]
  },
  {
   "cell_type": "code",
   "execution_count": 11,
   "metadata": {},
   "outputs": [
    {
     "data": {
      "text/html": [
       "<i>Table length=0</i>\n",
       "<table id=\"table140304431974096\" class=\"table-striped table-bordered table-condensed\">\n",
       "<thead><tr><th>Version</th><th>ZTF_Name</th><th>z_sntemplate</th><th>z_rlap</th><th>z_snid</th><th>z_snid_err</th><th>z_level</th><th>rank_1</th><th>sntemplate_1</th><th>rlap_1</th><th>c_snid_1</th><th>z_snid_1</th><th>z_snid_err_1</th><th>age_1</th><th>age_flag_1</th><th>rank_2</th><th>sntemplate_2</th><th>rlap_2</th><th>c_snid_2</th><th>z_snid_2</th><th>z_snid_err_2</th><th>age_2</th><th>age_flag_2</th><th>rank_3</th><th>sntemplate_3</th><th>rlap_3</th><th>c_snid_3</th><th>z_snid_3</th><th>z_snid_err_3</th><th>age_3</th><th>age_flag_3</th><th>rank_4</th><th>sntemplate_4</th><th>rlap_4</th><th>c_snid_4</th><th>z_snid_4</th><th>z_snid_err_4</th><th>age_4</th><th>age_flag_4</th><th>rank_5</th><th>sntemplate_5</th><th>rlap_5</th><th>c_snid_5</th><th>z_snid_5</th><th>z_snid_err_5</th><th>age_5</th><th>age_flag_5</th><th>TNS_Name</th><th>discovered_by</th><th>tns_internal_name</th><th>RA_sn</th><th>Dec_sn</th><th>sn_type</th><th>z_sn</th><th>g_jd_max</th><th>g_max</th><th>g_unc_max</th><th>r_jd_max</th><th>r_max</th><th>r_unc_max</th><th>ebv</th><th>host_name_PS1</th><th>RA_host_PS1</th><th>Dec_host_PS1</th><th>z_host</th><th>sep</th><th>projected_kpc</th><th>gKron_PS1</th><th>rKron_PS1</th><th>iKron_PS1</th><th>zKron_PS1</th><th>yKron_PS1</th><th>w1_host</th><th>w2_host</th><th>ebv_host</th></tr></thead>\n",
       "<thead><tr><th>str39</th><th>str12</th><th>str12</th><th>float64</th><th>float64</th><th>float64</th><th>int64</th><th>int64</th><th>str12</th><th>float64</th><th>str7</th><th>float64</th><th>float64</th><th>float64</th><th>int64</th><th>int64</th><th>str12</th><th>float64</th><th>str7</th><th>float64</th><th>float64</th><th>float64</th><th>int64</th><th>int64</th><th>str12</th><th>float64</th><th>str7</th><th>float64</th><th>float64</th><th>float64</th><th>int64</th><th>int64</th><th>str12</th><th>float64</th><th>str7</th><th>float64</th><th>float64</th><th>float64</th><th>int64</th><th>int64</th><th>str12</th><th>float64</th><th>str7</th><th>float64</th><th>float64</th><th>float64</th><th>int64</th><th>str9</th><th>str13</th><th>str29</th><th>float64</th><th>float64</th><th>str9</th><th>float64</th><th>float64</th><th>float64</th><th>float64</th><th>float64</th><th>float64</th><th>float64</th><th>float64</th><th>str21</th><th>float64</th><th>float64</th><th>float64</th><th>float64</th><th>float64</th><th>float64</th><th>float64</th><th>float64</th><th>float64</th><th>float64</th><th>float64</th><th>float64</th><th>float64</th></tr></thead>\n",
       "</table>"
      ],
      "text/plain": [
       "<Table length=0>\n",
       "Version ZTF_Name z_sntemplate  z_rlap ... yKron_PS1 w1_host w2_host ebv_host\n",
       " str39   str12      str12     float64 ...  float64  float64 float64 float64 \n",
       "------- -------- ------------ ------- ... --------- ------- ------- --------"
      ]
     },
     "execution_count": 11,
     "metadata": {},
     "output_type": "execute_result"
    }
   ],
   "source": [
    "astropy.table.join(ztfI_table_snid_no2018, final_rcf_table)"
   ]
  },
  {
   "cell_type": "code",
   "execution_count": 12,
   "metadata": {},
   "outputs": [],
   "source": [
    "i = joined_table[joined_table[\"Phase\"] > 50000][26]"
   ]
  },
  {
   "cell_type": "code",
   "execution_count": 13,
   "metadata": {},
   "outputs": [
    {
     "data": {
      "text/plain": [
       "'u'"
      ]
     },
     "execution_count": 13,
     "metadata": {},
     "output_type": "execute_result"
    }
   ],
   "source": [
    "if(i[\"Version\"] in superfit_replacements[\"Version\"]):\n",
    "    superfit_phase = superfit_replacements[np.where(i[\"Version\"] == superfit_replacements[\"Version\"])[0]][\"Phase\"][0]\n",
    "else:\n",
    "    superfit_phase = i[\"Phase\"]\n",
    "superfit_phase"
   ]
  },
  {
   "cell_type": "code",
   "execution_count": 14,
   "metadata": {},
   "outputs": [
    {
     "data": {
      "text/plain": [
       "(array([], dtype=int64),)"
      ]
     },
     "execution_count": 14,
     "metadata": {},
     "output_type": "execute_result"
    }
   ],
   "source": [
    "np.where(\"binnings/ZTF18aaaibml_20200214_P200.ascii\" == superfit_replacements[\"Version\"])"
   ]
  },
  {
   "cell_type": "code",
   "execution_count": 15,
   "metadata": {},
   "outputs": [
    {
     "data": {
      "text/plain": [
       "(array([6084]),)"
      ]
     },
     "execution_count": 15,
     "metadata": {},
     "output_type": "execute_result"
    }
   ],
   "source": [
    "np.where(joined_table[\"Version\"] == \"ZTF21aajgdeu_20210224_LT_v1.ascii\")"
   ]
  },
  {
   "cell_type": "code",
   "execution_count": 16,
   "metadata": {},
   "outputs": [
    {
     "data": {
      "text/html": [
       "<i>Row index=26</i>\n",
       "<table id=\"table140304502673744\">\n",
       "<thead><tr><th>Version</th><th>ZTF_Name</th><th>z_sntemplate</th><th>z_rlap</th><th>z_snid</th><th>z_snid_err</th><th>z_level</th><th>rank_1</th><th>sntemplate_1</th><th>rlap_1</th><th>c_snid_1</th><th>z_snid_1</th><th>z_snid_err_1</th><th>age_1</th><th>age_flag_1</th><th>rank_2</th><th>sntemplate_2</th><th>rlap_2</th><th>c_snid_2</th><th>z_snid_2</th><th>z_snid_err_2</th><th>age_2</th><th>age_flag_2</th><th>rank_3</th><th>sntemplate_3</th><th>rlap_3</th><th>c_snid_3</th><th>z_snid_3</th><th>z_snid_err_3</th><th>age_3</th><th>age_flag_3</th><th>rank_4</th><th>sntemplate_4</th><th>rlap_4</th><th>c_snid_4</th><th>z_snid_4</th><th>z_snid_err_4</th><th>age_4</th><th>age_flag_4</th><th>rank_5</th><th>sntemplate_5</th><th>rlap_5</th><th>c_snid_5</th><th>z_snid_5</th><th>z_snid_err_5</th><th>age_5</th><th>age_flag_5</th><th>Resolution</th><th>Superfit_c</th><th>Superfit_z</th><th>Match</th><th>Gal</th><th>Frac(SN)</th><th>Frac(gal)</th><th>Phase</th><th>Av</th></tr></thead>\n",
       "<thead><tr><th>str39</th><th>str12</th><th>str12</th><th>float64</th><th>float64</th><th>float64</th><th>int64</th><th>int64</th><th>str12</th><th>float64</th><th>str7</th><th>float64</th><th>float64</th><th>float64</th><th>int64</th><th>int64</th><th>str12</th><th>float64</th><th>str7</th><th>float64</th><th>float64</th><th>float64</th><th>int64</th><th>int64</th><th>str12</th><th>float64</th><th>str7</th><th>float64</th><th>float64</th><th>float64</th><th>int64</th><th>int64</th><th>str12</th><th>float64</th><th>str7</th><th>float64</th><th>float64</th><th>float64</th><th>int64</th><th>int64</th><th>str12</th><th>float64</th><th>str7</th><th>float64</th><th>float64</th><th>float64</th><th>int64</th><th>str36</th><th>str18</th><th>float64</th><th>str52</th><th>str80</th><th>float64</th><th>float64</th><th>float64</th><th>float64</th></tr></thead>\n",
       "<tr><td>ZTF18abvgjyv_20181201_Keck1_v1.ascii</td><td>ZTF18abvgjyv</td><td>sn1997X</td><td>7.84</td><td>0.5239</td><td>0.008</td><td>0</td><td>1</td><td>sn1997X</td><td>7.84</td><td>Ib-norm</td><td>0.5239</td><td>0.008</td><td>2.0</td><td>1</td><td>2</td><td>sn2007fb</td><td>7.7</td><td>Ia-norm</td><td>0.5092</td><td>0.0078</td><td>99.8</td><td>0</td><td>3</td><td>sn1991N</td><td>7.3</td><td>Ic-norm</td><td>0.5108</td><td>0.0101</td><td>0.0</td><td>1</td><td>4</td><td>sn1991M</td><td>7.3</td><td>Ia-norm</td><td>0.4986</td><td>0.008</td><td>80.0</td><td>0</td><td>7</td><td>sn1984L</td><td>7.12</td><td>Ib-norm</td><td>0.512</td><td>0.0092</td><td>8.0</td><td>0</td><td>ZTF18abvgjyv_20181201_Keck1_v1_10</td><td>II</td><td>0.06416000000000001</td><td>II/iPTF15crj/FLOYDS-N+2457288.7627315</td><td>/mnt/c/Users/20xha/Documents/Caltech/Research/superfit/bank/binnings/10A/gal/SB2</td><td>0.94355994</td><td>0.05644008</td><td>57289.26</td><td>-0.6</td></tr>\n",
       "</table>"
      ],
      "text/plain": [
       "<Row index=26>\n",
       "              Version                  ZTF_Name   z_sntemplate  z_rlap  z_snid z_snid_err z_level rank_1 sntemplate_1  rlap_1 c_snid_1 z_snid_1 z_snid_err_1  age_1  age_flag_1 rank_2 sntemplate_2  rlap_2 c_snid_2 z_snid_2 z_snid_err_2  age_2  age_flag_2 rank_3 sntemplate_3  rlap_3 c_snid_3 z_snid_3 z_snid_err_3  age_3  age_flag_3 rank_4 sntemplate_4  rlap_4 c_snid_4 z_snid_4 z_snid_err_4  age_4  age_flag_4 rank_5 sntemplate_5  rlap_5 c_snid_5 z_snid_5 z_snid_err_5  age_5  age_flag_5             Resolution            Superfit_c      Superfit_z                     Match                                                       Gal                                         Frac(SN)  Frac(gal)   Phase      Av  \n",
       "               str39                    str12        str12     float64 float64  float64    int64  int64     str12     float64   str7   float64    float64    float64   int64    int64     str12     float64   str7   float64    float64    float64   int64    int64     str12     float64   str7   float64    float64    float64   int64    int64     str12     float64   str7   float64    float64    float64   int64    int64     str12     float64   str7   float64    float64    float64   int64                  str36                 str18          float64                       str52                                                      str80                                        float64    float64   float64  float64\n",
       "------------------------------------ ------------ ------------ ------- ------- ---------- ------- ------ ------------ ------- -------- -------- ------------ ------- ---------- ------ ------------ ------- -------- -------- ------------ ------- ---------- ------ ------------ ------- -------- -------- ------------ ------- ---------- ------ ------------ ------- -------- -------- ------------ ------- ---------- ------ ------------ ------- -------- -------- ------------ ------- ---------- --------------------------------- ---------- ------------------- ------------------------------------- -------------------------------------------------------------------------------- ---------- ---------- -------- -------\n",
       "ZTF18abvgjyv_20181201_Keck1_v1.ascii ZTF18abvgjyv      sn1997X    7.84  0.5239      0.008       0      1      sn1997X    7.84  Ib-norm   0.5239        0.008     2.0          1      2     sn2007fb     7.7  Ia-norm   0.5092       0.0078    99.8          0      3      sn1991N     7.3  Ic-norm   0.5108       0.0101     0.0          1      4      sn1991M     7.3  Ia-norm   0.4986        0.008    80.0          0      7      sn1984L    7.12  Ib-norm    0.512       0.0092     8.0          0 ZTF18abvgjyv_20181201_Keck1_v1_10         II 0.06416000000000001 II/iPTF15crj/FLOYDS-N+2457288.7627315 /mnt/c/Users/20xha/Documents/Caltech/Research/superfit/bank/binnings/10A/gal/SB2 0.94355994 0.05644008 57289.26    -0.6"
      ]
     },
     "execution_count": 16,
     "metadata": {},
     "output_type": "execute_result"
    }
   ],
   "source": [
    "i"
   ]
  },
  {
   "cell_type": "code",
   "execution_count": 17,
   "metadata": {},
   "outputs": [],
   "source": [
    "ZTFid = np.unique(joined_table[\"ZTF_Name\"])"
   ]
  },
  {
   "cell_type": "code",
   "execution_count": 18,
   "metadata": {},
   "outputs": [],
   "source": [
    "np.save(output + \"test_200\", np.array(ZTFid[0:200]))"
   ]
  },
  {
   "cell_type": "code",
   "execution_count": 19,
   "metadata": {},
   "outputs": [],
   "source": [
    "ZTFid_200 = np.load(output+ \"test_200.npy\")"
   ]
  },
  {
   "cell_type": "code",
   "execution_count": 20,
   "metadata": {},
   "outputs": [],
   "source": [
    "superfit_outputs = \"/home/xhall/Documents/Superfit/ZTFI_output/results/\""
   ]
  },
  {
   "cell_type": "code",
   "execution_count": 21,
   "metadata": {},
   "outputs": [
    {
     "data": {
      "text/plain": [
       "7771"
      ]
     },
     "execution_count": 21,
     "metadata": {},
     "output_type": "execute_result"
    }
   ],
   "source": [
    "objects_list = glob.glob(superfit_outputs+'*.csv') \n",
    "len(objects_list)"
   ]
  },
  {
   "cell_type": "code",
   "execution_count": 79,
   "metadata": {},
   "outputs": [
    {
     "data": {
      "text/plain": [
       "2922"
      ]
     },
     "execution_count": 79,
     "metadata": {},
     "output_type": "execute_result"
    }
   ],
   "source": [
    "len(ZTFid)"
   ]
  },
  {
   "cell_type": "code",
   "execution_count": 80,
   "metadata": {},
   "outputs": [
    {
     "name": "stderr",
     "output_type": "stream",
     "text": [
      "/home/xhall/anaconda3/lib/python3.7/site-packages/ipykernel_launcher.py:80: RuntimeWarning: divide by zero encountered in true_divide\n",
      "/home/xhall/anaconda3/lib/python3.7/site-packages/ipykernel_launcher.py:80: RuntimeWarning: divide by zero encountered in true_divide\n",
      "/home/xhall/anaconda3/lib/python3.7/site-packages/ipykernel_launcher.py:80: RuntimeWarning: divide by zero encountered in true_divide\n",
      "/home/xhall/anaconda3/lib/python3.7/site-packages/ipykernel_launcher.py:80: RuntimeWarning: divide by zero encountered in true_divide\n",
      "/home/xhall/anaconda3/lib/python3.7/site-packages/ipykernel_launcher.py:80: RuntimeWarning: divide by zero encountered in true_divide\n",
      "/home/xhall/anaconda3/lib/python3.7/site-packages/ipykernel_launcher.py:80: RuntimeWarning: divide by zero encountered in true_divide\n",
      "/home/xhall/anaconda3/lib/python3.7/site-packages/ipykernel_launcher.py:80: RuntimeWarning: divide by zero encountered in true_divide\n",
      "/home/xhall/anaconda3/lib/python3.7/site-packages/ipykernel_launcher.py:80: RuntimeWarning: divide by zero encountered in true_divide\n",
      "/home/xhall/anaconda3/lib/python3.7/site-packages/ipykernel_launcher.py:80: RuntimeWarning: divide by zero encountered in true_divide\n",
      "/home/xhall/anaconda3/lib/python3.7/site-packages/ipykernel_launcher.py:80: RuntimeWarning: divide by zero encountered in true_divide\n"
     ]
    },
    {
     "name": "stdout",
     "output_type": "stream",
     "text": [
      "100\n"
     ]
    },
    {
     "name": "stderr",
     "output_type": "stream",
     "text": [
      "/home/xhall/anaconda3/lib/python3.7/site-packages/ipykernel_launcher.py:80: RuntimeWarning: divide by zero encountered in true_divide\n",
      "/home/xhall/anaconda3/lib/python3.7/site-packages/ipykernel_launcher.py:80: RuntimeWarning: divide by zero encountered in true_divide\n"
     ]
    }
   ],
   "source": [
    "spec_number_data = []\n",
    "counter = 0\n",
    "for j in ZTFid[2800::]:\n",
    "    if(j in phase_data[\"ZTFID\"]):\n",
    "        counter += 1\n",
    "        if(counter % 100 == 0):\n",
    "            print(counter)\n",
    "        index = np.where(joined_table[\"ZTF_Name\"] == j)\n",
    "        spec_num = 1\n",
    "        for i in joined_table[index]:\n",
    "            spectra_name = i[\"Version\"].split(\".\")[0]\n",
    "            z_snid = i[\"z_snid\"]\n",
    "\n",
    "            source_folder = source + spectra_name\n",
    "            files = np.sort(glob.glob(source_folder+\"/*.dat\"))\n",
    "            if(len(files) == 0):\n",
    "                source_folder = source2 + spectra_name\n",
    "                files = np.sort(glob.glob(source_folder+\"/*.dat\"))\n",
    "            if(len(files) != 0):\n",
    "                files = np.sort(files)\n",
    "                matches_files = files[0:len(files)-1]\n",
    "                spectra = Table.read(files[-1], format = \"ascii\", names = [\"wavelength\", \"flux\"])\n",
    "                match = Table.read(files[0], format = \"ascii\", names = [\"redshifted_wavelength\", \"flux\"])\n",
    "\n",
    "                low, high = 5300, 5700\n",
    "\n",
    "                x, y = spectra[\"wavelength\"] / (1 + i[\"z_snid_1\"]), spectra[\"flux\"]\n",
    "                xi, yi = match[\"redshifted_wavelength\"] / (1 + i[\"z_snid_1\"]), match[\"flux\"]\n",
    "\n",
    "                superfit_data = np.loadtxt(superfit_outputs + i[\"Resolution\"] + \"-0-.txt\")\n",
    "                xs_temp, ys_temp = superfit_data[0], superfit_data[1]\n",
    "                xs, ys = [], []\n",
    "                for lam, flux in zip(xs_temp, ys_temp):\n",
    "                    if(flux > 0):\n",
    "                        xs.append(lam)\n",
    "                        ys.append(flux)\n",
    "\n",
    "                xs = np.asarray(xs)\n",
    "                ys = np.asarray(ys)\n",
    "                xsi, ysi = superfit_data[2], superfit_data[3]\n",
    "\n",
    "                superfit_z = i[\"Superfit_z\"]\n",
    "                if(str(superfit_z) == \"--\"):\n",
    "                    superfit_z = i[\"z_snid\"]\n",
    "\n",
    "\n",
    "                xs = xs / (1+superfit_z)\n",
    "                xsi = xsi/ (1+superfit_z)\n",
    "\n",
    "\n",
    "\n",
    "                min_overlap = max(np.min(xsi), np.min(xi))\n",
    "                max_overlap = min(np.max(xsi), np.max(xi))\n",
    "                if(min_overlap > max_overlap):\n",
    "                    sep_t = 0\n",
    "                else:\n",
    "                    interp_grid = np.linspace(min_overlap, max_overlap, 10000)\n",
    "                    snid_interp = interpolate.interp1d(xi, yi)\n",
    "                    supy_interp = interpolate.interp1d(xsi, ysi)\n",
    "                    sep_t = np.max(np.abs((supy_interp(interp_grid)) - (snid_interp(interp_grid))))\n",
    "\n",
    "                min_overlap_d = max(np.min(x), np.min(xs))\n",
    "                max_overlap_d = min(np.max(x), np.max(xs))\n",
    "                if(min_overlap_d > max_overlap_d):\n",
    "                    sep_d = 0\n",
    "                else:\n",
    "                    interp_grid_d = np.linspace(min_overlap_d, max_overlap_d, 10000)\n",
    "                    snid_interp_d = interpolate.interp1d(x, y)\n",
    "                    supy_interp_d = interpolate.interp1d(xs, ys)\n",
    "                    sep_d = np.max(np.abs((supy_interp_d(interp_grid_d)) - (snid_interp_d(interp_grid_d))))\n",
    "\n",
    "                sep = max(sep_d, sep_t)/2 * 1.2\n",
    "\n",
    "                t_max = phase_data[np.where(phase_data[\"ZTFID\"] == i[\"ZTF_Name\"])][\"peakt\"] + 2458000\n",
    "\n",
    "                date_obs = i[\"Version\"].split(\"_\")[1]\n",
    "                astropy_t_obs = Time(date_obs[0:4] + \"-\" + date_obs[4:6] + \"-\" + date_obs[6::])\n",
    "                t_obs = astropy_t_obs.jd\n",
    "                phase_obs_snid = (t_obs-t_max)/(1 + i[\"z_snid_1\"])\n",
    "                phase_obs_superfit = (t_obs-t_max)/(1 + i[\"Superfit_z\"])\n",
    "\n",
    "                fig, ax = plt.subplots(figsize=(8,4.5))\n",
    "\n",
    "                if(i[\"Version\"] in superfit_replacements[\"Version\"]):\n",
    "                    superfit_phase = superfit_replacements[np.where(i[\"Version\"] == superfit_replacements[\"Version\"])[0]][\"Phase\"][0]\n",
    "                else:\n",
    "                    superfit_phase = i[\"Phase\"]\n",
    "\n",
    "                ax.plot(xs,ys + sep,color='#32384D',label='New SN (SNID $\\phi = {:.0f}$)(Superfit $\\phi = {:.0f}$)'.format(phase_obs_snid[0], phase_obs_superfit[0]),alpha=0.5)\n",
    "                ax.plot(x,y- sep,color='#32384D' ,alpha=0.5)\n",
    "                ax.plot(xi,yi - sep,color='#217CA3',label='SNID template (z = {:.3f})($\\phi = {:.0f}$)'.format(i[\"z_snid_1\"], i[\"age_1\"]), lw=3)\n",
    "                if(superfit_phase != \"u\"):\n",
    "                    ax.plot(xsi,ysi + sep,color='#E29930',label='Superfit template (z = {:.3f})($\\phi = {:.0f}$)'.format(superfit_z, float(superfit_phase)), lw=3)\n",
    "                else:\n",
    "                    ax.plot(xsi,ysi + sep,color='#E29930',label='Superfit template (z = {:.3f})($\\phi$ is unkown)'.format(superfit_z, lw=3))\n",
    "\n",
    "\n",
    "                ax.plot(x[-3],y[-3],color='#217CA3', lw=3)\n",
    "                ax.set_xlabel(r'Rest Frame Wavelength ($\\mathrm{\\AA}$)', fontsize=17)\n",
    "                ax.set_ylabel('Relative Flux', fontsize=17)\n",
    "                ax.tick_params(which='both',labelsize=15)\n",
    "\n",
    "                ax.grid(axis='x', color='0.7', ls=':')\n",
    "                ax.xaxis.set_minor_locator(MultipleLocator(250))\n",
    "                ax.set_yticklabels([])\n",
    "\n",
    "                ax.text(0.565, 0.955, 'Superfit type: ',\n",
    "                        va='center',\n",
    "                        fontsize=15, transform=plt.gcf().transFigure)\n",
    "                ax.text(0.745, 0.955, i[\"Superfit_c\"],\n",
    "                        color='#E29930', weight='bold', va='center',\n",
    "                        fontsize=23, transform=plt.gcf().transFigure)\n",
    "\n",
    "                ax.text(0.105, 0.955, 'SNID type: ',\n",
    "                        va='center',\n",
    "                        fontsize=15, transform=plt.gcf().transFigure)\n",
    "                ax.text(0.245, 0.955, i[\"c_snid_1\"],\n",
    "                        color='#217CA3', weight='bold', va='center',\n",
    "                        fontsize=23, transform=plt.gcf().transFigure)\n",
    "\n",
    "                ax.text(0.850, 0.025, \"Spec #\" + str(spec_num),\n",
    "                    va='center',\n",
    "                    fontsize=16, transform=plt.gcf().transFigure)\n",
    "                spec_number_data.append(np.array([j, i[\"Version\"], spec_num]))\n",
    "                spec_num += 1\n",
    "\n",
    "                telescope = i[\"Version\"].split(\"_\")[-2]\n",
    "                ax.text(0.05, 0.025, \"Telescope: \" + telescope,\n",
    "                        va='center',\n",
    "                        fontsize=16, transform=plt.gcf().transFigure)\n",
    "\n",
    "                ax.set_xlim(min(np.min(x),np.min(xs)),max(np.max(x),np.max(xs)))\n",
    "\n",
    "                ax.legend(fancybox=True)\n",
    "                fig.subplots_adjust(left=0.055,right=0.99,top=0.925,bottom=0.145)\n",
    "\n",
    "                fig.savefig(output + j + '_' + i[\"Version\"] + '.png', dpi = 600)\n",
    "                plt.close(fig)\n",
    "                plt.close()\n",
    "spec_number_data_np = np.array(spec_number_data)\n",
    "np.save(output + \"spec_number_data\", spec_number_data_np)"
   ]
  },
  {
   "cell_type": "code",
   "execution_count": 77,
   "metadata": {},
   "outputs": [
    {
     "data": {
      "text/plain": [
       "789"
      ]
     },
     "execution_count": 77,
     "metadata": {},
     "output_type": "execute_result"
    }
   ],
   "source": [
    "counter"
   ]
  },
  {
   "cell_type": "code",
   "execution_count": 68,
   "metadata": {},
   "outputs": [
    {
     "name": "stdout",
     "output_type": "stream",
     "text": [
      "[ 3120.39500461  3130.40889593  3140.42278726  3150.43667859\n",
      "  3160.45056992  3170.46446125  3180.47835257  3190.4922439\n",
      "  3200.50613523  3210.52002656  3220.53391789  3230.54780921\n",
      "  3240.56170054  3250.57559187  3260.5894832   3270.60337453\n",
      "  3280.61726585  3290.63115718  3300.64504851  3310.65893984\n",
      "  3320.67283117  3330.68672249  3340.70061382  3350.71450515\n",
      "  3360.72839648  3370.7422878   3380.75617913  3390.77007046\n",
      "  3400.78396179  3410.79785312  3420.81174444  3430.82563577\n",
      "  3440.8395271   3450.85341843  3460.86730976  3470.88120108\n",
      "  3480.89509241  3490.90898374  3500.92287507  3510.9367664\n",
      "  3520.95065772  3530.96454905  3540.97844038  3550.99233171\n",
      "  3561.00622304  3571.02011436  3581.03400569  3591.04789702\n",
      "  3601.06178835  3611.07567967  3621.089571    3631.10346233\n",
      "  3641.11735366  3651.13124499  3661.14513631  3671.15902764\n",
      "  3681.17291897  3691.1868103   3701.20070163  3711.21459295\n",
      "  3721.22848428  3731.24237561  3741.25626694  3751.27015827\n",
      "  3761.28404959  3771.29794092  3781.31183225  3791.32572358\n",
      "  3801.33961491  3811.35350623  3821.36739756  3831.38128889\n",
      "  3841.39518022  3851.40907154  3861.42296287  3871.4368542\n",
      "  3881.45074553  3891.46463686  3901.47852818  3911.49241951\n",
      "  3921.50631084  3931.52020217  3941.5340935   3951.54798482\n",
      "  3961.56187615  3971.57576748  3981.58965881  3991.60355014\n",
      "  4001.61744146  4011.63133279  4021.64522412  4031.65911545\n",
      "  4041.67300678  4051.6868981   4061.70078943  4071.71468076\n",
      "  4081.72857209  4091.74246341  4101.75635474  4111.77024607\n",
      "  4121.7841374   4131.79802873  4141.81192005  4151.82581138\n",
      "  4161.83970271  4171.85359404  4181.86748537  4191.88137669\n",
      "  4201.89526802  4211.90915935  4221.92305068  4231.93694201\n",
      "  4241.95083333  4251.96472466  4261.97861599  4271.99250732\n",
      "  4282.00639864  4292.02028997  4302.0341813   4312.04807263\n",
      "  4322.06196396  4332.07585528  4342.08974661  4352.10363794\n",
      "  4362.11752927  4372.1314206   4382.14531192  4392.15920325\n",
      "  4402.17309458  4412.18698591  4422.20087724  4432.21476856\n",
      "  4442.22865989  4452.24255122  4462.25644255  4472.27033388\n",
      "  4482.2842252   4492.29811653  4502.31200786  4512.32589919\n",
      "  4522.33979051  4532.35368184  4542.36757317  4552.3814645\n",
      "  4562.39535583  4572.40924715  4582.42313848  4592.43702981\n",
      "  4602.45092114  4612.46481247  4622.47870379  4632.49259512\n",
      "  4642.50648645  4652.52037778  4662.53426911  4672.54816043\n",
      "  4682.56205176  4692.57594309  4702.58983442  4712.60372575\n",
      "  4722.61761707  4732.6315084   4742.64539973  4752.65929106\n",
      "  4762.67318238  4772.68707371  4782.70096504  4792.71485637\n",
      "  4802.7287477   4812.74263902  4822.75653035  4832.77042168\n",
      "  4842.78431301  4852.79820434  4862.81209566  4872.82598699\n",
      "  4882.83987832  4892.85376965  4902.86766098  4912.8815523\n",
      "  4922.89544363  4932.90933496  4942.92322629  4952.93711762\n",
      "  4962.95100894  4972.96490027  4982.9787916   4992.99268293\n",
      "  5003.00657425  5013.02046558  5023.03435691  5033.04824824\n",
      "  5043.06213957  5053.07603089  5063.08992222  5073.10381355\n",
      "  5083.11770488  5093.13159621  5103.14548753  5113.15937886\n",
      "  5123.17327019  5133.18716152  5143.20105285  5153.21494417\n",
      "  5163.2288355   5173.24272683  5183.25661816  5193.27050949\n",
      "  5203.28440081  5213.29829214  5223.31218347  5233.3260748\n",
      "  5243.33996612  5253.35385745  5263.36774878  5273.38164011\n",
      "  5283.39553144  5293.40942276  5303.42331409  5313.43720542\n",
      "  5323.45109675  5333.46498808  5343.4788794   5353.49277073\n",
      "  5363.50666206  5373.52055339  5383.53444472  5393.54833604\n",
      "  5403.56222737  5413.5761187   5423.59001003  5433.60390136\n",
      "  5443.61779268  5453.63168401  5463.64557534  5473.65946667\n",
      "  5483.67335799  5493.68724932  5503.70114065  5513.71503198\n",
      "  5523.72892331  5533.74281463  5543.75670596  5553.77059729\n",
      "  5563.78448862  5573.79837995  5583.81227127  5593.8261626\n",
      "  5603.84005393  5613.85394526  5623.86783659  5633.88172791\n",
      "  5643.89561924  5653.90951057  5663.9234019   5673.93729322\n",
      "  5683.95118455  5693.96507588  5703.97896721  5713.99285854\n",
      "  5724.00674986  5734.02064119  5744.03453252  5754.04842385\n",
      "  5764.06231518  5774.0762065   5784.09009783  5794.10398916\n",
      "  5804.11788049  5814.13177182  5824.14566314  5834.15955447\n",
      "  5844.1734458   5854.18733713  5864.20122846  5874.21511978\n",
      "  5884.22901111  5894.24290244  5904.25679377  5914.27068509\n",
      "  5924.28457642  5934.29846775  5944.31235908  5954.32625041\n",
      "  5964.34014173  5974.35403306  5984.36792439  5994.38181572\n",
      "  6004.39570705  6014.40959837  6024.4234897   6034.43738103\n",
      "  6044.45127236  6054.46516369  6064.47905501  6074.49294634\n",
      "  6084.50683767  6094.520729    6104.53462033  6114.54851165\n",
      "  6124.56240298  6134.57629431  6144.59018564  6154.60407696\n",
      "  6164.61796829  6174.63185962  6184.64575095  6194.65964228\n",
      "  6204.6735336   6214.68742493  6224.70131626  6234.71520759\n",
      "  6244.72909892  6254.74299024  6264.75688157  6274.7707729\n",
      "  6284.78466423  6294.79855556  6304.81244688  6314.82633821\n",
      "  6324.84022954  6334.85412087  6344.8680122   6354.88190352\n",
      "  6364.89579485  6374.90968618  6384.92357751  6394.93746883\n",
      "  6404.95136016  6414.96525149  6424.97914282  6434.99303415\n",
      "  6445.00692547  6455.0208168   6465.03470813  6475.04859946\n",
      "  6485.06249079  6495.07638211  6505.09027344  6515.10416477\n",
      "  6525.1180561   6535.13194743  6545.14583875  6555.15973008\n",
      "  6565.17362141  6575.18751274  6585.20140407  6595.21529539\n",
      "  6605.22918672  6615.24307805  6625.25696938  6635.2708607\n",
      "  6645.28475203  6655.29864336  6665.31253469  6675.32642602\n",
      "  6685.34031734  6695.35420867  6705.3681      6715.38199133\n",
      "  6725.39588266  6735.40977398  6745.42366531  6755.43755664\n",
      "  6765.45144797  6775.4653393   6785.47923062  6795.49312195\n",
      "  6805.50701328  6815.52090461  6825.53479593  6835.54868726\n",
      "  6845.56257859  6855.57646992  6865.59036125  6875.60425257\n",
      "  6885.6181439   6895.63203523  6905.64592656  6915.65981789\n",
      "  6925.67370921  6935.68760054  6945.70149187  6955.7153832\n",
      "  6965.72927453  6975.74316585  6985.75705718  6995.77094851\n",
      "  7005.78483984  7015.79873117  7025.81262249  7035.82651382\n",
      "  7045.84040515  7055.85429648  7065.8681878   7075.88207913\n",
      "  7085.89597046  7095.90986179  7105.92375312  7115.93764444\n",
      "  7125.95153577  7135.9654271   7145.97931843  7155.99320976\n",
      "  7166.00710108  7176.02099241  7186.03488374  7196.04877507\n",
      "  7206.0626664   7216.07655772  7226.09044905  7236.10434038\n",
      "  7246.11823171  7256.13212304  7266.14601436  7276.15990569\n",
      "  7286.17379702  7296.18768835  7306.20157967  7316.215471\n",
      "  7326.22936233  7336.24325366  7346.25714499  7356.27103631\n",
      "  7366.28492764  7376.29881897  7386.3127103   7396.32660163\n",
      "  7406.34049295  7416.35438428  7426.36827561  7436.38216694\n",
      "  7446.39605827  7456.40994959  7466.42384092  7476.43773225\n",
      "  7486.45162358  7496.46551491  7506.47940623  7516.49329756\n",
      "  7526.50718889  7536.52108022  7546.53497154  7556.54886287\n",
      "  7566.5627542   7576.57664553  7586.59053686  7596.60442818\n",
      "  7606.61831951  7616.63221084  7626.64610217  7636.6599935\n",
      "  7646.67388482  7656.68777615  7666.70166748  7676.71555881\n",
      "  7686.72945014  7696.74334146  7706.75723279  7716.77112412\n",
      "  7726.78501545  7736.79890678  7746.8127981   7756.82668943\n",
      "  7766.84058076  7776.85447209  7786.86836341  7796.88225474\n",
      "  7806.89614607  7816.9100374   7826.92392873  7836.93782005\n",
      "  7846.95171138  7856.96560271  7866.97949404  7876.99338537\n",
      "  7887.00727669  7897.02116802  7907.03505935  7917.04895068\n",
      "  7927.06284201  7937.07673333  7947.09062466  7957.10451599\n",
      "  7967.11840732  7977.13229864  7987.14618997  7997.1600813\n",
      "  8007.17397263  8017.18786396  8027.20175528  8037.21564661\n",
      "  8047.22953794  8057.24342927  8067.2573206   8077.27121192\n",
      "  8087.28510325  8097.29899458  8107.31288591  8117.32677724\n",
      "  8127.34066856  8137.35455989  8147.36845122  8157.38234255\n",
      "  8167.39623388  8177.4101252   8187.42401653  8197.43790786\n",
      "  8207.45179919  8217.46569051  8227.47958184  8237.49347317\n",
      "  8247.5073645   8257.52125583  8267.53514715  8277.54903848\n",
      "  8287.56292981  8297.57682114  8307.59071247  8317.60460379\n",
      "  8327.61849512  8337.63238645  8347.64627778  8357.66016911\n",
      "  8367.67406043  8377.68795176  8387.70184309  8397.71573442\n",
      "  8407.72962575  8417.74351707  8427.7574084   8437.77129973\n",
      "  8447.78519106  8457.79908238  8467.81297371  8477.82686504\n",
      "  8487.84075637  8497.8546477   8507.86853902  8517.88243035\n",
      "  8527.89632168  8537.91021301  8547.92410434  8557.93799566\n",
      "  8567.95188699  8577.96577832  8587.97966965  8597.99356098\n",
      "  8608.0074523   8618.02134363  8628.03523496  8638.04912629\n",
      "  8648.06301762  8658.07690894  8668.09080027  8678.1046916\n",
      "  8688.11858293  8698.13247425  8708.14636558  8718.16025691\n",
      "  8728.17414824  8738.18803957  8748.20193089  8758.21582222\n",
      "  8768.22971355  8778.24360488  8788.25749621  8798.27138753\n",
      "  8808.28527886  8818.29917019  8828.31306152  8838.32695285\n",
      "  8848.34084417  8858.3547355   8868.36862683  8878.38251816\n",
      "  8888.39640949  8898.41030081  8908.42419214  8918.43808347\n",
      "  8928.4519748   8938.46586612  8948.47975745  8958.49364878\n",
      "  8968.50754011  8978.52143144  8988.53532276  8998.54921409\n",
      "  9008.56310542  9018.57699675  9028.59088808  9038.6047794\n",
      "  9048.61867073  9058.63256206  9068.64645339  9078.66034472\n",
      "  9088.67423604  9098.68812737  9108.7020187   9118.71591003\n",
      "  9128.72980136  9138.74369268  9148.75758401  9158.77147534\n",
      "  9168.78536667  9178.79925799  9188.81314932  9198.82704065\n",
      "  9208.84093198  9218.85482331  9228.86871463  9238.88260596\n",
      "  9248.89649729  9258.91038862  9268.92427995  9278.93817127\n",
      "  9288.9520626   9298.96595393  9308.97984526  9318.99373659\n",
      "  9329.00762791  9339.02151924  9349.03541057  9359.0493019\n",
      "  9369.06319322  9379.07708455  9389.09097588  9399.10486721\n",
      "  9409.11875854  9419.13264986  9429.14654119  9439.16043252\n",
      "  9449.17432385  9459.18821518  9469.2021065   9479.21599783\n",
      "  9489.22988916  9499.24378049  9509.25767182  9519.27156314\n",
      "  9529.28545447  9539.2993458   9549.31323713  9559.32712846\n",
      "  9569.34101978  9579.35491111  9589.36880244  9599.38269377\n",
      "  9609.39658509  9619.41047642  9629.42436775  9639.43825908\n",
      "  9649.45215041  9659.46604173  9669.47993306  9679.49382439\n",
      "  9689.50771572  9699.52160705  9709.53549837  9719.5493897\n",
      "  9729.56328103  9739.57717236  9749.59106369  9759.60495501\n",
      "  9769.61884634  9779.63273767  9789.646629    9799.66052033\n",
      "  9809.67441165  9819.68830298  9829.70219431  9839.71608564\n",
      "  9849.72997696  9859.74386829  9869.75775962  9879.77165095\n",
      "  9889.78554228  9899.7994336   9909.81332493  9919.82721626\n",
      "  9929.84110759  9939.85499892  9949.86889024  9959.88278157\n",
      "  9969.8966729   9979.91056423  9989.92445556  9999.93834688\n",
      " 10009.95223821 10019.96612954 10029.98002087 10039.9939122\n",
      " 10050.00780352 10060.02169485 10070.03558618 10080.04947751\n",
      " 10090.06336883 10100.07726016 10110.09115149 10120.10504282\n",
      " 10130.11893415 10140.13282547 10150.1467168  10160.16060813\n",
      " 10170.17449946 10180.18839079 10190.20228211 10200.21617344\n",
      " 10210.23006477 10220.2439561  10230.25784743 10240.27173875\n",
      " 10250.28563008 10260.29952141 10270.31341274 10280.32730407\n",
      " 10290.34119539]\n"
     ]
    }
   ],
   "source": [
    "xs_temp, ys_temp = superfit_data[0], superfit_data[1]\n",
    "xs, ys = [], []\n",
    "for lam, flux in zip(xs_temp, ys_temp):\n",
    "    if(flux > 0):\n",
    "        xs.append(lam)\n",
    "        ys.append(flux)\n",
    "xs = np.asarray(xs)\n",
    "ys = np.asarray(ys)\n",
    "xsi, ysi = superfit_data[2], superfit_data[3]\n",
    "\n",
    "print(xs)\n",
    "\n",
    "xs = xs / (1+i[\"Superfit_z\"])\n",
    "xsi = xsi/ (1+i[\"Superfit_z\"])"
   ]
  },
  {
   "cell_type": "code",
   "execution_count": 74,
   "metadata": {},
   "outputs": [
    {
     "data": {
      "text/html": [
       "<i>Row index=0</i>\n",
       "<table id=\"table140294359655248\">\n",
       "<thead><tr><th>Version</th><th>ZTF_Name</th><th>z_sntemplate</th><th>z_rlap</th><th>z_snid</th><th>z_snid_err</th><th>z_level</th><th>rank_1</th><th>sntemplate_1</th><th>rlap_1</th><th>c_snid_1</th><th>z_snid_1</th><th>z_snid_err_1</th><th>age_1</th><th>age_flag_1</th><th>rank_2</th><th>sntemplate_2</th><th>rlap_2</th><th>c_snid_2</th><th>z_snid_2</th><th>z_snid_err_2</th><th>age_2</th><th>age_flag_2</th><th>rank_3</th><th>sntemplate_3</th><th>rlap_3</th><th>c_snid_3</th><th>z_snid_3</th><th>z_snid_err_3</th><th>age_3</th><th>age_flag_3</th><th>rank_4</th><th>sntemplate_4</th><th>rlap_4</th><th>c_snid_4</th><th>z_snid_4</th><th>z_snid_err_4</th><th>age_4</th><th>age_flag_4</th><th>rank_5</th><th>sntemplate_5</th><th>rlap_5</th><th>c_snid_5</th><th>z_snid_5</th><th>z_snid_err_5</th><th>age_5</th><th>age_flag_5</th><th>Resolution</th><th>Superfit_c</th><th>Superfit_z</th><th>Match</th><th>Gal</th><th>Frac(SN)</th><th>Frac(gal)</th><th>Phase</th><th>Av</th></tr></thead>\n",
       "<thead><tr><th>str39</th><th>str12</th><th>str12</th><th>float64</th><th>float64</th><th>float64</th><th>int64</th><th>int64</th><th>str12</th><th>float64</th><th>str7</th><th>float64</th><th>float64</th><th>float64</th><th>int64</th><th>int64</th><th>str12</th><th>float64</th><th>str7</th><th>float64</th><th>float64</th><th>float64</th><th>int64</th><th>int64</th><th>str12</th><th>float64</th><th>str7</th><th>float64</th><th>float64</th><th>float64</th><th>int64</th><th>int64</th><th>str12</th><th>float64</th><th>str7</th><th>float64</th><th>float64</th><th>float64</th><th>int64</th><th>int64</th><th>str12</th><th>float64</th><th>str7</th><th>float64</th><th>float64</th><th>float64</th><th>int64</th><th>str36</th><th>str18</th><th>float64</th><th>str52</th><th>str80</th><th>float64</th><th>float64</th><th>float64</th><th>float64</th></tr></thead>\n",
       "<tr><td>ZTF19acwrvzk_20200322_Keck1_v1.ascii</td><td>ZTF19acwrvzk</td><td>sn1990N</td><td>6.62</td><td>0.3361</td><td>0.0105</td><td>0</td><td>1</td><td>sn1990N</td><td>6.62</td><td>Ia-norm</td><td>0.3361</td><td>0.0105</td><td>-14.2</td><td>0</td><td>3</td><td>sn90O</td><td>6.03</td><td>Ia-norm</td><td>0.3343</td><td>0.0112</td><td>-7.1</td><td>0</td><td>5</td><td>sn94D</td><td>5.48</td><td>Ia-norm</td><td>0.3429</td><td>0.0127</td><td>-10.6</td><td>0</td><td>12</td><td>iPTF13bvn</td><td>4.74</td><td>Ib-norm</td><td>0.4857</td><td>0.005</td><td>-12.7</td><td>0</td><td>18</td><td>sn2006oa</td><td>4.42</td><td>Ia-91T</td><td>0.3217</td><td>0.0139</td><td>-8.5</td><td>0</td><td>ZTF19acwrvzk_20200322_Keck1_v1_10</td><td>IIn</td><td>--</td><td>IIn/2002bu/KAST+2452442.5</td><td>/mnt/c/Users/20xha/Documents/Caltech/Research/superfit/bank/binnings/10A/gal/SB4</td><td>--</td><td>--</td><td>75.0</td><td>-0.8</td></tr>\n",
       "</table>"
      ],
      "text/plain": [
       "<Row index=0>\n",
       "              Version                  ZTF_Name   z_sntemplate  z_rlap  z_snid z_snid_err z_level rank_1 sntemplate_1  rlap_1 c_snid_1 z_snid_1 z_snid_err_1  age_1  age_flag_1 rank_2 sntemplate_2  rlap_2 c_snid_2 z_snid_2 z_snid_err_2  age_2  age_flag_2 rank_3 sntemplate_3  rlap_3 c_snid_3 z_snid_3 z_snid_err_3  age_3  age_flag_3 rank_4 sntemplate_4  rlap_4 c_snid_4 z_snid_4 z_snid_err_4  age_4  age_flag_4 rank_5 sntemplate_5  rlap_5 c_snid_5 z_snid_5 z_snid_err_5  age_5  age_flag_5             Resolution            Superfit_c Superfit_z           Match                                                 Gal                                        Frac(SN) Frac(gal)  Phase     Av  \n",
       "               str39                    str12        str12     float64 float64  float64    int64  int64     str12     float64   str7   float64    float64    float64   int64    int64     str12     float64   str7   float64    float64    float64   int64    int64     str12     float64   str7   float64    float64    float64   int64    int64     str12     float64   str7   float64    float64    float64   int64    int64     str12     float64   str7   float64    float64    float64   int64                  str36                 str18     float64             str52                                                str80                                       float64   float64  float64 float64\n",
       "------------------------------------ ------------ ------------ ------- ------- ---------- ------- ------ ------------ ------- -------- -------- ------------ ------- ---------- ------ ------------ ------- -------- -------- ------------ ------- ---------- ------ ------------ ------- -------- -------- ------------ ------- ---------- ------ ------------ ------- -------- -------- ------------ ------- ---------- ------ ------------ ------- -------- -------- ------------ ------- ---------- --------------------------------- ---------- ---------- ------------------------- -------------------------------------------------------------------------------- -------- --------- ------- -------\n",
       "ZTF19acwrvzk_20200322_Keck1_v1.ascii ZTF19acwrvzk      sn1990N    6.62  0.3361     0.0105       0      1      sn1990N    6.62  Ia-norm   0.3361       0.0105   -14.2          0      3        sn90O    6.03  Ia-norm   0.3343       0.0112    -7.1          0      5        sn94D    5.48  Ia-norm   0.3429       0.0127   -10.6          0     12    iPTF13bvn    4.74  Ib-norm   0.4857        0.005   -12.7          0     18     sn2006oa    4.42   Ia-91T   0.3217       0.0139    -8.5          0 ZTF19acwrvzk_20200322_Keck1_v1_10        IIn         -- IIn/2002bu/KAST+2452442.5 /mnt/c/Users/20xha/Documents/Caltech/Research/superfit/bank/binnings/10A/gal/SB4       --        --    75.0    -0.8"
      ]
     },
     "execution_count": 74,
     "metadata": {},
     "output_type": "execute_result"
    }
   ],
   "source": [
    "i"
   ]
  },
  {
   "cell_type": "code",
   "execution_count": 24,
   "metadata": {},
   "outputs": [
    {
     "data": {
      "text/plain": [
       "(array([], dtype=int64),)"
      ]
     },
     "execution_count": 24,
     "metadata": {},
     "output_type": "execute_result"
    }
   ],
   "source": [
    "np.where(phase_data[\"ZTFID\"] == i[\"ZTF_Name\"])"
   ]
  },
  {
   "cell_type": "code",
   "execution_count": 29,
   "metadata": {},
   "outputs": [
    {
     "data": {
      "text/plain": [
       "[<matplotlib.lines.Line2D at 0x7fe434018350>]"
      ]
     },
     "execution_count": 29,
     "metadata": {},
     "output_type": "execute_result"
    },
    {
     "data": {
      "image/png": "[encoded data removed]",
      "text/plain": [
       "<Figure size 432x288 with 1 Axes>"
      ]
     },
     "metadata": {
      "needs_background": "light"
     },
     "output_type": "display_data"
    }
   ],
   "source": [
    "plt.plot(xs,ys + sep,color='#32384D',label='New SN (SNID $\\phi = {:.0f}$)(Superfit $\\phi = {:.0f}$)'.format(phase_obs_snid[0], phase_obs_superfit[0]),alpha=0.5)\n",
    "#plt.plot(x,y- sep,color='#32384D' ,alpha=0.5)\n",
    "#plt.plot(xi,yi - sep,color='#217CA3',label='SNID template (z = {:.3f})($\\phi = {:.0f}$)'.format(i[\"z_snid_1\"], i[\"age_1\"]), lw=3)\n",
    "#plt.plot(xsi,ysi + sep,color='#E29930',label='Superfit template (z = {:.3f})($\\phi = {:.0f}$)'.format(i[\"Superfit_z\"], i[\"Phase\"]), lw=3)"
   ]
  },
  {
   "cell_type": "code",
   "execution_count": 132,
   "metadata": {},
   "outputs": [
    {
     "data": {
      "text/html": [
       "<i>Row index=0</i>\n",
       "<table id=\"table140600192856336\">\n",
       "<thead><tr><th>Version</th><th>ZTF_Name</th><th>z_sntemplate</th><th>z_rlap</th><th>z_snid</th><th>z_snid_err</th><th>z_level</th><th>rank_1</th><th>sntemplate_1</th><th>rlap_1</th><th>c_snid_1</th><th>z_snid_1</th><th>z_snid_err_1</th><th>age_1</th><th>age_flag_1</th><th>rank_2</th><th>sntemplate_2</th><th>rlap_2</th><th>c_snid_2</th><th>z_snid_2</th><th>z_snid_err_2</th><th>age_2</th><th>age_flag_2</th><th>rank_3</th><th>sntemplate_3</th><th>rlap_3</th><th>c_snid_3</th><th>z_snid_3</th><th>z_snid_err_3</th><th>age_3</th><th>age_flag_3</th><th>rank_4</th><th>sntemplate_4</th><th>rlap_4</th><th>c_snid_4</th><th>z_snid_4</th><th>z_snid_err_4</th><th>age_4</th><th>age_flag_4</th><th>rank_5</th><th>sntemplate_5</th><th>rlap_5</th><th>c_snid_5</th><th>z_snid_5</th><th>z_snid_err_5</th><th>age_5</th><th>age_flag_5</th><th>Resolution</th><th>Superfit_c</th><th>Superfit_z</th><th>Match</th><th>Gal</th><th>Frac(SN)</th><th>Frac(gal)</th><th>Phase</th><th>Av</th></tr></thead>\n",
       "<thead><tr><th>str39</th><th>str12</th><th>str12</th><th>float64</th><th>float64</th><th>float64</th><th>int64</th><th>int64</th><th>str12</th><th>float64</th><th>str7</th><th>float64</th><th>float64</th><th>float64</th><th>int64</th><th>int64</th><th>str12</th><th>float64</th><th>str7</th><th>float64</th><th>float64</th><th>float64</th><th>int64</th><th>int64</th><th>str12</th><th>float64</th><th>str7</th><th>float64</th><th>float64</th><th>float64</th><th>int64</th><th>int64</th><th>str12</th><th>float64</th><th>str7</th><th>float64</th><th>float64</th><th>float64</th><th>int64</th><th>int64</th><th>str12</th><th>float64</th><th>str7</th><th>float64</th><th>float64</th><th>float64</th><th>int64</th><th>str36</th><th>str18</th><th>float64</th><th>str52</th><th>str80</th><th>float64</th><th>float64</th><th>float64</th><th>float64</th></tr></thead>\n",
       "<tr><td>ZTF18abakunn_20191228_LT_v1.ascii</td><td>ZTF18abakunn</td><td>sn2005hf</td><td>12.44</td><td>0.0559</td><td>0.0047</td><td>1</td><td>1</td><td>sn2005hf</td><td>12.44</td><td>Ia-norm</td><td>0.0559</td><td>0.0047</td><td>12.9</td><td>0</td><td>3</td><td>sn2004aw</td><td>8.53</td><td>Ic-norm</td><td>0.0576</td><td>0.0081</td><td>18.4</td><td>0</td><td>6</td><td>sn02cx</td><td>7.6</td><td>Ia-02cx</td><td>0.0408</td><td>0.0073</td><td>10.3</td><td>0</td><td>7</td><td>sn2005cc</td><td>7.52</td><td>Ia-02cx</td><td>0.04</td><td>0.0079</td><td>9.5</td><td>0</td><td>12</td><td>sn2005nb</td><td>7.05</td><td>Ic-BL</td><td>0.058</td><td>0.0106</td><td>-3.5</td><td>0</td><td>ZTF18abakunn_20191228_LT_v1_10</td><td>Ia 91T-like</td><td>0.053864999999999996</td><td>Ia 91T-like/2013U/EFOSC2-NTT+2456354.7000694</td><td>/mnt/c/Users/20xha/Documents/Caltech/Research/superfit/bank/binnings/10A/gal/S0</td><td>0.34473956</td><td>0.65526044</td><td>56355.2</td><td>-0.8</td></tr>\n",
       "</table>"
      ],
      "text/plain": [
       "<Row index=0>\n",
       "             Version                ZTF_Name   z_sntemplate  z_rlap  z_snid z_snid_err z_level rank_1 sntemplate_1  rlap_1 c_snid_1 z_snid_1 z_snid_err_1  age_1  age_flag_1 rank_2 sntemplate_2  rlap_2 c_snid_2 z_snid_2 z_snid_err_2  age_2  age_flag_2 rank_3 sntemplate_3  rlap_3 c_snid_3 z_snid_3 z_snid_err_3  age_3  age_flag_3 rank_4 sntemplate_4  rlap_4 c_snid_4 z_snid_4 z_snid_err_4  age_4  age_flag_4 rank_5 sntemplate_5  rlap_5 c_snid_5 z_snid_5 z_snid_err_5  age_5  age_flag_5           Resolution            Superfit_c      Superfit_z                         Match                                                           Gal                                        Frac(SN)  Frac(gal)   Phase     Av  \n",
       "              str39                  str12        str12     float64 float64  float64    int64  int64     str12     float64   str7   float64    float64    float64   int64    int64     str12     float64   str7   float64    float64    float64   int64    int64     str12     float64   str7   float64    float64    float64   int64    int64     str12     float64   str7   float64    float64    float64   int64    int64     str12     float64   str7   float64    float64    float64   int64                str36                 str18          float64                           str52                                                          str80                                       float64    float64   float64 float64\n",
       "--------------------------------- ------------ ------------ ------- ------- ---------- ------- ------ ------------ ------- -------- -------- ------------ ------- ---------- ------ ------------ ------- -------- -------- ------------ ------- ---------- ------ ------------ ------- -------- -------- ------------ ------- ---------- ------ ------------ ------- -------- -------- ------------ ------- ---------- ------ ------------ ------- -------- -------- ------------ ------- ---------- ------------------------------ ----------- -------------------- -------------------------------------------- ------------------------------------------------------------------------------- ---------- ---------- ------- -------\n",
       "ZTF18abakunn_20191228_LT_v1.ascii ZTF18abakunn     sn2005hf   12.44  0.0559     0.0047       1      1     sn2005hf   12.44  Ia-norm   0.0559       0.0047    12.9          0      3     sn2004aw    8.53  Ic-norm   0.0576       0.0081    18.4          0      6       sn02cx     7.6  Ia-02cx   0.0408       0.0073    10.3          0      7     sn2005cc    7.52  Ia-02cx     0.04       0.0079     9.5          0     12     sn2005nb    7.05    Ic-BL    0.058       0.0106    -3.5          0 ZTF18abakunn_20191228_LT_v1_10 Ia 91T-like 0.053864999999999996 Ia 91T-like/2013U/EFOSC2-NTT+2456354.7000694 /mnt/c/Users/20xha/Documents/Caltech/Research/superfit/bank/binnings/10A/gal/S0 0.34473956 0.65526044 56355.2    -0.8"
      ]
     },
     "execution_count": 132,
     "metadata": {},
     "output_type": "execute_result"
    }
   ],
   "source": [
    "i[0]"
   ]
  },
  {
   "cell_type": "code",
   "execution_count": 82,
   "metadata": {},
   "outputs": [
    {
     "ename": "IndexError",
     "evalue": "index -1 is out of bounds for axis 0 with size 0",
     "output_type": "error",
     "traceback": [
      "\u001b[0;31m---------------------------------------------------------------------------\u001b[0m",
      "\u001b[0;31mIndexError\u001b[0m                                Traceback (most recent call last)",
      "\u001b[0;32m<ipython-input-82-0573a5de76b1>\u001b[0m in \u001b[0;36m<module>\u001b[0;34m\u001b[0m\n\u001b[1;32m     13\u001b[0m \u001b[0mfiles\u001b[0m \u001b[0;34m=\u001b[0m \u001b[0mnp\u001b[0m\u001b[0;34m.\u001b[0m\u001b[0msort\u001b[0m\u001b[0;34m(\u001b[0m\u001b[0mfiles\u001b[0m\u001b[0;34m)\u001b[0m\u001b[0;34m\u001b[0m\u001b[0;34m\u001b[0m\u001b[0m\n\u001b[1;32m     14\u001b[0m \u001b[0mmatches_files\u001b[0m \u001b[0;34m=\u001b[0m \u001b[0mfiles\u001b[0m\u001b[0;34m[\u001b[0m\u001b[0;36m0\u001b[0m\u001b[0;34m:\u001b[0m\u001b[0mlen\u001b[0m\u001b[0;34m(\u001b[0m\u001b[0mfiles\u001b[0m\u001b[0;34m)\u001b[0m\u001b[0;34m-\u001b[0m\u001b[0;36m1\u001b[0m\u001b[0;34m]\u001b[0m\u001b[0;34m\u001b[0m\u001b[0;34m\u001b[0m\u001b[0m\n\u001b[0;32m---> 15\u001b[0;31m \u001b[0mspectra\u001b[0m \u001b[0;34m=\u001b[0m \u001b[0mTable\u001b[0m\u001b[0;34m.\u001b[0m\u001b[0mread\u001b[0m\u001b[0;34m(\u001b[0m\u001b[0mfiles\u001b[0m\u001b[0;34m[\u001b[0m\u001b[0;34m-\u001b[0m\u001b[0;36m1\u001b[0m\u001b[0;34m]\u001b[0m\u001b[0;34m,\u001b[0m \u001b[0mformat\u001b[0m \u001b[0;34m=\u001b[0m \u001b[0;34m\"ascii\"\u001b[0m\u001b[0;34m,\u001b[0m \u001b[0mnames\u001b[0m \u001b[0;34m=\u001b[0m \u001b[0;34m[\u001b[0m\u001b[0;34m\"wavelength\"\u001b[0m\u001b[0;34m,\u001b[0m \u001b[0;34m\"flux\"\u001b[0m\u001b[0;34m]\u001b[0m\u001b[0;34m)\u001b[0m\u001b[0;34m\u001b[0m\u001b[0;34m\u001b[0m\u001b[0m\n\u001b[0m\u001b[1;32m     16\u001b[0m \u001b[0mmatch\u001b[0m \u001b[0;34m=\u001b[0m \u001b[0mTable\u001b[0m\u001b[0;34m.\u001b[0m\u001b[0mread\u001b[0m\u001b[0;34m(\u001b[0m\u001b[0mfiles\u001b[0m\u001b[0;34m[\u001b[0m\u001b[0;36m0\u001b[0m\u001b[0;34m]\u001b[0m\u001b[0;34m,\u001b[0m \u001b[0mformat\u001b[0m \u001b[0;34m=\u001b[0m \u001b[0;34m\"ascii\"\u001b[0m\u001b[0;34m,\u001b[0m \u001b[0mnames\u001b[0m \u001b[0;34m=\u001b[0m \u001b[0;34m[\u001b[0m\u001b[0;34m\"redshifted_wavelength\"\u001b[0m\u001b[0;34m,\u001b[0m \u001b[0;34m\"flux\"\u001b[0m\u001b[0;34m]\u001b[0m\u001b[0;34m)\u001b[0m\u001b[0;34m\u001b[0m\u001b[0;34m\u001b[0m\u001b[0m\n\u001b[1;32m     17\u001b[0m \u001b[0;34m\u001b[0m\u001b[0m\n",
      "\u001b[0;31mIndexError\u001b[0m: index -1 is out of bounds for axis 0 with size 0"
     ]
    }
   ],
   "source": [
    "j = \"ZTF20abylbuf\"\n",
    "i = joined_table[np.where(joined_table[\"Version\"] == \"ZTF20abylbuf_20200910_P60_v1.ascii\")][0]\n",
    "\n",
    "spectra_name = i[\"Version\"].split(\".\")[0]\n",
    "z_snid = i[\"z_snid\"]\n",
    "\n",
    "source_folder = source + spectra_name\n",
    "files = np.sort(glob.glob(source_folder+\"/*.dat\"))\n",
    "if(len(files) == 0):\n",
    "    source_folder = source2 + spectra_name\n",
    "    files = np.sort(glob.glob(source_folder+\"/*.dat\"))\n",
    "\n",
    "files = np.sort(files)\n",
    "matches_files = files[0:len(files)-1]\n",
    "spectra = Table.read(files[-1], format = \"ascii\", names = [\"wavelength\", \"flux\"])\n",
    "match = Table.read(files[0], format = \"ascii\", names = [\"redshifted_wavelength\", \"flux\"])\n",
    "\n",
    "low, high = 5300, 5700\n",
    "\n",
    "x, y = spectra[\"wavelength\"] / (1 + i[\"z_snid_1\"]), spectra[\"flux\"]\n",
    "xi, yi = match[\"redshifted_wavelength\"] / (1 + i[\"z_snid_1\"]), match[\"flux\"]\n",
    "\n",
    "superfit_data = np.loadtxt(superfit_outputs + i[\"Resolution\"] + \"-0-.txt\")\n",
    "xs_temp, ys_temp = superfit_data[0], superfit_data[1]\n",
    "xs, ys = [], []\n",
    "for lam, flux in zip(xs_temp, ys_temp):\n",
    "    if(flux > 0):\n",
    "        xs.append(lam)\n",
    "        ys.append(flux)\n",
    "xsi, ysi = superfit_data[2], superfit_data[3]\n",
    "\n",
    "xs = xs / (1+i[\"Superfit_z\"])\n",
    "xsi = xsi/ (1+i[\"Superfit_z\"])\n",
    "\n",
    "min_overlap = max(np.min(xsi), np.min(xi))\n",
    "max_overlap = min(np.max(xsi), np.max(xi))\n",
    "interp_grid = np.linspace(min_overlap, max_overlap, 10000)\n",
    "snid_interp = interpolate.interp1d(xi, yi)\n",
    "supy_interp = interpolate.interp1d(xsi, ysi)\n",
    "sep_t = np.max(np.abs((supy_interp(interp_grid)) - (snid_interp(interp_grid))))\n",
    "\n",
    "min_overlap_d = max(np.min(x), np.min(xs))\n",
    "max_overlap_d = min(np.max(x), np.max(xs))\n",
    "interp_grid_d = np.linspace(min_overlap_d, max_overlap_d, 10000)\n",
    "snid_interp_d = interpolate.interp1d(x, y)\n",
    "supy_interp_d = interpolate.interp1d(xs, ys)\n",
    "sep_d = np.max(np.abs((supy_interp_d(interp_grid_d)) - (snid_interp_d(interp_grid_d))))\n",
    "\n",
    "sep = max(sep_d, sep_t)/2 * 1.2\n",
    "\n",
    "t_max = phase_data[np.where(phase_data[\"ZTFID\"] == i[\"ZTF_Name\"])][\"peakt\"] + 2458000\n",
    "\n",
    "date_obs = i[\"Version\"].split(\"_\")[1]\n",
    "astropy_t_obs = Time(date_obs[0:4] + \"-\" + date_obs[4:6] + \"-\" + date_obs[6::])\n",
    "t_obs = astropy_t_obs.jd\n",
    "phase_obs_snid = (t_obs-t_max)/(1 + i[\"z_snid_1\"])\n",
    "phase_obs_superfit = (t_obs-t_max)/(1 + i[\"Superfit_z\"])\n",
    "\n",
    "fig, ax = plt.subplots(figsize=(8,4.5))\n",
    "\n",
    "if(i[\"Version\"] in superfit_replacements[\"Version\"]):\n",
    "    superfit_phase = superfit_replacements[np.where(i[\"Version\"] == superfit_replacements[\"Version\"])[0]][\"Phase\"][0]\n",
    "else:\n",
    "    superfit_phase = i[\"Phase\"]\n",
    "\n",
    "ax.plot(xs,ys + sep,color='#32384D',label='New SN (SNID $\\phi = {:.0f}$)(Superfit $\\phi = {:.0f}$)'.format(phase_obs_snid[0], phase_obs_superfit[0]),alpha=0.5)\n",
    "ax.plot(x,y- sep,color='#32384D' ,alpha=0.5)\n",
    "ax.plot(xi,yi - sep,color='#217CA3',label='SNID template (z = {:.3f})($\\phi = {:.0f}$)'.format(i[\"z_snid_1\"], i[\"age_1\"]), lw=3)\n",
    "\n",
    "if(superfit_phase != \"u\"):\n",
    "    ax.plot(xsi,ysi + sep,color='#E29930',label='Superfit template (z = {:.3f})($\\phi = {:.0f}$)'.format(i[\"Superfit_z\"], float(superfit_phase)), lw=3)\n",
    "else:\n",
    "    ax.plot(xsi,ysi + sep,color='#E29930',label='Superfit template (z = {:.3f})($\\phi$ is unkown)'.format(i[\"Superfit_z\"], lw=3))\n",
    "    \n",
    "ax.plot(x[-3],y[-3],color='#217CA3', lw=3)\n",
    "ax.set_xlabel(r'Rest Frame Wavelength ($\\mathrm{\\AA}$)', fontsize=17)\n",
    "ax.set_ylabel('Relative Flux', fontsize=17)\n",
    "ax.tick_params(which='both',labelsize=15)\n",
    "\n",
    "ax.grid(axis='x', color='0.7', ls=':')\n",
    "ax.xaxis.set_minor_locator(MultipleLocator(250))\n",
    "ax.set_yticklabels([])\n",
    "\n",
    "ax.text(0.565, 0.955, 'Superfit type: ',\n",
    "        va='center',\n",
    "        fontsize=15, transform=plt.gcf().transFigure)\n",
    "ax.text(0.745, 0.955, i[\"Superfit_c\"],\n",
    "        color='#E29930', weight='bold', va='center',\n",
    "        fontsize=23, transform=plt.gcf().transFigure)\n",
    "\n",
    "ax.text(0.105, 0.955, 'SNID type: ',\n",
    "        va='center',\n",
    "        fontsize=15, transform=plt.gcf().transFigure)\n",
    "ax.text(0.245, 0.955, i[\"c_snid_1\"],\n",
    "        color='#217CA3', weight='bold', va='center',\n",
    "        fontsize=23, transform=plt.gcf().transFigure)\n",
    "\n",
    "ax.text(0.850, 0.025, \"Spec #\" + str(1),\n",
    "    va='center',\n",
    "    fontsize=16, transform=plt.gcf().transFigure)\n",
    "#spec_number_data.append(np.array([j, i[\"Version\"], spec_num]))\n",
    "#spec_num += 1\n",
    "\n",
    "telescope = i[\"Version\"].split(\"_\")[-2]\n",
    "ax.text(0.05, 0.025, \"Telescope: \" + telescope,\n",
    "        va='center',\n",
    "        fontsize=16, transform=plt.gcf().transFigure)\n",
    "\n",
    "ax.set_xlim(min(np.min(x),np.min(xs)),max(np.max(x),np.max(xs)))\n",
    "\n",
    "ax.legend(fancybox=True)\n",
    "fig.subplots_adjust(left=0.055,right=0.99,top=0.925,bottom=0.145)\n",
    "\n",
    "fig.savefig(output + j + '_' + i[\"Version\"] + '.png', dpi = 600)\n",
    "plt.show()\n",
    "plt.close(fig)\n",
    "plt.close()"
   ]
  },
  {
   "cell_type": "code",
   "execution_count": 83,
   "metadata": {},
   "outputs": [
    {
     "data": {
      "text/plain": [
       "'ZTF18abvgjyv'"
      ]
     },
     "execution_count": 83,
     "metadata": {},
     "output_type": "execute_result"
    }
   ],
   "source": [
    "np.where(j == "
   ]
  },
  {
   "cell_type": "code",
   "execution_count": 85,
   "metadata": {},
   "outputs": [
    {
     "data": {
      "text/plain": [
       "-1.1482177"
      ]
     },
     "execution_count": 85,
     "metadata": {},
     "output_type": "execute_result"
    }
   ],
   "source": [
    "i[\"Phase\"]"
   ]
  },
  {
   "cell_type": "code",
   "execution_count": null,
   "metadata": {},
   "outputs": [],
   "source": []
  }
 ],
 "metadata": {
  "kernelspec": {
   "display_name": "Python 3",
   "language": "python",
   "name": "python3"
  },
  "language_info": {
   "codemirror_mode": {
    "name": "ipython",
    "version": 3
   },
   "file_extension": ".py",
   "mimetype": "text/x-python",
   "name": "python",
   "nbconvert_exporter": "python",
   "pygments_lexer": "ipython3",
   "version": "3.7.6"
  }
 },
 "nbformat": 4,
 "nbformat_minor": 4
}
