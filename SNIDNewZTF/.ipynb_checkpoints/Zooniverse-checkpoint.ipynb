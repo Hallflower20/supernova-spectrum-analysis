{
 "cells": [
  {
   "cell_type": "code",
   "execution_count": 43,
   "metadata": {},
   "outputs": [],
   "source": [
    "import os\n",
    "import astropy\n",
    "import numpy as np\n",
    "from astropy.table import Table\n",
    "from astropy.table import Column\n",
    "import glob\n",
    "import matplotlib.pyplot as plt\n",
    "import pandas as pd\n",
    "from collections import Counter\n",
    "from mpl_toolkits.mplot3d import Axes3D"
   ]
  },
  {
   "cell_type": "code",
   "execution_count": 44,
   "metadata": {},
   "outputs": [],
   "source": [
    "RedshiftClass = Table.from_pandas(pd.read_csv(\"/home/xhall/Documents/ZTFI/SNID_2020_remaining_output.csv\"))"
   ]
  },
  {
   "cell_type": "code",
   "execution_count": 45,
   "metadata": {},
   "outputs": [
    {
     "data": {
      "text/plain": [
       "879"
      ]
     },
     "execution_count": 45,
     "metadata": {},
     "output_type": "execute_result"
    }
   ],
   "source": [
    "len(np.where(RedshiftClass[\"rank_5\"] > 9)[0])"
   ]
  },
  {
   "cell_type": "code",
   "execution_count": 29,
   "metadata": {},
   "outputs": [
    {
     "data": {
      "text/plain": [
       "1941"
      ]
     },
     "execution_count": 29,
     "metadata": {},
     "output_type": "execute_result"
    }
   ],
   "source": [
    "len(RedshiftClass)"
   ]
  },
  {
   "cell_type": "code",
   "execution_count": 5,
   "metadata": {},
   "outputs": [],
   "source": [
    "indicies = []\n",
    "taken = []\n",
    "counter = 0\n",
    "for i in RedshiftClass:\n",
    "    if not(\"Ia\" in i[\"c_snid_1\"] and i[\"rlap_1\"] > 10):\n",
    "        indicies.append(counter)\n",
    "        taken.append(i[\"ZTF_Name\"])\n",
    "    counter+=1"
   ]
  },
  {
   "cell_type": "code",
   "execution_count": 24,
   "metadata": {},
   "outputs": [
    {
     "name": "stdout",
     "output_type": "stream",
     "text": [
      "1941\n"
     ]
    },
    {
     "data": {
      "text/plain": [
       "1579"
      ]
     },
     "execution_count": 24,
     "metadata": {},
     "output_type": "execute_result"
    }
   ],
   "source": [
    "print(len(RedshiftClass))\n",
    "len(indicies)"
   ]
  },
  {
   "cell_type": "code",
   "execution_count": 25,
   "metadata": {},
   "outputs": [],
   "source": [
    "manifest = Table(\n",
    "        names=(\"!ZTF_Version\", \"!ZTF_Name\", \"#Image0\", \"#Image1\", \"#Image2\", \"#Image3\", \"#Image4\", \"z_snid\", \"z_snid_err\"\n",
    "        ),\n",
    "        meta={\"name\": \"Spectrum Results after SNID\"},\n",
    "        dtype=(\"U64\", \"U64\", \"U64\", \"U64\", \"U64\", \"U64\", \"U64\", \"Float64\", \"Float64\"\n",
    "              )\n",
    "        )"
   ]
  },
  {
   "cell_type": "code",
   "execution_count": 26,
   "metadata": {},
   "outputs": [],
   "source": [
    "for i in RedshiftClass:\n",
    "    row = []\n",
    "    version = i[\"Version\"].split('.')[0]\n",
    "    row.append(version)\n",
    "    row.append(i[\"ZTF_Name\"])\n",
    "    \n",
    "    rank = i[\"rank_1\", \"rank_2\", \"rank_3\", \"rank_4\", \"rank_5\"]\n",
    "    list_index = [rank[\"rank_1\"], rank[\"rank_2\"], rank[\"rank_3\"], rank[\"rank_4\"], rank[\"rank_5\"]]\n",
    "    \n",
    "    for j in list_index:\n",
    "        row.append(\"snidfits_emclip_\" + version + \"_\" + str(j)+\".png\")\n",
    "    row.append(round(i[\"z_snid\"],3))\n",
    "    row.append(round(i[\"z_snid_err\"],3))\n",
    "    manifest.add_row(row)"
   ]
  },
  {
   "cell_type": "code",
   "execution_count": 27,
   "metadata": {},
   "outputs": [],
   "source": [
    "manifest.to_pandas().to_csv(\"/home/xhall/Documents/ZTFI/manifest.csv\", index = False)"
   ]
  },
  {
   "cell_type": "code",
   "execution_count": 28,
   "metadata": {},
   "outputs": [
    {
     "name": "stdout",
     "output_type": "stream",
     "text": [
      "894\n"
     ]
    },
    {
     "data": {
      "text/plain": [
       "894"
      ]
     },
     "execution_count": 28,
     "metadata": {},
     "output_type": "execute_result"
    }
   ],
   "source": [
    "print(len(np.unique(manifest[\"!ZTF_Name\"])))\n",
    "len(np.unique(RedshiftClass[\"ZTF_Name\"]))"
   ]
  },
  {
   "cell_type": "code",
   "execution_count": 23,
   "metadata": {},
   "outputs": [
    {
     "data": {
      "text/html": [
       "<i>Row index=0</i>\n",
       "<table id=\"table139908465775760\">\n",
       "<thead><tr><th>!ZTF_Version</th><th>!ZTF_Name</th><th>#Image0</th><th>#Image1</th><th>#Image2</th><th>#Image3</th><th>#Image4</th><th>z_snid</th><th>z_snid_err</th></tr></thead>\n",
       "<thead><tr><th>str64</th><th>str64</th><th>str64</th><th>str64</th><th>str64</th><th>str64</th><th>str64</th><th>float64</th><th>float64</th></tr></thead>\n",
       "<tr><td>ZTF18aaabltn_20201015_DCT_v1</td><td>ZTF18aaabltn</td><td>snidfits_emclip_ZTF18aaabltn_20201015_DCT_v1_1.png</td><td>snidfits_emclip_ZTF18aaabltn_20201015_DCT_v1_2.png</td><td>snidfits_emclip_ZTF18aaabltn_20201015_DCT_v1_3.png</td><td>snidfits_emclip_ZTF18aaabltn_20201015_DCT_v1_4.png</td><td>snidfits_emclip_ZTF18aaabltn_20201015_DCT_v1_5.png</td><td>0.046</td><td>0.001</td></tr>\n",
       "</table>"
      ],
      "text/plain": [
       "<Row index=0>\n",
       "        !ZTF_Version          !ZTF_Name                        #Image0                                            #Image1                                            #Image2                                            #Image3                                            #Image4                        z_snid z_snid_err\n",
       "           str64                str64                           str64                                              str64                                              str64                                              str64                                              str64                        float64  float64  \n",
       "---------------------------- ------------ -------------------------------------------------- -------------------------------------------------- -------------------------------------------------- -------------------------------------------------- -------------------------------------------------- ------- ----------\n",
       "ZTF18aaabltn_20201015_DCT_v1 ZTF18aaabltn snidfits_emclip_ZTF18aaabltn_20201015_DCT_v1_1.png snidfits_emclip_ZTF18aaabltn_20201015_DCT_v1_2.png snidfits_emclip_ZTF18aaabltn_20201015_DCT_v1_3.png snidfits_emclip_ZTF18aaabltn_20201015_DCT_v1_4.png snidfits_emclip_ZTF18aaabltn_20201015_DCT_v1_5.png   0.046      0.001"
      ]
     },
     "execution_count": 23,
     "metadata": {},
     "output_type": "execute_result"
    }
   ],
   "source": [
    "manifest[0]"
   ]
  },
  {
   "cell_type": "code",
   "execution_count": 30,
   "metadata": {},
   "outputs": [],
   "source": [
    "from panoptes_client import Panoptes, Project, SubjectSet, Subject"
   ]
  },
  {
   "cell_type": "code",
   "execution_count": 31,
   "metadata": {},
   "outputs": [
    {
     "data": {
      "text/plain": [
       "<panoptes_client.panoptes.Panoptes at 0x7f3efa5d8190>"
      ]
     },
     "execution_count": 31,
     "metadata": {},
     "output_type": "execute_result"
    }
   ],
   "source": [
    "Panoptes.connect(username='Hallflower20', password='')"
   ]
  },
  {
   "cell_type": "code",
   "execution_count": 32,
   "metadata": {},
   "outputs": [],
   "source": [
    "project = Project.find(12959)"
   ]
  },
  {
   "cell_type": "code",
   "execution_count": 33,
   "metadata": {},
   "outputs": [
    {
     "data": {
      "text/plain": [
       "'Zwicky Chemical Factory'"
      ]
     },
     "execution_count": 33,
     "metadata": {},
     "output_type": "execute_result"
    }
   ],
   "source": [
    "project.display_name "
   ]
  },
  {
   "cell_type": "code",
   "execution_count": 34,
   "metadata": {},
   "outputs": [
    {
     "data": {
      "text/plain": [
       "{'subject_sets': [{'id': '96117',\n",
       "   'display_name': 'Remaining Set',\n",
       "   'set_member_subjects_count': 0,\n",
       "   'metadata': {},\n",
       "   'created_at': '2021-06-26T20:43:20.598Z',\n",
       "   'updated_at': '2021-06-26T20:43:20.598Z',\n",
       "   'href': '/subject_sets/96117',\n",
       "   'links': {'project': '12959', 'workflows': [], 'subjects': []}}],\n",
       " 'links': {'subject_sets.project': {'href': '/projects/{subject_sets.project}',\n",
       "   'type': 'projects'},\n",
       "  'subject_sets.workflows': {'href': '/workflows?subject_set_id={subject_sets.id}',\n",
       "   'type': 'workflows'}},\n",
       " 'meta': {'subject_sets': {'page': 1,\n",
       "   'page_size': 20,\n",
       "   'count': 1,\n",
       "   'include': [],\n",
       "   'page_count': 1,\n",
       "   'previous_page': None,\n",
       "   'next_page': None,\n",
       "   'first_href': '/subject_sets',\n",
       "   'previous_href': None,\n",
       "   'next_href': None,\n",
       "   'last_href': '/subject_sets'}}}"
      ]
     },
     "execution_count": 34,
     "metadata": {},
     "output_type": "execute_result"
    }
   ],
   "source": [
    "subject_set = SubjectSet()\n",
    "\n",
    "subject_set.links.project = project\n",
    "subject_set.display_name = 'Remaining Set'\n",
    "\n",
    "subject_set.save()"
   ]
  },
  {
   "cell_type": "code",
   "execution_count": 35,
   "metadata": {},
   "outputs": [],
   "source": [
    "subject_set = SubjectSet.find(96117)"
   ]
  },
  {
   "cell_type": "code",
   "execution_count": 36,
   "metadata": {},
   "outputs": [],
   "source": [
    "ImageLoc = \"/home/xhall/Documents/ZTFI/remaining_image_output/\""
   ]
  },
  {
   "cell_type": "code",
   "execution_count": 40,
   "metadata": {},
   "outputs": [
    {
     "data": {
      "text/plain": [
       "1941"
      ]
     },
     "execution_count": 40,
     "metadata": {},
     "output_type": "execute_result"
    }
   ],
   "source": [
    "len(manifest)"
   ]
  },
  {
   "cell_type": "code",
   "execution_count": 39,
   "metadata": {},
   "outputs": [
    {
     "data": {
      "text/plain": [
       "1940.0"
      ]
     },
     "execution_count": 39,
     "metadata": {},
     "output_type": "execute_result"
    }
   ],
   "source": [
    "len(glob.glob(ImageLoc + \"/*.png\"))/5"
   ]
  },
  {
   "cell_type": "code",
   "execution_count": 41,
   "metadata": {},
   "outputs": [],
   "source": [
    "subject_set.save()"
   ]
  },
  {
   "cell_type": "code",
   "execution_count": 46,
   "metadata": {},
   "outputs": [
    {
     "name": "stdout",
     "output_type": "stream",
     "text": [
      "100\n",
      "200\n",
      "300\n",
      "400\n",
      "500\n",
      "600\n",
      "700\n",
      "800\n",
      "900\n",
      "1000\n",
      "1100\n",
      "1200\n",
      "1300\n",
      "1400\n",
      "1500\n",
      "1600\n",
      "1700\n",
      "1800\n",
      "1900\n"
     ]
    }
   ],
   "source": [
    "count = 1\n",
    "\n",
    "new_subjects = []\n",
    "f = open(\"noFile2.txt\", \"w\")\n",
    "for i in manifest:\n",
    "    try:\n",
    "        subject = Subject()\n",
    "\n",
    "        subject.links.project = project\n",
    "\n",
    "        subject.add_location(ImageLoc + i[\"#Image0\"])\n",
    "        subject.add_location(ImageLoc + i[\"#Image1\"])\n",
    "        subject.add_location(ImageLoc + i[\"#Image2\"])\n",
    "        subject.add_location(ImageLoc + i[\"#Image3\"])\n",
    "        subject.add_location(ImageLoc + i[\"#Image4\"])\n",
    "\n",
    "        subject.metadata.update({\"!ZTF_Version\": i[\"!ZTF_Version\"], \"!ZTF_Name\": i[\"!ZTF_Name\"], \"z_snid\": i[\"z_snid\"], \"z_snid_err\": i[\"z_snid_err\"]})\n",
    "\n",
    "        subject.save()\n",
    "        new_subjects.append(subject)\n",
    "    except FileNotFoundError:\n",
    "        f.write(i[\"!ZTF_Version\"] + \"\\n\")\n",
    "    if(count % 100 == 0):\n",
    "        print(count)\n",
    "    count += 1"
   ]
  },
  {
   "cell_type": "code",
   "execution_count": 47,
   "metadata": {},
   "outputs": [],
   "source": [
    "f.close()"
   ]
  },
  {
   "cell_type": "code",
   "execution_count": 48,
   "metadata": {},
   "outputs": [],
   "source": [
    "subject_set.add(new_subjects)"
   ]
  },
  {
   "cell_type": "code",
   "execution_count": 46,
   "metadata": {},
   "outputs": [
    {
     "data": {
      "text/html": [
       "<i>Table length=1</i>\n",
       "<table id=\"table139929115804432\" class=\"table-striped table-bordered table-condensed\">\n",
       "<thead><tr><th>Version</th><th>ZTF_Name</th><th>z_sntemplate</th><th>z_rlap</th><th>z_snid</th><th>z_snid_err</th><th>z_level</th><th>rank_1</th><th>sntemplate_1</th><th>rlap_1</th><th>c_snid_1</th><th>z_snid_1</th><th>z_snid_err_1</th><th>age_1</th><th>age_flag_1</th><th>rank_2</th><th>sntemplate_2</th><th>rlap_2</th><th>c_snid_2</th><th>z_snid_2</th><th>z_snid_err_2</th><th>age_2</th><th>age_flag_2</th><th>rank_3</th><th>sntemplate_3</th><th>rlap_3</th><th>c_snid_3</th><th>z_snid_3</th><th>z_snid_err_3</th><th>age_3</th><th>age_flag_3</th><th>rank_4</th><th>sntemplate_4</th><th>rlap_4</th><th>c_snid_4</th><th>z_snid_4</th><th>z_snid_err_4</th><th>age_4</th><th>age_flag_4</th><th>rank_5</th><th>sntemplate_5</th><th>rlap_5</th><th>c_snid_5</th><th>z_snid_5</th><th>z_snid_err_5</th><th>age_5</th><th>age_flag_5</th></tr></thead>\n",
       "<thead><tr><th>str39</th><th>str12</th><th>str12</th><th>float64</th><th>float64</th><th>float64</th><th>int64</th><th>int64</th><th>str12</th><th>float64</th><th>str7</th><th>float64</th><th>float64</th><th>float64</th><th>int64</th><th>int64</th><th>str12</th><th>float64</th><th>str7</th><th>float64</th><th>float64</th><th>float64</th><th>int64</th><th>int64</th><th>str12</th><th>float64</th><th>str7</th><th>float64</th><th>float64</th><th>float64</th><th>int64</th><th>int64</th><th>str12</th><th>float64</th><th>str7</th><th>float64</th><th>float64</th><th>float64</th><th>int64</th><th>int64</th><th>str12</th><th>float64</th><th>str7</th><th>float64</th><th>float64</th><th>float64</th><th>int64</th></tr></thead>\n",
       "<tr><td>ZTF17aaawgkc_20180822_P60_v1.ascii</td><td>ZTF17aaawgkc</td><td>sn1995F</td><td>5.91</td><td>0.2735</td><td>0.0108</td><td>0</td><td>1</td><td>sn1995F</td><td>5.91</td><td>Ic-norm</td><td>0.2735</td><td>0.0108</td><td>88.8</td><td>1</td><td>2</td><td>sn95F</td><td>5.9</td><td>Ic-norm</td><td>0.2741</td><td>0.0107</td><td>88.6</td><td>1</td><td>3</td><td>sn93J</td><td>5.88</td><td>IIb</td><td>0.2642</td><td>0.0078</td><td>102.0</td><td>0</td><td>4</td><td>sn1993J</td><td>5.88</td><td>IIb</td><td>0.2642</td><td>0.0078</td><td>102.0</td><td>0</td><td>16</td><td>sn2008D</td><td>5.24</td><td>Ib-norm</td><td>0.2808</td><td>0.0133</td><td>63.9</td><td>0</td></tr>\n",
       "</table>"
      ],
      "text/plain": [
       "<Table length=1>\n",
       "             Version                 ZTF_Name   ...  age_5  age_flag_5\n",
       "              str39                   str12     ... float64   int64   \n",
       "---------------------------------- ------------ ... ------- ----------\n",
       "ZTF17aaawgkc_20180822_P60_v1.ascii ZTF17aaawgkc ...    63.9          0"
      ]
     },
     "execution_count": 46,
     "metadata": {},
     "output_type": "execute_result"
    }
   ],
   "source": [
    "RedshiftClass[RedshiftClass[\"Version\"] == \"ZTF17aaawgkc_20180822_P60_v1.ascii\"]"
   ]
  },
  {
   "cell_type": "code",
   "execution_count": 47,
   "metadata": {},
   "outputs": [
    {
     "data": {
      "text/plain": [
       "(array([7]),)"
      ]
     },
     "execution_count": 47,
     "metadata": {},
     "output_type": "execute_result"
    }
   ],
   "source": [
    "np.where(RedshiftClass[\"Version\"] == \"ZTF17aaawgkc_20180822_P60_v1.ascii\")"
   ]
  },
  {
   "cell_type": "code",
   "execution_count": 82,
   "metadata": {},
   "outputs": [
    {
     "data": {
      "text/plain": [
       "8765"
      ]
     },
     "execution_count": 82,
     "metadata": {},
     "output_type": "execute_result"
    }
   ],
   "source": [
    "len(RedshiftClass)"
   ]
  },
  {
   "cell_type": "code",
   "execution_count": 90,
   "metadata": {},
   "outputs": [
    {
     "data": {
      "text/plain": [
       "{'z_snid': 0.066,\n",
       " '!ZTF_Name': 'ZTF20aaydgsu',\n",
       " 'z_snid_err': 0.009,\n",
       " '!ZTF_Version': 'ZTF20aaydgsu_20200510_P60_v1'}"
      ]
     },
     "execution_count": 90,
     "metadata": {},
     "output_type": "execute_result"
    }
   ],
   "source": [
    "new_subjects[-1].metadata"
   ]
  },
  {
   "cell_type": "code",
   "execution_count": 91,
   "metadata": {},
   "outputs": [
    {
     "data": {
      "text/html": [
       "<i>Table length=766</i>\n",
       "<table id=\"table139929035937936\" class=\"table-striped table-bordered table-condensed\">\n",
       "<thead><tr><th>!ZTF_Version</th><th>!ZTF_Name</th><th>#Image0</th><th>#Image1</th><th>#Image2</th><th>#Image3</th><th>#Image4</th><th>z_snid</th><th>z_snid_err</th></tr></thead>\n",
       "<thead><tr><th>str64</th><th>str64</th><th>str64</th><th>str64</th><th>str64</th><th>str64</th><th>str64</th><th>float64</th><th>float64</th></tr></thead>\n",
       "<tr><td>ZTF20aaydgsu_20200510_P60_v1</td><td>ZTF20aaydgsu</td><td>snidfits_emclip_ZTF20aaydgsu_20200510_P60_v1_1.png</td><td>snidfits_emclip_ZTF20aaydgsu_20200510_P60_v1_2.png</td><td>snidfits_emclip_ZTF20aaydgsu_20200510_P60_v1_3.png</td><td>snidfits_emclip_ZTF20aaydgsu_20200510_P60_v1_6.png</td><td>snidfits_emclip_ZTF20aaydgsu_20200510_P60_v1_63.png</td><td>0.066</td><td>0.009</td></tr>\n",
       "<tr><td>ZTF20aaydgsu_20200510_P60_v2</td><td>ZTF20aaydgsu</td><td>snidfits_emclip_ZTF20aaydgsu_20200510_P60_v2_1.png</td><td>snidfits_emclip_ZTF20aaydgsu_20200510_P60_v2_2.png</td><td>snidfits_emclip_ZTF20aaydgsu_20200510_P60_v2_3.png</td><td>snidfits_emclip_ZTF20aaydgsu_20200510_P60_v2_4.png</td><td>snidfits_emclip_ZTF20aaydgsu_20200510_P60_v2_5.png</td><td>0.048</td><td>0.003</td></tr>\n",
       "<tr><td>ZTF20aayeims_20200510_P60_v1</td><td>ZTF20aayeims</td><td>snidfits_emclip_ZTF20aayeims_20200510_P60_v1_1.png</td><td>snidfits_emclip_ZTF20aayeims_20200510_P60_v1_2.png</td><td>snidfits_emclip_ZTF20aayeims_20200510_P60_v1_3.png</td><td>snidfits_emclip_ZTF20aayeims_20200510_P60_v1_4.png</td><td>snidfits_emclip_ZTF20aayeims_20200510_P60_v1_5.png</td><td>0.068</td><td>0.004</td></tr>\n",
       "<tr><td>ZTF20aayhacx_20200507_P60_v1</td><td>ZTF20aayhacx</td><td>snidfits_emclip_ZTF20aayhacx_20200507_P60_v1_1.png</td><td>snidfits_emclip_ZTF20aayhacx_20200507_P60_v1_3.png</td><td>snidfits_emclip_ZTF20aayhacx_20200507_P60_v1_4.png</td><td>snidfits_emclip_ZTF20aayhacx_20200507_P60_v1_5.png</td><td>snidfits_emclip_ZTF20aayhacx_20200507_P60_v1_6.png</td><td>0.281</td><td>0.006</td></tr>\n",
       "<tr><td>ZTF20aayhacx_20200507_P60_v2</td><td>ZTF20aayhacx</td><td>snidfits_emclip_ZTF20aayhacx_20200507_P60_v2_1.png</td><td>snidfits_emclip_ZTF20aayhacx_20200507_P60_v2_3.png</td><td>snidfits_emclip_ZTF20aayhacx_20200507_P60_v2_4.png</td><td>snidfits_emclip_ZTF20aayhacx_20200507_P60_v2_8.png</td><td>snidfits_emclip_ZTF20aayhacx_20200507_P60_v2_9.png</td><td>0.281</td><td>0.006</td></tr>\n",
       "<tr><td>ZTF20aayhacx_20200513_NOT_v2</td><td>ZTF20aayhacx</td><td>snidfits_emclip_ZTF20aayhacx_20200513_NOT_v2_1.png</td><td>snidfits_emclip_ZTF20aayhacx_20200513_NOT_v2_2.png</td><td>snidfits_emclip_ZTF20aayhacx_20200513_NOT_v2_3.png</td><td>snidfits_emclip_ZTF20aayhacx_20200513_NOT_v2_4.png</td><td>snidfits_emclip_ZTF20aayhacx_20200513_NOT_v2_52.png</td><td>0.153</td><td>0.012</td></tr>\n",
       "<tr><td>ZTF20aayhacx_20200521_P60_v1</td><td>ZTF20aayhacx</td><td>snidfits_emclip_ZTF20aayhacx_20200521_P60_v1_1.png</td><td>snidfits_emclip_ZTF20aayhacx_20200521_P60_v1_3.png</td><td>snidfits_emclip_ZTF20aayhacx_20200521_P60_v1_4.png</td><td>snidfits_emclip_ZTF20aayhacx_20200521_P60_v1_7.png</td><td>snidfits_emclip_ZTF20aayhacx_20200521_P60_v1_8.png</td><td>0.166</td><td>0.012</td></tr>\n",
       "<tr><td>ZTF20aayhacx_20200528_P60_v1</td><td>ZTF20aayhacx</td><td>snidfits_emclip_ZTF20aayhacx_20200528_P60_v1_1.png</td><td>snidfits_emclip_ZTF20aayhacx_20200528_P60_v1_2.png</td><td>snidfits_emclip_ZTF20aayhacx_20200528_P60_v1_3.png</td><td>snidfits_emclip_ZTF20aayhacx_20200528_P60_v1_4.png</td><td>snidfits_emclip_ZTF20aayhacx_20200528_P60_v1_5.png</td><td>0.166</td><td>0.013</td></tr>\n",
       "<tr><td>ZTF20aayhacx_20200529_Lick_3-m_v1</td><td>ZTF20aayhacx</td><td>snidfits_emclip_ZTF20aayhacx_20200529_Lick_3-m_v1_1.png</td><td>snidfits_emclip_ZTF20aayhacx_20200529_Lick_3-m_v1_3.png</td><td>snidfits_emclip_ZTF20aayhacx_20200529_Lick_3-m_v1_5.png</td><td>snidfits_emclip_ZTF20aayhacx_20200529_Lick_3-m_v1_6.png</td><td>snidfits_emclip_ZTF20aayhacx_20200529_Lick_3-m_v1_7.png</td><td>0.17</td><td>0.011</td></tr>\n",
       "<tr><td>ZTF20aayhacx_20200531_P60_v1</td><td>ZTF20aayhacx</td><td>snidfits_emclip_ZTF20aayhacx_20200531_P60_v1_1.png</td><td>snidfits_emclip_ZTF20aayhacx_20200531_P60_v1_2.png</td><td>snidfits_emclip_ZTF20aayhacx_20200531_P60_v1_3.png</td><td>snidfits_emclip_ZTF20aayhacx_20200531_P60_v1_4.png</td><td>snidfits_emclip_ZTF20aayhacx_20200531_P60_v1_6.png</td><td>0.951</td><td>0.014</td></tr>\n",
       "<tr><td>...</td><td>...</td><td>...</td><td>...</td><td>...</td><td>...</td><td>...</td><td>...</td><td>...</td></tr>\n",
       "<tr><td>ZTF20abpmqnr_20200731_P60_v1</td><td>ZTF20abpmqnr</td><td>snidfits_emclip_ZTF20abpmqnr_20200731_P60_v1_1.png</td><td>snidfits_emclip_ZTF20abpmqnr_20200731_P60_v1_2.png</td><td>snidfits_emclip_ZTF20abpmqnr_20200731_P60_v1_3.png</td><td>snidfits_emclip_ZTF20abpmqnr_20200731_P60_v1_4.png</td><td>snidfits_emclip_ZTF20abpmqnr_20200731_P60_v1_6.png</td><td>0.046</td><td>0.019</td></tr>\n",
       "<tr><td>ZTF20abpmqnr_20200731_P60_v2</td><td>ZTF20abpmqnr</td><td>snidfits_emclip_ZTF20abpmqnr_20200731_P60_v2_1.png</td><td>snidfits_emclip_ZTF20abpmqnr_20200731_P60_v2_2.png</td><td>snidfits_emclip_ZTF20abpmqnr_20200731_P60_v2_3.png</td><td>snidfits_emclip_ZTF20abpmqnr_20200731_P60_v2_11.png</td><td>snidfits_emclip_ZTF20abpmqnr_20200731_P60_v2_12.png</td><td>0.062</td><td>0.009</td></tr>\n",
       "<tr><td>ZTF20abpmqnr_20200804_LT_v1</td><td>ZTF20abpmqnr</td><td>snidfits_emclip_ZTF20abpmqnr_20200804_LT_v1_1.png</td><td>snidfits_emclip_ZTF20abpmqnr_20200804_LT_v1_2.png</td><td>snidfits_emclip_ZTF20abpmqnr_20200804_LT_v1_3.png</td><td>snidfits_emclip_ZTF20abpmqnr_20200804_LT_v1_4.png</td><td>snidfits_emclip_ZTF20abpmqnr_20200804_LT_v1_5.png</td><td>0.021</td><td>0.002</td></tr>\n",
       "<tr><td>ZTF20abpqhjh_20200731_P60_v1</td><td>ZTF20abpqhjh</td><td>snidfits_emclip_ZTF20abpqhjh_20200731_P60_v1_1.png</td><td>snidfits_emclip_ZTF20abpqhjh_20200731_P60_v1_3.png</td><td>snidfits_emclip_ZTF20abpqhjh_20200731_P60_v1_4.png</td><td>snidfits_emclip_ZTF20abpqhjh_20200731_P60_v1_5.png</td><td>snidfits_emclip_ZTF20abpqhjh_20200731_P60_v1_6.png</td><td>0.104</td><td>0.013</td></tr>\n",
       "<tr><td>ZTF20abpqhjh_20200804_P60_v1</td><td>ZTF20abpqhjh</td><td>snidfits_emclip_ZTF20abpqhjh_20200804_P60_v1_1.png</td><td>snidfits_emclip_ZTF20abpqhjh_20200804_P60_v1_3.png</td><td>snidfits_emclip_ZTF20abpqhjh_20200804_P60_v1_4.png</td><td>snidfits_emclip_ZTF20abpqhjh_20200804_P60_v1_6.png</td><td>snidfits_emclip_ZTF20abpqhjh_20200804_P60_v1_12.png</td><td>0.579</td><td>0.018</td></tr>\n",
       "<tr><td>ZTF20abpscln_20200802_P60_v1</td><td>ZTF20abpscln</td><td>snidfits_emclip_ZTF20abpscln_20200802_P60_v1_1.png</td><td>snidfits_emclip_ZTF20abpscln_20200802_P60_v1_2.png</td><td>snidfits_emclip_ZTF20abpscln_20200802_P60_v1_3.png</td><td>snidfits_emclip_ZTF20abpscln_20200802_P60_v1_4.png</td><td>snidfits_emclip_ZTF20abpscln_20200802_P60_v1_49.png</td><td>0.069</td><td>0.008</td></tr>\n",
       "<tr><td>ZTF20abptxls_20200802_P60_v1</td><td>ZTF20abptxls</td><td>snidfits_emclip_ZTF20abptxls_20200802_P60_v1_1.png</td><td>snidfits_emclip_ZTF20abptxls_20200802_P60_v1_3.png</td><td>snidfits_emclip_ZTF20abptxls_20200802_P60_v1_4.png</td><td>snidfits_emclip_ZTF20abptxls_20200802_P60_v1_16.png</td><td>snidfits_emclip_ZTF20abptxls_20200802_P60_v1_24.png</td><td>0.056</td><td>0.009</td></tr>\n",
       "<tr><td>ZTF20abptxls_20200802_P60_v2</td><td>ZTF20abptxls</td><td>snidfits_emclip_ZTF20abptxls_20200802_P60_v2_1.png</td><td>snidfits_emclip_ZTF20abptxls_20200802_P60_v2_3.png</td><td>snidfits_emclip_ZTF20abptxls_20200802_P60_v2_4.png</td><td>snidfits_emclip_ZTF20abptxls_20200802_P60_v2_5.png</td><td>snidfits_emclip_ZTF20abptxls_20200802_P60_v2_39.png</td><td>0.049</td><td>0.009</td></tr>\n",
       "<tr><td>ZTF20abptxls_20200804_P60_v1</td><td>ZTF20abptxls</td><td>snidfits_emclip_ZTF20abptxls_20200804_P60_v1_1.png</td><td>snidfits_emclip_ZTF20abptxls_20200804_P60_v1_3.png</td><td>snidfits_emclip_ZTF20abptxls_20200804_P60_v1_4.png</td><td>snidfits_emclip_ZTF20abptxls_20200804_P60_v1_6.png</td><td>snidfits_emclip_ZTF20abptxls_20200804_P60_v1_9.png</td><td>0.994</td><td>0.011</td></tr>\n",
       "<tr><td>ZTF20abpvhqv_20200801_P60_v1</td><td>ZTF20abpvhqv</td><td>snidfits_emclip_ZTF20abpvhqv_20200801_P60_v1_1.png</td><td>snidfits_emclip_ZTF20abpvhqv_20200801_P60_v1_2.png</td><td>snidfits_emclip_ZTF20abpvhqv_20200801_P60_v1_3.png</td><td>snidfits_emclip_ZTF20abpvhqv_20200801_P60_v1_4.png</td><td>snidfits_emclip_ZTF20abpvhqv_20200801_P60_v1_5.png</td><td>0.275</td><td>0.003</td></tr>\n",
       "</table>"
      ],
      "text/plain": [
       "<Table length=766>\n",
       "           !ZTF_Version            !ZTF_Name   ...  z_snid z_snid_err\n",
       "              str64                  str64     ... float64  float64  \n",
       "--------------------------------- ------------ ... ------- ----------\n",
       "     ZTF20aaydgsu_20200510_P60_v1 ZTF20aaydgsu ...   0.066      0.009\n",
       "     ZTF20aaydgsu_20200510_P60_v2 ZTF20aaydgsu ...   0.048      0.003\n",
       "     ZTF20aayeims_20200510_P60_v1 ZTF20aayeims ...   0.068      0.004\n",
       "     ZTF20aayhacx_20200507_P60_v1 ZTF20aayhacx ...   0.281      0.006\n",
       "     ZTF20aayhacx_20200507_P60_v2 ZTF20aayhacx ...   0.281      0.006\n",
       "     ZTF20aayhacx_20200513_NOT_v2 ZTF20aayhacx ...   0.153      0.012\n",
       "     ZTF20aayhacx_20200521_P60_v1 ZTF20aayhacx ...   0.166      0.012\n",
       "     ZTF20aayhacx_20200528_P60_v1 ZTF20aayhacx ...   0.166      0.013\n",
       "ZTF20aayhacx_20200529_Lick_3-m_v1 ZTF20aayhacx ...    0.17      0.011\n",
       "     ZTF20aayhacx_20200531_P60_v1 ZTF20aayhacx ...   0.951      0.014\n",
       "                              ...          ... ...     ...        ...\n",
       "     ZTF20abpmqnr_20200731_P60_v1 ZTF20abpmqnr ...   0.046      0.019\n",
       "     ZTF20abpmqnr_20200731_P60_v2 ZTF20abpmqnr ...   0.062      0.009\n",
       "      ZTF20abpmqnr_20200804_LT_v1 ZTF20abpmqnr ...   0.021      0.002\n",
       "     ZTF20abpqhjh_20200731_P60_v1 ZTF20abpqhjh ...   0.104      0.013\n",
       "     ZTF20abpqhjh_20200804_P60_v1 ZTF20abpqhjh ...   0.579      0.018\n",
       "     ZTF20abpscln_20200802_P60_v1 ZTF20abpscln ...   0.069      0.008\n",
       "     ZTF20abptxls_20200802_P60_v1 ZTF20abptxls ...   0.056      0.009\n",
       "     ZTF20abptxls_20200802_P60_v2 ZTF20abptxls ...   0.049      0.009\n",
       "     ZTF20abptxls_20200804_P60_v1 ZTF20abptxls ...   0.994      0.011\n",
       "     ZTF20abpvhqv_20200801_P60_v1 ZTF20abpvhqv ...   0.275      0.003"
      ]
     },
     "execution_count": 91,
     "metadata": {},
     "output_type": "execute_result"
    }
   ],
   "source": [
    "manifest[8000 - 1:]"
   ]
  },
  {
   "cell_type": "code",
   "execution_count": null,
   "metadata": {},
   "outputs": [],
   "source": []
  }
 ],
 "metadata": {
  "kernelspec": {
   "display_name": "Python 3",
   "language": "python",
   "name": "python3"
  },
  "language_info": {
   "codemirror_mode": {
    "name": "ipython",
    "version": 3
   },
   "file_extension": ".py",
   "mimetype": "text/x-python",
   "name": "python",
   "nbconvert_exporter": "python",
   "pygments_lexer": "ipython3",
   "version": "3.7.6"
  }
 },
 "nbformat": 4,
 "nbformat_minor": 4
}
