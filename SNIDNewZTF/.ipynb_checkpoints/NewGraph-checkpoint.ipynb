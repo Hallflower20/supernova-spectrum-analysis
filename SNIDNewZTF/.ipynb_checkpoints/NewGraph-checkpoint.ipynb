{
 "cells": [
  {
   "cell_type": "code",
   "execution_count": 1,
   "metadata": {},
   "outputs": [],
   "source": [
    "import subprocess\n",
    "import shlex\n",
    "import pandas as pd\n",
    "import numpy as np\n",
    "from astropy.table import Table\n",
    "from astropy.table import Column\n",
    "import os\n",
    "import matplotlib.pyplot as plt\n",
    "from matplotlib.backends.backend_pdf import PdfPages\n",
    "from matplotlib.ticker import MultipleLocator\n",
    "import glob\n",
    "from matplotlib import pyplot\n",
    "import matplotlib.gridspec as gridspec\n",
    "import gc"
   ]
  },
  {
   "cell_type": "code",
   "execution_count": 2,
   "metadata": {},
   "outputs": [],
   "source": [
    "basedir = \"/home/xhall/Documents/\"\n",
    "\n",
    "sample200 = Table.from_pandas(pd.read_csv(basedir + \"NewZTF/ML_sample_snid200.csv\"))\n",
    "ML_sample_snid_examples = Table.from_pandas(pd.read_csv(basedir + \"NewZTF/ML_sample_snid_brightexamples.csv\"))\n",
    "sample_2018 = Table.from_pandas(pd.read_csv(basedir + \"NewZTF/sample_2018/ML_sample_snid_norepeat_2018.csv\"))"
   ]
  },
  {
   "cell_type": "code",
   "execution_count": 10,
   "metadata": {},
   "outputs": [],
   "source": [
    "source = basedir + \"NewZTF/sample_2018/SNIDoutput/\"\n",
    "output = basedir + \"NewZTF/sample_2018/ImageOutput/\""
   ]
  },
  {
   "cell_type": "code",
   "execution_count": 4,
   "metadata": {},
   "outputs": [],
   "source": [
    "def read_tables(files):\n",
    "    matches_files = files[0:len(files)-1]\n",
    "    spectra = Table.read(files[-1], format = \"ascii\", names = [\"wavelength\", \"flux\"])\n",
    "    matches = []\n",
    "    for i in matches_files:\n",
    "        input_data = open(i,'r').readlines()[0].split()\n",
    "        row = [[int(input_data[3][0]), input_data[4],input_data[5][1::],float(input_data[-3].split(\"-\")[-1]),float(input_data[-1])]]\n",
    "        row.append(Table.read(i, format = \"ascii\", names = [\"redshifted_wavelength\", \"flux\"]))\n",
    "        matches.append(row)\n",
    "    return matches, spectra"
   ]
  },
  {
   "cell_type": "code",
   "execution_count": 5,
   "metadata": {},
   "outputs": [],
   "source": [
    "def plot_box_spec(wave, flux): \n",
    "    flux_plot = np.repeat(flux, 2)\n",
    "    wv_plot = wave.copy()\n",
    "    wv_plot[:-1] += np.diff(wave)/2\n",
    "    wv_plot = np.append(wave[0]-(wave[1]-wave[0])/2, \n",
    "                        np.append(np.repeat(wv_plot[0:-1], 2), \n",
    "                                  wave[-1]+(wave[-1]-wave[-2])/2))\n",
    "    \n",
    "    return wv_plot, flux_plot"
   ]
  },
  {
   "cell_type": "code",
   "execution_count": 6,
   "metadata": {},
   "outputs": [],
   "source": [
    "def specplot(x,y,xi,yi,snid_type,fname,output,best_num, z_template, z_template_unc, z_snid,\n",
    "             spec_num, show_redshift=False):\n",
    "    fig, ax = plt.subplots(figsize=(8,4.5))\n",
    "    ax.plot(xi,yi,color='#32384D',alpha=0.5,\n",
    "             label='New SN')\n",
    "    ax.plot(x,y,color='#217CA3',\n",
    "             label='SNID template', lw=3)\n",
    "    if show_redshift:\n",
    "        ax.plot(x[-3],y[-3],color='white',lw=0,\n",
    "                 label=r'$z_\\mathrm{} = $ {:.3f}$\\,\\pm\\,${:.3f}'.format(\"{SNID}\", z_template, z_template_unc))\n",
    "        ax.text(0.78, 0.955, r'$z_\\mathrm{} = ${:.4f}'.format(\"{SN}\", z_snid), \n",
    "                va='center',\n",
    "                fontsize=15, transform=plt.gcf().transFigure)\n",
    "    else:\n",
    "        ax.text(0.78, 0.955, 'Match #{}'.format(spec_num + 1), \n",
    "                va='center',\n",
    "                fontsize=15, transform=plt.gcf().transFigure)\n",
    "        \n",
    "    ax.plot(x[-3],y[-3],color='#217CA3', lw=3)\n",
    "    ax.set_xlabel(r'Rest Frame Wavelength ($\\mathrm{\\AA}$)', fontsize=17)\n",
    "    ax.set_ylabel('Relative Flux', fontsize=17)\n",
    "    ax.tick_params(which='both',labelsize=15)\n",
    "    \n",
    "    ax.grid(axis='x', color='0.7', ls=':')\n",
    "    ax.xaxis.set_minor_locator(MultipleLocator(250))\n",
    "    ax.set_yticklabels([])\n",
    "\n",
    "    \n",
    "    ax.text(0.105, 0.955, 'SNID type: ', \n",
    "            va='center',\n",
    "            fontsize=15, transform=plt.gcf().transFigure)\n",
    "    ax.text(0.245, 0.955, snid_type, \n",
    "            color='#217CA3', weight='bold', va='center',\n",
    "            fontsize=23, transform=plt.gcf().transFigure)\n",
    "\n",
    "    \n",
    "    \n",
    "    ax.legend(fancybox=True)\n",
    "    fig.subplots_adjust(left=0.055,right=0.99,top=0.925,bottom=0.145)\n",
    "    fig.savefig(output + 'snidfits_emclip_' + fname + \"_\" + str(best_num) + '.png', dpi = 600)\n",
    "    plt.close(fig)\n",
    "    plt.close()\n"
   ]
  },
  {
   "cell_type": "code",
   "execution_count": 7,
   "metadata": {},
   "outputs": [],
   "source": [
    "def plot_best_5(source, output, spectra_name, z_snid, show_redshift=False):\n",
    "    source_folder = source + spectra_name\n",
    "    \n",
    "    files = np.sort(glob.glob(source_folder+\"/*.dat\"))\n",
    "    if(len(files)==0):\n",
    "        print(spectra_name)\n",
    "        return -1\n",
    "    matches, spectra = read_tables(files)\n",
    "    \n",
    "    for spec_num, i in enumerate(matches):\n",
    "        z = i[0][3]\n",
    "        snid_type = i[0][2][:-1]\n",
    "        \n",
    "        xi, yi = plot_box_spec(spectra[\"wavelength\"], spectra[\"flux\"])\n",
    "        xi /= (1+z)\n",
    "        x, y = i[1][\"redshifted_wavelength\"] / (1+z), i[1][\"flux\"]\n",
    "        specplot(x,y,xi,yi,snid_type,spectra_name,output,i[0][0], z, i[0][4], z_snid, spec_num, show_redshift=show_redshift)"
   ]
  },
  {
   "cell_type": "code",
   "execution_count": null,
   "metadata": {},
   "outputs": [
    {
     "name": "stdout",
     "output_type": "stream",
     "text": [
      "0\n",
      "20\n",
      "40\n",
      "60\n",
      "80\n",
      "100\n",
      "120\n",
      "140\n",
      "160\n"
     ]
    }
   ],
   "source": [
    "counter = 0\n",
    "for i in sample_2018:\n",
    "    spectra_name = i[\"Version\"].split(\".\")[0]\n",
    "    z_snid = i[\"z_snid\"]\n",
    "    plot_best_5(source,output,spectra_name,z_snid, show_redshift = False)\n",
    "    gc.collect()\n",
    "    if(counter%20 == 0):\n",
    "        print(counter)\n",
    "    counter += 1"
   ]
  },
  {
   "cell_type": "code",
   "execution_count": 13,
   "metadata": {},
   "outputs": [],
   "source": [
    "pngs = glob.glob(output + \"/*.png\")"
   ]
  },
  {
   "cell_type": "code",
   "execution_count": 15,
   "metadata": {},
   "outputs": [
    {
     "data": {
      "text/plain": [
       "7710"
      ]
     },
     "execution_count": 15,
     "metadata": {},
     "output_type": "execute_result"
    }
   ],
   "source": [
    "len(pngs)"
   ]
  },
  {
   "cell_type": "code",
   "execution_count": 17,
   "metadata": {},
   "outputs": [
    {
     "data": {
      "text/plain": [
       "7715"
      ]
     },
     "execution_count": 17,
     "metadata": {},
     "output_type": "execute_result"
    }
   ],
   "source": [
    "len(sample_2018)*5"
   ]
  },
  {
   "cell_type": "code",
   "execution_count": 25,
   "metadata": {},
   "outputs": [
    {
     "data": {
      "text/plain": [
       "['/home/xhall/Documents/NewZTF/sample_2018/SNIDoutput//ZTF18aaxdrjn_20180531_P60_v1/snid.param',\n",
       " '/home/xhall/Documents/NewZTF/sample_2018/SNIDoutput//ZTF18aaxdrjn_20180531_P60_v1/ZTF18aaxdrjn_20180531_P60_v1_snid.output']"
      ]
     },
     "execution_count": 25,
     "metadata": {},
     "output_type": "execute_result"
    }
   ],
   "source": [
    "glob.glob(source + \"/ZTF18aaxdrjn_20180531_P60_v1/*.*\")"
   ]
  },
  {
   "cell_type": "code",
   "execution_count": 23,
   "metadata": {},
   "outputs": [
    {
     "ename": "IndexError",
     "evalue": "index -1 is out of bounds for axis 0 with size 0",
     "output_type": "error",
     "traceback": [
      "\u001b[0;31m---------------------------------------------------------------------------\u001b[0m",
      "\u001b[0;31mIndexError\u001b[0m                                Traceback (most recent call last)",
      "\u001b[0;32m<ipython-input-23-b991ce23e914>\u001b[0m in \u001b[0;36m<module>\u001b[0;34m\u001b[0m\n\u001b[0;32m----> 1\u001b[0;31m \u001b[0mread_tables\u001b[0m\u001b[0;34m(\u001b[0m\u001b[0mnp\u001b[0m\u001b[0;34m.\u001b[0m\u001b[0msort\u001b[0m\u001b[0;34m(\u001b[0m\u001b[0mglob\u001b[0m\u001b[0;34m.\u001b[0m\u001b[0mglob\u001b[0m\u001b[0;34m(\u001b[0m\u001b[0msource\u001b[0m \u001b[0;34m+\u001b[0m \u001b[0;34m\"/ZTF18aaxdrjn_20180531_P60_v1/*.dat\"\u001b[0m\u001b[0;34m)\u001b[0m\u001b[0;34m)\u001b[0m\u001b[0;34m)\u001b[0m\u001b[0;34m\u001b[0m\u001b[0;34m\u001b[0m\u001b[0m\n\u001b[0m",
      "\u001b[0;32m<ipython-input-5-96481dceb953>\u001b[0m in \u001b[0;36mread_tables\u001b[0;34m(files)\u001b[0m\n\u001b[1;32m      1\u001b[0m \u001b[0;32mdef\u001b[0m \u001b[0mread_tables\u001b[0m\u001b[0;34m(\u001b[0m\u001b[0mfiles\u001b[0m\u001b[0;34m)\u001b[0m\u001b[0;34m:\u001b[0m\u001b[0;34m\u001b[0m\u001b[0;34m\u001b[0m\u001b[0m\n\u001b[1;32m      2\u001b[0m     \u001b[0mmatches_files\u001b[0m \u001b[0;34m=\u001b[0m \u001b[0mfiles\u001b[0m\u001b[0;34m[\u001b[0m\u001b[0;36m0\u001b[0m\u001b[0;34m:\u001b[0m\u001b[0mlen\u001b[0m\u001b[0;34m(\u001b[0m\u001b[0mfiles\u001b[0m\u001b[0;34m)\u001b[0m\u001b[0;34m-\u001b[0m\u001b[0;36m1\u001b[0m\u001b[0;34m]\u001b[0m\u001b[0;34m\u001b[0m\u001b[0;34m\u001b[0m\u001b[0m\n\u001b[0;32m----> 3\u001b[0;31m     \u001b[0mspectra\u001b[0m \u001b[0;34m=\u001b[0m \u001b[0mTable\u001b[0m\u001b[0;34m.\u001b[0m\u001b[0mread\u001b[0m\u001b[0;34m(\u001b[0m\u001b[0mfiles\u001b[0m\u001b[0;34m[\u001b[0m\u001b[0;34m-\u001b[0m\u001b[0;36m1\u001b[0m\u001b[0;34m]\u001b[0m\u001b[0;34m,\u001b[0m \u001b[0mformat\u001b[0m \u001b[0;34m=\u001b[0m \u001b[0;34m\"ascii\"\u001b[0m\u001b[0;34m,\u001b[0m \u001b[0mnames\u001b[0m \u001b[0;34m=\u001b[0m \u001b[0;34m[\u001b[0m\u001b[0;34m\"wavelength\"\u001b[0m\u001b[0;34m,\u001b[0m \u001b[0;34m\"flux\"\u001b[0m\u001b[0;34m]\u001b[0m\u001b[0;34m)\u001b[0m\u001b[0;34m\u001b[0m\u001b[0;34m\u001b[0m\u001b[0m\n\u001b[0m\u001b[1;32m      4\u001b[0m     \u001b[0mmatches\u001b[0m \u001b[0;34m=\u001b[0m \u001b[0;34m[\u001b[0m\u001b[0;34m]\u001b[0m\u001b[0;34m\u001b[0m\u001b[0;34m\u001b[0m\u001b[0m\n\u001b[1;32m      5\u001b[0m     \u001b[0;32mfor\u001b[0m \u001b[0mi\u001b[0m \u001b[0;32min\u001b[0m \u001b[0mmatches_files\u001b[0m\u001b[0;34m:\u001b[0m\u001b[0;34m\u001b[0m\u001b[0;34m\u001b[0m\u001b[0m\n",
      "\u001b[0;31mIndexError\u001b[0m: index -1 is out of bounds for axis 0 with size 0"
     ]
    }
   ],
   "source": [
    "read_tables(np.sort(glob.glob(source + \"/ZTF18aaxdrjn_20180531_P60_v1/*.dat\")))"
   ]
  },
  {
   "cell_type": "code",
   "execution_count": 27,
   "metadata": {},
   "outputs": [
    {
     "data": {
      "text/plain": [
       "[]"
      ]
     },
     "execution_count": 27,
     "metadata": {},
     "output_type": "execute_result"
    }
   ],
   "source": [
    "glob.glob(source + \"/ZTF18aabssth_20180309_P60_v1/*.dat\")"
   ]
  },
  {
   "cell_type": "code",
   "execution_count": 12,
   "metadata": {},
   "outputs": [],
   "source": [
    "plot_best_5(\"/home/xhall/Documents/RandomSNID/\",\"/home/xhall/Documents/RandomSNID/\",\"lris20201012_ZTF20acdehpz\",0.1751)"
   ]
  },
  {
   "cell_type": "code",
   "execution_count": 30,
   "metadata": {},
   "outputs": [
    {
     "data": {
      "text/plain": [
       "<matplotlib.collections.LineCollection at 0x7f308b452990>"
      ]
     },
     "execution_count": 30,
     "metadata": {},
     "output_type": "execute_result"
    },
    {
     "data": {
      "image/png": "[encoded data removed]",
      "text/plain": [
       "<Figure size 432x288 with 1 Axes>"
      ]
     },
     "metadata": {
      "needs_background": "light"
     },
     "output_type": "display_data"
    }
   ],
   "source": [
    "plt.boxplot([2 * -1, 2 * 1])\n",
    "plt.hlines(.5,.75,1.25, color = \"Blue\")"
   ]
  },
  {
   "cell_type": "code",
   "execution_count": null,
   "metadata": {},
   "outputs": [],
   "source": []
  }
 ],
 "metadata": {
  "kernelspec": {
   "display_name": "Python 3",
   "language": "python",
   "name": "python3"
  },
  "language_info": {
   "codemirror_mode": {
    "name": "ipython",
    "version": 3
   },
   "file_extension": ".py",
   "mimetype": "text/x-python",
   "name": "python",
   "nbconvert_exporter": "python",
   "pygments_lexer": "ipython3",
   "version": "3.7.6"
  }
 },
 "nbformat": 4,
 "nbformat_minor": 4
}
