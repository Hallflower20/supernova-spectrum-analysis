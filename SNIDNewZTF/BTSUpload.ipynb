{
 "cells": [
  {
   "cell_type": "code",
   "execution_count": 3,
   "metadata": {},
   "outputs": [],
   "source": [
    "import os\n",
    "import astropy\n",
    "import numpy as np\n",
    "from astropy.table import Table\n",
    "from astropy.table import Column\n",
    "import glob\n",
    "import matplotlib.pyplot as plt\n",
    "import pandas as pd\n",
    "from collections import Counter\n",
    "from mpl_toolkits.mplot3d import Axes3D\n",
    "import pickle"
   ]
  },
  {
   "cell_type": "code",
   "execution_count": 4,
   "metadata": {},
   "outputs": [],
   "source": [
    "basedir = \"/home/xhall/Documents/\"\n",
    "source = basedir + \"NewZTF/sample_2020/SNIDoutput/\"\n",
    "output = basedir + \"NewZTF/sample_2020/BTSoutput/\"\n",
    "\n",
    "sample200 = Table.from_pandas(pd.read_csv(basedir + \"NewZTF/ML_sample_snid200.csv\"))\n",
    "ML_sample_snid_examples = Table.from_pandas(pd.read_csv(basedir + \"NewZTF/ML_sample_snid_brightexamples.csv\"))\n",
    "sample_2018 = Table.from_pandas(pd.read_csv(basedir + \"NewZTF/sample_2018/ML_sample_snid_norepeat_2018.csv\"))\n",
    "sample_2020 = Table.from_pandas(pd.read_csv(\"/home/xhall/Documents/NewZTF/sample_2020/SNID_2020_output.csv\"))\n",
    "sample_remaining = Table.from_pandas(pd.read_csv(\"/home/xhall/Documents/ZTFI/SNID_2020_remaining_output.csv\"))\n",
    "superfit_results = Table.from_pandas(pd.read_csv(\"/home/xhall/Documents/Superfit/superfit_classes_ZTFI.csv\"))\n",
    "a_file = open(\"/home/xhall/Documents/Superfit/short_path_dict.pkl\", \"rb\")\n",
    "short_path_dict = pickle.load(a_file)\n",
    "phase_data = Table.from_pandas(pd.read_csv(\"/home/xhall/Documents/ZTFI/phase.csv\"))"
   ]
  },
  {
   "cell_type": "code",
   "execution_count": 53,
   "metadata": {},
   "outputs": [],
   "source": [
    "sample = Table.read(basedir + \"ZTFI/SEDM_ML_sample.ascii\", format = \"ascii\")\n",
    "sample.rename_column('col1', 'ZTF_Name')\n",
    "sample.rename_column('col2', \"Class\")\n",
    "sample.rename_column('col3', \"redshift\")\n",
    "sample.rename_column('col8', \"Version\")"
   ]
  },
  {
   "cell_type": "code",
   "execution_count": 5,
   "metadata": {},
   "outputs": [],
   "source": [
    "RedshiftClass = Table.from_pandas(pd.read_csv(\"/home/xhall/Documents/ZTFI/SNID_2020_remaining_output.csv\"))"
   ]
  },
  {
   "cell_type": "code",
   "execution_count": 6,
   "metadata": {},
   "outputs": [],
   "source": [
    "final_rcf_table = Table.from_pandas(pd.read_hdf(r\"/home/xhall/Documents/NewZTF/final_rcf_table.h5\"))"
   ]
  },
  {
   "cell_type": "code",
   "execution_count": 7,
   "metadata": {},
   "outputs": [],
   "source": [
    "ztfI_table_snid = astropy.table.vstack([sample_2020, sample_remaining])"
   ]
  },
  {
   "cell_type": "code",
   "execution_count": 8,
   "metadata": {},
   "outputs": [],
   "source": [
    "ztfI_table_snid.to_pandas().to_csv(\"/home/xhall/Documents/ZTFI/CSV_results/snid_classes_ZTFI.csv\", index = False)"
   ]
  },
  {
   "cell_type": "code",
   "execution_count": 9,
   "metadata": {},
   "outputs": [],
   "source": [
    "joined_table_right = []\n",
    "counter = 0\n",
    "for i in ztfI_table_snid[\"ZTF_Name\"]:\n",
    "    if(i not in final_rcf_table[\"ZTF_Name\"]):\n",
    "        joined_table_right.append(counter)\n",
    "    counter += 1"
   ]
  },
  {
   "cell_type": "code",
   "execution_count": 10,
   "metadata": {},
   "outputs": [],
   "source": [
    "not_final_rcf_sample = ztfI_table_snid[joined_table_right]"
   ]
  },
  {
   "cell_type": "code",
   "execution_count": 11,
   "metadata": {},
   "outputs": [],
   "source": [
    "joined_table = astropy.table.join(not_final_rcf_sample, superfit_results, join_type = \"inner\")"
   ]
  },
  {
   "cell_type": "code",
   "execution_count": 12,
   "metadata": {},
   "outputs": [],
   "source": [
    "for i in joined_table[\"ZTF_Name\"]:\n",
    "    if i in final_rcf_table['ZTF_Name']:\n",
    "        print(i)"
   ]
  },
  {
   "cell_type": "code",
   "execution_count": 13,
   "metadata": {},
   "outputs": [],
   "source": [
    "ZTFid = np.unique(joined_table[\"ZTF_Name\"])"
   ]
  },
  {
   "cell_type": "code",
   "execution_count": 14,
   "metadata": {},
   "outputs": [],
   "source": [
    "maxi = 0\n",
    "maxi_index = []\n",
    "for j in ZTFid:\n",
    "    index = np.where(joined_table[\"ZTF_Name\"] == j)[0]\n",
    "    if(maxi < len(index)):\n",
    "        maxi = len(index)\n",
    "        maxi_index = index"
   ]
  },
  {
   "cell_type": "code",
   "execution_count": 15,
   "metadata": {},
   "outputs": [
    {
     "data": {
      "text/plain": [
       "26"
      ]
     },
     "execution_count": 15,
     "metadata": {},
     "output_type": "execute_result"
    }
   ],
   "source": [
    "len(maxi_index)"
   ]
  },
  {
   "cell_type": "code",
   "execution_count": 16,
   "metadata": {},
   "outputs": [
    {
     "data": {
      "text/html": [
       "<i>Row index=0</i>\n",
       "<table id=\"table140350883715728\">\n",
       "<thead><tr><th>Version</th><th>ZTF_Name</th><th>z_sntemplate</th><th>z_rlap</th><th>z_snid</th><th>z_snid_err</th><th>z_level</th><th>rank_1</th><th>sntemplate_1</th><th>rlap_1</th><th>c_snid_1</th><th>z_snid_1</th><th>z_snid_err_1</th><th>age_1</th><th>age_flag_1</th><th>rank_2</th><th>sntemplate_2</th><th>rlap_2</th><th>c_snid_2</th><th>z_snid_2</th><th>z_snid_err_2</th><th>age_2</th><th>age_flag_2</th><th>rank_3</th><th>sntemplate_3</th><th>rlap_3</th><th>c_snid_3</th><th>z_snid_3</th><th>z_snid_err_3</th><th>age_3</th><th>age_flag_3</th><th>rank_4</th><th>sntemplate_4</th><th>rlap_4</th><th>c_snid_4</th><th>z_snid_4</th><th>z_snid_err_4</th><th>age_4</th><th>age_flag_4</th><th>rank_5</th><th>sntemplate_5</th><th>rlap_5</th><th>c_snid_5</th><th>z_snid_5</th><th>z_snid_err_5</th><th>age_5</th><th>age_flag_5</th><th>Resolution</th><th>Superfit_c</th><th>Superfit_z</th><th>Match</th><th>Gal</th><th>Frac(SN)</th><th>Frac(gal)</th><th>Phase</th><th>Av</th></tr></thead>\n",
       "<thead><tr><th>str39</th><th>str12</th><th>str12</th><th>float64</th><th>float64</th><th>float64</th><th>int64</th><th>int64</th><th>str12</th><th>float64</th><th>str7</th><th>float64</th><th>float64</th><th>float64</th><th>int64</th><th>int64</th><th>str12</th><th>float64</th><th>str7</th><th>float64</th><th>float64</th><th>float64</th><th>int64</th><th>int64</th><th>str12</th><th>float64</th><th>str7</th><th>float64</th><th>float64</th><th>float64</th><th>int64</th><th>int64</th><th>str12</th><th>float64</th><th>str7</th><th>float64</th><th>float64</th><th>float64</th><th>int64</th><th>int64</th><th>str12</th><th>float64</th><th>str7</th><th>float64</th><th>float64</th><th>float64</th><th>int64</th><th>str36</th><th>str18</th><th>float64</th><th>str52</th><th>str80</th><th>float64</th><th>float64</th><th>float64</th><th>float64</th></tr></thead>\n",
       "<tr><td>ZTF18abukavn_20180909_LT_v1.ascii</td><td>ZTF18abukavn</td><td>kcSB2</td><td>8.16</td><td>0.0321</td><td>0.0022</td><td>1</td><td>1</td><td>kcSB2</td><td>8.16</td><td>Gal</td><td>0.0321</td><td>0.0022</td><td>-99.9</td><td>2</td><td>2</td><td>kcSB1</td><td>8.13</td><td>Gal</td><td>0.0322</td><td>0.0022</td><td>-99.9</td><td>2</td><td>3</td><td>kcSc</td><td>6.93</td><td>Gal</td><td>0.0322</td><td>0.0024</td><td>-99.9</td><td>2</td><td>4</td><td>PS1-10bzj</td><td>6.75</td><td>Ic-SLSN</td><td>0.033</td><td>0.0029</td><td>15.64</td><td>0</td><td>6</td><td>lbv99bw</td><td>5.22</td><td>LBV</td><td>0.0316</td><td>0.003</td><td>-99.9</td><td>2</td><td>ZTF18abukavn_20180909_LT_v1_10</td><td>SLSN-I</td><td>0.0328</td><td>SLSN-I/2017egm/SPRAT+2457920.3931713</td><td>/mnt/c/Users/20xha/Documents/Caltech/Research/superfit/bank/binnings/10A/gal/SB1</td><td>0.7648549</td><td>0.23514506</td><td>-5.690924</td><td>1.2</td></tr>\n",
       "</table>"
      ],
      "text/plain": [
       "<Row index=0>\n",
       "             Version                ZTF_Name   z_sntemplate  z_rlap  z_snid z_snid_err z_level rank_1 sntemplate_1  rlap_1 c_snid_1 z_snid_1 z_snid_err_1  age_1  age_flag_1 rank_2 sntemplate_2  rlap_2 c_snid_2 z_snid_2 z_snid_err_2  age_2  age_flag_2 rank_3 sntemplate_3  rlap_3 c_snid_3 z_snid_3 z_snid_err_3  age_3  age_flag_3 rank_4 sntemplate_4  rlap_4 c_snid_4 z_snid_4 z_snid_err_4  age_4  age_flag_4 rank_5 sntemplate_5  rlap_5 c_snid_5 z_snid_5 z_snid_err_5  age_5  age_flag_5           Resolution           Superfit_c Superfit_z                Match                                                       Gal                                         Frac(SN) Frac(gal)    Phase      Av  \n",
       "              str39                  str12        str12     float64 float64  float64    int64  int64     str12     float64   str7   float64    float64    float64   int64    int64     str12     float64   str7   float64    float64    float64   int64    int64     str12     float64   str7   float64    float64    float64   int64    int64     str12     float64   str7   float64    float64    float64   int64    int64     str12     float64   str7   float64    float64    float64   int64                str36                str18     float64                  str52                                                      str80                                        float64   float64    float64  float64\n",
       "--------------------------------- ------------ ------------ ------- ------- ---------- ------- ------ ------------ ------- -------- -------- ------------ ------- ---------- ------ ------------ ------- -------- -------- ------------ ------- ---------- ------ ------------ ------- -------- -------- ------------ ------- ---------- ------ ------------ ------- -------- -------- ------------ ------- ---------- ------ ------------ ------- -------- -------- ------------ ------- ---------- ------------------------------ ---------- ---------- ------------------------------------ -------------------------------------------------------------------------------- --------- ---------- --------- -------\n",
       "ZTF18abukavn_20180909_LT_v1.ascii ZTF18abukavn        kcSB2    8.16  0.0321     0.0022       1      1        kcSB2    8.16      Gal   0.0321       0.0022   -99.9          2      2        kcSB1    8.13      Gal   0.0322       0.0022   -99.9          2      3         kcSc    6.93      Gal   0.0322       0.0024   -99.9          2      4    PS1-10bzj    6.75  Ic-SLSN    0.033       0.0029   15.64          0      6      lbv99bw    5.22      LBV   0.0316        0.003   -99.9          2 ZTF18abukavn_20180909_LT_v1_10     SLSN-I     0.0328 SLSN-I/2017egm/SPRAT+2457920.3931713 /mnt/c/Users/20xha/Documents/Caltech/Research/superfit/bank/binnings/10A/gal/SB1 0.7648549 0.23514506 -5.690924     1.2"
      ]
     },
     "execution_count": 16,
     "metadata": {},
     "output_type": "execute_result"
    }
   ],
   "source": [
    "joined_table[maxi_index][0]"
   ]
  },
  {
   "cell_type": "code",
   "execution_count": 18,
   "metadata": {},
   "outputs": [
    {
     "data": {
      "text/plain": [
       "879"
      ]
     },
     "execution_count": 18,
     "metadata": {},
     "output_type": "execute_result"
    }
   ],
   "source": [
    "len(np.where(RedshiftClass[\"rank_5\"] > 9)[0])"
   ]
  },
  {
   "cell_type": "code",
   "execution_count": 19,
   "metadata": {},
   "outputs": [],
   "source": [
    "marshall = \"http://skipper.caltech.edu:8080/cgi-bin/growth/view_source.cgi?name=\"\n",
    "fritz = \"https://fritz.science/source/\""
   ]
  },
  {
   "cell_type": "code",
   "execution_count": 20,
   "metadata": {},
   "outputs": [],
   "source": [
    "names_list = [\"ZTF_Name\", \"Fritz\", \"Marshall\", \"z_obs\"]\n",
    "dtype_list = [\"U64\", \"U64\", \"U64\", \"U64\"]\n",
    "for i in range(50):\n",
    "    names_list.append(\"Image\" + str(i))\n",
    "    dtype_list.append(\"U64\")"
   ]
  },
  {
   "cell_type": "code",
   "execution_count": 21,
   "metadata": {},
   "outputs": [],
   "source": [
    "manifest = Table(\n",
    "        names = names_list,\n",
    "        meta={\"name\": \"BTS Manifest\"},\n",
    "        dtype = dtype_list\n",
    "        )"
   ]
  },
  {
   "cell_type": "code",
   "execution_count": 39,
   "metadata": {},
   "outputs": [],
   "source": [
    "ZTFid = np.unique(joined_table[\"ZTF_Name\"])"
   ]
  },
  {
   "cell_type": "code",
   "execution_count": 23,
   "metadata": {},
   "outputs": [],
   "source": [
    "ZTFid_200 = np.load(\"/home/xhall/Documents/ZTFI/BTS_200_output/test_200.npy\")\n",
    "joined_table = Table.from_pandas(pd.read_csv(\"/home/xhall/Documents/ZTFI/CSV_results/superfit_snid_ZTFI_no2018.csv\"))"
   ]
  },
  {
   "cell_type": "code",
   "execution_count": 59,
   "metadata": {},
   "outputs": [],
   "source": [
    "TypeII_SNe = Table.from_pandas(pd.read_csv(\"/home/xhall/Documents/ZTFI/TypeII_Least_Conservative.csv\"))"
   ]
  },
  {
   "cell_type": "code",
   "execution_count": 49,
   "metadata": {},
   "outputs": [],
   "source": [
    "Ia_list = []\n",
    "for i in joined_table:\n",
    "    if(i[\"rlap_1\"] > 10 and \"Ia\" in i[\"c_snid_1\"]):\n",
    "        Ia_list.append(i[\"ZTF_Name\"])\n",
    "Ia_list = np.unique(Ia_list)"
   ]
  },
  {
   "cell_type": "code",
   "execution_count": 51,
   "metadata": {},
   "outputs": [
    {
     "data": {
      "text/plain": [
       "996"
      ]
     },
     "execution_count": 51,
     "metadata": {},
     "output_type": "execute_result"
    }
   ],
   "source": [
    "len(Ia_list)"
   ]
  },
  {
   "cell_type": "code",
   "execution_count": 56,
   "metadata": {},
   "outputs": [],
   "source": [
    "CLU = np.unique(sample[np.where(sample[\"col9\"] == 2)][\"ZTF_Name\"])"
   ]
  },
  {
   "cell_type": "code",
   "execution_count": 77,
   "metadata": {},
   "outputs": [
    {
     "name": "stdout",
     "output_type": "stream",
     "text": [
      "1437 2922\n"
     ]
    }
   ],
   "source": [
    "manifest = Table(\n",
    "        names = names_list,\n",
    "        meta={\"name\": \"BTS Manifest\"},\n",
    "        dtype = dtype_list\n",
    "        )\n",
    "for j in ZTFid:\n",
    "    if(j in phase_data[\"ZTFID\"] and j not in ZTFid_200 and j not in Ia_list and j not in CLU and j not in TypeII_SNe[\"ZTF_Name\"]):\n",
    "        index = np.where(joined_table[\"ZTF_Name\"] == j)[0]\n",
    "        index_phase = np.where(phase_data[\"ZTFID\"] == j)[0]\n",
    "        row = [j, fritz + j, marshall+j, phase_data[index_phase][\"redshift\"]]\n",
    "        missing = 0\n",
    "        for i in index:\n",
    "            filename = j + \"_\" + joined_table[i][\"Version\"] + \".png\"\n",
    "            if(os.path.isfile(ImageLoc + filename)):\n",
    "                row.append(j + \"_\" + joined_table[i][\"Version\"] + \".png\")\n",
    "            else:\n",
    "                missing += 1\n",
    "        for k in range(50 - len(index) + missing):\n",
    "            row.append(\"\")\n",
    "        manifest.add_row(row)\n",
    "print(len(manifest), len(ZTFid))"
   ]
  },
  {
   "cell_type": "code",
   "execution_count": 74,
   "metadata": {},
   "outputs": [
    {
     "data": {
      "text/plain": [
       "55"
      ]
     },
     "execution_count": 74,
     "metadata": {},
     "output_type": "execute_result"
    }
   ],
   "source": [
    "1437"
   ]
  },
  {
   "cell_type": "code",
   "execution_count": 25,
   "metadata": {},
   "outputs": [],
   "source": [
    "from panoptes_client import Panoptes, Project, SubjectSet, Subject"
   ]
  },
  {
   "cell_type": "code",
   "execution_count": 26,
   "metadata": {},
   "outputs": [
    {
     "data": {
      "text/plain": [
       "<panoptes_client.panoptes.Panoptes at 0x7fa5f71b5050>"
      ]
     },
     "execution_count": 26,
     "metadata": {},
     "output_type": "execute_result"
    }
   ],
   "source": [
    "Panoptes.connect(username='Hallflower20', password='Ha31ll19x1')"
   ]
  },
  {
   "cell_type": "code",
   "execution_count": 27,
   "metadata": {},
   "outputs": [],
   "source": [
    "project = Project.find(12959)"
   ]
  },
  {
   "cell_type": "code",
   "execution_count": 28,
   "metadata": {},
   "outputs": [
    {
     "data": {
      "text/plain": [
       "{'subject_sets': [{'id': '98018',\n",
       "   'display_name': 'BTS Starting Set',\n",
       "   'set_member_subjects_count': 0,\n",
       "   'metadata': {},\n",
       "   'created_at': '2021-09-14T20:41:53.353Z',\n",
       "   'updated_at': '2021-09-14T20:41:53.353Z',\n",
       "   'href': '/subject_sets/98018',\n",
       "   'completeness': {},\n",
       "   'links': {'project': '12959', 'workflows': [], 'subjects': []}}],\n",
       " 'links': {'subject_sets.project': {'href': '/projects/{subject_sets.project}',\n",
       "   'type': 'projects'},\n",
       "  'subject_sets.workflows': {'href': '/workflows?subject_set_id={subject_sets.id}',\n",
       "   'type': 'workflows'}},\n",
       " 'meta': {'subject_sets': {'page': 1,\n",
       "   'page_size': 20,\n",
       "   'count': 1,\n",
       "   'include': [],\n",
       "   'page_count': 1,\n",
       "   'previous_page': None,\n",
       "   'next_page': None,\n",
       "   'first_href': '/subject_sets',\n",
       "   'previous_href': None,\n",
       "   'next_href': None,\n",
       "   'last_href': '/subject_sets'}}}"
      ]
     },
     "execution_count": 28,
     "metadata": {},
     "output_type": "execute_result"
    }
   ],
   "source": [
    "subject_set = SubjectSet()\n",
    "\n",
    "subject_set.links.project = project\n",
    "subject_set.display_name = 'BTS Starting Set'\n",
    "\n",
    "subject_set.save()"
   ]
  },
  {
   "cell_type": "code",
   "execution_count": 29,
   "metadata": {},
   "outputs": [],
   "source": [
    "subject_set = SubjectSet.find(98018)"
   ]
  },
  {
   "cell_type": "code",
   "execution_count": 30,
   "metadata": {},
   "outputs": [],
   "source": [
    "ImageLoc = \"/home/xhall/Documents/ZTFI/BTS_all_output/\""
   ]
  },
  {
   "cell_type": "code",
   "execution_count": 34,
   "metadata": {},
   "outputs": [
    {
     "data": {
      "text/plain": [
       "6147"
      ]
     },
     "execution_count": 34,
     "metadata": {},
     "output_type": "execute_result"
    }
   ],
   "source": [
    "file_list = glob.glob(ImageLoc + \"*.png\")\n",
    "len(file_list)"
   ]
  },
  {
   "cell_type": "code",
   "execution_count": 33,
   "metadata": {},
   "outputs": [
    {
     "data": {
      "text/plain": [
       "6147"
      ]
     },
     "execution_count": 33,
     "metadata": {},
     "output_type": "execute_result"
    }
   ],
   "source": [
    "len(file_list)"
   ]
  },
  {
   "cell_type": "code",
   "execution_count": 30,
   "metadata": {},
   "outputs": [
    {
     "data": {
      "text/plain": [
       "False"
      ]
     },
     "execution_count": 30,
     "metadata": {},
     "output_type": "execute_result"
    }
   ],
   "source": [
    "manifest[0][\"Image1\"] == \"\""
   ]
  },
  {
   "cell_type": "code",
   "execution_count": 64,
   "metadata": {},
   "outputs": [],
   "source": [
    "import os"
   ]
  },
  {
   "cell_type": "code",
   "execution_count": 78,
   "metadata": {},
   "outputs": [],
   "source": [
    "bad = []\n",
    "for i in manifest:\n",
    "    for j in range(50):\n",
    "        title = \"Image\" + str(j)\n",
    "        if(i[title] != \"\"):\n",
    "            if(not(os.path.isfile(ImageLoc + i[title]))):\n",
    "                bad.append(i)"
   ]
  },
  {
   "cell_type": "code",
   "execution_count": 80,
   "metadata": {},
   "outputs": [
    {
     "data": {
      "text/plain": [
       "1437"
      ]
     },
     "execution_count": 80,
     "metadata": {},
     "output_type": "execute_result"
    }
   ],
   "source": [
    "len(manifest)"
   ]
  },
  {
   "cell_type": "code",
   "execution_count": 81,
   "metadata": {},
   "outputs": [
    {
     "name": "stdout",
     "output_type": "stream",
     "text": [
      "0\n",
      "100\n",
      "200\n",
      "300\n",
      "400\n",
      "500\n",
      "600\n",
      "700\n",
      "800\n",
      "900\n",
      "1000\n",
      "1100\n",
      "1200\n",
      "1300\n",
      "1400\n"
     ]
    }
   ],
   "source": [
    "new_subjects = []\n",
    "counter = 0\n",
    "for i in manifest:\n",
    "    subject = Subject()\n",
    "\n",
    "    subject.links.project = project\n",
    "    \n",
    "    for j in range(50):\n",
    "        if(i[\"Image\"+ str(j)] != \"\"):\n",
    "            subject.add_location(ImageLoc + i[\"Image\" + str(j)])\n",
    "\n",
    "    subject.metadata.update({\"ZTF_Name\": i[\"ZTF_Name\"], \"Fritz\": i[\"Fritz\"], \"Marshall\": i[\"Marshall\"], \"z_obs\": i[\"z_obs\"]})\n",
    "\n",
    "    subject.save()\n",
    "    new_subjects.append(subject)\n",
    "    if(counter % 100 == 0):\n",
    "        print(counter)\n",
    "    counter += 1"
   ]
  },
  {
   "cell_type": "code",
   "execution_count": 82,
   "metadata": {},
   "outputs": [],
   "source": [
    "subject_set.add(new_subjects)"
   ]
  },
  {
   "cell_type": "code",
   "execution_count": 33,
   "metadata": {},
   "outputs": [
    {
     "data": {
      "text/plain": [
       "200"
      ]
     },
     "execution_count": 33,
     "metadata": {},
     "output_type": "execute_result"
    }
   ],
   "source": [
    "len(new_subjects)"
   ]
  },
  {
   "cell_type": "code",
   "execution_count": 34,
   "metadata": {},
   "outputs": [
    {
     "data": {
      "text/html": [
       "<i>Table length=200</i>\n",
       "<table id=\"table139980490475088\" class=\"table-striped table-bordered table-condensed\">\n",
       "<thead><tr><th>ZTF_Name</th><th>Fritz</th><th>Marshall</th><th>z_obs</th><th>Image0</th><th>Image1</th><th>Image2</th><th>Image3</th><th>Image4</th><th>Image5</th><th>Image6</th><th>Image7</th><th>Image8</th><th>Image9</th><th>Image10</th><th>Image11</th><th>Image12</th><th>Image13</th><th>Image14</th><th>Image15</th><th>Image16</th><th>Image17</th><th>Image18</th><th>Image19</th><th>Image20</th><th>Image21</th><th>Image22</th><th>Image23</th><th>Image24</th><th>Image25</th><th>Image26</th><th>Image27</th><th>Image28</th><th>Image29</th><th>Image30</th><th>Image31</th><th>Image32</th><th>Image33</th><th>Image34</th><th>Image35</th><th>Image36</th><th>Image37</th><th>Image38</th><th>Image39</th><th>Image40</th><th>Image41</th><th>Image42</th><th>Image43</th><th>Image44</th><th>Image45</th><th>Image46</th><th>Image47</th><th>Image48</th><th>Image49</th></tr></thead>\n",
       "<thead><tr><th>str64</th><th>str64</th><th>str80</th><th>str64</th><th>str64</th><th>str64</th><th>str64</th><th>str64</th><th>str64</th><th>str64</th><th>str64</th><th>str64</th><th>str64</th><th>str64</th><th>str64</th><th>str64</th><th>str64</th><th>str64</th><th>str64</th><th>str64</th><th>str64</th><th>str64</th><th>str64</th><th>str64</th><th>str64</th><th>str64</th><th>str64</th><th>str64</th><th>str64</th><th>str64</th><th>str64</th><th>str64</th><th>str64</th><th>str64</th><th>str64</th><th>str64</th><th>str64</th><th>str64</th><th>str64</th><th>str64</th><th>str64</th><th>str64</th><th>str64</th><th>str64</th><th>str64</th><th>str64</th><th>str64</th><th>str64</th><th>str64</th><th>str64</th><th>str64</th><th>str64</th><th>str64</th><th>str64</th></tr></thead>\n",
       "<tr><td>ZTF17aaajnki</td><td>https://fritz.science/source/ZTF17aaajnki</td><td>http://skipper.caltech.edu:8080/cgi-bin/growth/view_source.cgi?name=ZTF17aaajnki</td><td>-</td><td>ZTF17aaajnki_ZTF17aaajnki_20180320_P60_v1.ascii.png</td><td>ZTF17aaajnki_ZTF17aaajnki_20180320_P60_v2.ascii.png</td><td></td><td></td><td></td><td></td><td></td><td></td><td></td><td></td><td></td><td></td><td></td><td></td><td></td><td></td><td></td><td></td><td></td><td></td><td></td><td></td><td></td><td></td><td></td><td></td><td></td><td></td><td></td><td></td><td></td><td></td><td></td><td></td><td></td><td></td><td></td><td></td><td></td><td></td><td></td><td></td><td></td><td></td><td></td><td></td><td></td><td></td><td></td><td></td></tr>\n",
       "<tr><td>ZTF17aaapufz</td><td>https://fritz.science/source/ZTF17aaapufz</td><td>http://skipper.caltech.edu:8080/cgi-bin/growth/view_source.cgi?name=ZTF17aaapufz</td><td>0.00261</td><td>ZTF17aaapufz_ZTF17aaapufz_20190304_P200_v1.ascii.png</td><td></td><td></td><td></td><td></td><td></td><td></td><td></td><td></td><td></td><td></td><td></td><td></td><td></td><td></td><td></td><td></td><td></td><td></td><td></td><td></td><td></td><td></td><td></td><td></td><td></td><td></td><td></td><td></td><td></td><td></td><td></td><td></td><td></td><td></td><td></td><td></td><td></td><td></td><td></td><td></td><td></td><td></td><td></td><td></td><td></td><td></td><td></td><td></td><td></td></tr>\n",
       "<tr><td>ZTF17aaaukqn</td><td>https://fritz.science/source/ZTF17aaaukqn</td><td>http://skipper.caltech.edu:8080/cgi-bin/growth/view_source.cgi?name=ZTF17aaaukqn</td><td>-</td><td>ZTF17aaaukqn_ZTF17aaaukqn_20180904_P60_v1.ascii.png</td><td></td><td></td><td></td><td></td><td></td><td></td><td></td><td></td><td></td><td></td><td></td><td></td><td></td><td></td><td></td><td></td><td></td><td></td><td></td><td></td><td></td><td></td><td></td><td></td><td></td><td></td><td></td><td></td><td></td><td></td><td></td><td></td><td></td><td></td><td></td><td></td><td></td><td></td><td></td><td></td><td></td><td></td><td></td><td></td><td></td><td></td><td></td><td></td><td></td></tr>\n",
       "<tr><td>ZTF17aaawgkc</td><td>https://fritz.science/source/ZTF17aaawgkc</td><td>http://skipper.caltech.edu:8080/cgi-bin/growth/view_source.cgi?name=ZTF17aaawgkc</td><td>-</td><td>ZTF17aaawgkc_ZTF17aaawgkc_20180822_P60_v1.ascii.png</td><td></td><td></td><td></td><td></td><td></td><td></td><td></td><td></td><td></td><td></td><td></td><td></td><td></td><td></td><td></td><td></td><td></td><td></td><td></td><td></td><td></td><td></td><td></td><td></td><td></td><td></td><td></td><td></td><td></td><td></td><td></td><td></td><td></td><td></td><td></td><td></td><td></td><td></td><td></td><td></td><td></td><td></td><td></td><td></td><td></td><td></td><td></td><td></td><td></td></tr>\n",
       "<tr><td>ZTF17aaayjzy</td><td>https://fritz.science/source/ZTF17aaayjzy</td><td>http://skipper.caltech.edu:8080/cgi-bin/growth/view_source.cgi?name=ZTF17aaayjzy</td><td>-</td><td>ZTF17aaayjzy_ZTF17aaayjzy_20191214_P60_v1.ascii.png</td><td></td><td></td><td></td><td></td><td></td><td></td><td></td><td></td><td></td><td></td><td></td><td></td><td></td><td></td><td></td><td></td><td></td><td></td><td></td><td></td><td></td><td></td><td></td><td></td><td></td><td></td><td></td><td></td><td></td><td></td><td></td><td></td><td></td><td></td><td></td><td></td><td></td><td></td><td></td><td></td><td></td><td></td><td></td><td></td><td></td><td></td><td></td><td></td><td></td></tr>\n",
       "<tr><td>ZTF17aaazdba</td><td>https://fritz.science/source/ZTF17aaazdba</td><td>http://skipper.caltech.edu:8080/cgi-bin/growth/view_source.cgi?name=ZTF17aaazdba</td><td>0.022</td><td>ZTF17aaazdba_ZTF17aaazdba_20190224_P60_v1.ascii.png</td><td>ZTF17aaazdba_ZTF17aaazdba_20190303_P60_v1.ascii.png</td><td>ZTF17aaazdba_ZTF17aaazdba_20190304_P200_v1.ascii.png</td><td>ZTF17aaazdba_ZTF17aaazdba_20190304_P60_v1.ascii.png</td><td>ZTF17aaazdba_ZTF17aaazdba_20190309_Gemini_N_v2.ascii.png</td><td>ZTF17aaazdba_ZTF17aaazdba_20190310_DCT_v1.ascii.png</td><td>ZTF17aaazdba_ZTF17aaazdba_20190315_P60_v1.ascii.png</td><td>ZTF17aaazdba_ZTF17aaazdba_20190316_NOT_v1.ascii.png</td><td>ZTF17aaazdba_ZTF17aaazdba_20190319_P60_v1.ascii.png</td><td>ZTF17aaazdba_ZTF17aaazdba_20190323_Gemini_N_v1.ascii.png</td><td>ZTF17aaazdba_ZTF17aaazdba_20190324_P60_v1.ascii.png</td><td>ZTF17aaazdba_ZTF17aaazdba_20190328_DCT_v3.ascii.png</td><td>ZTF17aaazdba_ZTF17aaazdba_20190330_P60_v1.ascii.png</td><td>ZTF17aaazdba_ZTF17aaazdba_20190406_P60_v1.ascii.png</td><td>ZTF17aaazdba_ZTF17aaazdba_20190417_P60_v1.ascii.png</td><td>ZTF17aaazdba_ZTF17aaazdba_20190424_P60_v1.ascii.png</td><td>ZTF17aaazdba_ZTF17aaazdba_20190501_Keck1_v1.ascii.png</td><td>ZTF17aaazdba_ZTF17aaazdba_20190502_DCT_v1.ascii.png</td><td>ZTF17aaazdba_ZTF17aaazdba_20190505_Lick_3-m_v1.ascii.png</td><td>ZTF17aaazdba_ZTF17aaazdba_20190513_Lick_3-m_v1.ascii.png</td><td>ZTF17aaazdba_ZTF17aaazdba_20190529_DCT_v1.ascii.png</td><td>ZTF17aaazdba_ZTF17aaazdba_20190925_Keck1_v4.ascii.png</td><td>ZTF17aaazdba_ZTF17aaazdba_20191023_DCT_v1.ascii.png</td><td>ZTF17aaazdba_ZTF17aaazdba_20191105_DCT_v1.ascii.png</td><td>ZTF17aaazdba_ZTF17aaazdba_20191203_DCT_v2.ascii.png</td><td></td><td></td><td></td><td></td><td></td><td></td><td></td><td></td><td></td><td></td><td></td><td></td><td></td><td></td><td></td><td></td><td></td><td></td><td></td><td></td><td></td><td></td><td></td><td></td><td></td></tr>\n",
       "<tr><td>ZTF17aaburzk</td><td>https://fritz.science/source/ZTF17aaburzk</td><td>http://skipper.caltech.edu:8080/cgi-bin/growth/view_source.cgi?name=ZTF17aaburzk</td><td>-</td><td>ZTF17aaburzk_ZTF17aaburzk_20180717_P60_v1.ascii.png</td><td></td><td></td><td></td><td></td><td></td><td></td><td></td><td></td><td></td><td></td><td></td><td></td><td></td><td></td><td></td><td></td><td></td><td></td><td></td><td></td><td></td><td></td><td></td><td></td><td></td><td></td><td></td><td></td><td></td><td></td><td></td><td></td><td></td><td></td><td></td><td></td><td></td><td></td><td></td><td></td><td></td><td></td><td></td><td></td><td></td><td></td><td></td><td></td><td></td></tr>\n",
       "<tr><td>ZTF17aadcbei</td><td>https://fritz.science/source/ZTF17aadcbei</td><td>http://skipper.caltech.edu:8080/cgi-bin/growth/view_source.cgi?name=ZTF17aadcbei</td><td>-</td><td>ZTF17aadcbei_ZTF17aadcbei_20181117_P60_v1.ascii.png</td><td></td><td></td><td></td><td></td><td></td><td></td><td></td><td></td><td></td><td></td><td></td><td></td><td></td><td></td><td></td><td></td><td></td><td></td><td></td><td></td><td></td><td></td><td></td><td></td><td></td><td></td><td></td><td></td><td></td><td></td><td></td><td></td><td></td><td></td><td></td><td></td><td></td><td></td><td></td><td></td><td></td><td></td><td></td><td></td><td></td><td></td><td></td><td></td><td></td></tr>\n",
       "<tr><td>ZTF17aadlxmv</td><td>https://fritz.science/source/ZTF17aadlxmv</td><td>http://skipper.caltech.edu:8080/cgi-bin/growth/view_source.cgi?name=ZTF17aadlxmv</td><td>0.062</td><td>ZTF17aadlxmv_ZTF17aadlxmv_20200123_P60_v1.ascii.png</td><td></td><td></td><td></td><td></td><td></td><td></td><td></td><td></td><td></td><td></td><td></td><td></td><td></td><td></td><td></td><td></td><td></td><td></td><td></td><td></td><td></td><td></td><td></td><td></td><td></td><td></td><td></td><td></td><td></td><td></td><td></td><td></td><td></td><td></td><td></td><td></td><td></td><td></td><td></td><td></td><td></td><td></td><td></td><td></td><td></td><td></td><td></td><td></td><td></td></tr>\n",
       "<tr><td>ZTF18aaabltn</td><td>https://fritz.science/source/ZTF18aaabltn</td><td>http://skipper.caltech.edu:8080/cgi-bin/growth/view_source.cgi?name=ZTF18aaabltn</td><td>-</td><td>ZTF18aaabltn_ZTF18aaabltn_20181209_P60_v1.ascii.png</td><td>ZTF18aaabltn_ZTF18aaabltn_20190502_DCT_v1.ascii.png</td><td>ZTF18aaabltn_ZTF18aaabltn_20201015_DCT_v1.ascii.png</td><td></td><td></td><td></td><td></td><td></td><td></td><td></td><td></td><td></td><td></td><td></td><td></td><td></td><td></td><td></td><td></td><td></td><td></td><td></td><td></td><td></td><td></td><td></td><td></td><td></td><td></td><td></td><td></td><td></td><td></td><td></td><td></td><td></td><td></td><td></td><td></td><td></td><td></td><td></td><td></td><td></td><td></td><td></td><td></td><td></td><td></td><td></td></tr>\n",
       "<tr><td>...</td><td>...</td><td>...</td><td>...</td><td>...</td><td>...</td><td>...</td><td>...</td><td>...</td><td>...</td><td>...</td><td>...</td><td>...</td><td>...</td><td>...</td><td>...</td><td>...</td><td>...</td><td>...</td><td>...</td><td>...</td><td>...</td><td>...</td><td>...</td><td>...</td><td>...</td><td>...</td><td>...</td><td>...</td><td>...</td><td>...</td><td>...</td><td>...</td><td>...</td><td>...</td><td>...</td><td>...</td><td>...</td><td>...</td><td>...</td><td>...</td><td>...</td><td>...</td><td>...</td><td>...</td><td>...</td><td>...</td><td>...</td><td>...</td><td>...</td><td>...</td><td>...</td><td>...</td><td>...</td></tr>\n",
       "<tr><td>ZTF18abnbldg</td><td>https://fritz.science/source/ZTF18abnbldg</td><td>http://skipper.caltech.edu:8080/cgi-bin/growth/view_source.cgi?name=ZTF18abnbldg</td><td>-</td><td>ZTF18abnbldg_ZTF18abnbldg_20181118_P60_v1.ascii.png</td><td></td><td></td><td></td><td></td><td></td><td></td><td></td><td></td><td></td><td></td><td></td><td></td><td></td><td></td><td></td><td></td><td></td><td></td><td></td><td></td><td></td><td></td><td></td><td></td><td></td><td></td><td></td><td></td><td></td><td></td><td></td><td></td><td></td><td></td><td></td><td></td><td></td><td></td><td></td><td></td><td></td><td></td><td></td><td></td><td></td><td></td><td></td><td></td><td></td></tr>\n",
       "<tr><td>ZTF18abnbxsy</td><td>https://fritz.science/source/ZTF18abnbxsy</td><td>http://skipper.caltech.edu:8080/cgi-bin/growth/view_source.cgi?name=ZTF18abnbxsy</td><td>-</td><td>ZTF18abnbxsy_ZTF18abnbxsy_20180820_P60_v1.ascii.png</td><td></td><td></td><td></td><td></td><td></td><td></td><td></td><td></td><td></td><td></td><td></td><td></td><td></td><td></td><td></td><td></td><td></td><td></td><td></td><td></td><td></td><td></td><td></td><td></td><td></td><td></td><td></td><td></td><td></td><td></td><td></td><td></td><td></td><td></td><td></td><td></td><td></td><td></td><td></td><td></td><td></td><td></td><td></td><td></td><td></td><td></td><td></td><td></td><td></td></tr>\n",
       "<tr><td>ZTF18abnnnzk</td><td>https://fritz.science/source/ZTF18abnnnzk</td><td>http://skipper.caltech.edu:8080/cgi-bin/growth/view_source.cgi?name=ZTF18abnnnzk</td><td>-</td><td>ZTF18abnnnzk_ZTF18abnnnzk_20180927_P60_v1.ascii.png</td><td></td><td></td><td></td><td></td><td></td><td></td><td></td><td></td><td></td><td></td><td></td><td></td><td></td><td></td><td></td><td></td><td></td><td></td><td></td><td></td><td></td><td></td><td></td><td></td><td></td><td></td><td></td><td></td><td></td><td></td><td></td><td></td><td></td><td></td><td></td><td></td><td></td><td></td><td></td><td></td><td></td><td></td><td></td><td></td><td></td><td></td><td></td><td></td><td></td></tr>\n",
       "<tr><td>ZTF18abnoonq</td><td>https://fritz.science/source/ZTF18abnoonq</td><td>http://skipper.caltech.edu:8080/cgi-bin/growth/view_source.cgi?name=ZTF18abnoonq</td><td>-</td><td>ZTF18abnoonq_ZTF18abnoonq_20180822_P60_v1.ascii.png</td><td></td><td></td><td></td><td></td><td></td><td></td><td></td><td></td><td></td><td></td><td></td><td></td><td></td><td></td><td></td><td></td><td></td><td></td><td></td><td></td><td></td><td></td><td></td><td></td><td></td><td></td><td></td><td></td><td></td><td></td><td></td><td></td><td></td><td></td><td></td><td></td><td></td><td></td><td></td><td></td><td></td><td></td><td></td><td></td><td></td><td></td><td></td><td></td><td></td></tr>\n",
       "<tr><td>ZTF18abnuark</td><td>https://fritz.science/source/ZTF18abnuark</td><td>http://skipper.caltech.edu:8080/cgi-bin/growth/view_source.cgi?name=ZTF18abnuark</td><td>-</td><td>ZTF18abnuark_ZTF18abnuark_20180822_P60_v1.ascii.png</td><td></td><td></td><td></td><td></td><td></td><td></td><td></td><td></td><td></td><td></td><td></td><td></td><td></td><td></td><td></td><td></td><td></td><td></td><td></td><td></td><td></td><td></td><td></td><td></td><td></td><td></td><td></td><td></td><td></td><td></td><td></td><td></td><td></td><td></td><td></td><td></td><td></td><td></td><td></td><td></td><td></td><td></td><td></td><td></td><td></td><td></td><td></td><td></td><td></td></tr>\n",
       "<tr><td>ZTF18abnuhuy</td><td>https://fritz.science/source/ZTF18abnuhuy</td><td>http://skipper.caltech.edu:8080/cgi-bin/growth/view_source.cgi?name=ZTF18abnuhuy</td><td>-</td><td>ZTF18abnuhuy_ZTF18abnuhuy_20180909_P60_v1.ascii.png</td><td></td><td></td><td></td><td></td><td></td><td></td><td></td><td></td><td></td><td></td><td></td><td></td><td></td><td></td><td></td><td></td><td></td><td></td><td></td><td></td><td></td><td></td><td></td><td></td><td></td><td></td><td></td><td></td><td></td><td></td><td></td><td></td><td></td><td></td><td></td><td></td><td></td><td></td><td></td><td></td><td></td><td></td><td></td><td></td><td></td><td></td><td></td><td></td><td></td></tr>\n",
       "<tr><td>ZTF18abnuzzt</td><td>https://fritz.science/source/ZTF18abnuzzt</td><td>http://skipper.caltech.edu:8080/cgi-bin/growth/view_source.cgi?name=ZTF18abnuzzt</td><td>0.00017</td><td>ZTF18abnuzzt_ZTF18abnuzzt_20180823_P60_v1.ascii.png</td><td></td><td></td><td></td><td></td><td></td><td></td><td></td><td></td><td></td><td></td><td></td><td></td><td></td><td></td><td></td><td></td><td></td><td></td><td></td><td></td><td></td><td></td><td></td><td></td><td></td><td></td><td></td><td></td><td></td><td></td><td></td><td></td><td></td><td></td><td></td><td></td><td></td><td></td><td></td><td></td><td></td><td></td><td></td><td></td><td></td><td></td><td></td><td></td><td></td></tr>\n",
       "<tr><td>ZTF18abnyzcb</td><td>https://fritz.science/source/ZTF18abnyzcb</td><td>http://skipper.caltech.edu:8080/cgi-bin/growth/view_source.cgi?name=ZTF18abnyzcb</td><td>-</td><td>ZTF18abnyzcb_ZTF18abnyzcb_20180831_P60_v1.ascii.png</td><td></td><td></td><td></td><td></td><td></td><td></td><td></td><td></td><td></td><td></td><td></td><td></td><td></td><td></td><td></td><td></td><td></td><td></td><td></td><td></td><td></td><td></td><td></td><td></td><td></td><td></td><td></td><td></td><td></td><td></td><td></td><td></td><td></td><td></td><td></td><td></td><td></td><td></td><td></td><td></td><td></td><td></td><td></td><td></td><td></td><td></td><td></td><td></td><td></td></tr>\n",
       "<tr><td>ZTF18aboerpp</td><td>https://fritz.science/source/ZTF18aboerpp</td><td>http://skipper.caltech.edu:8080/cgi-bin/growth/view_source.cgi?name=ZTF18aboerpp</td><td>-</td><td>ZTF18aboerpp_ZTF18aboerpp_20180916_P60_v1.ascii.png</td><td></td><td></td><td></td><td></td><td></td><td></td><td></td><td></td><td></td><td></td><td></td><td></td><td></td><td></td><td></td><td></td><td></td><td></td><td></td><td></td><td></td><td></td><td></td><td></td><td></td><td></td><td></td><td></td><td></td><td></td><td></td><td></td><td></td><td></td><td></td><td></td><td></td><td></td><td></td><td></td><td></td><td></td><td></td><td></td><td></td><td></td><td></td><td></td><td></td></tr>\n",
       "<tr><td>ZTF18abojrnv</td><td>https://fritz.science/source/ZTF18abojrnv</td><td>http://skipper.caltech.edu:8080/cgi-bin/growth/view_source.cgi?name=ZTF18abojrnv</td><td>-</td><td>ZTF18abojrnv_ZTF18abojrnv_20180828_P60_v1.ascii.png</td><td></td><td></td><td></td><td></td><td></td><td></td><td></td><td></td><td></td><td></td><td></td><td></td><td></td><td></td><td></td><td></td><td></td><td></td><td></td><td></td><td></td><td></td><td></td><td></td><td></td><td></td><td></td><td></td><td></td><td></td><td></td><td></td><td></td><td></td><td></td><td></td><td></td><td></td><td></td><td></td><td></td><td></td><td></td><td></td><td></td><td></td><td></td><td></td><td></td></tr>\n",
       "</table>"
      ],
      "text/plain": [
       "<Table length=200>\n",
       "  ZTF_Name                     Fritz                   ... Image48 Image49\n",
       "   str64                       str64                   ...  str64   str64 \n",
       "------------ ----------------------------------------- ... ------- -------\n",
       "ZTF17aaajnki https://fritz.science/source/ZTF17aaajnki ...                \n",
       "ZTF17aaapufz https://fritz.science/source/ZTF17aaapufz ...                \n",
       "ZTF17aaaukqn https://fritz.science/source/ZTF17aaaukqn ...                \n",
       "ZTF17aaawgkc https://fritz.science/source/ZTF17aaawgkc ...                \n",
       "ZTF17aaayjzy https://fritz.science/source/ZTF17aaayjzy ...                \n",
       "ZTF17aaazdba https://fritz.science/source/ZTF17aaazdba ...                \n",
       "ZTF17aaburzk https://fritz.science/source/ZTF17aaburzk ...                \n",
       "ZTF17aadcbei https://fritz.science/source/ZTF17aadcbei ...                \n",
       "ZTF17aadlxmv https://fritz.science/source/ZTF17aadlxmv ...                \n",
       "ZTF18aaabltn https://fritz.science/source/ZTF18aaabltn ...                \n",
       "         ...                                       ... ...     ...     ...\n",
       "ZTF18abnbldg https://fritz.science/source/ZTF18abnbldg ...                \n",
       "ZTF18abnbxsy https://fritz.science/source/ZTF18abnbxsy ...                \n",
       "ZTF18abnnnzk https://fritz.science/source/ZTF18abnnnzk ...                \n",
       "ZTF18abnoonq https://fritz.science/source/ZTF18abnoonq ...                \n",
       "ZTF18abnuark https://fritz.science/source/ZTF18abnuark ...                \n",
       "ZTF18abnuhuy https://fritz.science/source/ZTF18abnuhuy ...                \n",
       "ZTF18abnuzzt https://fritz.science/source/ZTF18abnuzzt ...                \n",
       "ZTF18abnyzcb https://fritz.science/source/ZTF18abnyzcb ...                \n",
       "ZTF18aboerpp https://fritz.science/source/ZTF18aboerpp ...                \n",
       "ZTF18abojrnv https://fritz.science/source/ZTF18abojrnv ...                "
      ]
     },
     "execution_count": 34,
     "metadata": {},
     "output_type": "execute_result"
    }
   ],
   "source": [
    "manifest"
   ]
  },
  {
   "cell_type": "code",
   "execution_count": null,
   "metadata": {},
   "outputs": [],
   "source": []
  }
 ],
 "metadata": {
  "kernelspec": {
   "display_name": "Python 3",
   "language": "python",
   "name": "python3"
  },
  "language_info": {
   "codemirror_mode": {
    "name": "ipython",
    "version": 3
   },
   "file_extension": ".py",
   "mimetype": "text/x-python",
   "name": "python",
   "nbconvert_exporter": "python",
   "pygments_lexer": "ipython3",
   "version": "3.7.6"
  }
 },
 "nbformat": 4,
 "nbformat_minor": 4
}
