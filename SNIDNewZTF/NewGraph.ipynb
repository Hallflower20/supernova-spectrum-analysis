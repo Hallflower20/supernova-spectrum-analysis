{
 "cells": [
  {
   "cell_type": "code",
   "execution_count": 2,
   "metadata": {},
   "outputs": [],
   "source": [
    "import subprocess\n",
    "import shlex\n",
    "import pandas as pd\n",
    "import numpy as np\n",
    "from astropy.table import Table\n",
    "from astropy.table import Column\n",
    "import os\n",
    "import matplotlib.pyplot as plt\n",
    "from matplotlib.backends.backend_pdf import PdfPages\n",
    "from matplotlib.ticker import MultipleLocator\n",
    "import glob\n",
    "from matplotlib import pyplot\n",
    "import matplotlib.gridspec as gridspec\n",
    "import gc"
   ]
  },
  {
   "cell_type": "code",
   "execution_count": 2,
   "metadata": {},
   "outputs": [],
   "source": [
    "basedir = \"/home/xhall/Documents/\"\n",
    "\n",
    "sample200 = Table.from_pandas(pd.read_csv(basedir + \"NewZTF/ML_sample_snid200.csv\"))\n",
    "ML_sample_snid_examples = Table.from_pandas(pd.read_csv(basedir + \"NewZTF/ML_sample_snid_brightexamples.csv\"))\n",
    "sample_2018 = Table.from_pandas(pd.read_csv(basedir + \"NewZTF/sample_2018/ML_sample_snid_norepeat_2018.csv\"))\n",
    "sample_2020 = Table.from_pandas(pd.read_csv(\"/home/xhall/Documents/NewZTF/sample_2020/SNID_2020_output.csv\"))\n",
    "sample_remaining = Table.from_pandas(pd.read_csv(\"/home/xhall/Documents/ZTFI/SNID_2020_remaining_output.csv\"))"
   ]
  },
  {
   "cell_type": "code",
   "execution_count": 1,
   "metadata": {},
   "outputs": [
    {
     "ename": "NameError",
     "evalue": "name 'Table' is not defined",
     "output_type": "error",
     "traceback": [
      "\u001b[0;31m---------------------------------------------------------------------------\u001b[0m",
      "\u001b[0;31mNameError\u001b[0m                                 Traceback (most recent call last)",
      "\u001b[0;32m<ipython-input-1-cd488c11cdad>\u001b[0m in \u001b[0;36m<module>\u001b[0;34m\u001b[0m\n\u001b[0;32m----> 1\u001b[0;31m \u001b[0msuperfit_results\u001b[0m \u001b[0;34m=\u001b[0m \u001b[0mTable\u001b[0m\u001b[0;34m.\u001b[0m\u001b[0mfrom_pandas\u001b[0m\u001b[0;34m(\u001b[0m\u001b[0mpd\u001b[0m\u001b[0;34m.\u001b[0m\u001b[0mread_csv\u001b[0m\u001b[0;34m(\u001b[0m\u001b[0;34mr\"C:\\Users\\20xha\\Documents\\Superfit\\superfit_classes.csv\"\u001b[0m\u001b[0;34m)\u001b[0m\u001b[0;34m)\u001b[0m\u001b[0;34m\u001b[0m\u001b[0;34m\u001b[0m\u001b[0m\n\u001b[0m",
      "\u001b[0;31mNameError\u001b[0m: name 'Table' is not defined"
     ]
    }
   ],
   "source": [
    "superfit_results = Table.from_pandas(pd.read_csv(r\"C:\\Users\\20xha\\Documents\\Superfit\\superfit_classes.csv\"))"
   ]
  },
  {
   "cell_type": "code",
   "execution_count": 3,
   "metadata": {},
   "outputs": [
    {
     "data": {
      "text/html": [
       "<i>Table length=1941</i>\n",
       "<table id=\"table140450240477520\" class=\"table-striped table-bordered table-condensed\">\n",
       "<thead><tr><th>Version</th><th>ZTF_Name</th><th>z_sntemplate</th><th>z_rlap</th><th>z_snid</th><th>z_snid_err</th><th>z_level</th><th>rank_1</th><th>sntemplate_1</th><th>rlap_1</th><th>c_snid_1</th><th>z_snid_1</th><th>z_snid_err_1</th><th>age_1</th><th>age_flag_1</th><th>rank_2</th><th>sntemplate_2</th><th>rlap_2</th><th>c_snid_2</th><th>z_snid_2</th><th>z_snid_err_2</th><th>age_2</th><th>age_flag_2</th><th>rank_3</th><th>sntemplate_3</th><th>rlap_3</th><th>c_snid_3</th><th>z_snid_3</th><th>z_snid_err_3</th><th>age_3</th><th>age_flag_3</th><th>rank_4</th><th>sntemplate_4</th><th>rlap_4</th><th>c_snid_4</th><th>z_snid_4</th><th>z_snid_err_4</th><th>age_4</th><th>age_flag_4</th><th>rank_5</th><th>sntemplate_5</th><th>rlap_5</th><th>c_snid_5</th><th>z_snid_5</th><th>z_snid_err_5</th><th>age_5</th><th>age_flag_5</th></tr></thead>\n",
       "<thead><tr><th>str39</th><th>str12</th><th>str12</th><th>float64</th><th>float64</th><th>float64</th><th>int64</th><th>int64</th><th>str12</th><th>float64</th><th>str7</th><th>float64</th><th>float64</th><th>float64</th><th>int64</th><th>int64</th><th>str12</th><th>float64</th><th>str7</th><th>float64</th><th>float64</th><th>float64</th><th>int64</th><th>int64</th><th>str12</th><th>float64</th><th>str7</th><th>float64</th><th>float64</th><th>float64</th><th>int64</th><th>int64</th><th>str12</th><th>float64</th><th>str7</th><th>float64</th><th>float64</th><th>float64</th><th>int64</th><th>int64</th><th>str12</th><th>float64</th><th>str7</th><th>float64</th><th>float64</th><th>float64</th><th>int64</th></tr></thead>\n",
       "<tr><td>ZTF18aaabltn_20201015_DCT_v1.ascii</td><td>ZTF18aaabltn</td><td>agn</td><td>41.0</td><td>0.0458</td><td>0.0007</td><td>1</td><td>1</td><td>agn</td><td>41.0</td><td>AGN</td><td>0.0458</td><td>0.0007</td><td>-99.9</td><td>2</td><td>2</td><td>qso</td><td>35.2</td><td>QSO</td><td>0.0459</td><td>0.0007</td><td>-100.0</td><td>2</td><td>3</td><td>sn06bc</td><td>17.33</td><td>II-norm</td><td>0.0453</td><td>0.0013</td><td>9.0</td><td>0</td><td>4</td><td>kcSB3</td><td>15.41</td><td>Gal</td><td>0.0465</td><td>0.0014</td><td>-99.9</td><td>2</td><td>5</td><td>kcSB5</td><td>13.73</td><td>Gal</td><td>0.0459</td><td>0.0016</td><td>-99.9</td><td>2</td></tr>\n",
       "<tr><td>ZTF18aaaehwv_20200917_P60_v1.ascii</td><td>ZTF18aaaehwv</td><td>kcSa</td><td>4.0</td><td>0.6678</td><td>0.0075</td><td>0</td><td>1</td><td>kcSa</td><td>4.0</td><td>Gal</td><td>0.6678</td><td>0.0075</td><td>-99.9</td><td>2</td><td>2</td><td>sn2011dh</td><td>3.91</td><td>IIb</td><td>0.9447</td><td>0.0091</td><td>-8.6</td><td>0</td><td>3</td><td>sn02ap</td><td>3.71</td><td>Ic-BL</td><td>0.6906</td><td>0.0096</td><td>234.1</td><td>0</td><td>4</td><td>sn2002er</td><td>3.57</td><td>Ia-norm</td><td>0.7053</td><td>0.0097</td><td>4.9</td><td>0</td><td>6</td><td>sn2007bi</td><td>3.52</td><td>Ic-SLSN</td><td>0.7061</td><td>0.0127</td><td>53.64</td><td>0</td></tr>\n",
       "<tr><td>ZTF18aadsuxd_20201103_P60_v1.ascii</td><td>ZTF18aadsuxd</td><td>kcSB2</td><td>14.87</td><td>0.0293</td><td>0.0017</td><td>1</td><td>1</td><td>kcSB2</td><td>14.87</td><td>Gal</td><td>0.0293</td><td>0.0017</td><td>-99.9</td><td>2</td><td>2</td><td>kcSB1</td><td>14.8</td><td>Gal</td><td>0.0296</td><td>0.0016</td><td>-99.9</td><td>2</td><td>3</td><td>kcSB4</td><td>12.8</td><td>Gal</td><td>0.0291</td><td>0.0018</td><td>-99.9</td><td>2</td><td>8</td><td>agn</td><td>7.79</td><td>AGN</td><td>0.0293</td><td>0.0035</td><td>-99.9</td><td>2</td><td>9</td><td>PS1-10bzj</td><td>7.02</td><td>Ic-SLSN</td><td>0.0313</td><td>0.0033</td><td>15.64</td><td>0</td></tr>\n",
       "<tr><td>ZTF18aadsuxd_20201110_P60_v1.ascii</td><td>ZTF18aadsuxd</td><td>kcSB2</td><td>14.6</td><td>0.0302</td><td>0.0018</td><td>1</td><td>1</td><td>kcSB2</td><td>14.6</td><td>Gal</td><td>0.0302</td><td>0.0018</td><td>-99.9</td><td>2</td><td>2</td><td>kcSB1</td><td>13.69</td><td>Gal</td><td>0.0305</td><td>0.0018</td><td>-99.9</td><td>2</td><td>3</td><td>kcSc</td><td>12.42</td><td>Gal</td><td>0.0302</td><td>0.002</td><td>-99.9</td><td>2</td><td>5</td><td>PS1-10bzj</td><td>9.83</td><td>Ic-SLSN</td><td>0.0308</td><td>0.0028</td><td>6.55</td><td>0</td><td>9</td><td>agn</td><td>7.44</td><td>AGN</td><td>0.0301</td><td>0.0037</td><td>-99.9</td><td>2</td></tr>\n",
       "<tr><td>ZTF18aadvsxy_20200921_P60_v1.ascii</td><td>ZTF18aadvsxy</td><td>iPTF13ajg</td><td>6.37</td><td>0.0859</td><td>0.0095</td><td>1</td><td>1</td><td>sn2005hf</td><td>8.38</td><td>Ia-norm</td><td>0.0742</td><td>0.0062</td><td>17.8</td><td>0</td><td>2</td><td>sn2005hf</td><td>7.86</td><td>Ia-norm</td><td>0.076</td><td>0.0067</td><td>12.9</td><td>0</td><td>5</td><td>iPTF13ajg</td><td>6.37</td><td>Ic-SLSN</td><td>0.0859</td><td>0.0095</td><td>45.63</td><td>0</td><td>7</td><td>kcSb</td><td>5.69</td><td>Gal</td><td>0.0677</td><td>0.0102</td><td>-99.9</td><td>2</td><td>8</td><td>sn1981B</td><td>5.62</td><td>Ia-norm</td><td>0.0658</td><td>0.0092</td><td>33.2</td><td>0</td></tr>\n",
       "<tr><td>ZTF18aahvndq_20200509_GTC_v1.ascii</td><td>ZTF18aahvndq</td><td>sn2008ar</td><td>15.02</td><td>0.0107</td><td>0.0039</td><td>1</td><td>1</td><td>sn2008ar</td><td>15.02</td><td>Ia-norm</td><td>0.0107</td><td>0.0039</td><td>4.1</td><td>0</td><td>2</td><td>sn2002er</td><td>14.64</td><td>Ia-norm</td><td>0.0165</td><td>0.0039</td><td>-5.0</td><td>0</td><td>4</td><td>sn2005mz</td><td>14.1</td><td>Ia-91bg</td><td>0.0118</td><td>0.0038</td><td>-7.5</td><td>0</td><td>5</td><td>sn2008ar</td><td>13.53</td><td>Ia-norm</td><td>0.0188</td><td>0.005</td><td>-6.6</td><td>0</td><td>73</td><td>sn1999ac</td><td>10.33</td><td>Ia-91T</td><td>0.0106</td><td>0.0058</td><td>-2.1</td><td>0</td></tr>\n",
       "<tr><td>ZTF18aaisqmw_20201223_LT_v1.ascii</td><td>ZTF18aaisqmw</td><td>kcSB4</td><td>12.91</td><td>0.0525</td><td>0.0014</td><td>1</td><td>1</td><td>kcSB4</td><td>12.91</td><td>Gal</td><td>0.0525</td><td>0.0014</td><td>-99.9</td><td>2</td><td>2</td><td>kcSB5</td><td>12.79</td><td>Gal</td><td>0.0529</td><td>0.0014</td><td>-99.9</td><td>2</td><td>3</td><td>kcSB6</td><td>12.66</td><td>Gal</td><td>0.0527</td><td>0.0014</td><td>-99.9</td><td>2</td><td>6</td><td>PTF11rks</td><td>9.53</td><td>Ic-SLSN</td><td>0.4436</td><td>0.0018</td><td>47.61</td><td>0</td><td>7</td><td>sn2008am</td><td>8.57</td><td>IIn</td><td>0.0537</td><td>0.0023</td><td>352.0</td><td>0</td></tr>\n",
       "<tr><td>ZTF18aamigmk_20180421_Ekar_v1.ascii</td><td>ZTF18aamigmk</td><td>sn1990N</td><td>11.35</td><td>0.035</td><td>0.0066</td><td>1</td><td>1</td><td>sn1990N</td><td>11.35</td><td>Ia-norm</td><td>0.035</td><td>0.0066</td><td>-14.2</td><td>0</td><td>3</td><td>sn2005cf</td><td>11.3</td><td>Ia-norm</td><td>0.0281</td><td>0.0064</td><td>-10.2</td><td>0</td><td>4</td><td>sn2007kk</td><td>10.57</td><td>Ia-norm</td><td>0.0195</td><td>0.0062</td><td>-1.7</td><td>0</td><td>6</td><td>sn90O</td><td>9.9</td><td>Ia-norm</td><td>0.0267</td><td>0.0073</td><td>-7.1</td><td>0</td><td>38</td><td>sn2006cz</td><td>8.06</td><td>Ia-91T</td><td>0.0163</td><td>0.008</td><td>-3.9</td><td>0</td></tr>\n",
       "<tr><td>ZTF18aannern_20210213_LT_v1.ascii</td><td>ZTF18aannern</td><td>sn2005hf</td><td>9.57</td><td>0.0292</td><td>0.0061</td><td>1</td><td>1</td><td>sn2005hf</td><td>9.57</td><td>Ia-norm</td><td>0.0292</td><td>0.0061</td><td>8.2</td><td>0</td><td>2</td><td>sn2003ic</td><td>7.54</td><td>Ia-norm</td><td>0.0356</td><td>0.0091</td><td>3.4</td><td>0</td><td>3</td><td>sn2002de</td><td>6.98</td><td>Ia-norm</td><td>0.0372</td><td>0.0091</td><td>-4.1</td><td>0</td><td>10</td><td>ASASSN14li</td><td>5.87</td><td>TDE</td><td>0.0207</td><td>0.013000000000000001</td><td>74.0</td><td>1</td><td>23</td><td>sn2004ge</td><td>5.01</td><td>Ic-norm</td><td>0.0271</td><td>0.0142</td><td>12.2</td><td>0</td></tr>\n",
       "<tr><td>ZTF18aaoufjt_20200826_P200_v1.ascii</td><td>ZTF18aaoufjt</td><td>sn1998fa</td><td>4.97</td><td>0.4896</td><td>0.0134</td><td>0</td><td>1</td><td>sn1998fa</td><td>4.97</td><td>IIb</td><td>0.4896</td><td>0.0134</td><td>18.3</td><td>0</td><td>2</td><td>sn94I</td><td>4.94</td><td>Ic-norm</td><td>0.6459</td><td>0.0152</td><td>64.1</td><td>0</td><td>3</td><td>sn2009mg</td><td>4.73</td><td>IIb</td><td>0.4829</td><td>0.0144</td><td>11.9</td><td>0</td><td>4</td><td>sn96cb</td><td>4.66</td><td>IIb</td><td>0.4766</td><td>0.0143</td><td>26.9</td><td>0</td><td>7</td><td>sn2007C</td><td>4.28</td><td>Ib-norm</td><td>1.1988</td><td>0.0</td><td>62.8</td><td>0</td></tr>\n",
       "<tr><td>...</td><td>...</td><td>...</td><td>...</td><td>...</td><td>...</td><td>...</td><td>...</td><td>...</td><td>...</td><td>...</td><td>...</td><td>...</td><td>...</td><td>...</td><td>...</td><td>...</td><td>...</td><td>...</td><td>...</td><td>...</td><td>...</td><td>...</td><td>...</td><td>...</td><td>...</td><td>...</td><td>...</td><td>...</td><td>...</td><td>...</td><td>...</td><td>...</td><td>...</td><td>...</td><td>...</td><td>...</td><td>...</td><td>...</td><td>...</td><td>...</td><td>...</td><td>...</td><td>...</td><td>...</td><td>...</td><td>...</td></tr>\n",
       "<tr><td>ZTF21aayokph_20210505_GS_v5.ascii</td><td>ZTF21aayokph</td><td>sn99aa</td><td>6.54</td><td>0.0574</td><td>0.0087</td><td>1</td><td>1</td><td>sn99aa</td><td>6.54</td><td>Ia-norm</td><td>0.0574</td><td>0.0087</td><td>256.03</td><td>0</td><td>2</td><td>sn98bu</td><td>5.39</td><td>Ia-norm</td><td>0.0608</td><td>0.0105</td><td>242.8</td><td>0</td><td>4</td><td>sn98aq</td><td>4.76</td><td>Ia-norm</td><td>0.0634</td><td>0.0114</td><td>230.3</td><td>0</td><td>13</td><td>sn2011ei</td><td>4.0</td><td>IIb</td><td>0.0823</td><td>0.003</td><td>17.0</td><td>0</td><td>16</td><td>sn2007bg</td><td>3.95</td><td>Ic-BL</td><td>0.0475</td><td>0.0147</td><td>5.9</td><td>0</td></tr>\n",
       "<tr><td>ZTF21aayokph_20210505_GS_v6.ascii</td><td>ZTF21aayokph</td><td>sn1997X</td><td>5.77</td><td>0.5812</td><td>0.01</td><td>0</td><td>1</td><td>sn1997X</td><td>5.77</td><td>Ib-norm</td><td>0.5812</td><td>0.01</td><td>10.0</td><td>1</td><td>2</td><td>sn1997X</td><td>5.09</td><td>Ib-norm</td><td>0.5767</td><td>0.0128</td><td>26.0</td><td>1</td><td>3</td><td>sn1997X</td><td>4.98</td><td>Ib-norm</td><td>0.5843</td><td>0.0135</td><td>7.0</td><td>1</td><td>5</td><td>sn93J</td><td>4.4</td><td>IIb</td><td>0.5974</td><td>0.0127</td><td>-18.0</td><td>0</td><td>6</td><td>sn98bw</td><td>4.37</td><td>Ic-BL</td><td>0.7862</td><td>0.0212</td><td>86.9</td><td>0</td></tr>\n",
       "<tr><td>ZTF21aayrbnn_20210511_NOT_v2.ascii</td><td>ZTF21aayrbnn</td><td>sn2003hu</td><td>11.29</td><td>0.0883</td><td>0.0058</td><td>1</td><td>1</td><td>sn2003hu</td><td>11.29</td><td>Ia-91T</td><td>0.0883</td><td>0.0058</td><td>7.5</td><td>0</td><td>2</td><td>sn1999aa</td><td>8.85</td><td>Ia-91T</td><td>0.0945</td><td>0.0081</td><td>-4.1</td><td>0</td><td>3</td><td>sn2006cj</td><td>8.68</td><td>Ia-norm</td><td>0.0898</td><td>0.0063</td><td>8.2</td><td>0</td><td>5</td><td>sn1999gp</td><td>8.38</td><td>Ia-91T</td><td>0.0981</td><td>0.0083</td><td>-2.0</td><td>0</td><td>26</td><td>sn2006gz</td><td>7.61</td><td>Ia-03fg</td><td>0.0915</td><td>0.0075</td><td>5.3</td><td>0</td></tr>\n",
       "<tr><td>ZTF21abaiono_20210513_Keck1_v1.ascii</td><td>ZTF21abaiono</td><td>sn2005gj</td><td>6.93</td><td>0.3031</td><td>0.0129</td><td>0</td><td>1</td><td>sn2005gj</td><td>6.93</td><td>Ia-csm</td><td>0.3031</td><td>0.0129</td><td>7.7</td><td>0</td><td>5</td><td>sn05hk</td><td>6.35</td><td>Ia-02cx</td><td>0.2874</td><td>0.0139</td><td>21.87</td><td>0</td><td>6</td><td>sn2009nz</td><td>6.01</td><td>Ic-BL</td><td>0.152</td><td>0.0195</td><td>0.0</td><td>0</td><td>9</td><td>sn2005hk</td><td>5.6</td><td>Ia-02cx</td><td>0.2786</td><td>0.0132</td><td>14.4</td><td>0</td><td>11</td><td>sn2005ap</td><td>5.47</td><td>Ic-SLSN</td><td>0.2906</td><td>0.0181</td><td>-1.95</td><td>0</td></tr>\n",
       "<tr><td>ZTF21abaiono_20210515_NOT_v1.ascii</td><td>ZTF21abaiono</td><td>sn2003dh</td><td>4.19</td><td>0.1643</td><td>0.0212</td><td>1</td><td>1</td><td>ASASSN15oi</td><td>6.23</td><td>TDE</td><td>0.0499</td><td>0.0037</td><td>999.0</td><td>2</td><td>2</td><td>sn2013dx</td><td>4.76</td><td>Ic-BL</td><td>1.0646</td><td>0.0031</td><td>23.0</td><td>0</td><td>3</td><td>sn2011bm</td><td>4.6</td><td>Ic-norm</td><td>1.1553</td><td>0.0046</td><td>49.8</td><td>0</td><td>4</td><td>sn1996cb</td><td>4.53</td><td>IIb</td><td>0.2061</td><td>0.0056</td><td>-2.1</td><td>0</td><td>5</td><td>sn1995bd</td><td>4.45</td><td>Ia-91T</td><td>0.5568</td><td>0.0086</td><td>-9.1</td><td>0</td></tr>\n",
       "<tr><td>ZTF21abaiono_20210518_NOT_v1.ascii</td><td>ZTF21abaiono</td><td>LSQ14mo</td><td>5.98</td><td>0.040999999999999995</td><td>0.0064</td><td>1</td><td>1</td><td>LSQ14mo</td><td>5.98</td><td>Ic-SLSN</td><td>0.040999999999999995</td><td>0.0064</td><td>-7.0</td><td>0</td><td>2</td><td>ASASSN15oi</td><td>5.49</td><td>TDE</td><td>0.0499</td><td>0.0041</td><td>999.0</td><td>2</td><td>3</td><td>sn2005U</td><td>4.37</td><td>IIb</td><td>0.0516</td><td>0.008</td><td>29.0</td><td>1</td><td>4</td><td>DES14X3taz</td><td>4.3</td><td>Ic-SLSN</td><td>0.047</td><td>0.0117</td><td>-12.75</td><td>0</td><td>5</td><td>sn2003Y</td><td>3.93</td><td>Ia-91bg</td><td>0.5710000000000001</td><td>0.0159</td><td>-6.3</td><td>0</td></tr>\n",
       "<tr><td>ZTF21abaiono_20210530_NOT_v1.ascii</td><td>ZTF21abaiono</td><td>sn91T</td><td>9.79</td><td>0.0507</td><td>0.0069</td><td>1</td><td>1</td><td>sn91T</td><td>9.79</td><td>Ia-91T</td><td>0.0507</td><td>0.0069</td><td>15.9</td><td>0</td><td>3</td><td>LSQ14mo</td><td>8.85</td><td>Ic-SLSN</td><td>0.0585</td><td>0.0091</td><td>9.0</td><td>0</td><td>4</td><td>sn91T</td><td>8.79</td><td>Ia-91T</td><td>0.0549</td><td>0.0074</td><td>10.9</td><td>0</td><td>6</td><td>sn1994M</td><td>8.37</td><td>Ia-norm</td><td>0.0558</td><td>0.0081</td><td>12.5</td><td>0</td><td>7</td><td>sn1997br</td><td>8.34</td><td>Ia-91T</td><td>0.0519</td><td>0.0083</td><td>9.9</td><td>0</td></tr>\n",
       "<tr><td>ZTF21abcgnqn_20210612_P200_v1.ascii</td><td>ZTF21abcgnqn</td><td>iPTF13bvn</td><td>5.28</td><td>0.1344</td><td>0.0033</td><td>1</td><td>1</td><td>iPTF13ajg</td><td>11.38</td><td>Ic-SLSN</td><td>0.8869</td><td>0.0015</td><td>7.7</td><td>0</td><td>2</td><td>sn2011kl</td><td>6.1</td><td>Ic-SLSN</td><td>0.1085</td><td>0.0026</td><td>-0.89</td><td>0</td><td>3</td><td>iPTF13ajg</td><td>5.96</td><td>Ic-SLSN</td><td>0.8407</td><td>0.003</td><td>-4.37</td><td>0</td><td>4</td><td>sn88a</td><td>5.78</td><td>II-norm</td><td>0.1901</td><td>0.0023</td><td>17.0</td><td>0</td><td>5</td><td>sn2006jc</td><td>5.65</td><td>Ibn</td><td>1.0891</td><td>0.0033</td><td>43.0</td><td>0</td></tr>\n",
       "<tr><td>ZTF21abcgnqn_20210612_P200_v2.ascii</td><td>ZTF21abcgnqn</td><td>sn1999aa</td><td>4.95</td><td>0.0703</td><td>0.0121</td><td>1</td><td>1</td><td>mstar</td><td>7.86</td><td>M-star</td><td>0.0485</td><td>0.0046</td><td>1.0</td><td>2</td><td>3</td><td>PS1_10jh</td><td>7.22</td><td>TDE</td><td>0.043</td><td>0.0102</td><td>-22.0</td><td>0</td><td>5</td><td>sn2005hf</td><td>6.68</td><td>Ia-norm</td><td>0.0495</td><td>0.0064</td><td>17.8</td><td>0</td><td>6</td><td>kcE</td><td>6.26</td><td>Gal</td><td>0.0478</td><td>0.0046</td><td>-99.9</td><td>2</td><td>8</td><td>sn2004L</td><td>5.79</td><td>Ia-norm</td><td>0.0475</td><td>0.006999999999999999</td><td>19.9</td><td>0</td></tr>\n",
       "<tr><td>ZTF21abdmevk_20210610_NOT_v1.ascii</td><td>ZTF21abdmevk</td><td>kcSc</td><td>16.11</td><td>0.0287</td><td>0.0011</td><td>1</td><td>1</td><td>kcSc</td><td>16.11</td><td>Gal</td><td>0.0287</td><td>0.0011</td><td>-99.9</td><td>2</td><td>2</td><td>kcSB5</td><td>12.21</td><td>Gal</td><td>0.0287</td><td>0.0014</td><td>-99.9</td><td>2</td><td>3</td><td>kcSB3</td><td>11.83</td><td>Gal</td><td>0.0293</td><td>0.0015</td><td>-99.9</td><td>2</td><td>6</td><td>sn99gi</td><td>9.96</td><td>II-norm</td><td>0.0284</td><td>0.0019</td><td>160.4</td><td>0</td><td>8</td><td>qso</td><td>9.71</td><td>QSO</td><td>0.0287</td><td>0.002</td><td>-100.0</td><td>2</td></tr>\n",
       "</table>"
      ],
      "text/plain": [
       "<Table length=1941>\n",
       "              Version                  ZTF_Name   ...  age_5  age_flag_5\n",
       "               str39                    str12     ... float64   int64   \n",
       "------------------------------------ ------------ ... ------- ----------\n",
       "  ZTF18aaabltn_20201015_DCT_v1.ascii ZTF18aaabltn ...   -99.9          2\n",
       "  ZTF18aaaehwv_20200917_P60_v1.ascii ZTF18aaaehwv ...   53.64          0\n",
       "  ZTF18aadsuxd_20201103_P60_v1.ascii ZTF18aadsuxd ...   15.64          0\n",
       "  ZTF18aadsuxd_20201110_P60_v1.ascii ZTF18aadsuxd ...   -99.9          2\n",
       "  ZTF18aadvsxy_20200921_P60_v1.ascii ZTF18aadvsxy ...    33.2          0\n",
       "  ZTF18aahvndq_20200509_GTC_v1.ascii ZTF18aahvndq ...    -2.1          0\n",
       "   ZTF18aaisqmw_20201223_LT_v1.ascii ZTF18aaisqmw ...   352.0          0\n",
       " ZTF18aamigmk_20180421_Ekar_v1.ascii ZTF18aamigmk ...    -3.9          0\n",
       "   ZTF18aannern_20210213_LT_v1.ascii ZTF18aannern ...    12.2          0\n",
       " ZTF18aaoufjt_20200826_P200_v1.ascii ZTF18aaoufjt ...    62.8          0\n",
       "                                 ...          ... ...     ...        ...\n",
       "   ZTF21aayokph_20210505_GS_v5.ascii ZTF21aayokph ...     5.9          0\n",
       "   ZTF21aayokph_20210505_GS_v6.ascii ZTF21aayokph ...    86.9          0\n",
       "  ZTF21aayrbnn_20210511_NOT_v2.ascii ZTF21aayrbnn ...     5.3          0\n",
       "ZTF21abaiono_20210513_Keck1_v1.ascii ZTF21abaiono ...   -1.95          0\n",
       "  ZTF21abaiono_20210515_NOT_v1.ascii ZTF21abaiono ...    -9.1          0\n",
       "  ZTF21abaiono_20210518_NOT_v1.ascii ZTF21abaiono ...    -6.3          0\n",
       "  ZTF21abaiono_20210530_NOT_v1.ascii ZTF21abaiono ...     9.9          0\n",
       " ZTF21abcgnqn_20210612_P200_v1.ascii ZTF21abcgnqn ...    43.0          0\n",
       " ZTF21abcgnqn_20210612_P200_v2.ascii ZTF21abcgnqn ...    19.9          0\n",
       "  ZTF21abdmevk_20210610_NOT_v1.ascii ZTF21abdmevk ...  -100.0          2"
      ]
     },
     "execution_count": 3,
     "metadata": {},
     "output_type": "execute_result"
    }
   ],
   "source": [
    "sample_remaining"
   ]
  },
  {
   "cell_type": "code",
   "execution_count": 4,
   "metadata": {},
   "outputs": [],
   "source": [
    "source = basedir + \"ZTFI/remaining_output/\"\n",
    "output = basedir + \"ZTFI/remaining_image_output/\""
   ]
  },
  {
   "cell_type": "code",
   "execution_count": 5,
   "metadata": {},
   "outputs": [],
   "source": [
    "def read_tables(files):\n",
    "    matches_files = files[0:len(files)-1]\n",
    "    spectra = Table.read(files[-1], format = \"ascii\", names = [\"wavelength\", \"flux\"])\n",
    "    matches = []\n",
    "    for i in matches_files:\n",
    "        input_data = open(i,'r').readlines()[0].split()\n",
    "        row = [[int(input_data[3][0]), input_data[4],input_data[5][1::],float(input_data[-3].split(\"-\")[-1]),float(input_data[-1])]]\n",
    "        row.append(Table.read(i, format = \"ascii\", names = [\"redshifted_wavelength\", \"flux\"]))\n",
    "        matches.append(row)\n",
    "    return matches, spectra"
   ]
  },
  {
   "cell_type": "code",
   "execution_count": 6,
   "metadata": {},
   "outputs": [],
   "source": [
    "def plot_box_spec(wave, flux): \n",
    "    flux_plot = np.repeat(flux, 2)\n",
    "    wv_plot = wave.copy()\n",
    "    wv_plot[:-1] += np.diff(wave)/2\n",
    "    wv_plot = np.append(wave[0]-(wave[1]-wave[0])/2, \n",
    "                        np.append(np.repeat(wv_plot[0:-1], 2), \n",
    "                                  wave[-1]+(wave[-1]-wave[-2])/2))\n",
    "    \n",
    "    return wv_plot, flux_plot"
   ]
  },
  {
   "cell_type": "code",
   "execution_count": 15,
   "metadata": {},
   "outputs": [],
   "source": [
    "def specplot(x,y,xi,yi,snid_type,fname,output,best_num, z_template, z_template_unc, z_snid,\n",
    "             spec_num, show_redshift=False):\n",
    "    fig, ax = plt.subplots(figsize=(8,4.5))\n",
    "    ax.plot(xi,yi,color='#32384D',alpha=0.5,\n",
    "             label='New SN')\n",
    "    ax.plot(x,y,color='#217CA3',\n",
    "             label='SNID template', lw=3)\n",
    "    if show_redshift:\n",
    "        ax.plot(x[-3],y[-3],color='white',lw=0,\n",
    "                 label=r'$z_\\mathrm{} = $ {:.3f}$\\,\\pm\\,${:.3f}'.format(\"{SNID}\", z_template, z_template_unc))\n",
    "        ax.text(0.78, 0.955, r'$z_\\mathrm{} = ${:.4f}'.format(\"{SN}\", z_snid), \n",
    "                va='center',\n",
    "                fontsize=15, transform=plt.gcf().transFigure)\n",
    "    else:\n",
    "        ax.text(0.78, 0.955, 'Match #{}'.format(spec_num + 1), \n",
    "                va='center',\n",
    "                fontsize=15, transform=plt.gcf().transFigure)\n",
    "        \n",
    "    ax.plot(x[-3],y[-3],color='#217CA3', lw=3)\n",
    "    ax.set_xlabel(r'Rest Frame Wavelength ($\\mathrm{\\AA}$)', fontsize=17)\n",
    "    ax.set_ylabel('Relative Flux', fontsize=17)\n",
    "    ax.tick_params(which='both',labelsize=15)\n",
    "    \n",
    "    ax.grid(axis='x', color='0.7', ls=':')\n",
    "    ax.xaxis.set_minor_locator(MultipleLocator(250))\n",
    "    ax.set_yticklabels([])\n",
    "\n",
    "    \n",
    "    ax.text(0.105, 0.955, 'SNID type: ', \n",
    "            va='center',\n",
    "            fontsize=15, transform=plt.gcf().transFigure)\n",
    "    ax.text(0.245, 0.955, snid_type, \n",
    "            color='#217CA3', weight='bold', va='center',\n",
    "            fontsize=23, transform=plt.gcf().transFigure)\n",
    "\n",
    "    \n",
    "    \n",
    "    ax.legend(fancybox=True)\n",
    "    fig.subplots_adjust(left=0.055,right=0.99,top=0.925,bottom=0.145)\n",
    "    fig.savefig(output + 'snidfits_emclip_' + fname + \"_\" + str(best_num) + '.png', dpi = 600)\n",
    "    #print(output + 'snidfits_emclip_' + fname + \"_\" + str(best_num) + '.png')\n",
    "    plt.close(fig)\n",
    "    plt.close()\n"
   ]
  },
  {
   "cell_type": "code",
   "execution_count": 8,
   "metadata": {},
   "outputs": [],
   "source": [
    "def plot_best_5(source, output, spectra_name, z_snid, show_redshift=False):\n",
    "    source_folder = source + spectra_name\n",
    "    \n",
    "    files = np.sort(glob.glob(source_folder+\"/*.dat\"))\n",
    "    if(len(files)==0):\n",
    "        print(spectra_name)\n",
    "        return -1\n",
    "    matches, spectra = read_tables(files)\n",
    "    \n",
    "    for spec_num, i in enumerate(matches):\n",
    "        z = i[0][3]\n",
    "        snid_type = i[0][2][:-1]\n",
    "        \n",
    "        xi, yi = plot_box_spec(spectra[\"wavelength\"], spectra[\"flux\"])\n",
    "        xi /= (1+z)\n",
    "        x, y = i[1][\"redshifted_wavelength\"] / (1+z), i[1][\"flux\"]\n",
    "        specplot(x,y,xi,yi,snid_type,spectra_name,output,i[0][0], z, i[0][4], z_snid, spec_num, show_redshift=show_redshift)"
   ]
  },
  {
   "cell_type": "code",
   "execution_count": 14,
   "metadata": {},
   "outputs": [
    {
     "data": {
      "text/html": [
       "<i>Table length=1941</i>\n",
       "<table id=\"table140450240477520\" class=\"table-striped table-bordered table-condensed\">\n",
       "<thead><tr><th>Version</th><th>ZTF_Name</th><th>z_sntemplate</th><th>z_rlap</th><th>z_snid</th><th>z_snid_err</th><th>z_level</th><th>rank_1</th><th>sntemplate_1</th><th>rlap_1</th><th>c_snid_1</th><th>z_snid_1</th><th>z_snid_err_1</th><th>age_1</th><th>age_flag_1</th><th>rank_2</th><th>sntemplate_2</th><th>rlap_2</th><th>c_snid_2</th><th>z_snid_2</th><th>z_snid_err_2</th><th>age_2</th><th>age_flag_2</th><th>rank_3</th><th>sntemplate_3</th><th>rlap_3</th><th>c_snid_3</th><th>z_snid_3</th><th>z_snid_err_3</th><th>age_3</th><th>age_flag_3</th><th>rank_4</th><th>sntemplate_4</th><th>rlap_4</th><th>c_snid_4</th><th>z_snid_4</th><th>z_snid_err_4</th><th>age_4</th><th>age_flag_4</th><th>rank_5</th><th>sntemplate_5</th><th>rlap_5</th><th>c_snid_5</th><th>z_snid_5</th><th>z_snid_err_5</th><th>age_5</th><th>age_flag_5</th></tr></thead>\n",
       "<thead><tr><th>str39</th><th>str12</th><th>str12</th><th>float64</th><th>float64</th><th>float64</th><th>int64</th><th>int64</th><th>str12</th><th>float64</th><th>str7</th><th>float64</th><th>float64</th><th>float64</th><th>int64</th><th>int64</th><th>str12</th><th>float64</th><th>str7</th><th>float64</th><th>float64</th><th>float64</th><th>int64</th><th>int64</th><th>str12</th><th>float64</th><th>str7</th><th>float64</th><th>float64</th><th>float64</th><th>int64</th><th>int64</th><th>str12</th><th>float64</th><th>str7</th><th>float64</th><th>float64</th><th>float64</th><th>int64</th><th>int64</th><th>str12</th><th>float64</th><th>str7</th><th>float64</th><th>float64</th><th>float64</th><th>int64</th></tr></thead>\n",
       "<tr><td>ZTF18aaabltn_20201015_DCT_v1.ascii</td><td>ZTF18aaabltn</td><td>agn</td><td>41.0</td><td>0.0458</td><td>0.0007</td><td>1</td><td>1</td><td>agn</td><td>41.0</td><td>AGN</td><td>0.0458</td><td>0.0007</td><td>-99.9</td><td>2</td><td>2</td><td>qso</td><td>35.2</td><td>QSO</td><td>0.0459</td><td>0.0007</td><td>-100.0</td><td>2</td><td>3</td><td>sn06bc</td><td>17.33</td><td>II-norm</td><td>0.0453</td><td>0.0013</td><td>9.0</td><td>0</td><td>4</td><td>kcSB3</td><td>15.41</td><td>Gal</td><td>0.0465</td><td>0.0014</td><td>-99.9</td><td>2</td><td>5</td><td>kcSB5</td><td>13.73</td><td>Gal</td><td>0.0459</td><td>0.0016</td><td>-99.9</td><td>2</td></tr>\n",
       "<tr><td>ZTF18aaaehwv_20200917_P60_v1.ascii</td><td>ZTF18aaaehwv</td><td>kcSa</td><td>4.0</td><td>0.6678</td><td>0.0075</td><td>0</td><td>1</td><td>kcSa</td><td>4.0</td><td>Gal</td><td>0.6678</td><td>0.0075</td><td>-99.9</td><td>2</td><td>2</td><td>sn2011dh</td><td>3.91</td><td>IIb</td><td>0.9447</td><td>0.0091</td><td>-8.6</td><td>0</td><td>3</td><td>sn02ap</td><td>3.71</td><td>Ic-BL</td><td>0.6906</td><td>0.0096</td><td>234.1</td><td>0</td><td>4</td><td>sn2002er</td><td>3.57</td><td>Ia-norm</td><td>0.7053</td><td>0.0097</td><td>4.9</td><td>0</td><td>6</td><td>sn2007bi</td><td>3.52</td><td>Ic-SLSN</td><td>0.7061</td><td>0.0127</td><td>53.64</td><td>0</td></tr>\n",
       "<tr><td>ZTF18aadsuxd_20201103_P60_v1.ascii</td><td>ZTF18aadsuxd</td><td>kcSB2</td><td>14.87</td><td>0.0293</td><td>0.0017</td><td>1</td><td>1</td><td>kcSB2</td><td>14.87</td><td>Gal</td><td>0.0293</td><td>0.0017</td><td>-99.9</td><td>2</td><td>2</td><td>kcSB1</td><td>14.8</td><td>Gal</td><td>0.0296</td><td>0.0016</td><td>-99.9</td><td>2</td><td>3</td><td>kcSB4</td><td>12.8</td><td>Gal</td><td>0.0291</td><td>0.0018</td><td>-99.9</td><td>2</td><td>8</td><td>agn</td><td>7.79</td><td>AGN</td><td>0.0293</td><td>0.0035</td><td>-99.9</td><td>2</td><td>9</td><td>PS1-10bzj</td><td>7.02</td><td>Ic-SLSN</td><td>0.0313</td><td>0.0033</td><td>15.64</td><td>0</td></tr>\n",
       "<tr><td>ZTF18aadsuxd_20201110_P60_v1.ascii</td><td>ZTF18aadsuxd</td><td>kcSB2</td><td>14.6</td><td>0.0302</td><td>0.0018</td><td>1</td><td>1</td><td>kcSB2</td><td>14.6</td><td>Gal</td><td>0.0302</td><td>0.0018</td><td>-99.9</td><td>2</td><td>2</td><td>kcSB1</td><td>13.69</td><td>Gal</td><td>0.0305</td><td>0.0018</td><td>-99.9</td><td>2</td><td>3</td><td>kcSc</td><td>12.42</td><td>Gal</td><td>0.0302</td><td>0.002</td><td>-99.9</td><td>2</td><td>5</td><td>PS1-10bzj</td><td>9.83</td><td>Ic-SLSN</td><td>0.0308</td><td>0.0028</td><td>6.55</td><td>0</td><td>9</td><td>agn</td><td>7.44</td><td>AGN</td><td>0.0301</td><td>0.0037</td><td>-99.9</td><td>2</td></tr>\n",
       "<tr><td>ZTF18aadvsxy_20200921_P60_v1.ascii</td><td>ZTF18aadvsxy</td><td>iPTF13ajg</td><td>6.37</td><td>0.0859</td><td>0.0095</td><td>1</td><td>1</td><td>sn2005hf</td><td>8.38</td><td>Ia-norm</td><td>0.0742</td><td>0.0062</td><td>17.8</td><td>0</td><td>2</td><td>sn2005hf</td><td>7.86</td><td>Ia-norm</td><td>0.076</td><td>0.0067</td><td>12.9</td><td>0</td><td>5</td><td>iPTF13ajg</td><td>6.37</td><td>Ic-SLSN</td><td>0.0859</td><td>0.0095</td><td>45.63</td><td>0</td><td>7</td><td>kcSb</td><td>5.69</td><td>Gal</td><td>0.0677</td><td>0.0102</td><td>-99.9</td><td>2</td><td>8</td><td>sn1981B</td><td>5.62</td><td>Ia-norm</td><td>0.0658</td><td>0.0092</td><td>33.2</td><td>0</td></tr>\n",
       "<tr><td>ZTF18aahvndq_20200509_GTC_v1.ascii</td><td>ZTF18aahvndq</td><td>sn2008ar</td><td>15.02</td><td>0.0107</td><td>0.0039</td><td>1</td><td>1</td><td>sn2008ar</td><td>15.02</td><td>Ia-norm</td><td>0.0107</td><td>0.0039</td><td>4.1</td><td>0</td><td>2</td><td>sn2002er</td><td>14.64</td><td>Ia-norm</td><td>0.0165</td><td>0.0039</td><td>-5.0</td><td>0</td><td>4</td><td>sn2005mz</td><td>14.1</td><td>Ia-91bg</td><td>0.0118</td><td>0.0038</td><td>-7.5</td><td>0</td><td>5</td><td>sn2008ar</td><td>13.53</td><td>Ia-norm</td><td>0.0188</td><td>0.005</td><td>-6.6</td><td>0</td><td>73</td><td>sn1999ac</td><td>10.33</td><td>Ia-91T</td><td>0.0106</td><td>0.0058</td><td>-2.1</td><td>0</td></tr>\n",
       "<tr><td>ZTF18aaisqmw_20201223_LT_v1.ascii</td><td>ZTF18aaisqmw</td><td>kcSB4</td><td>12.91</td><td>0.0525</td><td>0.0014</td><td>1</td><td>1</td><td>kcSB4</td><td>12.91</td><td>Gal</td><td>0.0525</td><td>0.0014</td><td>-99.9</td><td>2</td><td>2</td><td>kcSB5</td><td>12.79</td><td>Gal</td><td>0.0529</td><td>0.0014</td><td>-99.9</td><td>2</td><td>3</td><td>kcSB6</td><td>12.66</td><td>Gal</td><td>0.0527</td><td>0.0014</td><td>-99.9</td><td>2</td><td>6</td><td>PTF11rks</td><td>9.53</td><td>Ic-SLSN</td><td>0.4436</td><td>0.0018</td><td>47.61</td><td>0</td><td>7</td><td>sn2008am</td><td>8.57</td><td>IIn</td><td>0.0537</td><td>0.0023</td><td>352.0</td><td>0</td></tr>\n",
       "<tr><td>ZTF18aamigmk_20180421_Ekar_v1.ascii</td><td>ZTF18aamigmk</td><td>sn1990N</td><td>11.35</td><td>0.035</td><td>0.0066</td><td>1</td><td>1</td><td>sn1990N</td><td>11.35</td><td>Ia-norm</td><td>0.035</td><td>0.0066</td><td>-14.2</td><td>0</td><td>3</td><td>sn2005cf</td><td>11.3</td><td>Ia-norm</td><td>0.0281</td><td>0.0064</td><td>-10.2</td><td>0</td><td>4</td><td>sn2007kk</td><td>10.57</td><td>Ia-norm</td><td>0.0195</td><td>0.0062</td><td>-1.7</td><td>0</td><td>6</td><td>sn90O</td><td>9.9</td><td>Ia-norm</td><td>0.0267</td><td>0.0073</td><td>-7.1</td><td>0</td><td>38</td><td>sn2006cz</td><td>8.06</td><td>Ia-91T</td><td>0.0163</td><td>0.008</td><td>-3.9</td><td>0</td></tr>\n",
       "<tr><td>ZTF18aannern_20210213_LT_v1.ascii</td><td>ZTF18aannern</td><td>sn2005hf</td><td>9.57</td><td>0.0292</td><td>0.0061</td><td>1</td><td>1</td><td>sn2005hf</td><td>9.57</td><td>Ia-norm</td><td>0.0292</td><td>0.0061</td><td>8.2</td><td>0</td><td>2</td><td>sn2003ic</td><td>7.54</td><td>Ia-norm</td><td>0.0356</td><td>0.0091</td><td>3.4</td><td>0</td><td>3</td><td>sn2002de</td><td>6.98</td><td>Ia-norm</td><td>0.0372</td><td>0.0091</td><td>-4.1</td><td>0</td><td>10</td><td>ASASSN14li</td><td>5.87</td><td>TDE</td><td>0.0207</td><td>0.013000000000000001</td><td>74.0</td><td>1</td><td>23</td><td>sn2004ge</td><td>5.01</td><td>Ic-norm</td><td>0.0271</td><td>0.0142</td><td>12.2</td><td>0</td></tr>\n",
       "<tr><td>ZTF18aaoufjt_20200826_P200_v1.ascii</td><td>ZTF18aaoufjt</td><td>sn1998fa</td><td>4.97</td><td>0.4896</td><td>0.0134</td><td>0</td><td>1</td><td>sn1998fa</td><td>4.97</td><td>IIb</td><td>0.4896</td><td>0.0134</td><td>18.3</td><td>0</td><td>2</td><td>sn94I</td><td>4.94</td><td>Ic-norm</td><td>0.6459</td><td>0.0152</td><td>64.1</td><td>0</td><td>3</td><td>sn2009mg</td><td>4.73</td><td>IIb</td><td>0.4829</td><td>0.0144</td><td>11.9</td><td>0</td><td>4</td><td>sn96cb</td><td>4.66</td><td>IIb</td><td>0.4766</td><td>0.0143</td><td>26.9</td><td>0</td><td>7</td><td>sn2007C</td><td>4.28</td><td>Ib-norm</td><td>1.1988</td><td>0.0</td><td>62.8</td><td>0</td></tr>\n",
       "<tr><td>...</td><td>...</td><td>...</td><td>...</td><td>...</td><td>...</td><td>...</td><td>...</td><td>...</td><td>...</td><td>...</td><td>...</td><td>...</td><td>...</td><td>...</td><td>...</td><td>...</td><td>...</td><td>...</td><td>...</td><td>...</td><td>...</td><td>...</td><td>...</td><td>...</td><td>...</td><td>...</td><td>...</td><td>...</td><td>...</td><td>...</td><td>...</td><td>...</td><td>...</td><td>...</td><td>...</td><td>...</td><td>...</td><td>...</td><td>...</td><td>...</td><td>...</td><td>...</td><td>...</td><td>...</td><td>...</td><td>...</td></tr>\n",
       "<tr><td>ZTF21aayokph_20210505_GS_v5.ascii</td><td>ZTF21aayokph</td><td>sn99aa</td><td>6.54</td><td>0.0574</td><td>0.0087</td><td>1</td><td>1</td><td>sn99aa</td><td>6.54</td><td>Ia-norm</td><td>0.0574</td><td>0.0087</td><td>256.03</td><td>0</td><td>2</td><td>sn98bu</td><td>5.39</td><td>Ia-norm</td><td>0.0608</td><td>0.0105</td><td>242.8</td><td>0</td><td>4</td><td>sn98aq</td><td>4.76</td><td>Ia-norm</td><td>0.0634</td><td>0.0114</td><td>230.3</td><td>0</td><td>13</td><td>sn2011ei</td><td>4.0</td><td>IIb</td><td>0.0823</td><td>0.003</td><td>17.0</td><td>0</td><td>16</td><td>sn2007bg</td><td>3.95</td><td>Ic-BL</td><td>0.0475</td><td>0.0147</td><td>5.9</td><td>0</td></tr>\n",
       "<tr><td>ZTF21aayokph_20210505_GS_v6.ascii</td><td>ZTF21aayokph</td><td>sn1997X</td><td>5.77</td><td>0.5812</td><td>0.01</td><td>0</td><td>1</td><td>sn1997X</td><td>5.77</td><td>Ib-norm</td><td>0.5812</td><td>0.01</td><td>10.0</td><td>1</td><td>2</td><td>sn1997X</td><td>5.09</td><td>Ib-norm</td><td>0.5767</td><td>0.0128</td><td>26.0</td><td>1</td><td>3</td><td>sn1997X</td><td>4.98</td><td>Ib-norm</td><td>0.5843</td><td>0.0135</td><td>7.0</td><td>1</td><td>5</td><td>sn93J</td><td>4.4</td><td>IIb</td><td>0.5974</td><td>0.0127</td><td>-18.0</td><td>0</td><td>6</td><td>sn98bw</td><td>4.37</td><td>Ic-BL</td><td>0.7862</td><td>0.0212</td><td>86.9</td><td>0</td></tr>\n",
       "<tr><td>ZTF21aayrbnn_20210511_NOT_v2.ascii</td><td>ZTF21aayrbnn</td><td>sn2003hu</td><td>11.29</td><td>0.0883</td><td>0.0058</td><td>1</td><td>1</td><td>sn2003hu</td><td>11.29</td><td>Ia-91T</td><td>0.0883</td><td>0.0058</td><td>7.5</td><td>0</td><td>2</td><td>sn1999aa</td><td>8.85</td><td>Ia-91T</td><td>0.0945</td><td>0.0081</td><td>-4.1</td><td>0</td><td>3</td><td>sn2006cj</td><td>8.68</td><td>Ia-norm</td><td>0.0898</td><td>0.0063</td><td>8.2</td><td>0</td><td>5</td><td>sn1999gp</td><td>8.38</td><td>Ia-91T</td><td>0.0981</td><td>0.0083</td><td>-2.0</td><td>0</td><td>26</td><td>sn2006gz</td><td>7.61</td><td>Ia-03fg</td><td>0.0915</td><td>0.0075</td><td>5.3</td><td>0</td></tr>\n",
       "<tr><td>ZTF21abaiono_20210513_Keck1_v1.ascii</td><td>ZTF21abaiono</td><td>sn2005gj</td><td>6.93</td><td>0.3031</td><td>0.0129</td><td>0</td><td>1</td><td>sn2005gj</td><td>6.93</td><td>Ia-csm</td><td>0.3031</td><td>0.0129</td><td>7.7</td><td>0</td><td>5</td><td>sn05hk</td><td>6.35</td><td>Ia-02cx</td><td>0.2874</td><td>0.0139</td><td>21.87</td><td>0</td><td>6</td><td>sn2009nz</td><td>6.01</td><td>Ic-BL</td><td>0.152</td><td>0.0195</td><td>0.0</td><td>0</td><td>9</td><td>sn2005hk</td><td>5.6</td><td>Ia-02cx</td><td>0.2786</td><td>0.0132</td><td>14.4</td><td>0</td><td>11</td><td>sn2005ap</td><td>5.47</td><td>Ic-SLSN</td><td>0.2906</td><td>0.0181</td><td>-1.95</td><td>0</td></tr>\n",
       "<tr><td>ZTF21abaiono_20210515_NOT_v1.ascii</td><td>ZTF21abaiono</td><td>sn2003dh</td><td>4.19</td><td>0.1643</td><td>0.0212</td><td>1</td><td>1</td><td>ASASSN15oi</td><td>6.23</td><td>TDE</td><td>0.0499</td><td>0.0037</td><td>999.0</td><td>2</td><td>2</td><td>sn2013dx</td><td>4.76</td><td>Ic-BL</td><td>1.0646</td><td>0.0031</td><td>23.0</td><td>0</td><td>3</td><td>sn2011bm</td><td>4.6</td><td>Ic-norm</td><td>1.1553</td><td>0.0046</td><td>49.8</td><td>0</td><td>4</td><td>sn1996cb</td><td>4.53</td><td>IIb</td><td>0.2061</td><td>0.0056</td><td>-2.1</td><td>0</td><td>5</td><td>sn1995bd</td><td>4.45</td><td>Ia-91T</td><td>0.5568</td><td>0.0086</td><td>-9.1</td><td>0</td></tr>\n",
       "<tr><td>ZTF21abaiono_20210518_NOT_v1.ascii</td><td>ZTF21abaiono</td><td>LSQ14mo</td><td>5.98</td><td>0.040999999999999995</td><td>0.0064</td><td>1</td><td>1</td><td>LSQ14mo</td><td>5.98</td><td>Ic-SLSN</td><td>0.040999999999999995</td><td>0.0064</td><td>-7.0</td><td>0</td><td>2</td><td>ASASSN15oi</td><td>5.49</td><td>TDE</td><td>0.0499</td><td>0.0041</td><td>999.0</td><td>2</td><td>3</td><td>sn2005U</td><td>4.37</td><td>IIb</td><td>0.0516</td><td>0.008</td><td>29.0</td><td>1</td><td>4</td><td>DES14X3taz</td><td>4.3</td><td>Ic-SLSN</td><td>0.047</td><td>0.0117</td><td>-12.75</td><td>0</td><td>5</td><td>sn2003Y</td><td>3.93</td><td>Ia-91bg</td><td>0.5710000000000001</td><td>0.0159</td><td>-6.3</td><td>0</td></tr>\n",
       "<tr><td>ZTF21abaiono_20210530_NOT_v1.ascii</td><td>ZTF21abaiono</td><td>sn91T</td><td>9.79</td><td>0.0507</td><td>0.0069</td><td>1</td><td>1</td><td>sn91T</td><td>9.79</td><td>Ia-91T</td><td>0.0507</td><td>0.0069</td><td>15.9</td><td>0</td><td>3</td><td>LSQ14mo</td><td>8.85</td><td>Ic-SLSN</td><td>0.0585</td><td>0.0091</td><td>9.0</td><td>0</td><td>4</td><td>sn91T</td><td>8.79</td><td>Ia-91T</td><td>0.0549</td><td>0.0074</td><td>10.9</td><td>0</td><td>6</td><td>sn1994M</td><td>8.37</td><td>Ia-norm</td><td>0.0558</td><td>0.0081</td><td>12.5</td><td>0</td><td>7</td><td>sn1997br</td><td>8.34</td><td>Ia-91T</td><td>0.0519</td><td>0.0083</td><td>9.9</td><td>0</td></tr>\n",
       "<tr><td>ZTF21abcgnqn_20210612_P200_v1.ascii</td><td>ZTF21abcgnqn</td><td>iPTF13bvn</td><td>5.28</td><td>0.1344</td><td>0.0033</td><td>1</td><td>1</td><td>iPTF13ajg</td><td>11.38</td><td>Ic-SLSN</td><td>0.8869</td><td>0.0015</td><td>7.7</td><td>0</td><td>2</td><td>sn2011kl</td><td>6.1</td><td>Ic-SLSN</td><td>0.1085</td><td>0.0026</td><td>-0.89</td><td>0</td><td>3</td><td>iPTF13ajg</td><td>5.96</td><td>Ic-SLSN</td><td>0.8407</td><td>0.003</td><td>-4.37</td><td>0</td><td>4</td><td>sn88a</td><td>5.78</td><td>II-norm</td><td>0.1901</td><td>0.0023</td><td>17.0</td><td>0</td><td>5</td><td>sn2006jc</td><td>5.65</td><td>Ibn</td><td>1.0891</td><td>0.0033</td><td>43.0</td><td>0</td></tr>\n",
       "<tr><td>ZTF21abcgnqn_20210612_P200_v2.ascii</td><td>ZTF21abcgnqn</td><td>sn1999aa</td><td>4.95</td><td>0.0703</td><td>0.0121</td><td>1</td><td>1</td><td>mstar</td><td>7.86</td><td>M-star</td><td>0.0485</td><td>0.0046</td><td>1.0</td><td>2</td><td>3</td><td>PS1_10jh</td><td>7.22</td><td>TDE</td><td>0.043</td><td>0.0102</td><td>-22.0</td><td>0</td><td>5</td><td>sn2005hf</td><td>6.68</td><td>Ia-norm</td><td>0.0495</td><td>0.0064</td><td>17.8</td><td>0</td><td>6</td><td>kcE</td><td>6.26</td><td>Gal</td><td>0.0478</td><td>0.0046</td><td>-99.9</td><td>2</td><td>8</td><td>sn2004L</td><td>5.79</td><td>Ia-norm</td><td>0.0475</td><td>0.006999999999999999</td><td>19.9</td><td>0</td></tr>\n",
       "<tr><td>ZTF21abdmevk_20210610_NOT_v1.ascii</td><td>ZTF21abdmevk</td><td>kcSc</td><td>16.11</td><td>0.0287</td><td>0.0011</td><td>1</td><td>1</td><td>kcSc</td><td>16.11</td><td>Gal</td><td>0.0287</td><td>0.0011</td><td>-99.9</td><td>2</td><td>2</td><td>kcSB5</td><td>12.21</td><td>Gal</td><td>0.0287</td><td>0.0014</td><td>-99.9</td><td>2</td><td>3</td><td>kcSB3</td><td>11.83</td><td>Gal</td><td>0.0293</td><td>0.0015</td><td>-99.9</td><td>2</td><td>6</td><td>sn99gi</td><td>9.96</td><td>II-norm</td><td>0.0284</td><td>0.0019</td><td>160.4</td><td>0</td><td>8</td><td>qso</td><td>9.71</td><td>QSO</td><td>0.0287</td><td>0.002</td><td>-100.0</td><td>2</td></tr>\n",
       "</table>"
      ],
      "text/plain": [
       "<Table length=1941>\n",
       "              Version                  ZTF_Name   ...  age_5  age_flag_5\n",
       "               str39                    str12     ... float64   int64   \n",
       "------------------------------------ ------------ ... ------- ----------\n",
       "  ZTF18aaabltn_20201015_DCT_v1.ascii ZTF18aaabltn ...   -99.9          2\n",
       "  ZTF18aaaehwv_20200917_P60_v1.ascii ZTF18aaaehwv ...   53.64          0\n",
       "  ZTF18aadsuxd_20201103_P60_v1.ascii ZTF18aadsuxd ...   15.64          0\n",
       "  ZTF18aadsuxd_20201110_P60_v1.ascii ZTF18aadsuxd ...   -99.9          2\n",
       "  ZTF18aadvsxy_20200921_P60_v1.ascii ZTF18aadvsxy ...    33.2          0\n",
       "  ZTF18aahvndq_20200509_GTC_v1.ascii ZTF18aahvndq ...    -2.1          0\n",
       "   ZTF18aaisqmw_20201223_LT_v1.ascii ZTF18aaisqmw ...   352.0          0\n",
       " ZTF18aamigmk_20180421_Ekar_v1.ascii ZTF18aamigmk ...    -3.9          0\n",
       "   ZTF18aannern_20210213_LT_v1.ascii ZTF18aannern ...    12.2          0\n",
       " ZTF18aaoufjt_20200826_P200_v1.ascii ZTF18aaoufjt ...    62.8          0\n",
       "                                 ...          ... ...     ...        ...\n",
       "   ZTF21aayokph_20210505_GS_v5.ascii ZTF21aayokph ...     5.9          0\n",
       "   ZTF21aayokph_20210505_GS_v6.ascii ZTF21aayokph ...    86.9          0\n",
       "  ZTF21aayrbnn_20210511_NOT_v2.ascii ZTF21aayrbnn ...     5.3          0\n",
       "ZTF21abaiono_20210513_Keck1_v1.ascii ZTF21abaiono ...   -1.95          0\n",
       "  ZTF21abaiono_20210515_NOT_v1.ascii ZTF21abaiono ...    -9.1          0\n",
       "  ZTF21abaiono_20210518_NOT_v1.ascii ZTF21abaiono ...    -6.3          0\n",
       "  ZTF21abaiono_20210530_NOT_v1.ascii ZTF21abaiono ...     9.9          0\n",
       " ZTF21abcgnqn_20210612_P200_v1.ascii ZTF21abcgnqn ...    43.0          0\n",
       " ZTF21abcgnqn_20210612_P200_v2.ascii ZTF21abcgnqn ...    19.9          0\n",
       "  ZTF21abdmevk_20210610_NOT_v1.ascii ZTF21abdmevk ...  -100.0          2"
      ]
     },
     "execution_count": 14,
     "metadata": {},
     "output_type": "execute_result"
    }
   ],
   "source": [
    "sample_remaining"
   ]
  },
  {
   "cell_type": "code",
   "execution_count": 16,
   "metadata": {},
   "outputs": [
    {
     "name": "stdout",
     "output_type": "stream",
     "text": [
      "ZTF18aaabltn_20201015_DCT_v1\n"
     ]
    },
    {
     "ename": "SystemError",
     "evalue": "<built-in method write of _io.BufferedWriter object at 0x7fbcedeb6e90> returned a result with an error set",
     "output_type": "error",
     "traceback": [
      "\u001b[0;31m---------------------------------------------------------------------------\u001b[0m",
      "\u001b[0;31mKeyboardInterrupt\u001b[0m                         Traceback (most recent call last)",
      "\u001b[0;31mKeyboardInterrupt\u001b[0m: ",
      "\nThe above exception was the direct cause of the following exception:\n",
      "\u001b[0;31mSystemError\u001b[0m                               Traceback (most recent call last)",
      "\u001b[0;31mSystemError\u001b[0m: <built-in method write of _io.BufferedWriter object at 0x7fbcedeb6e90> returned a result with an error set",
      "\nThe above exception was the direct cause of the following exception:\n",
      "\u001b[0;31mSystemError\u001b[0m                               Traceback (most recent call last)",
      "\u001b[0;31mSystemError\u001b[0m: <built-in method write of _io.BufferedWriter object at 0x7fbcedeb6e90> returned a result with an error set",
      "\nThe above exception was the direct cause of the following exception:\n",
      "\u001b[0;31mSystemError\u001b[0m                               Traceback (most recent call last)",
      "\u001b[0;31mSystemError\u001b[0m: <built-in method write of _io.FileIO object at 0x7fbd1cf35190> returned a result with an error set",
      "\nThe above exception was the direct cause of the following exception:\n",
      "\u001b[0;31mSystemError\u001b[0m                               Traceback (most recent call last)",
      "\u001b[0;31mSystemError\u001b[0m: <built-in method write of _io.BufferedWriter object at 0x7fbcedeb6e90> returned a result with an error set",
      "\nThe above exception was the direct cause of the following exception:\n",
      "\u001b[0;31mSystemError\u001b[0m                               Traceback (most recent call last)",
      "\u001b[0;31mSystemError\u001b[0m: <built-in method write of _io.BufferedWriter object at 0x7fbcedeb6e90> returned a result with an error set",
      "\nThe above exception was the direct cause of the following exception:\n",
      "\u001b[0;31mSystemError\u001b[0m                               Traceback (most recent call last)",
      "\u001b[0;31mSystemError\u001b[0m: <built-in method write of _io.FileIO object at 0x7fbd1cf35190> returned a result with an error set",
      "\nThe above exception was the direct cause of the following exception:\n",
      "\u001b[0;31mSystemError\u001b[0m                               Traceback (most recent call last)",
      "\u001b[0;31mSystemError\u001b[0m: <built-in method write of _io.BufferedWriter object at 0x7fbcedeb6e90> returned a result with an error set",
      "\nThe above exception was the direct cause of the following exception:\n",
      "\u001b[0;31mSystemError\u001b[0m                               Traceback (most recent call last)",
      "\u001b[0;31mSystemError\u001b[0m: <built-in method write of _io.BufferedWriter object at 0x7fbcedeb6e90> returned a result with an error set",
      "\nThe above exception was the direct cause of the following exception:\n",
      "\u001b[0;31mSystemError\u001b[0m                               Traceback (most recent call last)",
      "\u001b[0;31mSystemError\u001b[0m: <built-in method write of _io.FileIO object at 0x7fbd1cf35190> returned a result with an error set",
      "\nThe above exception was the direct cause of the following exception:\n",
      "\u001b[0;31mSystemError\u001b[0m                               Traceback (most recent call last)",
      "\u001b[0;31mSystemError\u001b[0m: <built-in method write of _io.BufferedWriter object at 0x7fbcedeb6e90> returned a result with an error set",
      "\nThe above exception was the direct cause of the following exception:\n",
      "\u001b[0;31mSystemError\u001b[0m                               Traceback (most recent call last)",
      "\u001b[0;31mSystemError\u001b[0m: <built-in method write of _io.BufferedWriter object at 0x7fbcedeb6e90> returned a result with an error set",
      "\nThe above exception was the direct cause of the following exception:\n",
      "\u001b[0;31mSystemError\u001b[0m                               Traceback (most recent call last)",
      "\u001b[0;31mSystemError\u001b[0m: <built-in method write of _io.FileIO object at 0x7fbd1cf35190> returned a result with an error set",
      "\nThe above exception was the direct cause of the following exception:\n",
      "\u001b[0;31mSystemError\u001b[0m                               Traceback (most recent call last)",
      "\u001b[0;31mSystemError\u001b[0m: <built-in method write of _io.BufferedWriter object at 0x7fbcedeb6e90> returned a result with an error set",
      "\nThe above exception was the direct cause of the following exception:\n",
      "\u001b[0;31mSystemError\u001b[0m                               Traceback (most recent call last)",
      "\u001b[0;31mSystemError\u001b[0m: <built-in method write of _io.BufferedWriter object at 0x7fbcedeb6e90> returned a result with an error set",
      "\nThe above exception was the direct cause of the following exception:\n",
      "\u001b[0;31mSystemError\u001b[0m                               Traceback (most recent call last)",
      "\u001b[0;31mSystemError\u001b[0m: <built-in method write of _io.FileIO object at 0x7fbd1cf35190> returned a result with an error set",
      "\nThe above exception was the direct cause of the following exception:\n",
      "\u001b[0;31mSystemError\u001b[0m                               Traceback (most recent call last)",
      "\u001b[0;31mSystemError\u001b[0m: <built-in method write of _io.BufferedWriter object at 0x7fbcedeb6e90> returned a result with an error set",
      "\nThe above exception was the direct cause of the following exception:\n",
      "\u001b[0;31mSystemError\u001b[0m                               Traceback (most recent call last)",
      "\u001b[0;31mSystemError\u001b[0m: <built-in method write of _io.BufferedWriter object at 0x7fbcedeb6e90> returned a result with an error set",
      "\nThe above exception was the direct cause of the following exception:\n",
      "\u001b[0;31mSystemError\u001b[0m                               Traceback (most recent call last)",
      "\u001b[0;31mSystemError\u001b[0m: <built-in method write of _io.FileIO object at 0x7fbd1cf35190> returned a result with an error set",
      "\nThe above exception was the direct cause of the following exception:\n",
      "\u001b[0;31mSystemError\u001b[0m                               Traceback (most recent call last)",
      "\u001b[0;31mSystemError\u001b[0m: <built-in method write of _io.BufferedWriter object at 0x7fbcedeb6e90> returned a result with an error set",
      "\nThe above exception was the direct cause of the following exception:\n",
      "\u001b[0;31mSystemError\u001b[0m                               Traceback (most recent call last)",
      "\u001b[0;31mSystemError\u001b[0m: <built-in method write of _io.BufferedWriter object at 0x7fbcedeb6e90> returned a result with an error set",
      "\nThe above exception was the direct cause of the following exception:\n",
      "\u001b[0;31mSystemError\u001b[0m                               Traceback (most recent call last)",
      "\u001b[0;31mSystemError\u001b[0m: <built-in method write of _io.FileIO object at 0x7fbd1cf35190> returned a result with an error set",
      "\nThe above exception was the direct cause of the following exception:\n",
      "\u001b[0;31mSystemError\u001b[0m                               Traceback (most recent call last)",
      "\u001b[0;31mSystemError\u001b[0m: <built-in method write of _io.BufferedWriter object at 0x7fbcedeb6e90> returned a result with an error set",
      "\nThe above exception was the direct cause of the following exception:\n",
      "\u001b[0;31mSystemError\u001b[0m                               Traceback (most recent call last)",
      "\u001b[0;31mSystemError\u001b[0m: <built-in method write of _io.BufferedWriter object at 0x7fbcedeb6e90> returned a result with an error set",
      "\nThe above exception was the direct cause of the following exception:\n",
      "\u001b[0;31mSystemError\u001b[0m                               Traceback (most recent call last)",
      "\u001b[0;31mSystemError\u001b[0m: <built-in method write of _io.FileIO object at 0x7fbd1cf35190> returned a result with an error set",
      "\nThe above exception was the direct cause of the following exception:\n",
      "\u001b[0;31mSystemError\u001b[0m                               Traceback (most recent call last)",
      "\u001b[0;31mSystemError\u001b[0m: <built-in method write of _io.BufferedWriter object at 0x7fbcedeb6e90> returned a result with an error set",
      "\nThe above exception was the direct cause of the following exception:\n",
      "\u001b[0;31mSystemError\u001b[0m                               Traceback (most recent call last)",
      "\u001b[0;31mSystemError\u001b[0m: <built-in method write of _io.BufferedWriter object at 0x7fbcedeb6e90> returned a result with an error set",
      "\nThe above exception was the direct cause of the following exception:\n",
      "\u001b[0;31mSystemError\u001b[0m                               Traceback (most recent call last)",
      "\u001b[0;31mSystemError\u001b[0m: <built-in method write of _io.FileIO object at 0x7fbd1cf35190> returned a result with an error set",
      "\nThe above exception was the direct cause of the following exception:\n",
      "\u001b[0;31mSystemError\u001b[0m                               Traceback (most recent call last)",
      "\u001b[0;31mSystemError\u001b[0m: <built-in method write of _io.BufferedWriter object at 0x7fbcedeb6e90> returned a result with an error set",
      "\nThe above exception was the direct cause of the following exception:\n",
      "\u001b[0;31mSystemError\u001b[0m                               Traceback (most recent call last)",
      "\u001b[0;31mSystemError\u001b[0m: <built-in method write of _io.BufferedWriter object at 0x7fbcedeb6e90> returned a result with an error set",
      "\nThe above exception was the direct cause of the following exception:\n",
      "\u001b[0;31mSystemError\u001b[0m                               Traceback (most recent call last)",
      "\u001b[0;31mSystemError\u001b[0m: <built-in method write of _io.FileIO object at 0x7fbd1cf35190> returned a result with an error set",
      "\nThe above exception was the direct cause of the following exception:\n",
      "\u001b[0;31mSystemError\u001b[0m                               Traceback (most recent call last)",
      "\u001b[0;31mSystemError\u001b[0m: <built-in method write of _io.BufferedWriter object at 0x7fbcedeb6e90> returned a result with an error set",
      "\nThe above exception was the direct cause of the following exception:\n",
      "\u001b[0;31mSystemError\u001b[0m                               Traceback (most recent call last)",
      "\u001b[0;31mSystemError\u001b[0m: <built-in method write of _io.BufferedWriter object at 0x7fbcedeb6e90> returned a result with an error set",
      "\nThe above exception was the direct cause of the following exception:\n",
      "\u001b[0;31mSystemError\u001b[0m                               Traceback (most recent call last)",
      "\u001b[0;31mSystemError\u001b[0m: <built-in method write of _io.FileIO object at 0x7fbd1cf35190> returned a result with an error set",
      "\nThe above exception was the direct cause of the following exception:\n",
      "\u001b[0;31mSystemError\u001b[0m                               Traceback (most recent call last)",
      "\u001b[0;31mSystemError\u001b[0m: <built-in method write of _io.BufferedWriter object at 0x7fbcedeb6e90> returned a result with an error set",
      "\nThe above exception was the direct cause of the following exception:\n",
      "\u001b[0;31mSystemError\u001b[0m                               Traceback (most recent call last)",
      "\u001b[0;31mSystemError\u001b[0m: <built-in method write of _io.BufferedWriter object at 0x7fbcedeb6e90> returned a result with an error set",
      "\nThe above exception was the direct cause of the following exception:\n",
      "\u001b[0;31mSystemError\u001b[0m                               Traceback (most recent call last)",
      "\u001b[0;31mSystemError\u001b[0m: <built-in method write of _io.FileIO object at 0x7fbd1cf35190> returned a result with an error set",
      "\nThe above exception was the direct cause of the following exception:\n",
      "\u001b[0;31mSystemError\u001b[0m                               Traceback (most recent call last)",
      "\u001b[0;31mSystemError\u001b[0m: <built-in method write of _io.BufferedWriter object at 0x7fbcedeb6e90> returned a result with an error set",
      "\nThe above exception was the direct cause of the following exception:\n",
      "\u001b[0;31mSystemError\u001b[0m                               Traceback (most recent call last)",
      "\u001b[0;31mSystemError\u001b[0m: <built-in method write of _io.BufferedWriter object at 0x7fbcedeb6e90> returned a result with an error set",
      "\nThe above exception was the direct cause of the following exception:\n",
      "\u001b[0;31mSystemError\u001b[0m                               Traceback (most recent call last)",
      "\u001b[0;31mSystemError\u001b[0m: <built-in method write of _io.FileIO object at 0x7fbd1cf35190> returned a result with an error set",
      "\nThe above exception was the direct cause of the following exception:\n",
      "\u001b[0;31mSystemError\u001b[0m                               Traceback (most recent call last)",
      "\u001b[0;31mSystemError\u001b[0m: <built-in method write of _io.BufferedWriter object at 0x7fbcedeb6e90> returned a result with an error set",
      "\nThe above exception was the direct cause of the following exception:\n",
      "\u001b[0;31mSystemError\u001b[0m                               Traceback (most recent call last)",
      "\u001b[0;31mSystemError\u001b[0m: <built-in method write of _io.BufferedWriter object at 0x7fbcedeb6e90> returned a result with an error set",
      "\nThe above exception was the direct cause of the following exception:\n",
      "\u001b[0;31mSystemError\u001b[0m                               Traceback (most recent call last)",
      "\u001b[0;31mSystemError\u001b[0m: <built-in method write of _io.FileIO object at 0x7fbd1cf35190> returned a result with an error set",
      "\nThe above exception was the direct cause of the following exception:\n",
      "\u001b[0;31mSystemError\u001b[0m                               Traceback (most recent call last)",
      "\u001b[0;31mSystemError\u001b[0m: <built-in method write of _io.BufferedWriter object at 0x7fbcedeb6e90> returned a result with an error set",
      "\nThe above exception was the direct cause of the following exception:\n",
      "\u001b[0;31mSystemError\u001b[0m                               Traceback (most recent call last)",
      "\u001b[0;31mSystemError\u001b[0m: <built-in method write of _io.BufferedWriter object at 0x7fbcedeb6e90> returned a result with an error set",
      "\nThe above exception was the direct cause of the following exception:\n",
      "\u001b[0;31mSystemError\u001b[0m                               Traceback (most recent call last)",
      "\u001b[0;31mSystemError\u001b[0m: <built-in method write of _io.FileIO object at 0x7fbd1cf35190> returned a result with an error set",
      "\nThe above exception was the direct cause of the following exception:\n",
      "\u001b[0;31mSystemError\u001b[0m                               Traceback (most recent call last)",
      "\u001b[0;31mSystemError\u001b[0m: <built-in method write of _io.BufferedWriter object at 0x7fbcedeb6e90> returned a result with an error set",
      "\nThe above exception was the direct cause of the following exception:\n",
      "\u001b[0;31mSystemError\u001b[0m                               Traceback (most recent call last)",
      "\u001b[0;31mSystemError\u001b[0m: <built-in method write of _io.BufferedWriter object at 0x7fbcedeb6e90> returned a result with an error set",
      "\nThe above exception was the direct cause of the following exception:\n",
      "\u001b[0;31mSystemError\u001b[0m                               Traceback (most recent call last)",
      "\u001b[0;31mSystemError\u001b[0m: <built-in method write of _io.FileIO object at 0x7fbd1cf35190> returned a result with an error set",
      "\nThe above exception was the direct cause of the following exception:\n",
      "\u001b[0;31mSystemError\u001b[0m                               Traceback (most recent call last)",
      "\u001b[0;31mSystemError\u001b[0m: <built-in method write of _io.BufferedWriter object at 0x7fbcedeb6e90> returned a result with an error set",
      "\nThe above exception was the direct cause of the following exception:\n",
      "\u001b[0;31mSystemError\u001b[0m                               Traceback (most recent call last)",
      "\u001b[0;31mSystemError\u001b[0m: <built-in method write of _io.BufferedWriter object at 0x7fbcedeb6e90> returned a result with an error set",
      "\nThe above exception was the direct cause of the following exception:\n",
      "\u001b[0;31mSystemError\u001b[0m                               Traceback (most recent call last)",
      "\u001b[0;31mSystemError\u001b[0m: <built-in method write of _io.FileIO object at 0x7fbd1cf35190> returned a result with an error set",
      "\nThe above exception was the direct cause of the following exception:\n",
      "\u001b[0;31mSystemError\u001b[0m                               Traceback (most recent call last)",
      "\u001b[0;31mSystemError\u001b[0m: <built-in method write of _io.BufferedWriter object at 0x7fbcedeb6e90> returned a result with an error set",
      "\nThe above exception was the direct cause of the following exception:\n",
      "\u001b[0;31mSystemError\u001b[0m                               Traceback (most recent call last)",
      "\u001b[0;31mSystemError\u001b[0m: <built-in method write of _io.BufferedWriter object at 0x7fbcedeb6e90> returned a result with an error set",
      "\nThe above exception was the direct cause of the following exception:\n",
      "\u001b[0;31mSystemError\u001b[0m                               Traceback (most recent call last)",
      "\u001b[0;31mSystemError\u001b[0m: <built-in method write of _io.FileIO object at 0x7fbd1cf35190> returned a result with an error set",
      "\nThe above exception was the direct cause of the following exception:\n",
      "\u001b[0;31mSystemError\u001b[0m                               Traceback (most recent call last)",
      "\u001b[0;31mSystemError\u001b[0m: <built-in method write of _io.BufferedWriter object at 0x7fbcedeb6e90> returned a result with an error set",
      "\nThe above exception was the direct cause of the following exception:\n",
      "\u001b[0;31mSystemError\u001b[0m                               Traceback (most recent call last)",
      "\u001b[0;31mSystemError\u001b[0m: <built-in method write of _io.BufferedWriter object at 0x7fbcedeb6e90> returned a result with an error set",
      "\nThe above exception was the direct cause of the following exception:\n",
      "\u001b[0;31mSystemError\u001b[0m                               Traceback (most recent call last)",
      "\u001b[0;31mSystemError\u001b[0m: <built-in method write of _io.FileIO object at 0x7fbd1cf35190> returned a result with an error set",
      "\nThe above exception was the direct cause of the following exception:\n",
      "\u001b[0;31mSystemError\u001b[0m                               Traceback (most recent call last)",
      "\u001b[0;31mSystemError\u001b[0m: <built-in method write of _io.BufferedWriter object at 0x7fbcedeb6e90> returned a result with an error set",
      "\nThe above exception was the direct cause of the following exception:\n",
      "\u001b[0;31mSystemError\u001b[0m                               Traceback (most recent call last)",
      "\u001b[0;31mSystemError\u001b[0m: <built-in method write of _io.BufferedWriter object at 0x7fbcedeb6e90> returned a result with an error set",
      "\nThe above exception was the direct cause of the following exception:\n",
      "\u001b[0;31mSystemError\u001b[0m                               Traceback (most recent call last)",
      "\u001b[0;31mSystemError\u001b[0m: <built-in method write of _io.FileIO object at 0x7fbd1cf35190> returned a result with an error set",
      "\nThe above exception was the direct cause of the following exception:\n",
      "\u001b[0;31mSystemError\u001b[0m                               Traceback (most recent call last)",
      "\u001b[0;31mSystemError\u001b[0m: <built-in method write of _io.BufferedWriter object at 0x7fbcedeb6e90> returned a result with an error set",
      "\nThe above exception was the direct cause of the following exception:\n",
      "\u001b[0;31mSystemError\u001b[0m                               Traceback (most recent call last)",
      "\u001b[0;31mSystemError\u001b[0m: <built-in method write of _io.BufferedWriter object at 0x7fbcedeb6e90> returned a result with an error set",
      "\nThe above exception was the direct cause of the following exception:\n",
      "\u001b[0;31mSystemError\u001b[0m                               Traceback (most recent call last)",
      "\u001b[0;31mSystemError\u001b[0m: <built-in method write of _io.FileIO object at 0x7fbd1cf35190> returned a result with an error set",
      "\nThe above exception was the direct cause of the following exception:\n",
      "\u001b[0;31mSystemError\u001b[0m                               Traceback (most recent call last)",
      "\u001b[0;31mSystemError\u001b[0m: <built-in method write of _io.BufferedWriter object at 0x7fbcedeb6e90> returned a result with an error set",
      "\nThe above exception was the direct cause of the following exception:\n",
      "\u001b[0;31mSystemError\u001b[0m                               Traceback (most recent call last)",
      "\u001b[0;31mSystemError\u001b[0m: <built-in method write of _io.BufferedWriter object at 0x7fbcedeb6e90> returned a result with an error set",
      "\nThe above exception was the direct cause of the following exception:\n",
      "\u001b[0;31mSystemError\u001b[0m                               Traceback (most recent call last)",
      "\u001b[0;31mSystemError\u001b[0m: <built-in method write of _io.FileIO object at 0x7fbd1cf35190> returned a result with an error set",
      "\nThe above exception was the direct cause of the following exception:\n",
      "\u001b[0;31mSystemError\u001b[0m                               Traceback (most recent call last)",
      "\u001b[0;31mSystemError\u001b[0m: <built-in method write of _io.BufferedWriter object at 0x7fbcedeb6e90> returned a result with an error set",
      "\nThe above exception was the direct cause of the following exception:\n",
      "\u001b[0;31mSystemError\u001b[0m                               Traceback (most recent call last)",
      "\u001b[0;31mSystemError\u001b[0m: <built-in method write of _io.BufferedWriter object at 0x7fbcedeb6e90> returned a result with an error set",
      "\nThe above exception was the direct cause of the following exception:\n",
      "\u001b[0;31mSystemError\u001b[0m                               Traceback (most recent call last)",
      "\u001b[0;31mSystemError\u001b[0m: <built-in method write of _io.FileIO object at 0x7fbd1cf35190> returned a result with an error set",
      "\nThe above exception was the direct cause of the following exception:\n",
      "\u001b[0;31mSystemError\u001b[0m                               Traceback (most recent call last)",
      "\u001b[0;31mSystemError\u001b[0m: <built-in method write of _io.BufferedWriter object at 0x7fbcedeb6e90> returned a result with an error set",
      "\nThe above exception was the direct cause of the following exception:\n",
      "\u001b[0;31mSystemError\u001b[0m                               Traceback (most recent call last)",
      "\u001b[0;31mSystemError\u001b[0m: <built-in method write of _io.BufferedWriter object at 0x7fbcedeb6e90> returned a result with an error set",
      "\nThe above exception was the direct cause of the following exception:\n",
      "\u001b[0;31mSystemError\u001b[0m                               Traceback (most recent call last)",
      "\u001b[0;31mSystemError\u001b[0m: <built-in method write of _io.FileIO object at 0x7fbd1cf35190> returned a result with an error set",
      "\nThe above exception was the direct cause of the following exception:\n",
      "\u001b[0;31mSystemError\u001b[0m                               Traceback (most recent call last)",
      "\u001b[0;31mSystemError\u001b[0m: <built-in method write of _io.BufferedWriter object at 0x7fbcedeb6e90> returned a result with an error set",
      "\nThe above exception was the direct cause of the following exception:\n",
      "\u001b[0;31mSystemError\u001b[0m                               Traceback (most recent call last)",
      "\u001b[0;31mSystemError\u001b[0m: <built-in method write of _io.BufferedWriter object at 0x7fbcedeb6e90> returned a result with an error set",
      "\nThe above exception was the direct cause of the following exception:\n",
      "\u001b[0;31mSystemError\u001b[0m                               Traceback (most recent call last)",
      "\u001b[0;31mSystemError\u001b[0m: <built-in method write of _io.FileIO object at 0x7fbd1cf35190> returned a result with an error set",
      "\nThe above exception was the direct cause of the following exception:\n",
      "\u001b[0;31mSystemError\u001b[0m                               Traceback (most recent call last)",
      "\u001b[0;31mSystemError\u001b[0m: <built-in method write of _io.BufferedWriter object at 0x7fbcedeb6e90> returned a result with an error set",
      "\nThe above exception was the direct cause of the following exception:\n",
      "\u001b[0;31mSystemError\u001b[0m                               Traceback (most recent call last)",
      "\u001b[0;31mSystemError\u001b[0m: <built-in method write of _io.BufferedWriter object at 0x7fbcedeb6e90> returned a result with an error set",
      "\nThe above exception was the direct cause of the following exception:\n",
      "\u001b[0;31mSystemError\u001b[0m                               Traceback (most recent call last)",
      "\u001b[0;31mSystemError\u001b[0m: <built-in method write of _io.FileIO object at 0x7fbd1cf35190> returned a result with an error set",
      "\nThe above exception was the direct cause of the following exception:\n",
      "\u001b[0;31mSystemError\u001b[0m                               Traceback (most recent call last)",
      "\u001b[0;31mSystemError\u001b[0m: <built-in method write of _io.BufferedWriter object at 0x7fbcedeb6e90> returned a result with an error set",
      "\nThe above exception was the direct cause of the following exception:\n",
      "\u001b[0;31mSystemError\u001b[0m                               Traceback (most recent call last)",
      "\u001b[0;31mSystemError\u001b[0m: <built-in method write of _io.BufferedWriter object at 0x7fbcedeb6e90> returned a result with an error set",
      "\nThe above exception was the direct cause of the following exception:\n",
      "\u001b[0;31mSystemError\u001b[0m                               Traceback (most recent call last)",
      "\u001b[0;31mSystemError\u001b[0m: <built-in method write of _io.FileIO object at 0x7fbd1cf35190> returned a result with an error set",
      "\nThe above exception was the direct cause of the following exception:\n",
      "\u001b[0;31mSystemError\u001b[0m                               Traceback (most recent call last)",
      "\u001b[0;31mSystemError\u001b[0m: <built-in method write of _io.BufferedWriter object at 0x7fbcedeb6e90> returned a result with an error set",
      "\nThe above exception was the direct cause of the following exception:\n",
      "\u001b[0;31mSystemError\u001b[0m                               Traceback (most recent call last)",
      "\u001b[0;31mSystemError\u001b[0m: <built-in method write of _io.BufferedWriter object at 0x7fbcedeb6e90> returned a result with an error set",
      "\nThe above exception was the direct cause of the following exception:\n",
      "\u001b[0;31mSystemError\u001b[0m                               Traceback (most recent call last)",
      "\u001b[0;31mSystemError\u001b[0m: <built-in method write of _io.FileIO object at 0x7fbd1cf35190> returned a result with an error set",
      "\nThe above exception was the direct cause of the following exception:\n",
      "\u001b[0;31mSystemError\u001b[0m                               Traceback (most recent call last)",
      "\u001b[0;31mSystemError\u001b[0m: <built-in method write of _io.BufferedWriter object at 0x7fbcedeb6e90> returned a result with an error set",
      "\nThe above exception was the direct cause of the following exception:\n",
      "\u001b[0;31mSystemError\u001b[0m                               Traceback (most recent call last)",
      "\u001b[0;31mSystemError\u001b[0m: <built-in method write of _io.BufferedWriter object at 0x7fbcedeb6e90> returned a result with an error set",
      "\nThe above exception was the direct cause of the following exception:\n",
      "\u001b[0;31mSystemError\u001b[0m                               Traceback (most recent call last)",
      "\u001b[0;31mSystemError\u001b[0m: <built-in method write of _io.FileIO object at 0x7fbd1cf35190> returned a result with an error set",
      "\nThe above exception was the direct cause of the following exception:\n",
      "\u001b[0;31mSystemError\u001b[0m                               Traceback (most recent call last)",
      "\u001b[0;31mSystemError\u001b[0m: <built-in method write of _io.BufferedWriter object at 0x7fbcedeb6e90> returned a result with an error set",
      "\nThe above exception was the direct cause of the following exception:\n",
      "\u001b[0;31mSystemError\u001b[0m                               Traceback (most recent call last)",
      "\u001b[0;31mSystemError\u001b[0m: <built-in method write of _io.BufferedWriter object at 0x7fbcedeb6e90> returned a result with an error set",
      "\nThe above exception was the direct cause of the following exception:\n",
      "\u001b[0;31mSystemError\u001b[0m                               Traceback (most recent call last)",
      "\u001b[0;31mSystemError\u001b[0m: <built-in method write of _io.FileIO object at 0x7fbd1cf35190> returned a result with an error set",
      "\nThe above exception was the direct cause of the following exception:\n",
      "\u001b[0;31mSystemError\u001b[0m                               Traceback (most recent call last)",
      "\u001b[0;31mSystemError\u001b[0m: <built-in method write of _io.BufferedWriter object at 0x7fbcedeb6e90> returned a result with an error set",
      "\nThe above exception was the direct cause of the following exception:\n",
      "\u001b[0;31mSystemError\u001b[0m                               Traceback (most recent call last)",
      "\u001b[0;31mSystemError\u001b[0m: <built-in method write of _io.BufferedWriter object at 0x7fbcedeb6e90> returned a result with an error set",
      "\nThe above exception was the direct cause of the following exception:\n",
      "\u001b[0;31mSystemError\u001b[0m                               Traceback (most recent call last)",
      "\u001b[0;31mSystemError\u001b[0m: <built-in method write of _io.FileIO object at 0x7fbd1cf35190> returned a result with an error set",
      "\nThe above exception was the direct cause of the following exception:\n",
      "\u001b[0;31mSystemError\u001b[0m                               Traceback (most recent call last)",
      "\u001b[0;31mSystemError\u001b[0m: <built-in method write of _io.BufferedWriter object at 0x7fbcedeb6e90> returned a result with an error set",
      "\nThe above exception was the direct cause of the following exception:\n",
      "\u001b[0;31mSystemError\u001b[0m                               Traceback (most recent call last)",
      "\u001b[0;31mSystemError\u001b[0m: <built-in method write of _io.BufferedWriter object at 0x7fbcedeb6e90> returned a result with an error set",
      "\nThe above exception was the direct cause of the following exception:\n",
      "\u001b[0;31mSystemError\u001b[0m                               Traceback (most recent call last)",
      "\u001b[0;31mSystemError\u001b[0m: <built-in method write of _io.FileIO object at 0x7fbd1cf35190> returned a result with an error set",
      "\nThe above exception was the direct cause of the following exception:\n",
      "\u001b[0;31mSystemError\u001b[0m                               Traceback (most recent call last)",
      "\u001b[0;31mSystemError\u001b[0m: <built-in method write of _io.BufferedWriter object at 0x7fbcedeb6e90> returned a result with an error set",
      "\nThe above exception was the direct cause of the following exception:\n",
      "\u001b[0;31mSystemError\u001b[0m                               Traceback (most recent call last)",
      "\u001b[0;31mSystemError\u001b[0m: <built-in method write of _io.BufferedWriter object at 0x7fbcedeb6e90> returned a result with an error set",
      "\nThe above exception was the direct cause of the following exception:\n",
      "\u001b[0;31mSystemError\u001b[0m                               Traceback (most recent call last)",
      "\u001b[0;31mSystemError\u001b[0m: <built-in method write of _io.FileIO object at 0x7fbd1cf35190> returned a result with an error set",
      "\nThe above exception was the direct cause of the following exception:\n",
      "\u001b[0;31mSystemError\u001b[0m                               Traceback (most recent call last)",
      "\u001b[0;31mSystemError\u001b[0m: <built-in method write of _io.BufferedWriter object at 0x7fbcedeb6e90> returned a result with an error set",
      "\nThe above exception was the direct cause of the following exception:\n",
      "\u001b[0;31mSystemError\u001b[0m                               Traceback (most recent call last)",
      "\u001b[0;31mSystemError\u001b[0m: <built-in method write of _io.BufferedWriter object at 0x7fbcedeb6e90> returned a result with an error set",
      "\nThe above exception was the direct cause of the following exception:\n",
      "\u001b[0;31mSystemError\u001b[0m                               Traceback (most recent call last)",
      "\u001b[0;31mSystemError\u001b[0m: <built-in method write of _io.FileIO object at 0x7fbd1cf35190> returned a result with an error set",
      "\nThe above exception was the direct cause of the following exception:\n",
      "\u001b[0;31mSystemError\u001b[0m                               Traceback (most recent call last)",
      "\u001b[0;31mSystemError\u001b[0m: <built-in method write of _io.BufferedWriter object at 0x7fbcedeb6e90> returned a result with an error set",
      "\nThe above exception was the direct cause of the following exception:\n",
      "\u001b[0;31mSystemError\u001b[0m                               Traceback (most recent call last)",
      "\u001b[0;31mSystemError\u001b[0m: <built-in method write of _io.BufferedWriter object at 0x7fbcedeb6e90> returned a result with an error set",
      "\nThe above exception was the direct cause of the following exception:\n",
      "\u001b[0;31mSystemError\u001b[0m                               Traceback (most recent call last)",
      "\u001b[0;31mSystemError\u001b[0m: <built-in method write of _io.FileIO object at 0x7fbd1cf35190> returned a result with an error set",
      "\nThe above exception was the direct cause of the following exception:\n",
      "\u001b[0;31mSystemError\u001b[0m                               Traceback (most recent call last)",
      "\u001b[0;31mSystemError\u001b[0m: <built-in method write of _io.BufferedWriter object at 0x7fbcedeb6e90> returned a result with an error set",
      "\nThe above exception was the direct cause of the following exception:\n",
      "\u001b[0;31mSystemError\u001b[0m                               Traceback (most recent call last)",
      "\u001b[0;31mSystemError\u001b[0m: <built-in method write of _io.BufferedWriter object at 0x7fbcedeb6e90> returned a result with an error set",
      "\nThe above exception was the direct cause of the following exception:\n",
      "\u001b[0;31mSystemError\u001b[0m                               Traceback (most recent call last)",
      "\u001b[0;31mSystemError\u001b[0m: <built-in method write of _io.FileIO object at 0x7fbd1cf35190> returned a result with an error set",
      "\nThe above exception was the direct cause of the following exception:\n",
      "\u001b[0;31mSystemError\u001b[0m                               Traceback (most recent call last)",
      "\u001b[0;31mSystemError\u001b[0m: <built-in method write of _io.BufferedWriter object at 0x7fbcedeb6e90> returned a result with an error set",
      "\nThe above exception was the direct cause of the following exception:\n",
      "\u001b[0;31mSystemError\u001b[0m                               Traceback (most recent call last)",
      "\u001b[0;31mSystemError\u001b[0m: <built-in method write of _io.BufferedWriter object at 0x7fbcedeb6e90> returned a result with an error set",
      "\nThe above exception was the direct cause of the following exception:\n",
      "\u001b[0;31mSystemError\u001b[0m                               Traceback (most recent call last)",
      "\u001b[0;31mSystemError\u001b[0m: <built-in method write of _io.FileIO object at 0x7fbd1cf35190> returned a result with an error set",
      "\nThe above exception was the direct cause of the following exception:\n",
      "\u001b[0;31mSystemError\u001b[0m                               Traceback (most recent call last)",
      "\u001b[0;31mSystemError\u001b[0m: <built-in method write of _io.BufferedWriter object at 0x7fbcedeb6e90> returned a result with an error set",
      "\nThe above exception was the direct cause of the following exception:\n",
      "\u001b[0;31mSystemError\u001b[0m                               Traceback (most recent call last)",
      "\u001b[0;31mSystemError\u001b[0m: <built-in method write of _io.BufferedWriter object at 0x7fbcedeb6e90> returned a result with an error set",
      "\nThe above exception was the direct cause of the following exception:\n",
      "\u001b[0;31mSystemError\u001b[0m                               Traceback (most recent call last)",
      "\u001b[0;31mSystemError\u001b[0m: <built-in method write of _io.FileIO object at 0x7fbd1cf35190> returned a result with an error set",
      "\nThe above exception was the direct cause of the following exception:\n",
      "\u001b[0;31mSystemError\u001b[0m                               Traceback (most recent call last)",
      "\u001b[0;31mSystemError\u001b[0m: <built-in method write of _io.BufferedWriter object at 0x7fbcedeb6e90> returned a result with an error set",
      "\nThe above exception was the direct cause of the following exception:\n",
      "\u001b[0;31mSystemError\u001b[0m                               Traceback (most recent call last)",
      "\u001b[0;31mSystemError\u001b[0m: <built-in method write of _io.BufferedWriter object at 0x7fbcedeb6e90> returned a result with an error set",
      "\nThe above exception was the direct cause of the following exception:\n",
      "\u001b[0;31mSystemError\u001b[0m                               Traceback (most recent call last)",
      "\u001b[0;31mSystemError\u001b[0m: <built-in method write of _io.FileIO object at 0x7fbd1cf35190> returned a result with an error set",
      "\nThe above exception was the direct cause of the following exception:\n",
      "\u001b[0;31mSystemError\u001b[0m                               Traceback (most recent call last)",
      "\u001b[0;31mSystemError\u001b[0m: <built-in method write of _io.BufferedWriter object at 0x7fbcedeb6e90> returned a result with an error set",
      "\nThe above exception was the direct cause of the following exception:\n",
      "\u001b[0;31mSystemError\u001b[0m                               Traceback (most recent call last)",
      "\u001b[0;31mSystemError\u001b[0m: <built-in method write of _io.BufferedWriter object at 0x7fbcedeb6e90> returned a result with an error set",
      "\nThe above exception was the direct cause of the following exception:\n",
      "\u001b[0;31mSystemError\u001b[0m                               Traceback (most recent call last)",
      "\u001b[0;31mSystemError\u001b[0m: <built-in method write of _io.BufferedWriter object at 0x7fbcedeb6e90> returned a result with an error set",
      "\nThe above exception was the direct cause of the following exception:\n",
      "\u001b[0;31mSystemError\u001b[0m                               Traceback (most recent call last)",
      "\u001b[0;31mSystemError\u001b[0m: <built-in method write of _io.BufferedWriter object at 0x7fbcedeb6e90> returned a result with an error set",
      "\nThe above exception was the direct cause of the following exception:\n",
      "\u001b[0;31mSystemError\u001b[0m                               Traceback (most recent call last)",
      "\u001b[0;31mSystemError\u001b[0m: <built-in method write of _io.BufferedWriter object at 0x7fbcedeb6e90> returned a result with an error set",
      "\nThe above exception was the direct cause of the following exception:\n",
      "\u001b[0;31mSystemError\u001b[0m                               Traceback (most recent call last)",
      "\u001b[0;32m<ipython-input-16-afe843b24802>\u001b[0m in \u001b[0;36m<module>\u001b[0;34m\u001b[0m\n\u001b[1;32m      4\u001b[0m     \u001b[0mz_snid\u001b[0m \u001b[0;34m=\u001b[0m \u001b[0mi\u001b[0m\u001b[0;34m[\u001b[0m\u001b[0;34m\"z_snid\"\u001b[0m\u001b[0;34m]\u001b[0m\u001b[0;34m\u001b[0m\u001b[0;34m\u001b[0m\u001b[0m\n\u001b[1;32m      5\u001b[0m     \u001b[0mprint\u001b[0m\u001b[0;34m(\u001b[0m\u001b[0mspectra_name\u001b[0m\u001b[0;34m)\u001b[0m\u001b[0;34m\u001b[0m\u001b[0;34m\u001b[0m\u001b[0m\n\u001b[0;32m----> 6\u001b[0;31m     \u001b[0mplot_best_5\u001b[0m\u001b[0;34m(\u001b[0m\u001b[0msource\u001b[0m\u001b[0;34m,\u001b[0m\u001b[0moutput\u001b[0m\u001b[0;34m,\u001b[0m\u001b[0mspectra_name\u001b[0m\u001b[0;34m,\u001b[0m\u001b[0mz_snid\u001b[0m\u001b[0;34m,\u001b[0m \u001b[0mshow_redshift\u001b[0m \u001b[0;34m=\u001b[0m \u001b[0;32mFalse\u001b[0m\u001b[0;34m)\u001b[0m\u001b[0;34m\u001b[0m\u001b[0;34m\u001b[0m\u001b[0m\n\u001b[0m\u001b[1;32m      7\u001b[0m     \u001b[0mgc\u001b[0m\u001b[0;34m.\u001b[0m\u001b[0mcollect\u001b[0m\u001b[0;34m(\u001b[0m\u001b[0;34m)\u001b[0m\u001b[0;34m\u001b[0m\u001b[0;34m\u001b[0m\u001b[0m\n\u001b[1;32m      8\u001b[0m     \u001b[0;32mif\u001b[0m\u001b[0;34m(\u001b[0m\u001b[0mcounter\u001b[0m\u001b[0;34m%\u001b[0m\u001b[0;36m20\u001b[0m \u001b[0;34m==\u001b[0m \u001b[0;36m0\u001b[0m\u001b[0;34m)\u001b[0m\u001b[0;34m:\u001b[0m\u001b[0;34m\u001b[0m\u001b[0;34m\u001b[0m\u001b[0m\n",
      "\u001b[0;32m<ipython-input-8-708f6dd3bf4f>\u001b[0m in \u001b[0;36mplot_best_5\u001b[0;34m(source, output, spectra_name, z_snid, show_redshift)\u001b[0m\n\u001b[1;32m     15\u001b[0m         \u001b[0mxi\u001b[0m \u001b[0;34m/=\u001b[0m \u001b[0;34m(\u001b[0m\u001b[0;36m1\u001b[0m\u001b[0;34m+\u001b[0m\u001b[0mz\u001b[0m\u001b[0;34m)\u001b[0m\u001b[0;34m\u001b[0m\u001b[0;34m\u001b[0m\u001b[0m\n\u001b[1;32m     16\u001b[0m         \u001b[0mx\u001b[0m\u001b[0;34m,\u001b[0m \u001b[0my\u001b[0m \u001b[0;34m=\u001b[0m \u001b[0mi\u001b[0m\u001b[0;34m[\u001b[0m\u001b[0;36m1\u001b[0m\u001b[0;34m]\u001b[0m\u001b[0;34m[\u001b[0m\u001b[0;34m\"redshifted_wavelength\"\u001b[0m\u001b[0;34m]\u001b[0m \u001b[0;34m/\u001b[0m \u001b[0;34m(\u001b[0m\u001b[0;36m1\u001b[0m\u001b[0;34m+\u001b[0m\u001b[0mz\u001b[0m\u001b[0;34m)\u001b[0m\u001b[0;34m,\u001b[0m \u001b[0mi\u001b[0m\u001b[0;34m[\u001b[0m\u001b[0;36m1\u001b[0m\u001b[0;34m]\u001b[0m\u001b[0;34m[\u001b[0m\u001b[0;34m\"flux\"\u001b[0m\u001b[0;34m]\u001b[0m\u001b[0;34m\u001b[0m\u001b[0;34m\u001b[0m\u001b[0m\n\u001b[0;32m---> 17\u001b[0;31m         \u001b[0mspecplot\u001b[0m\u001b[0;34m(\u001b[0m\u001b[0mx\u001b[0m\u001b[0;34m,\u001b[0m\u001b[0my\u001b[0m\u001b[0;34m,\u001b[0m\u001b[0mxi\u001b[0m\u001b[0;34m,\u001b[0m\u001b[0myi\u001b[0m\u001b[0;34m,\u001b[0m\u001b[0msnid_type\u001b[0m\u001b[0;34m,\u001b[0m\u001b[0mspectra_name\u001b[0m\u001b[0;34m,\u001b[0m\u001b[0moutput\u001b[0m\u001b[0;34m,\u001b[0m\u001b[0mi\u001b[0m\u001b[0;34m[\u001b[0m\u001b[0;36m0\u001b[0m\u001b[0;34m]\u001b[0m\u001b[0;34m[\u001b[0m\u001b[0;36m0\u001b[0m\u001b[0;34m]\u001b[0m\u001b[0;34m,\u001b[0m \u001b[0mz\u001b[0m\u001b[0;34m,\u001b[0m \u001b[0mi\u001b[0m\u001b[0;34m[\u001b[0m\u001b[0;36m0\u001b[0m\u001b[0;34m]\u001b[0m\u001b[0;34m[\u001b[0m\u001b[0;36m4\u001b[0m\u001b[0;34m]\u001b[0m\u001b[0;34m,\u001b[0m \u001b[0mz_snid\u001b[0m\u001b[0;34m,\u001b[0m \u001b[0mspec_num\u001b[0m\u001b[0;34m,\u001b[0m \u001b[0mshow_redshift\u001b[0m\u001b[0;34m=\u001b[0m\u001b[0mshow_redshift\u001b[0m\u001b[0;34m)\u001b[0m\u001b[0;34m\u001b[0m\u001b[0;34m\u001b[0m\u001b[0m\n\u001b[0m",
      "\u001b[0;32m<ipython-input-15-1db62a9832a3>\u001b[0m in \u001b[0;36mspecplot\u001b[0;34m(x, y, xi, yi, snid_type, fname, output, best_num, z_template, z_template_unc, z_snid, spec_num, show_redshift)\u001b[0m\n\u001b[1;32m     38\u001b[0m     \u001b[0max\u001b[0m\u001b[0;34m.\u001b[0m\u001b[0mlegend\u001b[0m\u001b[0;34m(\u001b[0m\u001b[0mfancybox\u001b[0m\u001b[0;34m=\u001b[0m\u001b[0;32mTrue\u001b[0m\u001b[0;34m)\u001b[0m\u001b[0;34m\u001b[0m\u001b[0;34m\u001b[0m\u001b[0m\n\u001b[1;32m     39\u001b[0m     \u001b[0mfig\u001b[0m\u001b[0;34m.\u001b[0m\u001b[0msubplots_adjust\u001b[0m\u001b[0;34m(\u001b[0m\u001b[0mleft\u001b[0m\u001b[0;34m=\u001b[0m\u001b[0;36m0.055\u001b[0m\u001b[0;34m,\u001b[0m\u001b[0mright\u001b[0m\u001b[0;34m=\u001b[0m\u001b[0;36m0.99\u001b[0m\u001b[0;34m,\u001b[0m\u001b[0mtop\u001b[0m\u001b[0;34m=\u001b[0m\u001b[0;36m0.925\u001b[0m\u001b[0;34m,\u001b[0m\u001b[0mbottom\u001b[0m\u001b[0;34m=\u001b[0m\u001b[0;36m0.145\u001b[0m\u001b[0;34m)\u001b[0m\u001b[0;34m\u001b[0m\u001b[0;34m\u001b[0m\u001b[0m\n\u001b[0;32m---> 40\u001b[0;31m     \u001b[0mfig\u001b[0m\u001b[0;34m.\u001b[0m\u001b[0msavefig\u001b[0m\u001b[0;34m(\u001b[0m\u001b[0moutput\u001b[0m \u001b[0;34m+\u001b[0m \u001b[0;34m'snidfits_emclip_'\u001b[0m \u001b[0;34m+\u001b[0m \u001b[0mfname\u001b[0m \u001b[0;34m+\u001b[0m \u001b[0;34m\"_\"\u001b[0m \u001b[0;34m+\u001b[0m \u001b[0mstr\u001b[0m\u001b[0;34m(\u001b[0m\u001b[0mbest_num\u001b[0m\u001b[0;34m)\u001b[0m \u001b[0;34m+\u001b[0m \u001b[0;34m'.png'\u001b[0m\u001b[0;34m,\u001b[0m \u001b[0mdpi\u001b[0m \u001b[0;34m=\u001b[0m \u001b[0;36m600\u001b[0m\u001b[0;34m)\u001b[0m\u001b[0;34m\u001b[0m\u001b[0;34m\u001b[0m\u001b[0m\n\u001b[0m\u001b[1;32m     41\u001b[0m     \u001b[0;31m#print(output + 'snidfits_emclip_' + fname + \"_\" + str(best_num) + '.png')\u001b[0m\u001b[0;34m\u001b[0m\u001b[0;34m\u001b[0m\u001b[0;34m\u001b[0m\u001b[0m\n\u001b[1;32m     42\u001b[0m     \u001b[0mplt\u001b[0m\u001b[0;34m.\u001b[0m\u001b[0mclose\u001b[0m\u001b[0;34m(\u001b[0m\u001b[0mfig\u001b[0m\u001b[0;34m)\u001b[0m\u001b[0;34m\u001b[0m\u001b[0;34m\u001b[0m\u001b[0m\n",
      "\u001b[0;32m~/anaconda3/lib/python3.7/site-packages/matplotlib/figure.py\u001b[0m in \u001b[0;36msavefig\u001b[0;34m(self, fname, transparent, **kwargs)\u001b[0m\n\u001b[1;32m   2178\u001b[0m             \u001b[0mself\u001b[0m\u001b[0;34m.\u001b[0m\u001b[0mpatch\u001b[0m\u001b[0;34m.\u001b[0m\u001b[0mset_visible\u001b[0m\u001b[0;34m(\u001b[0m\u001b[0mframeon\u001b[0m\u001b[0;34m)\u001b[0m\u001b[0;34m\u001b[0m\u001b[0;34m\u001b[0m\u001b[0m\n\u001b[1;32m   2179\u001b[0m \u001b[0;34m\u001b[0m\u001b[0m\n\u001b[0;32m-> 2180\u001b[0;31m         \u001b[0mself\u001b[0m\u001b[0;34m.\u001b[0m\u001b[0mcanvas\u001b[0m\u001b[0;34m.\u001b[0m\u001b[0mprint_figure\u001b[0m\u001b[0;34m(\u001b[0m\u001b[0mfname\u001b[0m\u001b[0;34m,\u001b[0m \u001b[0;34m**\u001b[0m\u001b[0mkwargs\u001b[0m\u001b[0;34m)\u001b[0m\u001b[0;34m\u001b[0m\u001b[0;34m\u001b[0m\u001b[0m\n\u001b[0m\u001b[1;32m   2181\u001b[0m \u001b[0;34m\u001b[0m\u001b[0m\n\u001b[1;32m   2182\u001b[0m         \u001b[0;32mif\u001b[0m \u001b[0mframeon\u001b[0m\u001b[0;34m:\u001b[0m\u001b[0;34m\u001b[0m\u001b[0;34m\u001b[0m\u001b[0m\n",
      "\u001b[0;32m~/anaconda3/lib/python3.7/site-packages/matplotlib/backend_bases.py\u001b[0m in \u001b[0;36mprint_figure\u001b[0;34m(self, filename, dpi, facecolor, edgecolor, orientation, format, bbox_inches, **kwargs)\u001b[0m\n\u001b[1;32m   2089\u001b[0m                     \u001b[0morientation\u001b[0m\u001b[0;34m=\u001b[0m\u001b[0morientation\u001b[0m\u001b[0;34m,\u001b[0m\u001b[0;34m\u001b[0m\u001b[0;34m\u001b[0m\u001b[0m\n\u001b[1;32m   2090\u001b[0m                     \u001b[0mbbox_inches_restore\u001b[0m\u001b[0;34m=\u001b[0m\u001b[0m_bbox_inches_restore\u001b[0m\u001b[0;34m,\u001b[0m\u001b[0;34m\u001b[0m\u001b[0;34m\u001b[0m\u001b[0m\n\u001b[0;32m-> 2091\u001b[0;31m                     **kwargs)\n\u001b[0m\u001b[1;32m   2092\u001b[0m             \u001b[0;32mfinally\u001b[0m\u001b[0;34m:\u001b[0m\u001b[0;34m\u001b[0m\u001b[0;34m\u001b[0m\u001b[0m\n\u001b[1;32m   2093\u001b[0m                 \u001b[0;32mif\u001b[0m \u001b[0mbbox_inches\u001b[0m \u001b[0;32mand\u001b[0m \u001b[0mrestore_bbox\u001b[0m\u001b[0;34m:\u001b[0m\u001b[0;34m\u001b[0m\u001b[0;34m\u001b[0m\u001b[0m\n",
      "\u001b[0;32m~/anaconda3/lib/python3.7/site-packages/matplotlib/backends/backend_agg.py\u001b[0m in \u001b[0;36mprint_png\u001b[0;34m(self, filename_or_obj, metadata, pil_kwargs, *args, **kwargs)\u001b[0m\n\u001b[1;32m    530\u001b[0m                     \u001b[0mcbook\u001b[0m\u001b[0;34m.\u001b[0m\u001b[0mopen_file_cm\u001b[0m\u001b[0;34m(\u001b[0m\u001b[0mfilename_or_obj\u001b[0m\u001b[0;34m,\u001b[0m \u001b[0;34m\"wb\"\u001b[0m\u001b[0;34m)\u001b[0m \u001b[0;32mas\u001b[0m \u001b[0mfh\u001b[0m\u001b[0;34m:\u001b[0m\u001b[0;34m\u001b[0m\u001b[0;34m\u001b[0m\u001b[0m\n\u001b[1;32m    531\u001b[0m                 _png.write_png(renderer._renderer, fh,\n\u001b[0;32m--> 532\u001b[0;31m                                self.figure.dpi, metadata=metadata)\n\u001b[0m\u001b[1;32m    533\u001b[0m \u001b[0;34m\u001b[0m\u001b[0m\n\u001b[1;32m    534\u001b[0m     \u001b[0;32mdef\u001b[0m \u001b[0mprint_to_buffer\u001b[0m\u001b[0;34m(\u001b[0m\u001b[0mself\u001b[0m\u001b[0;34m)\u001b[0m\u001b[0;34m:\u001b[0m\u001b[0;34m\u001b[0m\u001b[0;34m\u001b[0m\u001b[0m\n",
      "\u001b[0;31mSystemError\u001b[0m: <built-in method write of _io.BufferedWriter object at 0x7fbcedeb6e90> returned a result with an error set"
     ]
    },
    {
     "data": {
      "image/png": "[encoded data removed]",
      "text/plain": [
       "<Figure size 576x324 with 1 Axes>"
      ]
     },
     "metadata": {
      "needs_background": "light"
     },
     "output_type": "display_data"
    }
   ],
   "source": [
    "counter = 0\n",
    "for i in sample_remaining:\n",
    "    spectra_name = i[\"Version\"].split(\".\")[0]\n",
    "    z_snid = i[\"z_snid\"]\n",
    "    print(spectra_name)\n",
    "    plot_best_5(source,output,spectra_name,z_snid, show_redshift = False)\n",
    "    gc.collect()\n",
    "    if(counter%20 == 0):\n",
    "        print(counter)\n",
    "    counter += 1"
   ]
  },
  {
   "cell_type": "code",
   "execution_count": 13,
   "metadata": {},
   "outputs": [],
   "source": [
    "pngs = glob.glob(output + \"/*.png\")"
   ]
  },
  {
   "cell_type": "code",
   "execution_count": 15,
   "metadata": {},
   "outputs": [
    {
     "data": {
      "text/plain": [
       "7710"
      ]
     },
     "execution_count": 15,
     "metadata": {},
     "output_type": "execute_result"
    }
   ],
   "source": [
    "len(pngs)"
   ]
  },
  {
   "cell_type": "code",
   "execution_count": 17,
   "metadata": {},
   "outputs": [
    {
     "data": {
      "text/plain": [
       "7715"
      ]
     },
     "execution_count": 17,
     "metadata": {},
     "output_type": "execute_result"
    }
   ],
   "source": [
    "len(sample_2018)*5"
   ]
  },
  {
   "cell_type": "code",
   "execution_count": 25,
   "metadata": {},
   "outputs": [
    {
     "data": {
      "text/plain": [
       "['/home/xhall/Documents/NewZTF/sample_2018/SNIDoutput//ZTF18aaxdrjn_20180531_P60_v1/snid.param',\n",
       " '/home/xhall/Documents/NewZTF/sample_2018/SNIDoutput//ZTF18aaxdrjn_20180531_P60_v1/ZTF18aaxdrjn_20180531_P60_v1_snid.output']"
      ]
     },
     "execution_count": 25,
     "metadata": {},
     "output_type": "execute_result"
    }
   ],
   "source": [
    "glob.glob(source + \"/ZTF18aaxdrjn_20180531_P60_v1/*.*\")"
   ]
  },
  {
   "cell_type": "code",
   "execution_count": 23,
   "metadata": {},
   "outputs": [
    {
     "ename": "IndexError",
     "evalue": "index -1 is out of bounds for axis 0 with size 0",
     "output_type": "error",
     "traceback": [
      "\u001b[0;31m---------------------------------------------------------------------------\u001b[0m",
      "\u001b[0;31mIndexError\u001b[0m                                Traceback (most recent call last)",
      "\u001b[0;32m<ipython-input-23-b991ce23e914>\u001b[0m in \u001b[0;36m<module>\u001b[0;34m\u001b[0m\n\u001b[0;32m----> 1\u001b[0;31m \u001b[0mread_tables\u001b[0m\u001b[0;34m(\u001b[0m\u001b[0mnp\u001b[0m\u001b[0;34m.\u001b[0m\u001b[0msort\u001b[0m\u001b[0;34m(\u001b[0m\u001b[0mglob\u001b[0m\u001b[0;34m.\u001b[0m\u001b[0mglob\u001b[0m\u001b[0;34m(\u001b[0m\u001b[0msource\u001b[0m \u001b[0;34m+\u001b[0m \u001b[0;34m\"/ZTF18aaxdrjn_20180531_P60_v1/*.dat\"\u001b[0m\u001b[0;34m)\u001b[0m\u001b[0;34m)\u001b[0m\u001b[0;34m)\u001b[0m\u001b[0;34m\u001b[0m\u001b[0;34m\u001b[0m\u001b[0m\n\u001b[0m",
      "\u001b[0;32m<ipython-input-5-96481dceb953>\u001b[0m in \u001b[0;36mread_tables\u001b[0;34m(files)\u001b[0m\n\u001b[1;32m      1\u001b[0m \u001b[0;32mdef\u001b[0m \u001b[0mread_tables\u001b[0m\u001b[0;34m(\u001b[0m\u001b[0mfiles\u001b[0m\u001b[0;34m)\u001b[0m\u001b[0;34m:\u001b[0m\u001b[0;34m\u001b[0m\u001b[0;34m\u001b[0m\u001b[0m\n\u001b[1;32m      2\u001b[0m     \u001b[0mmatches_files\u001b[0m \u001b[0;34m=\u001b[0m \u001b[0mfiles\u001b[0m\u001b[0;34m[\u001b[0m\u001b[0;36m0\u001b[0m\u001b[0;34m:\u001b[0m\u001b[0mlen\u001b[0m\u001b[0;34m(\u001b[0m\u001b[0mfiles\u001b[0m\u001b[0;34m)\u001b[0m\u001b[0;34m-\u001b[0m\u001b[0;36m1\u001b[0m\u001b[0;34m]\u001b[0m\u001b[0;34m\u001b[0m\u001b[0;34m\u001b[0m\u001b[0m\n\u001b[0;32m----> 3\u001b[0;31m     \u001b[0mspectra\u001b[0m \u001b[0;34m=\u001b[0m \u001b[0mTable\u001b[0m\u001b[0;34m.\u001b[0m\u001b[0mread\u001b[0m\u001b[0;34m(\u001b[0m\u001b[0mfiles\u001b[0m\u001b[0;34m[\u001b[0m\u001b[0;34m-\u001b[0m\u001b[0;36m1\u001b[0m\u001b[0;34m]\u001b[0m\u001b[0;34m,\u001b[0m \u001b[0mformat\u001b[0m \u001b[0;34m=\u001b[0m \u001b[0;34m\"ascii\"\u001b[0m\u001b[0;34m,\u001b[0m \u001b[0mnames\u001b[0m \u001b[0;34m=\u001b[0m \u001b[0;34m[\u001b[0m\u001b[0;34m\"wavelength\"\u001b[0m\u001b[0;34m,\u001b[0m \u001b[0;34m\"flux\"\u001b[0m\u001b[0;34m]\u001b[0m\u001b[0;34m)\u001b[0m\u001b[0;34m\u001b[0m\u001b[0;34m\u001b[0m\u001b[0m\n\u001b[0m\u001b[1;32m      4\u001b[0m     \u001b[0mmatches\u001b[0m \u001b[0;34m=\u001b[0m \u001b[0;34m[\u001b[0m\u001b[0;34m]\u001b[0m\u001b[0;34m\u001b[0m\u001b[0;34m\u001b[0m\u001b[0m\n\u001b[1;32m      5\u001b[0m     \u001b[0;32mfor\u001b[0m \u001b[0mi\u001b[0m \u001b[0;32min\u001b[0m \u001b[0mmatches_files\u001b[0m\u001b[0;34m:\u001b[0m\u001b[0;34m\u001b[0m\u001b[0;34m\u001b[0m\u001b[0m\n",
      "\u001b[0;31mIndexError\u001b[0m: index -1 is out of bounds for axis 0 with size 0"
     ]
    }
   ],
   "source": [
    "read_tables(np.sort(glob.glob(source + \"/ZTF18aaxdrjn_20180531_P60_v1/*.dat\")))"
   ]
  },
  {
   "cell_type": "code",
   "execution_count": 27,
   "metadata": {},
   "outputs": [
    {
     "data": {
      "text/plain": [
       "[]"
      ]
     },
     "execution_count": 27,
     "metadata": {},
     "output_type": "execute_result"
    }
   ],
   "source": [
    "glob.glob(source + \"/ZTF18aabssth_20180309_P60_v1/*.dat\")"
   ]
  },
  {
   "cell_type": "code",
   "execution_count": 12,
   "metadata": {},
   "outputs": [],
   "source": [
    "plot_best_5(\"/home/xhall/Documents/RandomSNID/\",\"/home/xhall/Documents/RandomSNID/\",\"lris20201012_ZTF20acdehpz\",0.1751)"
   ]
  },
  {
   "cell_type": "code",
   "execution_count": 30,
   "metadata": {},
   "outputs": [
    {
     "data": {
      "text/plain": [
       "<matplotlib.collections.LineCollection at 0x7f308b452990>"
      ]
     },
     "execution_count": 30,
     "metadata": {},
     "output_type": "execute_result"
    },
    {
     "data": {
      "image/png": "[encoded data removed]",
      "text/plain": [
       "<Figure size 432x288 with 1 Axes>"
      ]
     },
     "metadata": {
      "needs_background": "light"
     },
     "output_type": "display_data"
    }
   ],
   "source": [
    "plt.boxplot([2 * -1, 2 * 1])\n",
    "plt.hlines(.5,.75,1.25, color = \"Blue\")"
   ]
  },
  {
   "cell_type": "code",
   "execution_count": 31,
   "metadata": {},
   "outputs": [],
   "source": [
    "files = np.sort(glob.glob(source + \"ZTF17aaajnki_20180320_P60_v1/*.dat\"))"
   ]
  },
  {
   "cell_type": "code",
   "execution_count": 21,
   "metadata": {},
   "outputs": [
    {
     "ename": "SyntaxError",
     "evalue": "unexpected EOF while parsing (<ipython-input-21-8d04a029dbb8>, line 1)",
     "output_type": "error",
     "traceback": [
      "\u001b[0;36m  File \u001b[0;32m\"<ipython-input-21-8d04a029dbb8>\"\u001b[0;36m, line \u001b[0;32m1\u001b[0m\n\u001b[0;31m    for i in np.array(sample_2020[0][\"rank_1\", \"rank_2\", \"rank_3\", \"rank_4\", \"rank_5\"]):\u001b[0m\n\u001b[0m                                                                                        ^\u001b[0m\n\u001b[0;31mSyntaxError\u001b[0m\u001b[0;31m:\u001b[0m unexpected EOF while parsing\n"
     ]
    }
   ],
   "source": [
    "for i in np.array(sample_2020[0][\"rank_1\", \"rank_2\", \"rank_3\", \"rank_4\", \"rank_5\"]):"
   ]
  },
  {
   "cell_type": "code",
   "execution_count": 30,
   "metadata": {},
   "outputs": [],
   "source": [
    "rank = sample_2020[np.where(sample_2020[\"Version\"] == \"ZTF17aaajnki_20180320_P60_v1.ascii\")][\"rank_1\", \"rank_2\", \"rank_3\", \"rank_4\", \"rank_5\"]"
   ]
  },
  {
   "cell_type": "code",
   "execution_count": 45,
   "metadata": {},
   "outputs": [],
   "source": [
    "list_index = [rank[\"rank_1\"][0] - 1, rank[\"rank_2\"][0] - 1, rank[\"rank_3\"][0] - 1, rank[\"rank_4\"][0] - 1, rank[\"rank_5\"][0] - 1]\n",
    "\n",
    "files = np.sort(files)\n",
    "matches_files = files[0:len(files)-1]\n",
    "spectra = Table.read(files[-1], format = \"ascii\", names = [\"wavelength\", \"flux\"])\n",
    "matches = []"
   ]
  },
  {
   "cell_type": "code",
   "execution_count": 46,
   "metadata": {},
   "outputs": [
    {
     "data": {
      "text/plain": [
       "array(['/home/xhall/Documents/NewZTF/sample_2020/SNIDoutput/ZTF17aaajnki_20180320_P60_v1/ZTF17aaajnki_20180320_P60_v1_comp0001_snidflux.dat',\n",
       "       '/home/xhall/Documents/NewZTF/sample_2020/SNIDoutput/ZTF17aaajnki_20180320_P60_v1/ZTF17aaajnki_20180320_P60_v1_comp0002_snidflux.dat',\n",
       "       '/home/xhall/Documents/NewZTF/sample_2020/SNIDoutput/ZTF17aaajnki_20180320_P60_v1/ZTF17aaajnki_20180320_P60_v1_comp0003_snidflux.dat',\n",
       "       '/home/xhall/Documents/NewZTF/sample_2020/SNIDoutput/ZTF17aaajnki_20180320_P60_v1/ZTF17aaajnki_20180320_P60_v1_comp0005_snidflux.dat',\n",
       "       '/home/xhall/Documents/NewZTF/sample_2020/SNIDoutput/ZTF17aaajnki_20180320_P60_v1/ZTF17aaajnki_20180320_P60_v1_comp0008_snidflux.dat'],\n",
       "      dtype='<U131')"
      ]
     },
     "execution_count": 46,
     "metadata": {},
     "output_type": "execute_result"
    }
   ],
   "source": [
    "matches_files[list_index]"
   ]
  },
  {
   "cell_type": "code",
   "execution_count": 44,
   "metadata": {},
   "outputs": [
    {
     "data": {
      "text/plain": [
       "1"
      ]
     },
     "execution_count": 44,
     "metadata": {},
     "output_type": "execute_result"
    }
   ],
   "source": [
    "rank[\"rank_1\"][0]"
   ]
  },
  {
   "cell_type": "code",
   "execution_count": 57,
   "metadata": {},
   "outputs": [
    {
     "data": {
      "text/html": [
       "<i>Row index=617</i>\n",
       "<table id=\"table139784491632528\">\n",
       "<thead><tr><th>Version</th><th>ZTF_Name</th><th>z_sntemplate</th><th>z_rlap</th><th>z_snid</th><th>z_snid_err</th><th>z_level</th><th>rank_1</th><th>sntemplate_1</th><th>rlap_1</th><th>c_snid_1</th><th>z_snid_1</th><th>z_snid_err_1</th><th>age_1</th><th>age_flag_1</th><th>rank_2</th><th>sntemplate_2</th><th>rlap_2</th><th>c_snid_2</th><th>z_snid_2</th><th>z_snid_err_2</th><th>age_2</th><th>age_flag_2</th><th>rank_3</th><th>sntemplate_3</th><th>rlap_3</th><th>c_snid_3</th><th>z_snid_3</th><th>z_snid_err_3</th><th>age_3</th><th>age_flag_3</th><th>rank_4</th><th>sntemplate_4</th><th>rlap_4</th><th>c_snid_4</th><th>z_snid_4</th><th>z_snid_err_4</th><th>age_4</th><th>age_flag_4</th><th>rank_5</th><th>sntemplate_5</th><th>rlap_5</th><th>c_snid_5</th><th>z_snid_5</th><th>z_snid_err_5</th><th>age_5</th><th>age_flag_5</th></tr></thead>\n",
       "<thead><tr><th>str39</th><th>str12</th><th>str12</th><th>float64</th><th>float64</th><th>float64</th><th>int64</th><th>int64</th><th>str12</th><th>float64</th><th>str7</th><th>float64</th><th>float64</th><th>float64</th><th>int64</th><th>int64</th><th>str12</th><th>float64</th><th>str7</th><th>float64</th><th>float64</th><th>float64</th><th>int64</th><th>int64</th><th>str12</th><th>float64</th><th>str7</th><th>float64</th><th>float64</th><th>float64</th><th>int64</th><th>int64</th><th>str12</th><th>float64</th><th>str7</th><th>float64</th><th>float64</th><th>float64</th><th>int64</th><th>int64</th><th>str12</th><th>float64</th><th>str7</th><th>float64</th><th>float64</th><th>float64</th><th>int64</th></tr></thead>\n",
       "<tr><td>ZTF18aayyxxp_20180615_APO_v2.ascii</td><td>ZTF18aayyxxp</td><td>sn09ao</td><td>11.39</td><td>0.0176</td><td>0.0034</td><td>1</td><td>1</td><td>sn09ao</td><td>11.39</td><td>II-norm</td><td>0.0176</td><td>0.0034</td><td>49.0</td><td>0</td><td>3</td><td>sn03bn</td><td>10.02</td><td>II-norm</td><td>0.0178</td><td>0.0044</td><td>45.0</td><td>0</td><td>4</td><td>sn2005cs</td><td>9.21</td><td>II-norm</td><td>0.016</td><td>0.0036</td><td>12.7</td><td>0</td><td>20</td><td>sn2006T</td><td>8.17</td><td>IIb</td><td>0.0305</td><td>0.0076</td><td>-11.5</td><td>0</td><td>100</td><td>sn1998de</td><td>6.73</td><td>Ia-91bg</td><td>0.0369</td><td>0.0113</td><td>2.7</td><td>0</td></tr>\n",
       "</table>"
      ],
      "text/plain": [
       "<Row index=617>\n",
       "             Version                 ZTF_Name   z_sntemplate  z_rlap  z_snid z_snid_err z_level rank_1 sntemplate_1  rlap_1 c_snid_1 z_snid_1 z_snid_err_1  age_1  age_flag_1 rank_2 sntemplate_2  rlap_2 c_snid_2 z_snid_2 z_snid_err_2  age_2  age_flag_2 rank_3 sntemplate_3  rlap_3 c_snid_3 z_snid_3 z_snid_err_3  age_3  age_flag_3 rank_4 sntemplate_4  rlap_4 c_snid_4 z_snid_4 z_snid_err_4  age_4  age_flag_4 rank_5 sntemplate_5  rlap_5 c_snid_5 z_snid_5 z_snid_err_5  age_5  age_flag_5\n",
       "              str39                   str12        str12     float64 float64  float64    int64  int64     str12     float64   str7   float64    float64    float64   int64    int64     str12     float64   str7   float64    float64    float64   int64    int64     str12     float64   str7   float64    float64    float64   int64    int64     str12     float64   str7   float64    float64    float64   int64    int64     str12     float64   str7   float64    float64    float64   int64   \n",
       "---------------------------------- ------------ ------------ ------- ------- ---------- ------- ------ ------------ ------- -------- -------- ------------ ------- ---------- ------ ------------ ------- -------- -------- ------------ ------- ---------- ------ ------------ ------- -------- -------- ------------ ------- ---------- ------ ------------ ------- -------- -------- ------------ ------- ---------- ------ ------------ ------- -------- -------- ------------ ------- ----------\n",
       "ZTF18aayyxxp_20180615_APO_v2.ascii ZTF18aayyxxp       sn09ao   11.39  0.0176     0.0034       1      1       sn09ao   11.39  II-norm   0.0176       0.0034    49.0          0      3       sn03bn   10.02  II-norm   0.0178       0.0044    45.0          0      4     sn2005cs    9.21  II-norm    0.016       0.0036    12.7          0     20      sn2006T    8.17      IIb   0.0305       0.0076   -11.5          0    100     sn1998de    6.73  Ia-91bg   0.0369       0.0113     2.7          0"
      ]
     },
     "execution_count": 57,
     "metadata": {},
     "output_type": "execute_result"
    }
   ],
   "source": [
    "sample_2020[np.argmax(sample_2020[\"rank_5\"])]"
   ]
  },
  {
   "cell_type": "code",
   "execution_count": 63,
   "metadata": {},
   "outputs": [],
   "source": [
    "sample_2020[np.where(sample_2020[\"rank_5\"] > 50)].to_pandas().to_csv(\"/home/xhall/Documents/NewZTF/sample_2020/SNID_2020_output_more.csv\")"
   ]
  },
  {
   "cell_type": "code",
   "execution_count": 64,
   "metadata": {},
   "outputs": [
    {
     "data": {
      "text/html": [
       "<i>Table length=597</i>\n",
       "<table id=\"table139784489271632\" class=\"table-striped table-bordered table-condensed\">\n",
       "<thead><tr><th>Version</th><th>ZTF_Name</th><th>z_sntemplate</th><th>z_rlap</th><th>z_snid</th><th>z_snid_err</th><th>z_level</th><th>rank_1</th><th>sntemplate_1</th><th>rlap_1</th><th>c_snid_1</th><th>z_snid_1</th><th>z_snid_err_1</th><th>age_1</th><th>age_flag_1</th><th>rank_2</th><th>sntemplate_2</th><th>rlap_2</th><th>c_snid_2</th><th>z_snid_2</th><th>z_snid_err_2</th><th>age_2</th><th>age_flag_2</th><th>rank_3</th><th>sntemplate_3</th><th>rlap_3</th><th>c_snid_3</th><th>z_snid_3</th><th>z_snid_err_3</th><th>age_3</th><th>age_flag_3</th><th>rank_4</th><th>sntemplate_4</th><th>rlap_4</th><th>c_snid_4</th><th>z_snid_4</th><th>z_snid_err_4</th><th>age_4</th><th>age_flag_4</th><th>rank_5</th><th>sntemplate_5</th><th>rlap_5</th><th>c_snid_5</th><th>z_snid_5</th><th>z_snid_err_5</th><th>age_5</th><th>age_flag_5</th></tr></thead>\n",
       "<thead><tr><th>str39</th><th>str12</th><th>str12</th><th>float64</th><th>float64</th><th>float64</th><th>int64</th><th>int64</th><th>str12</th><th>float64</th><th>str7</th><th>float64</th><th>float64</th><th>float64</th><th>int64</th><th>int64</th><th>str12</th><th>float64</th><th>str7</th><th>float64</th><th>float64</th><th>float64</th><th>int64</th><th>int64</th><th>str12</th><th>float64</th><th>str7</th><th>float64</th><th>float64</th><th>float64</th><th>int64</th><th>int64</th><th>str12</th><th>float64</th><th>str7</th><th>float64</th><th>float64</th><th>float64</th><th>int64</th><th>int64</th><th>str12</th><th>float64</th><th>str7</th><th>float64</th><th>float64</th><th>float64</th><th>int64</th></tr></thead>\n",
       "<tr><td>ZTF18aabcvnq_20180604_P60_v1.ascii</td><td>ZTF18aabcvnq</td><td>sn2005cf</td><td>6.96</td><td>0.1741</td><td>0.0084</td><td>1</td><td>1</td><td>sn2005cf</td><td>6.96</td><td>Ia-norm</td><td>0.1741</td><td>0.0084</td><td>-2.4</td><td>0</td><td>2</td><td>sn2007jg</td><td>6.92</td><td>Ia-norm</td><td>0.1868</td><td>0.009000000000000001</td><td>-2.3</td><td>0</td><td>3</td><td>sn2004S</td><td>6.37</td><td>Ia-norm</td><td>0.1721</td><td>0.0094</td><td>1.6</td><td>0</td><td>49</td><td>sn2006oa</td><td>4.9</td><td>Ia-91T</td><td>0.1729</td><td>0.0116</td><td>-3.8</td><td>0</td><td>61</td><td>sn2013dx</td><td>4.74</td><td>Ic-BL</td><td>0.0429</td><td>0.022000000000000002</td><td>19.5</td><td>0</td></tr>\n",
       "<tr><td>ZTF18aabtxvd_20180411_DCT_v2.ascii</td><td>ZTF18aabtxvd</td><td>sn2005cs</td><td>12.78</td><td>0.0617</td><td>0.0048</td><td>1</td><td>1</td><td>sn2005cs</td><td>12.78</td><td>II-norm</td><td>0.0617</td><td>0.0048</td><td>0.8</td><td>0</td><td>3</td><td>sn05cs</td><td>11.51</td><td>II-norm</td><td>0.0627</td><td>0.0051</td><td>1.0</td><td>0</td><td>4</td><td>sn1999em</td><td>11.07</td><td>II-norm</td><td>0.0667</td><td>0.0059</td><td>-1.6</td><td>0</td><td>63</td><td>sn1993J</td><td>6.32</td><td>IIb</td><td>0.0696</td><td>0.0112</td><td>532.1</td><td>0</td><td>78</td><td>sn98bw</td><td>5.57</td><td>Ic-BL</td><td>0.1788</td><td>0.0129</td><td>86.9</td><td>0</td></tr>\n",
       "<tr><td>ZTF18aabtxvd_20180417_Keck1_v1.ascii</td><td>ZTF18aabtxvd</td><td>sn99em</td><td>13.03</td><td>0.0669</td><td>0.0048</td><td>1</td><td>1</td><td>sn99em</td><td>13.03</td><td>II-norm</td><td>0.0669</td><td>0.0048</td><td>1.4</td><td>0</td><td>3</td><td>sn04fc</td><td>11.68</td><td>II-norm</td><td>0.0671</td><td>0.0055</td><td>9.0</td><td>0</td><td>4</td><td>sn2004et</td><td>11.49</td><td>II-norm</td><td>0.0672</td><td>0.0054</td><td>-1.9</td><td>0</td><td>21</td><td>ASASSN14ae</td><td>8.54</td><td>TDE</td><td>0.0615</td><td>0.0078</td><td>30.0</td><td>1</td><td>64</td><td>sn98bw</td><td>6.19</td><td>Ic-BL</td><td>0.0883</td><td>0.0127</td><td>11.7</td><td>0</td></tr>\n",
       "<tr><td>ZTF18aabtxvd_20180419_Gemini_N_v1.ascii</td><td>ZTF18aabtxvd</td><td>sn09bz</td><td>11.85</td><td>0.0675</td><td>0.0055</td><td>1</td><td>1</td><td>sn09bz</td><td>11.85</td><td>II-norm</td><td>0.0675</td><td>0.0055</td><td>9.0</td><td>0</td><td>2</td><td>sn03iq</td><td>10.55</td><td>II-norm</td><td>0.0677</td><td>0.0062</td><td>9.0</td><td>0</td><td>3</td><td>sn08il</td><td>9.34</td><td>II-norm</td><td>0.0708</td><td>0.0069</td><td>3.0</td><td>0</td><td>79</td><td>ASASSN14ae</td><td>4.98</td><td>TDE</td><td>0.0634</td><td>0.0113</td><td>30.0</td><td>1</td><td>98</td><td>sn2012bz</td><td>4.5</td><td>Ic-BL</td><td>0.0314</td><td>0.0195</td><td>3.9</td><td>0</td></tr>\n",
       "<tr><td>ZTF18aabtxvd_20180513_DCT_v1.ascii</td><td>ZTF18aabtxvd</td><td>sn06it</td><td>8.43</td><td>0.0667</td><td>0.0075</td><td>1</td><td>1</td><td>sn06it</td><td>8.43</td><td>II-norm</td><td>0.0667</td><td>0.0075</td><td>12.0</td><td>0</td><td>2</td><td>sn2004et</td><td>8.02</td><td>II-norm</td><td>0.0669</td><td>0.0077</td><td>-0.9</td><td>0</td><td>3</td><td>sn04et</td><td>8.02</td><td>II-norm</td><td>0.0669</td><td>0.0077</td><td>-0.9</td><td>0</td><td>4</td><td>ASASSN14ae</td><td>7.97</td><td>TDE</td><td>0.0622</td><td>0.0081</td><td>30.0</td><td>1</td><td>51</td><td>sn98S</td><td>6.01</td><td>IIn</td><td>0.0711</td><td>0.0097</td><td>310.1</td><td>0</td></tr>\n",
       "<tr><td>ZTF18aabxlsv_20181110_Keck1_v1.ascii</td><td>ZTF18aabxlsv</td><td>sn07it</td><td>9.77</td><td>0.0468</td><td>0.0034</td><td>1</td><td>1</td><td>sn07it</td><td>9.77</td><td>II-norm</td><td>0.0468</td><td>0.0034</td><td>268.0</td><td>0</td><td>2</td><td>sn04et</td><td>9.64</td><td>II-norm</td><td>0.0468</td><td>0.0031</td><td>297.7</td><td>0</td><td>4</td><td>sn87A</td><td>9.31</td><td>II-norm</td><td>0.044000000000000004</td><td>0.0037</td><td>316.0</td><td>0</td><td>16</td><td>sn97cy</td><td>8.91</td><td>IIn</td><td>0.0497</td><td>0.0048</td><td>71.3</td><td>1</td><td>89</td><td>sn2005da</td><td>7.72</td><td>Ic-BL</td><td>0.0528</td><td>0.0105</td><td>2.0</td><td>1</td></tr>\n",
       "<tr><td>ZTF18aabybkt_20180321_APO_v1.ascii</td><td>ZTF18aabybkt</td><td>sn05cs</td><td>16.07</td><td>0.0074</td><td>0.0021</td><td>1</td><td>1</td><td>sn05cs</td><td>16.07</td><td>II-norm</td><td>0.0074</td><td>0.0021</td><td>5.0</td><td>0</td><td>3</td><td>sn99br</td><td>15.65</td><td>II-norm</td><td>0.0048</td><td>0.0018</td><td>18.0</td><td>0</td><td>13</td><td>sn06Y</td><td>10.33</td><td>II-norm</td><td>0.0164</td><td>0.0035</td><td>27.0</td><td>0</td><td>45</td><td>sn2006aj</td><td>7.87</td><td>Ic-BL</td><td>0.046</td><td>0.0071</td><td>198.1</td><td>0</td><td>61</td><td>sn1998S</td><td>7.45</td><td>IIn</td><td>0.0151</td><td>0.0045</td><td>325.0</td><td>0</td></tr>\n",
       "<tr><td>ZTF18aaccmnh_20180517_P200_v1.ascii</td><td>ZTF18aaccmnh</td><td>sn03bn</td><td>16.38</td><td>0.0316</td><td>0.002</td><td>1</td><td>1</td><td>sn03bn</td><td>16.38</td><td>II-norm</td><td>0.0316</td><td>0.002</td><td>95.0</td><td>0</td><td>2</td><td>sn04fc</td><td>15.74</td><td>II-norm</td><td>0.0326</td><td>0.0021</td><td>63.0</td><td>0</td><td>3</td><td>sn06it</td><td>13.85</td><td>II-norm</td><td>0.0352</td><td>0.0027</td><td>36.0</td><td>0</td><td>69</td><td>lbv03hy</td><td>9.58</td><td>LBV</td><td>0.0397</td><td>0.004</td><td>-99.9</td><td>2</td><td>84</td><td>sn1998S</td><td>9.09</td><td>IIn</td><td>0.0371</td><td>0.0041</td><td>39.7</td><td>0</td></tr>\n",
       "<tr><td>ZTF18aagstdc_20180402_P60_v1.ascii</td><td>ZTF18aagstdc</td><td>sn2002dj</td><td>21.55</td><td>0.0469</td><td>0.0029</td><td>1</td><td>1</td><td>sn2002dj</td><td>21.55</td><td>Ia-norm</td><td>0.0469</td><td>0.0029</td><td>-6.4</td><td>0</td><td>2</td><td>sn2002ef</td><td>21.2</td><td>Ia-norm</td><td>0.0384</td><td>0.0027</td><td>-2.9</td><td>0</td><td>3</td><td>sn00E</td><td>21.11</td><td>Ia-norm</td><td>0.0382</td><td>0.0028</td><td>-5.5</td><td>0</td><td>15</td><td>sn2002hu</td><td>17.88</td><td>Ia-91T</td><td>0.0366</td><td>0.0031</td><td>-3.5</td><td>0</td><td>84</td><td>sn06gz</td><td>13.39</td><td>Ia-03fg</td><td>0.0399</td><td>0.0037</td><td>-2.6</td><td>0</td></tr>\n",
       "<tr><td>ZTF18aahfqbc_20180411_APO_v1.ascii</td><td>ZTF18aahfqbc</td><td>sn05cs</td><td>15.38</td><td>0.0011</td><td>0.0025</td><td>1</td><td>1</td><td>sn05cs</td><td>15.38</td><td>II-norm</td><td>0.0011</td><td>0.0025</td><td>3.1</td><td>0</td><td>12</td><td>sn04et</td><td>8.96</td><td>II-norm</td><td>0.0066</td><td>0.0051</td><td>1.0</td><td>0</td><td>15</td><td>sn99br</td><td>8.61</td><td>II-norm</td><td>0.0005</td><td>0.0038</td><td>15.0</td><td>0</td><td>80</td><td>sn1998S</td><td>5.78</td><td>IIn</td><td>0.0093</td><td>0.0068</td><td>325.0</td><td>0</td><td>83</td><td>agn</td><td>5.71</td><td>AGN</td><td>-0.0018</td><td>0.0071</td><td>-99.9</td><td>2</td></tr>\n",
       "<tr><td>...</td><td>...</td><td>...</td><td>...</td><td>...</td><td>...</td><td>...</td><td>...</td><td>...</td><td>...</td><td>...</td><td>...</td><td>...</td><td>...</td><td>...</td><td>...</td><td>...</td><td>...</td><td>...</td><td>...</td><td>...</td><td>...</td><td>...</td><td>...</td><td>...</td><td>...</td><td>...</td><td>...</td><td>...</td><td>...</td><td>...</td><td>...</td><td>...</td><td>...</td><td>...</td><td>...</td><td>...</td><td>...</td><td>...</td><td>...</td><td>...</td><td>...</td><td>...</td><td>...</td><td>...</td><td>...</td><td>...</td></tr>\n",
       "<tr><td>ZTF20abjyoty_20200725_P60_v1.ascii</td><td>ZTF20abjyoty</td><td>sn99em</td><td>9.48</td><td>0.0206</td><td>0.0033</td><td>1</td><td>1</td><td>sn99em</td><td>9.48</td><td>II-norm</td><td>0.0206</td><td>0.0033</td><td>35.3</td><td>0</td><td>4</td><td>sn06bp</td><td>7.95</td><td>II-norm</td><td>0.0256</td><td>0.0045</td><td>34.1</td><td>0</td><td>6</td><td>sn2004dj</td><td>7.84</td><td>II-norm</td><td>0.0183</td><td>0.0036</td><td>20.0</td><td>1</td><td>14</td><td>sn2007ru</td><td>7.49</td><td>Ic-BL</td><td>0.054000000000000006</td><td>0.0072</td><td>15.96</td><td>0</td><td>53</td><td>sn94D</td><td>5.4</td><td>Ia-norm</td><td>0.0381</td><td>0.0101</td><td>26.2</td><td>0</td></tr>\n",
       "<tr><td>ZTF20abjyoty_20200725_P60_v2.ascii</td><td>ZTF20abjyoty</td><td>sn99em</td><td>7.77</td><td>0.0211</td><td>0.0041</td><td>1</td><td>1</td><td>sn99em</td><td>7.77</td><td>II-norm</td><td>0.0211</td><td>0.0041</td><td>35.3</td><td>0</td><td>2</td><td>sn06bp</td><td>7.23</td><td>II-norm</td><td>0.0228</td><td>0.0047</td><td>64.9</td><td>0</td><td>6</td><td>sn92H</td><td>6.92</td><td>II-norm</td><td>0.0271</td><td>0.0062</td><td>44.3</td><td>0</td><td>55</td><td>kcS0</td><td>5.66</td><td>Gal</td><td>0.0285</td><td>0.0117</td><td>-99.9</td><td>2</td><td>56</td><td>sn2007ru</td><td>5.65</td><td>Ic-BL</td><td>0.0536</td><td>0.0104</td><td>15.96</td><td>0</td></tr>\n",
       "<tr><td>ZTF20abkdpsy_20200713_LT_v1.ascii</td><td>ZTF20abkdpsy</td><td>sn2003fa</td><td>10.98</td><td>0.0247</td><td>0.0055</td><td>1</td><td>1</td><td>sn2003fa</td><td>10.98</td><td>Ia-91T</td><td>0.0247</td><td>0.0055</td><td>-10.4</td><td>0</td><td>3</td><td>sn08ds</td><td>10.19</td><td>Ia-norm</td><td>0.0217</td><td>0.0054</td><td>-4.93</td><td>0</td><td>6</td><td>sn1999gp</td><td>9.41</td><td>Ia-91T</td><td>0.0258</td><td>0.0064</td><td>-4.8</td><td>0</td><td>7</td><td>sn1990N</td><td>9.26</td><td>Ia-norm</td><td>0.0246</td><td>0.0062</td><td>-7.4</td><td>0</td><td>99</td><td>sn02cx</td><td>6.35</td><td>Ia-02cx</td><td>0.0084</td><td>0.0067</td><td>-5.3</td><td>0</td></tr>\n",
       "<tr><td>ZTF20ablvukx_20200728_LT_v1.ascii</td><td>ZTF20ablvukx</td><td>sn2006nz</td><td>14.33</td><td>0.0792</td><td>0.0042</td><td>1</td><td>1</td><td>sn2006nz</td><td>14.33</td><td>Ia-norm</td><td>0.0792</td><td>0.0042</td><td>-1.7</td><td>0</td><td>2</td><td>sn2005hf</td><td>13.27</td><td>Ia-norm</td><td>0.0648</td><td>0.004</td><td>8.2</td><td>0</td><td>3</td><td>sn2002dj</td><td>11.93</td><td>Ia-norm</td><td>0.0887</td><td>0.0054</td><td>-11.4</td><td>0</td><td>14</td><td>sn2006cz</td><td>7.55</td><td>Ia-91T</td><td>0.075</td><td>0.0081</td><td>-2.0</td><td>0</td><td>88</td><td>sn2002fb</td><td>6.11</td><td>Ia-91bg</td><td>0.071</td><td>0.0091</td><td>-4.5</td><td>0</td></tr>\n",
       "<tr><td>ZTF20abmbycd_20200723_P60_v1.ascii</td><td>ZTF20abmbycd</td><td>sn2003ic</td><td>8.76</td><td>0.0657</td><td>0.0071</td><td>1</td><td>1</td><td>sn2003ic</td><td>8.76</td><td>Ia-norm</td><td>0.0657</td><td>0.0071</td><td>3.4</td><td>0</td><td>2</td><td>sn1999ee</td><td>8.69</td><td>Ia-norm</td><td>0.0781</td><td>0.008</td><td>-7.2</td><td>0</td><td>3</td><td>sn99ee</td><td>8.66</td><td>Ia-norm</td><td>0.0784</td><td>0.008</td><td>-6.7</td><td>0</td><td>6</td><td>sn2001eh</td><td>7.44</td><td>Ia-91T</td><td>0.0718</td><td>0.0093</td><td>-4.9</td><td>0</td><td>76</td><td>sn2004gq</td><td>5.27</td><td>Ib-norm</td><td>0.0662</td><td>0.0073</td><td>54.6</td><td>0</td></tr>\n",
       "<tr><td>ZTF20abmoakx_20200731_NOT_v1.ascii</td><td>ZTF20abmoakx</td><td>sn04et</td><td>9.35</td><td>0.036000000000000004</td><td>0.0052</td><td>1</td><td>1</td><td>sn04et</td><td>9.35</td><td>II-norm</td><td>0.036000000000000004</td><td>0.0052</td><td>-2.9</td><td>0</td><td>2</td><td>sn99em</td><td>9.33</td><td>II-norm</td><td>0.0355</td><td>0.0053</td><td>0.4</td><td>0</td><td>19</td><td>sn2006bp</td><td>7.24</td><td>II-norm</td><td>0.0407</td><td>0.0067</td><td>3.3</td><td>0</td><td>61</td><td>sn96cb</td><td>4.86</td><td>IIb</td><td>0.0491</td><td>0.0119</td><td>-18.0</td><td>0</td><td>68</td><td>ASASSN14ae</td><td>4.7</td><td>TDE</td><td>0.0466</td><td>0.01</td><td>4.0</td><td>1</td></tr>\n",
       "<tr><td>ZTF20abmoguq_20200730_P60_v1.ascii</td><td>ZTF20abmoguq</td><td>sn1998es</td><td>10.13</td><td>0.1038</td><td>0.0067</td><td>1</td><td>1</td><td>sn1998es</td><td>10.13</td><td>Ia-91T</td><td>0.1038</td><td>0.0067</td><td>-4.4</td><td>0</td><td>2</td><td>sn1999aa</td><td>10.0</td><td>Ia-91T</td><td>0.1053</td><td>0.0069</td><td>-4.1</td><td>0</td><td>5</td><td>sn08ds</td><td>9.34</td><td>Ia-norm</td><td>0.1039</td><td>0.0079</td><td>-4.93</td><td>0</td><td>8</td><td>sn2005eq</td><td>9.23</td><td>Ia-91T</td><td>0.1052</td><td>0.0074</td><td>-5.4</td><td>0</td><td>84</td><td>sn2013cq</td><td>4.92</td><td>Ic-BL</td><td>0.0253</td><td>0.0144</td><td>-1.3</td><td>0</td></tr>\n",
       "<tr><td>ZTF20abmxstg_20200729_P60_v1.ascii</td><td>ZTF20abmxstg</td><td>sn01eh</td><td>9.46</td><td>0.0902</td><td>0.0063</td><td>1</td><td>1</td><td>sn01eh</td><td>9.46</td><td>Ia-norm</td><td>0.0902</td><td>0.0063</td><td>-5.63</td><td>0</td><td>3</td><td>sn99ee</td><td>8.45</td><td>Ia-norm</td><td>0.0948</td><td>0.0075</td><td>-6.7</td><td>0</td><td>5</td><td>sn1998es</td><td>8.31</td><td>Ia-91T</td><td>0.0865</td><td>0.0065</td><td>-4.4</td><td>0</td><td>6</td><td>sn08ds</td><td>8.29</td><td>Ia-norm</td><td>0.0844</td><td>0.0069</td><td>-4.93</td><td>0</td><td>88</td><td>sn2007cl</td><td>6.08</td><td>Ic-norm</td><td>0.0801</td><td>0.0092</td><td>-5.9</td><td>0</td></tr>\n",
       "<tr><td>ZTF20abnnftk_20200722_P60_v1.ascii</td><td>ZTF20abnnftk</td><td>sn2006lf</td><td>17.67</td><td>0.0196</td><td>0.0029</td><td>1</td><td>1</td><td>sn2006lf</td><td>17.67</td><td>Ia-norm</td><td>0.0196</td><td>0.0029</td><td>50.6</td><td>0</td><td>2</td><td>sn2001ep</td><td>13.69</td><td>Ia-norm</td><td>0.0163</td><td>0.0032</td><td>66.9</td><td>0</td><td>5</td><td>sn94D</td><td>10.18</td><td>Ia-norm</td><td>0.019</td><td>0.0049</td><td>46.2</td><td>0</td><td>14</td><td>sn86G</td><td>8.93</td><td>Ia-91bg</td><td>0.0183</td><td>0.0052</td><td>44.6</td><td>0</td><td>66</td><td>sn1999ac</td><td>7.3</td><td>Ia-91T</td><td>0.0168</td><td>0.0066</td><td>62.3</td><td>0</td></tr>\n",
       "<tr><td>ZTF20abovqes_20200728_P60_v1.ascii</td><td>ZTF20abovqes</td><td>sn2007kk</td><td>6.48</td><td>0.084</td><td>0.0073</td><td>1</td><td>1</td><td>sn2007kk</td><td>6.48</td><td>Ia-norm</td><td>0.084</td><td>0.0073</td><td>5.9</td><td>0</td><td>2</td><td>sn2006gr</td><td>6.38</td><td>Ia-norm</td><td>0.1009</td><td>0.01</td><td>-7.9</td><td>0</td><td>3</td><td>sn2006cp</td><td>6.31</td><td>Ia-norm</td><td>0.0816</td><td>0.0077</td><td>7.3</td><td>0</td><td>50</td><td>sn1998ab</td><td>5.35</td><td>Ia-91T</td><td>0.0726</td><td>0.0088</td><td>7.7</td><td>0</td><td>79</td><td>sn06gz</td><td>5.19</td><td>Ia-03fg</td><td>0.0775</td><td>0.0081</td><td>7.2</td><td>0</td></tr>\n",
       "</table>"
      ],
      "text/plain": [
       "<Table length=597>\n",
       "                Version                   ZTF_Name   ...  age_5  age_flag_5\n",
       "                 str39                     str12     ... float64   int64   \n",
       "--------------------------------------- ------------ ... ------- ----------\n",
       "     ZTF18aabcvnq_20180604_P60_v1.ascii ZTF18aabcvnq ...    19.5          0\n",
       "     ZTF18aabtxvd_20180411_DCT_v2.ascii ZTF18aabtxvd ...    86.9          0\n",
       "   ZTF18aabtxvd_20180417_Keck1_v1.ascii ZTF18aabtxvd ...    11.7          0\n",
       "ZTF18aabtxvd_20180419_Gemini_N_v1.ascii ZTF18aabtxvd ...     3.9          0\n",
       "     ZTF18aabtxvd_20180513_DCT_v1.ascii ZTF18aabtxvd ...   310.1          0\n",
       "   ZTF18aabxlsv_20181110_Keck1_v1.ascii ZTF18aabxlsv ...     2.0          1\n",
       "     ZTF18aabybkt_20180321_APO_v1.ascii ZTF18aabybkt ...   325.0          0\n",
       "    ZTF18aaccmnh_20180517_P200_v1.ascii ZTF18aaccmnh ...    39.7          0\n",
       "     ZTF18aagstdc_20180402_P60_v1.ascii ZTF18aagstdc ...    -2.6          0\n",
       "     ZTF18aahfqbc_20180411_APO_v1.ascii ZTF18aahfqbc ...   -99.9          2\n",
       "                                    ...          ... ...     ...        ...\n",
       "     ZTF20abjyoty_20200725_P60_v1.ascii ZTF20abjyoty ...    26.2          0\n",
       "     ZTF20abjyoty_20200725_P60_v2.ascii ZTF20abjyoty ...   15.96          0\n",
       "      ZTF20abkdpsy_20200713_LT_v1.ascii ZTF20abkdpsy ...    -5.3          0\n",
       "      ZTF20ablvukx_20200728_LT_v1.ascii ZTF20ablvukx ...    -4.5          0\n",
       "     ZTF20abmbycd_20200723_P60_v1.ascii ZTF20abmbycd ...    54.6          0\n",
       "     ZTF20abmoakx_20200731_NOT_v1.ascii ZTF20abmoakx ...     4.0          1\n",
       "     ZTF20abmoguq_20200730_P60_v1.ascii ZTF20abmoguq ...    -1.3          0\n",
       "     ZTF20abmxstg_20200729_P60_v1.ascii ZTF20abmxstg ...    -5.9          0\n",
       "     ZTF20abnnftk_20200722_P60_v1.ascii ZTF20abnnftk ...    62.3          0\n",
       "     ZTF20abovqes_20200728_P60_v1.ascii ZTF20abovqes ...     7.2          0"
      ]
     },
     "execution_count": 64,
     "metadata": {},
     "output_type": "execute_result"
    }
   ],
   "source": [
    "sample_2020[np.where(sample_2020[\"rank_5\"] > 50)]"
   ]
  },
  {
   "cell_type": "code",
   "execution_count": null,
   "metadata": {},
   "outputs": [],
   "source": []
  }
 ],
 "metadata": {
  "kernelspec": {
   "display_name": "Python 3",
   "language": "python",
   "name": "python3"
  },
  "language_info": {
   "codemirror_mode": {
    "name": "ipython",
    "version": 3
   },
   "file_extension": ".py",
   "mimetype": "text/x-python",
   "name": "python",
   "nbconvert_exporter": "python",
   "pygments_lexer": "ipython3",
   "version": "3.7.6"
  }
 },
 "nbformat": 4,
 "nbformat_minor": 4
}
