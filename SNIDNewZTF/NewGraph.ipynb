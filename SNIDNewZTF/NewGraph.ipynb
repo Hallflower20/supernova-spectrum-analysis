{
 "cells": [
  {
   "cell_type": "code",
   "execution_count": 5,
   "metadata": {},
   "outputs": [],
   "source": [
    "import subprocess\n",
    "import shlex\n",
    "import pandas as pd\n",
    "import numpy as np\n",
    "from astropy.table import Table\n",
    "from astropy.table import Column\n",
    "import os\n",
    "import glob2\n",
    "import matplotlib.pyplot as plt\n",
    "from matplotlib.backends.backend_pdf import PdfPages\n",
    "import glob"
   ]
  },
  {
   "cell_type": "code",
   "execution_count": 48,
   "metadata": {},
   "outputs": [],
   "source": [
    "RedshiftClass = Table.from_pandas(pd.read_csv(\"/home/xhall/Documents/NewZTF/ML_sample_snid100.csv\"))"
   ]
  },
  {
   "cell_type": "markdown",
   "metadata": {},
   "source": [
    "def plot_best_15(specfile, flist, overall_source, output):"
   ]
  },
  {
   "cell_type": "code",
   "execution_count": 85,
   "metadata": {},
   "outputs": [],
   "source": [
    "source = \"/home/xhall/Documents/NewZTF/SNIDoutput/\"\n",
    "output = \"/home/xhall/Documents/NewZTF/Images/\""
   ]
  },
  {
   "cell_type": "code",
   "execution_count": 33,
   "metadata": {},
   "outputs": [
    {
     "data": {
      "text/plain": [
       "['#',\n",
       " 'Template',\n",
       " 'No.',\n",
       " '4:',\n",
       " 'sn87A',\n",
       " '(II-norm;',\n",
       " '-79)',\n",
       " ';',\n",
       " 'z=',\n",
       " '0.008',\n",
       " '+/-',\n",
       " '0.009']"
      ]
     },
     "execution_count": 33,
     "metadata": {},
     "output_type": "execute_result"
    }
   ],
   "source": [
    "open(i,'r').readlines()[0].split()"
   ]
  },
  {
   "cell_type": "code",
   "execution_count": 71,
   "metadata": {},
   "outputs": [],
   "source": [
    "def read_tables(files):\n",
    "    matches_files = files[0:len(files)-1]\n",
    "    spectra = Table.read(files[-1], format = \"ascii\", names = [\"wavelength\", \"flux\"])\n",
    "    matches = []\n",
    "    for i in matches_files:\n",
    "        input_data = open(i,'r').readlines()[0].split()\n",
    "        row = [[int(input_data[3][0]), input_data[4],input_data[5][1::],float(input_data[-3]),float(input_data[-1])]]\n",
    "        row.append(Table.read(i, format = \"ascii\", names = [\"redshifted_wavelength\", \"flux\"]))\n",
    "        matches.append(row)\n",
    "    return matches, spectra"
   ]
  },
  {
   "cell_type": "code",
   "execution_count": 83,
   "metadata": {},
   "outputs": [],
   "source": [
    "def specplot(x,y,xi,yi,title,spectra_name,output,best_num):\n",
    "    fig = plt.figure(figsize=(8,4.5))\n",
    "    plt.plot(xi,yi,color='#217CA3',label='New SN')\n",
    "    plt.plot(x,y,color='#211F30',label='SNID template')\n",
    "    plt.title(title)\n",
    "    plt.xlabel(r'Restframe Wavelength ($\\AA$)')\n",
    "    plt.ylabel('Relative Flux')\n",
    "    plt.legend()\n",
    "    plt.savefig(output + spectra_name + \"_\" + str(best_num) + '.png', dpi = 600)\n",
    "    plt.tight_layout()\n",
    "    plt.close(fig)"
   ]
  },
  {
   "cell_type": "code",
   "execution_count": 81,
   "metadata": {},
   "outputs": [],
   "source": [
    "def plot_best_5(source, output, spectra_name, z_snid):\n",
    "    source_folder = source + spectra_name\n",
    "    \n",
    "    files = np.sort(glob.glob(source_folder+\"/*.dat\"))\n",
    "    matches, spectra = read_tables(files)\n",
    "    \n",
    "    for i in matches:\n",
    "        z = i[0][3]\n",
    "        title = \"Match: {}; SNID type: {} z_SN = {}; z_template = {}\".format(i[0][0], i[0][2], z_snid, z)\n",
    "        xi, yi = spectra[\"wavelength\"] / (1+z), spectra[\"flux\"] /(1+z)\n",
    "        x, y = i[1][\"redshifted_wavelength\"] / (1+z), i[1][\"flux\"] /(1+z)\n",
    "        specplot(x,y,xi,yi,title,spectra_name,output,i[0][0])"
   ]
  },
  {
   "cell_type": "code",
   "execution_count": 84,
   "metadata": {},
   "outputs": [],
   "source": [
    "for i in RedshiftClass:\n",
    "    spectra_name = i[\"Version\"].split(\".\")[0]\n",
    "    z_snid = i[\"z_snid\"]\n",
    "    plot_best_5(source,output,spectra_name,z_snid)\n",
    "    break"
   ]
  },
  {
   "cell_type": "code",
   "execution_count": 73,
   "metadata": {},
   "outputs": [
    {
     "data": {
      "text/plain": [
       "[1, 'sn2006bp', 'II-norm;', 0.007, 0.009]"
      ]
     },
     "execution_count": 73,
     "metadata": {},
     "output_type": "execute_result"
    }
   ],
   "source": [
    "matches[0][0]"
   ]
  },
  {
   "cell_type": "code",
   "execution_count": null,
   "metadata": {},
   "outputs": [],
   "source": []
  }
 ],
 "metadata": {
  "kernelspec": {
   "display_name": "Python 3",
   "language": "python",
   "name": "python3"
  },
  "language_info": {
   "codemirror_mode": {
    "name": "ipython",
    "version": 3
   },
   "file_extension": ".py",
   "mimetype": "text/x-python",
   "name": "python",
   "nbconvert_exporter": "python",
   "pygments_lexer": "ipython3",
   "version": "3.7.6"
  }
 },
 "nbformat": 4,
 "nbformat_minor": 4
}
