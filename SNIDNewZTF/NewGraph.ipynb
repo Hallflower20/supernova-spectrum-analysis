{
 "cells": [
  {
   "cell_type": "code",
   "execution_count": 1,
   "metadata": {},
   "outputs": [],
   "source": [
    "import subprocess\n",
    "import shlex\n",
    "import pandas as pd\n",
    "import numpy as np\n",
    "from astropy.table import Table\n",
    "from astropy.table import Column\n",
    "import os\n",
    "import matplotlib.pyplot as plt\n",
    "from matplotlib.backends.backend_pdf import PdfPages\n",
    "from matplotlib.ticker import MultipleLocator\n",
    "import glob"
   ]
  },
  {
   "cell_type": "code",
   "execution_count": 2,
   "metadata": {},
   "outputs": [],
   "source": [
    "basedir = \"/home/xhall/Documents/\"\n",
    "\n",
    "RedshiftClass = Table.from_pandas(pd.read_csv(basedir + \"NewZTF/ML_sample_snid100.csv\"))"
   ]
  },
  {
   "cell_type": "code",
   "execution_count": 3,
   "metadata": {},
   "outputs": [],
   "source": [
    "source = basedir + \"NewZTF/SNIDoutput/\"\n",
    "output = basedir + \"NewZTF/Images/\""
   ]
  },
  {
   "cell_type": "code",
   "execution_count": 4,
   "metadata": {},
   "outputs": [],
   "source": [
    "def read_tables(files):\n",
    "    matches_files = files[0:len(files)-1]\n",
    "    spectra = Table.read(files[-1], format = \"ascii\", names = [\"wavelength\", \"flux\"])\n",
    "    matches = []\n",
    "    for i in matches_files:\n",
    "        input_data = open(i,'r').readlines()[0].split()\n",
    "        row = [[int(input_data[3][0]), input_data[4],input_data[5][1::],float(input_data[-3]),float(input_data[-1])]]\n",
    "        row.append(Table.read(i, format = \"ascii\", names = [\"redshifted_wavelength\", \"flux\"]))\n",
    "        matches.append(row)\n",
    "    return matches, spectra"
   ]
  },
  {
   "cell_type": "code",
   "execution_count": 5,
   "metadata": {},
   "outputs": [],
   "source": [
    "def plot_box_spec(wave, flux): \n",
    "    flux_plot = np.repeat(flux, 2)\n",
    "    wv_plot = wave.copy()\n",
    "    wv_plot[:-1] += np.diff(wave)/2\n",
    "    wv_plot = np.append(wave[0]-(wave[1]-wave[0])/2, \n",
    "                        np.append(np.repeat(wv_plot[0:-1], 2), \n",
    "                                  wave[-1]+(wave[-1]-wave[-2])/2))\n",
    "    \n",
    "    return wv_plot, flux_plot"
   ]
  },
  {
   "cell_type": "code",
   "execution_count": 6,
   "metadata": {},
   "outputs": [],
   "source": [
    "def specplot(x,y,xi,yi,snid_type,fname,output,best_num, z_template, z_template_unc, z_snid):\n",
    "    fig, ax = plt.subplots(figsize=(8,4.5))\n",
    "    ax.plot(xi,yi,color='#32384D',alpha=0.5,\n",
    "             label='New SN')\n",
    "    ax.plot(x,y,color='#217CA3',\n",
    "             label='SNID template', lw=3)\n",
    "    ax.plot(x[-3],y[-3],color='white',lw=0,\n",
    "             label=r'$z_\\mathrm{} = $ {:.3f}$\\,\\pm\\,${:.3f}'.format(\"{SNID}\", z_template, z_template_unc))\n",
    "    ax.plot(x[-3],y[-3],color='#217CA3', lw=3)\n",
    "    ax.set_xlabel(r'Rest Frame Wavelength ($\\mathrm{\\AA}$)', fontsize=17)\n",
    "    ax.set_ylabel('Relative Flux', fontsize=17)\n",
    "    ax.tick_params(which='both',labelsize=15)\n",
    "    \n",
    "    ax.grid(axis='x', color='0.7', ls=':')\n",
    "    ax.xaxis.set_minor_locator(MultipleLocator(250))\n",
    "    ax.set_yticklabels([])\n",
    "\n",
    "    \n",
    "    ax.text(0.105, 0.955, 'SNID type: ', \n",
    "            va='center',\n",
    "            fontsize=15, transform=plt.gcf().transFigure)\n",
    "    ax.text(0.245, 0.955, snid_type, \n",
    "            color='#217CA3', weight='bold', va='center',\n",
    "            fontsize=23, transform=plt.gcf().transFigure)\n",
    "\n",
    "    ax.text(0.78, 0.955, r'$z_\\mathrm{} = ${:.4f}'.format(\"{SN}\", z_snid), \n",
    "            va='center',\n",
    "            fontsize=15, transform=plt.gcf().transFigure)\n",
    "    \n",
    "    \n",
    "    ax.legend(fancybox=True)\n",
    "    fig.subplots_adjust(left=0.055,right=0.99,top=0.925,bottom=0.145)\n",
    "    fig.savefig(output + 'snidfits_emclip_' + fname + \"_\" + str(best_num) + '.png', dpi = 600)\n",
    "    plt.close(fig)\n"
   ]
  },
  {
   "cell_type": "code",
   "execution_count": 7,
   "metadata": {},
   "outputs": [],
   "source": [
    "def plot_best_5(source, output, spectra_name, z_snid):\n",
    "    source_folder = source + spectra_name\n",
    "    \n",
    "    files = np.sort(glob.glob(source_folder+\"/*.dat\"))\n",
    "    matches, spectra = read_tables(files)\n",
    "    \n",
    "    for i in matches:\n",
    "        z = i[0][3]\n",
    "        snid_type = i[0][2][:-1]\n",
    "        \n",
    "        xi, yi = plot_box_spec(spectra[\"wavelength\"], spectra[\"flux\"])\n",
    "        xi /= (1+z)\n",
    "        yi /= (1+z)\n",
    "        x, y = i[1][\"redshifted_wavelength\"] / (1+z), i[1][\"flux\"] /(1+z)\n",
    "        specplot(x,y,xi,yi,snid_type,spectra_name,output,i[0][0], z, i[0][4], z_snid)"
   ]
  },
  {
   "cell_type": "code",
   "execution_count": 8,
   "metadata": {},
   "outputs": [],
   "source": [
    "for i in RedshiftClass:\n",
    "    spectra_name = i[\"Version\"].split(\".\")[0]\n",
    "    z_snid = i[\"z_snid\"]\n",
    "    plot_best_5(source,output,spectra_name,z_snid)\n",
    "    break"
   ]
  }
 ],
 "metadata": {
  "kernelspec": {
   "display_name": "Python 3",
   "language": "python",
   "name": "python3"
  },
  "language_info": {
   "codemirror_mode": {
    "name": "ipython",
    "version": 3
   },
   "file_extension": ".py",
   "mimetype": "text/x-python",
   "name": "python",
   "nbconvert_exporter": "python",
   "pygments_lexer": "ipython3",
   "version": "3.7.1"
  }
 },
 "nbformat": 4,
 "nbformat_minor": 4
}
