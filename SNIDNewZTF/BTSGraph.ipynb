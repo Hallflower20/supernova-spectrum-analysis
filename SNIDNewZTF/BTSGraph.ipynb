{
 "cells": [
  {
   "cell_type": "code",
   "execution_count": 1,
   "metadata": {},
   "outputs": [],
   "source": [
    "import subprocess\n",
    "import shlex\n",
    "import pandas as pd\n",
    "import numpy as np\n",
    "from astropy.table import Table\n",
    "from astropy.table import Column\n",
    "import os\n",
    "import matplotlib.pyplot as plt\n",
    "from matplotlib.backends.backend_pdf import PdfPages\n",
    "from matplotlib.ticker import MultipleLocator\n",
    "import glob\n",
    "from matplotlib import pyplot\n",
    "import matplotlib.gridspec as gridspec\n",
    "import gc\n",
    "import astropy\n",
    "from scipy import interpolate"
   ]
  },
  {
   "cell_type": "code",
   "execution_count": null,
   "metadata": {},
   "outputs": [],
   "source": []
  },
  {
   "cell_type": "code",
   "execution_count": 2,
   "metadata": {},
   "outputs": [],
   "source": [
    "import pickle"
   ]
  },
  {
   "cell_type": "code",
   "execution_count": 429,
   "metadata": {},
   "outputs": [],
   "source": [
    "import extinction"
   ]
  },
  {
   "cell_type": "code",
   "execution_count": 516,
   "metadata": {},
   "outputs": [],
   "source": [
    "def Alam(lamin):\n",
    "    \n",
    "    A_v = 1 \n",
    "    \n",
    "    R_v = 3.1\n",
    "    \n",
    "    \n",
    "    '''\n",
    "    \n",
    "    Add extinction with R_v = 3.1 and A_v = 1, A_v = 1 in order to find the constant of proportionality for\n",
    "    \n",
    "    the extinction law.\n",
    "    \n",
    "    '''\n",
    "    \n",
    "    \n",
    "    flux = np.ones(len(lamin))\n",
    "    \n",
    "    redreturn = extinction.apply(extinction.ccm89(lamin, A_v, R_v), flux)\n",
    "    #redreturn  =  A_v*extinction.a_lambda_cardelli_fast(lamin*1e-4,R_v)\n",
    "    return redreturn"
   ]
  },
  {
   "cell_type": "code",
   "execution_count": 3,
   "metadata": {},
   "outputs": [],
   "source": [
    "import glob"
   ]
  },
  {
   "cell_type": "code",
   "execution_count": 4,
   "metadata": {},
   "outputs": [],
   "source": [
    "from astropy.time import Time"
   ]
  },
  {
   "cell_type": "code",
   "execution_count": 5,
   "metadata": {},
   "outputs": [],
   "source": [
    "spectra_list = glob.glob(\"/home/xhall/Documents/NewZTF/spectra/*.ascii\")"
   ]
  },
  {
   "cell_type": "code",
   "execution_count": 6,
   "metadata": {},
   "outputs": [],
   "source": [
    "just_spectra_list = []\n",
    "for k in spectra_list:\n",
    "    just_spectra_list.append(k.split(r\"/\")[-1].split(\"_\")[-2])"
   ]
  },
  {
   "cell_type": "code",
   "execution_count": 7,
   "metadata": {},
   "outputs": [
    {
     "data": {
      "text/plain": [
       "33"
      ]
     },
     "execution_count": 7,
     "metadata": {},
     "output_type": "execute_result"
    }
   ],
   "source": [
    "len(np.unique(just_spectra_list))"
   ]
  },
  {
   "cell_type": "code",
   "execution_count": 8,
   "metadata": {},
   "outputs": [],
   "source": [
    "basedir = \"/home/xhall/Documents/\"\n",
    "source = basedir + \"NewZTF/sample_2020/SNIDoutput/\"\n",
    "output = basedir + \"NewZTF/sample_2020/BTSoutput/\"\n",
    "\n",
    "sample200 = Table.from_pandas(pd.read_csv(basedir + \"NewZTF/ML_sample_snid200.csv\"))\n",
    "ML_sample_snid_examples = Table.from_pandas(pd.read_csv(basedir + \"NewZTF/ML_sample_snid_brightexamples.csv\"))\n",
    "sample_2018 = Table.from_pandas(pd.read_csv(basedir + \"NewZTF/sample_2018/ML_sample_snid_norepeat_2018.csv\"))\n",
    "sample_2020 = Table.from_pandas(pd.read_csv(\"/home/xhall/Documents/NewZTF/sample_2020/SNID_2020_output.csv\"))\n",
    "sample_remaining = Table.from_pandas(pd.read_csv(\"/home/xhall/Documents/ZTFI/SNID_2020_remaining_output.csv\"))"
   ]
  },
  {
   "cell_type": "code",
   "execution_count": 9,
   "metadata": {},
   "outputs": [],
   "source": [
    "phase_data = Table.from_pandas(pd.read_csv(\"/home/xhall/Documents/ZTFI/phase.csv\"))"
   ]
  },
  {
   "cell_type": "code",
   "execution_count": 434,
   "metadata": {},
   "outputs": [],
   "source": [
    "superfit_results = Table.from_pandas(pd.read_csv(\"/home/xhall/Documents/Superfit/superfit_classes.csv\"))"
   ]
  },
  {
   "cell_type": "code",
   "execution_count": 435,
   "metadata": {},
   "outputs": [],
   "source": [
    "a_file = open(\"/home/xhall/Documents/Superfit/short_path_dict.pkl\", \"rb\")\n",
    "short_path_dict = pickle.load(a_file)"
   ]
  },
  {
   "cell_type": "code",
   "execution_count": 436,
   "metadata": {},
   "outputs": [
    {
     "data": {
      "text/plain": [
       "'1999em_1999-11-08_00-00-00_Keck1_LRIS_SUSPECT.dat'"
      ]
     },
     "execution_count": 436,
     "metadata": {},
     "output_type": "execute_result"
    }
   ],
   "source": [
    "short_path_dict[superfit_results[0][\"Match\"]]"
   ]
  },
  {
   "cell_type": "code",
   "execution_count": 437,
   "metadata": {},
   "outputs": [],
   "source": [
    "joined_table = astropy.table.join(sample_2020, superfit_results)"
   ]
  },
  {
   "cell_type": "code",
   "execution_count": 450,
   "metadata": {},
   "outputs": [
    {
     "data": {
      "text/plain": [
       "(array([383]),)"
      ]
     },
     "execution_count": 450,
     "metadata": {},
     "output_type": "execute_result"
    }
   ],
   "source": [
    "np.where(joined_table[\"ZTF_Name\"] == \"ZTF18aaqpjja\")"
   ]
  },
  {
   "cell_type": "code",
   "execution_count": 451,
   "metadata": {},
   "outputs": [],
   "source": [
    "i = joined_table[383]"
   ]
  },
  {
   "cell_type": "code",
   "execution_count": 452,
   "metadata": {},
   "outputs": [],
   "source": [
    "sn_path = \"/home/xhall/Documents/Superfit/bank/binnings/10A/sne/\" + i[\"Match\"][0:i[\"Match\"].rfind(\"/\")] + \"/\" + short_path_dict[i[\"Match\"]]"
   ]
  },
  {
   "cell_type": "code",
   "execution_count": 453,
   "metadata": {},
   "outputs": [],
   "source": [
    "gal_path = basedir + \"Superfit/\" +i[\"Gal\"][i[\"Gal\"].rfind(\"bank\")::]"
   ]
  },
  {
   "cell_type": "code",
   "execution_count": 454,
   "metadata": {},
   "outputs": [],
   "source": [
    "nova = np.loadtxt(sn_path)\n",
    "host = np.loadtxt(gal_path)\n",
    "nova[:,1]=nova[:,1]/np.nanmedian(nova[:,1])\n",
    "host[:,1]=host[:,1]/np.nanmedian(host[:,1])"
   ]
  },
  {
   "cell_type": "code",
   "execution_count": 519,
   "metadata": {},
   "outputs": [],
   "source": [
    "nova[:,1] = nova[:,1]*10**(-0.4 * i[\"Av\"] * Alam(nova[:,0]))"
   ]
  },
  {
   "cell_type": "code",
   "execution_count": 520,
   "metadata": {},
   "outputs": [],
   "source": [
    "lam = np.linspace(max(np.min(host[:,0]),np.min(nova[:,0])),min(np.max(host[:,0]),np.max(nova[:,0])), 10000)"
   ]
  },
  {
   "cell_type": "code",
   "execution_count": 521,
   "metadata": {},
   "outputs": [],
   "source": [
    "nova_int = interpolate.interp1d(nova[:,0] , nova[:,1] ,   bounds_error=False, fill_value='nan')\n",
    "\n",
    "host_int = interpolate.interp1d(host[:,0], host[:,1],   bounds_error=False, fill_value='nan')\n",
    "\n",
    "host_nova = i[\"Frac(SN)\"]*nova_int(lam) + i[\"Frac(gal)\"]*host_int(lam)"
   ]
  },
  {
   "cell_type": "code",
   "execution_count": 522,
   "metadata": {},
   "outputs": [],
   "source": [
    "spectra_name = i[\"Version\"].split(\".\")[0]\n",
    "z_snid = i[\"z_snid\"]"
   ]
  },
  {
   "cell_type": "code",
   "execution_count": 523,
   "metadata": {},
   "outputs": [],
   "source": [
    "source_folder = source + spectra_name\n",
    "files = np.sort(glob.glob(source_folder+\"/*.dat\"))"
   ]
  },
  {
   "cell_type": "code",
   "execution_count": 524,
   "metadata": {},
   "outputs": [],
   "source": [
    "files = np.sort(files)\n",
    "matches_files = files[0:len(files)-1]\n",
    "spectra = Table.read(files[-1], format = \"ascii\", names = [\"wavelength\", \"flux\"])"
   ]
  },
  {
   "cell_type": "code",
   "execution_count": 525,
   "metadata": {},
   "outputs": [],
   "source": [
    "spectra = Table.read(files[-1], format = \"ascii\", names = [\"wavelength\", \"flux\"])"
   ]
  },
  {
   "cell_type": "code",
   "execution_count": 526,
   "metadata": {},
   "outputs": [],
   "source": [
    "match = Table.read(files[0], format = \"ascii\", names = [\"redshifted_wavelength\", \"flux\"])"
   ]
  },
  {
   "cell_type": "code",
   "execution_count": 527,
   "metadata": {},
   "outputs": [],
   "source": [
    "data = Table.read(\"/home/xhall/Documents/NewZTF/spectra_nonan/\" + i[\"Version\"], format = \"ascii\")"
   ]
  },
  {
   "cell_type": "code",
   "execution_count": 528,
   "metadata": {},
   "outputs": [],
   "source": [
    "file = open(\"/home/xhall/Documents/NewZTF/spectra/\" + i[\"Version\"], \"r\")"
   ]
  },
  {
   "cell_type": "code",
   "execution_count": 529,
   "metadata": {},
   "outputs": [
    {
     "data": {
      "text/plain": [
       "'/home/xhall/Documents/NewZTF/spectra/ZTF18aaqpjja_20180522_P200_v1.ascii'"
      ]
     },
     "execution_count": 529,
     "metadata": {},
     "output_type": "execute_result"
    }
   ],
   "source": [
    "\"/home/xhall/Documents/NewZTF/spectra/\" + i[\"Version\"]"
   ]
  },
  {
   "cell_type": "code",
   "execution_count": 530,
   "metadata": {},
   "outputs": [],
   "source": [
    "file_lines = file.readlines()"
   ]
  },
  {
   "cell_type": "code",
   "execution_count": 531,
   "metadata": {},
   "outputs": [],
   "source": [
    "time = 0\n",
    "for j in file_lines:\n",
    "    if(\"UTC\" in j):\n",
    "        time = j"
   ]
  },
  {
   "cell_type": "code",
   "execution_count": 532,
   "metadata": {},
   "outputs": [
    {
     "data": {
      "text/html": [
       "<i>Row index=383</i>\n",
       "<table id=\"table140346152396496\">\n",
       "<thead><tr><th>Version</th><th>ZTF_Name</th><th>z_sntemplate</th><th>z_rlap</th><th>z_snid</th><th>z_snid_err</th><th>z_level</th><th>rank_1</th><th>sntemplate_1</th><th>rlap_1</th><th>c_snid_1</th><th>z_snid_1</th><th>z_snid_err_1</th><th>age_1</th><th>age_flag_1</th><th>rank_2</th><th>sntemplate_2</th><th>rlap_2</th><th>c_snid_2</th><th>z_snid_2</th><th>z_snid_err_2</th><th>age_2</th><th>age_flag_2</th><th>rank_3</th><th>sntemplate_3</th><th>rlap_3</th><th>c_snid_3</th><th>z_snid_3</th><th>z_snid_err_3</th><th>age_3</th><th>age_flag_3</th><th>rank_4</th><th>sntemplate_4</th><th>rlap_4</th><th>c_snid_4</th><th>z_snid_4</th><th>z_snid_err_4</th><th>age_4</th><th>age_flag_4</th><th>rank_5</th><th>sntemplate_5</th><th>rlap_5</th><th>c_snid_5</th><th>z_snid_5</th><th>z_snid_err_5</th><th>age_5</th><th>age_flag_5</th><th>Resolution</th><th>Superfit_c</th><th>Superfit_z</th><th>Match</th><th>Gal</th><th>Frac(SN)</th><th>Frac(gal)</th><th>Phase</th><th>Av</th></tr></thead>\n",
       "<thead><tr><th>str39</th><th>str12</th><th>str12</th><th>float64</th><th>float64</th><th>float64</th><th>int64</th><th>int64</th><th>str12</th><th>float64</th><th>str7</th><th>float64</th><th>float64</th><th>float64</th><th>int64</th><th>int64</th><th>str12</th><th>float64</th><th>str7</th><th>float64</th><th>float64</th><th>float64</th><th>int64</th><th>int64</th><th>str12</th><th>float64</th><th>str7</th><th>float64</th><th>float64</th><th>float64</th><th>int64</th><th>int64</th><th>str12</th><th>float64</th><th>str7</th><th>float64</th><th>float64</th><th>float64</th><th>int64</th><th>int64</th><th>str12</th><th>float64</th><th>str7</th><th>float64</th><th>float64</th><th>float64</th><th>int64</th><th>str36</th><th>str18</th><th>float64</th><th>str60</th><th>str80</th><th>float64</th><th>float64</th><th>float64</th><th>float64</th></tr></thead>\n",
       "<tr><td>ZTF18aaqpjja_20180522_P200_v1.ascii</td><td>ZTF18aaqpjja</td><td>sn2005eu</td><td>22.04</td><td>0.0593</td><td>0.0024</td><td>1</td><td>1</td><td>sn2005eu</td><td>22.04</td><td>Ia-norm</td><td>0.0593</td><td>0.0024</td><td>8.3</td><td>0</td><td>2</td><td>sn2008Z</td><td>18.59</td><td>Ia-norm</td><td>0.0601</td><td>0.0028</td><td>7.6</td><td>0</td><td>3</td><td>sn06cz</td><td>17.47</td><td>Ia-norm</td><td>0.0688</td><td>0.0036</td><td>1.12</td><td>0</td><td>14</td><td>sn1999ac</td><td>13.4</td><td>Ia-91T</td><td>0.0595</td><td>0.0045</td><td>0.4</td><td>0</td><td>44</td><td>sn06gz</td><td>10.4</td><td>Ia-03fg</td><td>0.0588</td><td>0.0042</td><td>6.3</td><td>0</td><td>ZTF18aaqpjja_20180522_P200_v1_10</td><td>Ia-norm</td><td>0.059241999999999996</td><td>Ia-norm/2012cg/KAST+2012-06-13 05:25:26.00</td><td>/mnt/c/Users/20xha/Documents/Caltech/Research/superfit/bank/binnings/10A/gal/SB4</td><td>0.43078545</td><td>0.5692145000000001</td><td>-2456056.0</td><td>2.0</td></tr>\n",
       "</table>"
      ],
      "text/plain": [
       "<Row index=383>\n",
       "              Version                 ZTF_Name   z_sntemplate  z_rlap  z_snid z_snid_err z_level rank_1 sntemplate_1  rlap_1 c_snid_1 z_snid_1 z_snid_err_1  age_1  age_flag_1 rank_2 sntemplate_2  rlap_2 c_snid_2 z_snid_2 z_snid_err_2  age_2  age_flag_2 rank_3 sntemplate_3  rlap_3 c_snid_3 z_snid_3 z_snid_err_3  age_3  age_flag_3 rank_4 sntemplate_4  rlap_4 c_snid_4 z_snid_4 z_snid_err_4  age_4  age_flag_4 rank_5 sntemplate_5  rlap_5 c_snid_5 z_snid_5 z_snid_err_5  age_5  age_flag_5            Resolution            Superfit_c      Superfit_z                        Match                                                          Gal                                         Frac(SN)      Frac(gal)        Phase       Av  \n",
       "               str39                   str12        str12     float64 float64  float64    int64  int64     str12     float64   str7   float64    float64    float64   int64    int64     str12     float64   str7   float64    float64    float64   int64    int64     str12     float64   str7   float64    float64    float64   int64    int64     str12     float64   str7   float64    float64    float64   int64    int64     str12     float64   str7   float64    float64    float64   int64                 str36                 str18          float64                          str60                                                         str80                                        float64        float64        float64   float64\n",
       "----------------------------------- ------------ ------------ ------- ------- ---------- ------- ------ ------------ ------- -------- -------- ------------ ------- ---------- ------ ------------ ------- -------- -------- ------------ ------- ---------- ------ ------------ ------- -------- -------- ------------ ------- ---------- ------ ------------ ------- -------- -------- ------------ ------- ---------- ------ ------------ ------- -------- -------- ------------ ------- ---------- -------------------------------- ---------- -------------------- ------------------------------------------ -------------------------------------------------------------------------------- ---------- ------------------ ---------- -------\n",
       "ZTF18aaqpjja_20180522_P200_v1.ascii ZTF18aaqpjja     sn2005eu   22.04  0.0593     0.0024       1      1     sn2005eu   22.04  Ia-norm   0.0593       0.0024     8.3          0      2      sn2008Z   18.59  Ia-norm   0.0601       0.0028     7.6          0      3       sn06cz   17.47  Ia-norm   0.0688       0.0036    1.12          0     14     sn1999ac    13.4   Ia-91T   0.0595       0.0045     0.4          0     44       sn06gz    10.4  Ia-03fg   0.0588       0.0042     6.3          0 ZTF18aaqpjja_20180522_P200_v1_10    Ia-norm 0.059241999999999996 Ia-norm/2012cg/KAST+2012-06-13 05:25:26.00 /mnt/c/Users/20xha/Documents/Caltech/Research/superfit/bank/binnings/10A/gal/SB4 0.43078545 0.5692145000000001 -2456056.0     2.0"
      ]
     },
     "execution_count": 532,
     "metadata": {},
     "output_type": "execute_result"
    }
   ],
   "source": [
    "i"
   ]
  },
  {
   "cell_type": "code",
   "execution_count": 533,
   "metadata": {},
   "outputs": [
    {
     "data": {
      "text/plain": [
       "'/home/xhall/Documents/NewZTF/spectra/ZTF18aaqpjja_20180522_P200_v1.ascii'"
      ]
     },
     "execution_count": 533,
     "metadata": {},
     "output_type": "execute_result"
    }
   ],
   "source": [
    "\"/home/xhall/Documents/NewZTF/spectra/\" + i[\"Version\"]"
   ]
  },
  {
   "cell_type": "code",
   "execution_count": 534,
   "metadata": {},
   "outputs": [
    {
     "data": {
      "text/html": [
       "&lt;Column name=&apos;peakt&apos; dtype=&apos;float64&apos; length=1&gt;\n",
       "<table>\n",
       "<tr><td>2458247.72</td></tr>\n",
       "</table>"
      ],
      "text/plain": [
       "<Column name='peakt' dtype='float64' length=1>\n",
       "2458247.72"
      ]
     },
     "execution_count": 534,
     "metadata": {},
     "output_type": "execute_result"
    }
   ],
   "source": [
    "phase_data[np.where(phase_data[\"ZTFID\"] == i[\"ZTF_Name\"])][\"peakt\"] + 2458000"
   ]
  },
  {
   "cell_type": "code",
   "execution_count": 565,
   "metadata": {},
   "outputs": [
    {
     "data": {
      "text/plain": [
       "'P200'"
      ]
     },
     "execution_count": 565,
     "metadata": {},
     "output_type": "execute_result"
    }
   ],
   "source": [
    "i[\"Version\"].split(\"_\")[-2]"
   ]
  },
  {
   "cell_type": "code",
   "execution_count": 573,
   "metadata": {},
   "outputs": [
    {
     "data": {
      "image/png": "[encoded data removed]",
      "text/plain": [
       "<Figure size 576x324 with 1 Axes>"
      ]
     },
     "metadata": {
      "needs_background": "light"
     },
     "output_type": "display_data"
    }
   ],
   "source": [
    "num = 1\n",
    "low, high = 5300, 5700\n",
    "\n",
    "x, y = spectra[\"wavelength\"] / (1 + i[\"z_snid_1\"]), spectra[\"flux\"]\n",
    "xs, ys = data[\"col1\"] / (1 + i[\"Superfit_z\"]), data[\"col2\"]\n",
    "xi, yi = match[\"redshifted_wavelength\"] / (1 + i[\"z_snid_1\"]), match[\"flux\"]\n",
    "xsi, ysi = lam, host_nova\n",
    "ysi = ysi/np.median(ysi[np.where((xsi < high) & (xsi > low))])\n",
    "\n",
    "#ext = extinction.fm07(xs, i[\"Av\"])\n",
    "#ys = ys / ext\n",
    "ys = ys/np.median(ys[np.where((xs < high) & (xs > low))])\n",
    "\n",
    "\n",
    "min_overlap = max(np.min(xsi), np.min(xi))\n",
    "max_overlap = min(np.max(xsi), np.max(xi))\n",
    "interp_grid = np.linspace(min_overlap, max_overlap, 10000)\n",
    "snid_interp = interpolate.interp1d(xi, yi)\n",
    "supy_interp = interpolate.interp1d(xsi, ysi)\n",
    "sep_t = np.max(np.abs((supy_interp(interp_grid)) - (snid_interp(interp_grid))))\n",
    "\n",
    "min_overlap_d = max(np.min(x), np.min(xs))\n",
    "max_overlap_d = min(np.max(x), np.max(xs))\n",
    "interp_grid_d = np.linspace(min_overlap_d, max_overlap_d, 10000)\n",
    "snid_interp_d = interpolate.interp1d(x, y)\n",
    "supy_interp_d = interpolate.interp1d(xs, ys)\n",
    "sep_d = np.max(np.abs((supy_interp_d(interp_grid_d)) - (snid_interp_d(interp_grid_d))))\n",
    "\n",
    "sep = max(sep_d, sep_t)/1.8\n",
    "\n",
    "t_max = phase_data[np.where(phase_data[\"ZTFID\"] == i[\"ZTF_Name\"])][\"peakt\"] + 2458000\n",
    "\n",
    "date_obs = i[\"Version\"].split(\"_\")[1]\n",
    "astropy_t_obs = Time(date_obs[0:4] + \"-\" + date_obs[4:6] + \"-\" + date_obs[6::])\n",
    "t_obs = astropy_t_obs.jd\n",
    "phase_obs_snid = (t_obs-t_max)/(1 + i[\"z_snid_1\"])\n",
    "phase_obs_superfit = (t_obs-t_max)/(1 + i[\"Superfit_z\"])\n",
    "\n",
    "fig, ax = plt.subplots(figsize=(8,4.5))\n",
    "\n",
    "ax.plot(xs,ys + sep,color='#32384D',label='New SN (SNID $\\phi = {:.0f}$)(Superfit $\\phi = {:.0f}$)'.format(phase_obs_snid[0], phase_obs_superfit[0]),alpha=0.5)\n",
    "ax.plot(x,y- sep,color='#32384D' ,alpha=0.5)\n",
    "ax.plot(xi,yi - sep,color='#217CA3',label='SNID template (z = {:.3f})($\\phi = {:.0f}$)'.format(i[\"z_snid_1\"], i[\"age_1\"]), lw=3)\n",
    "ax.plot(xsi,ysi + sep,color='#E29930',label='Superfit template (z = {:.3f})($\\phi = {:.0f}$)'.format(i[\"Superfit_z\"], i[\"Phase\"]), lw=3)\n",
    "\n",
    "ax.plot(x[-3],y[-3],color='#217CA3', lw=3)\n",
    "ax.set_xlabel(r'Rest Frame Wavelength ($\\mathrm{\\AA}$)', fontsize=17)\n",
    "ax.set_ylabel('Relative Flux', fontsize=17)\n",
    "ax.tick_params(which='both',labelsize=15)\n",
    "\n",
    "ax.grid(axis='x', color='0.7', ls=':')\n",
    "ax.xaxis.set_minor_locator(MultipleLocator(250))\n",
    "ax.set_yticklabels([])\n",
    "\n",
    "ax.text(0.505, 0.955, 'Superfit type: ',\n",
    "        va='center',\n",
    "        fontsize=15, transform=plt.gcf().transFigure)\n",
    "ax.text(0.685, 0.955, i[\"Superfit_c\"],\n",
    "        color='#E29930', weight='bold', va='center',\n",
    "        fontsize=23, transform=plt.gcf().transFigure)\n",
    "\n",
    "ax.text(0.105, 0.955, 'SNID type: ',\n",
    "        va='center',\n",
    "        fontsize=15, transform=plt.gcf().transFigure)\n",
    "ax.text(0.245, 0.955, i[\"c_snid_1\"],\n",
    "        color='#217CA3', weight='bold', va='center',\n",
    "        fontsize=23, transform=plt.gcf().transFigure)\n",
    "\n",
    "ax.text(0.850, 0.025, \"Spec #\" + str(14),\n",
    "        va='center',\n",
    "        fontsize=16, transform=plt.gcf().transFigure)\n",
    "\n",
    "telescope = i[\"Version\"].split(\"_\")[-2]\n",
    "\n",
    "ax.text(0.005, 0.025, \"Telescope: \" + telescope,\n",
    "        va='center',\n",
    "        fontsize=16, transform=plt.gcf().transFigure)\n",
    "\n",
    "ax.set_xlim(min(np.min(x),np.min(xs)),max(np.max(x),np.max(xs)))\n",
    "\n",
    "ax.legend(fancybox=True)\n",
    "fig.subplots_adjust(left=0.055,right=0.99,top=0.925,bottom=0.145)"
   ]
  },
  {
   "cell_type": "code",
   "execution_count": 514,
   "metadata": {},
   "outputs": [
    {
     "data": {
      "text/plain": [
       "1.4899294919071149"
      ]
     },
     "execution_count": 514,
     "metadata": {},
     "output_type": "execute_result"
    }
   ],
   "source": [
    "np.max(supy_interp(interp_grid))"
   ]
  },
  {
   "cell_type": "code",
   "execution_count": 427,
   "metadata": {},
   "outputs": [
    {
     "data": {
      "text/plain": [
       "0.855533852535074"
      ]
     },
     "execution_count": 427,
     "metadata": {},
     "output_type": "execute_result"
    }
   ],
   "source": [
    "np.max(np.abs((supy_interp(interp_grid)) - (snid_interp(interp_grid))))"
   ]
  },
  {
   "cell_type": "code",
   "execution_count": 442,
   "metadata": {},
   "outputs": [],
   "source": [
    "ext = extinction.fm07(xi, i[\"Av\"])"
   ]
  },
  {
   "cell_type": "code",
   "execution_count": 336,
   "metadata": {},
   "outputs": [
    {
     "data": {
      "text/plain": [
       "-2449449.0"
      ]
     },
     "execution_count": 336,
     "metadata": {},
     "output_type": "execute_result"
    }
   ],
   "source": [
    "i[\"Phase\"]"
   ]
  },
  {
   "cell_type": "code",
   "execution_count": 304,
   "metadata": {},
   "outputs": [
    {
     "data": {
      "text/plain": [
       "0.17984083737379528"
      ]
     },
     "execution_count": 304,
     "metadata": {},
     "output_type": "execute_result"
    }
   ],
   "source": [
    "sep_t"
   ]
  },
  {
   "cell_type": "code",
   "execution_count": 337,
   "metadata": {},
   "outputs": [
    {
     "data": {
      "text/html": [
       "&lt;MaskedColumn name=&apos;Phase&apos; dtype=&apos;float64&apos; length=8835&gt;\n",
       "<table>\n",
       "<tr><td>-1482.0</td></tr>\n",
       "<tr><td>-6669.0</td></tr>\n",
       "<tr><td>-5468.0</td></tr>\n",
       "<tr><td>-5466.0</td></tr>\n",
       "<tr><td>-5466.0</td></tr>\n",
       "<tr><td>-5468.0</td></tr>\n",
       "<tr><td>-5466.0</td></tr>\n",
       "<tr><td>--</td></tr>\n",
       "<tr><td>-7600.0</td></tr>\n",
       "<tr><td>-2317.0</td></tr>\n",
       "<tr><td>-6630.0</td></tr>\n",
       "<tr><td>-3559.0</td></tr>\n",
       "<tr><td>...</td></tr>\n",
       "<tr><td>-7557.0</td></tr>\n",
       "<tr><td>-6442.0</td></tr>\n",
       "<tr><td>-5461.0</td></tr>\n",
       "<tr><td>-5129.0</td></tr>\n",
       "<tr><td>--</td></tr>\n",
       "<tr><td>-1232.0</td></tr>\n",
       "<tr><td>--</td></tr>\n",
       "<tr><td>-5681.0</td></tr>\n",
       "<tr><td>-1232.0</td></tr>\n",
       "<tr><td>-2317.0</td></tr>\n",
       "<tr><td>-1232.0</td></tr>\n",
       "<tr><td>-7241.0</td></tr>\n",
       "</table>"
      ],
      "text/plain": [
       "<MaskedColumn name='Phase' dtype='float64' length=8835>\n",
       "-1482.0\n",
       "-6669.0\n",
       "-5468.0\n",
       "-5466.0\n",
       "-5466.0\n",
       "-5468.0\n",
       "-5466.0\n",
       "     --\n",
       "-7600.0\n",
       "-2317.0\n",
       "-6630.0\n",
       "-3559.0\n",
       "    ...\n",
       "-7557.0\n",
       "-6442.0\n",
       "-5461.0\n",
       "-5129.0\n",
       "     --\n",
       "-1232.0\n",
       "     --\n",
       "-5681.0\n",
       "-1232.0\n",
       "-2317.0\n",
       "-1232.0\n",
       "-7241.0"
      ]
     },
     "execution_count": 337,
     "metadata": {},
     "output_type": "execute_result"
    }
   ],
   "source": [
    "superfit_results[\"Phase\"] + 2450000"
   ]
  },
  {
   "cell_type": "code",
   "execution_count": 477,
   "metadata": {},
   "outputs": [
    {
     "data": {
      "text/html": [
       "&lt;MaskedColumn name=&apos;Phase&apos; dtype=&apos;float64&apos; length=8780&gt;\n",
       "<table>\n",
       "<tr><td>-2451482.0</td></tr>\n",
       "<tr><td>-2456669.0</td></tr>\n",
       "<tr><td>-2455468.0</td></tr>\n",
       "<tr><td>-2455468.0</td></tr>\n",
       "<tr><td>-2455466.0</td></tr>\n",
       "<tr><td>-2455466.0</td></tr>\n",
       "<tr><td>-2455466.0</td></tr>\n",
       "<tr><td>--</td></tr>\n",
       "<tr><td>-2457600.0</td></tr>\n",
       "<tr><td>-2452317.0</td></tr>\n",
       "<tr><td>-2456630.0</td></tr>\n",
       "<tr><td>-2453559.0</td></tr>\n",
       "<tr><td>...</td></tr>\n",
       "<tr><td>-2457557.0</td></tr>\n",
       "<tr><td>-2456442.0</td></tr>\n",
       "<tr><td>-2455461.0</td></tr>\n",
       "<tr><td>-2455129.0</td></tr>\n",
       "<tr><td>--</td></tr>\n",
       "<tr><td>-2451232.0</td></tr>\n",
       "<tr><td>--</td></tr>\n",
       "<tr><td>-2455681.0</td></tr>\n",
       "<tr><td>-2451232.0</td></tr>\n",
       "<tr><td>-2452317.0</td></tr>\n",
       "<tr><td>-2451232.0</td></tr>\n",
       "<tr><td>-2457241.0</td></tr>\n",
       "</table>"
      ],
      "text/plain": [
       "<MaskedColumn name='Phase' dtype='float64' length=8780>\n",
       "-2451482.0\n",
       "-2456669.0\n",
       "-2455468.0\n",
       "-2455468.0\n",
       "-2455466.0\n",
       "-2455466.0\n",
       "-2455466.0\n",
       "        --\n",
       "-2457600.0\n",
       "-2452317.0\n",
       "-2456630.0\n",
       "-2453559.0\n",
       "       ...\n",
       "-2457557.0\n",
       "-2456442.0\n",
       "-2455461.0\n",
       "-2455129.0\n",
       "        --\n",
       "-2451232.0\n",
       "        --\n",
       "-2455681.0\n",
       "-2451232.0\n",
       "-2452317.0\n",
       "-2451232.0\n",
       "-2457241.0"
      ]
     },
     "execution_count": 477,
     "metadata": {},
     "output_type": "execute_result"
    }
   ],
   "source": [
    "joined_table[\"Phase\"]"
   ]
  },
  {
   "cell_type": "code",
   "execution_count": null,
   "metadata": {},
   "outputs": [],
   "source": []
  }
 ],
 "metadata": {
  "kernelspec": {
   "display_name": "Python 3",
   "language": "python",
   "name": "python3"
  },
  "language_info": {
   "codemirror_mode": {
    "name": "ipython",
    "version": 3
   },
   "file_extension": ".py",
   "mimetype": "text/x-python",
   "name": "python",
   "nbconvert_exporter": "python",
   "pygments_lexer": "ipython3",
   "version": "3.7.6"
  }
 },
 "nbformat": 4,
 "nbformat_minor": 4
}
