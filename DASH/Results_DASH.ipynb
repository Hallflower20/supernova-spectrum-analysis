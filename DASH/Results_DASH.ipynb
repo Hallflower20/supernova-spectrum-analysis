{
 "cells": [
  {
   "cell_type": "code",
   "execution_count": 1,
   "metadata": {},
   "outputs": [
    {
     "name": "stdout",
     "output_type": "stream",
     "text": [
      "WARNING:tensorflow:From /home/hallflower/anaconda3/lib/python3.7/site-packages/tensorflow/python/compat/v2_compat.py:96: disable_resource_variables (from tensorflow.python.ops.variable_scope) is deprecated and will be removed in a future version.\n",
      "Instructions for updating:\n",
      "non-resource variables are not supported in the long term\n"
     ]
    }
   ],
   "source": [
    "import astrodash"
   ]
  },
  {
   "cell_type": "code",
   "execution_count": 20,
   "metadata": {},
   "outputs": [],
   "source": [
    "from sklearn.metrics import confusion_matrix\n",
    "import os\n",
    "import astropy\n",
    "import numpy as np\n",
    "from astropy.table import Table\n",
    "from astropy.table import Column\n",
    "import glob\n",
    "import matplotlib.pyplot as plt\n",
    "import pandas as pd\n",
    "from collections import Counter\n",
    "from mpl_toolkits.mplot3d import Axes3D"
   ]
  },
  {
   "cell_type": "code",
   "execution_count": 3,
   "metadata": {},
   "outputs": [],
   "source": [
    "sample_location = \"/home/hallflower/sample/spectra/\"\n",
    "dash = \"/mnt/c/users/20xha/Documents/Caltech/Research/DASH/\""
   ]
  },
  {
   "cell_type": "code",
   "execution_count": 4,
   "metadata": {},
   "outputs": [],
   "source": [
    "SEDM_ML_sample = Table.read(\"/mnt/c/Users/20xha/Documents/Caltech/Research/SEDM_ML_sample.ascii\", format = \"ascii\")\n",
    "SEDM_ML_sample.rename_column('col1', 'ZTF_Name')\n",
    "SEDM_ML_sample.rename_column('col2', \"Class\")\n",
    "SEDM_ML_sample.rename_column('col8', \"Version\")"
   ]
  },
  {
   "cell_type": "code",
   "execution_count": 5,
   "metadata": {},
   "outputs": [],
   "source": [
    "output_list = np.load(dash+\"output.npy\",allow_pickle=True)"
   ]
  },
  {
   "cell_type": "code",
   "execution_count": 37,
   "metadata": {},
   "outputs": [],
   "source": [
    "final_rcf_table = Table.from_pandas(pd.read_hdf(\"/mnt/c/users/20xha/Documents/Caltech/Research/final_rcf_table.h5\"))"
   ]
  },
  {
   "cell_type": "code",
   "execution_count": 6,
   "metadata": {},
   "outputs": [
    {
     "data": {
      "text/plain": [
       "2959"
      ]
     },
     "execution_count": 6,
     "metadata": {},
     "output_type": "execute_result"
    }
   ],
   "source": [
    "len(output_list)"
   ]
  },
  {
   "cell_type": "code",
   "execution_count": 7,
   "metadata": {},
   "outputs": [
    {
     "data": {
      "text/plain": [
       "2968"
      ]
     },
     "execution_count": 7,
     "metadata": {},
     "output_type": "execute_result"
    }
   ],
   "source": [
    "len(np.unique(SEDM_ML_sample[\"ZTF_Name\"]))"
   ]
  },
  {
   "cell_type": "code",
   "execution_count": 8,
   "metadata": {},
   "outputs": [
    {
     "data": {
      "text/plain": [
       "array(['Ia-91bg', 'Ia-91bg'], dtype='<U7')"
      ]
     },
     "execution_count": 8,
     "metadata": {},
     "output_type": "execute_result"
    }
   ],
   "source": [
    "np.asarray(output_list[0][2])[:,0]"
   ]
  },
  {
   "cell_type": "code",
   "execution_count": 9,
   "metadata": {},
   "outputs": [],
   "source": [
    "Classification = Table(\n",
    "                    names=(\"ZTF_Name\", \"Class\", \"Version\"\n",
    "                    ),\n",
    "                    meta={\"name\": \"Basic ZTF Name Data\"},\n",
    "                    dtype=(\"U64\", \"U64\", \"U64\"\n",
    "                          )\n",
    "                    )\n",
    "for i in np.unique(SEDM_ML_sample[\"ZTF_Name\"]):\n",
    "    row = SEDM_ML_sample[\"ZTF_Name\", \"Class\", \"Version\"][np.where(i == SEDM_ML_sample[\"ZTF_Name\"])][-1]\n",
    "    Classification.add_row(row)"
   ]
  },
  {
   "cell_type": "code",
   "execution_count": 10,
   "metadata": {},
   "outputs": [
    {
     "name": "stdout",
     "output_type": "stream",
     "text": [
      "500\n",
      "1000\n",
      "1500\n",
      "2000\n",
      "2500\n"
     ]
    }
   ],
   "source": [
    "count = 0\n",
    "ResultsTable = Table(\n",
    "                names=(\"ZTF_Name\", \"Both\"\n",
    "                ),\n",
    "                meta={\"name\": \"Spectrum Results after SNID\"},\n",
    "                dtype=(\"U64\", \"U64\"\n",
    "                      )\n",
    "                )\n",
    "\n",
    "for i in output_list:\n",
    "    row = []\n",
    "    row.append(i[-1])\n",
    "    best = np.asarray(i[2])[:,0]\n",
    "    c = Counter(best)\n",
    "    row.append(c.most_common()[0][0])\n",
    "    ResultsTable.add_row(row)\n",
    "\n",
    "    count += 1\n",
    "    if(count % 500 == 0):\n",
    "        print(count)"
   ]
  },
  {
   "cell_type": "code",
   "execution_count": 11,
   "metadata": {},
   "outputs": [
    {
     "name": "stderr",
     "output_type": "stream",
     "text": [
      "WARNING: MergeConflictWarning: Cannot merge meta key 'name' types <class 'str'> and <class 'str'>, choosing name='Basic ZTF Name Data' [astropy.utils.metadata]\n"
     ]
    }
   ],
   "source": [
    "counter = 0\n",
    "wrong = []\n",
    "JoinedResults = astropy.table.join(ResultsTable, Classification)\n",
    "for j in JoinedResults:\n",
    "    if(j[\"Class\"] != '-' and j[\"Class\"] != \"0.0\"):\n",
    "        correct_1a = \"Ia\" in j[\"Class\"]\n",
    "        classified_1a = \"Ia\" in j[\"Both\"]\n",
    "        if(correct_1a==classified_1a):\n",
    "            counter += 1\n",
    "        else:\n",
    "            wrong.append([j[\"ZTF_Name\"], j[\"Class\"], j[\"Both\"]])\n",
    "wrong = np.asarray(wrong)"
   ]
  },
  {
   "cell_type": "code",
   "execution_count": 14,
   "metadata": {},
   "outputs": [],
   "source": [
    "ranges = np.linspace(0, 1, 101)"
   ]
  },
  {
   "cell_type": "code",
   "execution_count": 11,
   "metadata": {},
   "outputs": [
    {
     "name": "stdout",
     "output_type": "stream",
     "text": [
      "100\n",
      "200\n",
      "300\n",
      "400\n",
      "500\n",
      "600\n",
      "700\n",
      "800\n",
      "900\n",
      "1000\n",
      "1100\n",
      "1200\n",
      "1300\n",
      "1400\n",
      "1500\n",
      "1600\n"
     ]
    }
   ],
   "source": [
    "ResultsTable_List_both = []\n",
    "count = 0\n",
    "\n",
    "for rlap in ranges:\n",
    "    for agree in range(0,16):\n",
    "        ResultsTable = Table(\n",
    "                    names=(\"ZTF_Name\", \"Both\"\n",
    "                    ),\n",
    "                    meta={\"name\": \"Spectrum Results after SNID\"},\n",
    "                    dtype=(\"U64\", \"U64\"\n",
    "                          )\n",
    "                    )\n",
    "        for j in output_list:\n",
    "            reliable = np.where(np.asarray(j[4]) != 'Unreliable matches')[0]\n",
    "            if(len(reliable) != 0):\n",
    "                matches = []\n",
    "                best_rlap = float(max(j[0][:,0][:,3]))\n",
    "                if(best_rlap > rlap):\n",
    "                    reliable_list = j[0][reliable]\n",
    "                    for k in range(len(reliable_list)):\n",
    "                        matches.extend(reliable_list[k])\n",
    "                    matches = np.asarray(matches)\n",
    "                    c = Counter(matches[:,1])\n",
    "                    if(c.most_common()[0][1] >= agree):\n",
    "                        row = []\n",
    "                        row.append(j[-1])\n",
    "                        row.append(c.most_common()[0][0])\n",
    "                        ResultsTable.add_row(row)\n",
    "\n",
    "        count += 1\n",
    "        if(len(ResultsTable) != 0):\n",
    "            ResultsTable_List_both.append([rlap,agree,ResultsTable])\n",
    "        if(count % 100 == 0):\n",
    "            print(count)\n",
    "ResultsTable_List_both_numpy = np.asarray(ResultsTable_List_both)"
   ]
  },
  {
   "cell_type": "code",
   "execution_count": 12,
   "metadata": {},
   "outputs": [
    {
     "data": {
      "text/plain": [
       "array([0.0, 0.0, 0.0, ..., 0.99, 0.99, 0.99], dtype=object)"
      ]
     },
     "execution_count": 12,
     "metadata": {},
     "output_type": "execute_result"
    }
   ],
   "source": [
    "ResultsTable_List_both_numpy[:,0]"
   ]
  },
  {
   "cell_type": "code",
   "execution_count": 100,
   "metadata": {},
   "outputs": [],
   "source": [
    "j = output_list[0]"
   ]
  },
  {
   "cell_type": "code",
   "execution_count": 30,
   "metadata": {},
   "outputs": [],
   "source": [
    "matches = []\n",
    "for k in range(len(j[0])):\n",
    "    matches.extend(j[0][k])\n",
    "matches = np.asarray(matches)"
   ]
  },
  {
   "cell_type": "code",
   "execution_count": 46,
   "metadata": {},
   "outputs": [
    {
     "data": {
      "text/plain": [
       "'0.99912125'"
      ]
     },
     "execution_count": 46,
     "metadata": {},
     "output_type": "execute_result"
    }
   ],
   "source": [
    "max(j[0][:,0][:,3])"
   ]
  },
  {
   "cell_type": "code",
   "execution_count": 13,
   "metadata": {},
   "outputs": [
    {
     "name": "stderr",
     "output_type": "stream",
     "text": [
      "WARNING: MergeConflictWarning: Cannot merge meta key 'name' types <class 'str'> and <class 'str'>, choosing name='Basic ZTF Name Data' [astropy.utils.metadata]\n"
     ]
    }
   ],
   "source": [
    "counters_both = [] \n",
    "for i in ResultsTable_List_both_numpy:\n",
    "    counter = 0\n",
    "    wrong = []\n",
    "    JoinedResults = astropy.table.join(i[2], Classification)\n",
    "    for j in JoinedResults:\n",
    "        if(j[\"Class\"] != '-'):\n",
    "            correct_1a = \"Ia\" in j[\"Class\"]\n",
    "            classified_1a = \"Ia\" in j[\"Both\"]\n",
    "            if(correct_1a==classified_1a):\n",
    "                counter += 1\n",
    "            else:\n",
    "                wrong.append([j[\"ZTF_Name\"], j[\"Class\"], j[\"Both\"]])\n",
    "    wrong = np.asarray(wrong)\n",
    "    counters_both.append([i[0],i[1],counter,len(JoinedResults), wrong])\n",
    "counters_both = np.asarray(counters_both)"
   ]
  },
  {
   "cell_type": "code",
   "execution_count": 14,
   "metadata": {},
   "outputs": [
    {
     "data": {
      "text/plain": [
       "array([0.0, 11, 178, 225,\n",
       "       array([['ZTF18aaunfqq', 'Ia', 'Ic-broad'],\n",
       "       ['ZTF18abcrxoj', 'Ia', 'Ic-broad'],\n",
       "       ['ZTF18abfgkgn', 'Q', 'Ia-norm'],\n",
       "       ['ZTF18abgladq', 'II', 'Ia-norm'],\n",
       "       ['ZTF18abokyfk', 'II', 'Ia-norm'],\n",
       "       ['ZTF18acbxudr', 'II', 'Ia-norm'],\n",
       "       ['ZTF19aadttht', 'Ic', 'Ia-norm'],\n",
       "       ['ZTF19aanijpu', 'Ic', 'Ia-91bg'],\n",
       "       ['ZTF19aaokist', 'Ia', 'Ic-broad'],\n",
       "       ['ZTF19aatesgp', 'IIb', 'Ia-norm'],\n",
       "       ['ZTF19aatgsdl', 'Ia', 'Ib-norm'],\n",
       "       ['ZTF19aavitlq', 'Ia-91bg', 'Ic-broad'],\n",
       "       ['ZTF19aawmqtd', 'Ia', 'Ic-broad'],\n",
       "       ['ZTF19aaxfzao', 'Ia', 'Ic-broad'],\n",
       "       ['ZTF19abdmfgf', 'Ia', 'Ic-norm'],\n",
       "       ['ZTF19abfdszw', 'Ia', 'Ib-norm'],\n",
       "       ['ZTF19abfibel', 'Ia', 'Ib-norm'],\n",
       "       ['ZTF19abidbqp', 'Ia-02ic', 'Ic-broad'],\n",
       "       ['ZTF19abiszoe', 'IIn', 'Ia-norm'],\n",
       "       ['ZTF19abqhobb', 'II', 'Ia-norm'],\n",
       "       ['ZTF19abqsojs', 'Ia-91T', 'Ic-broad'],\n",
       "       ['ZTF19acajpre', 'Ia', 'Ic-broad'],\n",
       "       ['ZTF19acaqoef', 'Ic', 'Ia-norm'],\n",
       "       ['ZTF19accdehb', 'Ia', 'Ic-broad'],\n",
       "       ['ZTF19acchjle', 'Ia-91T', 'Ic-broad'],\n",
       "       ['ZTF19acduqvr', 'Ia', 'Ic-broad'],\n",
       "       ['ZTF19acdxlns', 'Ia', 'Ic-broad'],\n",
       "       ['ZTF19acfecsg', 'Ia', 'IIP'],\n",
       "       ['ZTF19acojxzo', 'Ia', 'Ic-broad'],\n",
       "       ['ZTF19acruaaa', 'Ia', 'Ic-broad'],\n",
       "       ['ZTF19acvijnj', 'Ia', 'Ic-broad'],\n",
       "       ['ZTF20aabqbxm', 'Ia-02cx', 'Ic-broad']], dtype='<U12')],\n",
       "      dtype=object)"
      ]
     },
     "execution_count": 14,
     "metadata": {},
     "output_type": "execute_result"
    }
   ],
   "source": [
    "low_rlap = np.where(counters_both[:,0] < 20)\n",
    "counters_both[low_rlap][np.argmax(counters_both[low_rlap][:,2]/counters_both[low_rlap][:,3])]"
   ]
  },
  {
   "cell_type": "code",
   "execution_count": 15,
   "metadata": {},
   "outputs": [
    {
     "data": {
      "text/plain": [
       "array([], shape=(0, 5), dtype=object)"
      ]
     },
     "execution_count": 15,
     "metadata": {},
     "output_type": "execute_result"
    }
   ],
   "source": [
    "counters_both[np.where(counters_both[:,2] == counters_both[:,3])]"
   ]
  },
  {
   "cell_type": "code",
   "execution_count": 16,
   "metadata": {},
   "outputs": [
    {
     "data": {
      "text/plain": [
       "Text(0.5, 0, 'accuracy')"
      ]
     },
     "execution_count": 16,
     "metadata": {},
     "output_type": "execute_result"
    },
    {
     "data": {
      "image/png": "[encoded data removed]",
      "text/plain": [
       "<Figure size 432x288 with 1 Axes>"
      ]
     },
     "metadata": {
      "needs_background": "light"
     },
     "output_type": "display_data"
    }
   ],
   "source": [
    "fig = plt.figure()\n",
    "ax = fig.add_subplot(111, projection='3d')\n",
    "ax.plot(counters_both[:,0], counters_both[:,1], counters_both[:,2]/counters_both[:,3])\n",
    "ax.set_xlabel(\"confidence\")\n",
    "ax.set_ylabel(\"agreements\")\n",
    "ax.set_zlabel(\"accuracy\")"
   ]
  },
  {
   "cell_type": "code",
   "execution_count": 33,
   "metadata": {},
   "outputs": [
    {
     "data": {
      "text/plain": [
       "array(['0.9991', '0.9991'], dtype='<U7')"
      ]
     },
     "execution_count": 33,
     "metadata": {},
     "output_type": "execute_result"
    }
   ],
   "source": [
    "np.asarray(output_list[0][2])[:,2]"
   ]
  },
  {
   "cell_type": "code",
   "execution_count": 15,
   "metadata": {},
   "outputs": [],
   "source": [
    "ResultsTable_List_confidence = []\n",
    "for rlap in ranges:\n",
    "    count = 0\n",
    "    ResultsTable = Table(\n",
    "                    names=(\"ZTF_Name\", \"Dash\", \"Confidence\",\n",
    "                    ),\n",
    "                    meta={\"name\": \"Spectrum Results after SNID\"},\n",
    "                    dtype=(\"U64\", \"U64\", \"float64\",\n",
    "                          )\n",
    "                    )\n",
    "\n",
    "    for i in output_list:\n",
    "        row = []\n",
    "        row.append(i[-1])\n",
    "        reliable = np.where(np.asarray(i[4]) != 'Unreliable matches')[0]\n",
    "        if(len(reliable) != 0):\n",
    "            best = np.asarray(i[2])[:,0][reliable]\n",
    "            c = Counter(best)\n",
    "            best_rlap = float(min(np.asarray(i[2])[:,2][reliable]))\n",
    "            if(best_rlap > rlap):\n",
    "                row.append(c.most_common()[0][0])\n",
    "                row.append(best_rlap)\n",
    "                ResultsTable.add_row(row)\n",
    "\n",
    "        count += 1\n",
    "    if(count % 50 == 0):\n",
    "        print(count)\n",
    "            \n",
    "    if(len(ResultsTable) != 0):\n",
    "        ResultsTable_List_confidence.append([rlap,ResultsTable])"
   ]
  },
  {
   "cell_type": "code",
   "execution_count": 16,
   "metadata": {},
   "outputs": [],
   "source": [
    "ResultsTable_List_confidence = np.asarray(ResultsTable_List_confidence)"
   ]
  },
  {
   "cell_type": "code",
   "execution_count": 38,
   "metadata": {},
   "outputs": [],
   "source": [
    "counters_confidence = [] \n",
    "for i in ResultsTable_List_confidence:\n",
    "    counter = 0\n",
    "    wrong = []\n",
    "    JoinedResults = astropy.table.join(i[1], final_rcf_table)\n",
    "    for j in JoinedResults:\n",
    "        if(j[\"sn_type\"] != '-'):\n",
    "            correct_1a = \"Ia\" in j[\"sn_type\"]\n",
    "            classified_1a = \"Ia\" in j[\"Dash\"]\n",
    "            if(correct_1a==classified_1a):\n",
    "                counter += 1\n",
    "            else:\n",
    "                wrong.append([j[\"ZTF_Name\"], j[\"sn_type\"], j[\"Dash\"]])\n",
    "    wrong = np.asarray(wrong)\n",
    "    counters_confidence.append([i[0],counter,len(JoinedResults), wrong])\n",
    "counters_confidence = np.asarray(counters_confidence)"
   ]
  },
  {
   "cell_type": "code",
   "execution_count": 39,
   "metadata": {},
   "outputs": [],
   "source": [
    "low_rlap = np.where(counters_confidence[:,0] < 20)\n",
    "Table(counters_confidence[low_rlap][np.argmax(counters_confidence[low_rlap][:,1]/counters_confidence[low_rlap][:,2])][3]).to_pandas().to_csv(dash+\"verwrong.csv\")\n",
    "wronglist = counters_confidence[low_rlap][np.argmax(counters_confidence[low_rlap][:,1]/counters_confidence[low_rlap][:,2])]"
   ]
  },
  {
   "cell_type": "code",
   "execution_count": 40,
   "metadata": {},
   "outputs": [
    {
     "name": "stderr",
     "output_type": "stream",
     "text": [
      "WARNING: MergeConflictWarning: Cannot merge meta key 'name' types <class 'str'> and <class 'str'>, choosing name='Basic ZTF Name Data' [astropy.utils.metadata]\n"
     ]
    }
   ],
   "source": [
    "astropy.table.join(ResultsTable_List_confidence[0][-1], Classification)[\"ZTF_Name\", \"Class\", \"Dash\", \"Confidence\"].to_pandas().to_csv(dash+\"confidence.csv\")"
   ]
  },
  {
   "cell_type": "code",
   "execution_count": 41,
   "metadata": {},
   "outputs": [
    {
     "data": {
      "text/plain": [
       "(array([1.000e+00, 0.000e+00, 1.000e+00, 8.000e+00, 1.200e+01, 3.200e+01,\n",
       "        3.800e+01, 5.600e+01, 1.150e+02, 1.667e+03]),\n",
       " array([0.1836 , 0.26524, 0.34688, 0.42852, 0.51016, 0.5918 , 0.67344,\n",
       "        0.75508, 0.83672, 0.91836, 1.     ]),\n",
       " <a list of 10 Patch objects>)"
      ]
     },
     "execution_count": 41,
     "metadata": {},
     "output_type": "execute_result"
    },
    {
     "data": {
      "image/png": "[encoded data removed]",
      "text/plain": [
       "<Figure size 432x288 with 1 Axes>"
      ]
     },
     "metadata": {
      "needs_background": "light"
     },
     "output_type": "display_data"
    }
   ],
   "source": [
    "plt.hist(astropy.table.join(ResultsTable_List_confidence[0][-1], Classification)[\"Confidence\"])"
   ]
  },
  {
   "cell_type": "code",
   "execution_count": 42,
   "metadata": {},
   "outputs": [
    {
     "data": {
      "text/plain": [
       "Text(0, 0.5, 'true positive')"
      ]
     },
     "execution_count": 42,
     "metadata": {},
     "output_type": "execute_result"
    },
    {
     "data": {
      "image/png": "[encoded data removed]",
      "text/plain": [
       "<Figure size 432x288 with 1 Axes>"
      ]
     },
     "metadata": {
      "needs_background": "light"
     },
     "output_type": "display_data"
    }
   ],
   "source": [
    "plt.plot(counters_confidence[:,0], counters_confidence[:,1]/counters_confidence[:,2])\n",
    "plt.title(\"confidence vs true positive\")\n",
    "plt.xlabel(\"confidence\")\n",
    "plt.ylabel(\"true positive\")"
   ]
  },
  {
   "cell_type": "code",
   "execution_count": 43,
   "metadata": {},
   "outputs": [],
   "source": [
    "c = Counter(counters_confidence[-1][-1][:,-1])\n",
    "wrong_list = np.flip(np.asarray(c.most_common()))\n",
    "c_right = Counter(counters_confidence[-1][-1][:,1])\n",
    "right_list = np.flip(np.asarray(c_right.most_common()))"
   ]
  },
  {
   "cell_type": "code",
   "execution_count": 44,
   "metadata": {},
   "outputs": [
    {
     "data": {
      "text/plain": [
       "Text(0.5, 1.0, 'Distribution of Incorrect Classifications')"
      ]
     },
     "execution_count": 44,
     "metadata": {},
     "output_type": "execute_result"
    },
    {
     "data": {
      "image/png": "[encoded data removed]",
      "text/plain": [
       "<Figure size 720x360 with 1 Axes>"
      ]
     },
     "metadata": {
      "needs_background": "light"
     },
     "output_type": "display_data"
    }
   ],
   "source": [
    "fig = plt.figure(figsize = (10,5))\n",
    "ax = fig.add_axes([0,0,1,1])\n",
    "ax.bar(wrong_list[:,1], wrong_list[:,0].astype(int), label = \"Wrong\")\n",
    "plt.title(\"Distribution of Incorrect Classifications\")\n",
    "#ax.bar(right_list[:,1], right_list[:,0].astype(int), label = \"Right\")"
   ]
  },
  {
   "cell_type": "code",
   "execution_count": 45,
   "metadata": {},
   "outputs": [
    {
     "data": {
      "text/plain": [
       "Text(0.5, 1.0, 'Distribution of Incorrect Classifications True Classes')"
      ]
     },
     "execution_count": 45,
     "metadata": {},
     "output_type": "execute_result"
    },
    {
     "data": {
      "image/png": "[encoded data removed]",
      "text/plain": [
       "<Figure size 720x360 with 1 Axes>"
      ]
     },
     "metadata": {
      "needs_background": "light"
     },
     "output_type": "display_data"
    }
   ],
   "source": [
    "fig = plt.figure(figsize = (10,5))\n",
    "ax = fig.add_axes([0,0,1,1])\n",
    "ax.bar(right_list[:,1], right_list[:,0].astype(int), label = \"Right\")\n",
    "plt.title(\"Distribution of Incorrect Classifications True Classes\")"
   ]
  },
  {
   "cell_type": "code",
   "execution_count": 26,
   "metadata": {},
   "outputs": [
    {
     "name": "stderr",
     "output_type": "stream",
     "text": [
      "WARNING: MergeConflictWarning: Cannot merge meta key 'name' types <class 'str'> and <class 'str'>, choosing name='Basic ZTF Name Data' [astropy.utils.metadata]\n"
     ]
    }
   ],
   "source": [
    "JoinedResultsConfusion = astropy.table.join(ResultsTable_List_confidence[0][1], Classification)"
   ]
  },
  {
   "cell_type": "code",
   "execution_count": 46,
   "metadata": {},
   "outputs": [],
   "source": [
    "actual_c = Counter(JoinedResultsConfusion[\"Class\"])\n",
    "actual_list = np.flip(np.asarray(actual_c.most_common()))\n",
    "dash_c = Counter(JoinedResultsConfusion[\"Dash\"])\n",
    "dash_list = np.flip(np.asarray(dash_c.most_common()))"
   ]
  },
  {
   "cell_type": "code",
   "execution_count": 47,
   "metadata": {},
   "outputs": [
    {
     "data": {
      "text/plain": [
       "Text(0.5, 1.0, 'Distribution of Actual Classes')"
      ]
     },
     "execution_count": 47,
     "metadata": {},
     "output_type": "execute_result"
    },
    {
     "data": {
      "image/png": "[encoded data removed]",
      "text/plain": [
       "<Figure size 1440x720 with 1 Axes>"
      ]
     },
     "metadata": {
      "needs_background": "light"
     },
     "output_type": "display_data"
    }
   ],
   "source": [
    "fig = plt.figure(figsize = (20,10))\n",
    "ax = fig.add_axes([0,0,1,1])\n",
    "ax.bar(actual_list[:,1], actual_list[:,0].astype(int), label = \"Wrong\")\n",
    "plt.title(\"Distribution of Actual Classes\")"
   ]
  },
  {
   "cell_type": "code",
   "execution_count": 48,
   "metadata": {},
   "outputs": [
    {
     "data": {
      "text/plain": [
       "Text(0.5, 1.0, 'Distribution of Dash Classes')"
      ]
     },
     "execution_count": 48,
     "metadata": {},
     "output_type": "execute_result"
    },
    {
     "data": {
      "image/png": "[encoded data removed]",
      "text/plain": [
       "<Figure size 1440x720 with 1 Axes>"
      ]
     },
     "metadata": {
      "needs_background": "light"
     },
     "output_type": "display_data"
    }
   ],
   "source": [
    "fig = plt.figure(figsize = (20,10))\n",
    "ax = fig.add_axes([0,0,1,1])\n",
    "ax.bar(dash_list[:,1], dash_list[:,0].astype(int), label = \"Wrong\")\n",
    "plt.title(\"Distribution of Dash Classes\")"
   ]
  },
  {
   "cell_type": "code",
   "execution_count": null,
   "metadata": {},
   "outputs": [],
   "source": []
  },
  {
   "cell_type": "code",
   "execution_count": 28,
   "metadata": {},
   "outputs": [
    {
     "data": {
      "text/plain": [
       "array([[0, 0, 0, ..., 0, 0, 0],\n",
       "       [0, 0, 0, ..., 0, 0, 0],\n",
       "       [0, 0, 0, ..., 0, 0, 0],\n",
       "       ...,\n",
       "       [0, 0, 0, ..., 0, 0, 0],\n",
       "       [0, 0, 0, ..., 0, 0, 0],\n",
       "       [0, 0, 0, ..., 0, 0, 0]])"
      ]
     },
     "execution_count": 28,
     "metadata": {},
     "output_type": "execute_result"
    }
   ],
   "source": [
    "confusion_matrix(JoinedResultsConfusion[\"Class\"], JoinedResultsConfusion[\"Dash\"])"
   ]
  },
  {
   "cell_type": "code",
   "execution_count": 25,
   "metadata": {},
   "outputs": [],
   "source": [
    "counters_confidence_1a = [] \n",
    "for i in ResultsTable_List_confidence:\n",
    "    truepositive = 0\n",
    "    falsepositive = 0\n",
    "    conditionpositive = 0\n",
    "    conditionnegative = 0\n",
    "    JoinedResults = astropy.table.join(i[1], SEDM_ML_sample)\n",
    "    \n",
    "    for j in JoinedResults:\n",
    "        correct_1a = \"Ia\" in j[\"Class\"]\n",
    "        classified_1a = \"Ia\" in j[\"Both\"]\n",
    "        if(correct_1a and classified_1a):\n",
    "            truepositive += 1\n",
    "        elif(correct_1a == False and classified_1a == True):\n",
    "            falsepositive += 1\n",
    "    counters_confidence_1a.append([i[0],truepositive/(truepositive + falsepositive),falsepositive/(truepositive + falsepositive),len(JoinedResults)])"
   ]
  },
  {
   "cell_type": "code",
   "execution_count": 147,
   "metadata": {},
   "outputs": [
    {
     "name": "stdout",
     "output_type": "stream",
     "text": [
      "500\n",
      "1000\n",
      "1500\n",
      "2000\n",
      "2500\n"
     ]
    }
   ],
   "source": [
    "count = 0\n",
    "ResultsTable = Table(\n",
    "                names=(\"ZTF_Name\", \"Both\"\n",
    "                ),\n",
    "                meta={\"name\": \"Spectrum Results after SNID\"},\n",
    "                dtype=(\"U64\", \"U64\"\n",
    "                      )\n",
    "                )\n",
    "\n",
    "for i in output_list:\n",
    "    row = []\n",
    "    row.append(i[-1])\n",
    "    reliable = np.where(np.asarray(i[4]) != 'Unreliable matches')[0]\n",
    "    if(len(reliable) != 0):\n",
    "        best = np.asarray(i[2])[:,0][reliable]\n",
    "        c = Counter(best)\n",
    "        row.append(c.most_common()[0][0])\n",
    "        ResultsTable.add_row(row)\n",
    "\n",
    "    count += 1\n",
    "    if(count % 500 == 0):\n",
    "        print(count)"
   ]
  },
  {
   "cell_type": "code",
   "execution_count": 149,
   "metadata": {},
   "outputs": [
    {
     "name": "stderr",
     "output_type": "stream",
     "text": [
      "WARNING: MergeConflictWarning: Cannot merge meta key 'name' types <class 'str'> and <class 'str'>, choosing name='Basic ZTF Name Data' [astropy.utils.metadata]\n"
     ]
    }
   ],
   "source": [
    "counter = 0\n",
    "wrong = []\n",
    "JoinedResults = astropy.table.join(ResultsTable, Classification)\n",
    "for j in JoinedResults:\n",
    "    if(j[\"Class\"] != '-' and j[\"Class\"] != \"0.0\"):\n",
    "        correct_1a = \"Ia\" in j[\"Class\"]\n",
    "        classified_1a = \"Ia\" in j[\"Both\"]\n",
    "        if(correct_1a==classified_1a):\n",
    "            counter += 1\n",
    "        else:\n",
    "            wrong.append([j[\"ZTF_Name\"], j[\"Class\"], j[\"Both\"]])\n",
    "wrong = np.asarray(wrong)"
   ]
  },
  {
   "cell_type": "code",
   "execution_count": 173,
   "metadata": {},
   "outputs": [
    {
     "data": {
      "text/plain": [
       "0.7784810126582279"
      ]
     },
     "execution_count": 173,
     "metadata": {},
     "output_type": "execute_result"
    }
   ],
   "source": [
    "counter/(counter + len(wrong))"
   ]
  },
  {
   "cell_type": "code",
   "execution_count": 174,
   "metadata": {},
   "outputs": [],
   "source": [
    "Table(wrong).to_pandas().to_csv(dash + \"wrong.csv\")"
   ]
  },
  {
   "cell_type": "code",
   "execution_count": 175,
   "metadata": {},
   "outputs": [
    {
     "data": {
      "text/plain": [
       "0.20114942528735633"
      ]
     },
     "execution_count": 175,
     "metadata": {},
     "output_type": "execute_result"
    }
   ],
   "source": [
    "len(wrong)/len(JoinedResults)"
   ]
  },
  {
   "cell_type": "code",
   "execution_count": null,
   "metadata": {},
   "outputs": [],
   "source": []
  }
 ],
 "metadata": {
  "kernelspec": {
   "display_name": "Python 3",
   "language": "python",
   "name": "python3"
  },
  "language_info": {
   "codemirror_mode": {
    "name": "ipython",
    "version": 3
   },
   "file_extension": ".py",
   "mimetype": "text/x-python",
   "name": "python",
   "nbconvert_exporter": "python",
   "pygments_lexer": "ipython3",
   "version": "3.7.6"
  }
 },
 "nbformat": 4,
 "nbformat_minor": 4
}
