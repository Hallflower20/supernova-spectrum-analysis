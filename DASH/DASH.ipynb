{
 "cells": [
  {
   "cell_type": "code",
   "execution_count": 1,
   "metadata": {},
   "outputs": [
    {
     "name": "stdout",
     "output_type": "stream",
     "text": [
      "WARNING:tensorflow:From /home/hallflower/anaconda3/lib/python3.7/site-packages/tensorflow/python/compat/v2_compat.py:96: disable_resource_variables (from tensorflow.python.ops.variable_scope) is deprecated and will be removed in a future version.\n",
      "Instructions for updating:\n",
      "non-resource variables are not supported in the long term\n"
     ]
    }
   ],
   "source": [
    "import astrodash"
   ]
  },
  {
   "cell_type": "code",
   "execution_count": 2,
   "metadata": {},
   "outputs": [],
   "source": [
    "import os\n",
    "import astropy\n",
    "import numpy as np\n",
    "from astropy.table import Table\n",
    "from astropy.table import Column\n",
    "import glob\n",
    "import matplotlib.pyplot as plt\n",
    "import pandas as pd\n",
    "from collections import Counter\n",
    "from mpl_toolkits.mplot3d import Axes3D"
   ]
  },
  {
   "cell_type": "code",
   "execution_count": 3,
   "metadata": {},
   "outputs": [],
   "source": [
    "sample_location = \"/home/hallflower/sample/spectra/\"\n",
    "param = \"/mnt/c/users/20xha/Documents/GitHub/supernova-spectrum-analysis/snid.param\"\n",
    "dash = \"/mnt/c/users/20xha/Documents/Caltech/Research/DASH/\""
   ]
  },
  {
   "cell_type": "code",
   "execution_count": 4,
   "metadata": {},
   "outputs": [],
   "source": [
    "SEDM_ML_sample = Table.read(\"/mnt/c/Users/20xha/Documents/Caltech/Research/SEDM_ML_sample.ascii\", format = \"ascii\")\n",
    "SEDM_ML_sample.rename_column('col1', 'ZTF_Name')\n",
    "SEDM_ML_sample.rename_column('col2', \"Class\")\n",
    "SEDM_ML_sample.rename_column('col8', \"Version\")"
   ]
  },
  {
   "cell_type": "code",
   "execution_count": 5,
   "metadata": {},
   "outputs": [],
   "source": [
    "#ZTF18aajnqmp"
   ]
  },
  {
   "cell_type": "code",
   "execution_count": 19,
   "metadata": {},
   "outputs": [
    {
     "name": "stdout",
     "output_type": "stream",
     "text": [
      "COULDN'T USE LOADTXT FOR FILE: /home/hallflower/sample/spectra/ZTF17aaajnki_20180320_P60_v1.ascii\n",
      " READ LINE BY LINE INSTEAD.\n",
      "COULDN'T USE LOADTXT FOR FILE: /home/hallflower/sample/spectra/ZTF17aaajnki_20180320_P60_v2.ascii\n",
      " READ LINE BY LINE INSTEAD.\n",
      "INFO:tensorflow:Restoring parameters from /home/hallflower/anaconda3/lib/python3.7/site-packages/astrodash/models_v06/models/agnosticZ/tensorflow_model.ckpt\n",
      "0.07660828014531607\n",
      "0.007202331349592583\n",
      "0.0030803854219676463\n",
      "0.00823546172087708\n",
      "0.07220229241289511\n",
      "0.6594017696997476\n",
      "0.25558067635359216\n",
      "0.015497107594600212\n",
      "0.0030803854219676463\n",
      "0.33935321459210743\n",
      "0.015497107594600212\n",
      "0.009269651818028635\n",
      "0.006170259618283103\n",
      "0.013417031222159537\n",
      "0.015497107594600212\n",
      "0.2607402186304786\n",
      "0.24150055101267975\n",
      "0.017581453401618985\n",
      "0.00823546172087708\n",
      "0.2685193130906398\n",
      "0.07660828014531607\n",
      "0.006170259618283103\n",
      "0.0030803854219676463\n",
      "0.07220229241289511\n",
      "0.007202331349592583\n",
      "0.6594017696997476\n",
      "0.259448348765136\n",
      "0.015497107594600212\n",
      "0.2855390763202894\n",
      "0.0020525374138740116\n",
      "0.009269651818028635\n",
      "0.006170259618283103\n",
      "0.259448348765136\n",
      "0.014456536276054477\n",
      "0.015497107594600212\n",
      "0.013417031222159537\n",
      "0.23768799495607262\n",
      "0.2685193130906398\n",
      "0.09105316705406152\n",
      "0.0030803854219676463\n",
      "Finished classifying 2 spectra!\n",
      "0\n"
     ]
    }
   ],
   "source": [
    "output_list = []\n",
    "counter = 0\n",
    "for i in np.unique(SEDM_ML_sample[\"ZTF_Name\"]):\n",
    "    try:\n",
    "        filenames = []\n",
    "        for j in (SEDM_ML_sample[np.where(i == SEDM_ML_sample[\"ZTF_Name\"])][\"Version\"]):\n",
    "            filenames.append(sample_location + str(j))\n",
    "\n",
    "        classification = astrodash.Classify(filenames, classifyHost=False, knownZ=False, smooth=6, rlapScores=True)\n",
    "        output = classification.list_best_matches(n=15, saveFilename= dash + i + '.txt')\n",
    "        output_name = np.append(np.asarray(output),i)\n",
    "        output_list.append(output_name)\n",
    "        if(counter % 100 == 0):\n",
    "            print(counter)\n",
    "        counter+=1\n",
    "    except:\n",
    "        print(i)\n",
    "    break\n",
    "output_list = np.asarray(output_list)"
   ]
  },
  {
   "cell_type": "code",
   "execution_count": 40,
   "metadata": {},
   "outputs": [],
   "source": [
    "np.save(dash + \"output\", output_list)"
   ]
  },
  {
   "cell_type": "code",
   "execution_count": null,
   "metadata": {},
   "outputs": [],
   "source": []
  }
 ],
 "metadata": {
  "kernelspec": {
   "display_name": "Python 3",
   "language": "python",
   "name": "python3"
  },
  "language_info": {
   "codemirror_mode": {
    "name": "ipython",
    "version": 3
   },
   "file_extension": ".py",
   "mimetype": "text/x-python",
   "name": "python",
   "nbconvert_exporter": "python",
   "pygments_lexer": "ipython3",
   "version": "3.7.6"
  }
 },
 "nbformat": 4,
 "nbformat_minor": 4
}
