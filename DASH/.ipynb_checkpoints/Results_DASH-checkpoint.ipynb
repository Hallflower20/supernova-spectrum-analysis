{
 "cells": [
  {
   "cell_type": "code",
   "execution_count": 1,
   "metadata": {},
   "outputs": [
    {
     "name": "stdout",
     "output_type": "stream",
     "text": [
      "WARNING:tensorflow:From /home/hallflower/anaconda3/lib/python3.7/site-packages/tensorflow/python/compat/v2_compat.py:96: disable_resource_variables (from tensorflow.python.ops.variable_scope) is deprecated and will be removed in a future version.\n",
      "Instructions for updating:\n",
      "non-resource variables are not supported in the long term\n"
     ]
    }
   ],
   "source": [
    "import astrodash"
   ]
  },
  {
   "cell_type": "code",
   "execution_count": 2,
   "metadata": {},
   "outputs": [],
   "source": [
    "import os\n",
    "import astropy\n",
    "import numpy as np\n",
    "from astropy.table import Table\n",
    "from astropy.table import Column\n",
    "import glob\n",
    "import matplotlib.pyplot as plt\n",
    "import pandas as pd\n",
    "from collections import Counter\n",
    "from mpl_toolkits.mplot3d import Axes3D"
   ]
  },
  {
   "cell_type": "code",
   "execution_count": 3,
   "metadata": {},
   "outputs": [],
   "source": [
    "sample_location = \"/home/hallflower/sample/spectra/\"\n",
    "dash = \"/mnt/c/users/20xha/Documents/Caltech/Research/DASH/\""
   ]
  },
  {
   "cell_type": "code",
   "execution_count": 4,
   "metadata": {},
   "outputs": [],
   "source": [
    "SEDM_ML_sample = Table.read(\"/mnt/c/Users/20xha/Documents/Caltech/Research/SEDM_ML_sample.ascii\", format = \"ascii\")\n",
    "SEDM_ML_sample.rename_column('col1', 'ZTF_Name')\n",
    "SEDM_ML_sample.rename_column('col2', \"Class\")\n",
    "SEDM_ML_sample.rename_column('col8', \"Version\")"
   ]
  },
  {
   "cell_type": "code",
   "execution_count": 5,
   "metadata": {},
   "outputs": [],
   "source": [
    "output_list = np.load(dash+\"output.npy\",allow_pickle=True)"
   ]
  },
  {
   "cell_type": "code",
   "execution_count": 6,
   "metadata": {},
   "outputs": [
    {
     "data": {
      "text/plain": [
       "2959"
      ]
     },
     "execution_count": 6,
     "metadata": {},
     "output_type": "execute_result"
    }
   ],
   "source": [
    "len(output_list)"
   ]
  },
  {
   "cell_type": "code",
   "execution_count": 7,
   "metadata": {},
   "outputs": [
    {
     "data": {
      "text/plain": [
       "2968"
      ]
     },
     "execution_count": 7,
     "metadata": {},
     "output_type": "execute_result"
    }
   ],
   "source": [
    "len(np.unique(SEDM_ML_sample[\"ZTF_Name\"]))"
   ]
  },
  {
   "cell_type": "code",
   "execution_count": 8,
   "metadata": {},
   "outputs": [
    {
     "data": {
      "text/plain": [
       "array(['Ia-91bg', 'Ia-91bg'], dtype='<U7')"
      ]
     },
     "execution_count": 8,
     "metadata": {},
     "output_type": "execute_result"
    }
   ],
   "source": [
    "np.asarray(output_list[0][2])[:,0]"
   ]
  },
  {
   "cell_type": "code",
   "execution_count": 9,
   "metadata": {},
   "outputs": [],
   "source": [
    "Classification = Table(\n",
    "                    names=(\"ZTF_Name\", \"Class\", \"Version\"\n",
    "                    ),\n",
    "                    meta={\"name\": \"Basic ZTF Name Data\"},\n",
    "                    dtype=(\"U64\", \"U64\", \"U64\"\n",
    "                          )\n",
    "                    )\n",
    "for i in np.unique(SEDM_ML_sample[\"ZTF_Name\"]):\n",
    "    row = SEDM_ML_sample[\"ZTF_Name\", \"Class\", \"Version\"][np.where(i == SEDM_ML_sample[\"ZTF_Name\"])][-1]\n",
    "    Classification.add_row(row)"
   ]
  },
  {
   "cell_type": "code",
   "execution_count": 10,
   "metadata": {},
   "outputs": [
    {
     "name": "stdout",
     "output_type": "stream",
     "text": [
      "500\n",
      "1000\n",
      "1500\n",
      "2000\n",
      "2500\n"
     ]
    }
   ],
   "source": [
    "count = 0\n",
    "ResultsTable = Table(\n",
    "                names=(\"ZTF_Name\", \"Both\"\n",
    "                ),\n",
    "                meta={\"name\": \"Spectrum Results after SNID\"},\n",
    "                dtype=(\"U64\", \"U64\"\n",
    "                      )\n",
    "                )\n",
    "\n",
    "for i in output_list:\n",
    "    row = []\n",
    "    row.append(i[-1])\n",
    "    best = np.asarray(i[2])[:,0]\n",
    "    c = Counter(best)\n",
    "    row.append(c.most_common()[0][0])\n",
    "    ResultsTable.add_row(row)\n",
    "\n",
    "    count += 1\n",
    "    if(count % 500 == 0):\n",
    "        print(count)"
   ]
  },
  {
   "cell_type": "code",
   "execution_count": 11,
   "metadata": {},
   "outputs": [
    {
     "name": "stderr",
     "output_type": "stream",
     "text": [
      "WARNING: MergeConflictWarning: Cannot merge meta key 'name' types <class 'str'> and <class 'str'>, choosing name='Basic ZTF Name Data' [astropy.utils.metadata]\n"
     ]
    }
   ],
   "source": [
    "counter = 0\n",
    "wrong = []\n",
    "JoinedResults = astropy.table.join(ResultsTable, Classification)\n",
    "for j in JoinedResults:\n",
    "    if(j[\"Class\"] != '-' and j[\"Class\"] != \"0.0\"):\n",
    "        correct_1a = \"Ia\" in j[\"Class\"]\n",
    "        classified_1a = \"Ia\" in j[\"Both\"]\n",
    "        if(correct_1a==classified_1a):\n",
    "            counter += 1\n",
    "        else:\n",
    "            wrong.append([j[\"ZTF_Name\"], j[\"Class\"], j[\"Both\"]])\n",
    "wrong = np.asarray(wrong)"
   ]
  },
  {
   "cell_type": "code",
   "execution_count": 19,
   "metadata": {},
   "outputs": [],
   "source": [
    "ranges = np.linspace(0, 25, 26)"
   ]
  },
  {
   "cell_type": "code",
   "execution_count": null,
   "metadata": {},
   "outputs": [],
   "source": [
    "ResultsTable_List_both = []\n",
    "count = 0\n",
    "\n",
    "for rlap in ranges:\n",
    "    for agree in range(0,16):\n",
    "        ResultsTable = Table(\n",
    "                    names=(\"ZTF_Name\", \"Both\"\n",
    "                    ),\n",
    "                    meta={\"name\": \"Spectrum Results after SNID\"},\n",
    "                    dtype=(\"U64\", \"U64\"\n",
    "                          )\n",
    "                    )\n",
    "        for j in output_list:\n",
    "            row = []\n",
    "            row.append(j[-1])\n",
    "            matches = []\n",
    "            best_rlap = np.max(j[0][:,0][:,3])\n",
    "            if(best_rlap > rlap)\n",
    "                for k in range(len(j[0])):\n",
    "                    matches.extend(j[0][k])\n",
    "                matches = np.asarray(matches)\n",
    "                c = Counter(matches[:,1])\n",
    "                row.append(c.most_common()[0][0])\n",
    "                if(c.most_common()[0][1] >= agree):\n",
    "                    row.append(c.most_common()[0][0])\n",
    "                    ResultsTable.add_row(row)\n",
    "\n",
    "        count += 1\n",
    "        if(len(ResultsTable) != 0):\n",
    "            ResultsTable_List_both.append([rlap,agree,ResultsTable])\n",
    "        if(count % 10 == 0):\n",
    "            print(count)"
   ]
  },
  {
   "cell_type": "code",
   "execution_count": 20,
   "metadata": {},
   "outputs": [],
   "source": [
    "j = output_list[0]"
   ]
  },
  {
   "cell_type": "code",
   "execution_count": 30,
   "metadata": {},
   "outputs": [],
   "source": [
    "matches = []\n",
    "for k in range(len(j[0])):\n",
    "    matches.extend(j[0][k])\n",
    "matches = np.asarray(matches)"
   ]
  },
  {
   "cell_type": "code",
   "execution_count": null,
   "metadata": {},
   "outputs": [],
   "source": []
  },
  {
   "cell_type": "code",
   "execution_count": null,
   "metadata": {},
   "outputs": [],
   "source": []
  }
 ],
 "metadata": {
  "kernelspec": {
   "display_name": "Python 3",
   "language": "python",
   "name": "python3"
  },
  "language_info": {
   "codemirror_mode": {
    "name": "ipython",
    "version": 3
   },
   "file_extension": ".py",
   "mimetype": "text/x-python",
   "name": "python",
   "nbconvert_exporter": "python",
   "pygments_lexer": "ipython3",
   "version": "3.7.6"
  }
 },
 "nbformat": 4,
 "nbformat_minor": 4
}
