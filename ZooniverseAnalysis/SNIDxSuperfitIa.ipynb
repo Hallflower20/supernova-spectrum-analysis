{
 "cells": [
  {
   "cell_type": "code",
   "execution_count": 1,
   "metadata": {},
   "outputs": [],
   "source": [
    "import numpy as np\n",
    "import pandas as pd\n",
    "import glob\n",
    "from astropy.table import Table\n",
    "import matplotlib.pyplot as plt\n",
    "import json \n",
    "import collections\n",
    "import astropy"
   ]
  },
  {
   "cell_type": "code",
   "execution_count": 2,
   "metadata": {},
   "outputs": [],
   "source": [
    "snidoutput = Table.from_pandas(pd.read_csv(\"snid_classes_ZTFI.csv\"))"
   ]
  },
  {
   "cell_type": "code",
   "execution_count": 3,
   "metadata": {},
   "outputs": [],
   "source": [
    "superfit_results = Table.from_pandas(pd.read_csv(r\"C:\\Users\\20xha\\Documents\\Caltech\\Research\\superfit\\superfit\\superfit_classes_ZTFI.csv\"))"
   ]
  },
  {
   "cell_type": "code",
   "execution_count": 4,
   "metadata": {},
   "outputs": [],
   "source": [
    "combined = astropy.table.join(superfit_results, snidoutput, keys = [\"Version\"])"
   ]
  },
  {
   "cell_type": "code",
   "execution_count": 5,
   "metadata": {},
   "outputs": [],
   "source": [
    "sample = Table.read(\"C:/Users/20xha/Documents/Caltech/Research/superfit/ZTFI_data/sample/SEDM_ML_sample.ascii\", format = \"ascii\")\n",
    "sample.rename_column('col1', 'ZTF_Name')\n",
    "sample.rename_column('col2', \"Class\")\n",
    "sample.rename_column('col3', \"redshift\")\n",
    "sample.rename_column('col8', \"Version\")"
   ]
  },
  {
   "cell_type": "code",
   "execution_count": 18,
   "metadata": {},
   "outputs": [
    {
     "data": {
      "text/plain": [
       "4723"
      ]
     },
     "execution_count": 18,
     "metadata": {},
     "output_type": "execute_result"
    }
   ],
   "source": [
    "len(np.unique(sample[np.where(sample[\"col9\"] != 2)][\"ZTF_Name\"]))"
   ]
  },
  {
   "cell_type": "code",
   "execution_count": 6,
   "metadata": {},
   "outputs": [],
   "source": [
    "final_rcf_table = Table.from_pandas(pd.read_hdf(r\"C:\\Users\\20xha\\Documents\\Caltech\\Research/final_rcf_table.h5\"))"
   ]
  },
  {
   "cell_type": "code",
   "execution_count": 7,
   "metadata": {},
   "outputs": [],
   "source": [
    "negativeIa_ztfI = 0\n",
    "positiveIa_ztfI = 0\n",
    "for i in np.unique(sample[\"ZTF_Name\"]):\n",
    "    all_version = sample[np.where(sample[\"ZTF_Name\"] == i)]\n",
    "    if(0 in all_version[\"col9\"] or 1 in all_version[\"col9\"]):\n",
    "        name = all_version[0]\n",
    "        if(\"Ia\" in name[\"Class\"]):\n",
    "            positiveIa_ztfI += 1\n",
    "        elif(name[\"Class\"] != \"?\" and name[\"Class\"] != \"-\"):\n",
    "            negativeIa_ztfI += 1"
   ]
  },
  {
   "cell_type": "code",
   "execution_count": 8,
   "metadata": {},
   "outputs": [
    {
     "data": {
      "text/plain": [
       "1610"
      ]
     },
     "execution_count": 8,
     "metadata": {},
     "output_type": "execute_result"
    }
   ],
   "source": [
    "negativeIa_ztfI"
   ]
  },
  {
   "cell_type": "code",
   "execution_count": 19,
   "metadata": {},
   "outputs": [
    {
     "data": {
      "text/plain": [
       "2648"
      ]
     },
     "execution_count": 19,
     "metadata": {},
     "output_type": "execute_result"
    }
   ],
   "source": [
    "4723 - 1690 - 385"
   ]
  },
  {
   "cell_type": "code",
   "execution_count": 11,
   "metadata": {},
   "outputs": [],
   "source": [
    "TypeIa_Information = Table(\n",
    "                    names=(\"ZTF_Name\", \"spectra_file\", \"sn_type\", \"superfit_sn_type\", \"zooniverse_sn_type\", \"z_sn\", \"in_rcfI\", \"sn_type_rcfI\", \"in_marshall\", \"sn_type_marshall\"\n",
    "                    ),\n",
    "                    meta={\"name\": \"Final ZTF-I Type II Table\"},\n",
    "                    dtype=(\"U64\", \"U64\", \"U64\", \"U64\", \"U64\", \"float32\", \"bool\", \"U64\", \"bool\", \"U64\"\n",
    "                          )\n",
    "                    )\n",
    "for i in np.unique(combined[\"ZTF_Name\"]):\n",
    "    data = combined[np.where(combined[\"ZTF_Name\"] == i)]\n",
    "    index = []\n",
    "    counter = 0\n",
    "    for j in data:\n",
    "        superfitII = \"Ia\" in j[\"Superfit_c\"]\n",
    "        zooniverseII = \"Ia\" in j[\"c_snid_1\"]\n",
    "        if(superfitII and zooniverseII):\n",
    "            index.append(counter)\n",
    "        counter += 1\n",
    "    if(len(index) > 0):\n",
    "        best = data[index]\n",
    "        if(len(best) > 1):\n",
    "            best = best[np.where(best[\"rlap_1\"] == np.max(best[\"rlap_1\"]))]\n",
    "            if(len(best) > 1):\n",
    "                best = best[0]\n",
    "        col9 = sample[\"col9\"][np.where(best[\"Version\"] == sample[\"Version\"])]\n",
    "        if(best[\"rlap_1\"] > 10 and (0 in col9 or 1 in col9)):\n",
    "            row = [best[\"ZTF_Name\"], best[\"Version\"], \"Ia\", best[\"Superfit_c\"], best[\"c_snid_1\"], best[\"z_snid\"]]\n",
    "            if(i in final_rcf_table[\"ZTF_Name\"]):\n",
    "                rcfI = final_rcf_table[\"sn_type\"][np.where(final_rcf_table[\"ZTF_Name\"] == i)]\n",
    "                row.extend([True, rcfI])\n",
    "            else:\n",
    "                row.extend([False, \"\"])\n",
    "\n",
    "            if(i in sample[\"ZTF_Name\"]):\n",
    "                marshall = sample[\"Class\"][np.where(sample[\"ZTF_Name\"] == i)[0][0]]\n",
    "                row.extend([True, marshall])\n",
    "            else:\n",
    "                row.extend([False, \"\"])\n",
    "            TypeIa_Information.add_row(row)"
   ]
  },
  {
   "cell_type": "code",
   "execution_count": 12,
   "metadata": {},
   "outputs": [
    {
     "data": {
      "text/html": [
       "<i>Table length=1690</i>\n",
       "<table id=\"table1638239694608\" class=\"table-striped table-bordered table-condensed\">\n",
       "<thead><tr><th>ZTF_Name</th><th>spectra_file</th><th>sn_type</th><th>superfit_sn_type</th><th>zooniverse_sn_type</th><th>z_sn</th><th>in_rcfI</th><th>sn_type_rcfI</th><th>in_marshall</th><th>sn_type_marshall</th></tr></thead>\n",
       "<thead><tr><th>str64</th><th>str64</th><th>str64</th><th>str64</th><th>str64</th><th>float32</th><th>bool</th><th>str64</th><th>bool</th><th>str64</th></tr></thead>\n",
       "<tr><td>ZTF18aaaqexr</td><td>ZTF18aaaqexr_20200215_P60_v1.ascii</td><td>Ia</td><td>Ia-norm</td><td>Ia-norm</td><td>0.7297</td><td>False</td><td></td><td>True</td><td>Ia</td></tr>\n",
       "<tr><td>ZTF18aagrtxs</td><td>ZTF18aagrtxs_20180328_P60_v1.ascii</td><td>Ia</td><td>Ia-norm</td><td>Ia-norm</td><td>0.0176</td><td>True</td><td>Ia</td><td>True</td><td>Ia</td></tr>\n",
       "<tr><td>ZTF18aagstdc</td><td>ZTF18aagstdc_20180402_P60_v1.ascii</td><td>Ia</td><td>Ia-norm</td><td>Ia-norm</td><td>0.0469</td><td>True</td><td>Ia</td><td>True</td><td>Ia</td></tr>\n",
       "<tr><td>ZTF18aagtcxj</td><td>ZTF18aagtcxj_20180410_P200_v1.ascii</td><td>Ia</td><td>Ia 91bg-like</td><td>Ia-norm</td><td>0.0333</td><td>True</td><td>Ia</td><td>True</td><td>Ia</td></tr>\n",
       "<tr><td>ZTF18aahfeiy</td><td>ZTF18aahfeiy_20180517_P200_v1.ascii</td><td>Ia</td><td>Ia-norm</td><td>Ia-norm</td><td>0.0696</td><td>True</td><td>Ia</td><td>True</td><td>Ia</td></tr>\n",
       "<tr><td>ZTF18aahfgyz</td><td>ZTF18aahfgyz_20180410_P200_v1.ascii</td><td>Ia</td><td>Ia 91bg-like</td><td>Ia-91bg</td><td>0.016</td><td>True</td><td>Ia-91bg</td><td>True</td><td>Ia-91bg</td></tr>\n",
       "<tr><td>ZTF18aahfxnn</td><td>ZTF18aahfxnn_20180410_P200_v1.ascii</td><td>Ia</td><td>Ia-norm</td><td>Ia-norm</td><td>0.0745</td><td>True</td><td>Ia</td><td>True</td><td>Ia</td></tr>\n",
       "<tr><td>ZTF18aahfzea</td><td>ZTF18aahfzea_20180421_P60_v1.ascii</td><td>Ia</td><td>Ia-norm</td><td>Ia-norm</td><td>0.0245</td><td>True</td><td>Ia</td><td>True</td><td>Ia</td></tr>\n",
       "<tr><td>ZTF18aahheaj</td><td>ZTF18aahheaj_20180414_LT_v1.ascii</td><td>Ia</td><td>Ia-norm</td><td>Ia-norm</td><td>0.0469</td><td>True</td><td>Ia</td><td>True</td><td>Ia</td></tr>\n",
       "<tr><td>ZTF18aahhenr</td><td>ZTF18aahhenr_20180411_APO_v1.ascii</td><td>Ia</td><td>Ia 99aa-like</td><td>Ia-91T</td><td>0.0801</td><td>True</td><td>Ia-91T</td><td>True</td><td>Ia-91T</td></tr>\n",
       "<tr><td>...</td><td>...</td><td>...</td><td>...</td><td>...</td><td>...</td><td>...</td><td>...</td><td>...</td><td>...</td></tr>\n",
       "<tr><td>ZTF20acxtewc</td><td>ZTF20acxtewc_20201229_LT_v1.ascii</td><td>Ia</td><td>Ia-norm</td><td>Ia-norm</td><td>0.0373</td><td>False</td><td></td><td>True</td><td>Ia</td></tr>\n",
       "<tr><td>ZTF20acyzsol</td><td>ZTF20acyzsol_20210101_LT_v1.ascii</td><td>Ia</td><td>Ia-norm</td><td>Ia-norm</td><td>0.0629</td><td>False</td><td></td><td>True</td><td>Ia</td></tr>\n",
       "<tr><td>ZTF21aaabvjk</td><td>ZTF21aaabvjk_20210606_NOT_v1.ascii</td><td>Ia</td><td>Ia 91T-like</td><td>Ia-norm</td><td>0.0189</td><td>False</td><td></td><td>True</td><td>Ia</td></tr>\n",
       "<tr><td>ZTF21aadezmh</td><td>ZTF21aadezmh_20210130_LT_v1.ascii</td><td>Ia</td><td>Ia-norm</td><td>Ia-03fg</td><td>0.0646</td><td>False</td><td></td><td>True</td><td>Ia</td></tr>\n",
       "<tr><td>ZTF21aaespww</td><td>ZTF21aaespww_20210128_LT_v1.ascii</td><td>Ia</td><td>Ia-norm</td><td>Ia-norm</td><td>0.0514</td><td>False</td><td></td><td>True</td><td>Ia</td></tr>\n",
       "<tr><td>ZTF21aapehpx</td><td>ZTF21aapehpx_20210416_NOT_v1.ascii</td><td>Ia</td><td>Ia 91bg-like</td><td>Ia-norm</td><td>0.0354</td><td>False</td><td></td><td>True</td><td>Ia</td></tr>\n",
       "<tr><td>ZTF21aaqytjr</td><td>ZTF21aaqytjr_20210428_NOT_v1.ascii</td><td>Ia</td><td>Ia-norm</td><td>Ia-norm</td><td>0.0042</td><td>False</td><td></td><td>True</td><td>Ia</td></tr>\n",
       "<tr><td>ZTF21aarqkes</td><td>ZTF21aarqkes_20210409_NOT_v2.ascii</td><td>Ia</td><td>Ia-norm</td><td>Ia-norm</td><td>0.008</td><td>False</td><td></td><td>True</td><td>Ia</td></tr>\n",
       "<tr><td>ZTF21aaxtjvm</td><td>ZTF21aaxtjvm_20210513_NOT_v1.ascii</td><td>Ia</td><td>Ia-norm</td><td>Ia-norm</td><td>0.1066</td><td>False</td><td></td><td>True</td><td>Ia</td></tr>\n",
       "<tr><td>ZTF21aayrbnn</td><td>ZTF21aayrbnn_20210511_NOT_v2.ascii</td><td>Ia</td><td>Ia-pec</td><td>Ia-91T</td><td>0.0883</td><td>False</td><td></td><td>True</td><td>Ia</td></tr>\n",
       "</table>"
      ],
      "text/plain": [
       "<Table length=1690>\n",
       "  ZTF_Name               spectra_file            ... sn_type_marshall\n",
       "   str64                    str64                ...      str64      \n",
       "------------ ----------------------------------- ... ----------------\n",
       "ZTF18aaaqexr  ZTF18aaaqexr_20200215_P60_v1.ascii ...               Ia\n",
       "ZTF18aagrtxs  ZTF18aagrtxs_20180328_P60_v1.ascii ...               Ia\n",
       "ZTF18aagstdc  ZTF18aagstdc_20180402_P60_v1.ascii ...               Ia\n",
       "ZTF18aagtcxj ZTF18aagtcxj_20180410_P200_v1.ascii ...               Ia\n",
       "ZTF18aahfeiy ZTF18aahfeiy_20180517_P200_v1.ascii ...               Ia\n",
       "ZTF18aahfgyz ZTF18aahfgyz_20180410_P200_v1.ascii ...          Ia-91bg\n",
       "ZTF18aahfxnn ZTF18aahfxnn_20180410_P200_v1.ascii ...               Ia\n",
       "ZTF18aahfzea  ZTF18aahfzea_20180421_P60_v1.ascii ...               Ia\n",
       "ZTF18aahheaj   ZTF18aahheaj_20180414_LT_v1.ascii ...               Ia\n",
       "ZTF18aahhenr  ZTF18aahhenr_20180411_APO_v1.ascii ...           Ia-91T\n",
       "         ...                                 ... ...              ...\n",
       "ZTF20acxtewc   ZTF20acxtewc_20201229_LT_v1.ascii ...               Ia\n",
       "ZTF20acyzsol   ZTF20acyzsol_20210101_LT_v1.ascii ...               Ia\n",
       "ZTF21aaabvjk  ZTF21aaabvjk_20210606_NOT_v1.ascii ...               Ia\n",
       "ZTF21aadezmh   ZTF21aadezmh_20210130_LT_v1.ascii ...               Ia\n",
       "ZTF21aaespww   ZTF21aaespww_20210128_LT_v1.ascii ...               Ia\n",
       "ZTF21aapehpx  ZTF21aapehpx_20210416_NOT_v1.ascii ...               Ia\n",
       "ZTF21aaqytjr  ZTF21aaqytjr_20210428_NOT_v1.ascii ...               Ia\n",
       "ZTF21aarqkes  ZTF21aarqkes_20210409_NOT_v2.ascii ...               Ia\n",
       "ZTF21aaxtjvm  ZTF21aaxtjvm_20210513_NOT_v1.ascii ...               Ia\n",
       "ZTF21aayrbnn  ZTF21aayrbnn_20210511_NOT_v2.ascii ...               Ia"
      ]
     },
     "execution_count": 12,
     "metadata": {},
     "output_type": "execute_result"
    }
   ],
   "source": [
    "TypeIa_Information"
   ]
  },
  {
   "cell_type": "code",
   "execution_count": 9,
   "metadata": {},
   "outputs": [],
   "source": [
    "negativeIa = 0\n",
    "positiveIa = 0\n",
    "for name in final_rcf_table:\n",
    "    if(\"Ia\" in name[\"sn_type\"]):\n",
    "        positiveIa += 1\n",
    "    else:\n",
    "        negativeIa += 1"
   ]
  },
  {
   "cell_type": "code",
   "execution_count": 10,
   "metadata": {},
   "outputs": [
    {
     "ename": "KeyboardInterrupt",
     "evalue": "",
     "output_type": "error",
     "traceback": [
      "\u001b[1;31m---------------------------------------------------------------------------\u001b[0m",
      "\u001b[1;31mKeyboardInterrupt\u001b[0m                         Traceback (most recent call last)",
      "\u001b[1;32m<ipython-input-10-af84a5ae4f5b>\u001b[0m in \u001b[0;36m<module>\u001b[1;34m\u001b[0m\n\u001b[0;32m     35\u001b[0m \u001b[1;33m\u001b[0m\u001b[0m\n\u001b[0;32m     36\u001b[0m                 \u001b[1;32mif\u001b[0m\u001b[1;33m(\u001b[0m\u001b[0mi\u001b[0m \u001b[1;32min\u001b[0m \u001b[0msample\u001b[0m\u001b[1;33m[\u001b[0m\u001b[1;34m\"ZTF_Name\"\u001b[0m\u001b[1;33m]\u001b[0m\u001b[1;33m)\u001b[0m\u001b[1;33m:\u001b[0m\u001b[1;33m\u001b[0m\u001b[1;33m\u001b[0m\u001b[0m\n\u001b[1;32m---> 37\u001b[1;33m                     \u001b[0mmarshall\u001b[0m \u001b[1;33m=\u001b[0m \u001b[0msample\u001b[0m\u001b[1;33m[\u001b[0m\u001b[1;34m\"Class\"\u001b[0m\u001b[1;33m]\u001b[0m\u001b[1;33m[\u001b[0m\u001b[0mnp\u001b[0m\u001b[1;33m.\u001b[0m\u001b[0mwhere\u001b[0m\u001b[1;33m(\u001b[0m\u001b[0msample\u001b[0m\u001b[1;33m[\u001b[0m\u001b[1;34m\"ZTF_Name\"\u001b[0m\u001b[1;33m]\u001b[0m \u001b[1;33m==\u001b[0m \u001b[0mi\u001b[0m\u001b[1;33m)\u001b[0m\u001b[1;33m[\u001b[0m\u001b[1;36m0\u001b[0m\u001b[1;33m]\u001b[0m\u001b[1;33m[\u001b[0m\u001b[1;36m0\u001b[0m\u001b[1;33m]\u001b[0m\u001b[1;33m]\u001b[0m\u001b[1;33m\u001b[0m\u001b[1;33m\u001b[0m\u001b[0m\n\u001b[0m\u001b[0;32m     38\u001b[0m                     \u001b[0mrow\u001b[0m\u001b[1;33m.\u001b[0m\u001b[0mextend\u001b[0m\u001b[1;33m(\u001b[0m\u001b[1;33m[\u001b[0m\u001b[1;32mTrue\u001b[0m\u001b[1;33m,\u001b[0m \u001b[0mmarshall\u001b[0m\u001b[1;33m]\u001b[0m\u001b[1;33m)\u001b[0m\u001b[1;33m\u001b[0m\u001b[1;33m\u001b[0m\u001b[0m\n\u001b[0;32m     39\u001b[0m                 \u001b[1;32melse\u001b[0m\u001b[1;33m:\u001b[0m\u001b[1;33m\u001b[0m\u001b[1;33m\u001b[0m\u001b[0m\n",
      "\u001b[1;32m<__array_function__ internals>\u001b[0m in \u001b[0;36mwhere\u001b[1;34m(*args, **kwargs)\u001b[0m\n",
      "\u001b[1;31mKeyboardInterrupt\u001b[0m: "
     ]
    }
   ],
   "source": [
    "tp_fp_ratio = []\n",
    "tp_fp_ratio_rcf = []\n",
    "for rlap_num in np.linspace(0,10,21):\n",
    "    TypeIa_Information = Table(\n",
    "                    names=(\"ZTF_Name\", \"spectra_file\", \"sn_type\", \"superfit_sn_type\", \"zooniverse_sn_type\", \"z_sn\", \"in_rcfI\", \"sn_type_rcfI\", \"in_marshall\", \"sn_type_marshall\"\n",
    "                    ),\n",
    "                    meta={\"name\": \"Final ZTF-I Type II Table\"},\n",
    "                    dtype=(\"U64\", \"U64\", \"U64\", \"U64\", \"U64\", \"float32\", \"bool\", \"U64\", \"bool\", \"U64\"\n",
    "                          )\n",
    "                    )\n",
    "    for i in np.unique(combined[\"ZTF_Name\"]):\n",
    "        data = combined[np.where(combined[\"ZTF_Name\"] == i)]\n",
    "        index = []\n",
    "        counter = 0\n",
    "        for j in data:\n",
    "            superfitII = \"Ia\" in j[\"Superfit_c\"]\n",
    "            zooniverseII = \"Ia\" in j[\"c_snid_1\"]\n",
    "            if(superfitII and zooniverseII):\n",
    "                index.append(counter)\n",
    "            counter += 1\n",
    "        if(len(index) > 0):\n",
    "            best = data[index]\n",
    "            if(len(best) > 1):\n",
    "                best = best[np.where(best[\"rlap_1\"] == np.max(best[\"rlap_1\"]))]\n",
    "                if(len(best) > 1):\n",
    "                    best = best[0]\n",
    "            col9 = sample[\"col9\"][np.where(best[\"Version\"] == sample[\"Version\"])]\n",
    "            if(best[\"rlap_1\"] > rlap_num and (0 in col9 or 1 in col9)):\n",
    "                row = [best[\"ZTF_Name\"], best[\"Version\"], \"Ia\", best[\"Superfit_c\"], best[\"c_snid_1\"], best[\"z_snid\"]]\n",
    "                if(i in final_rcf_table[\"ZTF_Name\"]):\n",
    "                    rcfI = final_rcf_table[\"sn_type\"][np.where(final_rcf_table[\"ZTF_Name\"] == i)]\n",
    "                    row.extend([True, rcfI])\n",
    "                else:\n",
    "                    row.extend([False, \"\"])\n",
    "\n",
    "                if(i in sample[\"ZTF_Name\"]):\n",
    "                    marshall = sample[\"Class\"][np.where(sample[\"ZTF_Name\"] == i)[0][0]]\n",
    "                    row.extend([True, marshall])\n",
    "                else:\n",
    "                    row.extend([False, \"\"])\n",
    "                TypeIa_Information.add_row(row)\n",
    "    counter = 0\n",
    "    index_counter = 0\n",
    "    index = []\n",
    "    for i in TypeIa_Information[\"sn_type_marshall\"]:\n",
    "        if('Ia' not in i and '-' != i and i != 'NaN'):\n",
    "            counter += 1\n",
    "            index.append(index_counter)\n",
    "        index_counter += 1\n",
    "    tp_fp_ratio.append([(len(TypeIa_Information) - len(index)) / positiveIa_ztfI, len(index) / negativeIa_ztfI, rlap_num])\n",
    "\n",
    "    final_rcf_test = TypeIa_Information[np.where(TypeIa_Information[\"in_rcfI\"] == True)]\n",
    "    counter = 0\n",
    "    index_counter = 0\n",
    "    index = []\n",
    "    for i in final_rcf_test[\"sn_type_rcfI\"]:\n",
    "        if('Ia' not in i):\n",
    "            counter += 1\n",
    "            index.append(index_counter)\n",
    "        index_counter += 1\n",
    "    tp_fp_ratio_rcf.append([(len(final_rcf_test) - len(index))/ positiveIa, len(index)/negativeIa, rlap_num])"
   ]
  },
  {
   "cell_type": "code",
   "execution_count": 18,
   "metadata": {},
   "outputs": [],
   "source": [
    "tp_fp_ratio_np = np.asarray(tp_fp_ratio)\n",
    "tp_fp_ratio_rcf_np = np.asarray(tp_fp_ratio_rcf)"
   ]
  },
  {
   "cell_type": "code",
   "execution_count": 19,
   "metadata": {},
   "outputs": [
    {
     "data": {
      "text/plain": [
       "Text(0, 0.5, 'True Positive Rate')"
      ]
     },
     "execution_count": 19,
     "metadata": {},
     "output_type": "execute_result"
    },
    {
     "data": {
      "image/png": "[encoded data removed]",
      "text/plain": [
       "<Figure size 720x720 with 1 Axes>"
      ]
     },
     "metadata": {
      "needs_background": "light"
     },
     "output_type": "display_data"
    }
   ],
   "source": [
    "fig = plt.figure(figsize = (10,10))\n",
    "plt.scatter(tp_fp_ratio_np[:,1], tp_fp_ratio_np[:,0], color = \"orange\")\n",
    "plt.title(\"TPR vs. FPR\")\n",
    "plt.xlabel(\"False Positive Rate\")\n",
    "plt.ylabel(\"True Positive Rate\")"
   ]
  },
  {
   "cell_type": "code",
   "execution_count": 20,
   "metadata": {},
   "outputs": [
    {
     "ename": "ValueError",
     "evalue": "zero-size array to reduction operation maximum which has no identity",
     "output_type": "error",
     "traceback": [
      "\u001b[1;31m---------------------------------------------------------------------------\u001b[0m",
      "\u001b[1;31mValueError\u001b[0m                                Traceback (most recent call last)",
      "\u001b[1;32m<ipython-input-20-6a277fe9473e>\u001b[0m in \u001b[0;36m<module>\u001b[1;34m\u001b[0m\n\u001b[1;32m----> 1\u001b[1;33m \u001b[0mtp_fp_ratio_np\u001b[0m\u001b[1;33m[\u001b[0m\u001b[0mnp\u001b[0m\u001b[1;33m.\u001b[0m\u001b[0mwhere\u001b[0m\u001b[1;33m(\u001b[0m\u001b[0mtp_fp_ratio_np\u001b[0m\u001b[1;33m[\u001b[0m\u001b[1;33m:\u001b[0m\u001b[1;33m,\u001b[0m\u001b[1;36m0\u001b[0m\u001b[1;33m]\u001b[0m \u001b[1;33m==\u001b[0m \u001b[0mnp\u001b[0m\u001b[1;33m.\u001b[0m\u001b[0mmax\u001b[0m\u001b[1;33m(\u001b[0m\u001b[0mtp_fp_ratio_np\u001b[0m\u001b[1;33m[\u001b[0m\u001b[0mtp_fp_ratio_np\u001b[0m\u001b[1;33m[\u001b[0m\u001b[1;33m:\u001b[0m\u001b[1;33m,\u001b[0m\u001b[1;36m1\u001b[0m\u001b[1;33m]\u001b[0m \u001b[1;33m<\u001b[0m \u001b[1;36m0.005\u001b[0m\u001b[1;33m]\u001b[0m\u001b[1;33m[\u001b[0m\u001b[1;33m:\u001b[0m\u001b[1;33m,\u001b[0m\u001b[1;36m0\u001b[0m\u001b[1;33m]\u001b[0m\u001b[1;33m)\u001b[0m\u001b[1;33m)\u001b[0m\u001b[1;33m]\u001b[0m\u001b[1;33m\u001b[0m\u001b[1;33m\u001b[0m\u001b[0m\n\u001b[0m",
      "\u001b[1;32m<__array_function__ internals>\u001b[0m in \u001b[0;36mamax\u001b[1;34m(*args, **kwargs)\u001b[0m\n",
      "\u001b[1;32m~\\anaconda3\\lib\\site-packages\\numpy\\core\\fromnumeric.py\u001b[0m in \u001b[0;36mamax\u001b[1;34m(a, axis, out, keepdims, initial, where)\u001b[0m\n\u001b[0;32m   2731\u001b[0m     \u001b[1;36m5\u001b[0m\u001b[1;33m\u001b[0m\u001b[1;33m\u001b[0m\u001b[0m\n\u001b[0;32m   2732\u001b[0m     \"\"\"\n\u001b[1;32m-> 2733\u001b[1;33m     return _wrapreduction(a, np.maximum, 'max', axis, None, out,\n\u001b[0m\u001b[0;32m   2734\u001b[0m                           keepdims=keepdims, initial=initial, where=where)\n\u001b[0;32m   2735\u001b[0m \u001b[1;33m\u001b[0m\u001b[0m\n",
      "\u001b[1;32m~\\anaconda3\\lib\\site-packages\\numpy\\core\\fromnumeric.py\u001b[0m in \u001b[0;36m_wrapreduction\u001b[1;34m(obj, ufunc, method, axis, dtype, out, **kwargs)\u001b[0m\n\u001b[0;32m     85\u001b[0m                 \u001b[1;32mreturn\u001b[0m \u001b[0mreduction\u001b[0m\u001b[1;33m(\u001b[0m\u001b[0maxis\u001b[0m\u001b[1;33m=\u001b[0m\u001b[0maxis\u001b[0m\u001b[1;33m,\u001b[0m \u001b[0mout\u001b[0m\u001b[1;33m=\u001b[0m\u001b[0mout\u001b[0m\u001b[1;33m,\u001b[0m \u001b[1;33m**\u001b[0m\u001b[0mpasskwargs\u001b[0m\u001b[1;33m)\u001b[0m\u001b[1;33m\u001b[0m\u001b[1;33m\u001b[0m\u001b[0m\n\u001b[0;32m     86\u001b[0m \u001b[1;33m\u001b[0m\u001b[0m\n\u001b[1;32m---> 87\u001b[1;33m     \u001b[1;32mreturn\u001b[0m \u001b[0mufunc\u001b[0m\u001b[1;33m.\u001b[0m\u001b[0mreduce\u001b[0m\u001b[1;33m(\u001b[0m\u001b[0mobj\u001b[0m\u001b[1;33m,\u001b[0m \u001b[0maxis\u001b[0m\u001b[1;33m,\u001b[0m \u001b[0mdtype\u001b[0m\u001b[1;33m,\u001b[0m \u001b[0mout\u001b[0m\u001b[1;33m,\u001b[0m \u001b[1;33m**\u001b[0m\u001b[0mpasskwargs\u001b[0m\u001b[1;33m)\u001b[0m\u001b[1;33m\u001b[0m\u001b[1;33m\u001b[0m\u001b[0m\n\u001b[0m\u001b[0;32m     88\u001b[0m \u001b[1;33m\u001b[0m\u001b[0m\n\u001b[0;32m     89\u001b[0m \u001b[1;33m\u001b[0m\u001b[0m\n",
      "\u001b[1;31mValueError\u001b[0m: zero-size array to reduction operation maximum which has no identity"
     ]
    }
   ],
   "source": [
    "tp_fp_ratio_np[np.where(tp_fp_ratio_np[:,0] == np.max(tp_fp_ratio_np[tp_fp_ratio_np[:,1] < 0.005][:,0]))]"
   ]
  },
  {
   "cell_type": "code",
   "execution_count": null,
   "metadata": {},
   "outputs": [],
   "source": []
  }
 ],
 "metadata": {
  "kernelspec": {
   "display_name": "Python 3",
   "language": "python",
   "name": "python3"
  },
  "language_info": {
   "codemirror_mode": {
    "name": "ipython",
    "version": 3
   },
   "file_extension": ".py",
   "mimetype": "text/x-python",
   "name": "python",
   "nbconvert_exporter": "python",
   "pygments_lexer": "ipython3",
   "version": "3.8.5"
  }
 },
 "nbformat": 4,
 "nbformat_minor": 4
}
