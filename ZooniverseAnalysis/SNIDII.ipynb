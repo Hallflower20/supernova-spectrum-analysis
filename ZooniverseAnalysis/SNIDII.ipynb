{
 "cells": [
  {
   "cell_type": "code",
   "execution_count": 1,
   "metadata": {},
   "outputs": [],
   "source": [
    "import numpy as np\n",
    "import pandas as pd\n",
    "import glob\n",
    "from astropy.table import Table\n",
    "import matplotlib.pyplot as plt\n",
    "import json \n",
    "import collections\n",
    "import astropy"
   ]
  },
  {
   "cell_type": "code",
   "execution_count": 2,
   "metadata": {},
   "outputs": [],
   "source": [
    "snidoutput = Table.from_pandas(pd.read_csv(\"snid_classes_ZTFI.csv\"))"
   ]
  },
  {
   "cell_type": "code",
   "execution_count": 3,
   "metadata": {},
   "outputs": [],
   "source": [
    "superfit_results = Table.from_pandas(pd.read_csv(r\"C:\\Users\\20xha\\Documents\\Caltech\\Research\\superfit\\superfit\\superfit_classes_ZTFI.csv\"))"
   ]
  },
  {
   "cell_type": "code",
   "execution_count": 4,
   "metadata": {},
   "outputs": [],
   "source": [
    "combined = astropy.table.join(superfit_results, snidoutput, keys = [\"Version\"])"
   ]
  },
  {
   "cell_type": "code",
   "execution_count": 5,
   "metadata": {},
   "outputs": [],
   "source": [
    "sample = Table.read(\"C:/Users/20xha/Documents/Caltech/Research/superfit/ZTFI_data/sample/SEDM_ML_sample.ascii\", format = \"ascii\")\n",
    "sample.rename_column('col1', 'ZTF_Name')\n",
    "sample.rename_column('col2', \"Class\")\n",
    "sample.rename_column('col3', \"redshift\")\n",
    "sample.rename_column('col8', \"Version\")"
   ]
  },
  {
   "cell_type": "code",
   "execution_count": 6,
   "metadata": {},
   "outputs": [],
   "source": [
    "final_rcf_table = Table.from_pandas(pd.read_hdf(r\"C:\\Users\\20xha\\Documents\\Caltech\\Research/final_rcf_table.h5\"))"
   ]
  },
  {
   "cell_type": "code",
   "execution_count": 7,
   "metadata": {},
   "outputs": [],
   "source": [
    "sample_2018 = []\n",
    "counter = 0\n",
    "for i in sample:\n",
    "    if(\"ZTF18\" in i[\"ZTF_Name\"]):\n",
    "        sample_2018.append(counter)\n",
    "    counter += 1\n",
    "all_2018 = sample[sample_2018]"
   ]
  },
  {
   "cell_type": "code",
   "execution_count": 8,
   "metadata": {},
   "outputs": [],
   "source": [
    "negativeII_ztfI = 0\n",
    "positiveII_ztfI = 0\n",
    "for i in np.unique(sample[\"ZTF_Name\"]):\n",
    "    all_version = sample[np.where(sample[\"ZTF_Name\"] == i)]\n",
    "    name = all_version[0]\n",
    "    if(\"II\" in name[\"Class\"]):\n",
    "        positiveII_ztfI += 1\n",
    "    elif(name[\"Class\"] != \"?\" and name[\"Class\"] != \"-\"):\n",
    "        negativeII_ztfI += 1"
   ]
  },
  {
   "cell_type": "code",
   "execution_count": 9,
   "metadata": {},
   "outputs": [],
   "source": [
    "negativeII = 0\n",
    "positiveII = 0\n",
    "for name in final_rcf_table:\n",
    "    if(\"II\" in name[\"sn_type\"]):\n",
    "        positiveII += 1\n",
    "    else:\n",
    "        negativeII += 1"
   ]
  },
  {
   "cell_type": "code",
   "execution_count": 10,
   "metadata": {},
   "outputs": [],
   "source": [
    "negativeII_2018 = 0\n",
    "positiveII_2018 = 0\n",
    "for i in np.unique(all_2018[\"ZTF_Name\"]):\n",
    "    all_version = all_2018[np.where(all_2018[\"ZTF_Name\"] == i)]\n",
    "    name = all_version[0]\n",
    "    if(\"II\" in name[\"Class\"]):\n",
    "        positiveII_2018 += 1\n",
    "    elif(name[\"Class\"] != \"?\" and name[\"Class\"] != \"-\"):\n",
    "        negativeII_2018 += 1"
   ]
  },
  {
   "cell_type": "code",
   "execution_count": 20,
   "metadata": {},
   "outputs": [],
   "source": [
    "tp_fp_ratio = []\n",
    "tp_fp_ratio_rcf = []\n",
    "tp_fp_ratio_2018 = []\n",
    "for rlap_num in np.linspace(0,25,46):\n",
    "    TypeII_Information = Table(\n",
    "                    names=(\"ZTF_Name\", \"spectra_file\", \"sn_type\", \"superfit_sn_type\", \"zooniverse_sn_type\", \"z_sn\", \"in_rcfI\", \"sn_type_rcfI\", \"in_marshall\", \"sn_type_marshall\"\n",
    "                    ),\n",
    "                    meta={\"name\": \"Final ZTF-I Type II Table\"},\n",
    "                    dtype=(\"U64\", \"U64\", \"U64\", \"U64\", \"U64\", \"float32\", \"bool\", \"U64\", \"bool\", \"U64\"\n",
    "                          )\n",
    "                    )\n",
    "    for i in np.unique(combined[\"ZTF_Name\"]):\n",
    "        data = combined[np.where(combined[\"ZTF_Name\"] == i)]\n",
    "        index = []\n",
    "        counter = 0\n",
    "        for j in data:\n",
    "            superfitII = \"II\" in j[\"Superfit_c\"]\n",
    "            zooniverseII = \"II\" in j[\"c_snid_1\"]\n",
    "            if(zooniverseII):\n",
    "                index.append(counter)\n",
    "            counter += 1\n",
    "        if(len(index) > 0):\n",
    "            best = data[index]\n",
    "            if(len(best) > 1):\n",
    "                best = best[np.where(best[\"rlap_1\"] == np.max(best[\"rlap_1\"]))]\n",
    "                if(len(best) > 1):\n",
    "                    best = best[0]\n",
    "            if(best[\"rlap_1\"] > rlap_num):\n",
    "                row = [best[\"ZTF_Name\"], best[\"Version\"], \"II\", best[\"Superfit_c\"], best[\"c_snid_1\"], best[\"z_snid\"]]\n",
    "                if(i in final_rcf_table[\"ZTF_Name\"]):\n",
    "                    rcfI = final_rcf_table[\"sn_type\"][np.where(final_rcf_table[\"ZTF_Name\"] == i)]\n",
    "                    row.extend([True, rcfI])\n",
    "                else:\n",
    "                    row.extend([False, \"\"])\n",
    "\n",
    "                if(i in sample[\"ZTF_Name\"]):\n",
    "                    marshall = sample[\"Class\"][np.where(sample[\"ZTF_Name\"] == i)[0][0]]\n",
    "                    row.extend([True, marshall])\n",
    "                else:\n",
    "                    row.extend([False, \"\"])\n",
    "                TypeII_Information.add_row(row)\n",
    "    counter = 0\n",
    "    index_counter = 0\n",
    "    index = []\n",
    "    for i in TypeII_Information[\"sn_type_marshall\"]:\n",
    "        if('II' not in i and '-' != i and i != 'NaN'):\n",
    "            counter += 1\n",
    "            index.append(index_counter)\n",
    "        index_counter += 1\n",
    "    tp_fp_ratio.append([(len(TypeII_Information) - len(index)) / positiveII_ztfI, len(index) / negativeII_ztfI, rlap_num])\n",
    "\n",
    "    final_rcf_test = TypeII_Information[np.where(TypeII_Information[\"in_rcfI\"] == True)]\n",
    "    counter = 0\n",
    "    index_counter = 0\n",
    "    index = []\n",
    "    for i in final_rcf_test[\"sn_type_rcfI\"]:\n",
    "        if('II' not in i):\n",
    "            counter += 1\n",
    "            index.append(index_counter)\n",
    "        index_counter += 1\n",
    "    tp_fp_ratio_rcf.append([(len(final_rcf_test) - len(index))/ positiveII, len(index)/negativeII, rlap_num])\n",
    "    \n",
    "    indicies = []\n",
    "    temp_counter = 0\n",
    "    for temp_name in TypeII_Information:\n",
    "        if(\"ZTF18\" in temp_name[\"ZTF_Name\"]):\n",
    "            indicies.append(temp_counter)\n",
    "        temp_counter += 1\n",
    "    final_2018_test = TypeII_Information[indicies]\n",
    "    counter = 0\n",
    "    index_counter = 0\n",
    "    index = []\n",
    "    for i in final_2018_test[\"sn_type_marshall\"]:\n",
    "        if('II' not in i):\n",
    "            counter += 1\n",
    "            index.append(index_counter)\n",
    "        index_counter += 1\n",
    "    tp_fp_ratio_2018.append([(len(final_2018_test) - len(index))/ positiveII_2018, len(index)/negativeII_2018, rlap_num])"
   ]
  },
  {
   "cell_type": "code",
   "execution_count": 21,
   "metadata": {},
   "outputs": [],
   "source": [
    "tp_fp_ratio_np = np.asarray(tp_fp_ratio)\n",
    "tp_fp_ratio_rcf_np = np.asarray(tp_fp_ratio_rcf)\n",
    "tp_fp_ratio_2018_np = np.asarray(tp_fp_ratio_2018)"
   ]
  },
  {
   "cell_type": "code",
   "execution_count": 22,
   "metadata": {},
   "outputs": [
    {
     "data": {
      "text/plain": [
       "Text(0, 0.5, 'True Positive Rate')"
      ]
     },
     "execution_count": 22,
     "metadata": {},
     "output_type": "execute_result"
    },
    {
     "data": {
      "image/png": "[encoded data removed]",
      "text/plain": [
       "<Figure size 720x720 with 1 Axes>"
      ]
     },
     "metadata": {
      "needs_background": "light"
     },
     "output_type": "display_data"
    }
   ],
   "source": [
    "fig = plt.figure(figsize = (10,10))\n",
    "plt.scatter(tp_fp_ratio_np[:,1], tp_fp_ratio_np[:,0], color = \"orange\")\n",
    "plt.title(\"TPR vs. FPR\")\n",
    "plt.xlabel(\"False Positive Rate\")\n",
    "plt.ylabel(\"True Positive Rate\")"
   ]
  },
  {
   "cell_type": "code",
   "execution_count": 23,
   "metadata": {},
   "outputs": [
    {
     "data": {
      "text/plain": [
       "array([[ 0.31904287,  0.01596477, 10.55555556]])"
      ]
     },
     "execution_count": 23,
     "metadata": {},
     "output_type": "execute_result"
    }
   ],
   "source": [
    "tp_fp_ratio_np[np.where(tp_fp_ratio_np[:,0] == np.max(tp_fp_ratio_np[tp_fp_ratio_np[:,1] < 0.016][:,0]))]"
   ]
  },
  {
   "cell_type": "code",
   "execution_count": 24,
   "metadata": {},
   "outputs": [],
   "source": [
    "np.save(\"tf_fp_SNID\", tp_fp_ratio_np)"
   ]
  },
  {
   "cell_type": "code",
   "execution_count": 25,
   "metadata": {},
   "outputs": [
    {
     "data": {
      "text/plain": [
       "Text(0, 0.5, 'True Positive Rate')"
      ]
     },
     "execution_count": 25,
     "metadata": {},
     "output_type": "execute_result"
    },
    {
     "data": {
      "image/png": "[encoded data removed]",
      "text/plain": [
       "<Figure size 720x720 with 1 Axes>"
      ]
     },
     "metadata": {
      "needs_background": "light"
     },
     "output_type": "display_data"
    }
   ],
   "source": [
    "fig = plt.figure(figsize = (10,10))\n",
    "plt.scatter(tp_fp_ratio_rcf_np[:,1], tp_fp_ratio_rcf_np[:,0], color = \"orange\")\n",
    "plt.title(\"TPR vs. FPR\")\n",
    "plt.xlabel(\"False Positive Rate\")\n",
    "plt.ylabel(\"True Positive Rate\")"
   ]
  },
  {
   "cell_type": "code",
   "execution_count": 26,
   "metadata": {},
   "outputs": [],
   "source": [
    "np.save(\"tf_fp_rcfI_SNID\", tp_fp_ratio_rcf_np)"
   ]
  },
  {
   "cell_type": "code",
   "execution_count": 27,
   "metadata": {},
   "outputs": [
    {
     "data": {
      "text/plain": [
       "Text(0, 0.5, 'True Positive Rate')"
      ]
     },
     "execution_count": 27,
     "metadata": {},
     "output_type": "execute_result"
    },
    {
     "data": {
      "image/png": "[encoded data removed]",
      "text/plain": [
       "<Figure size 720x720 with 1 Axes>"
      ]
     },
     "metadata": {
      "needs_background": "light"
     },
     "output_type": "display_data"
    }
   ],
   "source": [
    "fig = plt.figure(figsize = (10,10))\n",
    "plt.scatter(tp_fp_ratio_2018_np[:,1], tp_fp_ratio_2018_np[:,0], color = \"orange\")\n",
    "plt.title(\"TPR vs. FPR\")\n",
    "plt.xlabel(\"False Positive Rate\")\n",
    "plt.ylabel(\"True Positive Rate\")"
   ]
  },
  {
   "cell_type": "code",
   "execution_count": 28,
   "metadata": {},
   "outputs": [],
   "source": [
    "np.save(\"tf_fp_2018_SNID\", tp_fp_ratio_2018_np)"
   ]
  },
  {
   "cell_type": "code",
   "execution_count": null,
   "metadata": {},
   "outputs": [],
   "source": []
  }
 ],
 "metadata": {
  "kernelspec": {
   "display_name": "Python 3",
   "language": "python",
   "name": "python3"
  },
  "language_info": {
   "codemirror_mode": {
    "name": "ipython",
    "version": 3
   },
   "file_extension": ".py",
   "mimetype": "text/x-python",
   "name": "python",
   "nbconvert_exporter": "python",
   "pygments_lexer": "ipython3",
   "version": "3.8.5"
  }
 },
 "nbformat": 4,
 "nbformat_minor": 4
}
