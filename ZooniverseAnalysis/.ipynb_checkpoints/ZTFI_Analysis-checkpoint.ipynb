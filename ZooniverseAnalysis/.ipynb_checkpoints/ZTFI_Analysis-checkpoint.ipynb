{
 "cells": [
  {
   "cell_type": "code",
   "execution_count": 1,
   "metadata": {},
   "outputs": [],
   "source": [
    "import numpy as np\n",
    "import pandas as pd\n",
    "import glob\n",
    "from astropy.table import Table\n",
    "import matplotlib.pyplot as plt\n",
    "import json \n",
    "import collections\n",
    "import astropy"
   ]
  },
  {
   "cell_type": "code",
   "execution_count": 2,
   "metadata": {},
   "outputs": [],
   "source": [
    "response_dict = {\n",
    "    \"#1\" : 1,\n",
    "    \"#2\" : 2,\n",
    "    \"#3\" : 3,\n",
    "    \"#4\" : 4,\n",
    "    \"#5\" : 5,\n",
    "    \"No good match\" : 0,\n",
    "}"
   ]
  },
  {
   "cell_type": "code",
   "execution_count": 3,
   "metadata": {},
   "outputs": [],
   "source": [
    "classification = Table.from_pandas(pd.read_csv(r'C:\\Users\\20xha\\Documents\\Caltech\\Research\\ZooniverseClassifications\\zwicky-chemical-factory-classifications_ZTFI.csv'))"
   ]
  },
  {
   "cell_type": "code",
   "execution_count": 4,
   "metadata": {},
   "outputs": [],
   "source": [
    "ccs_workflow = np.where(classification[\"workflow_name\"] == \"Core Collapse Supernovae\")"
   ]
  },
  {
   "cell_type": "code",
   "execution_count": 5,
   "metadata": {},
   "outputs": [
    {
     "data": {
      "text/html": [
       "<i>Row index=0</i>\n",
       "<table id=\"table2278767096928\">\n",
       "<thead><tr><th>classification_id</th><th>user_name</th><th>user_id</th><th>user_ip</th><th>workflow_id</th><th>workflow_name</th><th>workflow_version</th><th>created_at</th><th>gold_standard</th><th>expert</th><th>metadata</th><th>annotations</th><th>subject_data</th><th>subject_ids</th></tr></thead>\n",
       "<thead><tr><th>int64</th><th>str34</th><th>float64</th><th>str20</th><th>int64</th><th>str25</th><th>float64</th><th>str23</th><th>float64</th><th>float64</th><th>str1672</th><th>str532</th><th>str485</th><th>int64</th></tr></thead>\n",
       "<tr><td>288484944</td><td>cfremling</td><td>2128769.0</td><td>cac0fc4308c97a9e3d54</td><td>16969</td><td>Core Collapse Supernovae</td><td>8.21</td><td>2020-11-20 03:06:17 UTC</td><td>--</td><td>--</td><td>{&quot;source&quot;:&quot;api&quot;,&quot;session&quot;:&quot;b07e8eff7821c34f6244ef6e4aabc4bce6d598ab906f51424d36f66c90709c84&quot;,&quot;viewport&quot;:{&quot;width&quot;:1822,&quot;height&quot;:861},&quot;started_at&quot;:&quot;2020-11-20T03:05:50.856Z&quot;,&quot;user_agent&quot;:&quot;Mozilla/5.0 (Macintosh; Intel Mac OS X 10_15_4) AppleWebKit/537.36 (KHTML, like Gecko) Chrome/86.0.4240.198 Safari/537.36&quot;,&quot;utc_offset&quot;:&quot;28800&quot;,&quot;finished_at&quot;:&quot;2020-11-20T03:06:17.009Z&quot;,&quot;live_project&quot;:true,&quot;interventions&quot;:{&quot;opt_in&quot;:true,&quot;messageShown&quot;:false},&quot;user_language&quot;:&quot;en&quot;,&quot;user_group_ids&quot;:[],&quot;subject_dimensions&quot;:[{&quot;clientWidth&quot;:1280,&quot;clientHeight&quot;:720,&quot;naturalWidth&quot;:4800,&quot;naturalHeight&quot;:2700},{&quot;clientWidth&quot;:1280,&quot;clientHeight&quot;:720,&quot;naturalWidth&quot;:4800,&quot;naturalHeight&quot;:2700},{&quot;clientWidth&quot;:1280,&quot;clientHeight&quot;:720,&quot;naturalWidth&quot;:4800,&quot;naturalHeight&quot;:2700},{&quot;clientWidth&quot;:1280,&quot;clientHeight&quot;:720,&quot;naturalWidth&quot;:4800,&quot;naturalHeight&quot;:2700},{&quot;clientWidth&quot;:1280,&quot;clientHeight&quot;:720,&quot;naturalWidth&quot;:4800,&quot;naturalHeight&quot;:2700}],&quot;subject_selection_state&quot;:{&quot;retired&quot;:false,&quot;selected_at&quot;:&quot;2020-11-20T03:05:50.742Z&quot;,&quot;already_seen&quot;:false,&quot;selection_state&quot;:&quot;normal&quot;,&quot;finished_workflow&quot;:false,&quot;user_has_finished_workflow&quot;:false},&quot;workflow_translation_id&quot;:&quot;39739&quot;}</td><td>[{&quot;task&quot;:&quot;T0&quot;,&quot;task_label&quot;:&quot;Which spectrum is the best match?&quot;,&quot;value&quot;:&quot;#1&quot;}]</td><td>{&quot;51494375&quot;:{&quot;retired&quot;:null,&quot;z_snid&quot;:&quot;0.436&quot;,&quot;#Image0&quot;:&quot;snidfits_emclip_ZTF17aaazdba_20190330_P60_v1_1.png&quot;,&quot;#Image1&quot;:&quot;snidfits_emclip_ZTF17aaazdba_20190330_P60_v1_2.png&quot;,&quot;#Image2&quot;:&quot;snidfits_emclip_ZTF17aaazdba_20190330_P60_v1_3.png&quot;,&quot;#Image3&quot;:&quot;snidfits_emclip_ZTF17aaazdba_20190330_P60_v1_4.png&quot;,&quot;#Image4&quot;:&quot;snidfits_emclip_ZTF17aaazdba_20190330_P60_v1_5.png&quot;,&quot;!ZTF_Name&quot;:&quot;ZTF17aaazdba&quot;,&quot;z_snid_err&quot;:&quot;0.016&quot;,&quot;!ZTF_Version&quot;:&quot;ZTF17aaazdba_20190330_P60_v1&quot;}}</td><td>51494375</td></tr>\n",
       "</table>"
      ],
      "text/plain": [
       "<Row index=0>\n",
       "classification_id user_name  user_id        user_ip        workflow_id      workflow_name       workflow_version        created_at       gold_standard  expert                                                                                                                                                                                                                                                                                                                                                                                                                                                                                                                                                                                        metadata                                                                                                                                                                                                                                                                                                                                                                                                                                                                                                                                                                                                                        annotations                                                                                                                                                                                                                                                                subject_data                                                                                                                                                                                                                              subject_ids\n",
       "      int64         str34    float64         str20            int64             str25               float64               str23             float64    float64                                                                                                                                                                                                                                                                                                                                                                                                                                                                                                                                                                                        str1672                                                                                                                                                                                                                                                                                                                                                                                                                                                                                                                                                                                                                            str532                                                                                                                                                                                                                                                                     str485                                                                                                                                                                                                                                    int64   \n",
       "----------------- --------- --------- -------------------- ----------- ------------------------ ---------------- ----------------------- ------------- ------- ------------------------------------------------------------------------------------------------------------------------------------------------------------------------------------------------------------------------------------------------------------------------------------------------------------------------------------------------------------------------------------------------------------------------------------------------------------------------------------------------------------------------------------------------------------------------------------------------------------------------------------------------------------------------------------------------------------------------------------------------------------------------------------------------------------------------------------------------------------------------------------------------------------------------------------------------------------------------------------------------------------------------------------------------------------------------------------------------------------------------------------------------------------------------------------- ----------------------------------------------------------------------------- ----------------------------------------------------------------------------------------------------------------------------------------------------------------------------------------------------------------------------------------------------------------------------------------------------------------------------------------------------------------------------------------------------------------------------------------------------------------------- -----------\n",
       "        288484944 cfremling 2128769.0 cac0fc4308c97a9e3d54       16969 Core Collapse Supernovae             8.21 2020-11-20 03:06:17 UTC            --      -- {\"source\":\"api\",\"session\":\"b07e8eff7821c34f6244ef6e4aabc4bce6d598ab906f51424d36f66c90709c84\",\"viewport\":{\"width\":1822,\"height\":861},\"started_at\":\"2020-11-20T03:05:50.856Z\",\"user_agent\":\"Mozilla/5.0 (Macintosh; Intel Mac OS X 10_15_4) AppleWebKit/537.36 (KHTML, like Gecko) Chrome/86.0.4240.198 Safari/537.36\",\"utc_offset\":\"28800\",\"finished_at\":\"2020-11-20T03:06:17.009Z\",\"live_project\":true,\"interventions\":{\"opt_in\":true,\"messageShown\":false},\"user_language\":\"en\",\"user_group_ids\":[],\"subject_dimensions\":[{\"clientWidth\":1280,\"clientHeight\":720,\"naturalWidth\":4800,\"naturalHeight\":2700},{\"clientWidth\":1280,\"clientHeight\":720,\"naturalWidth\":4800,\"naturalHeight\":2700},{\"clientWidth\":1280,\"clientHeight\":720,\"naturalWidth\":4800,\"naturalHeight\":2700},{\"clientWidth\":1280,\"clientHeight\":720,\"naturalWidth\":4800,\"naturalHeight\":2700},{\"clientWidth\":1280,\"clientHeight\":720,\"naturalWidth\":4800,\"naturalHeight\":2700}],\"subject_selection_state\":{\"retired\":false,\"selected_at\":\"2020-11-20T03:05:50.742Z\",\"already_seen\":false,\"selection_state\":\"normal\",\"finished_workflow\":false,\"user_has_finished_workflow\":false},\"workflow_translation_id\":\"39739\"} [{\"task\":\"T0\",\"task_label\":\"Which spectrum is the best match?\",\"value\":\"#1\"}] {\"51494375\":{\"retired\":null,\"z_snid\":\"0.436\",\"#Image0\":\"snidfits_emclip_ZTF17aaazdba_20190330_P60_v1_1.png\",\"#Image1\":\"snidfits_emclip_ZTF17aaazdba_20190330_P60_v1_2.png\",\"#Image2\":\"snidfits_emclip_ZTF17aaazdba_20190330_P60_v1_3.png\",\"#Image3\":\"snidfits_emclip_ZTF17aaazdba_20190330_P60_v1_4.png\",\"#Image4\":\"snidfits_emclip_ZTF17aaazdba_20190330_P60_v1_5.png\",\"!ZTF_Name\":\"ZTF17aaazdba\",\"z_snid_err\":\"0.016\",\"!ZTF_Version\":\"ZTF17aaazdba_20190330_P60_v1\"}}    51494375"
      ]
     },
     "execution_count": 5,
     "metadata": {},
     "output_type": "execute_result"
    }
   ],
   "source": [
    "classification[ccs_workflow][0]"
   ]
  },
  {
   "cell_type": "code",
   "execution_count": 6,
   "metadata": {},
   "outputs": [],
   "source": [
    "subject_ids_unique = np.unique(classification[ccs_workflow][\"subject_ids\"])"
   ]
  },
  {
   "cell_type": "code",
   "execution_count": 7,
   "metadata": {},
   "outputs": [],
   "source": [
    "right_workflow = classification[ccs_workflow]"
   ]
  },
  {
   "cell_type": "code",
   "execution_count": 8,
   "metadata": {},
   "outputs": [
    {
     "data": {
      "text/plain": [
       "10717"
      ]
     },
     "execution_count": 8,
     "metadata": {},
     "output_type": "execute_result"
    }
   ],
   "source": [
    "len(subject_ids_unique)"
   ]
  },
  {
   "cell_type": "code",
   "execution_count": 9,
   "metadata": {},
   "outputs": [
    {
     "name": "stdout",
     "output_type": "stream",
     "text": [
      "0\n",
      "200\n",
      "400\n",
      "600\n",
      "800\n",
      "1000\n",
      "1200\n",
      "1400\n",
      "1600\n",
      "1800\n",
      "2000\n",
      "2200\n",
      "2400\n",
      "2600\n",
      "2800\n",
      "3000\n",
      "3200\n",
      "3400\n",
      "3600\n",
      "3800\n",
      "4000\n",
      "4200\n",
      "4400\n",
      "4600\n",
      "4800\n",
      "5000\n",
      "5200\n",
      "5400\n",
      "5600\n",
      "5800\n",
      "6000\n",
      "6200\n",
      "6400\n",
      "6600\n",
      "6800\n",
      "7000\n",
      "7200\n",
      "7400\n",
      "7600\n",
      "7800\n",
      "8000\n",
      "8200\n",
      "8400\n",
      "8600\n",
      "8800\n",
      "9000\n",
      "9200\n",
      "9400\n",
      "9600\n",
      "9800\n",
      "10000\n",
      "10200\n",
      "10400\n",
      "10600\n"
     ]
    }
   ],
   "source": [
    "data = []\n",
    "counter = 0\n",
    "for ids in subject_ids_unique:\n",
    "    if(counter % 200 == 0):\n",
    "        print(counter)\n",
    "    counter += 1\n",
    "    lines = np.where(classification[ccs_workflow][\"subject_ids\"] == ids)[0]\n",
    "    data.append([ids, lines])"
   ]
  },
  {
   "cell_type": "code",
   "execution_count": 10,
   "metadata": {},
   "outputs": [
    {
     "name": "stderr",
     "output_type": "stream",
     "text": [
      "C:\\Users\\20xha\\anaconda3\\lib\\site-packages\\numpy\\core\\_asarray.py:102: VisibleDeprecationWarning: Creating an ndarray from ragged nested sequences (which is a list-or-tuple of lists-or-tuples-or ndarrays with different lengths or shapes) is deprecated. If you meant to do this, you must specify 'dtype=object' when creating the ndarray.\n",
      "  return array(a, dtype, copy=False, order=order)\n"
     ]
    }
   ],
   "source": [
    "data_np = np.asarray(data)"
   ]
  },
  {
   "cell_type": "code",
   "execution_count": 11,
   "metadata": {},
   "outputs": [],
   "source": [
    "np.save(r'C:\\Users\\20xha\\Documents\\Caltech\\Research\\ZooniverseClassifications\\zwicky-chemical-factory-classifications_ZTFI', data_np)"
   ]
  },
  {
   "cell_type": "code",
   "execution_count": 9,
   "metadata": {},
   "outputs": [],
   "source": [
    "data_np = np.load(r'C:\\Users\\20xha\\Documents\\Caltech\\Research\\ZooniverseClassifications\\zwicky-chemical-factory-classifications_ZTFI.npy', allow_pickle = True)"
   ]
  },
  {
   "cell_type": "code",
   "execution_count": 10,
   "metadata": {},
   "outputs": [
    {
     "data": {
      "text/plain": [
       "1"
      ]
     },
     "execution_count": 10,
     "metadata": {},
     "output_type": "execute_result"
    }
   ],
   "source": [
    "len(data_np[:,1][0])"
   ]
  },
  {
   "cell_type": "code",
   "execution_count": 11,
   "metadata": {},
   "outputs": [],
   "source": [
    "data_array = []\n",
    "for i in data_np:\n",
    "    if(len(i[1]) > 10):\n",
    "        data_array.append([i[0], right_workflow[i[1]]])"
   ]
  },
  {
   "cell_type": "code",
   "execution_count": 12,
   "metadata": {},
   "outputs": [],
   "source": [
    "size = []\n",
    "for i in data_np[:,1]:\n",
    "    size.append(len(i))"
   ]
  },
  {
   "cell_type": "code",
   "execution_count": 13,
   "metadata": {},
   "outputs": [],
   "source": [
    "exec(\"dict =\" + data_array[0][1][\"annotations\"][0])"
   ]
  },
  {
   "cell_type": "code",
   "execution_count": 14,
   "metadata": {},
   "outputs": [
    {
     "data": {
      "text/plain": [
       "{'task': 'T0',\n",
       " 'task_label': 'Which spectrum is the best match?',\n",
       " 'value': 'No good match'}"
      ]
     },
     "execution_count": 14,
     "metadata": {},
     "output_type": "execute_result"
    }
   ],
   "source": [
    "json.loads(data_array[0][1][\"annotations\"][0])[0]"
   ]
  },
  {
   "cell_type": "code",
   "execution_count": 15,
   "metadata": {},
   "outputs": [
    {
     "data": {
      "text/plain": [
       "'No good match'"
      ]
     },
     "execution_count": 15,
     "metadata": {},
     "output_type": "execute_result"
    }
   ],
   "source": [
    "dict[0][\"value\"].split(\"#\")[-1]"
   ]
  },
  {
   "cell_type": "code",
   "execution_count": 16,
   "metadata": {},
   "outputs": [
    {
     "data": {
      "text/html": [
       "&lt;Column name=&apos;annotations&apos; dtype=&apos;str532&apos; length=11&gt;\n",
       "<table>\n",
       "<tr><td>[{&quot;task&quot;:&quot;T0&quot;,&quot;task_label&quot;:&quot;Which spectrum is the best match?&quot;,&quot;value&quot;:&quot;No good match&quot;}]</td></tr>\n",
       "<tr><td>[{&quot;task&quot;:&quot;T0&quot;,&quot;task_label&quot;:&quot;Which spectrum is the best match?&quot;,&quot;value&quot;:&quot;#5&quot;}]</td></tr>\n",
       "<tr><td>[{&quot;task&quot;:&quot;T0&quot;,&quot;task_label&quot;:&quot;Which spectrum is the best match?&quot;,&quot;value&quot;:&quot;#5&quot;}]</td></tr>\n",
       "<tr><td>[{&quot;task&quot;:&quot;T0&quot;,&quot;task_label&quot;:&quot;Which spectrum is the best match?&quot;,&quot;value&quot;:&quot;No good match&quot;}]</td></tr>\n",
       "<tr><td>[{&quot;task&quot;:&quot;T0&quot;,&quot;task_label&quot;:&quot;Which spectrum is the best match?&quot;,&quot;value&quot;:null}]</td></tr>\n",
       "<tr><td>[{&quot;task&quot;:&quot;T0&quot;,&quot;task_label&quot;:&quot;Which spectrum is the best match?&quot;,&quot;value&quot;:&quot;#5&quot;}]</td></tr>\n",
       "<tr><td>[{&quot;task&quot;:&quot;T0&quot;,&quot;task_label&quot;:&quot;Which spectrum is the best match?&quot;,&quot;value&quot;:&quot;#4&quot;}]</td></tr>\n",
       "<tr><td>[{&quot;task&quot;:&quot;T0&quot;,&quot;task_label&quot;:&quot;Which spectrum is the best match?&quot;,&quot;value&quot;:&quot;No good match&quot;}]</td></tr>\n",
       "<tr><td>[{&quot;task&quot;:&quot;T0&quot;,&quot;task_label&quot;:&quot;Which spectrum is the best match?&quot;,&quot;value&quot;:&quot;#5&quot;}]</td></tr>\n",
       "<tr><td>[{&quot;task&quot;:&quot;T0&quot;,&quot;task_label&quot;:&quot;Which spectrum is the best match?&quot;,&quot;value&quot;:&quot;No good match&quot;}]</td></tr>\n",
       "<tr><td>[{&quot;task&quot;:&quot;T0&quot;,&quot;task_label&quot;:&quot;Which spectrum is the best match?&quot;,&quot;value&quot;:&quot;No good match&quot;}]</td></tr>\n",
       "</table>"
      ],
      "text/plain": [
       "<Column name='annotations' dtype='str532' length=11>\n",
       "[{\"task\":\"T0\",\"task_label\":\"Which spectrum is the best match?\",\"value\":\"No good match\"}]\n",
       "           [{\"task\":\"T0\",\"task_label\":\"Which spectrum is the best match?\",\"value\":\"#5\"}]\n",
       "           [{\"task\":\"T0\",\"task_label\":\"Which spectrum is the best match?\",\"value\":\"#5\"}]\n",
       "[{\"task\":\"T0\",\"task_label\":\"Which spectrum is the best match?\",\"value\":\"No good match\"}]\n",
       "           [{\"task\":\"T0\",\"task_label\":\"Which spectrum is the best match?\",\"value\":null}]\n",
       "           [{\"task\":\"T0\",\"task_label\":\"Which spectrum is the best match?\",\"value\":\"#5\"}]\n",
       "           [{\"task\":\"T0\",\"task_label\":\"Which spectrum is the best match?\",\"value\":\"#4\"}]\n",
       "[{\"task\":\"T0\",\"task_label\":\"Which spectrum is the best match?\",\"value\":\"No good match\"}]\n",
       "           [{\"task\":\"T0\",\"task_label\":\"Which spectrum is the best match?\",\"value\":\"#5\"}]\n",
       "[{\"task\":\"T0\",\"task_label\":\"Which spectrum is the best match?\",\"value\":\"No good match\"}]\n",
       "[{\"task\":\"T0\",\"task_label\":\"Which spectrum is the best match?\",\"value\":\"No good match\"}]"
      ]
     },
     "execution_count": 16,
     "metadata": {},
     "output_type": "execute_result"
    }
   ],
   "source": [
    "data_array[0][1][\"annotations\"]"
   ]
  },
  {
   "cell_type": "code",
   "execution_count": 17,
   "metadata": {},
   "outputs": [],
   "source": [
    "ResultsTable_Zooniverse = Table(\n",
    "                    names=(\"ZTF_Name\", \"Version\", \"subject_ids\", \"NoMatch\", \"#1\", \"#2\", \"#3\", \"#4\", \"#5\"\n",
    "                    ),\n",
    "                    meta={\"name\": \"Spectrum Results after Zooniverse\"},\n",
    "                    dtype=(\"U64\", \"U64\", \"int32\", \"int32\", \"int32\", \"int32\", \"int32\", \"int32\", \"int32\"\n",
    "                          )\n",
    "                    )\n",
    "for line in data_array:\n",
    "    row = []\n",
    "    data = line[1]\n",
    "    metadata = json.loads(data[0][\"subject_data\"])[str(line[0])]\n",
    "    row.append(metadata[\"!ZTF_Name\"])\n",
    "    row.append(metadata[\"!ZTF_Version\"] + \".ascii\")\n",
    "    row.append(line[0])\n",
    "    responses = [0, 0, 0, 0, 0, 0]\n",
    "    for i in data:\n",
    "        value = json.loads(i[\"annotations\"])[0][\"value\"]\n",
    "        if(value is not None):\n",
    "            index = response_dict[value]\n",
    "            responses[index] = responses[index] + 1\n",
    "    row.extend(responses)\n",
    "    ResultsTable_Zooniverse.add_row(row)"
   ]
  },
  {
   "cell_type": "code",
   "execution_count": 18,
   "metadata": {},
   "outputs": [],
   "source": [
    "metadata = json.loads(data[0][\"subject_data\"])[str(line[0])]\n",
    "value = json.loads(i[\"annotations\"])[0][\"value\"]"
   ]
  },
  {
   "cell_type": "code",
   "execution_count": 19,
   "metadata": {},
   "outputs": [
    {
     "data": {
      "text/plain": [
       "21010"
      ]
     },
     "execution_count": 19,
     "metadata": {},
     "output_type": "execute_result"
    }
   ],
   "source": [
    "np.sum(ResultsTable_Zooniverse[\"NoMatch\"])"
   ]
  },
  {
   "cell_type": "code",
   "execution_count": 20,
   "metadata": {},
   "outputs": [
    {
     "data": {
      "text/plain": [
       "24786"
      ]
     },
     "execution_count": 20,
     "metadata": {},
     "output_type": "execute_result"
    }
   ],
   "source": [
    "np.sum(ResultsTable_Zooniverse[\"#1\"])"
   ]
  },
  {
   "cell_type": "code",
   "execution_count": 21,
   "metadata": {},
   "outputs": [
    {
     "data": {
      "text/plain": [
       "18503"
      ]
     },
     "execution_count": 21,
     "metadata": {},
     "output_type": "execute_result"
    }
   ],
   "source": [
    "np.sum(ResultsTable_Zooniverse[\"#2\"])"
   ]
  },
  {
   "cell_type": "code",
   "execution_count": 22,
   "metadata": {},
   "outputs": [
    {
     "data": {
      "text/plain": [
       "17138"
      ]
     },
     "execution_count": 22,
     "metadata": {},
     "output_type": "execute_result"
    }
   ],
   "source": [
    "np.sum(ResultsTable_Zooniverse[\"#3\"])"
   ]
  },
  {
   "cell_type": "code",
   "execution_count": 23,
   "metadata": {},
   "outputs": [
    {
     "data": {
      "text/plain": [
       "16830"
      ]
     },
     "execution_count": 23,
     "metadata": {},
     "output_type": "execute_result"
    }
   ],
   "source": [
    "np.sum(ResultsTable_Zooniverse[\"#4\"])"
   ]
  },
  {
   "cell_type": "code",
   "execution_count": 24,
   "metadata": {},
   "outputs": [
    {
     "data": {
      "text/plain": [
       "16854"
      ]
     },
     "execution_count": 24,
     "metadata": {},
     "output_type": "execute_result"
    }
   ],
   "source": [
    "np.sum(ResultsTable_Zooniverse[\"#5\"])"
   ]
  },
  {
   "cell_type": "code",
   "execution_count": null,
   "metadata": {},
   "outputs": [],
   "source": []
  },
  {
   "cell_type": "code",
   "execution_count": 25,
   "metadata": {},
   "outputs": [],
   "source": [
    "ResultsTable_Zooniverse.to_pandas().to_csv(\"ZTFI_Zooniverse_results.csv\")"
   ]
  },
  {
   "cell_type": "code",
   "execution_count": 26,
   "metadata": {},
   "outputs": [],
   "source": [
    "snidoutput = Table.from_pandas(pd.read_csv(\"snid_classes_ZTFI.csv\"))"
   ]
  },
  {
   "cell_type": "code",
   "execution_count": 27,
   "metadata": {},
   "outputs": [],
   "source": [
    "joined_results = astropy.table.join(snidoutput, ResultsTable_Zooniverse, join_type = \"inner\")"
   ]
  },
  {
   "cell_type": "code",
   "execution_count": 28,
   "metadata": {},
   "outputs": [],
   "source": [
    "ResultsTable_Zooniverse_Classes = Table(\n",
    "                    names=(\"ZTF_Name\", \"Version\", \"subject_ids\", 'Ia', 'Ia-norm', 'Ia-91T', 'Ia-91bg', 'Ia-csm', 'Ia-02cx', 'Ia-03fg',\n",
    "                           'Ib', 'Ib-norm', 'IIb', 'Ibn', 'Ic', 'Ic-norm', 'Ic-BL', 'Ic-SLSN', 'II', 'II-norm', 'IIn',\n",
    "                           'NotSN', 'AGN', 'Gal', 'LBV', 'M-star', 'QSO', 'C-star', 'TDE', \"NoMatch\", \"rlap\", \"z\"\n",
    "                    ),\n",
    "                    meta={\"name\": \"Vote Types\"},\n",
    "                    dtype=(\"U64\", \"U64\", \"int32\", \"int32\", \"int32\", \"int32\", \"int32\", \"int32\" , \"int32\", \"int32\", \"int32\", \"int32\", \"int32\", \"int32\",\n",
    "                           \"int32\", \"int32\", \"int32\", \"int32\", \"int32\", \"int32\", \"int32\", \"int32\", \"int32\", \"int32\", \"int32\", \"int32\", \"int32\", \"int32\", \"int32\", \"int32\", \"float32\", \"float32\"\n",
    "                          )\n",
    "                    )\n",
    "\n",
    "for i in range(len(joined_results)):\n",
    "    line = joined_results[i]\n",
    "    row = [line[\"ZTF_Name\"], line[\"Version\"], line[\"subject_ids\"]]\n",
    "    row.extend(np.zeros(28))\n",
    "    row.append(line[\"NoMatch\"])\n",
    "    ResultsTable_Zooniverse_Classes.add_row(row)\n",
    "    ResultsTable_Zooniverse_Classes[i][line[\"c_snid_1\"]] += line[\"#1\"]\n",
    "    ResultsTable_Zooniverse_Classes[i][line[\"c_snid_2\"]] += line[\"#2\"]\n",
    "    ResultsTable_Zooniverse_Classes[i][line[\"c_snid_3\"]] += line[\"#3\"]\n",
    "    ResultsTable_Zooniverse_Classes[i][line[\"c_snid_4\"]] += line[\"#4\"]\n",
    "    ResultsTable_Zooniverse_Classes[i][line[\"c_snid_5\"]] += line[\"#5\"]\n",
    "    top_line = [line[\"c_snid_1\"], line[\"c_snid_2\"], line[\"c_snid_3\"],line[\"c_snid_4\"], line[\"c_snid_5\"]]\n",
    "    classes = np.unique(top_line)\n",
    "    votes = ResultsTable_Zooniverse_Classes[i][classes.tolist()]\n",
    "    vote_data = []\n",
    "    for j in votes:\n",
    "        vote_data.append(j)\n",
    "    best = np.where(np.asarray(top_line) == classes[np.argmax(vote_data)])[0][0]\n",
    "    ResultsTable_Zooniverse_Classes[i][\"rlap\"] = line[\"rlap_{}\".format(best + 1)]\n",
    "    ResultsTable_Zooniverse_Classes[i][\"z\"] = line[\"z_snid_{}\".format(best + 1)]"
   ]
  },
  {
   "cell_type": "code",
   "execution_count": 29,
   "metadata": {},
   "outputs": [
    {
     "data": {
      "text/plain": [
       "10716"
      ]
     },
     "execution_count": 29,
     "metadata": {},
     "output_type": "execute_result"
    }
   ],
   "source": [
    "len(joined_results)"
   ]
  },
  {
   "cell_type": "code",
   "execution_count": 30,
   "metadata": {},
   "outputs": [
    {
     "data": {
      "text/html": [
       "<i>Table length=10716</i>\n",
       "<table id=\"table2279463103312\" class=\"table-striped table-bordered table-condensed\">\n",
       "<thead><tr><th>Version</th><th>ZTF_Name</th><th>z_sntemplate</th><th>z_rlap</th><th>z_snid</th><th>z_snid_err</th><th>z_level</th><th>rank_1</th><th>sntemplate_1</th><th>rlap_1</th><th>c_snid_1</th><th>z_snid_1</th><th>z_snid_err_1</th><th>age_1</th><th>age_flag_1</th><th>rank_2</th><th>sntemplate_2</th><th>rlap_2</th><th>c_snid_2</th><th>z_snid_2</th><th>z_snid_err_2</th><th>age_2</th><th>age_flag_2</th><th>rank_3</th><th>sntemplate_3</th><th>rlap_3</th><th>c_snid_3</th><th>z_snid_3</th><th>z_snid_err_3</th><th>age_3</th><th>age_flag_3</th><th>rank_4</th><th>sntemplate_4</th><th>rlap_4</th><th>c_snid_4</th><th>z_snid_4</th><th>z_snid_err_4</th><th>age_4</th><th>age_flag_4</th><th>rank_5</th><th>sntemplate_5</th><th>rlap_5</th><th>c_snid_5</th><th>z_snid_5</th><th>z_snid_err_5</th><th>age_5</th><th>age_flag_5</th><th>subject_ids</th><th>NoMatch</th><th>#1</th><th>#2</th><th>#3</th><th>#4</th><th>#5</th></tr></thead>\n",
       "<thead><tr><th>str64</th><th>str64</th><th>str12</th><th>float64</th><th>float64</th><th>float64</th><th>int64</th><th>int64</th><th>str12</th><th>float64</th><th>str7</th><th>float64</th><th>float64</th><th>float64</th><th>int64</th><th>int64</th><th>str12</th><th>float64</th><th>str7</th><th>float64</th><th>float64</th><th>float64</th><th>int64</th><th>int64</th><th>str12</th><th>float64</th><th>str7</th><th>float64</th><th>float64</th><th>float64</th><th>int64</th><th>int64</th><th>str12</th><th>float64</th><th>str7</th><th>float64</th><th>float64</th><th>float64</th><th>int64</th><th>int64</th><th>str12</th><th>float64</th><th>str7</th><th>float64</th><th>float64</th><th>float64</th><th>int64</th><th>int32</th><th>int32</th><th>int32</th><th>int32</th><th>int32</th><th>int32</th><th>int32</th></tr></thead>\n",
       "<tr><td>AT2018hrg_20181103_P60_v1.ascii</td><td>AT2018hrg</td><td>sn2006bp</td><td>5.84</td><td>0.0068</td><td>0.0091</td><td>1</td><td>1</td><td>sn2006bp</td><td>5.84</td><td>II-norm</td><td>0.0068</td><td>0.0091</td><td>4.2</td><td>0</td><td>3</td><td>sn1987A</td><td>5.76</td><td>II-norm</td><td>0.0085</td><td>0.0094</td><td>-78.5</td><td>0</td><td>6</td><td>sn06bp</td><td>5.71</td><td>II-norm</td><td>0.0064</td><td>0.0092</td><td>7.2</td><td>0</td><td>18</td><td>sn1996cb</td><td>5.34</td><td>IIb</td><td>0.0158</td><td>0.0101</td><td>-18.0</td><td>0</td><td>35</td><td>lbv01ac</td><td>5.06</td><td>LBV</td><td>-0.0005</td><td>0.0045</td><td>-99.9</td><td>2</td><td>53623564</td><td>5</td><td>0</td><td>0</td><td>0</td><td>1</td><td>4</td></tr>\n",
       "<tr><td>SN2017iuk_20181204_Keck1_v1.ascii</td><td>SN2017iuk</td><td>kcSB5</td><td>5.66</td><td>0.0378</td><td>0.0028</td><td>1</td><td>1</td><td>kcSB5</td><td>5.66</td><td>Gal</td><td>0.0378</td><td>0.0028</td><td>-99.9</td><td>2</td><td>2</td><td>kcSB1</td><td>5.43</td><td>Gal</td><td>0.037000000000000005</td><td>0.0028</td><td>-99.9</td><td>2</td><td>3</td><td>kcSB2</td><td>5.11</td><td>Gal</td><td>0.0369</td><td>0.003</td><td>-99.9</td><td>2</td><td>7</td><td>sn98bw</td><td>4.35</td><td>Ic-BL</td><td>0.0094</td><td>0.0179</td><td>15.7</td><td>0</td><td>11</td><td>sn2005la</td><td>3.83</td><td>Ibn</td><td>0.0197</td><td>0.0033</td><td>14.0</td><td>0</td><td>53623565</td><td>2</td><td>1</td><td>1</td><td>6</td><td>0</td><td>0</td></tr>\n",
       "<tr><td>ZTF17aaajnki_20180320_P60_v1.ascii</td><td>ZTF17aaajnki</td><td>kcSB2</td><td>17.99</td><td>-0.0</td><td>0.0015</td><td>1</td><td>1</td><td>kcSB2</td><td>17.99</td><td>Gal</td><td>-0.0</td><td>0.0015</td><td>-99.9</td><td>2</td><td>2</td><td>kcSB1</td><td>17.3</td><td>Gal</td><td>0.0001</td><td>0.0016</td><td>-99.9</td><td>2</td><td>3</td><td>PS1-10bzj</td><td>10.61</td><td>Ic-SLSN</td><td>0.0003</td><td>0.0026</td><td>6.55</td><td>0</td><td>5</td><td>kcSB4</td><td>5.8</td><td>Gal</td><td>-0.0002</td><td>0.0041</td><td>-99.9</td><td>2</td><td>8</td><td>sn07it</td><td>5.28</td><td>II-norm</td><td>0.0007</td><td>0.0051</td><td>191.0</td><td>0</td><td>53623566</td><td>1</td><td>7</td><td>2</td><td>0</td><td>0</td><td>0</td></tr>\n",
       "<tr><td>ZTF17aaajnki_20180320_P60_v2.ascii</td><td>ZTF17aaajnki</td><td>kcSB2</td><td>18.27</td><td>-0.0004</td><td>0.0015</td><td>1</td><td>1</td><td>kcSB2</td><td>18.27</td><td>Gal</td><td>-0.0004</td><td>0.0015</td><td>-99.9</td><td>2</td><td>2</td><td>kcSB1</td><td>17.68</td><td>Gal</td><td>-0.0003</td><td>0.0015</td><td>-99.9</td><td>2</td><td>3</td><td>PS1-10bzj</td><td>11.43</td><td>Ic-SLSN</td><td>-0.0001</td><td>0.0024</td><td>6.55</td><td>0</td><td>5</td><td>kcSB4</td><td>5.82</td><td>Gal</td><td>-0.0006</td><td>0.004</td><td>-99.9</td><td>2</td><td>8</td><td>sn07it</td><td>5.14</td><td>II-norm</td><td>0.0003</td><td>0.0051</td><td>191.0</td><td>0</td><td>53623567</td><td>1</td><td>10</td><td>2</td><td>0</td><td>0</td><td>0</td></tr>\n",
       "<tr><td>ZTF17aaaobyl_20180826_P60_v2.ascii</td><td>ZTF17aaaobyl</td><td>agn</td><td>7.95</td><td>0.0017</td><td>0.003</td><td>1</td><td>1</td><td>agn</td><td>7.95</td><td>AGN</td><td>0.0017</td><td>0.003</td><td>-99.9</td><td>2</td><td>2</td><td>kcSB5</td><td>7.77</td><td>Gal</td><td>0.0021</td><td>0.0025</td><td>-99.9</td><td>2</td><td>3</td><td>kcSB4</td><td>7.62</td><td>Gal</td><td>0.0017</td><td>0.0025</td><td>-99.9</td><td>2</td><td>4</td><td>kcSc</td><td>7.52</td><td>Gal</td><td>0.0022</td><td>0.0025</td><td>-99.9</td><td>2</td><td>5</td><td>sn98S</td><td>7.15</td><td>IIn</td><td>0.004</td><td>0.0057</td><td>422.5</td><td>0</td><td>53623568</td><td>2</td><td>1</td><td>2</td><td>3</td><td>1</td><td>0</td></tr>\n",
       "<tr><td>ZTF17aaapufz_20190304_P200_v1.ascii</td><td>ZTF17aaapufz</td><td>kcSc</td><td>28.52</td><td>0.0025</td><td>0.0006</td><td>1</td><td>1</td><td>kcSc</td><td>28.52</td><td>Gal</td><td>0.0025</td><td>0.0006</td><td>-99.9</td><td>2</td><td>2</td><td>kcSB4</td><td>26.83</td><td>Gal</td><td>0.0022</td><td>0.0007</td><td>-99.9</td><td>2</td><td>3</td><td>kcSB5</td><td>22.66</td><td>Gal</td><td>0.0025</td><td>0.0008</td><td>-99.9</td><td>2</td><td>8</td><td>agn</td><td>14.22</td><td>AGN</td><td>0.0023</td><td>0.0014</td><td>-99.9</td><td>2</td><td>9</td><td>qso</td><td>12.11</td><td>QSO</td><td>0.0025</td><td>0.0016</td><td>-100.0</td><td>2</td><td>53623569</td><td>1</td><td>9</td><td>0</td><td>1</td><td>0</td><td>0</td></tr>\n",
       "<tr><td>ZTF17aaaukqn_20180904_P60_v1.ascii</td><td>ZTF17aaaukqn</td><td>sn97ef</td><td>6.95</td><td>0.3262</td><td>0.0146</td><td>0</td><td>1</td><td>sn97ef</td><td>6.95</td><td>Ic-BL</td><td>0.3262</td><td>0.0146</td><td>-14.0</td><td>0</td><td>7</td><td>sn2003W</td><td>4.54</td><td>Ia-norm</td><td>0.4743</td><td>0.0108</td><td>28.0</td><td>0</td><td>10</td><td>sn2005cf</td><td>4.3</td><td>Ia-norm</td><td>0.4432</td><td>0.0134</td><td>-6.6</td><td>0</td><td>16</td><td>sn1999gp</td><td>4.12</td><td>Ia-91T</td><td>0.4702</td><td>0.0123</td><td>35.1</td><td>0</td><td>17</td><td>sn03du</td><td>4.11</td><td>Ia-norm</td><td>0.4409</td><td>0.0122</td><td>-5.0</td><td>0</td><td>53623570</td><td>4</td><td>7</td><td>0</td><td>0</td><td>0</td><td>0</td></tr>\n",
       "<tr><td>ZTF17aaawgkc_20180822_P60_v1.ascii</td><td>ZTF17aaawgkc</td><td>sn1995F</td><td>5.91</td><td>0.2735</td><td>0.0108</td><td>0</td><td>1</td><td>sn1995F</td><td>5.91</td><td>Ic-norm</td><td>0.2735</td><td>0.0108</td><td>88.8</td><td>1</td><td>3</td><td>sn93J</td><td>5.88</td><td>IIb</td><td>0.2642</td><td>0.0078</td><td>102.0</td><td>0</td><td>7</td><td>sn2008aq</td><td>5.64</td><td>IIb</td><td>0.2654</td><td>0.0075</td><td>101.0</td><td>1</td><td>12</td><td>sn2005az</td><td>5.42</td><td>Ic-norm</td><td>0.27</td><td>0.0098</td><td>87.3</td><td>0</td><td>16</td><td>sn2008D</td><td>5.24</td><td>Ib-norm</td><td>0.2808</td><td>0.0133</td><td>63.9</td><td>0</td><td>53623571</td><td>10</td><td>0</td><td>0</td><td>0</td><td>0</td><td>1</td></tr>\n",
       "<tr><td>ZTF17aaayjzy_20191214_P60_v1.ascii</td><td>ZTF17aaayjzy</td><td>kcSB4</td><td>20.67</td><td>0.0479</td><td>0.0012</td><td>1</td><td>1</td><td>kcSB4</td><td>20.67</td><td>Gal</td><td>0.0479</td><td>0.0012</td><td>-99.9</td><td>2</td><td>2</td><td>kcSB5</td><td>19.9</td><td>Gal</td><td>0.0482</td><td>0.0012</td><td>-99.9</td><td>2</td><td>3</td><td>kcSc</td><td>18.67</td><td>Gal</td><td>0.0482</td><td>0.0013</td><td>-99.9</td><td>2</td><td>6</td><td>agn</td><td>13.59</td><td>AGN</td><td>0.0479</td><td>0.0021</td><td>-99.9</td><td>2</td><td>9</td><td>qso</td><td>10.66</td><td>QSO</td><td>0.048</td><td>0.0024</td><td>-100.0</td><td>2</td><td>53623572</td><td>1</td><td>4</td><td>2</td><td>1</td><td>1</td><td>0</td></tr>\n",
       "<tr><td>ZTF17aaazdba_20190224_P60_v1.ascii</td><td>ZTF17aaazdba</td><td>sn2005hk</td><td>6.13</td><td>0.0401</td><td>0.0109</td><td>1</td><td>1</td><td>sn2005hk</td><td>6.13</td><td>Ia-02cx</td><td>0.0401</td><td>0.0109</td><td>23.2</td><td>0</td><td>5</td><td>sn2007al</td><td>5.79</td><td>Ia-91bg</td><td>0.0543</td><td>0.0119</td><td>11.3</td><td>0</td><td>6</td><td>sn2008A</td><td>5.47</td><td>Ia-02cx</td><td>0.0463</td><td>0.0115</td><td>23.6</td><td>0</td><td>7</td><td>sn02ap</td><td>5.47</td><td>Ic-BL</td><td>0.2794</td><td>0.0169</td><td>25.5</td><td>0</td><td>8</td><td>sn02cx</td><td>5.44</td><td>Ia-02cx</td><td>0.0419</td><td>0.0116</td><td>24.1</td><td>0</td><td>53623573</td><td>9</td><td>1</td><td>0</td><td>1</td><td>0</td><td>0</td></tr>\n",
       "<tr><td>...</td><td>...</td><td>...</td><td>...</td><td>...</td><td>...</td><td>...</td><td>...</td><td>...</td><td>...</td><td>...</td><td>...</td><td>...</td><td>...</td><td>...</td><td>...</td><td>...</td><td>...</td><td>...</td><td>...</td><td>...</td><td>...</td><td>...</td><td>...</td><td>...</td><td>...</td><td>...</td><td>...</td><td>...</td><td>...</td><td>...</td><td>...</td><td>...</td><td>...</td><td>...</td><td>...</td><td>...</td><td>...</td><td>...</td><td>...</td><td>...</td><td>...</td><td>...</td><td>...</td><td>...</td><td>...</td><td>...</td><td>...</td><td>...</td><td>...</td><td>...</td><td>...</td><td>...</td><td>...</td></tr>\n",
       "<tr><td>ZTF21aayokph_20210505_GS_v5.ascii</td><td>ZTF21aayokph</td><td>sn99aa</td><td>6.54</td><td>0.0574</td><td>0.0087</td><td>1</td><td>1</td><td>sn99aa</td><td>6.54</td><td>Ia-norm</td><td>0.0574</td><td>0.0087</td><td>256.03</td><td>0</td><td>2</td><td>sn98bu</td><td>5.39</td><td>Ia-norm</td><td>0.0608</td><td>0.0105</td><td>242.8</td><td>0</td><td>4</td><td>sn98aq</td><td>4.76</td><td>Ia-norm</td><td>0.0634</td><td>0.0114</td><td>230.3</td><td>0</td><td>13</td><td>sn2011ei</td><td>4.0</td><td>IIb</td><td>0.0823</td><td>0.003</td><td>17.0</td><td>0</td><td>16</td><td>sn2007bg</td><td>3.95</td><td>Ic-BL</td><td>0.0475</td><td>0.0147</td><td>5.9</td><td>0</td><td>63330666</td><td>1</td><td>2</td><td>0</td><td>0</td><td>1</td><td>7</td></tr>\n",
       "<tr><td>ZTF21aayokph_20210505_GS_v6.ascii</td><td>ZTF21aayokph</td><td>sn1997X</td><td>5.77</td><td>0.5812</td><td>0.01</td><td>0</td><td>1</td><td>sn1997X</td><td>5.77</td><td>Ib-norm</td><td>0.5812</td><td>0.01</td><td>10.0</td><td>1</td><td>2</td><td>sn1997X</td><td>5.09</td><td>Ib-norm</td><td>0.5767</td><td>0.0128</td><td>26.0</td><td>1</td><td>3</td><td>sn1997X</td><td>4.98</td><td>Ib-norm</td><td>0.5843</td><td>0.0135</td><td>7.0</td><td>1</td><td>5</td><td>sn93J</td><td>4.4</td><td>IIb</td><td>0.5974</td><td>0.0127</td><td>-18.0</td><td>0</td><td>6</td><td>sn98bw</td><td>4.37</td><td>Ic-BL</td><td>0.7862</td><td>0.0212</td><td>86.9</td><td>0</td><td>63330667</td><td>2</td><td>0</td><td>1</td><td>1</td><td>6</td><td>0</td></tr>\n",
       "<tr><td>ZTF21aayrbnn_20210511_NOT_v2.ascii</td><td>ZTF21aayrbnn</td><td>sn2003hu</td><td>11.29</td><td>0.0883</td><td>0.0058</td><td>1</td><td>1</td><td>sn2003hu</td><td>11.29</td><td>Ia-91T</td><td>0.0883</td><td>0.0058</td><td>7.5</td><td>0</td><td>2</td><td>sn1999aa</td><td>8.85</td><td>Ia-91T</td><td>0.0945</td><td>0.0081</td><td>-4.1</td><td>0</td><td>3</td><td>sn2006cj</td><td>8.68</td><td>Ia-norm</td><td>0.0898</td><td>0.0063</td><td>8.2</td><td>0</td><td>5</td><td>sn1999gp</td><td>8.38</td><td>Ia-91T</td><td>0.0981</td><td>0.0083</td><td>-2.0</td><td>0</td><td>26</td><td>sn2006gz</td><td>7.61</td><td>Ia-03fg</td><td>0.0915</td><td>0.0075</td><td>5.3</td><td>0</td><td>63330668</td><td>0</td><td>2</td><td>3</td><td>1</td><td>3</td><td>2</td></tr>\n",
       "<tr><td>ZTF21abaiono_20210513_Keck1_v1.ascii</td><td>ZTF21abaiono</td><td>sn2005gj</td><td>6.93</td><td>0.3031</td><td>0.0129</td><td>0</td><td>1</td><td>sn2005gj</td><td>6.93</td><td>Ia-csm</td><td>0.3031</td><td>0.0129</td><td>7.7</td><td>0</td><td>5</td><td>sn05hk</td><td>6.35</td><td>Ia-02cx</td><td>0.2874</td><td>0.0139</td><td>21.87</td><td>0</td><td>6</td><td>sn2009nz</td><td>6.01</td><td>Ic-BL</td><td>0.152</td><td>0.0195</td><td>0.0</td><td>0</td><td>9</td><td>sn2005hk</td><td>5.6</td><td>Ia-02cx</td><td>0.2786</td><td>0.0132</td><td>14.4</td><td>0</td><td>11</td><td>sn2005ap</td><td>5.47</td><td>Ic-SLSN</td><td>0.2906</td><td>0.0181</td><td>-1.95</td><td>0</td><td>63330669</td><td>0</td><td>0</td><td>0</td><td>8</td><td>0</td><td>3</td></tr>\n",
       "<tr><td>ZTF21abaiono_20210515_NOT_v1.ascii</td><td>ZTF21abaiono</td><td>sn2003dh</td><td>4.19</td><td>0.1643</td><td>0.0212</td><td>1</td><td>1</td><td>ASASSN15oi</td><td>6.23</td><td>TDE</td><td>0.0499</td><td>0.0037</td><td>999.0</td><td>2</td><td>2</td><td>sn2013dx</td><td>4.76</td><td>Ic-BL</td><td>1.0646</td><td>0.0031</td><td>23.0</td><td>0</td><td>3</td><td>sn2011bm</td><td>4.6</td><td>Ic-norm</td><td>1.1553</td><td>0.0046</td><td>49.8</td><td>0</td><td>4</td><td>sn1996cb</td><td>4.53</td><td>IIb</td><td>0.2061</td><td>0.0056</td><td>-2.1</td><td>0</td><td>5</td><td>sn1995bd</td><td>4.45</td><td>Ia-91T</td><td>0.5568</td><td>0.0086</td><td>-9.1</td><td>0</td><td>63330670</td><td>0</td><td>8</td><td>1</td><td>0</td><td>0</td><td>0</td></tr>\n",
       "<tr><td>ZTF21abaiono_20210518_NOT_v1.ascii</td><td>ZTF21abaiono</td><td>LSQ14mo</td><td>5.98</td><td>0.041</td><td>0.0064</td><td>1</td><td>1</td><td>LSQ14mo</td><td>5.98</td><td>Ic-SLSN</td><td>0.041</td><td>0.0064</td><td>-7.0</td><td>0</td><td>2</td><td>ASASSN15oi</td><td>5.49</td><td>TDE</td><td>0.0499</td><td>0.0041</td><td>999.0</td><td>2</td><td>3</td><td>sn2005U</td><td>4.37</td><td>IIb</td><td>0.0516</td><td>0.008</td><td>29.0</td><td>1</td><td>4</td><td>DES14X3taz</td><td>4.3</td><td>Ic-SLSN</td><td>0.047</td><td>0.0117</td><td>-12.75</td><td>0</td><td>5</td><td>sn2003Y</td><td>3.93</td><td>Ia-91bg</td><td>0.5710000000000001</td><td>0.0159</td><td>-6.3</td><td>0</td><td>63330671</td><td>0</td><td>1</td><td>7</td><td>0</td><td>2</td><td>1</td></tr>\n",
       "<tr><td>ZTF21abaiono_20210530_NOT_v1.ascii</td><td>ZTF21abaiono</td><td>sn91T</td><td>9.79</td><td>0.0507</td><td>0.0069</td><td>1</td><td>1</td><td>sn91T</td><td>9.79</td><td>Ia-91T</td><td>0.0507</td><td>0.0069</td><td>15.9</td><td>0</td><td>3</td><td>LSQ14mo</td><td>8.85</td><td>Ic-SLSN</td><td>0.0585</td><td>0.0091</td><td>9.0</td><td>0</td><td>4</td><td>sn91T</td><td>8.79</td><td>Ia-91T</td><td>0.0549</td><td>0.0074</td><td>10.9</td><td>0</td><td>6</td><td>sn1994M</td><td>8.37</td><td>Ia-norm</td><td>0.0558</td><td>0.0081</td><td>12.5</td><td>0</td><td>7</td><td>sn1997br</td><td>8.34</td><td>Ia-91T</td><td>0.0519</td><td>0.0083</td><td>9.9</td><td>0</td><td>63330672</td><td>0</td><td>0</td><td>10</td><td>0</td><td>0</td><td>1</td></tr>\n",
       "<tr><td>ZTF21abcgnqn_20210612_P200_v1.ascii</td><td>ZTF21abcgnqn</td><td>iPTF13bvn</td><td>5.28</td><td>0.1344</td><td>0.0033</td><td>1</td><td>1</td><td>iPTF13ajg</td><td>11.38</td><td>Ic-SLSN</td><td>0.8869</td><td>0.0015</td><td>7.7</td><td>0</td><td>2</td><td>sn2011kl</td><td>6.1</td><td>Ic-SLSN</td><td>0.1085</td><td>0.0026</td><td>-0.89</td><td>0</td><td>3</td><td>iPTF13ajg</td><td>5.96</td><td>Ic-SLSN</td><td>0.8407</td><td>0.003</td><td>-4.37</td><td>0</td><td>4</td><td>sn88a</td><td>5.78</td><td>II-norm</td><td>0.1901</td><td>0.0023</td><td>17.0</td><td>0</td><td>5</td><td>sn2006jc</td><td>5.65</td><td>Ibn</td><td>1.0891</td><td>0.0033</td><td>43.0</td><td>0</td><td>63330673</td><td>2</td><td>0</td><td>5</td><td>1</td><td>2</td><td>0</td></tr>\n",
       "<tr><td>ZTF21abcgnqn_20210612_P200_v2.ascii</td><td>ZTF21abcgnqn</td><td>sn1999aa</td><td>4.95</td><td>0.0703</td><td>0.0121</td><td>1</td><td>1</td><td>mstar</td><td>7.86</td><td>M-star</td><td>0.0485</td><td>0.0046</td><td>1.0</td><td>2</td><td>3</td><td>PS1_10jh</td><td>7.22</td><td>TDE</td><td>0.043</td><td>0.0102</td><td>-22.0</td><td>0</td><td>5</td><td>sn2005hf</td><td>6.68</td><td>Ia-norm</td><td>0.0495</td><td>0.0064</td><td>17.8</td><td>0</td><td>6</td><td>kcE</td><td>6.26</td><td>Gal</td><td>0.0478</td><td>0.0046</td><td>-99.9</td><td>2</td><td>8</td><td>sn2004L</td><td>5.79</td><td>Ia-norm</td><td>0.0475</td><td>0.006999999999999999</td><td>19.9</td><td>0</td><td>63330674</td><td>1</td><td>1</td><td>0</td><td>1</td><td>6</td><td>1</td></tr>\n",
       "<tr><td>ZTF21abdmevk_20210610_NOT_v1.ascii</td><td>ZTF21abdmevk</td><td>kcSc</td><td>16.11</td><td>0.0287</td><td>0.0011</td><td>1</td><td>1</td><td>kcSc</td><td>16.11</td><td>Gal</td><td>0.0287</td><td>0.0011</td><td>-99.9</td><td>2</td><td>2</td><td>kcSB5</td><td>12.21</td><td>Gal</td><td>0.0287</td><td>0.0014</td><td>-99.9</td><td>2</td><td>3</td><td>kcSB3</td><td>11.83</td><td>Gal</td><td>0.0293</td><td>0.0015</td><td>-99.9</td><td>2</td><td>6</td><td>sn99gi</td><td>9.96</td><td>II-norm</td><td>0.0284</td><td>0.0019</td><td>160.4</td><td>0</td><td>8</td><td>qso</td><td>9.71</td><td>QSO</td><td>0.0287</td><td>0.002</td><td>-100.0</td><td>2</td><td>63330675</td><td>1</td><td>2</td><td>4</td><td>1</td><td>1</td><td>1</td></tr>\n",
       "</table>"
      ],
      "text/plain": [
       "<Table length=10716>\n",
       "              Version                  ZTF_Name   z_sntemplate ...   #4    #5 \n",
       "               str64                    str64        str12     ... int32 int32\n",
       "------------------------------------ ------------ ------------ ... ----- -----\n",
       "     AT2018hrg_20181103_P60_v1.ascii    AT2018hrg     sn2006bp ...     1     4\n",
       "   SN2017iuk_20181204_Keck1_v1.ascii    SN2017iuk        kcSB5 ...     0     0\n",
       "  ZTF17aaajnki_20180320_P60_v1.ascii ZTF17aaajnki        kcSB2 ...     0     0\n",
       "  ZTF17aaajnki_20180320_P60_v2.ascii ZTF17aaajnki        kcSB2 ...     0     0\n",
       "  ZTF17aaaobyl_20180826_P60_v2.ascii ZTF17aaaobyl          agn ...     1     0\n",
       " ZTF17aaapufz_20190304_P200_v1.ascii ZTF17aaapufz         kcSc ...     0     0\n",
       "  ZTF17aaaukqn_20180904_P60_v1.ascii ZTF17aaaukqn       sn97ef ...     0     0\n",
       "  ZTF17aaawgkc_20180822_P60_v1.ascii ZTF17aaawgkc      sn1995F ...     0     1\n",
       "  ZTF17aaayjzy_20191214_P60_v1.ascii ZTF17aaayjzy        kcSB4 ...     1     0\n",
       "  ZTF17aaazdba_20190224_P60_v1.ascii ZTF17aaazdba     sn2005hk ...     0     0\n",
       "                                 ...          ...          ... ...   ...   ...\n",
       "   ZTF21aayokph_20210505_GS_v5.ascii ZTF21aayokph       sn99aa ...     1     7\n",
       "   ZTF21aayokph_20210505_GS_v6.ascii ZTF21aayokph      sn1997X ...     6     0\n",
       "  ZTF21aayrbnn_20210511_NOT_v2.ascii ZTF21aayrbnn     sn2003hu ...     3     2\n",
       "ZTF21abaiono_20210513_Keck1_v1.ascii ZTF21abaiono     sn2005gj ...     0     3\n",
       "  ZTF21abaiono_20210515_NOT_v1.ascii ZTF21abaiono     sn2003dh ...     0     0\n",
       "  ZTF21abaiono_20210518_NOT_v1.ascii ZTF21abaiono      LSQ14mo ...     2     1\n",
       "  ZTF21abaiono_20210530_NOT_v1.ascii ZTF21abaiono        sn91T ...     0     1\n",
       " ZTF21abcgnqn_20210612_P200_v1.ascii ZTF21abcgnqn    iPTF13bvn ...     2     0\n",
       " ZTF21abcgnqn_20210612_P200_v2.ascii ZTF21abcgnqn     sn1999aa ...     6     1\n",
       "  ZTF21abdmevk_20210610_NOT_v1.ascii ZTF21abdmevk         kcSc ...     1     1"
      ]
     },
     "execution_count": 30,
     "metadata": {},
     "output_type": "execute_result"
    }
   ],
   "source": [
    "joined_results"
   ]
  },
  {
   "cell_type": "code",
   "execution_count": 31,
   "metadata": {},
   "outputs": [],
   "source": [
    "ResultsTable_Zooniverse_Classes.to_pandas().to_csv(\"ClassTotalsAll_ZTFI.csv\")"
   ]
  },
  {
   "cell_type": "code",
   "execution_count": 32,
   "metadata": {},
   "outputs": [
    {
     "data": {
      "text/html": [
       "<i>Table length=10716</i>\n",
       "<table id=\"table2278689489872\" class=\"table-striped table-bordered table-condensed\">\n",
       "<thead><tr><th>ZTF_Name</th><th>Version</th><th>subject_ids</th><th>Ia</th><th>Ia-norm</th><th>Ia-91T</th><th>Ia-91bg</th><th>Ia-csm</th><th>Ia-02cx</th><th>Ia-03fg</th><th>Ib</th><th>Ib-norm</th><th>IIb</th><th>Ibn</th><th>Ic</th><th>Ic-norm</th><th>Ic-BL</th><th>Ic-SLSN</th><th>II</th><th>II-norm</th><th>IIn</th><th>NotSN</th><th>AGN</th><th>Gal</th><th>LBV</th><th>M-star</th><th>QSO</th><th>C-star</th><th>TDE</th><th>NoMatch</th><th>rlap</th><th>z</th></tr></thead>\n",
       "<thead><tr><th>str64</th><th>str64</th><th>int32</th><th>int32</th><th>int32</th><th>int32</th><th>int32</th><th>int32</th><th>int32</th><th>int32</th><th>int32</th><th>int32</th><th>int32</th><th>int32</th><th>int32</th><th>int32</th><th>int32</th><th>int32</th><th>int32</th><th>int32</th><th>int32</th><th>int32</th><th>int32</th><th>int32</th><th>int32</th><th>int32</th><th>int32</th><th>int32</th><th>int32</th><th>int32</th><th>float32</th><th>float32</th></tr></thead>\n",
       "<tr><td>AT2018hrg</td><td>AT2018hrg_20181103_P60_v1.ascii</td><td>53623564</td><td>0</td><td>0</td><td>0</td><td>0</td><td>0</td><td>0</td><td>0</td><td>0</td><td>0</td><td>1</td><td>0</td><td>0</td><td>0</td><td>0</td><td>0</td><td>0</td><td>0</td><td>0</td><td>0</td><td>0</td><td>0</td><td>4</td><td>0</td><td>0</td><td>0</td><td>0</td><td>0</td><td>5.06</td><td>-0.0005</td></tr>\n",
       "<tr><td>SN2017iuk</td><td>SN2017iuk_20181204_Keck1_v1.ascii</td><td>53623565</td><td>0</td><td>0</td><td>0</td><td>0</td><td>0</td><td>0</td><td>0</td><td>0</td><td>0</td><td>0</td><td>0</td><td>0</td><td>0</td><td>0</td><td>0</td><td>0</td><td>0</td><td>0</td><td>0</td><td>0</td><td>8</td><td>0</td><td>0</td><td>0</td><td>0</td><td>0</td><td>0</td><td>5.66</td><td>0.0378</td></tr>\n",
       "<tr><td>ZTF17aaajnki</td><td>ZTF17aaajnki_20180320_P60_v1.ascii</td><td>53623566</td><td>0</td><td>0</td><td>0</td><td>0</td><td>0</td><td>0</td><td>0</td><td>0</td><td>0</td><td>0</td><td>0</td><td>0</td><td>0</td><td>0</td><td>0</td><td>0</td><td>0</td><td>0</td><td>0</td><td>0</td><td>9</td><td>0</td><td>0</td><td>0</td><td>0</td><td>0</td><td>0</td><td>17.99</td><td>-0.0</td></tr>\n",
       "<tr><td>ZTF17aaajnki</td><td>ZTF17aaajnki_20180320_P60_v2.ascii</td><td>53623567</td><td>0</td><td>0</td><td>0</td><td>0</td><td>0</td><td>0</td><td>0</td><td>0</td><td>0</td><td>0</td><td>0</td><td>0</td><td>0</td><td>0</td><td>0</td><td>0</td><td>0</td><td>0</td><td>0</td><td>0</td><td>12</td><td>0</td><td>0</td><td>0</td><td>0</td><td>0</td><td>0</td><td>18.27</td><td>-0.0004</td></tr>\n",
       "<tr><td>ZTF17aaaobyl</td><td>ZTF17aaaobyl_20180826_P60_v2.ascii</td><td>53623568</td><td>0</td><td>0</td><td>0</td><td>0</td><td>0</td><td>0</td><td>0</td><td>0</td><td>0</td><td>0</td><td>0</td><td>0</td><td>0</td><td>0</td><td>0</td><td>0</td><td>0</td><td>0</td><td>0</td><td>1</td><td>6</td><td>0</td><td>0</td><td>0</td><td>0</td><td>0</td><td>0</td><td>7.77</td><td>0.0021</td></tr>\n",
       "<tr><td>ZTF17aaapufz</td><td>ZTF17aaapufz_20190304_P200_v1.ascii</td><td>53623569</td><td>0</td><td>0</td><td>0</td><td>0</td><td>0</td><td>0</td><td>0</td><td>0</td><td>0</td><td>0</td><td>0</td><td>0</td><td>0</td><td>0</td><td>0</td><td>0</td><td>0</td><td>0</td><td>0</td><td>0</td><td>10</td><td>0</td><td>0</td><td>0</td><td>0</td><td>0</td><td>0</td><td>28.52</td><td>0.0025</td></tr>\n",
       "<tr><td>ZTF17aaaukqn</td><td>ZTF17aaaukqn_20180904_P60_v1.ascii</td><td>53623570</td><td>0</td><td>0</td><td>0</td><td>0</td><td>0</td><td>0</td><td>0</td><td>0</td><td>0</td><td>0</td><td>0</td><td>0</td><td>0</td><td>7</td><td>0</td><td>0</td><td>0</td><td>0</td><td>0</td><td>0</td><td>0</td><td>0</td><td>0</td><td>0</td><td>0</td><td>0</td><td>0</td><td>6.95</td><td>0.3262</td></tr>\n",
       "<tr><td>ZTF17aaawgkc</td><td>ZTF17aaawgkc_20180822_P60_v1.ascii</td><td>53623571</td><td>0</td><td>0</td><td>0</td><td>0</td><td>0</td><td>0</td><td>0</td><td>0</td><td>1</td><td>0</td><td>0</td><td>0</td><td>0</td><td>0</td><td>0</td><td>0</td><td>0</td><td>0</td><td>0</td><td>0</td><td>0</td><td>0</td><td>0</td><td>0</td><td>0</td><td>0</td><td>0</td><td>5.24</td><td>0.2808</td></tr>\n",
       "<tr><td>ZTF17aaayjzy</td><td>ZTF17aaayjzy_20191214_P60_v1.ascii</td><td>53623572</td><td>0</td><td>0</td><td>0</td><td>0</td><td>0</td><td>0</td><td>0</td><td>0</td><td>0</td><td>0</td><td>0</td><td>0</td><td>0</td><td>0</td><td>0</td><td>0</td><td>0</td><td>0</td><td>0</td><td>1</td><td>7</td><td>0</td><td>0</td><td>0</td><td>0</td><td>0</td><td>0</td><td>20.67</td><td>0.0479</td></tr>\n",
       "<tr><td>ZTF17aaazdba</td><td>ZTF17aaazdba_20190224_P60_v1.ascii</td><td>53623573</td><td>0</td><td>0</td><td>0</td><td>0</td><td>0</td><td>2</td><td>0</td><td>0</td><td>0</td><td>0</td><td>0</td><td>0</td><td>0</td><td>0</td><td>0</td><td>0</td><td>0</td><td>0</td><td>0</td><td>0</td><td>0</td><td>0</td><td>0</td><td>0</td><td>0</td><td>0</td><td>0</td><td>6.13</td><td>0.0401</td></tr>\n",
       "<tr><td>...</td><td>...</td><td>...</td><td>...</td><td>...</td><td>...</td><td>...</td><td>...</td><td>...</td><td>...</td><td>...</td><td>...</td><td>...</td><td>...</td><td>...</td><td>...</td><td>...</td><td>...</td><td>...</td><td>...</td><td>...</td><td>...</td><td>...</td><td>...</td><td>...</td><td>...</td><td>...</td><td>...</td><td>...</td><td>...</td><td>...</td><td>...</td></tr>\n",
       "<tr><td>ZTF21aayokph</td><td>ZTF21aayokph_20210505_GS_v5.ascii</td><td>63330666</td><td>0</td><td>2</td><td>0</td><td>0</td><td>0</td><td>0</td><td>0</td><td>0</td><td>0</td><td>1</td><td>0</td><td>0</td><td>0</td><td>7</td><td>0</td><td>0</td><td>0</td><td>0</td><td>0</td><td>0</td><td>0</td><td>0</td><td>0</td><td>0</td><td>0</td><td>0</td><td>0</td><td>3.95</td><td>0.0475</td></tr>\n",
       "<tr><td>ZTF21aayokph</td><td>ZTF21aayokph_20210505_GS_v6.ascii</td><td>63330667</td><td>0</td><td>0</td><td>0</td><td>0</td><td>0</td><td>0</td><td>0</td><td>0</td><td>2</td><td>6</td><td>0</td><td>0</td><td>0</td><td>0</td><td>0</td><td>0</td><td>0</td><td>0</td><td>0</td><td>0</td><td>0</td><td>0</td><td>0</td><td>0</td><td>0</td><td>0</td><td>0</td><td>4.4</td><td>0.5974</td></tr>\n",
       "<tr><td>ZTF21aayrbnn</td><td>ZTF21aayrbnn_20210511_NOT_v2.ascii</td><td>63330668</td><td>0</td><td>1</td><td>8</td><td>0</td><td>0</td><td>0</td><td>2</td><td>0</td><td>0</td><td>0</td><td>0</td><td>0</td><td>0</td><td>0</td><td>0</td><td>0</td><td>0</td><td>0</td><td>0</td><td>0</td><td>0</td><td>0</td><td>0</td><td>0</td><td>0</td><td>0</td><td>0</td><td>11.29</td><td>0.0883</td></tr>\n",
       "<tr><td>ZTF21abaiono</td><td>ZTF21abaiono_20210513_Keck1_v1.ascii</td><td>63330669</td><td>0</td><td>0</td><td>0</td><td>0</td><td>0</td><td>0</td><td>0</td><td>0</td><td>0</td><td>0</td><td>0</td><td>0</td><td>0</td><td>8</td><td>3</td><td>0</td><td>0</td><td>0</td><td>0</td><td>0</td><td>0</td><td>0</td><td>0</td><td>0</td><td>0</td><td>0</td><td>0</td><td>6.01</td><td>0.152</td></tr>\n",
       "<tr><td>ZTF21abaiono</td><td>ZTF21abaiono_20210515_NOT_v1.ascii</td><td>63330670</td><td>0</td><td>0</td><td>0</td><td>0</td><td>0</td><td>0</td><td>0</td><td>0</td><td>0</td><td>0</td><td>0</td><td>0</td><td>0</td><td>1</td><td>0</td><td>0</td><td>0</td><td>0</td><td>0</td><td>0</td><td>0</td><td>0</td><td>0</td><td>0</td><td>0</td><td>8</td><td>0</td><td>6.23</td><td>0.0499</td></tr>\n",
       "<tr><td>ZTF21abaiono</td><td>ZTF21abaiono_20210518_NOT_v1.ascii</td><td>63330671</td><td>0</td><td>0</td><td>0</td><td>1</td><td>0</td><td>0</td><td>0</td><td>0</td><td>0</td><td>0</td><td>0</td><td>0</td><td>0</td><td>0</td><td>3</td><td>0</td><td>0</td><td>0</td><td>0</td><td>0</td><td>0</td><td>0</td><td>0</td><td>0</td><td>0</td><td>7</td><td>0</td><td>5.49</td><td>0.0499</td></tr>\n",
       "<tr><td>ZTF21abaiono</td><td>ZTF21abaiono_20210530_NOT_v1.ascii</td><td>63330672</td><td>0</td><td>0</td><td>1</td><td>0</td><td>0</td><td>0</td><td>0</td><td>0</td><td>0</td><td>0</td><td>0</td><td>0</td><td>0</td><td>0</td><td>10</td><td>0</td><td>0</td><td>0</td><td>0</td><td>0</td><td>0</td><td>0</td><td>0</td><td>0</td><td>0</td><td>0</td><td>0</td><td>8.85</td><td>0.0585</td></tr>\n",
       "<tr><td>ZTF21abcgnqn</td><td>ZTF21abcgnqn_20210612_P200_v1.ascii</td><td>63330673</td><td>0</td><td>0</td><td>0</td><td>0</td><td>0</td><td>0</td><td>0</td><td>0</td><td>0</td><td>0</td><td>0</td><td>0</td><td>0</td><td>0</td><td>6</td><td>0</td><td>2</td><td>0</td><td>0</td><td>0</td><td>0</td><td>0</td><td>0</td><td>0</td><td>0</td><td>0</td><td>0</td><td>11.38</td><td>0.8869</td></tr>\n",
       "<tr><td>ZTF21abcgnqn</td><td>ZTF21abcgnqn_20210612_P200_v2.ascii</td><td>63330674</td><td>0</td><td>2</td><td>0</td><td>0</td><td>0</td><td>0</td><td>0</td><td>0</td><td>0</td><td>0</td><td>0</td><td>0</td><td>0</td><td>0</td><td>0</td><td>0</td><td>0</td><td>0</td><td>0</td><td>0</td><td>6</td><td>0</td><td>1</td><td>0</td><td>0</td><td>0</td><td>0</td><td>6.26</td><td>0.0478</td></tr>\n",
       "<tr><td>ZTF21abdmevk</td><td>ZTF21abdmevk_20210610_NOT_v1.ascii</td><td>63330675</td><td>0</td><td>0</td><td>0</td><td>0</td><td>0</td><td>0</td><td>0</td><td>0</td><td>0</td><td>0</td><td>0</td><td>0</td><td>0</td><td>0</td><td>0</td><td>0</td><td>1</td><td>0</td><td>0</td><td>0</td><td>7</td><td>0</td><td>0</td><td>1</td><td>0</td><td>0</td><td>0</td><td>16.11</td><td>0.0287</td></tr>\n",
       "</table>"
      ],
      "text/plain": [
       "<Table length=10716>\n",
       "  ZTF_Name                 Version                ...   rlap     z   \n",
       "   str64                    str64                 ... float32 float32\n",
       "------------ ------------------------------------ ... ------- -------\n",
       "   AT2018hrg      AT2018hrg_20181103_P60_v1.ascii ...    5.06 -0.0005\n",
       "   SN2017iuk    SN2017iuk_20181204_Keck1_v1.ascii ...    5.66  0.0378\n",
       "ZTF17aaajnki   ZTF17aaajnki_20180320_P60_v1.ascii ...   17.99    -0.0\n",
       "ZTF17aaajnki   ZTF17aaajnki_20180320_P60_v2.ascii ...   18.27 -0.0004\n",
       "ZTF17aaaobyl   ZTF17aaaobyl_20180826_P60_v2.ascii ...    7.77  0.0021\n",
       "ZTF17aaapufz  ZTF17aaapufz_20190304_P200_v1.ascii ...   28.52  0.0025\n",
       "ZTF17aaaukqn   ZTF17aaaukqn_20180904_P60_v1.ascii ...    6.95  0.3262\n",
       "ZTF17aaawgkc   ZTF17aaawgkc_20180822_P60_v1.ascii ...    5.24  0.2808\n",
       "ZTF17aaayjzy   ZTF17aaayjzy_20191214_P60_v1.ascii ...   20.67  0.0479\n",
       "ZTF17aaazdba   ZTF17aaazdba_20190224_P60_v1.ascii ...    6.13  0.0401\n",
       "         ...                                  ... ...     ...     ...\n",
       "ZTF21aayokph    ZTF21aayokph_20210505_GS_v5.ascii ...    3.95  0.0475\n",
       "ZTF21aayokph    ZTF21aayokph_20210505_GS_v6.ascii ...     4.4  0.5974\n",
       "ZTF21aayrbnn   ZTF21aayrbnn_20210511_NOT_v2.ascii ...   11.29  0.0883\n",
       "ZTF21abaiono ZTF21abaiono_20210513_Keck1_v1.ascii ...    6.01   0.152\n",
       "ZTF21abaiono   ZTF21abaiono_20210515_NOT_v1.ascii ...    6.23  0.0499\n",
       "ZTF21abaiono   ZTF21abaiono_20210518_NOT_v1.ascii ...    5.49  0.0499\n",
       "ZTF21abaiono   ZTF21abaiono_20210530_NOT_v1.ascii ...    8.85  0.0585\n",
       "ZTF21abcgnqn  ZTF21abcgnqn_20210612_P200_v1.ascii ...   11.38  0.8869\n",
       "ZTF21abcgnqn  ZTF21abcgnqn_20210612_P200_v2.ascii ...    6.26  0.0478\n",
       "ZTF21abdmevk   ZTF21abdmevk_20210610_NOT_v1.ascii ...   16.11  0.0287"
      ]
     },
     "execution_count": 32,
     "metadata": {},
     "output_type": "execute_result"
    }
   ],
   "source": [
    "ResultsTable_Zooniverse_Classes"
   ]
  },
  {
   "cell_type": "code",
   "execution_count": 33,
   "metadata": {},
   "outputs": [],
   "source": [
    "final_rcf_table = Table.from_pandas(pd.read_hdf(r\"C:\\Users\\20xha\\Documents\\Caltech\\Research/final_rcf_table.h5\"))"
   ]
  },
  {
   "cell_type": "code",
   "execution_count": 34,
   "metadata": {},
   "outputs": [],
   "source": [
    "sample = Table.read(\"C:/Users/20xha/Documents/Caltech/Research/superfit/ZTFI_data/sample/SEDM_ML_sample.ascii\", format = \"ascii\")\n",
    "sample.rename_column('col1', 'ZTF_Name')\n",
    "sample.rename_column('col2', \"Class\")\n",
    "sample.rename_column('col3', \"redshift\")\n",
    "sample.rename_column('col8', \"Version\")"
   ]
  },
  {
   "cell_type": "code",
   "execution_count": 35,
   "metadata": {},
   "outputs": [],
   "source": [
    "tns_data = Table.from_pandas(pd.read_csv(\"tns_public_objects.csv\", low_memory=False))"
   ]
  },
  {
   "cell_type": "code",
   "execution_count": 36,
   "metadata": {},
   "outputs": [
    {
     "data": {
      "text/plain": [
       "828"
      ]
     },
     "execution_count": 36,
     "metadata": {},
     "output_type": "execute_result"
    }
   ],
   "source": [
    "len(np.where(sample[\"col9\"] == 2)[0])"
   ]
  },
  {
   "cell_type": "code",
   "execution_count": 37,
   "metadata": {},
   "outputs": [],
   "source": [
    "Joined_ZTF = astropy.table.join(ResultsTable_Zooniverse_Classes, sample)"
   ]
  },
  {
   "cell_type": "code",
   "execution_count": 38,
   "metadata": {},
   "outputs": [
    {
     "data": {
      "text/html": [
       "<i>Table length=10804</i>\n",
       "<table id=\"table2278689395328\" class=\"table-striped table-bordered table-condensed\">\n",
       "<thead><tr><th>ZTF_Name</th><th>Version</th><th>subject_ids</th><th>Ia</th><th>Ia-norm</th><th>Ia-91T</th><th>Ia-91bg</th><th>Ia-csm</th><th>Ia-02cx</th><th>Ia-03fg</th><th>Ib</th><th>Ib-norm</th><th>IIb</th><th>Ibn</th><th>Ic</th><th>Ic-norm</th><th>Ic-BL</th><th>Ic-SLSN</th><th>II</th><th>II-norm</th><th>IIn</th><th>NotSN</th><th>AGN</th><th>Gal</th><th>LBV</th><th>M-star</th><th>QSO</th><th>C-star</th><th>TDE</th><th>NoMatch</th><th>rlap</th><th>z</th><th>Class</th><th>redshift</th><th>col4</th><th>col5</th><th>col6</th><th>col7</th><th>col9</th></tr></thead>\n",
       "<thead><tr><th>str64</th><th>str64</th><th>int32</th><th>int32</th><th>int32</th><th>int32</th><th>int32</th><th>int32</th><th>int32</th><th>int32</th><th>int32</th><th>int32</th><th>int32</th><th>int32</th><th>int32</th><th>int32</th><th>int32</th><th>int32</th><th>int32</th><th>int32</th><th>int32</th><th>int32</th><th>int32</th><th>int32</th><th>int32</th><th>int32</th><th>int32</th><th>int32</th><th>int32</th><th>int32</th><th>float32</th><th>float32</th><th>str12</th><th>float64</th><th>float64</th><th>float64</th><th>float64</th><th>float64</th><th>int32</th></tr></thead>\n",
       "<tr><td>AT2018hrg</td><td>AT2018hrg_20181103_P60_v1.ascii</td><td>53623564</td><td>0</td><td>0</td><td>0</td><td>0</td><td>0</td><td>0</td><td>0</td><td>0</td><td>0</td><td>1</td><td>0</td><td>0</td><td>0</td><td>0</td><td>0</td><td>0</td><td>0</td><td>0</td><td>0</td><td>0</td><td>0</td><td>4</td><td>0</td><td>0</td><td>0</td><td>0</td><td>0</td><td>5.06</td><td>-0.0005</td><td>nova</td><td>-0.00016</td><td>-0.00016</td><td>2458425.5</td><td>nan</td><td>nan</td><td>2</td></tr>\n",
       "<tr><td>SN2017iuk</td><td>SN2017iuk_20181204_Keck1_v1.ascii</td><td>53623565</td><td>0</td><td>0</td><td>0</td><td>0</td><td>0</td><td>0</td><td>0</td><td>0</td><td>0</td><td>0</td><td>0</td><td>0</td><td>0</td><td>0</td><td>0</td><td>0</td><td>0</td><td>0</td><td>0</td><td>0</td><td>8</td><td>0</td><td>0</td><td>0</td><td>0</td><td>0</td><td>0</td><td>5.66</td><td>0.0378</td><td>Ic-BL</td><td>0.0368</td><td>0.0368</td><td>2458456.5</td><td>nan</td><td>nan</td><td>2</td></tr>\n",
       "<tr><td>ZTF17aaajnki</td><td>ZTF17aaajnki_20180320_P60_v1.ascii</td><td>53623566</td><td>0</td><td>0</td><td>0</td><td>0</td><td>0</td><td>0</td><td>0</td><td>0</td><td>0</td><td>0</td><td>0</td><td>0</td><td>0</td><td>0</td><td>0</td><td>0</td><td>0</td><td>0</td><td>0</td><td>0</td><td>9</td><td>0</td><td>0</td><td>0</td><td>0</td><td>0</td><td>0</td><td>17.99</td><td>-0.0</td><td>AGN</td><td>0.00106</td><td>nan</td><td>2458197.5</td><td>2459843.58</td><td>-1646.08</td><td>0</td></tr>\n",
       "<tr><td>ZTF17aaajnki</td><td>ZTF17aaajnki_20180320_P60_v2.ascii</td><td>53623567</td><td>0</td><td>0</td><td>0</td><td>0</td><td>0</td><td>0</td><td>0</td><td>0</td><td>0</td><td>0</td><td>0</td><td>0</td><td>0</td><td>0</td><td>0</td><td>0</td><td>0</td><td>0</td><td>0</td><td>0</td><td>12</td><td>0</td><td>0</td><td>0</td><td>0</td><td>0</td><td>0</td><td>18.27</td><td>-0.0004</td><td>AGN</td><td>0.00106</td><td>nan</td><td>2458197.5</td><td>2459843.58</td><td>-1646.08</td><td>0</td></tr>\n",
       "<tr><td>ZTF17aaaobyl</td><td>ZTF17aaaobyl_20180826_P60_v2.ascii</td><td>53623568</td><td>0</td><td>0</td><td>0</td><td>0</td><td>0</td><td>0</td><td>0</td><td>0</td><td>0</td><td>0</td><td>0</td><td>0</td><td>0</td><td>0</td><td>0</td><td>0</td><td>0</td><td>0</td><td>0</td><td>1</td><td>6</td><td>0</td><td>0</td><td>0</td><td>0</td><td>0</td><td>0</td><td>7.77</td><td>0.0021</td><td>CV</td><td>nan</td><td>nan</td><td>2458356.5</td><td>2460253.27</td><td>-1896.77</td><td>0</td></tr>\n",
       "<tr><td>ZTF17aaapufz</td><td>ZTF17aaapufz_20190304_P200_v1.ascii</td><td>53623569</td><td>0</td><td>0</td><td>0</td><td>0</td><td>0</td><td>0</td><td>0</td><td>0</td><td>0</td><td>0</td><td>0</td><td>0</td><td>0</td><td>0</td><td>0</td><td>0</td><td>0</td><td>0</td><td>0</td><td>0</td><td>10</td><td>0</td><td>0</td><td>0</td><td>0</td><td>0</td><td>0</td><td>28.52</td><td>0.0025</td><td>LBV</td><td>0.00261</td><td>nan</td><td>2458546.5</td><td>2460599.47</td><td>-2052.97</td><td>0</td></tr>\n",
       "<tr><td>ZTF17aaaukqn</td><td>ZTF17aaaukqn_20180904_P60_v1.ascii</td><td>53623570</td><td>0</td><td>0</td><td>0</td><td>0</td><td>0</td><td>0</td><td>0</td><td>0</td><td>0</td><td>0</td><td>0</td><td>0</td><td>0</td><td>7</td><td>0</td><td>0</td><td>0</td><td>0</td><td>0</td><td>0</td><td>0</td><td>0</td><td>0</td><td>0</td><td>0</td><td>0</td><td>0</td><td>6.95</td><td>0.3262</td><td>CV</td><td>0.0</td><td>nan</td><td>2458365.5</td><td>2459746.44</td><td>-1380.94</td><td>0</td></tr>\n",
       "<tr><td>ZTF17aaawgkc</td><td>ZTF17aaawgkc_20180822_P60_v1.ascii</td><td>53623571</td><td>0</td><td>0</td><td>0</td><td>0</td><td>0</td><td>0</td><td>0</td><td>0</td><td>1</td><td>0</td><td>0</td><td>0</td><td>0</td><td>0</td><td>0</td><td>0</td><td>0</td><td>0</td><td>0</td><td>0</td><td>0</td><td>0</td><td>0</td><td>0</td><td>0</td><td>0</td><td>0</td><td>5.24</td><td>0.2808</td><td>CV</td><td>nan</td><td>nan</td><td>2458352.5</td><td>2460425.38</td><td>-2072.88</td><td>0</td></tr>\n",
       "<tr><td>ZTF17aaayjzy</td><td>ZTF17aaayjzy_20191214_P60_v1.ascii</td><td>53623572</td><td>0</td><td>0</td><td>0</td><td>0</td><td>0</td><td>0</td><td>0</td><td>0</td><td>0</td><td>0</td><td>0</td><td>0</td><td>0</td><td>0</td><td>0</td><td>0</td><td>0</td><td>0</td><td>0</td><td>1</td><td>7</td><td>0</td><td>0</td><td>0</td><td>0</td><td>0</td><td>0</td><td>20.67</td><td>0.0479</td><td>AGN?</td><td>0.046</td><td>nan</td><td>2458831.5</td><td>2460211.16</td><td>-1379.66</td><td>0</td></tr>\n",
       "<tr><td>ZTF17aaazdba</td><td>ZTF17aaazdba_20190224_P60_v1.ascii</td><td>53623573</td><td>0</td><td>0</td><td>0</td><td>0</td><td>0</td><td>2</td><td>0</td><td>0</td><td>0</td><td>0</td><td>0</td><td>0</td><td>0</td><td>0</td><td>0</td><td>0</td><td>0</td><td>0</td><td>0</td><td>0</td><td>0</td><td>0</td><td>0</td><td>0</td><td>0</td><td>0</td><td>0</td><td>6.13</td><td>0.0401</td><td>TDE</td><td>0.022</td><td>nan</td><td>2458538.5</td><td>2459943.26</td><td>-1404.76</td><td>0</td></tr>\n",
       "<tr><td>...</td><td>...</td><td>...</td><td>...</td><td>...</td><td>...</td><td>...</td><td>...</td><td>...</td><td>...</td><td>...</td><td>...</td><td>...</td><td>...</td><td>...</td><td>...</td><td>...</td><td>...</td><td>...</td><td>...</td><td>...</td><td>...</td><td>...</td><td>...</td><td>...</td><td>...</td><td>...</td><td>...</td><td>...</td><td>...</td><td>...</td><td>...</td><td>...</td><td>...</td><td>...</td><td>...</td><td>...</td><td>...</td><td>...</td></tr>\n",
       "<tr><td>ZTF21aayokph</td><td>ZTF21aayokph_20210505_GS_v5.ascii</td><td>63330666</td><td>0</td><td>2</td><td>0</td><td>0</td><td>0</td><td>0</td><td>0</td><td>0</td><td>0</td><td>1</td><td>0</td><td>0</td><td>0</td><td>7</td><td>0</td><td>0</td><td>0</td><td>0</td><td>0</td><td>0</td><td>0</td><td>0</td><td>0</td><td>0</td><td>0</td><td>0</td><td>0</td><td>3.95</td><td>0.0475</td><td>afterglow</td><td>1.063</td><td>nan</td><td>2459339.5</td><td>2460720.26</td><td>-1380.76</td><td>0</td></tr>\n",
       "<tr><td>ZTF21aayokph</td><td>ZTF21aayokph_20210505_GS_v6.ascii</td><td>63330667</td><td>0</td><td>0</td><td>0</td><td>0</td><td>0</td><td>0</td><td>0</td><td>0</td><td>2</td><td>6</td><td>0</td><td>0</td><td>0</td><td>0</td><td>0</td><td>0</td><td>0</td><td>0</td><td>0</td><td>0</td><td>0</td><td>0</td><td>0</td><td>0</td><td>0</td><td>0</td><td>0</td><td>4.4</td><td>0.5974</td><td>afterglow</td><td>1.063</td><td>nan</td><td>2459339.5</td><td>2460720.26</td><td>-1380.76</td><td>0</td></tr>\n",
       "<tr><td>ZTF21aayrbnn</td><td>ZTF21aayrbnn_20210511_NOT_v2.ascii</td><td>63330668</td><td>0</td><td>1</td><td>8</td><td>0</td><td>0</td><td>0</td><td>2</td><td>0</td><td>0</td><td>0</td><td>0</td><td>0</td><td>0</td><td>0</td><td>0</td><td>0</td><td>0</td><td>0</td><td>0</td><td>0</td><td>0</td><td>0</td><td>0</td><td>0</td><td>0</td><td>0</td><td>0</td><td>11.29</td><td>0.0883</td><td>Ia</td><td>0.09</td><td>nan</td><td>2459345.5</td><td>2460740.46</td><td>-1394.96</td><td>0</td></tr>\n",
       "<tr><td>ZTF21abaiono</td><td>ZTF21abaiono_20210513_Keck1_v1.ascii</td><td>63330669</td><td>0</td><td>0</td><td>0</td><td>0</td><td>0</td><td>0</td><td>0</td><td>0</td><td>0</td><td>0</td><td>0</td><td>0</td><td>0</td><td>8</td><td>3</td><td>0</td><td>0</td><td>0</td><td>0</td><td>0</td><td>0</td><td>0</td><td>0</td><td>0</td><td>0</td><td>0</td><td>0</td><td>6.01</td><td>0.152</td><td>SLSN-I?</td><td>0.065</td><td>nan</td><td>2459347.5</td><td>2460732.21</td><td>-1384.71</td><td>0</td></tr>\n",
       "<tr><td>ZTF21abaiono</td><td>ZTF21abaiono_20210515_NOT_v1.ascii</td><td>63330670</td><td>0</td><td>0</td><td>0</td><td>0</td><td>0</td><td>0</td><td>0</td><td>0</td><td>0</td><td>0</td><td>0</td><td>0</td><td>0</td><td>1</td><td>0</td><td>0</td><td>0</td><td>0</td><td>0</td><td>0</td><td>0</td><td>0</td><td>0</td><td>0</td><td>0</td><td>8</td><td>0</td><td>6.23</td><td>0.0499</td><td>SLSN-I?</td><td>0.065</td><td>nan</td><td>2459349.5</td><td>2460732.21</td><td>-1382.71</td><td>0</td></tr>\n",
       "<tr><td>ZTF21abaiono</td><td>ZTF21abaiono_20210518_NOT_v1.ascii</td><td>63330671</td><td>0</td><td>0</td><td>0</td><td>1</td><td>0</td><td>0</td><td>0</td><td>0</td><td>0</td><td>0</td><td>0</td><td>0</td><td>0</td><td>0</td><td>3</td><td>0</td><td>0</td><td>0</td><td>0</td><td>0</td><td>0</td><td>0</td><td>0</td><td>0</td><td>0</td><td>7</td><td>0</td><td>5.49</td><td>0.0499</td><td>SLSN-I?</td><td>0.065</td><td>nan</td><td>2459352.5</td><td>2460732.21</td><td>-1379.71</td><td>0</td></tr>\n",
       "<tr><td>ZTF21abaiono</td><td>ZTF21abaiono_20210530_NOT_v1.ascii</td><td>63330672</td><td>0</td><td>0</td><td>1</td><td>0</td><td>0</td><td>0</td><td>0</td><td>0</td><td>0</td><td>0</td><td>0</td><td>0</td><td>0</td><td>0</td><td>10</td><td>0</td><td>0</td><td>0</td><td>0</td><td>0</td><td>0</td><td>0</td><td>0</td><td>0</td><td>0</td><td>0</td><td>0</td><td>8.85</td><td>0.0585</td><td>SLSN-I?</td><td>0.065</td><td>nan</td><td>2459364.5</td><td>2460732.21</td><td>-1367.71</td><td>0</td></tr>\n",
       "<tr><td>ZTF21abcgnqn</td><td>ZTF21abcgnqn_20210612_P200_v1.ascii</td><td>63330673</td><td>0</td><td>0</td><td>0</td><td>0</td><td>0</td><td>0</td><td>0</td><td>0</td><td>0</td><td>0</td><td>0</td><td>0</td><td>0</td><td>0</td><td>6</td><td>0</td><td>2</td><td>0</td><td>0</td><td>0</td><td>0</td><td>0</td><td>0</td><td>0</td><td>0</td><td>0</td><td>0</td><td>11.38</td><td>0.8869</td><td>-</td><td>0.04687</td><td>nan</td><td>2459377.5</td><td>2460762.31</td><td>-1384.81</td><td>0</td></tr>\n",
       "<tr><td>ZTF21abcgnqn</td><td>ZTF21abcgnqn_20210612_P200_v2.ascii</td><td>63330674</td><td>0</td><td>2</td><td>0</td><td>0</td><td>0</td><td>0</td><td>0</td><td>0</td><td>0</td><td>0</td><td>0</td><td>0</td><td>0</td><td>0</td><td>0</td><td>0</td><td>0</td><td>0</td><td>0</td><td>0</td><td>6</td><td>0</td><td>1</td><td>0</td><td>0</td><td>0</td><td>0</td><td>6.26</td><td>0.0478</td><td>-</td><td>0.04687</td><td>nan</td><td>2459377.5</td><td>2460762.31</td><td>-1384.81</td><td>0</td></tr>\n",
       "<tr><td>ZTF21abdmevk</td><td>ZTF21abdmevk_20210610_NOT_v1.ascii</td><td>63330675</td><td>0</td><td>0</td><td>0</td><td>0</td><td>0</td><td>0</td><td>0</td><td>0</td><td>0</td><td>0</td><td>0</td><td>0</td><td>0</td><td>0</td><td>0</td><td>0</td><td>1</td><td>0</td><td>0</td><td>0</td><td>7</td><td>0</td><td>0</td><td>1</td><td>0</td><td>0</td><td>0</td><td>16.11</td><td>0.0287</td><td>-</td><td>0.02833</td><td>nan</td><td>2459375.5</td><td>2460756.4</td><td>-1380.9</td><td>0</td></tr>\n",
       "</table>"
      ],
      "text/plain": [
       "<Table length=10804>\n",
       "  ZTF_Name                 Version                subject_ids ...   col7    col9\n",
       "   str64                    str64                    int32    ... float64  int32\n",
       "------------ ------------------------------------ ----------- ... -------- -----\n",
       "   AT2018hrg      AT2018hrg_20181103_P60_v1.ascii    53623564 ...      nan     2\n",
       "   SN2017iuk    SN2017iuk_20181204_Keck1_v1.ascii    53623565 ...      nan     2\n",
       "ZTF17aaajnki   ZTF17aaajnki_20180320_P60_v1.ascii    53623566 ... -1646.08     0\n",
       "ZTF17aaajnki   ZTF17aaajnki_20180320_P60_v2.ascii    53623567 ... -1646.08     0\n",
       "ZTF17aaaobyl   ZTF17aaaobyl_20180826_P60_v2.ascii    53623568 ... -1896.77     0\n",
       "ZTF17aaapufz  ZTF17aaapufz_20190304_P200_v1.ascii    53623569 ... -2052.97     0\n",
       "ZTF17aaaukqn   ZTF17aaaukqn_20180904_P60_v1.ascii    53623570 ... -1380.94     0\n",
       "ZTF17aaawgkc   ZTF17aaawgkc_20180822_P60_v1.ascii    53623571 ... -2072.88     0\n",
       "ZTF17aaayjzy   ZTF17aaayjzy_20191214_P60_v1.ascii    53623572 ... -1379.66     0\n",
       "ZTF17aaazdba   ZTF17aaazdba_20190224_P60_v1.ascii    53623573 ... -1404.76     0\n",
       "         ...                                  ...         ... ...      ...   ...\n",
       "ZTF21aayokph    ZTF21aayokph_20210505_GS_v5.ascii    63330666 ... -1380.76     0\n",
       "ZTF21aayokph    ZTF21aayokph_20210505_GS_v6.ascii    63330667 ... -1380.76     0\n",
       "ZTF21aayrbnn   ZTF21aayrbnn_20210511_NOT_v2.ascii    63330668 ... -1394.96     0\n",
       "ZTF21abaiono ZTF21abaiono_20210513_Keck1_v1.ascii    63330669 ... -1384.71     0\n",
       "ZTF21abaiono   ZTF21abaiono_20210515_NOT_v1.ascii    63330670 ... -1382.71     0\n",
       "ZTF21abaiono   ZTF21abaiono_20210518_NOT_v1.ascii    63330671 ... -1379.71     0\n",
       "ZTF21abaiono   ZTF21abaiono_20210530_NOT_v1.ascii    63330672 ... -1367.71     0\n",
       "ZTF21abcgnqn  ZTF21abcgnqn_20210612_P200_v1.ascii    63330673 ... -1384.81     0\n",
       "ZTF21abcgnqn  ZTF21abcgnqn_20210612_P200_v2.ascii    63330674 ... -1384.81     0\n",
       "ZTF21abdmevk   ZTF21abdmevk_20210610_NOT_v1.ascii    63330675 ...  -1380.9     0"
      ]
     },
     "execution_count": 38,
     "metadata": {},
     "output_type": "execute_result"
    }
   ],
   "source": [
    "Joined_ZTF"
   ]
  },
  {
   "cell_type": "code",
   "execution_count": 39,
   "metadata": {},
   "outputs": [],
   "source": [
    "types = ['Ia', 'Ia-norm', 'Ia-91T', 'Ia-91bg', 'Ia-csm', 'Ia-02cx', 'Ia-03fg',\n",
    "                           'Ib', 'Ib-norm', 'IIb', 'Ibn', 'Ic', 'Ic-norm', 'Ic-BL', 'Ic-SLSN', 'II', 'II-norm', 'IIn',\n",
    "                           'NotSN', 'AGN', 'Gal', 'LBV', 'M-star', 'QSO', 'C-star', 'TDE', \"NoMatch\"]"
   ]
  },
  {
   "cell_type": "code",
   "execution_count": 40,
   "metadata": {},
   "outputs": [],
   "source": [
    "cutoffs = [6,7,8,9,10,11]\n",
    "rlap_cutoffs = [0, 5, 10, 15, 20]"
   ]
  },
  {
   "cell_type": "code",
   "execution_count": 41,
   "metadata": {},
   "outputs": [
    {
     "data": {
      "text/html": [
       "<i>Table length=1</i>\n",
       "<table id=\"table2285093663072\" class=\"table-striped table-bordered table-condensed\">\n",
       "<thead><tr><th>ZTF_Name</th><th>Version</th><th>subject_ids</th><th>Ia</th><th>Ia-norm</th><th>Ia-91T</th><th>Ia-91bg</th><th>Ia-csm</th><th>Ia-02cx</th><th>Ia-03fg</th><th>Ib</th><th>Ib-norm</th><th>IIb</th><th>Ibn</th><th>Ic</th><th>Ic-norm</th><th>Ic-BL</th><th>Ic-SLSN</th><th>II</th><th>II-norm</th><th>IIn</th><th>NotSN</th><th>AGN</th><th>Gal</th><th>LBV</th><th>M-star</th><th>QSO</th><th>C-star</th><th>TDE</th><th>NoMatch</th><th>rlap</th><th>z</th><th>Class</th><th>redshift</th><th>col4</th><th>col5</th><th>col6</th><th>col7</th><th>col9</th></tr></thead>\n",
       "<thead><tr><th>str64</th><th>str64</th><th>int32</th><th>int32</th><th>int32</th><th>int32</th><th>int32</th><th>int32</th><th>int32</th><th>int32</th><th>int32</th><th>int32</th><th>int32</th><th>int32</th><th>int32</th><th>int32</th><th>int32</th><th>int32</th><th>int32</th><th>int32</th><th>int32</th><th>int32</th><th>int32</th><th>int32</th><th>int32</th><th>int32</th><th>int32</th><th>int32</th><th>int32</th><th>int32</th><th>float32</th><th>float32</th><th>str12</th><th>float64</th><th>float64</th><th>float64</th><th>float64</th><th>float64</th><th>int32</th></tr></thead>\n",
       "<tr><td>ZTF18aaegvyd</td><td>ZTF18aaegvyd_20190625_P60_v1.ascii</td><td>53623655</td><td>0</td><td>1</td><td>0</td><td>0</td><td>0</td><td>0</td><td>0</td><td>0</td><td>1</td><td>0</td><td>0</td><td>0</td><td>3</td><td>0</td><td>0</td><td>0</td><td>3</td><td>0</td><td>0</td><td>0</td><td>0</td><td>0</td><td>0</td><td>0</td><td>0</td><td>0</td><td>0</td><td>5.18</td><td>0.0281</td><td>II</td><td>0.0235</td><td>nan</td><td>2458659.5</td><td>2460020.24</td><td>-1360.74</td><td>0</td></tr>\n",
       "</table>"
      ],
      "text/plain": [
       "<Table length=1>\n",
       "  ZTF_Name                Version               subject_ids ...   col7    col9\n",
       "   str64                   str64                   int32    ... float64  int32\n",
       "------------ ---------------------------------- ----------- ... -------- -----\n",
       "ZTF18aaegvyd ZTF18aaegvyd_20190625_P60_v1.ascii    53623655 ... -1360.74     0"
      ]
     },
     "execution_count": 41,
     "metadata": {},
     "output_type": "execute_result"
    }
   ],
   "source": [
    "Joined_ZTF[np.where(Joined_ZTF[\"Version\"] == \"ZTF18aaegvyd_20190625_P60_v1.ascii\")]"
   ]
  },
  {
   "cell_type": "code",
   "execution_count": 81,
   "metadata": {},
   "outputs": [],
   "source": [
    "sample_2018 = []\n",
    "counter = 0\n",
    "for i in Joined_ZTF:\n",
    "    if(\"ZTF18\" in i[\"ZTF_Name\"]):\n",
    "        sample_2018.append(counter)\n",
    "    counter += 1"
   ]
  },
  {
   "cell_type": "code",
   "execution_count": 92,
   "metadata": {},
   "outputs": [],
   "source": [
    "all_2018 = Joined_ZTF[sample_2018]"
   ]
  },
  {
   "cell_type": "code",
   "execution_count": 42,
   "metadata": {},
   "outputs": [],
   "source": [
    "Classes_Final = Table(\n",
    "                names=(\"ZTF_Name\", \"Version\", \"Zooniverse_c_broad\", \"agreement_broad\", \"Zooniverse_c\", \"rlap\", \"agreement\", \"z\"\n",
    "                ),\n",
    "                meta={\"name\": \"Spectrum Results after Zooniverse\"},\n",
    "                dtype=(\"U64\", \"U64\", \"U64\", \"int32\", \"U64\", \"float32\", \"int32\", \"float32\"\n",
    "                      )\n",
    "                )\n",
    "for line in Joined_ZTF:\n",
    "    row = []\n",
    "    row.append(line[\"ZTF_Name\"])\n",
    "    row.append(line[\"Version\"])\n",
    "    best = []\n",
    "    best_num = []\n",
    "    broad_types = [\"Ia\", \"II\", \"Ib\", \"Ic\"]\n",
    "    broad_type_total = [0,0,0,0]\n",
    "    for i in types:\n",
    "        if(line[i] >= 0):\n",
    "            best.append(i)\n",
    "            votes = line[i]\n",
    "            best_num.append(votes)\n",
    "    for i in range(len(best)):\n",
    "        for j in range(len(broad_types)):\n",
    "            if(broad_types[j] in best[i]):\n",
    "                broad_type_total[j] += best_num[i]\n",
    "    if(np.max(broad_type_total) < np.max(best_num)):\n",
    "        row.append(best[np.argmax(best_num)])\n",
    "        row.append(np.max(best_num))\n",
    "    else:\n",
    "        row.append(broad_types[np.argmax(broad_type_total)])\n",
    "        row.append(np.max(broad_type_total))\n",
    "    if(len(best) != 0):\n",
    "        row.append(best[np.argmax(best_num)])\n",
    "        row.append(line[\"rlap\"])\n",
    "        row.append(np.max(best_num))\n",
    "        row.append(line[\"z\"])\n",
    "        Classes_Final.add_row(row)"
   ]
  },
  {
   "cell_type": "code",
   "execution_count": 43,
   "metadata": {},
   "outputs": [],
   "source": [
    "Classes_Final.to_pandas().to_csv(\"zooniverse_results_ZTFI.csv\", index = False)"
   ]
  },
  {
   "cell_type": "code",
   "execution_count": 44,
   "metadata": {},
   "outputs": [],
   "source": [
    "superfit_results = Table.from_pandas(pd.read_csv(r\"C:\\Users\\20xha\\Documents\\Caltech\\Research\\superfit\\superfit\\superfit_classes_ZTFI.csv\"))"
   ]
  },
  {
   "cell_type": "code",
   "execution_count": 45,
   "metadata": {},
   "outputs": [
    {
     "data": {
      "text/plain": [
       "652"
      ]
     },
     "execution_count": 45,
     "metadata": {},
     "output_type": "execute_result"
    }
   ],
   "source": [
    "np.sum(superfit_results[\"Phase\"] > 50000)"
   ]
  },
  {
   "cell_type": "code",
   "execution_count": 46,
   "metadata": {},
   "outputs": [
    {
     "data": {
      "text/plain": [
       "5117"
      ]
     },
     "execution_count": 46,
     "metadata": {},
     "output_type": "execute_result"
    }
   ],
   "source": [
    "len(np.unique(Joined_ZTF[\"ZTF_Name\"]))"
   ]
  },
  {
   "cell_type": "code",
   "execution_count": 47,
   "metadata": {},
   "outputs": [
    {
     "name": "stderr",
     "output_type": "stream",
     "text": [
      "C:\\Users\\20xha\\anaconda3\\lib\\site-packages\\IPython\\core\\interactiveshell.py:3418: TableReplaceWarning: converted column 'agreement_broad' from integer to float\n",
      "  exec(code_obj, self.user_global_ns, self.user_ns)\n",
      "C:\\Users\\20xha\\anaconda3\\lib\\site-packages\\IPython\\core\\interactiveshell.py:3418: TableReplaceWarning: converted column 'agreement' from integer to float\n",
      "  exec(code_obj, self.user_global_ns, self.user_ns)\n"
     ]
    }
   ],
   "source": [
    "combined = astropy.table.join(superfit_results, Classes_Final, keys = [\"Version\"])\n",
    "outer = astropy.table.join(superfit_results, Classes_Final, keys = [\"Version\"], join_type = \"outer\").to_pandas()"
   ]
  },
  {
   "cell_type": "code",
   "execution_count": 48,
   "metadata": {},
   "outputs": [],
   "source": [
    "missing = Table.from_pandas(outer[outer['Superfit_c'].isna()])"
   ]
  },
  {
   "cell_type": "code",
   "execution_count": 49,
   "metadata": {},
   "outputs": [],
   "source": [
    "missing.to_pandas().to_csv(\"missing.csv\", index = False)"
   ]
  },
  {
   "cell_type": "code",
   "execution_count": 50,
   "metadata": {},
   "outputs": [
    {
     "name": "stdout",
     "output_type": "stream",
     "text": [
      "10682\n",
      "10619\n"
     ]
    }
   ],
   "source": [
    "print(len(np.unique(Classes_Final[\"Version\"])))\n",
    "print(len(np.unique(superfit_results[\"Version\"])))"
   ]
  },
  {
   "cell_type": "code",
   "execution_count": 51,
   "metadata": {},
   "outputs": [
    {
     "data": {
      "text/plain": [
       "10619"
      ]
     },
     "execution_count": 51,
     "metadata": {},
     "output_type": "execute_result"
    }
   ],
   "source": [
    "len(np.unique(superfit_results[\"Version\"]))"
   ]
  },
  {
   "cell_type": "code",
   "execution_count": 52,
   "metadata": {},
   "outputs": [],
   "source": [
    "names = np.unique(combined[\"ZTF_Name\"])"
   ]
  },
  {
   "cell_type": "code",
   "execution_count": 53,
   "metadata": {},
   "outputs": [
    {
     "name": "stdout",
     "output_type": "stream",
     "text": [
      "5095\n",
      "5117\n"
     ]
    }
   ],
   "source": [
    "print(len(names))\n",
    "print(len(np.unique(Classes_Final[\"ZTF_Name\"])))"
   ]
  },
  {
   "cell_type": "code",
   "execution_count": 54,
   "metadata": {},
   "outputs": [
    {
     "data": {
      "text/html": [
       "<i>Table length=1</i>\n",
       "<table id=\"table2285093691152\" class=\"table-striped table-bordered table-condensed\">\n",
       "<thead><tr><th>ZTF_Name</th><th>Class</th><th>redshift</th><th>col4</th><th>col5</th><th>col6</th><th>col7</th><th>Version</th><th>col9</th></tr></thead>\n",
       "<thead><tr><th>str12</th><th>str12</th><th>float64</th><th>float64</th><th>float64</th><th>float64</th><th>float64</th><th>str43</th><th>int32</th></tr></thead>\n",
       "<tr><td>ZTF20aawmcrd</td><td>NaN</td><td>0.02365</td><td>0.02365</td><td>2458996.5</td><td>2458962.78</td><td>33.72</td><td>ZTF20aawmcrd_20200527_Lick_3-m_v1.ascii</td><td>2</td></tr>\n",
       "</table>"
      ],
      "text/plain": [
       "<Table length=1>\n",
       "  ZTF_Name   Class redshift ...                 Version                  col9\n",
       "   str12     str12 float64  ...                  str43                  int32\n",
       "------------ ----- -------- ... --------------------------------------- -----\n",
       "ZTF20aawmcrd   NaN  0.02365 ... ZTF20aawmcrd_20200527_Lick_3-m_v1.ascii     2"
      ]
     },
     "execution_count": 54,
     "metadata": {},
     "output_type": "execute_result"
    }
   ],
   "source": [
    "sample[np.where(sample[\"ZTF_Name\"] == \"ZTF20aawmcrd\")]"
   ]
  },
  {
   "cell_type": "code",
   "execution_count": 55,
   "metadata": {},
   "outputs": [
    {
     "data": {
      "text/plain": [
       "558"
      ]
     },
     "execution_count": 55,
     "metadata": {},
     "output_type": "execute_result"
    }
   ],
   "source": [
    "counter = 0\n",
    "\n",
    "ZTFI_typeII_IDS = []\n",
    "for name in names:\n",
    "    loc = np.where(combined[\"ZTF_Name\"] == name)\n",
    "    isII = False\n",
    "    for j in combined[loc]:\n",
    "        if(j[\"agreement_broad\"] >= 7):\n",
    "            superfitII = \"II\" in j[\"Superfit_c\"]\n",
    "            zooniverseII = \"II\" in j[\"Zooniverse_c_broad\"]\n",
    "            if(superfitII and zooniverseII):\n",
    "                isII = True\n",
    "    if(isII):\n",
    "        ZTFI_typeII_IDS.append(j[\"ZTF_Name\"])\n",
    "        \n",
    "    #if(isII):\n",
    "        #print(combined[loc][\"ZTF_Name\", \"Superfit_c\", \"Zooniverse_c\"])\n",
    "    counter += isII\n",
    "counter"
   ]
  },
  {
   "cell_type": "code",
   "execution_count": 56,
   "metadata": {},
   "outputs": [],
   "source": [
    "ZTFI_typeII_IDS_norcf = []\n",
    "for i in ZTFI_typeII_IDS:\n",
    "    if(i not in final_rcf_table[\"ZTF_Name\"]):\n",
    "        ZTFI_typeII_IDS_norcf.append(i)"
   ]
  },
  {
   "cell_type": "code",
   "execution_count": 57,
   "metadata": {},
   "outputs": [
    {
     "data": {
      "text/plain": [
       "468"
      ]
     },
     "execution_count": 57,
     "metadata": {},
     "output_type": "execute_result"
    }
   ],
   "source": [
    "len(ZTFI_typeII_IDS_norcf)"
   ]
  },
  {
   "cell_type": "code",
   "execution_count": null,
   "metadata": {},
   "outputs": [],
   "source": []
  },
  {
   "cell_type": "code",
   "execution_count": 58,
   "metadata": {},
   "outputs": [
    {
     "data": {
      "text/html": [
       "&lt;Column name=&apos;c_snid_1&apos; dtype=&apos;str7&apos; length=21&gt;\n",
       "<table>\n",
       "<tr><td>AGN</td></tr>\n",
       "<tr><td>C-star</td></tr>\n",
       "<tr><td>Gal</td></tr>\n",
       "<tr><td>II-norm</td></tr>\n",
       "<tr><td>IIb</td></tr>\n",
       "<tr><td>IIn</td></tr>\n",
       "<tr><td>Ia-02cx</td></tr>\n",
       "<tr><td>Ia-03fg</td></tr>\n",
       "<tr><td>Ia-91T</td></tr>\n",
       "<tr><td>Ia-91bg</td></tr>\n",
       "<tr><td>Ia-csm</td></tr>\n",
       "<tr><td>Ia-norm</td></tr>\n",
       "<tr><td>Ib-norm</td></tr>\n",
       "<tr><td>Ibn</td></tr>\n",
       "<tr><td>Ic-BL</td></tr>\n",
       "<tr><td>Ic-SLSN</td></tr>\n",
       "<tr><td>Ic-norm</td></tr>\n",
       "<tr><td>LBV</td></tr>\n",
       "<tr><td>M-star</td></tr>\n",
       "<tr><td>QSO</td></tr>\n",
       "<tr><td>TDE</td></tr>\n",
       "</table>"
      ],
      "text/plain": [
       "<Column name='c_snid_1' dtype='str7' length=21>\n",
       "    AGN\n",
       " C-star\n",
       "    Gal\n",
       "II-norm\n",
       "    IIb\n",
       "    IIn\n",
       "Ia-02cx\n",
       "Ia-03fg\n",
       " Ia-91T\n",
       "Ia-91bg\n",
       " Ia-csm\n",
       "Ia-norm\n",
       "Ib-norm\n",
       "    Ibn\n",
       "  Ic-BL\n",
       "Ic-SLSN\n",
       "Ic-norm\n",
       "    LBV\n",
       " M-star\n",
       "    QSO\n",
       "    TDE"
      ]
     },
     "execution_count": 58,
     "metadata": {},
     "output_type": "execute_result"
    }
   ],
   "source": [
    "np.unique(snidoutput[\"c_snid_1\"])"
   ]
  },
  {
   "cell_type": "code",
   "execution_count": 119,
   "metadata": {},
   "outputs": [
    {
     "name": "stdout",
     "output_type": "stream",
     "text": [
      "356\n"
     ]
    }
   ],
   "source": [
    "# 7.9 and 5\n",
    "TypeII_Information = Table(\n",
    "                        names=(\"ZTF_Name\", \"spectra_file\", \"sn_type\", \"superfit_sn_type\", \"zooniverse_sn_type\", \"z_sn\", \"in_rcfI\", \"sn_type_rcfI\", \"in_marshall\", \"sn_type_marshall\"\n",
    "                        ),\n",
    "                        meta={\"name\": \"Final ZTF-I Type II Table\"},\n",
    "                        dtype=(\"U64\", \"U64\", \"U64\", \"U64\", \"U64\", \"float32\", \"bool\", \"U64\", \"bool\", \"U64\"\n",
    "                              )\n",
    "                        )\n",
    "for i in np.unique(combined[\"ZTF_Name\"]):\n",
    "    data = combined[np.where(combined[\"ZTF_Name\"] == i)]\n",
    "    index = []\n",
    "    counter = 0\n",
    "    for j in data:\n",
    "        superfitII = \"II\" in j[\"Superfit_c\"]\n",
    "        zooniverseII = \"II\" in j[\"Zooniverse_c_broad\"]\n",
    "        if(superfitII and zooniverseII):\n",
    "            index.append(counter)\n",
    "        counter += 1\n",
    "    if(len(index) > 0):\n",
    "        agreement = data[index]\n",
    "        agreement_max = np.max(agreement[\"agreement\"])\n",
    "        best = agreement[np.where(agreement[\"agreement\"] == agreement_max)]\n",
    "        if(len(best) > 1):\n",
    "            best = best[np.where(best[\"rlap\"] == np.max(best[\"rlap\"]))]\n",
    "            if(len(best) > 1):\n",
    "                best = best[0]\n",
    "        snid_loc = np.where(best[\"Version\"] == snidoutput[\"Version\"])\n",
    "        snid_agn = snidoutput[\"c_snid_1\"][snid_loc]\n",
    "        snid_Ia = snidoutput[\"c_snid_1\", \"c_snid_2\", \"c_snid_3\", \"c_snid_4\", \"c_snid_5\"][snid_loc]\n",
    "        is_sn = (snid_agn != \"AGN\") and (snid_agn != \"TDE\") and (snid_agn != \"QSO\") and (snid_agn != \"LBV\") and (snid_agn != \"M-star\") and (snid_agn != \"C-star\") and (snid_agn != \"Gal\")\n",
    "        is_Ia = 0\n",
    "        for snid_class in snid_Ia[0]:\n",
    "            is_Ia += (\"Ia\" in snid_class)\n",
    "        if(best[\"rlap\"] > 8 and best[\"agreement_broad\"] > 6 and is_sn and is_Ia < 3):\n",
    "            row = [best[\"ZTF_Name\"], best[\"Version\"], \"II\", best[\"Superfit_c\"], best[\"Zooniverse_c\"], best[\"z\"]]\n",
    "            if(i in final_rcf_table[\"ZTF_Name\"]):\n",
    "                rcfI = final_rcf_table[\"sn_type\"][np.where(final_rcf_table[\"ZTF_Name\"] == i)]\n",
    "                row.extend([True, rcfI])\n",
    "            else:\n",
    "                row.extend([False, \"\"])\n",
    "\n",
    "            if(i in sample[\"ZTF_Name\"]):\n",
    "                marshall = sample[\"Class\"][np.where(sample[\"ZTF_Name\"] == i)[0][0]]\n",
    "                row.extend([True, marshall])\n",
    "            else:\n",
    "                row.extend([False, \"\"])\n",
    "            TypeII_Information.add_row(row)\n",
    "counter = 0\n",
    "index_counter = 0\n",
    "index = []\n",
    "for i in TypeII_Information[\"sn_type_marshall\"]:\n",
    "    if('II' not in i and '-' != i and i != 'NaN'):\n",
    "        counter += 1\n",
    "        index.append(index_counter)\n",
    "    index_counter += 1\n",
    "print(len(TypeII_Information))"
   ]
  },
  {
   "cell_type": "code",
   "execution_count": 60,
   "metadata": {},
   "outputs": [],
   "source": [
    "TypeII_Information.to_pandas().to_csv(\"TypeII_Least_Conservative.csv\", index = False)"
   ]
  },
  {
   "cell_type": "code",
   "execution_count": 120,
   "metadata": {},
   "outputs": [
    {
     "name": "stdout",
     "output_type": "stream",
     "text": [
      "II-norm\n",
      "TDE\n",
      "Ic-SLSN\n",
      "Ic-SLSN\n",
      "Gal\n"
     ]
    }
   ],
   "source": [
    "for i in snid_Ia[0]:\n",
    "    print(i)"
   ]
  },
  {
   "cell_type": "code",
   "execution_count": 121,
   "metadata": {},
   "outputs": [],
   "source": [
    "negativeII_ztfI = 0\n",
    "positiveII_ztfI = 0\n",
    "for i in np.unique(sample[\"ZTF_Name\"]):\n",
    "    all_version = sample[np.where(sample[\"ZTF_Name\"] == i)]\n",
    "    name = all_version[0]\n",
    "    if(\"II\" in name[\"Class\"]):\n",
    "        positiveII_ztfI += 1\n",
    "    elif(name[\"Class\"] != \"?\" and name[\"Class\"] != \"-\"):\n",
    "        negativeII_ztfI += 1"
   ]
  },
  {
   "cell_type": "code",
   "execution_count": 122,
   "metadata": {},
   "outputs": [],
   "source": [
    "negativeII_2018 = 0\n",
    "positiveII_2018 = 0\n",
    "for i in np.unique(all_2018[\"ZTF_Name\"]):\n",
    "    all_version = all_2018[np.where(all_2018[\"ZTF_Name\"] == i)]\n",
    "    name = all_version[0]\n",
    "    if(\"II\" in name[\"Class\"]):\n",
    "        positiveII_2018 += 1\n",
    "    elif(name[\"Class\"] != \"?\" and name[\"Class\"] != \"-\"):\n",
    "        negativeII_2018 += 1"
   ]
  },
  {
   "cell_type": "code",
   "execution_count": 123,
   "metadata": {},
   "outputs": [
    {
     "name": "stdout",
     "output_type": "stream",
     "text": [
      "1347\n",
      "1258\n"
     ]
    }
   ],
   "source": [
    "print(len(np.unique(all_2018[\"ZTF_Name\"])))\n",
    "print(positiveII_2018 + negativeII_2018)"
   ]
  },
  {
   "cell_type": "code",
   "execution_count": 124,
   "metadata": {},
   "outputs": [
    {
     "name": "stdout",
     "output_type": "stream",
     "text": [
      "1003\n",
      "3633\n"
     ]
    }
   ],
   "source": [
    "print(positiveII_ztfI)\n",
    "print(negativeII_ztfI)"
   ]
  },
  {
   "cell_type": "code",
   "execution_count": 125,
   "metadata": {},
   "outputs": [
    {
     "name": "stdout",
     "output_type": "stream",
     "text": [
      "0.0033030553261767133\n"
     ]
    }
   ],
   "source": [
    "print(len(index) / negativeII_ztfI)"
   ]
  },
  {
   "cell_type": "code",
   "execution_count": 126,
   "metadata": {},
   "outputs": [],
   "source": [
    "TypeII_Information[index].to_pandas().to_csv(\"FalsePositives.csv\")"
   ]
  },
  {
   "cell_type": "code",
   "execution_count": 127,
   "metadata": {},
   "outputs": [
    {
     "data": {
      "text/plain": [
       "0.34297108673978066"
      ]
     },
     "execution_count": 127,
     "metadata": {},
     "output_type": "execute_result"
    }
   ],
   "source": [
    "(len(TypeII_Information) - len(index))/positiveII_ztfI"
   ]
  },
  {
   "cell_type": "code",
   "execution_count": 128,
   "metadata": {},
   "outputs": [
    {
     "data": {
      "text/plain": [
       "67"
      ]
     },
     "execution_count": 128,
     "metadata": {},
     "output_type": "execute_result"
    }
   ],
   "source": [
    "len(TypeII_Information[TypeII_Information[\"in_rcfI\"] == True])"
   ]
  },
  {
   "cell_type": "code",
   "execution_count": 129,
   "metadata": {},
   "outputs": [
    {
     "data": {
      "text/plain": [
       "277"
      ]
     },
     "execution_count": 129,
     "metadata": {},
     "output_type": "execute_result"
    }
   ],
   "source": [
    "len(TypeII_Information)-len(TypeII_Information[TypeII_Information[\"in_rcfI\"] == True]) - len(index)"
   ]
  },
  {
   "cell_type": "code",
   "execution_count": 130,
   "metadata": {},
   "outputs": [
    {
     "data": {
      "text/plain": [
       "0.033707865168539325"
      ]
     },
     "execution_count": 130,
     "metadata": {},
     "output_type": "execute_result"
    }
   ],
   "source": [
    "len(index)/len(TypeII_Information)"
   ]
  },
  {
   "cell_type": "code",
   "execution_count": 131,
   "metadata": {},
   "outputs": [
    {
     "data": {
      "text/plain": [
       "Counter({'Ib': 1,\n",
       "         'star': 1,\n",
       "         'CV': 1,\n",
       "         'AGN': 2,\n",
       "         'LBV': 1,\n",
       "         'NLS1': 1,\n",
       "         'Ic': 1,\n",
       "         'SLSN-I.5': 2,\n",
       "         'Ia': 2})"
      ]
     },
     "execution_count": 131,
     "metadata": {},
     "output_type": "execute_result"
    }
   ],
   "source": [
    "collections.Counter(TypeII_Information[index][\"sn_type_marshall\"])"
   ]
  },
  {
   "cell_type": "code",
   "execution_count": 72,
   "metadata": {},
   "outputs": [
    {
     "data": {
      "text/html": [
       "<i>Table length=2</i>\n",
       "<table id=\"table2285093663504\" class=\"table-striped table-bordered table-condensed\">\n",
       "<thead><tr><th>ZTF_Name</th><th>spectra_file</th><th>sn_type</th><th>superfit_sn_type</th><th>zooniverse_sn_type</th><th>z_sn</th><th>in_rcfI</th><th>sn_type_rcfI</th><th>in_marshall</th><th>sn_type_marshall</th></tr></thead>\n",
       "<thead><tr><th>str64</th><th>str64</th><th>str64</th><th>str64</th><th>str64</th><th>float32</th><th>bool</th><th>str64</th><th>bool</th><th>str64</th></tr></thead>\n",
       "<tr><td>ZTF18aabxlsv</td><td>ZTF18aabxlsv_20181110_Keck1_v1.ascii</td><td>II</td><td>IIb</td><td>IIn</td><td>0.0497</td><td>True</td><td>Ib</td><td>True</td><td>Ib</td></tr>\n",
       "<tr><td>ZTF18abfzhct</td><td>ZTF18abfzhct_20181110_Keck1_v1.ascii</td><td>II</td><td>IIb</td><td>II-norm</td><td>0.0379</td><td>True</td><td>Ic</td><td>True</td><td>Ic</td></tr>\n",
       "</table>"
      ],
      "text/plain": [
       "<Table length=2>\n",
       "  ZTF_Name               spectra_file             ... sn_type_marshall\n",
       "   str64                    str64                 ...      str64      \n",
       "------------ ------------------------------------ ... ----------------\n",
       "ZTF18aabxlsv ZTF18aabxlsv_20181110_Keck1_v1.ascii ...               Ib\n",
       "ZTF18abfzhct ZTF18abfzhct_20181110_Keck1_v1.ascii ...               Ic"
      ]
     },
     "execution_count": 72,
     "metadata": {},
     "output_type": "execute_result"
    }
   ],
   "source": [
    "TypeII_Information[index][np.where(TypeII_Information[index][\"in_rcfI\"] == True)]"
   ]
  },
  {
   "cell_type": "code",
   "execution_count": 73,
   "metadata": {},
   "outputs": [
    {
     "data": {
      "text/plain": [
       "0"
      ]
     },
     "execution_count": 73,
     "metadata": {},
     "output_type": "execute_result"
    }
   ],
   "source": [
    "len(np.where(TypeII_Information[\"in_marshall\"] == False)[0])"
   ]
  },
  {
   "cell_type": "code",
   "execution_count": 74,
   "metadata": {},
   "outputs": [
    {
     "data": {
      "text/html": [
       "<i>Table length=384</i>\n",
       "<table id=\"table2285070314320\" class=\"table-striped table-bordered table-condensed\">\n",
       "<thead><tr><th>ZTF_Name</th><th>spectra_file</th><th>sn_type</th><th>superfit_sn_type</th><th>zooniverse_sn_type</th><th>z_sn</th><th>in_rcfI</th><th>sn_type_rcfI</th><th>in_marshall</th><th>sn_type_marshall</th></tr></thead>\n",
       "<thead><tr><th>str64</th><th>str64</th><th>str64</th><th>str64</th><th>str64</th><th>float32</th><th>bool</th><th>str64</th><th>bool</th><th>str64</th></tr></thead>\n",
       "<tr><td>ZTF18aabssth</td><td>ZTF18aabssth_20180309_P60_v1.ascii</td><td>II</td><td>II</td><td>IIb</td><td>0.0374</td><td>True</td><td>II</td><td>True</td><td>II</td></tr>\n",
       "<tr><td>ZTF18aabxlsv</td><td>ZTF18aabxlsv_20181110_Keck1_v1.ascii</td><td>II</td><td>IIb</td><td>IIn</td><td>0.0497</td><td>True</td><td>Ib</td><td>True</td><td>Ib</td></tr>\n",
       "<tr><td>ZTF18aabybkt</td><td>ZTF18aabybkt_20180321_APO_v1.ascii</td><td>II</td><td>II</td><td>II-norm</td><td>0.0074</td><td>False</td><td></td><td>True</td><td>II</td></tr>\n",
       "<tr><td>ZTF18aaccmnh</td><td>ZTF18aaccmnh_20180517_P200_v1.ascii</td><td>II</td><td>II</td><td>II-norm</td><td>0.0316</td><td>False</td><td></td><td>True</td><td>II</td></tr>\n",
       "<tr><td>ZTF18aaeoiwu</td><td>ZTF18aaeoiwu_20191019_P60_v1.ascii</td><td>II</td><td>IIn</td><td>II-norm</td><td>0.6259</td><td>False</td><td></td><td>True</td><td>star</td></tr>\n",
       "<tr><td>ZTF18aagpzjk</td><td>ZTF18aagpzjk_20180410_P200_v1.ascii</td><td>II</td><td>II</td><td>II-norm</td><td>0.0114</td><td>True</td><td>II</td><td>True</td><td>II</td></tr>\n",
       "<tr><td>ZTF18aahfqbc</td><td>ZTF18aahfqbc_20180411_APO_v1.ascii</td><td>II</td><td>II</td><td>II-norm</td><td>0.0011</td><td>True</td><td>II</td><td>True</td><td>II</td></tr>\n",
       "<tr><td>ZTF18aahnnly</td><td>ZTF18aahnnly_20180508_P200_v1.ascii</td><td>II</td><td>IIn</td><td>II-norm</td><td>0.0291</td><td>False</td><td></td><td>True</td><td>II</td></tr>\n",
       "<tr><td>ZTF18aahqfee</td><td>ZTF18aahqfee_20180513_DCT_v1.ascii</td><td>II</td><td>II</td><td>II-norm</td><td>0.039</td><td>False</td><td></td><td>True</td><td>IIP</td></tr>\n",
       "<tr><td>ZTF18aaikcbb</td><td>ZTF18aaikcbb_20180616_P200_v2.ascii</td><td>II</td><td>II</td><td>II-norm</td><td>0.0454</td><td>False</td><td></td><td>True</td><td>II</td></tr>\n",
       "<tr><td>...</td><td>...</td><td>...</td><td>...</td><td>...</td><td>...</td><td>...</td><td>...</td><td>...</td><td>...</td></tr>\n",
       "<tr><td>ZTF20acjbzrh</td><td>ZTF20acjbzrh_20201021_P200_v1.ascii</td><td>II</td><td>II</td><td>IIb</td><td>0.0438</td><td>False</td><td></td><td>True</td><td>Ib</td></tr>\n",
       "<tr><td>ZTF20aclfmwn</td><td>ZTF20aclfmwn_20201030_GTC_v1.ascii</td><td>II</td><td>IIb</td><td>IIb</td><td>0.0411</td><td>False</td><td></td><td>True</td><td>IIb</td></tr>\n",
       "<tr><td>ZTF20acnrvfm</td><td>ZTF20acnrvfm_20201115_P60_v1.ascii</td><td>II</td><td>IIn</td><td>II-norm</td><td>0.0257</td><td>False</td><td></td><td>True</td><td>II</td></tr>\n",
       "<tr><td>ZTF20acnznms</td><td>ZTF20acnznms_20201212_Keck1_v1.ascii</td><td>II</td><td>II</td><td>II-norm</td><td>0.203</td><td>False</td><td></td><td>True</td><td>SLSN-II</td></tr>\n",
       "<tr><td>ZTF20actawpa</td><td>ZTF20actawpa_20201207_LT_v1.ascii</td><td>II</td><td>II</td><td>II-norm</td><td>0.02</td><td>False</td><td></td><td>True</td><td>II</td></tr>\n",
       "<tr><td>ZTF20actquzl</td><td>ZTF20actquzl_20201218_LT_v1.ascii</td><td>II</td><td>II</td><td>II-norm</td><td>0.0344</td><td>False</td><td></td><td>True</td><td>II</td></tr>\n",
       "<tr><td>ZTF21aaquyqa</td><td>ZTF21aaquyqa_20210513_P200_v1.ascii</td><td>II</td><td>IIb</td><td>IIb</td><td>0.0363</td><td>False</td><td></td><td>True</td><td>IIb</td></tr>\n",
       "<tr><td>ZTF21aawmtug</td><td>ZTF21aawmtug_20210510_NOT_v1.ascii</td><td>II</td><td>IIn</td><td>II-norm</td><td>0.0403</td><td>False</td><td></td><td>True</td><td>II</td></tr>\n",
       "<tr><td>ZTF21aawtewf</td><td>ZTF21aawtewf_20210513_NOT_v1.ascii</td><td>II</td><td>II</td><td>II-norm</td><td>0.0322</td><td>False</td><td></td><td>True</td><td>Ia</td></tr>\n",
       "<tr><td>ZTF21aaxxoei</td><td>ZTF21aaxxoei_20210513_NOT_v1.ascii</td><td>II</td><td>II</td><td>II-norm</td><td>0.0322</td><td>False</td><td></td><td>True</td><td>II</td></tr>\n",
       "</table>"
      ],
      "text/plain": [
       "<Table length=384>\n",
       "  ZTF_Name               spectra_file             ... sn_type_marshall\n",
       "   str64                    str64                 ...      str64      \n",
       "------------ ------------------------------------ ... ----------------\n",
       "ZTF18aabssth   ZTF18aabssth_20180309_P60_v1.ascii ...               II\n",
       "ZTF18aabxlsv ZTF18aabxlsv_20181110_Keck1_v1.ascii ...               Ib\n",
       "ZTF18aabybkt   ZTF18aabybkt_20180321_APO_v1.ascii ...               II\n",
       "ZTF18aaccmnh  ZTF18aaccmnh_20180517_P200_v1.ascii ...               II\n",
       "ZTF18aaeoiwu   ZTF18aaeoiwu_20191019_P60_v1.ascii ...             star\n",
       "ZTF18aagpzjk  ZTF18aagpzjk_20180410_P200_v1.ascii ...               II\n",
       "ZTF18aahfqbc   ZTF18aahfqbc_20180411_APO_v1.ascii ...               II\n",
       "ZTF18aahnnly  ZTF18aahnnly_20180508_P200_v1.ascii ...               II\n",
       "ZTF18aahqfee   ZTF18aahqfee_20180513_DCT_v1.ascii ...              IIP\n",
       "ZTF18aaikcbb  ZTF18aaikcbb_20180616_P200_v2.ascii ...               II\n",
       "         ...                                  ... ...              ...\n",
       "ZTF20acjbzrh  ZTF20acjbzrh_20201021_P200_v1.ascii ...               Ib\n",
       "ZTF20aclfmwn   ZTF20aclfmwn_20201030_GTC_v1.ascii ...              IIb\n",
       "ZTF20acnrvfm   ZTF20acnrvfm_20201115_P60_v1.ascii ...               II\n",
       "ZTF20acnznms ZTF20acnznms_20201212_Keck1_v1.ascii ...          SLSN-II\n",
       "ZTF20actawpa    ZTF20actawpa_20201207_LT_v1.ascii ...               II\n",
       "ZTF20actquzl    ZTF20actquzl_20201218_LT_v1.ascii ...               II\n",
       "ZTF21aaquyqa  ZTF21aaquyqa_20210513_P200_v1.ascii ...              IIb\n",
       "ZTF21aawmtug   ZTF21aawmtug_20210510_NOT_v1.ascii ...               II\n",
       "ZTF21aawtewf   ZTF21aawtewf_20210513_NOT_v1.ascii ...               Ia\n",
       "ZTF21aaxxoei   ZTF21aaxxoei_20210513_NOT_v1.ascii ...               II"
      ]
     },
     "execution_count": 74,
     "metadata": {},
     "output_type": "execute_result"
    }
   ],
   "source": [
    "TypeII_Information"
   ]
  },
  {
   "cell_type": "code",
   "execution_count": 75,
   "metadata": {},
   "outputs": [
    {
     "data": {
      "text/html": [
       "<i>Table length=2</i>\n",
       "<table id=\"table2285093429648\" class=\"table-striped table-bordered table-condensed\">\n",
       "<thead><tr><th>ZTF_Name</th><th>spectra_file</th><th>sn_type</th><th>superfit_sn_type</th><th>zooniverse_sn_type</th><th>z_sn</th><th>in_rcfI</th><th>sn_type_rcfI</th><th>in_marshall</th><th>sn_type_marshall</th></tr></thead>\n",
       "<thead><tr><th>str64</th><th>str64</th><th>str64</th><th>str64</th><th>str64</th><th>float32</th><th>bool</th><th>str64</th><th>bool</th><th>str64</th></tr></thead>\n",
       "<tr><td>ZTF19adcetym</td><td>ZTF19adcetym_20200512_P60_v1.ascii</td><td>II</td><td>IIn</td><td>II-norm</td><td>0.0619</td><td>False</td><td></td><td>True</td><td>Ia</td></tr>\n",
       "<tr><td>ZTF21aawtewf</td><td>ZTF21aawtewf_20210513_NOT_v1.ascii</td><td>II</td><td>II</td><td>II-norm</td><td>0.0322</td><td>False</td><td></td><td>True</td><td>Ia</td></tr>\n",
       "</table>"
      ],
      "text/plain": [
       "<Table length=2>\n",
       "  ZTF_Name              spectra_file            ... in_marshall sn_type_marshall\n",
       "   str64                   str64                ...     bool         str64      \n",
       "------------ ---------------------------------- ... ----------- ----------------\n",
       "ZTF19adcetym ZTF19adcetym_20200512_P60_v1.ascii ...        True               Ia\n",
       "ZTF21aawtewf ZTF21aawtewf_20210513_NOT_v1.ascii ...        True               Ia"
      ]
     },
     "execution_count": 75,
     "metadata": {},
     "output_type": "execute_result"
    }
   ],
   "source": [
    "TypeII_Information[TypeII_Information[\"sn_type_marshall\"] == \"Ia\"]"
   ]
  },
  {
   "cell_type": "code",
   "execution_count": 90,
   "metadata": {},
   "outputs": [
    {
     "data": {
      "text/html": [
       "<i>Row index=0</i>\n",
       "<table id=\"table2285070314320\">\n",
       "<thead><tr><th>ZTF_Name</th><th>spectra_file</th><th>sn_type</th><th>superfit_sn_type</th><th>zooniverse_sn_type</th><th>z_sn</th><th>in_rcfI</th><th>sn_type_rcfI</th><th>in_marshall</th><th>sn_type_marshall</th></tr></thead>\n",
       "<thead><tr><th>str64</th><th>str64</th><th>str64</th><th>str64</th><th>str64</th><th>float32</th><th>bool</th><th>str64</th><th>bool</th><th>str64</th></tr></thead>\n",
       "<tr><td>ZTF18aabssth</td><td>ZTF18aabssth_20180309_P60_v1.ascii</td><td>II</td><td>II</td><td>IIb</td><td>0.0374</td><td>True</td><td>II</td><td>True</td><td>II</td></tr>\n",
       "</table>"
      ],
      "text/plain": [
       "<Row index=0>\n",
       "  ZTF_Name              spectra_file            sn_type superfit_sn_type zooniverse_sn_type   z_sn  in_rcfI sn_type_rcfI in_marshall sn_type_marshall\n",
       "   str64                   str64                 str64       str64             str64        float32   bool     str64         bool         str64      \n",
       "------------ ---------------------------------- ------- ---------------- ------------------ ------- ------- ------------ ----------- ----------------\n",
       "ZTF18aabssth ZTF18aabssth_20180309_P60_v1.ascii      II               II                IIb  0.0374    True           II        True               II"
      ]
     },
     "execution_count": 90,
     "metadata": {},
     "output_type": "execute_result"
    }
   ],
   "source": [
    "TypeII_Information[0]"
   ]
  },
  {
   "cell_type": "code",
   "execution_count": 76,
   "metadata": {},
   "outputs": [
    {
     "data": {
      "text/html": [
       "<i>Table length=1</i>\n",
       "<table id=\"table2285070208352\" class=\"table-striped table-bordered table-condensed\">\n",
       "<thead><tr><th>c_snid_1</th><th>c_snid_2</th><th>c_snid_3</th><th>c_snid_4</th><th>c_snid_5</th></tr></thead>\n",
       "<thead><tr><th>str7</th><th>str7</th><th>str7</th><th>str7</th><th>str7</th></tr></thead>\n",
       "<tr><td>Ic-SLSN</td><td>IIn</td><td>II-norm</td><td>II-norm</td><td>II-norm</td></tr>\n",
       "</table>"
      ],
      "text/plain": [
       "<Table length=1>\n",
       "c_snid_1 c_snid_2 c_snid_3 c_snid_4 c_snid_5\n",
       "  str7     str7     str7     str7     str7  \n",
       "-------- -------- -------- -------- --------\n",
       " Ic-SLSN      IIn  II-norm  II-norm  II-norm"
      ]
     },
     "execution_count": 76,
     "metadata": {},
     "output_type": "execute_result"
    }
   ],
   "source": [
    "snidoutput[np.where(snidoutput[\"Version\"] == \"ZTF19adcetym_20200512_P60_v1.ascii\")][\"c_snid_1\", \"c_snid_2\", \"c_snid_3\", \"c_snid_4\", \"c_snid_5\"]"
   ]
  },
  {
   "cell_type": "code",
   "execution_count": 77,
   "metadata": {},
   "outputs": [
    {
     "data": {
      "text/html": [
       "<i>Table length=0</i>\n",
       "<table id=\"table2285093429408\" class=\"table-striped table-bordered table-condensed\">\n",
       "<thead><tr><th>ZTF_Name</th><th>spectra_file</th><th>sn_type</th><th>superfit_sn_type</th><th>zooniverse_sn_type</th><th>z_sn</th><th>in_rcfI</th><th>sn_type_rcfI</th><th>in_marshall</th><th>sn_type_marshall</th></tr></thead>\n",
       "<thead><tr><th>str64</th><th>str64</th><th>str64</th><th>str64</th><th>str64</th><th>float32</th><th>bool</th><th>str64</th><th>bool</th><th>str64</th></tr></thead>\n",
       "</table>"
      ],
      "text/plain": [
       "<Table length=0>\n",
       "ZTF_Name spectra_file sn_type ... sn_type_rcfI in_marshall sn_type_marshall\n",
       " str64      str64      str64  ...    str64         bool         str64      \n",
       "-------- ------------ ------- ... ------------ ----------- ----------------"
      ]
     },
     "execution_count": 77,
     "metadata": {},
     "output_type": "execute_result"
    }
   ],
   "source": [
    "TypeII_Information[index][np.where(TypeII_Information[index][\"sn_type_marshall\"] == \"NaN\")]"
   ]
  },
  {
   "cell_type": "code",
   "execution_count": 78,
   "metadata": {},
   "outputs": [
    {
     "data": {
      "text/html": [
       "<i>Table length=5</i>\n",
       "<table id=\"table2285070208400\" class=\"table-striped table-bordered table-condensed\">\n",
       "<thead><tr><th>Superfit_c</th><th>Zooniverse_c_broad</th></tr></thead>\n",
       "<thead><tr><th>str18</th><th>str64</th></tr></thead>\n",
       "<tr><td>IIn</td><td>II</td></tr>\n",
       "<tr><td>IIn</td><td>Gal</td></tr>\n",
       "<tr><td>TDE H</td><td>II</td></tr>\n",
       "<tr><td>TDE H+He</td><td>QSO</td></tr>\n",
       "<tr><td>SLSN-IIn</td><td>AGN</td></tr>\n",
       "</table>"
      ],
      "text/plain": [
       "<Table length=5>\n",
       "Superfit_c Zooniverse_c_broad\n",
       "  str18          str64       \n",
       "---------- ------------------\n",
       "       IIn                 II\n",
       "       IIn                Gal\n",
       "     TDE H                 II\n",
       "  TDE H+He                QSO\n",
       "  SLSN-IIn                AGN"
      ]
     },
     "execution_count": 78,
     "metadata": {},
     "output_type": "execute_result"
    }
   ],
   "source": [
    "combined[np.where(combined[\"ZTF_Name\"] == \"ZTF20abisysx\")][\"Superfit_c\", \"Zooniverse_c_broad\"]"
   ]
  },
  {
   "cell_type": "code",
   "execution_count": 99,
   "metadata": {},
   "outputs": [],
   "source": [
    "final_rcf_test = TypeII_Information[np.where(TypeII_Information[\"in_rcfI\"] == True)]\n",
    "counter = 0\n",
    "index_counter = 0\n",
    "index = []\n",
    "for i in final_rcf_test[\"sn_type_rcfI\"]:\n",
    "    if('II' not in i):\n",
    "        counter += 1\n",
    "        index.append(index_counter)\n",
    "    index_counter += 1"
   ]
  },
  {
   "cell_type": "code",
   "execution_count": 100,
   "metadata": {},
   "outputs": [],
   "source": [
    "negativeII = 0\n",
    "positiveII = 0\n",
    "for name in final_rcf_table:\n",
    "    if(\"II\" in name[\"sn_type\"]):\n",
    "        positiveII += 1\n",
    "    else:\n",
    "        negativeII += 1"
   ]
  },
  {
   "cell_type": "code",
   "execution_count": 101,
   "metadata": {},
   "outputs": [
    {
     "name": "stdout",
     "output_type": "stream",
     "text": [
      "553\n"
     ]
    }
   ],
   "source": [
    "print(len(TypeII_Information) - len(final_rcf_test))"
   ]
  },
  {
   "cell_type": "code",
   "execution_count": 102,
   "metadata": {},
   "outputs": [
    {
     "name": "stdout",
     "output_type": "stream",
     "text": [
      "602\n"
     ]
    }
   ],
   "source": [
    "print(negativeII)"
   ]
  },
  {
   "cell_type": "code",
   "execution_count": 103,
   "metadata": {},
   "outputs": [
    {
     "name": "stdout",
     "output_type": "stream",
     "text": [
      "162\n",
      "104\n"
     ]
    }
   ],
   "source": [
    "print(positiveII)\n",
    "print(len(final_rcf_test))"
   ]
  },
  {
   "cell_type": "code",
   "execution_count": 104,
   "metadata": {},
   "outputs": [
    {
     "name": "stdout",
     "output_type": "stream",
     "text": [
      "0.5987654320987654\n",
      "0.011627906976744186\n"
     ]
    }
   ],
   "source": [
    "print((len(final_rcf_test) - len(index))/positiveII)\n",
    "print(len(index)/negativeII)"
   ]
  },
  {
   "cell_type": "code",
   "execution_count": 105,
   "metadata": {},
   "outputs": [
    {
     "data": {
      "text/html": [
       "<i>Table length=7</i>\n",
       "<table id=\"table2285191836960\" class=\"table-striped table-bordered table-condensed\">\n",
       "<thead><tr><th>ZTF_Name</th><th>spectra_file</th><th>sn_type</th><th>superfit_sn_type</th><th>zooniverse_sn_type</th><th>z_sn</th><th>in_rcfI</th><th>sn_type_rcfI</th><th>in_marshall</th><th>sn_type_marshall</th></tr></thead>\n",
       "<thead><tr><th>str64</th><th>str64</th><th>str64</th><th>str64</th><th>str64</th><th>float32</th><th>bool</th><th>str64</th><th>bool</th><th>str64</th></tr></thead>\n",
       "<tr><td>ZTF18aabxlsv</td><td>ZTF18aabxlsv_20181110_Keck1_v1.ascii</td><td>II</td><td>IIb</td><td>IIn</td><td>0.0497</td><td>True</td><td>Ib</td><td>True</td><td>Ib</td></tr>\n",
       "<tr><td>ZTF18aajqcue</td><td>ZTF18aajqcue_20180516_P200_v1.ascii</td><td>II</td><td>IIn</td><td>IIb</td><td>0.2065</td><td>True</td><td>SLSN-I</td><td>True</td><td>SLSN-I</td></tr>\n",
       "<tr><td>ZTF18abfzhct</td><td>ZTF18abfzhct_20181110_Keck1_v1.ascii</td><td>II</td><td>IIb</td><td>II-norm</td><td>0.0379</td><td>True</td><td>Ic</td><td>True</td><td>Ic</td></tr>\n",
       "<tr><td>ZTF18abkudjo</td><td>ZTF18abkudjo_20180805_P60_v3.ascii</td><td>II</td><td>II</td><td>IIb</td><td>0.24</td><td>True</td><td>Ia</td><td>True</td><td>Ia</td></tr>\n",
       "<tr><td>ZTF18ablwafp</td><td>ZTF18ablwafp_20180918_P60_v1.ascii</td><td>II</td><td>SLSN-II</td><td>IIn</td><td>0.8001</td><td>True</td><td>SLSN-I</td><td>True</td><td>SLSN-I</td></tr>\n",
       "<tr><td>ZTF18acqsfxh</td><td>ZTF18acqsfxh_20181127_P60_v1.ascii</td><td>II</td><td>IIn</td><td>II-norm</td><td>0.0431</td><td>True</td><td>Ia</td><td>True</td><td>Ia</td></tr>\n",
       "<tr><td>ZTF18acxgoki</td><td>ZTF18acxgoki_20181223_P60_v1.ascii</td><td>II</td><td>IIb</td><td>II-norm</td><td>0.0691</td><td>True</td><td>Ic</td><td>True</td><td>Ic</td></tr>\n",
       "</table>"
      ],
      "text/plain": [
       "<Table length=7>\n",
       "  ZTF_Name               spectra_file             ... sn_type_marshall\n",
       "   str64                    str64                 ...      str64      \n",
       "------------ ------------------------------------ ... ----------------\n",
       "ZTF18aabxlsv ZTF18aabxlsv_20181110_Keck1_v1.ascii ...               Ib\n",
       "ZTF18aajqcue  ZTF18aajqcue_20180516_P200_v1.ascii ...           SLSN-I\n",
       "ZTF18abfzhct ZTF18abfzhct_20181110_Keck1_v1.ascii ...               Ic\n",
       "ZTF18abkudjo   ZTF18abkudjo_20180805_P60_v3.ascii ...               Ia\n",
       "ZTF18ablwafp   ZTF18ablwafp_20180918_P60_v1.ascii ...           SLSN-I\n",
       "ZTF18acqsfxh   ZTF18acqsfxh_20181127_P60_v1.ascii ...               Ia\n",
       "ZTF18acxgoki   ZTF18acxgoki_20181223_P60_v1.ascii ...               Ic"
      ]
     },
     "execution_count": 105,
     "metadata": {},
     "output_type": "execute_result"
    }
   ],
   "source": [
    "final_rcf_test[index]"
   ]
  },
  {
   "cell_type": "code",
   "execution_count": 106,
   "metadata": {},
   "outputs": [
    {
     "data": {
      "text/html": [
       "<i>Table length=2</i>\n",
       "<table id=\"table2285194091056\" class=\"table-striped table-bordered table-condensed\">\n",
       "<thead><tr><th>ZTF_Name</th><th>Class</th><th>redshift</th><th>col4</th><th>col5</th><th>col6</th><th>col7</th><th>Version</th><th>col9</th></tr></thead>\n",
       "<thead><tr><th>str12</th><th>str12</th><th>float64</th><th>float64</th><th>float64</th><th>float64</th><th>float64</th><th>str43</th><th>int32</th></tr></thead>\n",
       "<tr><td>ZTF18aagteoy</td><td>AGN</td><td>0.0475</td><td>nan</td><td>2458211.5</td><td>2460151.12</td><td>-1939.62</td><td>ZTF18aagteoy_20180403_P60_v1.ascii</td><td>0</td></tr>\n",
       "<tr><td>ZTF18aagteoy</td><td>AGN</td><td>0.0475</td><td>nan</td><td>2458212.5</td><td>2460151.12</td><td>-1938.62</td><td>ZTF18aagteoy_20180404_DCT_v3.ascii</td><td>0</td></tr>\n",
       "</table>"
      ],
      "text/plain": [
       "<Table length=2>\n",
       "  ZTF_Name   Class redshift ...              Version                col9\n",
       "   str12     str12 float64  ...               str43                int32\n",
       "------------ ----- -------- ... ---------------------------------- -----\n",
       "ZTF18aagteoy   AGN   0.0475 ... ZTF18aagteoy_20180403_P60_v1.ascii     0\n",
       "ZTF18aagteoy   AGN   0.0475 ... ZTF18aagteoy_20180404_DCT_v3.ascii     0"
      ]
     },
     "execution_count": 106,
     "metadata": {},
     "output_type": "execute_result"
    }
   ],
   "source": [
    "sample[np.where(sample[\"ZTF_Name\"] == \"ZTF18aagteoy\")]"
   ]
  },
  {
   "cell_type": "code",
   "execution_count": 107,
   "metadata": {},
   "outputs": [],
   "source": [
    "tp_fp_ratio = []\n",
    "tp_fp_ratio_rcf = []\n",
    "tp_fp_ratio_2018 = []\n",
    "for rlap_num in np.linspace(0,10,11):\n",
    "    for agreement_num in range(4, 10):\n",
    "        TypeII_Information = Table(\n",
    "                        names=(\"ZTF_Name\", \"spectra_file\", \"sn_type\", \"superfit_sn_type\", \"zooniverse_sn_type\", \"z_sn\", \"in_rcfI\", \"sn_type_rcfI\", \"in_marshall\", \"sn_type_marshall\"\n",
    "                        ),\n",
    "                        meta={\"name\": \"Final ZTF-I Type II Table\"},\n",
    "                        dtype=(\"U64\", \"U64\", \"U64\", \"U64\", \"U64\", \"float32\", \"bool\", \"U64\", \"bool\", \"U64\"\n",
    "                              )\n",
    "                        )\n",
    "        for i in np.unique(combined[\"ZTF_Name\"]):\n",
    "            data = combined[np.where(combined[\"ZTF_Name\"] == i)]\n",
    "            index = []\n",
    "            counter = 0\n",
    "            for j in data:\n",
    "                superfitII = \"II\" in j[\"Superfit_c\"]\n",
    "                zooniverseII = \"II\" in j[\"Zooniverse_c_broad\"]\n",
    "                if(superfitII and zooniverseII):\n",
    "                    index.append(counter)\n",
    "                counter += 1\n",
    "            if(len(index) > 0):\n",
    "                agreement = data[index]\n",
    "                agreement_max = np.max(agreement[\"agreement\"])\n",
    "                best = agreement[np.where(agreement[\"agreement\"] == agreement_max)]\n",
    "                if(len(best) > 1):\n",
    "                    best = best[np.where(best[\"rlap\"] == np.max(best[\"rlap\"]))]\n",
    "                    if(len(best) > 1):\n",
    "                        best = best[0]\n",
    "                snid_agn = snidoutput[\"c_snid_1\"][np.where(best[\"Version\"] == snidoutput[\"Version\"])]\n",
    "                is_sn = (snid_agn != \"AGN\") and (snid_agn != \"TDE\") and (snid_agn != \"QSO\") and (snid_agn != \"LBV\") and (snid_agn != \"M-star\") and (snid_agn != \"C-star\") and (snid_agn != \"Gal\")\n",
    "                if(best[\"rlap\"] > rlap_num and best[\"agreement_broad\"] > agreement_num and is_sn):\n",
    "                    row = [best[\"ZTF_Name\"], best[\"Version\"], \"II\", best[\"Superfit_c\"], best[\"Zooniverse_c\"], best[\"z\"]]\n",
    "                    if(i in final_rcf_table[\"ZTF_Name\"]):\n",
    "                        rcfI = final_rcf_table[\"sn_type\"][np.where(final_rcf_table[\"ZTF_Name\"] == i)]\n",
    "                        row.extend([True, rcfI])\n",
    "                    else:\n",
    "                        row.extend([False, \"\"])\n",
    "\n",
    "                    if(i in sample[\"ZTF_Name\"]):\n",
    "                        marshall = sample[\"Class\"][np.where(sample[\"ZTF_Name\"] == i)[0][0]]\n",
    "                        row.extend([True, marshall])\n",
    "                    else:\n",
    "                        row.extend([False, \"\"])\n",
    "                    TypeII_Information.add_row(row)\n",
    "        counter = 0\n",
    "        index_counter = 0\n",
    "        index = []\n",
    "        for i in TypeII_Information[\"sn_type_marshall\"]:\n",
    "            if('II' not in i and '-' != i and i != 'NaN'):\n",
    "                counter += 1\n",
    "                index.append(index_counter)\n",
    "            index_counter += 1\n",
    "        tp_fp_ratio.append([(len(TypeII_Information) - len(index)) / positiveII_ztfI, len(index) / negativeII_ztfI, (rlap_num, agreement_num)])\n",
    "        \n",
    "        final_rcf_test = TypeII_Information[np.where(TypeII_Information[\"in_rcfI\"] == True)]\n",
    "        counter = 0\n",
    "        index_counter = 0\n",
    "        index = []\n",
    "        for i in final_rcf_test[\"sn_type_rcfI\"]:\n",
    "            if('II' not in i):\n",
    "                counter += 1\n",
    "                index.append(index_counter)\n",
    "            index_counter += 1\n",
    "        tp_fp_ratio_rcf.append([(len(final_rcf_test) - len(index))/ positiveII, len(index)/negativeII, (rlap_num, agreement_num)])\n",
    "        \n",
    "        indicies = []\n",
    "        temp_counter = 0\n",
    "        for temp_name in TypeII_Information:\n",
    "            if(\"ZTF18\" in temp_name[\"ZTF_Name\"]):\n",
    "                indicies.append(temp_counter)\n",
    "            temp_counter += 1\n",
    "        final_2018_test = TypeII_Information[indicies]\n",
    "        counter = 0\n",
    "        index_counter = 0\n",
    "        index = []\n",
    "        for i in final_2018_test[\"sn_type_marshall\"]:\n",
    "            if('II' not in i):\n",
    "                counter += 1\n",
    "                index.append(index_counter)\n",
    "            index_counter += 1\n",
    "        tp_fp_ratio_2018.append([(len(final_2018_test) - len(index))/ positiveII_2018, len(index)/negativeII_2018, (rlap_num, agreement_num)])"
   ]
  },
  {
   "cell_type": "code",
   "execution_count": 108,
   "metadata": {},
   "outputs": [
    {
     "name": "stderr",
     "output_type": "stream",
     "text": [
      "C:\\Users\\20xha\\anaconda3\\lib\\site-packages\\numpy\\core\\_asarray.py:102: VisibleDeprecationWarning: Creating an ndarray from ragged nested sequences (which is a list-or-tuple of lists-or-tuples-or ndarrays with different lengths or shapes) is deprecated. If you meant to do this, you must specify 'dtype=object' when creating the ndarray.\n",
      "  return array(a, dtype, copy=False, order=order)\n"
     ]
    }
   ],
   "source": [
    "tp_fp_ratio_np = np.asarray(tp_fp_ratio)\n",
    "tp_fp_ratio_rcf_np = np.asarray(tp_fp_ratio_rcf)\n",
    "tp_fp_ratio_2018_np = np.asarray(tp_fp_ratio_2018)"
   ]
  },
  {
   "cell_type": "code",
   "execution_count": 109,
   "metadata": {},
   "outputs": [],
   "source": [
    "tp_fp_ratio_SNIDxSuperfit_np = np.load(\"tf_fp_SNIDxSuperfit.npy\")"
   ]
  },
  {
   "cell_type": "code",
   "execution_count": 110,
   "metadata": {},
   "outputs": [
    {
     "data": {
      "text/plain": [
       "Text(0, 0.5, 'True Positive Rate')"
      ]
     },
     "execution_count": 110,
     "metadata": {},
     "output_type": "execute_result"
    },
    {
     "data": {
      "image/png": "[encoded data removed]",
      "text/plain": [
       "<Figure size 720x720 with 1 Axes>"
      ]
     },
     "metadata": {
      "needs_background": "light"
     },
     "output_type": "display_data"
    }
   ],
   "source": [
    "fig = plt.figure(figsize = (10,10))\n",
    "plt.scatter(tp_fp_ratio_np[:,1], tp_fp_ratio_np[:,0], color = \"orange\")\n",
    "plt.plot(tp_fp_ratio_SNIDxSuperfit_np[:,1], tp_fp_ratio_SNIDxSuperfit_np[:,0], color = \"blue\")\n",
    "plt.xlim(0,0.01)\n",
    "plt.title(\"TPR vs. FPR\")\n",
    "plt.xlabel(\"False Positive Rate\")\n",
    "plt.ylabel(\"True Positive Rate\")"
   ]
  },
  {
   "cell_type": "code",
   "execution_count": 111,
   "metadata": {},
   "outputs": [
    {
     "data": {
      "text/plain": [
       "array([[0.36490528414755735, 0.00495458298926507, (8.0, 5)]], dtype=object)"
      ]
     },
     "execution_count": 111,
     "metadata": {},
     "output_type": "execute_result"
    }
   ],
   "source": [
    "tp_fp_ratio_np[np.where(tp_fp_ratio_np[:,0] == np.max(tp_fp_ratio_np[tp_fp_ratio_np[:,1] < 0.005][:,0]))]"
   ]
  },
  {
   "cell_type": "code",
   "execution_count": 112,
   "metadata": {},
   "outputs": [],
   "source": [
    "tp_fp_ratio_SNIDxSuperfit_np = np.load(\"tf_fp_rcfI_SNIDxSuperfit.npy\")"
   ]
  },
  {
   "cell_type": "code",
   "execution_count": 113,
   "metadata": {},
   "outputs": [
    {
     "data": {
      "text/plain": [
       "Text(0, 0.5, 'True Positive Rate')"
      ]
     },
     "execution_count": 113,
     "metadata": {},
     "output_type": "execute_result"
    },
    {
     "data": {
      "image/png": "[encoded data removed]",
      "text/plain": [
       "<Figure size 720x720 with 1 Axes>"
      ]
     },
     "metadata": {
      "needs_background": "light"
     },
     "output_type": "display_data"
    }
   ],
   "source": [
    "fig = plt.figure(figsize = (10,10))\n",
    "plt.scatter(tp_fp_ratio_rcf_np[:,1], tp_fp_ratio_rcf_np[:,0], color = \"orange\", label = \"Superfit and Zooniverse\")\n",
    "plt.plot(tp_fp_ratio_SNIDxSuperfit_np[:,1], tp_fp_ratio_SNIDxSuperfit_np[:,0], color = \"blue\", label = \"Superfit and SNID\")\n",
    "plt.legend(fancybox=True)\n",
    "plt.title(\"TPR vs. FPR\")\n",
    "plt.xlabel(\"False Positive Rate\")\n",
    "plt.ylabel(\"True Positive Rate\")"
   ]
  },
  {
   "cell_type": "code",
   "execution_count": 114,
   "metadata": {},
   "outputs": [
    {
     "data": {
      "text/plain": [
       "array([[0.5123456790123457, 0.0049833887043189366, (0.0, 6)],\n",
       "       [0.5123456790123457, 0.0049833887043189366, (1.0, 6)],\n",
       "       [0.5123456790123457, 0.0049833887043189366, (2.0, 6)],\n",
       "       [0.5123456790123457, 0.0049833887043189366, (3.0, 6)],\n",
       "       [0.5123456790123457, 0.0049833887043189366, (4.0, 6)]],\n",
       "      dtype=object)"
      ]
     },
     "execution_count": 114,
     "metadata": {},
     "output_type": "execute_result"
    }
   ],
   "source": [
    "tp_fp_ratio_rcf_np[np.where(tp_fp_ratio_rcf_np[:,0] == np.max(tp_fp_ratio_rcf_np[tp_fp_ratio_rcf_np[:,1] < 0.005][:,0]))]"
   ]
  },
  {
   "cell_type": "code",
   "execution_count": 115,
   "metadata": {},
   "outputs": [
    {
     "name": "stderr",
     "output_type": "stream",
     "text": [
      "<ipython-input-115-7c6caedcee89>:1: DeprecationWarning: elementwise comparison failed; this will raise an error in the future.\n",
      "  np.where(tp_fp_ratio_rcf_np[:,2] == (8.0, 5))\n"
     ]
    },
    {
     "data": {
      "text/plain": [
       "(array([], dtype=int64),)"
      ]
     },
     "execution_count": 115,
     "metadata": {},
     "output_type": "execute_result"
    }
   ],
   "source": [
    "np.where(tp_fp_ratio_rcf_np[:,2] == (8.0, 5))"
   ]
  },
  {
   "cell_type": "code",
   "execution_count": 116,
   "metadata": {},
   "outputs": [
    {
     "data": {
      "text/plain": [
       "array([0.41975308641975306, 0.0033222591362126247, (8.0, 5)], dtype=object)"
      ]
     },
     "execution_count": 116,
     "metadata": {},
     "output_type": "execute_result"
    }
   ],
   "source": [
    "tp_fp_ratio_rcf_np[-17]"
   ]
  },
  {
   "cell_type": "code",
   "execution_count": 117,
   "metadata": {},
   "outputs": [
    {
     "data": {
      "text/plain": [
       "Text(0, 0.5, 'True Positive Rate')"
      ]
     },
     "execution_count": 117,
     "metadata": {},
     "output_type": "execute_result"
    },
    {
     "data": {
      "image/png": "[encoded data removed]",
      "text/plain": [
       "<Figure size 720x720 with 1 Axes>"
      ]
     },
     "metadata": {
      "needs_background": "light"
     },
     "output_type": "display_data"
    }
   ],
   "source": [
    "fig = plt.figure(figsize = (10,10))\n",
    "plt.scatter(tp_fp_ratio_2018_np[:,1], tp_fp_ratio_2018_np[:,0], color = \"orange\", label = \"Superfit and Zooniverse\")\n",
    "#plt.plot(tp_fp_ratio_SNIDxSuperfit_np[:,1], tp_fp_ratio_SNIDxSuperfit_np[:,0], color = \"blue\", label = \"Superfit and SNID\")\n",
    "plt.legend(fancybox=True)\n",
    "plt.title(\"TPR vs. FPR\")\n",
    "plt.xlabel(\"False Positive Rate\")\n",
    "plt.ylabel(\"True Positive Rate\")"
   ]
  },
  {
   "cell_type": "code",
   "execution_count": 118,
   "metadata": {},
   "outputs": [
    {
     "data": {
      "text/plain": [
       "array([[0.42231075697211157, 0.003972194637537239, (8.0, 6)]],\n",
       "      dtype=object)"
      ]
     },
     "execution_count": 118,
     "metadata": {},
     "output_type": "execute_result"
    }
   ],
   "source": [
    "tp_fp_ratio_2018_np[np.where(tp_fp_ratio_2018_np[:,0] == np.max(tp_fp_ratio_2018_np[tp_fp_ratio_2018_np[:,1] < 0.005][:,0]))]"
   ]
  },
  {
   "cell_type": "code",
   "execution_count": null,
   "metadata": {},
   "outputs": [],
   "source": []
  }
 ],
 "metadata": {
  "kernelspec": {
   "display_name": "Python 3",
   "language": "python",
   "name": "python3"
  },
  "language_info": {
   "codemirror_mode": {
    "name": "ipython",
    "version": 3
   },
   "file_extension": ".py",
   "mimetype": "text/x-python",
   "name": "python",
   "nbconvert_exporter": "python",
   "pygments_lexer": "ipython3",
   "version": "3.8.5"
  }
 },
 "nbformat": 4,
 "nbformat_minor": 4
}
