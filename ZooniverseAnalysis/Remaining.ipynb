{
 "cells": [
  {
   "cell_type": "code",
   "execution_count": 10,
   "metadata": {},
   "outputs": [],
   "source": [
    "import numpy as np\n",
    "import pandas as pd\n",
    "import glob\n",
    "from astropy.table import Table\n",
    "import matplotlib.pyplot as plt\n",
    "import json \n",
    "import astropy"
   ]
  },
  {
   "cell_type": "code",
   "execution_count": 11,
   "metadata": {},
   "outputs": [],
   "source": [
    "SEDM_ML_sample = Table.read(\"C:/Users/20xha/Documents/Caltech/Research/superfit/ML_sample.ascii\", format = \"ascii\")\n",
    "SEDM_ML_sample.rename_column('col1', 'ZTF_Name')\n",
    "SEDM_ML_sample.rename_column('col2', \"Class\")\n",
    "SEDM_ML_sample.rename_column('col3', \"redshift\")\n",
    "SEDM_ML_sample.rename_column('col8', \"Version\")"
   ]
  },
  {
   "cell_type": "code",
   "execution_count": 12,
   "metadata": {},
   "outputs": [],
   "source": [
    "ZTF_I = Table.read(r\"C:\\Users\\20xha\\Documents\\Caltech\\Research\\sample_2020\\ztf_i_spectra\\sample/SEDM_ML_sample.ascii\", format = \"ascii\")\n",
    "ZTF_I.rename_column('col1', 'ZTF_Name')\n",
    "ZTF_I.rename_column('col2', \"Class\")\n",
    "ZTF_I.rename_column('col8', \"Version\")"
   ]
  },
  {
   "cell_type": "code",
   "execution_count": 13,
   "metadata": {},
   "outputs": [
    {
     "data": {
      "text/plain": [
       "8959"
      ]
     },
     "execution_count": 13,
     "metadata": {},
     "output_type": "execute_result"
    }
   ],
   "source": [
    "version = np.unique(SEDM_ML_sample[\"Version\"])\n",
    "len(SEDM_ML_sample)"
   ]
  },
  {
   "cell_type": "code",
   "execution_count": 14,
   "metadata": {},
   "outputs": [],
   "source": [
    "counter = 0\n",
    "locations = []\n",
    "for i in ZTF_I[\"Version\"]:\n",
    "    if(i not in version):\n",
    "        locations.append(counter)\n",
    "    counter += 1"
   ]
  },
  {
   "cell_type": "code",
   "execution_count": 15,
   "metadata": {},
   "outputs": [],
   "source": [
    "ZTF_I[locations].to_pandas().to_csv(\"Remaining.csv\", index = False)"
   ]
  },
  {
   "cell_type": "code",
   "execution_count": 16,
   "metadata": {},
   "outputs": [
    {
     "data": {
      "text/html": [
       "<i>Table length=1958</i>\n",
       "<table id=\"table2444936436656\" class=\"table-striped table-bordered table-condensed\">\n",
       "<thead><tr><th>ZTF_Name</th><th>Class</th><th>col3</th><th>col4</th><th>col5</th><th>col6</th><th>col7</th><th>Version</th><th>col9</th></tr></thead>\n",
       "<thead><tr><th>str12</th><th>str12</th><th>float64</th><th>float64</th><th>float64</th><th>float64</th><th>float64</th><th>str43</th><th>int32</th></tr></thead>\n",
       "<tr><td>ZTF18aamigmk</td><td>Ia</td><td>0.023</td><td>--</td><td>2458229.5</td><td>2459627.48</td><td>-1397.98</td><td>ZTF18aamigmk_20180421_Ekar_v1.ascii</td><td>1</td></tr>\n",
       "<tr><td>ZTF18aasuray</td><td>CLAGN</td><td>0.0397</td><td>--</td><td>2459189.5</td><td>2459805.57</td><td>-616.07</td><td>ZTF18aasuray_20201206_DCT_v1.ascii</td><td>0</td></tr>\n",
       "<tr><td>ZTF18aaupmks</td><td>Ia</td><td>0.04</td><td>--</td><td>2458256.5</td><td>2459643.49</td><td>-1386.99</td><td>ZTF18aaupmks_20180518_LT_v1.ascii</td><td>1</td></tr>\n",
       "<tr><td>ZTF18aavrzxp</td><td>Ia</td><td>0.07</td><td>--</td><td>2459190.5</td><td>2459651.29</td><td>-460.79</td><td>ZTF18aavrzxp_20201207_NOT_v1.ascii</td><td>1</td></tr>\n",
       "<tr><td>ZTF18aavrzxp</td><td>Ia</td><td>0.07</td><td>--</td><td>2459190.5</td><td>2459651.29</td><td>-460.79</td><td>ZTF18aavrzxp_20201207_NOT_v2.ascii</td><td>1</td></tr>\n",
       "<tr><td>ZTF18abdbgza</td><td>CV</td><td>0.0</td><td>--</td><td>2459141.5</td><td>2460522.25</td><td>-1380.75</td><td>ZTF18abdbgza_20201019_P60_v1.ascii</td><td>0</td></tr>\n",
       "<tr><td>ZTF18aaabltn</td><td>CLAGN</td><td>0.0458</td><td>--</td><td>2459137.5</td><td>2460282.23</td><td>-1144.73</td><td>ZTF18aaabltn_20201015_DCT_v1.ascii</td><td>0</td></tr>\n",
       "<tr><td>ZTF18abwkczr</td><td>Ia</td><td>0.038</td><td>--</td><td>2458382.5</td><td>2459779.41</td><td>-1396.91</td><td>ZTF18abwkczr_20180921_LT_v1.ascii</td><td>1</td></tr>\n",
       "<tr><td>ZTF18abyzkeq</td><td>CV</td><td>--</td><td>--</td><td>2459069.5</td><td>2460442.38</td><td>-1372.88</td><td>ZTF18abyzkeq_20200808_P60_v1.ascii</td><td>0</td></tr>\n",
       "<tr><td>ZTF18acaqbvs</td><td>Ia-91T</td><td>0.061</td><td>--</td><td>2458414.5</td><td>2459805.12</td><td>-1390.62</td><td>ZTF18acaqbvs_20181023_UH88_v1.ascii</td><td>1</td></tr>\n",
       "<tr><td>...</td><td>...</td><td>...</td><td>...</td><td>...</td><td>...</td><td>...</td><td>...</td><td>...</td></tr>\n",
       "<tr><td>ZTF20aavzffg</td><td>Ib</td><td>0.00525</td><td>0.00525</td><td>2459070.5</td><td>2458966.88</td><td>103.62</td><td>ZTF20aavzffg_20200809_P60_v1.ascii</td><td>2</td></tr>\n",
       "<tr><td>ZTF20aavzffg</td><td>Ib</td><td>0.00525</td><td>0.00525</td><td>2459141.5</td><td>2458966.88</td><td>174.62</td><td>ZTF20aavzffg_20201019_Keck1_v1.ascii</td><td>2</td></tr>\n",
       "<tr><td>ZTF20aawihxz</td><td>Ib</td><td>0.0182</td><td>0.0182</td><td>2459142.5</td><td>2458964.96</td><td>177.54</td><td>ZTF20aawihxz_20201020_Keck1_v1.ascii</td><td>2</td></tr>\n",
       "<tr><td>ZTF19aavjvkh</td><td>Ic</td><td>0.04077</td><td>0.04077</td><td>2459087.5</td><td>2458633.82</td><td>453.68</td><td>ZTF19aavjvkh_20200826_P200_v1.ascii</td><td>2</td></tr>\n",
       "<tr><td>ZTF19aavotnx</td><td>II</td><td>0.03417</td><td>0.03417</td><td>2459087.5</td><td>2458633.71</td><td>453.79</td><td>ZTF19aavotnx_20200826_P200_v1.ascii</td><td>2</td></tr>\n",
       "<tr><td>ZTF19aawhlcn</td><td>Ia-02cx</td><td>0.01129</td><td>0.01129</td><td>2459369.5</td><td>2458639.81</td><td>729.69</td><td>ZTF19aawhlcn_20210604_P200_v1.ascii</td><td>2</td></tr>\n",
       "<tr><td>ZTF19aavoayk</td><td>Ib</td><td>0.04519</td><td>0.04519</td><td>2459087.5</td><td>2458644.78</td><td>442.72</td><td>ZTF19aavoayk_20200826_P200_v1.ascii</td><td>2</td></tr>\n",
       "<tr><td>ZTF19aavoayk</td><td>Ib</td><td>0.04519</td><td>0.04519</td><td>2459087.5</td><td>2458644.78</td><td>442.72</td><td>ZTF19aavoayk_20200826_P200_v2.ascii</td><td>2</td></tr>\n",
       "<tr><td>ZTF19aavvygo</td><td>II</td><td>0.02378</td><td>0.02378</td><td>2459369.5</td><td>2458633.98</td><td>735.52</td><td>ZTF19aavvygo_20210604_P200_v1.ascii</td><td>2</td></tr>\n",
       "<tr><td>ZTF19aavweog</td><td>NaN</td><td>0.03346</td><td>0.03346</td><td>2459369.5</td><td>2458637.68</td><td>731.82</td><td>ZTF19aavweog_20210604_P200_v1.ascii</td><td>2</td></tr>\n",
       "</table>"
      ],
      "text/plain": [
       "<Table length=1958>\n",
       "  ZTF_Name    Class    col3  ...               Version                 col9\n",
       "   str12      str12  float64 ...                str43                 int32\n",
       "------------ ------- ------- ... ------------------------------------ -----\n",
       "ZTF18aamigmk      Ia   0.023 ...  ZTF18aamigmk_20180421_Ekar_v1.ascii     1\n",
       "ZTF18aasuray   CLAGN  0.0397 ...   ZTF18aasuray_20201206_DCT_v1.ascii     0\n",
       "ZTF18aaupmks      Ia    0.04 ...    ZTF18aaupmks_20180518_LT_v1.ascii     1\n",
       "ZTF18aavrzxp      Ia    0.07 ...   ZTF18aavrzxp_20201207_NOT_v1.ascii     1\n",
       "ZTF18aavrzxp      Ia    0.07 ...   ZTF18aavrzxp_20201207_NOT_v2.ascii     1\n",
       "ZTF18abdbgza      CV     0.0 ...   ZTF18abdbgza_20201019_P60_v1.ascii     0\n",
       "ZTF18aaabltn   CLAGN  0.0458 ...   ZTF18aaabltn_20201015_DCT_v1.ascii     0\n",
       "ZTF18abwkczr      Ia   0.038 ...    ZTF18abwkczr_20180921_LT_v1.ascii     1\n",
       "ZTF18abyzkeq      CV      -- ...   ZTF18abyzkeq_20200808_P60_v1.ascii     0\n",
       "ZTF18acaqbvs  Ia-91T   0.061 ...  ZTF18acaqbvs_20181023_UH88_v1.ascii     1\n",
       "         ...     ...     ... ...                                  ...   ...\n",
       "ZTF20aavzffg      Ib 0.00525 ...   ZTF20aavzffg_20200809_P60_v1.ascii     2\n",
       "ZTF20aavzffg      Ib 0.00525 ... ZTF20aavzffg_20201019_Keck1_v1.ascii     2\n",
       "ZTF20aawihxz      Ib  0.0182 ... ZTF20aawihxz_20201020_Keck1_v1.ascii     2\n",
       "ZTF19aavjvkh      Ic 0.04077 ...  ZTF19aavjvkh_20200826_P200_v1.ascii     2\n",
       "ZTF19aavotnx      II 0.03417 ...  ZTF19aavotnx_20200826_P200_v1.ascii     2\n",
       "ZTF19aawhlcn Ia-02cx 0.01129 ...  ZTF19aawhlcn_20210604_P200_v1.ascii     2\n",
       "ZTF19aavoayk      Ib 0.04519 ...  ZTF19aavoayk_20200826_P200_v1.ascii     2\n",
       "ZTF19aavoayk      Ib 0.04519 ...  ZTF19aavoayk_20200826_P200_v2.ascii     2\n",
       "ZTF19aavvygo      II 0.02378 ...  ZTF19aavvygo_20210604_P200_v1.ascii     2\n",
       "ZTF19aavweog     NaN 0.03346 ...  ZTF19aavweog_20210604_P200_v1.ascii     2"
      ]
     },
     "execution_count": 16,
     "metadata": {},
     "output_type": "execute_result"
    }
   ],
   "source": [
    "Table.read(\"Remaining.csv\")"
   ]
  },
  {
   "cell_type": "code",
   "execution_count": null,
   "metadata": {},
   "outputs": [],
   "source": []
  }
 ],
 "metadata": {
  "kernelspec": {
   "display_name": "Python 3",
   "language": "python",
   "name": "python3"
  },
  "language_info": {
   "codemirror_mode": {
    "name": "ipython",
    "version": 3
   },
   "file_extension": ".py",
   "mimetype": "text/x-python",
   "name": "python",
   "nbconvert_exporter": "python",
   "pygments_lexer": "ipython3",
   "version": "3.8.5"
  }
 },
 "nbformat": 4,
 "nbformat_minor": 4
}
