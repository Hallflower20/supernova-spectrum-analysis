{
 "cells": [
  {
   "cell_type": "code",
   "execution_count": 1,
   "metadata": {},
   "outputs": [],
   "source": [
    "import numpy as np\n",
    "import pandas as pd\n",
    "import glob\n",
    "from astropy.table import Table\n",
    "import matplotlib.pyplot as plt\n",
    "import json \n",
    "import astropy"
   ]
  },
  {
   "cell_type": "code",
   "execution_count": 2,
   "metadata": {},
   "outputs": [],
   "source": [
    "response_dict = {\n",
    "    \"#1\" : 1,\n",
    "    \"#2\" : 2,\n",
    "    \"#3\" : 3,\n",
    "    \"#4\" : 4,\n",
    "    \"#5\" : 5,\n",
    "    \"No good match\" : 0,\n",
    "}"
   ]
  },
  {
   "cell_type": "code",
   "execution_count": 3,
   "metadata": {},
   "outputs": [],
   "source": [
    "classification = Table.from_pandas(pd.read_csv(r'C:\\Users\\20xha\\Documents\\Caltech\\Research\\ZooniverseClassifications\\zwicky-chemical-factory-classifications.csv'))"
   ]
  },
  {
   "cell_type": "code",
   "execution_count": 4,
   "metadata": {},
   "outputs": [],
   "source": [
    "ccs_workflow = np.where(classification[\"workflow_name\"] == \"Core Collapse Supernovae\")"
   ]
  },
  {
   "cell_type": "code",
   "execution_count": 5,
   "metadata": {},
   "outputs": [
    {
     "data": {
      "text/html": [
       "<i>Row index=50</i>\n",
       "<table id=\"table2829698275024\">\n",
       "<thead><tr><th>classification_id</th><th>user_name</th><th>user_id</th><th>user_ip</th><th>workflow_id</th><th>workflow_name</th><th>workflow_version</th><th>created_at</th><th>gold_standard</th><th>expert</th><th>metadata</th><th>annotations</th><th>subject_data</th><th>subject_ids</th></tr></thead>\n",
       "<thead><tr><th>int64</th><th>str34</th><th>float64</th><th>str20</th><th>int64</th><th>str25</th><th>float64</th><th>str23</th><th>float64</th><th>float64</th><th>str1216</th><th>str532</th><th>str485</th><th>int64</th></tr></thead>\n",
       "<tr><td>294870524</td><td>ElisabethB</td><td>123.0</td><td>f0b7035305b19bffddb5</td><td>16969</td><td>Core Collapse Supernovae</td><td>8.21</td><td>2020-12-15 17:44:42 UTC</td><td>--</td><td>--</td><td>{&quot;source&quot;:&quot;api&quot;,&quot;session&quot;:&quot;06c502ec1de2f48926d7dda9135525359515b594dbd954df80e23f50da52fcdd&quot;,&quot;viewport&quot;:{&quot;width&quot;:1455,&quot;height&quot;:688},&quot;started_at&quot;:&quot;2020-12-15T17:44:36.313Z&quot;,&quot;user_agent&quot;:&quot;Mozilla/5.0 (Windows NT 10.0; Win64; x64) AppleWebKit/537.36 (KHTML, like Gecko) Chrome/87.0.4280.88 Safari/537.36&quot;,&quot;utc_offset&quot;:&quot;-3600&quot;,&quot;finished_at&quot;:&quot;2020-12-15T17:44:40.971Z&quot;,&quot;live_project&quot;:true,&quot;interventions&quot;:{&quot;opt_in&quot;:true,&quot;messageShown&quot;:false},&quot;user_language&quot;:&quot;en&quot;,&quot;user_group_ids&quot;:[],&quot;subject_dimensions&quot;:[{&quot;clientWidth&quot;:935,&quot;clientHeight&quot;:525,&quot;naturalWidth&quot;:4800,&quot;naturalHeight&quot;:2700},null,null,null,null],&quot;subject_selection_state&quot;:{&quot;retired&quot;:false,&quot;selected_at&quot;:&quot;2020-12-15T17:43:42.256Z&quot;,&quot;already_seen&quot;:false,&quot;selection_state&quot;:&quot;normal&quot;,&quot;finished_workflow&quot;:false,&quot;user_has_finished_workflow&quot;:false},&quot;workflow_translation_id&quot;:&quot;39739&quot;}</td><td>[{&quot;task&quot;:&quot;T0&quot;,&quot;task_label&quot;:&quot;Which spectrum is the best match?&quot;,&quot;value&quot;:&quot;No good match&quot;}]</td><td>{&quot;53626571&quot;:{&quot;retired&quot;:null,&quot;z_snid&quot;:0.024,&quot;!ZTF_Name&quot;:&quot;ZTF19aamljom&quot;,&quot;z_snid_err&quot;:0.005,&quot;!ZTF_Version&quot;:&quot;ZTF19aamljom_20190419_P60_v1&quot;}}</td><td>53626571</td></tr>\n",
       "</table>"
      ],
      "text/plain": [
       "<Row index=50>\n",
       "classification_id user_name  user_id       user_ip        workflow_id      workflow_name       workflow_version        created_at       gold_standard  expert                                                                                                                                                                                                                                                                                                                                                                                                                            metadata                                                                                                                                                                                                                                                                                                                                                                                                                                                                 annotations                                                                                                      subject_data                                                               subject_ids\n",
       "      int64         str34    float64        str20            int64             str25               float64               str23             float64    float64                                                                                                                                                                                                                                                                                                                                                                                                                            str1216                                                                                                                                                                                                                                                                                                                                                                                                                                                                     str532                                                                                                           str485                                                                     int64   \n",
       "----------------- ---------- ------- -------------------- ----------- ------------------------ ---------------- ----------------------- ------------- ------- ------------------------------------------------------------------------------------------------------------------------------------------------------------------------------------------------------------------------------------------------------------------------------------------------------------------------------------------------------------------------------------------------------------------------------------------------------------------------------------------------------------------------------------------------------------------------------------------------------------------------------------------------------------------------------------------------------------------------------------------------------------------------------------------------------------------------------------------------------------- ---------------------------------------------------------------------------------------- ---------------------------------------------------------------------------------------------------------------------------------------- -----------\n",
       "        294870524 ElisabethB   123.0 f0b7035305b19bffddb5       16969 Core Collapse Supernovae             8.21 2020-12-15 17:44:42 UTC            --      -- {\"source\":\"api\",\"session\":\"06c502ec1de2f48926d7dda9135525359515b594dbd954df80e23f50da52fcdd\",\"viewport\":{\"width\":1455,\"height\":688},\"started_at\":\"2020-12-15T17:44:36.313Z\",\"user_agent\":\"Mozilla/5.0 (Windows NT 10.0; Win64; x64) AppleWebKit/537.36 (KHTML, like Gecko) Chrome/87.0.4280.88 Safari/537.36\",\"utc_offset\":\"-3600\",\"finished_at\":\"2020-12-15T17:44:40.971Z\",\"live_project\":true,\"interventions\":{\"opt_in\":true,\"messageShown\":false},\"user_language\":\"en\",\"user_group_ids\":[],\"subject_dimensions\":[{\"clientWidth\":935,\"clientHeight\":525,\"naturalWidth\":4800,\"naturalHeight\":2700},null,null,null,null],\"subject_selection_state\":{\"retired\":false,\"selected_at\":\"2020-12-15T17:43:42.256Z\",\"already_seen\":false,\"selection_state\":\"normal\",\"finished_workflow\":false,\"user_has_finished_workflow\":false},\"workflow_translation_id\":\"39739\"} [{\"task\":\"T0\",\"task_label\":\"Which spectrum is the best match?\",\"value\":\"No good match\"}] {\"53626571\":{\"retired\":null,\"z_snid\":0.024,\"!ZTF_Name\":\"ZTF19aamljom\",\"z_snid_err\":0.005,\"!ZTF_Version\":\"ZTF19aamljom_20190419_P60_v1\"}}    53626571"
      ]
     },
     "execution_count": 5,
     "metadata": {},
     "output_type": "execute_result"
    }
   ],
   "source": [
    "classification[ccs_workflow][50]"
   ]
  },
  {
   "cell_type": "code",
   "execution_count": 6,
   "metadata": {},
   "outputs": [],
   "source": [
    "subject_ids_unique = np.unique(classification[ccs_workflow][\"subject_ids\"])"
   ]
  },
  {
   "cell_type": "code",
   "execution_count": 7,
   "metadata": {},
   "outputs": [],
   "source": [
    "right_workflow = classification[ccs_workflow]"
   ]
  },
  {
   "cell_type": "raw",
   "metadata": {},
   "source": [
    "data = []\n",
    "for ids in subject_ids_unique:\n",
    "    lines = np.where(classification[ccs_workflow][\"subject_ids\"] == ids)[0]\n",
    "    data.append([ids, lines])"
   ]
  },
  {
   "cell_type": "raw",
   "metadata": {},
   "source": [
    "data_np = np.asarray(data)"
   ]
  },
  {
   "cell_type": "raw",
   "metadata": {},
   "source": [
    "np.save(r'C:\\Users\\20xha\\Documents\\Caltech\\Research\\ZooniverseClassifications\\zwicky-chemical-factory-classifications', data_np)"
   ]
  },
  {
   "cell_type": "raw",
   "metadata": {},
   "source": [
    "data_np"
   ]
  },
  {
   "cell_type": "code",
   "execution_count": 8,
   "metadata": {},
   "outputs": [],
   "source": [
    "data_np = np.load(r'C:\\Users\\20xha\\Documents\\Caltech\\Research\\ZooniverseClassifications\\zwicky-chemical-factory-classifications.npy', allow_pickle = True)"
   ]
  },
  {
   "cell_type": "code",
   "execution_count": 9,
   "metadata": {},
   "outputs": [
    {
     "data": {
      "text/plain": [
       "1"
      ]
     },
     "execution_count": 9,
     "metadata": {},
     "output_type": "execute_result"
    }
   ],
   "source": [
    "len(data_np[:,1][0])"
   ]
  },
  {
   "cell_type": "code",
   "execution_count": 10,
   "metadata": {},
   "outputs": [],
   "source": [
    "data_array = []\n",
    "for i in data_np:\n",
    "    if(len(i[1]) > 10):\n",
    "        data_array.append([i[0], right_workflow[i[1]]])"
   ]
  },
  {
   "cell_type": "code",
   "execution_count": 11,
   "metadata": {},
   "outputs": [],
   "source": [
    "size = []\n",
    "for i in data_np[:,1]:\n",
    "    size.append(len(i))"
   ]
  },
  {
   "cell_type": "code",
   "execution_count": 12,
   "metadata": {},
   "outputs": [],
   "source": [
    "exec(\"dict =\" + data_array[0][1][\"annotations\"][0])"
   ]
  },
  {
   "cell_type": "code",
   "execution_count": 13,
   "metadata": {},
   "outputs": [
    {
     "data": {
      "text/plain": [
       "{'task': 'T0',\n",
       " 'task_label': 'Which spectrum is the best match?',\n",
       " 'value': '#1'}"
      ]
     },
     "execution_count": 13,
     "metadata": {},
     "output_type": "execute_result"
    }
   ],
   "source": [
    "json.loads(data_array[0][1][\"annotations\"][0])[0]"
   ]
  },
  {
   "cell_type": "code",
   "execution_count": 14,
   "metadata": {},
   "outputs": [
    {
     "data": {
      "text/plain": [
       "'1'"
      ]
     },
     "execution_count": 14,
     "metadata": {},
     "output_type": "execute_result"
    }
   ],
   "source": [
    "dict[0][\"value\"].split(\"#\")[-1]"
   ]
  },
  {
   "cell_type": "code",
   "execution_count": 15,
   "metadata": {},
   "outputs": [
    {
     "data": {
      "text/html": [
       "&lt;Column name=&apos;annotations&apos; dtype=&apos;str532&apos; length=12&gt;\n",
       "<table>\n",
       "<tr><td>[{&quot;task&quot;:&quot;T0&quot;,&quot;task_label&quot;:&quot;Which spectrum is the best match?&quot;,&quot;value&quot;:&quot;#1&quot;}]</td></tr>\n",
       "<tr><td>[{&quot;task&quot;:&quot;T0&quot;,&quot;task_label&quot;:&quot;Which spectrum is the best match?&quot;,&quot;value&quot;:&quot;#2&quot;}]</td></tr>\n",
       "<tr><td>[{&quot;task&quot;:&quot;T0&quot;,&quot;task_label&quot;:&quot;Which spectrum is the best match?&quot;,&quot;value&quot;:&quot;No good match&quot;}]</td></tr>\n",
       "<tr><td>[{&quot;task&quot;:&quot;T0&quot;,&quot;task_label&quot;:&quot;Which spectrum is the best match?&quot;,&quot;value&quot;:&quot;#1&quot;}]</td></tr>\n",
       "<tr><td>[{&quot;task&quot;:&quot;T0&quot;,&quot;task_label&quot;:&quot;Which spectrum is the best match?&quot;,&quot;value&quot;:&quot;#1&quot;}]</td></tr>\n",
       "<tr><td>[{&quot;task&quot;:&quot;T0&quot;,&quot;task_label&quot;:&quot;Which spectrum is the best match?&quot;,&quot;value&quot;:&quot;#1&quot;}]</td></tr>\n",
       "<tr><td>[{&quot;task&quot;:&quot;T0&quot;,&quot;task_label&quot;:&quot;Which spectrum is the best match?&quot;,&quot;value&quot;:&quot;#1&quot;}]</td></tr>\n",
       "<tr><td>[{&quot;task&quot;:&quot;T0&quot;,&quot;task_label&quot;:&quot;Which spectrum is the best match?&quot;,&quot;value&quot;:&quot;#1&quot;}]</td></tr>\n",
       "<tr><td>[{&quot;task&quot;:&quot;T0&quot;,&quot;task_label&quot;:&quot;Which spectrum is the best match?&quot;,&quot;value&quot;:&quot;#1&quot;}]</td></tr>\n",
       "<tr><td>[{&quot;task&quot;:&quot;T0&quot;,&quot;task_label&quot;:&quot;Which spectrum is the best match?&quot;,&quot;value&quot;:&quot;#2&quot;}]</td></tr>\n",
       "<tr><td>[{&quot;task&quot;:&quot;T0&quot;,&quot;task_label&quot;:&quot;Which spectrum is the best match?&quot;,&quot;value&quot;:&quot;#1&quot;}]</td></tr>\n",
       "<tr><td>[{&quot;task&quot;:&quot;T0&quot;,&quot;task_label&quot;:&quot;Which spectrum is the best match?&quot;,&quot;value&quot;:&quot;#1&quot;}]</td></tr>\n",
       "</table>"
      ],
      "text/plain": [
       "<Column name='annotations' dtype='str532' length=12>\n",
       "           [{\"task\":\"T0\",\"task_label\":\"Which spectrum is the best match?\",\"value\":\"#1\"}]\n",
       "           [{\"task\":\"T0\",\"task_label\":\"Which spectrum is the best match?\",\"value\":\"#2\"}]\n",
       "[{\"task\":\"T0\",\"task_label\":\"Which spectrum is the best match?\",\"value\":\"No good match\"}]\n",
       "           [{\"task\":\"T0\",\"task_label\":\"Which spectrum is the best match?\",\"value\":\"#1\"}]\n",
       "           [{\"task\":\"T0\",\"task_label\":\"Which spectrum is the best match?\",\"value\":\"#1\"}]\n",
       "           [{\"task\":\"T0\",\"task_label\":\"Which spectrum is the best match?\",\"value\":\"#1\"}]\n",
       "           [{\"task\":\"T0\",\"task_label\":\"Which spectrum is the best match?\",\"value\":\"#1\"}]\n",
       "           [{\"task\":\"T0\",\"task_label\":\"Which spectrum is the best match?\",\"value\":\"#1\"}]\n",
       "           [{\"task\":\"T0\",\"task_label\":\"Which spectrum is the best match?\",\"value\":\"#1\"}]\n",
       "           [{\"task\":\"T0\",\"task_label\":\"Which spectrum is the best match?\",\"value\":\"#2\"}]\n",
       "           [{\"task\":\"T0\",\"task_label\":\"Which spectrum is the best match?\",\"value\":\"#1\"}]\n",
       "           [{\"task\":\"T0\",\"task_label\":\"Which spectrum is the best match?\",\"value\":\"#1\"}]"
      ]
     },
     "execution_count": 15,
     "metadata": {},
     "output_type": "execute_result"
    }
   ],
   "source": [
    "data_array[0][1][\"annotations\"]"
   ]
  },
  {
   "cell_type": "code",
   "execution_count": 16,
   "metadata": {},
   "outputs": [
    {
     "data": {
      "text/plain": [
       "{'retired': None,\n",
       " 'z_snid': 0.0,\n",
       " '!ZTF_Name': 'ZTF17aaajnki',\n",
       " 'z_snid_err': 0.002,\n",
       " '!ZTF_Version': 'ZTF17aaajnki_20180320_P60_v2'}"
      ]
     },
     "execution_count": 16,
     "metadata": {},
     "output_type": "execute_result"
    }
   ],
   "source": [
    "json.loads(data_array[0][1][0][\"subject_data\"])['53623567']"
   ]
  },
  {
   "cell_type": "code",
   "execution_count": 17,
   "metadata": {},
   "outputs": [],
   "source": [
    "ResultsTable_Zooniverse = Table(\n",
    "                    names=(\"ZTF_Name\", \"Version\", \"subject_ids\", \"NoMatch\", \"#1\", \"#2\", \"#3\", \"#4\", \"#5\"\n",
    "                    ),\n",
    "                    meta={\"name\": \"Spectrum Results after Zooniverse\"},\n",
    "                    dtype=(\"U64\", \"U64\", \"int32\", \"int32\", \"int32\", \"int32\", \"int32\", \"int32\", \"int32\"\n",
    "                          )\n",
    "                    )\n",
    "for line in data_array:\n",
    "    row = []\n",
    "    data = line[1]\n",
    "    metadata = json.loads(data[0][\"subject_data\"])[str(line[0])]\n",
    "    row.append(metadata[\"!ZTF_Name\"])\n",
    "    row.append(metadata[\"!ZTF_Version\"] + \".ascii\")\n",
    "    row.append(line[0])\n",
    "    responses = [0, 0, 0, 0, 0, 0]\n",
    "    for i in data:\n",
    "        value = json.loads(i[\"annotations\"])[0][\"value\"]\n",
    "        if(value is not None):\n",
    "            index = response_dict[value]\n",
    "            responses[index] = responses[index] + 1\n",
    "    row.extend(responses)\n",
    "    ResultsTable_Zooniverse.add_row(row)"
   ]
  },
  {
   "cell_type": "code",
   "execution_count": null,
   "metadata": {},
   "outputs": [],
   "source": [
    "metadata = json.loads(data[0][\"subject_data\"])[str(line[0])]\n",
    "value = json.loads(i[\"annotations\"])[0][\"value\"]"
   ]
  },
  {
   "cell_type": "code",
   "execution_count": 18,
   "metadata": {},
   "outputs": [
    {
     "data": {
      "text/plain": [
       "5109"
      ]
     },
     "execution_count": 18,
     "metadata": {},
     "output_type": "execute_result"
    }
   ],
   "source": [
    "np.sum(ResultsTable_Zooniverse[\"NoMatch\"])"
   ]
  },
  {
   "cell_type": "code",
   "execution_count": 19,
   "metadata": {},
   "outputs": [
    {
     "data": {
      "text/plain": [
       "6521"
      ]
     },
     "execution_count": 19,
     "metadata": {},
     "output_type": "execute_result"
    }
   ],
   "source": [
    "np.sum(ResultsTable_Zooniverse[\"#1\"])"
   ]
  },
  {
   "cell_type": "code",
   "execution_count": 20,
   "metadata": {},
   "outputs": [
    {
     "data": {
      "text/plain": [
       "4389"
      ]
     },
     "execution_count": 20,
     "metadata": {},
     "output_type": "execute_result"
    }
   ],
   "source": [
    "np.sum(ResultsTable_Zooniverse[\"#2\"])"
   ]
  },
  {
   "cell_type": "code",
   "execution_count": 21,
   "metadata": {},
   "outputs": [
    {
     "data": {
      "text/plain": [
       "4093"
      ]
     },
     "execution_count": 21,
     "metadata": {},
     "output_type": "execute_result"
    }
   ],
   "source": [
    "np.sum(ResultsTable_Zooniverse[\"#3\"])"
   ]
  },
  {
   "cell_type": "code",
   "execution_count": 22,
   "metadata": {},
   "outputs": [
    {
     "data": {
      "text/plain": [
       "3720"
      ]
     },
     "execution_count": 22,
     "metadata": {},
     "output_type": "execute_result"
    }
   ],
   "source": [
    "np.sum(ResultsTable_Zooniverse[\"#4\"])"
   ]
  },
  {
   "cell_type": "code",
   "execution_count": 23,
   "metadata": {},
   "outputs": [
    {
     "data": {
      "text/plain": [
       "3813"
      ]
     },
     "execution_count": 23,
     "metadata": {},
     "output_type": "execute_result"
    }
   ],
   "source": [
    "np.sum(ResultsTable_Zooniverse[\"#5\"])"
   ]
  },
  {
   "cell_type": "code",
   "execution_count": 24,
   "metadata": {},
   "outputs": [],
   "source": [
    "ResultsTable_Zooniverse.to_pandas().to_csv(\"FirstAnalysis.csv\")"
   ]
  },
  {
   "cell_type": "code",
   "execution_count": 25,
   "metadata": {},
   "outputs": [],
   "source": [
    "snidoutput = Table.from_pandas(pd.read_csv(\"SNID_2020_output.csv\"))"
   ]
  },
  {
   "cell_type": "code",
   "execution_count": 26,
   "metadata": {},
   "outputs": [],
   "source": [
    "joined_results = astropy.table.join(snidoutput, ResultsTable_Zooniverse)"
   ]
  },
  {
   "cell_type": "code",
   "execution_count": 27,
   "metadata": {},
   "outputs": [],
   "source": [
    "ResultsTable_Zooniverse_Classes = Table(\n",
    "                    names=(\"ZTF_Name\", \"Version\", \"subject_ids\", 'Ia', 'Ia-norm', 'Ia-91T', 'Ia-91bg', 'Ia-csm', 'Ia-02cx', 'Ia-03fg',\n",
    "                           'Ib', 'Ib-norm', 'IIb', 'Ibn', 'Ic', 'Ic-norm', 'Ic-BL', 'Ic-SLSN', 'II', 'II-norm', 'IIn',\n",
    "                           'NotSN', 'AGN', 'Gal', 'LBV', 'M-star', 'QSO', 'C-star', 'TDE', \"NoMatch\", \"rlap\", \"z\"\n",
    "                    ),\n",
    "                    meta={\"name\": \"Vote Types\"},\n",
    "                    dtype=(\"U64\", \"U64\", \"int32\", \"int32\", \"int32\", \"int32\", \"int32\", \"int32\" , \"int32\", \"int32\", \"int32\", \"int32\", \"int32\", \"int32\",\n",
    "                           \"int32\", \"int32\", \"int32\", \"int32\", \"int32\", \"int32\", \"int32\", \"int32\", \"int32\", \"int32\", \"int32\", \"int32\", \"int32\", \"int32\", \"int32\", \"int32\", \"float32\", \"float32\"\n",
    "                          )\n",
    "                    )\n",
    "\n",
    "for i in range(len(joined_results)):\n",
    "    line = joined_results[i]\n",
    "    row = [line[\"ZTF_Name\"], line[\"Version\"], line[\"subject_ids\"]]\n",
    "    row.extend(np.zeros(28))\n",
    "    row.append(line[\"NoMatch\"])\n",
    "    ResultsTable_Zooniverse_Classes.add_row(row)\n",
    "    ResultsTable_Zooniverse_Classes[i][line[\"c_snid_1\"]] += line[\"#1\"]\n",
    "    ResultsTable_Zooniverse_Classes[i][line[\"c_snid_2\"]] += line[\"#2\"]\n",
    "    ResultsTable_Zooniverse_Classes[i][line[\"c_snid_3\"]] += line[\"#3\"]\n",
    "    ResultsTable_Zooniverse_Classes[i][line[\"c_snid_4\"]] += line[\"#4\"]\n",
    "    ResultsTable_Zooniverse_Classes[i][line[\"c_snid_5\"]] += line[\"#5\"]\n",
    "    top_line = [line[\"c_snid_1\"], line[\"c_snid_2\"], line[\"c_snid_3\"],line[\"c_snid_4\"], line[\"c_snid_5\"]]\n",
    "    classes = np.unique(top_line)\n",
    "    votes = ResultsTable_Zooniverse_Classes[i][classes.tolist()]\n",
    "    vote_data = []\n",
    "    for j in votes:\n",
    "        vote_data.append(j)\n",
    "    best = np.where(np.asarray(top_line) == classes[np.argmax(vote_data)])[0][0]\n",
    "    ResultsTable_Zooniverse_Classes[i][\"rlap\"] = line[\"rlap_{}\".format(best + 1)]\n",
    "    ResultsTable_Zooniverse_Classes[i][\"z\"] = line[\"z_snid_{}\".format(best + 1)]"
   ]
  },
  {
   "cell_type": "code",
   "execution_count": 28,
   "metadata": {},
   "outputs": [
    {
     "data": {
      "text/plain": [
       "2518"
      ]
     },
     "execution_count": 28,
     "metadata": {},
     "output_type": "execute_result"
    }
   ],
   "source": [
    "len(joined_results)"
   ]
  },
  {
   "cell_type": "code",
   "execution_count": 29,
   "metadata": {},
   "outputs": [
    {
     "data": {
      "text/html": [
       "<i>Table length=2518</i>\n",
       "<table id=\"table2828247789328\" class=\"table-striped table-bordered table-condensed\">\n",
       "<thead><tr><th>Version</th><th>ZTF_Name</th><th>z_sntemplate</th><th>z_rlap</th><th>z_snid</th><th>z_snid_err</th><th>z_level</th><th>rank_1</th><th>sntemplate_1</th><th>rlap_1</th><th>c_snid_1</th><th>z_snid_1</th><th>z_snid_err_1</th><th>age_1</th><th>age_flag_1</th><th>rank_2</th><th>sntemplate_2</th><th>rlap_2</th><th>c_snid_2</th><th>z_snid_2</th><th>z_snid_err_2</th><th>age_2</th><th>age_flag_2</th><th>rank_3</th><th>sntemplate_3</th><th>rlap_3</th><th>c_snid_3</th><th>z_snid_3</th><th>z_snid_err_3</th><th>age_3</th><th>age_flag_3</th><th>rank_4</th><th>sntemplate_4</th><th>rlap_4</th><th>c_snid_4</th><th>z_snid_4</th><th>z_snid_err_4</th><th>age_4</th><th>age_flag_4</th><th>rank_5</th><th>sntemplate_5</th><th>rlap_5</th><th>c_snid_5</th><th>z_snid_5</th><th>z_snid_err_5</th><th>age_5</th><th>age_flag_5</th><th>subject_ids</th><th>NoMatch</th><th>#1</th><th>#2</th><th>#3</th><th>#4</th><th>#5</th></tr></thead>\n",
       "<thead><tr><th>str64</th><th>str64</th><th>str12</th><th>float64</th><th>float64</th><th>float64</th><th>int64</th><th>int64</th><th>str12</th><th>float64</th><th>str7</th><th>float64</th><th>float64</th><th>float64</th><th>int64</th><th>int64</th><th>str12</th><th>float64</th><th>str7</th><th>float64</th><th>float64</th><th>float64</th><th>int64</th><th>int64</th><th>str12</th><th>float64</th><th>str7</th><th>float64</th><th>float64</th><th>float64</th><th>int64</th><th>int64</th><th>str12</th><th>float64</th><th>str7</th><th>float64</th><th>float64</th><th>float64</th><th>int64</th><th>int64</th><th>str12</th><th>float64</th><th>str7</th><th>float64</th><th>float64</th><th>float64</th><th>int64</th><th>int32</th><th>int32</th><th>int32</th><th>int32</th><th>int32</th><th>int32</th><th>int32</th></tr></thead>\n",
       "<tr><td>ZTF17aaajnki_20180320_P60_v2.ascii</td><td>ZTF17aaajnki</td><td>kcSB2</td><td>18.27</td><td>-0.0004</td><td>0.0015</td><td>1</td><td>1</td><td>kcSB2</td><td>18.27</td><td>Gal</td><td>-0.0004</td><td>0.0015</td><td>-99.9</td><td>2</td><td>2</td><td>kcSB1</td><td>17.68</td><td>Gal</td><td>-0.0003</td><td>0.0015</td><td>-99.9</td><td>2</td><td>3</td><td>PS1-10bzj</td><td>11.43</td><td>Ic-SLSN</td><td>-0.0001</td><td>0.0024</td><td>6.55</td><td>0</td><td>5</td><td>kcSB4</td><td>5.82</td><td>Gal</td><td>-0.0006</td><td>0.004</td><td>-99.9</td><td>2</td><td>8</td><td>sn07it</td><td>5.14</td><td>II-norm</td><td>0.0003</td><td>0.0051</td><td>191.0</td><td>0</td><td>53623567</td><td>1</td><td>9</td><td>2</td><td>0</td><td>0</td><td>0</td></tr>\n",
       "<tr><td>ZTF17aaapufz_20190304_P200_v1.ascii</td><td>ZTF17aaapufz</td><td>kcSc</td><td>28.52</td><td>0.0025</td><td>0.0006</td><td>1</td><td>1</td><td>kcSc</td><td>28.52</td><td>Gal</td><td>0.0025</td><td>0.0006</td><td>-99.9</td><td>2</td><td>2</td><td>kcSB4</td><td>26.83</td><td>Gal</td><td>0.0022</td><td>0.0007</td><td>-99.9</td><td>2</td><td>3</td><td>kcSB5</td><td>22.66</td><td>Gal</td><td>0.0025</td><td>0.0008</td><td>-99.9</td><td>2</td><td>8</td><td>agn</td><td>14.22</td><td>AGN</td><td>0.0023</td><td>0.0014</td><td>-99.9</td><td>2</td><td>9</td><td>qso</td><td>12.11</td><td>QSO</td><td>0.0025</td><td>0.0016</td><td>-100.0</td><td>2</td><td>53623569</td><td>1</td><td>9</td><td>0</td><td>1</td><td>0</td><td>0</td></tr>\n",
       "<tr><td>ZTF17aaaukqn_20180904_P60_v1.ascii</td><td>ZTF17aaaukqn</td><td>sn97ef</td><td>6.95</td><td>0.3262</td><td>0.0146</td><td>0</td><td>1</td><td>sn97ef</td><td>6.95</td><td>Ic-BL</td><td>0.3262</td><td>0.0146</td><td>-14.0</td><td>0</td><td>7</td><td>sn2003W</td><td>4.54</td><td>Ia-norm</td><td>0.4743</td><td>0.0108</td><td>28.0</td><td>0</td><td>10</td><td>sn2005cf</td><td>4.3</td><td>Ia-norm</td><td>0.4432</td><td>0.0134</td><td>-6.6</td><td>0</td><td>16</td><td>sn1999gp</td><td>4.12</td><td>Ia-91T</td><td>0.4702</td><td>0.0123</td><td>35.1</td><td>0</td><td>17</td><td>sn03du</td><td>4.11</td><td>Ia-norm</td><td>0.4409</td><td>0.0122</td><td>-5.0</td><td>0</td><td>53623570</td><td>4</td><td>7</td><td>0</td><td>0</td><td>0</td><td>0</td></tr>\n",
       "<tr><td>ZTF17aaazdba_20190315_P60_v1.ascii</td><td>ZTF17aaazdba</td><td>sn2013dg</td><td>4.27</td><td>0.2648</td><td>0.0143</td><td>1</td><td>1</td><td>sn2013dg</td><td>4.27</td><td>Ic-SLSN</td><td>0.2648</td><td>0.0143</td><td>5.16</td><td>0</td><td>2</td><td>ASASSN-15lh</td><td>4.2</td><td>Ic-SLSN</td><td>0.2981</td><td>0.0191</td><td>20.28</td><td>0</td><td>3</td><td>sn96L</td><td>4.15</td><td>IIn</td><td>0.3161</td><td>0.0071</td><td>322.8</td><td>0</td><td>7</td><td>sn2007C</td><td>4.07</td><td>Ib-norm</td><td>0.4644</td><td>0.0127</td><td>13.8</td><td>0</td><td>9</td><td>sn05gj</td><td>3.76</td><td>Ia-csm</td><td>0.0529</td><td>0.0182</td><td>48.11</td><td>0</td><td>53623579</td><td>7</td><td>3</td><td>0</td><td>0</td><td>0</td><td>1</td></tr>\n",
       "<tr><td>ZTF17aaazdba_20190424_P60_v1.ascii</td><td>ZTF17aaazdba</td><td>sn90N</td><td>7.32</td><td>0.9621</td><td>0.0085</td><td>0</td><td>1</td><td>sn90N</td><td>7.32</td><td>Ia-norm</td><td>0.9621</td><td>0.0085</td><td>-6.4</td><td>0</td><td>3</td><td>SSS120810-23</td><td>6.15</td><td>Ic-SLSN</td><td>0.7381</td><td>0.0144</td><td>38.63</td><td>0</td><td>4</td><td>sn2015bn</td><td>5.83</td><td>Ic-SLSN</td><td>0.4979</td><td>0.0072</td><td>5.84</td><td>0</td><td>5</td><td>sn2013dx</td><td>5.41</td><td>Ic-BL</td><td>0.5423</td><td>0.016</td><td>-3.2</td><td>0</td><td>6</td><td>sn2008ax</td><td>5.32</td><td>IIb</td><td>0.7182</td><td>0.0101</td><td>-13.0</td><td>0</td><td>53623588</td><td>2</td><td>0</td><td>1</td><td>7</td><td>1</td><td>0</td></tr>\n",
       "<tr><td>ZTF17aaazdba_20190925_Keck1_v4.ascii</td><td>ZTF17aaazdba</td><td>ASASSN14li</td><td>12.26</td><td>0.0225</td><td>0.002</td><td>1</td><td>1</td><td>ASASSN14li</td><td>12.26</td><td>TDE</td><td>0.0225</td><td>0.002</td><td>136.0</td><td>1</td><td>2</td><td>sn1994I</td><td>7.1</td><td>Ic-norm</td><td>0.0431</td><td>0.0105</td><td>3.5</td><td>0</td><td>3</td><td>sn97ef</td><td>7.1</td><td>Ic-BL</td><td>0.0431</td><td>0.0134</td><td>13.8</td><td>0</td><td>4</td><td>sn1999by</td><td>6.99</td><td>Ia-91bg</td><td>0.0409</td><td>0.0093</td><td>4.0</td><td>0</td><td>13</td><td>sn2002ap</td><td>5.88</td><td>Ic-BL</td><td>0.0424</td><td>0.0137</td><td>11.6</td><td>0</td><td>53623594</td><td>0</td><td>11</td><td>0</td><td>0</td><td>0</td><td>0</td></tr>\n",
       "<tr><td>ZTF17aaburzk_20180717_P60_v1.ascii</td><td>ZTF17aaburzk</td><td>sn87A</td><td>7.8</td><td>0.0234</td><td>0.0089</td><td>1</td><td>1</td><td>sn87A</td><td>7.8</td><td>II-norm</td><td>0.0234</td><td>0.0089</td><td>11.3</td><td>0</td><td>2</td><td>sn2003Y</td><td>7.76</td><td>Ia-91bg</td><td>0.0333</td><td>0.0094</td><td>-6.3</td><td>0</td><td>10</td><td>sn2006ep</td><td>6.69</td><td>Ib-norm</td><td>0.0228</td><td>0.0108</td><td>8.5</td><td>0</td><td>17</td><td>sn1995F</td><td>6.39</td><td>Ic-norm</td><td>0.0267</td><td>0.0111</td><td>1.9</td><td>1</td><td>21</td><td>sn2007ax</td><td>6.16</td><td>Ia-91bg</td><td>0.0302</td><td>0.0123</td><td>-1.9</td><td>0</td><td>53623599</td><td>7</td><td>0</td><td>1</td><td>1</td><td>0</td><td>2</td></tr>\n",
       "<tr><td>ZTF18aaabltn_20190502_DCT_v1.ascii</td><td>ZTF18aaabltn</td><td>qso</td><td>22.9</td><td>0.045</td><td>0.0012</td><td>1</td><td>1</td><td>qso</td><td>22.9</td><td>QSO</td><td>0.045</td><td>0.0012</td><td>-100.0</td><td>2</td><td>2</td><td>agn</td><td>21.11</td><td>AGN</td><td>0.0449</td><td>0.0014</td><td>-99.9</td><td>2</td><td>3</td><td>sn06bc</td><td>13.66</td><td>II-norm</td><td>0.0444</td><td>0.0018</td><td>9.0</td><td>0</td><td>4</td><td>kcSB3</td><td>11.93</td><td>Gal</td><td>0.0457</td><td>0.0019</td><td>-99.9</td><td>2</td><td>5</td><td>kcSB5</td><td>10.74</td><td>Gal</td><td>0.045</td><td>0.0021</td><td>-99.9</td><td>2</td><td>53623603</td><td>0</td><td>1</td><td>7</td><td>1</td><td>1</td><td>1</td></tr>\n",
       "<tr><td>ZTF18aaadtdc_20181106_P60_v1.ascii</td><td>ZTF18aaadtdc</td><td>agn</td><td>30.5</td><td>0.0359</td><td>0.0013</td><td>1</td><td>1</td><td>agn</td><td>30.5</td><td>AGN</td><td>0.0359</td><td>0.0013</td><td>-99.9</td><td>2</td><td>2</td><td>qso</td><td>23.31</td><td>QSO</td><td>0.0358</td><td>0.0015</td><td>-100.0</td><td>2</td><td>3</td><td>kcSB5</td><td>14.41</td><td>Gal</td><td>0.0359</td><td>0.0024</td><td>-99.9</td><td>2</td><td>4</td><td>kcSB3</td><td>12.83</td><td>Gal</td><td>0.0366</td><td>0.0026</td><td>-99.9</td><td>2</td><td>5</td><td>sn06bc</td><td>12.54</td><td>II-norm</td><td>0.0352</td><td>0.0027</td><td>9.0</td><td>0</td><td>53623604</td><td>0</td><td>10</td><td>0</td><td>0</td><td>0</td><td>0</td></tr>\n",
       "<tr><td>ZTF18aaaibml_20200219_Keck1_v1.ascii</td><td>ZTF18aaaibml</td><td>kcSc</td><td>33.03</td><td>0.0348</td><td>0.0006</td><td>1</td><td>1</td><td>kcSc</td><td>33.03</td><td>Gal</td><td>0.0348</td><td>0.0006</td><td>-99.9</td><td>2</td><td>2</td><td>kcSB4</td><td>28.09</td><td>Gal</td><td>0.0345</td><td>0.0007</td><td>-99.9</td><td>2</td><td>3</td><td>kcSB5</td><td>26.31</td><td>Gal</td><td>0.0348</td><td>0.0007</td><td>-99.9</td><td>2</td><td>8</td><td>agn</td><td>16.73</td><td>AGN</td><td>0.0346</td><td>0.0014</td><td>-99.9</td><td>2</td><td>9</td><td>qso</td><td>13.57</td><td>QSO</td><td>0.0347</td><td>0.0015</td><td>-100.0</td><td>2</td><td>53623608</td><td>1</td><td>7</td><td>1</td><td>0</td><td>2</td><td>0</td></tr>\n",
       "<tr><td>...</td><td>...</td><td>...</td><td>...</td><td>...</td><td>...</td><td>...</td><td>...</td><td>...</td><td>...</td><td>...</td><td>...</td><td>...</td><td>...</td><td>...</td><td>...</td><td>...</td><td>...</td><td>...</td><td>...</td><td>...</td><td>...</td><td>...</td><td>...</td><td>...</td><td>...</td><td>...</td><td>...</td><td>...</td><td>...</td><td>...</td><td>...</td><td>...</td><td>...</td><td>...</td><td>...</td><td>...</td><td>...</td><td>...</td><td>...</td><td>...</td><td>...</td><td>...</td><td>...</td><td>...</td><td>...</td><td>...</td><td>...</td><td>...</td><td>...</td><td>...</td><td>...</td><td>...</td><td>...</td></tr>\n",
       "<tr><td>ZTF20abmubmh_20200725_P60_v1.ascii</td><td>ZTF20abmubmh</td><td>sn1999ej</td><td>13.51</td><td>0.0642</td><td>0.0041</td><td>1</td><td>1</td><td>sn1999ej</td><td>13.51</td><td>Ia-norm</td><td>0.0642</td><td>0.0041</td><td>11.0</td><td>0</td><td>2</td><td>sn1996bl</td><td>12.42</td><td>Ia-norm</td><td>0.0655</td><td>0.0046</td><td>18.1</td><td>0</td><td>3</td><td>sn07fb</td><td>12.18</td><td>Ia-norm</td><td>0.0665</td><td>0.0045</td><td>14.63</td><td>0</td><td>4</td><td>sn1994D</td><td>12.07</td><td>Ia-norm</td><td>0.0669</td><td>0.0047</td><td>12.8</td><td>0</td><td>72</td><td>sn1999aa</td><td>9.72</td><td>Ia-91T</td><td>0.0657</td><td>0.0055</td><td>20.1</td><td>0</td><td>53642454</td><td>1</td><td>0</td><td>2</td><td>3</td><td>0</td><td>5</td></tr>\n",
       "<tr><td>ZTF20abmxovj_20200730_P60_v1.ascii</td><td>ZTF20abmxovj</td><td>sn2006gr</td><td>10.99</td><td>0.1026</td><td>0.006999999999999999</td><td>1</td><td>1</td><td>sn2006gr</td><td>10.99</td><td>Ia-norm</td><td>0.1026</td><td>0.006999999999999999</td><td>-6.9</td><td>0</td><td>2</td><td>sn2006cj</td><td>9.96</td><td>Ia-norm</td><td>0.0835</td><td>0.0065</td><td>5.4</td><td>0</td><td>4</td><td>sn1999ee</td><td>9.56</td><td>Ia-norm</td><td>0.0978</td><td>0.0077</td><td>-7.2</td><td>0</td><td>7</td><td>sn2006oa</td><td>9.34</td><td>Ia-91T</td><td>0.0923</td><td>0.0082</td><td>-5.7</td><td>0</td><td>8</td><td>sn2006S</td><td>9.27</td><td>Ia-norm</td><td>0.0916</td><td>0.0075</td><td>-5.5</td><td>0</td><td>53642456</td><td>1</td><td>1</td><td>6</td><td>0</td><td>0</td><td>3</td></tr>\n",
       "<tr><td>ZTF20abmxovj_20200730_P60_v2.ascii</td><td>ZTF20abmxovj</td><td>sn2006gr</td><td>10.55</td><td>0.1048</td><td>0.0071</td><td>1</td><td>1</td><td>sn2006gr</td><td>10.55</td><td>Ia-norm</td><td>0.1048</td><td>0.0071</td><td>-6.9</td><td>0</td><td>2</td><td>sn2006S</td><td>10.44</td><td>Ia-norm</td><td>0.094</td><td>0.0067</td><td>-5.5</td><td>0</td><td>4</td><td>sn01eh</td><td>10.1</td><td>Ia-norm</td><td>0.0915</td><td>0.0067</td><td>-4.53</td><td>0</td><td>8</td><td>sn2006oa</td><td>9.58</td><td>Ia-91T</td><td>0.0941</td><td>0.0081</td><td>-5.7</td><td>0</td><td>9</td><td>sn99ee</td><td>9.45</td><td>Ia-norm</td><td>0.0999</td><td>0.0075</td><td>-6.7</td><td>0</td><td>53642457</td><td>2</td><td>0</td><td>2</td><td>1</td><td>2</td><td>2</td></tr>\n",
       "<tr><td>ZTF20abndzyc_20200727_P60_v1.ascii</td><td>ZTF20abndzyc</td><td>sn2003ic</td><td>10.61</td><td>0.0678</td><td>0.0057</td><td>1</td><td>1</td><td>sn2003ic</td><td>10.61</td><td>Ia-norm</td><td>0.0678</td><td>0.0057</td><td>3.4</td><td>0</td><td>3</td><td>sn2006cj</td><td>8.09</td><td>Ia-norm</td><td>0.0662</td><td>0.0074</td><td>5.4</td><td>0</td><td>4</td><td>sn2006cf</td><td>7.92</td><td>Ia-norm</td><td>0.0641</td><td>0.0078</td><td>2.7</td><td>0</td><td>10</td><td>sn2001eh</td><td>6.73</td><td>Ia-91T</td><td>0.0719</td><td>0.0106</td><td>-4.9</td><td>0</td><td>11</td><td>sn2006ck</td><td>6.71</td><td>Ic-norm</td><td>0.0644</td><td>0.011000000000000001</td><td>1.0</td><td>1</td><td>53642466</td><td>1</td><td>3</td><td>5</td><td>0</td><td>3</td><td>0</td></tr>\n",
       "<tr><td>ZTF20abnlsww_20200801_P60_v1.ascii</td><td>ZTF20abnlsww</td><td>sn99ee</td><td>7.47</td><td>0.0967</td><td>0.0081</td><td>1</td><td>1</td><td>sn99ee</td><td>7.47</td><td>Ia-norm</td><td>0.0967</td><td>0.0081</td><td>-6.7</td><td>0</td><td>5</td><td>sn1999ac</td><td>6.82</td><td>Ia-91T</td><td>0.0786</td><td>0.008</td><td>2.7</td><td>0</td><td>6</td><td>sn2006gr</td><td>6.65</td><td>Ia-norm</td><td>0.1019</td><td>0.0091</td><td>-6.0</td><td>0</td><td>7</td><td>sn06et</td><td>6.58</td><td>Ia-norm</td><td>0.083</td><td>0.0089</td><td>3.71</td><td>0</td><td>23</td><td>iPTF13bvn</td><td>5.86</td><td>Ib-norm</td><td>0.14300000000000002</td><td>0.0078</td><td>-12.7</td><td>0</td><td>53642468</td><td>3</td><td>0</td><td>1</td><td>5</td><td>2</td><td>0</td></tr>\n",
       "<tr><td>ZTF20abnnfpv_20200723_P60_v2.ascii</td><td>ZTF20abnnfpv</td><td>sn1987A</td><td>10.22</td><td>0.040999999999999995</td><td>0.0048</td><td>1</td><td>1</td><td>sn1987A</td><td>10.22</td><td>II-norm</td><td>0.040999999999999995</td><td>0.0048</td><td>-78.8</td><td>0</td><td>7</td><td>sn07il</td><td>9.01</td><td>II-norm</td><td>0.0218</td><td>0.0041</td><td>52.0</td><td>0</td><td>15</td><td>sn2006bp</td><td>7.87</td><td>II-norm</td><td>0.0362</td><td>0.0062</td><td>8.1</td><td>0</td><td>23</td><td>sn92H</td><td>7.55</td><td>II-norm</td><td>0.0252</td><td>0.0052</td><td>44.3</td><td>0</td><td>41</td><td>sn94D</td><td>6.44</td><td>Ia-norm</td><td>0.0403</td><td>0.0099</td><td>26.2</td><td>0</td><td>53642471</td><td>0</td><td>1</td><td>7</td><td>0</td><td>3</td><td>0</td></tr>\n",
       "<tr><td>ZTF20abnrdse_20200803_P60_v1.ascii</td><td>ZTF20abnrdse</td><td>sn1998es</td><td>8.04</td><td>0.0768</td><td>0.009000000000000001</td><td>1</td><td>1</td><td>sn1998es</td><td>8.04</td><td>Ia-91T</td><td>0.0768</td><td>0.009000000000000001</td><td>-11.4</td><td>0</td><td>3</td><td>sn99ee</td><td>7.56</td><td>Ia-norm</td><td>0.0867</td><td>0.0088</td><td>-8.6</td><td>0</td><td>5</td><td>sn1999dq</td><td>7.48</td><td>Ia-91T</td><td>0.0748</td><td>0.0079</td><td>-2.5</td><td>0</td><td>6</td><td>sn2007S</td><td>7.4</td><td>Ia-91T</td><td>0.0751</td><td>0.0083</td><td>-4.7</td><td>0</td><td>29</td><td>iPTF13bvn</td><td>6.12</td><td>Ib-norm</td><td>0.07400000000000001</td><td>0.0086</td><td>-13.7</td><td>0</td><td>53642476</td><td>2</td><td>2</td><td>1</td><td>1</td><td>1</td><td>3</td></tr>\n",
       "<tr><td>ZTF20abnvdem_20200728_P60_v1.ascii</td><td>ZTF20abnvdem</td><td>qso</td><td>6.34</td><td>0.134</td><td>0.0042</td><td>1</td><td>1</td><td>sn1990K</td><td>6.45</td><td>II-norm</td><td>0.172</td><td>0.0054</td><td>136.1</td><td>1</td><td>3</td><td>qso</td><td>6.34</td><td>QSO</td><td>0.134</td><td>0.0042</td><td>-100.0</td><td>2</td><td>5</td><td>sn2005cs</td><td>5.78</td><td>II-norm</td><td>0.1317</td><td>0.0044</td><td>265.5</td><td>0</td><td>8</td><td>sn05cs</td><td>5.29</td><td>II-norm</td><td>0.1305</td><td>0.0046</td><td>176.1</td><td>0</td><td>11</td><td>sn2005cc</td><td>5.13</td><td>Ia-02cx</td><td>0.5937</td><td>0.006999999999999999</td><td>5.6</td><td>0</td><td>53642477</td><td>4</td><td>3</td><td>2</td><td>0</td><td>2</td><td>0</td></tr>\n",
       "<tr><td>ZTF20abpfbih_20200802_P60_v1.ascii</td><td>ZTF20abpfbih</td><td>sn06ke</td><td>5.79</td><td>0.7369</td><td>0.0081</td><td>0</td><td>1</td><td>sn06ke</td><td>5.79</td><td>Ia-91bg</td><td>0.7369</td><td>0.0081</td><td>8.43</td><td>0</td><td>2</td><td>sn2005bl</td><td>5.76</td><td>Ia-91bg</td><td>0.7398</td><td>0.0097</td><td>4.7</td><td>0</td><td>3</td><td>sn2005mf</td><td>5.75</td><td>Ic-norm</td><td>0.75</td><td>0.0104</td><td>4.0</td><td>0</td><td>4</td><td>PTF10vgv</td><td>5.52</td><td>Ic-BL</td><td>0.7497</td><td>0.0148</td><td>8.2</td><td>0</td><td>5</td><td>PTF10cwr</td><td>5.29</td><td>Ic-SLSN</td><td>0.7536</td><td>0.0122</td><td>56.62</td><td>0</td><td>53642496</td><td>8</td><td>1</td><td>0</td><td>0</td><td>0</td><td>2</td></tr>\n",
       "<tr><td>ZTF20abpscln_20200802_P60_v1.ascii</td><td>ZTF20abpscln</td><td>sn2006ot</td><td>6.57</td><td>0.0687</td><td>0.0083</td><td>1</td><td>1</td><td>sn2006ot</td><td>6.57</td><td>Ia-norm</td><td>0.0687</td><td>0.0083</td><td>2.5</td><td>0</td><td>2</td><td>sn1999ac</td><td>5.83</td><td>Ia-91T</td><td>0.0598</td><td>0.0098</td><td>0.4</td><td>0</td><td>3</td><td>sn96C</td><td>5.83</td><td>Ia-norm</td><td>0.0559</td><td>0.0085</td><td>8.3</td><td>0</td><td>4</td><td>sn2006ax</td><td>5.78</td><td>Ia-norm</td><td>0.0644</td><td>0.0107</td><td>-9.3</td><td>0</td><td>49</td><td>sn2006gz</td><td>5.08</td><td>Ia-03fg</td><td>0.0597</td><td>0.0078</td><td>7.3</td><td>0</td><td>53642505</td><td>3</td><td>4</td><td>1</td><td>0</td><td>2</td><td>1</td></tr>\n",
       "</table>"
      ],
      "text/plain": [
       "<Table length=2518>\n",
       "              Version                  ZTF_Name   z_sntemplate ...   #4    #5 \n",
       "               str64                    str64        str12     ... int32 int32\n",
       "------------------------------------ ------------ ------------ ... ----- -----\n",
       "  ZTF17aaajnki_20180320_P60_v2.ascii ZTF17aaajnki        kcSB2 ...     0     0\n",
       " ZTF17aaapufz_20190304_P200_v1.ascii ZTF17aaapufz         kcSc ...     0     0\n",
       "  ZTF17aaaukqn_20180904_P60_v1.ascii ZTF17aaaukqn       sn97ef ...     0     0\n",
       "  ZTF17aaazdba_20190315_P60_v1.ascii ZTF17aaazdba     sn2013dg ...     0     1\n",
       "  ZTF17aaazdba_20190424_P60_v1.ascii ZTF17aaazdba        sn90N ...     1     0\n",
       "ZTF17aaazdba_20190925_Keck1_v4.ascii ZTF17aaazdba   ASASSN14li ...     0     0\n",
       "  ZTF17aaburzk_20180717_P60_v1.ascii ZTF17aaburzk        sn87A ...     0     2\n",
       "  ZTF18aaabltn_20190502_DCT_v1.ascii ZTF18aaabltn          qso ...     1     1\n",
       "  ZTF18aaadtdc_20181106_P60_v1.ascii ZTF18aaadtdc          agn ...     0     0\n",
       "ZTF18aaaibml_20200219_Keck1_v1.ascii ZTF18aaaibml         kcSc ...     2     0\n",
       "                                 ...          ...          ... ...   ...   ...\n",
       "  ZTF20abmubmh_20200725_P60_v1.ascii ZTF20abmubmh     sn1999ej ...     0     5\n",
       "  ZTF20abmxovj_20200730_P60_v1.ascii ZTF20abmxovj     sn2006gr ...     0     3\n",
       "  ZTF20abmxovj_20200730_P60_v2.ascii ZTF20abmxovj     sn2006gr ...     2     2\n",
       "  ZTF20abndzyc_20200727_P60_v1.ascii ZTF20abndzyc     sn2003ic ...     3     0\n",
       "  ZTF20abnlsww_20200801_P60_v1.ascii ZTF20abnlsww       sn99ee ...     2     0\n",
       "  ZTF20abnnfpv_20200723_P60_v2.ascii ZTF20abnnfpv      sn1987A ...     3     0\n",
       "  ZTF20abnrdse_20200803_P60_v1.ascii ZTF20abnrdse     sn1998es ...     1     3\n",
       "  ZTF20abnvdem_20200728_P60_v1.ascii ZTF20abnvdem          qso ...     2     0\n",
       "  ZTF20abpfbih_20200802_P60_v1.ascii ZTF20abpfbih       sn06ke ...     0     2\n",
       "  ZTF20abpscln_20200802_P60_v1.ascii ZTF20abpscln     sn2006ot ...     2     1"
      ]
     },
     "execution_count": 29,
     "metadata": {},
     "output_type": "execute_result"
    }
   ],
   "source": [
    "joined_results"
   ]
  },
  {
   "cell_type": "code",
   "execution_count": 30,
   "metadata": {},
   "outputs": [],
   "source": [
    "ResultsTable_Zooniverse_Classes.to_pandas().to_csv(\"ClassTotals.csv\")"
   ]
  },
  {
   "cell_type": "code",
   "execution_count": 31,
   "metadata": {},
   "outputs": [],
   "source": [
    "final_rcf_table = Table.from_pandas(pd.read_hdf(r\"C:\\Users\\20xha\\Documents\\Caltech\\Research/final_rcf_table.h5\"))"
   ]
  },
  {
   "cell_type": "code",
   "execution_count": 32,
   "metadata": {},
   "outputs": [],
   "source": [
    "Joined_ZTF_2018 = astropy.table.join(ResultsTable_Zooniverse_Classes, final_rcf_table)"
   ]
  },
  {
   "cell_type": "code",
   "execution_count": 33,
   "metadata": {},
   "outputs": [],
   "source": [
    "types = ['Ia', 'Ia-norm', 'Ia-91T', 'Ia-91bg', 'Ia-csm', 'Ia-02cx', 'Ia-03fg',\n",
    "                           'Ib', 'Ib-norm', 'IIb', 'Ibn', 'Ic', 'Ic-norm', 'Ic-BL', 'Ic-SLSN', 'II', 'II-norm', 'IIn',\n",
    "                           'NotSN', 'AGN', 'Gal', 'LBV', 'M-star', 'QSO', 'C-star', 'TDE', \"NoMatch\"]"
   ]
  },
  {
   "cell_type": "code",
   "execution_count": 34,
   "metadata": {},
   "outputs": [],
   "source": [
    "cutoffs = [6,7,8,9,10,11]\n",
    "rlap_cutoffs = [0, 5, 10, 15, 20]"
   ]
  },
  {
   "cell_type": "code",
   "execution_count": 35,
   "metadata": {},
   "outputs": [
    {
     "data": {
      "text/html": [
       "<i>Row index=0</i>\n",
       "<table id=\"table2831069576256\">\n",
       "<thead><tr><th>ZTF_Name</th><th>Version</th><th>subject_ids</th><th>Ia</th><th>Ia-norm</th><th>Ia-91T</th><th>Ia-91bg</th><th>Ia-csm</th><th>Ia-02cx</th><th>Ia-03fg</th><th>Ib</th><th>Ib-norm</th><th>IIb</th><th>Ibn</th><th>Ic</th><th>Ic-norm</th><th>Ic-BL</th><th>Ic-SLSN</th><th>II</th><th>II-norm</th><th>IIn</th><th>NotSN</th><th>AGN</th><th>Gal</th><th>LBV</th><th>M-star</th><th>QSO</th><th>C-star</th><th>TDE</th><th>NoMatch</th><th>rlap</th><th>z</th><th>TNS_Name</th><th>discovered_by</th><th>tns_internal_name</th><th>RA_sn</th><th>Dec_sn</th><th>sn_type</th><th>z_sn</th><th>g_jd_max</th><th>g_max</th><th>g_unc_max</th><th>r_jd_max</th><th>r_max</th><th>r_unc_max</th><th>ebv</th><th>host_name_PS1</th><th>RA_host_PS1</th><th>Dec_host_PS1</th><th>z_host</th><th>sep</th><th>projected_kpc</th><th>gKron_PS1</th><th>rKron_PS1</th><th>iKron_PS1</th><th>zKron_PS1</th><th>yKron_PS1</th><th>w1_host</th><th>w2_host</th><th>ebv_host</th></tr></thead>\n",
       "<thead><tr><th>str64</th><th>str64</th><th>int32</th><th>int32</th><th>int32</th><th>int32</th><th>int32</th><th>int32</th><th>int32</th><th>int32</th><th>int32</th><th>int32</th><th>int32</th><th>int32</th><th>int32</th><th>int32</th><th>int32</th><th>int32</th><th>int32</th><th>int32</th><th>int32</th><th>int32</th><th>int32</th><th>int32</th><th>int32</th><th>int32</th><th>int32</th><th>int32</th><th>int32</th><th>int32</th><th>float32</th><th>float32</th><th>str9</th><th>str13</th><th>str29</th><th>float64</th><th>float64</th><th>str9</th><th>float64</th><th>float64</th><th>float64</th><th>float64</th><th>float64</th><th>float64</th><th>float64</th><th>float64</th><th>str21</th><th>float64</th><th>float64</th><th>float64</th><th>float64</th><th>float64</th><th>float64</th><th>float64</th><th>float64</th><th>float64</th><th>float64</th><th>float64</th><th>float64</th><th>float64</th></tr></thead>\n",
       "<tr><td>ZTF18aabssth</td><td>ZTF18aabssth_20180309_P60_v1.ascii</td><td>53623619</td><td>0</td><td>0</td><td>0</td><td>0</td><td>0</td><td>0</td><td>0</td><td>0</td><td>0</td><td>7</td><td>0</td><td>0</td><td>0</td><td>0</td><td>0</td><td>0</td><td>2</td><td>0</td><td>0</td><td>0</td><td>0</td><td>0</td><td>0</td><td>0</td><td>0</td><td>0</td><td>0</td><td>8.07</td><td>0.0374</td><td>SN2018aex</td><td>ZTF</td><td>ZTF18aabssth</td><td>165.1891017637735</td><td>22.287497041839774</td><td>II</td><td>0.026000000000000002</td><td>2458494.0531481</td><td>20.44230842590332</td><td>0.1942138969898224</td><td>2458218.7148727</td><td>18.741601943969727</td><td>0.0452471598982811</td><td>0.01536</td><td>PSO J165.1878+22.2877</td><td>165.18778907</td><td>22.28771869</td><td>0.022914</td><td>4.444857426598462</td><td>2.0566548608097266</td><td>16.885400772094727</td><td>16.492399215698242</td><td>16.382200241088867</td><td>16.378400802612305</td><td>16.610000610351562</td><td>15.79401524178536</td><td>16.38349243564084</td><td>0.015369999999999997</td></tr>\n",
       "</table>"
      ],
      "text/plain": [
       "<Row index=0>\n",
       "  ZTF_Name                Version               subject_ids   Ia  Ia-norm Ia-91T Ia-91bg Ia-csm Ia-02cx Ia-03fg   Ib  Ib-norm  IIb   Ibn    Ic  Ic-norm Ic-BL Ic-SLSN   II  II-norm  IIn  NotSN  AGN   Gal   LBV  M-star  QSO  C-star  TDE  NoMatch   rlap     z     TNS_Name discovered_by tns_internal_name       RA_sn             Dec_sn       sn_type         z_sn             g_jd_max          g_max           g_unc_max          r_jd_max          r_max            r_unc_max        ebv       host_name_PS1     RA_host_PS1  Dec_host_PS1  z_host         sep          projected_kpc        gKron_PS1          rKron_PS1          iKron_PS1          zKron_PS1          yKron_PS1           w1_host           w2_host            ebv_host      \n",
       "   str64                   str64                   int32    int32  int32  int32   int32  int32   int32   int32  int32  int32  int32 int32 int32  int32  int32  int32  int32  int32  int32 int32 int32 int32 int32 int32  int32 int32  int32  int32  float32 float32    str9       str13           str29            float64           float64         str9        float64            float64          float64           float64           float64          float64            float64       float64         str21           float64      float64    float64       float64           float64            float64            float64            float64            float64            float64            float64           float64            float64       \n",
       "------------ ---------------------------------- ----------- ----- ------- ------ ------- ------ ------- ------- ----- ------- ----- ----- ----- ------- ----- ------- ----- ------- ----- ----- ----- ----- ----- ------ ----- ------ ----- ------- ------- ------- --------- ------------- ----------------- ----------------- ------------------ ------- -------------------- --------------- ----------------- ------------------ --------------- ------------------ ------------------ ------- --------------------- ------------ ------------ -------- ----------------- ------------------ ------------------ ------------------ ------------------ ------------------ ------------------ ----------------- ----------------- --------------------\n",
       "ZTF18aabssth ZTF18aabssth_20180309_P60_v1.ascii    53623619     0       0      0       0      0       0       0     0       0     7     0     0       0     0       0     0       2     0     0     0     0     0      0     0      0     0       0    8.07  0.0374 SN2018aex           ZTF      ZTF18aabssth 165.1891017637735 22.287497041839774      II 0.026000000000000002 2458494.0531481 20.44230842590332 0.1942138969898224 2458218.7148727 18.741601943969727 0.0452471598982811 0.01536 PSO J165.1878+22.2877 165.18778907  22.28771869 0.022914 4.444857426598462 2.0566548608097266 16.885400772094727 16.492399215698242 16.382200241088867 16.378400802612305 16.610000610351562 15.79401524178536 16.38349243564084 0.015369999999999997"
      ]
     },
     "execution_count": 35,
     "metadata": {},
     "output_type": "execute_result"
    }
   ],
   "source": [
    "Joined_ZTF_2018[0]"
   ]
  },
  {
   "cell_type": "code",
   "execution_count": 36,
   "metadata": {},
   "outputs": [],
   "source": [
    "tables = []\n",
    "for cut in cutoffs:\n",
    "    Classes = Table(\n",
    "                    names=(\"ZTF_Name\", \"Version\", \"Real_c\", \"Zooniverse_c\"\n",
    "                    ),\n",
    "                    meta={\"name\": \"Spectrum Results after Zooniverse\"},\n",
    "                    dtype=(\"U64\", \"U64\", \"U64\", \"U64\",\n",
    "                          )\n",
    "                    )\n",
    "    for line in Joined_ZTF_2018:\n",
    "        row = []\n",
    "        row.append(line[\"ZTF_Name\"])\n",
    "        row.append(line[\"Version\"])\n",
    "        row.append(line[\"sn_type\"])\n",
    "        best = []\n",
    "        best_num = []\n",
    "        for i in types:\n",
    "            if(line[i] >= cut):\n",
    "                best.append(i)\n",
    "                best_num.append(line[i])\n",
    "        if(len(best) != 0):\n",
    "            row.append(best[np.argmax(best_num)])\n",
    "            Classes.add_row(row)\n",
    "    tables.append([cut, Classes])"
   ]
  },
  {
   "cell_type": "code",
   "execution_count": 60,
   "metadata": {},
   "outputs": [],
   "source": [
    "tables = []\n",
    "for cut in rlap_cutoffs:\n",
    "    Classes = Table(\n",
    "                    names=(\"ZTF_Name\", \"Version\", \"Real_c\", \"Zooniverse_c\"\n",
    "                    ),\n",
    "                    meta={\"name\": \"Spectrum Results after Zooniverse\"},\n",
    "                    dtype=(\"U64\", \"U64\", \"U64\", \"U64\",\n",
    "                          )\n",
    "                    )\n",
    "    for line in Joined_ZTF_2018:\n",
    "        row = []\n",
    "        row.append(line[\"ZTF_Name\"])\n",
    "        row.append(line[\"Version\"])\n",
    "        row.append(line[\"sn_type\"])\n",
    "        best = []\n",
    "        best_num = []\n",
    "        for i in types:\n",
    "            if(line[i] >= 9 and line[\"z\"] < .2):\n",
    "                if(line[\"rlap\"] >= cut):\n",
    "                    best.append(i)\n",
    "                    best_num.append(line[i])\n",
    "        if(len(best) != 0):\n",
    "            row.append(best[np.argmax(best_num)])\n",
    "            Classes.add_row(row)\n",
    "    tables.append([cut, Classes])"
   ]
  },
  {
   "cell_type": "code",
   "execution_count": 61,
   "metadata": {},
   "outputs": [],
   "source": [
    "negativeII = 0\n",
    "positiveII = 0\n",
    "for j in Joined_ZTF_2018:\n",
    "    correct_1a = \"II\" in j[\"sn_type\"]\n",
    "    if(correct_1a):\n",
    "        positiveII += 1\n",
    "    if(not(correct_1a)):\n",
    "        negativeII += 1"
   ]
  },
  {
   "cell_type": "code",
   "execution_count": 62,
   "metadata": {},
   "outputs": [],
   "source": [
    "cutoff_confidence = [] \n",
    "for i in tables:\n",
    "    truepositive = 0\n",
    "    falsepositive = 0\n",
    "    for j in i[1]:\n",
    "        correct_1a = \"II\" in j[\"Real_c\"]\n",
    "        classified_1a = \"II\" in j[\"Zooniverse_c\"]\n",
    "        if(correct_1a == True and classified_1a == True):\n",
    "            truepositive += 1\n",
    "        if(correct_1a != True and classified_1a == True):\n",
    "            falsepositive += 1\n",
    "    cutoff_confidence.append([i[0],truepositive/(positiveII),falsepositive/(negativeII),len(i[1]), truepositive, falsepositive])\n",
    "cutoff_confidence = np.asarray(cutoff_confidence)"
   ]
  },
  {
   "cell_type": "code",
   "execution_count": 63,
   "metadata": {},
   "outputs": [
    {
     "data": {
      "text/plain": [
       "array([[0.00000000e+00, 1.71328671e-01, 1.73310225e-03, 2.52000000e+02,\n",
       "        4.90000000e+01, 1.00000000e+00],\n",
       "       [5.00000000e+00, 1.71328671e-01, 1.73310225e-03, 2.48000000e+02,\n",
       "        4.90000000e+01, 1.00000000e+00],\n",
       "       [1.00000000e+01, 1.18881119e-01, 1.73310225e-03, 1.95000000e+02,\n",
       "        3.40000000e+01, 1.00000000e+00],\n",
       "       [1.50000000e+01, 4.89510490e-02, 0.00000000e+00, 1.09000000e+02,\n",
       "        1.40000000e+01, 0.00000000e+00],\n",
       "       [2.00000000e+01, 6.99300699e-03, 0.00000000e+00, 4.40000000e+01,\n",
       "        2.00000000e+00, 0.00000000e+00]])"
      ]
     },
     "execution_count": 63,
     "metadata": {},
     "output_type": "execute_result"
    }
   ],
   "source": [
    "cutoff_confidence"
   ]
  },
  {
   "cell_type": "code",
   "execution_count": 64,
   "metadata": {},
   "outputs": [
    {
     "data": {
      "text/plain": [
       "Text(0, 0.5, 'True Positive Rate')"
      ]
     },
     "execution_count": 64,
     "metadata": {},
     "output_type": "execute_result"
    },
    {
     "data": {
      "image/png": "[encoded data removed]",
      "text/plain": [
       "<Figure size 720x720 with 1 Axes>"
      ]
     },
     "metadata": {
      "needs_background": "light"
     },
     "output_type": "display_data"
    }
   ],
   "source": [
    "fig = plt.figure(figsize = (10,10))\n",
    "plt.scatter(cutoff_confidence[:,2], cutoff_confidence[:,1], color = \"blue\")\n",
    "for i in cutoff_confidence:\n",
    "    plt.text(i[2]+.00002,i[1]+.002,\"$>$\"+str(i[0]))\n",
    "plt.title(\"TPR vs. FPR for different # in agreement II\")\n",
    "plt.xlabel(\"False Positive Rate\")\n",
    "plt.ylabel(\"True Positive Rate\")"
   ]
  },
  {
   "cell_type": "code",
   "execution_count": 42,
   "metadata": {},
   "outputs": [],
   "source": [
    "negativeI = 0\n",
    "positiveI = 0\n",
    "for j in Joined_ZTF_2018:\n",
    "    correct_1a = \"Ia\" in j[\"sn_type\"]\n",
    "    if(correct_1a):\n",
    "        positiveI += 1\n",
    "    if(not(correct_1a)):\n",
    "        negativeI += 1"
   ]
  },
  {
   "cell_type": "code",
   "execution_count": 43,
   "metadata": {},
   "outputs": [],
   "source": [
    "cutoff_confidence_Ia = [] \n",
    "for i in tables:\n",
    "    truepositive = 0\n",
    "    falsepositive = 0\n",
    "    for j in i[1]:\n",
    "        correct_1a = \"Ia\" in j[\"Real_c\"]\n",
    "        classified_1a = \"Ia\" in j[\"Zooniverse_c\"]\n",
    "        if(correct_1a == True and classified_1a == True):\n",
    "            truepositive += 1\n",
    "        if(correct_1a != True and classified_1a == True):\n",
    "            falsepositive += 1\n",
    "    cutoff_confidence_Ia.append([i[0],truepositive/(positiveI),falsepositive/(negativeI),len(i[1]), truepositive, falsepositive])\n",
    "cutoff_confidence_Ia = np.asarray(cutoff_confidence_Ia)"
   ]
  },
  {
   "cell_type": "code",
   "execution_count": 44,
   "metadata": {},
   "outputs": [
    {
     "data": {
      "text/plain": [
       "Text(0, 0.5, 'True Positive Rate')"
      ]
     },
     "execution_count": 44,
     "metadata": {},
     "output_type": "execute_result"
    },
    {
     "data": {
      "image/png": "[encoded data removed]",
      "text/plain": [
       "<Figure size 720x720 with 1 Axes>"
      ]
     },
     "metadata": {
      "needs_background": "light"
     },
     "output_type": "display_data"
    }
   ],
   "source": [
    "fig = plt.figure(figsize = (10,10))\n",
    "plt.scatter(cutoff_confidence_Ia[:,2], cutoff_confidence_Ia[:,1], color = \"blue\")\n",
    "for i in cutoff_confidence_Ia:\n",
    "    plt.text(i[2]+.00002,i[1]+.002,\"$>$\"+str(i[0]))\n",
    "plt.title(\"TPR vs. FPR for different # in agreement Ia\")\n",
    "plt.xlabel(\"False Positive Rate\")\n",
    "plt.ylabel(\"True Positive Rate\")"
   ]
  },
  {
   "cell_type": "code",
   "execution_count": 45,
   "metadata": {},
   "outputs": [
    {
     "data": {
      "text/plain": [
       "447"
      ]
     },
     "execution_count": 45,
     "metadata": {},
     "output_type": "execute_result"
    }
   ],
   "source": [
    "positiveI"
   ]
  },
  {
   "cell_type": "code",
   "execution_count": 46,
   "metadata": {},
   "outputs": [
    {
     "data": {
      "text/plain": [
       "286"
      ]
     },
     "execution_count": 46,
     "metadata": {},
     "output_type": "execute_result"
    }
   ],
   "source": [
    "positiveII"
   ]
  },
  {
   "cell_type": "code",
   "execution_count": 47,
   "metadata": {},
   "outputs": [
    {
     "name": "stdout",
     "output_type": "stream",
     "text": [
      "  ZTF_Name                 Version                 Real_c Zooniverse_c\n",
      "------------ ------------------------------------ ------- ------------\n",
      "ZTF18abcfdzu ZTF18abcfdzu_20180807_Keck1_v1.ascii SLSN-II       Ia-csm\n",
      "  ZTF_Name                 Version                Real_c Zooniverse_c\n",
      "------------ ----------------------------------- ------- ------------\n",
      "ZTF18abcfdzu ZTF18abcfdzu_20190704_P200_v1.ascii SLSN-II       Ia-csm\n",
      "  ZTF_Name                 Version                Real_c Zooniverse_c\n",
      "------------ ------------------------------------ ------ ------------\n",
      "ZTF18abuatfp ZTF18abuatfp_20181204_Keck1_v1.ascii    IIn       Ia-csm\n"
     ]
    }
   ],
   "source": [
    "cutoff_confidence_Ia = [] \n",
    "for i in tables:\n",
    "    truepositive = 0\n",
    "    falsepositive = 0\n",
    "    for j in i[1]:\n",
    "        correct_1a = \"Ia\" in j[\"Real_c\"]\n",
    "        classified_1a = \"Ia\" in j[\"Zooniverse_c\"]\n",
    "        if(correct_1a == True and classified_1a == True):\n",
    "            truepositive += 1\n",
    "        if(correct_1a != True and classified_1a == True):\n",
    "            print(j)\n",
    "    break"
   ]
  },
  {
   "cell_type": "code",
   "execution_count": 48,
   "metadata": {},
   "outputs": [
    {
     "data": {
      "text/html": [
       "<i>Table length=44</i>\n",
       "<table id=\"table2829698213200\" class=\"table-striped table-bordered table-condensed\">\n",
       "<thead><tr><th>ZTF_Name</th><th>Version</th><th>Real_c</th><th>Zooniverse_c</th></tr></thead>\n",
       "<thead><tr><th>str64</th><th>str64</th><th>str64</th><th>str64</th></tr></thead>\n",
       "<tr><td>ZTF18aahfzea</td><td>ZTF18aahfzea_20180421_P60_v1.ascii</td><td>Ia</td><td>Ia-norm</td></tr>\n",
       "<tr><td>ZTF18aainvic</td><td>ZTF18aainvic_20180622_TNG_v2.ascii</td><td>II</td><td>II-norm</td></tr>\n",
       "<tr><td>ZTF18aajtlbf</td><td>ZTF18aajtlbf_20180420_P200_v1.ascii</td><td>Ia-91bg</td><td>Ia-91bg</td></tr>\n",
       "<tr><td>ZTF18aakzliv</td><td>ZTF18aakzliv_20180516_P200_v1.ascii</td><td>Ia</td><td>Ia-norm</td></tr>\n",
       "<tr><td>ZTF18aalcxig</td><td>ZTF18aalcxig_20180516_P200_v1.ascii</td><td>Ia</td><td>Ia-norm</td></tr>\n",
       "<tr><td>ZTF18aaqgadq</td><td>ZTF18aaqgadq_20180516_P200_v1.ascii</td><td>Ia</td><td>Ia-norm</td></tr>\n",
       "<tr><td>ZTF18aaqpjja</td><td>ZTF18aaqpjja_20180522_P200_v1.ascii</td><td>Ia</td><td>Ia-norm</td></tr>\n",
       "<tr><td>ZTF18aauizcr</td><td>ZTF18aauizcr_20180519_P60_v2.ascii</td><td>Ia</td><td>Ia-norm</td></tr>\n",
       "<tr><td>ZTF18aawdpnm</td><td>ZTF18aawdpnm_20180605_P60_v1.ascii</td><td>Ia</td><td>Ia-norm</td></tr>\n",
       "<tr><td>ZTF18aawmxdx</td><td>ZTF18aawmxdx_20181216_P60_v1.ascii</td><td>Ia</td><td>Ia-norm</td></tr>\n",
       "<tr><td>...</td><td>...</td><td>...</td><td>...</td></tr>\n",
       "<tr><td>ZTF18acbxrdw</td><td>ZTF18acbxrdw_20181106_P60_v1.ascii</td><td>Ia</td><td>Ia-norm</td></tr>\n",
       "<tr><td>ZTF18acbznvp</td><td>ZTF18acbznvp_20181107_P60_v1.ascii</td><td>Ia</td><td>Ia-norm</td></tr>\n",
       "<tr><td>ZTF18accbppp</td><td>ZTF18accbppp_20181104_P60_v1.ascii</td><td>Ia</td><td>Ia-norm</td></tr>\n",
       "<tr><td>ZTF18accwjiu</td><td>ZTF18accwjiu_20181108_P60_v1.ascii</td><td>Ia</td><td>Ia-norm</td></tr>\n",
       "<tr><td>ZTF18aceynvm</td><td>ZTF18aceynvm_20181121_P60_v1.ascii</td><td>Ia</td><td>Ia-norm</td></tr>\n",
       "<tr><td>ZTF18achbllm</td><td>ZTF18achbllm_20181115_P60_v1.ascii</td><td>Ia</td><td>Ia-norm</td></tr>\n",
       "<tr><td>ZTF18acptgzz</td><td>ZTF18acptgzz_20181201_Keck1_v1.ascii</td><td>Ia</td><td>Ia-norm</td></tr>\n",
       "<tr><td>ZTF18acusrws</td><td>ZTF18acusrws_20181220_P60_v1.ascii</td><td>Ia</td><td>Ia-norm</td></tr>\n",
       "<tr><td>ZTF18aczdetm</td><td>ZTF18aczdetm_20181228_LT_v1.ascii</td><td>Ia</td><td>Ia-norm</td></tr>\n",
       "<tr><td>ZTF18adbckox</td><td>ZTF18adbckox_20190101_WHT_v1.ascii</td><td>Ia</td><td>Ia-norm</td></tr>\n",
       "</table>"
      ],
      "text/plain": [
       "<Table length=44>\n",
       "  ZTF_Name                 Version                 Real_c Zooniverse_c\n",
       "   str64                    str64                  str64     str64    \n",
       "------------ ------------------------------------ ------- ------------\n",
       "ZTF18aahfzea   ZTF18aahfzea_20180421_P60_v1.ascii      Ia      Ia-norm\n",
       "ZTF18aainvic   ZTF18aainvic_20180622_TNG_v2.ascii      II      II-norm\n",
       "ZTF18aajtlbf  ZTF18aajtlbf_20180420_P200_v1.ascii Ia-91bg      Ia-91bg\n",
       "ZTF18aakzliv  ZTF18aakzliv_20180516_P200_v1.ascii      Ia      Ia-norm\n",
       "ZTF18aalcxig  ZTF18aalcxig_20180516_P200_v1.ascii      Ia      Ia-norm\n",
       "ZTF18aaqgadq  ZTF18aaqgadq_20180516_P200_v1.ascii      Ia      Ia-norm\n",
       "ZTF18aaqpjja  ZTF18aaqpjja_20180522_P200_v1.ascii      Ia      Ia-norm\n",
       "ZTF18aauizcr   ZTF18aauizcr_20180519_P60_v2.ascii      Ia      Ia-norm\n",
       "ZTF18aawdpnm   ZTF18aawdpnm_20180605_P60_v1.ascii      Ia      Ia-norm\n",
       "ZTF18aawmxdx   ZTF18aawmxdx_20181216_P60_v1.ascii      Ia      Ia-norm\n",
       "         ...                                  ...     ...          ...\n",
       "ZTF18acbxrdw   ZTF18acbxrdw_20181106_P60_v1.ascii      Ia      Ia-norm\n",
       "ZTF18acbznvp   ZTF18acbznvp_20181107_P60_v1.ascii      Ia      Ia-norm\n",
       "ZTF18accbppp   ZTF18accbppp_20181104_P60_v1.ascii      Ia      Ia-norm\n",
       "ZTF18accwjiu   ZTF18accwjiu_20181108_P60_v1.ascii      Ia      Ia-norm\n",
       "ZTF18aceynvm   ZTF18aceynvm_20181121_P60_v1.ascii      Ia      Ia-norm\n",
       "ZTF18achbllm   ZTF18achbllm_20181115_P60_v1.ascii      Ia      Ia-norm\n",
       "ZTF18acptgzz ZTF18acptgzz_20181201_Keck1_v1.ascii      Ia      Ia-norm\n",
       "ZTF18acusrws   ZTF18acusrws_20181220_P60_v1.ascii      Ia      Ia-norm\n",
       "ZTF18aczdetm    ZTF18aczdetm_20181228_LT_v1.ascii      Ia      Ia-norm\n",
       "ZTF18adbckox   ZTF18adbckox_20190101_WHT_v1.ascii      Ia      Ia-norm"
      ]
     },
     "execution_count": 48,
     "metadata": {},
     "output_type": "execute_result"
    }
   ],
   "source": [
    "tables[-1][1]"
   ]
  },
  {
   "cell_type": "code",
   "execution_count": 49,
   "metadata": {},
   "outputs": [
    {
     "data": {
      "text/plain": [
       "475"
      ]
     },
     "execution_count": 49,
     "metadata": {},
     "output_type": "execute_result"
    }
   ],
   "source": [
    "np.sum(ResultsTable_Zooniverse_Classes[\"Ia-norm\"] > 6)"
   ]
  },
  {
   "cell_type": "code",
   "execution_count": 50,
   "metadata": {},
   "outputs": [
    {
     "data": {
      "text/plain": [
       "447"
      ]
     },
     "execution_count": 50,
     "metadata": {},
     "output_type": "execute_result"
    }
   ],
   "source": [
    "positiveI"
   ]
  },
  {
   "cell_type": "code",
   "execution_count": 51,
   "metadata": {},
   "outputs": [],
   "source": [
    "negativeIbIc = 0\n",
    "positiveIbIc = 0\n",
    "index = 0\n",
    "indexes = []\n",
    "for j in Joined_ZTF_2018:\n",
    "    correct_1a = (\"Ib\" in j[\"sn_type\"]) or (\"Ic\" in j[\"sn_type\"]) \n",
    "    if(correct_1a):\n",
    "        positiveIbIc += 1\n",
    "        indexes.append(index)\n",
    "    if(not(correct_1a)):\n",
    "        negativeIbIc += 1\n",
    "    index += 1"
   ]
  },
  {
   "cell_type": "code",
   "execution_count": 52,
   "metadata": {},
   "outputs": [],
   "source": [
    "cutoff_confidence_IbIc = [] \n",
    "for i in tables:\n",
    "    truepositiveIbIc = 0\n",
    "    falsepositiveIbIc = 0\n",
    "    JoinedResults = i[1]\n",
    "    for j in JoinedResults:\n",
    "        correct_1a = (\"Ib\" in j[\"Real_c\"])\n",
    "        classified_1a = (\"Ib\" in j[\"Zooniverse_c\"])\n",
    "        if(correct_1a == True and classified_1a == True):\n",
    "            truepositiveIbIc += 1\n",
    "        if(correct_1a != True and classified_1a == True):\n",
    "            falsepositiveIbIc += 1\n",
    "            \n",
    "        correct_1a = (\"Ic\" in j[\"Real_c\"])\n",
    "        classified_1a = (\"Ic\" in j[\"Zooniverse_c\"])\n",
    "        if(correct_1a == True and classified_1a == True):\n",
    "            truepositiveIbIc += 1\n",
    "        if(correct_1a != True and classified_1a == True):\n",
    "            falsepositiveIbIc += 1\n",
    "        \n",
    "    cutoff_confidence_IbIc.append([i[0],truepositiveIbIc/(positiveIbIc),falsepositiveIbIc/(negativeIbIc),len(JoinedResults), truepositiveIbIc, falsepositiveIbIc])\n",
    "cutoff_confidence_IbIc = np.asarray(cutoff_confidence_IbIc)"
   ]
  },
  {
   "cell_type": "code",
   "execution_count": 53,
   "metadata": {},
   "outputs": [
    {
     "data": {
      "text/plain": [
       "Text(0, 0.5, 'True Positive Rate')"
      ]
     },
     "execution_count": 53,
     "metadata": {},
     "output_type": "execute_result"
    },
    {
     "data": {
      "image/png": "[encoded data removed]",
      "text/plain": [
       "<Figure size 720x720 with 1 Axes>"
      ]
     },
     "metadata": {
      "needs_background": "light"
     },
     "output_type": "display_data"
    }
   ],
   "source": [
    "fig = plt.figure(figsize = (10,10))\n",
    "plt.scatter(cutoff_confidence_IbIc[:,2], cutoff_confidence_IbIc[:,1], color = \"blue\")\n",
    "for i in cutoff_confidence_IbIc:\n",
    "    plt.text(i[2]+.00002,i[1]+.002,\"$>$\"+str(i[0]))\n",
    "plt.title(\"TPR vs. FPR for different # in agreement (Striped Envolope Ib or Ic)\")\n",
    "plt.xlabel(\"False Positive Rate\")\n",
    "plt.ylabel(\"True Positive Rate\")"
   ]
  },
  {
   "cell_type": "code",
   "execution_count": 54,
   "metadata": {},
   "outputs": [
    {
     "name": "stdout",
     "output_type": "stream",
     "text": [
      "Ib Ib-norm\n",
      "IIb Gal\n"
     ]
    }
   ],
   "source": [
    "for i in tables[-2][1]:\n",
    "    if(\"Ib\" in i[\"Real_c\"]):\n",
    "        print(i[\"Real_c\"], i[\"Zooniverse_c\"])"
   ]
  },
  {
   "cell_type": "code",
   "execution_count": 55,
   "metadata": {},
   "outputs": [
    {
     "name": "stdout",
     "output_type": "stream",
     "text": [
      "Ib Ib-norm\n"
     ]
    }
   ],
   "source": [
    "for i in tables[-2][1]:\n",
    "    if(\"Ib\" in i[\"Zooniverse_c\"]):\n",
    "        print(i[\"Real_c\"], i[\"Zooniverse_c\"])"
   ]
  },
  {
   "cell_type": "code",
   "execution_count": 56,
   "metadata": {},
   "outputs": [
    {
     "data": {
      "text/html": [
       "<i>Table length=0</i>\n",
       "<table id=\"table2831139413824\" class=\"table-striped table-bordered table-condensed\">\n",
       "<thead><tr><th>ZTF_Name</th><th>Version</th><th>Real_c</th><th>Zooniverse_c</th></tr></thead>\n",
       "<thead><tr><th>str64</th><th>str64</th><th>str64</th><th>str64</th></tr></thead>\n",
       "</table>"
      ],
      "text/plain": [
       "<Table length=0>\n",
       "ZTF_Name Version Real_c Zooniverse_c\n",
       " str64    str64  str64     str64    \n",
       "-------- ------- ------ ------------"
      ]
     },
     "execution_count": 56,
     "metadata": {},
     "output_type": "execute_result"
    }
   ],
   "source": [
    "tables[0][1][tables[0][1][\"Zooniverse_c\"]==\"NoMatch\"]"
   ]
  },
  {
   "cell_type": "code",
   "execution_count": 57,
   "metadata": {},
   "outputs": [
    {
     "data": {
      "text/html": [
       "<i>Table length=2518</i>\n",
       "<table id=\"table2828247789328\" class=\"table-striped table-bordered table-condensed\">\n",
       "<thead><tr><th>Version</th><th>ZTF_Name</th><th>z_sntemplate</th><th>z_rlap</th><th>z_snid</th><th>z_snid_err</th><th>z_level</th><th>rank_1</th><th>sntemplate_1</th><th>rlap_1</th><th>c_snid_1</th><th>z_snid_1</th><th>z_snid_err_1</th><th>age_1</th><th>age_flag_1</th><th>rank_2</th><th>sntemplate_2</th><th>rlap_2</th><th>c_snid_2</th><th>z_snid_2</th><th>z_snid_err_2</th><th>age_2</th><th>age_flag_2</th><th>rank_3</th><th>sntemplate_3</th><th>rlap_3</th><th>c_snid_3</th><th>z_snid_3</th><th>z_snid_err_3</th><th>age_3</th><th>age_flag_3</th><th>rank_4</th><th>sntemplate_4</th><th>rlap_4</th><th>c_snid_4</th><th>z_snid_4</th><th>z_snid_err_4</th><th>age_4</th><th>age_flag_4</th><th>rank_5</th><th>sntemplate_5</th><th>rlap_5</th><th>c_snid_5</th><th>z_snid_5</th><th>z_snid_err_5</th><th>age_5</th><th>age_flag_5</th><th>subject_ids</th><th>NoMatch</th><th>#1</th><th>#2</th><th>#3</th><th>#4</th><th>#5</th></tr></thead>\n",
       "<thead><tr><th>str64</th><th>str64</th><th>str12</th><th>float64</th><th>float64</th><th>float64</th><th>int64</th><th>int64</th><th>str12</th><th>float64</th><th>str7</th><th>float64</th><th>float64</th><th>float64</th><th>int64</th><th>int64</th><th>str12</th><th>float64</th><th>str7</th><th>float64</th><th>float64</th><th>float64</th><th>int64</th><th>int64</th><th>str12</th><th>float64</th><th>str7</th><th>float64</th><th>float64</th><th>float64</th><th>int64</th><th>int64</th><th>str12</th><th>float64</th><th>str7</th><th>float64</th><th>float64</th><th>float64</th><th>int64</th><th>int64</th><th>str12</th><th>float64</th><th>str7</th><th>float64</th><th>float64</th><th>float64</th><th>int64</th><th>int32</th><th>int32</th><th>int32</th><th>int32</th><th>int32</th><th>int32</th><th>int32</th></tr></thead>\n",
       "<tr><td>ZTF17aaajnki_20180320_P60_v2.ascii</td><td>ZTF17aaajnki</td><td>kcSB2</td><td>18.27</td><td>-0.0004</td><td>0.0015</td><td>1</td><td>1</td><td>kcSB2</td><td>18.27</td><td>Gal</td><td>-0.0004</td><td>0.0015</td><td>-99.9</td><td>2</td><td>2</td><td>kcSB1</td><td>17.68</td><td>Gal</td><td>-0.0003</td><td>0.0015</td><td>-99.9</td><td>2</td><td>3</td><td>PS1-10bzj</td><td>11.43</td><td>Ic-SLSN</td><td>-0.0001</td><td>0.0024</td><td>6.55</td><td>0</td><td>5</td><td>kcSB4</td><td>5.82</td><td>Gal</td><td>-0.0006</td><td>0.004</td><td>-99.9</td><td>2</td><td>8</td><td>sn07it</td><td>5.14</td><td>II-norm</td><td>0.0003</td><td>0.0051</td><td>191.0</td><td>0</td><td>53623567</td><td>1</td><td>9</td><td>2</td><td>0</td><td>0</td><td>0</td></tr>\n",
       "<tr><td>ZTF17aaapufz_20190304_P200_v1.ascii</td><td>ZTF17aaapufz</td><td>kcSc</td><td>28.52</td><td>0.0025</td><td>0.0006</td><td>1</td><td>1</td><td>kcSc</td><td>28.52</td><td>Gal</td><td>0.0025</td><td>0.0006</td><td>-99.9</td><td>2</td><td>2</td><td>kcSB4</td><td>26.83</td><td>Gal</td><td>0.0022</td><td>0.0007</td><td>-99.9</td><td>2</td><td>3</td><td>kcSB5</td><td>22.66</td><td>Gal</td><td>0.0025</td><td>0.0008</td><td>-99.9</td><td>2</td><td>8</td><td>agn</td><td>14.22</td><td>AGN</td><td>0.0023</td><td>0.0014</td><td>-99.9</td><td>2</td><td>9</td><td>qso</td><td>12.11</td><td>QSO</td><td>0.0025</td><td>0.0016</td><td>-100.0</td><td>2</td><td>53623569</td><td>1</td><td>9</td><td>0</td><td>1</td><td>0</td><td>0</td></tr>\n",
       "<tr><td>ZTF17aaaukqn_20180904_P60_v1.ascii</td><td>ZTF17aaaukqn</td><td>sn97ef</td><td>6.95</td><td>0.3262</td><td>0.0146</td><td>0</td><td>1</td><td>sn97ef</td><td>6.95</td><td>Ic-BL</td><td>0.3262</td><td>0.0146</td><td>-14.0</td><td>0</td><td>7</td><td>sn2003W</td><td>4.54</td><td>Ia-norm</td><td>0.4743</td><td>0.0108</td><td>28.0</td><td>0</td><td>10</td><td>sn2005cf</td><td>4.3</td><td>Ia-norm</td><td>0.4432</td><td>0.0134</td><td>-6.6</td><td>0</td><td>16</td><td>sn1999gp</td><td>4.12</td><td>Ia-91T</td><td>0.4702</td><td>0.0123</td><td>35.1</td><td>0</td><td>17</td><td>sn03du</td><td>4.11</td><td>Ia-norm</td><td>0.4409</td><td>0.0122</td><td>-5.0</td><td>0</td><td>53623570</td><td>4</td><td>7</td><td>0</td><td>0</td><td>0</td><td>0</td></tr>\n",
       "<tr><td>ZTF17aaazdba_20190315_P60_v1.ascii</td><td>ZTF17aaazdba</td><td>sn2013dg</td><td>4.27</td><td>0.2648</td><td>0.0143</td><td>1</td><td>1</td><td>sn2013dg</td><td>4.27</td><td>Ic-SLSN</td><td>0.2648</td><td>0.0143</td><td>5.16</td><td>0</td><td>2</td><td>ASASSN-15lh</td><td>4.2</td><td>Ic-SLSN</td><td>0.2981</td><td>0.0191</td><td>20.28</td><td>0</td><td>3</td><td>sn96L</td><td>4.15</td><td>IIn</td><td>0.3161</td><td>0.0071</td><td>322.8</td><td>0</td><td>7</td><td>sn2007C</td><td>4.07</td><td>Ib-norm</td><td>0.4644</td><td>0.0127</td><td>13.8</td><td>0</td><td>9</td><td>sn05gj</td><td>3.76</td><td>Ia-csm</td><td>0.0529</td><td>0.0182</td><td>48.11</td><td>0</td><td>53623579</td><td>7</td><td>3</td><td>0</td><td>0</td><td>0</td><td>1</td></tr>\n",
       "<tr><td>ZTF17aaazdba_20190424_P60_v1.ascii</td><td>ZTF17aaazdba</td><td>sn90N</td><td>7.32</td><td>0.9621</td><td>0.0085</td><td>0</td><td>1</td><td>sn90N</td><td>7.32</td><td>Ia-norm</td><td>0.9621</td><td>0.0085</td><td>-6.4</td><td>0</td><td>3</td><td>SSS120810-23</td><td>6.15</td><td>Ic-SLSN</td><td>0.7381</td><td>0.0144</td><td>38.63</td><td>0</td><td>4</td><td>sn2015bn</td><td>5.83</td><td>Ic-SLSN</td><td>0.4979</td><td>0.0072</td><td>5.84</td><td>0</td><td>5</td><td>sn2013dx</td><td>5.41</td><td>Ic-BL</td><td>0.5423</td><td>0.016</td><td>-3.2</td><td>0</td><td>6</td><td>sn2008ax</td><td>5.32</td><td>IIb</td><td>0.7182</td><td>0.0101</td><td>-13.0</td><td>0</td><td>53623588</td><td>2</td><td>0</td><td>1</td><td>7</td><td>1</td><td>0</td></tr>\n",
       "<tr><td>ZTF17aaazdba_20190925_Keck1_v4.ascii</td><td>ZTF17aaazdba</td><td>ASASSN14li</td><td>12.26</td><td>0.0225</td><td>0.002</td><td>1</td><td>1</td><td>ASASSN14li</td><td>12.26</td><td>TDE</td><td>0.0225</td><td>0.002</td><td>136.0</td><td>1</td><td>2</td><td>sn1994I</td><td>7.1</td><td>Ic-norm</td><td>0.0431</td><td>0.0105</td><td>3.5</td><td>0</td><td>3</td><td>sn97ef</td><td>7.1</td><td>Ic-BL</td><td>0.0431</td><td>0.0134</td><td>13.8</td><td>0</td><td>4</td><td>sn1999by</td><td>6.99</td><td>Ia-91bg</td><td>0.0409</td><td>0.0093</td><td>4.0</td><td>0</td><td>13</td><td>sn2002ap</td><td>5.88</td><td>Ic-BL</td><td>0.0424</td><td>0.0137</td><td>11.6</td><td>0</td><td>53623594</td><td>0</td><td>11</td><td>0</td><td>0</td><td>0</td><td>0</td></tr>\n",
       "<tr><td>ZTF17aaburzk_20180717_P60_v1.ascii</td><td>ZTF17aaburzk</td><td>sn87A</td><td>7.8</td><td>0.0234</td><td>0.0089</td><td>1</td><td>1</td><td>sn87A</td><td>7.8</td><td>II-norm</td><td>0.0234</td><td>0.0089</td><td>11.3</td><td>0</td><td>2</td><td>sn2003Y</td><td>7.76</td><td>Ia-91bg</td><td>0.0333</td><td>0.0094</td><td>-6.3</td><td>0</td><td>10</td><td>sn2006ep</td><td>6.69</td><td>Ib-norm</td><td>0.0228</td><td>0.0108</td><td>8.5</td><td>0</td><td>17</td><td>sn1995F</td><td>6.39</td><td>Ic-norm</td><td>0.0267</td><td>0.0111</td><td>1.9</td><td>1</td><td>21</td><td>sn2007ax</td><td>6.16</td><td>Ia-91bg</td><td>0.0302</td><td>0.0123</td><td>-1.9</td><td>0</td><td>53623599</td><td>7</td><td>0</td><td>1</td><td>1</td><td>0</td><td>2</td></tr>\n",
       "<tr><td>ZTF18aaabltn_20190502_DCT_v1.ascii</td><td>ZTF18aaabltn</td><td>qso</td><td>22.9</td><td>0.045</td><td>0.0012</td><td>1</td><td>1</td><td>qso</td><td>22.9</td><td>QSO</td><td>0.045</td><td>0.0012</td><td>-100.0</td><td>2</td><td>2</td><td>agn</td><td>21.11</td><td>AGN</td><td>0.0449</td><td>0.0014</td><td>-99.9</td><td>2</td><td>3</td><td>sn06bc</td><td>13.66</td><td>II-norm</td><td>0.0444</td><td>0.0018</td><td>9.0</td><td>0</td><td>4</td><td>kcSB3</td><td>11.93</td><td>Gal</td><td>0.0457</td><td>0.0019</td><td>-99.9</td><td>2</td><td>5</td><td>kcSB5</td><td>10.74</td><td>Gal</td><td>0.045</td><td>0.0021</td><td>-99.9</td><td>2</td><td>53623603</td><td>0</td><td>1</td><td>7</td><td>1</td><td>1</td><td>1</td></tr>\n",
       "<tr><td>ZTF18aaadtdc_20181106_P60_v1.ascii</td><td>ZTF18aaadtdc</td><td>agn</td><td>30.5</td><td>0.0359</td><td>0.0013</td><td>1</td><td>1</td><td>agn</td><td>30.5</td><td>AGN</td><td>0.0359</td><td>0.0013</td><td>-99.9</td><td>2</td><td>2</td><td>qso</td><td>23.31</td><td>QSO</td><td>0.0358</td><td>0.0015</td><td>-100.0</td><td>2</td><td>3</td><td>kcSB5</td><td>14.41</td><td>Gal</td><td>0.0359</td><td>0.0024</td><td>-99.9</td><td>2</td><td>4</td><td>kcSB3</td><td>12.83</td><td>Gal</td><td>0.0366</td><td>0.0026</td><td>-99.9</td><td>2</td><td>5</td><td>sn06bc</td><td>12.54</td><td>II-norm</td><td>0.0352</td><td>0.0027</td><td>9.0</td><td>0</td><td>53623604</td><td>0</td><td>10</td><td>0</td><td>0</td><td>0</td><td>0</td></tr>\n",
       "<tr><td>ZTF18aaaibml_20200219_Keck1_v1.ascii</td><td>ZTF18aaaibml</td><td>kcSc</td><td>33.03</td><td>0.0348</td><td>0.0006</td><td>1</td><td>1</td><td>kcSc</td><td>33.03</td><td>Gal</td><td>0.0348</td><td>0.0006</td><td>-99.9</td><td>2</td><td>2</td><td>kcSB4</td><td>28.09</td><td>Gal</td><td>0.0345</td><td>0.0007</td><td>-99.9</td><td>2</td><td>3</td><td>kcSB5</td><td>26.31</td><td>Gal</td><td>0.0348</td><td>0.0007</td><td>-99.9</td><td>2</td><td>8</td><td>agn</td><td>16.73</td><td>AGN</td><td>0.0346</td><td>0.0014</td><td>-99.9</td><td>2</td><td>9</td><td>qso</td><td>13.57</td><td>QSO</td><td>0.0347</td><td>0.0015</td><td>-100.0</td><td>2</td><td>53623608</td><td>1</td><td>7</td><td>1</td><td>0</td><td>2</td><td>0</td></tr>\n",
       "<tr><td>...</td><td>...</td><td>...</td><td>...</td><td>...</td><td>...</td><td>...</td><td>...</td><td>...</td><td>...</td><td>...</td><td>...</td><td>...</td><td>...</td><td>...</td><td>...</td><td>...</td><td>...</td><td>...</td><td>...</td><td>...</td><td>...</td><td>...</td><td>...</td><td>...</td><td>...</td><td>...</td><td>...</td><td>...</td><td>...</td><td>...</td><td>...</td><td>...</td><td>...</td><td>...</td><td>...</td><td>...</td><td>...</td><td>...</td><td>...</td><td>...</td><td>...</td><td>...</td><td>...</td><td>...</td><td>...</td><td>...</td><td>...</td><td>...</td><td>...</td><td>...</td><td>...</td><td>...</td><td>...</td></tr>\n",
       "<tr><td>ZTF20abmubmh_20200725_P60_v1.ascii</td><td>ZTF20abmubmh</td><td>sn1999ej</td><td>13.51</td><td>0.0642</td><td>0.0041</td><td>1</td><td>1</td><td>sn1999ej</td><td>13.51</td><td>Ia-norm</td><td>0.0642</td><td>0.0041</td><td>11.0</td><td>0</td><td>2</td><td>sn1996bl</td><td>12.42</td><td>Ia-norm</td><td>0.0655</td><td>0.0046</td><td>18.1</td><td>0</td><td>3</td><td>sn07fb</td><td>12.18</td><td>Ia-norm</td><td>0.0665</td><td>0.0045</td><td>14.63</td><td>0</td><td>4</td><td>sn1994D</td><td>12.07</td><td>Ia-norm</td><td>0.0669</td><td>0.0047</td><td>12.8</td><td>0</td><td>72</td><td>sn1999aa</td><td>9.72</td><td>Ia-91T</td><td>0.0657</td><td>0.0055</td><td>20.1</td><td>0</td><td>53642454</td><td>1</td><td>0</td><td>2</td><td>3</td><td>0</td><td>5</td></tr>\n",
       "<tr><td>ZTF20abmxovj_20200730_P60_v1.ascii</td><td>ZTF20abmxovj</td><td>sn2006gr</td><td>10.99</td><td>0.1026</td><td>0.006999999999999999</td><td>1</td><td>1</td><td>sn2006gr</td><td>10.99</td><td>Ia-norm</td><td>0.1026</td><td>0.006999999999999999</td><td>-6.9</td><td>0</td><td>2</td><td>sn2006cj</td><td>9.96</td><td>Ia-norm</td><td>0.0835</td><td>0.0065</td><td>5.4</td><td>0</td><td>4</td><td>sn1999ee</td><td>9.56</td><td>Ia-norm</td><td>0.0978</td><td>0.0077</td><td>-7.2</td><td>0</td><td>7</td><td>sn2006oa</td><td>9.34</td><td>Ia-91T</td><td>0.0923</td><td>0.0082</td><td>-5.7</td><td>0</td><td>8</td><td>sn2006S</td><td>9.27</td><td>Ia-norm</td><td>0.0916</td><td>0.0075</td><td>-5.5</td><td>0</td><td>53642456</td><td>1</td><td>1</td><td>6</td><td>0</td><td>0</td><td>3</td></tr>\n",
       "<tr><td>ZTF20abmxovj_20200730_P60_v2.ascii</td><td>ZTF20abmxovj</td><td>sn2006gr</td><td>10.55</td><td>0.1048</td><td>0.0071</td><td>1</td><td>1</td><td>sn2006gr</td><td>10.55</td><td>Ia-norm</td><td>0.1048</td><td>0.0071</td><td>-6.9</td><td>0</td><td>2</td><td>sn2006S</td><td>10.44</td><td>Ia-norm</td><td>0.094</td><td>0.0067</td><td>-5.5</td><td>0</td><td>4</td><td>sn01eh</td><td>10.1</td><td>Ia-norm</td><td>0.0915</td><td>0.0067</td><td>-4.53</td><td>0</td><td>8</td><td>sn2006oa</td><td>9.58</td><td>Ia-91T</td><td>0.0941</td><td>0.0081</td><td>-5.7</td><td>0</td><td>9</td><td>sn99ee</td><td>9.45</td><td>Ia-norm</td><td>0.0999</td><td>0.0075</td><td>-6.7</td><td>0</td><td>53642457</td><td>2</td><td>0</td><td>2</td><td>1</td><td>2</td><td>2</td></tr>\n",
       "<tr><td>ZTF20abndzyc_20200727_P60_v1.ascii</td><td>ZTF20abndzyc</td><td>sn2003ic</td><td>10.61</td><td>0.0678</td><td>0.0057</td><td>1</td><td>1</td><td>sn2003ic</td><td>10.61</td><td>Ia-norm</td><td>0.0678</td><td>0.0057</td><td>3.4</td><td>0</td><td>3</td><td>sn2006cj</td><td>8.09</td><td>Ia-norm</td><td>0.0662</td><td>0.0074</td><td>5.4</td><td>0</td><td>4</td><td>sn2006cf</td><td>7.92</td><td>Ia-norm</td><td>0.0641</td><td>0.0078</td><td>2.7</td><td>0</td><td>10</td><td>sn2001eh</td><td>6.73</td><td>Ia-91T</td><td>0.0719</td><td>0.0106</td><td>-4.9</td><td>0</td><td>11</td><td>sn2006ck</td><td>6.71</td><td>Ic-norm</td><td>0.0644</td><td>0.011000000000000001</td><td>1.0</td><td>1</td><td>53642466</td><td>1</td><td>3</td><td>5</td><td>0</td><td>3</td><td>0</td></tr>\n",
       "<tr><td>ZTF20abnlsww_20200801_P60_v1.ascii</td><td>ZTF20abnlsww</td><td>sn99ee</td><td>7.47</td><td>0.0967</td><td>0.0081</td><td>1</td><td>1</td><td>sn99ee</td><td>7.47</td><td>Ia-norm</td><td>0.0967</td><td>0.0081</td><td>-6.7</td><td>0</td><td>5</td><td>sn1999ac</td><td>6.82</td><td>Ia-91T</td><td>0.0786</td><td>0.008</td><td>2.7</td><td>0</td><td>6</td><td>sn2006gr</td><td>6.65</td><td>Ia-norm</td><td>0.1019</td><td>0.0091</td><td>-6.0</td><td>0</td><td>7</td><td>sn06et</td><td>6.58</td><td>Ia-norm</td><td>0.083</td><td>0.0089</td><td>3.71</td><td>0</td><td>23</td><td>iPTF13bvn</td><td>5.86</td><td>Ib-norm</td><td>0.14300000000000002</td><td>0.0078</td><td>-12.7</td><td>0</td><td>53642468</td><td>3</td><td>0</td><td>1</td><td>5</td><td>2</td><td>0</td></tr>\n",
       "<tr><td>ZTF20abnnfpv_20200723_P60_v2.ascii</td><td>ZTF20abnnfpv</td><td>sn1987A</td><td>10.22</td><td>0.040999999999999995</td><td>0.0048</td><td>1</td><td>1</td><td>sn1987A</td><td>10.22</td><td>II-norm</td><td>0.040999999999999995</td><td>0.0048</td><td>-78.8</td><td>0</td><td>7</td><td>sn07il</td><td>9.01</td><td>II-norm</td><td>0.0218</td><td>0.0041</td><td>52.0</td><td>0</td><td>15</td><td>sn2006bp</td><td>7.87</td><td>II-norm</td><td>0.0362</td><td>0.0062</td><td>8.1</td><td>0</td><td>23</td><td>sn92H</td><td>7.55</td><td>II-norm</td><td>0.0252</td><td>0.0052</td><td>44.3</td><td>0</td><td>41</td><td>sn94D</td><td>6.44</td><td>Ia-norm</td><td>0.0403</td><td>0.0099</td><td>26.2</td><td>0</td><td>53642471</td><td>0</td><td>1</td><td>7</td><td>0</td><td>3</td><td>0</td></tr>\n",
       "<tr><td>ZTF20abnrdse_20200803_P60_v1.ascii</td><td>ZTF20abnrdse</td><td>sn1998es</td><td>8.04</td><td>0.0768</td><td>0.009000000000000001</td><td>1</td><td>1</td><td>sn1998es</td><td>8.04</td><td>Ia-91T</td><td>0.0768</td><td>0.009000000000000001</td><td>-11.4</td><td>0</td><td>3</td><td>sn99ee</td><td>7.56</td><td>Ia-norm</td><td>0.0867</td><td>0.0088</td><td>-8.6</td><td>0</td><td>5</td><td>sn1999dq</td><td>7.48</td><td>Ia-91T</td><td>0.0748</td><td>0.0079</td><td>-2.5</td><td>0</td><td>6</td><td>sn2007S</td><td>7.4</td><td>Ia-91T</td><td>0.0751</td><td>0.0083</td><td>-4.7</td><td>0</td><td>29</td><td>iPTF13bvn</td><td>6.12</td><td>Ib-norm</td><td>0.07400000000000001</td><td>0.0086</td><td>-13.7</td><td>0</td><td>53642476</td><td>2</td><td>2</td><td>1</td><td>1</td><td>1</td><td>3</td></tr>\n",
       "<tr><td>ZTF20abnvdem_20200728_P60_v1.ascii</td><td>ZTF20abnvdem</td><td>qso</td><td>6.34</td><td>0.134</td><td>0.0042</td><td>1</td><td>1</td><td>sn1990K</td><td>6.45</td><td>II-norm</td><td>0.172</td><td>0.0054</td><td>136.1</td><td>1</td><td>3</td><td>qso</td><td>6.34</td><td>QSO</td><td>0.134</td><td>0.0042</td><td>-100.0</td><td>2</td><td>5</td><td>sn2005cs</td><td>5.78</td><td>II-norm</td><td>0.1317</td><td>0.0044</td><td>265.5</td><td>0</td><td>8</td><td>sn05cs</td><td>5.29</td><td>II-norm</td><td>0.1305</td><td>0.0046</td><td>176.1</td><td>0</td><td>11</td><td>sn2005cc</td><td>5.13</td><td>Ia-02cx</td><td>0.5937</td><td>0.006999999999999999</td><td>5.6</td><td>0</td><td>53642477</td><td>4</td><td>3</td><td>2</td><td>0</td><td>2</td><td>0</td></tr>\n",
       "<tr><td>ZTF20abpfbih_20200802_P60_v1.ascii</td><td>ZTF20abpfbih</td><td>sn06ke</td><td>5.79</td><td>0.7369</td><td>0.0081</td><td>0</td><td>1</td><td>sn06ke</td><td>5.79</td><td>Ia-91bg</td><td>0.7369</td><td>0.0081</td><td>8.43</td><td>0</td><td>2</td><td>sn2005bl</td><td>5.76</td><td>Ia-91bg</td><td>0.7398</td><td>0.0097</td><td>4.7</td><td>0</td><td>3</td><td>sn2005mf</td><td>5.75</td><td>Ic-norm</td><td>0.75</td><td>0.0104</td><td>4.0</td><td>0</td><td>4</td><td>PTF10vgv</td><td>5.52</td><td>Ic-BL</td><td>0.7497</td><td>0.0148</td><td>8.2</td><td>0</td><td>5</td><td>PTF10cwr</td><td>5.29</td><td>Ic-SLSN</td><td>0.7536</td><td>0.0122</td><td>56.62</td><td>0</td><td>53642496</td><td>8</td><td>1</td><td>0</td><td>0</td><td>0</td><td>2</td></tr>\n",
       "<tr><td>ZTF20abpscln_20200802_P60_v1.ascii</td><td>ZTF20abpscln</td><td>sn2006ot</td><td>6.57</td><td>0.0687</td><td>0.0083</td><td>1</td><td>1</td><td>sn2006ot</td><td>6.57</td><td>Ia-norm</td><td>0.0687</td><td>0.0083</td><td>2.5</td><td>0</td><td>2</td><td>sn1999ac</td><td>5.83</td><td>Ia-91T</td><td>0.0598</td><td>0.0098</td><td>0.4</td><td>0</td><td>3</td><td>sn96C</td><td>5.83</td><td>Ia-norm</td><td>0.0559</td><td>0.0085</td><td>8.3</td><td>0</td><td>4</td><td>sn2006ax</td><td>5.78</td><td>Ia-norm</td><td>0.0644</td><td>0.0107</td><td>-9.3</td><td>0</td><td>49</td><td>sn2006gz</td><td>5.08</td><td>Ia-03fg</td><td>0.0597</td><td>0.0078</td><td>7.3</td><td>0</td><td>53642505</td><td>3</td><td>4</td><td>1</td><td>0</td><td>2</td><td>1</td></tr>\n",
       "</table>"
      ],
      "text/plain": [
       "<Table length=2518>\n",
       "              Version                  ZTF_Name   z_sntemplate ...   #4    #5 \n",
       "               str64                    str64        str12     ... int32 int32\n",
       "------------------------------------ ------------ ------------ ... ----- -----\n",
       "  ZTF17aaajnki_20180320_P60_v2.ascii ZTF17aaajnki        kcSB2 ...     0     0\n",
       " ZTF17aaapufz_20190304_P200_v1.ascii ZTF17aaapufz         kcSc ...     0     0\n",
       "  ZTF17aaaukqn_20180904_P60_v1.ascii ZTF17aaaukqn       sn97ef ...     0     0\n",
       "  ZTF17aaazdba_20190315_P60_v1.ascii ZTF17aaazdba     sn2013dg ...     0     1\n",
       "  ZTF17aaazdba_20190424_P60_v1.ascii ZTF17aaazdba        sn90N ...     1     0\n",
       "ZTF17aaazdba_20190925_Keck1_v4.ascii ZTF17aaazdba   ASASSN14li ...     0     0\n",
       "  ZTF17aaburzk_20180717_P60_v1.ascii ZTF17aaburzk        sn87A ...     0     2\n",
       "  ZTF18aaabltn_20190502_DCT_v1.ascii ZTF18aaabltn          qso ...     1     1\n",
       "  ZTF18aaadtdc_20181106_P60_v1.ascii ZTF18aaadtdc          agn ...     0     0\n",
       "ZTF18aaaibml_20200219_Keck1_v1.ascii ZTF18aaaibml         kcSc ...     2     0\n",
       "                                 ...          ...          ... ...   ...   ...\n",
       "  ZTF20abmubmh_20200725_P60_v1.ascii ZTF20abmubmh     sn1999ej ...     0     5\n",
       "  ZTF20abmxovj_20200730_P60_v1.ascii ZTF20abmxovj     sn2006gr ...     0     3\n",
       "  ZTF20abmxovj_20200730_P60_v2.ascii ZTF20abmxovj     sn2006gr ...     2     2\n",
       "  ZTF20abndzyc_20200727_P60_v1.ascii ZTF20abndzyc     sn2003ic ...     3     0\n",
       "  ZTF20abnlsww_20200801_P60_v1.ascii ZTF20abnlsww       sn99ee ...     2     0\n",
       "  ZTF20abnnfpv_20200723_P60_v2.ascii ZTF20abnnfpv      sn1987A ...     3     0\n",
       "  ZTF20abnrdse_20200803_P60_v1.ascii ZTF20abnrdse     sn1998es ...     1     3\n",
       "  ZTF20abnvdem_20200728_P60_v1.ascii ZTF20abnvdem          qso ...     2     0\n",
       "  ZTF20abpfbih_20200802_P60_v1.ascii ZTF20abpfbih       sn06ke ...     0     2\n",
       "  ZTF20abpscln_20200802_P60_v1.ascii ZTF20abpscln     sn2006ot ...     2     1"
      ]
     },
     "execution_count": 57,
     "metadata": {},
     "output_type": "execute_result"
    }
   ],
   "source": [
    "joined_results"
   ]
  },
  {
   "cell_type": "markdown",
   "metadata": {},
   "source": [
    "Further Analysis\n",
    "Weighing Users Plot number of classifications vs accuracy\n",
    "Weighting Schemes\n",
    "Isolate Users or subclasses\n",
    "Cluster things that are wrong\n",
    "PanStarrs Subtraction\n",
    "Age vs Accuracy\n",
    "Phase of the spectra vs Accuracyclassification[ccs_workflow]"
   ]
  },
  {
   "cell_type": "code",
   "execution_count": 156,
   "metadata": {},
   "outputs": [],
   "source": [
    "wanted = classification[ccs_workflow]"
   ]
  },
  {
   "cell_type": "code",
   "execution_count": 157,
   "metadata": {},
   "outputs": [],
   "source": [
    "users = np.unique(wanted[\"user_name\"])"
   ]
  },
  {
   "cell_type": "code",
   "execution_count": 158,
   "metadata": {},
   "outputs": [
    {
     "data": {
      "text/plain": [
       "1980"
      ]
     },
     "execution_count": 158,
     "metadata": {},
     "output_type": "execute_result"
    }
   ],
   "source": [
    "len(users)"
   ]
  },
  {
   "cell_type": "code",
   "execution_count": 159,
   "metadata": {},
   "outputs": [
    {
     "name": "stdout",
     "output_type": "stream",
     "text": [
      "100\n",
      "200\n",
      "300\n",
      "400\n",
      "500\n",
      "600\n",
      "700\n",
      "800\n",
      "900\n",
      "1000\n",
      "1100\n",
      "1200\n",
      "1300\n",
      "1400\n",
      "1500\n",
      "1600\n",
      "1700\n",
      "1800\n",
      "1900\n"
     ]
    }
   ],
   "source": [
    "location_list = []\n",
    "counter = 0\n",
    "for i in users:\n",
    "    counter += 1\n",
    "    locations = np.where(wanted[\"user_name\"] == i)\n",
    "    location_list.append(np.asarray([i,locations[0],len(locations[0])]))\n",
    "    if(counter % 100 == 0):\n",
    "        print(counter)\n",
    "location_list = np.asarray(location_list)"
   ]
  },
  {
   "cell_type": "code",
   "execution_count": 160,
   "metadata": {},
   "outputs": [
    {
     "data": {
      "text/plain": [
       "(array([1.491e+03, 2.420e+02, 8.400e+01, 4.700e+01, 2.400e+01, 1.600e+01,\n",
       "        1.400e+01, 7.000e+00, 1.000e+01, 8.000e+00, 5.000e+00, 6.000e+00,\n",
       "        2.000e+00, 1.000e+00, 0.000e+00, 0.000e+00, 1.000e+00, 1.000e+00,\n",
       "        2.000e+00, 2.000e+00, 0.000e+00, 1.000e+00, 1.000e+00, 0.000e+00,\n",
       "        1.000e+00, 1.000e+00, 2.000e+00, 1.000e+00, 0.000e+00, 0.000e+00,\n",
       "        0.000e+00, 0.000e+00, 1.000e+00, 0.000e+00, 0.000e+00, 0.000e+00,\n",
       "        0.000e+00, 1.000e+00, 0.000e+00, 0.000e+00, 0.000e+00, 1.000e+00,\n",
       "        0.000e+00, 1.000e+00, 0.000e+00, 0.000e+00, 0.000e+00, 0.000e+00,\n",
       "        1.000e+00, 0.000e+00, 0.000e+00, 1.000e+00, 0.000e+00, 0.000e+00,\n",
       "        0.000e+00, 1.000e+00, 0.000e+00, 0.000e+00, 0.000e+00, 0.000e+00,\n",
       "        0.000e+00, 1.000e+00, 0.000e+00, 0.000e+00, 0.000e+00, 0.000e+00,\n",
       "        0.000e+00, 0.000e+00, 0.000e+00, 0.000e+00, 0.000e+00, 0.000e+00,\n",
       "        1.000e+00, 0.000e+00, 0.000e+00, 0.000e+00, 0.000e+00, 0.000e+00,\n",
       "        0.000e+00, 0.000e+00, 0.000e+00, 0.000e+00, 0.000e+00, 0.000e+00,\n",
       "        0.000e+00, 0.000e+00, 0.000e+00, 0.000e+00, 0.000e+00, 0.000e+00,\n",
       "        0.000e+00, 0.000e+00, 0.000e+00, 0.000e+00, 0.000e+00, 0.000e+00,\n",
       "        0.000e+00, 0.000e+00, 0.000e+00, 1.000e+00]),\n",
       " array([1.0, 23.48, 45.96, 68.44, 90.92, 113.4, 135.88, 158.36, 180.84,\n",
       "        203.32, 225.8, 248.28, 270.76, 293.24, 315.72, 338.2, 360.68,\n",
       "        383.16, 405.64, 428.12, 450.6, 473.08, 495.56, 518.04, 540.52,\n",
       "        563.0, 585.48, 607.96, 630.44, 652.92, 675.4, 697.88, 720.36,\n",
       "        742.84, 765.32, 787.8000000000001, 810.28, 832.76, 855.24, 877.72,\n",
       "        900.2, 922.6800000000001, 945.16, 967.64, 990.12, 1012.6, 1035.08,\n",
       "        1057.56, 1080.04, 1102.52, 1125.0, 1147.48, 1169.96, 1192.44,\n",
       "        1214.92, 1237.4, 1259.88, 1282.3600000000001, 1304.84, 1327.32,\n",
       "        1349.8, 1372.28, 1394.76, 1417.24, 1439.72, 1462.2, 1484.68,\n",
       "        1507.16, 1529.64, 1552.1200000000001, 1574.6000000000001, 1597.08,\n",
       "        1619.56, 1642.04, 1664.52, 1687.0, 1709.48, 1731.96, 1754.44,\n",
       "        1776.92, 1799.4, 1821.88, 1844.3600000000001, 1866.8400000000001,\n",
       "        1889.32, 1911.8, 1934.28, 1956.76, 1979.24, 2001.72, 2024.2,\n",
       "        2046.68, 2069.16, 2091.64, 2114.12, 2136.6, 2159.08, 2181.56,\n",
       "        2204.04, 2226.52, 2249.0], dtype=object),\n",
       " <BarContainer object of 100 artists>)"
      ]
     },
     "execution_count": 160,
     "metadata": {},
     "output_type": "execute_result"
    },
    {
     "data": {
      "image/png": "[encoded data removed]",
      "text/plain": [
       "<Figure size 432x288 with 1 Axes>"
      ]
     },
     "metadata": {
      "needs_background": "light"
     },
     "output_type": "display_data"
    }
   ],
   "source": [
    "plt.hist(location_list[:, 2], bins = 100)"
   ]
  },
  {
   "cell_type": "code",
   "execution_count": 161,
   "metadata": {},
   "outputs": [],
   "source": [
    "super_users = location_list[np.where(location_list[:,2] > 250)]"
   ]
  },
  {
   "cell_type": "code",
   "execution_count": 162,
   "metadata": {},
   "outputs": [
    {
     "data": {
      "text/plain": [
       "array([1, 2, 3, 4, 5, 6, 7, 8, 9, 10, 11, 12, 13, 14, 15, 16, 17, 18, 19,\n",
       "       20, 21, 22, 23, 24, 25, 26, 27, 28, 29, 30, 31, 32, 33, 34, 35, 36,\n",
       "       37, 38, 39, 40, 41, 42, 43, 44, 45, 46, 47, 48, 49, 50, 51, 52, 53,\n",
       "       54, 55, 56, 57, 58, 60, 61, 62, 63, 64, 65, 66, 67, 69, 70, 71, 72,\n",
       "       73, 74, 75, 76, 77, 78, 80, 82, 83, 84, 86, 87, 88, 89, 90, 91, 93,\n",
       "       96, 98, 99, 100, 101, 102, 104, 106, 107, 110, 111, 112, 113, 114,\n",
       "       115, 116, 117, 118, 119, 121, 122, 123, 128, 129, 131, 133, 134,\n",
       "       135, 141, 142, 143, 145, 146, 147, 149, 150, 153, 156, 157, 158,\n",
       "       159, 161, 167, 171, 177, 180, 183, 186, 187, 193, 201, 202, 203,\n",
       "       206, 207, 212, 215, 220, 223, 233, 238, 244, 246, 249, 254, 256,\n",
       "       264, 265, 268, 275, 300, 363, 384, 424, 427, 440, 442, 488, 514,\n",
       "       546, 566, 591, 595, 628, 742, 845, 940, 972, 1093, 1150, 1252,\n",
       "       1386, 1630, 2249], dtype=object)"
      ]
     },
     "execution_count": 162,
     "metadata": {},
     "output_type": "execute_result"
    }
   ],
   "source": [
    "np.unique(location_list[:,2])"
   ]
  },
  {
   "cell_type": "code",
   "execution_count": 163,
   "metadata": {},
   "outputs": [],
   "source": [
    "results = []\n",
    "for amount_done in np.unique(location_list[:,2]):\n",
    "    right = 0\n",
    "    total = 0\n",
    "    for line in location_list[np.where(location_list[:,2] == amount_done)]:\n",
    "        these_classes = classification[ccs_workflow][line[1]]\n",
    "        for i in these_classes:\n",
    "            subject_data = json.loads(i[\"subject_data\"])\n",
    "            annotations = json.loads(i[\"annotations\"])\n",
    "            value = annotations[0][\"value\"]\n",
    "            ztf_name = subject_data[str(i[\"subject_ids\"])][\"!ZTF_Name\"]\n",
    "            ztf_version = subject_data[str(i[\"subject_ids\"])][\"!ZTF_Version\"]\n",
    "            type_location = np.where(final_rcf_table[\"ZTF_Name\"] == ztf_name)[0]\n",
    "            if(len(type_location) > 0 and value != None):\n",
    "                type_location = type_location[0]\n",
    "                snid_location = np.where(snidoutput[\"Version\"] == ztf_version+\".ascii\")[0][0]\n",
    "                response_number = response_dict[value]\n",
    "                if(response_number != 0):\n",
    "                    snid_class = snidoutput[snid_location][\"c_snid_{}\".format(response_number)]\n",
    "                    actual_class = final_rcf_table[type_location][\"sn_type\"]\n",
    "                    if(actual_class == snid_class):\n",
    "                        right += 1\n",
    "                    elif(actual_class in snid_class):\n",
    "                        right += 1\n",
    "                    elif(\"Ia\" in actual_class and \"Ia\" in snid_class):\n",
    "                        right += 1\n",
    "                    elif(\"II\" in actual_class and \"II\" in snid_class):\n",
    "                        right += 1\n",
    "                    elif(\"Ib\" in actual_class and \"Ib\" in snid_class):\n",
    "                        right += 1\n",
    "                    elif(\"Ic\" in actual_class and \"Ic\" in snid_class):\n",
    "                        right += 1\n",
    "                    total += 1\n",
    "    results.append([amount_done, right, total, right/total])"
   ]
  },
  {
   "cell_type": "code",
   "execution_count": 165,
   "metadata": {},
   "outputs": [],
   "source": [
    "results = np.asarray(results)"
   ]
  },
  {
   "cell_type": "code",
   "execution_count": 167,
   "metadata": {},
   "outputs": [
    {
     "data": {
      "text/plain": [
       "<matplotlib.collections.PathCollection at 0x29352a2ad30>"
      ]
     },
     "execution_count": 167,
     "metadata": {},
     "output_type": "execute_result"
    },
    {
     "data": {
      "image/png": "[encoded data removed]",
      "text/plain": [
       "<Figure size 432x288 with 1 Axes>"
      ]
     },
     "metadata": {
      "needs_background": "light"
     },
     "output_type": "display_data"
    }
   ],
   "source": [
    "plt.scatter(results[:,0], results[:,3])"
   ]
  },
  {
   "cell_type": "code",
   "execution_count": 143,
   "metadata": {},
   "outputs": [
    {
     "data": {
      "text/plain": [
       "'II-norm'"
      ]
     },
     "execution_count": 143,
     "metadata": {},
     "output_type": "execute_result"
    }
   ],
   "source": [
    "snidoutput[0][\"c_snid_{}\".format(1)]"
   ]
  },
  {
   "cell_type": "code",
   "execution_count": 136,
   "metadata": {},
   "outputs": [
    {
     "data": {
      "text/plain": [
       "array([0], dtype=int64)"
      ]
     },
     "execution_count": 136,
     "metadata": {},
     "output_type": "execute_result"
    }
   ],
   "source": [
    "np.where(final_rcf_table[\"ZTF_Name\"] == \"ZTF18aabssth\")[0]"
   ]
  },
  {
   "cell_type": "code",
   "execution_count": 147,
   "metadata": {},
   "outputs": [
    {
     "data": {
      "text/html": [
       "&lt;Column name=&apos;sn_type&apos; dtype=&apos;str9&apos; length=19&gt;\n",
       "<table>\n",
       "<tr><td>II</td></tr>\n",
       "<tr><td>II-87A</td></tr>\n",
       "<tr><td>IIb</td></tr>\n",
       "<tr><td>IIn</td></tr>\n",
       "<tr><td>Ia</td></tr>\n",
       "<tr><td>Ia-02cx</td></tr>\n",
       "<tr><td>Ia-91T</td></tr>\n",
       "<tr><td>Ia-91bg</td></tr>\n",
       "<tr><td>Ia-SC</td></tr>\n",
       "<tr><td>Ia-csm</td></tr>\n",
       "<tr><td>Ib</td></tr>\n",
       "<tr><td>Ib/c</td></tr>\n",
       "<tr><td>Ibn</td></tr>\n",
       "<tr><td>Ic</td></tr>\n",
       "<tr><td>Ic-BL</td></tr>\n",
       "<tr><td>Ic-pec</td></tr>\n",
       "<tr><td>SLSN-I</td></tr>\n",
       "<tr><td>SLSN-II</td></tr>\n",
       "<tr><td>ambiguous</td></tr>\n",
       "</table>"
      ],
      "text/plain": [
       "<Column name='sn_type' dtype='str9' length=19>\n",
       "       II\n",
       "   II-87A\n",
       "      IIb\n",
       "      IIn\n",
       "       Ia\n",
       "  Ia-02cx\n",
       "   Ia-91T\n",
       "  Ia-91bg\n",
       "    Ia-SC\n",
       "   Ia-csm\n",
       "       Ib\n",
       "     Ib/c\n",
       "      Ibn\n",
       "       Ic\n",
       "    Ic-BL\n",
       "   Ic-pec\n",
       "   SLSN-I\n",
       "  SLSN-II\n",
       "ambiguous"
      ]
     },
     "execution_count": 147,
     "metadata": {},
     "output_type": "execute_result"
    }
   ],
   "source": [
    "np.unique(final_rcf_table[\"sn_type\"])"
   ]
  },
  {
   "cell_type": "code",
   "execution_count": 148,
   "metadata": {},
   "outputs": [
    {
     "data": {
      "text/html": [
       "&lt;Column name=&apos;c_snid_1&apos; dtype=&apos;str7&apos; length=21&gt;\n",
       "<table>\n",
       "<tr><td>AGN</td></tr>\n",
       "<tr><td>C-star</td></tr>\n",
       "<tr><td>Gal</td></tr>\n",
       "<tr><td>II-norm</td></tr>\n",
       "<tr><td>IIb</td></tr>\n",
       "<tr><td>IIn</td></tr>\n",
       "<tr><td>Ia-02cx</td></tr>\n",
       "<tr><td>Ia-03fg</td></tr>\n",
       "<tr><td>Ia-91T</td></tr>\n",
       "<tr><td>Ia-91bg</td></tr>\n",
       "<tr><td>Ia-csm</td></tr>\n",
       "<tr><td>Ia-norm</td></tr>\n",
       "<tr><td>Ib-norm</td></tr>\n",
       "<tr><td>Ibn</td></tr>\n",
       "<tr><td>Ic-BL</td></tr>\n",
       "<tr><td>Ic-SLSN</td></tr>\n",
       "<tr><td>Ic-norm</td></tr>\n",
       "<tr><td>LBV</td></tr>\n",
       "<tr><td>M-star</td></tr>\n",
       "<tr><td>QSO</td></tr>\n",
       "<tr><td>TDE</td></tr>\n",
       "</table>"
      ],
      "text/plain": [
       "<Column name='c_snid_1' dtype='str7' length=21>\n",
       "    AGN\n",
       " C-star\n",
       "    Gal\n",
       "II-norm\n",
       "    IIb\n",
       "    IIn\n",
       "Ia-02cx\n",
       "Ia-03fg\n",
       " Ia-91T\n",
       "Ia-91bg\n",
       " Ia-csm\n",
       "Ia-norm\n",
       "Ib-norm\n",
       "    Ibn\n",
       "  Ic-BL\n",
       "Ic-SLSN\n",
       "Ic-norm\n",
       "    LBV\n",
       " M-star\n",
       "    QSO\n",
       "    TDE"
      ]
     },
     "execution_count": 148,
     "metadata": {},
     "output_type": "execute_result"
    }
   ],
   "source": [
    "np.unique(snidoutput[\"c_snid_1\"])"
   ]
  },
  {
   "cell_type": "code",
   "execution_count": 130,
   "metadata": {},
   "outputs": [
    {
     "data": {
      "text/plain": [
       "'ZTF19adcbnty_20200218_Keck1_v1ascii'"
      ]
     },
     "execution_count": 130,
     "metadata": {},
     "output_type": "execute_result"
    }
   ],
   "source": [
    "ztf_version+\"ascii\""
   ]
  },
  {
   "cell_type": "code",
   "execution_count": null,
   "metadata": {},
   "outputs": [],
   "source": [
    "tables_age = []\n",
    "for cut in rlap_cutoffs:\n",
    "    Classes = Table(\n",
    "                    names=(\"ZTF_Name\", \"Version\", \"Real_c\", \"Zooniverse_c\"\n",
    "                    ),\n",
    "                    meta={\"name\": \"Spectrum Results after Zooniverse\"},\n",
    "                    dtype=(\"U64\", \"U64\", \"U64\", \"U64\",\n",
    "                          )\n",
    "                    )\n",
    "    for line in Joined_ZTF_2018:\n",
    "        row = []\n",
    "        row.append(line[\"ZTF_Name\"])\n",
    "        row.append(line[\"Version\"])\n",
    "        row.append(line[\"sn_type\"])\n",
    "        best = []\n",
    "        best_num = []\n",
    "        for i in types:\n",
    "            if(line[i] >= 9):\n",
    "                if(line[\"rlap\"] >= cut):\n",
    "                    best.append(i)\n",
    "                    best_num.append(line[i])\n",
    "        if(len(best) != 0):\n",
    "            row.append(best[np.argmax(best_num)])\n",
    "            Classes.add_row(row)\n",
    "    tables_age.append([cut, Classes])"
   ]
  }
 ],
 "metadata": {
  "kernelspec": {
   "display_name": "Python 3",
   "language": "python",
   "name": "python3"
  },
  "language_info": {
   "codemirror_mode": {
    "name": "ipython",
    "version": 3
   },
   "file_extension": ".py",
   "mimetype": "text/x-python",
   "name": "python",
   "nbconvert_exporter": "python",
   "pygments_lexer": "ipython3",
   "version": "3.8.5"
  }
 },
 "nbformat": 4,
 "nbformat_minor": 4
}
