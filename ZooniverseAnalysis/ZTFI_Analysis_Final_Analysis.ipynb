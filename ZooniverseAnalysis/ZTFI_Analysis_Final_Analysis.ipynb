{
 "cells": [
  {
   "cell_type": "code",
   "execution_count": 1,
   "metadata": {},
   "outputs": [],
   "source": [
    "import numpy as np\n",
    "import pandas as pd\n",
    "import glob\n",
    "from astropy.table import Table\n",
    "import matplotlib.pyplot as plt\n",
    "import json \n",
    "import astropy"
   ]
  },
  {
   "cell_type": "code",
   "execution_count": 2,
   "metadata": {},
   "outputs": [],
   "source": [
    "response_dict = {\n",
    "    \"#1\" : 1,\n",
    "    \"#2\" : 2,\n",
    "    \"#3\" : 3,\n",
    "    \"#4\" : 4,\n",
    "    \"#5\" : 5,\n",
    "    \"No good match\" : 0,\n",
    "}"
   ]
  },
  {
   "cell_type": "code",
   "execution_count": 3,
   "metadata": {},
   "outputs": [],
   "source": [
    "classification = Table.from_pandas(pd.read_csv(r'C:\\Users\\20xha\\Documents\\Caltech\\Research\\ZooniverseClassifications\\zwicky-chemical-factory-classifications_all.csv'))"
   ]
  },
  {
   "cell_type": "code",
   "execution_count": 4,
   "metadata": {},
   "outputs": [],
   "source": [
    "ccs_workflow = np.where(classification[\"workflow_name\"] == \"Core Collapse Supernovae\")"
   ]
  },
  {
   "cell_type": "code",
   "execution_count": 5,
   "metadata": {},
   "outputs": [
    {
     "data": {
      "text/html": [
       "<i>Row index=0</i>\n",
       "<table id=\"table3178189004368\">\n",
       "<thead><tr><th>classification_id</th><th>user_name</th><th>user_id</th><th>user_ip</th><th>workflow_id</th><th>workflow_name</th><th>workflow_version</th><th>created_at</th><th>gold_standard</th><th>expert</th><th>metadata</th><th>annotations</th><th>subject_data</th><th>subject_ids</th></tr></thead>\n",
       "<thead><tr><th>int64</th><th>str34</th><th>float64</th><th>str20</th><th>int64</th><th>str25</th><th>float64</th><th>str23</th><th>float64</th><th>float64</th><th>str1297</th><th>str532</th><th>str485</th><th>int64</th></tr></thead>\n",
       "<tr><td>288484944</td><td>cfremling</td><td>2128769.0</td><td>f614d887c5bb9da07e02</td><td>16969</td><td>Core Collapse Supernovae</td><td>8.21</td><td>2020-11-20 03:06:17 UTC</td><td>--</td><td>--</td><td>{&quot;source&quot;:&quot;api&quot;,&quot;session&quot;:&quot;b07e8eff7821c34f6244ef6e4aabc4bce6d598ab906f51424d36f66c90709c84&quot;,&quot;viewport&quot;:{&quot;width&quot;:1822,&quot;height&quot;:861},&quot;started_at&quot;:&quot;2020-11-20T03:05:50.856Z&quot;,&quot;user_agent&quot;:&quot;Mozilla/5.0 (Macintosh; Intel Mac OS X 10_15_4) AppleWebKit/537.36 (KHTML, like Gecko) Chrome/86.0.4240.198 Safari/537.36&quot;,&quot;utc_offset&quot;:&quot;28800&quot;,&quot;finished_at&quot;:&quot;2020-11-20T03:06:17.009Z&quot;,&quot;live_project&quot;:true,&quot;interventions&quot;:{&quot;opt_in&quot;:true,&quot;messageShown&quot;:false},&quot;user_language&quot;:&quot;en&quot;,&quot;user_group_ids&quot;:[],&quot;subject_dimensions&quot;:[{&quot;clientWidth&quot;:1280,&quot;clientHeight&quot;:720,&quot;naturalWidth&quot;:4800,&quot;naturalHeight&quot;:2700},{&quot;clientWidth&quot;:1280,&quot;clientHeight&quot;:720,&quot;naturalWidth&quot;:4800,&quot;naturalHeight&quot;:2700},{&quot;clientWidth&quot;:1280,&quot;clientHeight&quot;:720,&quot;naturalWidth&quot;:4800,&quot;naturalHeight&quot;:2700},{&quot;clientWidth&quot;:1280,&quot;clientHeight&quot;:720,&quot;naturalWidth&quot;:4800,&quot;naturalHeight&quot;:2700},{&quot;clientWidth&quot;:1280,&quot;clientHeight&quot;:720,&quot;naturalWidth&quot;:4800,&quot;naturalHeight&quot;:2700}],&quot;subject_selection_state&quot;:{&quot;retired&quot;:false,&quot;selected_at&quot;:&quot;2020-11-20T03:05:50.742Z&quot;,&quot;already_seen&quot;:false,&quot;selection_state&quot;:&quot;normal&quot;,&quot;finished_workflow&quot;:false,&quot;user_has_finished_workflow&quot;:false},&quot;workflow_translation_id&quot;:&quot;39739&quot;}</td><td>[{&quot;task&quot;:&quot;T0&quot;,&quot;task_label&quot;:&quot;Which spectrum is the best match?&quot;,&quot;value&quot;:&quot;#1&quot;}]</td><td>{&quot;51494375&quot;:{&quot;retired&quot;:null,&quot;z_snid&quot;:&quot;0.436&quot;,&quot;#Image0&quot;:&quot;snidfits_emclip_ZTF17aaazdba_20190330_P60_v1_1.png&quot;,&quot;#Image1&quot;:&quot;snidfits_emclip_ZTF17aaazdba_20190330_P60_v1_2.png&quot;,&quot;#Image2&quot;:&quot;snidfits_emclip_ZTF17aaazdba_20190330_P60_v1_3.png&quot;,&quot;#Image3&quot;:&quot;snidfits_emclip_ZTF17aaazdba_20190330_P60_v1_4.png&quot;,&quot;#Image4&quot;:&quot;snidfits_emclip_ZTF17aaazdba_20190330_P60_v1_5.png&quot;,&quot;!ZTF_Name&quot;:&quot;ZTF17aaazdba&quot;,&quot;z_snid_err&quot;:&quot;0.016&quot;,&quot;!ZTF_Version&quot;:&quot;ZTF17aaazdba_20190330_P60_v1&quot;}}</td><td>51494375</td></tr>\n",
       "</table>"
      ],
      "text/plain": [
       "<Row index=0>\n",
       "classification_id user_name  user_id        user_ip        workflow_id      workflow_name       workflow_version        created_at       gold_standard  expert                                                                                                                                                                                                                                                                                                                                                                                                                                                                                                                                                                                        metadata                                                                                                                                                                                                                                                                                                                                                                                                                                                                                                                                                                                                                        annotations                                                                                                                                                                                                                                                                subject_data                                                                                                                                                                                                                              subject_ids\n",
       "      int64         str34    float64         str20            int64             str25               float64               str23             float64    float64                                                                                                                                                                                                                                                                                                                                                                                                                                                                                                                                                                                        str1297                                                                                                                                                                                                                                                                                                                                                                                                                                                                                                                                                                                                                            str532                                                                                                                                                                                                                                                                     str485                                                                                                                                                                                                                                    int64   \n",
       "----------------- --------- --------- -------------------- ----------- ------------------------ ---------------- ----------------------- ------------- ------- ------------------------------------------------------------------------------------------------------------------------------------------------------------------------------------------------------------------------------------------------------------------------------------------------------------------------------------------------------------------------------------------------------------------------------------------------------------------------------------------------------------------------------------------------------------------------------------------------------------------------------------------------------------------------------------------------------------------------------------------------------------------------------------------------------------------------------------------------------------------------------------------------------------------------------------------------------------------------------------------------------------------------------------------------------------------------------------------------------------------------------------------------------------------------------------- ----------------------------------------------------------------------------- ----------------------------------------------------------------------------------------------------------------------------------------------------------------------------------------------------------------------------------------------------------------------------------------------------------------------------------------------------------------------------------------------------------------------------------------------------------------------- -----------\n",
       "        288484944 cfremling 2128769.0 f614d887c5bb9da07e02       16969 Core Collapse Supernovae             8.21 2020-11-20 03:06:17 UTC            --      -- {\"source\":\"api\",\"session\":\"b07e8eff7821c34f6244ef6e4aabc4bce6d598ab906f51424d36f66c90709c84\",\"viewport\":{\"width\":1822,\"height\":861},\"started_at\":\"2020-11-20T03:05:50.856Z\",\"user_agent\":\"Mozilla/5.0 (Macintosh; Intel Mac OS X 10_15_4) AppleWebKit/537.36 (KHTML, like Gecko) Chrome/86.0.4240.198 Safari/537.36\",\"utc_offset\":\"28800\",\"finished_at\":\"2020-11-20T03:06:17.009Z\",\"live_project\":true,\"interventions\":{\"opt_in\":true,\"messageShown\":false},\"user_language\":\"en\",\"user_group_ids\":[],\"subject_dimensions\":[{\"clientWidth\":1280,\"clientHeight\":720,\"naturalWidth\":4800,\"naturalHeight\":2700},{\"clientWidth\":1280,\"clientHeight\":720,\"naturalWidth\":4800,\"naturalHeight\":2700},{\"clientWidth\":1280,\"clientHeight\":720,\"naturalWidth\":4800,\"naturalHeight\":2700},{\"clientWidth\":1280,\"clientHeight\":720,\"naturalWidth\":4800,\"naturalHeight\":2700},{\"clientWidth\":1280,\"clientHeight\":720,\"naturalWidth\":4800,\"naturalHeight\":2700}],\"subject_selection_state\":{\"retired\":false,\"selected_at\":\"2020-11-20T03:05:50.742Z\",\"already_seen\":false,\"selection_state\":\"normal\",\"finished_workflow\":false,\"user_has_finished_workflow\":false},\"workflow_translation_id\":\"39739\"} [{\"task\":\"T0\",\"task_label\":\"Which spectrum is the best match?\",\"value\":\"#1\"}] {\"51494375\":{\"retired\":null,\"z_snid\":\"0.436\",\"#Image0\":\"snidfits_emclip_ZTF17aaazdba_20190330_P60_v1_1.png\",\"#Image1\":\"snidfits_emclip_ZTF17aaazdba_20190330_P60_v1_2.png\",\"#Image2\":\"snidfits_emclip_ZTF17aaazdba_20190330_P60_v1_3.png\",\"#Image3\":\"snidfits_emclip_ZTF17aaazdba_20190330_P60_v1_4.png\",\"#Image4\":\"snidfits_emclip_ZTF17aaazdba_20190330_P60_v1_5.png\",\"!ZTF_Name\":\"ZTF17aaazdba\",\"z_snid_err\":\"0.016\",\"!ZTF_Version\":\"ZTF17aaazdba_20190330_P60_v1\"}}    51494375"
      ]
     },
     "execution_count": 5,
     "metadata": {},
     "output_type": "execute_result"
    }
   ],
   "source": [
    "classification[ccs_workflow][0]"
   ]
  },
  {
   "cell_type": "code",
   "execution_count": 6,
   "metadata": {},
   "outputs": [],
   "source": [
    "subject_ids_unique = np.unique(classification[ccs_workflow][\"subject_ids\"])"
   ]
  },
  {
   "cell_type": "code",
   "execution_count": 7,
   "metadata": {},
   "outputs": [],
   "source": [
    "right_workflow = classification[ccs_workflow]"
   ]
  },
  {
   "cell_type": "code",
   "execution_count": 8,
   "metadata": {},
   "outputs": [
    {
     "data": {
      "text/plain": [
       "8777"
      ]
     },
     "execution_count": 8,
     "metadata": {},
     "output_type": "execute_result"
    }
   ],
   "source": [
    "len(subject_ids_unique)"
   ]
  },
  {
   "cell_type": "raw",
   "metadata": {},
   "source": [
    "data = []\n",
    "counter = 0\n",
    "for ids in subject_ids_unique:\n",
    "    if(counter % 200 == 0):\n",
    "        print(counter)\n",
    "    counter += 1\n",
    "    lines = np.where(classification[ccs_workflow][\"subject_ids\"] == ids)[0]\n",
    "    data.append([ids, lines])"
   ]
  },
  {
   "cell_type": "raw",
   "metadata": {},
   "source": [
    "data_np = np.asarray(data)"
   ]
  },
  {
   "cell_type": "raw",
   "metadata": {},
   "source": [
    "np.save(r'C:\\Users\\20xha\\Documents\\Caltech\\Research\\ZooniverseClassifications\\zwicky-chemical-factory-classifications_all', data_np)"
   ]
  },
  {
   "cell_type": "code",
   "execution_count": 9,
   "metadata": {},
   "outputs": [],
   "source": [
    "data_np = np.load(r'C:\\Users\\20xha\\Documents\\Caltech\\Research\\ZooniverseClassifications\\zwicky-chemical-factory-classifications_all.npy', allow_pickle = True)"
   ]
  },
  {
   "cell_type": "code",
   "execution_count": 10,
   "metadata": {},
   "outputs": [
    {
     "data": {
      "text/plain": [
       "1"
      ]
     },
     "execution_count": 10,
     "metadata": {},
     "output_type": "execute_result"
    }
   ],
   "source": [
    "len(data_np[:,1][0])"
   ]
  },
  {
   "cell_type": "code",
   "execution_count": 11,
   "metadata": {},
   "outputs": [],
   "source": [
    "data_array = []\n",
    "for i in data_np:\n",
    "    if(len(i[1]) > 10):\n",
    "        data_array.append([i[0], right_workflow[i[1]]])"
   ]
  },
  {
   "cell_type": "code",
   "execution_count": 12,
   "metadata": {},
   "outputs": [],
   "source": [
    "size = []\n",
    "for i in data_np[:,1]:\n",
    "    size.append(len(i))"
   ]
  },
  {
   "cell_type": "code",
   "execution_count": 13,
   "metadata": {},
   "outputs": [],
   "source": [
    "exec(\"dict =\" + data_array[0][1][\"annotations\"][0])"
   ]
  },
  {
   "cell_type": "code",
   "execution_count": 14,
   "metadata": {},
   "outputs": [
    {
     "data": {
      "text/plain": [
       "{'task': 'T0',\n",
       " 'task_label': 'Which spectrum is the best match?',\n",
       " 'value': 'No good match'}"
      ]
     },
     "execution_count": 14,
     "metadata": {},
     "output_type": "execute_result"
    }
   ],
   "source": [
    "json.loads(data_array[0][1][\"annotations\"][0])[0]"
   ]
  },
  {
   "cell_type": "code",
   "execution_count": 15,
   "metadata": {},
   "outputs": [
    {
     "data": {
      "text/plain": [
       "'No good match'"
      ]
     },
     "execution_count": 15,
     "metadata": {},
     "output_type": "execute_result"
    }
   ],
   "source": [
    "dict[0][\"value\"].split(\"#\")[-1]"
   ]
  },
  {
   "cell_type": "code",
   "execution_count": 16,
   "metadata": {},
   "outputs": [
    {
     "data": {
      "text/html": [
       "&lt;Column name=&apos;annotations&apos; dtype=&apos;str532&apos; length=11&gt;\n",
       "<table>\n",
       "<tr><td>[{&quot;task&quot;:&quot;T0&quot;,&quot;task_label&quot;:&quot;Which spectrum is the best match?&quot;,&quot;value&quot;:&quot;No good match&quot;}]</td></tr>\n",
       "<tr><td>[{&quot;task&quot;:&quot;T0&quot;,&quot;task_label&quot;:&quot;Which spectrum is the best match?&quot;,&quot;value&quot;:&quot;#5&quot;}]</td></tr>\n",
       "<tr><td>[{&quot;task&quot;:&quot;T0&quot;,&quot;task_label&quot;:&quot;Which spectrum is the best match?&quot;,&quot;value&quot;:&quot;#5&quot;}]</td></tr>\n",
       "<tr><td>[{&quot;task&quot;:&quot;T0&quot;,&quot;task_label&quot;:&quot;Which spectrum is the best match?&quot;,&quot;value&quot;:&quot;No good match&quot;}]</td></tr>\n",
       "<tr><td>[{&quot;task&quot;:&quot;T0&quot;,&quot;task_label&quot;:&quot;Which spectrum is the best match?&quot;,&quot;value&quot;:null}]</td></tr>\n",
       "<tr><td>[{&quot;task&quot;:&quot;T0&quot;,&quot;task_label&quot;:&quot;Which spectrum is the best match?&quot;,&quot;value&quot;:&quot;#5&quot;}]</td></tr>\n",
       "<tr><td>[{&quot;task&quot;:&quot;T0&quot;,&quot;task_label&quot;:&quot;Which spectrum is the best match?&quot;,&quot;value&quot;:&quot;#4&quot;}]</td></tr>\n",
       "<tr><td>[{&quot;task&quot;:&quot;T0&quot;,&quot;task_label&quot;:&quot;Which spectrum is the best match?&quot;,&quot;value&quot;:&quot;No good match&quot;}]</td></tr>\n",
       "<tr><td>[{&quot;task&quot;:&quot;T0&quot;,&quot;task_label&quot;:&quot;Which spectrum is the best match?&quot;,&quot;value&quot;:&quot;#5&quot;}]</td></tr>\n",
       "<tr><td>[{&quot;task&quot;:&quot;T0&quot;,&quot;task_label&quot;:&quot;Which spectrum is the best match?&quot;,&quot;value&quot;:&quot;No good match&quot;}]</td></tr>\n",
       "<tr><td>[{&quot;task&quot;:&quot;T0&quot;,&quot;task_label&quot;:&quot;Which spectrum is the best match?&quot;,&quot;value&quot;:&quot;No good match&quot;}]</td></tr>\n",
       "</table>"
      ],
      "text/plain": [
       "<Column name='annotations' dtype='str532' length=11>\n",
       "[{\"task\":\"T0\",\"task_label\":\"Which spectrum is the best match?\",\"value\":\"No good match\"}]\n",
       "           [{\"task\":\"T0\",\"task_label\":\"Which spectrum is the best match?\",\"value\":\"#5\"}]\n",
       "           [{\"task\":\"T0\",\"task_label\":\"Which spectrum is the best match?\",\"value\":\"#5\"}]\n",
       "[{\"task\":\"T0\",\"task_label\":\"Which spectrum is the best match?\",\"value\":\"No good match\"}]\n",
       "           [{\"task\":\"T0\",\"task_label\":\"Which spectrum is the best match?\",\"value\":null}]\n",
       "           [{\"task\":\"T0\",\"task_label\":\"Which spectrum is the best match?\",\"value\":\"#5\"}]\n",
       "           [{\"task\":\"T0\",\"task_label\":\"Which spectrum is the best match?\",\"value\":\"#4\"}]\n",
       "[{\"task\":\"T0\",\"task_label\":\"Which spectrum is the best match?\",\"value\":\"No good match\"}]\n",
       "           [{\"task\":\"T0\",\"task_label\":\"Which spectrum is the best match?\",\"value\":\"#5\"}]\n",
       "[{\"task\":\"T0\",\"task_label\":\"Which spectrum is the best match?\",\"value\":\"No good match\"}]\n",
       "[{\"task\":\"T0\",\"task_label\":\"Which spectrum is the best match?\",\"value\":\"No good match\"}]"
      ]
     },
     "execution_count": 16,
     "metadata": {},
     "output_type": "execute_result"
    }
   ],
   "source": [
    "data_array[0][1][\"annotations\"]"
   ]
  },
  {
   "cell_type": "code",
   "execution_count": 17,
   "metadata": {},
   "outputs": [],
   "source": [
    "ResultsTable_Zooniverse = Table(\n",
    "                    names=(\"ZTF_Name\", \"Version\", \"subject_ids\", \"NoMatch\", \"#1\", \"#2\", \"#3\", \"#4\", \"#5\"\n",
    "                    ),\n",
    "                    meta={\"name\": \"Spectrum Results after Zooniverse\"},\n",
    "                    dtype=(\"U64\", \"U64\", \"int32\", \"int32\", \"int32\", \"int32\", \"int32\", \"int32\", \"int32\"\n",
    "                          )\n",
    "                    )\n",
    "for line in data_array:\n",
    "    row = []\n",
    "    data = line[1]\n",
    "    metadata = json.loads(data[0][\"subject_data\"])[str(line[0])]\n",
    "    row.append(metadata[\"!ZTF_Name\"])\n",
    "    row.append(metadata[\"!ZTF_Version\"] + \".ascii\")\n",
    "    row.append(line[0])\n",
    "    responses = [0, 0, 0, 0, 0, 0]\n",
    "    for i in data:\n",
    "        value = json.loads(i[\"annotations\"])[0][\"value\"]\n",
    "        if(value is not None):\n",
    "            index = response_dict[value]\n",
    "            responses[index] = responses[index] + 1\n",
    "    row.extend(responses)\n",
    "    ResultsTable_Zooniverse.add_row(row)"
   ]
  },
  {
   "cell_type": "code",
   "execution_count": 18,
   "metadata": {},
   "outputs": [],
   "source": [
    "metadata = json.loads(data[0][\"subject_data\"])[str(line[0])]\n",
    "value = json.loads(i[\"annotations\"])[0][\"value\"]"
   ]
  },
  {
   "cell_type": "code",
   "execution_count": 19,
   "metadata": {},
   "outputs": [
    {
     "data": {
      "text/plain": [
       "17874"
      ]
     },
     "execution_count": 19,
     "metadata": {},
     "output_type": "execute_result"
    }
   ],
   "source": [
    "np.sum(ResultsTable_Zooniverse[\"NoMatch\"])"
   ]
  },
  {
   "cell_type": "code",
   "execution_count": 20,
   "metadata": {},
   "outputs": [
    {
     "data": {
      "text/plain": [
       "20759"
      ]
     },
     "execution_count": 20,
     "metadata": {},
     "output_type": "execute_result"
    }
   ],
   "source": [
    "np.sum(ResultsTable_Zooniverse[\"#1\"])"
   ]
  },
  {
   "cell_type": "code",
   "execution_count": 21,
   "metadata": {},
   "outputs": [
    {
     "data": {
      "text/plain": [
       "14892"
      ]
     },
     "execution_count": 21,
     "metadata": {},
     "output_type": "execute_result"
    }
   ],
   "source": [
    "np.sum(ResultsTable_Zooniverse[\"#2\"])"
   ]
  },
  {
   "cell_type": "code",
   "execution_count": 22,
   "metadata": {},
   "outputs": [
    {
     "data": {
      "text/plain": [
       "13749"
      ]
     },
     "execution_count": 22,
     "metadata": {},
     "output_type": "execute_result"
    }
   ],
   "source": [
    "np.sum(ResultsTable_Zooniverse[\"#3\"])"
   ]
  },
  {
   "cell_type": "code",
   "execution_count": 23,
   "metadata": {},
   "outputs": [
    {
     "data": {
      "text/plain": [
       "13530"
      ]
     },
     "execution_count": 23,
     "metadata": {},
     "output_type": "execute_result"
    }
   ],
   "source": [
    "np.sum(ResultsTable_Zooniverse[\"#4\"])"
   ]
  },
  {
   "cell_type": "code",
   "execution_count": 24,
   "metadata": {},
   "outputs": [
    {
     "data": {
      "text/plain": [
       "13431"
      ]
     },
     "execution_count": 24,
     "metadata": {},
     "output_type": "execute_result"
    }
   ],
   "source": [
    "np.sum(ResultsTable_Zooniverse[\"#5\"])"
   ]
  },
  {
   "cell_type": "code",
   "execution_count": null,
   "metadata": {},
   "outputs": [],
   "source": []
  },
  {
   "cell_type": "code",
   "execution_count": 25,
   "metadata": {},
   "outputs": [],
   "source": [
    "ResultsTable_Zooniverse.to_pandas().to_csv(\"FirstAnalysis.csv\")"
   ]
  },
  {
   "cell_type": "code",
   "execution_count": 26,
   "metadata": {},
   "outputs": [],
   "source": [
    "snidoutput = Table.from_pandas(pd.read_csv(\"SNID_2020_output.csv\"))"
   ]
  },
  {
   "cell_type": "code",
   "execution_count": 27,
   "metadata": {},
   "outputs": [],
   "source": [
    "joined_results = astropy.table.join(snidoutput, ResultsTable_Zooniverse)"
   ]
  },
  {
   "cell_type": "code",
   "execution_count": 28,
   "metadata": {},
   "outputs": [],
   "source": [
    "ResultsTable_Zooniverse_Classes = Table(\n",
    "                    names=(\"ZTF_Name\", \"Version\", \"subject_ids\", 'Ia', 'Ia-norm', 'Ia-91T', 'Ia-91bg', 'Ia-csm', 'Ia-02cx', 'Ia-03fg',\n",
    "                           'Ib', 'Ib-norm', 'IIb', 'Ibn', 'Ic', 'Ic-norm', 'Ic-BL', 'Ic-SLSN', 'II', 'II-norm', 'IIn',\n",
    "                           'NotSN', 'AGN', 'Gal', 'LBV', 'M-star', 'QSO', 'C-star', 'TDE', \"NoMatch\", \"rlap\", \"z\"\n",
    "                    ),\n",
    "                    meta={\"name\": \"Vote Types\"},\n",
    "                    dtype=(\"U64\", \"U64\", \"int32\", \"int32\", \"int32\", \"int32\", \"int32\", \"int32\" , \"int32\", \"int32\", \"int32\", \"int32\", \"int32\", \"int32\",\n",
    "                           \"int32\", \"int32\", \"int32\", \"int32\", \"int32\", \"int32\", \"int32\", \"int32\", \"int32\", \"int32\", \"int32\", \"int32\", \"int32\", \"int32\", \"int32\", \"int32\", \"float32\", \"float32\"\n",
    "                          )\n",
    "                    )\n",
    "\n",
    "for i in range(len(joined_results)):\n",
    "    line = joined_results[i]\n",
    "    row = [line[\"ZTF_Name\"], line[\"Version\"], line[\"subject_ids\"]]\n",
    "    row.extend(np.zeros(28))\n",
    "    row.append(line[\"NoMatch\"])\n",
    "    ResultsTable_Zooniverse_Classes.add_row(row)\n",
    "    ResultsTable_Zooniverse_Classes[i][line[\"c_snid_1\"]] += line[\"#1\"]\n",
    "    ResultsTable_Zooniverse_Classes[i][line[\"c_snid_2\"]] += line[\"#2\"]\n",
    "    ResultsTable_Zooniverse_Classes[i][line[\"c_snid_3\"]] += line[\"#3\"]\n",
    "    ResultsTable_Zooniverse_Classes[i][line[\"c_snid_4\"]] += line[\"#4\"]\n",
    "    ResultsTable_Zooniverse_Classes[i][line[\"c_snid_5\"]] += line[\"#5\"]\n",
    "    top_line = [line[\"c_snid_1\"], line[\"c_snid_2\"], line[\"c_snid_3\"],line[\"c_snid_4\"], line[\"c_snid_5\"]]\n",
    "    classes = np.unique(top_line)\n",
    "    votes = ResultsTable_Zooniverse_Classes[i][classes.tolist()]\n",
    "    vote_data = []\n",
    "    for j in votes:\n",
    "        vote_data.append(j)\n",
    "    best = np.where(np.asarray(top_line) == classes[np.argmax(vote_data)])[0][0]\n",
    "    ResultsTable_Zooniverse_Classes[i][\"rlap\"] = line[\"rlap_{}\".format(best + 1)]\n",
    "    ResultsTable_Zooniverse_Classes[i][\"z\"] = line[\"z_snid_{}\".format(best + 1)]"
   ]
  },
  {
   "cell_type": "code",
   "execution_count": 29,
   "metadata": {},
   "outputs": [
    {
     "data": {
      "text/plain": [
       "8763"
      ]
     },
     "execution_count": 29,
     "metadata": {},
     "output_type": "execute_result"
    }
   ],
   "source": [
    "len(joined_results)"
   ]
  },
  {
   "cell_type": "code",
   "execution_count": 30,
   "metadata": {},
   "outputs": [
    {
     "data": {
      "text/html": [
       "<i>Table length=8763</i>\n",
       "<table id=\"table3181037263936\" class=\"table-striped table-bordered table-condensed\">\n",
       "<thead><tr><th>Version</th><th>ZTF_Name</th><th>z_sntemplate</th><th>z_rlap</th><th>z_snid</th><th>z_snid_err</th><th>z_level</th><th>rank_1</th><th>sntemplate_1</th><th>rlap_1</th><th>c_snid_1</th><th>z_snid_1</th><th>z_snid_err_1</th><th>age_1</th><th>age_flag_1</th><th>rank_2</th><th>sntemplate_2</th><th>rlap_2</th><th>c_snid_2</th><th>z_snid_2</th><th>z_snid_err_2</th><th>age_2</th><th>age_flag_2</th><th>rank_3</th><th>sntemplate_3</th><th>rlap_3</th><th>c_snid_3</th><th>z_snid_3</th><th>z_snid_err_3</th><th>age_3</th><th>age_flag_3</th><th>rank_4</th><th>sntemplate_4</th><th>rlap_4</th><th>c_snid_4</th><th>z_snid_4</th><th>z_snid_err_4</th><th>age_4</th><th>age_flag_4</th><th>rank_5</th><th>sntemplate_5</th><th>rlap_5</th><th>c_snid_5</th><th>z_snid_5</th><th>z_snid_err_5</th><th>age_5</th><th>age_flag_5</th><th>subject_ids</th><th>NoMatch</th><th>#1</th><th>#2</th><th>#3</th><th>#4</th><th>#5</th></tr></thead>\n",
       "<thead><tr><th>str64</th><th>str64</th><th>str12</th><th>float64</th><th>float64</th><th>float64</th><th>int64</th><th>int64</th><th>str12</th><th>float64</th><th>str7</th><th>float64</th><th>float64</th><th>float64</th><th>int64</th><th>int64</th><th>str12</th><th>float64</th><th>str7</th><th>float64</th><th>float64</th><th>float64</th><th>int64</th><th>int64</th><th>str12</th><th>float64</th><th>str7</th><th>float64</th><th>float64</th><th>float64</th><th>int64</th><th>int64</th><th>str12</th><th>float64</th><th>str7</th><th>float64</th><th>float64</th><th>float64</th><th>int64</th><th>int64</th><th>str12</th><th>float64</th><th>str7</th><th>float64</th><th>float64</th><th>float64</th><th>int64</th><th>int32</th><th>int32</th><th>int32</th><th>int32</th><th>int32</th><th>int32</th><th>int32</th></tr></thead>\n",
       "<tr><td>AT2018hrg_20181103_P60_v1.ascii</td><td>AT2018hrg</td><td>sn2006bp</td><td>5.84</td><td>0.0068</td><td>0.0091</td><td>1</td><td>1</td><td>sn2006bp</td><td>5.84</td><td>II-norm</td><td>0.0068</td><td>0.0091</td><td>4.2</td><td>0</td><td>3</td><td>sn1987A</td><td>5.76</td><td>II-norm</td><td>0.0085</td><td>0.0094</td><td>-78.5</td><td>0</td><td>6</td><td>sn06bp</td><td>5.71</td><td>II-norm</td><td>0.0064</td><td>0.0092</td><td>7.2</td><td>0</td><td>18</td><td>sn1996cb</td><td>5.34</td><td>IIb</td><td>0.0158</td><td>0.0101</td><td>-18.0</td><td>0</td><td>35</td><td>lbv01ac</td><td>5.06</td><td>LBV</td><td>-0.0005</td><td>0.0045</td><td>-99.9</td><td>2</td><td>53623564</td><td>5</td><td>0</td><td>0</td><td>0</td><td>1</td><td>4</td></tr>\n",
       "<tr><td>SN2017iuk_20181204_Keck1_v1.ascii</td><td>SN2017iuk</td><td>kcSB5</td><td>5.66</td><td>0.0378</td><td>0.0028</td><td>1</td><td>1</td><td>kcSB5</td><td>5.66</td><td>Gal</td><td>0.0378</td><td>0.0028</td><td>-99.9</td><td>2</td><td>2</td><td>kcSB1</td><td>5.43</td><td>Gal</td><td>0.037000000000000005</td><td>0.0028</td><td>-99.9</td><td>2</td><td>3</td><td>kcSB2</td><td>5.11</td><td>Gal</td><td>0.0369</td><td>0.003</td><td>-99.9</td><td>2</td><td>7</td><td>sn98bw</td><td>4.35</td><td>Ic-BL</td><td>0.0094</td><td>0.0179</td><td>15.7</td><td>0</td><td>11</td><td>sn2005la</td><td>3.83</td><td>Ibn</td><td>0.0197</td><td>0.0033</td><td>14.0</td><td>0</td><td>53623565</td><td>2</td><td>1</td><td>1</td><td>6</td><td>0</td><td>0</td></tr>\n",
       "<tr><td>ZTF17aaajnki_20180320_P60_v1.ascii</td><td>ZTF17aaajnki</td><td>kcSB2</td><td>17.99</td><td>-0.0</td><td>0.0015</td><td>1</td><td>1</td><td>kcSB2</td><td>17.99</td><td>Gal</td><td>-0.0</td><td>0.0015</td><td>-99.9</td><td>2</td><td>2</td><td>kcSB1</td><td>17.3</td><td>Gal</td><td>0.0001</td><td>0.0016</td><td>-99.9</td><td>2</td><td>3</td><td>PS1-10bzj</td><td>10.61</td><td>Ic-SLSN</td><td>0.0003</td><td>0.0026</td><td>6.55</td><td>0</td><td>5</td><td>kcSB4</td><td>5.8</td><td>Gal</td><td>-0.0002</td><td>0.0041</td><td>-99.9</td><td>2</td><td>8</td><td>sn07it</td><td>5.28</td><td>II-norm</td><td>0.0007</td><td>0.0051</td><td>191.0</td><td>0</td><td>53623566</td><td>1</td><td>7</td><td>2</td><td>0</td><td>0</td><td>0</td></tr>\n",
       "<tr><td>ZTF17aaajnki_20180320_P60_v2.ascii</td><td>ZTF17aaajnki</td><td>kcSB2</td><td>18.27</td><td>-0.0004</td><td>0.0015</td><td>1</td><td>1</td><td>kcSB2</td><td>18.27</td><td>Gal</td><td>-0.0004</td><td>0.0015</td><td>-99.9</td><td>2</td><td>2</td><td>kcSB1</td><td>17.68</td><td>Gal</td><td>-0.0003</td><td>0.0015</td><td>-99.9</td><td>2</td><td>3</td><td>PS1-10bzj</td><td>11.43</td><td>Ic-SLSN</td><td>-0.0001</td><td>0.0024</td><td>6.55</td><td>0</td><td>5</td><td>kcSB4</td><td>5.82</td><td>Gal</td><td>-0.0006</td><td>0.004</td><td>-99.9</td><td>2</td><td>8</td><td>sn07it</td><td>5.14</td><td>II-norm</td><td>0.0003</td><td>0.0051</td><td>191.0</td><td>0</td><td>53623567</td><td>1</td><td>10</td><td>2</td><td>0</td><td>0</td><td>0</td></tr>\n",
       "<tr><td>ZTF17aaaobyl_20180826_P60_v2.ascii</td><td>ZTF17aaaobyl</td><td>agn</td><td>7.95</td><td>0.0017</td><td>0.003</td><td>1</td><td>1</td><td>agn</td><td>7.95</td><td>AGN</td><td>0.0017</td><td>0.003</td><td>-99.9</td><td>2</td><td>2</td><td>kcSB5</td><td>7.77</td><td>Gal</td><td>0.0021</td><td>0.0025</td><td>-99.9</td><td>2</td><td>3</td><td>kcSB4</td><td>7.62</td><td>Gal</td><td>0.0017</td><td>0.0025</td><td>-99.9</td><td>2</td><td>4</td><td>kcSc</td><td>7.52</td><td>Gal</td><td>0.0022</td><td>0.0025</td><td>-99.9</td><td>2</td><td>5</td><td>sn98S</td><td>7.15</td><td>IIn</td><td>0.004</td><td>0.0057</td><td>422.5</td><td>0</td><td>53623568</td><td>2</td><td>1</td><td>2</td><td>3</td><td>1</td><td>0</td></tr>\n",
       "<tr><td>ZTF17aaapufz_20190304_P200_v1.ascii</td><td>ZTF17aaapufz</td><td>kcSc</td><td>28.52</td><td>0.0025</td><td>0.0006</td><td>1</td><td>1</td><td>kcSc</td><td>28.52</td><td>Gal</td><td>0.0025</td><td>0.0006</td><td>-99.9</td><td>2</td><td>2</td><td>kcSB4</td><td>26.83</td><td>Gal</td><td>0.0022</td><td>0.0007</td><td>-99.9</td><td>2</td><td>3</td><td>kcSB5</td><td>22.66</td><td>Gal</td><td>0.0025</td><td>0.0008</td><td>-99.9</td><td>2</td><td>8</td><td>agn</td><td>14.22</td><td>AGN</td><td>0.0023</td><td>0.0014</td><td>-99.9</td><td>2</td><td>9</td><td>qso</td><td>12.11</td><td>QSO</td><td>0.0025</td><td>0.0016</td><td>-100.0</td><td>2</td><td>53623569</td><td>1</td><td>9</td><td>0</td><td>1</td><td>0</td><td>0</td></tr>\n",
       "<tr><td>ZTF17aaaukqn_20180904_P60_v1.ascii</td><td>ZTF17aaaukqn</td><td>sn97ef</td><td>6.95</td><td>0.3262</td><td>0.0146</td><td>0</td><td>1</td><td>sn97ef</td><td>6.95</td><td>Ic-BL</td><td>0.3262</td><td>0.0146</td><td>-14.0</td><td>0</td><td>7</td><td>sn2003W</td><td>4.54</td><td>Ia-norm</td><td>0.4743</td><td>0.0108</td><td>28.0</td><td>0</td><td>10</td><td>sn2005cf</td><td>4.3</td><td>Ia-norm</td><td>0.4432</td><td>0.0134</td><td>-6.6</td><td>0</td><td>16</td><td>sn1999gp</td><td>4.12</td><td>Ia-91T</td><td>0.4702</td><td>0.0123</td><td>35.1</td><td>0</td><td>17</td><td>sn03du</td><td>4.11</td><td>Ia-norm</td><td>0.4409</td><td>0.0122</td><td>-5.0</td><td>0</td><td>53623570</td><td>4</td><td>7</td><td>0</td><td>0</td><td>0</td><td>0</td></tr>\n",
       "<tr><td>ZTF17aaawgkc_20180822_P60_v1.ascii</td><td>ZTF17aaawgkc</td><td>sn1995F</td><td>5.91</td><td>0.2735</td><td>0.0108</td><td>0</td><td>1</td><td>sn1995F</td><td>5.91</td><td>Ic-norm</td><td>0.2735</td><td>0.0108</td><td>88.8</td><td>1</td><td>3</td><td>sn93J</td><td>5.88</td><td>IIb</td><td>0.2642</td><td>0.0078</td><td>102.0</td><td>0</td><td>7</td><td>sn2008aq</td><td>5.64</td><td>IIb</td><td>0.2654</td><td>0.0075</td><td>101.0</td><td>1</td><td>12</td><td>sn2005az</td><td>5.42</td><td>Ic-norm</td><td>0.27</td><td>0.0098</td><td>87.3</td><td>0</td><td>16</td><td>sn2008D</td><td>5.24</td><td>Ib-norm</td><td>0.2808</td><td>0.0133</td><td>63.9</td><td>0</td><td>53623571</td><td>10</td><td>0</td><td>0</td><td>0</td><td>0</td><td>1</td></tr>\n",
       "<tr><td>ZTF17aaayjzy_20191214_P60_v1.ascii</td><td>ZTF17aaayjzy</td><td>kcSB4</td><td>20.67</td><td>0.0479</td><td>0.0012</td><td>1</td><td>1</td><td>kcSB4</td><td>20.67</td><td>Gal</td><td>0.0479</td><td>0.0012</td><td>-99.9</td><td>2</td><td>2</td><td>kcSB5</td><td>19.9</td><td>Gal</td><td>0.0482</td><td>0.0012</td><td>-99.9</td><td>2</td><td>3</td><td>kcSc</td><td>18.67</td><td>Gal</td><td>0.0482</td><td>0.0013</td><td>-99.9</td><td>2</td><td>6</td><td>agn</td><td>13.59</td><td>AGN</td><td>0.0479</td><td>0.0021</td><td>-99.9</td><td>2</td><td>9</td><td>qso</td><td>10.66</td><td>QSO</td><td>0.048</td><td>0.0024</td><td>-100.0</td><td>2</td><td>53623572</td><td>1</td><td>4</td><td>2</td><td>1</td><td>1</td><td>0</td></tr>\n",
       "<tr><td>ZTF17aaazdba_20190224_P60_v1.ascii</td><td>ZTF17aaazdba</td><td>sn2005hk</td><td>6.13</td><td>0.0401</td><td>0.0109</td><td>1</td><td>1</td><td>sn2005hk</td><td>6.13</td><td>Ia-02cx</td><td>0.0401</td><td>0.0109</td><td>23.2</td><td>0</td><td>5</td><td>sn2007al</td><td>5.79</td><td>Ia-91bg</td><td>0.0543</td><td>0.0119</td><td>11.3</td><td>0</td><td>6</td><td>sn2008A</td><td>5.47</td><td>Ia-02cx</td><td>0.0463</td><td>0.0115</td><td>23.6</td><td>0</td><td>7</td><td>sn02ap</td><td>5.47</td><td>Ic-BL</td><td>0.2794</td><td>0.0169</td><td>25.5</td><td>0</td><td>8</td><td>sn02cx</td><td>5.44</td><td>Ia-02cx</td><td>0.0419</td><td>0.0116</td><td>24.1</td><td>0</td><td>53623573</td><td>9</td><td>1</td><td>0</td><td>1</td><td>0</td><td>0</td></tr>\n",
       "<tr><td>...</td><td>...</td><td>...</td><td>...</td><td>...</td><td>...</td><td>...</td><td>...</td><td>...</td><td>...</td><td>...</td><td>...</td><td>...</td><td>...</td><td>...</td><td>...</td><td>...</td><td>...</td><td>...</td><td>...</td><td>...</td><td>...</td><td>...</td><td>...</td><td>...</td><td>...</td><td>...</td><td>...</td><td>...</td><td>...</td><td>...</td><td>...</td><td>...</td><td>...</td><td>...</td><td>...</td><td>...</td><td>...</td><td>...</td><td>...</td><td>...</td><td>...</td><td>...</td><td>...</td><td>...</td><td>...</td><td>...</td><td>...</td><td>...</td><td>...</td><td>...</td><td>...</td><td>...</td><td>...</td></tr>\n",
       "<tr><td>ZTF20abpmqnr_20200731_P60_v1.ascii</td><td>ZTF20abpmqnr</td><td>kcSb</td><td>5.39</td><td>0.0461</td><td>0.0192</td><td>1</td><td>1</td><td>lbv01ac</td><td>5.92</td><td>LBV</td><td>0.0242</td><td>0.0049</td><td>-99.9</td><td>2</td><td>2</td><td>lbv2001ac</td><td>5.92</td><td>LBV</td><td>0.0242</td><td>0.0049</td><td>-99.9</td><td>2</td><td>3</td><td>kcSb</td><td>5.39</td><td>Gal</td><td>0.0461</td><td>0.0192</td><td>-99.9</td><td>2</td><td>4</td><td>kcE</td><td>5.15</td><td>Gal</td><td>0.0488</td><td>0.0098</td><td>-99.9</td><td>2</td><td>6</td><td>sn2010bh</td><td>4.71</td><td>Ic-BL</td><td>1.1716</td><td>0.0193</td><td>2.2</td><td>0</td><td>53642500</td><td>12</td><td>11</td><td>9</td><td>2</td><td>2</td><td>1</td></tr>\n",
       "<tr><td>ZTF20abpmqnr_20200731_P60_v2.ascii</td><td>ZTF20abpmqnr</td><td>sn91N</td><td>4.48</td><td>0.0623</td><td>0.0092</td><td>1</td><td>1</td><td>lbv01ac</td><td>7.97</td><td>LBV</td><td>0.0236</td><td>0.0036</td><td>-99.9</td><td>2</td><td>2</td><td>lbv2001ac</td><td>7.97</td><td>LBV</td><td>0.0236</td><td>0.0036</td><td>-99.9</td><td>2</td><td>3</td><td>sn92H</td><td>6.25</td><td>II-norm</td><td>0.0246</td><td>0.0061</td><td>135.8</td><td>0</td><td>11</td><td>sn06bc</td><td>4.95</td><td>II-norm</td><td>0.0221</td><td>0.0053</td><td>9.0</td><td>0</td><td>12</td><td>sn2005hj</td><td>4.94</td><td>Ia-91T</td><td>0.0349</td><td>0.0138</td><td>32.5</td><td>0</td><td>53642501</td><td>0</td><td>3</td><td>0</td><td>0</td><td>3</td><td>4</td></tr>\n",
       "<tr><td>ZTF20abpmqnr_20200804_LT_v1.ascii</td><td>ZTF20abpmqnr</td><td>qso</td><td>12.09</td><td>0.0206</td><td>0.0019</td><td>1</td><td>1</td><td>qso</td><td>12.09</td><td>QSO</td><td>0.0206</td><td>0.0019</td><td>-100.0</td><td>2</td><td>2</td><td>agn</td><td>10.04</td><td>AGN</td><td>0.0204</td><td>0.0024</td><td>-99.9</td><td>2</td><td>3</td><td>sn06bc</td><td>9.95</td><td>II-norm</td><td>0.0199</td><td>0.002</td><td>9.0</td><td>0</td><td>4</td><td>kcSc</td><td>9.3</td><td>Gal</td><td>0.0203</td><td>0.002</td><td>-99.9</td><td>2</td><td>5</td><td>kcSB3</td><td>9.01</td><td>Gal</td><td>0.021</td><td>0.0021</td><td>-99.9</td><td>2</td><td>53642502</td><td>0</td><td>9</td><td>1</td><td>0</td><td>0</td><td>0</td></tr>\n",
       "<tr><td>ZTF20abpqhjh_20200731_P60_v1.ascii</td><td>ZTF20abpqhjh</td><td>sn2002er</td><td>5.24</td><td>0.1041</td><td>0.0128</td><td>1</td><td>1</td><td>sn2002er</td><td>5.24</td><td>Ia-norm</td><td>0.1041</td><td>0.0128</td><td>-9.0</td><td>0</td><td>3</td><td>sn2007jg</td><td>4.5</td><td>Ia-norm</td><td>0.1084</td><td>0.0149</td><td>-2.3</td><td>0</td><td>4</td><td>sn91T</td><td>4.35</td><td>Ia-91T</td><td>0.2036</td><td>0.0079</td><td>-9.48</td><td>0</td><td>5</td><td>sn07bd</td><td>4.26</td><td>Ia-norm</td><td>0.1028</td><td>0.0156</td><td>-5.58</td><td>0</td><td>6</td><td>sn06lf</td><td>4.24</td><td>Ia-norm</td><td>0.0972</td><td>0.0141</td><td>-6.3</td><td>0</td><td>53642503</td><td>0</td><td>2</td><td>0</td><td>2</td><td>5</td><td>1</td></tr>\n",
       "<tr><td>ZTF20abpqhjh_20200804_P60_v1.ascii</td><td>ZTF20abpqhjh</td><td>sn1998bw</td><td>4.88</td><td>0.5789</td><td>0.0177</td><td>0</td><td>1</td><td>sn1998bw</td><td>4.88</td><td>Ic-BL</td><td>0.5789</td><td>0.0177</td><td>15.7</td><td>0</td><td>3</td><td>sn2006jc</td><td>4.62</td><td>Ibn</td><td>0.5925</td><td>0.0112</td><td>5.5</td><td>0</td><td>4</td><td>sn97br</td><td>4.62</td><td>Ia-91T</td><td>0.7957</td><td>0.0113</td><td>-8.0</td><td>0</td><td>6</td><td>sn1997ef</td><td>4.56</td><td>Ic-BL</td><td>0.782</td><td>0.0144</td><td>13.8</td><td>0</td><td>12</td><td>sn1999dq</td><td>4.33</td><td>Ia-91T</td><td>0.7951</td><td>0.013999999999999999</td><td>-3.5</td><td>0</td><td>53642504</td><td>4</td><td>2</td><td>3</td><td>1</td><td>0</td><td>1</td></tr>\n",
       "<tr><td>ZTF20abpscln_20200802_P60_v1.ascii</td><td>ZTF20abpscln</td><td>sn2006ot</td><td>6.57</td><td>0.0687</td><td>0.0083</td><td>1</td><td>1</td><td>sn2006ot</td><td>6.57</td><td>Ia-norm</td><td>0.0687</td><td>0.0083</td><td>2.5</td><td>0</td><td>2</td><td>sn1999ac</td><td>5.83</td><td>Ia-91T</td><td>0.0598</td><td>0.0098</td><td>0.4</td><td>0</td><td>3</td><td>sn96C</td><td>5.83</td><td>Ia-norm</td><td>0.0559</td><td>0.0085</td><td>8.3</td><td>0</td><td>4</td><td>sn2006ax</td><td>5.78</td><td>Ia-norm</td><td>0.0644</td><td>0.0107</td><td>-9.3</td><td>0</td><td>49</td><td>sn2006gz</td><td>5.08</td><td>Ia-03fg</td><td>0.0597</td><td>0.0078</td><td>7.3</td><td>0</td><td>53642505</td><td>3</td><td>4</td><td>1</td><td>0</td><td>3</td><td>1</td></tr>\n",
       "<tr><td>ZTF20abptxls_20200802_P60_v1.ascii</td><td>ZTF20abptxls</td><td>sn2002er</td><td>6.42</td><td>0.0556</td><td>0.0092</td><td>1</td><td>1</td><td>sn2002er</td><td>6.42</td><td>Ia-norm</td><td>0.0556</td><td>0.0092</td><td>32.6</td><td>0</td><td>3</td><td>sn02bo</td><td>5.8</td><td>Ia-norm</td><td>0.0524</td><td>0.0096</td><td>27.59</td><td>0</td><td>4</td><td>sn04ef</td><td>5.78</td><td>Ia-norm</td><td>0.0507</td><td>0.0096</td><td>31.23</td><td>0</td><td>16</td><td>sn99aw</td><td>5.35</td><td>Ia-91T</td><td>0.0529</td><td>0.01</td><td>35.9</td><td>0</td><td>24</td><td>sn2011dh</td><td>5.16</td><td>IIb</td><td>0.042</td><td>0.0097</td><td>-3.6</td><td>0</td><td>53642506</td><td>6</td><td>2</td><td>1</td><td>0</td><td>0</td><td>1</td></tr>\n",
       "<tr><td>ZTF20abptxls_20200802_P60_v2.ascii</td><td>ZTF20abptxls</td><td>sn97br</td><td>5.54</td><td>0.0487</td><td>0.009000000000000001</td><td>1</td><td>1</td><td>sn97br</td><td>5.54</td><td>Ia-91T</td><td>0.0487</td><td>0.009000000000000001</td><td>66.4</td><td>0</td><td>3</td><td>sn02bo</td><td>5.38</td><td>Ia-norm</td><td>0.0481</td><td>0.0096</td><td>44.48</td><td>0</td><td>4</td><td>sn99dk</td><td>5.24</td><td>Ia-norm</td><td>0.0482</td><td>0.01</td><td>44.2</td><td>0</td><td>5</td><td>sn95al</td><td>5.23</td><td>Ia-norm</td><td>0.0511</td><td>0.011000000000000001</td><td>25.3</td><td>0</td><td>39</td><td>iPTF13ajg</td><td>4.38</td><td>Ic-SLSN</td><td>0.0283</td><td>0.0096</td><td>-8.39</td><td>0</td><td>53642507</td><td>2</td><td>0</td><td>0</td><td>1</td><td>1</td><td>8</td></tr>\n",
       "<tr><td>ZTF20abptxls_20200804_P60_v1.ascii</td><td>ZTF20abptxls</td><td>sn94D</td><td>5.83</td><td>0.9937</td><td>0.0113</td><td>0</td><td>1</td><td>sn94D</td><td>5.83</td><td>Ia-norm</td><td>0.9937</td><td>0.0113</td><td>-10.7</td><td>0</td><td>3</td><td>sn2003U</td><td>4.79</td><td>Ia-norm</td><td>0.972</td><td>0.0151</td><td>-8.5</td><td>0</td><td>4</td><td>sn1990O</td><td>4.53</td><td>Ia-norm</td><td>0.983</td><td>0.015</td><td>-7.6</td><td>0</td><td>6</td><td>sn2003dh</td><td>4.22</td><td>Ic-BL</td><td>0.9154</td><td>0.013000000000000001</td><td>-9.8</td><td>0</td><td>9</td><td>sn2006jc</td><td>3.82</td><td>Ibn</td><td>0.9634</td><td>0.0127</td><td>43.0</td><td>0</td><td>53642508</td><td>2</td><td>0</td><td>0</td><td>0</td><td>4</td><td>3</td></tr>\n",
       "<tr><td>ZTF20abpvhqv_20200801_P60_v1.ascii</td><td>ZTF20abpvhqv</td><td>sn88a</td><td>4.06</td><td>0.2748</td><td>0.0028</td><td>0</td><td>1</td><td>sn88a</td><td>4.06</td><td>II-norm</td><td>0.2748</td><td>0.0028</td><td>17.0</td><td>0</td><td>2</td><td>sn91T</td><td>3.6</td><td>Ia-91T</td><td>0.7146</td><td>0.0144</td><td>-9.48</td><td>0</td><td>3</td><td>sn1999gp</td><td>3.56</td><td>Ia-91T</td><td>0.9549</td><td>0.0165</td><td>0.0</td><td>0</td><td>4</td><td>sn04aw</td><td>3.49</td><td>Ic-norm</td><td>0.9711</td><td>0.0172</td><td>-5.2</td><td>0</td><td>5</td><td>sn2009mg</td><td>3.49</td><td>IIb</td><td>0.3455</td><td>0.0131</td><td>11.9</td><td>0</td><td>53642509</td><td>1</td><td>7</td><td>0</td><td>0</td><td>0</td><td>2</td></tr>\n",
       "</table>"
      ],
      "text/plain": [
       "<Table length=8763>\n",
       "              Version                 ZTF_Name   z_sntemplate ...   #4    #5 \n",
       "               str64                   str64        str12     ... int32 int32\n",
       "----------------------------------- ------------ ------------ ... ----- -----\n",
       "    AT2018hrg_20181103_P60_v1.ascii    AT2018hrg     sn2006bp ...     1     4\n",
       "  SN2017iuk_20181204_Keck1_v1.ascii    SN2017iuk        kcSB5 ...     0     0\n",
       " ZTF17aaajnki_20180320_P60_v1.ascii ZTF17aaajnki        kcSB2 ...     0     0\n",
       " ZTF17aaajnki_20180320_P60_v2.ascii ZTF17aaajnki        kcSB2 ...     0     0\n",
       " ZTF17aaaobyl_20180826_P60_v2.ascii ZTF17aaaobyl          agn ...     1     0\n",
       "ZTF17aaapufz_20190304_P200_v1.ascii ZTF17aaapufz         kcSc ...     0     0\n",
       " ZTF17aaaukqn_20180904_P60_v1.ascii ZTF17aaaukqn       sn97ef ...     0     0\n",
       " ZTF17aaawgkc_20180822_P60_v1.ascii ZTF17aaawgkc      sn1995F ...     0     1\n",
       " ZTF17aaayjzy_20191214_P60_v1.ascii ZTF17aaayjzy        kcSB4 ...     1     0\n",
       " ZTF17aaazdba_20190224_P60_v1.ascii ZTF17aaazdba     sn2005hk ...     0     0\n",
       "                                ...          ...          ... ...   ...   ...\n",
       " ZTF20abpmqnr_20200731_P60_v1.ascii ZTF20abpmqnr         kcSb ...     2     1\n",
       " ZTF20abpmqnr_20200731_P60_v2.ascii ZTF20abpmqnr        sn91N ...     3     4\n",
       "  ZTF20abpmqnr_20200804_LT_v1.ascii ZTF20abpmqnr          qso ...     0     0\n",
       " ZTF20abpqhjh_20200731_P60_v1.ascii ZTF20abpqhjh     sn2002er ...     5     1\n",
       " ZTF20abpqhjh_20200804_P60_v1.ascii ZTF20abpqhjh     sn1998bw ...     0     1\n",
       " ZTF20abpscln_20200802_P60_v1.ascii ZTF20abpscln     sn2006ot ...     3     1\n",
       " ZTF20abptxls_20200802_P60_v1.ascii ZTF20abptxls     sn2002er ...     0     1\n",
       " ZTF20abptxls_20200802_P60_v2.ascii ZTF20abptxls       sn97br ...     1     8\n",
       " ZTF20abptxls_20200804_P60_v1.ascii ZTF20abptxls        sn94D ...     4     3\n",
       " ZTF20abpvhqv_20200801_P60_v1.ascii ZTF20abpvhqv        sn88a ...     0     2"
      ]
     },
     "execution_count": 30,
     "metadata": {},
     "output_type": "execute_result"
    }
   ],
   "source": [
    "joined_results"
   ]
  },
  {
   "cell_type": "code",
   "execution_count": 31,
   "metadata": {},
   "outputs": [],
   "source": [
    "ResultsTable_Zooniverse_Classes.to_pandas().to_csv(\"ClassTotalsAll.csv\")"
   ]
  },
  {
   "cell_type": "code",
   "execution_count": 32,
   "metadata": {},
   "outputs": [],
   "source": [
    "final_rcf_table = Table.from_pandas(pd.read_hdf(r\"C:\\Users\\20xha\\Documents\\Caltech\\Research/final_rcf_table.h5\"))"
   ]
  },
  {
   "cell_type": "code",
   "execution_count": 33,
   "metadata": {},
   "outputs": [],
   "source": [
    "sample = Table.read(\"C:/Users/20xha/Documents/Caltech/Research/superfit/ML_sample.ascii\", format = \"ascii\")\n",
    "sample.rename_column('col1', 'ZTF_Name')\n",
    "sample.rename_column('col2', \"Class\")\n",
    "sample.rename_column('col3', \"redshift\")\n",
    "sample.rename_column('col8', \"Version\")"
   ]
  },
  {
   "cell_type": "code",
   "execution_count": 34,
   "metadata": {},
   "outputs": [],
   "source": [
    "Joined_ZTF = astropy.table.join(ResultsTable_Zooniverse_Classes, sample)"
   ]
  },
  {
   "cell_type": "code",
   "execution_count": 35,
   "metadata": {},
   "outputs": [],
   "source": [
    "types = ['Ia', 'Ia-norm', 'Ia-91T', 'Ia-91bg', 'Ia-csm', 'Ia-02cx', 'Ia-03fg',\n",
    "                           'Ib', 'Ib-norm', 'IIb', 'Ibn', 'Ic', 'Ic-norm', 'Ic-BL', 'Ic-SLSN', 'II', 'II-norm', 'IIn',\n",
    "                           'NotSN', 'AGN', 'Gal', 'LBV', 'M-star', 'QSO', 'C-star', 'TDE', \"NoMatch\"]"
   ]
  },
  {
   "cell_type": "code",
   "execution_count": 36,
   "metadata": {},
   "outputs": [],
   "source": [
    "cutoffs = [6,7,8,9,10,11]\n",
    "rlap_cutoffs = [0, 5, 10, 15, 20]"
   ]
  },
  {
   "cell_type": "code",
   "execution_count": 37,
   "metadata": {},
   "outputs": [
    {
     "data": {
      "text/html": [
       "<i>Table length=1</i>\n",
       "<table id=\"table3181072311680\" class=\"table-striped table-bordered table-condensed\">\n",
       "<thead><tr><th>ZTF_Name</th><th>Version</th><th>subject_ids</th><th>Ia</th><th>Ia-norm</th><th>Ia-91T</th><th>Ia-91bg</th><th>Ia-csm</th><th>Ia-02cx</th><th>Ia-03fg</th><th>Ib</th><th>Ib-norm</th><th>IIb</th><th>Ibn</th><th>Ic</th><th>Ic-norm</th><th>Ic-BL</th><th>Ic-SLSN</th><th>II</th><th>II-norm</th><th>IIn</th><th>NotSN</th><th>AGN</th><th>Gal</th><th>LBV</th><th>M-star</th><th>QSO</th><th>C-star</th><th>TDE</th><th>NoMatch</th><th>rlap</th><th>z</th><th>Class</th><th>redshift</th><th>col4</th><th>col5</th><th>col6</th><th>col7</th><th>col9</th></tr></thead>\n",
       "<thead><tr><th>str64</th><th>str64</th><th>int32</th><th>int32</th><th>int32</th><th>int32</th><th>int32</th><th>int32</th><th>int32</th><th>int32</th><th>int32</th><th>int32</th><th>int32</th><th>int32</th><th>int32</th><th>int32</th><th>int32</th><th>int32</th><th>int32</th><th>int32</th><th>int32</th><th>int32</th><th>int32</th><th>int32</th><th>int32</th><th>int32</th><th>int32</th><th>int32</th><th>int32</th><th>int32</th><th>float32</th><th>float32</th><th>str12</th><th>float64</th><th>float64</th><th>float64</th><th>float64</th><th>float64</th><th>int32</th></tr></thead>\n",
       "<tr><td>ZTF18aaegvyd</td><td>ZTF18aaegvyd_20190625_P60_v1.ascii</td><td>53623655</td><td>0</td><td>1</td><td>0</td><td>0</td><td>0</td><td>0</td><td>0</td><td>0</td><td>1</td><td>0</td><td>0</td><td>0</td><td>3</td><td>0</td><td>0</td><td>0</td><td>3</td><td>0</td><td>0</td><td>0</td><td>0</td><td>0</td><td>0</td><td>0</td><td>0</td><td>0</td><td>0</td><td>5.18</td><td>0.0281</td><td>II</td><td>0.0235</td><td>nan</td><td>2458659.5</td><td>2458638.66</td><td>20.84</td><td>0</td></tr>\n",
       "</table>"
      ],
      "text/plain": [
       "<Table length=1>\n",
       "  ZTF_Name                Version               subject_ids ...   col7   col9\n",
       "   str64                   str64                   int32    ... float64 int32\n",
       "------------ ---------------------------------- ----------- ... ------- -----\n",
       "ZTF18aaegvyd ZTF18aaegvyd_20190625_P60_v1.ascii    53623655 ...   20.84     0"
      ]
     },
     "execution_count": 37,
     "metadata": {},
     "output_type": "execute_result"
    }
   ],
   "source": [
    "Joined_ZTF[np.where(Joined_ZTF[\"Version\"] == \"ZTF18aaegvyd_20190625_P60_v1.ascii\")]"
   ]
  },
  {
   "cell_type": "code",
   "execution_count": 38,
   "metadata": {},
   "outputs": [],
   "source": [
    "Classes_Final = Table(\n",
    "                names=(\"ZTF_Name\", \"Version\", \"Zooniverse_c_broad\", \"agreement_broad\", \"Zooniverse_c\", \"rlap\", \"agreement\"\n",
    "                ),\n",
    "                meta={\"name\": \"Spectrum Results after Zooniverse\"},\n",
    "                dtype=(\"U64\", \"U64\", \"U64\", \"int32\", \"U64\", \"float32\", \"int32\"\n",
    "                      )\n",
    "                )\n",
    "for line in Joined_ZTF:\n",
    "    row = []\n",
    "    row.append(line[\"ZTF_Name\"])\n",
    "    row.append(line[\"Version\"])\n",
    "    best = []\n",
    "    best_num = []\n",
    "    broad_types = [\"Ia\", \"II\", \"Ib\", \"Ic\"]\n",
    "    broad_type_total = [0,0,0,0]\n",
    "    for i in types:\n",
    "        if(line[i] >= 0):\n",
    "            best.append(i)\n",
    "            votes = line[i]\n",
    "            best_num.append(votes)\n",
    "    for i in range(len(best)):\n",
    "        for j in range(len(broad_types)):\n",
    "            if(broad_types[j] in best[i]):\n",
    "                broad_type_total[j] += best_num[i]\n",
    "    if(np.max(broad_type_total) < np.max(best_num)):\n",
    "        row.append(best[np.argmax(best_num)])\n",
    "        row.append(np.max(best_num))\n",
    "    else:\n",
    "        row.append(broad_types[np.argmax(broad_type_total)])\n",
    "        row.append(np.max(broad_type_total))\n",
    "    if(len(best) != 0):\n",
    "        row.append(best[np.argmax(best_num)])\n",
    "        row.append(line[\"rlap\"])\n",
    "        row.append(np.max(best_num))\n",
    "        Classes_Final.add_row(row)"
   ]
  },
  {
   "cell_type": "code",
   "execution_count": 39,
   "metadata": {},
   "outputs": [],
   "source": [
    "superfit_results = Table.from_pandas(pd.read_csv(r\"C:\\Users\\20xha\\Documents\\Caltech\\Research\\superfit\\superfit\\superfit_classes.csv\"))"
   ]
  },
  {
   "cell_type": "code",
   "execution_count": 40,
   "metadata": {},
   "outputs": [
    {
     "data": {
      "text/plain": [
       "4400"
      ]
     },
     "execution_count": 40,
     "metadata": {},
     "output_type": "execute_result"
    }
   ],
   "source": [
    "len(np.unique(Joined_ZTF[\"ZTF_Name\"]))"
   ]
  },
  {
   "cell_type": "code",
   "execution_count": 41,
   "metadata": {},
   "outputs": [
    {
     "name": "stderr",
     "output_type": "stream",
     "text": [
      "C:\\Users\\20xha\\anaconda3\\lib\\site-packages\\IPython\\core\\interactiveshell.py:3418: TableReplaceWarning: converted column 'agreement_broad' from integer to float\n",
      "  exec(code_obj, self.user_global_ns, self.user_ns)\n",
      "C:\\Users\\20xha\\anaconda3\\lib\\site-packages\\IPython\\core\\interactiveshell.py:3418: TableReplaceWarning: converted column 'agreement' from integer to float\n",
      "  exec(code_obj, self.user_global_ns, self.user_ns)\n"
     ]
    }
   ],
   "source": [
    "combined = astropy.table.join(superfit_results, Classes_Final, keys = [\"Version\"])\n",
    "outer = astropy.table.join(superfit_results, Classes_Final, keys = [\"Version\"], join_type = \"outer\").to_pandas()"
   ]
  },
  {
   "cell_type": "code",
   "execution_count": 42,
   "metadata": {},
   "outputs": [],
   "source": [
    "missing = Table.from_pandas(outer[outer['Superfit_c'].isna()])"
   ]
  },
  {
   "cell_type": "code",
   "execution_count": 43,
   "metadata": {},
   "outputs": [
    {
     "data": {
      "text/html": [
       "<i>Table length=0</i>\n",
       "<table id=\"table3181072283296\" class=\"table-striped table-bordered table-condensed\">\n",
       "<thead><tr><th>Version</th><th>Resolution</th><th>Superfit_c</th><th>Superfit_z</th><th>ZTF_Name</th><th>Zooniverse_c_broad</th><th>agreement_broad</th><th>Zooniverse_c</th><th>rlap</th><th>agreement</th></tr></thead>\n",
       "<thead><tr><th>float64</th><th>float64</th><th>float64</th><th>float64</th><th>float64</th><th>float64</th><th>float64</th><th>float64</th><th>float32</th><th>float64</th></tr></thead>\n",
       "</table>"
      ],
      "text/plain": [
       "<Table length=0>\n",
       "Version Resolution Superfit_c Superfit_z ... Zooniverse_c   rlap  agreement\n",
       "float64  float64    float64    float64   ...   float64    float32  float64 \n",
       "------- ---------- ---------- ---------- ... ------------ ------- ---------"
      ]
     },
     "execution_count": 43,
     "metadata": {},
     "output_type": "execute_result"
    }
   ],
   "source": [
    "missing"
   ]
  },
  {
   "cell_type": "code",
   "execution_count": 44,
   "metadata": {},
   "outputs": [],
   "source": [
    "missing.to_pandas().to_csv(\"missing.csv\", index = False)"
   ]
  },
  {
   "cell_type": "code",
   "execution_count": 45,
   "metadata": {},
   "outputs": [
    {
     "name": "stdout",
     "output_type": "stream",
     "text": [
      "8757\n",
      "8813\n"
     ]
    }
   ],
   "source": [
    "print(len(np.unique(Classes_Final[\"Version\"])))\n",
    "print(len(np.unique(superfit_results[\"Version\"])))"
   ]
  },
  {
   "cell_type": "code",
   "execution_count": 46,
   "metadata": {},
   "outputs": [
    {
     "data": {
      "text/plain": [
       "8813"
      ]
     },
     "execution_count": 46,
     "metadata": {},
     "output_type": "execute_result"
    }
   ],
   "source": [
    "len(np.unique(superfit_results[\"Version\"]))"
   ]
  },
  {
   "cell_type": "code",
   "execution_count": 47,
   "metadata": {},
   "outputs": [],
   "source": [
    "names = np.unique(combined[\"ZTF_Name\"])"
   ]
  },
  {
   "cell_type": "code",
   "execution_count": 48,
   "metadata": {},
   "outputs": [
    {
     "name": "stdout",
     "output_type": "stream",
     "text": [
      "4400\n",
      "4400\n"
     ]
    }
   ],
   "source": [
    "print(len(names))\n",
    "print(len(np.unique(Classes_Final[\"ZTF_Name\"])))"
   ]
  },
  {
   "cell_type": "code",
   "execution_count": 51,
   "metadata": {},
   "outputs": [],
   "source": [
    "counter = 0\n",
    "for name in names:\n",
    "    loc = np.where(combined[\"ZTF_Name\"] == name)\n",
    "    isII = False\n",
    "    for j in combined[loc]:\n",
    "        if(j[\"agreement_broad\"] >= 6):\n",
    "            superfitII = \"II\" in j[\"Superfit_c\"]\n",
    "            zooniverseII = \"II\" in j[\"Zooniverse_c_broad\"]\n",
    "            if(superfitII and zooniverseII):\n",
    "                isII = True\n",
    "    #if(isII):\n",
    "        #print(combined[loc][\"ZTF_Name\", \"Superfit_c\", \"Zooniverse_c\"])\n",
    "    counter += isII"
   ]
  },
  {
   "cell_type": "code",
   "execution_count": 52,
   "metadata": {},
   "outputs": [
    {
     "data": {
      "text/plain": [
       "589"
      ]
     },
     "execution_count": 52,
     "metadata": {},
     "output_type": "execute_result"
    }
   ],
   "source": [
    "counter"
   ]
  },
  {
   "cell_type": "code",
   "execution_count": 104,
   "metadata": {},
   "outputs": [
    {
     "ename": "KeyError",
     "evalue": "'sn_type'",
     "output_type": "error",
     "traceback": [
      "\u001b[1;31m---------------------------------------------------------------------------\u001b[0m",
      "\u001b[1;31mKeyError\u001b[0m                                  Traceback (most recent call last)",
      "\u001b[1;32m~\\anaconda3\\lib\\site-packages\\astropy\\table\\row.py\u001b[0m in \u001b[0;36m__getitem__\u001b[1;34m(self, item)\u001b[0m\n\u001b[0;32m     50\u001b[0m             \u001b[1;31m# and allows a list of tuple or str, which is not the right thing here.\u001b[0m\u001b[1;33m\u001b[0m\u001b[1;33m\u001b[0m\u001b[1;33m\u001b[0m\u001b[0m\n\u001b[1;32m---> 51\u001b[1;33m             \u001b[0mout\u001b[0m \u001b[1;33m=\u001b[0m \u001b[0mOrderedDict\u001b[0m\u001b[1;33m.\u001b[0m\u001b[0m__getitem__\u001b[0m\u001b[1;33m(\u001b[0m\u001b[0mself\u001b[0m\u001b[1;33m.\u001b[0m\u001b[0m_table\u001b[0m\u001b[1;33m.\u001b[0m\u001b[0mcolumns\u001b[0m\u001b[1;33m,\u001b[0m \u001b[0mitem\u001b[0m\u001b[1;33m)\u001b[0m\u001b[1;33m[\u001b[0m\u001b[0mself\u001b[0m\u001b[1;33m.\u001b[0m\u001b[0m_index\u001b[0m\u001b[1;33m]\u001b[0m\u001b[1;33m\u001b[0m\u001b[1;33m\u001b[0m\u001b[0m\n\u001b[0m\u001b[0;32m     52\u001b[0m         \u001b[1;32mexcept\u001b[0m \u001b[1;33m(\u001b[0m\u001b[0mKeyError\u001b[0m\u001b[1;33m,\u001b[0m \u001b[0mTypeError\u001b[0m\u001b[1;33m)\u001b[0m\u001b[1;33m:\u001b[0m\u001b[1;33m\u001b[0m\u001b[1;33m\u001b[0m\u001b[0m\n",
      "\u001b[1;31mKeyError\u001b[0m: 'sn_type'",
      "\nDuring handling of the above exception, another exception occurred:\n",
      "\u001b[1;31mKeyError\u001b[0m                                  Traceback (most recent call last)",
      "\u001b[1;32m<ipython-input-104-27150252e9d1>\u001b[0m in \u001b[0;36m<module>\u001b[1;34m\u001b[0m\n\u001b[0;32m     12\u001b[0m         \u001b[0mrow\u001b[0m\u001b[1;33m.\u001b[0m\u001b[0mappend\u001b[0m\u001b[1;33m(\u001b[0m\u001b[0mline\u001b[0m\u001b[1;33m[\u001b[0m\u001b[1;34m\"ZTF_Name\"\u001b[0m\u001b[1;33m]\u001b[0m\u001b[1;33m)\u001b[0m\u001b[1;33m\u001b[0m\u001b[1;33m\u001b[0m\u001b[0m\n\u001b[0;32m     13\u001b[0m         \u001b[0mrow\u001b[0m\u001b[1;33m.\u001b[0m\u001b[0mappend\u001b[0m\u001b[1;33m(\u001b[0m\u001b[0mline\u001b[0m\u001b[1;33m[\u001b[0m\u001b[1;34m\"Version\"\u001b[0m\u001b[1;33m]\u001b[0m\u001b[1;33m)\u001b[0m\u001b[1;33m\u001b[0m\u001b[1;33m\u001b[0m\u001b[0m\n\u001b[1;32m---> 14\u001b[1;33m         \u001b[0mrow\u001b[0m\u001b[1;33m.\u001b[0m\u001b[0mappend\u001b[0m\u001b[1;33m(\u001b[0m\u001b[0mline\u001b[0m\u001b[1;33m[\u001b[0m\u001b[1;34m\"sn_type\"\u001b[0m\u001b[1;33m]\u001b[0m\u001b[1;33m)\u001b[0m\u001b[1;33m\u001b[0m\u001b[1;33m\u001b[0m\u001b[0m\n\u001b[0m\u001b[0;32m     15\u001b[0m         \u001b[0mbest\u001b[0m \u001b[1;33m=\u001b[0m \u001b[1;33m[\u001b[0m\u001b[1;33m]\u001b[0m\u001b[1;33m\u001b[0m\u001b[1;33m\u001b[0m\u001b[0m\n\u001b[0;32m     16\u001b[0m         \u001b[0mbest_num\u001b[0m \u001b[1;33m=\u001b[0m \u001b[1;33m[\u001b[0m\u001b[1;33m]\u001b[0m\u001b[1;33m\u001b[0m\u001b[1;33m\u001b[0m\u001b[0m\n",
      "\u001b[1;32m~\\anaconda3\\lib\\site-packages\\astropy\\table\\row.py\u001b[0m in \u001b[0;36m__getitem__\u001b[1;34m(self, item)\u001b[0m\n\u001b[0;32m     56\u001b[0m             \u001b[1;32melse\u001b[0m\u001b[1;33m:\u001b[0m\u001b[1;33m\u001b[0m\u001b[1;33m\u001b[0m\u001b[0m\n\u001b[0;32m     57\u001b[0m                 \u001b[1;31m# This is only to raise an exception\u001b[0m\u001b[1;33m\u001b[0m\u001b[1;33m\u001b[0m\u001b[1;33m\u001b[0m\u001b[0m\n\u001b[1;32m---> 58\u001b[1;33m                 \u001b[0mout\u001b[0m \u001b[1;33m=\u001b[0m \u001b[0mself\u001b[0m\u001b[1;33m.\u001b[0m\u001b[0m_table\u001b[0m\u001b[1;33m.\u001b[0m\u001b[0mcolumns\u001b[0m\u001b[1;33m[\u001b[0m\u001b[0mitem\u001b[0m\u001b[1;33m]\u001b[0m\u001b[1;33m[\u001b[0m\u001b[0mself\u001b[0m\u001b[1;33m.\u001b[0m\u001b[0m_index\u001b[0m\u001b[1;33m]\u001b[0m\u001b[1;33m\u001b[0m\u001b[1;33m\u001b[0m\u001b[0m\n\u001b[0m\u001b[0;32m     59\u001b[0m         \u001b[1;32mreturn\u001b[0m \u001b[0mout\u001b[0m\u001b[1;33m\u001b[0m\u001b[1;33m\u001b[0m\u001b[0m\n\u001b[0;32m     60\u001b[0m \u001b[1;33m\u001b[0m\u001b[0m\n",
      "\u001b[1;32m~\\anaconda3\\lib\\site-packages\\astropy\\table\\table.py\u001b[0m in \u001b[0;36m__getitem__\u001b[1;34m(self, item)\u001b[0m\n\u001b[0;32m    237\u001b[0m         \"\"\"\n\u001b[0;32m    238\u001b[0m         \u001b[1;32mif\u001b[0m \u001b[0misinstance\u001b[0m\u001b[1;33m(\u001b[0m\u001b[0mitem\u001b[0m\u001b[1;33m,\u001b[0m \u001b[0mstr\u001b[0m\u001b[1;33m)\u001b[0m\u001b[1;33m:\u001b[0m\u001b[1;33m\u001b[0m\u001b[1;33m\u001b[0m\u001b[0m\n\u001b[1;32m--> 239\u001b[1;33m             \u001b[1;32mreturn\u001b[0m \u001b[0mOrderedDict\u001b[0m\u001b[1;33m.\u001b[0m\u001b[0m__getitem__\u001b[0m\u001b[1;33m(\u001b[0m\u001b[0mself\u001b[0m\u001b[1;33m,\u001b[0m \u001b[0mitem\u001b[0m\u001b[1;33m)\u001b[0m\u001b[1;33m\u001b[0m\u001b[1;33m\u001b[0m\u001b[0m\n\u001b[0m\u001b[0;32m    240\u001b[0m         \u001b[1;32melif\u001b[0m \u001b[0misinstance\u001b[0m\u001b[1;33m(\u001b[0m\u001b[0mitem\u001b[0m\u001b[1;33m,\u001b[0m \u001b[1;33m(\u001b[0m\u001b[0mint\u001b[0m\u001b[1;33m,\u001b[0m \u001b[0mnp\u001b[0m\u001b[1;33m.\u001b[0m\u001b[0minteger\u001b[0m\u001b[1;33m)\u001b[0m\u001b[1;33m)\u001b[0m\u001b[1;33m:\u001b[0m\u001b[1;33m\u001b[0m\u001b[1;33m\u001b[0m\u001b[0m\n\u001b[0;32m    241\u001b[0m             \u001b[1;32mreturn\u001b[0m \u001b[0mself\u001b[0m\u001b[1;33m.\u001b[0m\u001b[0mvalues\u001b[0m\u001b[1;33m(\u001b[0m\u001b[1;33m)\u001b[0m\u001b[1;33m[\u001b[0m\u001b[0mitem\u001b[0m\u001b[1;33m]\u001b[0m\u001b[1;33m\u001b[0m\u001b[1;33m\u001b[0m\u001b[0m\n",
      "\u001b[1;31mKeyError\u001b[0m: 'sn_type'"
     ]
    }
   ],
   "source": [
    "tables = []\n",
    "for cut in cutoffs:\n",
    "    Classes = Table(\n",
    "                    names=(\"ZTF_Name\", \"Version\", \"Real_c\", \"Zooniverse_c\"\n",
    "                    ),\n",
    "                    meta={\"name\": \"Spectrum Results after Zooniverse\"},\n",
    "                    dtype=(\"U64\", \"U64\", \"U64\", \"U64\",\n",
    "                          )\n",
    "                    )\n",
    "    for line in Joined_ZTF:\n",
    "        row = []\n",
    "        row.append(line[\"ZTF_Name\"])\n",
    "        row.append(line[\"Version\"])\n",
    "        row.append(line[\"sn_type\"])\n",
    "        best = []\n",
    "        best_num = []\n",
    "        for i in types:\n",
    "            if(line[i] >= cut):\n",
    "                best.append(i)\n",
    "                best_num.append(line[i])\n",
    "        if(len(best) != 0):\n",
    "            row.append(best[np.argmax(best_num)])\n",
    "            Classes.add_row(row)\n",
    "    tables.append([cut, Classes])"
   ]
  },
  {
   "cell_type": "code",
   "execution_count": null,
   "metadata": {},
   "outputs": [],
   "source": [
    "tables = []\n",
    "for cut in rlap_cutoffs:\n",
    "    Classes = Table(\n",
    "                    names=(\"ZTF_Name\", \"Version\", \"Real_c\", \"Zooniverse_c\"\n",
    "                    ),\n",
    "                    meta={\"name\": \"Spectrum Results after Zooniverse\"},\n",
    "                    dtype=(\"U64\", \"U64\", \"U64\", \"U64\",\n",
    "                          )\n",
    "                    )\n",
    "    for line in Joined_ZTF_2018:\n",
    "        row = []\n",
    "        row.append(line[\"ZTF_Name\"])\n",
    "        row.append(line[\"Version\"])\n",
    "        row.append(line[\"sn_type\"])\n",
    "        best = []\n",
    "        best_num = []\n",
    "        for i in types:\n",
    "            if(line[i] >= 9 and line[\"z\"] < .2):\n",
    "                if(line[\"rlap\"] >= cut):\n",
    "                    best.append(i)\n",
    "                    best_num.append(line[i])\n",
    "        if(len(best) != 0):\n",
    "            row.append(best[np.argmax(best_num)])\n",
    "            Classes.add_row(row)\n",
    "    tables.append([cut, Classes])"
   ]
  },
  {
   "cell_type": "code",
   "execution_count": null,
   "metadata": {},
   "outputs": [],
   "source": [
    "negativeII = 0\n",
    "positiveII = 0\n",
    "for j in Joined_ZTF_2018:\n",
    "    correct_1a = \"II\" in j[\"sn_type\"]\n",
    "    if(correct_1a):\n",
    "        positiveII += 1\n",
    "    if(not(correct_1a)):\n",
    "        negativeII += 1"
   ]
  },
  {
   "cell_type": "code",
   "execution_count": null,
   "metadata": {},
   "outputs": [],
   "source": [
    "cutoff_confidence = [] \n",
    "for i in tables:\n",
    "    truepositive = 0\n",
    "    falsepositive = 0\n",
    "    for j in i[1]:\n",
    "        correct_1a = \"II\" in j[\"Real_c\"]\n",
    "        classified_1a = \"II\" in j[\"Zooniverse_c\"]\n",
    "        if(correct_1a == True and classified_1a == True):\n",
    "            truepositive += 1\n",
    "        if(correct_1a != True and classified_1a == True):\n",
    "            falsepositive += 1\n",
    "    cutoff_confidence.append([i[0],truepositive/(positiveII),falsepositive/(negativeII),len(i[1]), truepositive, falsepositive])\n",
    "cutoff_confidence = np.asarray(cutoff_confidence)"
   ]
  },
  {
   "cell_type": "code",
   "execution_count": null,
   "metadata": {},
   "outputs": [],
   "source": [
    "cutoff_confidence"
   ]
  },
  {
   "cell_type": "code",
   "execution_count": null,
   "metadata": {},
   "outputs": [],
   "source": [
    "fig = plt.figure(figsize = (10,10))\n",
    "plt.scatter(cutoff_confidence[:,2], cutoff_confidence[:,1], color = \"blue\")\n",
    "for i in cutoff_confidence:\n",
    "    plt.text(i[2]+.00002,i[1]+.002,\"$>$\"+str(i[0]))\n",
    "plt.title(\"TPR vs. FPR for different # in agreement II\")\n",
    "plt.xlabel(\"False Positive Rate\")\n",
    "plt.ylabel(\"True Positive Rate\")"
   ]
  },
  {
   "cell_type": "code",
   "execution_count": null,
   "metadata": {},
   "outputs": [],
   "source": [
    "negativeI = 0\n",
    "positiveI = 0\n",
    "for j in Joined_ZTF_2018:\n",
    "    correct_1a = \"Ia\" in j[\"sn_type\"]\n",
    "    if(correct_1a):\n",
    "        positiveI += 1\n",
    "    if(not(correct_1a)):\n",
    "        negativeI += 1"
   ]
  },
  {
   "cell_type": "code",
   "execution_count": null,
   "metadata": {},
   "outputs": [],
   "source": [
    "cutoff_confidence_Ia = [] \n",
    "for i in tables:\n",
    "    truepositive = 0\n",
    "    falsepositive = 0\n",
    "    for j in i[1]:\n",
    "        correct_1a = \"Ia\" in j[\"Real_c\"]\n",
    "        classified_1a = \"Ia\" in j[\"Zooniverse_c\"]\n",
    "        if(correct_1a == True and classified_1a == True):\n",
    "            truepositive += 1\n",
    "        if(correct_1a != True and classified_1a == True):\n",
    "            falsepositive += 1\n",
    "    cutoff_confidence_Ia.append([i[0],truepositive/(positiveI),falsepositive/(negativeI),len(i[1]), truepositive, falsepositive])\n",
    "cutoff_confidence_Ia = np.asarray(cutoff_confidence_Ia)"
   ]
  },
  {
   "cell_type": "code",
   "execution_count": null,
   "metadata": {},
   "outputs": [],
   "source": [
    "fig = plt.figure(figsize = (10,10))\n",
    "plt.scatter(cutoff_confidence_Ia[:,2], cutoff_confidence_Ia[:,1], color = \"blue\")\n",
    "for i in cutoff_confidence_Ia:\n",
    "    plt.text(i[2]+.00002,i[1]+.002,\"$>$\"+str(i[0]))\n",
    "plt.title(\"TPR vs. FPR for different # in agreement Ia\")\n",
    "plt.xlabel(\"False Positive Rate\")\n",
    "plt.ylabel(\"True Positive Rate\")"
   ]
  },
  {
   "cell_type": "code",
   "execution_count": null,
   "metadata": {},
   "outputs": [],
   "source": [
    "positiveI"
   ]
  },
  {
   "cell_type": "code",
   "execution_count": null,
   "metadata": {},
   "outputs": [],
   "source": [
    "positiveII"
   ]
  },
  {
   "cell_type": "code",
   "execution_count": null,
   "metadata": {},
   "outputs": [],
   "source": [
    "cutoff_confidence_Ia = [] \n",
    "for i in tables:\n",
    "    truepositive = 0\n",
    "    falsepositive = 0\n",
    "    for j in i[1]:\n",
    "        correct_1a = \"Ia\" in j[\"Real_c\"]\n",
    "        classified_1a = \"Ia\" in j[\"Zooniverse_c\"]\n",
    "        if(correct_1a == True and classified_1a == True):\n",
    "            truepositive += 1\n",
    "        if(correct_1a != True and classified_1a == True):\n",
    "            print(j)\n",
    "    break"
   ]
  },
  {
   "cell_type": "code",
   "execution_count": null,
   "metadata": {},
   "outputs": [],
   "source": [
    "tables[-1][1]"
   ]
  },
  {
   "cell_type": "code",
   "execution_count": null,
   "metadata": {},
   "outputs": [],
   "source": [
    "np.sum(ResultsTable_Zooniverse_Classes[\"Ia-norm\"] > 6)"
   ]
  },
  {
   "cell_type": "code",
   "execution_count": null,
   "metadata": {},
   "outputs": [],
   "source": [
    "positiveI"
   ]
  },
  {
   "cell_type": "code",
   "execution_count": null,
   "metadata": {},
   "outputs": [],
   "source": [
    "negativeIbIc = 0\n",
    "positiveIbIc = 0\n",
    "index = 0\n",
    "indexes = []\n",
    "for j in Joined_ZTF_2018:\n",
    "    correct_1a = (\"Ib\" in j[\"sn_type\"]) or (\"Ic\" in j[\"sn_type\"]) \n",
    "    if(correct_1a):\n",
    "        positiveIbIc += 1\n",
    "        indexes.append(index)\n",
    "    if(not(correct_1a)):\n",
    "        negativeIbIc += 1\n",
    "    index += 1"
   ]
  },
  {
   "cell_type": "code",
   "execution_count": null,
   "metadata": {},
   "outputs": [],
   "source": [
    "cutoff_confidence_IbIc = [] \n",
    "for i in tables:\n",
    "    truepositiveIbIc = 0\n",
    "    falsepositiveIbIc = 0\n",
    "    JoinedResults = i[1]\n",
    "    for j in JoinedResults:\n",
    "        correct_1a = (\"Ib\" in j[\"Real_c\"])\n",
    "        classified_1a = (\"Ib\" in j[\"Zooniverse_c\"])\n",
    "        if(correct_1a == True and classified_1a == True):\n",
    "            truepositiveIbIc += 1\n",
    "        if(correct_1a != True and classified_1a == True):\n",
    "            falsepositiveIbIc += 1\n",
    "            \n",
    "        correct_1a = (\"Ic\" in j[\"Real_c\"])\n",
    "        classified_1a = (\"Ic\" in j[\"Zooniverse_c\"])\n",
    "        if(correct_1a == True and classified_1a == True):\n",
    "            truepositiveIbIc += 1\n",
    "        if(correct_1a != True and classified_1a == True):\n",
    "            falsepositiveIbIc += 1\n",
    "        \n",
    "    cutoff_confidence_IbIc.append([i[0],truepositiveIbIc/(positiveIbIc),falsepositiveIbIc/(negativeIbIc),len(JoinedResults), truepositiveIbIc, falsepositiveIbIc])\n",
    "cutoff_confidence_IbIc = np.asarray(cutoff_confidence_IbIc)"
   ]
  },
  {
   "cell_type": "code",
   "execution_count": null,
   "metadata": {},
   "outputs": [],
   "source": [
    "fig = plt.figure(figsize = (10,10))\n",
    "plt.scatter(cutoff_confidence_IbIc[:,2], cutoff_confidence_IbIc[:,1], color = \"blue\")\n",
    "for i in cutoff_confidence_IbIc:\n",
    "    plt.text(i[2]+.00002,i[1]+.002,\"$>$\"+str(i[0]))\n",
    "plt.title(\"TPR vs. FPR for different # in agreement (Striped Envolope Ib or Ic)\")\n",
    "plt.xlabel(\"False Positive Rate\")\n",
    "plt.ylabel(\"True Positive Rate\")"
   ]
  },
  {
   "cell_type": "code",
   "execution_count": null,
   "metadata": {},
   "outputs": [],
   "source": [
    "for i in tables[-2][1]:\n",
    "    if(\"Ib\" in i[\"Real_c\"]):\n",
    "        print(i[\"Real_c\"], i[\"Zooniverse_c\"])"
   ]
  },
  {
   "cell_type": "code",
   "execution_count": null,
   "metadata": {},
   "outputs": [],
   "source": [
    "for i in tables[-2][1]:\n",
    "    if(\"Ib\" in i[\"Zooniverse_c\"]):\n",
    "        print(i[\"Real_c\"], i[\"Zooniverse_c\"])"
   ]
  },
  {
   "cell_type": "code",
   "execution_count": null,
   "metadata": {},
   "outputs": [],
   "source": [
    "tables[0][1][tables[0][1][\"Zooniverse_c\"]==\"NoMatch\"]"
   ]
  },
  {
   "cell_type": "code",
   "execution_count": null,
   "metadata": {},
   "outputs": [],
   "source": [
    "joined_results"
   ]
  },
  {
   "cell_type": "markdown",
   "metadata": {},
   "source": [
    "Further Analysis\n",
    "Weighing Users Plot number of classifications vs accuracy\n",
    "Weighting Schemes\n",
    "Isolate Users or subclasses\n",
    "Cluster things that are wrong\n",
    "PanStarrs Subtraction\n",
    "Age vs Accuracy\n",
    "Phase of the spectra vs Accuracyclassification[ccs_workflow]"
   ]
  },
  {
   "cell_type": "code",
   "execution_count": null,
   "metadata": {},
   "outputs": [],
   "source": [
    "wanted = classification[ccs_workflow]"
   ]
  },
  {
   "cell_type": "code",
   "execution_count": null,
   "metadata": {},
   "outputs": [],
   "source": [
    "users = np.unique(wanted[\"user_name\"])"
   ]
  },
  {
   "cell_type": "code",
   "execution_count": null,
   "metadata": {},
   "outputs": [],
   "source": [
    "len(users)"
   ]
  },
  {
   "cell_type": "code",
   "execution_count": null,
   "metadata": {},
   "outputs": [],
   "source": [
    "location_list = []\n",
    "counter = 0\n",
    "for i in users:\n",
    "    counter += 1\n",
    "    locations = np.where(wanted[\"user_name\"] == i)\n",
    "    location_list.append(np.asarray([i,locations[0],len(locations[0])]))\n",
    "    if(counter % 100 == 0):\n",
    "        print(counter)\n",
    "location_list = np.asarray(location_list)"
   ]
  },
  {
   "cell_type": "code",
   "execution_count": null,
   "metadata": {},
   "outputs": [],
   "source": [
    "plt.hist(location_list[:, 2], bins = 100)"
   ]
  },
  {
   "cell_type": "code",
   "execution_count": null,
   "metadata": {},
   "outputs": [],
   "source": [
    "super_users = location_list[np.where(location_list[:,2] > 250)]"
   ]
  },
  {
   "cell_type": "code",
   "execution_count": null,
   "metadata": {},
   "outputs": [],
   "source": [
    "np.unique(location_list[:,2])"
   ]
  },
  {
   "cell_type": "code",
   "execution_count": null,
   "metadata": {},
   "outputs": [],
   "source": [
    "results = []\n",
    "for amount_done in np.unique(location_list[:,2]):\n",
    "    right = 0\n",
    "    total = 0\n",
    "    for line in location_list[np.where(location_list[:,2] == amount_done)]:\n",
    "        these_classes = classification[ccs_workflow][line[1]]\n",
    "        for i in these_classes:\n",
    "            subject_data = json.loads(i[\"subject_data\"])\n",
    "            annotations = json.loads(i[\"annotations\"])\n",
    "            value = annotations[0][\"value\"]\n",
    "            ztf_name = subject_data[str(i[\"subject_ids\"])][\"!ZTF_Name\"]\n",
    "            ztf_version = subject_data[str(i[\"subject_ids\"])][\"!ZTF_Version\"]\n",
    "            type_location = np.where(final_rcf_table[\"ZTF_Name\"] == ztf_name)[0]\n",
    "            if(len(type_location) > 0 and value != None):\n",
    "                type_location = type_location[0]\n",
    "                snid_location = np.where(snidoutput[\"Version\"] == ztf_version+\".ascii\")[0][0]\n",
    "                response_number = response_dict[value]\n",
    "                if(response_number != 0):\n",
    "                    snid_class = snidoutput[snid_location][\"c_snid_{}\".format(response_number)]\n",
    "                    actual_class = final_rcf_table[type_location][\"sn_type\"]\n",
    "                    if(actual_class == snid_class):\n",
    "                        right += 1\n",
    "                    elif(actual_class in snid_class):\n",
    "                        right += 1\n",
    "                    elif(\"Ia\" in actual_class and \"Ia\" in snid_class):\n",
    "                        right += 1\n",
    "                    elif(\"II\" in actual_class and \"II\" in snid_class):\n",
    "                        right += 1\n",
    "                    elif(\"Ib\" in actual_class and \"Ib\" in snid_class):\n",
    "                        right += 1\n",
    "                    elif(\"Ic\" in actual_class and \"Ic\" in snid_class):\n",
    "                        right += 1\n",
    "                    total += 1\n",
    "    results.append([amount_done, right, total, right/total])"
   ]
  },
  {
   "cell_type": "code",
   "execution_count": null,
   "metadata": {},
   "outputs": [],
   "source": [
    "results = np.asarray(results)"
   ]
  },
  {
   "cell_type": "code",
   "execution_count": null,
   "metadata": {},
   "outputs": [],
   "source": [
    "plt.scatter(results[:,0], results[:,3])"
   ]
  },
  {
   "cell_type": "code",
   "execution_count": null,
   "metadata": {},
   "outputs": [],
   "source": [
    "snidoutput[0][\"c_snid_{}\".format(1)]"
   ]
  },
  {
   "cell_type": "code",
   "execution_count": null,
   "metadata": {},
   "outputs": [],
   "source": [
    "np.where(final_rcf_table[\"ZTF_Name\"] == \"ZTF18aabssth\")[0]"
   ]
  },
  {
   "cell_type": "code",
   "execution_count": null,
   "metadata": {},
   "outputs": [],
   "source": [
    "np.unique(final_rcf_table[\"sn_type\"])"
   ]
  },
  {
   "cell_type": "code",
   "execution_count": null,
   "metadata": {},
   "outputs": [],
   "source": [
    "np.unique(snidoutput[\"c_snid_1\"])"
   ]
  },
  {
   "cell_type": "code",
   "execution_count": null,
   "metadata": {},
   "outputs": [],
   "source": [
    "ztf_version+\"ascii\""
   ]
  },
  {
   "cell_type": "code",
   "execution_count": null,
   "metadata": {},
   "outputs": [],
   "source": [
    "tables_age = []\n",
    "for cut in rlap_cutoffs:\n",
    "    Classes = Table(\n",
    "                    names=(\"ZTF_Name\", \"Version\", \"Real_c\", \"Zooniverse_c\"\n",
    "                    ),\n",
    "                    meta={\"name\": \"Spectrum Results after Zooniverse\"},\n",
    "                    dtype=(\"U64\", \"U64\", \"U64\", \"U64\",\n",
    "                          )\n",
    "                    )\n",
    "    for line in Joined_ZTF_2018:\n",
    "        row = []\n",
    "        row.append(line[\"ZTF_Name\"])\n",
    "        row.append(line[\"Version\"])\n",
    "        row.append(line[\"sn_type\"])\n",
    "        best = []\n",
    "        best_num = []\n",
    "        for i in types:\n",
    "            if(line[i] >= 9):\n",
    "                if(line[\"rlap\"] >= cut):\n",
    "                    best.append(i)\n",
    "                    best_num.append(line[i])\n",
    "        if(len(best) != 0):\n",
    "            row.append(best[np.argmax(best_num)])\n",
    "            Classes.add_row(row)\n",
    "    tables_age.append([cut, Classes])"
   ]
  },
  {
   "cell_type": "code",
   "execution_count": null,
   "metadata": {},
   "outputs": [],
   "source": [
    "snid_superfit_results = Table.read(r\"C:\\Users\\20xha\\Documents\\GitHub\\supernova-spectrum-analysis\\superfit/results_2018_all_exact_z.txt\", format = \"ascii\")\n",
    "snid_superfit_results.rename_column('name', 'Version')"
   ]
  },
  {
   "cell_type": "code",
   "execution_count": null,
   "metadata": {},
   "outputs": [],
   "source": [
    "\n",
    "tprfpr_snid = Table.read(r\"C:\\Users\\20xha\\Documents\\GitHub\\supernova-spectrum-analysis\\superfit/tprfpr_snid.ascii\", format = \"ascii\")"
   ]
  },
  {
   "cell_type": "code",
   "execution_count": null,
   "metadata": {},
   "outputs": [],
   "source": [
    "snid_superfit_results[0]"
   ]
  },
  {
   "cell_type": "code",
   "execution_count": null,
   "metadata": {},
   "outputs": [],
   "source": [
    "joined_phase = astropy.table.join(Classes_Final, snid_superfit_results)"
   ]
  },
  {
   "cell_type": "code",
   "execution_count": null,
   "metadata": {},
   "outputs": [],
   "source": [
    "phase_cutoffs = np.linspace(np.min(joined_phase[\"phase\"]), np.max(joined_phase[\"phase\"]), 100)"
   ]
  },
  {
   "cell_type": "code",
   "execution_count": null,
   "metadata": {},
   "outputs": [],
   "source": [
    "joined_phase[0]"
   ]
  },
  {
   "cell_type": "code",
   "execution_count": null,
   "metadata": {},
   "outputs": [],
   "source": [
    "negativeIa = 0\n",
    "positiveIa = 0\n",
    "for j in joined_phase:\n",
    "    correct_1a = \"Ia\" in j[\"classification\"]\n",
    "    if(correct_1a):\n",
    "        positiveIa += 1\n",
    "    if(not(correct_1a)):\n",
    "        negativeIa += 1"
   ]
  },
  {
   "cell_type": "code",
   "execution_count": null,
   "metadata": {},
   "outputs": [],
   "source": [
    "joined_phase"
   ]
  },
  {
   "cell_type": "code",
   "execution_count": null,
   "metadata": {},
   "outputs": [],
   "source": [
    "tprfpr_zooniverse = Table(\n",
    "                names=(\"phase\", \"agreement\", \"tpr_zooniverse\", \"fpr_zooniverse\"\n",
    "                ),\n",
    "                meta={\"name\": \"Comparison of Three Programs\"},\n",
    "                dtype=(\"float64\", \"float64\", \"float64\", \"float64\"\n",
    "                      )) \n",
    "for phase in phase_cutoffs:\n",
    "    for agreement in cutoffs:\n",
    "        truepositive = [0, 0, 0]\n",
    "        falsepositive = [0, 0, 0]\n",
    "        for i in joined_phase:\n",
    "            if(i[\"phase\"] > phase and i[\"agreement\"] >= agreement):\n",
    "                c_actual = \"Ia\" in i[\"Real_c\"]\n",
    "\n",
    "                c_snid = \"Ia\" in i[\"Zooniverse_c\"]\n",
    "                if(c_actual == True and c_snid == True):\n",
    "                    truepositive[0] += 1\n",
    "                if(c_actual != True and c_snid == True):\n",
    "                    falsepositive[0] += 1\n",
    "        row = [phase, agreement, truepositive[0]/positiveIa, falsepositive[0]/negativeIa]\n",
    "        tprfpr_zooniverse.add_row(row)   "
   ]
  },
  {
   "cell_type": "code",
   "execution_count": null,
   "metadata": {},
   "outputs": [],
   "source": [
    "positiveIa"
   ]
  },
  {
   "cell_type": "code",
   "execution_count": null,
   "metadata": {},
   "outputs": [],
   "source": [
    "62/441"
   ]
  },
  {
   "cell_type": "code",
   "execution_count": null,
   "metadata": {},
   "outputs": [],
   "source": [
    "fig = plt.figure(figsize = (10,10))\n",
    "plt.scatter(tprfpr_zooniverse[\"fpr_zooniverse\"], tprfpr_zooniverse[\"tpr_zooniverse\"], color = \"orange\")\n",
    "plt.plot(tprfpr_snid[\"fpr_snid\"], tprfpr_snid[\"tpr_snid\"])\n",
    "plt.title(\"TPR vs. FPR for different # in agreement Ia\")\n",
    "plt.xlabel(\"False Positive Rate\")\n",
    "plt.ylabel(\"True Positive Rate\")"
   ]
  },
  {
   "cell_type": "code",
   "execution_count": null,
   "metadata": {},
   "outputs": [],
   "source": [
    "tprfpr_zooniverse_superfit_Ia = Table(\n",
    "                names=(\"phase\", \"agreement\", \"tpr_zooniverse\", \"fpr_zooniverse\"\n",
    "                ),\n",
    "                meta={\"name\": \"Comparison of Three Programs\"},\n",
    "                dtype=(\"float64\", \"float64\", \"float64\", \"float64\"\n",
    "                      ))\n",
    "for phase in phase_cutoffs:\n",
    "    for agreement in cutoffs:\n",
    "        truepositive = [0, 0, 0]\n",
    "        falsepositive = [0, 0, 0]\n",
    "        for i in joined_phase:\n",
    "            if(i[\"phase\"] > phase and i[\"agreement\"] >= agreement):\n",
    "                c_actual = \"Ia\" in i[\"Real_c\"]\n",
    "                \n",
    "                c_zoonivserse = \"Ia\" in i[\"Zooniverse_c\"]\n",
    "                c_superfit = \"Ia\" in i[\"SF_fit_1\"]\n",
    "                c = c_zoonivserse and c_superfit\n",
    "                if(c_actual == True and c == True):\n",
    "                    truepositive[0] += 1\n",
    "                if(c_actual != True and c == True):\n",
    "                    falsepositive[0] += 1\n",
    "        row = [phase, agreement, truepositive[0]/positiveIa, falsepositive[0]/negativeIa]\n",
    "        tprfpr_zooniverse_superfit_Ia.add_row(row)\n",
    "\n",
    "fig = plt.figure(figsize = (10,10))\n",
    "plt.scatter(tprfpr_zooniverse_superfit_Ia[\"fpr_zooniverse\"], tprfpr_zooniverse_superfit_Ia[\"tpr_zooniverse\"], color = \"orange\", label = \"Superfit and Zooniverse\")\n",
    "plt.plot(tprfpr_snid[\"fpr_snid\"], tprfpr_snid[\"tpr_snid\"], label = \"SNID\")\n",
    "plt.title(\"TPR vs. FPR for different # in agreement Ia (Superfit and Zooniverse)\")\n",
    "plt.legend(loc=\"upper left\")\n",
    "plt.xlabel(\"False Positive Rate\")\n",
    "plt.ylabel(\"True Positive Rate\")"
   ]
  },
  {
   "cell_type": "code",
   "execution_count": null,
   "metadata": {},
   "outputs": [],
   "source": [
    "negativeII = 0\n",
    "positiveII = 0\n",
    "for j in joined_phase:\n",
    "    correct_1a = \"II\" in j[\"classification\"]\n",
    "    if(correct_1a):\n",
    "        positiveII += 1\n",
    "    if(not(correct_1a)):\n",
    "        negativeII += 1"
   ]
  },
  {
   "cell_type": "code",
   "execution_count": null,
   "metadata": {},
   "outputs": [],
   "source": [
    "tprfpr_snid_II = Table(\n",
    "                names=(\"rlap\", \"tpr_snid\", \"fpr_snid\"\n",
    "                ),\n",
    "                meta={\"name\": \"Comparison of Three Programs\"},\n",
    "                dtype=(\"float64\", \"float64\", \"float64\"\n",
    "                      )) \n",
    "for rlap in np.linspace(0, 25, 251):\n",
    "    truepositive = [0, 0, 0]\n",
    "    falsepositive = [0, 0, 0]\n",
    "    for i in joined_phase:\n",
    "        if(i[\"rlap\"] >= rlap):\n",
    "            c_actual = \"II\" in i[\"Real_c\"]\n",
    "\n",
    "            c_snid = \"II\" in i[\"c_snid\"]\n",
    "            if(c_actual == True and c_snid == True):\n",
    "                truepositive[0] += 1\n",
    "            if(c_actual != True and c_snid == True):\n",
    "                falsepositive[0] += 1\n",
    "    row = [rlap, truepositive[0]/positiveII, falsepositive[0]/negativeII]\n",
    "    tprfpr_snid_II.add_row(row)   "
   ]
  },
  {
   "cell_type": "code",
   "execution_count": null,
   "metadata": {},
   "outputs": [],
   "source": [
    "tprfpr_zooniverse_II = Table(\n",
    "                names=(\"phase\", \"agreement\", \"tpr_zooniverse\", \"fpr_zooniverse\"\n",
    "                ),\n",
    "                meta={\"name\": \"Comparison of Three Programs\"},\n",
    "                dtype=(\"float64\", \"float64\", \"float64\", \"float64\"\n",
    "                      )) \n",
    "for phase in phase_cutoffs:\n",
    "    for agreement in cutoffs:\n",
    "        truepositive = [0, 0, 0]\n",
    "        falsepositive = [0, 0, 0]\n",
    "        for i in joined_phase:\n",
    "            if(i[\"phase\"] > phase and i[\"agreement\"] >= agreement):\n",
    "                c_actual = \"II\" in i[\"Real_c\"]\n",
    "\n",
    "                c_snid = \"II\" in i[\"Zooniverse_c\"]\n",
    "                if(c_actual == True and c_snid == True):\n",
    "                    truepositive[0] += 1\n",
    "                if(c_actual != True and c_snid == True):\n",
    "                    falsepositive[0] += 1\n",
    "        row = [phase, agreement, truepositive[0]/positiveII, falsepositive[0]/negativeII]\n",
    "        tprfpr_zooniverse_II.add_row(row)   "
   ]
  },
  {
   "cell_type": "code",
   "execution_count": null,
   "metadata": {},
   "outputs": [],
   "source": [
    "fig = plt.figure(figsize = (10,10))\n",
    "plt.scatter(tprfpr_zooniverse_II[\"fpr_zooniverse\"], tprfpr_zooniverse_II[\"tpr_zooniverse\"], color = \"orange\")\n",
    "plt.plot(tprfpr_snid_II[\"fpr_snid\"], tprfpr_snid_II[\"tpr_snid\"])\n",
    "plt.title(\"TPR vs. FPR for different # in agreement II\")\n",
    "plt.xlabel(\"False Positive Rate\")\n",
    "plt.ylabel(\"True Positive Rate\")"
   ]
  },
  {
   "cell_type": "code",
   "execution_count": null,
   "metadata": {},
   "outputs": [],
   "source": [
    "import matplotlib"
   ]
  },
  {
   "cell_type": "code",
   "execution_count": null,
   "metadata": {},
   "outputs": [],
   "source": [
    "plt.rcParams.update({'font.size': 20})"
   ]
  },
  {
   "cell_type": "code",
   "execution_count": null,
   "metadata": {},
   "outputs": [],
   "source": [
    "tprfpr_zooniverse_superfit_II = Table(\n",
    "                names=(\"phase\", \"agreement\", \"tpr_zooniverse\", \"fpr_zooniverse\"\n",
    "                ),\n",
    "                meta={\"name\": \"Comparison of Three Programs\"},\n",
    "                dtype=(\"float64\", \"float64\", \"float64\", \"float64\"\n",
    "                      ))\n",
    "for phase in phase_cutoffs:\n",
    "    for agreement in cutoffs:\n",
    "        truepositive = [0, 0, 0]\n",
    "        falsepositive = [0, 0, 0]\n",
    "        for i in joined_phase:\n",
    "            if(i[\"phase\"] > phase and i[\"agreement\"] >= agreement):\n",
    "                c_actual = \"II\" in i[\"Real_c\"]\n",
    "                \n",
    "                c_zoonivserse = \"II\" in i[\"Zooniverse_c\"]\n",
    "                c_superfit = \"II\" in i[\"SF_fit_1\"]\n",
    "                c = c_zoonivserse and c_superfit\n",
    "                if(c_actual == True and c == True):\n",
    "                    truepositive[0] += 1\n",
    "                if(c_actual != True and c == True):\n",
    "                    falsepositive[0] += 1\n",
    "        row = [phase, agreement, truepositive[0]/positiveII, falsepositive[0]/negativeII]\n",
    "        tprfpr_zooniverse_superfit_II.add_row(row)\n",
    "\n",
    "fig = plt.figure(figsize = (10,10))\n",
    "plt.scatter(tprfpr_zooniverse_superfit_II[1:][\"fpr_zooniverse\"], tprfpr_zooniverse_superfit_II[1:][\"tpr_zooniverse\"], color = \"orange\", label = \"Superfit and Zooniverse\")\n",
    "plt.plot(tprfpr_snid_II[\"fpr_snid\"], tprfpr_snid_II[\"tpr_snid\"], label = \"SNID\")\n",
    "plt.scatter(0, tprfpr_zooniverse_superfit_II[\"tpr_zooniverse\"][np.argmax(tprfpr_zooniverse_superfit_II[\"tpr_zooniverse\"])], s=640, marker=(5, 1), color = \"green\")\n",
    "#plt.title(\"TPR vs. FPR for different # in agreement (Type II) (Superfit and Zooniverse)\")\n",
    "plt.legend(loc=\"upper left\")\n",
    "plt.xlabel(\"False Positive Rate\")\n",
    "plt.ylabel(\"True Positive Rate\")"
   ]
  },
  {
   "cell_type": "code",
   "execution_count": null,
   "metadata": {},
   "outputs": [],
   "source": [
    "tprfpr_zooniverse_superfit_II[np.argmax(tprfpr_zooniverse_superfit_II[\"tpr_zooniverse\"])]"
   ]
  },
  {
   "cell_type": "code",
   "execution_count": null,
   "metadata": {},
   "outputs": [],
   "source": [
    "tprfpr_zooniverse_superfit_II = Table(\n",
    "                names=(\"phase\", \"agreement\", \"tpr_zooniverse\", \"fpr_zooniverse\"\n",
    "                ),\n",
    "                meta={\"name\": \"Comparison of Three Programs\"},\n",
    "                dtype=(\"float64\", \"float64\", \"float64\", \"float64\"\n",
    "                      ))\n",
    "for phase in phase_cutoffs:\n",
    "    for agreement in cutoffs:\n",
    "        truepositive = [0, 0, 0]\n",
    "        falsepositive = [0, 0, 0]\n",
    "        for i in joined_phase:\n",
    "            if(i[\"phase\"] > phase and i[\"agreement\"] >= agreement):\n",
    "                c_actual = \"II\" == i[\"Real_c\"]\n",
    "                \n",
    "                c_zoonivserse = \"II-norm\" == i[\"Zooniverse_c\"]\n",
    "                c_superfit = \"II\" == i[\"SF_fit_1\"]\n",
    "                c = c_zoonivserse and c_superfit\n",
    "                if(c_actual == True and c == True):\n",
    "                    truepositive[0] += 1\n",
    "                if(c_actual != True and c == True):\n",
    "                    falsepositive[0] += 1\n",
    "        row = [phase, agreement, truepositive[0]/positiveII, falsepositive[0]/negativeII]\n",
    "        tprfpr_zooniverse_superfit_II.add_row(row)\n",
    "\n",
    "fig = plt.figure(figsize = (10,10))\n",
    "plt.scatter(tprfpr_zooniverse_superfit_II[\"fpr_zooniverse\"], tprfpr_zooniverse_superfit_II[\"tpr_zooniverse\"], color = \"orange\")\n",
    "plt.plot(tprfpr_snid_II[\"fpr_snid\"], tprfpr_snid_II[\"tpr_snid\"])\n",
    "plt.title(\"TPR vs. FPR for different # in agreement II-norm (Superfit and Zooniverse)\")\n",
    "plt.xlabel(\"False Positive Rate\")\n",
    "plt.ylabel(\"True Positive Rate\")"
   ]
  },
  {
   "cell_type": "code",
   "execution_count": null,
   "metadata": {},
   "outputs": [],
   "source": [
    "negativeIb = 0\n",
    "positiveIb = 0\n",
    "for j in joined_phase:\n",
    "    correct_1a = \"Ib\" in j[\"classification\"]\n",
    "    if(correct_1a):\n",
    "        positiveIb += 1\n",
    "    if(not(correct_1a)):\n",
    "        negativeIb += 1"
   ]
  },
  {
   "cell_type": "code",
   "execution_count": null,
   "metadata": {},
   "outputs": [],
   "source": [
    "tprfpr_snid_Ib = Table(\n",
    "                names=(\"rlap\", \"tpr_snid\", \"fpr_snid\"\n",
    "                ),\n",
    "                meta={\"name\": \"Comparison of Three Programs\"},\n",
    "                dtype=(\"float64\", \"float64\", \"float64\"\n",
    "                      )) \n",
    "for rlap in np.linspace(0, 25, 251):\n",
    "    truepositive = [0, 0, 0]\n",
    "    falsepositive = [0, 0, 0]\n",
    "    for i in joined_phase:\n",
    "        if(i[\"rlap\"] >= rlap):\n",
    "            c_actual = \"Ib\" in i[\"Real_c\"]\n",
    "\n",
    "            c_snid = \"Ib\" in i[\"c_snid\"]\n",
    "            if(c_actual == True and c_snid == True):\n",
    "                truepositive[0] += 1\n",
    "            if(c_actual != True and c_snid == True):\n",
    "                falsepositive[0] += 1\n",
    "    row = [rlap, truepositive[0]/positiveIb, falsepositive[0]/negativeIb]\n",
    "    tprfpr_snid_Ib.add_row(row)"
   ]
  },
  {
   "cell_type": "code",
   "execution_count": null,
   "metadata": {},
   "outputs": [],
   "source": [
    "tprfpr_zooniverse_Ib = Table(\n",
    "                names=(\"phase\", \"agreement\", \"tpr_zooniverse\", \"fpr_zooniverse\"\n",
    "                ),\n",
    "                meta={\"name\": \"Comparison of Three Programs\"},\n",
    "                dtype=(\"float64\", \"float64\", \"float64\", \"float64\"\n",
    "                      )) \n",
    "for phase in phase_cutoffs:\n",
    "    for agreement in cutoffs:\n",
    "        truepositive = [0, 0, 0]\n",
    "        falsepositive = [0, 0, 0]\n",
    "        for i in joined_phase:\n",
    "            if(i[\"phase\"] > phase and i[\"agreement\"] >= agreement):\n",
    "                c_actual = \"Ib\" in i[\"Real_c\"]\n",
    "\n",
    "                c_snid = \"Ib\" in i[\"Zooniverse_c\"]\n",
    "                if(c_actual == True and c_snid == True):\n",
    "                    truepositive[0] += 1\n",
    "                if(c_actual != True and c_snid == True):\n",
    "                    falsepositive[0] += 1\n",
    "        row = [phase, agreement, truepositive[0]/positiveIb, falsepositive[0]/negativeIb]\n",
    "        tprfpr_zooniverse_Ib.add_row(row)   "
   ]
  },
  {
   "cell_type": "code",
   "execution_count": null,
   "metadata": {},
   "outputs": [],
   "source": [
    "fig = plt.figure(figsize = (10,10))\n",
    "plt.scatter(tprfpr_zooniverse_Ib[\"fpr_zooniverse\"], tprfpr_zooniverse_Ib[\"tpr_zooniverse\"], color = \"orange\")\n",
    "plt.plot(tprfpr_snid_Ib[\"fpr_snid\"], tprfpr_snid_Ib[\"tpr_snid\"])\n",
    "plt.title(\"TPR vs. FPR for different # in agreement Ib\")\n",
    "plt.xlabel(\"False Positive Rate\")\n",
    "plt.ylabel(\"True Positive Rate\")"
   ]
  },
  {
   "cell_type": "code",
   "execution_count": null,
   "metadata": {},
   "outputs": [],
   "source": [
    "tprfpr_zooniverse_superfit_Ib = Table(\n",
    "                names=(\"phase\", \"agreement\", \"tpr_zooniverse\", \"fpr_zooniverse\"\n",
    "                ),\n",
    "                meta={\"name\": \"Comparison of Three Programs\"},\n",
    "                dtype=(\"float64\", \"float64\", \"float64\", \"float64\"\n",
    "                      ))\n",
    "for phase in phase_cutoffs:\n",
    "    for agreement in cutoffs:\n",
    "        truepositive = [0, 0, 0]\n",
    "        falsepositive = [0, 0, 0]\n",
    "        for i in joined_phase:\n",
    "            if(i[\"phase\"] > phase and i[\"agreement\"] >= agreement):\n",
    "                c_actual = \"Ib\" in i[\"Real_c\"]\n",
    "                \n",
    "                c_zoonivserse = \"Ib\" in i[\"Zooniverse_c\"]\n",
    "                c_superfit = \"Ib\" in i[\"SF_fit_1\"]\n",
    "                c = c_zoonivserse and c_superfit\n",
    "                if(c_actual == True and c == True):\n",
    "                    truepositive[0] += 1\n",
    "                if(c_actual != True and c == True):\n",
    "                    falsepositive[0] += 1\n",
    "        row = [phase, agreement, truepositive[0]/positiveII, falsepositive[0]/negativeII]\n",
    "        tprfpr_zooniverse_superfit_Ib.add_row(row)\n",
    "\n",
    "fig = plt.figure(figsize = (10,10))\n",
    "plt.scatter(tprfpr_zooniverse_superfit_Ib[\"fpr_zooniverse\"], tprfpr_zooniverse_superfit_Ib[\"tpr_zooniverse\"], color = \"orange\")\n",
    "plt.plot(tprfpr_snid_Ib[\"fpr_snid\"], tprfpr_snid_Ib[\"tpr_snid\"])\n",
    "plt.title(\"TPR vs. FPR for different # in agreement Ib (Superfit and Zooniverse)\")\n",
    "plt.xlabel(\"False Positive Rate\")\n",
    "plt.ylabel(\"True Positive Rate\")"
   ]
  },
  {
   "cell_type": "code",
   "execution_count": null,
   "metadata": {},
   "outputs": [],
   "source": [
    "negativeIc = 0\n",
    "positiveIc = 0\n",
    "for j in joined_phase:\n",
    "    correct_1a = \"Ic\" in j[\"classification\"]\n",
    "    if(correct_1a):\n",
    "        positiveIc += 1\n",
    "    if(not(correct_1a)):\n",
    "        negativeIc += 1"
   ]
  },
  {
   "cell_type": "code",
   "execution_count": null,
   "metadata": {},
   "outputs": [],
   "source": [
    "tprfpr_snid_Ic = Table(\n",
    "                names=(\"rlap\", \"tpr_snid\", \"fpr_snid\"\n",
    "                ),\n",
    "                meta={\"name\": \"Comparison of Three Programs\"},\n",
    "                dtype=(\"float64\", \"float64\", \"float64\"\n",
    "                      )) \n",
    "for rlap in np.linspace(0, 25, 251):\n",
    "    truepositive = [0, 0, 0]\n",
    "    falsepositive = [0, 0, 0]\n",
    "    for i in joined_phase:\n",
    "        if(i[\"rlap\"] >= rlap):\n",
    "            c_actual = \"Ic\" in i[\"Real_c\"]\n",
    "\n",
    "            c_snid = \"Ic\" in i[\"c_snid\"]\n",
    "            if(c_actual == True and c_snid == True):\n",
    "                truepositive[0] += 1\n",
    "            if(c_actual != True and c_snid == True):\n",
    "                falsepositive[0] += 1\n",
    "    row = [rlap, truepositive[0]/positiveIc, falsepositive[0]/negativeIc]\n",
    "    tprfpr_snid_Ic.add_row(row)"
   ]
  },
  {
   "cell_type": "code",
   "execution_count": null,
   "metadata": {},
   "outputs": [],
   "source": [
    "tprfpr_zooniverse_Ic = Table(\n",
    "                names=(\"phase\", \"agreement\", \"tpr_zooniverse\", \"fpr_zooniverse\"\n",
    "                ),\n",
    "                meta={\"name\": \"Comparison of Three Programs\"},\n",
    "                dtype=(\"float64\", \"float64\", \"float64\", \"float64\"\n",
    "                      )) \n",
    "for phase in phase_cutoffs:\n",
    "    for agreement in cutoffs:\n",
    "        truepositive = [0, 0, 0]\n",
    "        falsepositive = [0, 0, 0]\n",
    "        for i in joined_phase:\n",
    "            if(i[\"phase\"] > phase and i[\"agreement\"] >= agreement):\n",
    "                c_actual = \"Ic\" in i[\"Real_c\"]\n",
    "\n",
    "                c_snid = \"Ic\" in i[\"Zooniverse_c\"]\n",
    "                if(c_actual == True and c_snid == True):\n",
    "                    truepositive[0] += 1\n",
    "                if(c_actual != True and c_snid == True):\n",
    "                    falsepositive[0] += 1\n",
    "        row = [phase, agreement, truepositive[0]/positiveIc, falsepositive[0]/negativeIc]\n",
    "        tprfpr_zooniverse_Ic.add_row(row)   "
   ]
  },
  {
   "cell_type": "code",
   "execution_count": null,
   "metadata": {},
   "outputs": [],
   "source": [
    "fig = plt.figure(figsize = (10,10))\n",
    "plt.scatter(tprfpr_zooniverse_Ic[\"fpr_zooniverse\"], tprfpr_zooniverse_Ic[\"tpr_zooniverse\"], color = \"orange\")\n",
    "plt.plot(tprfpr_snid_Ic[\"fpr_snid\"], tprfpr_snid_Ic[\"tpr_snid\"])\n",
    "plt.title(\"TPR vs. FPR for different # in agreement Ic\")\n",
    "plt.xlabel(\"False Positive Rate\")\n",
    "plt.ylabel(\"True Positive Rate\")"
   ]
  },
  {
   "cell_type": "code",
   "execution_count": null,
   "metadata": {},
   "outputs": [],
   "source": [
    "tprfpr_zooniverse_superfit_Ic = Table(\n",
    "                names=(\"phase\", \"agreement\", \"tpr_zooniverse\", \"fpr_zooniverse\"\n",
    "                ),\n",
    "                meta={\"name\": \"Comparison of Three Programs\"},\n",
    "                dtype=(\"float64\", \"float64\", \"float64\", \"float64\"\n",
    "                      ))\n",
    "for phase in phase_cutoffs:\n",
    "    for agreement in cutoffs:\n",
    "        truepositive = [0, 0, 0]\n",
    "        falsepositive = [0, 0, 0]\n",
    "        for i in joined_phase:\n",
    "            if(i[\"phase\"] > phase and i[\"agreement\"] >= agreement):\n",
    "                c_actual = \"Ic\" in i[\"Real_c\"]\n",
    "                \n",
    "                c_zoonivserse = \"Ic\" in i[\"Zooniverse_c\"]\n",
    "                c_superfit = \"Ic\" in i[\"SF_fit_1\"]\n",
    "                c = c_zoonivserse and c_superfit\n",
    "                if(c_actual == True and c == True):\n",
    "                    truepositive[0] += 1\n",
    "                if(c_actual != True and c == True):\n",
    "                    falsepositive[0] += 1\n",
    "        row = [phase, agreement, truepositive[0]/positiveII, falsepositive[0]/negativeII]\n",
    "        tprfpr_zooniverse_superfit_Ic.add_row(row)\n",
    "\n",
    "fig = plt.figure(figsize = (10,10))\n",
    "plt.scatter(tprfpr_zooniverse_superfit_Ic[\"fpr_zooniverse\"], tprfpr_zooniverse_superfit_Ic[\"tpr_zooniverse\"], color = \"orange\")\n",
    "plt.plot(tprfpr_snid_Ic[\"fpr_snid\"], tprfpr_snid_Ic[\"tpr_snid\"])\n",
    "plt.title(\"TPR vs. FPR for different # in agreement Ic (Superfit and Zooniverse)\")\n",
    "plt.xlabel(\"False Positive Rate\")\n",
    "plt.ylabel(\"True Positive Rate\")"
   ]
  },
  {
   "cell_type": "code",
   "execution_count": null,
   "metadata": {},
   "outputs": [],
   "source": [
    "positiveIbc = 0\n",
    "negativeIbc = 0\n",
    "for j in joined_phase:\n",
    "    correct_1a = \"Ib\" in j[\"classification\"] or \"Ic\" in j[\"classification\"]\n",
    "    if(correct_1a):\n",
    "        positiveIbc += 1\n",
    "    if(not(correct_1a)):\n",
    "        negativeIbc += 1"
   ]
  },
  {
   "cell_type": "code",
   "execution_count": null,
   "metadata": {},
   "outputs": [],
   "source": [
    "tprfpr_snid_Ibc = Table(\n",
    "                names=(\"rlap\", \"tpr_snid\", \"fpr_snid\"\n",
    "                ),\n",
    "                meta={\"name\": \"Comparison of Three Programs\"},\n",
    "                dtype=(\"float64\", \"float64\", \"float64\"\n",
    "                      )) \n",
    "for rlap in np.linspace(0, 25, 251):\n",
    "    truepositive = [0, 0, 0]\n",
    "    falsepositive = [0, 0, 0]\n",
    "    for i in joined_phase:\n",
    "        if(i[\"rlap\"] >= rlap):\n",
    "            c_actual = \"Ib\" in i[\"Real_c\"] or \"Ic\" in i[\"Real_c\"]\n",
    "            c_snid = \"Ib\" in i[\"Zooniverse_c\"] or \"Ic\" in i[\"Zooniverse_c\"]\n",
    "            \n",
    "            if(c_actual == True and c_snid == True):\n",
    "                truepositive[0] += 1\n",
    "            if(c_actual != True and c_snid == True):\n",
    "                falsepositive[0] += 1\n",
    "    row = [rlap, truepositive[0]/positiveIbc, falsepositive[0]/negativeIbc]\n",
    "    tprfpr_snid_Ibc.add_row(row)"
   ]
  },
  {
   "cell_type": "code",
   "execution_count": null,
   "metadata": {},
   "outputs": [],
   "source": [
    "tprfpr_zooniverse_Ibc = Table(\n",
    "                names=(\"phase\", \"agreement\", \"tpr_zooniverse\", \"fpr_zooniverse\"\n",
    "                ),\n",
    "                meta={\"name\": \"Comparison of Three Programs\"},\n",
    "                dtype=(\"float64\", \"float64\", \"float64\", \"float64\"\n",
    "                      )) \n",
    "for phase in phase_cutoffs:\n",
    "    for agreement in cutoffs:\n",
    "        truepositive = [0, 0, 0]\n",
    "        falsepositive = [0, 0, 0]\n",
    "        for i in joined_phase:\n",
    "            if(i[\"phase\"] > phase and i[\"agreement\"] >= agreement):\n",
    "                c_actual = \"Ib\" in i[\"Real_c\"] or \"Ic\" in i[\"Real_c\"]\n",
    "                \n",
    "                c_zoonivserse = \"Ib\" in i[\"Zooniverse_c\"] or \"Ic\" in i[\"Zooniverse_c\"]\n",
    "                c_superfit = \"Ib\" in i[\"SF_fit_1\"] or \"Ic\" in i[\"SF_fit_1\"]\n",
    "                c = c_zoonivserse and c_superfit\n",
    "                \n",
    "                if(c_actual == True and c == True):\n",
    "                    truepositive[0] += 1\n",
    "                if(c_actual != True and c == True):\n",
    "                    falsepositive[0] += 1\n",
    "        row = [phase, agreement, truepositive[0]/positiveIbc, falsepositive[0]/negativeIbc]\n",
    "        tprfpr_zooniverse_Ibc.add_row(row)   "
   ]
  },
  {
   "cell_type": "code",
   "execution_count": null,
   "metadata": {},
   "outputs": [],
   "source": [
    "fig = plt.figure(figsize = (10,10))\n",
    "plt.scatter(tprfpr_zooniverse_Ibc[\"fpr_zooniverse\"], tprfpr_zooniverse_Ibc[\"tpr_zooniverse\"], color = \"orange\")\n",
    "plt.plot(tprfpr_snid_Ibc[\"fpr_snid\"], tprfpr_snid_Ibc[\"tpr_snid\"])\n",
    "plt.title(\"TPR vs. FPR for different # in agreement Ic or Ib (Superfit and Zooniverse)\")\n",
    "plt.xlabel(\"False Positive Rate\")\n",
    "plt.ylabel(\"True Positive Rate\")\n",
    "plt.xlim(0, 0.025)\n",
    "plt.ylim(0, .5)"
   ]
  },
  {
   "cell_type": "code",
   "execution_count": null,
   "metadata": {},
   "outputs": [],
   "source": [
    "is_sedm = []\n",
    "not_sedm = []\n",
    "for i in joined_phase[\"Version\"]:\n",
    "    is_sedm.append(\"P60\" in i)\n",
    "    not_sedm.append(not(\"P60\" in i))"
   ]
  },
  {
   "cell_type": "code",
   "execution_count": null,
   "metadata": {},
   "outputs": [],
   "source": [
    "negativeIa = 0\n",
    "positiveIa = 0\n",
    "for j in joined_phase[is_sedm]:\n",
    "    correct_1a = \"Ia\" in j[\"classification\"]\n",
    "    if(correct_1a):\n",
    "        positiveIa += 1\n",
    "    if(not(correct_1a)):\n",
    "        negativeIa += 1\n",
    "\n",
    "tprfpr_zooniverse_superfit_Ia = Table(\n",
    "                names=(\"phase\", \"agreement\", \"tpr_zooniverse\", \"fpr_zooniverse\"\n",
    "                ),\n",
    "                meta={\"name\": \"Comparison of Three Programs\"},\n",
    "                dtype=(\"float64\", \"float64\", \"float64\", \"float64\"\n",
    "                      ))\n",
    "for phase in phase_cutoffs:\n",
    "    for agreement in cutoffs:\n",
    "        truepositive = [0, 0, 0]\n",
    "        falsepositive = [0, 0, 0]\n",
    "        for i in joined_phase[is_sedm]:\n",
    "            if(i[\"phase\"] > phase and i[\"agreement\"] >= agreement):\n",
    "                c_actual = \"Ia\" in i[\"Real_c\"]\n",
    "                \n",
    "                c_zoonivserse = \"Ia\" in i[\"Zooniverse_c\"]\n",
    "                c_superfit = \"Ia\" in i[\"SF_fit_1\"]\n",
    "                c = c_zoonivserse and c_superfit\n",
    "                if(c_actual == True and c == True):\n",
    "                    truepositive[0] += 1\n",
    "                if(c_actual != True and c == True):\n",
    "                    falsepositive[0] += 1\n",
    "        row = [phase, agreement, truepositive[0]/positiveIa, falsepositive[0]/negativeIa]\n",
    "        tprfpr_zooniverse_superfit_Ia.add_row(row)\n",
    "\n",
    "fig = plt.figure(figsize = (10,10))\n",
    "plt.scatter(tprfpr_zooniverse_superfit_Ia[\"fpr_zooniverse\"], tprfpr_zooniverse_superfit_Ia[\"tpr_zooniverse\"], color = \"orange\")\n",
    "plt.plot(tprfpr_snid[\"fpr_snid\"], tprfpr_snid[\"tpr_snid\"])\n",
    "plt.title(\"TPR vs. FPR for different # in agreement Ia (Superfit and Zooniverse) SEDM\")\n",
    "plt.xlabel(\"False Positive Rate\")\n",
    "plt.ylabel(\"True Positive Rate\")"
   ]
  },
  {
   "cell_type": "code",
   "execution_count": null,
   "metadata": {},
   "outputs": [],
   "source": [
    "negativeIa = 0\n",
    "positiveIa = 0\n",
    "for j in joined_phase[not_sedm]:\n",
    "    correct_1a = \"Ia\" in j[\"classification\"]\n",
    "    if(correct_1a):\n",
    "        positiveIa += 1\n",
    "    if(not(correct_1a)):\n",
    "        negativeIa += 1\n",
    "\n",
    "tprfpr_zooniverse_superfit_Ia = Table(\n",
    "                names=(\"phase\", \"agreement\", \"tpr_zooniverse\", \"fpr_zooniverse\"\n",
    "                ),\n",
    "                meta={\"name\": \"Comparison of Three Programs\"},\n",
    "                dtype=(\"float64\", \"float64\", \"float64\", \"float64\"\n",
    "                      ))\n",
    "for phase in phase_cutoffs:\n",
    "    for agreement in cutoffs:\n",
    "        truepositive = [0, 0, 0]\n",
    "        falsepositive = [0, 0, 0]\n",
    "        for i in joined_phase[not_sedm]:\n",
    "            if(i[\"phase\"] > phase and i[\"agreement\"] >= agreement):\n",
    "                c_actual = \"Ia\" in i[\"Real_c\"]\n",
    "                \n",
    "                c_zoonivserse = \"Ia\" in i[\"Zooniverse_c\"]\n",
    "                c_superfit = \"Ia\" in i[\"SF_fit_1\"]\n",
    "                c = c_zoonivserse and c_superfit\n",
    "                if(c_actual == True and c == True):\n",
    "                    truepositive[0] += 1\n",
    "                if(c_actual != True and c == True):\n",
    "                    falsepositive[0] += 1\n",
    "        row = [phase, agreement, truepositive[0]/positiveIa, falsepositive[0]/negativeIa]\n",
    "        tprfpr_zooniverse_superfit_Ia.add_row(row)\n",
    "\n",
    "fig = plt.figure(figsize = (10,10))\n",
    "plt.scatter(tprfpr_zooniverse_superfit_Ia[\"fpr_zooniverse\"], tprfpr_zooniverse_superfit_Ia[\"tpr_zooniverse\"], color = \"orange\")\n",
    "plt.plot(tprfpr_snid[\"fpr_snid\"], tprfpr_snid[\"tpr_snid\"])\n",
    "plt.title(\"TPR vs. FPR for different # in agreement Ia (Superfit and Zooniverse) NOT SEDM\")\n",
    "plt.xlabel(\"False Positive Rate\")\n",
    "plt.ylabel(\"True Positive Rate\")"
   ]
  },
  {
   "cell_type": "code",
   "execution_count": null,
   "metadata": {},
   "outputs": [],
   "source": [
    "tprfpr_zooniverse_superfit_Ia"
   ]
  },
  {
   "cell_type": "code",
   "execution_count": null,
   "metadata": {},
   "outputs": [],
   "source": []
  }
 ],
 "metadata": {
  "kernelspec": {
   "display_name": "Python 3",
   "language": "python",
   "name": "python3"
  },
  "language_info": {
   "codemirror_mode": {
    "name": "ipython",
    "version": 3
   },
   "file_extension": ".py",
   "mimetype": "text/x-python",
   "name": "python",
   "nbconvert_exporter": "python",
   "pygments_lexer": "ipython3",
   "version": "3.8.5"
  }
 },
 "nbformat": 4,
 "nbformat_minor": 4
}
