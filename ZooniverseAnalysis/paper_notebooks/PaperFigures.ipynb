{
 "cells": [
  {
   "cell_type": "code",
   "execution_count": 2,
   "metadata": {},
   "outputs": [],
   "source": [
    "import numpy as np\n",
    "import pandas as pd\n",
    "import glob\n",
    "from astropy.table import Table\n",
    "import matplotlib.pyplot as plt\n",
    "import json \n",
    "import collections\n",
    "import astropy"
   ]
  },
  {
   "cell_type": "code",
   "execution_count": 11,
   "metadata": {},
   "outputs": [],
   "source": [
    "all_SEDM = Table.read(\"D:/AllSNe/sample/SEDM_ML_sample.ascii\", format = \"ascii\")"
   ]
  },
  {
   "cell_type": "code",
   "execution_count": 13,
   "metadata": {},
   "outputs": [
    {
     "data": {
      "text/html": [
       "&lt;Column name=&apos;col1&apos; dtype=&apos;str12&apos; length=5129&gt;\n",
       "<table>\n",
       "<tr><td>AT2018hrg</td></tr>\n",
       "<tr><td>SN2017iuk</td></tr>\n",
       "<tr><td>ZTF17aaajnki</td></tr>\n",
       "<tr><td>ZTF17aaaobyl</td></tr>\n",
       "<tr><td>ZTF17aaapufz</td></tr>\n",
       "<tr><td>ZTF17aaaukqn</td></tr>\n",
       "<tr><td>ZTF17aaawgkc</td></tr>\n",
       "<tr><td>ZTF17aaayjzy</td></tr>\n",
       "<tr><td>ZTF17aaazdba</td></tr>\n",
       "<tr><td>ZTF17aabcpcp</td></tr>\n",
       "<tr><td>ZTF17aaburzk</td></tr>\n",
       "<tr><td>ZTF17aadcbei</td></tr>\n",
       "<tr><td>...</td></tr>\n",
       "<tr><td>ZTF21aawmujq</td></tr>\n",
       "<tr><td>ZTF21aawtewf</td></tr>\n",
       "<tr><td>ZTF21aaxtije</td></tr>\n",
       "<tr><td>ZTF21aaxtjvm</td></tr>\n",
       "<tr><td>ZTF21aaxxihx</td></tr>\n",
       "<tr><td>ZTF21aaxxoei</td></tr>\n",
       "<tr><td>ZTF21aaydwzt</td></tr>\n",
       "<tr><td>ZTF21aayokph</td></tr>\n",
       "<tr><td>ZTF21aayrbnn</td></tr>\n",
       "<tr><td>ZTF21abaiono</td></tr>\n",
       "<tr><td>ZTF21abcgnqn</td></tr>\n",
       "<tr><td>ZTF21abdmevk</td></tr>\n",
       "</table>"
      ],
      "text/plain": [
       "<Column name='col1' dtype='str12' length=5129>\n",
       "   AT2018hrg\n",
       "   SN2017iuk\n",
       "ZTF17aaajnki\n",
       "ZTF17aaaobyl\n",
       "ZTF17aaapufz\n",
       "ZTF17aaaukqn\n",
       "ZTF17aaawgkc\n",
       "ZTF17aaayjzy\n",
       "ZTF17aaazdba\n",
       "ZTF17aabcpcp\n",
       "ZTF17aaburzk\n",
       "ZTF17aadcbei\n",
       "         ...\n",
       "ZTF21aawmujq\n",
       "ZTF21aawtewf\n",
       "ZTF21aaxtije\n",
       "ZTF21aaxtjvm\n",
       "ZTF21aaxxihx\n",
       "ZTF21aaxxoei\n",
       "ZTF21aaydwzt\n",
       "ZTF21aayokph\n",
       "ZTF21aayrbnn\n",
       "ZTF21abaiono\n",
       "ZTF21abcgnqn\n",
       "ZTF21abdmevk"
      ]
     },
     "execution_count": 13,
     "metadata": {},
     "output_type": "execute_result"
    }
   ],
   "source": [
    "np.unique(all_SEDM[\"col1\"])"
   ]
  },
  {
   "cell_type": "code",
   "execution_count": 3,
   "metadata": {},
   "outputs": [],
   "source": [
    "zooniverse_results = Table.from_pandas(pd.read_csv(\"zooniverse_results_ZTFI.csv\"))\n",
    "superfit_results = Table.from_pandas(pd.read_csv(r\"C:\\Users\\20xha\\Documents\\Caltech\\Research\\superfit\\superfit\\superfit_classes_ZTFI.csv\"))"
   ]
  },
  {
   "cell_type": "code",
   "execution_count": 10,
   "metadata": {},
   "outputs": [],
   "source": [
    "combined = astropy.table.join(superfit_results, zooniverse_results, keys = [\"Version\"])"
   ]
  },
  {
   "cell_type": "code",
   "execution_count": 11,
   "metadata": {},
   "outputs": [],
   "source": [
    "TypeII_Final_Results = Table.from_pandas(pd.read_csv(\"TypeII_Final.csv\"))"
   ]
  },
  {
   "cell_type": "code",
   "execution_count": 13,
   "metadata": {},
   "outputs": [],
   "source": [
    "final_rcf_table = Table.from_pandas(pd.read_hdf(r\"C:\\Users\\20xha\\Documents\\Caltech\\Research/final_rcf_table.h5\"))"
   ]
  },
  {
   "cell_type": "code",
   "execution_count": 15,
   "metadata": {},
   "outputs": [
    {
     "data": {
      "text/html": [
       "<i>Table length=356</i>\n",
       "<table id=\"table1979145100880\" class=\"table-striped table-bordered table-condensed\">\n",
       "<thead><tr><th>ZTF_Name</th><th>spectra_file</th><th>sn_type</th><th>superfit_sn_type</th><th>zooniverse_sn_type</th><th>z_sn</th><th>in_rcfI</th><th>sn_type_rcfI</th><th>in_marshall</th><th>sn_type_marshall</th></tr></thead>\n",
       "<thead><tr><th>str12</th><th>str39</th><th>str2</th><th>str8</th><th>str7</th><th>float64</th><th>bool</th><th>str6</th><th>bool</th><th>str8</th></tr></thead>\n",
       "<tr><td>ZTF18aabssth</td><td>ZTF18aabssth_20180309_P60_v1.ascii</td><td>II</td><td>II</td><td>IIb</td><td>0.0374</td><td>True</td><td>II</td><td>True</td><td>II</td></tr>\n",
       "<tr><td>ZTF18aabxlsv</td><td>ZTF18aabxlsv_20181110_Keck1_v1.ascii</td><td>II</td><td>IIb</td><td>IIn</td><td>0.0497</td><td>True</td><td>Ib</td><td>True</td><td>Ib</td></tr>\n",
       "<tr><td>ZTF18aabybkt</td><td>ZTF18aabybkt_20180321_APO_v1.ascii</td><td>II</td><td>II</td><td>II-norm</td><td>0.0074</td><td>False</td><td>--</td><td>True</td><td>II</td></tr>\n",
       "<tr><td>ZTF18aaccmnh</td><td>ZTF18aaccmnh_20180517_P200_v1.ascii</td><td>II</td><td>II</td><td>II-norm</td><td>0.0316</td><td>False</td><td>--</td><td>True</td><td>II</td></tr>\n",
       "<tr><td>ZTF18aaeoiwu</td><td>ZTF18aaeoiwu_20191019_P60_v1.ascii</td><td>II</td><td>IIn</td><td>II-norm</td><td>0.6259</td><td>False</td><td>--</td><td>True</td><td>star</td></tr>\n",
       "<tr><td>ZTF18aagpzjk</td><td>ZTF18aagpzjk_20180410_P200_v1.ascii</td><td>II</td><td>II</td><td>II-norm</td><td>0.0114</td><td>True</td><td>II</td><td>True</td><td>II</td></tr>\n",
       "<tr><td>ZTF18aahfqbc</td><td>ZTF18aahfqbc_20180411_APO_v1.ascii</td><td>II</td><td>II</td><td>II-norm</td><td>0.0011</td><td>True</td><td>II</td><td>True</td><td>II</td></tr>\n",
       "<tr><td>ZTF18aahnnly</td><td>ZTF18aahnnly_20180508_P200_v1.ascii</td><td>II</td><td>IIn</td><td>II-norm</td><td>0.0291</td><td>False</td><td>--</td><td>True</td><td>II</td></tr>\n",
       "<tr><td>ZTF18aahqfee</td><td>ZTF18aahqfee_20180513_DCT_v1.ascii</td><td>II</td><td>II</td><td>II-norm</td><td>0.039</td><td>False</td><td>--</td><td>True</td><td>IIP</td></tr>\n",
       "<tr><td>ZTF18aaikcbb</td><td>ZTF18aaikcbb_20180616_P200_v2.ascii</td><td>II</td><td>II</td><td>II-norm</td><td>0.0454</td><td>False</td><td>--</td><td>True</td><td>II</td></tr>\n",
       "<tr><td>...</td><td>...</td><td>...</td><td>...</td><td>...</td><td>...</td><td>...</td><td>...</td><td>...</td><td>...</td></tr>\n",
       "<tr><td>ZTF20achvdtx</td><td>ZTF20achvdtx_20201018_P60_v1.ascii</td><td>II</td><td>II</td><td>II-norm</td><td>0.0307</td><td>False</td><td>--</td><td>True</td><td>II</td></tr>\n",
       "<tr><td>ZTF20acjbhhp</td><td>ZTF20acjbhhp_20201208_LT_v1.ascii</td><td>II</td><td>SLSN-IIn</td><td>II-norm</td><td>0.0502</td><td>False</td><td>--</td><td>True</td><td>II</td></tr>\n",
       "<tr><td>ZTF20aclfmwn</td><td>ZTF20aclfmwn_20201030_GTC_v1.ascii</td><td>II</td><td>IIb</td><td>IIb</td><td>0.0411</td><td>False</td><td>--</td><td>True</td><td>IIb</td></tr>\n",
       "<tr><td>ZTF20acnrvfm</td><td>ZTF20acnrvfm_20201115_P60_v1.ascii</td><td>II</td><td>IIn</td><td>II-norm</td><td>0.0257</td><td>False</td><td>--</td><td>True</td><td>II</td></tr>\n",
       "<tr><td>ZTF20acnznms</td><td>ZTF20acnznms_20201212_Keck1_v1.ascii</td><td>II</td><td>II</td><td>II-norm</td><td>0.203</td><td>False</td><td>--</td><td>True</td><td>SLSN-II</td></tr>\n",
       "<tr><td>ZTF20actawpa</td><td>ZTF20actawpa_20201207_LT_v1.ascii</td><td>II</td><td>II</td><td>II-norm</td><td>0.02</td><td>False</td><td>--</td><td>True</td><td>II</td></tr>\n",
       "<tr><td>ZTF21aaquyqa</td><td>ZTF21aaquyqa_20210513_P200_v1.ascii</td><td>II</td><td>IIb</td><td>IIb</td><td>0.0363</td><td>False</td><td>--</td><td>True</td><td>IIb</td></tr>\n",
       "<tr><td>ZTF21aawmtug</td><td>ZTF21aawmtug_20210510_NOT_v1.ascii</td><td>II</td><td>IIn</td><td>II-norm</td><td>0.0403</td><td>False</td><td>--</td><td>True</td><td>II</td></tr>\n",
       "<tr><td>ZTF21aawtewf</td><td>ZTF21aawtewf_20210513_NOT_v1.ascii</td><td>II</td><td>II</td><td>II-norm</td><td>0.0322</td><td>False</td><td>--</td><td>True</td><td>Ia</td></tr>\n",
       "<tr><td>ZTF21aaxxoei</td><td>ZTF21aaxxoei_20210513_NOT_v1.ascii</td><td>II</td><td>II</td><td>II-norm</td><td>0.0322</td><td>False</td><td>--</td><td>True</td><td>II</td></tr>\n",
       "</table>"
      ],
      "text/plain": [
       "<Table length=356>\n",
       "  ZTF_Name               spectra_file             ... sn_type_marshall\n",
       "   str12                    str39                 ...       str8      \n",
       "------------ ------------------------------------ ... ----------------\n",
       "ZTF18aabssth   ZTF18aabssth_20180309_P60_v1.ascii ...               II\n",
       "ZTF18aabxlsv ZTF18aabxlsv_20181110_Keck1_v1.ascii ...               Ib\n",
       "ZTF18aabybkt   ZTF18aabybkt_20180321_APO_v1.ascii ...               II\n",
       "ZTF18aaccmnh  ZTF18aaccmnh_20180517_P200_v1.ascii ...               II\n",
       "ZTF18aaeoiwu   ZTF18aaeoiwu_20191019_P60_v1.ascii ...             star\n",
       "ZTF18aagpzjk  ZTF18aagpzjk_20180410_P200_v1.ascii ...               II\n",
       "ZTF18aahfqbc   ZTF18aahfqbc_20180411_APO_v1.ascii ...               II\n",
       "ZTF18aahnnly  ZTF18aahnnly_20180508_P200_v1.ascii ...               II\n",
       "ZTF18aahqfee   ZTF18aahqfee_20180513_DCT_v1.ascii ...              IIP\n",
       "ZTF18aaikcbb  ZTF18aaikcbb_20180616_P200_v2.ascii ...               II\n",
       "         ...                                  ... ...              ...\n",
       "ZTF20achvdtx   ZTF20achvdtx_20201018_P60_v1.ascii ...               II\n",
       "ZTF20acjbhhp    ZTF20acjbhhp_20201208_LT_v1.ascii ...               II\n",
       "ZTF20aclfmwn   ZTF20aclfmwn_20201030_GTC_v1.ascii ...              IIb\n",
       "ZTF20acnrvfm   ZTF20acnrvfm_20201115_P60_v1.ascii ...               II\n",
       "ZTF20acnznms ZTF20acnznms_20201212_Keck1_v1.ascii ...          SLSN-II\n",
       "ZTF20actawpa    ZTF20actawpa_20201207_LT_v1.ascii ...               II\n",
       "ZTF21aaquyqa  ZTF21aaquyqa_20210513_P200_v1.ascii ...              IIb\n",
       "ZTF21aawmtug   ZTF21aawmtug_20210510_NOT_v1.ascii ...               II\n",
       "ZTF21aawtewf   ZTF21aawtewf_20210513_NOT_v1.ascii ...               Ia\n",
       "ZTF21aaxxoei   ZTF21aaxxoei_20210513_NOT_v1.ascii ...               II"
      ]
     },
     "execution_count": 15,
     "metadata": {},
     "output_type": "execute_result"
    }
   ],
   "source": [
    "TypeII_Final_Results"
   ]
  },
  {
   "cell_type": "code",
   "execution_count": 19,
   "metadata": {},
   "outputs": [
    {
     "data": {
      "text/html": [
       "&lt;Column name=&apos;ZTF_Name&apos; dtype=&apos;str12&apos; length=10649&gt;\n",
       "<table>\n",
       "<tr><td>AT2018hrg</td></tr>\n",
       "<tr><td>SN2017iuk</td></tr>\n",
       "<tr><td>ZTF17aaajnki</td></tr>\n",
       "<tr><td>ZTF17aaajnki</td></tr>\n",
       "<tr><td>ZTF17aaapufz</td></tr>\n",
       "<tr><td>ZTF17aaaukqn</td></tr>\n",
       "<tr><td>ZTF17aaawgkc</td></tr>\n",
       "<tr><td>ZTF17aaayjzy</td></tr>\n",
       "<tr><td>ZTF17aaazdba</td></tr>\n",
       "<tr><td>ZTF17aaazdba</td></tr>\n",
       "<tr><td>ZTF17aaazdba</td></tr>\n",
       "<tr><td>ZTF17aaazdba</td></tr>\n",
       "<tr><td>...</td></tr>\n",
       "<tr><td>ZTF21aayokph</td></tr>\n",
       "<tr><td>ZTF21aayokph</td></tr>\n",
       "<tr><td>ZTF21aayokph</td></tr>\n",
       "<tr><td>ZTF21aayokph</td></tr>\n",
       "<tr><td>ZTF21aayrbnn</td></tr>\n",
       "<tr><td>ZTF21abaiono</td></tr>\n",
       "<tr><td>ZTF21abaiono</td></tr>\n",
       "<tr><td>ZTF21abaiono</td></tr>\n",
       "<tr><td>ZTF21abaiono</td></tr>\n",
       "<tr><td>ZTF21abcgnqn</td></tr>\n",
       "<tr><td>ZTF21abcgnqn</td></tr>\n",
       "<tr><td>ZTF21abdmevk</td></tr>\n",
       "</table>"
      ],
      "text/plain": [
       "<Column name='ZTF_Name' dtype='str12' length=10649>\n",
       "   AT2018hrg\n",
       "   SN2017iuk\n",
       "ZTF17aaajnki\n",
       "ZTF17aaajnki\n",
       "ZTF17aaapufz\n",
       "ZTF17aaaukqn\n",
       "ZTF17aaawgkc\n",
       "ZTF17aaayjzy\n",
       "ZTF17aaazdba\n",
       "ZTF17aaazdba\n",
       "ZTF17aaazdba\n",
       "ZTF17aaazdba\n",
       "         ...\n",
       "ZTF21aayokph\n",
       "ZTF21aayokph\n",
       "ZTF21aayokph\n",
       "ZTF21aayokph\n",
       "ZTF21aayrbnn\n",
       "ZTF21abaiono\n",
       "ZTF21abaiono\n",
       "ZTF21abaiono\n",
       "ZTF21abaiono\n",
       "ZTF21abcgnqn\n",
       "ZTF21abcgnqn\n",
       "ZTF21abdmevk"
      ]
     },
     "execution_count": 19,
     "metadata": {},
     "output_type": "execute_result"
    }
   ],
   "source": [
    "combined[\"ZTF_Name\"]"
   ]
  },
  {
   "cell_type": "code",
   "execution_count": null,
   "metadata": {},
   "outputs": [],
   "source": []
  }
 ],
 "metadata": {
  "kernelspec": {
   "display_name": "Python 3",
   "language": "python",
   "name": "python3"
  },
  "language_info": {
   "codemirror_mode": {
    "name": "ipython",
    "version": 3
   },
   "file_extension": ".py",
   "mimetype": "text/x-python",
   "name": "python",
   "nbconvert_exporter": "python",
   "pygments_lexer": "ipython3",
   "version": "3.8.5"
  }
 },
 "nbformat": 4,
 "nbformat_minor": 4
}
