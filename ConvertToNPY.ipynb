{
 "cells": [
  {
   "cell_type": "code",
   "execution_count": 2,
   "metadata": {},
   "outputs": [],
   "source": [
    "import subprocess\n",
    "import shlex\n",
    "import pandas as pd\n",
    "import numpy as np\n",
    "from astropy.table import Table\n",
    "from astropy.table import Column\n",
    "import os\n",
    "import glob2\n",
    "import matplotlib.pyplot as plt\n",
    "from matplotlib.backends.backend_pdf import PdfPages\n",
    "import SNID_Analysis\n",
    "import numpy as np\n",
    "import gc\n",
    "import glob\n",
    "import astropy"
   ]
  },
  {
   "cell_type": "code",
   "execution_count": 3,
   "metadata": {},
   "outputs": [],
   "source": [
    "sample = Table.read(\"/home/xhall/Documents/NewZTF/ML_sample.ascii\", format = \"ascii\")\n",
    "sample.rename_column('col1', 'ZTF_Name')\n",
    "sample.rename_column('col2', \"Class\")\n",
    "sample.rename_column('col8', \"Version\")\n",
    "sample_2018 = Table.from_pandas(pd.read_hdf(\"/home/xhall/Documents/NewZTF/final_rcf_table.h5\"))\n",
    "joined_sample = astropy.table.join(sample_2018,sample)"
   ]
  },
  {
   "cell_type": "code",
   "execution_count": 5,
   "metadata": {},
   "outputs": [
    {
     "data": {
      "text/html": [
       "<i>Table length=2</i>\n",
       "<table id=\"table140304507005968\" class=\"table-striped table-bordered table-condensed\">\n",
       "<thead><tr><th>ZTF_Name</th><th>TNS_Name</th><th>discovered_by</th><th>tns_internal_name</th><th>RA_sn</th><th>Dec_sn</th><th>sn_type</th><th>z_sn</th><th>g_jd_max</th><th>g_max</th><th>g_unc_max</th><th>r_jd_max</th><th>r_max</th><th>r_unc_max</th><th>ebv</th><th>host_name_PS1</th><th>RA_host_PS1</th><th>Dec_host_PS1</th><th>z_host</th><th>sep</th><th>projected_kpc</th><th>gKron_PS1</th><th>rKron_PS1</th><th>iKron_PS1</th><th>zKron_PS1</th><th>yKron_PS1</th><th>w1_host</th><th>w2_host</th><th>ebv_host</th></tr></thead>\n",
       "<thead><tr><th>str12</th><th>str9</th><th>str13</th><th>str29</th><th>float64</th><th>float64</th><th>str9</th><th>float64</th><th>float64</th><th>float64</th><th>float64</th><th>float64</th><th>float64</th><th>float64</th><th>float64</th><th>str21</th><th>float64</th><th>float64</th><th>float64</th><th>float64</th><th>float64</th><th>float64</th><th>float64</th><th>float64</th><th>float64</th><th>float64</th><th>float64</th><th>float64</th><th>float64</th></tr></thead>\n",
       "<tr><td>ZTF18abdpvnd</td><td>SN2018dvf</td><td>ZTF</td><td>ZTF18abdpvnd</td><td>348.5225938789628</td><td>29.63338654031601</td><td>Ia-SC</td><td>0.046</td><td>2458319.9146181</td><td>17.395627975463867</td><td>0.05964351445436478</td><td>2458322.9104051</td><td>17.346988677978516</td><td>0.04465080052614212</td><td>0.09536</td><td>PSO J348.5231+29.6327</td><td>348.52308867</td><td>29.63266739</td><td>-999.0</td><td>3.0165845563174662</td><td>2.725699600454129</td><td>20.354299545288086</td><td>-999.0</td><td>18.842500686645508</td><td>-999.0</td><td>-999.0</td><td>--</td><td>--</td><td>0.09543</td></tr>\n",
       "<tr><td>ZTF18acbvpzj</td><td>SN2018hsf</td><td>ZTF</td><td>ZTF18acbvpzj</td><td>40.053279069908214</td><td>-19.97914178289156</td><td>Ia-SC</td><td>0.113</td><td>2458422.8998032</td><td>18.9380035400391</td><td>0.15795561671257</td><td>2458437.7931019</td><td>18.9663600921631</td><td>0.111864477396011</td><td>0.028110000000000003</td><td>PSO J040.0537-19.9799</td><td>40.05365888</td><td>-19.97985545</td><td>-999.0</td><td>2.872644131502162</td><td>5.898440682799731</td><td>18.242599487304688</td><td>17.495399475097656</td><td>17.197500228881836</td><td>16.842899322509766</td><td>16.97410011291504</td><td>16.783651129679473</td><td>17.237647571764978</td><td>0.02812</td></tr>\n",
       "</table>"
      ],
      "text/plain": [
       "<Table length=2>\n",
       "  ZTF_Name    TNS_Name discovered_by ...      w2_host       ebv_host\n",
       "   str12        str9       str13     ...      float64       float64 \n",
       "------------ --------- ------------- ... ------------------ --------\n",
       "ZTF18abdpvnd SN2018dvf           ZTF ...                 --  0.09543\n",
       "ZTF18acbvpzj SN2018hsf           ZTF ... 17.237647571764978  0.02812"
      ]
     },
     "execution_count": 5,
     "metadata": {},
     "output_type": "execute_result"
    }
   ],
   "source": [
    "sample_2018[np.where(sample_2018[\"sn_type\"] == \"Ia-SC\")]"
   ]
  },
  {
   "cell_type": "code",
   "execution_count": 18,
   "metadata": {},
   "outputs": [
    {
     "data": {
      "text/plain": [
       "1559"
      ]
     },
     "execution_count": 18,
     "metadata": {},
     "output_type": "execute_result"
    }
   ],
   "source": [
    "len(joined_sample)"
   ]
  },
  {
   "cell_type": "code",
   "execution_count": 19,
   "metadata": {},
   "outputs": [],
   "source": [
    "#directory = \"/home/xhall/Documents/NewZTF/SNIDoutput/\"\n",
    "#directory = \"/home/xhall/Documents/NewZTF/GoodExampleOutput/\"\n",
    "#directory = \"/home/xhall/Documents/NewZTF/AllBrightTypes/\"\n",
    "directory = \"/home/xhall/Documents/NewZTF/sample_2018/SNIDoutput/\""
   ]
  },
  {
   "cell_type": "code",
   "execution_count": 20,
   "metadata": {},
   "outputs": [
    {
     "name": "stdout",
     "output_type": "stream",
     "text": [
      "1543\n"
     ]
    }
   ],
   "source": [
    "file_list = np.sort(glob.glob(directory+ \"*/*.output\"))\n",
    "print(len(file_list))"
   ]
  },
  {
   "cell_type": "code",
   "execution_count": 21,
   "metadata": {},
   "outputs": [
    {
     "name": "stdout",
     "output_type": "stream",
     "text": [
      "0 8959\n",
      "100 8959\n",
      "200 8959\n",
      "300 8959\n",
      "400 8959\n",
      "500 8959\n",
      "600 8959\n",
      "700 8959\n",
      "800 8959\n",
      "900 8959\n",
      "1000 8959\n",
      "1100 8959\n",
      "1200 8959\n",
      "1300 8959\n",
      "1400 8959\n",
      "1500 8959\n"
     ]
    }
   ],
   "source": [
    "Table_List = []\n",
    "sample_length = np.size(sample)\n",
    "count = 0\n",
    "for i in file_list:\n",
    "    templates_list = Table.read(i, format = \"ascii\", data_start = 30, names = [\"no\", \"sn\", \"type\", \"lap\", \"rlap\", \"z\", \"zerr\", \"age\", \"age_flag\", \"grade\"], data_end = -5)\n",
    "    new_i = i.split(\"/\")[-2]\n",
    "    Table_List.append([new_i, templates_list])\n",
    "    if count % 100 == 0:\n",
    "        print(count, sample_length)\n",
    "    count += 1\n",
    "Table_List_Numpy = np.asarray(Table_List)"
   ]
  },
  {
   "cell_type": "code",
   "execution_count": 22,
   "metadata": {},
   "outputs": [],
   "source": [
    "np.save(\"/home/xhall/Documents/NewZTF/sample_2018/SNID_2018_output\", Table_List_Numpy)"
   ]
  },
  {
   "cell_type": "code",
   "execution_count": 43,
   "metadata": {},
   "outputs": [
    {
     "data": {
      "text/plain": [
       "194"
      ]
     },
     "execution_count": 43,
     "metadata": {},
     "output_type": "execute_result"
    }
   ],
   "source": [
    "len(Table_List_Numpy)"
   ]
  },
  {
   "cell_type": "code",
   "execution_count": 14,
   "metadata": {},
   "outputs": [
    {
     "data": {
      "text/html": [
       "<i>Table length=6362</i>\n",
       "<table id=\"table140644767019920\" class=\"table-striped table-bordered table-condensed\">\n",
       "<thead><tr><th>no</th><th>sn</th><th>type</th><th>lap</th><th>rlap</th><th>z</th><th>zerr</th><th>age</th><th>age_flag</th><th>grade</th></tr></thead>\n",
       "<thead><tr><th>int64</th><th>str12</th><th>str7</th><th>float64</th><th>float64</th><th>float64</th><th>float64</th><th>float64</th><th>int64</th><th>str4</th></tr></thead>\n",
       "<tr><td>10</td><td>sn1987A</td><td>II-norm</td><td>0.6485</td><td>5.6</td><td>0.0152</td><td>0.0103</td><td>-80.5</td><td>0</td><td>good</td></tr>\n",
       "<tr><td>11</td><td>sn04fc</td><td>II</td><td>0.861</td><td>5.54</td><td>0.0009</td><td>0.0097</td><td>9.0</td><td>0</td><td>good</td></tr>\n",
       "<tr><td>12</td><td>sn04et</td><td>II-norm</td><td>0.6674</td><td>5.52</td><td>0.0034</td><td>0.0095</td><td>-2.9</td><td>0</td><td>good</td></tr>\n",
       "<tr><td>13</td><td>sn2004et</td><td>II-norm</td><td>0.6674</td><td>5.51</td><td>0.0033</td><td>0.0096</td><td>-2.9</td><td>0</td><td>good</td></tr>\n",
       "<tr><td>14</td><td>sn1999em</td><td>II-norm</td><td>0.6864</td><td>5.38</td><td>0.0034</td><td>0.0103</td><td>-1.6</td><td>0</td><td>good</td></tr>\n",
       "<tr><td>15</td><td>sn99em</td><td>II-norm</td><td>0.6864</td><td>5.38</td><td>0.0034</td><td>0.0103</td><td>-1.6</td><td>0</td><td>good</td></tr>\n",
       "<tr><td>16</td><td>sn2004et</td><td>II-norm</td><td>0.6674</td><td>5.38</td><td>0.0034</td><td>0.0097</td><td>-1.9</td><td>0</td><td>good</td></tr>\n",
       "<tr><td>17</td><td>sn06bp</td><td>II-norm</td><td>0.7243</td><td>5.35</td><td>0.0071</td><td>0.0102</td><td>3.3</td><td>0</td><td>good</td></tr>\n",
       "<tr><td>18</td><td>sn1996cb</td><td>IIb</td><td>0.6891</td><td>5.34</td><td>0.0158</td><td>0.0101</td><td>-18.0</td><td>0</td><td>good</td></tr>\n",
       "<tr><td>19</td><td>sn2004et</td><td>II-norm</td><td>0.6728</td><td>5.32</td><td>0.0035</td><td>0.0095</td><td>1.0</td><td>0</td><td>good</td></tr>\n",
       "<tr><td>...</td><td>...</td><td>...</td><td>...</td><td>...</td><td>...</td><td>...</td><td>...</td><td>...</td><td>...</td></tr>\n",
       "<tr><td>6362</td><td>sn1986G</td><td>Ia-91bg</td><td>0.486</td><td>0.52</td><td>0.0717</td><td>0.0328</td><td>22.7</td><td>0</td><td>bad</td></tr>\n",
       "<tr><td>6363</td><td>sn86G</td><td>Ia-91bg</td><td>0.486</td><td>0.52</td><td>0.0717</td><td>0.0328</td><td>23.1</td><td>0</td><td>bad</td></tr>\n",
       "<tr><td>6364</td><td>sn1994M</td><td>Ia-norm</td><td>0.4671</td><td>0.51</td><td>0.1528</td><td>0.0172</td><td>39.8</td><td>0</td><td>bad</td></tr>\n",
       "<tr><td>6365</td><td>sn1981B</td><td>Ia-norm</td><td>0.4955</td><td>0.5</td><td>0.0953</td><td>0.0355</td><td>92.9</td><td>0</td><td>bad</td></tr>\n",
       "<tr><td>6366</td><td>sn1990O</td><td>Ia-norm</td><td>0.5144</td><td>0.5</td><td>0.2864</td><td>0.0266</td><td>19.4</td><td>0</td><td>bad</td></tr>\n",
       "<tr><td>6367</td><td>sn90O</td><td>Ia-norm</td><td>0.5144</td><td>0.5</td><td>0.2864</td><td>0.0266</td><td>19.9</td><td>0</td><td>bad</td></tr>\n",
       "<tr><td>6368</td><td>sn86G</td><td>Ia-91bg</td><td>0.4968</td><td>0.48</td><td>0.2867</td><td>0.025</td><td>22.1</td><td>0</td><td>bad</td></tr>\n",
       "<tr><td>6369</td><td>sn1986G</td><td>Ia-91bg</td><td>0.4968</td><td>0.48</td><td>0.2867</td><td>0.025</td><td>21.7</td><td>0</td><td>bad</td></tr>\n",
       "<tr><td>6370</td><td>sn2003dh</td><td>Ic-BL</td><td>0.509</td><td>0.45</td><td>0.3418</td><td>0.0326</td><td>-7.3</td><td>0</td><td>bad</td></tr>\n",
       "<tr><td>6371</td><td>sn1992ar</td><td>Ic-norm</td><td>0.5063</td><td>0.44</td><td>0.2823</td><td>0.0241</td><td>3.4</td><td>0</td><td>bad</td></tr>\n",
       "</table>"
      ],
      "text/plain": [
       "<Table length=6362>\n",
       "  no     sn      type    lap     rlap     z      zerr    age   age_flag grade\n",
       "int64  str12     str7  float64 float64 float64 float64 float64  int64    str4\n",
       "----- -------- ------- ------- ------- ------- ------- ------- -------- -----\n",
       "   10  sn1987A II-norm  0.6485     5.6  0.0152  0.0103   -80.5        0  good\n",
       "   11   sn04fc      II   0.861    5.54  0.0009  0.0097     9.0        0  good\n",
       "   12   sn04et II-norm  0.6674    5.52  0.0034  0.0095    -2.9        0  good\n",
       "   13 sn2004et II-norm  0.6674    5.51  0.0033  0.0096    -2.9        0  good\n",
       "   14 sn1999em II-norm  0.6864    5.38  0.0034  0.0103    -1.6        0  good\n",
       "   15   sn99em II-norm  0.6864    5.38  0.0034  0.0103    -1.6        0  good\n",
       "   16 sn2004et II-norm  0.6674    5.38  0.0034  0.0097    -1.9        0  good\n",
       "   17   sn06bp II-norm  0.7243    5.35  0.0071  0.0102     3.3        0  good\n",
       "   18 sn1996cb     IIb  0.6891    5.34  0.0158  0.0101   -18.0        0  good\n",
       "   19 sn2004et II-norm  0.6728    5.32  0.0035  0.0095     1.0        0  good\n",
       "  ...      ...     ...     ...     ...     ...     ...     ...      ...   ...\n",
       " 6362  sn1986G Ia-91bg   0.486    0.52  0.0717  0.0328    22.7        0   bad\n",
       " 6363    sn86G Ia-91bg   0.486    0.52  0.0717  0.0328    23.1        0   bad\n",
       " 6364  sn1994M Ia-norm  0.4671    0.51  0.1528  0.0172    39.8        0   bad\n",
       " 6365  sn1981B Ia-norm  0.4955     0.5  0.0953  0.0355    92.9        0   bad\n",
       " 6366  sn1990O Ia-norm  0.5144     0.5  0.2864  0.0266    19.4        0   bad\n",
       " 6367    sn90O Ia-norm  0.5144     0.5  0.2864  0.0266    19.9        0   bad\n",
       " 6368    sn86G Ia-91bg  0.4968    0.48  0.2867   0.025    22.1        0   bad\n",
       " 6369  sn1986G Ia-91bg  0.4968    0.48  0.2867   0.025    21.7        0   bad\n",
       " 6370 sn2003dh   Ic-BL   0.509    0.45  0.3418  0.0326    -7.3        0   bad\n",
       " 6371 sn1992ar Ic-norm  0.5063    0.44  0.2823  0.0241     3.4        0   bad"
      ]
     },
     "execution_count": 14,
     "metadata": {},
     "output_type": "execute_result"
    }
   ],
   "source": [
    "Table_List_Numpy[0][1]"
   ]
  },
  {
   "cell_type": "code",
   "execution_count": null,
   "metadata": {},
   "outputs": [],
   "source": []
  }
 ],
 "metadata": {
  "kernelspec": {
   "display_name": "Python 3",
   "language": "python",
   "name": "python3"
  },
  "language_info": {
   "codemirror_mode": {
    "name": "ipython",
    "version": 3
   },
   "file_extension": ".py",
   "mimetype": "text/x-python",
   "name": "python",
   "nbconvert_exporter": "python",
   "pygments_lexer": "ipython3",
   "version": "3.7.6"
  }
 },
 "nbformat": 4,
 "nbformat_minor": 4
}
