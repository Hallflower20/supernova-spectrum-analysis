{
 "cells": [
  {
   "cell_type": "code",
   "execution_count": 27,
   "metadata": {},
   "outputs": [],
   "source": [
    "import subprocess\n",
    "import shlex\n",
    "import pandas as pd\n",
    "import numpy as np\n",
    "from astropy.table import Table\n",
    "from astropy.table import Column\n",
    "import os\n",
    "import glob2\n",
    "import matplotlib.pyplot as plt\n",
    "from matplotlib.backends.backend_pdf import PdfPages\n",
    "import SNID_Analysis\n",
    "import numpy as np\n",
    "import gc\n",
    "import glob\n",
    "import astropy"
   ]
  },
  {
   "cell_type": "code",
   "execution_count": 28,
   "metadata": {},
   "outputs": [],
   "source": [
    "sample = Table.read(\"/home/xhall/Documents/NewZTF/ML_sample.ascii\", format = \"ascii\")"
   ]
  },
  {
   "cell_type": "code",
   "execution_count": 29,
   "metadata": {},
   "outputs": [],
   "source": [
    "directory = \"/home/xhall/Documents/NewZTF/SNIDoutput/\""
   ]
  },
  {
   "cell_type": "code",
   "execution_count": 30,
   "metadata": {},
   "outputs": [
    {
     "name": "stdout",
     "output_type": "stream",
     "text": [
      "200\n"
     ]
    }
   ],
   "source": [
    "file_list = np.sort(glob.glob(directory+ \"*/*.output\"))\n",
    "print(len(file_list))"
   ]
  },
  {
   "cell_type": "code",
   "execution_count": 31,
   "metadata": {},
   "outputs": [
    {
     "data": {
      "text/plain": [
       "'ZTF18aabssth_20180309_P60_v1'"
      ]
     },
     "execution_count": 31,
     "metadata": {},
     "output_type": "execute_result"
    }
   ],
   "source": [
    "sample[\"col8\"][0].split(\".\")[0]"
   ]
  },
  {
   "cell_type": "code",
   "execution_count": 32,
   "metadata": {},
   "outputs": [
    {
     "data": {
      "text/plain": [
       "'AT2018hrg_20181103_P60_v1'"
      ]
     },
     "execution_count": 32,
     "metadata": {},
     "output_type": "execute_result"
    }
   ],
   "source": [
    "file_list[0].split(\"/\")[-2]"
   ]
  },
  {
   "cell_type": "code",
   "execution_count": 33,
   "metadata": {},
   "outputs": [
    {
     "name": "stdout",
     "output_type": "stream",
     "text": [
      "0 8959\n",
      "100 8959\n"
     ]
    }
   ],
   "source": [
    "Table_List = []\n",
    "sample_length = np.size(sample)\n",
    "count = 0\n",
    "for i in file_list:\n",
    "    templates_list = Table.read(i, format = \"ascii\", data_start = 30, names = [\"no\", \"sn\", \"type\", \"lap\", \"rlap\", \"z\", \"zerr\", \"age\", \"age_flag\", \"grade\"], data_end = -5)\n",
    "    new_i = i.split(\"/\")[-2]\n",
    "    Table_List.append([new_i, templates_list])\n",
    "    if count % 100 == 0:\n",
    "        print(count, sample_length)\n",
    "    count += 1\n",
    "Table_List_Numpy = np.asarray(Table_List)"
   ]
  },
  {
   "cell_type": "code",
   "execution_count": 34,
   "metadata": {},
   "outputs": [],
   "source": [
    "np.save(\"/home/xhall/Documents/NewZTF/SNIDoutput100\", Table_List_Numpy)"
   ]
  },
  {
   "cell_type": "code",
   "execution_count": 26,
   "metadata": {},
   "outputs": [
    {
     "data": {
      "text/plain": [
       "100"
      ]
     },
     "execution_count": 26,
     "metadata": {},
     "output_type": "execute_result"
    }
   ],
   "source": [
    "len(Table_List_Numpy)"
   ]
  },
  {
   "cell_type": "code",
   "execution_count": 14,
   "metadata": {},
   "outputs": [
    {
     "data": {
      "text/html": [
       "<i>Table length=6362</i>\n",
       "<table id=\"table140644767019920\" class=\"table-striped table-bordered table-condensed\">\n",
       "<thead><tr><th>no</th><th>sn</th><th>type</th><th>lap</th><th>rlap</th><th>z</th><th>zerr</th><th>age</th><th>age_flag</th><th>grade</th></tr></thead>\n",
       "<thead><tr><th>int64</th><th>str12</th><th>str7</th><th>float64</th><th>float64</th><th>float64</th><th>float64</th><th>float64</th><th>int64</th><th>str4</th></tr></thead>\n",
       "<tr><td>10</td><td>sn1987A</td><td>II-norm</td><td>0.6485</td><td>5.6</td><td>0.0152</td><td>0.0103</td><td>-80.5</td><td>0</td><td>good</td></tr>\n",
       "<tr><td>11</td><td>sn04fc</td><td>II</td><td>0.861</td><td>5.54</td><td>0.0009</td><td>0.0097</td><td>9.0</td><td>0</td><td>good</td></tr>\n",
       "<tr><td>12</td><td>sn04et</td><td>II-norm</td><td>0.6674</td><td>5.52</td><td>0.0034</td><td>0.0095</td><td>-2.9</td><td>0</td><td>good</td></tr>\n",
       "<tr><td>13</td><td>sn2004et</td><td>II-norm</td><td>0.6674</td><td>5.51</td><td>0.0033</td><td>0.0096</td><td>-2.9</td><td>0</td><td>good</td></tr>\n",
       "<tr><td>14</td><td>sn1999em</td><td>II-norm</td><td>0.6864</td><td>5.38</td><td>0.0034</td><td>0.0103</td><td>-1.6</td><td>0</td><td>good</td></tr>\n",
       "<tr><td>15</td><td>sn99em</td><td>II-norm</td><td>0.6864</td><td>5.38</td><td>0.0034</td><td>0.0103</td><td>-1.6</td><td>0</td><td>good</td></tr>\n",
       "<tr><td>16</td><td>sn2004et</td><td>II-norm</td><td>0.6674</td><td>5.38</td><td>0.0034</td><td>0.0097</td><td>-1.9</td><td>0</td><td>good</td></tr>\n",
       "<tr><td>17</td><td>sn06bp</td><td>II-norm</td><td>0.7243</td><td>5.35</td><td>0.0071</td><td>0.0102</td><td>3.3</td><td>0</td><td>good</td></tr>\n",
       "<tr><td>18</td><td>sn1996cb</td><td>IIb</td><td>0.6891</td><td>5.34</td><td>0.0158</td><td>0.0101</td><td>-18.0</td><td>0</td><td>good</td></tr>\n",
       "<tr><td>19</td><td>sn2004et</td><td>II-norm</td><td>0.6728</td><td>5.32</td><td>0.0035</td><td>0.0095</td><td>1.0</td><td>0</td><td>good</td></tr>\n",
       "<tr><td>...</td><td>...</td><td>...</td><td>...</td><td>...</td><td>...</td><td>...</td><td>...</td><td>...</td><td>...</td></tr>\n",
       "<tr><td>6362</td><td>sn1986G</td><td>Ia-91bg</td><td>0.486</td><td>0.52</td><td>0.0717</td><td>0.0328</td><td>22.7</td><td>0</td><td>bad</td></tr>\n",
       "<tr><td>6363</td><td>sn86G</td><td>Ia-91bg</td><td>0.486</td><td>0.52</td><td>0.0717</td><td>0.0328</td><td>23.1</td><td>0</td><td>bad</td></tr>\n",
       "<tr><td>6364</td><td>sn1994M</td><td>Ia-norm</td><td>0.4671</td><td>0.51</td><td>0.1528</td><td>0.0172</td><td>39.8</td><td>0</td><td>bad</td></tr>\n",
       "<tr><td>6365</td><td>sn1981B</td><td>Ia-norm</td><td>0.4955</td><td>0.5</td><td>0.0953</td><td>0.0355</td><td>92.9</td><td>0</td><td>bad</td></tr>\n",
       "<tr><td>6366</td><td>sn1990O</td><td>Ia-norm</td><td>0.5144</td><td>0.5</td><td>0.2864</td><td>0.0266</td><td>19.4</td><td>0</td><td>bad</td></tr>\n",
       "<tr><td>6367</td><td>sn90O</td><td>Ia-norm</td><td>0.5144</td><td>0.5</td><td>0.2864</td><td>0.0266</td><td>19.9</td><td>0</td><td>bad</td></tr>\n",
       "<tr><td>6368</td><td>sn86G</td><td>Ia-91bg</td><td>0.4968</td><td>0.48</td><td>0.2867</td><td>0.025</td><td>22.1</td><td>0</td><td>bad</td></tr>\n",
       "<tr><td>6369</td><td>sn1986G</td><td>Ia-91bg</td><td>0.4968</td><td>0.48</td><td>0.2867</td><td>0.025</td><td>21.7</td><td>0</td><td>bad</td></tr>\n",
       "<tr><td>6370</td><td>sn2003dh</td><td>Ic-BL</td><td>0.509</td><td>0.45</td><td>0.3418</td><td>0.0326</td><td>-7.3</td><td>0</td><td>bad</td></tr>\n",
       "<tr><td>6371</td><td>sn1992ar</td><td>Ic-norm</td><td>0.5063</td><td>0.44</td><td>0.2823</td><td>0.0241</td><td>3.4</td><td>0</td><td>bad</td></tr>\n",
       "</table>"
      ],
      "text/plain": [
       "<Table length=6362>\n",
       "  no     sn      type    lap     rlap     z      zerr    age   age_flag grade\n",
       "int64  str12     str7  float64 float64 float64 float64 float64  int64    str4\n",
       "----- -------- ------- ------- ------- ------- ------- ------- -------- -----\n",
       "   10  sn1987A II-norm  0.6485     5.6  0.0152  0.0103   -80.5        0  good\n",
       "   11   sn04fc      II   0.861    5.54  0.0009  0.0097     9.0        0  good\n",
       "   12   sn04et II-norm  0.6674    5.52  0.0034  0.0095    -2.9        0  good\n",
       "   13 sn2004et II-norm  0.6674    5.51  0.0033  0.0096    -2.9        0  good\n",
       "   14 sn1999em II-norm  0.6864    5.38  0.0034  0.0103    -1.6        0  good\n",
       "   15   sn99em II-norm  0.6864    5.38  0.0034  0.0103    -1.6        0  good\n",
       "   16 sn2004et II-norm  0.6674    5.38  0.0034  0.0097    -1.9        0  good\n",
       "   17   sn06bp II-norm  0.7243    5.35  0.0071  0.0102     3.3        0  good\n",
       "   18 sn1996cb     IIb  0.6891    5.34  0.0158  0.0101   -18.0        0  good\n",
       "   19 sn2004et II-norm  0.6728    5.32  0.0035  0.0095     1.0        0  good\n",
       "  ...      ...     ...     ...     ...     ...     ...     ...      ...   ...\n",
       " 6362  sn1986G Ia-91bg   0.486    0.52  0.0717  0.0328    22.7        0   bad\n",
       " 6363    sn86G Ia-91bg   0.486    0.52  0.0717  0.0328    23.1        0   bad\n",
       " 6364  sn1994M Ia-norm  0.4671    0.51  0.1528  0.0172    39.8        0   bad\n",
       " 6365  sn1981B Ia-norm  0.4955     0.5  0.0953  0.0355    92.9        0   bad\n",
       " 6366  sn1990O Ia-norm  0.5144     0.5  0.2864  0.0266    19.4        0   bad\n",
       " 6367    sn90O Ia-norm  0.5144     0.5  0.2864  0.0266    19.9        0   bad\n",
       " 6368    sn86G Ia-91bg  0.4968    0.48  0.2867   0.025    22.1        0   bad\n",
       " 6369  sn1986G Ia-91bg  0.4968    0.48  0.2867   0.025    21.7        0   bad\n",
       " 6370 sn2003dh   Ic-BL   0.509    0.45  0.3418  0.0326    -7.3        0   bad\n",
       " 6371 sn1992ar Ic-norm  0.5063    0.44  0.2823  0.0241     3.4        0   bad"
      ]
     },
     "execution_count": 14,
     "metadata": {},
     "output_type": "execute_result"
    }
   ],
   "source": [
    "Table_List_Numpy[0][1]"
   ]
  },
  {
   "cell_type": "code",
   "execution_count": null,
   "metadata": {},
   "outputs": [],
   "source": []
  }
 ],
 "metadata": {
  "kernelspec": {
   "display_name": "Python 3",
   "language": "python",
   "name": "python3"
  },
  "language_info": {
   "codemirror_mode": {
    "name": "ipython",
    "version": 3
   },
   "file_extension": ".py",
   "mimetype": "text/x-python",
   "name": "python",
   "nbconvert_exporter": "python",
   "pygments_lexer": "ipython3",
   "version": "3.7.6"
  }
 },
 "nbformat": 4,
 "nbformat_minor": 4
}
