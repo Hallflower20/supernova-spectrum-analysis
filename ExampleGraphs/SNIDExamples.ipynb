{
 "cells": [
  {
   "cell_type": "code",
   "execution_count": 1,
   "metadata": {},
   "outputs": [],
   "source": [
    "import numpy as np\n",
    "import pandas as pd \n",
    "from astropy.io import fits\n",
    "import matplotlib.pyplot as plt\n",
    "from astropy.table import Table\n",
    "import glob\n",
    "\n",
    "%matplotlib inline"
   ]
  },
  {
   "cell_type": "code",
   "execution_count": 34,
   "metadata": {},
   "outputs": [],
   "source": [
    "pandas_snidoutput = pd.read_csv(\"/home/xhall/Documents/NewZTF/ML_sample_snid.csv\")\n",
    "pandas_snidoutput = pandas_snidoutput.dropna(axis=0, how='any', subset = [\"Class\"]).sort_values(\"c_rlap\", ascending = False)\n",
    "snidoutput = Table.from_pandas(pandas_snidoutput)"
   ]
  },
  {
   "cell_type": "code",
   "execution_count": 77,
   "metadata": {},
   "outputs": [],
   "source": [
    "allsnid = Table.from_pandas(pd.read_csv(\"/home/xhall/Documents/NewZTF/ML_sample_snid.csv\"))"
   ]
  },
  {
   "cell_type": "code",
   "execution_count": 35,
   "metadata": {},
   "outputs": [],
   "source": [
    "SNID_Classes = np.unique(snidoutput[\"c_snid\"])"
   ]
  },
  {
   "cell_type": "code",
   "execution_count": 78,
   "metadata": {},
   "outputs": [
    {
     "data": {
      "text/html": [
       "&lt;Column name=&apos;c_snid&apos; dtype=&apos;str8&apos; length=25&gt;\n",
       "<table>\n",
       "<tr><td>AGN</td></tr>\n",
       "<tr><td>C-star</td></tr>\n",
       "<tr><td>Gal</td></tr>\n",
       "<tr><td>II-pec</td></tr>\n",
       "<tr><td>IIL</td></tr>\n",
       "<tr><td>IIP</td></tr>\n",
       "<tr><td>IIb</td></tr>\n",
       "<tr><td>IIn</td></tr>\n",
       "<tr><td>Ia-02cx</td></tr>\n",
       "<tr><td>Ia-91T</td></tr>\n",
       "<tr><td>Ia-91bg</td></tr>\n",
       "<tr><td>Ia-99aa</td></tr>\n",
       "<tr><td>Ia-csm</td></tr>\n",
       "<tr><td>Ia-norm</td></tr>\n",
       "<tr><td>Ia-pec</td></tr>\n",
       "<tr><td>Ib-norm</td></tr>\n",
       "<tr><td>Ib-pec</td></tr>\n",
       "<tr><td>Ibn</td></tr>\n",
       "<tr><td>Ic-bl</td></tr>\n",
       "<tr><td>Ic-broad</td></tr>\n",
       "<tr><td>Ic-norm</td></tr>\n",
       "<tr><td>Ic-pec</td></tr>\n",
       "<tr><td>LBV</td></tr>\n",
       "<tr><td>M-star</td></tr>\n",
       "<tr><td>QSO</td></tr>\n",
       "</table>"
      ],
      "text/plain": [
       "<Column name='c_snid' dtype='str8' length=25>\n",
       "     AGN\n",
       "  C-star\n",
       "     Gal\n",
       "  II-pec\n",
       "     IIL\n",
       "     IIP\n",
       "     IIb\n",
       "     IIn\n",
       " Ia-02cx\n",
       "  Ia-91T\n",
       " Ia-91bg\n",
       " Ia-99aa\n",
       "  Ia-csm\n",
       " Ia-norm\n",
       "  Ia-pec\n",
       " Ib-norm\n",
       "  Ib-pec\n",
       "     Ibn\n",
       "   Ic-bl\n",
       "Ic-broad\n",
       " Ic-norm\n",
       "  Ic-pec\n",
       "     LBV\n",
       "  M-star\n",
       "     QSO"
      ]
     },
     "execution_count": 78,
     "metadata": {},
     "output_type": "execute_result"
    }
   ],
   "source": [
    "np.unique(allsnid[\"c_snid\"])"
   ]
  },
  {
   "cell_type": "code",
   "execution_count": 102,
   "metadata": {},
   "outputs": [
    {
     "name": "stdout",
     "output_type": "stream",
     "text": [
      "Ic-bl\n"
     ]
    },
    {
     "data": {
      "text/html": [
       "<i>Table length=20</i>\n",
       "<table id=\"table140002922669136\" class=\"table-striped table-bordered table-condensed\">\n",
       "<thead><tr><th>Version</th><th>c_rlap</th><th>c_snid</th><th>z_rlap</th><th>z_snid</th><th>z_snid_err</th><th>z_level</th><th>ZTF_Name</th><th>Class</th><th>col3</th><th>col4</th><th>col5</th><th>col6</th><th>col7</th><th>col9</th></tr></thead>\n",
       "<thead><tr><th>str39</th><th>float64</th><th>str8</th><th>float64</th><th>float64</th><th>float64</th><th>int64</th><th>str12</th><th>str12</th><th>float64</th><th>float64</th><th>float64</th><th>float64</th><th>float64</th><th>int64</th></tr></thead>\n",
       "<tr><td>ZTF18acushie_20181227_P200_v1.ascii</td><td>478.3</td><td>Ic-bl</td><td>9.34</td><td>0.0444</td><td>0.0017</td><td>1</td><td>ZTF18acushie</td><td>Ic-BL</td><td>0.04553</td><td>0.04553</td><td>2458479.5</td><td>2458474.52</td><td>4.98</td><td>2</td></tr>\n",
       "<tr><td>ZTF19abpnrrf_20190828_P60_v1.ascii</td><td>46.48</td><td>Ic-bl</td><td>4.76</td><td>0.1724</td><td>0.0032</td><td>1</td><td>ZTF19abpnrrf</td><td>II</td><td>0.03804</td><td>--</td><td>2458723.5</td><td>2458713.96</td><td>9.54</td><td>0</td></tr>\n",
       "<tr><td>ZTF17aaazdba_20191105_DCT_v1.ascii</td><td>29.08</td><td>Ic-bl</td><td>8.42</td><td>0.0515</td><td>0.0079</td><td>1</td><td>ZTF17aaazdba</td><td>TDE</td><td>0.022000000000000002</td><td>--</td><td>2458792.5</td><td>2458561.68</td><td>230.82</td><td>0</td></tr>\n",
       "<tr><td>ZTF19abuejud_20190830_P60_v1.ascii</td><td>24.7</td><td>Ic-bl</td><td>7.61</td><td>0.1361</td><td>0.0025</td><td>1</td><td>ZTF19abuejud</td><td>Ia</td><td>0.026019999999999998</td><td>--</td><td>2458725.5</td><td>2458737.58</td><td>-12.08</td><td>0</td></tr>\n",
       "<tr><td>ZTF19abtslqm_20191003_P200_v1.ascii</td><td>24.53</td><td>Ic-bl</td><td>17.5</td><td>0.0268</td><td>0.0023</td><td>1</td><td>ZTF19abtslqm</td><td>IIP</td><td>0.0319</td><td>--</td><td>2458759.5</td><td>2458725.95</td><td>33.55</td><td>0</td></tr>\n",
       "<tr><td>ZTF18abckutn_20180621_P200_v2.ascii</td><td>22.35</td><td>Ic-bl</td><td>22.35</td><td>0.958</td><td>0.0008</td><td>0</td><td>ZTF18abckutn</td><td>II</td><td>0.036000000000000004</td><td>0.040705</td><td>2458290.5</td><td>2458299.79</td><td>-9.29</td><td>1</td></tr>\n",
       "<tr><td>ZTF18adbinya_20190330_P60_v1.ascii</td><td>22.31</td><td>Ic-bl</td><td>6.85</td><td>0.1096</td><td>0.005</td><td>1</td><td>ZTF18adbinya</td><td>AGN</td><td>0.10628</td><td>--</td><td>2458572.5</td><td>2458574.85</td><td>-2.35</td><td>0</td></tr>\n",
       "<tr><td>ZTF19aamkfxb_20190319_P60_v1.ascii</td><td>19.79</td><td>Ic-bl</td><td>19.79</td><td>0.7537</td><td>0.001</td><td>0</td><td>ZTF19aamkfxb</td><td>Ia</td><td>0.095</td><td>--</td><td>2458561.5</td><td>2458561.69</td><td>-0.19</td><td>0</td></tr>\n",
       "<tr><td>ZTF19acxndsk_20191215_LT_v1.ascii</td><td>17.72</td><td>Ic-bl</td><td>15.79</td><td>0.1389</td><td>0.0011</td><td>1</td><td>ZTF19acxndsk</td><td>Ia</td><td>0.04788</td><td>--</td><td>2458832.5</td><td>2458846.94</td><td>-14.44</td><td>0</td></tr>\n",
       "<tr><td>ZTF20abhfrxt_20200628_P60_v1.ascii</td><td>17.7</td><td>Ic-bl</td><td>17.7</td><td>0.7859999999999999</td><td>0.001</td><td>0</td><td>ZTF20abhfrxt</td><td>CV</td><td>--</td><td>--</td><td>2459028.5</td><td>2459023.78</td><td>4.72</td><td>0</td></tr>\n",
       "<tr><td>ZTF19aculypc_20191201_P60_v1.ascii</td><td>16.11</td><td>Ic-bl</td><td>7.15</td><td>0.1543</td><td>0.002</td><td>1</td><td>ZTF19aculypc</td><td>Ia</td><td>0.056429999999999994</td><td>--</td><td>2458818.5</td><td>2458831.7</td><td>-13.2</td><td>0</td></tr>\n",
       "<tr><td>ZTF19aawlgne_20190613_P60_v1.ascii</td><td>15.85</td><td>Ic-bl</td><td>7.72</td><td>0.0411</td><td>0.0074</td><td>1</td><td>ZTF19aawlgne</td><td>AGN?</td><td>0.030739999999999996</td><td>--</td><td>2458647.5</td><td>2458660.93</td><td>-13.43</td><td>0</td></tr>\n",
       "<tr><td>ZTF18abxbmqh_20181201_Keck1_v1.ascii</td><td>15.31</td><td>Ic-bl</td><td>7.04</td><td>0.0817</td><td>0.0035</td><td>1</td><td>ZTF18abxbmqh</td><td>SLSN-II</td><td>0.20600000000000002</td><td>--</td><td>2458453.5</td><td>2458455.96</td><td>-2.46</td><td>1</td></tr>\n",
       "<tr><td>ZTF19acdabep_20191012_P60_v1.ascii</td><td>14.36</td><td>Ic-bl</td><td>8.74</td><td>0.0351</td><td>0.0062</td><td>1</td><td>ZTF19acdabep</td><td>Ib</td><td>0.0305</td><td>--</td><td>2458768.5</td><td>2458773.97</td><td>-5.47</td><td>0</td></tr>\n",
       "<tr><td>ZTF20aadcbvz_20200212_P200_v1.ascii</td><td>14.24</td><td>Ic-bl</td><td>12.78</td><td>0.1858</td><td>0.0015</td><td>1</td><td>ZTF20aadcbvz</td><td>SLSN-II</td><td>0.1867</td><td>--</td><td>2458891.5</td><td>2458914.97</td><td>-23.47</td><td>0</td></tr>\n",
       "<tr><td>ZTF18acenqto_20181213_P200_v1.ascii</td><td>14.2</td><td>Ic-bl</td><td>14.2</td><td>0.1661</td><td>0.0045</td><td>1</td><td>ZTF18acenqto</td><td>SLSN-I</td><td>0.166</td><td>--</td><td>2458465.5</td><td>2458462.78</td><td>2.72</td><td>1</td></tr>\n",
       "<tr><td>ZTF19aanfukh_20190330_P60_v1.ascii</td><td>14.11</td><td>Ic-bl</td><td>14.11</td><td>0.0366</td><td>0.0048</td><td>1</td><td>ZTF19aanfukh</td><td>Ic</td><td>0.02765</td><td>--</td><td>2458572.5</td><td>2458575.68</td><td>-3.18</td><td>0</td></tr>\n",
       "<tr><td>ZTF19accavuw_20191016_P60_v2.ascii</td><td>13.7</td><td>Ic-bl</td><td>6.43</td><td>0.0419</td><td>0.006999999999999999</td><td>1</td><td>ZTF19accavuw</td><td>-</td><td>0.043</td><td>--</td><td>2458772.5</td><td>2458777.65</td><td>-5.15</td><td>0</td></tr>\n",
       "<tr><td>ZTF19abnacvf_20190827_P200_v1.ascii</td><td>13.41</td><td>Ic-bl</td><td>13.41</td><td>0.188</td><td>0.0032</td><td>1</td><td>ZTF19abnacvf</td><td>SLSN-I</td><td>0.19</td><td>--</td><td>2458722.5</td><td>2458733.89</td><td>-11.39</td><td>0</td></tr>\n",
       "<tr><td>ZTF19aarinmw_20190424_P60_v1.ascii</td><td>12.72</td><td>Ic-bl</td><td>6.86</td><td>0.046</td><td>0.0119</td><td>1</td><td>ZTF19aarinmw</td><td>Ia</td><td>0.05</td><td>--</td><td>2458597.5</td><td>2458606.79</td><td>-9.29</td><td>0</td></tr>\n",
       "</table>"
      ],
      "text/plain": [
       "<Table length=20>\n",
       "              Version                 c_rlap c_snid ...    col6      col7   col9\n",
       "               str39                 float64  str8  ...  float64   float64 int64\n",
       "------------------------------------ ------- ------ ... ---------- ------- -----\n",
       " ZTF18acushie_20181227_P200_v1.ascii   478.3  Ic-bl ... 2458474.52    4.98     2\n",
       "  ZTF19abpnrrf_20190828_P60_v1.ascii   46.48  Ic-bl ... 2458713.96    9.54     0\n",
       "  ZTF17aaazdba_20191105_DCT_v1.ascii   29.08  Ic-bl ... 2458561.68  230.82     0\n",
       "  ZTF19abuejud_20190830_P60_v1.ascii    24.7  Ic-bl ... 2458737.58  -12.08     0\n",
       " ZTF19abtslqm_20191003_P200_v1.ascii   24.53  Ic-bl ... 2458725.95   33.55     0\n",
       " ZTF18abckutn_20180621_P200_v2.ascii   22.35  Ic-bl ... 2458299.79   -9.29     1\n",
       "  ZTF18adbinya_20190330_P60_v1.ascii   22.31  Ic-bl ... 2458574.85   -2.35     0\n",
       "  ZTF19aamkfxb_20190319_P60_v1.ascii   19.79  Ic-bl ... 2458561.69   -0.19     0\n",
       "   ZTF19acxndsk_20191215_LT_v1.ascii   17.72  Ic-bl ... 2458846.94  -14.44     0\n",
       "  ZTF20abhfrxt_20200628_P60_v1.ascii    17.7  Ic-bl ... 2459023.78    4.72     0\n",
       "  ZTF19aculypc_20191201_P60_v1.ascii   16.11  Ic-bl ...  2458831.7   -13.2     0\n",
       "  ZTF19aawlgne_20190613_P60_v1.ascii   15.85  Ic-bl ... 2458660.93  -13.43     0\n",
       "ZTF18abxbmqh_20181201_Keck1_v1.ascii   15.31  Ic-bl ... 2458455.96   -2.46     1\n",
       "  ZTF19acdabep_20191012_P60_v1.ascii   14.36  Ic-bl ... 2458773.97   -5.47     0\n",
       " ZTF20aadcbvz_20200212_P200_v1.ascii   14.24  Ic-bl ... 2458914.97  -23.47     0\n",
       " ZTF18acenqto_20181213_P200_v1.ascii    14.2  Ic-bl ... 2458462.78    2.72     1\n",
       "  ZTF19aanfukh_20190330_P60_v1.ascii   14.11  Ic-bl ... 2458575.68   -3.18     0\n",
       "  ZTF19accavuw_20191016_P60_v2.ascii    13.7  Ic-bl ... 2458777.65   -5.15     0\n",
       " ZTF19abnacvf_20190827_P200_v1.ascii   13.41  Ic-bl ... 2458733.89  -11.39     0\n",
       "  ZTF19aarinmw_20190424_P60_v1.ascii   12.72  Ic-bl ... 2458606.79   -9.29     0"
      ]
     },
     "execution_count": 102,
     "metadata": {},
     "output_type": "execute_result"
    }
   ],
   "source": [
    "i = SNID_Classes[-7]\n",
    "print(i)\n",
    "where = np.where(i == snidoutput[\"c_snid\"])[0]\n",
    "classes = snidoutput[where]\n",
    "k = 0\n",
    "classes[k:k+20]"
   ]
  },
  {
   "cell_type": "code",
   "execution_count": 101,
   "metadata": {},
   "outputs": [],
   "source": [
    "classes.to_pandas().to_csv(\"IIpec.csv\", index = False)"
   ]
  },
  {
   "cell_type": "code",
   "execution_count": 98,
   "metadata": {},
   "outputs": [
    {
     "data": {
      "text/html": [
       "<i>Table length=5</i>\n",
       "<table id=\"table140002957085008\" class=\"table-striped table-bordered table-condensed\">\n",
       "<thead><tr><th>Version</th><th>c_rlap</th><th>c_snid</th><th>z_rlap</th><th>z_snid</th><th>z_snid_err</th><th>z_level</th><th>ZTF_Name</th><th>Class</th><th>col3</th><th>col4</th><th>col5</th><th>col6</th><th>col7</th><th>col9</th></tr></thead>\n",
       "<thead><tr><th>str39</th><th>float64</th><th>str8</th><th>float64</th><th>float64</th><th>float64</th><th>int64</th><th>str12</th><th>str12</th><th>float64</th><th>float64</th><th>float64</th><th>float64</th><th>float64</th><th>int64</th></tr></thead>\n",
       "<tr><td>ZTF18aapgrxo_20190406_Keck1_v1.ascii</td><td>999.9</td><td>Ia-norm</td><td>5.2</td><td>0.0093</td><td>0.0147</td><td>1</td><td>ZTF18aapgrxo</td><td>SLSN-I</td><td>0.2744</td><td>--</td><td>2458579.5</td><td>2458284.84</td><td>294.66</td><td>1</td></tr>\n",
       "<tr><td>ZTF19aaknqmp_20190704_Keck1_v3.ascii</td><td>17.06</td><td>Gal</td><td>17.06</td><td>0.1474</td><td>0.0011</td><td>1</td><td>ZTF19aaknqmp</td><td>SLSN-I</td><td>0.14800000000000002</td><td>--</td><td>2458668.5</td><td>2458556.65</td><td>111.85</td><td>0</td></tr>\n",
       "<tr><td>ZTF18aajqcue_20180609_P200_v1.ascii</td><td>15.61</td><td>Ia-91T</td><td>15.61</td><td>0.0721</td><td>0.004</td><td>1</td><td>ZTF18aajqcue</td><td>SLSN-I</td><td>0.0734</td><td>--</td><td>2458278.5</td><td>2458272.63</td><td>5.87</td><td>1</td></tr>\n",
       "<tr><td>ZTF19aacxrab_20190315_P200_v1.ascii</td><td>15.12</td><td>Ia-norm</td><td>15.12</td><td>0.1443</td><td>0.0043</td><td>1</td><td>ZTF19aacxrab</td><td>SLSN-I</td><td>0.12</td><td>--</td><td>2458557.5</td><td>2458546.75</td><td>10.75</td><td>0</td></tr>\n",
       "<tr><td>ZTF19aanesgt_20190602_P200_v1.ascii</td><td>15.11</td><td>IIb</td><td>5.2</td><td>0.0093</td><td>0.0043</td><td>1</td><td>ZTF19aanesgt</td><td>SLSN-I</td><td>0.153</td><td>--</td><td>2458636.5</td><td>2458587.61</td><td>48.89</td><td>0</td></tr>\n",
       "</table>"
      ],
      "text/plain": [
       "<Table length=5>\n",
       "              Version                 c_rlap  c_snid ...   col7   col9\n",
       "               str39                 float64   str8  ... float64 int64\n",
       "------------------------------------ ------- ------- ... ------- -----\n",
       "ZTF18aapgrxo_20190406_Keck1_v1.ascii   999.9 Ia-norm ...  294.66     1\n",
       "ZTF19aaknqmp_20190704_Keck1_v3.ascii   17.06     Gal ...  111.85     0\n",
       " ZTF18aajqcue_20180609_P200_v1.ascii   15.61  Ia-91T ...    5.87     1\n",
       " ZTF19aacxrab_20190315_P200_v1.ascii   15.12 Ia-norm ...   10.75     0\n",
       " ZTF19aanesgt_20190602_P200_v1.ascii   15.11     IIb ...   48.89     0"
      ]
     },
     "execution_count": 98,
     "metadata": {},
     "output_type": "execute_result"
    }
   ],
   "source": [
    "snidoutput[np.where(snidoutput[\"Class\"] == \"SLSN-I\")][0:5]"
   ]
  },
  {
   "cell_type": "code",
   "execution_count": 91,
   "metadata": {},
   "outputs": [
    {
     "data": {
      "text/html": [
       "<i>Table length=1</i>\n",
       "<table id=\"table140002939214928\" class=\"table-striped table-bordered table-condensed\">\n",
       "<thead><tr><th>Version</th><th>c_rlap</th><th>c_snid</th><th>z_rlap</th><th>z_snid</th><th>z_snid_err</th><th>z_level</th><th>ZTF_Name</th><th>Class</th><th>col3</th><th>col4</th><th>col5</th><th>col6</th><th>col7</th><th>col9</th></tr></thead>\n",
       "<thead><tr><th>str39</th><th>float64</th><th>str8</th><th>float64</th><th>float64</th><th>float64</th><th>int64</th><th>str12</th><th>str12</th><th>float64</th><th>float64</th><th>float64</th><th>float64</th><th>float64</th><th>int64</th></tr></thead>\n",
       "<tr><td>ZTF19acmelor_20191220_P60_v1.ascii</td><td>5.99</td><td>Ic-norm</td><td>5.99</td><td>0.0683</td><td>0.0071</td><td>1</td><td>ZTF19acmelor</td><td>Ib</td><td>0.02661</td><td>--</td><td>2458837.5</td><td>2458803.68</td><td>33.82</td><td>0</td></tr>\n",
       "</table>"
      ],
      "text/plain": [
       "<Table length=1>\n",
       "             Version                c_rlap  c_snid ...    col6      col7   col9\n",
       "              str39                float64   str8  ...  float64   float64 int64\n",
       "---------------------------------- ------- ------- ... ---------- ------- -----\n",
       "ZTF19acmelor_20191220_P60_v1.ascii    5.99 Ic-norm ... 2458803.68   33.82     0"
      ]
     },
     "execution_count": 91,
     "metadata": {},
     "output_type": "execute_result"
    }
   ],
   "source": [
    "snidoutput[np.where(snidoutput[\"Version\"] == \"ZTF19acmelor_20191220_P60_v1.ascii\")]"
   ]
  },
  {
   "cell_type": "code",
   "execution_count": null,
   "metadata": {},
   "outputs": [],
   "source": []
  }
 ],
 "metadata": {
  "kernelspec": {
   "display_name": "Python 3",
   "language": "python",
   "name": "python3"
  },
  "language_info": {
   "codemirror_mode": {
    "name": "ipython",
    "version": 3
   },
   "file_extension": ".py",
   "mimetype": "text/x-python",
   "name": "python",
   "nbconvert_exporter": "python",
   "pygments_lexer": "ipython3",
   "version": "3.7.6"
  }
 },
 "nbformat": 4,
 "nbformat_minor": 4
}
