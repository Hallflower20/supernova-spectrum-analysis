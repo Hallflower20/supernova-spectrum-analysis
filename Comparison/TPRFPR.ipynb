{
 "cells": [
  {
   "cell_type": "code",
   "execution_count": 1,
   "metadata": {},
   "outputs": [],
   "source": [
    "import os\n",
    "import astropy\n",
    "import numpy as np\n",
    "from astropy.table import Table\n",
    "from astropy.table import Column\n",
    "import glob\n",
    "import matplotlib.pyplot as plt\n",
    "import pandas as pd\n",
    "from collections import Counter\n",
    "from mpl_toolkits.mplot3d import Axes3D"
   ]
  },
  {
   "cell_type": "code",
   "execution_count": 2,
   "metadata": {},
   "outputs": [],
   "source": [
    "sample_location = \"/home/hallflower/sample/spectra/\"\n",
    "dash = \"/mnt/c/users/20xha/Documents/Caltech/Research/DASH/\""
   ]
  },
  {
   "cell_type": "code",
   "execution_count": 3,
   "metadata": {},
   "outputs": [],
   "source": [
    "SEDM_ML_sample = Table.read(\"/mnt/c/Users/20xha/Documents/Caltech/Research/SEDM_ML_sample.ascii\", format = \"ascii\")\n",
    "SEDM_ML_sample.rename_column('col1', 'ZTF_Name')\n",
    "SEDM_ML_sample.rename_column('col2', \"Class\")\n",
    "SEDM_ML_sample.rename_column('col8', \"Version\")"
   ]
  },
  {
   "cell_type": "code",
   "execution_count": 4,
   "metadata": {},
   "outputs": [],
   "source": [
    "dashoutput = np.load(dash+\"output.npy\",allow_pickle=True)"
   ]
  },
  {
   "cell_type": "code",
   "execution_count": 5,
   "metadata": {},
   "outputs": [],
   "source": [
    "snidoutput = np.load(\"/mnt/c/Users/20xha/Documents/Caltech/Research/SNID_results_rlap3.npy\", allow_pickle=True)"
   ]
  },
  {
   "cell_type": "code",
   "execution_count": 6,
   "metadata": {},
   "outputs": [],
   "source": [
    "final_rcf_table = Table.from_pandas(pd.read_hdf(\"/mnt/c/users/20xha/Documents/Caltech/Research/final_rcf_table.h5\"))"
   ]
  },
  {
   "cell_type": "code",
   "execution_count": 7,
   "metadata": {},
   "outputs": [],
   "source": [
    "ranges = np.linspace(0, 25, 6)\n",
    "ResultsTable_List_rlap = []\n",
    "count = 0\n",
    "\n",
    "for i in ranges:\n",
    "    ResultsTable = Table(\n",
    "                    names=(\"ZTF_Name\", \"Closest\"\n",
    "                    ),\n",
    "                    meta={\"name\": \"Spectrum Results after SNID\"},\n",
    "                    dtype=(\"U64\", \"U64\"\n",
    "                          )\n",
    "                    )\n",
    "    for j in snidoutput:\n",
    "        row = []\n",
    "        row.append(j[0])\n",
    "        if(np.max(j[1][\"rlap\"]) > i):\n",
    "            row.append(j[1][0][\"type\"])\n",
    "            ResultsTable.add_row(row)\n",
    "    \n",
    "    count += 1\n",
    "    if(len(ResultsTable) != 0):\n",
    "        ResultsTable_List_rlap.append([i,ResultsTable])\n",
    "    if(count% 100 == 0):\n",
    "        print(count)\n",
    "ResultsTable_List_rlap = np.asarray(ResultsTable_List_rlap)"
   ]
  },
  {
   "cell_type": "code",
   "execution_count": 17,
   "metadata": {},
   "outputs": [],
   "source": [
    "ResultsTable_List_confidence_rlap = []\n",
    "ranges = np.linspace(0, 25, 6)\n",
    "for rlap in ranges:\n",
    "    count = 0\n",
    "    ResultsTable = Table(\n",
    "                    names=(\"ZTF_Name\", \"Dash\", \"Confidence\",\n",
    "                    ),\n",
    "                    meta={\"name\": \"Spectrum Results after SNID\"},\n",
    "                    dtype=(\"U64\", \"U64\", \"float64\",\n",
    "                          )\n",
    "                    )\n",
    "\n",
    "    for i in dashoutput:\n",
    "        row = []\n",
    "        row.append(i[-1])\n",
    "        reliable = np.where(np.asarray(i[4]) != 'Unreliable matches')[0]\n",
    "        if(len(reliable) != 0):\n",
    "            best = np.asarray(i[2])[:,0][reliable]\n",
    "            c = Counter(best)\n",
    "            rlap_list = []\n",
    "            for rlap_vals in np.asarray(i[3]):\n",
    "                rlap_list.append(float(rlap_vals.split(\":\")[-1]))\n",
    "            best_rlap = np.max(rlap_list)\n",
    "            if(best_rlap > rlap):\n",
    "                row.append(c.most_common()[0][0])\n",
    "                row.append(best_rlap)\n",
    "                ResultsTable.add_row(row)\n",
    "\n",
    "        count += 1\n",
    "    if(count % 50 == 0):\n",
    "        print(count)\n",
    "            \n",
    "    if(len(ResultsTable) != 0):\n",
    "        ResultsTable_List_confidence_rlap.append([rlap,ResultsTable])"
   ]
  },
  {
   "cell_type": "code",
   "execution_count": 8,
   "metadata": {},
   "outputs": [],
   "source": [
    "negativeII = 0\n",
    "positiveII = 0\n",
    "for j in final_rcf_table:\n",
    "    correct_1a = \"II\" in j[\"sn_type\"]\n",
    "    if(correct_1a):\n",
    "        positiveII += 1\n",
    "    if(not(correct_1a)):\n",
    "        negativeII += 1"
   ]
  },
  {
   "cell_type": "code",
   "execution_count": 9,
   "metadata": {},
   "outputs": [],
   "source": [
    "counters_rlap_1a_II = [] \n",
    "for i in ResultsTable_List_rlap:\n",
    "    truepositiveII = 0\n",
    "    falsepositiveII = 0\n",
    "    JoinedResults = astropy.table.join(i[1], final_rcf_table)\n",
    "    for j in JoinedResults:\n",
    "        correct_1a = \"II\" in j[\"sn_type\"]\n",
    "        classified_1a = \"II\" in j[\"Closest\"]\n",
    "        if(correct_1a == True and classified_1a == True):\n",
    "            truepositiveII += 1\n",
    "        if(correct_1a != True and classified_1a == True):\n",
    "            falsepositiveII += 1\n",
    "    counters_rlap_1a_II.append([i[0],truepositiveII/(positiveII),falsepositiveII/(negativeII),len(JoinedResults), truepositiveII, falsepositiveII])\n",
    "counters_rlap_1a_II = np.asarray(counters_rlap_1a_II)"
   ]
  },
  {
   "cell_type": "code",
   "execution_count": 20,
   "metadata": {},
   "outputs": [],
   "source": [
    "counters_confidence_1a_rlap = [] \n",
    "for i in ResultsTable_List_confidence_rlap:\n",
    "    truepositive = 0\n",
    "    falsepositive = 0\n",
    "    JoinedResults = astropy.table.join(i[1], final_rcf_table)\n",
    "    \n",
    "    for j in JoinedResults:\n",
    "        correct_1a = \"II\" in j[\"sn_type\"]\n",
    "        classified_1a = \"II\" in j[\"Dash\"]\n",
    "        if(correct_1a == True and classified_1a == True):\n",
    "            truepositive += 1\n",
    "        if(correct_1a != True and classified_1a == True):\n",
    "            falsepositive += 1\n",
    "    counters_confidence_1a_rlap.append([i[0],truepositive/(positiveII),falsepositive/(negativeII),len(JoinedResults), truepositive, falsepositive])\n",
    "counters_confidence_1a_rlap = np.asarray(counters_confidence_1a_rlap)"
   ]
  },
  {
   "cell_type": "code",
   "execution_count": 22,
   "metadata": {},
   "outputs": [
    {
     "data": {
      "text/plain": [
       "Text(0, 0.5, 'True Positive Rate')"
      ]
     },
     "execution_count": 22,
     "metadata": {},
     "output_type": "execute_result"
    },
    {
     "data": {
      "image/png": "[encoded data removed]",
      "text/plain": [
       "<Figure size 720x720 with 1 Axes>"
      ]
     },
     "metadata": {
      "needs_background": "light"
     },
     "output_type": "display_data"
    }
   ],
   "source": [
    "fig = plt.figure(figsize = (10,10))\n",
    "plt.scatter(counters_rlap_1a_II[:,2], counters_rlap_1a_II[:,1], color = \"blue\")\n",
    "plt.scatter(counters_confidence_1a_rlap[:,2], counters_confidence_1a_rlap[:,1], color = \"red\")\n",
    "for i in counters_rlap_1a_II:\n",
    "    plt.text(i[2]+.0002,i[1]+.0002,\">\"+str(i[0]))\n",
    "for i in counters_confidence_1a_rlap:\n",
    "    plt.text(i[2]+.0002,i[1]+.0002,\">\"+str(i[0]))\n",
    "plt.title(\"TPR vs. FPR for different rlap thresholds (Hydrogen Rich II)\")\n",
    "plt.xlabel(\"False Positive Rate\")\n",
    "plt.ylabel(\"True Positive Rate\")"
   ]
  },
  {
   "cell_type": "code",
   "execution_count": 11,
   "metadata": {},
   "outputs": [],
   "source": [
    "negativeIbIc = 0\n",
    "positiveIbIc = 0\n",
    "for j in final_rcf_table:\n",
    "    correct_1a = (\"Ib\" in j[\"sn_type\"]) or (\"Ic\" in j[\"sn_type\"]) \n",
    "    if(correct_1a):\n",
    "        positiveIbIc += 1\n",
    "    if(not(correct_1a)):\n",
    "        negativeIbIc += 1"
   ]
  },
  {
   "cell_type": "code",
   "execution_count": 12,
   "metadata": {},
   "outputs": [],
   "source": [
    "counters_rlap_1a_IbIc = [] \n",
    "for i in ResultsTable_List_rlap:\n",
    "    truepositiveIbIc = 0\n",
    "    falsepositiveIbIc = 0\n",
    "    JoinedResults = astropy.table.join(i[1], final_rcf_table)\n",
    "    for j in JoinedResults:\n",
    "        correct_1a = (\"Ib\" in j[\"sn_type\"])\n",
    "        classified_1a = (\"Ib\" in j[\"Closest\"])\n",
    "        if(correct_1a == True and classified_1a == True):\n",
    "            truepositiveIbIc += 1\n",
    "        if(correct_1a != True and classified_1a == True):\n",
    "            falsepositiveIbIc += 1\n",
    "            \n",
    "        correct_1a = (\"Ic\" in j[\"sn_type\"])\n",
    "        classified_1a = (\"Ic\" in j[\"Closest\"])\n",
    "        if(correct_1a == True and classified_1a == True):\n",
    "            truepositiveIbIc += 1\n",
    "        if(correct_1a != True and classified_1a == True):\n",
    "            falsepositiveIbIc += 1\n",
    "        \n",
    "    counters_rlap_1a_IbIc.append([i[0],truepositiveIbIc/(positiveIbIc),falsepositiveIbIc/(negativeIbIc),len(JoinedResults), truepositiveIbIc, falsepositiveIbIc])\n",
    "counters_rlap_1a_IbIc = np.asarray(counters_rlap_1a_IbIc)"
   ]
  },
  {
   "cell_type": "code",
   "execution_count": 28,
   "metadata": {},
   "outputs": [],
   "source": [
    "counters_confidence_rlap_IbIc = [] \n",
    "for i in ResultsTable_List_confidence_rlap:\n",
    "    truepositiveIbIc = 0\n",
    "    falsepositiveIbIc = 0\n",
    "    JoinedResults = astropy.table.join(i[1], final_rcf_table)\n",
    "    \n",
    "    for j in JoinedResults:\n",
    "        correct_1a = (\"Ib\" in j[\"sn_type\"])\n",
    "        classified_1a = (\"Ib\" in j[\"Dash\"])\n",
    "        if(correct_1a == True and classified_1a == True):\n",
    "            truepositiveIbIc += 1\n",
    "        if(correct_1a != True and classified_1a == True):\n",
    "            falsepositiveIbIc += 1\n",
    "            \n",
    "        correct_1a = (\"Ic\" in j[\"sn_type\"])\n",
    "        classified_1a = (\"Ic\" in j[\"Dash\"])\n",
    "        if(correct_1a == True and classified_1a == True):\n",
    "            truepositiveIbIc += 1\n",
    "        if(correct_1a != True and classified_1a == True):\n",
    "            falsepositiveIbIc += 1\n",
    "    counters_confidence_rlap_IbIc.append([i[0],truepositiveIbIc/(positiveIbIc),falsepositiveIbIc/(negativeIbIc),len(JoinedResults), truepositiveIbIc, falsepositiveIbIc])\n",
    "counters_confidence_rlap_IbIc = np.asarray(counters_confidence_rlap_IbIc)"
   ]
  },
  {
   "cell_type": "code",
   "execution_count": 29,
   "metadata": {},
   "outputs": [
    {
     "data": {
      "text/plain": [
       "Text(0, 0.5, 'True Positive Rate')"
      ]
     },
     "execution_count": 29,
     "metadata": {},
     "output_type": "execute_result"
    },
    {
     "data": {
      "image/png": "[encoded data removed]",
      "text/plain": [
       "<Figure size 720x720 with 1 Axes>"
      ]
     },
     "metadata": {
      "needs_background": "light"
     },
     "output_type": "display_data"
    }
   ],
   "source": [
    "fig = plt.figure(figsize = (10,10))\n",
    "plt.scatter(counters_rlap_1a_IbIc[:,2], counters_rlap_1a_IbIc[:,1], color = \"blue\")\n",
    "plt.scatter(counters_confidence_rlap_IbIc[:,2], counters_confidence_rlap_IbIc[:,1], color = \"red\")\n",
    "for i in counters_rlap_1a_IbIc:\n",
    "    plt.text(i[2]+.0002,i[1]+.0002,\">\"+str(i[0]))\n",
    "for i in counters_confidence_rlap_IbIc:\n",
    "    plt.text(i[2]+.0002,i[1]+.0002,\">\"+str(i[0]))\n",
    "plt.title(\"TPR vs. FPR for different rlap thresholds (Striped Envolope Ib or Ic)\")\n",
    "plt.xlabel(\"False Positive Rate\")\n",
    "plt.ylabel(\"True Positive Rate\")"
   ]
  },
  {
   "cell_type": "code",
   "execution_count": 14,
   "metadata": {},
   "outputs": [
    {
     "data": {
      "text/plain": [
       "array([[0.00000000e+00, 4.00000000e-01, 4.51339915e-02, 6.14000000e+02,\n",
       "        2.20000000e+01, 3.20000000e+01],\n",
       "       [5.00000000e+00, 3.63636364e-01, 2.11565585e-02, 5.58000000e+02,\n",
       "        2.00000000e+01, 1.50000000e+01],\n",
       "       [1.00000000e+01, 1.09090909e-01, 0.00000000e+00, 3.09000000e+02,\n",
       "        6.00000000e+00, 0.00000000e+00],\n",
       "       [1.50000000e+01, 0.00000000e+00, 0.00000000e+00, 1.37000000e+02,\n",
       "        0.00000000e+00, 0.00000000e+00],\n",
       "       [2.00000000e+01, 0.00000000e+00, 0.00000000e+00, 5.40000000e+01,\n",
       "        0.00000000e+00, 0.00000000e+00],\n",
       "       [2.50000000e+01, 0.00000000e+00, 0.00000000e+00, 1.80000000e+01,\n",
       "        0.00000000e+00, 0.00000000e+00]])"
      ]
     },
     "execution_count": 14,
     "metadata": {},
     "output_type": "execute_result"
    }
   ],
   "source": [
    "counters_rlap_1a_IbIc"
   ]
  },
  {
   "cell_type": "code",
   "execution_count": 15,
   "metadata": {},
   "outputs": [
    {
     "data": {
      "text/plain": [
       "array([array([[['', 'Ia-91bg', '6 to 10', '0.99907947'],\n",
       "        ['', 'IIP', '6 to 10', '0.0009203481'],\n",
       "        ['', 'Ia-csm', '46 to 50', '1.4276151e-07'],\n",
       "        ['', 'IIP', '2 to 6', '8.413739e-15'],\n",
       "        ['', 'IIn', '-14 to -10', '1.5309002e-15'],\n",
       "        ['', 'Ibn', '42 to 46', '7.0210065e-18'],\n",
       "        ['', 'Ia-norm', '14 to 18', '6.4561103e-22'],\n",
       "        ['', 'Ia-91bg', '10 to 14', '1.2169977e-22'],\n",
       "        ['', 'IIn', '42 to 46', '2.0284145e-23'],\n",
       "        ['', 'Ic-broad', '6 to 10', '4.7064436e-24'],\n",
       "        ['', 'Ia-91bg', '26 to 30', '4.523396e-25'],\n",
       "        ['', 'IIP', '14 to 18', '2.228336e-25'],\n",
       "        ['', 'IIP', '10 to 14', '7.719748e-26'],\n",
       "        ['', 'Ia-norm', '30 to 34', '1.1194561e-26'],\n",
       "        ['', 'Ia-91bg', '18 to 22', '3.287164e-27']],\n",
       "\n",
       "       [['', 'Ia-91bg', '6 to 10', '0.99912125'],\n",
       "        ['', 'IIP', '6 to 10', '0.000878735'],\n",
       "        ['', 'Ia-csm', '46 to 50', '2.7898492e-08'],\n",
       "        ['', 'IIn', '-14 to -10', '6.241117e-16'],\n",
       "        ['', 'IIP', '2 to 6', '5.8687154e-16'],\n",
       "        ['', 'Ibn', '42 to 46', '8.071731e-18'],\n",
       "        ['', 'Ia-norm', '14 to 18', '4.283114e-21'],\n",
       "        ['', 'Ia-91bg', '10 to 14', '2.6713396e-23'],\n",
       "        ['', 'Ic-broad', '6 to 10', '1.8890677e-23'],\n",
       "        ['', 'IIn', '42 to 46', '1.3902358e-23'],\n",
       "        ['', 'IIP', '14 to 18', '1.2077513e-24'],\n",
       "        ['', 'IIP', '10 to 14', '1.3753953e-26'],\n",
       "        ['', 'Ia-91bg', '2 to 6', '5.5924857e-27'],\n",
       "        ['', 'Ia-91bg', '26 to 30', '5.0112362e-27'],\n",
       "        ['', 'Ia-91bg', '18 to 22', '2.563163e-27']]], dtype='<U13'),\n",
       "       array([0.0766, 0.0072, 0.0031, 0.0082, 0.0722, 0.6594, 0.2556, 0.0155,\n",
       "       0.0031, 0.3394, 0.0155, 0.0093, 0.0062, 0.0134, 0.0155, 0.2607,\n",
       "       0.2415, 0.0176, 0.0082, 0.2685, 0.0766, 0.0062, 0.0031, 0.0722,\n",
       "       0.0072, 0.6594, 0.2594, 0.0155, 0.2855, 0.0021, 0.0093, 0.0062,\n",
       "       0.2594, 0.0145, 0.0155, 0.0134, 0.2377, 0.2685, 0.0911, 0.0031]),\n",
       "       list([('Ia-91bg', '6 to 10', 0.9991), ('Ia-91bg', '6 to 10', 0.9991)]),\n",
       "       list(['Low rlap: 0.82', 'Low rlap: 0.84']),\n",
       "       list(['Unreliable matches', 'Unreliable matches']),\n",
       "       array([0.2298, 0.0043, 0.    , 0.0047, 0.    , 0.2717, 0.219 , 0.2171,\n",
       "       0.0061, 0.25  , 0.2881, 0.2128, 0.0053, 0.1789, 0.2974, 0.2323,\n",
       "       0.1529, 0.2225, 0.0026, 0.1957, 0.2296, 0.0046, 0.    , 0.    ,\n",
       "       0.0045, 0.2717, 0.2197, 0.2178, 0.2441, 0.0063, 0.2124, 0.0053,\n",
       "       0.2321, 0.2884, 0.2971, 0.208 , 0.1529, 0.1917, 0.1768, 0.    ]),\n",
       "       'ZTF17aaajnki'], dtype=object)"
      ]
     },
     "execution_count": 15,
     "metadata": {},
     "output_type": "execute_result"
    }
   ],
   "source": [
    "dashoutput[0]"
   ]
  },
  {
   "cell_type": "code",
   "execution_count": null,
   "metadata": {},
   "outputs": [],
   "source": []
  }
 ],
 "metadata": {
  "kernelspec": {
   "display_name": "Python 3",
   "language": "python",
   "name": "python3"
  },
  "language_info": {
   "codemirror_mode": {
    "name": "ipython",
    "version": 3
   },
   "file_extension": ".py",
   "mimetype": "text/x-python",
   "name": "python",
   "nbconvert_exporter": "python",
   "pygments_lexer": "ipython3",
   "version": "3.7.6"
  }
 },
 "nbformat": 4,
 "nbformat_minor": 4
}
