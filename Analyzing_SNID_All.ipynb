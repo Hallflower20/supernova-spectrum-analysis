{
 "cells": [
  {
   "cell_type": "code",
   "execution_count": 6,
   "metadata": {},
   "outputs": [],
   "source": [
    "import os\n",
    "import astropy\n",
    "import numpy as np\n",
    "from astropy.table import Table\n",
    "import glob\n",
    "import matplotlib.pyplot as plt\n",
    "import pandas as pd\n",
    "from collections import Counter"
   ]
  },
  {
   "cell_type": "code",
   "execution_count": 7,
   "metadata": {},
   "outputs": [],
   "source": [
    "directory = r\"C:\\Users\\20xha\\Documents\\Caltech\\Research\\SNID\\snid_outputs\\\\\""
   ]
  },
  {
   "cell_type": "code",
   "execution_count": 8,
   "metadata": {},
   "outputs": [],
   "source": [
    "final_rcf_table = Table.from_pandas(pd.read_hdf(\"C:/Users/20xha/Documents/Caltech/Research/final_rcf_table.h5\"))"
   ]
  },
  {
   "cell_type": "code",
   "execution_count": 9,
   "metadata": {},
   "outputs": [],
   "source": [
    "SEDM_ML_sample = Table.read(\"C:/Users/20xha/Documents/Caltech/Research/SEDM_ML_sample.ascii\", format = \"ascii\")\n",
    "SEDM_ML_sample.rename_column('col1', 'ZTF_Name')\n",
    "SEDM_ML_sample.rename_column('col2', \"Class\")\n",
    "SEDM_ML_sample.rename_column('col8', \"Version\")"
   ]
  },
  {
   "cell_type": "code",
   "execution_count": 10,
   "metadata": {},
   "outputs": [],
   "source": [
    "run_list = os.listdir(r\"C:\\Users\\20xha\\Documents\\Caltech\\Research\\SNID\\snid_outputs/\")[3::]"
   ]
  },
  {
   "cell_type": "code",
   "execution_count": 6,
   "metadata": {},
   "outputs": [
    {
     "name": "stdout",
     "output_type": "stream",
     "text": [
      "100\n",
      "200\n",
      "300\n",
      "400\n",
      "500\n",
      "600\n",
      "700\n",
      "800\n",
      "900\n",
      "1000\n",
      "1100\n",
      "1200\n",
      "1300\n",
      "1400\n",
      "1500\n",
      "1600\n",
      "1700\n",
      "1800\n",
      "1900\n",
      "2000\n",
      "2100\n",
      "2200\n",
      "2300\n",
      "2400\n",
      "2500\n"
     ]
    }
   ],
   "source": [
    "ResultsTable = Table(\n",
    "                    names=(\"ZTF_Name\", \"ZTF_File\", \"Closest\", \"Top15\", \"Good\"\n",
    "                    ),\n",
    "                    meta={\"name\": \"Spectrum Results after SNID\"},\n",
    "                    dtype=(\"U64\", \"U64\", \"U64\", \"U64\", \"U64\"\n",
    "                          )\n",
    "                    )\n",
    "count = 0\n",
    "for i in run_list:\n",
    "    row = []\n",
    "    row.append(i)\n",
    "    files = glob.glob(directory + i + \"\\\\*.readableoutput\")\n",
    "    if(len(files) != 0):\n",
    "        row.append(files[0].split(\"\\\\\")[-1])\n",
    "        try:\n",
    "            templates_list = Table.read(files[0], format = \"ascii\")\n",
    "            row.append(templates_list[0][\"type\"])\n",
    "            Top15 = templates_list[0:15]\n",
    "            c = Counter(Top15[\"type\"])\n",
    "            row.append(c.most_common()[0][0])\n",
    "            GoodMatches = templates_list[np.where(templates_list[\"grade\"] == \"good\")]\n",
    "            c = Counter(GoodMatches[\"type\"])\n",
    "            row.append(c.most_common()[0][0])\n",
    "            count += 1\n",
    "            ResultsTable.add_row(row)\n",
    "            if count % 100 == 0:\n",
    "                print(count)\n",
    "        except:\n",
    "            print(i)"
   ]
  },
  {
   "cell_type": "code",
   "execution_count": 7,
   "metadata": {},
   "outputs": [
    {
     "data": {
      "text/plain": [
       "407"
      ]
     },
     "execution_count": 7,
     "metadata": {},
     "output_type": "execute_result"
    }
   ],
   "source": [
    "len(run_list)-len(ResultsTable)"
   ]
  },
  {
   "cell_type": "code",
   "execution_count": 8,
   "metadata": {},
   "outputs": [
    {
     "data": {
      "text/plain": [
       "0.13712938005390835"
      ]
     },
     "execution_count": 8,
     "metadata": {},
     "output_type": "execute_result"
    }
   ],
   "source": [
    "(len(run_list)-len(ResultsTable))/len(run_list)"
   ]
  },
  {
   "cell_type": "code",
   "execution_count": 9,
   "metadata": {},
   "outputs": [
    {
     "data": {
      "text/html": [
       "<i>Row index=0 masked=True</i>\n",
       "<table id=\"table2637600954376\">\n",
       "<thead><tr><th>ZTF_Name</th><th>TNS_Name</th><th>discovered_by</th><th>tns_internal_name</th><th>RA_sn</th><th>Dec_sn</th><th>sn_type</th><th>z_sn</th><th>g_jd_max</th><th>g_max</th><th>g_unc_max</th><th>r_jd_max</th><th>r_max</th><th>r_unc_max</th><th>ebv</th><th>host_name_PS1</th><th>RA_host_PS1</th><th>Dec_host_PS1</th><th>z_host</th><th>sep</th><th>projected_kpc</th><th>gKron_PS1</th><th>rKron_PS1</th><th>iKron_PS1</th><th>zKron_PS1</th><th>yKron_PS1</th><th>w1_host</th><th>w2_host</th><th>ebv_host</th></tr></thead>\n",
       "<thead><tr><th>str12</th><th>str9</th><th>str13</th><th>str29</th><th>float64</th><th>float64</th><th>str9</th><th>float64</th><th>float64</th><th>float64</th><th>float64</th><th>float64</th><th>float64</th><th>float64</th><th>float64</th><th>str21</th><th>float64</th><th>float64</th><th>float64</th><th>float64</th><th>float64</th><th>float64</th><th>float64</th><th>float64</th><th>float64</th><th>float64</th><th>float64</th><th>float64</th><th>float64</th></tr></thead>\n",
       "<tr><td>ZTF18aabssth</td><td>SN2018aex</td><td>ZTF</td><td>ZTF18aabssth</td><td>165.1891017637735</td><td>22.287497041839774</td><td>II</td><td>0.026000000000000002</td><td>2458494.0531481</td><td>20.44230842590332</td><td>0.1942138969898224</td><td>2458218.7148727</td><td>18.741601943969727</td><td>0.0452471598982811</td><td>0.01536</td><td>PSO J165.1878+22.2877</td><td>165.18778907</td><td>22.28771869</td><td>0.022914</td><td>4.444857426598462</td><td>2.0566548608097266</td><td>16.885400772094727</td><td>16.492399215698242</td><td>16.382200241088867</td><td>16.378400802612305</td><td>16.610000610351562</td><td>15.79401524178536</td><td>16.38349243564084</td><td>0.015369999999999997</td></tr>\n",
       "</table>"
      ],
      "text/plain": [
       "<Row index=0 masked=True>\n",
       "  ZTF_Name    TNS_Name discovered_by tns_internal_name       RA_sn             Dec_sn       sn_type         z_sn             g_jd_max          g_max           g_unc_max          r_jd_max          r_max            r_unc_max        ebv       host_name_PS1     RA_host_PS1  Dec_host_PS1  z_host         sep          projected_kpc        gKron_PS1          rKron_PS1          iKron_PS1          zKron_PS1          yKron_PS1           w1_host           w2_host            ebv_host      \n",
       "   str12        str9       str13           str29            float64           float64         str9        float64            float64          float64           float64           float64          float64            float64       float64         str21           float64      float64    float64       float64           float64            float64            float64            float64            float64            float64            float64           float64            float64       \n",
       "------------ --------- ------------- ----------------- ----------------- ------------------ ------- -------------------- --------------- ----------------- ------------------ --------------- ------------------ ------------------ ------- --------------------- ------------ ------------ -------- ----------------- ------------------ ------------------ ------------------ ------------------ ------------------ ------------------ ----------------- ----------------- --------------------\n",
       "ZTF18aabssth SN2018aex           ZTF      ZTF18aabssth 165.1891017637735 22.287497041839774      II 0.026000000000000002 2458494.0531481 20.44230842590332 0.1942138969898224 2458218.7148727 18.741601943969727 0.0452471598982811 0.01536 PSO J165.1878+22.2877 165.18778907  22.28771869 0.022914 4.444857426598462 2.0566548608097266 16.885400772094727 16.492399215698242 16.382200241088867 16.378400802612305 16.610000610351562 15.79401524178536 16.38349243564084 0.015369999999999997"
      ]
     },
     "execution_count": 9,
     "metadata": {},
     "output_type": "execute_result"
    }
   ],
   "source": [
    "final_rcf_table[0]"
   ]
  },
  {
   "cell_type": "code",
   "execution_count": 35,
   "metadata": {},
   "outputs": [
    {
     "data": {
      "text/html": [
       "<i>Table masked=True length=4717</i>\n",
       "<table id=\"table2451507555848\" class=\"table-striped table-bordered table-condensed\">\n",
       "<thead><tr><th>ZTF_Name</th><th>Class</th><th>col3</th><th>col4</th><th>col5</th><th>col6</th><th>col7</th><th>Version</th><th>col9</th></tr></thead>\n",
       "<thead><tr><th>str12</th><th>str12</th><th>float64</th><th>float64</th><th>float64</th><th>float64</th><th>float64</th><th>str34</th><th>int32</th></tr></thead>\n",
       "<tr><td>ZTF17aaajnki</td><td>AGN</td><td>0.00106</td><td>nan</td><td>2458197.5</td><td>2458512.74</td><td>-315.24</td><td>ZTF17aaajnki_20180320_P60_v1.ascii</td><td>0</td></tr>\n",
       "<tr><td>ZTF17aaajnki</td><td>AGN</td><td>0.00106</td><td>nan</td><td>2458197.5</td><td>2458512.74</td><td>-315.24</td><td>ZTF17aaajnki_20180320_P60_v2.ascii</td><td>0</td></tr>\n",
       "<tr><td>ZTF18aagrdcs</td><td>Ib</td><td>0.024</td><td>0.01814</td><td>2458204.5</td><td>2458219.54</td><td>-15.04</td><td>ZTF18aagrdcs_20180327_P60_v1.ascii</td><td>1</td></tr>\n",
       "<tr><td>ZTF18aagteoy</td><td>AGN</td><td>0.0475</td><td>nan</td><td>2458211.5</td><td>2458301.41</td><td>-89.91</td><td>ZTF18aagteoy_20180403_P60_v1.ascii</td><td>0</td></tr>\n",
       "<tr><td>ZTF18aahfjdt</td><td>AGN</td><td>0.048</td><td>nan</td><td>2458227.5</td><td>2458257.46</td><td>-29.96</td><td>ZTF18aahfjdt_20180419_P60_v1.ascii</td><td>0</td></tr>\n",
       "<tr><td>ZTF18aahmhxu</td><td>SLSN-II</td><td>0.167</td><td>nan</td><td>2458230.5</td><td>2458266.46</td><td>-35.96</td><td>ZTF18aahmhxu_20180422_P60_v2.ascii</td><td>1</td></tr>\n",
       "<tr><td>ZTF18aahmhxu</td><td>SLSN-II</td><td>0.167</td><td>nan</td><td>2458230.5</td><td>2458266.46</td><td>-35.96</td><td>ZTF18aahmhxu_20180422_P60_v4.ascii</td><td>1</td></tr>\n",
       "<tr><td>ZTF18aahhqih</td><td>II</td><td>0.021</td><td>0.014253</td><td>2458204.5</td><td>2458257.45</td><td>-52.95</td><td>ZTF18aahhqih_20180327_P60_v1.ascii</td><td>1</td></tr>\n",
       "<tr><td>ZTF18aahfohe</td><td>AGN</td><td>0.031</td><td>nan</td><td>2458227.5</td><td>2458574.51</td><td>-347.01</td><td>ZTF18aahfohe_20180419_P60_v1.ascii</td><td>0</td></tr>\n",
       "<tr><td>ZTF18aahijwe</td><td>AGN</td><td>0.0156</td><td>nan</td><td>2458233.5</td><td>2458245.43</td><td>-11.93</td><td>ZTF18aahijwe_20180425_P60_v1.ascii</td><td>0</td></tr>\n",
       "<tr><td>...</td><td>...</td><td>...</td><td>...</td><td>...</td><td>...</td><td>...</td><td>...</td><td>...</td></tr>\n",
       "<tr><td>ZTF20aawgrcu</td><td>-</td><td>0.042</td><td>nan</td><td>2458966.5</td><td>2458967.64</td><td>-1.14</td><td>ZTF20aawgrcu_20200427_P60_v1.ascii</td><td>0</td></tr>\n",
       "<tr><td>ZTF20aawgrcu</td><td>-</td><td>0.042</td><td>nan</td><td>2458966.5</td><td>2458967.64</td><td>-1.14</td><td>ZTF20aawgrcu_20200427_P60_v2.ascii</td><td>0</td></tr>\n",
       "<tr><td>ZTF20aawigpe</td><td>-</td><td>0.05</td><td>nan</td><td>2458966.5</td><td>2458964.68</td><td>1.82</td><td>ZTF20aawigpe_20200427_P60_v1.ascii</td><td>0</td></tr>\n",
       "<tr><td>ZTF20aawihxz</td><td>Ib</td><td>0.01819</td><td>nan</td><td>2458965.5</td><td>2458964.69</td><td>0.81</td><td>ZTF20aawihxz_20200426_P60_v1.ascii</td><td>0</td></tr>\n",
       "<tr><td>ZTF20aawiicr</td><td>II</td><td>0.01893</td><td>nan</td><td>2458965.5</td><td>2458964.69</td><td>0.81</td><td>ZTF20aawiicr_20200426_P60_v1.ascii</td><td>0</td></tr>\n",
       "<tr><td>ZTF20aavpnqt</td><td>-</td><td>99.0</td><td>nan</td><td>2458966.5</td><td>2458965.44</td><td>1.06</td><td>ZTF20aavpnqt_20200427_P60_v1.ascii</td><td>0</td></tr>\n",
       "<tr><td>ZTF20aavtdxj</td><td>Ia</td><td>0.09</td><td>nan</td><td>2458966.5</td><td>2458965.66</td><td>0.84</td><td>ZTF20aavtdxj_20200427_P60_v1.ascii</td><td>0</td></tr>\n",
       "<tr><td>ZTF20aawjbsf</td><td>-</td><td>99.0</td><td>nan</td><td>2458968.5</td><td>2458965.44</td><td>3.06</td><td>ZTF20aawjbsf_20200429_P60_v1.ascii</td><td>0</td></tr>\n",
       "<tr><td>ZTF20aawmlfq</td><td>-</td><td>0.03179</td><td>nan</td><td>2458966.5</td><td>2458965.56</td><td>0.94</td><td>ZTF20aawmlfq_20200427_P60_v1.ascii</td><td>0</td></tr>\n",
       "<tr><td>ZTF20aawmlfq</td><td>-</td><td>0.03179</td><td>nan</td><td>2458966.5</td><td>2458965.56</td><td>0.94</td><td>ZTF20aawmlfq_20200427_P60_v2.ascii</td><td>0</td></tr>\n",
       "</table>"
      ],
      "text/plain": [
       "<Table masked=True length=4717>\n",
       "  ZTF_Name    Class    col3  ...              Version                col9\n",
       "   str12      str12  float64 ...               str34                int32\n",
       "------------ ------- ------- ... ---------------------------------- -----\n",
       "ZTF17aaajnki     AGN 0.00106 ... ZTF17aaajnki_20180320_P60_v1.ascii     0\n",
       "ZTF17aaajnki     AGN 0.00106 ... ZTF17aaajnki_20180320_P60_v2.ascii     0\n",
       "ZTF18aagrdcs      Ib   0.024 ... ZTF18aagrdcs_20180327_P60_v1.ascii     1\n",
       "ZTF18aagteoy     AGN  0.0475 ... ZTF18aagteoy_20180403_P60_v1.ascii     0\n",
       "ZTF18aahfjdt     AGN   0.048 ... ZTF18aahfjdt_20180419_P60_v1.ascii     0\n",
       "ZTF18aahmhxu SLSN-II   0.167 ... ZTF18aahmhxu_20180422_P60_v2.ascii     1\n",
       "ZTF18aahmhxu SLSN-II   0.167 ... ZTF18aahmhxu_20180422_P60_v4.ascii     1\n",
       "ZTF18aahhqih      II   0.021 ... ZTF18aahhqih_20180327_P60_v1.ascii     1\n",
       "ZTF18aahfohe     AGN   0.031 ... ZTF18aahfohe_20180419_P60_v1.ascii     0\n",
       "ZTF18aahijwe     AGN  0.0156 ... ZTF18aahijwe_20180425_P60_v1.ascii     0\n",
       "         ...     ...     ... ...                                ...   ...\n",
       "ZTF20aawgrcu       -   0.042 ... ZTF20aawgrcu_20200427_P60_v1.ascii     0\n",
       "ZTF20aawgrcu       -   0.042 ... ZTF20aawgrcu_20200427_P60_v2.ascii     0\n",
       "ZTF20aawigpe       -    0.05 ... ZTF20aawigpe_20200427_P60_v1.ascii     0\n",
       "ZTF20aawihxz      Ib 0.01819 ... ZTF20aawihxz_20200426_P60_v1.ascii     0\n",
       "ZTF20aawiicr      II 0.01893 ... ZTF20aawiicr_20200426_P60_v1.ascii     0\n",
       "ZTF20aavpnqt       -    99.0 ... ZTF20aavpnqt_20200427_P60_v1.ascii     0\n",
       "ZTF20aavtdxj      Ia    0.09 ... ZTF20aavtdxj_20200427_P60_v1.ascii     0\n",
       "ZTF20aawjbsf       -    99.0 ... ZTF20aawjbsf_20200429_P60_v1.ascii     0\n",
       "ZTF20aawmlfq       - 0.03179 ... ZTF20aawmlfq_20200427_P60_v1.ascii     0\n",
       "ZTF20aawmlfq       - 0.03179 ... ZTF20aawmlfq_20200427_P60_v2.ascii     0"
      ]
     },
     "execution_count": 35,
     "metadata": {},
     "output_type": "execute_result"
    }
   ],
   "source": [
    "SEDM_ML_sample"
   ]
  },
  {
   "cell_type": "code",
   "execution_count": 36,
   "metadata": {},
   "outputs": [],
   "source": [
    "JoinedResults = astropy.table.join(ResultsTable, SEDM_ML_sample)"
   ]
  },
  {
   "cell_type": "code",
   "execution_count": 39,
   "metadata": {},
   "outputs": [
    {
     "data": {
      "text/html": [
       "<i>Row index=1 masked=True</i>\n",
       "<table id=\"table2451526390216\">\n",
       "<thead><tr><th>ZTF_Name</th><th>ZTF_File</th><th>Closest</th><th>Top15</th><th>Good</th><th>Class</th><th>col3</th><th>col4</th><th>col5</th><th>col6</th><th>col7</th><th>Version</th><th>col9</th></tr></thead>\n",
       "<thead><tr><th>str64</th><th>str64</th><th>str64</th><th>str64</th><th>str64</th><th>str12</th><th>float64</th><th>float64</th><th>float64</th><th>float64</th><th>float64</th><th>str34</th><th>int32</th></tr></thead>\n",
       "<tr><td>ZTF17aaajnki</td><td>ZTF17aaajnki_20180320_P60_v2_snid_templates.readableoutput</td><td>Gal</td><td>Gal</td><td>Gal</td><td>AGN</td><td>0.00106</td><td>nan</td><td>2458197.5</td><td>2458512.74</td><td>-315.24</td><td>ZTF17aaajnki_20180320_P60_v1.ascii</td><td>0</td></tr>\n",
       "</table>"
      ],
      "text/plain": [
       "<Row index=1 masked=True>\n",
       "  ZTF_Name                            ZTF_File                          Closest Top15  Good Class   col3    col4     col5      col6      col7               Version                col9\n",
       "   str64                               str64                             str64  str64 str64 str12 float64 float64  float64   float64   float64               str34                int32\n",
       "------------ ---------------------------------------------------------- ------- ----- ----- ----- ------- ------- --------- ---------- ------- ---------------------------------- -----\n",
       "ZTF17aaajnki ZTF17aaajnki_20180320_P60_v2_snid_templates.readableoutput     Gal   Gal   Gal   AGN 0.00106     nan 2458197.5 2458512.74 -315.24 ZTF17aaajnki_20180320_P60_v1.ascii     0"
      ]
     },
     "execution_count": 39,
     "metadata": {},
     "output_type": "execute_result"
    }
   ],
   "source": [
    "JoinedResults[1]"
   ]
  },
  {
   "cell_type": "code",
   "execution_count": 21,
   "metadata": {},
   "outputs": [
    {
     "data": {
      "text/html": [
       "&lt;MaskedColumn name=&apos;Closest&apos; dtype=&apos;str64&apos; length=16&gt;\n",
       "<table>\n",
       "<tr><td>AGN</td></tr>\n",
       "<tr><td>Gal</td></tr>\n",
       "<tr><td>II-pec</td></tr>\n",
       "<tr><td>IIL</td></tr>\n",
       "<tr><td>IIP</td></tr>\n",
       "<tr><td>IIb</td></tr>\n",
       "<tr><td>IIn</td></tr>\n",
       "<tr><td>Ia-91T</td></tr>\n",
       "<tr><td>Ia-91bg</td></tr>\n",
       "<tr><td>Ia-csm</td></tr>\n",
       "<tr><td>Ia-norm</td></tr>\n",
       "<tr><td>Ia-pec</td></tr>\n",
       "<tr><td>Ib-norm</td></tr>\n",
       "<tr><td>Ib-pec</td></tr>\n",
       "<tr><td>Ic-broad</td></tr>\n",
       "<tr><td>Ic-norm</td></tr>\n",
       "</table>"
      ],
      "text/plain": [
       "<MaskedColumn name='Closest' dtype='str64' length=16>\n",
       "     AGN\n",
       "     Gal\n",
       "  II-pec\n",
       "     IIL\n",
       "     IIP\n",
       "     IIb\n",
       "     IIn\n",
       "  Ia-91T\n",
       " Ia-91bg\n",
       "  Ia-csm\n",
       " Ia-norm\n",
       "  Ia-pec\n",
       " Ib-norm\n",
       "  Ib-pec\n",
       "Ic-broad\n",
       " Ic-norm"
      ]
     },
     "execution_count": 21,
     "metadata": {},
     "output_type": "execute_result"
    }
   ],
   "source": [
    "np.unique(JoinedResults[\"Closest\"])"
   ]
  },
  {
   "cell_type": "code",
   "execution_count": 22,
   "metadata": {},
   "outputs": [
    {
     "data": {
      "text/html": [
       "&lt;MaskedColumn name=&apos;sn_type&apos; dtype=&apos;str9&apos; length=17&gt;\n",
       "<table>\n",
       "<tr><td>II</td></tr>\n",
       "<tr><td>II-87A</td></tr>\n",
       "<tr><td>IIb</td></tr>\n",
       "<tr><td>IIn</td></tr>\n",
       "<tr><td>Ia</td></tr>\n",
       "<tr><td>Ia-02cx</td></tr>\n",
       "<tr><td>Ia-91T</td></tr>\n",
       "<tr><td>Ia-91bg</td></tr>\n",
       "<tr><td>Ia-SC</td></tr>\n",
       "<tr><td>Ib</td></tr>\n",
       "<tr><td>Ib/c</td></tr>\n",
       "<tr><td>Ibn</td></tr>\n",
       "<tr><td>Ic</td></tr>\n",
       "<tr><td>Ic-BL</td></tr>\n",
       "<tr><td>SLSN-I</td></tr>\n",
       "<tr><td>SLSN-II</td></tr>\n",
       "<tr><td>ambiguous</td></tr>\n",
       "</table>"
      ],
      "text/plain": [
       "<MaskedColumn name='sn_type' dtype='str9' length=17>\n",
       "       II\n",
       "   II-87A\n",
       "      IIb\n",
       "      IIn\n",
       "       Ia\n",
       "  Ia-02cx\n",
       "   Ia-91T\n",
       "  Ia-91bg\n",
       "    Ia-SC\n",
       "       Ib\n",
       "     Ib/c\n",
       "      Ibn\n",
       "       Ic\n",
       "    Ic-BL\n",
       "   SLSN-I\n",
       "  SLSN-II\n",
       "ambiguous"
      ]
     },
     "execution_count": 22,
     "metadata": {},
     "output_type": "execute_result"
    }
   ],
   "source": [
    "np.unique(JoinedResults[\"sn_type\"])"
   ]
  },
  {
   "cell_type": "code",
   "execution_count": 66,
   "metadata": {},
   "outputs": [],
   "source": [
    "counters = [0, 0, 0]\n",
    "closest_list = []\n",
    "top15_list = []\n",
    "good_list = []"
   ]
  },
  {
   "cell_type": "code",
   "execution_count": 67,
   "metadata": {},
   "outputs": [],
   "source": [
    "for i in JoinedResults:\n",
    "    correct_id = i[\"sn_type\"]\n",
    "    \n",
    "    if (correct_id in i[\"Closest\"]):\n",
    "        counters[0] += 1\n",
    "    else:\n",
    "        closest_list.append(np.where(JoinedResults[\"ZTF_Name\"] == i[\"ZTF_Name\"])[0][0])\n",
    "        \n",
    "    if (correct_id in i[\"Top15\"]):\n",
    "        counters[1] += 1\n",
    "    else:\n",
    "        top15_list.append(np.where(JoinedResults[\"ZTF_Name\"] == i[\"ZTF_Name\"])[0][0])\n",
    "        \n",
    "    if (correct_id in i[\"Good\"]):\n",
    "        counters[2] += 1\n",
    "    else:\n",
    "        good_list.append(np.where(JoinedResults[\"ZTF_Name\"] == i[\"ZTF_Name\"])[0][0])"
   ]
  },
  {
   "cell_type": "code",
   "execution_count": 68,
   "metadata": {},
   "outputs": [
    {
     "data": {
      "text/plain": [
       "array([0.82735043, 0.83247863, 0.81025641])"
      ]
     },
     "execution_count": 68,
     "metadata": {},
     "output_type": "execute_result"
    }
   ],
   "source": [
    "np.asarray(counters)/(len(JoinedResults))"
   ]
  },
  {
   "cell_type": "code",
   "execution_count": 69,
   "metadata": {},
   "outputs": [
    {
     "data": {
      "text/plain": [
       "585"
      ]
     },
     "execution_count": 69,
     "metadata": {},
     "output_type": "execute_result"
    }
   ],
   "source": [
    "len(JoinedResults)"
   ]
  },
  {
   "cell_type": "code",
   "execution_count": 71,
   "metadata": {},
   "outputs": [
    {
     "data": {
      "text/html": [
       "<i>Table masked=True length=101</i>\n",
       "<table id=\"table1993398863624\" class=\"table-striped table-bordered table-condensed\">\n",
       "<thead><tr><th>sn_type</th><th>Closest</th></tr></thead>\n",
       "<thead><tr><th>str9</th><th>str64</th></tr></thead>\n",
       "<tr><td>Ib</td><td>Ia-91T</td></tr>\n",
       "<tr><td>SLSN-I</td><td>Ia-norm</td></tr>\n",
       "<tr><td>Ia-91T</td><td>Ic-norm</td></tr>\n",
       "<tr><td>II</td><td>Ia-pec</td></tr>\n",
       "<tr><td>Ia</td><td>Ic-broad</td></tr>\n",
       "<tr><td>ambiguous</td><td>Ic-norm</td></tr>\n",
       "<tr><td>II</td><td>Ib-norm</td></tr>\n",
       "<tr><td>IIn</td><td>AGN</td></tr>\n",
       "<tr><td>ambiguous</td><td>Gal</td></tr>\n",
       "<tr><td>IIb</td><td>Ia-csm</td></tr>\n",
       "<tr><td>...</td><td>...</td></tr>\n",
       "<tr><td>Ia</td><td>Ib-norm</td></tr>\n",
       "<tr><td>IIn</td><td>Ib-pec</td></tr>\n",
       "<tr><td>IIn</td><td>IIL</td></tr>\n",
       "<tr><td>II</td><td>Gal</td></tr>\n",
       "<tr><td>II</td><td>Ia-norm</td></tr>\n",
       "<tr><td>Ia-91T</td><td>Ia-pec</td></tr>\n",
       "<tr><td>IIn</td><td>IIP</td></tr>\n",
       "<tr><td>Ic</td><td>Gal</td></tr>\n",
       "<tr><td>Ib/c</td><td>Ia-91bg</td></tr>\n",
       "<tr><td>Ia-91T</td><td>Ia-norm</td></tr>\n",
       "</table>"
      ],
      "text/plain": [
       "<Table masked=True length=101>\n",
       " sn_type  Closest \n",
       "   str9    str64  \n",
       "--------- --------\n",
       "       Ib   Ia-91T\n",
       "   SLSN-I  Ia-norm\n",
       "   Ia-91T  Ic-norm\n",
       "       II   Ia-pec\n",
       "       Ia Ic-broad\n",
       "ambiguous  Ic-norm\n",
       "       II  Ib-norm\n",
       "      IIn      AGN\n",
       "ambiguous      Gal\n",
       "      IIb   Ia-csm\n",
       "      ...      ...\n",
       "       Ia  Ib-norm\n",
       "      IIn   Ib-pec\n",
       "      IIn      IIL\n",
       "       II      Gal\n",
       "       II  Ia-norm\n",
       "   Ia-91T   Ia-pec\n",
       "      IIn      IIP\n",
       "       Ic      Gal\n",
       "     Ib/c  Ia-91bg\n",
       "   Ia-91T  Ia-norm"
      ]
     },
     "execution_count": 71,
     "metadata": {},
     "output_type": "execute_result"
    }
   ],
   "source": [
    "JoinedResults[closest_list][\"ZTF_Name\", \"sn_type\", \"Closest\"]"
   ]
  },
  {
   "cell_type": "code",
   "execution_count": 74,
   "metadata": {},
   "outputs": [
    {
     "data": {
      "text/html": [
       "<i>Table masked=True length=98</i>\n",
       "<table id=\"table1993389829384\" class=\"table-striped table-bordered table-condensed\">\n",
       "<thead><tr><th>sn_type</th><th>Top15</th></tr></thead>\n",
       "<thead><tr><th>str9</th><th>str64</th></tr></thead>\n",
       "<tr><td>Ib</td><td>Ia-91T</td></tr>\n",
       "<tr><td>IIn</td><td>II-pec</td></tr>\n",
       "<tr><td>SLSN-I</td><td>Ia-norm</td></tr>\n",
       "<tr><td>Ia-91T</td><td>IIn</td></tr>\n",
       "<tr><td>II</td><td>Ia-pec</td></tr>\n",
       "<tr><td>Ia</td><td>Ic-broad</td></tr>\n",
       "<tr><td>ambiguous</td><td>Ic-norm</td></tr>\n",
       "<tr><td>II</td><td>Ic-norm</td></tr>\n",
       "<tr><td>ambiguous</td><td>Gal</td></tr>\n",
       "<tr><td>IIb</td><td>Ia-pec</td></tr>\n",
       "<tr><td>...</td><td>...</td></tr>\n",
       "<tr><td>Ic-BL</td><td>Ia-norm</td></tr>\n",
       "<tr><td>IIb</td><td>Ia-norm</td></tr>\n",
       "<tr><td>Ia-02cx</td><td>Ia-pec</td></tr>\n",
       "<tr><td>IIn</td><td>Ia-norm</td></tr>\n",
       "<tr><td>II</td><td>Gal</td></tr>\n",
       "<tr><td>Ia-91T</td><td>Ia-pec</td></tr>\n",
       "<tr><td>IIn</td><td>IIP</td></tr>\n",
       "<tr><td>Ic</td><td>IIn</td></tr>\n",
       "<tr><td>Ib/c</td><td>Ia-91bg</td></tr>\n",
       "<tr><td>Ia-91T</td><td>Ia-norm</td></tr>\n",
       "</table>"
      ],
      "text/plain": [
       "<Table masked=True length=98>\n",
       " sn_type   Top15  \n",
       "   str9    str64  \n",
       "--------- --------\n",
       "       Ib   Ia-91T\n",
       "      IIn   II-pec\n",
       "   SLSN-I  Ia-norm\n",
       "   Ia-91T      IIn\n",
       "       II   Ia-pec\n",
       "       Ia Ic-broad\n",
       "ambiguous  Ic-norm\n",
       "       II  Ic-norm\n",
       "ambiguous      Gal\n",
       "      IIb   Ia-pec\n",
       "      ...      ...\n",
       "    Ic-BL  Ia-norm\n",
       "      IIb  Ia-norm\n",
       "  Ia-02cx   Ia-pec\n",
       "      IIn  Ia-norm\n",
       "       II      Gal\n",
       "   Ia-91T   Ia-pec\n",
       "      IIn      IIP\n",
       "       Ic      IIn\n",
       "     Ib/c  Ia-91bg\n",
       "   Ia-91T  Ia-norm"
      ]
     },
     "execution_count": 74,
     "metadata": {},
     "output_type": "execute_result"
    }
   ],
   "source": [
    "JoinedResults[top15_list][\"ZTF_Name\", \"sn_type\", \"Top15\"]"
   ]
  },
  {
   "cell_type": "code",
   "execution_count": 12,
   "metadata": {},
   "outputs": [
    {
     "ename": "NameError",
     "evalue": "name 'JoinedResults' is not defined",
     "output_type": "error",
     "traceback": [
      "\u001b[1;31m---------------------------------------------------------------------------\u001b[0m",
      "\u001b[1;31mNameError\u001b[0m                                 Traceback (most recent call last)",
      "\u001b[1;32m<ipython-input-12-addbb747f1d8>\u001b[0m in \u001b[0;36m<module>\u001b[1;34m\u001b[0m\n\u001b[1;32m----> 1\u001b[1;33m \u001b[0mJoinedResults\u001b[0m\u001b[1;33m[\u001b[0m\u001b[0mtop15_list\u001b[0m\u001b[1;33m]\u001b[0m\u001b[1;33m[\u001b[0m\u001b[1;34m\"ZTF_Name\"\u001b[0m\u001b[1;33m,\u001b[0m \u001b[1;34m\"sn_type\"\u001b[0m\u001b[1;33m,\u001b[0m \u001b[1;34m\"Good\"\u001b[0m\u001b[1;33m]\u001b[0m\u001b[1;33m\u001b[0m\u001b[1;33m\u001b[0m\u001b[0m\n\u001b[0m",
      "\u001b[1;31mNameError\u001b[0m: name 'JoinedResults' is not defined"
     ]
    }
   ],
   "source": [
    "JoinedResults[top15_list][\"ZTF_Name\", \"sn_type\", \"Good\"]"
   ]
  },
  {
   "cell_type": "code",
   "execution_count": 14,
   "metadata": {},
   "outputs": [
    {
     "name": "stdout",
     "output_type": "stream",
     "text": [
      "100\n",
      "200\n",
      "300\n",
      "C:\\Users\\20xha\\Documents\\Caltech\\Research\\SNID\\snid_outputs\\\\ZTF18abkmbpy\\ZTF18abkmbpy_20180803_P60_v2_snid_templates.readableoutput\n",
      "400\n",
      "500\n",
      "C:\\Users\\20xha\\Documents\\Caltech\\Research\\SNID\\snid_outputs\\\\ZTF18abxdkni\\ZTF18abxdkni_20181017_P60_v1_snid_templates.readableoutput\n",
      "600\n",
      "700\n",
      "800\n",
      "C:\\Users\\20xha\\Documents\\Caltech\\Research\\SNID\\snid_outputs\\\\ZTF18acsxvrp\\ZTF18acsxvrp_20181205_P60_v1_snid_templates.readableoutput\n",
      "900\n",
      "1000\n",
      "1100\n",
      "1200\n",
      "C:\\Users\\20xha\\Documents\\Caltech\\Research\\SNID\\snid_outputs\\\\ZTF19aarqnjw\\ZTF19aarqnjw_20190427_P60_v1_snid_templates.readableoutput\n",
      "C:\\Users\\20xha\\Documents\\Caltech\\Research\\SNID\\snid_outputs\\\\ZTF19aarupqs\\ZTF19aarupqs_20190426_P60_v1_snid_templates.readableoutput\n",
      "1300\n",
      "1400\n",
      "1500\n",
      "1600\n",
      "1700\n",
      "1800\n",
      "1900\n",
      "2000\n",
      "2100\n",
      "2200\n",
      "2300\n",
      "2400\n",
      "2500\n",
      "C:\\Users\\20xha\\Documents\\Caltech\\Research\\SNID\\snid_outputs\\\\ZTF20aafmdzj\\ZTF20aafmdzj_20200212_P60_v2_snid_templates.readableoutput\n",
      "2600\n",
      "2700\n",
      "2800\n"
     ]
    }
   ],
   "source": [
    "Table_List = []\n",
    "count = 0\n",
    "for i in np.unique(SEDM_ML_sample[\"ZTF_Name\"]):\n",
    "    try:\n",
    "        row = []\n",
    "        row.append(i)\n",
    "        files = glob.glob(directory + i + \"\\\\*.readableoutput\")\n",
    "        if(len(files) != 0):\n",
    "            row.append(files[0].split(\"\\\\\")[-1])\n",
    "            templates_list = Table.read(files[0], format = \"ascii\")\n",
    "            Table_List.append([i, templates_list])\n",
    "            count += 1\n",
    "            if count % 100 == 0:\n",
    "                print(count)\n",
    "    except:\n",
    "        print(files[0])\n",
    "Table_List_Numpy = np.asarray(Table_List)"
   ]
  },
  {
   "cell_type": "code",
   "execution_count": null,
   "metadata": {},
   "outputs": [],
   "source": [
    "np.save(\"SNID_results_all_rlap3\", Table_List_Numpy)"
   ]
  },
  {
   "cell_type": "code",
   "execution_count": null,
   "metadata": {},
   "outputs": [],
   "source": []
  }
 ],
 "metadata": {
  "kernelspec": {
   "display_name": "Python 3",
   "language": "python",
   "name": "python3"
  },
  "language_info": {
   "codemirror_mode": {
    "name": "ipython",
    "version": 3
   },
   "file_extension": ".py",
   "mimetype": "text/x-python",
   "name": "python",
   "nbconvert_exporter": "python",
   "pygments_lexer": "ipython3",
   "version": "3.7.6"
  }
 },
 "nbformat": 4,
 "nbformat_minor": 4
}
