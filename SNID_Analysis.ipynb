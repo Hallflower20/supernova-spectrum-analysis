{
 "cells": [
  {
   "cell_type": "code",
   "execution_count": 1,
   "metadata": {},
   "outputs": [],
   "source": [
    "import subprocess\n",
    "import shlex\n",
    "import pandas as pd\n",
    "import numpy as np\n",
    "from astropy.table import Table\n",
    "from astropy.table import Column\n",
    "import os\n",
    "import glob2\n",
    "import matplotlib.pyplot as plt\n",
    "from matplotlib.backends.backend_pdf import PdfPages"
   ]
  },
  {
   "cell_type": "code",
   "execution_count": 2,
   "metadata": {},
   "outputs": [],
   "source": [
    "sample_location = \"/home/xjh0560/SNID/sample/spectra/\"\n",
    "source = \"/home/xjh0560/SNID/snid_outputs/\"\n",
    "image_output = \"/home/xjh0560/SNID/snid_outputs/SNIDimages/\""
   ]
  },
  {
   "cell_type": "code",
   "execution_count": 3,
   "metadata": {},
   "outputs": [],
   "source": [
    "def run_files(fname, fnamelist, source):\n",
    "    new_source = source + fname.split(\"/\")[-1].split(\".\")[0]\n",
    "    if(not(os.path.exists(new_source))):\n",
    "        os.mkdir(new_source)\n",
    "    bashCommand = \"/home/xjh0560/SNID/snid-5.0/snid verbose=0 plot=0 fluxout=15 \" + fnamelist\n",
    "    process = subprocess.Popen(shlex.split(bashCommand), stdout = subprocess.PIPE, stderr = subprocess.PIPE , cwd=new_source)\n",
    "    output, error = process.communicate()\n",
    "    return output, error"
   ]
  },
  {
   "cell_type": "code",
   "execution_count": 4,
   "metadata": {},
   "outputs": [],
   "source": [
    "def specplot(x,y,xi,yi,plotfile,title):\n",
    "    fig = plt.figure()\n",
    "    plt.plot(xi,yi,color='gray',label='Input Spectrum')\n",
    "    plt.plot(x,y,color='red',label='SNID fit')\n",
    "    plt.title(title)\n",
    "    plt.xlabel('Redshifted Wavelength (A)')\n",
    "    plt.ylabel('Flux (a.u.)')\n",
    "    plt.legend()\n",
    "    plotfile.savefig()\n",
    "    plt.close()"
   ]
  },
  {
   "cell_type": "code",
   "execution_count": 5,
   "metadata": {},
   "outputs": [],
   "source": [
    "def plot_best_15(specfile, flist, overall_source, output):\n",
    "    fname = specfile.split(\"/\")[-1].split(\".\")[0]\n",
    "    source = overall_source + fname\n",
    "    \n",
    "    if(specfile==''):\n",
    "        return(0, 0)\n",
    "    z,z_err = [],[]\n",
    "    input_spec = source+'/'+flist.split(\"/\")[-1].split(\".\")[0]+'_snidflux.dat'\n",
    "    #input_spec = source+'/'+source+'_snidflux.dat'\n",
    "    snid_specs = sorted(glob2.glob(source+'/*comp*'))\n",
    "    plotfile = PdfPages(output + '/snidfits_emclip_'+fname+'.pdf')\n",
    "    input_data = open(input_spec,'r').readlines()\n",
    "    xi,yi=[],[]\n",
    "    for line in input_data[1:]:\n",
    "        temp = line.split()\n",
    "        xi.append(float(temp[0]))\n",
    "        yi.append(float(temp[1]))\n",
    "\n",
    "    for i, spec in enumerate(snid_specs):\n",
    "        snidspec_data = open(spec,'r').readlines()\n",
    "        x,y = [],[]\n",
    "        header = snidspec_data[0].split()\n",
    "        title = \" \".join(header)\n",
    "        for line in snidspec_data[2:]:\n",
    "            temp = line.split()\n",
    "            x.append(float(temp[0]))\n",
    "            y.append(float(temp[1]))\n",
    "        specplot(x,y,xi,yi,plotfile,title)\n",
    "    plotfile.close()"
   ]
  },
  {
   "cell_type": "code",
   "execution_count": 6,
   "metadata": {},
   "outputs": [],
   "source": [
    "def parse_output(specfile, flist, overall_source, returnoutput = False):\n",
    "    fname = specfile.split(\"/\")[-1].split(\".\")[0]\n",
    "    flist_versionname = flist.split(\"/\")[-1].split(\".\")[0]\n",
    "    source = overall_source + fname\n",
    "    \n",
    "    f = open(source + \"/\" + flist_versionname + \"_snid.output\", \"r\")\n",
    "    \n",
    "    lines = f.readlines()\n",
    "    Types_summary = lines[38:67]\n",
    "    \n",
    "    Types_summary_file = open(source + \"/\" + flist_versionname + \"_snid_types.readableoutput\", \"w\")\n",
    "    for i in Types_summary:\n",
    "        Types_summary_file.write(i)\n",
    "    Types_summary_file.close()\n",
    "    if(returnoutput):\n",
    "        Types_Summary_Table = Table.read(source + \"/\" + flist_versionname + \"_snid_types.readableoutput\", format = \"ascii\")\n",
    "    \n",
    "    Template_Listings = lines[69::]\n",
    "    Template_Listings_file = open(source + \"/\" + flist_versionname + \"_snid_templates.readableoutput\", \"w\")\n",
    "    for i in Template_Listings:\n",
    "        Template_Listings_file.write(i)\n",
    "    Template_Listings_file.close()\n",
    "    if(returnoutput):\n",
    "        Template_Listings_Table = Table.read(source + \"/\" + flist_versionname + \"_snid_templates.readableoutput\", format = \"ascii\")\n",
    "        return Types_Summary_Table, Template_Listings_Table"
   ]
  },
  {
   "cell_type": "code",
   "execution_count": 9,
   "metadata": {},
   "outputs": [],
   "source": [
    "def run_all(fname, flist, source, output):\n",
    "    run_files(fname, flist, source)\n",
    "    plot_best_15(fname, flist, source, output)\n",
    "    return(parse_output(fname, flist, source))"
   ]
  },
  {
   "cell_type": "code",
   "execution_count": 162,
   "metadata": {},
   "outputs": [],
   "source": []
  },
  {
   "cell_type": "code",
   "execution_count": 127,
   "metadata": {},
   "outputs": [],
   "source": []
  },
  {
   "cell_type": "code",
   "execution_count": null,
   "metadata": {},
   "outputs": [],
   "source": []
  },
  {
   "cell_type": "code",
   "execution_count": null,
   "metadata": {
    "collapsed": true
   },
   "outputs": [],
   "source": []
  }
 ],
 "metadata": {
  "kernelspec": {
   "display_name": "Python 3",
   "language": "python",
   "name": "python3"
  },
  "language_info": {
   "codemirror_mode": {
    "name": "ipython",
    "version": 3
   },
   "file_extension": ".py",
   "mimetype": "text/x-python",
   "name": "python",
   "nbconvert_exporter": "python",
   "pygments_lexer": "ipython3",
   "version": "3.7.4"
  }
 },
 "nbformat": 4,
 "nbformat_minor": 2
}
