{
 "cells": [
  {
   "cell_type": "code",
   "execution_count": 1,
   "metadata": {},
   "outputs": [],
   "source": [
    "import numpy as np\n",
    "import pandas as pd \n",
    "from astropy.io import fits\n",
    "import matplotlib.pyplot as plt\n",
    "from astropy.table import Table\n",
    "import glob\n",
    "\n",
    "%matplotlib inline"
   ]
  },
  {
   "cell_type": "code",
   "execution_count": 2,
   "metadata": {},
   "outputs": [],
   "source": [
    "typeinfo = {\n",
    "    \"Ia\":[1,1],\n",
    "    \"Ia-norm\":[1,2],\n",
    "    \"Ia-91T\":[1,3],\n",
    "    \"Ia-91bg\":[1,4],\n",
    "    \"Ia-csm\":[1,5],\n",
    "    \"Ia-02cx\":[1,6],\n",
    "    \"Ia-03fg\":[1,7],\n",
    "    \"Ib\":[2,1],\n",
    "    \"Ib-norm\":[2,2],\n",
    "    \"IIb\":[2,3],\n",
    "    \"Ibn\":[2,4],\n",
    "    \"Ic\":[3,1],\n",
    "    \"Ic-norm\":[3,2],\n",
    "    \"Ic-BL\":[3,3],\n",
    "    \"Ic-SLSN\":[3,4],\n",
    "    \"II\":[4,1],\n",
    "    \"II-norm\":[4,2],\n",
    "    \"IIn\":[4,3],\n",
    "    \"NotSN\":[5,1],\n",
    "    \"AGN\":[5,2],\n",
    "    \"Gal\":[5,3],\n",
    "    \"LBV\":[5,4],\n",
    "    \"M-star\":[5,5],\n",
    "    \"QSO\":[5,6],\n",
    "    \"C-star\":[5,7],\n",
    "}"
   ]
  },
  {
   "cell_type": "code",
   "execution_count": 3,
   "metadata": {},
   "outputs": [],
   "source": [
    "Changes = Table.from_pandas(pd.read_csv(\"/home/xhall/Documents/SNID/changes.csv\"))"
   ]
  },
  {
   "cell_type": "code",
   "execution_count": 4,
   "metadata": {},
   "outputs": [
    {
     "data": {
      "text/html": [
       "<i>Table length=18</i>\n",
       "<table id=\"table140567390954832\" class=\"table-striped table-bordered table-condensed\">\n",
       "<thead><tr><th>snname</th><th>old_type</th><th>new_type</th></tr></thead>\n",
       "<thead><tr><th>str12</th><th>str6</th><th>str7</th></tr></thead>\n",
       "<tr><td>sn2005ek</td><td>Ic-pec</td><td>Ic-norm</td></tr>\n",
       "<tr><td>sn2005la</td><td>Ib-pec</td><td>Ibn</td></tr>\n",
       "<tr><td>sn1987A</td><td>II-pec</td><td>II-norm</td></tr>\n",
       "<tr><td>sn2006gz</td><td>Ia-pec</td><td>Ia-03fg</td></tr>\n",
       "<tr><td>sn2005hk</td><td>Ia-pec</td><td>Ia-02cx</td></tr>\n",
       "<tr><td>snls03D3bb</td><td>Ia-pec</td><td>Ia-03fg</td></tr>\n",
       "<tr><td>sn2008ae</td><td>Ia-pec</td><td>Ia-02cx</td></tr>\n",
       "<tr><td>sn2008D</td><td>Ib-pec</td><td>Ib-norm</td></tr>\n",
       "<tr><td>sn2002cx</td><td>Ia-pec</td><td>Ia-02cx</td></tr>\n",
       "<tr><td>sn2007uy</td><td>Ib-pec</td><td>Ib-norm</td></tr>\n",
       "<tr><td>sn08es_bsnip</td><td>II-pec</td><td>II-norm</td></tr>\n",
       "<tr><td>sn87A</td><td>II-pec</td><td>II-norm</td></tr>\n",
       "<tr><td>sn03fg</td><td>Ia-pec</td><td>Ia-03fg</td></tr>\n",
       "<tr><td>sn2005cc</td><td>Ia-pec</td><td>Ia-02cx</td></tr>\n",
       "<tr><td>sn2008A</td><td>Ia-pec</td><td>Ia-02cx</td></tr>\n",
       "<tr><td>sn06gz</td><td>Ia-pec</td><td>Ia-03fg</td></tr>\n",
       "<tr><td>sn06gy_bsnip</td><td>II-pec</td><td>IIn</td></tr>\n",
       "<tr><td>sn06tf_bsnip</td><td>II-pec</td><td>IIn</td></tr>\n",
       "</table>"
      ],
      "text/plain": [
       "<Table length=18>\n",
       "   snname    old_type new_type\n",
       "   str12       str6     str7  \n",
       "------------ -------- --------\n",
       "    sn2005ek   Ic-pec  Ic-norm\n",
       "    sn2005la   Ib-pec      Ibn\n",
       "     sn1987A   II-pec  II-norm\n",
       "    sn2006gz   Ia-pec  Ia-03fg\n",
       "    sn2005hk   Ia-pec  Ia-02cx\n",
       "  snls03D3bb   Ia-pec  Ia-03fg\n",
       "    sn2008ae   Ia-pec  Ia-02cx\n",
       "     sn2008D   Ib-pec  Ib-norm\n",
       "    sn2002cx   Ia-pec  Ia-02cx\n",
       "    sn2007uy   Ib-pec  Ib-norm\n",
       "sn08es_bsnip   II-pec  II-norm\n",
       "       sn87A   II-pec  II-norm\n",
       "      sn03fg   Ia-pec  Ia-03fg\n",
       "    sn2005cc   Ia-pec  Ia-02cx\n",
       "     sn2008A   Ia-pec  Ia-02cx\n",
       "      sn06gz   Ia-pec  Ia-03fg\n",
       "sn06gy_bsnip   II-pec      IIn\n",
       "sn06tf_bsnip   II-pec      IIn"
      ]
     },
     "execution_count": 4,
     "metadata": {},
     "output_type": "execute_result"
    }
   ],
   "source": [
    "Changes"
   ]
  },
  {
   "cell_type": "code",
   "execution_count": 15,
   "metadata": {},
   "outputs": [],
   "source": [
    "counter = 0\n",
    "for i in Changes:\n",
    "    f = open(\"/home/xhall/Documents/SNID/templates-2.0/\" + i[\"snname\"] + \".lnw\")\n",
    "    lines = f.readlines()\n",
    "    string = lines[0]\n",
    "    start = string.find(i[\"old_type\"])\n",
    "    if(start != -1):\n",
    "        replace = i[\"new_type\"]\n",
    "        back_string = string[start::]\n",
    "        back_string_len = len(back_string)\n",
    "        numlist = typeinfo[replace]\n",
    "        numstring = str(numlist[0]) + \"  \" + str(numlist[1])\n",
    "        back_string_new = str(replace) + \" \" * (back_string_len - len(numstring) - len(replace) - 1) + numstring + \"\\n\"\n",
    "        forward_string = string[0:start]\n",
    "        document = forward_string + back_string_new\n",
    "        for j in lines[1::]:\n",
    "            document += j\n",
    "\n",
    "        newfile = open(\"/home/xhall/Documents/SNID/templates-2.0/\" + i[\"snname\"] + \".lnw\", \"w+\")\n",
    "        newfile.write(document)\n",
    "        counter += 1"
   ]
  },
  {
   "cell_type": "code",
   "execution_count": 13,
   "metadata": {},
   "outputs": [
    {
     "data": {
      "text/plain": [
       "'    6 1024   2500.00  10000.00      8     sn2005ek      -9.99  Ic-norm     3  2\\n'"
      ]
     },
     "execution_count": 13,
     "metadata": {},
     "output_type": "execute_result"
    }
   ],
   "source": [
    "document"
   ]
  },
  {
   "cell_type": "code",
   "execution_count": 3,
   "metadata": {},
   "outputs": [],
   "source": [
    "templates = glob.glob(\"/home/xhall/Documents/SNID/templates-2.0/*.lnw\")"
   ]
  },
  {
   "cell_type": "code",
   "execution_count": 4,
   "metadata": {},
   "outputs": [],
   "source": [
    "TemplatesClass = Table(\n",
    "                    names=(\"Template\", \"Class\"\n",
    "                    ),\n",
    "                    meta={\"name\": \"Template Types\"},\n",
    "                    dtype=(\"U64\", \"U64\"\n",
    "                          )\n",
    "                    )\n",
    "\n",
    "for i in templates:\n",
    "    f = open(i)\n",
    "    lines = f.readlines()\n",
    "    row = [i.split(\"/\")[-1].split(\".\")[0],lines[0].split()[-3]]\n",
    "    TemplatesClass.add_row(row)"
   ]
  },
  {
   "cell_type": "code",
   "execution_count": 5,
   "metadata": {},
   "outputs": [],
   "source": [
    "TemplatesClass.to_pandas().to_csv(\"/home/xhall/Documents/NewZTF/Template_Class.csv\", index = False)"
   ]
  },
  {
   "cell_type": "code",
   "execution_count": 14,
   "metadata": {},
   "outputs": [
    {
     "data": {
      "text/html": [
       "&lt;Column name=&apos;Template&apos; dtype=&apos;str64&apos; length=22&gt;\n",
       "<table>\n",
       "<tr><td>sn07it</td></tr>\n",
       "<tr><td>sn09au</td></tr>\n",
       "<tr><td>sn06Y</td></tr>\n",
       "<tr><td>sn09bz</td></tr>\n",
       "<tr><td>sn09ao</td></tr>\n",
       "<tr><td>sn06iw</td></tr>\n",
       "<tr><td>sn04er</td></tr>\n",
       "<tr><td>sn06bc</td></tr>\n",
       "<tr><td>sn06ee</td></tr>\n",
       "<tr><td>sn99br</td></tr>\n",
       "<tr><td>sn04fc</td></tr>\n",
       "<tr><td>sn90e</td></tr>\n",
       "<tr><td>sn05dz</td></tr>\n",
       "<tr><td>sn07il</td></tr>\n",
       "<tr><td>sn07oc</td></tr>\n",
       "<tr><td>sn88a</td></tr>\n",
       "<tr><td>sn03bn</td></tr>\n",
       "<tr><td>sn06it</td></tr>\n",
       "<tr><td>sn08in</td></tr>\n",
       "<tr><td>sn03iq</td></tr>\n",
       "<tr><td>sn08il</td></tr>\n",
       "<tr><td>sn04fx</td></tr>\n",
       "</table>"
      ],
      "text/plain": [
       "<Column name='Template' dtype='str64' length=22>\n",
       "sn07it\n",
       "sn09au\n",
       " sn06Y\n",
       "sn09bz\n",
       "sn09ao\n",
       "sn06iw\n",
       "sn04er\n",
       "sn06bc\n",
       "sn06ee\n",
       "sn99br\n",
       "sn04fc\n",
       " sn90e\n",
       "sn05dz\n",
       "sn07il\n",
       "sn07oc\n",
       " sn88a\n",
       "sn03bn\n",
       "sn06it\n",
       "sn08in\n",
       "sn03iq\n",
       "sn08il\n",
       "sn04fx"
      ]
     },
     "execution_count": 14,
     "metadata": {},
     "output_type": "execute_result"
    }
   ],
   "source": [
    "TemplatesClass[TemplatesClass[\"Class\"]==\"II\"][\"Template\"]"
   ]
  },
  {
   "cell_type": "code",
   "execution_count": 11,
   "metadata": {},
   "outputs": [
    {
     "name": "stdout",
     "output_type": "stream",
     "text": [
      "AGN\n",
      "C-star\n",
      "Gal\n",
      "II\n",
      "II-norm\n",
      "IIb\n",
      "IIn\n",
      "Ia-02cx\n",
      "Ia-03fg\n",
      "Ia-91T\n",
      "Ia-91bg\n",
      "Ia-csm\n",
      "Ia-norm\n",
      "Ib-norm\n",
      "Ibn\n",
      "Ic-BL\n",
      "Ic-SLSN\n",
      "Ic-norm\n",
      "LBV\n",
      "M-star\n",
      "QSO\n"
     ]
    }
   ],
   "source": [
    "for i in np.unique(TemplatesClass[\"Class\"]): print(i)"
   ]
  },
  {
   "cell_type": "code",
   "execution_count": 7,
   "metadata": {},
   "outputs": [],
   "source": [
    "PreferredTemplatesClass = Table(\n",
    "                    names=(\"Template\", \"old_type\", \"new_type\"\n",
    "                    ),\n",
    "                    meta={\"name\": \"Template Types\"},\n",
    "                    dtype=(\"U64\", \"U64\", \"U64\"\n",
    "                          )\n",
    "                    )\n",
    "for i in templates:\n",
    "    f = open(i)\n",
    "    lines = f.readlines()\n",
    "    row = [i.split(\"/\")[-1].split(\".\")[0]]\n",
    "    sntype = lines[0].split()[-3]\n",
    "    row.append(sntype)\n",
    "    if(sntype == \"Ic-broad\"):\n",
    "        sntype = \"Ic-BL\"\n",
    "    elif(sntype == \"II\"):\n",
    "        sntype = \"II-norm\"\n",
    "    elif(sntype == \"IIP\"):\n",
    "        sntype = \"II-norm\"\n",
    "    elif(sntype == \"IIL\"):\n",
    "        sntype = \"II-norm\"\n",
    "    elif(sntype == \"Ic-SL\"):\n",
    "        sntype = \"SLSN-I\"\n",
    "    elif(sntype == \"SLSN-I\"):\n",
    "        sntype = \"Ic-SLSN\"\n",
    "    elif(sntype == \"Ia-99aa\"):\n",
    "        sntype = \"Ia-norm\"\n",
    "    row.append(sntype)\n",
    "    PreferredTemplatesClass.add_row(row)"
   ]
  },
  {
   "cell_type": "code",
   "execution_count": 8,
   "metadata": {},
   "outputs": [
    {
     "name": "stdout",
     "output_type": "stream",
     "text": [
      "AGN\n",
      "C-star\n",
      "Gal\n",
      "II-norm\n",
      "IIb\n",
      "IIn\n",
      "Ia-02cx\n",
      "Ia-03fg\n",
      "Ia-91T\n",
      "Ia-91bg\n",
      "Ia-csm\n",
      "Ia-norm\n",
      "Ib-norm\n",
      "Ibn\n",
      "Ic-BL\n",
      "Ic-SLSN\n",
      "Ic-norm\n",
      "LBV\n",
      "M-star\n",
      "QSO\n"
     ]
    }
   ],
   "source": [
    "for i in np.unique(PreferredTemplatesClass[\"new_type\"]): print(i)"
   ]
  },
  {
   "cell_type": "code",
   "execution_count": 9,
   "metadata": {},
   "outputs": [],
   "source": [
    "counter = 0\n",
    "for i in PreferredTemplatesClass:\n",
    "    f = open(\"/home/xhall/Documents/SNID/templates-2.0/\" + i[\"Template\"] + \".lnw\")\n",
    "    lines = f.readlines()\n",
    "    string = lines[0]\n",
    "    start = string.find(i[\"old_type\"])\n",
    "    if(start != -1):\n",
    "        replace = i[\"new_type\"]\n",
    "        back_string = string[start::]\n",
    "        back_string_len = len(back_string)\n",
    "        numlist = typeinfo[replace]\n",
    "        numstring = str(numlist[0]) + \"  \" + str(numlist[1])\n",
    "        back_string_new = str(replace) + \" \" * (back_string_len - len(numstring) - len(replace) - 1) + numstring + \"\\n\"\n",
    "        forward_string = string[0:start]\n",
    "        document = forward_string + back_string_new\n",
    "        for j in lines[1::]:\n",
    "            document += j\n",
    "\n",
    "        newfile = open(\"/home/xhall/Documents/SNID/templates-2.0/\" + i[\"Template\"] + \".lnw\", \"w+\")\n",
    "        newfile.write(document)\n",
    "        counter += 1"
   ]
  },
  {
   "cell_type": "code",
   "execution_count": 35,
   "metadata": {},
   "outputs": [],
   "source": [
    "string = \"  241 1024   2500.00  10000.00     12     sn1987A       -9.99  II-pec      4  3\"\n",
    "start = string.find(\"II-pec\")\n",
    "replace = \"II-norm\"\n",
    "back_string = string[start::]\n",
    "back_string_len = len(back_string)\n",
    "numlist = typeinfo[replace]\n",
    "numstring = str(numlist[0]) + \"  \" + str(numlist[1])\n",
    "back_string_new = str(replace) + \" \" * (back_string_len - len(numstring) - len(replace)) + numstring\n",
    "forward_string = string[0:start]\n",
    "new_string = forward_string + back_string_new"
   ]
  },
  {
   "cell_type": "code",
   "execution_count": 37,
   "metadata": {},
   "outputs": [
    {
     "data": {
      "text/plain": [
       "79"
      ]
     },
     "execution_count": 37,
     "metadata": {},
     "output_type": "execute_result"
    }
   ],
   "source": [
    "len(new_string)"
   ]
  },
  {
   "cell_type": "code",
   "execution_count": 14,
   "metadata": {},
   "outputs": [
    {
     "data": {
      "text/plain": [
       "1"
      ]
     },
     "execution_count": 14,
     "metadata": {},
     "output_type": "execute_result"
    }
   ],
   "source": [
    "len(\"\\n\")"
   ]
  },
  {
   "cell_type": "code",
   "execution_count": 10,
   "metadata": {},
   "outputs": [],
   "source": [
    "for i in templates:\n",
    "    f = open(i)\n",
    "    lines = f.readlines()\n",
    "    if(len(lines[0]) != 80):\n",
    "        print(i)"
   ]
  },
  {
   "cell_type": "code",
   "execution_count": 47,
   "metadata": {},
   "outputs": [
    {
     "data": {
      "text/html": [
       "<i>Table length=6365</i>\n",
       "<table id=\"table140437084523920\" class=\"table-striped table-bordered table-condensed\">\n",
       "<thead><tr><th>no</th><th>sn</th><th>type</th><th>lap</th><th>rlap</th><th>z</th><th>zerr</th><th>age</th><th>age_flag</th><th>grade</th></tr></thead>\n",
       "<thead><tr><th>int64</th><th>str12</th><th>str7</th><th>float64</th><th>float64</th><th>float64</th><th>float64</th><th>float64</th><th>int64</th><th>str4</th></tr></thead>\n",
       "<tr><td>10</td><td>kcSB5</td><td>Gal</td><td>0.8786</td><td>4.68</td><td>-0.0004</td><td>0.0048</td><td>-99.9</td><td>2</td><td>good</td></tr>\n",
       "<tr><td>11</td><td>kcSB3</td><td>Gal</td><td>0.8786</td><td>3.75</td><td>0.0002</td><td>0.0055</td><td>-99.9</td><td>2</td><td>good</td></tr>\n",
       "<tr><td>12</td><td>kcSB6</td><td>Gal</td><td>0.8786</td><td>3.72</td><td>-0.0006</td><td>0.0056</td><td>-99.9</td><td>2</td><td>good</td></tr>\n",
       "<tr><td>13</td><td>sn2004gq</td><td>Ib-norm</td><td>0.6539</td><td>3.71</td><td>0.1107</td><td>0.0181</td><td>-9.0</td><td>0</td><td>bad</td></tr>\n",
       "<tr><td>14</td><td>sn04aw</td><td>Ic-norm</td><td>0.7338</td><td>3.65</td><td>0.2443</td><td>0.0089</td><td>46.0</td><td>0</td><td>bad</td></tr>\n",
       "<tr><td>15</td><td>sn91T</td><td>Ia-91T</td><td>0.7852</td><td>3.62</td><td>0.1559</td><td>0.0167</td><td>-11.5</td><td>0</td><td>bad</td></tr>\n",
       "<tr><td>16</td><td>sn1991T</td><td>Ia-91T</td><td>0.7852</td><td>3.61</td><td>0.1559</td><td>0.0167</td><td>-12.8</td><td>0</td><td>bad</td></tr>\n",
       "<tr><td>17</td><td>sn2007C</td><td>Ib-norm</td><td>0.6552</td><td>3.6</td><td>0.0969</td><td>0.0124</td><td>-4.71</td><td>0</td><td>bad</td></tr>\n",
       "<tr><td>18</td><td>sn2005az</td><td>Ic-norm</td><td>0.6525</td><td>3.58</td><td>0.2396</td><td>0.0161</td><td>22.3</td><td>0</td><td>bad</td></tr>\n",
       "<tr><td>19</td><td>agn</td><td>AGN</td><td>0.7987</td><td>3.54</td><td>-0.0001</td><td>0.0069</td><td>-99.9</td><td>2</td><td>good</td></tr>\n",
       "<tr><td>...</td><td>...</td><td>...</td><td>...</td><td>...</td><td>...</td><td>...</td><td>...</td><td>...</td><td>...</td></tr>\n",
       "<tr><td>6365</td><td>sn90B</td><td>Ic-norm</td><td>0.8448</td><td>0.45</td><td>0.234</td><td>0.0678</td><td>88.0</td><td>0</td><td>bad</td></tr>\n",
       "<tr><td>6366</td><td>sn2005hg</td><td>Ib-norm</td><td>0.4048</td><td>0.44</td><td>-0.0087</td><td>0.0307</td><td>22.71</td><td>0</td><td>good</td></tr>\n",
       "<tr><td>6367</td><td>sn1990B</td><td>Ic-norm</td><td>0.4576</td><td>0.41</td><td>0.2347</td><td>0.0976</td><td>47.4</td><td>0</td><td>bad</td></tr>\n",
       "<tr><td>6368</td><td>sn90B</td><td>Ic-norm</td><td>0.4576</td><td>0.41</td><td>0.2347</td><td>0.0979</td><td>47.4</td><td>0</td><td>bad</td></tr>\n",
       "<tr><td>6369</td><td>sn02ap</td><td>Ic-BL</td><td>0.7338</td><td>0.39</td><td>0.2039</td><td>0.0343</td><td>12.7</td><td>0</td><td>bad</td></tr>\n",
       "<tr><td>6370</td><td>sn2002ap</td><td>Ic-BL</td><td>0.7338</td><td>0.39</td><td>0.2041</td><td>0.0342</td><td>12.7</td><td>0</td><td>bad</td></tr>\n",
       "<tr><td>6371</td><td>sn2010bh</td><td>Ic-BL</td><td>0.8691</td><td>0.38</td><td>0.2866</td><td>0.0565</td><td>14.4</td><td>0</td><td>bad</td></tr>\n",
       "<tr><td>6372</td><td>iPTF13ajg</td><td>SLSN-I</td><td>0.8786</td><td>0.35</td><td>1.0442</td><td>0.0157</td><td>7.7</td><td>0</td><td>bad</td></tr>\n",
       "<tr><td>6373</td><td>sn2003dh</td><td>Ic-BL</td><td>0.6214</td><td>0.34</td><td>0.2083</td><td>0.0691</td><td>-8.1</td><td>0</td><td>bad</td></tr>\n",
       "<tr><td>6374</td><td>sn2011ke</td><td>SLSN-I</td><td>0.6363</td><td>0.29</td><td>0.0295</td><td>0.0278</td><td>30.62</td><td>0</td><td>bad</td></tr>\n",
       "</table>"
      ],
      "text/plain": [
       "<Table length=6365>\n",
       "  no      sn      type    lap     rlap     z      zerr    age   age_flag grade\n",
       "int64   str12     str7  float64 float64 float64 float64 float64  int64    str4\n",
       "----- --------- ------- ------- ------- ------- ------- ------- -------- -----\n",
       "   10     kcSB5     Gal  0.8786    4.68 -0.0004  0.0048   -99.9        2  good\n",
       "   11     kcSB3     Gal  0.8786    3.75  0.0002  0.0055   -99.9        2  good\n",
       "   12     kcSB6     Gal  0.8786    3.72 -0.0006  0.0056   -99.9        2  good\n",
       "   13  sn2004gq Ib-norm  0.6539    3.71  0.1107  0.0181    -9.0        0   bad\n",
       "   14    sn04aw Ic-norm  0.7338    3.65  0.2443  0.0089    46.0        0   bad\n",
       "   15     sn91T  Ia-91T  0.7852    3.62  0.1559  0.0167   -11.5        0   bad\n",
       "   16   sn1991T  Ia-91T  0.7852    3.61  0.1559  0.0167   -12.8        0   bad\n",
       "   17   sn2007C Ib-norm  0.6552     3.6  0.0969  0.0124   -4.71        0   bad\n",
       "   18  sn2005az Ic-norm  0.6525    3.58  0.2396  0.0161    22.3        0   bad\n",
       "   19       agn     AGN  0.7987    3.54 -0.0001  0.0069   -99.9        2  good\n",
       "  ...       ...     ...     ...     ...     ...     ...     ...      ...   ...\n",
       " 6365     sn90B Ic-norm  0.8448    0.45   0.234  0.0678    88.0        0   bad\n",
       " 6366  sn2005hg Ib-norm  0.4048    0.44 -0.0087  0.0307   22.71        0  good\n",
       " 6367   sn1990B Ic-norm  0.4576    0.41  0.2347  0.0976    47.4        0   bad\n",
       " 6368     sn90B Ic-norm  0.4576    0.41  0.2347  0.0979    47.4        0   bad\n",
       " 6369    sn02ap   Ic-BL  0.7338    0.39  0.2039  0.0343    12.7        0   bad\n",
       " 6370  sn2002ap   Ic-BL  0.7338    0.39  0.2041  0.0342    12.7        0   bad\n",
       " 6371  sn2010bh   Ic-BL  0.8691    0.38  0.2866  0.0565    14.4        0   bad\n",
       " 6372 iPTF13ajg  SLSN-I  0.8786    0.35  1.0442  0.0157     7.7        0   bad\n",
       " 6373  sn2003dh   Ic-BL  0.6214    0.34  0.2083  0.0691    -8.1        0   bad\n",
       " 6374  sn2011ke  SLSN-I  0.6363    0.29  0.0295  0.0278   30.62        0   bad"
      ]
     },
     "execution_count": 47,
     "metadata": {},
     "output_type": "execute_result"
    }
   ],
   "source": [
    "Table.read(\"/home/xhall/Documents/NewZTF/SNIDoutput/ZTF17aaajnki_20180320_P60_v2_snid.output\", format = \"ascii\", data_start = 39, names = [\"no\", \"sn\", \"type\", \"lap\", \"rlap\", \"z\", \"zerr\", \"age\", \"age_flag\", \"grade\"])"
   ]
  },
  {
   "cell_type": "code",
   "execution_count": null,
   "metadata": {},
   "outputs": [],
   "source": []
  }
 ],
 "metadata": {
  "kernelspec": {
   "display_name": "Python 3",
   "language": "python",
   "name": "python3"
  },
  "language_info": {
   "codemirror_mode": {
    "name": "ipython",
    "version": 3
   },
   "file_extension": ".py",
   "mimetype": "text/x-python",
   "name": "python",
   "nbconvert_exporter": "python",
   "pygments_lexer": "ipython3",
   "version": "3.7.6"
  }
 },
 "nbformat": 4,
 "nbformat_minor": 4
}
