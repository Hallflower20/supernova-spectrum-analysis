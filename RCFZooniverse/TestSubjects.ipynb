{
 "cells": [
  {
   "cell_type": "code",
   "execution_count": 1,
   "metadata": {},
   "outputs": [],
   "source": [
    "import numpy as np\n",
    "import pandas as pd\n",
    "import glob\n",
    "from astropy.table import Table\n",
    "import matplotlib.pyplot as plt\n",
    "import json \n",
    "import collections\n",
    "import astropy"
   ]
  },
  {
   "cell_type": "code",
   "execution_count": 2,
   "metadata": {},
   "outputs": [],
   "source": [
    "sample = Table.read(\"C:/Users/20xha/Documents/Caltech/Research/superfit/ZTFI_data/sample/SEDM_ML_sample.ascii\", format = \"ascii\")\n",
    "sample.rename_column('col1', 'ZTF_Name')\n",
    "sample.rename_column('col2', \"Class\")\n",
    "sample.rename_column('col3', \"redshift\")\n",
    "sample.rename_column('col8', \"Version\")"
   ]
  },
  {
   "cell_type": "code",
   "execution_count": 3,
   "metadata": {},
   "outputs": [],
   "source": [
    "class_new = Table.from_pandas(pd.read_csv(r'thermonuclear-white-dwarf-classifications2.csv'))"
   ]
  },
  {
   "cell_type": "code",
   "execution_count": 10,
   "metadata": {},
   "outputs": [],
   "source": [
    "classification = class_new[np.where(class_new[\"workflow_version\"] == 98.24)[0]]"
   ]
  },
  {
   "cell_type": "code",
   "execution_count": 11,
   "metadata": {},
   "outputs": [
    {
     "data": {
      "text/html": [
       "<i>Row index=0</i>\n",
       "<table id=\"table2750487943104\">\n",
       "<thead><tr><th>classification_id</th><th>user_name</th><th>user_id</th><th>user_ip</th><th>workflow_id</th><th>workflow_name</th><th>workflow_version</th><th>created_at</th><th>gold_standard</th><th>expert</th><th>metadata</th><th>annotations</th><th>subject_data</th><th>subject_ids</th></tr></thead>\n",
       "<thead><tr><th>int64</th><th>str34</th><th>float64</th><th>str20</th><th>int64</th><th>str25</th><th>float64</th><th>str23</th><th>float64</th><th>float64</th><th>str2781</th><th>str532</th><th>str485</th><th>int64</th></tr></thead>\n",
       "<tr><td>358676930</td><td>adamamiller</td><td>1499915.0</td><td>35e103766a70be60d82a</td><td>16841</td><td>Thermonuclear White Dwarf</td><td>98.24</td><td>2021-09-09 16:45:49 UTC</td><td>--</td><td>--</td><td>{&quot;source&quot;:&quot;api&quot;,&quot;session&quot;:&quot;8d448746e8584bebc2cb489ab6e4ab59767927c16abd8e3143db62c3d3a1a602&quot;,&quot;viewport&quot;:{&quot;width&quot;:1380,&quot;height&quot;:905},&quot;started_at&quot;:&quot;2021-09-09T16:45:25.852Z&quot;,&quot;user_agent&quot;:&quot;Mozilla/5.0 (Macintosh; Intel Mac OS X 10.15; rv:91.0) Gecko/20100101 Firefox/91.0&quot;,&quot;utc_offset&quot;:&quot;18000&quot;,&quot;finished_at&quot;:&quot;2021-09-09T16:45:49.132Z&quot;,&quot;live_project&quot;:true,&quot;interventions&quot;:{&quot;opt_in&quot;:true,&quot;messageShown&quot;:false},&quot;user_language&quot;:&quot;en&quot;,&quot;user_group_ids&quot;:[],&quot;subject_dimensions&quot;:[{&quot;clientWidth&quot;:880,&quot;clientHeight&quot;:495,&quot;naturalWidth&quot;:4800,&quot;naturalHeight&quot;:2700},{&quot;clientWidth&quot;:880,&quot;clientHeight&quot;:495,&quot;naturalWidth&quot;:4800,&quot;naturalHeight&quot;:2700}],&quot;subject_selection_state&quot;:{&quot;retired&quot;:true,&quot;selected_at&quot;:&quot;2021-09-09T16:45:25.885Z&quot;,&quot;already_seen&quot;:false,&quot;selection_state&quot;:&quot;failover_fallback&quot;,&quot;finished_workflow&quot;:true,&quot;user_has_finished_workflow&quot;:true},&quot;workflow_translation_id&quot;:&quot;39161&quot;}</td><td>[{&quot;task&quot;:&quot;T0&quot;,&quot;value&quot;:[{&quot;choice&quot;:&quot;NONSNAGNORCVORGALORETC&quot;,&quot;answers&quot;:{&quot;NOTASNSUBTYPE&quot;:&quot;CV&quot;,&quot;HOWDIDYOUARRIVEATTHISCLASSIFICATION&quot;:&quot;MARSHAL&quot;,&quot;IFSNIDSUPERFITWHICHIMAGEPROVIDESTHEBESTMATCHMARSHAL999&quot;:&quot;999&quot;},&quot;filters&quot;:{}}]}]</td><td>{&quot;65796265&quot;:{&quot;retired&quot;:{&quot;id&quot;:89596465,&quot;workflow_id&quot;:16841,&quot;classifications_count&quot;:4,&quot;created_at&quot;:&quot;2021-08-10T19:06:21.180Z&quot;,&quot;updated_at&quot;:&quot;2021-08-26T07:58:35.558Z&quot;,&quot;retired_at&quot;:&quot;2021-08-26T07:58:35.549Z&quot;,&quot;subject_id&quot;:65796265,&quot;retirement_reason&quot;:&quot;classification_count&quot;},&quot;Fritz&quot;:&quot;https://fritz.science/source/ZTF18ablvazp&quot;,&quot;z_obs&quot;:&quot;-&quot;,&quot;Marshall&quot;:&quot;http://skipper.caltech.edu:8080/cgi-bin/growth/view_source.cgi?name=ZTF18ablvazp&quot;,&quot;ZTF_Name&quot;:&quot;ZTF18ablvazp&quot;}}</td><td>65796265</td></tr>\n",
       "</table>"
      ],
      "text/plain": [
       "<Row index=0>\n",
       "classification_id  user_name   user_id        user_ip        workflow_id       workflow_name       workflow_version        created_at       gold_standard  expert                                                                                                                                                                                                                                                                                                                                                                                                                                              metadata                                                                                                                                                                                                                                                                                                                                                                                                                                                                                                                                                    annotations                                                                                                                                                                                                                                                                                                                                       subject_data                                                                                                                                                                                                                              subject_ids\n",
       "      int64          str34     float64         str20            int64              str25               float64               str23             float64    float64                                                                                                                                                                                                                                                                                                                                                                                                                                              str2781                                                                                                                                                                                                                                                                                                                                                                                                                                                                                                                                                        str532                                                                                                                                                                                                                                                                                                                                            str485                                                                                                                                                                                                                                    int64   \n",
       "----------------- ----------- --------- -------------------- ----------- ------------------------- ---------------- ----------------------- ------------- ------- ------------------------------------------------------------------------------------------------------------------------------------------------------------------------------------------------------------------------------------------------------------------------------------------------------------------------------------------------------------------------------------------------------------------------------------------------------------------------------------------------------------------------------------------------------------------------------------------------------------------------------------------------------------------------------------------------------------------------------------------------------------------------------------------------------------------------------------------------------------------------------------------------- -------------------------------------------------------------------------------------------------------------------------------------------------------------------------------------------------------------------------- ----------------------------------------------------------------------------------------------------------------------------------------------------------------------------------------------------------------------------------------------------------------------------------------------------------------------------------------------------------------------------------------------------------------------------------------------------------------------- -----------\n",
       "        358676930 adamamiller 1499915.0 35e103766a70be60d82a       16841 Thermonuclear White Dwarf            98.24 2021-09-09 16:45:49 UTC            --      -- {\"source\":\"api\",\"session\":\"8d448746e8584bebc2cb489ab6e4ab59767927c16abd8e3143db62c3d3a1a602\",\"viewport\":{\"width\":1380,\"height\":905},\"started_at\":\"2021-09-09T16:45:25.852Z\",\"user_agent\":\"Mozilla/5.0 (Macintosh; Intel Mac OS X 10.15; rv:91.0) Gecko/20100101 Firefox/91.0\",\"utc_offset\":\"18000\",\"finished_at\":\"2021-09-09T16:45:49.132Z\",\"live_project\":true,\"interventions\":{\"opt_in\":true,\"messageShown\":false},\"user_language\":\"en\",\"user_group_ids\":[],\"subject_dimensions\":[{\"clientWidth\":880,\"clientHeight\":495,\"naturalWidth\":4800,\"naturalHeight\":2700},{\"clientWidth\":880,\"clientHeight\":495,\"naturalWidth\":4800,\"naturalHeight\":2700}],\"subject_selection_state\":{\"retired\":true,\"selected_at\":\"2021-09-09T16:45:25.885Z\",\"already_seen\":false,\"selection_state\":\"failover_fallback\",\"finished_workflow\":true,\"user_has_finished_workflow\":true},\"workflow_translation_id\":\"39161\"} [{\"task\":\"T0\",\"value\":[{\"choice\":\"NONSNAGNORCVORGALORETC\",\"answers\":{\"NOTASNSUBTYPE\":\"CV\",\"HOWDIDYOUARRIVEATTHISCLASSIFICATION\":\"MARSHAL\",\"IFSNIDSUPERFITWHICHIMAGEPROVIDESTHEBESTMATCHMARSHAL999\":\"999\"},\"filters\":{}}]}] {\"65796265\":{\"retired\":{\"id\":89596465,\"workflow_id\":16841,\"classifications_count\":4,\"created_at\":\"2021-08-10T19:06:21.180Z\",\"updated_at\":\"2021-08-26T07:58:35.558Z\",\"retired_at\":\"2021-08-26T07:58:35.549Z\",\"subject_id\":65796265,\"retirement_reason\":\"classification_count\"},\"Fritz\":\"https://fritz.science/source/ZTF18ablvazp\",\"z_obs\":\"-\",\"Marshall\":\"http://skipper.caltech.edu:8080/cgi-bin/growth/view_source.cgi?name=ZTF18ablvazp\",\"ZTF_Name\":\"ZTF18ablvazp\"}}    65796265"
      ]
     },
     "execution_count": 11,
     "metadata": {},
     "output_type": "execute_result"
    }
   ],
   "source": [
    "classification[0]"
   ]
  },
  {
   "cell_type": "code",
   "execution_count": 12,
   "metadata": {},
   "outputs": [],
   "source": [
    "subject_ids_unique = np.unique(classification[\"subject_ids\"])"
   ]
  },
  {
   "cell_type": "code",
   "execution_count": 13,
   "metadata": {},
   "outputs": [
    {
     "name": "stdout",
     "output_type": "stream",
     "text": [
      "0\n",
      "200\n",
      "400\n",
      "600\n",
      "800\n",
      "1000\n"
     ]
    }
   ],
   "source": [
    "data = []\n",
    "counter = 0\n",
    "for ids in subject_ids_unique:\n",
    "    if(counter % 200 == 0):\n",
    "        print(counter)\n",
    "    counter += 1\n",
    "    lines = np.where(classification[\"subject_ids\"] == ids)[0]\n",
    "    data.append([ids, lines])"
   ]
  },
  {
   "cell_type": "code",
   "execution_count": 14,
   "metadata": {},
   "outputs": [],
   "source": [
    "data_np = np.asarray(data)"
   ]
  },
  {
   "cell_type": "code",
   "execution_count": 15,
   "metadata": {},
   "outputs": [
    {
     "data": {
      "text/plain": [
       "2"
      ]
     },
     "execution_count": 15,
     "metadata": {},
     "output_type": "execute_result"
    }
   ],
   "source": [
    "data_array = []\n",
    "max_len = 0\n",
    "for i in data_np:\n",
    "    if(len(i[1]) > 1):\n",
    "        if(len(i[1])> max_len):\n",
    "            max_len = len(i[1])\n",
    "        data_array.append([i[0], classification[i[1]]])\n",
    "max_len"
   ]
  },
  {
   "cell_type": "code",
   "execution_count": 16,
   "metadata": {},
   "outputs": [
    {
     "data": {
      "text/plain": [
       "442"
      ]
     },
     "execution_count": 16,
     "metadata": {},
     "output_type": "execute_result"
    }
   ],
   "source": [
    "len(data_array)"
   ]
  },
  {
   "cell_type": "code",
   "execution_count": 17,
   "metadata": {},
   "outputs": [
    {
     "data": {
      "text/html": [
       "<i>Table length=2</i>\n",
       "<table id=\"table2750469680144\" class=\"table-striped table-bordered table-condensed\">\n",
       "<thead><tr><th>classification_id</th><th>user_name</th><th>user_id</th><th>user_ip</th><th>workflow_id</th><th>workflow_name</th><th>workflow_version</th><th>created_at</th><th>gold_standard</th><th>expert</th><th>metadata</th><th>annotations</th><th>subject_data</th><th>subject_ids</th></tr></thead>\n",
       "<thead><tr><th>int64</th><th>str34</th><th>float64</th><th>str20</th><th>int64</th><th>str25</th><th>float64</th><th>str23</th><th>float64</th><th>float64</th><th>str2781</th><th>str532</th><th>str485</th><th>int64</th></tr></thead>\n",
       "<tr><td>395795654</td><td>Young-Lo</td><td>1945442.0</td><td>4228e1b45b2ae830fef8</td><td>16841</td><td>Thermonuclear White Dwarf</td><td>98.24</td><td>2022-02-09 16:10:44 UTC</td><td>--</td><td>--</td><td>{&quot;source&quot;:&quot;api&quot;,&quot;session&quot;:&quot;0d12b3b994bf8397f6191eb5dc4d56936590e4c7c68f806021e91421d7fdbc21&quot;,&quot;viewport&quot;:{&quot;width&quot;:1426,&quot;height&quot;:801},&quot;started_at&quot;:&quot;2022-02-09T16:09:25.548Z&quot;,&quot;user_agent&quot;:&quot;Mozilla/5.0 (Macintosh; Intel Mac OS X 10_15_7) AppleWebKit/605.1.15 (KHTML, like Gecko) Version/15.3 Safari/605.1.15&quot;,&quot;utc_offset&quot;:&quot;0&quot;,&quot;finished_at&quot;:&quot;2022-02-09T16:10:44.030Z&quot;,&quot;live_project&quot;:true,&quot;interventions&quot;:{&quot;opt_in&quot;:true,&quot;messageShown&quot;:false},&quot;user_language&quot;:&quot;en&quot;,&quot;user_group_ids&quot;:[],&quot;subject_dimensions&quot;:[{&quot;clientWidth&quot;:908,&quot;clientHeight&quot;:511,&quot;naturalWidth&quot;:4800,&quot;naturalHeight&quot;:2700}],&quot;subject_selection_state&quot;:{&quot;retired&quot;:false,&quot;selected_at&quot;:&quot;2022-02-09T16:08:35.446Z&quot;,&quot;already_seen&quot;:false,&quot;selection_state&quot;:&quot;normal&quot;,&quot;finished_workflow&quot;:false,&quot;user_has_finished_workflow&quot;:false},&quot;workflow_translation_id&quot;:&quot;39161&quot;}</td><td>[{&quot;task&quot;:&quot;T0&quot;,&quot;value&quot;:[{&quot;choice&quot;:&quot;SNIA91T&quot;,&quot;answers&quot;:{&quot;HOWDIDYOUARRIVEATTHISCLASSIFICATION&quot;:&quot;SNID&quot;,&quot;IFSNIDSUPERFITWHICHIMAGEPROVIDESTHEBESTMATCHMARSHAL999&quot;:&quot;1&quot;},&quot;filters&quot;:{}}]}]</td><td>{&quot;68677647&quot;:{&quot;retired&quot;:{&quot;id&quot;:92576000,&quot;workflow_id&quot;:16841,&quot;classifications_count&quot;:2,&quot;created_at&quot;:&quot;2021-09-15T02:06:51.243Z&quot;,&quot;updated_at&quot;:&quot;2022-03-14T15:02:11.529Z&quot;,&quot;retired_at&quot;:&quot;2022-03-14T15:02:11.522Z&quot;,&quot;subject_id&quot;:68677647,&quot;retirement_reason&quot;:&quot;classification_count&quot;},&quot;Fritz&quot;:&quot;https://fritz.science/source/ZTF18acrfklz&quot;,&quot;z_obs&quot;:&quot;0.12&quot;,&quot;Marshall&quot;:&quot;http://skipper.caltech.edu:8080/cgi-bin/growth/view_source.cgi?name=ZTF18acrfklz&quot;,&quot;ZTF_Name&quot;:&quot;ZTF18acrfklz&quot;}}</td><td>68677647</td></tr>\n",
       "<tr><td>402595940</td><td>K-Ryan</td><td>2390483.0</td><td>50e8858c52aba174b5c9</td><td>16841</td><td>Thermonuclear White Dwarf</td><td>98.24</td><td>2022-03-14 15:02:11 UTC</td><td>--</td><td>--</td><td>{&quot;source&quot;:&quot;api&quot;,&quot;session&quot;:&quot;ea606f226e2512d06af73f3bd465dee7ec6446cc19f5d1a2b270b67e8e19d49c&quot;,&quot;viewport&quot;:{&quot;width&quot;:1440,&quot;height&quot;:820},&quot;started_at&quot;:&quot;2022-03-14T15:01:52.667Z&quot;,&quot;user_agent&quot;:&quot;Mozilla/5.0 (Macintosh; Intel Mac OS X 10_15_7) AppleWebKit/605.1.15 (KHTML, like Gecko) Version/15.3 Safari/605.1.15&quot;,&quot;utc_offset&quot;:&quot;0&quot;,&quot;finished_at&quot;:&quot;2022-03-14T15:02:11.296Z&quot;,&quot;live_project&quot;:true,&quot;interventions&quot;:{&quot;opt_in&quot;:true,&quot;messageShown&quot;:false},&quot;user_language&quot;:&quot;en&quot;,&quot;user_group_ids&quot;:[],&quot;subject_dimensions&quot;:[{&quot;clientWidth&quot;:936,&quot;clientHeight&quot;:527,&quot;naturalWidth&quot;:4800,&quot;naturalHeight&quot;:2700}],&quot;subject_selection_state&quot;:{&quot;retired&quot;:false,&quot;selected_at&quot;:&quot;2022-03-14T15:01:13.384Z&quot;,&quot;already_seen&quot;:false,&quot;selection_state&quot;:&quot;normal&quot;,&quot;finished_workflow&quot;:false,&quot;user_has_finished_workflow&quot;:false},&quot;workflow_translation_id&quot;:&quot;39161&quot;}</td><td>[{&quot;task&quot;:&quot;T0&quot;,&quot;value&quot;:[{&quot;choice&quot;:&quot;SNIA91T&quot;,&quot;answers&quot;:{&quot;HOWDIDYOUARRIVEATTHISCLASSIFICATION&quot;:&quot;SNID&quot;,&quot;IFSNIDSUPERFITWHICHIMAGEPROVIDESTHEBESTMATCHMARSHAL999&quot;:&quot;1&quot;},&quot;filters&quot;:{}}]}]</td><td>{&quot;68677647&quot;:{&quot;retired&quot;:{&quot;id&quot;:92576000,&quot;workflow_id&quot;:16841,&quot;classifications_count&quot;:2,&quot;created_at&quot;:&quot;2021-09-15T02:06:51.243Z&quot;,&quot;updated_at&quot;:&quot;2022-03-14T15:02:11.529Z&quot;,&quot;retired_at&quot;:&quot;2022-03-14T15:02:11.522Z&quot;,&quot;subject_id&quot;:68677647,&quot;retirement_reason&quot;:&quot;classification_count&quot;},&quot;Fritz&quot;:&quot;https://fritz.science/source/ZTF18acrfklz&quot;,&quot;z_obs&quot;:&quot;0.12&quot;,&quot;Marshall&quot;:&quot;http://skipper.caltech.edu:8080/cgi-bin/growth/view_source.cgi?name=ZTF18acrfklz&quot;,&quot;ZTF_Name&quot;:&quot;ZTF18acrfklz&quot;}}</td><td>68677647</td></tr>\n",
       "</table>"
      ],
      "text/plain": [
       "<Table length=2>\n",
       "classification_id user_name ... subject_ids\n",
       "      int64         str34   ...    int64   \n",
       "----------------- --------- ... -----------\n",
       "        395795654  Young-Lo ...    68677647\n",
       "        402595940    K-Ryan ...    68677647"
      ]
     },
     "execution_count": 17,
     "metadata": {},
     "output_type": "execute_result"
    }
   ],
   "source": [
    "data_array[33][1]"
   ]
  },
  {
   "cell_type": "code",
   "execution_count": 18,
   "metadata": {},
   "outputs": [
    {
     "ename": "KeyError",
     "evalue": "'WHICHIMAGEPROVIDESTHEBESTMATCH'",
     "output_type": "error",
     "traceback": [
      "\u001b[1;31m---------------------------------------------------------------------------\u001b[0m",
      "\u001b[1;31mKeyError\u001b[0m                                  Traceback (most recent call last)",
      "\u001b[1;32m<ipython-input-18-c015dfa0b4b6>\u001b[0m in \u001b[0;36m<module>\u001b[1;34m\u001b[0m\n\u001b[0;32m     24\u001b[0m                         \u001b[0mgiven_type\u001b[0m \u001b[1;33m=\u001b[0m \u001b[0mgiven_type\u001b[0m\u001b[1;31m# + \"-\" + value[0][\"answers\"][\"NOTASNSUBTYPE\"]\u001b[0m\u001b[1;33m\u001b[0m\u001b[1;33m\u001b[0m\u001b[0m\n\u001b[0;32m     25\u001b[0m                     \u001b[0mrow\u001b[0m\u001b[1;33m.\u001b[0m\u001b[0mappend\u001b[0m\u001b[1;33m(\u001b[0m\u001b[0mgiven_type\u001b[0m\u001b[1;33m)\u001b[0m\u001b[1;33m\u001b[0m\u001b[1;33m\u001b[0m\u001b[0m\n\u001b[1;32m---> 26\u001b[1;33m                     \u001b[0mrow\u001b[0m\u001b[1;33m.\u001b[0m\u001b[0mappend\u001b[0m\u001b[1;33m(\u001b[0m\u001b[0mvalue\u001b[0m\u001b[1;33m[\u001b[0m\u001b[1;36m0\u001b[0m\u001b[1;33m]\u001b[0m\u001b[1;33m[\u001b[0m\u001b[1;34m\"answers\"\u001b[0m\u001b[1;33m]\u001b[0m\u001b[1;33m[\u001b[0m\u001b[1;34m\"WHICHIMAGEPROVIDESTHEBESTMATCH\"\u001b[0m\u001b[1;33m]\u001b[0m\u001b[1;33m)\u001b[0m\u001b[1;33m\u001b[0m\u001b[1;33m\u001b[0m\u001b[0m\n\u001b[0m\u001b[0;32m     27\u001b[0m     \u001b[1;32mif\u001b[0m\u001b[1;33m(\u001b[0m\u001b[0mlen\u001b[0m\u001b[1;33m(\u001b[0m\u001b[0mrow\u001b[0m\u001b[1;33m)\u001b[0m \u001b[1;33m==\u001b[0m \u001b[1;36m8\u001b[0m\u001b[1;33m)\u001b[0m\u001b[1;33m:\u001b[0m\u001b[1;33m\u001b[0m\u001b[1;33m\u001b[0m\u001b[0m\n\u001b[0;32m     28\u001b[0m         \u001b[0mrow\u001b[0m\u001b[1;33m.\u001b[0m\u001b[0mextend\u001b[0m\u001b[1;33m(\u001b[0m\u001b[1;33m[\u001b[0m\u001b[1;34m\"NA\"\u001b[0m\u001b[1;33m,\u001b[0m\u001b[1;34m\"NA\"\u001b[0m\u001b[1;33m,\u001b[0m\u001b[1;34m\"NA\"\u001b[0m\u001b[1;33m,\u001b[0m\u001b[1;34m\"NA\"\u001b[0m\u001b[1;33m,\u001b[0m\u001b[1;34m\"NA\"\u001b[0m\u001b[1;33m,\u001b[0m\u001b[1;34m\"NA\"\u001b[0m\u001b[1;33m,\u001b[0m\u001b[1;34m\"NA\"\u001b[0m\u001b[1;33m,\u001b[0m\u001b[1;34m\"NA\"\u001b[0m\u001b[1;33m,\u001b[0m\u001b[1;34m\"NA\"\u001b[0m\u001b[1;33m]\u001b[0m\u001b[1;33m)\u001b[0m\u001b[1;33m\u001b[0m\u001b[1;33m\u001b[0m\u001b[0m\n",
      "\u001b[1;31mKeyError\u001b[0m: 'WHICHIMAGEPROVIDESTHEBESTMATCH'"
     ]
    }
   ],
   "source": [
    "ResultsTable_Zooniverse = Table(\n",
    "                    names=(\"ZTF_Name\", \"subject_ids\", \"classifier_1\", \"classification_1\", \"best_match_1\", \"classifier_2\", \"classification_2\", \"best_match_2\", \"classifier_3\", \"classification_3\", \"best_match_3\", \"classifier_4\", \"classification_4\", \"best_match_4\", \"classifier_5\", \"classification_5\", \"best_match_5\"\n",
    "                    ),\n",
    "                    meta={\"name\": \"Spectrum Results after Zooniverse\"},\n",
    "                    dtype=(\"U64\", \"int32\", \"U64\", \"U64\", \"U64\", \"U64\", \"U64\", \"U64\", \"U64\", \"U64\", \"U64\", \"U64\", \"U64\", \"U64\", \"U64\", \"U64\", \"U64\"\n",
    "                          )\n",
    "                    )\n",
    "for line in data_array:\n",
    "    row = []\n",
    "    data = line[1]\n",
    "    metadata = json.loads(data[0][\"subject_data\"])[str(line[0])]\n",
    "    row.append(metadata[\"ZTF_Name\"])\n",
    "    row.append(line[0])\n",
    "    for i in data:\n",
    "        if(i[\"user_name\"] not in row):\n",
    "            row.append(i[\"user_name\"])\n",
    "            value = json.loads(i[\"annotations\"])[0][\"value\"]\n",
    "            if(value is not None):\n",
    "                given_type = value[0][\"choice\"]\n",
    "                if(given_type == \"NOGOODMATCH\"):\n",
    "                    row.extend([given_type, \"NA\"])\n",
    "                else:\n",
    "                    if(given_type == \"NONSNAGNORCVORGALORETC\"):\n",
    "                        given_type = given_type# + \"-\" + value[0][\"answers\"][\"NOTASNSUBTYPE\"]\n",
    "                    row.append(given_type)\n",
    "                    row.append(value[0][\"answers\"][\"WHICHIMAGEPROVIDESTHEBESTMATCH\"])\n",
    "    if(len(row) == 8):\n",
    "        row.extend([\"NA\",\"NA\",\"NA\",\"NA\",\"NA\",\"NA\",\"NA\",\"NA\",\"NA\"])\n",
    "    if(len(row) == 11):\n",
    "        row.extend([\"NA\",\"NA\",\"NA\",\"NA\",\"NA\",\"NA\"])\n",
    "    if(len(row) == 14):\n",
    "        row.extend([\"NA\",\"NA\",\"NA\"])\n",
    "    ResultsTable_Zooniverse.add_row(row)"
   ]
  },
  {
   "cell_type": "code",
   "execution_count": 20,
   "metadata": {},
   "outputs": [
    {
     "data": {
      "text/plain": [
       "['ZTF18abokhip', 68677455, 'steveschulze', 'CANNOTBECLASSIFIED']"
      ]
     },
     "execution_count": 20,
     "metadata": {},
     "output_type": "execute_result"
    }
   ],
   "source": [
    "row"
   ]
  },
  {
   "cell_type": "code",
   "execution_count": 13,
   "metadata": {},
   "outputs": [
    {
     "data": {
      "text/plain": [
       "'NOGOODMATCH'"
      ]
     },
     "execution_count": 13,
     "metadata": {},
     "output_type": "execute_result"
    }
   ],
   "source": [
    "value[0][\"choice\"]"
   ]
  },
  {
   "cell_type": "code",
   "execution_count": 14,
   "metadata": {},
   "outputs": [
    {
     "data": {
      "text/plain": [
       "17"
      ]
     },
     "execution_count": 14,
     "metadata": {},
     "output_type": "execute_result"
    }
   ],
   "source": [
    "len(row)"
   ]
  },
  {
   "cell_type": "code",
   "execution_count": 15,
   "metadata": {},
   "outputs": [
    {
     "data": {
      "text/plain": [
       "{'choice': 'NOGOODMATCH', 'answers': {}, 'filters': {}}"
      ]
     },
     "execution_count": 15,
     "metadata": {},
     "output_type": "execute_result"
    }
   ],
   "source": [
    "value[0]"
   ]
  },
  {
   "cell_type": "code",
   "execution_count": 30,
   "metadata": {},
   "outputs": [
    {
     "data": {
      "text/plain": [
       "91"
      ]
     },
     "execution_count": 30,
     "metadata": {},
     "output_type": "execute_result"
    }
   ],
   "source": [
    "np.sum(ResultsTable_Zooniverse[\"classification_1\"] == \"NOGOODMATCH\")"
   ]
  },
  {
   "cell_type": "code",
   "execution_count": 31,
   "metadata": {},
   "outputs": [
    {
     "data": {
      "text/plain": [
       "45"
      ]
     },
     "execution_count": 31,
     "metadata": {},
     "output_type": "execute_result"
    }
   ],
   "source": [
    "np.sum(ResultsTable_Zooniverse[\"classification_2\"] == \"NOGOODMATCH\")"
   ]
  },
  {
   "cell_type": "code",
   "execution_count": 16,
   "metadata": {},
   "outputs": [],
   "source": [
    "agree = []\n",
    "agree_id = []\n",
    "disagree_id = []\n",
    "counter = 0\n",
    "for i in ResultsTable_Zooniverse:\n",
    "    classes = i[\"classification_1\", \"classification_2\", \"classification_3\", \"classification_4\", \"classification_5\"]\n",
    "    class_list = list(classes)\n",
    "    class_list[:] = [x for x in class_list if x != \"NA\"]\n",
    "    class_list[:] = [x for x in class_list if x != \"NOGOODMATCH\"]\n",
    "    if(len(class_list) > 1):\n",
    "        unique = np.unique(class_list)\n",
    "        if(len(unique) == 1):\n",
    "            agree.append(i[\"ZTF_Name\"])\n",
    "            agree_id.append(counter)\n",
    "        else:\n",
    "            disagree_id.append(counter)\n",
    "    else:\n",
    "        disagree_id.append(counter)\n",
    "    counter += 1"
   ]
  },
  {
   "cell_type": "code",
   "execution_count": 17,
   "metadata": {},
   "outputs": [
    {
     "data": {
      "text/plain": [
       "49"
      ]
     },
     "execution_count": 17,
     "metadata": {},
     "output_type": "execute_result"
    }
   ],
   "source": [
    "len(agree)"
   ]
  },
  {
   "cell_type": "code",
   "execution_count": 18,
   "metadata": {},
   "outputs": [
    {
     "data": {
      "text/plain": [
       "88"
      ]
     },
     "execution_count": 18,
     "metadata": {},
     "output_type": "execute_result"
    }
   ],
   "source": [
    "np.sum(ResultsTable_Zooniverse[disagree_id][\"classification_1\"] == \"NOGOODMATCH\")"
   ]
  },
  {
   "cell_type": "code",
   "execution_count": 19,
   "metadata": {},
   "outputs": [],
   "source": [
    "joined_table = astropy.table.join(ResultsTable_Zooniverse[agree_id], sample)"
   ]
  },
  {
   "cell_type": "code",
   "execution_count": 20,
   "metadata": {},
   "outputs": [
    {
     "data": {
      "text/html": [
       "<i>Table length=87</i>\n",
       "<table id=\"table2768246881440\" class=\"table-striped table-bordered table-condensed\">\n",
       "<thead><tr><th>ZTF_Name</th><th>classification_1</th><th>Class</th></tr></thead>\n",
       "<thead><tr><th>str64</th><th>str64</th><th>str12</th></tr></thead>\n",
       "<tr><td>ZTF17aaajnki</td><td>NONSNAGNORCVORGALORETC</td><td>AGN</td></tr>\n",
       "<tr><td>ZTF17aaajnki</td><td>NONSNAGNORCVORGALORETC</td><td>AGN</td></tr>\n",
       "<tr><td>ZTF18aaadtdc</td><td>NONSNAGNORCVORGALORETC</td><td>AGN</td></tr>\n",
       "<tr><td>ZTF18aaaibml</td><td>SNIIN</td><td>II</td></tr>\n",
       "<tr><td>ZTF18aaaibml</td><td>SNIIN</td><td>II</td></tr>\n",
       "<tr><td>ZTF18aaaibml</td><td>SNIIN</td><td>II</td></tr>\n",
       "<tr><td>ZTF18aaaibml</td><td>SNIIN</td><td>II</td></tr>\n",
       "<tr><td>ZTF18aabvpbb</td><td>NONSNAGNORCVORGALORETC</td><td>CV</td></tr>\n",
       "<tr><td>ZTF18aacopwm</td><td>NONSNAGNORCVORGALORETC</td><td>-</td></tr>\n",
       "<tr><td>ZTF18aadvsxy</td><td>SNIANORM</td><td>-</td></tr>\n",
       "<tr><td>...</td><td>...</td><td>...</td></tr>\n",
       "<tr><td>ZTF18abjijwk</td><td>SNIANORM</td><td>Ia</td></tr>\n",
       "<tr><td>ZTF18abjijwk</td><td>SNIANORM</td><td>Ia</td></tr>\n",
       "<tr><td>ZTF18abjijwk</td><td>SNIANORM</td><td>Ia</td></tr>\n",
       "<tr><td>ZTF18abjijwk</td><td>SNIANORM</td><td>Ia</td></tr>\n",
       "<tr><td>ZTF18abkojhi</td><td>NONSNAGNORCVORGALORETC</td><td>AGN</td></tr>\n",
       "<tr><td>ZTF18ablwhde</td><td>SNIIN</td><td>CV</td></tr>\n",
       "<tr><td>ZTF18ablwhde</td><td>SNIIN</td><td>CV</td></tr>\n",
       "<tr><td>ZTF18abnbldg</td><td>NOGOODMATCH</td><td>CV?</td></tr>\n",
       "<tr><td>ZTF18abnnnzk</td><td>SNIINORM</td><td>AGN</td></tr>\n",
       "<tr><td>ZTF18abnuhuy</td><td>NOGOODMATCH</td><td>AGN</td></tr>\n",
       "</table>"
      ],
      "text/plain": [
       "<Table length=87>\n",
       "  ZTF_Name      classification_1    Class\n",
       "   str64             str64          str12\n",
       "------------ ---------------------- -----\n",
       "ZTF17aaajnki NONSNAGNORCVORGALORETC   AGN\n",
       "ZTF17aaajnki NONSNAGNORCVORGALORETC   AGN\n",
       "ZTF18aaadtdc NONSNAGNORCVORGALORETC   AGN\n",
       "ZTF18aaaibml                  SNIIN    II\n",
       "ZTF18aaaibml                  SNIIN    II\n",
       "ZTF18aaaibml                  SNIIN    II\n",
       "ZTF18aaaibml                  SNIIN    II\n",
       "ZTF18aabvpbb NONSNAGNORCVORGALORETC    CV\n",
       "ZTF18aacopwm NONSNAGNORCVORGALORETC     -\n",
       "ZTF18aadvsxy               SNIANORM     -\n",
       "         ...                    ...   ...\n",
       "ZTF18abjijwk               SNIANORM    Ia\n",
       "ZTF18abjijwk               SNIANORM    Ia\n",
       "ZTF18abjijwk               SNIANORM    Ia\n",
       "ZTF18abjijwk               SNIANORM    Ia\n",
       "ZTF18abkojhi NONSNAGNORCVORGALORETC   AGN\n",
       "ZTF18ablwhde                  SNIIN    CV\n",
       "ZTF18ablwhde                  SNIIN    CV\n",
       "ZTF18abnbldg            NOGOODMATCH   CV?\n",
       "ZTF18abnnnzk               SNIINORM   AGN\n",
       "ZTF18abnuhuy            NOGOODMATCH   AGN"
      ]
     },
     "execution_count": 20,
     "metadata": {},
     "output_type": "execute_result"
    }
   ],
   "source": [
    "joined_table[\"ZTF_Name\", \"classification_1\", \"Class\"]"
   ]
  },
  {
   "cell_type": "code",
   "execution_count": 33,
   "metadata": {},
   "outputs": [
    {
     "data": {
      "text/html": [
       "<i>Table length=1</i>\n",
       "<table id=\"table2769684398480\" class=\"table-striped table-bordered table-condensed\">\n",
       "<thead><tr><th>ZTF_Name</th><th>subject_ids</th><th>classifier_1</th><th>classification_1</th><th>best_match_1</th><th>classifier_2</th><th>classification_2</th><th>best_match_2</th><th>classifier_3</th><th>classification_3</th><th>best_match_3</th><th>classifier_4</th><th>classification_4</th><th>best_match_4</th><th>classifier_5</th><th>classification_5</th><th>best_match_5</th></tr></thead>\n",
       "<thead><tr><th>str64</th><th>int32</th><th>str64</th><th>str64</th><th>str64</th><th>str64</th><th>str64</th><th>str64</th><th>str64</th><th>str64</th><th>str64</th><th>str64</th><th>str64</th><th>str64</th><th>str64</th><th>str64</th><th>str64</th></tr></thead>\n",
       "<tr><td>ZTF18abnnnzk</td><td>65796278</td><td>samanthagoldwasser</td><td>SNIINORM</td><td>1</td><td>mrchu</td><td>SNIINORM</td><td>1</td><td>RachelJBruch</td><td>SNIINORM</td><td>1</td><td>NA</td><td>NA</td><td>NA</td><td>NA</td><td>NA</td><td>NA</td></tr>\n",
       "</table>"
      ],
      "text/plain": [
       "<Table length=1>\n",
       "  ZTF_Name   subject_ids    classifier_1    ... classification_5 best_match_5\n",
       "   str64        int32          str64        ...      str64          str64    \n",
       "------------ ----------- ------------------ ... ---------------- ------------\n",
       "ZTF18abnnnzk    65796278 samanthagoldwasser ...               NA           NA"
      ]
     },
     "execution_count": 33,
     "metadata": {},
     "output_type": "execute_result"
    }
   ],
   "source": [
    "ResultsTable_Zooniverse[np.where(ResultsTable_Zooniverse[\"ZTF_Name\"] == \"ZTF18abnnnzk\")]"
   ]
  },
  {
   "cell_type": "code",
   "execution_count": 22,
   "metadata": {},
   "outputs": [],
   "source": [
    "classifiers = []\n",
    "for i in [\"classifier_1\", \"classifier_2\", \"classifier_3\", \"classifier_4\", \"classifier_5\"]:\n",
    "    classifiers.extend(list(ResultsTable_Zooniverse[i]))\n",
    "classifiers[:] = [x for x in classifiers if x != \"NA\"]"
   ]
  },
  {
   "cell_type": "code",
   "execution_count": 23,
   "metadata": {},
   "outputs": [],
   "source": [
    "unique_names = np.unique(classifiers)\n",
    "nums = []\n",
    "for i in unique_names:\n",
    "    nums.append(classifiers.count(i))\n",
    "nums = np.asarray(nums)"
   ]
  },
  {
   "cell_type": "code",
   "execution_count": 24,
   "metadata": {},
   "outputs": [
    {
     "data": {
      "text/plain": [
       "<BarContainer object of 10 artists>"
      ]
     },
     "execution_count": 24,
     "metadata": {},
     "output_type": "execute_result"
    },
    {
     "data": {
      "image/png": "[encoded data removed]",
      "text/plain": [
       "<Figure size 1440x720 with 1 Axes>"
      ]
     },
     "metadata": {
      "needs_background": "light"
     },
     "output_type": "display_data"
    }
   ],
   "source": [
    "fig = plt.figure(figsize = (20,10))\n",
    "plt.bar(unique_names, nums)"
   ]
  },
  {
   "cell_type": "code",
   "execution_count": 25,
   "metadata": {},
   "outputs": [
    {
     "data": {
      "text/plain": [
       "10"
      ]
     },
     "execution_count": 25,
     "metadata": {},
     "output_type": "execute_result"
    }
   ],
   "source": [
    "len(nums)"
   ]
  },
  {
   "cell_type": "code",
   "execution_count": 26,
   "metadata": {},
   "outputs": [
    {
     "data": {
      "text/plain": [
       "10"
      ]
     },
     "execution_count": 26,
     "metadata": {},
     "output_type": "execute_result"
    }
   ],
   "source": [
    "len(unique_names)"
   ]
  },
  {
   "cell_type": "code",
   "execution_count": null,
   "metadata": {},
   "outputs": [],
   "source": []
  }
 ],
 "metadata": {
  "kernelspec": {
   "display_name": "Python 3",
   "language": "python",
   "name": "python3"
  },
  "language_info": {
   "codemirror_mode": {
    "name": "ipython",
    "version": 3
   },
   "file_extension": ".py",
   "mimetype": "text/x-python",
   "name": "python",
   "nbconvert_exporter": "python",
   "pygments_lexer": "ipython3",
   "version": "3.8.5"
  }
 },
 "nbformat": 4,
 "nbformat_minor": 4
}
