{
 "cells": [
  {
   "cell_type": "code",
   "execution_count": 79,
   "metadata": {},
   "outputs": [],
   "source": [
    "import os\n",
    "import astropy\n",
    "import numpy as np\n",
    "from astropy.table import Table\n",
    "from astropy.table import Column\n",
    "import glob\n",
    "import matplotlib.pyplot as plt\n",
    "import pandas as pd\n",
    "from collections import Counter\n",
    "from mpl_toolkits.mplot3d import Axes3D\n",
    "from astropy.io import ascii"
   ]
  },
  {
   "cell_type": "code",
   "execution_count": 3,
   "metadata": {},
   "outputs": [],
   "source": [
    "dash = \"C:/users/20xha/Documents/Caltech/Research/DASH/\""
   ]
  },
  {
   "cell_type": "code",
   "execution_count": 4,
   "metadata": {},
   "outputs": [],
   "source": [
    "dashoutput = np.load(dash+\"output.npy\",allow_pickle=True)"
   ]
  },
  {
   "cell_type": "code",
   "execution_count": 30,
   "metadata": {},
   "outputs": [],
   "source": [
    "snid_superfit_results = Table.read(\"results_2018_all_exact_z.txt\", format = \"ascii\")"
   ]
  },
  {
   "cell_type": "code",
   "execution_count": 13,
   "metadata": {},
   "outputs": [],
   "source": [
    "final_rcf_table = Table.from_pandas(pd.read_hdf(\"C:/users/20xha/Documents/Caltech/Research/final_rcf_table.h5\"))"
   ]
  },
  {
   "cell_type": "code",
   "execution_count": 16,
   "metadata": {},
   "outputs": [],
   "source": [
    "SEDM_ML_sample = Table.read(\"C:/Users/20xha/Documents/Caltech/Research/SEDM_ML_sample.ascii\", format = \"ascii\")\n",
    "SEDM_ML_sample.rename_column('col1', 'ZTF_Name')\n",
    "SEDM_ML_sample.rename_column('col2', \"Class\")\n",
    "SEDM_ML_sample.rename_column('col8', \"Version\")"
   ]
  },
  {
   "cell_type": "code",
   "execution_count": 34,
   "metadata": {},
   "outputs": [],
   "source": [
    "ranges = np.linspace(0, 25, 6)\n",
    "rlap = 0\n",
    "count = 0\n",
    "ResultsTable = Table(\n",
    "                names=(\"ZTF_Name\", \"c_dash\", \"confidence_dash\"\n",
    "                ),\n",
    "                meta={\"name\": \"Spectrum Results after SNID\"},\n",
    "                dtype=(\"U64\", \"U64\", \"float64\",\n",
    "                      )\n",
    "                )\n",
    "\n",
    "for i in dashoutput:\n",
    "    row = []\n",
    "    row.append(i[-1])\n",
    "    reliable = np.where(np.asarray(i[4]) != 'Unreliable matches')[0]\n",
    "    if(len(reliable) != 0):\n",
    "        best = np.asarray(i[2])[:,0][reliable]\n",
    "        c = Counter(best)\n",
    "        rlap_list = []\n",
    "        for rlap_vals in np.asarray(i[3]):\n",
    "            rlap_list.append(float(rlap_vals.split(\":\")[-1]))\n",
    "        best_rlap = np.max(rlap_list)\n",
    "        if(best_rlap > rlap):\n",
    "            row.append(c.most_common()[0][0])\n",
    "            row.append(best_rlap)\n",
    "            ResultsTable.add_row(row)\n",
    "\n",
    "    count += 1\n",
    "if(count % 50 == 0):\n",
    "    print(count)"
   ]
  },
  {
   "cell_type": "code",
   "execution_count": 56,
   "metadata": {},
   "outputs": [],
   "source": [
    "all_the_power = astropy.table.join(snid_superfit_results, ResultsTable)"
   ]
  },
  {
   "cell_type": "code",
   "execution_count": 57,
   "metadata": {},
   "outputs": [
    {
     "data": {
      "text/html": [
       "<i>Row index=0</i>\n",
       "<table id=\"table2122381327904\">\n",
       "<thead><tr><th>ZTF_Name</th><th>classification</th><th>redshift</th><th>HGz</th><th>JD</th><th>JD_peak</th><th>phase</th><th>name</th><th>flag</th><th>is_good_spec</th><th>SF_fit_1</th><th>chi2_fit_1</th><th>zfit_1</th><th>zfit_2</th><th>SF_fit_2</th><th>chi2_fit_2</th><th>c_snid</th><th>c_rlap</th><th>z_snid</th><th>SNR</th><th>short_name</th></tr></thead>\n",
       "<thead><tr><th>str12</th><th>str9</th><th>float64</th><th>float64</th><th>float64</th><th>float64</th><th>float64</th><th>str39</th><th>int32</th><th>str5</th><th>str18</th><th>float64</th><th>float64</th><th>float64</th><th>str18</th><th>float64</th><th>str12</th><th>float64</th><th>float64</th><th>float64</th><th>str45</th></tr></thead>\n",
       "<tr><td>ZTF18aabssth</td><td>II</td><td>0.026</td><td>0.022914</td><td>2458186.5</td><td>2458218.66</td><td>-32.16</td><td>ZTF18aabssth_20180309_P60_v1.ascii</td><td>1</td><td>True</td><td>II</td><td>0.0018563307</td><td>0.026</td><td>0.026</td><td>II</td><td>0.001928962</td><td>IIb</td><td>7.86</td><td>0.0358</td><td>10.398875055231802</td><td>2007od/LRIS+2007-11-12 04:35:02.00</td></tr>\n",
       "</table>"
      ],
      "text/plain": [
       "<Row index=0>\n",
       "  ZTF_Name   classification redshift   HGz        JD     JD_peak    phase                 name                 flag is_good_spec SF_fit_1  chi2_fit_1   zfit_1  zfit_2 SF_fit_2  chi2_fit_2 c_snid  c_rlap  z_snid        SNR                     short_name            \n",
       "   str12          str9      float64  float64   float64   float64   float64               str39                int32     str5      str18     float64    float64 float64  str18     float64   str12  float64 float64      float64                     str45               \n",
       "------------ -------------- -------- -------- --------- ---------- ------- ---------------------------------- ----- ------------ -------- ------------ ------- ------- -------- ----------- ------ ------- ------- ------------------ ----------------------------------\n",
       "ZTF18aabssth             II    0.026 0.022914 2458186.5 2458218.66  -32.16 ZTF18aabssth_20180309_P60_v1.ascii     1         True       II 0.0018563307   0.026   0.026       II 0.001928962    IIb    7.86  0.0358 10.398875055231802 2007od/LRIS+2007-11-12 04:35:02.00"
      ]
     },
     "execution_count": 57,
     "metadata": {},
     "output_type": "execute_result"
    }
   ],
   "source": [
    "snid_superfit_results[0]"
   ]
  },
  {
   "cell_type": "code",
   "execution_count": 58,
   "metadata": {},
   "outputs": [
    {
     "data": {
      "text/html": [
       "<i>Row index=0</i>\n",
       "<table id=\"table2122414747712\">\n",
       "<thead><tr><th>ZTF_Name</th><th>c_dash</th><th>confidence_dash</th></tr></thead>\n",
       "<thead><tr><th>str64</th><th>str64</th><th>float64</th></tr></thead>\n",
       "<tr><td>ZTF17aaazdba</td><td>Ic-broad</td><td>1.41</td></tr>\n",
       "</table>"
      ],
      "text/plain": [
       "<Row index=0>\n",
       "  ZTF_Name    c_dash  confidence_dash\n",
       "   str64      str64       float64    \n",
       "------------ -------- ---------------\n",
       "ZTF17aaazdba Ic-broad            1.41"
      ]
     },
     "execution_count": 58,
     "metadata": {},
     "output_type": "execute_result"
    }
   ],
   "source": [
    "ResultsTable[0]"
   ]
  },
  {
   "cell_type": "code",
   "execution_count": 59,
   "metadata": {},
   "outputs": [
    {
     "data": {
      "text/html": [
       "<i>Row index=0</i>\n",
       "<table id=\"table2122369602080\">\n",
       "<thead><tr><th>ZTF_Name</th><th>classification</th><th>redshift</th><th>HGz</th><th>JD</th><th>JD_peak</th><th>phase</th><th>name</th><th>flag</th><th>is_good_spec</th><th>SF_fit_1</th><th>chi2_fit_1</th><th>zfit_1</th><th>zfit_2</th><th>SF_fit_2</th><th>chi2_fit_2</th><th>c_snid</th><th>c_rlap</th><th>z_snid</th><th>SNR</th><th>short_name</th><th>c_dash</th><th>confidence_dash</th></tr></thead>\n",
       "<thead><tr><th>str64</th><th>str9</th><th>float64</th><th>float64</th><th>float64</th><th>float64</th><th>float64</th><th>str39</th><th>int32</th><th>str5</th><th>str18</th><th>float64</th><th>float64</th><th>float64</th><th>str18</th><th>float64</th><th>str12</th><th>float64</th><th>float64</th><th>float64</th><th>str45</th><th>str64</th><th>float64</th></tr></thead>\n",
       "<tr><td>ZTF18aagrdcs</td><td>Ib</td><td>0.024</td><td>0.01814</td><td>2458227.5</td><td>2458217.84</td><td>9.66</td><td>ZTF18aagrdcs_20180419_TNG_v1.ascii</td><td>1</td><td>True</td><td>Ib</td><td>0.016707946</td><td>0.024</td><td>0.024</td><td>Ca-Ib</td><td>0.018156072</td><td>Ib-norm</td><td>17.13</td><td>0.0122</td><td>22.946946461804757</td><td>2009jf/FORS2+2009-10-28 00:00:00.00</td><td>Ib-norm</td><td>3.95</td></tr>\n",
       "</table>"
      ],
      "text/plain": [
       "<Row index=0>\n",
       "  ZTF_Name   classification redshift   HGz       JD     JD_peak    phase                 name                 flag is_good_spec SF_fit_1  chi2_fit_1  zfit_1  zfit_2 SF_fit_2  chi2_fit_2  c_snid  c_rlap  z_snid        SNR                      short_name              c_dash confidence_dash\n",
       "   str64          str9      float64  float64  float64   float64   float64               str39                int32     str5      str18     float64   float64 float64  str18     float64    str12  float64 float64      float64                      str45                 str64      float64    \n",
       "------------ -------------- -------- ------- --------- ---------- ------- ---------------------------------- ----- ------------ -------- ----------- ------- ------- -------- ----------- ------- ------- ------- ------------------ ----------------------------------- ------- ---------------\n",
       "ZTF18aagrdcs             Ib    0.024 0.01814 2458227.5 2458217.84    9.66 ZTF18aagrdcs_20180419_TNG_v1.ascii     1         True       Ib 0.016707946   0.024   0.024    Ca-Ib 0.018156072 Ib-norm   17.13  0.0122 22.946946461804757 2009jf/FORS2+2009-10-28 00:00:00.00 Ib-norm            3.95"
      ]
     },
     "execution_count": 59,
     "metadata": {},
     "output_type": "execute_result"
    }
   ],
   "source": [
    "all_the_power[0]"
   ]
  },
  {
   "cell_type": "code",
   "execution_count": 60,
   "metadata": {},
   "outputs": [],
   "source": [
    "final_stuff = all_the_power[\"ZTF_Name\", \"classification\", \"c_rlap\", \"SF_fit_1\", \"c_snid\", \"c_dash\"]"
   ]
  },
  {
   "cell_type": "code",
   "execution_count": 65,
   "metadata": {},
   "outputs": [],
   "source": [
    "negativeIa = 0\n",
    "positiveIa = 0\n",
    "for j in final_stuff:\n",
    "    correct_1a = \"Ia\" in j[\"classification\"]\n",
    "    if(correct_1a):\n",
    "        positiveIa += 1\n",
    "    if(not(correct_1a)):\n",
    "        negativeIa += 1"
   ]
  },
  {
   "cell_type": "code",
   "execution_count": 73,
   "metadata": {},
   "outputs": [],
   "source": [
    "tprfpr = Table(\n",
    "                names=(\"rlap\", \"tpr_snid\", \"tpr_dash\", \"tpr_superfit\", \"fpr_snid\", \"fpr_dash\", \"fpr_superfit\"\n",
    "                ),\n",
    "                meta={\"name\": \"Comparison of Three Programs\"},\n",
    "                dtype=(\"float64\", \"float64\", \"float64\", \"float64\", \"float64\", \"float64\", \"float64\"\n",
    "                      )) \n",
    "for rlap in np.linspace(0, 25, 251):\n",
    "    truepositive = [0, 0, 0]\n",
    "    falsepositive = [0, 0, 0]\n",
    "    for i in final_stuff:\n",
    "        if(i[\"c_rlap\"] > rlap):\n",
    "            c_actual = \"Ia\" in i[\"classification\"]\n",
    "            \n",
    "            c_snid = \"Ia\" in i[\"c_snid\"]\n",
    "            if(c_actual == True and c_snid == True):\n",
    "                truepositive[0] += 1\n",
    "            if(c_actual != True and c_snid == True):\n",
    "                falsepositive[0] += 1\n",
    "            \n",
    "            c_dash = \"Ia\" in i[\"c_dash\"]\n",
    "            if(c_actual == True and c_dash == True):\n",
    "                truepositive[1] += 1\n",
    "            if(c_actual != True and c_dash == True):\n",
    "                falsepositive[1] += 1\n",
    "                \n",
    "            c_super = \"Ia\" in i[\"SF_fit_1\"]\n",
    "            if(c_actual == True and c_super == True):\n",
    "                truepositive[2] += 1\n",
    "            if(c_actual != True and c_super == True):\n",
    "                falsepositive[2] += 1\n",
    "    row = [rlap, truepositive[0]/positiveIa, truepositive[1]/positiveIa, truepositive[2]/positiveIa, falsepositive[0]/negativeIa, falsepositive[1]/negativeIa, falsepositive[2]/negativeIa]\n",
    "    tprfpr.add_row(row)    \n",
    "            \n",
    "            "
   ]
  },
  {
   "cell_type": "code",
   "execution_count": 77,
   "metadata": {},
   "outputs": [
    {
     "data": {
      "text/plain": [
       "[<matplotlib.lines.Line2D at 0x1ee2e26d850>]"
      ]
     },
     "execution_count": 77,
     "metadata": {},
     "output_type": "execute_result"
    },
    {
     "data": {
      "image/png": "[encoded data removed]",
      "text/plain": [
       "<Figure size 432x288 with 1 Axes>"
      ]
     },
     "metadata": {
      "needs_background": "light"
     },
     "output_type": "display_data"
    }
   ],
   "source": [
    "plt.plot(tprfpr[\"fpr_dash\"], tprfpr[\"tpr_dash\"], color = \"red\")\n",
    "plt.plot(tprfpr[\"fpr_snid\"], tprfpr[\"tpr_snid\"], color = \"blue\")\n",
    "plt.plot(tprfpr[\"fpr_superfit\"], tprfpr[\"tpr_superfit\"], color = \"green\")"
   ]
  },
  {
   "cell_type": "code",
   "execution_count": 80,
   "metadata": {},
   "outputs": [],
   "source": [
    "ascii.write(tprfpr, \"tprfpr.ascii\")"
   ]
  },
  {
   "cell_type": "code",
   "execution_count": null,
   "metadata": {},
   "outputs": [],
   "source": []
  }
 ],
 "metadata": {
  "kernelspec": {
   "display_name": "Python 3",
   "language": "python",
   "name": "python3"
  },
  "language_info": {
   "codemirror_mode": {
    "name": "ipython",
    "version": 3
   },
   "file_extension": ".py",
   "mimetype": "text/x-python",
   "name": "python",
   "nbconvert_exporter": "python",
   "pygments_lexer": "ipython3",
   "version": "3.8.5"
  }
 },
 "nbformat": 4,
 "nbformat_minor": 4
}
