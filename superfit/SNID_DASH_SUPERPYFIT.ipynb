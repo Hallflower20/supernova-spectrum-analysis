{
 "cells": [
  {
   "cell_type": "code",
   "execution_count": 1,
   "metadata": {},
   "outputs": [],
   "source": [
    "import os\n",
    "import astropy\n",
    "import numpy as np\n",
    "from astropy.table import Table\n",
    "from astropy.table import Column\n",
    "import glob\n",
    "import matplotlib.pyplot as plt\n",
    "import pandas as pd\n",
    "from collections import Counter\n",
    "from mpl_toolkits.mplot3d import Axes3D\n",
    "from astropy.io import ascii"
   ]
  },
  {
   "cell_type": "code",
   "execution_count": 2,
   "metadata": {},
   "outputs": [],
   "source": [
    "dash = \"C:/users/20xha/Documents/Caltech/Research/DASH/\""
   ]
  },
  {
   "cell_type": "code",
   "execution_count": 3,
   "metadata": {},
   "outputs": [],
   "source": [
    "dashoutput = np.load(dash+\"output.npy\",allow_pickle=True)"
   ]
  },
  {
   "cell_type": "code",
   "execution_count": 4,
   "metadata": {},
   "outputs": [],
   "source": [
    "snid_superfit_results = Table.read(\"results_2018_all_exact_z.txt\", format = \"ascii\")"
   ]
  },
  {
   "cell_type": "code",
   "execution_count": 5,
   "metadata": {},
   "outputs": [],
   "source": [
    "final_rcf_table = Table.from_pandas(pd.read_hdf(\"C:/users/20xha/Documents/Caltech/Research/final_rcf_table.h5\"))"
   ]
  },
  {
   "cell_type": "code",
   "execution_count": 6,
   "metadata": {},
   "outputs": [],
   "source": [
    "SEDM_ML_sample = Table.read(\"C:/Users/20xha/Documents/Caltech/Research/SEDM_ML_sample.ascii\", format = \"ascii\")\n",
    "SEDM_ML_sample.rename_column('col1', 'ZTF_Name')\n",
    "SEDM_ML_sample.rename_column('col2', \"Class\")\n",
    "SEDM_ML_sample.rename_column('col8', \"Version\")"
   ]
  },
  {
   "cell_type": "code",
   "execution_count": 57,
   "metadata": {},
   "outputs": [],
   "source": [
    "ResultsTable_List_confidence = []\n",
    "ranges = np.linspace(0.1836, 1, 101)\n",
    "count = 0\n",
    "ResultsTable = Table(\n",
    "                names=(\"ZTF_Name\", \"Dash\", \"Confidence\",\n",
    "                ),\n",
    "                meta={\"name\": \"Spectrum Results after SNID\"},\n",
    "                dtype=(\"U64\", \"U64\", \"float64\",\n",
    "                      )\n",
    "                )\n",
    "\n",
    "for i in dashoutput:\n",
    "    row = []\n",
    "    row.append(i[-1])\n",
    "    reliable = np.where(np.asarray(i[4]) != 'Unreliable matches')[0]\n",
    "    if(len(reliable) != 0):\n",
    "        best = np.asarray(i[2])[:,0][reliable]\n",
    "        c = Counter(best)\n",
    "        best_rlap = float(min(np.asarray(i[2])[:,2][reliable]))\n",
    "        row.append(c.most_common()[0][0])\n",
    "        row.append(best_rlap)\n",
    "        ResultsTable.add_row(row)"
   ]
  },
  {
   "cell_type": "code",
   "execution_count": 60,
   "metadata": {},
   "outputs": [],
   "source": [
    "ranges = np.linspace(0, 25, 6)\n",
    "rlap = 0\n",
    "count = 0\n",
    "ResultsTable = Table(\n",
    "                names=(\"ZTF_Name\", \"c_dash\", \"rlap_dash\", \"confidence_dash\"\n",
    "                ),\n",
    "                meta={\"name\": \"Spectrum Results after SNID\"},\n",
    "                dtype=(\"U64\", \"U64\", \"float64\", \"float64\"\n",
    "                      )\n",
    "                )\n",
    "\n",
    "for i in dashoutput:\n",
    "    row = []\n",
    "    row.append(i[-1])\n",
    "    reliable = np.where(np.asarray(i[4]) != 'Unreliable matches')[0]\n",
    "    if(len(reliable) != 0):\n",
    "        best = np.asarray(i[2])[:,0][reliable]\n",
    "        c = Counter(best)\n",
    "        rlap_list = []\n",
    "        for rlap_vals in np.asarray(i[3]):\n",
    "            rlap_list.append(float(rlap_vals.split(\":\")[-1]))\n",
    "        best_rlap = np.max(rlap_list)\n",
    "        if(best_rlap > rlap):\n",
    "            row.append(c.most_common()[0][0])\n",
    "            row.append(best_rlap)\n",
    "            best_confidence = float(min(np.asarray(i[2])[:,2][reliable]))\n",
    "            row.append(best_confidence)\n",
    "            ResultsTable.add_row(row)\n",
    "\n",
    "    count += 1\n",
    "if(count % 50 == 0):\n",
    "    print(count)"
   ]
  },
  {
   "cell_type": "code",
   "execution_count": 62,
   "metadata": {},
   "outputs": [],
   "source": [
    "all_the_power = astropy.table.join(snid_superfit_results, ResultsTable)"
   ]
  },
  {
   "cell_type": "code",
   "execution_count": 63,
   "metadata": {},
   "outputs": [
    {
     "data": {
      "text/html": [
       "<i>Row index=0</i>\n",
       "<table id=\"table2231872777376\">\n",
       "<thead><tr><th>ZTF_Name</th><th>c_dash</th><th>rlap_dash</th><th>confidence_dash</th></tr></thead>\n",
       "<thead><tr><th>str64</th><th>str64</th><th>float64</th><th>float64</th></tr></thead>\n",
       "<tr><td>ZTF17aaazdba</td><td>Ic-broad</td><td>1.41</td><td>0.9025</td></tr>\n",
       "</table>"
      ],
      "text/plain": [
       "<Row index=0>\n",
       "  ZTF_Name    c_dash  rlap_dash confidence_dash\n",
       "   str64      str64    float64      float64    \n",
       "------------ -------- --------- ---------------\n",
       "ZTF17aaazdba Ic-broad      1.41          0.9025"
      ]
     },
     "execution_count": 63,
     "metadata": {},
     "output_type": "execute_result"
    }
   ],
   "source": [
    "ResultsTable[0]"
   ]
  },
  {
   "cell_type": "code",
   "execution_count": 64,
   "metadata": {},
   "outputs": [
    {
     "data": {
      "text/html": [
       "<i>Row index=0</i>\n",
       "<table id=\"table2231674988816\">\n",
       "<thead><tr><th>ZTF_Name</th><th>classification</th><th>redshift</th><th>HGz</th><th>JD</th><th>JD_peak</th><th>phase</th><th>name</th><th>flag</th><th>is_good_spec</th><th>SF_fit_1</th><th>chi2_fit_1</th><th>zfit_1</th><th>zfit_2</th><th>SF_fit_2</th><th>chi2_fit_2</th><th>c_snid</th><th>c_rlap</th><th>z_snid</th><th>SNR</th><th>short_name</th><th>c_dash</th><th>rlap_dash</th><th>confidence_dash</th></tr></thead>\n",
       "<thead><tr><th>str64</th><th>str9</th><th>float64</th><th>float64</th><th>float64</th><th>float64</th><th>float64</th><th>str39</th><th>int32</th><th>str5</th><th>str18</th><th>float64</th><th>float64</th><th>float64</th><th>str18</th><th>float64</th><th>str12</th><th>float64</th><th>float64</th><th>float64</th><th>str45</th><th>str64</th><th>float64</th><th>float64</th></tr></thead>\n",
       "<tr><td>ZTF18aagrdcs</td><td>Ib</td><td>0.024</td><td>0.01814</td><td>2458227.5</td><td>2458217.84</td><td>9.66</td><td>ZTF18aagrdcs_20180419_TNG_v1.ascii</td><td>1</td><td>True</td><td>Ib</td><td>0.016707946</td><td>0.024</td><td>0.024</td><td>Ca-Ib</td><td>0.018156072</td><td>Ib-norm</td><td>17.13</td><td>0.0122</td><td>22.946946461804757</td><td>2009jf/FORS2+2009-10-28 00:00:00.00</td><td>Ib-norm</td><td>3.95</td><td>0.8716</td></tr>\n",
       "</table>"
      ],
      "text/plain": [
       "<Row index=0>\n",
       "  ZTF_Name   classification redshift   HGz       JD     JD_peak    phase                 name                 flag is_good_spec SF_fit_1  chi2_fit_1  zfit_1  zfit_2 SF_fit_2  chi2_fit_2  c_snid  c_rlap  z_snid        SNR                      short_name              c_dash rlap_dash confidence_dash\n",
       "   str64          str9      float64  float64  float64   float64   float64               str39                int32     str5      str18     float64   float64 float64  str18     float64    str12  float64 float64      float64                      str45                 str64   float64      float64    \n",
       "------------ -------------- -------- ------- --------- ---------- ------- ---------------------------------- ----- ------------ -------- ----------- ------- ------- -------- ----------- ------- ------- ------- ------------------ ----------------------------------- ------- --------- ---------------\n",
       "ZTF18aagrdcs             Ib    0.024 0.01814 2458227.5 2458217.84    9.66 ZTF18aagrdcs_20180419_TNG_v1.ascii     1         True       Ib 0.016707946   0.024   0.024    Ca-Ib 0.018156072 Ib-norm   17.13  0.0122 22.946946461804757 2009jf/FORS2+2009-10-28 00:00:00.00 Ib-norm      3.95          0.8716"
      ]
     },
     "execution_count": 64,
     "metadata": {},
     "output_type": "execute_result"
    }
   ],
   "source": [
    "all_the_power[0]"
   ]
  },
  {
   "cell_type": "code",
   "execution_count": 12,
   "metadata": {},
   "outputs": [],
   "source": [
    "final_stuff = all_the_power[\"ZTF_Name\", \"classification\", \"c_rlap\", \"SF_fit_1\", \"c_snid\", \"c_dash\"]"
   ]
  },
  {
   "cell_type": "code",
   "execution_count": 13,
   "metadata": {},
   "outputs": [],
   "source": [
    "negativeIa = 0\n",
    "positiveIa = 0\n",
    "for j in final_stuff:\n",
    "    correct_1a = \"Ia\" in j[\"classification\"]\n",
    "    if(correct_1a):\n",
    "        positiveIa += 1\n",
    "    if(not(correct_1a)):\n",
    "        negativeIa += 1"
   ]
  },
  {
   "cell_type": "code",
   "execution_count": 22,
   "metadata": {},
   "outputs": [],
   "source": [
    "tprfpr_snid = Table(\n",
    "                names=(\"rlap_snid\", \"tpr_snid\", \"fpr_snid\"\n",
    "                ),\n",
    "                meta={\"name\": \"Comparison of Three Programs\"},\n",
    "                dtype=(\"float64\", \"float64\", \"float64\"\n",
    "                      )) \n",
    "for rlap in np.linspace(0, 25, 251):\n",
    "    truepositive = [0, 0, 0]\n",
    "    falsepositive = [0, 0, 0]\n",
    "    for i in all_the_power:\n",
    "        if(i[\"c_rlap\"] > rlap):\n",
    "            c_actual = \"Ia\" in i[\"classification\"]\n",
    "            \n",
    "            c_snid = \"Ia\" in i[\"c_snid\"]\n",
    "            if(c_actual == True and c_snid == True):\n",
    "                truepositive[0] += 1\n",
    "            if(c_actual != True and c_snid == True):\n",
    "                falsepositive[0] += 1\n",
    "    row = [rlap, truepositive[0]/positiveIa, falsepositive[0]/negativeIa]\n",
    "    tprfpr_snid.add_row(row)       "
   ]
  },
  {
   "cell_type": "code",
   "execution_count": 23,
   "metadata": {},
   "outputs": [],
   "source": [
    "tprfpr_dash = Table(\n",
    "                names=(\"rlap_dash\", \"tpr_dash\", \"fpr_dash\"\n",
    "                ),\n",
    "                meta={\"name\": \"Comparison of Three Programs\"},\n",
    "                dtype=(\"float64\", \"float64\", \"float64\"\n",
    "                      )) \n",
    "for rlap in np.linspace(0, 25, 251):\n",
    "    truepositive = [0, 0, 0]\n",
    "    falsepositive = [0, 0, 0]\n",
    "    for i in all_the_power:\n",
    "        if(i[\"confidence_dash\"] > rlap):\n",
    "            c_actual = \"Ia\" in i[\"classification\"]\n",
    "            \n",
    "            c_snid = \"Ia\" in i[\"c_dash\"]\n",
    "            if(c_actual == True and c_snid == True):\n",
    "                truepositive[0] += 1\n",
    "            if(c_actual != True and c_snid == True):\n",
    "                falsepositive[0] += 1\n",
    "    row = [rlap, truepositive[0]/positiveIa, falsepositive[0]/negativeIa]\n",
    "    tprfpr_dash.add_row(row) "
   ]
  },
  {
   "cell_type": "code",
   "execution_count": 67,
   "metadata": {},
   "outputs": [],
   "source": [
    "tprfpr_dash_everything = Table(\n",
    "                names=(\"rlap_dash\", \"confidence_dash\", \"tpr_dash\", \"fpr_dash\"\n",
    "                ),\n",
    "                meta={\"name\": \"Comparison of Three Programs\"},\n",
    "                dtype=(\"float64\", \"float64\", \"float64\", \"float64\"\n",
    "                      )) \n",
    "for rlap in np.linspace(0, 25, 251):\n",
    "    for confidence in np.linspace(0.1836, 1, 101):\n",
    "        truepositive = [0, 0, 0]\n",
    "        falsepositive = [0, 0, 0]\n",
    "        for i in all_the_power:\n",
    "            if(i[\"rlap_dash\"] > rlap and i[\"confidence_dash\"] > confidence):\n",
    "                c_actual = \"Ia\" in i[\"classification\"]\n",
    "\n",
    "                c_snid = \"Ia\" in i[\"c_dash\"]\n",
    "                if(c_actual == True and c_snid == True):\n",
    "                    truepositive[0] += 1\n",
    "                if(c_actual != True and c_snid == True):\n",
    "                    falsepositive[0] += 1\n",
    "        row = [rlap, confidence, truepositive[0]/positiveIa, falsepositive[0]/negativeIa]\n",
    "        tprfpr_dash_everything.add_row(row) "
   ]
  },
  {
   "cell_type": "code",
   "execution_count": 69,
   "metadata": {},
   "outputs": [
    {
     "data": {
      "text/plain": [
       "<matplotlib.collections.PathCollection at 0x207a60699a0>"
      ]
     },
     "execution_count": 69,
     "metadata": {},
     "output_type": "execute_result"
    },
    {
     "data": {
      "image/png": "[encoded data removed]",
      "text/plain": [
       "<Figure size 432x288 with 1 Axes>"
      ]
     },
     "metadata": {
      "needs_background": "light"
     },
     "output_type": "display_data"
    }
   ],
   "source": [
    "plt.scatter(tprfpr_dash_everything[\"fpr_dash\"], tprfpr_dash_everything[\"tpr_dash\"])"
   ]
  },
  {
   "cell_type": "code",
   "execution_count": 31,
   "metadata": {},
   "outputs": [
    {
     "name": "stdout",
     "output_type": "stream",
     "text": [
      "0.00033346\n",
      "2.7674065\n"
     ]
    }
   ],
   "source": [
    "print(min(all_the_power[\"chi2_fit_1\"]))\n",
    "print(max(all_the_power[\"chi2_fit_1\"]))"
   ]
  },
  {
   "cell_type": "code",
   "execution_count": 34,
   "metadata": {},
   "outputs": [
    {
     "data": {
      "text/html": [
       "<i>Row index=0</i>\n",
       "<table id=\"table2231652944432\">\n",
       "<thead><tr><th>ZTF_Name</th><th>classification</th><th>redshift</th><th>HGz</th><th>JD</th><th>JD_peak</th><th>phase</th><th>name</th><th>flag</th><th>is_good_spec</th><th>SF_fit_1</th><th>chi2_fit_1</th><th>zfit_1</th><th>zfit_2</th><th>SF_fit_2</th><th>chi2_fit_2</th><th>c_snid</th><th>c_rlap</th><th>z_snid</th><th>SNR</th><th>short_name</th><th>c_dash</th><th>confidence_dash</th></tr></thead>\n",
       "<thead><tr><th>str64</th><th>str9</th><th>float64</th><th>float64</th><th>float64</th><th>float64</th><th>float64</th><th>str39</th><th>int32</th><th>str5</th><th>str18</th><th>float64</th><th>float64</th><th>float64</th><th>str18</th><th>float64</th><th>str12</th><th>float64</th><th>float64</th><th>float64</th><th>str45</th><th>str64</th><th>float64</th></tr></thead>\n",
       "<tr><td>ZTF18aagrdcs</td><td>Ib</td><td>0.024</td><td>0.01814</td><td>2458227.5</td><td>2458217.84</td><td>9.66</td><td>ZTF18aagrdcs_20180419_TNG_v1.ascii</td><td>1</td><td>True</td><td>Ib</td><td>0.016707946</td><td>0.024</td><td>0.024</td><td>Ca-Ib</td><td>0.018156072</td><td>Ib-norm</td><td>17.13</td><td>0.0122</td><td>22.946946461804757</td><td>2009jf/FORS2+2009-10-28 00:00:00.00</td><td>Ib-norm</td><td>3.95</td></tr>\n",
       "</table>"
      ],
      "text/plain": [
       "<Row index=0>\n",
       "  ZTF_Name   classification redshift   HGz       JD     JD_peak    phase                 name                 flag is_good_spec SF_fit_1  chi2_fit_1  zfit_1  zfit_2 SF_fit_2  chi2_fit_2  c_snid  c_rlap  z_snid        SNR                      short_name              c_dash confidence_dash\n",
       "   str64          str9      float64  float64  float64   float64   float64               str39                int32     str5      str18     float64   float64 float64  str18     float64    str12  float64 float64      float64                      str45                 str64      float64    \n",
       "------------ -------------- -------- ------- --------- ---------- ------- ---------------------------------- ----- ------------ -------- ----------- ------- ------- -------- ----------- ------- ------- ------- ------------------ ----------------------------------- ------- ---------------\n",
       "ZTF18aagrdcs             Ib    0.024 0.01814 2458227.5 2458217.84    9.66 ZTF18aagrdcs_20180419_TNG_v1.ascii     1         True       Ib 0.016707946   0.024   0.024    Ca-Ib 0.018156072 Ib-norm   17.13  0.0122 22.946946461804757 2009jf/FORS2+2009-10-28 00:00:00.00 Ib-norm            3.95"
      ]
     },
     "execution_count": 34,
     "metadata": {},
     "output_type": "execute_result"
    }
   ],
   "source": [
    "all_the_power[0]"
   ]
  },
  {
   "cell_type": "code",
   "execution_count": 46,
   "metadata": {},
   "outputs": [],
   "source": [
    "tprfpr_superfit = Table(\n",
    "                names=(\"chi2_superfit\", \"tpr_superfit\", \"fpr_superfit\"\n",
    "                ),\n",
    "                meta={\"name\": \"Comparison of Three Programs\"},\n",
    "                dtype=(\"float64\", \"float64\", \"float64\"\n",
    "                      )) \n",
    "for rlap in np.linspace(3, 0.01, 301):\n",
    "    truepositive = [0, 0, 0]\n",
    "    falsepositive = [0, 0, 0]\n",
    "    for i in all_the_power:\n",
    "        if(i[\"chi2_fit_1\"] < rlap):\n",
    "            c_actual = \"Ia\" in i[\"classification\"]\n",
    "            \n",
    "            c_snid = \"Ia\" in i[\"SF_fit_1\"]\n",
    "            if(c_actual == True and c_snid == True):\n",
    "                truepositive[0] += 1\n",
    "            if(c_actual != True and c_snid == True):\n",
    "                falsepositive[0] += 1\n",
    "    row = [rlap, truepositive[0]/positiveIa, falsepositive[0]/negativeIa]\n",
    "    tprfpr_superfit.add_row(row) "
   ]
  },
  {
   "cell_type": "code",
   "execution_count": 48,
   "metadata": {},
   "outputs": [
    {
     "data": {
      "text/plain": [
       "[<matplotlib.lines.Line2D at 0x2079a53eee0>]"
      ]
     },
     "execution_count": 48,
     "metadata": {},
     "output_type": "execute_result"
    },
    {
     "data": {
      "image/png": "[encoded data removed]",
      "text/plain": [
       "<Figure size 432x288 with 1 Axes>"
      ]
     },
     "metadata": {
      "needs_background": "light"
     },
     "output_type": "display_data"
    }
   ],
   "source": [
    "plt.plot(tprfpr_dash[\"fpr_dash\"], tprfpr_dash[\"tpr_dash\"], color = \"red\")\n",
    "plt.plot(tprfpr_snid[\"fpr_snid\"], tprfpr_snid[\"tpr_snid\"], color = \"blue\")\n",
    "plt.plot(tprfpr_superfit[\"fpr_superfit\"], tprfpr_superfit[\"tpr_superfit\"], color = \"green\")"
   ]
  },
  {
   "cell_type": "code",
   "execution_count": 50,
   "metadata": {},
   "outputs": [
    {
     "name": "stderr",
     "output_type": "stream",
     "text": [
      "WARNING: AstropyDeprecationWarning: tprfpr_snid.ascii already exists. Automatically overwriting ASCII files is deprecated. Use the argument 'overwrite=True' in the future. [astropy.io.ascii.ui]\n",
      "WARNING: AstropyDeprecationWarning: tprfpr_superfit.ascii already exists. Automatically overwriting ASCII files is deprecated. Use the argument 'overwrite=True' in the future. [astropy.io.ascii.ui]\n"
     ]
    }
   ],
   "source": [
    "ascii.write(tprfpr_snid, \"tprfpr_snid.ascii\")\n",
    "ascii.write(tprfpr_dash, \"tprfpr_dash_rlap.ascii\")\n",
    "ascii.write(tprfpr_superfit, \"tprfpr_superfit.ascii\")\n",
    "ascii.write(tprfpr_superfit, \"tprfpr_superfit.ascii\")"
   ]
  },
  {
   "cell_type": "code",
   "execution_count": 70,
   "metadata": {},
   "outputs": [],
   "source": [
    "ascii.write(tprfpr_dash_everything, \"tprfpr_dash_everything.ascii\")"
   ]
  },
  {
   "cell_type": "code",
   "execution_count": null,
   "metadata": {},
   "outputs": [],
   "source": []
  }
 ],
 "metadata": {
  "kernelspec": {
   "display_name": "Python 3",
   "language": "python",
   "name": "python3"
  },
  "language_info": {
   "codemirror_mode": {
    "name": "ipython",
    "version": 3
   },
   "file_extension": ".py",
   "mimetype": "text/x-python",
   "name": "python",
   "nbconvert_exporter": "python",
   "pygments_lexer": "ipython3",
   "version": "3.8.5"
  }
 },
 "nbformat": 4,
 "nbformat_minor": 4
}
