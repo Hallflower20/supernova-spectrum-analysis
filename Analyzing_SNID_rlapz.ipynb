{
 "cells": [
  {
   "cell_type": "code",
   "execution_count": 2,
   "metadata": {},
   "outputs": [],
   "source": [
    "import os\n",
    "import astropy\n",
    "import numpy as np\n",
    "from astropy.table import Table\n",
    "import glob\n",
    "import matplotlib.pyplot as plt\n",
    "import pandas as pd\n",
    "from collections import Counter"
   ]
  },
  {
   "cell_type": "code",
   "execution_count": 3,
   "metadata": {},
   "outputs": [],
   "source": [
    "directory = r\"C:\\Users\\20xha\\Documents\\Caltech\\Research\\SNID\\snid_outputs\\\\\""
   ]
  },
  {
   "cell_type": "code",
   "execution_count": 4,
   "metadata": {},
   "outputs": [],
   "source": [
    "final_rcf_table = Table.from_pandas(pd.read_hdf(\"C:/Users/20xha/Documents/Caltech/Research/final_rcf_table.h5\"))"
   ]
  },
  {
   "cell_type": "code",
   "execution_count": 5,
   "metadata": {},
   "outputs": [],
   "source": [
    "SEDM_ML_sample = Table.read(\"C:/Users/20xha/Documents/Caltech/Research/SEDM_ML_sample.ascii\", format = \"ascii\")"
   ]
  },
  {
   "cell_type": "code",
   "execution_count": 6,
   "metadata": {},
   "outputs": [],
   "source": [
    "run_list = os.listdir(r\"C:\\Users\\20xha\\Documents\\Caltech\\Research\\SNID\\snid_outputs/\")[3::]"
   ]
  },
  {
   "cell_type": "code",
   "execution_count": 6,
   "metadata": {},
   "outputs": [
    {
     "name": "stdout",
     "output_type": "stream",
     "text": [
      "100\n",
      "200\n",
      "300\n",
      "400\n",
      "500\n"
     ]
    }
   ],
   "source": [
    "ResultsTable = Table(\n",
    "                    names=(\"ZTF_Name\", \"ZTF_File\", \"Closest\", \"Top15\", \"Good\"\n",
    "                    ),\n",
    "                    meta={\"name\": \"Spectrum Results after SNID\"},\n",
    "                    dtype=(\"U64\", \"U64\", \"U64\", \"U64\", \"U64\"\n",
    "                          )\n",
    "                    )\n",
    "count = 0\n",
    "for i in final_rcf_table[\"ZTF_Name\"]:\n",
    "    row = []\n",
    "    row.append(i)\n",
    "    files = glob.glob(directory + i + \"\\\\*.readableoutput\")\n",
    "    if(len(files) != 0):\n",
    "        row.append(files[0].split(\"\\\\\")[-1])\n",
    "        try:\n",
    "            templates_list = Table.read(files[0], format = \"ascii\")\n",
    "            row.append(templates_list[0][\"type\"])\n",
    "            Top15 = templates_list[0:15]\n",
    "            c = Counter(Top15[\"type\"])\n",
    "            row.append(c.most_common()[0][0])\n",
    "            GoodMatches = templates_list[np.where(templates_list[\"grade\"] == \"good\")]\n",
    "            c = Counter(GoodMatches[\"type\"])\n",
    "            row.append(c.most_common()[0][0])\n",
    "            count += 1\n",
    "            ResultsTable.add_row(row)\n",
    "            if count % 100 == 0:\n",
    "                print(count)\n",
    "        except:\n",
    "            print(i)"
   ]
  },
  {
   "cell_type": "code",
   "execution_count": 7,
   "metadata": {},
   "outputs": [
    {
     "data": {
      "text/html": [
       "<i>Row index=0</i>\n",
       "<table id=\"table2137332428296\">\n",
       "<thead><tr><th>ZTF_Name</th><th>ZTF_File</th><th>Closest</th><th>Top15</th><th>Good</th></tr></thead>\n",
       "<thead><tr><th>str64</th><th>str64</th><th>str64</th><th>str64</th><th>str64</th></tr></thead>\n",
       "<tr><td>ZTF18aaemivw</td><td>ZTF18aaemivw_20181104_P60_v1_snid_templates.readableoutput</td><td>Ia-csm</td><td>Ia-norm</td><td>Ia-norm</td></tr>\n",
       "</table>"
      ],
      "text/plain": [
       "<Row index=0>\n",
       "  ZTF_Name                            ZTF_File                          Closest  Top15    Good \n",
       "   str64                               str64                             str64   str64   str64 \n",
       "------------ ---------------------------------------------------------- ------- ------- -------\n",
       "ZTF18aaemivw ZTF18aaemivw_20181104_P60_v1_snid_templates.readableoutput  Ia-csm Ia-norm Ia-norm"
      ]
     },
     "execution_count": 7,
     "metadata": {},
     "output_type": "execute_result"
    }
   ],
   "source": [
    "ResultsTable[0]"
   ]
  },
  {
   "cell_type": "code",
   "execution_count": 8,
   "metadata": {},
   "outputs": [
    {
     "data": {
      "text/html": [
       "<i>Row index=0 masked=True</i>\n",
       "<table id=\"table2137308302280\">\n",
       "<thead><tr><th>ZTF_Name</th><th>TNS_Name</th><th>discovered_by</th><th>tns_internal_name</th><th>RA_sn</th><th>Dec_sn</th><th>sn_type</th><th>z_sn</th><th>g_jd_max</th><th>g_max</th><th>g_unc_max</th><th>r_jd_max</th><th>r_max</th><th>r_unc_max</th><th>ebv</th><th>host_name_PS1</th><th>RA_host_PS1</th><th>Dec_host_PS1</th><th>z_host</th><th>sep</th><th>projected_kpc</th><th>gKron_PS1</th><th>rKron_PS1</th><th>iKron_PS1</th><th>zKron_PS1</th><th>yKron_PS1</th><th>w1_host</th><th>w2_host</th><th>ebv_host</th></tr></thead>\n",
       "<thead><tr><th>str12</th><th>str9</th><th>str13</th><th>str29</th><th>float64</th><th>float64</th><th>str9</th><th>float64</th><th>float64</th><th>float64</th><th>float64</th><th>float64</th><th>float64</th><th>float64</th><th>float64</th><th>str21</th><th>float64</th><th>float64</th><th>float64</th><th>float64</th><th>float64</th><th>float64</th><th>float64</th><th>float64</th><th>float64</th><th>float64</th><th>float64</th><th>float64</th><th>float64</th></tr></thead>\n",
       "<tr><td>ZTF18aabssth</td><td>SN2018aex</td><td>ZTF</td><td>ZTF18aabssth</td><td>165.1891017637735</td><td>22.287497041839774</td><td>II</td><td>0.026000000000000002</td><td>2458494.0531481</td><td>20.44230842590332</td><td>0.1942138969898224</td><td>2458218.7148727</td><td>18.741601943969727</td><td>0.0452471598982811</td><td>0.01536</td><td>PSO J165.1878+22.2877</td><td>165.18778907</td><td>22.28771869</td><td>0.022914</td><td>4.444857426598462</td><td>2.0566548608097266</td><td>16.885400772094727</td><td>16.492399215698242</td><td>16.382200241088867</td><td>16.378400802612305</td><td>16.610000610351562</td><td>15.79401524178536</td><td>16.38349243564084</td><td>0.015369999999999997</td></tr>\n",
       "</table>"
      ],
      "text/plain": [
       "<Row index=0 masked=True>\n",
       "  ZTF_Name    TNS_Name discovered_by tns_internal_name       RA_sn             Dec_sn       sn_type         z_sn             g_jd_max          g_max           g_unc_max          r_jd_max          r_max            r_unc_max        ebv       host_name_PS1     RA_host_PS1  Dec_host_PS1  z_host         sep          projected_kpc        gKron_PS1          rKron_PS1          iKron_PS1          zKron_PS1          yKron_PS1           w1_host           w2_host            ebv_host      \n",
       "   str12        str9       str13           str29            float64           float64         str9        float64            float64          float64           float64           float64          float64            float64       float64         str21           float64      float64    float64       float64           float64            float64            float64            float64            float64            float64            float64           float64            float64       \n",
       "------------ --------- ------------- ----------------- ----------------- ------------------ ------- -------------------- --------------- ----------------- ------------------ --------------- ------------------ ------------------ ------- --------------------- ------------ ------------ -------- ----------------- ------------------ ------------------ ------------------ ------------------ ------------------ ------------------ ----------------- ----------------- --------------------\n",
       "ZTF18aabssth SN2018aex           ZTF      ZTF18aabssth 165.1891017637735 22.287497041839774      II 0.026000000000000002 2458494.0531481 20.44230842590332 0.1942138969898224 2458218.7148727 18.741601943969727 0.0452471598982811 0.01536 PSO J165.1878+22.2877 165.18778907  22.28771869 0.022914 4.444857426598462 2.0566548608097266 16.885400772094727 16.492399215698242 16.382200241088867 16.378400802612305 16.610000610351562 15.79401524178536 16.38349243564084 0.015369999999999997"
      ]
     },
     "execution_count": 8,
     "metadata": {},
     "output_type": "execute_result"
    }
   ],
   "source": [
    "final_rcf_table[0]"
   ]
  },
  {
   "cell_type": "code",
   "execution_count": 9,
   "metadata": {},
   "outputs": [],
   "source": [
    "JoinedResults = astropy.table.join(ResultsTable, final_rcf_table)"
   ]
  },
  {
   "cell_type": "code",
   "execution_count": 10,
   "metadata": {},
   "outputs": [
    {
     "data": {
      "text/html": [
       "&lt;MaskedColumn name=&apos;Closest&apos; dtype=&apos;str64&apos; length=16&gt;\n",
       "<table>\n",
       "<tr><td>AGN</td></tr>\n",
       "<tr><td>Gal</td></tr>\n",
       "<tr><td>II-pec</td></tr>\n",
       "<tr><td>IIL</td></tr>\n",
       "<tr><td>IIP</td></tr>\n",
       "<tr><td>IIb</td></tr>\n",
       "<tr><td>IIn</td></tr>\n",
       "<tr><td>Ia-91T</td></tr>\n",
       "<tr><td>Ia-91bg</td></tr>\n",
       "<tr><td>Ia-csm</td></tr>\n",
       "<tr><td>Ia-norm</td></tr>\n",
       "<tr><td>Ia-pec</td></tr>\n",
       "<tr><td>Ib-norm</td></tr>\n",
       "<tr><td>Ib-pec</td></tr>\n",
       "<tr><td>Ic-broad</td></tr>\n",
       "<tr><td>Ic-norm</td></tr>\n",
       "</table>"
      ],
      "text/plain": [
       "<MaskedColumn name='Closest' dtype='str64' length=16>\n",
       "     AGN\n",
       "     Gal\n",
       "  II-pec\n",
       "     IIL\n",
       "     IIP\n",
       "     IIb\n",
       "     IIn\n",
       "  Ia-91T\n",
       " Ia-91bg\n",
       "  Ia-csm\n",
       " Ia-norm\n",
       "  Ia-pec\n",
       " Ib-norm\n",
       "  Ib-pec\n",
       "Ic-broad\n",
       " Ic-norm"
      ]
     },
     "execution_count": 10,
     "metadata": {},
     "output_type": "execute_result"
    }
   ],
   "source": [
    "np.unique(JoinedResults[\"Closest\"])"
   ]
  },
  {
   "cell_type": "code",
   "execution_count": 11,
   "metadata": {},
   "outputs": [
    {
     "data": {
      "text/html": [
       "&lt;MaskedColumn name=&apos;sn_type&apos; dtype=&apos;str9&apos; length=17&gt;\n",
       "<table>\n",
       "<tr><td>II</td></tr>\n",
       "<tr><td>II-87A</td></tr>\n",
       "<tr><td>IIb</td></tr>\n",
       "<tr><td>IIn</td></tr>\n",
       "<tr><td>Ia</td></tr>\n",
       "<tr><td>Ia-02cx</td></tr>\n",
       "<tr><td>Ia-91T</td></tr>\n",
       "<tr><td>Ia-91bg</td></tr>\n",
       "<tr><td>Ia-SC</td></tr>\n",
       "<tr><td>Ib</td></tr>\n",
       "<tr><td>Ib/c</td></tr>\n",
       "<tr><td>Ibn</td></tr>\n",
       "<tr><td>Ic</td></tr>\n",
       "<tr><td>Ic-BL</td></tr>\n",
       "<tr><td>SLSN-I</td></tr>\n",
       "<tr><td>SLSN-II</td></tr>\n",
       "<tr><td>ambiguous</td></tr>\n",
       "</table>"
      ],
      "text/plain": [
       "<MaskedColumn name='sn_type' dtype='str9' length=17>\n",
       "       II\n",
       "   II-87A\n",
       "      IIb\n",
       "      IIn\n",
       "       Ia\n",
       "  Ia-02cx\n",
       "   Ia-91T\n",
       "  Ia-91bg\n",
       "    Ia-SC\n",
       "       Ib\n",
       "     Ib/c\n",
       "      Ibn\n",
       "       Ic\n",
       "    Ic-BL\n",
       "   SLSN-I\n",
       "  SLSN-II\n",
       "ambiguous"
      ]
     },
     "execution_count": 11,
     "metadata": {},
     "output_type": "execute_result"
    }
   ],
   "source": [
    "np.unique(JoinedResults[\"sn_type\"])"
   ]
  },
  {
   "cell_type": "code",
   "execution_count": 12,
   "metadata": {},
   "outputs": [],
   "source": [
    "counters = [0, 0, 0]\n",
    "closest_list = []\n",
    "top15_list = []\n",
    "good_list = []"
   ]
  },
  {
   "cell_type": "code",
   "execution_count": 13,
   "metadata": {},
   "outputs": [],
   "source": [
    "for i in JoinedResults:\n",
    "    correct_id = i[\"sn_type\"]\n",
    "    \n",
    "    if (correct_id in i[\"Closest\"]):\n",
    "        counters[0] += 1\n",
    "    else:\n",
    "        closest_list.append(np.where(JoinedResults[\"ZTF_Name\"] == i[\"ZTF_Name\"])[0][0])\n",
    "        \n",
    "    if (correct_id in i[\"Top15\"]):\n",
    "        counters[1] += 1\n",
    "    else:\n",
    "        top15_list.append(np.where(JoinedResults[\"ZTF_Name\"] == i[\"ZTF_Name\"])[0][0])\n",
    "        \n",
    "    if (correct_id in i[\"Good\"]):\n",
    "        counters[2] += 1\n",
    "    else:\n",
    "        good_list.append(np.where(JoinedResults[\"ZTF_Name\"] == i[\"ZTF_Name\"])[0][0])"
   ]
  },
  {
   "cell_type": "code",
   "execution_count": 14,
   "metadata": {},
   "outputs": [
    {
     "data": {
      "text/plain": [
       "array([0.82735043, 0.83247863, 0.81025641])"
      ]
     },
     "execution_count": 14,
     "metadata": {},
     "output_type": "execute_result"
    }
   ],
   "source": [
    "np.asarray(counters)/(len(JoinedResults))"
   ]
  },
  {
   "cell_type": "code",
   "execution_count": 15,
   "metadata": {},
   "outputs": [
    {
     "data": {
      "text/plain": [
       "585"
      ]
     },
     "execution_count": 15,
     "metadata": {},
     "output_type": "execute_result"
    }
   ],
   "source": [
    "len(JoinedResults)"
   ]
  },
  {
   "cell_type": "code",
   "execution_count": 16,
   "metadata": {},
   "outputs": [],
   "source": [
    "JoinedResults[closest_list][\"ZTF_Name\", \"sn_type\", \"Closest\"].to_pandas().to_csv(\"SNID_Errors/Closest_Errors.csv\")"
   ]
  },
  {
   "cell_type": "code",
   "execution_count": 17,
   "metadata": {},
   "outputs": [],
   "source": [
    "JoinedResults[top15_list][\"ZTF_Name\", \"sn_type\", \"Top15\"].to_pandas().to_csv(\"SNID_Errors/Top15_Errors.csv\")"
   ]
  },
  {
   "cell_type": "code",
   "execution_count": 18,
   "metadata": {},
   "outputs": [],
   "source": [
    "JoinedResults[good_list][\"ZTF_Name\", \"sn_type\", \"Good\"].to_pandas().to_csv(\"SNID_Errors/Good_Errors.csv\")"
   ]
  },
  {
   "cell_type": "code",
   "execution_count": 19,
   "metadata": {},
   "outputs": [],
   "source": [
    "wrong_closest = JoinedResults[closest_list][\"ZTF_Name\", \"sn_type\", \"Closest\"]"
   ]
  },
  {
   "cell_type": "code",
   "execution_count": 20,
   "metadata": {},
   "outputs": [],
   "source": [
    "wrong_top15 = JoinedResults[top15_list][\"ZTF_Name\", \"sn_type\", \"Top15\"]"
   ]
  },
  {
   "cell_type": "code",
   "execution_count": 21,
   "metadata": {},
   "outputs": [],
   "source": [
    "wrong_good = JoinedResults[good_list][\"ZTF_Name\", \"sn_type\", \"Good\"]"
   ]
  },
  {
   "cell_type": "code",
   "execution_count": null,
   "metadata": {},
   "outputs": [
    {
     "name": "stdout",
     "output_type": "stream",
     "text": [
      "100\n",
      "C:\\Users\\20xha\\Documents\\Caltech\\Research\\SNID\\snid_outputs\\\\ZTF18abeamgv\\ZTF18abeamgv_20180708_P60_v1_snid_templates.readableoutput\n",
      "C:\\Users\\20xha\\Documents\\Caltech\\Research\\SNID\\snid_outputs\\\\ZTF18abeegsl\\ZTF18abeegsl_20180721_P60_v1_snid_templates.readableoutput\n",
      "C:\\Users\\20xha\\Documents\\Caltech\\Research\\SNID\\snid_outputs\\\\ZTF18abespgb\\ZTF18abespgb_20180715_P60_v2_snid_templates.readableoutput\n",
      "C:\\Users\\20xha\\Documents\\Caltech\\Research\\SNID\\snid_outputs\\\\ZTF18abesqnb\\ZTF18abesqnb_20180731_P60_v2_snid_templates.readableoutput\n"
     ]
    }
   ],
   "source": [
    "Table_List = []\n",
    "count = 0\n",
    "for i in final_rcf_table[\"ZTF_Name\"]:\n",
    "    try:\n",
    "        row = []\n",
    "        row.append(i)\n",
    "        files = glob.glob(directory + i + \"\\\\*.readableoutput\")\n",
    "        if(len(files) != 0):\n",
    "            row.append(files[0].split(\"\\\\\")[-1])\n",
    "            templates_list = Table.read(files[0], format = \"ascii\")\n",
    "            Table_List.append([i, templates_list])\n",
    "            count += 1\n",
    "            if count % 100 == 0:\n",
    "                print(count)\n",
    "    except:\n",
    "        print(files[0])\n",
    "Table_List_Numpy = np.asarray(Table_List)"
   ]
  },
  {
   "cell_type": "code",
   "execution_count": null,
   "metadata": {},
   "outputs": [],
   "source": [
    "np.save(\"SNID_results_rlap3\", Table_List_Numpy)"
   ]
  },
  {
   "cell_type": "code",
   "execution_count": 7,
   "metadata": {},
   "outputs": [],
   "source": [
    "Table_List_Numpy = np.load(\"SNID_results_rlap3.npy\", allow_pickle=True)"
   ]
  },
  {
   "cell_type": "code",
   "execution_count": 8,
   "metadata": {},
   "outputs": [],
   "source": [
    "Max = 0\n",
    "Min = 100\n",
    "for i in Table_List_Numpy:\n",
    "    Temp_Max = np.max(i[1][\"rlap\"])\n",
    "    Temp_Min = np.min(i[1][\"rlap\"])\n",
    "    if(Temp_Max > Max):\n",
    "        Max = Temp_Max\n",
    "    if(Temp_Min < Min):\n",
    "        Min = Temp_Min"
   ]
  },
  {
   "cell_type": "code",
   "execution_count": 9,
   "metadata": {},
   "outputs": [],
   "source": [
    "ranges = np.linspace(Max, Min, 1000)"
   ]
  },
  {
   "cell_type": "code",
   "execution_count": 10,
   "metadata": {},
   "outputs": [
    {
     "name": "stdout",
     "output_type": "stream",
     "text": [
      "100\n",
      "200\n",
      "300\n",
      "400\n",
      "500\n",
      "600\n",
      "700\n",
      "800\n",
      "900\n",
      "1000\n"
     ]
    }
   ],
   "source": [
    "ResultsTable_List_rlap = []\n",
    "count = 0\n",
    "\n",
    "for i in ranges:\n",
    "    ResultsTable = Table(\n",
    "                    names=(\"ZTF_Name\", \"Closest\"\n",
    "                    ),\n",
    "                    meta={\"name\": \"Spectrum Results after SNID\"},\n",
    "                    dtype=(\"U64\", \"U64\"\n",
    "                          )\n",
    "                    )\n",
    "    for j in Table_List_Numpy:\n",
    "        row = []\n",
    "        row.append(j[0])\n",
    "        if(np.max(j[1][\"rlap\"]) > i):\n",
    "            row.append(j[1][0][\"type\"])\n",
    "            ResultsTable.add_row(row)\n",
    "    \n",
    "    count += 1\n",
    "    if(len(ResultsTable) != 0):\n",
    "        ResultsTable_List_rlap.append([i,ResultsTable])\n",
    "    if(count% 100 == 0):\n",
    "        print(count)"
   ]
  },
  {
   "cell_type": "code",
   "execution_count": 11,
   "metadata": {},
   "outputs": [],
   "source": [
    "counters_rlap = [] \n",
    "for i in ResultsTable_List_rlap:\n",
    "    counter = 0\n",
    "    JoinedResults = astropy.table.join(i[1], final_rcf_table)\n",
    "    for j in JoinedResults:\n",
    "        correct_id = j[\"sn_type\"]\n",
    "\n",
    "        if (correct_id in j[\"Closest\"]):\n",
    "            counter += 1\n",
    "    counters_rlap.append([i[0],counter,len(JoinedResults)])"
   ]
  },
  {
   "cell_type": "code",
   "execution_count": 12,
   "metadata": {},
   "outputs": [],
   "source": [
    "counters_rlap = np.asarray(counters_rlap)"
   ]
  },
  {
   "cell_type": "code",
   "execution_count": 13,
   "metadata": {},
   "outputs": [
    {
     "data": {
      "text/plain": [
       "Text(0, 0.5, 'accuracy')"
      ]
     },
     "execution_count": 13,
     "metadata": {},
     "output_type": "execute_result"
    },
    {
     "data": {
      "image/png": "[encoded data removed]",
      "text/plain": [
       "<Figure size 432x288 with 1 Axes>"
      ]
     },
     "metadata": {
      "needs_background": "light"
     },
     "output_type": "display_data"
    }
   ],
   "source": [
    "plt.plot(counters_rlap[:,0], counters_rlap[:,1]/counters_rlap[:,2])\n",
    "plt.xlim(0, 25)\n",
    "plt.ylim(.8,1)\n",
    "plt.title(\"rlap vs accuracy\")\n",
    "plt.xlabel(\"rlap\")\n",
    "plt.ylabel(\"accuracy\")"
   ]
  },
  {
   "cell_type": "code",
   "execution_count": 15,
   "metadata": {},
   "outputs": [
    {
     "data": {
      "text/plain": [
       "38"
      ]
     },
     "execution_count": 15,
     "metadata": {},
     "output_type": "execute_result"
    }
   ],
   "source": [
    "low_rlap = np.where(counters_rlap[:,0] < 20)\n",
    "np.argmax(counters_rlap[low_rlap][:,1]/counters_rlap[low_rlap][:,2])"
   ]
  },
  {
   "cell_type": "code",
   "execution_count": 16,
   "metadata": {},
   "outputs": [
    {
     "data": {
      "text/plain": [
       "array([ 11.52, 234.  , 240.  ])"
      ]
     },
     "execution_count": 16,
     "metadata": {},
     "output_type": "execute_result"
    }
   ],
   "source": [
    "counters_rlap[low_rlap][38]"
   ]
  },
  {
   "cell_type": "code",
   "execution_count": null,
   "metadata": {},
   "outputs": [],
   "source": [
    "ResultsTable_List_top15 = []\n",
    "count = 0\n",
    "\n",
    "for i in range(0,16):\n",
    "    ResultsTable = Table(\n",
    "                    names=(\"ZTF_Name\", \"Top15\"\n",
    "                    ),\n",
    "                    meta={\"name\": \"Spectrum Results after SNID\"},\n",
    "                    dtype=(\"U64\", \"U64\"\n",
    "                          )\n",
    "                    )\n",
    "    for j in Table_List_Numpy:\n",
    "        row = []\n",
    "        row.append(j[0])\n",
    "        Top15 = j[1][0:15]\n",
    "        c = Counter(Top15[\"type\"])\n",
    "        if(c.most_common()[0][1] >= i):\n",
    "            row.append(c.most_common()[0][0])\n",
    "            ResultsTable.add_row(row)\n",
    "    \n",
    "    count += 1\n",
    "    if(len(ResultsTable) != 0):\n",
    "        ResultsTable_List_top15.append([i,ResultsTable])\n",
    "    if(count% 100 == 0):\n",
    "        print(count)"
   ]
  },
  {
   "cell_type": "code",
   "execution_count": null,
   "metadata": {},
   "outputs": [],
   "source": [
    "counters_number = [] \n",
    "for i in ResultsTable_List_top15:\n",
    "    counter = 0\n",
    "    JoinedResults = astropy.table.join(i[1], final_rcf_table)\n",
    "    for j in JoinedResults:\n",
    "        correct_id = j[\"sn_type\"]\n",
    "\n",
    "        if (correct_id in j[\"Top15\"]):\n",
    "            counter += 1\n",
    "        else:\n",
    "            if(i[0] == 15):\n",
    "                print(j[\"ZTF_Name\"], correct_id, j[\"Top15\"])\n",
    "    counters_number.append([i[0],counter,len(JoinedResults)])"
   ]
  },
  {
   "cell_type": "code",
   "execution_count": null,
   "metadata": {},
   "outputs": [],
   "source": [
    "counters_number = np.asarray(counters_number)"
   ]
  },
  {
   "cell_type": "code",
   "execution_count": null,
   "metadata": {},
   "outputs": [],
   "source": [
    "plt.plot(counters_number[:,0], counters_number[:,1]/counters_number[:,2])\n",
    "plt.xlim(0, 15)\n",
    "plt.title(\"number of agreements vs accuracy\")\n",
    "plt.xlabel(\"number of agreements\")\n",
    "plt.ylabel(\"accuracy\")"
   ]
  },
  {
   "cell_type": "code",
   "execution_count": null,
   "metadata": {},
   "outputs": [],
   "source": [
    "counters_number[np.where(counters_number[:,1] < counters_number[:,2])]"
   ]
  },
  {
   "cell_type": "code",
   "execution_count": null,
   "metadata": {},
   "outputs": [],
   "source": [
    "ResultsTable_List_rlapz = []\n",
    "count = 0\n",
    "\n",
    "for i in ranges:\n",
    "    ResultsTable = Table(\n",
    "                    names=(\"ZTF_Name\", \"Closestz\"\n",
    "                    ),\n",
    "                    meta={\"name\": \"Spectrum Results after SNID\"},\n",
    "                    dtype=(\"U64\", \"U64\"\n",
    "                          )\n",
    "                    )\n",
    "    for j in Table_List_Numpy:\n",
    "        row = []\n",
    "        row.append(j[0])\n",
    "        if(np.max(j[1][\"rlap\"]) > i):\n",
    "            low_redshift = j[1][np.where(j[1][\"z\"] < .2)]\n",
    "            if(len(low_redshift) == 0):\n",
    "                print(j)\n",
    "            else:\n",
    "                row.append(low_redshift[np.argmax(low_redshift[\"rlap\"])][\"type\"])\n",
    "                ResultsTable.add_row(row)\n",
    "    \n",
    "    count += 1\n",
    "    if(len(ResultsTable) != 0):\n",
    "        ResultsTable_List_rlapz.append([i,ResultsTable])\n",
    "    if(count% 100 == 0):\n",
    "        print(count)"
   ]
  },
  {
   "cell_type": "code",
   "execution_count": null,
   "metadata": {},
   "outputs": [],
   "source": [
    "counters_rlapz = [] \n",
    "for i in ResultsTable_List:\n",
    "    counter = 0\n",
    "    JoinedResults = astropy.table.join(i[1], final_rcf_table)\n",
    "    for j in JoinedResults:\n",
    "        correct_id = j[\"sn_type\"]\n",
    "\n",
    "        if (correct_id in j[\"Closest\"]):\n",
    "            counter += 1\n",
    "    counters_rlapz.append([i[0],counter,len(JoinedResults)])"
   ]
  },
  {
   "cell_type": "code",
   "execution_count": null,
   "metadata": {},
   "outputs": [],
   "source": [
    "counters_rlapz = np.asarray(counters_rlapz)"
   ]
  },
  {
   "cell_type": "code",
   "execution_count": null,
   "metadata": {},
   "outputs": [],
   "source": [
    "plt.plot(counters_rlapz[:,0], counters_rlapz[:,1]/counters_rlapz[:,2])\n",
    "plt.xlim(0, 25)\n",
    "plt.title(\"rlap vs accuracy\")\n",
    "plt.xlabel(\"rlap\")\n",
    "plt.ylabel(\"accuracy\")"
   ]
  },
  {
   "cell_type": "code",
   "execution_count": null,
   "metadata": {},
   "outputs": [],
   "source": [
    "plt.plot(counters_rlapz[:,0], counters_rlapz[:,1]/counters_rlapz[:,2])\n",
    "plt.plot(counters_rlap[:,0], counters_rlap[:,1]/counters_rlap[:,2])\n",
    "plt.xlim(0, 25)\n",
    "plt.title(\"rlap vs accuracy\")\n",
    "plt.xlabel(\"rlap\")\n",
    "plt.ylabel(\"accuracy\")"
   ]
  },
  {
   "cell_type": "code",
   "execution_count": 156,
   "metadata": {},
   "outputs": [
    {
     "data": {
      "text/html": [
       "<i>Table length=579</i>\n",
       "<table id=\"table2138359082504\" class=\"table-striped table-bordered table-condensed\">\n",
       "<thead><tr><th>ZTF_Name</th><th>Closestz</th></tr></thead>\n",
       "<thead><tr><th>str64</th><th>str64</th></tr></thead>\n",
       "<tr><td>ZTF18aaemivw</td><td>Ia-csm</td></tr>\n",
       "<tr><td>ZTF18aagrdcs</td><td>Ia-91T</td></tr>\n",
       "<tr><td>ZTF18aahfzea</td><td>Ia-norm</td></tr>\n",
       "<tr><td>ZTF18aahhqih</td><td>IIP</td></tr>\n",
       "<tr><td>ZTF18aailmnv</td><td>Ia-norm</td></tr>\n",
       "<tr><td>ZTF18aaklpdo</td><td>Ia-norm</td></tr>\n",
       "<tr><td>ZTF18aamftst</td><td>IIn</td></tr>\n",
       "<tr><td>ZTF18aamigmk</td><td>Ia-norm</td></tr>\n",
       "<tr><td>ZTF18aansqun</td><td>Ia-norm</td></tr>\n",
       "<tr><td>ZTF18aapgrxo</td><td>IIL</td></tr>\n",
       "<tr><td>...</td><td>...</td></tr>\n",
       "<tr><td>ZTF18adaylyq</td><td>Ia-norm</td></tr>\n",
       "<tr><td>ZTF18adbadfz</td><td>II-pec</td></tr>\n",
       "<tr><td>ZTF18adbadqp</td><td>Ia-norm</td></tr>\n",
       "<tr><td>ZTF18adbckox</td><td>Ia-91T</td></tr>\n",
       "<tr><td>ZTF18adbclkd</td><td>IIP</td></tr>\n",
       "<tr><td>ZTF18aaqkdwf</td><td>IIn</td></tr>\n",
       "<tr><td>ZTF18aarcchg</td><td>Gal</td></tr>\n",
       "<tr><td>ZTF18abcfdzu</td><td>Ic-norm</td></tr>\n",
       "<tr><td>ZTF18abuqhje</td><td>Gal</td></tr>\n",
       "<tr><td>ZTF18acbvpzj</td><td>IIb</td></tr>\n",
       "</table>"
      ],
      "text/plain": [
       "<Table length=579>\n",
       "  ZTF_Name   Closestz\n",
       "   str64      str64  \n",
       "------------ --------\n",
       "ZTF18aaemivw   Ia-csm\n",
       "ZTF18aagrdcs   Ia-91T\n",
       "ZTF18aahfzea  Ia-norm\n",
       "ZTF18aahhqih      IIP\n",
       "ZTF18aailmnv  Ia-norm\n",
       "ZTF18aaklpdo  Ia-norm\n",
       "ZTF18aamftst      IIn\n",
       "ZTF18aamigmk  Ia-norm\n",
       "ZTF18aansqun  Ia-norm\n",
       "ZTF18aapgrxo      IIL\n",
       "         ...      ...\n",
       "ZTF18adaylyq  Ia-norm\n",
       "ZTF18adbadfz   II-pec\n",
       "ZTF18adbadqp  Ia-norm\n",
       "ZTF18adbckox   Ia-91T\n",
       "ZTF18adbclkd      IIP\n",
       "ZTF18aaqkdwf      IIn\n",
       "ZTF18aarcchg      Gal\n",
       "ZTF18abcfdzu  Ic-norm\n",
       "ZTF18abuqhje      Gal\n",
       "ZTF18acbvpzj      IIb"
      ]
     },
     "execution_count": 156,
     "metadata": {},
     "output_type": "execute_result"
    }
   ],
   "source": [
    "ResultsTable_List_rlapz[-1][1]"
   ]
  },
  {
   "cell_type": "code",
   "execution_count": 157,
   "metadata": {},
   "outputs": [
    {
     "data": {
      "text/html": [
       "<i>Table length=585</i>\n",
       "<table id=\"table2138354257288\" class=\"table-striped table-bordered table-condensed\">\n",
       "<thead><tr><th>ZTF_Name</th><th>Closest</th></tr></thead>\n",
       "<thead><tr><th>str64</th><th>str64</th></tr></thead>\n",
       "<tr><td>ZTF18aaemivw</td><td>Ia-csm</td></tr>\n",
       "<tr><td>ZTF18aagrdcs</td><td>Ia-91T</td></tr>\n",
       "<tr><td>ZTF18aahfzea</td><td>Ia-norm</td></tr>\n",
       "<tr><td>ZTF18aahhqih</td><td>IIP</td></tr>\n",
       "<tr><td>ZTF18aailmnv</td><td>Ia-norm</td></tr>\n",
       "<tr><td>ZTF18aaklpdo</td><td>Ia-norm</td></tr>\n",
       "<tr><td>ZTF18aamftst</td><td>IIn</td></tr>\n",
       "<tr><td>ZTF18aamigmk</td><td>Ia-norm</td></tr>\n",
       "<tr><td>ZTF18aansqun</td><td>Ia-norm</td></tr>\n",
       "<tr><td>ZTF18aapgrxo</td><td>Ia-norm</td></tr>\n",
       "<tr><td>...</td><td>...</td></tr>\n",
       "<tr><td>ZTF18adbadfz</td><td>II-pec</td></tr>\n",
       "<tr><td>ZTF18adbadqp</td><td>Ia-norm</td></tr>\n",
       "<tr><td>ZTF18adbckox</td><td>Ia-91T</td></tr>\n",
       "<tr><td>ZTF18adbclkd</td><td>IIP</td></tr>\n",
       "<tr><td>ZTF18aaqkdwf</td><td>Ic-norm</td></tr>\n",
       "<tr><td>ZTF18aarcchg</td><td>Gal</td></tr>\n",
       "<tr><td>ZTF18abcfdzu</td><td>Ic-norm</td></tr>\n",
       "<tr><td>ZTF18abuqhje</td><td>Gal</td></tr>\n",
       "<tr><td>ZTF18acbuemc</td><td>Ic-norm</td></tr>\n",
       "<tr><td>ZTF18acbvpzj</td><td>Ia-norm</td></tr>\n",
       "</table>"
      ],
      "text/plain": [
       "<Table length=585>\n",
       "  ZTF_Name   Closest\n",
       "   str64      str64 \n",
       "------------ -------\n",
       "ZTF18aaemivw  Ia-csm\n",
       "ZTF18aagrdcs  Ia-91T\n",
       "ZTF18aahfzea Ia-norm\n",
       "ZTF18aahhqih     IIP\n",
       "ZTF18aailmnv Ia-norm\n",
       "ZTF18aaklpdo Ia-norm\n",
       "ZTF18aamftst     IIn\n",
       "ZTF18aamigmk Ia-norm\n",
       "ZTF18aansqun Ia-norm\n",
       "ZTF18aapgrxo Ia-norm\n",
       "         ...     ...\n",
       "ZTF18adbadfz  II-pec\n",
       "ZTF18adbadqp Ia-norm\n",
       "ZTF18adbckox  Ia-91T\n",
       "ZTF18adbclkd     IIP\n",
       "ZTF18aaqkdwf Ic-norm\n",
       "ZTF18aarcchg     Gal\n",
       "ZTF18abcfdzu Ic-norm\n",
       "ZTF18abuqhje     Gal\n",
       "ZTF18acbuemc Ic-norm\n",
       "ZTF18acbvpzj Ia-norm"
      ]
     },
     "execution_count": 157,
     "metadata": {},
     "output_type": "execute_result"
    }
   ],
   "source": [
    "ResultsTable_List_rlap[-1][1]"
   ]
  },
  {
   "cell_type": "code",
   "execution_count": null,
   "metadata": {},
   "outputs": [],
   "source": []
  }
 ],
 "metadata": {
  "kernelspec": {
   "display_name": "Python 3",
   "language": "python",
   "name": "python3"
  },
  "language_info": {
   "codemirror_mode": {
    "name": "ipython",
    "version": 3
   },
   "file_extension": ".py",
   "mimetype": "text/x-python",
   "name": "python",
   "nbconvert_exporter": "python",
   "pygments_lexer": "ipython3",
   "version": "3.7.4"
  }
 },
 "nbformat": 4,
 "nbformat_minor": 4
}
