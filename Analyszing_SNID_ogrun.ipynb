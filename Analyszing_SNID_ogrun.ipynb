{
 "cells": [
  {
   "cell_type": "code",
   "execution_count": 1,
   "metadata": {},
   "outputs": [],
   "source": [
    "import os\n",
    "import astropy\n",
    "import numpy as np\n",
    "from astropy.table import Table\n",
    "import glob\n",
    "import matplotlib.pyplot as plt\n",
    "import pandas as pd\n",
    "from collections import Counter"
   ]
  },
  {
   "cell_type": "code",
   "execution_count": 2,
   "metadata": {},
   "outputs": [],
   "source": [
    "directory = r\"C:\\Users\\20xha\\Documents\\Caltech\\Research\\SNID\\snid_outputs\\\\\"\n",
    "final_rcf_table = Table.from_pandas(pd.read_hdf(\"C:/Users/20xha/Documents/Caltech/Research/final_rcf_table.h5\"))\n",
    "SEDM_ML_sample = Table.read(\"C:/Users/20xha/Documents/Caltech/Research/SEDM_ML_sample.ascii\", format = \"ascii\")\n",
    "run_list = os.listdir(r\"C:\\Users\\20xha\\Documents\\Caltech\\Research\\SNID\\snid_outputs/\")[3::]"
   ]
  },
  {
   "cell_type": "code",
   "execution_count": 3,
   "metadata": {},
   "outputs": [],
   "source": [
    "Table_List_Numpy = np.load(r\"C:\\Users\\20xha\\Documents\\Caltech\\Research\\SNID_results.npy\", allow_pickle=True)"
   ]
  },
  {
   "cell_type": "code",
   "execution_count": 19,
   "metadata": {},
   "outputs": [
    {
     "data": {
      "text/plain": [
       "585"
      ]
     },
     "execution_count": 19,
     "metadata": {},
     "output_type": "execute_result"
    }
   ],
   "source": [
    "len(Table_List_Numpy)"
   ]
  },
  {
   "cell_type": "code",
   "execution_count": 4,
   "metadata": {},
   "outputs": [],
   "source": [
    "Max = 0\n",
    "Min = 100\n",
    "for i in Table_List_Numpy:\n",
    "    Temp_Max = np.max(i[1][\"rlap\"])\n",
    "    Temp_Min = np.min(i[1][\"rlap\"])\n",
    "    if(Temp_Max > Max):\n",
    "        Max = Temp_Max\n",
    "    if(Temp_Min < Min):\n",
    "        Min = Temp_Min"
   ]
  },
  {
   "cell_type": "code",
   "execution_count": 5,
   "metadata": {},
   "outputs": [],
   "source": [
    "ranges = np.linspace(Max, Min, 1000)"
   ]
  },
  {
   "cell_type": "code",
   "execution_count": 6,
   "metadata": {},
   "outputs": [
    {
     "name": "stdout",
     "output_type": "stream",
     "text": [
      "100\n",
      "200\n",
      "300\n",
      "400\n",
      "500\n",
      "600\n",
      "700\n",
      "800\n",
      "900\n",
      "1000\n"
     ]
    }
   ],
   "source": [
    "ResultsTable_List_rlap = []\n",
    "count = 0\n",
    "\n",
    "for i in ranges:\n",
    "    ResultsTable = Table(\n",
    "                    names=(\"ZTF_Name\", \"Closest\"\n",
    "                    ),\n",
    "                    meta={\"name\": \"Spectrum Results after SNID\"},\n",
    "                    dtype=(\"U64\", \"U64\"\n",
    "                          )\n",
    "                    )\n",
    "    for j in Table_List_Numpy:\n",
    "        row = []\n",
    "        row.append(j[0])\n",
    "        if(np.max(j[1][\"rlap\"]) > i):\n",
    "            row.append(j[1][0][\"type\"])\n",
    "            ResultsTable.add_row(row)\n",
    "    \n",
    "    count += 1\n",
    "    if(len(ResultsTable) != 0):\n",
    "        ResultsTable_List_rlap.append([i,ResultsTable])\n",
    "    if(count% 100 == 0):\n",
    "        print(count)"
   ]
  },
  {
   "cell_type": "code",
   "execution_count": 7,
   "metadata": {},
   "outputs": [],
   "source": [
    "counters_rlap = [] \n",
    "for i in ResultsTable_List_rlap:\n",
    "    counter = 0\n",
    "    JoinedResults = astropy.table.join(i[1], final_rcf_table)\n",
    "    incorrect = []\n",
    "    for j in JoinedResults:\n",
    "        correct_id = j[\"sn_type\"]\n",
    "\n",
    "        if (correct_id in j[\"Closest\"]):\n",
    "            counter += 1\n",
    "        else:\n",
    "            incorrect.append([j[\"ZTF_Name\"], correct_id, j[\"Closest\"]])\n",
    "    counters_rlap.append([i[0],counter,len(JoinedResults), incorrect])"
   ]
  },
  {
   "cell_type": "code",
   "execution_count": 8,
   "metadata": {},
   "outputs": [],
   "source": [
    "counters_rlap = np.asarray(counters_rlap)"
   ]
  },
  {
   "cell_type": "code",
   "execution_count": 9,
   "metadata": {},
   "outputs": [
    {
     "data": {
      "text/plain": [
       "Text(0, 0.5, 'accuracy')"
      ]
     },
     "execution_count": 9,
     "metadata": {},
     "output_type": "execute_result"
    },
    {
     "data": {
      "image/png": "[encoded data removed]",
      "text/plain": [
       "<Figure size 432x288 with 1 Axes>"
      ]
     },
     "metadata": {
      "needs_background": "light"
     },
     "output_type": "display_data"
    }
   ],
   "source": [
    "plt.plot(counters_rlap[:,0], counters_rlap[:,1]/counters_rlap[:,2])\n",
    "plt.xlim(0, 25)\n",
    "plt.title(\"rlap vs accuracy\")\n",
    "plt.xlabel(\"rlap\")\n",
    "plt.ylabel(\"accuracy\")"
   ]
  },
  {
   "cell_type": "code",
   "execution_count": 10,
   "metadata": {},
   "outputs": [],
   "source": [
    "low_rlap = np.where(counters_rlap[:,0] < 20)"
   ]
  },
  {
   "cell_type": "code",
   "execution_count": 11,
   "metadata": {},
   "outputs": [
    {
     "data": {
      "text/plain": [
       "4"
      ]
     },
     "execution_count": 11,
     "metadata": {},
     "output_type": "execute_result"
    }
   ],
   "source": [
    "np.argmax(counters_rlap[low_rlap][:,1]/counters_rlap[low_rlap][:,2])"
   ]
  },
  {
   "cell_type": "code",
   "execution_count": 12,
   "metadata": {},
   "outputs": [
    {
     "data": {
      "text/plain": [
       "array([15.160820820820732, 164, 170,\n",
       "       list([['ZTF18aavskep', 'IIn', 'AGN'], ['ZTF18abclfee', 'Ia-02cx', 'Ia-91T'], ['ZTF18abtogdl', 'Ia', 'II-pec'], ['ZTF18abtswjk', 'IIn', 'Gal'], ['ZTF18acbwaxk', 'II-87A', 'IIP'], ['ZTF18acxgoki', 'Ic', 'Gal']])],\n",
       "      dtype=object)"
      ]
     },
     "execution_count": 12,
     "metadata": {},
     "output_type": "execute_result"
    }
   ],
   "source": [
    "counters_rlap[low_rlap][4]"
   ]
  },
  {
   "cell_type": "code",
   "execution_count": 13,
   "metadata": {},
   "outputs": [
    {
     "data": {
      "text/plain": [
       "array([[998.8154854854855, 1, 1, list([])],\n",
       "       [997.7309709709709, 1, 1, list([])],\n",
       "       [996.6464564564565, 1, 1, list([])],\n",
       "       ...,\n",
       "       [-81.36097097097093, 484, 585,\n",
       "        list([['ZTF18aagrdcs', 'Ib', 'Ia-91T'], ['ZTF18aapgrxo', 'SLSN-I', 'Ia-norm'], ['ZTF18aapictz', 'Ia-91T', 'Ic-norm'], ['ZTF18aapifti', 'II', 'Ia-pec'], ['ZTF18aaqehoc', 'Ia', 'Ic-broad'], ['ZTF18aaqkdwf', 'ambiguous', 'Ic-norm'], ['ZTF18aaqkoyr', 'II', 'Ib-norm'], ['ZTF18aarasof', 'IIn', 'AGN'], ['ZTF18aarcchg', 'ambiguous', 'Gal'], ['ZTF18aasxvsg', 'IIb', 'Ia-csm'], ['ZTF18aauxzle', 'II', 'Ic-norm'], ['ZTF18aavskep', 'IIn', 'AGN'], ['ZTF18aaxdrjn', 'Ia', 'Ic-norm'], ['ZTF18aaxkqgy', 'II', 'Ia-91T'], ['ZTF18aaxmixe', 'Ia', 'Ic-norm'], ['ZTF18aaxnqjb', 'II', 'Gal'], ['ZTF18aaxxfgs', 'IIn', 'IIP'], ['ZTF18aaygwqd', 'Ib', 'Gal'], ['ZTF18abauprj', 'Ia-91T', 'Ia-pec'], ['ZTF18abcfdzu', 'SLSN-II', 'Ic-norm'], ['ZTF18abclfee', 'Ia-02cx', 'Ia-91T'], ['ZTF18abcsgvj', 'Ia', 'IIP'], ['ZTF18abcyilc', 'Ia-02cx', 'Ia-91T'], ['ZTF18abdbysy', 'II', 'Ic-broad'], ['ZTF18abdffeo', 'Ib/c', 'Gal'], ['ZTF18abdgwxn', 'Ia', 'IIn'], ['ZTF18abdhsfc', 'Ia-91T', 'Ia-norm'], ['ZTF18abdmlya', 'IIb', 'Ia-pec'], ['ZTF18abdpvnd', 'Ia-SC', 'Ia-norm'], ['ZTF18abeamgv', 'Ib', 'IIP'], ['ZTF18abecbks', 'Ic', 'Ia-norm'], ['ZTF18abetehf', 'Ia', 'Ic-broad'], ['ZTF18abfzhct', 'Ic', 'Ib-pec'], ['ZTF18abgmcmv', 'Ia-91T', 'AGN'], ['ZTF18abgrbjb', 'IIb', 'Ia-norm'], ['ZTF18abhhnnv', 'Ic-BL', 'Ia-norm'], ['ZTF18abimhfu', 'II', 'Ia-norm'], ['ZTF18abjdjge', 'Ia-91T', 'Ia-pec'], ['ZTF18abjrbza', 'Ic', 'Ia-pec'], ['ZTF18abkjnqy', 'Ic', 'Ia-norm'], ['ZTF18abltfho', 'IIn', 'II-pec'], ['ZTF18ablwafp', 'SLSN-I', 'Ia-norm'], ['ZTF18abncimo', 'Ia', 'Gal'], ['ZTF18abqbuaj', 'Ibn', 'Ia-norm'], ['ZTF18abqyvzy', 'II', 'Ic-norm'], ['ZTF18abrfchj', 'Ic', 'Gal'], ['ZTF18abrytwr', 'Ia', 'IIb'], ['ZTF18absgnio', 'Ia', 'Ic-norm'], ['ZTF18abshezu', 'SLSN-I', 'Ia-91T'], ['ZTF18absliyc', 'Ic', 'Ia-91T'], ['ZTF18abtogdl', 'Ia', 'II-pec'], ['ZTF18abtswjk', 'IIn', 'Gal'], ['ZTF18abucxcj', 'II', 'Gal'], ['ZTF18abuhzfc', 'Ia', 'IIb'], ['ZTF18abuicad', 'SLSN-II', 'IIn'], ['ZTF18abupgps', 'Ia-91T', 'Ia-csm'], ['ZTF18abuqhje', 'ambiguous', 'Gal'], ['ZTF18abvgivy', 'II', 'Ia-91T'], ['ZTF18abvgjft', 'II', 'Ia-norm'], ['ZTF18abvgjyl', 'SLSN-I', 'Ia-91T'], ['ZTF18abvkmgw', 'Ib', 'IIP'], ['ZTF18abvmlow', 'II', 'Ic-norm'], ['ZTF18abvzdvj', 'II', 'Ic-broad'], ['ZTF18abwbaim', 'Ia', 'Ib-pec'], ['ZTF18abxbmqh', 'SLSN-II', 'Ic-norm'], ['ZTF18abxdtyz', 'II', 'Ia-norm'], ['ZTF18abxjekh', 'II', 'Gal'], ['ZTF18abzscns', 'II', 'Ia-norm'], ['ZTF18acahvwm', 'IIb', 'Ia-pec'], ['ZTF18acapyww', 'SLSN-I', 'Ia-norm'], ['ZTF18acbuemc', 'II', 'Ic-norm'], ['ZTF18acbvcmw', 'Ia', 'IIn'], ['ZTF18acbvhfl', 'SLSN-II', 'II-pec'], ['ZTF18acbvpzj', 'Ia-SC', 'Ia-norm'], ['ZTF18acbwavp', 'Ia-91T', 'Ib-pec'], ['ZTF18acbwaxk', 'II-87A', 'IIP'], ['ZTF18acbwopo', 'II', 'Ic-broad'], ['ZTF18acbwvsp', 'IIn', 'Ic-norm'], ['ZTF18acbwxcc', 'Ic-BL', 'Ib-pec'], ['ZTF18acbwymh', 'Ia', 'Ic-broad'], ['ZTF18acbxsap', 'Ia-91T', 'Ia-pec'], ['ZTF18acbxudr', 'II', 'Gal'], ['ZTF18acbznkf', 'Ia', 'Ic-norm'], ['ZTF18accdzju', 'IIn', 'AGN'], ['ZTF18acdxhus', 'Ia', 'Ic-norm'], ['ZTF18acefuhk', 'IIn', 'Ia-norm'], ['ZTF18acenqto', 'SLSN-I', 'Ia-norm'], ['ZTF18acgvgiq', 'II', 'Ia-csm'], ['ZTF18acqphpd', 'Ic-BL', 'Ia-norm'], ['ZTF18acqxyiq', 'IIb', 'Ia-norm'], ['ZTF18acslbve', 'Ia-02cx', 'Ia-pec'], ['ZTF18acsycnc', 'Ia', 'Ib-norm'], ['ZTF18acszayr', 'IIn', 'Ib-pec'], ['ZTF18actuhrs', 'IIn', 'IIL'], ['ZTF18acuqskr', 'II', 'Gal'], ['ZTF18acvgyst', 'II', 'Ia-norm'], ['ZTF18acvwbos', 'Ia-91T', 'Ia-pec'], ['ZTF18acwzyor', 'IIn', 'IIP'], ['ZTF18acxgoki', 'Ic', 'Gal'], ['ZTF18aczcumi', 'Ib/c', 'Ia-91bg'], ['ZTF18aczdtgn', 'Ia-91T', 'Ia-norm']])],\n",
       "       [-82.44548548548562, 484, 585,\n",
       "        list([['ZTF18aagrdcs', 'Ib', 'Ia-91T'], ['ZTF18aapgrxo', 'SLSN-I', 'Ia-norm'], ['ZTF18aapictz', 'Ia-91T', 'Ic-norm'], ['ZTF18aapifti', 'II', 'Ia-pec'], ['ZTF18aaqehoc', 'Ia', 'Ic-broad'], ['ZTF18aaqkdwf', 'ambiguous', 'Ic-norm'], ['ZTF18aaqkoyr', 'II', 'Ib-norm'], ['ZTF18aarasof', 'IIn', 'AGN'], ['ZTF18aarcchg', 'ambiguous', 'Gal'], ['ZTF18aasxvsg', 'IIb', 'Ia-csm'], ['ZTF18aauxzle', 'II', 'Ic-norm'], ['ZTF18aavskep', 'IIn', 'AGN'], ['ZTF18aaxdrjn', 'Ia', 'Ic-norm'], ['ZTF18aaxkqgy', 'II', 'Ia-91T'], ['ZTF18aaxmixe', 'Ia', 'Ic-norm'], ['ZTF18aaxnqjb', 'II', 'Gal'], ['ZTF18aaxxfgs', 'IIn', 'IIP'], ['ZTF18aaygwqd', 'Ib', 'Gal'], ['ZTF18abauprj', 'Ia-91T', 'Ia-pec'], ['ZTF18abcfdzu', 'SLSN-II', 'Ic-norm'], ['ZTF18abclfee', 'Ia-02cx', 'Ia-91T'], ['ZTF18abcsgvj', 'Ia', 'IIP'], ['ZTF18abcyilc', 'Ia-02cx', 'Ia-91T'], ['ZTF18abdbysy', 'II', 'Ic-broad'], ['ZTF18abdffeo', 'Ib/c', 'Gal'], ['ZTF18abdgwxn', 'Ia', 'IIn'], ['ZTF18abdhsfc', 'Ia-91T', 'Ia-norm'], ['ZTF18abdmlya', 'IIb', 'Ia-pec'], ['ZTF18abdpvnd', 'Ia-SC', 'Ia-norm'], ['ZTF18abeamgv', 'Ib', 'IIP'], ['ZTF18abecbks', 'Ic', 'Ia-norm'], ['ZTF18abetehf', 'Ia', 'Ic-broad'], ['ZTF18abfzhct', 'Ic', 'Ib-pec'], ['ZTF18abgmcmv', 'Ia-91T', 'AGN'], ['ZTF18abgrbjb', 'IIb', 'Ia-norm'], ['ZTF18abhhnnv', 'Ic-BL', 'Ia-norm'], ['ZTF18abimhfu', 'II', 'Ia-norm'], ['ZTF18abjdjge', 'Ia-91T', 'Ia-pec'], ['ZTF18abjrbza', 'Ic', 'Ia-pec'], ['ZTF18abkjnqy', 'Ic', 'Ia-norm'], ['ZTF18abltfho', 'IIn', 'II-pec'], ['ZTF18ablwafp', 'SLSN-I', 'Ia-norm'], ['ZTF18abncimo', 'Ia', 'Gal'], ['ZTF18abqbuaj', 'Ibn', 'Ia-norm'], ['ZTF18abqyvzy', 'II', 'Ic-norm'], ['ZTF18abrfchj', 'Ic', 'Gal'], ['ZTF18abrytwr', 'Ia', 'IIb'], ['ZTF18absgnio', 'Ia', 'Ic-norm'], ['ZTF18abshezu', 'SLSN-I', 'Ia-91T'], ['ZTF18absliyc', 'Ic', 'Ia-91T'], ['ZTF18abtogdl', 'Ia', 'II-pec'], ['ZTF18abtswjk', 'IIn', 'Gal'], ['ZTF18abucxcj', 'II', 'Gal'], ['ZTF18abuhzfc', 'Ia', 'IIb'], ['ZTF18abuicad', 'SLSN-II', 'IIn'], ['ZTF18abupgps', 'Ia-91T', 'Ia-csm'], ['ZTF18abuqhje', 'ambiguous', 'Gal'], ['ZTF18abvgivy', 'II', 'Ia-91T'], ['ZTF18abvgjft', 'II', 'Ia-norm'], ['ZTF18abvgjyl', 'SLSN-I', 'Ia-91T'], ['ZTF18abvkmgw', 'Ib', 'IIP'], ['ZTF18abvmlow', 'II', 'Ic-norm'], ['ZTF18abvzdvj', 'II', 'Ic-broad'], ['ZTF18abwbaim', 'Ia', 'Ib-pec'], ['ZTF18abxbmqh', 'SLSN-II', 'Ic-norm'], ['ZTF18abxdtyz', 'II', 'Ia-norm'], ['ZTF18abxjekh', 'II', 'Gal'], ['ZTF18abzscns', 'II', 'Ia-norm'], ['ZTF18acahvwm', 'IIb', 'Ia-pec'], ['ZTF18acapyww', 'SLSN-I', 'Ia-norm'], ['ZTF18acbuemc', 'II', 'Ic-norm'], ['ZTF18acbvcmw', 'Ia', 'IIn'], ['ZTF18acbvhfl', 'SLSN-II', 'II-pec'], ['ZTF18acbvpzj', 'Ia-SC', 'Ia-norm'], ['ZTF18acbwavp', 'Ia-91T', 'Ib-pec'], ['ZTF18acbwaxk', 'II-87A', 'IIP'], ['ZTF18acbwopo', 'II', 'Ic-broad'], ['ZTF18acbwvsp', 'IIn', 'Ic-norm'], ['ZTF18acbwxcc', 'Ic-BL', 'Ib-pec'], ['ZTF18acbwymh', 'Ia', 'Ic-broad'], ['ZTF18acbxsap', 'Ia-91T', 'Ia-pec'], ['ZTF18acbxudr', 'II', 'Gal'], ['ZTF18acbznkf', 'Ia', 'Ic-norm'], ['ZTF18accdzju', 'IIn', 'AGN'], ['ZTF18acdxhus', 'Ia', 'Ic-norm'], ['ZTF18acefuhk', 'IIn', 'Ia-norm'], ['ZTF18acenqto', 'SLSN-I', 'Ia-norm'], ['ZTF18acgvgiq', 'II', 'Ia-csm'], ['ZTF18acqphpd', 'Ic-BL', 'Ia-norm'], ['ZTF18acqxyiq', 'IIb', 'Ia-norm'], ['ZTF18acslbve', 'Ia-02cx', 'Ia-pec'], ['ZTF18acsycnc', 'Ia', 'Ib-norm'], ['ZTF18acszayr', 'IIn', 'Ib-pec'], ['ZTF18actuhrs', 'IIn', 'IIL'], ['ZTF18acuqskr', 'II', 'Gal'], ['ZTF18acvgyst', 'II', 'Ia-norm'], ['ZTF18acvwbos', 'Ia-91T', 'Ia-pec'], ['ZTF18acwzyor', 'IIn', 'IIP'], ['ZTF18acxgoki', 'Ic', 'Gal'], ['ZTF18aczcumi', 'Ib/c', 'Ia-91bg'], ['ZTF18aczdtgn', 'Ia-91T', 'Ia-norm']])],\n",
       "       [-83.53, 484, 585,\n",
       "        list([['ZTF18aagrdcs', 'Ib', 'Ia-91T'], ['ZTF18aapgrxo', 'SLSN-I', 'Ia-norm'], ['ZTF18aapictz', 'Ia-91T', 'Ic-norm'], ['ZTF18aapifti', 'II', 'Ia-pec'], ['ZTF18aaqehoc', 'Ia', 'Ic-broad'], ['ZTF18aaqkdwf', 'ambiguous', 'Ic-norm'], ['ZTF18aaqkoyr', 'II', 'Ib-norm'], ['ZTF18aarasof', 'IIn', 'AGN'], ['ZTF18aarcchg', 'ambiguous', 'Gal'], ['ZTF18aasxvsg', 'IIb', 'Ia-csm'], ['ZTF18aauxzle', 'II', 'Ic-norm'], ['ZTF18aavskep', 'IIn', 'AGN'], ['ZTF18aaxdrjn', 'Ia', 'Ic-norm'], ['ZTF18aaxkqgy', 'II', 'Ia-91T'], ['ZTF18aaxmixe', 'Ia', 'Ic-norm'], ['ZTF18aaxnqjb', 'II', 'Gal'], ['ZTF18aaxxfgs', 'IIn', 'IIP'], ['ZTF18aaygwqd', 'Ib', 'Gal'], ['ZTF18abauprj', 'Ia-91T', 'Ia-pec'], ['ZTF18abcfdzu', 'SLSN-II', 'Ic-norm'], ['ZTF18abclfee', 'Ia-02cx', 'Ia-91T'], ['ZTF18abcsgvj', 'Ia', 'IIP'], ['ZTF18abcyilc', 'Ia-02cx', 'Ia-91T'], ['ZTF18abdbysy', 'II', 'Ic-broad'], ['ZTF18abdffeo', 'Ib/c', 'Gal'], ['ZTF18abdgwxn', 'Ia', 'IIn'], ['ZTF18abdhsfc', 'Ia-91T', 'Ia-norm'], ['ZTF18abdmlya', 'IIb', 'Ia-pec'], ['ZTF18abdpvnd', 'Ia-SC', 'Ia-norm'], ['ZTF18abeamgv', 'Ib', 'IIP'], ['ZTF18abecbks', 'Ic', 'Ia-norm'], ['ZTF18abetehf', 'Ia', 'Ic-broad'], ['ZTF18abfzhct', 'Ic', 'Ib-pec'], ['ZTF18abgmcmv', 'Ia-91T', 'AGN'], ['ZTF18abgrbjb', 'IIb', 'Ia-norm'], ['ZTF18abhhnnv', 'Ic-BL', 'Ia-norm'], ['ZTF18abimhfu', 'II', 'Ia-norm'], ['ZTF18abjdjge', 'Ia-91T', 'Ia-pec'], ['ZTF18abjrbza', 'Ic', 'Ia-pec'], ['ZTF18abkjnqy', 'Ic', 'Ia-norm'], ['ZTF18abltfho', 'IIn', 'II-pec'], ['ZTF18ablwafp', 'SLSN-I', 'Ia-norm'], ['ZTF18abncimo', 'Ia', 'Gal'], ['ZTF18abqbuaj', 'Ibn', 'Ia-norm'], ['ZTF18abqyvzy', 'II', 'Ic-norm'], ['ZTF18abrfchj', 'Ic', 'Gal'], ['ZTF18abrytwr', 'Ia', 'IIb'], ['ZTF18absgnio', 'Ia', 'Ic-norm'], ['ZTF18abshezu', 'SLSN-I', 'Ia-91T'], ['ZTF18absliyc', 'Ic', 'Ia-91T'], ['ZTF18abtogdl', 'Ia', 'II-pec'], ['ZTF18abtswjk', 'IIn', 'Gal'], ['ZTF18abucxcj', 'II', 'Gal'], ['ZTF18abuhzfc', 'Ia', 'IIb'], ['ZTF18abuicad', 'SLSN-II', 'IIn'], ['ZTF18abupgps', 'Ia-91T', 'Ia-csm'], ['ZTF18abuqhje', 'ambiguous', 'Gal'], ['ZTF18abvgivy', 'II', 'Ia-91T'], ['ZTF18abvgjft', 'II', 'Ia-norm'], ['ZTF18abvgjyl', 'SLSN-I', 'Ia-91T'], ['ZTF18abvkmgw', 'Ib', 'IIP'], ['ZTF18abvmlow', 'II', 'Ic-norm'], ['ZTF18abvzdvj', 'II', 'Ic-broad'], ['ZTF18abwbaim', 'Ia', 'Ib-pec'], ['ZTF18abxbmqh', 'SLSN-II', 'Ic-norm'], ['ZTF18abxdtyz', 'II', 'Ia-norm'], ['ZTF18abxjekh', 'II', 'Gal'], ['ZTF18abzscns', 'II', 'Ia-norm'], ['ZTF18acahvwm', 'IIb', 'Ia-pec'], ['ZTF18acapyww', 'SLSN-I', 'Ia-norm'], ['ZTF18acbuemc', 'II', 'Ic-norm'], ['ZTF18acbvcmw', 'Ia', 'IIn'], ['ZTF18acbvhfl', 'SLSN-II', 'II-pec'], ['ZTF18acbvpzj', 'Ia-SC', 'Ia-norm'], ['ZTF18acbwavp', 'Ia-91T', 'Ib-pec'], ['ZTF18acbwaxk', 'II-87A', 'IIP'], ['ZTF18acbwopo', 'II', 'Ic-broad'], ['ZTF18acbwvsp', 'IIn', 'Ic-norm'], ['ZTF18acbwxcc', 'Ic-BL', 'Ib-pec'], ['ZTF18acbwymh', 'Ia', 'Ic-broad'], ['ZTF18acbxsap', 'Ia-91T', 'Ia-pec'], ['ZTF18acbxudr', 'II', 'Gal'], ['ZTF18acbznkf', 'Ia', 'Ic-norm'], ['ZTF18accdzju', 'IIn', 'AGN'], ['ZTF18acdxhus', 'Ia', 'Ic-norm'], ['ZTF18acefuhk', 'IIn', 'Ia-norm'], ['ZTF18acenqto', 'SLSN-I', 'Ia-norm'], ['ZTF18acgvgiq', 'II', 'Ia-csm'], ['ZTF18acqphpd', 'Ic-BL', 'Ia-norm'], ['ZTF18acqxyiq', 'IIb', 'Ia-norm'], ['ZTF18acslbve', 'Ia-02cx', 'Ia-pec'], ['ZTF18acsycnc', 'Ia', 'Ib-norm'], ['ZTF18acszayr', 'IIn', 'Ib-pec'], ['ZTF18actuhrs', 'IIn', 'IIL'], ['ZTF18acuqskr', 'II', 'Gal'], ['ZTF18acvgyst', 'II', 'Ia-norm'], ['ZTF18acvwbos', 'Ia-91T', 'Ia-pec'], ['ZTF18acwzyor', 'IIn', 'IIP'], ['ZTF18acxgoki', 'Ic', 'Gal'], ['ZTF18aczcumi', 'Ib/c', 'Ia-91bg'], ['ZTF18aczdtgn', 'Ia-91T', 'Ia-norm']])]],\n",
       "      dtype=object)"
      ]
     },
     "execution_count": 13,
     "metadata": {},
     "output_type": "execute_result"
    }
   ],
   "source": [
    "counters_rlap"
   ]
  },
  {
   "cell_type": "code",
   "execution_count": 14,
   "metadata": {},
   "outputs": [],
   "source": [
    "ResultsTable_List_top15 = []\n",
    "count = 0\n",
    "\n",
    "for i in range(0,16):\n",
    "    ResultsTable = Table(\n",
    "                    names=(\"ZTF_Name\", \"Top15\"\n",
    "                    ),\n",
    "                    meta={\"name\": \"Spectrum Results after SNID\"},\n",
    "                    dtype=(\"U64\", \"U64\"\n",
    "                          )\n",
    "                    )\n",
    "    for j in Table_List_Numpy:\n",
    "        row = []\n",
    "        row.append(j[0])\n",
    "        Top15 = j[1][0:15]\n",
    "        c = Counter(Top15[\"type\"])\n",
    "        if(c.most_common()[0][1] >= i):\n",
    "            row.append(c.most_common()[0][0])\n",
    "            ResultsTable.add_row(row)\n",
    "    \n",
    "    count += 1\n",
    "    if(len(ResultsTable) != 0):\n",
    "        ResultsTable_List_top15.append([i,ResultsTable])\n",
    "    if(count% 100 == 0):\n",
    "        print(count)"
   ]
  },
  {
   "cell_type": "code",
   "execution_count": 15,
   "metadata": {},
   "outputs": [
    {
     "name": "stdout",
     "output_type": "stream",
     "text": [
      "ZTF18abdpvnd Ia-SC Ia-norm\n",
      "ZTF18abvgjft II Ia-norm\n",
      "ZTF18acbvcmw Ia IIn\n"
     ]
    }
   ],
   "source": [
    "counters_number = [] \n",
    "for i in ResultsTable_List_top15:\n",
    "    counter = 0\n",
    "    JoinedResults = astropy.table.join(i[1], final_rcf_table)\n",
    "    for j in JoinedResults:\n",
    "        correct_id = j[\"sn_type\"]\n",
    "\n",
    "        if (correct_id in j[\"Top15\"]):\n",
    "            counter += 1\n",
    "        else:\n",
    "            if(i[0] == 15):\n",
    "                print(j[\"ZTF_Name\"], correct_id, j[\"Top15\"])\n",
    "    counters_number.append([i[0],counter,len(JoinedResults)])"
   ]
  },
  {
   "cell_type": "code",
   "execution_count": 16,
   "metadata": {},
   "outputs": [],
   "source": [
    "counters_number = np.asarray(counters_number)"
   ]
  },
  {
   "cell_type": "code",
   "execution_count": 17,
   "metadata": {},
   "outputs": [
    {
     "data": {
      "text/plain": [
       "Text(0, 0.5, 'accuracy')"
      ]
     },
     "execution_count": 17,
     "metadata": {},
     "output_type": "execute_result"
    },
    {
     "data": {
      "image/png": "[encoded data removed]",
      "text/plain": [
       "<Figure size 432x288 with 1 Axes>"
      ]
     },
     "metadata": {
      "needs_background": "light"
     },
     "output_type": "display_data"
    }
   ],
   "source": [
    "plt.plot(counters_number[:,0], counters_number[:,1]/counters_number[:,2])\n",
    "plt.xlim(0, 15)\n",
    "plt.title(\"number of agreements vs accuracy\")\n",
    "plt.xlabel(\"number of agreements\")\n",
    "plt.ylabel(\"accuracy\")"
   ]
  },
  {
   "cell_type": "code",
   "execution_count": 18,
   "metadata": {},
   "outputs": [
    {
     "data": {
      "text/plain": [
       "array([[  0, 487, 585],\n",
       "       [  1, 487, 585],\n",
       "       [  2, 487, 585],\n",
       "       [  3, 487, 585],\n",
       "       [  4, 486, 583],\n",
       "       [  5, 485, 575],\n",
       "       [  6, 479, 557],\n",
       "       [  7, 468, 531],\n",
       "       [  8, 450, 502],\n",
       "       [  9, 431, 465],\n",
       "       [ 10, 394, 422],\n",
       "       [ 11, 362, 383],\n",
       "       [ 12, 330, 349],\n",
       "       [ 13, 300, 312],\n",
       "       [ 14, 261, 268],\n",
       "       [ 15, 202, 205]])"
      ]
     },
     "execution_count": 18,
     "metadata": {},
     "output_type": "execute_result"
    }
   ],
   "source": [
    "counters_number[np.where(counters_number[:,1] < counters_number[:,2])]"
   ]
  },
  {
   "cell_type": "code",
   "execution_count": null,
   "metadata": {},
   "outputs": [],
   "source": []
  }
 ],
 "metadata": {
  "kernelspec": {
   "display_name": "Python 3",
   "language": "python",
   "name": "python3"
  },
  "language_info": {
   "codemirror_mode": {
    "name": "ipython",
    "version": 3
   },
   "file_extension": ".py",
   "mimetype": "text/x-python",
   "name": "python",
   "nbconvert_exporter": "python",
   "pygments_lexer": "ipython3",
   "version": "3.7.4"
  }
 },
 "nbformat": 4,
 "nbformat_minor": 4
}
