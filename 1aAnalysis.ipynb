{
 "cells": [
  {
   "cell_type": "code",
   "execution_count": 1,
   "metadata": {},
   "outputs": [],
   "source": [
    "import os\n",
    "import astropy\n",
    "import numpy as np\n",
    "from astropy.table import Table\n",
    "import glob\n",
    "import matplotlib.pyplot as plt\n",
    "import pandas as pd\n",
    "from collections import Counter\n",
    "from mpl_toolkits.mplot3d import Axes3D"
   ]
  },
  {
   "cell_type": "code",
   "execution_count": 2,
   "metadata": {},
   "outputs": [],
   "source": [
    "directory = r\"C:\\Users\\20xha\\Documents\\Caltech\\Research\\SNID\\snid_outputs\\\\\"\n",
    "final_rcf_table = Table.from_pandas(pd.read_hdf(\"C:/Users/20xha/Documents/Caltech/Research/final_rcf_table.h5\"))\n",
    "SEDM_ML_sample = Table.read(\"C:/Users/20xha/Documents/Caltech/Research/SEDM_ML_sample.ascii\", format = \"ascii\")\n",
    "run_list = os.listdir(r\"C:\\Users\\20xha\\Documents\\Caltech\\Research\\SNID\\snid_outputs/\")[3::]"
   ]
  },
  {
   "cell_type": "code",
   "execution_count": 3,
   "metadata": {},
   "outputs": [],
   "source": [
    "Table_List_Numpy = np.load(\"SNID_results_rlap3.npy\", allow_pickle=True)"
   ]
  },
  {
   "cell_type": "code",
   "execution_count": 4,
   "metadata": {},
   "outputs": [
    {
     "data": {
      "text/plain": [
       "614"
      ]
     },
     "execution_count": 4,
     "metadata": {},
     "output_type": "execute_result"
    }
   ],
   "source": [
    "len(Table_List_Numpy)"
   ]
  },
  {
   "cell_type": "code",
   "execution_count": 5,
   "metadata": {},
   "outputs": [
    {
     "data": {
      "text/plain": [
       "764"
      ]
     },
     "execution_count": 5,
     "metadata": {},
     "output_type": "execute_result"
    }
   ],
   "source": [
    "len(final_rcf_table)"
   ]
  },
  {
   "cell_type": "code",
   "execution_count": 6,
   "metadata": {},
   "outputs": [],
   "source": [
    "Max = 0\n",
    "Min = 100\n",
    "for i in Table_List_Numpy:\n",
    "    Temp_Max = np.max(i[1][\"rlap\"])\n",
    "    Temp_Min = np.min(i[1][\"rlap\"])\n",
    "    if(Temp_Max > Max):\n",
    "        Max = Temp_Max\n",
    "    if(Temp_Min < Min):\n",
    "        Min = Temp_Min"
   ]
  },
  {
   "cell_type": "code",
   "execution_count": 7,
   "metadata": {},
   "outputs": [],
   "source": [
    "ranges = np.linspace(0, 25, 100)"
   ]
  },
  {
   "cell_type": "code",
   "execution_count": 8,
   "metadata": {},
   "outputs": [
    {
     "name": "stdout",
     "output_type": "stream",
     "text": [
      "100\n"
     ]
    }
   ],
   "source": [
    "ResultsTable_List_rlap = []\n",
    "count = 0\n",
    "\n",
    "for i in ranges:\n",
    "    ResultsTable = Table(\n",
    "                    names=(\"ZTF_Name\", \"Closest\"\n",
    "                    ),\n",
    "                    meta={\"name\": \"Spectrum Results after SNID\"},\n",
    "                    dtype=(\"U64\", \"U64\"\n",
    "                          )\n",
    "                    )\n",
    "    for j in Table_List_Numpy:\n",
    "        row = []\n",
    "        row.append(j[0])\n",
    "        if(np.max(j[1][\"rlap\"]) > i):\n",
    "            row.append(j[1][0][\"type\"])\n",
    "            ResultsTable.add_row(row)\n",
    "    \n",
    "    count += 1\n",
    "    if(len(ResultsTable) != 0):\n",
    "        ResultsTable_List_rlap.append([i,ResultsTable])\n",
    "    if(count% 100 == 0):\n",
    "        print(count)"
   ]
  },
  {
   "cell_type": "code",
   "execution_count": 9,
   "metadata": {},
   "outputs": [],
   "source": [
    "counters_rlap = [] \n",
    "for i in ResultsTable_List_rlap:\n",
    "    counter = 0\n",
    "    wrong = []\n",
    "    JoinedResults = astropy.table.join(i[1], final_rcf_table)\n",
    "    for j in JoinedResults:\n",
    "        correct_1a = \"Ia\" in j[\"sn_type\"]\n",
    "        classified_1a = \"Ia\" in j[\"Closest\"]\n",
    "        if(correct_1a==classified_1a):\n",
    "            counter += 1\n",
    "        else:\n",
    "            wrong.append([j[\"ZTF_Name\"], j[\"sn_type\"], j[\"Closest\"]])\n",
    "    wrong = np.asarray(wrong)\n",
    "    counters_rlap.append([i[0],counter,len(JoinedResults), wrong])"
   ]
  },
  {
   "cell_type": "code",
   "execution_count": 10,
   "metadata": {},
   "outputs": [],
   "source": [
    "counters_rlap = np.asarray(counters_rlap)"
   ]
  },
  {
   "cell_type": "code",
   "execution_count": 11,
   "metadata": {},
   "outputs": [
    {
     "data": {
      "text/plain": [
       "Text(0, 0.5, 'accuracy')"
      ]
     },
     "execution_count": 11,
     "metadata": {},
     "output_type": "execute_result"
    },
    {
     "data": {
      "image/png": "[encoded data removed]",
      "text/plain": [
       "<Figure size 432x288 with 1 Axes>"
      ]
     },
     "metadata": {
      "needs_background": "light"
     },
     "output_type": "display_data"
    }
   ],
   "source": [
    "plt.plot(counters_rlap[:,0], counters_rlap[:,1]/counters_rlap[:,2])\n",
    "plt.xlim(0, 25)\n",
    "plt.title(\"rlap vs accuracy of if it is a 1a\")\n",
    "plt.xlabel(\"rlap\")\n",
    "plt.ylabel(\"accuracy\")"
   ]
  },
  {
   "cell_type": "code",
   "execution_count": 12,
   "metadata": {},
   "outputs": [
    {
     "data": {
      "text/plain": [
       "array([10.101010101010102, 304, 305,\n",
       "       array([['ZTF18abtogdl', 'Ia', 'II-pec']], dtype='<U12')],\n",
       "      dtype=object)"
      ]
     },
     "execution_count": 12,
     "metadata": {},
     "output_type": "execute_result"
    }
   ],
   "source": [
    "low_rlap = np.where(counters_rlap[:,0] < 20)\n",
    "counters_rlap[low_rlap][np.argmax(counters_rlap[low_rlap][:,1]/counters_rlap[low_rlap][:,2])]"
   ]
  },
  {
   "cell_type": "code",
   "execution_count": 13,
   "metadata": {},
   "outputs": [],
   "source": [
    "counters_rlap_1a = [] \n",
    "for i in ResultsTable_List_rlap:\n",
    "    truepositive = 0\n",
    "    falsepositive = 0\n",
    "    conditionpositive = 0\n",
    "    conditionnegative = 0\n",
    "    JoinedResults = astropy.table.join(i[1], final_rcf_table)\n",
    "    \n",
    "    for j in JoinedResults:\n",
    "        correct_1a = \"Ia\" in j[\"sn_type\"]\n",
    "        classified_1a = \"Ia\" in j[\"Closest\"]\n",
    "        if(correct_1a and classified_1a):\n",
    "            truepositive += 1\n",
    "        elif(correct_1a == False and classified_1a == True):\n",
    "            falsepositive += 1\n",
    "    counters_rlap_1a.append([i[0],truepositive/(truepositive + falsepositive),falsepositive/(truepositive + falsepositive),len(JoinedResults)])"
   ]
  },
  {
   "cell_type": "code",
   "execution_count": 14,
   "metadata": {},
   "outputs": [],
   "source": [
    "counters_rlap_1a = np.asarray(counters_rlap_1a)"
   ]
  },
  {
   "cell_type": "code",
   "execution_count": 15,
   "metadata": {},
   "outputs": [
    {
     "data": {
      "text/plain": [
       "Text(0, 0.5, 'True Positive Rate')"
      ]
     },
     "execution_count": 15,
     "metadata": {},
     "output_type": "execute_result"
    },
    {
     "data": {
      "image/png": "[encoded data removed]",
      "text/plain": [
       "<Figure size 432x288 with 1 Axes>"
      ]
     },
     "metadata": {
      "needs_background": "light"
     },
     "output_type": "display_data"
    }
   ],
   "source": [
    "plt.scatter(counters_rlap_1a[:,2], counters_rlap_1a[:,1])\n",
    "plt.title(\"ROC of if it is a 1a\")\n",
    "plt.xlabel(\"False Positive Rate\")\n",
    "plt.ylabel(\"True Positive Rate\")"
   ]
  },
  {
   "cell_type": "code",
   "execution_count": 16,
   "metadata": {},
   "outputs": [],
   "source": [
    "ResultsTable_List_top15 = []\n",
    "count = 0\n",
    "\n",
    "for i in range(0,16):\n",
    "    ResultsTable = Table(\n",
    "                    names=(\"ZTF_Name\", \"Top15\"\n",
    "                    ),\n",
    "                    meta={\"name\": \"Spectrum Results after SNID\"},\n",
    "                    dtype=(\"U64\", \"U64\"\n",
    "                          )\n",
    "                    )\n",
    "    for j in Table_List_Numpy:\n",
    "        row = []\n",
    "        row.append(j[0])\n",
    "        Top15 = j[1][0:15]\n",
    "        c = Counter(Top15[\"type\"])\n",
    "        if(c.most_common()[0][1] >= i):\n",
    "            row.append(c.most_common()[0][0])\n",
    "            ResultsTable.add_row(row)\n",
    "    \n",
    "    count += 1\n",
    "    if(len(ResultsTable) != 0):\n",
    "        ResultsTable_List_top15.append([i,ResultsTable])\n",
    "    if(count% 100 == 0):\n",
    "        print(count)"
   ]
  },
  {
   "cell_type": "code",
   "execution_count": 17,
   "metadata": {},
   "outputs": [],
   "source": [
    "counters_top15 = [] \n",
    "for i in ResultsTable_List_top15:\n",
    "    counter = 0\n",
    "    wrong = []\n",
    "    JoinedResults = astropy.table.join(i[1], final_rcf_table)\n",
    "    for j in JoinedResults:\n",
    "        correct_1a = \"Ia\" in j[\"sn_type\"]\n",
    "        classified_1a = \"Ia\" in j[\"Top15\"]\n",
    "        if(correct_1a==classified_1a):\n",
    "            counter += 1\n",
    "        else:\n",
    "            wrong.append([j[\"ZTF_Name\"], j[\"sn_type\"], j[\"Top15\"]])\n",
    "    wrong = np.asarray(wrong)\n",
    "    counters_top15.append([i[0],counter,len(JoinedResults), wrong])"
   ]
  },
  {
   "cell_type": "code",
   "execution_count": 18,
   "metadata": {},
   "outputs": [],
   "source": [
    "counters_top15 = np.asarray(counters_top15)"
   ]
  },
  {
   "cell_type": "code",
   "execution_count": 19,
   "metadata": {},
   "outputs": [
    {
     "data": {
      "text/plain": [
       "Text(0, 0.5, 'accuracy')"
      ]
     },
     "execution_count": 19,
     "metadata": {},
     "output_type": "execute_result"
    },
    {
     "data": {
      "image/png": "[encoded data removed]",
      "text/plain": [
       "<Figure size 432x288 with 1 Axes>"
      ]
     },
     "metadata": {
      "needs_background": "light"
     },
     "output_type": "display_data"
    }
   ],
   "source": [
    "plt.plot(counters_top15[:,0], counters_top15[:,1]/counters_top15[:,2])\n",
    "plt.xlim(0, 15)\n",
    "plt.title(\"agreements vs accuracy of if it is a 1a\")\n",
    "plt.xlabel(\"number of agreements\")\n",
    "plt.ylabel(\"accuracy\")"
   ]
  },
  {
   "cell_type": "code",
   "execution_count": 20,
   "metadata": {},
   "outputs": [
    {
     "data": {
      "text/plain": [
       "array([14, 265, 267,\n",
       "       array([['ZTF18abzscns', 'II', 'Ia-norm'],\n",
       "       ['ZTF18acpsrtc', 'IIn', 'Ia-norm']], dtype='<U12')], dtype=object)"
      ]
     },
     "execution_count": 20,
     "metadata": {},
     "output_type": "execute_result"
    }
   ],
   "source": [
    "counters_top15[np.argmax(counters_top15[:,1]/counters_top15[:,2])]"
   ]
  },
  {
   "cell_type": "code",
   "execution_count": 21,
   "metadata": {},
   "outputs": [],
   "source": [
    "counters_top15_1a = [] \n",
    "for i in ResultsTable_List_top15:\n",
    "    truepositive = 0\n",
    "    falsepositive = 0\n",
    "    conditionpositive = 0\n",
    "    conditionnegative = 0\n",
    "    JoinedResults = astropy.table.join(i[1], final_rcf_table)\n",
    "    \n",
    "    for j in JoinedResults:\n",
    "        correct_1a = \"Ia\" in j[\"sn_type\"]\n",
    "        classified_1a = \"Ia\" in j[\"Top15\"]\n",
    "        if(correct_1a and classified_1a):\n",
    "            truepositive += 1\n",
    "        elif(correct_1a == False and classified_1a == True):\n",
    "            falsepositive += 1\n",
    "    counters_top15_1a.append([i[0],truepositive/(truepositive + falsepositive),falsepositive/(truepositive + falsepositive),len(JoinedResults)])"
   ]
  },
  {
   "cell_type": "code",
   "execution_count": 22,
   "metadata": {},
   "outputs": [],
   "source": [
    "counters_top15_1a = np.asarray(counters_top15_1a)"
   ]
  },
  {
   "cell_type": "code",
   "execution_count": 23,
   "metadata": {},
   "outputs": [
    {
     "data": {
      "text/plain": [
       "Text(0, 0.5, 'True Positive Rate')"
      ]
     },
     "execution_count": 23,
     "metadata": {},
     "output_type": "execute_result"
    },
    {
     "data": {
      "image/png": "[encoded data removed]",
      "text/plain": [
       "<Figure size 432x288 with 1 Axes>"
      ]
     },
     "metadata": {
      "needs_background": "light"
     },
     "output_type": "display_data"
    }
   ],
   "source": [
    "plt.scatter(counters_top15_1a[:,2], counters_top15_1a[:,1])\n",
    "plt.title(\"Top15 ROC of if it is a 1a\")\n",
    "plt.xlabel(\"False Positive Rate\")\n",
    "plt.ylabel(\"True Positive Rate\")"
   ]
  },
  {
   "cell_type": "code",
   "execution_count": null,
   "metadata": {},
   "outputs": [
    {
     "name": "stdout",
     "output_type": "stream",
     "text": [
      "100\n",
      "200\n",
      "300\n",
      "400\n",
      "500\n"
     ]
    }
   ],
   "source": [
    "ResultsTable_List_both = []\n",
    "count = 0\n",
    "\n",
    "for rlap in ranges:\n",
    "    for agree in range(0,16):\n",
    "        ResultsTable = Table(\n",
    "                    names=(\"ZTF_Name\", \"Both\"\n",
    "                    ),\n",
    "                    meta={\"name\": \"Spectrum Results after SNID\"},\n",
    "                    dtype=(\"U64\", \"U64\"\n",
    "                          )\n",
    "                    )\n",
    "        for j in Table_List_Numpy:\n",
    "            row = []\n",
    "            row.append(j[0])\n",
    "            if(np.max(j[1][\"rlap\"]) > rlap):\n",
    "                Top15 = j[1][0:15]\n",
    "                c = Counter(Top15[\"type\"])\n",
    "                if(c.most_common()[0][1] >= agree):\n",
    "                    row.append(c.most_common()[0][0])\n",
    "                    ResultsTable.add_row(row)\n",
    "\n",
    "        count += 1\n",
    "        if(len(ResultsTable) != 0):\n",
    "            ResultsTable_List_both.append([rlap,agree,ResultsTable])\n",
    "        if(count% 100 == 0):\n",
    "            print(count)"
   ]
  },
  {
   "cell_type": "code",
   "execution_count": null,
   "metadata": {},
   "outputs": [],
   "source": [
    "counters_both = [] \n",
    "for i in ResultsTable_List_both:\n",
    "    counter = 0\n",
    "    wrong = []\n",
    "    JoinedResults = astropy.table.join(i[2], final_rcf_table)\n",
    "    for j in JoinedResults:\n",
    "        correct_1a = \"Ia\" in j[\"sn_type\"]\n",
    "        classified_1a = \"Ia\" in j[\"Both\"]\n",
    "        if(correct_1a==classified_1a):\n",
    "            counter += 1\n",
    "        else:\n",
    "            wrong.append([j[\"ZTF_Name\"], j[\"sn_type\"], j[\"Both\"]])\n",
    "    wrong = np.asarray(wrong)\n",
    "    counters_both.append([i[0],i[1],counter,len(JoinedResults), wrong])"
   ]
  },
  {
   "cell_type": "code",
   "execution_count": null,
   "metadata": {},
   "outputs": [],
   "source": [
    "counters_both = np.asarray(counters_both)"
   ]
  },
  {
   "cell_type": "code",
   "execution_count": null,
   "metadata": {},
   "outputs": [],
   "source": [
    "low_rlap = np.where(counters_both[:,0] < 20)\n",
    "counters_both[low_rlap][np.argmax(counters_both[low_rlap][:,2]/counters_both[low_rlap][:,3])]"
   ]
  },
  {
   "cell_type": "code",
   "execution_count": null,
   "metadata": {},
   "outputs": [],
   "source": [
    "counters_both[np.where(counters_both[:,2] == counters_both[:,3])]"
   ]
  },
  {
   "cell_type": "code",
   "execution_count": null,
   "metadata": {},
   "outputs": [],
   "source": [
    "fig = plt.figure()\n",
    "ax = fig.add_subplot(111, projection='3d')\n",
    "ax.plot(counters_both[:,0], counters_both[:,1], counters_both[:,2]/counters_both[:,3])\n",
    "ax.set_xlabel(\"rlap\")\n",
    "ax.set_ylabel(\"agreements\")\n",
    "ax.set_zlabel(\"accuracy\")"
   ]
  },
  {
   "cell_type": "code",
   "execution_count": null,
   "metadata": {},
   "outputs": [],
   "source": []
  }
 ],
 "metadata": {
  "kernelspec": {
   "display_name": "Python 3",
   "language": "python",
   "name": "python3"
  },
  "language_info": {
   "codemirror_mode": {
    "name": "ipython",
    "version": 3
   },
   "file_extension": ".py",
   "mimetype": "text/x-python",
   "name": "python",
   "nbconvert_exporter": "python",
   "pygments_lexer": "ipython3",
   "version": "3.7.4"
  }
 },
 "nbformat": 4,
 "nbformat_minor": 4
}
