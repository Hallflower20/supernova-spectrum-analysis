{
 "cells": [
  {
   "cell_type": "code",
   "execution_count": 1,
   "metadata": {},
   "outputs": [],
   "source": [
    "import numpy as np\n",
    "import pandas as pd\n",
    "import glob\n",
    "from astropy.table import Table\n",
    "import matplotlib.pyplot as plt\n",
    "import json \n",
    "import astropy"
   ]
  },
  {
   "cell_type": "code",
   "execution_count": 14,
   "metadata": {},
   "outputs": [],
   "source": [
    "sample = Table.read(\"/home/xhall/Documents/ZTFI/SNID_2020_output.csv\", format = \"ascii\")"
   ]
  },
  {
   "cell_type": "code",
   "execution_count": 3,
   "metadata": {},
   "outputs": [],
   "source": [
    "ZTF_I = Table.read(r\"/home/xhall/Documents/ZTFI/sample/SEDM_ML_sample.ascii\", format = \"ascii\")\n",
    "ZTF_I.rename_column('col1', 'ZTF_Name')\n",
    "ZTF_I.rename_column('col2', \"Class\")\n",
    "ZTF_I.rename_column('col8', \"Version\")"
   ]
  },
  {
   "cell_type": "code",
   "execution_count": 15,
   "metadata": {},
   "outputs": [
    {
     "data": {
      "text/plain": [
       "8765"
      ]
     },
     "execution_count": 15,
     "metadata": {},
     "output_type": "execute_result"
    }
   ],
   "source": [
    "version = np.unique(sample[\"Version\"])\n",
    "len(sample)"
   ]
  },
  {
   "cell_type": "code",
   "execution_count": 16,
   "metadata": {},
   "outputs": [],
   "source": [
    "counter = 0\n",
    "locations = []\n",
    "for i in ZTF_I[\"Version\"]:\n",
    "    if(i not in version):\n",
    "        locations.append(counter)\n",
    "    counter += 1"
   ]
  },
  {
   "cell_type": "code",
   "execution_count": 17,
   "metadata": {},
   "outputs": [],
   "source": [
    "ZTF_I[locations].to_pandas().to_csv(\"stuff_left.csv\", index = False)"
   ]
  },
  {
   "cell_type": "code",
   "execution_count": 19,
   "metadata": {},
   "outputs": [
    {
     "data": {
      "text/html": [
       "<i>Table length=2043</i>\n",
       "<table id=\"table140475160254608\" class=\"table-striped table-bordered table-condensed\">\n",
       "<thead><tr><th>ZTF_Name</th><th>Class</th><th>col3</th><th>col4</th><th>col5</th><th>col6</th><th>col7</th><th>Version</th><th>col9</th></tr></thead>\n",
       "<thead><tr><th>str12</th><th>str12</th><th>float64</th><th>float64</th><th>float64</th><th>float64</th><th>float64</th><th>str43</th><th>int64</th></tr></thead>\n",
       "<tr><td>ZTF18aahqkbt</td><td>TDE</td><td>0.051</td><td>nan</td><td>2458390.5</td><td>2459631.19</td><td>-1240.69</td><td>ZTF18aahqkbt_20180929_HST_v1.ascii</td><td>0</td></tr>\n",
       "<tr><td>ZTF18aahqkbt</td><td>TDE</td><td>0.051</td><td>nan</td><td>2458391.5</td><td>2459631.19</td><td>-1239.69</td><td>ZTF18aahqkbt_20180930_HST_v1.ascii</td><td>0</td></tr>\n",
       "<tr><td>ZTF18aamigmk</td><td>Ia</td><td>0.023</td><td>nan</td><td>2458229.5</td><td>2459627.48</td><td>-1397.98</td><td>ZTF18aamigmk_20180421_Ekar_v1.ascii</td><td>1</td></tr>\n",
       "<tr><td>ZTF18aasuray</td><td>CLAGN</td><td>0.0397</td><td>nan</td><td>2459189.5</td><td>2459805.57</td><td>-616.07</td><td>ZTF18aasuray_20201206_DCT_v1.ascii</td><td>0</td></tr>\n",
       "<tr><td>ZTF18aaupmks</td><td>Ia</td><td>0.04</td><td>nan</td><td>2458256.5</td><td>2459643.49</td><td>-1386.99</td><td>ZTF18aaupmks_20180518_LT_v1.ascii</td><td>1</td></tr>\n",
       "<tr><td>ZTF18aavrzxp</td><td>Ia</td><td>0.07</td><td>nan</td><td>2459190.5</td><td>2459651.29</td><td>-460.79</td><td>ZTF18aavrzxp_20201207_NOT_v1.ascii</td><td>1</td></tr>\n",
       "<tr><td>ZTF18aavrzxp</td><td>Ia</td><td>0.07</td><td>nan</td><td>2459190.5</td><td>2459651.29</td><td>-460.79</td><td>ZTF18aavrzxp_20201207_NOT_v2.ascii</td><td>1</td></tr>\n",
       "<tr><td>ZTF18aajupnt</td><td>CLAGN</td><td>0.0367</td><td>nan</td><td>2458362.5</td><td>2459708.2</td><td>-1345.7</td><td>ZTF18aajupnt_20180901_HST_v1.ascii</td><td>0</td></tr>\n",
       "<tr><td>ZTF18aajupnt</td><td>CLAGN</td><td>0.0367</td><td>nan</td><td>2458501.5</td><td>2459708.2</td><td>-1206.7</td><td>ZTF18aajupnt_20190118_HST_v1.ascii</td><td>0</td></tr>\n",
       "<tr><td>ZTF18aajupnt</td><td>CLAGN</td><td>0.0367</td><td>nan</td><td>2458545.5</td><td>2459708.2</td><td>-1162.7</td><td>ZTF18aajupnt_20190303_HST_v1.ascii</td><td>0</td></tr>\n",
       "<tr><td>...</td><td>...</td><td>...</td><td>...</td><td>...</td><td>...</td><td>...</td><td>...</td><td>...</td></tr>\n",
       "<tr><td>ZTF19aavjvkh</td><td>Ic</td><td>0.04077</td><td>0.04077</td><td>2459087.5</td><td>2458633.82</td><td>453.68</td><td>ZTF19aavjvkh_20200826_P200_v1.ascii</td><td>2</td></tr>\n",
       "<tr><td>ZTF19aavotnx</td><td>II</td><td>0.03417</td><td>0.03417</td><td>2459087.5</td><td>2458633.71</td><td>453.79</td><td>ZTF19aavotnx_20200826_P200_v1.ascii</td><td>2</td></tr>\n",
       "<tr><td>ZTF19aawhlcn</td><td>Ia-02cx</td><td>0.01129</td><td>0.01129</td><td>2459369.5</td><td>2458639.81</td><td>729.69</td><td>ZTF19aawhlcn_20210604_P200_v1.ascii</td><td>2</td></tr>\n",
       "<tr><td>ZTF19aavoayk</td><td>Ib</td><td>0.04519</td><td>0.04519</td><td>2459087.5</td><td>2458644.78</td><td>442.72</td><td>ZTF19aavoayk_20200826_P200_v1.ascii</td><td>2</td></tr>\n",
       "<tr><td>ZTF19aavoayk</td><td>Ib</td><td>0.04519</td><td>0.04519</td><td>2459087.5</td><td>2458644.78</td><td>442.72</td><td>ZTF19aavoayk_20200826_P200_v2.ascii</td><td>2</td></tr>\n",
       "<tr><td>ZTF19aavvygo</td><td>II</td><td>0.02378</td><td>0.02378</td><td>2459369.5</td><td>2458633.98</td><td>735.52</td><td>ZTF19aavvygo_20210604_P200_v1.ascii</td><td>2</td></tr>\n",
       "<tr><td>ZTF19aavweog</td><td>NaN</td><td>0.03346</td><td>0.03346</td><td>2459369.5</td><td>2458637.68</td><td>731.82</td><td>ZTF19aavweog_20210604_P200_v1.ascii</td><td>2</td></tr>\n",
       "<tr><td>ZTF19abalbim</td><td>Ia-02cx</td><td>0.01106</td><td>0.01106</td><td>2458930.5</td><td>2458657.79</td><td>272.71</td><td>ZTF19abalbim_20200322_Keck1_v1.ascii</td><td>2</td></tr>\n",
       "<tr><td>ZTF19abehwhj</td><td>LBV</td><td>nan</td><td>nan</td><td>2458683.5</td><td>2458695.98</td><td>-12.48</td><td>ZTF19abehwhj_20190719_P200_v1.ascii</td><td>2</td></tr>\n",
       "<tr><td>ZTF19abehwhj</td><td>LBV</td><td>nan</td><td>nan</td><td>2458733.5</td><td>2458695.98</td><td>37.52</td><td>ZTF19abehwhj_20190907_Keck2_v1.ascii</td><td>2</td></tr>\n",
       "</table>"
      ],
      "text/plain": [
       "<Table length=2043>\n",
       "  ZTF_Name    Class    col3  ...               Version                 col9\n",
       "   str12      str12  float64 ...                str43                 int64\n",
       "------------ ------- ------- ... ------------------------------------ -----\n",
       "ZTF18aahqkbt     TDE   0.051 ...   ZTF18aahqkbt_20180929_HST_v1.ascii     0\n",
       "ZTF18aahqkbt     TDE   0.051 ...   ZTF18aahqkbt_20180930_HST_v1.ascii     0\n",
       "ZTF18aamigmk      Ia   0.023 ...  ZTF18aamigmk_20180421_Ekar_v1.ascii     1\n",
       "ZTF18aasuray   CLAGN  0.0397 ...   ZTF18aasuray_20201206_DCT_v1.ascii     0\n",
       "ZTF18aaupmks      Ia    0.04 ...    ZTF18aaupmks_20180518_LT_v1.ascii     1\n",
       "ZTF18aavrzxp      Ia    0.07 ...   ZTF18aavrzxp_20201207_NOT_v1.ascii     1\n",
       "ZTF18aavrzxp      Ia    0.07 ...   ZTF18aavrzxp_20201207_NOT_v2.ascii     1\n",
       "ZTF18aajupnt   CLAGN  0.0367 ...   ZTF18aajupnt_20180901_HST_v1.ascii     0\n",
       "ZTF18aajupnt   CLAGN  0.0367 ...   ZTF18aajupnt_20190118_HST_v1.ascii     0\n",
       "ZTF18aajupnt   CLAGN  0.0367 ...   ZTF18aajupnt_20190303_HST_v1.ascii     0\n",
       "         ...     ...     ... ...                                  ...   ...\n",
       "ZTF19aavjvkh      Ic 0.04077 ...  ZTF19aavjvkh_20200826_P200_v1.ascii     2\n",
       "ZTF19aavotnx      II 0.03417 ...  ZTF19aavotnx_20200826_P200_v1.ascii     2\n",
       "ZTF19aawhlcn Ia-02cx 0.01129 ...  ZTF19aawhlcn_20210604_P200_v1.ascii     2\n",
       "ZTF19aavoayk      Ib 0.04519 ...  ZTF19aavoayk_20200826_P200_v1.ascii     2\n",
       "ZTF19aavoayk      Ib 0.04519 ...  ZTF19aavoayk_20200826_P200_v2.ascii     2\n",
       "ZTF19aavvygo      II 0.02378 ...  ZTF19aavvygo_20210604_P200_v1.ascii     2\n",
       "ZTF19aavweog     NaN 0.03346 ...  ZTF19aavweog_20210604_P200_v1.ascii     2\n",
       "ZTF19abalbim Ia-02cx 0.01106 ... ZTF19abalbim_20200322_Keck1_v1.ascii     2\n",
       "ZTF19abehwhj     LBV     nan ...  ZTF19abehwhj_20190719_P200_v1.ascii     2\n",
       "ZTF19abehwhj     LBV     nan ... ZTF19abehwhj_20190907_Keck2_v1.ascii     2"
      ]
     },
     "execution_count": 19,
     "metadata": {},
     "output_type": "execute_result"
    }
   ],
   "source": [
    "ZTF_I[locations]"
   ]
  },
  {
   "cell_type": "code",
   "execution_count": null,
   "metadata": {},
   "outputs": [],
   "source": []
  }
 ],
 "metadata": {
  "kernelspec": {
   "display_name": "Python 3",
   "language": "python",
   "name": "python3"
  },
  "language_info": {
   "codemirror_mode": {
    "name": "ipython",
    "version": 3
   },
   "file_extension": ".py",
   "mimetype": "text/x-python",
   "name": "python",
   "nbconvert_exporter": "python",
   "pygments_lexer": "ipython3",
   "version": "3.7.6"
  }
 },
 "nbformat": 4,
 "nbformat_minor": 4
}
