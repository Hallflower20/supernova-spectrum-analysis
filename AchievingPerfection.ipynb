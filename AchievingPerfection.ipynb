{
 "cells": [
  {
   "cell_type": "code",
   "execution_count": 4,
   "metadata": {},
   "outputs": [],
   "source": [
    "import os\n",
    "import astropy\n",
    "import numpy as np\n",
    "from astropy.table import Table\n",
    "from astropy.table import Column\n",
    "import glob\n",
    "import matplotlib.pyplot as plt\n",
    "import pandas as pd\n",
    "from collections import Counter\n",
    "from mpl_toolkits.mplot3d import Axes3D"
   ]
  },
  {
   "cell_type": "code",
   "execution_count": 5,
   "metadata": {},
   "outputs": [],
   "source": [
    "directory = r\"C:\\Users\\20xha\\Documents\\Caltech\\Research\\SNID\\snid_outputs\\\\\"\n",
    "final_rcf_table = Table.from_pandas(pd.read_hdf(\"C:/Users/20xha/Documents/Caltech/Research/final_rcf_table.h5\"))\n",
    "SEDM_ML_sample = Table.read(\"C:/Users/20xha/Documents/Caltech/Research/SEDM_ML_sample.ascii\", format = \"ascii\")\n",
    "SEDM_ML_sample.rename_column('col1', 'ZTF_Name')\n",
    "SEDM_ML_sample.rename_column('col2', \"Class\")\n",
    "SEDM_ML_sample.rename_column('col8', \"Version\")\n",
    "run_list = os.listdir(r\"C:\\Users\\20xha\\Documents\\Caltech\\Research\\SNID\\snid_outputs/\")[1::]"
   ]
  },
  {
   "cell_type": "code",
   "execution_count": 6,
   "metadata": {},
   "outputs": [],
   "source": [
    "Table_List_Numpy = np.load(\"SNID_results_all_rlap3.npy\", allow_pickle=True)"
   ]
  },
  {
   "cell_type": "code",
   "execution_count": 7,
   "metadata": {},
   "outputs": [],
   "source": [
    "Max = 0\n",
    "Min = 100\n",
    "for i in Table_List_Numpy:\n",
    "    Temp_Max = np.max(i[1][\"rlap\"])\n",
    "    Temp_Min = np.min(i[1][\"rlap\"])\n",
    "    if(Temp_Max > Max):\n",
    "        Max = Temp_Max\n",
    "    if(Temp_Min < Min):\n",
    "        Min = Temp_Min\n",
    "ranges = np.linspace(0, 25, 25)"
   ]
  },
  {
   "cell_type": "code",
   "execution_count": null,
   "metadata": {},
   "outputs": [],
   "source": [
    "ResultsTable_List_both = []\n",
    "count = 0\n",
    "\n",
    "for rlap in ranges:\n",
    "    for agree in range(0,16):\n",
    "        ResultsTable = Table(\n",
    "                    names=(\"ZTF_Name\", \"Both\"\n",
    "                    ),\n",
    "                    meta={\"name\": \"Spectrum Results after SNID\"},\n",
    "                    dtype=(\"U64\", \"U64\"\n",
    "                          )\n",
    "                    )\n",
    "        for j in Table_List_Numpy:\n",
    "            row = []\n",
    "            row.append(j[0])\n",
    "            good = j[1][np.where(j[1][\"grade\"] == \"good\")]\n",
    "            if(np.max(good[\"rlap\"]) > rlap):\n",
    "                Top15 = good[0:15]\n",
    "                c = Counter(Top15[\"type\"])\n",
    "                if(c.most_common()[0][1] >= agree):\n",
    "                    row.append(c.most_common()[0][0])\n",
    "                    ResultsTable.add_row(row)\n",
    "\n",
    "        count += 1\n",
    "        if(len(ResultsTable) != 0):\n",
    "            ResultsTable_List_both.append([rlap,agree,ResultsTable])\n",
    "        if(count % 10 == 0):\n",
    "            print(count)"
   ]
  },
  {
   "cell_type": "code",
   "execution_count": 10,
   "metadata": {},
   "outputs": [],
   "source": [
    "ResultsTable_List_both_numpy = np.asarray(ResultsTable_List_both)"
   ]
  },
  {
   "cell_type": "code",
   "execution_count": 11,
   "metadata": {},
   "outputs": [],
   "source": [
    "np.save(\"ResultsTable_List_both_numpy\", ResultsTable_List_both_numpy)"
   ]
  },
  {
   "cell_type": "code",
   "execution_count": 12,
   "metadata": {},
   "outputs": [],
   "source": [
    "ResultsTable_List_both_numpy = np.load(\"ResultsTable_List_both_numpy.npy\", allow_pickle=True)"
   ]
  },
  {
   "cell_type": "code",
   "execution_count": 13,
   "metadata": {},
   "outputs": [
    {
     "data": {
      "text/plain": [
       "2893"
      ]
     },
     "execution_count": 13,
     "metadata": {},
     "output_type": "execute_result"
    }
   ],
   "source": [
    "len(np.unique(Table_List_Numpy[:,0]))"
   ]
  },
  {
   "cell_type": "code",
   "execution_count": 14,
   "metadata": {},
   "outputs": [
    {
     "data": {
      "text/plain": [
       "2968"
      ]
     },
     "execution_count": 14,
     "metadata": {},
     "output_type": "execute_result"
    }
   ],
   "source": [
    "len(np.unique(SEDM_ML_sample[\"ZTF_Name\"]))"
   ]
  },
  {
   "cell_type": "code",
   "execution_count": 15,
   "metadata": {},
   "outputs": [],
   "source": [
    "Classification = Table(\n",
    "                    names=(\"ZTF_Name\", \"Class\", \"Version\"\n",
    "                    ),\n",
    "                    meta={\"name\": \"Basic ZTF Name Data\"},\n",
    "                    dtype=(\"U64\", \"U64\", \"U64\"\n",
    "                          )\n",
    "                    )\n",
    "for i in np.unique(SEDM_ML_sample[\"ZTF_Name\"]):\n",
    "    row = SEDM_ML_sample[\"ZTF_Name\", \"Class\", \"Version\"][np.where(i == SEDM_ML_sample[\"ZTF_Name\"])][-1]\n",
    "    Classification.add_row(row)"
   ]
  },
  {
   "cell_type": "code",
   "execution_count": 16,
   "metadata": {},
   "outputs": [
    {
     "name": "stderr",
     "output_type": "stream",
     "text": [
      "WARNING: MergeConflictWarning: Cannot merge meta key 'name' types <class 'str'> and <class 'str'>, choosing name='Basic ZTF Name Data' [astropy.utils.metadata]\n"
     ]
    }
   ],
   "source": [
    "counters_both = [] \n",
    "for i in ResultsTable_List_both_numpy:\n",
    "    counter = 0\n",
    "    wrong = []\n",
    "    JoinedResults = astropy.table.join(i[2], Classification)\n",
    "    for j in JoinedResults:\n",
    "        if(j[\"Class\"] != '-'):\n",
    "            correct_1a = \"Ia\" in j[\"Class\"]\n",
    "            classified_1a = \"Ia\" in j[\"Both\"]\n",
    "            if(correct_1a==classified_1a):\n",
    "                counter += 1\n",
    "            else:\n",
    "                wrong.append([j[\"ZTF_Name\"], j[\"Class\"], j[\"Both\"]])\n",
    "    wrong = np.asarray(wrong)\n",
    "    counters_both.append([i[0],i[1],counter,len(JoinedResults), wrong])"
   ]
  },
  {
   "cell_type": "code",
   "execution_count": 17,
   "metadata": {},
   "outputs": [],
   "source": [
    "counters_both = np.asarray(counters_both)"
   ]
  },
  {
   "cell_type": "code",
   "execution_count": 18,
   "metadata": {},
   "outputs": [
    {
     "data": {
      "text/plain": [
       "array([11.458333333333334, 15, 393, 393, array([], dtype=float64)],\n",
       "      dtype=object)"
      ]
     },
     "execution_count": 18,
     "metadata": {},
     "output_type": "execute_result"
    }
   ],
   "source": [
    "low_rlap = np.where(counters_both[:,0] < 20)\n",
    "counters_both[low_rlap][np.argmax(counters_both[low_rlap][:,2]/counters_both[low_rlap][:,3])]"
   ]
  },
  {
   "cell_type": "code",
   "execution_count": 19,
   "metadata": {},
   "outputs": [
    {
     "data": {
      "text/plain": [
       "array([[11.458333333333334, 15, 393, 393, array([], dtype=float64)],\n",
       "       [12.5, 15, 347, 347, array([], dtype=float64)],\n",
       "       [13.541666666666668, 14, 353, 353, array([], dtype=float64)],\n",
       "       [13.541666666666668, 15, 296, 296, array([], dtype=float64)],\n",
       "       [14.583333333333334, 9, 380, 380, array([], dtype=float64)],\n",
       "       [14.583333333333334, 10, 363, 363, array([], dtype=float64)],\n",
       "       [14.583333333333334, 11, 353, 353, array([], dtype=float64)],\n",
       "       [14.583333333333334, 12, 344, 344, array([], dtype=float64)],\n",
       "       [14.583333333333334, 13, 316, 316, array([], dtype=float64)],\n",
       "       [14.583333333333334, 14, 285, 285, array([], dtype=float64)],\n",
       "       [14.583333333333334, 15, 245, 245, array([], dtype=float64)],\n",
       "       [15.625000000000002, 9, 294, 294, array([], dtype=float64)],\n",
       "       [15.625000000000002, 10, 282, 282, array([], dtype=float64)],\n",
       "       [15.625000000000002, 11, 273, 273, array([], dtype=float64)],\n",
       "       [15.625000000000002, 12, 268, 268, array([], dtype=float64)],\n",
       "       [15.625000000000002, 13, 250, 250, array([], dtype=float64)],\n",
       "       [15.625000000000002, 14, 229, 229, array([], dtype=float64)],\n",
       "       [15.625000000000002, 15, 196, 196, array([], dtype=float64)],\n",
       "       [16.666666666666668, 8, 247, 247, array([], dtype=float64)],\n",
       "       [16.666666666666668, 9, 240, 240, array([], dtype=float64)],\n",
       "       [16.666666666666668, 10, 229, 229, array([], dtype=float64)],\n",
       "       [16.666666666666668, 11, 220, 220, array([], dtype=float64)],\n",
       "       [16.666666666666668, 12, 217, 217, array([], dtype=float64)],\n",
       "       [16.666666666666668, 13, 203, 203, array([], dtype=float64)],\n",
       "       [16.666666666666668, 14, 189, 189, array([], dtype=float64)],\n",
       "       [16.666666666666668, 15, 161, 161, array([], dtype=float64)],\n",
       "       [17.708333333333336, 8, 198, 198, array([], dtype=float64)],\n",
       "       [17.708333333333336, 9, 192, 192, array([], dtype=float64)],\n",
       "       [17.708333333333336, 10, 183, 183, array([], dtype=float64)],\n",
       "       [17.708333333333336, 11, 175, 175, array([], dtype=float64)],\n",
       "       [17.708333333333336, 12, 173, 173, array([], dtype=float64)],\n",
       "       [17.708333333333336, 13, 160, 160, array([], dtype=float64)],\n",
       "       [17.708333333333336, 14, 149, 149, array([], dtype=float64)],\n",
       "       [17.708333333333336, 15, 128, 128, array([], dtype=float64)],\n",
       "       [18.75, 8, 143, 143, array([], dtype=float64)],\n",
       "       [18.75, 9, 137, 137, array([], dtype=float64)],\n",
       "       [18.75, 10, 133, 133, array([], dtype=float64)],\n",
       "       [18.75, 11, 130, 130, array([], dtype=float64)],\n",
       "       [18.75, 12, 128, 128, array([], dtype=float64)],\n",
       "       [18.75, 13, 119, 119, array([], dtype=float64)],\n",
       "       [18.75, 14, 112, 112, array([], dtype=float64)],\n",
       "       [18.75, 15, 93, 93, array([], dtype=float64)],\n",
       "       [19.791666666666668, 8, 116, 116, array([], dtype=float64)],\n",
       "       [19.791666666666668, 9, 111, 111, array([], dtype=float64)],\n",
       "       [19.791666666666668, 10, 108, 108, array([], dtype=float64)],\n",
       "       [19.791666666666668, 11, 106, 106, array([], dtype=float64)],\n",
       "       [19.791666666666668, 12, 104, 104, array([], dtype=float64)],\n",
       "       [19.791666666666668, 13, 95, 95, array([], dtype=float64)],\n",
       "       [19.791666666666668, 14, 88, 88, array([], dtype=float64)],\n",
       "       [19.791666666666668, 15, 76, 76, array([], dtype=float64)],\n",
       "       [20.833333333333336, 8, 81, 81, array([], dtype=float64)],\n",
       "       [20.833333333333336, 9, 78, 78, array([], dtype=float64)],\n",
       "       [20.833333333333336, 10, 75, 75, array([], dtype=float64)],\n",
       "       [20.833333333333336, 11, 73, 73, array([], dtype=float64)],\n",
       "       [20.833333333333336, 12, 72, 72, array([], dtype=float64)],\n",
       "       [20.833333333333336, 13, 64, 64, array([], dtype=float64)],\n",
       "       [20.833333333333336, 14, 59, 59, array([], dtype=float64)],\n",
       "       [20.833333333333336, 15, 52, 52, array([], dtype=float64)],\n",
       "       [21.875, 8, 62, 62, array([], dtype=float64)],\n",
       "       [21.875, 9, 60, 60, array([], dtype=float64)],\n",
       "       [21.875, 10, 59, 59, array([], dtype=float64)],\n",
       "       [21.875, 11, 58, 58, array([], dtype=float64)],\n",
       "       [21.875, 12, 58, 58, array([], dtype=float64)],\n",
       "       [21.875, 13, 52, 52, array([], dtype=float64)],\n",
       "       [21.875, 14, 49, 49, array([], dtype=float64)],\n",
       "       [21.875, 15, 43, 43, array([], dtype=float64)],\n",
       "       [22.916666666666668, 8, 45, 45, array([], dtype=float64)],\n",
       "       [22.916666666666668, 9, 44, 44, array([], dtype=float64)],\n",
       "       [22.916666666666668, 10, 43, 43, array([], dtype=float64)],\n",
       "       [22.916666666666668, 11, 42, 42, array([], dtype=float64)],\n",
       "       [22.916666666666668, 12, 42, 42, array([], dtype=float64)],\n",
       "       [22.916666666666668, 13, 37, 37, array([], dtype=float64)],\n",
       "       [22.916666666666668, 14, 35, 35, array([], dtype=float64)],\n",
       "       [22.916666666666668, 15, 29, 29, array([], dtype=float64)],\n",
       "       [23.958333333333336, 8, 28, 28, array([], dtype=float64)],\n",
       "       [23.958333333333336, 9, 28, 28, array([], dtype=float64)],\n",
       "       [23.958333333333336, 10, 28, 28, array([], dtype=float64)],\n",
       "       [23.958333333333336, 11, 27, 27, array([], dtype=float64)],\n",
       "       [23.958333333333336, 12, 27, 27, array([], dtype=float64)],\n",
       "       [23.958333333333336, 13, 23, 23, array([], dtype=float64)],\n",
       "       [23.958333333333336, 14, 21, 21, array([], dtype=float64)],\n",
       "       [23.958333333333336, 15, 16, 16, array([], dtype=float64)],\n",
       "       [25.0, 8, 20, 20, array([], dtype=float64)],\n",
       "       [25.0, 9, 20, 20, array([], dtype=float64)],\n",
       "       [25.0, 10, 20, 20, array([], dtype=float64)],\n",
       "       [25.0, 11, 19, 19, array([], dtype=float64)],\n",
       "       [25.0, 12, 19, 19, array([], dtype=float64)],\n",
       "       [25.0, 13, 16, 16, array([], dtype=float64)],\n",
       "       [25.0, 14, 14, 14, array([], dtype=float64)],\n",
       "       [25.0, 15, 11, 11, array([], dtype=float64)]], dtype=object)"
      ]
     },
     "execution_count": 19,
     "metadata": {},
     "output_type": "execute_result"
    }
   ],
   "source": [
    "counters_both[np.where(counters_both[:,2] == counters_both[:,3])]"
   ]
  },
  {
   "cell_type": "code",
   "execution_count": 20,
   "metadata": {},
   "outputs": [
    {
     "data": {
      "text/plain": [
       "Text(0.5, 0, 'accuracy')"
      ]
     },
     "execution_count": 20,
     "metadata": {},
     "output_type": "execute_result"
    },
    {
     "data": {
      "image/png": "[encoded data removed]",
      "text/plain": [
       "<Figure size 432x288 with 1 Axes>"
      ]
     },
     "metadata": {
      "needs_background": "light"
     },
     "output_type": "display_data"
    }
   ],
   "source": [
    "fig = plt.figure()\n",
    "ax = fig.add_subplot(111, projection='3d')\n",
    "ax.plot(counters_both[:,0], counters_both[:,1], counters_both[:,2]/counters_both[:,3])\n",
    "ax.set_xlabel(\"rlap\")\n",
    "ax.set_ylabel(\"agreements\")\n",
    "ax.set_zlabel(\"accuracy\")"
   ]
  },
  {
   "cell_type": "code",
   "execution_count": 33,
   "metadata": {},
   "outputs": [],
   "source": [
    "count = 0\n",
    "\n",
    "rlap = 11.5\n",
    "agree = 15\n",
    "ResultsTable = Table(\n",
    "            names=(\"ZTF_Name\", \"SNID_Class\"\n",
    "            ),\n",
    "            meta={\"name\": \"Spectrum Results after SNID\"},\n",
    "            dtype=(\"U64\", \"U64\"\n",
    "                  )\n",
    "            )\n",
    "for j in Table_List_Numpy:\n",
    "    row = []\n",
    "    row.append(j[0])\n",
    "    good = j[1][np.where(j[1][\"grade\"] == \"good\")]\n",
    "    if(np.max(good[\"rlap\"]) > rlap):\n",
    "        Top15 = good[0:15]\n",
    "        c = Counter(Top15[\"type\"])\n",
    "        if(c.most_common()[0][1] >= agree):\n",
    "            row.append(c.most_common()[0][0])\n",
    "            ResultsTable.add_row(row)\n",
    "\n",
    "count += 1\n",
    "if(count% 100 == 0):\n",
    "    print(count)"
   ]
  },
  {
   "cell_type": "code",
   "execution_count": 34,
   "metadata": {},
   "outputs": [],
   "source": [
    "wrong = []\n",
    "JoinedResults = astropy.table.join(ResultsTable, Classification)\n",
    "for j in JoinedResults:\n",
    "    if(j[\"Class\"] != '-' and j[\"Class\"] != \"0.0\"):\n",
    "        correct_1a = \"Ia\" in j[\"Class\"]\n",
    "        classified_1a = \"Ia\" in j[\"SNID_Class\"]\n",
    "        if(correct_1a==classified_1a):\n",
    "            counter += 1\n",
    "        else:\n",
    "            wrong.append([j[\"ZTF_Name\"], j[\"Class\"], j[\"SNID_Class\"]])\n",
    "wrong = np.asarray(wrong)"
   ]
  },
  {
   "cell_type": "code",
   "execution_count": 35,
   "metadata": {},
   "outputs": [],
   "source": [
    "JoinedResults.to_pandas().to_csv(\"SNID_Results.csv\")"
   ]
  },
  {
   "cell_type": "code",
   "execution_count": 36,
   "metadata": {},
   "outputs": [
    {
     "data": {
      "text/plain": [
       "array([], dtype=float64)"
      ]
     },
     "execution_count": 36,
     "metadata": {},
     "output_type": "execute_result"
    }
   ],
   "source": [
    "wrong"
   ]
  },
  {
   "cell_type": "code",
   "execution_count": 20,
   "metadata": {},
   "outputs": [
    {
     "name": "stdout",
     "output_type": "stream",
     "text": [
      "100\n",
      "200\n",
      "300\n",
      "400\n",
      "500\n",
      "600\n",
      "700\n",
      "800\n",
      "900\n",
      "1000\n",
      "1100\n",
      "1200\n",
      "1300\n",
      "1400\n",
      "1500\n",
      "1600\n",
      "1700\n",
      "1800\n",
      "1900\n",
      "2000\n",
      "2100\n",
      "2200\n",
      "2300\n",
      "2400\n",
      "2500\n",
      "2600\n",
      "2700\n",
      "2800\n"
     ]
    }
   ],
   "source": [
    "Table_List_Summary = []\n",
    "count = 0\n",
    "for i in np.unique(SEDM_ML_sample[\"ZTF_Name\"]):\n",
    "    row = []\n",
    "    row.append(i)\n",
    "    files = glob.glob(directory + i + \"\\\\*.readableoutput\")\n",
    "    if(len(files) != 0):\n",
    "        row.append(files[1].split(\"\\\\\")[-1])\n",
    "        templates_list = Table.read(files[1], format = \"ascii\")\n",
    "        Table_List_Summary.append([i, templates_list])\n",
    "        count += 1\n",
    "        if count % 100 == 0:\n",
    "            print(count)\n",
    "Table_List_Summary = np.asarray(Table_List_Summary)"
   ]
  },
  {
   "cell_type": "code",
   "execution_count": 31,
   "metadata": {},
   "outputs": [
    {
     "name": "stdout",
     "output_type": "stream",
     "text": [
      "100\n",
      "200\n",
      "300\n",
      "400\n",
      "500\n",
      "600\n",
      "700\n",
      "800\n",
      "900\n",
      "1000\n",
      "1100\n",
      "1200\n",
      "1300\n",
      "1400\n",
      "1500\n",
      "1600\n",
      "1700\n",
      "1800\n",
      "1900\n",
      "2000\n",
      "2100\n",
      "2200\n",
      "2300\n",
      "2400\n",
      "2500\n",
      "2600\n",
      "2700\n",
      "2800\n"
     ]
    }
   ],
   "source": [
    "count = 0\n",
    "ResultsTable_Summary = Table(\n",
    "            names=(\"ZTF_Name\", \"SNID_Class\"\n",
    "            ),\n",
    "            meta={\"name\": \"Spectrum Results after SNID\"},\n",
    "            dtype=(\"U64\", \"U64\"\n",
    "                  )\n",
    "            )\n",
    "for j in Table_List_Summary:\n",
    "    row = []\n",
    "    row.append(j[0])\n",
    "    row.append(j[1][\"type\"][np.argmax(j[1][\"ntemp\"])])\n",
    "    ResultsTable_Summary.add_row(row)\n",
    "\n",
    "    count += 1\n",
    "    if(count% 100 == 0):\n",
    "        print(count)"
   ]
  },
  {
   "cell_type": "code",
   "execution_count": 47,
   "metadata": {},
   "outputs": [],
   "source": [
    "wrong = []\n",
    "counter = 0\n",
    "total_counter = 0\n",
    "JoinedResults_Summary = astropy.table.join(ResultsTable_Summary, Classification)\n",
    "for j in JoinedResults:\n",
    "    if(j[\"Class\"] != '-'):\n",
    "        total_counter += 1\n",
    "        correct_1a = \"Ia\" in j[\"Class\"]\n",
    "        classified_1a = \"Ia\" in j[\"SNID_Class\"]\n",
    "        if(correct_1a==classified_1a):\n",
    "            counter += 1\n",
    "        else:\n",
    "            wrong.append([j[\"ZTF_Name\"], j[\"Class\"], j[\"SNID_Class\"]])\n",
    "wrong = np.asarray(wrong)"
   ]
  },
  {
   "cell_type": "code",
   "execution_count": 58,
   "metadata": {},
   "outputs": [
    {
     "data": {
      "text/html": [
       "<i>Row index=0 masked=True</i>\n",
       "<table id=\"table2518716830536\">\n",
       "<thead><tr><th>ZTF_Name</th><th>Class</th><th>col3</th><th>col4</th><th>col5</th><th>col6</th><th>col7</th><th>Version</th><th>col9</th></tr></thead>\n",
       "<thead><tr><th>str12</th><th>str12</th><th>float64</th><th>float64</th><th>float64</th><th>float64</th><th>float64</th><th>str34</th><th>int32</th></tr></thead>\n",
       "<tr><td>ZTF17aaajnki</td><td>AGN</td><td>0.00106</td><td>nan</td><td>2458197.5</td><td>2458512.74</td><td>-315.24</td><td>ZTF17aaajnki_20180320_P60_v1.ascii</td><td>0</td></tr>\n",
       "</table>"
      ],
      "text/plain": [
       "<Row index=0 masked=True>\n",
       "  ZTF_Name   Class   col3    col4     col5      col6      col7               Version                col9\n",
       "   str12     str12 float64 float64  float64   float64   float64               str34                int32\n",
       "------------ ----- ------- ------- --------- ---------- ------- ---------------------------------- -----\n",
       "ZTF17aaajnki   AGN 0.00106     nan 2458197.5 2458512.74 -315.24 ZTF17aaajnki_20180320_P60_v1.ascii     0"
      ]
     },
     "execution_count": 58,
     "metadata": {},
     "output_type": "execute_result"
    }
   ],
   "source": [
    "SEDM_ML_sample[0]"
   ]
  },
  {
   "cell_type": "code",
   "execution_count": 66,
   "metadata": {},
   "outputs": [],
   "source": [
    "Rlap_and_SNIDClass = Table(\n",
    "                    names=(\"ZTF_Name\", \"SNID_Class\", \"rlap\"\n",
    "                    ),\n",
    "                    meta={\"name\": \"Basic ZTF Name Data\"},\n",
    "                    dtype=(\"U64\", \"U64\", \"U64\"\n",
    "                          )\n",
    "                    )\n",
    "for i in Table_List_Numpy:\n",
    "    good = i[1][np.where(i[1][\"grade\"] == \"good\")]\n",
    "    row = [i[0]]\n",
    "    best_row = np.argmax(good[\"rlap\"])\n",
    "    row.append(good[best_row][\"type\"])\n",
    "    row.append(good[best_row][\"rlap\"])\n",
    "    Rlap_and_SNIDClass.add_row(row)"
   ]
  },
  {
   "cell_type": "code",
   "execution_count": 73,
   "metadata": {},
   "outputs": [],
   "source": [
    "VersionRlapSNIDClass = astropy.table.join(Classification[\"ZTF_Name\", \"Version\"], Rlap_and_SNIDClass)"
   ]
  },
  {
   "cell_type": "code",
   "execution_count": 77,
   "metadata": {},
   "outputs": [],
   "source": [
    "SEDM_ML_sample_VersionRlapSNIDClass = astropy.table.join(SEDM_ML_sample,VersionRlapSNIDClass)"
   ]
  },
  {
   "cell_type": "code",
   "execution_count": 79,
   "metadata": {},
   "outputs": [],
   "source": [
    "SEDM_ML_sample_VersionRlapSNIDClass.to_pandas().to_csv(\"SEDM_ML_sample_rlap.csv\")"
   ]
  },
  {
   "cell_type": "code",
   "execution_count": 37,
   "metadata": {},
   "outputs": [
    {
     "ename": "NameError",
     "evalue": "name 'SEDM_ML_sample_VersionRlapSNIDClass' is not defined",
     "output_type": "error",
     "traceback": [
      "\u001b[1;31m---------------------------------------------------------------------------\u001b[0m",
      "\u001b[1;31mNameError\u001b[0m                                 Traceback (most recent call last)",
      "\u001b[1;32m<ipython-input-37-3356aab76ae5>\u001b[0m in \u001b[0;36m<module>\u001b[1;34m\u001b[0m\n\u001b[1;32m----> 1\u001b[1;33m \u001b[0mSEDM_ML_sample_VersionRlapSNIDClass\u001b[0m\u001b[1;33m\u001b[0m\u001b[1;33m\u001b[0m\u001b[0m\n\u001b[0m",
      "\u001b[1;31mNameError\u001b[0m: name 'SEDM_ML_sample_VersionRlapSNIDClass' is not defined"
     ]
    }
   ],
   "source": [
    "SEDM_ML_sample_VersionRlapSNIDClass"
   ]
  },
  {
   "cell_type": "code",
   "execution_count": null,
   "metadata": {},
   "outputs": [],
   "source": []
  }
 ],
 "metadata": {
  "kernelspec": {
   "display_name": "Python 3",
   "language": "python",
   "name": "python3"
  },
  "language_info": {
   "codemirror_mode": {
    "name": "ipython",
    "version": 3
   },
   "file_extension": ".py",
   "mimetype": "text/x-python",
   "name": "python",
   "nbconvert_exporter": "python",
   "pygments_lexer": "ipython3",
   "version": "3.7.6"
  }
 },
 "nbformat": 4,
 "nbformat_minor": 4
}
