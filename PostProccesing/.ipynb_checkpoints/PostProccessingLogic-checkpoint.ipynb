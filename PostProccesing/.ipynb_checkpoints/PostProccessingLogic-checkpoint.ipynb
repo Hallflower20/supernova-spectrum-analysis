{
 "cells": [
  {
   "cell_type": "code",
   "execution_count": 130,
   "metadata": {},
   "outputs": [],
   "source": [
    "import os\n",
    "import astropy\n",
    "import numpy as np\n",
    "from astropy.table import Table\n",
    "from astropy.table import Column\n",
    "import glob\n",
    "import matplotlib.pyplot as plt\n",
    "import pandas as pd\n",
    "from collections import Counter\n",
    "from mpl_toolkits.mplot3d import Axes3D\n",
    "import copy"
   ]
  },
  {
   "cell_type": "code",
   "execution_count": 3,
   "metadata": {},
   "outputs": [],
   "source": [
    "sample = Table.read(\"/home/xhall/Documents/NewZTF/ML_sample.ascii\", format = \"ascii\")\n",
    "sample.rename_column('col1', 'ZTF_Name')\n",
    "sample.rename_column('col2', \"Class\")\n",
    "sample.rename_column('col8', \"Version\")"
   ]
  },
  {
   "cell_type": "code",
   "execution_count": 64,
   "metadata": {},
   "outputs": [],
   "source": [
    "snidoutput = np.load(\"//home/xhall/Documents/NewZTF/sample_2020/SNID_2020_output.npy\",allow_pickle=True)"
   ]
  },
  {
   "cell_type": "code",
   "execution_count": 125,
   "metadata": {},
   "outputs": [
    {
     "data": {
      "text/plain": [
       "49"
      ]
     },
     "execution_count": 125,
     "metadata": {},
     "output_type": "execute_result"
    }
   ],
   "source": [
    "ZTable_best = Table(\n",
    "                    names=(\"Version\", \"ZTF_Name\",\n",
    "                           \"z_sntemplate\", \"z_rlap\", \"z_snid\", \"z_snid_err\", \"z_level\"\n",
    "                           , \"rank_1\", \"sntemplate_1\", \"rlap_1\", \"c_snid_1\", \"z_snid_1\", \"z_snid_err_1\", \"age_1\", \"age_flag_1\"\n",
    "                           , \"rank_2\", \"sntemplate_2\", \"rlap_2\", \"c_snid_2\", \"z_snid_2\", \"z_snid_err_2\", \"age_2\", \"age_flag_2\"\n",
    "                           , \"rank_3\", \"sntemplate_3\", \"rlap_3\", \"c_snid_3\", \"z_snid_3\", \"z_snid_err_3\", \"age_3\", \"age_flag_3\"\n",
    "                           , \"rank_4\", \"sntemplate_4\", \"rlap_4\", \"c_snid_4\", \"z_snid_4\", \"z_snid_err_4\", \"age_4\", \"age_flag_4\"\n",
    "                           , \"rank_5\", \"sntemplate_5\", \"rlap_5\", \"c_snid_5\", \"z_snid_5\", \"z_snid_err_5\", \"age_5\", \"age_flag_5\"\n",
    "                    ),\n",
    "                    meta={\"name\": \"Redscore Results\"},\n",
    "                    dtype=(\"U64\", \"U64\",\n",
    "                           \"U64\", \"float64\", \"float64\", \"float64\", \"int32\",\n",
    "                            \"int32\", \"U64\", \"float64\", \"U64\", \"float64\", \"float64\", \"float64\", \"int32\",\n",
    "                            \"int32\", \"U64\", \"float64\", \"U64\", \"float64\", \"float64\", \"float64\", \"int32\",\n",
    "                            \"int32\", \"U64\", \"float64\", \"U64\", \"float64\", \"float64\", \"float64\", \"int32\",\n",
    "                            \"int32\", \"U64\", \"float64\", \"U64\", \"float64\", \"float64\", \"float64\", \"int32\",\n",
    "                            \"int32\", \"U64\", \"float64\", \"U64\", \"float64\", \"float64\", \"float64\", \"int32\",\n",
    "                          )\n",
    "                    )\n",
    "len([\"Version\", \"ZTF_Name\",\n",
    "                           \"z_sntemplate\", \"z_rlap\", \"z_snid\", \"z_snid_err\", \"age\", \"age_flag\", \"z_level\"\n",
    "                           , \"rank_1\", \"sntemplate_1\", \"rlap_1\", \"c_snid_1\", \"z_snid_1\", \"z_snid_err_1\", \"age_1\", \"age_flag_1\"\n",
    "                           , \"rank_2\", \"sntemplate_2\", \"rlap_2\", \"c_snid_2\", \"z_snid_2\", \"z_snid_err_2\", \"age_2\", \"age_flag_2\"\n",
    "                           , \"rank_3\", \"sntemplate_3\", \"rlap_3\", \"c_snid_3\", \"z_snid_3\", \"z_snid_err_3\", \"age_3\", \"age_flag_3\"\n",
    "                           , \"rank_4\", \"sntemplate_4\", \"rlap_4\", \"c_snid_4\", \"z_snid_4\", \"z_snid_err_4\", \"age_4\", \"age_flag_4\"\n",
    "                           , \"rank_5\", \"sntemplate_5\", \"rlap_5\", \"c_snid_5\", \"z_snid_5\", \"z_snid_err_5\", \"age_5\", \"age_flag_5\"])"
   ]
  },
  {
   "cell_type": "code",
   "execution_count": 126,
   "metadata": {},
   "outputs": [],
   "source": [
    "def listComplementElements(list1, list2):\n",
    "    storeResults = []\n",
    "\n",
    "    for num in list1:\n",
    "        if num not in list2: # this will essentially iterate your list behind the scenes\n",
    "            storeResults.append(num)\n",
    "\n",
    "    return storeResults"
   ]
  },
  {
   "cell_type": "code",
   "execution_count": 144,
   "metadata": {},
   "outputs": [
    {
     "data": {
      "text/html": [
       "<i>Table length=37</i>\n",
       "<table id=\"table140065091631824\" class=\"table-striped table-bordered table-condensed\">\n",
       "<thead><tr><th>no</th><th>sn</th><th>type</th><th>lap</th><th>rlap</th><th>z</th><th>zerr</th><th>age</th><th>age_flag</th><th>grade</th></tr></thead>\n",
       "<thead><tr><th>int64</th><th>str12</th><th>str7</th><th>float64</th><th>float64</th><th>float64</th><th>float64</th><th>float64</th><th>int64</th><th>str4</th></tr></thead>\n",
       "<tr><td>1</td><td>sn2005cf</td><td>Ia-norm</td><td>0.949</td><td>16.45</td><td>0.0745</td><td>0.0034</td><td>-1.5</td><td>0</td><td>good</td></tr>\n",
       "<tr><td>3</td><td>sn06cq</td><td>Ia-norm</td><td>0.9301</td><td>14.08</td><td>0.0723</td><td>0.0039</td><td>1.91</td><td>0</td><td>good</td></tr>\n",
       "<tr><td>7</td><td>sn2008ar</td><td>Ia-norm</td><td>0.7473</td><td>13.24</td><td>0.0744</td><td>0.0043</td><td>1.2</td><td>0</td><td>good</td></tr>\n",
       "<tr><td>8</td><td>sn2003cg</td><td>Ia-norm</td><td>0.6579</td><td>13.12</td><td>0.0768</td><td>0.0033</td><td>-2.8</td><td>0</td><td>good</td></tr>\n",
       "<tr><td>9</td><td>sn03cg</td><td>Ia-norm</td><td>0.6579</td><td>13.11</td><td>0.0768</td><td>0.0033</td><td>-2.3</td><td>0</td><td>good</td></tr>\n",
       "<tr><td>10</td><td>sn2003du</td><td>Ia-norm</td><td>0.9098</td><td>13.11</td><td>0.0767</td><td>0.0044</td><td>-7.2</td><td>0</td><td>good</td></tr>\n",
       "<tr><td>14</td><td>sn03du</td><td>Ia-norm</td><td>0.9328</td><td>12.53</td><td>0.0746</td><td>0.0048</td><td>-3.2</td><td>0</td><td>good</td></tr>\n",
       "<tr><td>17</td><td>sn04S</td><td>Ia-norm</td><td>1.0154</td><td>12.34</td><td>0.0732</td><td>0.0049</td><td>1.7</td><td>0</td><td>good</td></tr>\n",
       "<tr><td>19</td><td>sn1990O</td><td>Ia-norm</td><td>0.8976</td><td>12.13</td><td>0.0827</td><td>0.0053</td><td>-5.6</td><td>0</td><td>good</td></tr>\n",
       "<tr><td>20</td><td>sn90O</td><td>Ia-norm</td><td>0.8976</td><td>12.13</td><td>0.0827</td><td>0.0053</td><td>-5.1</td><td>0</td><td>good</td></tr>\n",
       "<tr><td>...</td><td>...</td><td>...</td><td>...</td><td>...</td><td>...</td><td>...</td><td>...</td><td>...</td><td>...</td></tr>\n",
       "<tr><td>64</td><td>sn2006oa</td><td>Ia-91T</td><td>0.7487</td><td>10.2</td><td>0.0716</td><td>0.0059</td><td>-0.1</td><td>0</td><td>good</td></tr>\n",
       "<tr><td>70</td><td>sn99ee</td><td>Ia-norm</td><td>0.9571</td><td>9.98</td><td>0.0723</td><td>0.0059</td><td>2.2</td><td>0</td><td>good</td></tr>\n",
       "<tr><td>75</td><td>sn2001da</td><td>Ia-norm</td><td>0.9937</td><td>9.88</td><td>0.0782</td><td>0.0062</td><td>-1.0</td><td>0</td><td>good</td></tr>\n",
       "<tr><td>79</td><td>sn2007co</td><td>Ia-norm</td><td>0.7487</td><td>9.74</td><td>0.0755</td><td>0.0058</td><td>-0.2</td><td>0</td><td>good</td></tr>\n",
       "<tr><td>82</td><td>sn06cz</td><td>Ia-norm</td><td>0.926</td><td>9.6</td><td>0.073</td><td>0.0064</td><td>1.12</td><td>0</td><td>good</td></tr>\n",
       "<tr><td>85</td><td>sn2007af</td><td>Ia-norm</td><td>0.7473</td><td>9.46</td><td>0.0761</td><td>0.0057</td><td>-5.6</td><td>0</td><td>good</td></tr>\n",
       "<tr><td>91</td><td>sn99aa</td><td>Ia-norm</td><td>0.9003</td><td>9.34</td><td>0.0735</td><td>0.0058</td><td>0.33</td><td>0</td><td>good</td></tr>\n",
       "<tr><td>94</td><td>sn06et</td><td>Ia-norm</td><td>0.9084</td><td>9.25</td><td>0.0699</td><td>0.0056</td><td>3.71</td><td>0</td><td>good</td></tr>\n",
       "<tr><td>96</td><td>sn2000dn</td><td>Ia-norm</td><td>0.6986</td><td>9.23</td><td>0.0737</td><td>0.0048</td><td>-0.9</td><td>0</td><td>good</td></tr>\n",
       "<tr><td>97</td><td>sn2003U</td><td>Ia-norm</td><td>1.0018</td><td>9.23</td><td>0.0814</td><td>0.0067</td><td>-8.5</td><td>0</td><td>good</td></tr>\n",
       "</table>"
      ],
      "text/plain": [
       "<Table length=37>\n",
       "  no     sn      type    lap     rlap     z      zerr    age   age_flag grade\n",
       "int64  str12     str7  float64 float64 float64 float64 float64  int64    str4\n",
       "----- -------- ------- ------- ------- ------- ------- ------- -------- -----\n",
       "    1 sn2005cf Ia-norm   0.949   16.45  0.0745  0.0034    -1.5        0  good\n",
       "    3   sn06cq Ia-norm  0.9301   14.08  0.0723  0.0039    1.91        0  good\n",
       "    7 sn2008ar Ia-norm  0.7473   13.24  0.0744  0.0043     1.2        0  good\n",
       "    8 sn2003cg Ia-norm  0.6579   13.12  0.0768  0.0033    -2.8        0  good\n",
       "    9   sn03cg Ia-norm  0.6579   13.11  0.0768  0.0033    -2.3        0  good\n",
       "   10 sn2003du Ia-norm  0.9098   13.11  0.0767  0.0044    -7.2        0  good\n",
       "   14   sn03du Ia-norm  0.9328   12.53  0.0746  0.0048    -3.2        0  good\n",
       "   17    sn04S Ia-norm  1.0154   12.34  0.0732  0.0049     1.7        0  good\n",
       "   19  sn1990O Ia-norm  0.8976   12.13  0.0827  0.0053    -5.6        0  good\n",
       "   20    sn90O Ia-norm  0.8976   12.13  0.0827  0.0053    -5.1        0  good\n",
       "  ...      ...     ...     ...     ...     ...     ...     ...      ...   ...\n",
       "   64 sn2006oa  Ia-91T  0.7487    10.2  0.0716  0.0059    -0.1        0  good\n",
       "   70   sn99ee Ia-norm  0.9571    9.98  0.0723  0.0059     2.2        0  good\n",
       "   75 sn2001da Ia-norm  0.9937    9.88  0.0782  0.0062    -1.0        0  good\n",
       "   79 sn2007co Ia-norm  0.7487    9.74  0.0755  0.0058    -0.2        0  good\n",
       "   82   sn06cz Ia-norm   0.926     9.6   0.073  0.0064    1.12        0  good\n",
       "   85 sn2007af Ia-norm  0.7473    9.46  0.0761  0.0057    -5.6        0  good\n",
       "   91   sn99aa Ia-norm  0.9003    9.34  0.0735  0.0058    0.33        0  good\n",
       "   94   sn06et Ia-norm  0.9084    9.25  0.0699  0.0056    3.71        0  good\n",
       "   96 sn2000dn Ia-norm  0.6986    9.23  0.0737  0.0048    -0.9        0  good\n",
       "   97  sn2003U Ia-norm  1.0018    9.23  0.0814  0.0067    -8.5        0  good"
      ]
     },
     "execution_count": 144,
     "metadata": {},
     "output_type": "execute_result"
    }
   ],
   "source": [
    "snidoutput[134][1]"
   ]
  },
  {
   "cell_type": "code",
   "execution_count": 143,
   "metadata": {},
   "outputs": [
    {
     "name": "stdout",
     "output_type": "stream",
     "text": [
      "['ZTF18aahfxnn_20180410_P200_v1.ascii', 'ZTF18aahfxnn', 'sn2005cf', 16.45, 0.0745, 0.0034, 1, 1, 'sn2005cf', 16.45, 'Ia-norm', 0.0745, 0.0034, -1.5, 0, 3, 'sn06cq', 14.08, 'Ia-norm', 0.0723, 0.0039, 1.91, 0, 7, 'sn2008ar', 13.24, 'Ia-norm', 0.0744, 0.0043, 1.2, 0, 64, 'sn2006oa', 10.2, 'Ia-91T', 0.0716, 0.0059, -0.1, 0, 9, 'sn03cg', 13.11, 'Ia-norm', 0.0768, 0.0033, -2.3, 0]\n"
     ]
    }
   ],
   "source": [
    "j = copy.deepcopy(snidoutput[134])\n",
    "j[1] = copy.deepcopy(j[1][0:100])\n",
    "nocopys = []\n",
    "for linenum in range(len(j[1])):\n",
    "    name = j[1][linenum][\"sn\"].split('sn')[-1].split('_b')[0]\n",
    "    for i in range(linenum, len(j[1])):\n",
    "        if(((linenum != i) and (name in j[1][i][\"sn\"]) and (np.abs(j[1][linenum][\"age\"] - j[1][i][\"age\"]) > 3))):\n",
    "            nocopys.append(i)\n",
    "mocopys_unique = listComplementElements(list(range(len(j[1]))),np.unique(nocopys))\n",
    "j[1] = j[1][mocopys_unique]\n",
    "\n",
    "Top50 = copy.deepcopy(j[1][0:50])\n",
    "Top5 = copy.deepcopy(Top50[0:5])\n",
    "types = np.unique(Top50[\"type\"])\n",
    "top5Types = np.unique(Top5[\"type\"])\n",
    "\n",
    "row = []\n",
    "row.append(j[0] + \".ascii\")\n",
    "row.append(j[0].split(\"_\")[0])\n",
    "\n",
    "good = j[1][np.where(j[1][\"grade\"] == \"good\")]\n",
    "if(\"SLSN\" in str(j[1][0][\"type\"])):\n",
    "    good = good[np.where(good[\"z\"] <= .5)]\n",
    "else:\n",
    "    good = good[np.where(good[\"z\"] <= .2)]\n",
    "if(len(good) != 0):\n",
    "    row.append(good[0][\"sn\"])\n",
    "    row.append(good[0][\"rlap\"])\n",
    "    row.append(float(good[0][\"z\"]))\n",
    "    row.append(float(good[0][\"zerr\"]))\n",
    "    row.append(1)\n",
    "else:\n",
    "    row.append(j[1][0][\"sn\"])\n",
    "    row.append(j[1][0][\"rlap\"])\n",
    "    row.append(float(j[1][0][\"z\"]))\n",
    "    row.append(float(j[1][0][\"zerr\"]))\n",
    "    row.append(0)\n",
    "\n",
    "if(len(top5Types) >= 3):\n",
    "    for i in Top5:\n",
    "        row.append(i[\"no\"])\n",
    "        row.append(i[\"sn\"])\n",
    "        row.append(i[\"rlap\"])\n",
    "        row.append(i[\"type\"])\n",
    "        row.append(i[\"z\"])\n",
    "        row.append(i[\"zerr\"])\n",
    "        row.append(i[\"age\"])\n",
    "        row.append(i[\"age_flag\"])\n",
    "elif(len(top5Types) == 2):\n",
    "    if(len(types) == 2):\n",
    "        for i in Top5:\n",
    "            row.append(i[\"no\"])\n",
    "            row.append(i[\"sn\"])\n",
    "            row.append(i[\"rlap\"])\n",
    "            row.append(i[\"type\"])\n",
    "            row.append(i[\"z\"])\n",
    "            row.append(i[\"zerr\"])\n",
    "            row.append(i[\"age\"])\n",
    "            row.append(i[\"age_flag\"])\n",
    "    else:\n",
    "        newType = -1\n",
    "        for i in range(len(Top50)):\n",
    "            line = Top50[i]\n",
    "            if(line[\"type\"] not in top5Types):\n",
    "                newType = i\n",
    "                break\n",
    "        for i in range(len(Top5)-1,-1,-1):\n",
    "            line = Top5[i]\n",
    "            unique = list(Top5[\"type\"]).count(line[\"type\"])\n",
    "            if(unique > 1):\n",
    "                Top5[i] = Top50[newType]\n",
    "                break\n",
    "        Top5.sort(\"no\")\n",
    "        for i in Top5:\n",
    "            row.append(i[\"no\"])\n",
    "            row.append(i[\"sn\"])\n",
    "            row.append(i[\"rlap\"])\n",
    "            row.append(i[\"type\"])\n",
    "            row.append(i[\"z\"])\n",
    "            row.append(i[\"zerr\"])\n",
    "            row.append(i[\"age\"])\n",
    "            row.append(i[\"age_flag\"])\n",
    "elif(len(top5Types) == 1):\n",
    "    if(len(types) == 1):\n",
    "        for i in Top5:\n",
    "            row.append(i[\"no\"])\n",
    "            row.append(i[\"sn\"])\n",
    "            row.append(i[\"rlap\"])\n",
    "            row.append(i[\"type\"])\n",
    "            row.append(i[\"z\"])\n",
    "            row.append(i[\"zerr\"])\n",
    "            row.append(i[\"age\"])\n",
    "            row.append(i[\"age_flag\"])\n",
    "    else:\n",
    "        for k in range(3,5):\n",
    "            top5Types = np.unique(Top5[\"type\"])\n",
    "            for i in Top50:\n",
    "                if(i[\"type\"] not in top5Types):\n",
    "                    Top5[k] = i\n",
    "                    break\n",
    "        Top5.sort(\"no\")\n",
    "        for i in Top5:\n",
    "            row.append(i[\"no\"])\n",
    "            row.append(i[\"sn\"])\n",
    "            row.append(i[\"rlap\"])\n",
    "            row.append(i[\"type\"])\n",
    "            row.append(i[\"z\"])\n",
    "            row.append(i[\"zerr\"])\n",
    "            row.append(i[\"age\"])\n",
    "            row.append(i[\"age_flag\"])\n",
    "print(row)"
   ]
  },
  {
   "cell_type": "code",
   "execution_count": 146,
   "metadata": {},
   "outputs": [
    {
     "data": {
      "text/html": [
       "<i>Table length=37</i>\n",
       "<table id=\"table140064765074576\" class=\"table-striped table-bordered table-condensed\">\n",
       "<thead><tr><th>no</th><th>sn</th><th>type</th><th>lap</th><th>rlap</th><th>z</th><th>zerr</th><th>age</th><th>age_flag</th><th>grade</th></tr></thead>\n",
       "<thead><tr><th>int64</th><th>str12</th><th>str7</th><th>float64</th><th>float64</th><th>float64</th><th>float64</th><th>float64</th><th>int64</th><th>str4</th></tr></thead>\n",
       "<tr><td>1</td><td>sn2005cf</td><td>Ia-norm</td><td>0.949</td><td>16.45</td><td>0.0745</td><td>0.0034</td><td>-1.5</td><td>0</td><td>good</td></tr>\n",
       "<tr><td>3</td><td>sn06cq</td><td>Ia-norm</td><td>0.9301</td><td>14.08</td><td>0.0723</td><td>0.0039</td><td>1.91</td><td>0</td><td>good</td></tr>\n",
       "<tr><td>7</td><td>sn2008ar</td><td>Ia-norm</td><td>0.7473</td><td>13.24</td><td>0.0744</td><td>0.0043</td><td>1.2</td><td>0</td><td>good</td></tr>\n",
       "<tr><td>8</td><td>sn2003cg</td><td>Ia-norm</td><td>0.6579</td><td>13.12</td><td>0.0768</td><td>0.0033</td><td>-2.8</td><td>0</td><td>good</td></tr>\n",
       "<tr><td>9</td><td>sn03cg</td><td>Ia-norm</td><td>0.6579</td><td>13.11</td><td>0.0768</td><td>0.0033</td><td>-2.3</td><td>0</td><td>good</td></tr>\n",
       "<tr><td>10</td><td>sn2003du</td><td>Ia-norm</td><td>0.9098</td><td>13.11</td><td>0.0767</td><td>0.0044</td><td>-7.2</td><td>0</td><td>good</td></tr>\n",
       "<tr><td>14</td><td>sn03du</td><td>Ia-norm</td><td>0.9328</td><td>12.53</td><td>0.0746</td><td>0.0048</td><td>-3.2</td><td>0</td><td>good</td></tr>\n",
       "<tr><td>17</td><td>sn04S</td><td>Ia-norm</td><td>1.0154</td><td>12.34</td><td>0.0732</td><td>0.0049</td><td>1.7</td><td>0</td><td>good</td></tr>\n",
       "<tr><td>19</td><td>sn1990O</td><td>Ia-norm</td><td>0.8976</td><td>12.13</td><td>0.0827</td><td>0.0053</td><td>-5.6</td><td>0</td><td>good</td></tr>\n",
       "<tr><td>20</td><td>sn90O</td><td>Ia-norm</td><td>0.8976</td><td>12.13</td><td>0.0827</td><td>0.0053</td><td>-5.1</td><td>0</td><td>good</td></tr>\n",
       "<tr><td>...</td><td>...</td><td>...</td><td>...</td><td>...</td><td>...</td><td>...</td><td>...</td><td>...</td><td>...</td></tr>\n",
       "<tr><td>64</td><td>sn2006oa</td><td>Ia-91T</td><td>0.7487</td><td>10.2</td><td>0.0716</td><td>0.0059</td><td>-0.1</td><td>0</td><td>good</td></tr>\n",
       "<tr><td>70</td><td>sn99ee</td><td>Ia-norm</td><td>0.9571</td><td>9.98</td><td>0.0723</td><td>0.0059</td><td>2.2</td><td>0</td><td>good</td></tr>\n",
       "<tr><td>75</td><td>sn2001da</td><td>Ia-norm</td><td>0.9937</td><td>9.88</td><td>0.0782</td><td>0.0062</td><td>-1.0</td><td>0</td><td>good</td></tr>\n",
       "<tr><td>79</td><td>sn2007co</td><td>Ia-norm</td><td>0.7487</td><td>9.74</td><td>0.0755</td><td>0.0058</td><td>-0.2</td><td>0</td><td>good</td></tr>\n",
       "<tr><td>82</td><td>sn06cz</td><td>Ia-norm</td><td>0.926</td><td>9.6</td><td>0.073</td><td>0.0064</td><td>1.12</td><td>0</td><td>good</td></tr>\n",
       "<tr><td>85</td><td>sn2007af</td><td>Ia-norm</td><td>0.7473</td><td>9.46</td><td>0.0761</td><td>0.0057</td><td>-5.6</td><td>0</td><td>good</td></tr>\n",
       "<tr><td>91</td><td>sn99aa</td><td>Ia-norm</td><td>0.9003</td><td>9.34</td><td>0.0735</td><td>0.0058</td><td>0.33</td><td>0</td><td>good</td></tr>\n",
       "<tr><td>94</td><td>sn06et</td><td>Ia-norm</td><td>0.9084</td><td>9.25</td><td>0.0699</td><td>0.0056</td><td>3.71</td><td>0</td><td>good</td></tr>\n",
       "<tr><td>96</td><td>sn2000dn</td><td>Ia-norm</td><td>0.6986</td><td>9.23</td><td>0.0737</td><td>0.0048</td><td>-0.9</td><td>0</td><td>good</td></tr>\n",
       "<tr><td>97</td><td>sn2003U</td><td>Ia-norm</td><td>1.0018</td><td>9.23</td><td>0.0814</td><td>0.0067</td><td>-8.5</td><td>0</td><td>good</td></tr>\n",
       "</table>"
      ],
      "text/plain": [
       "<Table length=37>\n",
       "  no     sn      type    lap     rlap     z      zerr    age   age_flag grade\n",
       "int64  str12     str7  float64 float64 float64 float64 float64  int64    str4\n",
       "----- -------- ------- ------- ------- ------- ------- ------- -------- -----\n",
       "    1 sn2005cf Ia-norm   0.949   16.45  0.0745  0.0034    -1.5        0  good\n",
       "    3   sn06cq Ia-norm  0.9301   14.08  0.0723  0.0039    1.91        0  good\n",
       "    7 sn2008ar Ia-norm  0.7473   13.24  0.0744  0.0043     1.2        0  good\n",
       "    8 sn2003cg Ia-norm  0.6579   13.12  0.0768  0.0033    -2.8        0  good\n",
       "    9   sn03cg Ia-norm  0.6579   13.11  0.0768  0.0033    -2.3        0  good\n",
       "   10 sn2003du Ia-norm  0.9098   13.11  0.0767  0.0044    -7.2        0  good\n",
       "   14   sn03du Ia-norm  0.9328   12.53  0.0746  0.0048    -3.2        0  good\n",
       "   17    sn04S Ia-norm  1.0154   12.34  0.0732  0.0049     1.7        0  good\n",
       "   19  sn1990O Ia-norm  0.8976   12.13  0.0827  0.0053    -5.6        0  good\n",
       "   20    sn90O Ia-norm  0.8976   12.13  0.0827  0.0053    -5.1        0  good\n",
       "  ...      ...     ...     ...     ...     ...     ...     ...      ...   ...\n",
       "   64 sn2006oa  Ia-91T  0.7487    10.2  0.0716  0.0059    -0.1        0  good\n",
       "   70   sn99ee Ia-norm  0.9571    9.98  0.0723  0.0059     2.2        0  good\n",
       "   75 sn2001da Ia-norm  0.9937    9.88  0.0782  0.0062    -1.0        0  good\n",
       "   79 sn2007co Ia-norm  0.7487    9.74  0.0755  0.0058    -0.2        0  good\n",
       "   82   sn06cz Ia-norm   0.926     9.6   0.073  0.0064    1.12        0  good\n",
       "   85 sn2007af Ia-norm  0.7473    9.46  0.0761  0.0057    -5.6        0  good\n",
       "   91   sn99aa Ia-norm  0.9003    9.34  0.0735  0.0058    0.33        0  good\n",
       "   94   sn06et Ia-norm  0.9084    9.25  0.0699  0.0056    3.71        0  good\n",
       "   96 sn2000dn Ia-norm  0.6986    9.23  0.0737  0.0048    -0.9        0  good\n",
       "   97  sn2003U Ia-norm  1.0018    9.23  0.0814  0.0067    -8.5        0  good"
      ]
     },
     "execution_count": 146,
     "metadata": {},
     "output_type": "execute_result"
    }
   ],
   "source": [
    "j[1]"
   ]
  },
  {
   "cell_type": "code",
   "execution_count": 79,
   "metadata": {},
   "outputs": [
    {
     "name": "stdout",
     "output_type": "stream",
     "text": [
      "3\n",
      "4\n"
     ]
    }
   ],
   "source": [
    "for i in range(3,5,1):\n",
    "    print(i)"
   ]
  },
  {
   "cell_type": "code",
   "execution_count": 47,
   "metadata": {},
   "outputs": [],
   "source": [
    "test = [1,2,3]"
   ]
  },
  {
   "cell_type": "code",
   "execution_count": 50,
   "metadata": {},
   "outputs": [
    {
     "data": {
      "text/plain": [
       "True"
      ]
     },
     "execution_count": 50,
     "metadata": {},
     "output_type": "execute_result"
    }
   ],
   "source": [
    "4 not in test"
   ]
  },
  {
   "cell_type": "code",
   "execution_count": 77,
   "metadata": {},
   "outputs": [
    {
     "data": {
      "text/html": [
       "<i>Table length=3</i>\n",
       "<table id=\"table140065092763984\" class=\"table-striped table-bordered table-condensed\">\n",
       "<thead><tr><th>no</th><th>sn</th><th>type</th><th>lap</th><th>rlap</th><th>z</th><th>zerr</th><th>age</th><th>age_flag</th><th>grade</th></tr></thead>\n",
       "<thead><tr><th>int64</th><th>str12</th><th>str7</th><th>float64</th><th>float64</th><th>float64</th><th>float64</th><th>float64</th><th>int64</th><th>str4</th></tr></thead>\n",
       "<tr><td>1</td><td>kcSB2</td><td>Gal</td><td>0.8786</td><td>17.99</td><td>-0.0</td><td>0.0015</td><td>-99.9</td><td>2</td><td>good</td></tr>\n",
       "<tr><td>2</td><td>kcSB1</td><td>Gal</td><td>0.8786</td><td>17.3</td><td>0.0001</td><td>0.0016</td><td>-99.9</td><td>2</td><td>good</td></tr>\n",
       "<tr><td>3</td><td>PS1-10bzj</td><td>Ic-SLSN</td><td>0.4048</td><td>10.61</td><td>0.0003</td><td>0.0026</td><td>6.55</td><td>0</td><td>good</td></tr>\n",
       "</table>"
      ],
      "text/plain": [
       "<Table length=3>\n",
       "  no      sn      type    lap     rlap     z      zerr    age   age_flag grade\n",
       "int64   str12     str7  float64 float64 float64 float64 float64  int64    str4\n",
       "----- --------- ------- ------- ------- ------- ------- ------- -------- -----\n",
       "    1     kcSB2     Gal  0.8786   17.99    -0.0  0.0015   -99.9        2  good\n",
       "    2     kcSB1     Gal  0.8786    17.3  0.0001  0.0016   -99.9        2  good\n",
       "    3 PS1-10bzj Ic-SLSN  0.4048   10.61  0.0003  0.0026    6.55        0  good"
      ]
     },
     "execution_count": 77,
     "metadata": {},
     "output_type": "execute_result"
    }
   ],
   "source": [
    "Top5[0:3]"
   ]
  },
  {
   "cell_type": "code",
   "execution_count": 75,
   "metadata": {},
   "outputs": [],
   "source": [
    "Top5.sort(\"no\")"
   ]
  },
  {
   "cell_type": "code",
   "execution_count": 73,
   "metadata": {},
   "outputs": [],
   "source": [
    "Top5.reverse()"
   ]
  },
  {
   "cell_type": "code",
   "execution_count": 122,
   "metadata": {},
   "outputs": [
    {
     "data": {
      "text/html": [
       "<i>Table length=5</i>\n",
       "<table id=\"table140065038329936\" class=\"table-striped table-bordered table-condensed\">\n",
       "<thead><tr><th>no</th><th>sn</th><th>type</th><th>lap</th><th>rlap</th><th>z</th><th>zerr</th><th>age</th><th>age_flag</th><th>grade</th></tr></thead>\n",
       "<thead><tr><th>int64</th><th>str12</th><th>str7</th><th>float64</th><th>float64</th><th>float64</th><th>float64</th><th>float64</th><th>int64</th><th>str4</th></tr></thead>\n",
       "<tr><td>1</td><td>sn88a</td><td>II-norm</td><td>0.8935</td><td>4.06</td><td>0.2748</td><td>0.0028</td><td>17.0</td><td>0</td><td>good</td></tr>\n",
       "<tr><td>2</td><td>sn91T</td><td>Ia-91T</td><td>0.5672</td><td>3.6</td><td>0.7146</td><td>0.0144</td><td>-9.48</td><td>0</td><td>bad</td></tr>\n",
       "<tr><td>3</td><td>sn1999gp</td><td>Ia-91T</td><td>0.6904</td><td>3.56</td><td>0.9549</td><td>0.0165</td><td>0.0</td><td>0</td><td>bad</td></tr>\n",
       "<tr><td>4</td><td>sn04aw</td><td>Ic-norm</td><td>0.6769</td><td>3.49</td><td>0.9711</td><td>0.0172</td><td>-5.2</td><td>0</td><td>bad</td></tr>\n",
       "<tr><td>5</td><td>sn2009mg</td><td>IIb</td><td>0.5442</td><td>3.49</td><td>0.3455</td><td>0.0131</td><td>11.9</td><td>0</td><td>bad</td></tr>\n",
       "</table>"
      ],
      "text/plain": [
       "<Table length=5>\n",
       "  no     sn      type    lap     rlap     z      zerr    age   age_flag grade\n",
       "int64  str12     str7  float64 float64 float64 float64 float64  int64    str4\n",
       "----- -------- ------- ------- ------- ------- ------- ------- -------- -----\n",
       "    1    sn88a II-norm  0.8935    4.06  0.2748  0.0028    17.0        0  good\n",
       "    2    sn91T  Ia-91T  0.5672     3.6  0.7146  0.0144   -9.48        0   bad\n",
       "    3 sn1999gp  Ia-91T  0.6904    3.56  0.9549  0.0165     0.0        0   bad\n",
       "    4   sn04aw Ic-norm  0.6769    3.49  0.9711  0.0172    -5.2        0   bad\n",
       "    5 sn2009mg     IIb  0.5442    3.49  0.3455  0.0131    11.9        0   bad"
      ]
     },
     "execution_count": 122,
     "metadata": {},
     "output_type": "execute_result"
    }
   ],
   "source": [
    "Top5"
   ]
  },
  {
   "cell_type": "code",
   "execution_count": 132,
   "metadata": {},
   "outputs": [
    {
     "name": "stdout",
     "output_type": "stream",
     "text": [
      "100\n",
      "200\n",
      "300\n",
      "400\n",
      "500\n",
      "600\n",
      "700\n",
      "800\n",
      "900\n",
      "1000\n",
      "1100\n",
      "1200\n",
      "1300\n",
      "1400\n",
      "1500\n",
      "1600\n",
      "1700\n",
      "1800\n",
      "1900\n",
      "2000\n",
      "2100\n",
      "2200\n",
      "2300\n",
      "2400\n",
      "2500\n",
      "2600\n",
      "2700\n",
      "2800\n",
      "2900\n",
      "3000\n",
      "3100\n",
      "3200\n",
      "3300\n",
      "3400\n",
      "3500\n",
      "3600\n",
      "3700\n",
      "3800\n",
      "3900\n",
      "4000\n",
      "4100\n",
      "4200\n",
      "4300\n",
      "4400\n",
      "4500\n",
      "4600\n",
      "4700\n",
      "4800\n",
      "4900\n",
      "5000\n",
      "5100\n",
      "5200\n",
      "5300\n",
      "5400\n",
      "5500\n",
      "5600\n",
      "5700\n",
      "5800\n",
      "5900\n",
      "6000\n",
      "6100\n",
      "6200\n",
      "6300\n",
      "6400\n",
      "6500\n",
      "6600\n",
      "6700\n",
      "6800\n",
      "6900\n",
      "7000\n",
      "7100\n",
      "7200\n",
      "7300\n",
      "7400\n",
      "7500\n",
      "7600\n",
      "7700\n",
      "7800\n",
      "7900\n",
      "8000\n",
      "8100\n",
      "8200\n",
      "8300\n",
      "8400\n",
      "8500\n",
      "8600\n",
      "8700\n"
     ]
    }
   ],
   "source": [
    "ZTable_best = Table(\n",
    "                    names=(\"Version\", \"ZTF_Name\",\n",
    "                           \"z_sntemplate\", \"z_rlap\", \"z_snid\", \"z_snid_err\", \"z_level\"\n",
    "                           , \"rank_1\", \"sntemplate_1\", \"rlap_1\", \"c_snid_1\", \"z_snid_1\", \"z_snid_err_1\", \"age_1\", \"age_flag_1\"\n",
    "                           , \"rank_2\", \"sntemplate_2\", \"rlap_2\", \"c_snid_2\", \"z_snid_2\", \"z_snid_err_2\", \"age_2\", \"age_flag_2\"\n",
    "                           , \"rank_3\", \"sntemplate_3\", \"rlap_3\", \"c_snid_3\", \"z_snid_3\", \"z_snid_err_3\", \"age_3\", \"age_flag_3\"\n",
    "                           , \"rank_4\", \"sntemplate_4\", \"rlap_4\", \"c_snid_4\", \"z_snid_4\", \"z_snid_err_4\", \"age_4\", \"age_flag_4\"\n",
    "                           , \"rank_5\", \"sntemplate_5\", \"rlap_5\", \"c_snid_5\", \"z_snid_5\", \"z_snid_err_5\", \"age_5\", \"age_flag_5\"\n",
    "                    ),\n",
    "                    meta={\"name\": \"Redscore Results\"},\n",
    "                    dtype=(\"U64\", \"U64\",\n",
    "                           \"U64\", \"float64\", \"float64\", \"float64\", \"int32\",\n",
    "                            \"int32\", \"U64\", \"float64\", \"U64\", \"float64\", \"float64\", \"float64\", \"int32\",\n",
    "                            \"int32\", \"U64\", \"float64\", \"U64\", \"float64\", \"float64\", \"float64\", \"int32\",\n",
    "                            \"int32\", \"U64\", \"float64\", \"U64\", \"float64\", \"float64\", \"float64\", \"int32\",\n",
    "                            \"int32\", \"U64\", \"float64\", \"U64\", \"float64\", \"float64\", \"float64\", \"int32\",\n",
    "                            \"int32\", \"U64\", \"float64\", \"U64\", \"float64\", \"float64\", \"float64\", \"int32\",\n",
    "                          )\n",
    "                    )\n",
    "\n",
    "count = 0\n",
    "\n",
    "for j in snidoutput:\n",
    "    j[1] = copy.deepcopy(j[1][0:100])\n",
    "    nocopys = []\n",
    "    for linenum in range(len(j[1])):\n",
    "        name = j[1][linenum][\"sn\"].split('sn')[-1].split('_b')[0]\n",
    "        for i in range(linenum, len(j[1])):\n",
    "            if(((linenum != i) and (name in j[1][i][\"sn\"]) and (np.abs(j[1][linenum][\"age\"] - j[1][i][\"age\"]) > 3))):\n",
    "                nocopys.append(i)\n",
    "    mocopys_unique = listComplementElements(list(range(len(j[1]))),np.unique(nocopys))\n",
    "    j[1] = j[1][mocopys_unique]\n",
    "\n",
    "    Top50 = copy.deepcopy(j[1][0:50])\n",
    "    Top5 = copy.deepcopy(Top50[0:5])\n",
    "    types = np.unique(Top50[\"type\"])\n",
    "    top5Types = np.unique(Top5[\"type\"])\n",
    "\n",
    "    row = []\n",
    "    row.append(j[0] + \".ascii\")\n",
    "    row.append(j[0].split(\"_\")[0])\n",
    "\n",
    "    good = j[1][np.where(j[1][\"grade\"] == \"good\")]\n",
    "    if(\"SLSN\" in str(j[1][0][\"type\"])):\n",
    "        good = good[np.where(good[\"z\"] <= .5)]\n",
    "    else:\n",
    "        good = good[np.where(good[\"z\"] <= .2)]\n",
    "    if(len(good) != 0):\n",
    "        row.append(good[0][\"sn\"])\n",
    "        row.append(good[0][\"rlap\"])\n",
    "        row.append(float(good[0][\"z\"]))\n",
    "        row.append(float(good[0][\"zerr\"]))\n",
    "        row.append(1)\n",
    "    else:\n",
    "        row.append(j[1][0][\"sn\"])\n",
    "        row.append(j[1][0][\"rlap\"])\n",
    "        row.append(float(j[1][0][\"z\"]))\n",
    "        row.append(float(j[1][0][\"zerr\"]))\n",
    "        row.append(0)\n",
    "\n",
    "    if(len(top5Types) >= 3):\n",
    "        for i in Top5:\n",
    "            row.append(i[\"no\"])\n",
    "            row.append(i[\"sn\"])\n",
    "            row.append(i[\"rlap\"])\n",
    "            row.append(i[\"type\"])\n",
    "            row.append(i[\"z\"])\n",
    "            row.append(i[\"zerr\"])\n",
    "            row.append(i[\"age\"])\n",
    "            row.append(i[\"age_flag\"])\n",
    "    elif(len(top5Types) == 2):\n",
    "        if(len(types) == 2):\n",
    "            for i in Top5:\n",
    "                row.append(i[\"no\"])\n",
    "                row.append(i[\"sn\"])\n",
    "                row.append(i[\"rlap\"])\n",
    "                row.append(i[\"type\"])\n",
    "                row.append(i[\"z\"])\n",
    "                row.append(i[\"zerr\"])\n",
    "                row.append(i[\"age\"])\n",
    "                row.append(i[\"age_flag\"])\n",
    "        else:\n",
    "            newType = -1\n",
    "            for i in range(len(Top50)):\n",
    "                line = Top50[i]\n",
    "                if(line[\"type\"] not in top5Types):\n",
    "                    newType = i\n",
    "                    break\n",
    "            for i in range(len(Top5)-1,-1,-1):\n",
    "                line = Top5[i]\n",
    "                unique = list(Top5[\"type\"]).count(line[\"type\"])\n",
    "                if(unique > 1):\n",
    "                    Top5[i] = Top50[newType]\n",
    "                    break\n",
    "            Top5.sort(\"no\")\n",
    "            for i in Top5:\n",
    "                row.append(i[\"no\"])\n",
    "                row.append(i[\"sn\"])\n",
    "                row.append(i[\"rlap\"])\n",
    "                row.append(i[\"type\"])\n",
    "                row.append(i[\"z\"])\n",
    "                row.append(i[\"zerr\"])\n",
    "                row.append(i[\"age\"])\n",
    "                row.append(i[\"age_flag\"])\n",
    "    elif(len(top5Types) == 1):\n",
    "        if(len(types) == 1):\n",
    "            for i in Top5:\n",
    "                row.append(i[\"no\"])\n",
    "                row.append(i[\"sn\"])\n",
    "                row.append(i[\"rlap\"])\n",
    "                row.append(i[\"type\"])\n",
    "                row.append(i[\"z\"])\n",
    "                row.append(i[\"zerr\"])\n",
    "                row.append(i[\"age\"])\n",
    "                row.append(i[\"age_flag\"])\n",
    "        else:\n",
    "            for k in range(3,5):\n",
    "                top5Types = np.unique(Top5[\"type\"])\n",
    "                for i in Top50:\n",
    "                    if(i[\"type\"] not in top5Types):\n",
    "                        Top5[k] = i\n",
    "                        break\n",
    "            for i in Top5:\n",
    "                row.append(i[\"no\"])\n",
    "                row.append(i[\"sn\"])\n",
    "                row.append(i[\"rlap\"])\n",
    "                row.append(i[\"type\"])\n",
    "                row.append(i[\"z\"])\n",
    "                row.append(i[\"zerr\"])\n",
    "                row.append(i[\"age\"])\n",
    "                row.append(i[\"age_flag\"])\n",
    "    ZTable_best.add_row(row)\n",
    "    count += 1\n",
    "    if(count % 100 == 0):\n",
    "        print(count)"
   ]
  },
  {
   "cell_type": "code",
   "execution_count": 137,
   "metadata": {},
   "outputs": [
    {
     "data": {
      "text/html": [
       "<i>Table length=19</i>\n",
       "<table id=\"table140065035768912\" class=\"table-striped table-bordered table-condensed\">\n",
       "<thead><tr><th>Version</th><th>ZTF_Name</th><th>z_sntemplate</th><th>z_rlap</th><th>z_snid</th><th>z_snid_err</th><th>z_level</th><th>rank_1</th><th>sntemplate_1</th><th>rlap_1</th><th>c_snid_1</th><th>z_snid_1</th><th>z_snid_err_1</th><th>age_1</th><th>age_flag_1</th><th>rank_2</th><th>sntemplate_2</th><th>rlap_2</th><th>c_snid_2</th><th>z_snid_2</th><th>z_snid_err_2</th><th>age_2</th><th>age_flag_2</th><th>rank_3</th><th>sntemplate_3</th><th>rlap_3</th><th>c_snid_3</th><th>z_snid_3</th><th>z_snid_err_3</th><th>age_3</th><th>age_flag_3</th><th>rank_4</th><th>sntemplate_4</th><th>rlap_4</th><th>c_snid_4</th><th>z_snid_4</th><th>z_snid_err_4</th><th>age_4</th><th>age_flag_4</th><th>rank_5</th><th>sntemplate_5</th><th>rlap_5</th><th>c_snid_5</th><th>z_snid_5</th><th>z_snid_err_5</th><th>age_5</th><th>age_flag_5</th></tr></thead>\n",
       "<thead><tr><th>str64</th><th>str64</th><th>str64</th><th>float64</th><th>float64</th><th>float64</th><th>int32</th><th>int32</th><th>str64</th><th>float64</th><th>str64</th><th>float64</th><th>float64</th><th>float64</th><th>int32</th><th>int32</th><th>str64</th><th>float64</th><th>str64</th><th>float64</th><th>float64</th><th>float64</th><th>int32</th><th>int32</th><th>str64</th><th>float64</th><th>str64</th><th>float64</th><th>float64</th><th>float64</th><th>int32</th><th>int32</th><th>str64</th><th>float64</th><th>str64</th><th>float64</th><th>float64</th><th>float64</th><th>int32</th><th>int32</th><th>str64</th><th>float64</th><th>str64</th><th>float64</th><th>float64</th><th>float64</th><th>int32</th></tr></thead>\n",
       "<tr><td>ZTF18aaqbzfc_20180508_P200_v1.ascii</td><td>ZTF18aaqbzfc</td><td>sn99em</td><td>15.42</td><td>0.0418</td><td>0.0035</td><td>1</td><td>1</td><td>sn99em</td><td>15.42</td><td>II-norm</td><td>0.0418</td><td>0.0035</td><td>2.4</td><td>0</td><td>3</td><td>sn04et</td><td>13.67</td><td>II-norm</td><td>0.0416</td><td>0.0039</td><td>-0.9</td><td>0</td><td>9</td><td>sn06it</td><td>12.46</td><td>II-norm</td><td>0.0405</td><td>0.0043</td><td>12.0</td><td>0</td><td>62</td><td>sn2004aw</td><td>6.63</td><td>Ic-norm</td><td>0.5104</td><td>0.01</td><td>-3.3</td><td>0</td><td>63</td><td>qso</td><td>6.6</td><td>QSO</td><td>0.0347</td><td>0.0064</td><td>-100.0</td><td>2</td></tr>\n",
       "<tr><td>ZTF18aavnvmp_20180530_P60_v1.ascii</td><td>ZTF18aavnvmp</td><td>sn2006N</td><td>20.1</td><td>0.0638</td><td>0.0026</td><td>1</td><td>1</td><td>sn2006N</td><td>20.1</td><td>Ia-norm</td><td>0.0638</td><td>0.0026</td><td>0.7</td><td>0</td><td>4</td><td>sn2008Q</td><td>17.06</td><td>Ia-norm</td><td>0.0648</td><td>0.0031</td><td>-0.3</td><td>0</td><td>5</td><td>sn2006lf</td><td>16.78</td><td>Ia-norm</td><td>0.0659</td><td>0.0032</td><td>-6.5</td><td>0</td><td>59</td><td>sn2003fa</td><td>12.66</td><td>Ia-91T</td><td>0.0609</td><td>0.0041</td><td>6.9</td><td>0</td><td>63</td><td>sn2006gz</td><td>12.42</td><td>Ia-03fg</td><td>0.0623</td><td>0.0039</td><td>5.3</td><td>0</td></tr>\n",
       "<tr><td>ZTF18abdrbqp_20180712_P60_v1.ascii</td><td>ZTF18abdrbqp</td><td>sn05cs</td><td>10.66</td><td>0.0133</td><td>0.0043</td><td>1</td><td>1</td><td>sn05cs</td><td>10.66</td><td>II-norm</td><td>0.0133</td><td>0.0043</td><td>2.1</td><td>0</td><td>6</td><td>sn99em</td><td>9.13</td><td>II-norm</td><td>0.0182</td><td>0.0057</td><td>1.4</td><td>0</td><td>10</td><td>sn2004et</td><td>8.98</td><td>II-norm</td><td>0.018</td><td>0.006</td><td>-2.9</td><td>0</td><td>59</td><td>sn2008am</td><td>5.93</td><td>IIn</td><td>0.0109</td><td>0.0077</td><td>11.0</td><td>0</td><td>63</td><td>qso</td><td>5.73</td><td>QSO</td><td>0.0125</td><td>0.0079</td><td>-100.0</td><td>2</td></tr>\n",
       "<tr><td>ZTF18accnfrz_20181204_Keck1_v1.ascii</td><td>ZTF18accnfrz</td><td>sn2006bp</td><td>10.17</td><td>0.0931</td><td>0.0058</td><td>1</td><td>1</td><td>sn2006bp</td><td>10.17</td><td>II-norm</td><td>0.0931</td><td>0.0058</td><td>3.3</td><td>0</td><td>2</td><td>sn04fc</td><td>9.79</td><td>II-norm</td><td>0.0871</td><td>0.0063</td><td>9.0</td><td>0</td><td>4</td><td>sn1999em</td><td>9.28</td><td>II-norm</td><td>0.0881</td><td>0.006</td><td>1.4</td><td>0</td><td>28</td><td>PTF12gzk</td><td>8.11</td><td>Ic-norm</td><td>0.261</td><td>0.0086</td><td>-14.7</td><td>0</td><td>63</td><td>sn2008am</td><td>6.64</td><td>IIn</td><td>0.0827</td><td>0.0048</td><td>11.0</td><td>0</td></tr>\n",
       "<tr><td>ZTF18acsxkov_20190126_P200_v1.ascii</td><td>ZTF18acsxkov</td><td>sn1999gi</td><td>11.32</td><td>0.0279</td><td>0.0021</td><td>1</td><td>1</td><td>sn1999gi</td><td>11.32</td><td>II-norm</td><td>0.0279</td><td>0.0021</td><td>160.4</td><td>0</td><td>2</td><td>sn99gi</td><td>11.29</td><td>II-norm</td><td>0.028</td><td>0.0021</td><td>160.4</td><td>0</td><td>3</td><td>sn2004dj</td><td>10.98</td><td>II-norm</td><td>0.0286</td><td>0.0021</td><td>36.0</td><td>1</td><td>30</td><td>sn1996L</td><td>9.61</td><td>IIn</td><td>0.0301</td><td>0.0031</td><td>58.1</td><td>0</td><td>63</td><td>kcSc</td><td>8.64</td><td>Gal</td><td>0.0297</td><td>0.0023</td><td>-99.9</td><td>2</td></tr>\n",
       "<tr><td>ZTF18acuscrr_20181212_P60_v2.ascii</td><td>ZTF18acuscrr</td><td>sn2006gr</td><td>12.48</td><td>0.0876</td><td>0.0059</td><td>1</td><td>1</td><td>sn2006gr</td><td>12.48</td><td>Ia-norm</td><td>0.0876</td><td>0.0059</td><td>-7.9</td><td>0</td><td>4</td><td>sn2006le</td><td>11.19</td><td>Ia-norm</td><td>0.0816</td><td>0.0067</td><td>-6.8</td><td>0</td><td>6</td><td>sn2007F</td><td>11.08</td><td>Ia-norm</td><td>0.0748</td><td>0.0057</td><td>-7.7</td><td>0</td><td>14</td><td>sn2007S</td><td>9.9</td><td>Ia-91T</td><td>0.071</td><td>0.0066</td><td>-0.7</td><td>0</td><td>63</td><td>sn06gz</td><td>8.05</td><td>Ia-03fg</td><td>0.0743</td><td>0.0064</td><td>-2.6</td><td>0</td></tr>\n",
       "<tr><td>ZTF19aaugupw_20190604_P200_v1.ascii</td><td>ZTF19aaugupw</td><td>sn2006el</td><td>14.77</td><td>0.0449</td><td>0.0023</td><td>1</td><td>1</td><td>sn2006el</td><td>14.77</td><td>IIb</td><td>0.0449</td><td>0.0023</td><td>10.82</td><td>0</td><td>3</td><td>sn2009mg</td><td>12.04</td><td>IIb</td><td>0.0439</td><td>0.0033</td><td>11.9</td><td>0</td><td>5</td><td>sn2005U</td><td>11.38</td><td>IIb</td><td>0.0399</td><td>0.0027</td><td>29.0</td><td>1</td><td>60</td><td>sn02fb</td><td>7.52</td><td>Ia-91bg</td><td>0.0535</td><td>0.006</td><td>18.6</td><td>0</td><td>63</td><td>sn2001br</td><td>7.44</td><td>Ia-norm</td><td>0.0546</td><td>0.0067</td><td>27.0</td><td>0</td></tr>\n",
       "<tr><td>ZTF19aavouyw_20190619_P60_v1.ascii</td><td>ZTF19aavouyw</td><td>sn98S</td><td>4.0</td><td>0.1994</td><td>0.0084</td><td>1</td><td>1</td><td>lbv99bw</td><td>5.27</td><td>LBV</td><td>0.2071</td><td>0.0035</td><td>-99.9</td><td>2</td><td>2</td><td>lbv1999bw</td><td>5.27</td><td>LBV</td><td>0.2071</td><td>0.0035</td><td>-99.9</td><td>2</td><td>3</td><td>sn2004et</td><td>4.69</td><td>II-norm</td><td>0.2059</td><td>0.0044</td><td>384.5</td><td>0</td><td>4</td><td>sn04et</td><td>4.67</td><td>II-norm</td><td>0.206</td><td>0.0044</td><td>384.5</td><td>0</td><td>63</td><td>PTF11rks</td><td>4.2</td><td>Ic-SLSN</td><td>0.6528</td><td>0.0038</td><td>47.61</td><td>0</td></tr>\n",
       "<tr><td>ZTF19abanfrn_20190705_P60_v1.ascii</td><td>ZTF19abanfrn</td><td>sn2008Z</td><td>15.26</td><td>0.0919</td><td>0.0035</td><td>1</td><td>1</td><td>sn2008Z</td><td>15.26</td><td>Ia-norm</td><td>0.0919</td><td>0.0035</td><td>7.6</td><td>0</td><td>2</td><td>sn96C</td><td>13.53</td><td>Ia-norm</td><td>0.0881</td><td>0.004</td><td>8.3</td><td>0</td><td>3</td><td>sn2005na</td><td>12.94</td><td>Ia-norm</td><td>0.09</td><td>0.0041</td><td>3.4</td><td>0</td><td>5</td><td>sn99ac</td><td>10.98</td><td>Ia-91T</td><td>0.0995</td><td>0.0052</td><td>0.8</td><td>0</td><td>63</td><td>sn2006gz</td><td>8.56</td><td>Ia-03fg</td><td>0.0909</td><td>0.0053</td><td>5.3</td><td>0</td></tr>\n",
       "<tr><td>ZTF19abjbtbm_20190808_P60_v1.ascii</td><td>ZTF19abjbtbm</td><td>sn92A</td><td>5.74</td><td>0.5</td><td>0.0089</td><td>0</td><td>1</td><td>sn92A</td><td>5.74</td><td>Ia-norm</td><td>0.5</td><td>0.0089</td><td>-0.6</td><td>0</td><td>3</td><td>sn1998dx</td><td>5.49</td><td>Ia-norm</td><td>0.4911</td><td>0.0091</td><td>-1.7</td><td>0</td><td>5</td><td>sn2004fu</td><td>5.22</td><td>Ia-norm</td><td>0.5039</td><td>0.0101</td><td>-6.4</td><td>0</td><td>20</td><td>sn2003fa</td><td>4.99</td><td>Ia-91T</td><td>0.4812</td><td>0.0121</td><td>8.7</td><td>0</td><td>63</td><td>PTF10qts</td><td>4.3</td><td>Ic-BL</td><td>0.7389</td><td>0.0174</td><td>-1.2</td><td>0</td></tr>\n",
       "<tr><td>ZTF19abymukc_20190918_P60_v1.ascii</td><td>ZTF19abymukc</td><td>sn06bp</td><td>9.86</td><td>0.0233</td><td>0.004</td><td>1</td><td>1</td><td>sn06bp</td><td>9.86</td><td>II-norm</td><td>0.0233</td><td>0.004</td><td>49.0</td><td>0</td><td>5</td><td>sn04er</td><td>9.31</td><td>II-norm</td><td>0.0236</td><td>0.0042</td><td>81.0</td><td>0</td><td>7</td><td>sn2004et</td><td>9.27</td><td>II-norm</td><td>0.0183</td><td>0.0041</td><td>96.5</td><td>0</td><td>55</td><td>sn2004dt</td><td>7.75</td><td>Ia-norm</td><td>0.0293</td><td>0.0064</td><td>36.6</td><td>0</td><td>63</td><td>sn99ac</td><td>7.45</td><td>Ia-91T</td><td>0.0367</td><td>0.0079</td><td>32.0</td><td>0</td></tr>\n",
       "<tr><td>ZTF19acblzux_20191004_P60_v2.ascii</td><td>ZTF19acblzux</td><td>sn1991bg</td><td>21.8</td><td>0.0346</td><td>0.0027</td><td>1</td><td>1</td><td>sn1991bg</td><td>21.8</td><td>Ia-91bg</td><td>0.0346</td><td>0.0027</td><td>0.9</td><td>0</td><td>2</td><td>sn91bg</td><td>21.64</td><td>Ia-91bg</td><td>0.0348</td><td>0.0028</td><td>1.5</td><td>0</td><td>3</td><td>sn07al</td><td>20.11</td><td>Ia-91bg</td><td>0.0336</td><td>0.003</td><td>5.04</td><td>0</td><td>30</td><td>sn04aw</td><td>10.55</td><td>Ic-norm</td><td>0.0339</td><td>0.0061</td><td>18.1</td><td>0</td><td>63</td><td>sn2009jf</td><td>8.75</td><td>Ib-norm</td><td>0.0318</td><td>0.0076</td><td>18.0</td><td>0</td></tr>\n",
       "<tr><td>ZTF19accmxtw_20191023_P60_v1.ascii</td><td>ZTF19accmxtw</td><td>sn01eh</td><td>11.54</td><td>0.0737</td><td>0.0067</td><td>1</td><td>1</td><td>sn01eh</td><td>11.54</td><td>Ia-norm</td><td>0.0737</td><td>0.0067</td><td>-4.53</td><td>0</td><td>5</td><td>sn2005eq</td><td>9.36</td><td>Ia-91T</td><td>0.0713</td><td>0.0085</td><td>-3.5</td><td>0</td><td>6</td><td>sn1999aa</td><td>9.08</td><td>Ia-91T</td><td>0.0647</td><td>0.0081</td><td>-1.6</td><td>0</td><td>7</td><td>sn05eq</td><td>8.59</td><td>Ia-norm</td><td>0.0729</td><td>0.0088</td><td>-2.98</td><td>0</td><td>63</td><td>sn2005mf</td><td>6.14</td><td>Ic-norm</td><td>0.0755</td><td>0.0128</td><td>4.0</td><td>0</td></tr>\n",
       "<tr><td>ZTF19acojuex_20191115_P60_v1.ascii</td><td>ZTF19acojuex</td><td>sn2003cg</td><td>4.99</td><td>0.0922</td><td>0.0103</td><td>1</td><td>1</td><td>sn2003cg</td><td>4.99</td><td>Ia-norm</td><td>0.0922</td><td>0.0103</td><td>-6.4</td><td>0</td><td>2</td><td>sn03cg</td><td>4.99</td><td>Ia-norm</td><td>0.0911</td><td>0.0104</td><td>-6.8</td><td>0</td><td>5</td><td>sn07bm</td><td>4.85</td><td>Ia-norm</td><td>0.09</td><td>0.0107</td><td>-7.3</td><td>0</td><td>31</td><td>sn2001ah</td><td>4.36</td><td>Ia-91T</td><td>0.0979</td><td>0.0118</td><td>-9.7</td><td>0</td><td>63</td><td>sn03fg</td><td>4.21</td><td>Ia-03fg</td><td>0.078</td><td>0.0108</td><td>2.0</td><td>0</td></tr>\n",
       "<tr><td>ZTF19acykzsk_20191214_LT_v1.ascii</td><td>ZTF19acykzsk</td><td>sn06bp</td><td>6.34</td><td>0.0245</td><td>0.0082</td><td>1</td><td>1</td><td>sn06bp</td><td>6.34</td><td>II-norm</td><td>0.0245</td><td>0.0082</td><td>0.1</td><td>0</td><td>3</td><td>sn2004et</td><td>6.12</td><td>II-norm</td><td>0.0182</td><td>0.0086</td><td>-2.9</td><td>0</td><td>4</td><td>sn04et</td><td>6.11</td><td>II-norm</td><td>0.0183</td><td>0.0086</td><td>-2.9</td><td>0</td><td>31</td><td>sn2008ax</td><td>4.82</td><td>IIb</td><td>0.0405</td><td>0.016</td><td>-18.0</td><td>0</td><td>63</td><td>sn2008am</td><td>3.93</td><td>IIn</td><td>0.0204</td><td>0.0048</td><td>10.0</td><td>0</td></tr>\n",
       "<tr><td>ZTF19acyndbj_20200127_P200_v3.ascii</td><td>ZTF19acyndbj</td><td>sn1997cy</td><td>7.22</td><td>0.4462</td><td>0.0086</td><td>0</td><td>1</td><td>sn1997cy</td><td>7.22</td><td>IIn</td><td>0.4462</td><td>0.0086</td><td>377.7</td><td>1</td><td>2</td><td>sn97cy</td><td>7.22</td><td>IIn</td><td>0.4462</td><td>0.0086</td><td>377.7</td><td>1</td><td>3</td><td>sn2004et</td><td>6.12</td><td>II-norm</td><td>0.4419</td><td>0.0099</td><td>330.1</td><td>0</td><td>4</td><td>sn04et</td><td>6.1</td><td>II-norm</td><td>0.4421</td><td>0.0099</td><td>330.1</td><td>0</td><td>63</td><td>sn2010bh</td><td>5.23</td><td>Ic-BL</td><td>0.814</td><td>0.0281</td><td>11.6</td><td>0</td></tr>\n",
       "<tr><td>ZTF19aczjytt_20200103_P60_v1.ascii</td><td>ZTF19aczjytt</td><td>sn04er</td><td>6.48</td><td>0.0171</td><td>0.0058</td><td>1</td><td>1</td><td>sn04er</td><td>6.48</td><td>II-norm</td><td>0.0171</td><td>0.0058</td><td>110.0</td><td>0</td><td>3</td><td>sn1987A</td><td>6.3</td><td>II-norm</td><td>0.0416</td><td>0.0077</td><td>-80.8</td><td>0</td><td>5</td><td>sn06Y</td><td>6.25</td><td>II-norm</td><td>0.0208</td><td>0.0067</td><td>50.0</td><td>0</td><td>50</td><td>sn2004gt</td><td>5.41</td><td>Ic-norm</td><td>0.0611</td><td>0.0102</td><td>81.49</td><td>0</td><td>63</td><td>sn2011ei</td><td>5.28</td><td>IIb</td><td>0.0449</td><td>0.0102</td><td>-14.0</td><td>0</td></tr>\n",
       "<tr><td>ZTF20aahpxzz_20200208_LT_v1.ascii</td><td>ZTF20aahpxzz</td><td>sn2005hf</td><td>9.93</td><td>0.0522</td><td>0.0049</td><td>1</td><td>1</td><td>sn2005hf</td><td>9.93</td><td>Ia-norm</td><td>0.0522</td><td>0.0049</td><td>8.2</td><td>0</td><td>2</td><td>sn2003ic</td><td>9.41</td><td>Ia-norm</td><td>0.0591</td><td>0.0062</td><td>3.4</td><td>0</td><td>4</td><td>sn2006cj</td><td>7.36</td><td>Ia-norm</td><td>0.0558</td><td>0.0078</td><td>5.4</td><td>0</td><td>7</td><td>sn1999aa</td><td>5.78</td><td>Ia-91T</td><td>0.0607</td><td>0.0115</td><td>-3.1</td><td>0</td><td>63</td><td>sn2006gz</td><td>4.31</td><td>Ia-03fg</td><td>0.056</td><td>0.0096</td><td>5.3</td><td>0</td></tr>\n",
       "<tr><td>ZTF20aaydgsu_20200510_P60_v1.ascii</td><td>ZTF20aaydgsu</td><td>sn2004dt</td><td>6.97</td><td>0.066</td><td>0.0087</td><td>1</td><td>1</td><td>sn2004dt</td><td>6.97</td><td>Ia-norm</td><td>0.066</td><td>0.0087</td><td>2.3</td><td>0</td><td>3</td><td>sn1996ai</td><td>6.21</td><td>Ia-norm</td><td>0.0601</td><td>0.0067</td><td>-0.9</td><td>0</td><td>6</td><td>sn2013dx</td><td>6.08</td><td>Ic-BL</td><td>0.7623</td><td>0.003</td><td>23.0</td><td>0</td><td>10</td><td>sn1994D</td><td>5.94</td><td>Ia-norm</td><td>0.0628</td><td>0.0076</td><td>-5.3</td><td>0</td><td>63</td><td>sn91T</td><td>4.91</td><td>Ia-91T</td><td>0.3197</td><td>0.0091</td><td>-9.48</td><td>0</td></tr>\n",
       "</table>"
      ],
      "text/plain": [
       "<Table length=19>\n",
       "              Version                  ZTF_Name   ...  age_5  age_flag_5\n",
       "               str64                    str64     ... float64   int32   \n",
       "------------------------------------ ------------ ... ------- ----------\n",
       " ZTF18aaqbzfc_20180508_P200_v1.ascii ZTF18aaqbzfc ...  -100.0          2\n",
       "  ZTF18aavnvmp_20180530_P60_v1.ascii ZTF18aavnvmp ...     5.3          0\n",
       "  ZTF18abdrbqp_20180712_P60_v1.ascii ZTF18abdrbqp ...  -100.0          2\n",
       "ZTF18accnfrz_20181204_Keck1_v1.ascii ZTF18accnfrz ...    11.0          0\n",
       " ZTF18acsxkov_20190126_P200_v1.ascii ZTF18acsxkov ...   -99.9          2\n",
       "  ZTF18acuscrr_20181212_P60_v2.ascii ZTF18acuscrr ...    -2.6          0\n",
       " ZTF19aaugupw_20190604_P200_v1.ascii ZTF19aaugupw ...    27.0          0\n",
       "  ZTF19aavouyw_20190619_P60_v1.ascii ZTF19aavouyw ...   47.61          0\n",
       "  ZTF19abanfrn_20190705_P60_v1.ascii ZTF19abanfrn ...     5.3          0\n",
       "  ZTF19abjbtbm_20190808_P60_v1.ascii ZTF19abjbtbm ...    -1.2          0\n",
       "  ZTF19abymukc_20190918_P60_v1.ascii ZTF19abymukc ...    32.0          0\n",
       "  ZTF19acblzux_20191004_P60_v2.ascii ZTF19acblzux ...    18.0          0\n",
       "  ZTF19accmxtw_20191023_P60_v1.ascii ZTF19accmxtw ...     4.0          0\n",
       "  ZTF19acojuex_20191115_P60_v1.ascii ZTF19acojuex ...     2.0          0\n",
       "   ZTF19acykzsk_20191214_LT_v1.ascii ZTF19acykzsk ...    10.0          0\n",
       " ZTF19acyndbj_20200127_P200_v3.ascii ZTF19acyndbj ...    11.6          0\n",
       "  ZTF19aczjytt_20200103_P60_v1.ascii ZTF19aczjytt ...   -14.0          0\n",
       "   ZTF20aahpxzz_20200208_LT_v1.ascii ZTF20aahpxzz ...     5.3          0\n",
       "  ZTF20aaydgsu_20200510_P60_v1.ascii ZTF20aaydgsu ...   -9.48          0"
      ]
     },
     "execution_count": 137,
     "metadata": {},
     "output_type": "execute_result"
    }
   ],
   "source": [
    "ZTable_best[np.where(ZTable_best[\"rank_5\"] == 63)]"
   ]
  },
  {
   "cell_type": "code",
   "execution_count": 141,
   "metadata": {},
   "outputs": [
    {
     "data": {
      "text/html": [
       "<i>Table length=1</i>\n",
       "<table id=\"table140064764395216\" class=\"table-striped table-bordered table-condensed\">\n",
       "<thead><tr><th>Version</th><th>ZTF_Name</th><th>z_sntemplate</th><th>z_rlap</th><th>z_snid</th><th>z_snid_err</th><th>z_level</th><th>rank_1</th><th>sntemplate_1</th><th>rlap_1</th><th>c_snid_1</th><th>z_snid_1</th><th>z_snid_err_1</th><th>age_1</th><th>age_flag_1</th><th>rank_2</th><th>sntemplate_2</th><th>rlap_2</th><th>c_snid_2</th><th>z_snid_2</th><th>z_snid_err_2</th><th>age_2</th><th>age_flag_2</th><th>rank_3</th><th>sntemplate_3</th><th>rlap_3</th><th>c_snid_3</th><th>z_snid_3</th><th>z_snid_err_3</th><th>age_3</th><th>age_flag_3</th><th>rank_4</th><th>sntemplate_4</th><th>rlap_4</th><th>c_snid_4</th><th>z_snid_4</th><th>z_snid_err_4</th><th>age_4</th><th>age_flag_4</th><th>rank_5</th><th>sntemplate_5</th><th>rlap_5</th><th>c_snid_5</th><th>z_snid_5</th><th>z_snid_err_5</th><th>age_5</th><th>age_flag_5</th></tr></thead>\n",
       "<thead><tr><th>str64</th><th>str64</th><th>str64</th><th>float64</th><th>float64</th><th>float64</th><th>int32</th><th>int32</th><th>str64</th><th>float64</th><th>str64</th><th>float64</th><th>float64</th><th>float64</th><th>int32</th><th>int32</th><th>str64</th><th>float64</th><th>str64</th><th>float64</th><th>float64</th><th>float64</th><th>int32</th><th>int32</th><th>str64</th><th>float64</th><th>str64</th><th>float64</th><th>float64</th><th>float64</th><th>int32</th><th>int32</th><th>str64</th><th>float64</th><th>str64</th><th>float64</th><th>float64</th><th>float64</th><th>int32</th><th>int32</th><th>str64</th><th>float64</th><th>str64</th><th>float64</th><th>float64</th><th>float64</th><th>int32</th></tr></thead>\n",
       "<tr><td>ZTF18aahfxnn_20180410_P200_v1.ascii</td><td>ZTF18aahfxnn</td><td>sn2005cf</td><td>16.45</td><td>0.0745</td><td>0.0034</td><td>1</td><td>1</td><td>sn2005cf</td><td>16.45</td><td>Ia-norm</td><td>0.0745</td><td>0.0034</td><td>-1.5</td><td>0</td><td>3</td><td>sn06cq</td><td>14.08</td><td>Ia-norm</td><td>0.0723</td><td>0.0039</td><td>1.91</td><td>0</td><td>7</td><td>sn2008ar</td><td>13.24</td><td>Ia-norm</td><td>0.0744</td><td>0.0043</td><td>1.2</td><td>0</td><td>64</td><td>sn2006oa</td><td>10.2</td><td>Ia-91T</td><td>0.0716</td><td>0.0059</td><td>-0.1</td><td>0</td><td>9</td><td>sn03cg</td><td>13.11</td><td>Ia-norm</td><td>0.0768</td><td>0.0033</td><td>-2.3</td><td>0</td></tr>\n",
       "</table>"
      ],
      "text/plain": [
       "<Table length=1>\n",
       "              Version                 ZTF_Name   ...  age_5  age_flag_5\n",
       "               str64                   str64     ... float64   int32   \n",
       "----------------------------------- ------------ ... ------- ----------\n",
       "ZTF18aahfxnn_20180410_P200_v1.ascii ZTF18aahfxnn ...    -2.3          0"
      ]
     },
     "execution_count": 141,
     "metadata": {},
     "output_type": "execute_result"
    }
   ],
   "source": [
    "ZTable_best[np.where(ZTable_best[\"Version\"] == \"ZTF18aahfxnn_20180410_P200_v1.ascii\")]"
   ]
  },
  {
   "cell_type": "code",
   "execution_count": 135,
   "metadata": {},
   "outputs": [],
   "source": [
    "ZTable_best.to_pandas().to_csv(\"/home/xhall/Documents/NewZTF/sample_2020/SNID_2020_output.csv\", index = False)"
   ]
  },
  {
   "cell_type": "code",
   "execution_count": 142,
   "metadata": {},
   "outputs": [
    {
     "data": {
      "text/plain": [
       "(array([134]),)"
      ]
     },
     "execution_count": 142,
     "metadata": {},
     "output_type": "execute_result"
    }
   ],
   "source": [
    "np.where(ZTable_best[\"Version\"] == \"ZTF18aahfxnn_20180410_P200_v1.ascii\")"
   ]
  },
  {
   "cell_type": "code",
   "execution_count": null,
   "metadata": {},
   "outputs": [],
   "source": []
  }
 ],
 "metadata": {
  "kernelspec": {
   "display_name": "Python 3",
   "language": "python",
   "name": "python3"
  },
  "language_info": {
   "codemirror_mode": {
    "name": "ipython",
    "version": 3
   },
   "file_extension": ".py",
   "mimetype": "text/x-python",
   "name": "python",
   "nbconvert_exporter": "python",
   "pygments_lexer": "ipython3",
   "version": "3.7.6"
  }
 },
 "nbformat": 4,
 "nbformat_minor": 4
}
