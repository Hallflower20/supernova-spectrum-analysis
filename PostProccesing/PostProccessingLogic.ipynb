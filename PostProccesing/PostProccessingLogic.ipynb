{
 "cells": [
  {
   "cell_type": "code",
   "execution_count": 1,
   "metadata": {},
   "outputs": [],
   "source": [
    "import os\n",
    "import astropy\n",
    "import numpy as np\n",
    "from astropy.table import Table\n",
    "from astropy.table import Column\n",
    "import glob\n",
    "import matplotlib.pyplot as plt\n",
    "import pandas as pd\n",
    "from collections import Counter\n",
    "from mpl_toolkits.mplot3d import Axes3D\n",
    "import copy"
   ]
  },
  {
   "cell_type": "code",
   "execution_count": 2,
   "metadata": {},
   "outputs": [],
   "source": [
    "sample = Table.read(\"/home/xhall/Documents/ZTFI/sample/SEDM_ML_sample.ascii\", format = \"ascii\")\n",
    "sample.rename_column('col1', 'ZTF_Name')\n",
    "sample.rename_column('col2', \"Class\")\n",
    "sample.rename_column('col8', \"Version\")"
   ]
  },
  {
   "cell_type": "code",
   "execution_count": 3,
   "metadata": {},
   "outputs": [],
   "source": [
    "snidoutput = np.load(\"/home/xhall/Documents/ZTFI/SNID_2020_remaining_output.npy\",allow_pickle=True)"
   ]
  },
  {
   "cell_type": "code",
   "execution_count": 6,
   "metadata": {},
   "outputs": [
    {
     "data": {
      "text/plain": [
       "49"
      ]
     },
     "execution_count": 6,
     "metadata": {},
     "output_type": "execute_result"
    }
   ],
   "source": [
    "ZTable_best = Table(\n",
    "                    names=(\"Version\", \"ZTF_Name\",\n",
    "                           \"z_sntemplate\", \"z_rlap\", \"z_snid\", \"z_snid_err\", \"z_level\"\n",
    "                           , \"rank_1\", \"sntemplate_1\", \"rlap_1\", \"c_snid_1\", \"z_snid_1\", \"z_snid_err_1\", \"age_1\", \"age_flag_1\"\n",
    "                           , \"rank_2\", \"sntemplate_2\", \"rlap_2\", \"c_snid_2\", \"z_snid_2\", \"z_snid_err_2\", \"age_2\", \"age_flag_2\"\n",
    "                           , \"rank_3\", \"sntemplate_3\", \"rlap_3\", \"c_snid_3\", \"z_snid_3\", \"z_snid_err_3\", \"age_3\", \"age_flag_3\"\n",
    "                           , \"rank_4\", \"sntemplate_4\", \"rlap_4\", \"c_snid_4\", \"z_snid_4\", \"z_snid_err_4\", \"age_4\", \"age_flag_4\"\n",
    "                           , \"rank_5\", \"sntemplate_5\", \"rlap_5\", \"c_snid_5\", \"z_snid_5\", \"z_snid_err_5\", \"age_5\", \"age_flag_5\"\n",
    "                    ),\n",
    "                    meta={\"name\": \"Redscore Results\"},\n",
    "                    dtype=(\"U64\", \"U64\",\n",
    "                           \"U64\", \"float64\", \"float64\", \"float64\", \"int32\",\n",
    "                            \"int32\", \"U64\", \"float64\", \"U64\", \"float64\", \"float64\", \"float64\", \"int32\",\n",
    "                            \"int32\", \"U64\", \"float64\", \"U64\", \"float64\", \"float64\", \"float64\", \"int32\",\n",
    "                            \"int32\", \"U64\", \"float64\", \"U64\", \"float64\", \"float64\", \"float64\", \"int32\",\n",
    "                            \"int32\", \"U64\", \"float64\", \"U64\", \"float64\", \"float64\", \"float64\", \"int32\",\n",
    "                            \"int32\", \"U64\", \"float64\", \"U64\", \"float64\", \"float64\", \"float64\", \"int32\",\n",
    "                          )\n",
    "                    )\n",
    "len([\"Version\", \"ZTF_Name\",\n",
    "                           \"z_sntemplate\", \"z_rlap\", \"z_snid\", \"z_snid_err\", \"age\", \"age_flag\", \"z_level\"\n",
    "                           , \"rank_1\", \"sntemplate_1\", \"rlap_1\", \"c_snid_1\", \"z_snid_1\", \"z_snid_err_1\", \"age_1\", \"age_flag_1\"\n",
    "                           , \"rank_2\", \"sntemplate_2\", \"rlap_2\", \"c_snid_2\", \"z_snid_2\", \"z_snid_err_2\", \"age_2\", \"age_flag_2\"\n",
    "                           , \"rank_3\", \"sntemplate_3\", \"rlap_3\", \"c_snid_3\", \"z_snid_3\", \"z_snid_err_3\", \"age_3\", \"age_flag_3\"\n",
    "                           , \"rank_4\", \"sntemplate_4\", \"rlap_4\", \"c_snid_4\", \"z_snid_4\", \"z_snid_err_4\", \"age_4\", \"age_flag_4\"\n",
    "                           , \"rank_5\", \"sntemplate_5\", \"rlap_5\", \"c_snid_5\", \"z_snid_5\", \"z_snid_err_5\", \"age_5\", \"age_flag_5\"])"
   ]
  },
  {
   "cell_type": "code",
   "execution_count": 7,
   "metadata": {},
   "outputs": [],
   "source": [
    "def listComplementElements(list1, list2):\n",
    "    storeResults = []\n",
    "\n",
    "    for num in list1:\n",
    "        if num not in list2: # this will essentially iterate your list behind the scenes\n",
    "            storeResults.append(num)\n",
    "\n",
    "    return storeResults"
   ]
  },
  {
   "cell_type": "code",
   "execution_count": null,
   "metadata": {},
   "outputs": [],
   "source": [
    "snidoutputZTF17aaawgkc_20180822_P60_v1"
   ]
  },
  {
   "cell_type": "code",
   "execution_count": 8,
   "metadata": {},
   "outputs": [
    {
     "data": {
      "text/html": [
       "<i>Table length=6400</i>\n",
       "<table id=\"table139735533722576\" class=\"table-striped table-bordered table-condensed\">\n",
       "<thead><tr><th>no</th><th>sn</th><th>type</th><th>lap</th><th>rlap</th><th>z</th><th>zerr</th><th>age</th><th>age_flag</th><th>grade</th></tr></thead>\n",
       "<thead><tr><th>int64</th><th>str12</th><th>str7</th><th>float64</th><th>float64</th><th>float64</th><th>float64</th><th>float64</th><th>int64</th><th>str4</th></tr></thead>\n",
       "<tr><td>1</td><td>sn1990N</td><td>Ia-norm</td><td>0.773</td><td>11.35</td><td>0.035</td><td>0.0066</td><td>-14.2</td><td>0</td><td>good</td></tr>\n",
       "<tr><td>2</td><td>sn90N</td><td>Ia-norm</td><td>0.773</td><td>11.33</td><td>0.035</td><td>0.0066</td><td>-13.2</td><td>0</td><td>good</td></tr>\n",
       "<tr><td>3</td><td>sn2005cf</td><td>Ia-norm</td><td>0.773</td><td>11.3</td><td>0.0281</td><td>0.0064</td><td>-10.2</td><td>0</td><td>good</td></tr>\n",
       "<tr><td>4</td><td>sn2007kk</td><td>Ia-norm</td><td>0.7473</td><td>10.57</td><td>0.0195</td><td>0.0062</td><td>-1.7</td><td>0</td><td>good</td></tr>\n",
       "<tr><td>5</td><td>sn2005cf</td><td>Ia-norm</td><td>0.773</td><td>10.38</td><td>0.0266</td><td>0.0069</td><td>-9.2</td><td>0</td><td>good</td></tr>\n",
       "<tr><td>6</td><td>sn90O</td><td>Ia-norm</td><td>0.773</td><td>9.9</td><td>0.0267</td><td>0.0073</td><td>-7.1</td><td>0</td><td>good</td></tr>\n",
       "<tr><td>7</td><td>sn1990O</td><td>Ia-norm</td><td>0.773</td><td>9.89</td><td>0.0267</td><td>0.0073</td><td>-7.6</td><td>0</td><td>good</td></tr>\n",
       "<tr><td>8</td><td>sn2007kk</td><td>Ia-norm</td><td>0.7459</td><td>9.71</td><td>0.0183</td><td>0.0066</td><td>-0.8</td><td>0</td><td>good</td></tr>\n",
       "<tr><td>9</td><td>sn2005cf</td><td>Ia-norm</td><td>0.773</td><td>9.34</td><td>0.0227</td><td>0.0075</td><td>-7.3</td><td>0</td><td>good</td></tr>\n",
       "<tr><td>10</td><td>sn2002er</td><td>Ia-norm</td><td>0.773</td><td>9.34</td><td>0.0237</td><td>0.0073</td><td>-9.0</td><td>0</td><td>good</td></tr>\n",
       "<tr><td>...</td><td>...</td><td>...</td><td>...</td><td>...</td><td>...</td><td>...</td><td>...</td><td>...</td><td>...</td></tr>\n",
       "<tr><td>6391</td><td>sn02ap</td><td>Ic-BL</td><td>0.7148</td><td>0.54</td><td>0.0177</td><td>0.1111</td><td>30.5</td><td>0</td><td>good</td></tr>\n",
       "<tr><td>6392</td><td>iPTF13ajg</td><td>Ic-SLSN</td><td>0.773</td><td>0.52</td><td>0.1272</td><td>0.0333</td><td>-4.37</td><td>0</td><td>bad</td></tr>\n",
       "<tr><td>6393</td><td>qso2</td><td>QSO</td><td>0.685</td><td>0.52</td><td>0.1981</td><td>0.0495</td><td>-100.0</td><td>2</td><td>bad</td></tr>\n",
       "<tr><td>6394</td><td>sn08ds</td><td>Ia-norm</td><td>0.7351</td><td>0.51</td><td>-0.0094</td><td>0.0</td><td>51.91</td><td>0</td><td>bad</td></tr>\n",
       "<tr><td>6395</td><td>sn08ds</td><td>Ia-norm</td><td>0.7189</td><td>0.51</td><td>-0.0049</td><td>0.1065</td><td>56.77</td><td>0</td><td>bad</td></tr>\n",
       "<tr><td>6396</td><td>DES13S2cmm</td><td>Ic-SLSN</td><td>0.4508</td><td>0.51</td><td>0.0194</td><td>0.0847</td><td>35.06</td><td>0</td><td>good</td></tr>\n",
       "<tr><td>6397</td><td>sn92H</td><td>II-norm</td><td>0.4684</td><td>0.49</td><td>0.2993</td><td>0.0283</td><td>103.0</td><td>0</td><td>bad</td></tr>\n",
       "<tr><td>6398</td><td>sn1992H</td><td>II-norm</td><td>0.4684</td><td>0.49</td><td>0.2991</td><td>0.0282</td><td>103.0</td><td>0</td><td>bad</td></tr>\n",
       "<tr><td>6399</td><td>sn1983N</td><td>Ib-norm</td><td>0.5375</td><td>0.47</td><td>-0.0002</td><td>0.0611</td><td>227.6</td><td>0</td><td>good</td></tr>\n",
       "<tr><td>6400</td><td>sn83N</td><td>Ib-norm</td><td>0.5375</td><td>0.47</td><td>-0.0001</td><td>0.0613</td><td>227.6</td><td>0</td><td>good</td></tr>\n",
       "</table>"
      ],
      "text/plain": [
       "<Table length=6400>\n",
       "  no      sn       type    lap     rlap     z      zerr    age   age_flag grade\n",
       "int64   str12      str7  float64 float64 float64 float64 float64  int64    str4\n",
       "----- ---------- ------- ------- ------- ------- ------- ------- -------- -----\n",
       "    1    sn1990N Ia-norm   0.773   11.35   0.035  0.0066   -14.2        0  good\n",
       "    2      sn90N Ia-norm   0.773   11.33   0.035  0.0066   -13.2        0  good\n",
       "    3   sn2005cf Ia-norm   0.773    11.3  0.0281  0.0064   -10.2        0  good\n",
       "    4   sn2007kk Ia-norm  0.7473   10.57  0.0195  0.0062    -1.7        0  good\n",
       "    5   sn2005cf Ia-norm   0.773   10.38  0.0266  0.0069    -9.2        0  good\n",
       "    6      sn90O Ia-norm   0.773     9.9  0.0267  0.0073    -7.1        0  good\n",
       "    7    sn1990O Ia-norm   0.773    9.89  0.0267  0.0073    -7.6        0  good\n",
       "    8   sn2007kk Ia-norm  0.7459    9.71  0.0183  0.0066    -0.8        0  good\n",
       "    9   sn2005cf Ia-norm   0.773    9.34  0.0227  0.0075    -7.3        0  good\n",
       "   10   sn2002er Ia-norm   0.773    9.34  0.0237  0.0073    -9.0        0  good\n",
       "  ...        ...     ...     ...     ...     ...     ...     ...      ...   ...\n",
       " 6391     sn02ap   Ic-BL  0.7148    0.54  0.0177  0.1111    30.5        0  good\n",
       " 6392  iPTF13ajg Ic-SLSN   0.773    0.52  0.1272  0.0333   -4.37        0   bad\n",
       " 6393       qso2     QSO   0.685    0.52  0.1981  0.0495  -100.0        2   bad\n",
       " 6394     sn08ds Ia-norm  0.7351    0.51 -0.0094     0.0   51.91        0   bad\n",
       " 6395     sn08ds Ia-norm  0.7189    0.51 -0.0049  0.1065   56.77        0   bad\n",
       " 6396 DES13S2cmm Ic-SLSN  0.4508    0.51  0.0194  0.0847   35.06        0  good\n",
       " 6397      sn92H II-norm  0.4684    0.49  0.2993  0.0283   103.0        0   bad\n",
       " 6398    sn1992H II-norm  0.4684    0.49  0.2991  0.0282   103.0        0   bad\n",
       " 6399    sn1983N Ib-norm  0.5375    0.47 -0.0002  0.0611   227.6        0  good\n",
       " 6400      sn83N Ib-norm  0.5375    0.47 -0.0001  0.0613   227.6        0  good"
      ]
     },
     "execution_count": 8,
     "metadata": {},
     "output_type": "execute_result"
    }
   ],
   "source": [
    "snidoutput[7][1]"
   ]
  },
  {
   "cell_type": "code",
   "execution_count": 9,
   "metadata": {},
   "outputs": [
    {
     "name": "stdout",
     "output_type": "stream",
     "text": [
      "['ZTF18aamigmk_20180421_Ekar_v1.ascii', 'ZTF18aamigmk', 'sn1990N', 11.35, 0.035, 0.0066, 1, 1, 'sn1990N', 11.35, 'Ia-norm', 0.035, 0.0066, -14.2, 0, 3, 'sn2005cf', 11.3, 'Ia-norm', 0.0281, 0.0064, -10.2, 0, 4, 'sn2007kk', 10.57, 'Ia-norm', 0.0195, 0.0062, -1.7, 0, 6, 'sn90O', 9.9, 'Ia-norm', 0.0267, 0.0073, -7.1, 0, 38, 'sn2006cz', 8.06, 'Ia-91T', 0.0163, 0.008, -3.9, 0]\n"
     ]
    }
   ],
   "source": [
    "j = copy.deepcopy(snidoutput[7])\n",
    "j[1] = copy.deepcopy(j[1][0:100])\n",
    "nocopys = []\n",
    "for linenum in range(len(j[1])):\n",
    "    name = j[1][linenum][\"sn\"].split('sn')[-1].split('_b')[0]\n",
    "    for i in range(linenum, len(j[1])):\n",
    "        other_name = j[1][i][\"sn\"].split('sn')[-1].split('_b')[0]\n",
    "        if(((linenum != i) and ((name in other_name) or (other_name in name)) and (np.abs(j[1][linenum][\"age\"] - j[1][i][\"age\"]) < 3))):\n",
    "            nocopys.append(i)\n",
    "mocopys_unique = listComplementElements(list(range(len(j[1]))),np.unique(nocopys))\n",
    "j[1] = j[1][mocopys_unique]\n",
    "\n",
    "Top50 = copy.deepcopy(j[1][0:50])\n",
    "Top5 = copy.deepcopy(Top50[0:5])\n",
    "types = np.unique(Top50[\"type\"])\n",
    "top5Types = np.unique(Top5[\"type\"])\n",
    "\n",
    "row = []\n",
    "row.append(j[0] + \".ascii\")\n",
    "row.append(j[0].split(\"_\")[0])\n",
    "\n",
    "good = j[1][np.where(j[1][\"grade\"] == \"good\")]\n",
    "if(\"SLSN\" in str(j[1][0][\"type\"])):\n",
    "    good = good[np.where(good[\"z\"] <= .5)]\n",
    "else:\n",
    "    good = good[np.where(good[\"z\"] <= .2)]\n",
    "if(len(good) != 0):\n",
    "    row.append(good[0][\"sn\"])\n",
    "    row.append(good[0][\"rlap\"])\n",
    "    row.append(float(good[0][\"z\"]))\n",
    "    row.append(float(good[0][\"zerr\"]))\n",
    "    row.append(1)\n",
    "else:\n",
    "    row.append(j[1][0][\"sn\"])\n",
    "    row.append(j[1][0][\"rlap\"])\n",
    "    row.append(float(j[1][0][\"z\"]))\n",
    "    row.append(float(j[1][0][\"zerr\"]))\n",
    "    row.append(0)\n",
    "\n",
    "if(len(top5Types) >= 3):\n",
    "    for i in Top5:\n",
    "        row.append(i[\"no\"])\n",
    "        row.append(i[\"sn\"])\n",
    "        row.append(i[\"rlap\"])\n",
    "        row.append(i[\"type\"])\n",
    "        row.append(i[\"z\"])\n",
    "        row.append(i[\"zerr\"])\n",
    "        row.append(i[\"age\"])\n",
    "        row.append(i[\"age_flag\"])\n",
    "elif(len(top5Types) == 2):\n",
    "    if(len(types) == 2):\n",
    "        for i in Top5:\n",
    "            row.append(i[\"no\"])\n",
    "            row.append(i[\"sn\"])\n",
    "            row.append(i[\"rlap\"])\n",
    "            row.append(i[\"type\"])\n",
    "            row.append(i[\"z\"])\n",
    "            row.append(i[\"zerr\"])\n",
    "            row.append(i[\"age\"])\n",
    "            row.append(i[\"age_flag\"])\n",
    "    else:\n",
    "        newType = -1\n",
    "        for i in range(len(Top50)):\n",
    "            line = Top50[i]\n",
    "            if(line[\"type\"] not in top5Types):\n",
    "                newType = i\n",
    "                break\n",
    "        for i in range(len(Top5)-1,-1,-1):\n",
    "            line = Top5[i]\n",
    "            unique = list(Top5[\"type\"]).count(line[\"type\"])\n",
    "            if(unique > 1):\n",
    "                Top5[i] = Top50[newType]\n",
    "                break\n",
    "        Top5.sort(\"no\")\n",
    "        for i in Top5:\n",
    "            row.append(i[\"no\"])\n",
    "            row.append(i[\"sn\"])\n",
    "            row.append(i[\"rlap\"])\n",
    "            row.append(i[\"type\"])\n",
    "            row.append(i[\"z\"])\n",
    "            row.append(i[\"zerr\"])\n",
    "            row.append(i[\"age\"])\n",
    "            row.append(i[\"age_flag\"])\n",
    "elif(len(top5Types) == 1):\n",
    "    if(len(types) == 1):\n",
    "        for i in Top5:\n",
    "            row.append(i[\"no\"])\n",
    "            row.append(i[\"sn\"])\n",
    "            row.append(i[\"rlap\"])\n",
    "            row.append(i[\"type\"])\n",
    "            row.append(i[\"z\"])\n",
    "            row.append(i[\"zerr\"])\n",
    "            row.append(i[\"age\"])\n",
    "            row.append(i[\"age_flag\"])\n",
    "    else:\n",
    "        for k in range(4,2,-1):\n",
    "            top5Types = np.unique(Top5[\"type\"])\n",
    "            for i in Top50:\n",
    "                if(i[\"type\"] not in top5Types):\n",
    "                    Top5[k] = i\n",
    "                    break\n",
    "        Top5.sort(\"no\")\n",
    "        for i in Top5:\n",
    "            row.append(i[\"no\"])\n",
    "            row.append(i[\"sn\"])\n",
    "            row.append(i[\"rlap\"])\n",
    "            row.append(i[\"type\"])\n",
    "            row.append(i[\"z\"])\n",
    "            row.append(i[\"zerr\"])\n",
    "            row.append(i[\"age\"])\n",
    "            row.append(i[\"age_flag\"])\n",
    "print(row)"
   ]
  },
  {
   "cell_type": "code",
   "execution_count": 174,
   "metadata": {},
   "outputs": [
    {
     "data": {
      "text/plain": [
       "[1,\n",
       " 3,\n",
       " 12,\n",
       " 58,\n",
       " 59,\n",
       " 58,\n",
       " 59,\n",
       " 18,\n",
       " 21,\n",
       " 40,\n",
       " 64,\n",
       " 32,\n",
       " 43,\n",
       " 24,\n",
       " 28,\n",
       " 41,\n",
       " 35,\n",
       " 49,\n",
       " 60,\n",
       " 51,\n",
       " 53,\n",
       " 54,\n",
       " 53,\n",
       " 54,\n",
       " 54,\n",
       " 56,\n",
       " 59]"
      ]
     },
     "execution_count": 174,
     "metadata": {},
     "output_type": "execute_result"
    }
   ],
   "source": [
    "nocopys"
   ]
  },
  {
   "cell_type": "code",
   "execution_count": 79,
   "metadata": {},
   "outputs": [
    {
     "name": "stdout",
     "output_type": "stream",
     "text": [
      "3\n",
      "4\n"
     ]
    }
   ],
   "source": [
    "for i in range(3,5,1):\n",
    "    print(i)"
   ]
  },
  {
   "cell_type": "code",
   "execution_count": 47,
   "metadata": {},
   "outputs": [],
   "source": [
    "test = [1,2,3]"
   ]
  },
  {
   "cell_type": "code",
   "execution_count": 77,
   "metadata": {},
   "outputs": [
    {
     "data": {
      "text/html": [
       "<i>Table length=3</i>\n",
       "<table id=\"table140065092763984\" class=\"table-striped table-bordered table-condensed\">\n",
       "<thead><tr><th>no</th><th>sn</th><th>type</th><th>lap</th><th>rlap</th><th>z</th><th>zerr</th><th>age</th><th>age_flag</th><th>grade</th></tr></thead>\n",
       "<thead><tr><th>int64</th><th>str12</th><th>str7</th><th>float64</th><th>float64</th><th>float64</th><th>float64</th><th>float64</th><th>int64</th><th>str4</th></tr></thead>\n",
       "<tr><td>1</td><td>kcSB2</td><td>Gal</td><td>0.8786</td><td>17.99</td><td>-0.0</td><td>0.0015</td><td>-99.9</td><td>2</td><td>good</td></tr>\n",
       "<tr><td>2</td><td>kcSB1</td><td>Gal</td><td>0.8786</td><td>17.3</td><td>0.0001</td><td>0.0016</td><td>-99.9</td><td>2</td><td>good</td></tr>\n",
       "<tr><td>3</td><td>PS1-10bzj</td><td>Ic-SLSN</td><td>0.4048</td><td>10.61</td><td>0.0003</td><td>0.0026</td><td>6.55</td><td>0</td><td>good</td></tr>\n",
       "</table>"
      ],
      "text/plain": [
       "<Table length=3>\n",
       "  no      sn      type    lap     rlap     z      zerr    age   age_flag grade\n",
       "int64   str12     str7  float64 float64 float64 float64 float64  int64    str4\n",
       "----- --------- ------- ------- ------- ------- ------- ------- -------- -----\n",
       "    1     kcSB2     Gal  0.8786   17.99    -0.0  0.0015   -99.9        2  good\n",
       "    2     kcSB1     Gal  0.8786    17.3  0.0001  0.0016   -99.9        2  good\n",
       "    3 PS1-10bzj Ic-SLSN  0.4048   10.61  0.0003  0.0026    6.55        0  good"
      ]
     },
     "execution_count": 77,
     "metadata": {},
     "output_type": "execute_result"
    }
   ],
   "source": [
    "Top5[0:3]"
   ]
  },
  {
   "cell_type": "code",
   "execution_count": 75,
   "metadata": {},
   "outputs": [],
   "source": [
    "Top5.sort(\"no\")"
   ]
  },
  {
   "cell_type": "code",
   "execution_count": 73,
   "metadata": {},
   "outputs": [],
   "source": [
    "Top5.reverse()"
   ]
  },
  {
   "cell_type": "code",
   "execution_count": 122,
   "metadata": {},
   "outputs": [
    {
     "data": {
      "text/html": [
       "<i>Table length=5</i>\n",
       "<table id=\"table140065038329936\" class=\"table-striped table-bordered table-condensed\">\n",
       "<thead><tr><th>no</th><th>sn</th><th>type</th><th>lap</th><th>rlap</th><th>z</th><th>zerr</th><th>age</th><th>age_flag</th><th>grade</th></tr></thead>\n",
       "<thead><tr><th>int64</th><th>str12</th><th>str7</th><th>float64</th><th>float64</th><th>float64</th><th>float64</th><th>float64</th><th>int64</th><th>str4</th></tr></thead>\n",
       "<tr><td>1</td><td>sn88a</td><td>II-norm</td><td>0.8935</td><td>4.06</td><td>0.2748</td><td>0.0028</td><td>17.0</td><td>0</td><td>good</td></tr>\n",
       "<tr><td>2</td><td>sn91T</td><td>Ia-91T</td><td>0.5672</td><td>3.6</td><td>0.7146</td><td>0.0144</td><td>-9.48</td><td>0</td><td>bad</td></tr>\n",
       "<tr><td>3</td><td>sn1999gp</td><td>Ia-91T</td><td>0.6904</td><td>3.56</td><td>0.9549</td><td>0.0165</td><td>0.0</td><td>0</td><td>bad</td></tr>\n",
       "<tr><td>4</td><td>sn04aw</td><td>Ic-norm</td><td>0.6769</td><td>3.49</td><td>0.9711</td><td>0.0172</td><td>-5.2</td><td>0</td><td>bad</td></tr>\n",
       "<tr><td>5</td><td>sn2009mg</td><td>IIb</td><td>0.5442</td><td>3.49</td><td>0.3455</td><td>0.0131</td><td>11.9</td><td>0</td><td>bad</td></tr>\n",
       "</table>"
      ],
      "text/plain": [
       "<Table length=5>\n",
       "  no     sn      type    lap     rlap     z      zerr    age   age_flag grade\n",
       "int64  str12     str7  float64 float64 float64 float64 float64  int64    str4\n",
       "----- -------- ------- ------- ------- ------- ------- ------- -------- -----\n",
       "    1    sn88a II-norm  0.8935    4.06  0.2748  0.0028    17.0        0  good\n",
       "    2    sn91T  Ia-91T  0.5672     3.6  0.7146  0.0144   -9.48        0   bad\n",
       "    3 sn1999gp  Ia-91T  0.6904    3.56  0.9549  0.0165     0.0        0   bad\n",
       "    4   sn04aw Ic-norm  0.6769    3.49  0.9711  0.0172    -5.2        0   bad\n",
       "    5 sn2009mg     IIb  0.5442    3.49  0.3455  0.0131    11.9        0   bad"
      ]
     },
     "execution_count": 122,
     "metadata": {},
     "output_type": "execute_result"
    }
   ],
   "source": [
    "Top5"
   ]
  },
  {
   "cell_type": "code",
   "execution_count": 10,
   "metadata": {},
   "outputs": [
    {
     "name": "stdout",
     "output_type": "stream",
     "text": [
      "100\n",
      "200\n",
      "300\n",
      "400\n",
      "500\n",
      "600\n",
      "700\n",
      "800\n",
      "900\n",
      "1000\n",
      "1100\n",
      "1200\n",
      "1300\n",
      "1400\n",
      "1500\n",
      "1600\n",
      "1700\n",
      "1800\n",
      "1900\n"
     ]
    }
   ],
   "source": [
    "ZTable_best = Table(\n",
    "                    names=(\"Version\", \"ZTF_Name\",\n",
    "                           \"z_sntemplate\", \"z_rlap\", \"z_snid\", \"z_snid_err\", \"z_level\"\n",
    "                           , \"rank_1\", \"sntemplate_1\", \"rlap_1\", \"c_snid_1\", \"z_snid_1\", \"z_snid_err_1\", \"age_1\", \"age_flag_1\"\n",
    "                           , \"rank_2\", \"sntemplate_2\", \"rlap_2\", \"c_snid_2\", \"z_snid_2\", \"z_snid_err_2\", \"age_2\", \"age_flag_2\"\n",
    "                           , \"rank_3\", \"sntemplate_3\", \"rlap_3\", \"c_snid_3\", \"z_snid_3\", \"z_snid_err_3\", \"age_3\", \"age_flag_3\"\n",
    "                           , \"rank_4\", \"sntemplate_4\", \"rlap_4\", \"c_snid_4\", \"z_snid_4\", \"z_snid_err_4\", \"age_4\", \"age_flag_4\"\n",
    "                           , \"rank_5\", \"sntemplate_5\", \"rlap_5\", \"c_snid_5\", \"z_snid_5\", \"z_snid_err_5\", \"age_5\", \"age_flag_5\"\n",
    "                    ),\n",
    "                    meta={\"name\": \"Redscore Results\"},\n",
    "                    dtype=(\"U64\", \"U64\",\n",
    "                           \"U64\", \"float64\", \"float64\", \"float64\", \"int32\",\n",
    "                            \"int32\", \"U64\", \"float64\", \"U64\", \"float64\", \"float64\", \"float64\", \"int32\",\n",
    "                            \"int32\", \"U64\", \"float64\", \"U64\", \"float64\", \"float64\", \"float64\", \"int32\",\n",
    "                            \"int32\", \"U64\", \"float64\", \"U64\", \"float64\", \"float64\", \"float64\", \"int32\",\n",
    "                            \"int32\", \"U64\", \"float64\", \"U64\", \"float64\", \"float64\", \"float64\", \"int32\",\n",
    "                            \"int32\", \"U64\", \"float64\", \"U64\", \"float64\", \"float64\", \"float64\", \"int32\",\n",
    "                          )\n",
    "                    )\n",
    "\n",
    "count = 0\n",
    "\n",
    "for j in snidoutput:\n",
    "    j[1] = copy.deepcopy(j[1][0:100])\n",
    "    nocopys = []\n",
    "    for linenum in range(len(j[1])):\n",
    "        name = j[1][linenum][\"sn\"].split('sn')[-1].split('_b')[0]\n",
    "        for i in range(linenum, len(j[1])):\n",
    "            other_name = j[1][i][\"sn\"].split('sn')[-1].split('_b')[0]\n",
    "            if(((linenum != i) and ((name in other_name) or (other_name in name)) and (np.abs(j[1][linenum][\"age\"] - j[1][i][\"age\"]) < 3))):\n",
    "                nocopys.append(i)\n",
    "    mocopys_unique = listComplementElements(list(range(len(j[1]))),np.unique(nocopys))\n",
    "    j[1] = j[1][mocopys_unique]\n",
    "\n",
    "    Top50 = copy.deepcopy(j[1][0:50])\n",
    "    Top5 = copy.deepcopy(Top50[0:5])\n",
    "    types = np.unique(Top50[\"type\"])\n",
    "    top5Types = np.unique(Top5[\"type\"])\n",
    "\n",
    "    row = []\n",
    "    row.append(j[0] + \".ascii\")\n",
    "    row.append(j[0].split(\"_\")[0])\n",
    "\n",
    "    good = j[1][np.where(j[1][\"grade\"] == \"good\")]\n",
    "    if(\"SLSN\" in str(j[1][0][\"type\"])):\n",
    "        good = good[np.where(good[\"z\"] <= .5)]\n",
    "    else:\n",
    "        good = good[np.where(good[\"z\"] <= .2)]\n",
    "    if(len(good) != 0):\n",
    "        row.append(good[0][\"sn\"])\n",
    "        row.append(good[0][\"rlap\"])\n",
    "        row.append(float(good[0][\"z\"]))\n",
    "        row.append(float(good[0][\"zerr\"]))\n",
    "        row.append(1)\n",
    "    else:\n",
    "        row.append(j[1][0][\"sn\"])\n",
    "        row.append(j[1][0][\"rlap\"])\n",
    "        row.append(float(j[1][0][\"z\"]))\n",
    "        row.append(float(j[1][0][\"zerr\"]))\n",
    "        row.append(0)\n",
    "\n",
    "    if(len(top5Types) >= 3):\n",
    "        for i in Top5:\n",
    "            row.append(i[\"no\"])\n",
    "            row.append(i[\"sn\"])\n",
    "            row.append(i[\"rlap\"])\n",
    "            row.append(i[\"type\"])\n",
    "            row.append(i[\"z\"])\n",
    "            row.append(i[\"zerr\"])\n",
    "            row.append(i[\"age\"])\n",
    "            row.append(i[\"age_flag\"])\n",
    "    elif(len(top5Types) == 2):\n",
    "        if(len(types) == 2):\n",
    "            for i in Top5:\n",
    "                row.append(i[\"no\"])\n",
    "                row.append(i[\"sn\"])\n",
    "                row.append(i[\"rlap\"])\n",
    "                row.append(i[\"type\"])\n",
    "                row.append(i[\"z\"])\n",
    "                row.append(i[\"zerr\"])\n",
    "                row.append(i[\"age\"])\n",
    "                row.append(i[\"age_flag\"])\n",
    "        else:\n",
    "            newType = -1\n",
    "            for i in range(len(Top50)):\n",
    "                line = Top50[i]\n",
    "                if(line[\"type\"] not in top5Types):\n",
    "                    newType = i\n",
    "                    break\n",
    "            for i in range(len(Top5)-1,-1,-1):\n",
    "                line = Top5[i]\n",
    "                unique = list(Top5[\"type\"]).count(line[\"type\"])\n",
    "                if(unique > 1):\n",
    "                    Top5[i] = Top50[newType]\n",
    "                    break\n",
    "            Top5.sort(\"no\")\n",
    "            for i in Top5:\n",
    "                row.append(i[\"no\"])\n",
    "                row.append(i[\"sn\"])\n",
    "                row.append(i[\"rlap\"])\n",
    "                row.append(i[\"type\"])\n",
    "                row.append(i[\"z\"])\n",
    "                row.append(i[\"zerr\"])\n",
    "                row.append(i[\"age\"])\n",
    "                row.append(i[\"age_flag\"])\n",
    "    elif(len(top5Types) == 1):\n",
    "        if(len(types) == 1):\n",
    "            for i in Top5:\n",
    "                row.append(i[\"no\"])\n",
    "                row.append(i[\"sn\"])\n",
    "                row.append(i[\"rlap\"])\n",
    "                row.append(i[\"type\"])\n",
    "                row.append(i[\"z\"])\n",
    "                row.append(i[\"zerr\"])\n",
    "                row.append(i[\"age\"])\n",
    "                row.append(i[\"age_flag\"])\n",
    "        else:\n",
    "            for k in range(4,2,-1):\n",
    "                top5Types = np.unique(Top5[\"type\"])\n",
    "                for i in Top50:\n",
    "                    if(i[\"type\"] not in top5Types):\n",
    "                        Top5[k] = i\n",
    "                        break\n",
    "            Top5.sort(\"no\")\n",
    "            for i in Top5:\n",
    "                row.append(i[\"no\"])\n",
    "                row.append(i[\"sn\"])\n",
    "                row.append(i[\"rlap\"])\n",
    "                row.append(i[\"type\"])\n",
    "                row.append(i[\"z\"])\n",
    "                row.append(i[\"zerr\"])\n",
    "                row.append(i[\"age\"])\n",
    "                row.append(i[\"age_flag\"])\n",
    "    try:\n",
    "        ZTable_best.add_row(row)\n",
    "    except ValueError:\n",
    "        print(j[0])\n",
    "    count += 1\n",
    "    if(count % 100 == 0):\n",
    "        print(count)"
   ]
  },
  {
   "cell_type": "code",
   "execution_count": 177,
   "metadata": {},
   "outputs": [
    {
     "data": {
      "text/html": [
       "<i>Row index=7</i>\n",
       "<table id=\"table140064556336336\">\n",
       "<thead><tr><th>Version</th><th>ZTF_Name</th><th>z_sntemplate</th><th>z_rlap</th><th>z_snid</th><th>z_snid_err</th><th>z_level</th><th>rank_1</th><th>sntemplate_1</th><th>rlap_1</th><th>c_snid_1</th><th>z_snid_1</th><th>z_snid_err_1</th><th>age_1</th><th>age_flag_1</th><th>rank_2</th><th>sntemplate_2</th><th>rlap_2</th><th>c_snid_2</th><th>z_snid_2</th><th>z_snid_err_2</th><th>age_2</th><th>age_flag_2</th><th>rank_3</th><th>sntemplate_3</th><th>rlap_3</th><th>c_snid_3</th><th>z_snid_3</th><th>z_snid_err_3</th><th>age_3</th><th>age_flag_3</th><th>rank_4</th><th>sntemplate_4</th><th>rlap_4</th><th>c_snid_4</th><th>z_snid_4</th><th>z_snid_err_4</th><th>age_4</th><th>age_flag_4</th><th>rank_5</th><th>sntemplate_5</th><th>rlap_5</th><th>c_snid_5</th><th>z_snid_5</th><th>z_snid_err_5</th><th>age_5</th><th>age_flag_5</th></tr></thead>\n",
       "<thead><tr><th>str64</th><th>str64</th><th>str64</th><th>float64</th><th>float64</th><th>float64</th><th>int32</th><th>int32</th><th>str64</th><th>float64</th><th>str64</th><th>float64</th><th>float64</th><th>float64</th><th>int32</th><th>int32</th><th>str64</th><th>float64</th><th>str64</th><th>float64</th><th>float64</th><th>float64</th><th>int32</th><th>int32</th><th>str64</th><th>float64</th><th>str64</th><th>float64</th><th>float64</th><th>float64</th><th>int32</th><th>int32</th><th>str64</th><th>float64</th><th>str64</th><th>float64</th><th>float64</th><th>float64</th><th>int32</th><th>int32</th><th>str64</th><th>float64</th><th>str64</th><th>float64</th><th>float64</th><th>float64</th><th>int32</th></tr></thead>\n",
       "<tr><td>ZTF17aaawgkc_20180822_P60_v1.ascii</td><td>ZTF17aaawgkc</td><td>sn1995F</td><td>5.91</td><td>0.2735</td><td>0.0108</td><td>0</td><td>1</td><td>sn1995F</td><td>5.91</td><td>Ic-norm</td><td>0.2735</td><td>0.0108</td><td>88.8</td><td>1</td><td>3</td><td>sn93J</td><td>5.88</td><td>IIb</td><td>0.2642</td><td>0.0078</td><td>102.0</td><td>0</td><td>7</td><td>sn2008aq</td><td>5.64</td><td>IIb</td><td>0.2654</td><td>0.0075</td><td>101.0</td><td>1</td><td>12</td><td>sn2005az</td><td>5.42</td><td>Ic-norm</td><td>0.27</td><td>0.0098</td><td>87.3</td><td>0</td><td>16</td><td>sn2008D</td><td>5.24</td><td>Ib-norm</td><td>0.2808</td><td>0.0133</td><td>63.9</td><td>0</td></tr>\n",
       "</table>"
      ],
      "text/plain": [
       "<Row index=7>\n",
       "             Version                 ZTF_Name   z_sntemplate  z_rlap  z_snid z_snid_err z_level rank_1 sntemplate_1  rlap_1 c_snid_1 z_snid_1 z_snid_err_1  age_1  age_flag_1 rank_2 sntemplate_2  rlap_2 c_snid_2 z_snid_2 z_snid_err_2  age_2  age_flag_2 rank_3 sntemplate_3  rlap_3 c_snid_3 z_snid_3 z_snid_err_3  age_3  age_flag_3 rank_4 sntemplate_4  rlap_4 c_snid_4 z_snid_4 z_snid_err_4  age_4  age_flag_4 rank_5 sntemplate_5  rlap_5 c_snid_5 z_snid_5 z_snid_err_5  age_5  age_flag_5\n",
       "              str64                   str64        str64     float64 float64  float64    int32  int32     str64     float64  str64   float64    float64    float64   int32    int32     str64     float64  str64   float64    float64    float64   int32    int32     str64     float64  str64   float64    float64    float64   int32    int32     str64     float64  str64   float64    float64    float64   int32    int32     str64     float64  str64   float64    float64    float64   int32   \n",
       "---------------------------------- ------------ ------------ ------- ------- ---------- ------- ------ ------------ ------- -------- -------- ------------ ------- ---------- ------ ------------ ------- -------- -------- ------------ ------- ---------- ------ ------------ ------- -------- -------- ------------ ------- ---------- ------ ------------ ------- -------- -------- ------------ ------- ---------- ------ ------------ ------- -------- -------- ------------ ------- ----------\n",
       "ZTF17aaawgkc_20180822_P60_v1.ascii ZTF17aaawgkc      sn1995F    5.91  0.2735     0.0108       0      1      sn1995F    5.91  Ic-norm   0.2735       0.0108    88.8          1      3        sn93J    5.88      IIb   0.2642       0.0078   102.0          0      7     sn2008aq    5.64      IIb   0.2654       0.0075   101.0          1     12     sn2005az    5.42  Ic-norm     0.27       0.0098    87.3          0     16      sn2008D    5.24  Ib-norm   0.2808       0.0133    63.9          0"
      ]
     },
     "execution_count": 177,
     "metadata": {},
     "output_type": "execute_result"
    }
   ],
   "source": [
    "ZTable_best[7]"
   ]
  },
  {
   "cell_type": "code",
   "execution_count": 180,
   "metadata": {},
   "outputs": [
    {
     "data": {
      "text/html": [
       "<i>Table length=1</i>\n",
       "<table id=\"table140064582759376\" class=\"table-striped table-bordered table-condensed\">\n",
       "<thead><tr><th>Version</th><th>ZTF_Name</th><th>z_sntemplate</th><th>z_rlap</th><th>z_snid</th><th>z_snid_err</th><th>z_level</th><th>rank_1</th><th>sntemplate_1</th><th>rlap_1</th><th>c_snid_1</th><th>z_snid_1</th><th>z_snid_err_1</th><th>age_1</th><th>age_flag_1</th><th>rank_2</th><th>sntemplate_2</th><th>rlap_2</th><th>c_snid_2</th><th>z_snid_2</th><th>z_snid_err_2</th><th>age_2</th><th>age_flag_2</th><th>rank_3</th><th>sntemplate_3</th><th>rlap_3</th><th>c_snid_3</th><th>z_snid_3</th><th>z_snid_err_3</th><th>age_3</th><th>age_flag_3</th><th>rank_4</th><th>sntemplate_4</th><th>rlap_4</th><th>c_snid_4</th><th>z_snid_4</th><th>z_snid_err_4</th><th>age_4</th><th>age_flag_4</th><th>rank_5</th><th>sntemplate_5</th><th>rlap_5</th><th>c_snid_5</th><th>z_snid_5</th><th>z_snid_err_5</th><th>age_5</th><th>age_flag_5</th></tr></thead>\n",
       "<thead><tr><th>str64</th><th>str64</th><th>str64</th><th>float64</th><th>float64</th><th>float64</th><th>int32</th><th>int32</th><th>str64</th><th>float64</th><th>str64</th><th>float64</th><th>float64</th><th>float64</th><th>int32</th><th>int32</th><th>str64</th><th>float64</th><th>str64</th><th>float64</th><th>float64</th><th>float64</th><th>int32</th><th>int32</th><th>str64</th><th>float64</th><th>str64</th><th>float64</th><th>float64</th><th>float64</th><th>int32</th><th>int32</th><th>str64</th><th>float64</th><th>str64</th><th>float64</th><th>float64</th><th>float64</th><th>int32</th><th>int32</th><th>str64</th><th>float64</th><th>str64</th><th>float64</th><th>float64</th><th>float64</th><th>int32</th></tr></thead>\n",
       "<tr><td>ZTF18aahjaxz_20180421_P60_v2.ascii</td><td>ZTF18aahjaxz</td><td>sn2003Y</td><td>6.84</td><td>0.0631</td><td>0.0088</td><td>1</td><td>1</td><td>sn91bg</td><td>6.98</td><td>Ia-91bg</td><td>0.0445</td><td>0.0075</td><td>2.5</td><td>0</td><td>3</td><td>sn2003Y</td><td>6.84</td><td>Ia-91bg</td><td>0.0631</td><td>0.0088</td><td>-6.3</td><td>0</td><td>4</td><td>sn05ke</td><td>6.4</td><td>Ia-91bg</td><td>0.0418</td><td>0.0093</td><td>7.82</td><td>0</td><td>5</td><td>sn1984A</td><td>6.28</td><td>Ia-norm</td><td>0.0683</td><td>0.0085</td><td>-7.0</td><td>0</td><td>7</td><td>sn2011ke</td><td>5.67</td><td>Ic-SLSN</td><td>0.0467</td><td>0.0114</td><td>30.62</td><td>0</td></tr>\n",
       "</table>"
      ],
      "text/plain": [
       "<Table length=1>\n",
       "             Version                 ZTF_Name   ...  age_5  age_flag_5\n",
       "              str64                   str64     ... float64   int32   \n",
       "---------------------------------- ------------ ... ------- ----------\n",
       "ZTF18aahjaxz_20180421_P60_v2.ascii ZTF18aahjaxz ...   30.62          0"
      ]
     },
     "execution_count": 180,
     "metadata": {},
     "output_type": "execute_result"
    }
   ],
   "source": [
    "ZTable_best[np.where(ZTable_best[\"Version\"] == \"ZTF18aahjaxz_20180421_P60_v2.ascii\")]"
   ]
  },
  {
   "cell_type": "code",
   "execution_count": 11,
   "metadata": {},
   "outputs": [],
   "source": [
    "ZTable_best.to_pandas().to_csv(\"/home/xhall/Documents/ZTFI/SNID_2020_remaining_output.csv\", index = False)"
   ]
  },
  {
   "cell_type": "code",
   "execution_count": 142,
   "metadata": {},
   "outputs": [
    {
     "data": {
      "text/plain": [
       "(array([134]),)"
      ]
     },
     "execution_count": 142,
     "metadata": {},
     "output_type": "execute_result"
    }
   ],
   "source": [
    "np.where(ZTable_best[\"Version\"] == \"ZTF18aahfxnn_20180410_P200_v1.ascii\")"
   ]
  },
  {
   "cell_type": "code",
   "execution_count": 152,
   "metadata": {},
   "outputs": [
    {
     "data": {
      "text/html": [
       "<i>Row index=0</i>\n",
       "<table id=\"table140064763838352\">\n",
       "<thead><tr><th>Version</th><th>ZTF_Name</th><th>z_sntemplate</th><th>z_rlap</th><th>z_snid</th><th>z_snid_err</th><th>z_level</th><th>rank_1</th><th>sntemplate_1</th><th>rlap_1</th><th>c_snid_1</th><th>z_snid_1</th><th>z_snid_err_1</th><th>age_1</th><th>age_flag_1</th><th>rank_2</th><th>sntemplate_2</th><th>rlap_2</th><th>c_snid_2</th><th>z_snid_2</th><th>z_snid_err_2</th><th>age_2</th><th>age_flag_2</th><th>rank_3</th><th>sntemplate_3</th><th>rlap_3</th><th>c_snid_3</th><th>z_snid_3</th><th>z_snid_err_3</th><th>age_3</th><th>age_flag_3</th><th>rank_4</th><th>sntemplate_4</th><th>rlap_4</th><th>c_snid_4</th><th>z_snid_4</th><th>z_snid_err_4</th><th>age_4</th><th>age_flag_4</th><th>rank_5</th><th>sntemplate_5</th><th>rlap_5</th><th>c_snid_5</th><th>z_snid_5</th><th>z_snid_err_5</th><th>age_5</th><th>age_flag_5</th></tr></thead>\n",
       "<thead><tr><th>str64</th><th>str64</th><th>str64</th><th>float64</th><th>float64</th><th>float64</th><th>int32</th><th>int32</th><th>str64</th><th>float64</th><th>str64</th><th>float64</th><th>float64</th><th>float64</th><th>int32</th><th>int32</th><th>str64</th><th>float64</th><th>str64</th><th>float64</th><th>float64</th><th>float64</th><th>int32</th><th>int32</th><th>str64</th><th>float64</th><th>str64</th><th>float64</th><th>float64</th><th>float64</th><th>int32</th><th>int32</th><th>str64</th><th>float64</th><th>str64</th><th>float64</th><th>float64</th><th>float64</th><th>int32</th><th>int32</th><th>str64</th><th>float64</th><th>str64</th><th>float64</th><th>float64</th><th>float64</th><th>int32</th></tr></thead>\n",
       "<tr><td>AT2018hrg_20181103_P60_v1.ascii</td><td>AT2018hrg</td><td>sn2006bp</td><td>5.84</td><td>0.0068</td><td>0.0091</td><td>1</td><td>1</td><td>sn2006bp</td><td>5.84</td><td>II-norm</td><td>0.0068</td><td>0.0091</td><td>4.2</td><td>0</td><td>3</td><td>sn1987A</td><td>5.76</td><td>II-norm</td><td>0.0085</td><td>0.0094</td><td>-78.5</td><td>0</td><td>4</td><td>sn87A</td><td>5.76</td><td>II-norm</td><td>0.0085</td><td>0.0094</td><td>-78.5</td><td>0</td><td>18</td><td>sn1996cb</td><td>5.34</td><td>IIb</td><td>0.0158</td><td>0.0101</td><td>-18.0</td><td>0</td><td>35</td><td>lbv01ac</td><td>5.06</td><td>LBV</td><td>-0.0005</td><td>0.0045</td><td>-99.9</td><td>2</td></tr>\n",
       "</table>"
      ],
      "text/plain": [
       "<Row index=0>\n",
       "            Version              ZTF_Name z_sntemplate  z_rlap  z_snid z_snid_err z_level rank_1 sntemplate_1  rlap_1 c_snid_1 z_snid_1 z_snid_err_1  age_1  age_flag_1 rank_2 sntemplate_2  rlap_2 c_snid_2 z_snid_2 z_snid_err_2  age_2  age_flag_2 rank_3 sntemplate_3  rlap_3 c_snid_3 z_snid_3 z_snid_err_3  age_3  age_flag_3 rank_4 sntemplate_4  rlap_4 c_snid_4 z_snid_4 z_snid_err_4  age_4  age_flag_4 rank_5 sntemplate_5  rlap_5 c_snid_5 z_snid_5 z_snid_err_5  age_5  age_flag_5\n",
       "             str64                str64      str64     float64 float64  float64    int32  int32     str64     float64  str64   float64    float64    float64   int32    int32     str64     float64  str64   float64    float64    float64   int32    int32     str64     float64  str64   float64    float64    float64   int32    int32     str64     float64  str64   float64    float64    float64   int32    int32     str64     float64  str64   float64    float64    float64   int32   \n",
       "------------------------------- --------- ------------ ------- ------- ---------- ------- ------ ------------ ------- -------- -------- ------------ ------- ---------- ------ ------------ ------- -------- -------- ------------ ------- ---------- ------ ------------ ------- -------- -------- ------------ ------- ---------- ------ ------------ ------- -------- -------- ------------ ------- ---------- ------ ------------ ------- -------- -------- ------------ ------- ----------\n",
       "AT2018hrg_20181103_P60_v1.ascii AT2018hrg     sn2006bp    5.84  0.0068     0.0091       1      1     sn2006bp    5.84  II-norm   0.0068       0.0091     4.2          0      3      sn1987A    5.76  II-norm   0.0085       0.0094   -78.5          0      4        sn87A    5.76  II-norm   0.0085       0.0094   -78.5          0     18     sn1996cb    5.34      IIb   0.0158       0.0101   -18.0          0     35      lbv01ac    5.06      LBV  -0.0005       0.0045   -99.9          2"
      ]
     },
     "execution_count": 152,
     "metadata": {},
     "output_type": "execute_result"
    }
   ],
   "source": [
    "ZTable_best[0]"
   ]
  },
  {
   "cell_type": "code",
   "execution_count": 157,
   "metadata": {},
   "outputs": [
    {
     "data": {
      "text/html": [
       "<i>Table length=6419</i>\n",
       "<table id=\"table140064764206736\" class=\"table-striped table-bordered table-condensed\">\n",
       "<thead><tr><th>no</th><th>sn</th><th>type</th><th>lap</th><th>rlap</th><th>z</th><th>zerr</th><th>age</th><th>age_flag</th><th>grade</th></tr></thead>\n",
       "<thead><tr><th>int64</th><th>str12</th><th>str7</th><th>float64</th><th>float64</th><th>float64</th><th>float64</th><th>float64</th><th>int64</th><th>str4</th></tr></thead>\n",
       "<tr><td>1</td><td>sn2006bp</td><td>II-norm</td><td>0.662</td><td>5.84</td><td>0.0068</td><td>0.0091</td><td>4.2</td><td>0</td><td>good</td></tr>\n",
       "<tr><td>2</td><td>sn2006bp</td><td>II-norm</td><td>0.6634</td><td>5.77</td><td>0.0075</td><td>0.0094</td><td>3.3</td><td>0</td><td>good</td></tr>\n",
       "<tr><td>3</td><td>sn1987A</td><td>II-norm</td><td>0.6309</td><td>5.76</td><td>0.0085</td><td>0.0094</td><td>-78.5</td><td>0</td><td>good</td></tr>\n",
       "<tr><td>4</td><td>sn87A</td><td>II-norm</td><td>0.6309</td><td>5.76</td><td>0.0085</td><td>0.0094</td><td>-78.5</td><td>0</td><td>good</td></tr>\n",
       "<tr><td>5</td><td>sn2006bp</td><td>II-norm</td><td>0.6688</td><td>5.71</td><td>0.0064</td><td>0.0092</td><td>7.2</td><td>0</td><td>good</td></tr>\n",
       "<tr><td>6</td><td>sn06bp</td><td>II-norm</td><td>0.6688</td><td>5.71</td><td>0.0064</td><td>0.0092</td><td>7.2</td><td>0</td><td>good</td></tr>\n",
       "<tr><td>7</td><td>sn87A</td><td>II-norm</td><td>0.6431</td><td>5.67</td><td>0.0116</td><td>0.0097</td><td>-79.6</td><td>0</td><td>good</td></tr>\n",
       "<tr><td>8</td><td>sn1987A</td><td>II-norm</td><td>0.6431</td><td>5.66</td><td>0.0117</td><td>0.0097</td><td>-79.6</td><td>0</td><td>good</td></tr>\n",
       "<tr><td>9</td><td>sn87A</td><td>II-norm</td><td>0.6485</td><td>5.6</td><td>0.0152</td><td>0.0103</td><td>-80.5</td><td>0</td><td>good</td></tr>\n",
       "<tr><td>10</td><td>sn1987A</td><td>II-norm</td><td>0.6485</td><td>5.6</td><td>0.0152</td><td>0.0103</td><td>-80.5</td><td>0</td><td>good</td></tr>\n",
       "<tr><td>...</td><td>...</td><td>...</td><td>...</td><td>...</td><td>...</td><td>...</td><td>...</td><td>...</td><td>...</td></tr>\n",
       "<tr><td>6410</td><td>sn1986G</td><td>Ia-91bg</td><td>0.486</td><td>0.52</td><td>0.0717</td><td>0.0328</td><td>22.7</td><td>0</td><td>bad</td></tr>\n",
       "<tr><td>6411</td><td>sn86G</td><td>Ia-91bg</td><td>0.486</td><td>0.52</td><td>0.0717</td><td>0.0328</td><td>23.1</td><td>0</td><td>bad</td></tr>\n",
       "<tr><td>6412</td><td>sn1994M</td><td>Ia-norm</td><td>0.4671</td><td>0.51</td><td>0.1528</td><td>0.0172</td><td>39.8</td><td>0</td><td>bad</td></tr>\n",
       "<tr><td>6413</td><td>sn1981B</td><td>Ia-norm</td><td>0.4955</td><td>0.5</td><td>0.0953</td><td>0.0355</td><td>92.9</td><td>0</td><td>bad</td></tr>\n",
       "<tr><td>6414</td><td>sn1990O</td><td>Ia-norm</td><td>0.5144</td><td>0.5</td><td>0.2864</td><td>0.0266</td><td>19.4</td><td>0</td><td>bad</td></tr>\n",
       "<tr><td>6415</td><td>sn90O</td><td>Ia-norm</td><td>0.5144</td><td>0.5</td><td>0.2864</td><td>0.0266</td><td>19.9</td><td>0</td><td>bad</td></tr>\n",
       "<tr><td>6416</td><td>sn86G</td><td>Ia-91bg</td><td>0.4968</td><td>0.48</td><td>0.2867</td><td>0.025</td><td>22.1</td><td>0</td><td>bad</td></tr>\n",
       "<tr><td>6417</td><td>sn1986G</td><td>Ia-91bg</td><td>0.4968</td><td>0.48</td><td>0.2867</td><td>0.025</td><td>21.7</td><td>0</td><td>bad</td></tr>\n",
       "<tr><td>6418</td><td>sn2003dh</td><td>Ic-BL</td><td>0.509</td><td>0.45</td><td>0.3418</td><td>0.0326</td><td>-7.3</td><td>0</td><td>bad</td></tr>\n",
       "<tr><td>6419</td><td>sn1992ar</td><td>Ic-norm</td><td>0.5063</td><td>0.44</td><td>0.2823</td><td>0.0241</td><td>3.4</td><td>0</td><td>bad</td></tr>\n",
       "</table>"
      ],
      "text/plain": [
       "<Table length=6419>\n",
       "  no     sn      type    lap     rlap     z      zerr    age   age_flag grade\n",
       "int64  str12     str7  float64 float64 float64 float64 float64  int64    str4\n",
       "----- -------- ------- ------- ------- ------- ------- ------- -------- -----\n",
       "    1 sn2006bp II-norm   0.662    5.84  0.0068  0.0091     4.2        0  good\n",
       "    2 sn2006bp II-norm  0.6634    5.77  0.0075  0.0094     3.3        0  good\n",
       "    3  sn1987A II-norm  0.6309    5.76  0.0085  0.0094   -78.5        0  good\n",
       "    4    sn87A II-norm  0.6309    5.76  0.0085  0.0094   -78.5        0  good\n",
       "    5 sn2006bp II-norm  0.6688    5.71  0.0064  0.0092     7.2        0  good\n",
       "    6   sn06bp II-norm  0.6688    5.71  0.0064  0.0092     7.2        0  good\n",
       "    7    sn87A II-norm  0.6431    5.67  0.0116  0.0097   -79.6        0  good\n",
       "    8  sn1987A II-norm  0.6431    5.66  0.0117  0.0097   -79.6        0  good\n",
       "    9    sn87A II-norm  0.6485     5.6  0.0152  0.0103   -80.5        0  good\n",
       "   10  sn1987A II-norm  0.6485     5.6  0.0152  0.0103   -80.5        0  good\n",
       "  ...      ...     ...     ...     ...     ...     ...     ...      ...   ...\n",
       " 6410  sn1986G Ia-91bg   0.486    0.52  0.0717  0.0328    22.7        0   bad\n",
       " 6411    sn86G Ia-91bg   0.486    0.52  0.0717  0.0328    23.1        0   bad\n",
       " 6412  sn1994M Ia-norm  0.4671    0.51  0.1528  0.0172    39.8        0   bad\n",
       " 6413  sn1981B Ia-norm  0.4955     0.5  0.0953  0.0355    92.9        0   bad\n",
       " 6414  sn1990O Ia-norm  0.5144     0.5  0.2864  0.0266    19.4        0   bad\n",
       " 6415    sn90O Ia-norm  0.5144     0.5  0.2864  0.0266    19.9        0   bad\n",
       " 6416    sn86G Ia-91bg  0.4968    0.48  0.2867   0.025    22.1        0   bad\n",
       " 6417  sn1986G Ia-91bg  0.4968    0.48  0.2867   0.025    21.7        0   bad\n",
       " 6418 sn2003dh   Ic-BL   0.509    0.45  0.3418  0.0326    -7.3        0   bad\n",
       " 6419 sn1992ar Ic-norm  0.5063    0.44  0.2823  0.0241     3.4        0   bad"
      ]
     },
     "execution_count": 157,
     "metadata": {},
     "output_type": "execute_result"
    }
   ],
   "source": [
    "snidoutput[0][1]"
   ]
  },
  {
   "cell_type": "code",
   "execution_count": null,
   "metadata": {},
   "outputs": [],
   "source": []
  }
 ],
 "metadata": {
  "kernelspec": {
   "display_name": "Python 3",
   "language": "python",
   "name": "python3"
  },
  "language_info": {
   "codemirror_mode": {
    "name": "ipython",
    "version": 3
   },
   "file_extension": ".py",
   "mimetype": "text/x-python",
   "name": "python",
   "nbconvert_exporter": "python",
   "pygments_lexer": "ipython3",
   "version": "3.7.6"
  }
 },
 "nbformat": 4,
 "nbformat_minor": 4
}
