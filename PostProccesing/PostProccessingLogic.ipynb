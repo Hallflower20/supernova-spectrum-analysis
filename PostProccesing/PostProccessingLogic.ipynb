{
 "cells": [
  {
   "cell_type": "code",
   "execution_count": 63,
   "metadata": {},
   "outputs": [],
   "source": [
    "import os\n",
    "import astropy\n",
    "import numpy as np\n",
    "from astropy.table import Table\n",
    "from astropy.table import Column\n",
    "import glob\n",
    "import matplotlib.pyplot as plt\n",
    "import pandas as pd\n",
    "from collections import Counter\n",
    "from mpl_toolkits.mplot3d import Axes3D\n",
    "import copy"
   ]
  },
  {
   "cell_type": "code",
   "execution_count": 3,
   "metadata": {},
   "outputs": [],
   "source": [
    "sample = Table.read(\"/home/xhall/Documents/NewZTF/ML_sample.ascii\", format = \"ascii\")\n",
    "sample.rename_column('col1', 'ZTF_Name')\n",
    "sample.rename_column('col2', \"Class\")\n",
    "sample.rename_column('col8', \"Version\")"
   ]
  },
  {
   "cell_type": "code",
   "execution_count": 64,
   "metadata": {},
   "outputs": [],
   "source": [
    "snidoutput = np.load(\"//home/xhall/Documents/NewZTF/sample_2020/SNID_2020_output.npy\",allow_pickle=True)"
   ]
  },
  {
   "cell_type": "code",
   "execution_count": 66,
   "metadata": {},
   "outputs": [
    {
     "data": {
      "text/plain": [
       "49"
      ]
     },
     "execution_count": 66,
     "metadata": {},
     "output_type": "execute_result"
    }
   ],
   "source": [
    "ZTable_best = Table(\n",
    "                    names=(\"Version\", \"ZTF_Name\",\n",
    "                           \"z_sntemplate\", \"z_rlap\", \"z_snid\", \"z_snid_err\", \"z_level\"\n",
    "                           , \"rank_1\", \"sntemplate_1\", \"rlap_1\", \"c_snid_1\", \"z_snid_1\", \"z_snid_err_1\", \"age_1\", \"age_flag_1\"\n",
    "                           , \"rank_2\", \"sntemplate_2\", \"rlap_2\", \"c_snid_2\", \"z_snid_2\", \"z_snid_err_2\", \"age_2\", \"age_flag_2\"\n",
    "                           , \"rank_3\", \"sntemplate_3\", \"rlap_3\", \"c_snid_3\", \"z_snid_3\", \"z_snid_err_3\", \"age_3\", \"age_flag_3\"\n",
    "                           , \"rank_4\", \"sntemplate_4\", \"rlap_4\", \"c_snid_4\", \"z_snid_4\", \"z_snid_err_4\", \"age_4\", \"age_flag_4\"\n",
    "                           , \"rank_5\", \"sntemplate_5\", \"rlap_5\", \"c_snid_5\", \"z_snid_5\", \"z_snid_err_5\", \"age_5\", \"age_flag_5\"\n",
    "                    ),\n",
    "                    meta={\"name\": \"Redscore Results\"},\n",
    "                    dtype=(\"U64\", \"U64\",\n",
    "                           \"U64\", \"float64\", \"float64\", \"float64\", \"int32\",\n",
    "                            \"int32\", \"U64\", \"float64\", \"U64\", \"float64\", \"float64\", \"float64\", \"int32\",\n",
    "                            \"int32\", \"U64\", \"float64\", \"U64\", \"float64\", \"float64\", \"float64\", \"int32\",\n",
    "                            \"int32\", \"U64\", \"float64\", \"U64\", \"float64\", \"float64\", \"float64\", \"int32\",\n",
    "                            \"int32\", \"U64\", \"float64\", \"U64\", \"float64\", \"float64\", \"float64\", \"int32\",\n",
    "                            \"int32\", \"U64\", \"float64\", \"U64\", \"float64\", \"float64\", \"float64\", \"int32\",\n",
    "                          )\n",
    "                    )\n",
    "len([\"Version\", \"ZTF_Name\",\n",
    "                           \"z_sntemplate\", \"z_rlap\", \"z_snid\", \"z_snid_err\", \"age\", \"age_flag\", \"z_level\"\n",
    "                           , \"rank_1\", \"sntemplate_1\", \"rlap_1\", \"c_snid_1\", \"z_snid_1\", \"z_snid_err_1\", \"age_1\", \"age_flag_1\"\n",
    "                           , \"rank_2\", \"sntemplate_2\", \"rlap_2\", \"c_snid_2\", \"z_snid_2\", \"z_snid_err_2\", \"age_2\", \"age_flag_2\"\n",
    "                           , \"rank_3\", \"sntemplate_3\", \"rlap_3\", \"c_snid_3\", \"z_snid_3\", \"z_snid_err_3\", \"age_3\", \"age_flag_3\"\n",
    "                           , \"rank_4\", \"sntemplate_4\", \"rlap_4\", \"c_snid_4\", \"z_snid_4\", \"z_snid_err_4\", \"age_4\", \"age_flag_4\"\n",
    "                           , \"rank_5\", \"sntemplate_5\", \"rlap_5\", \"c_snid_5\", \"z_snid_5\", \"z_snid_err_5\", \"age_5\", \"age_flag_5\"])"
   ]
  },
  {
   "cell_type": "code",
   "execution_count": 82,
   "metadata": {},
   "outputs": [
    {
     "ename": "ValueError",
     "evalue": "Mismatch between number of vals and columns",
     "output_type": "error",
     "traceback": [
      "\u001b[0;31m---------------------------------------------------------------------------\u001b[0m",
      "\u001b[0;31mValueError\u001b[0m                                Traceback (most recent call last)",
      "\u001b[0;32m<ipython-input-82-480ba5898900>\u001b[0m in \u001b[0;36m<module>\u001b[0;34m\u001b[0m\n\u001b[1;32m     98\u001b[0m                     \u001b[0mTop5\u001b[0m\u001b[0;34m[\u001b[0m\u001b[0mk\u001b[0m\u001b[0;34m]\u001b[0m \u001b[0;34m=\u001b[0m \u001b[0mi\u001b[0m\u001b[0;34m\u001b[0m\u001b[0;34m\u001b[0m\u001b[0m\n\u001b[1;32m     99\u001b[0m                     \u001b[0;32mbreak\u001b[0m\u001b[0;34m\u001b[0m\u001b[0;34m\u001b[0m\u001b[0m\n\u001b[0;32m--> 100\u001b[0;31m \u001b[0mZTable_best\u001b[0m\u001b[0;34m.\u001b[0m\u001b[0madd_row\u001b[0m\u001b[0;34m(\u001b[0m\u001b[0mrow\u001b[0m\u001b[0;34m)\u001b[0m\u001b[0;34m\u001b[0m\u001b[0;34m\u001b[0m\u001b[0m\n\u001b[0m",
      "\u001b[0;32m~/anaconda3/lib/python3.7/site-packages/astropy/table/table.py\u001b[0m in \u001b[0;36madd_row\u001b[0;34m(self, vals, mask)\u001b[0m\n\u001b[1;32m   2656\u001b[0m              \u001b[0;36m3\u001b[0m   \u001b[0;36m6\u001b[0m   \u001b[0;36m9\u001b[0m\u001b[0;34m\u001b[0m\u001b[0;34m\u001b[0m\u001b[0m\n\u001b[1;32m   2657\u001b[0m         \"\"\"\n\u001b[0;32m-> 2658\u001b[0;31m         \u001b[0mself\u001b[0m\u001b[0;34m.\u001b[0m\u001b[0minsert_row\u001b[0m\u001b[0;34m(\u001b[0m\u001b[0mlen\u001b[0m\u001b[0;34m(\u001b[0m\u001b[0mself\u001b[0m\u001b[0;34m)\u001b[0m\u001b[0;34m,\u001b[0m \u001b[0mvals\u001b[0m\u001b[0;34m,\u001b[0m \u001b[0mmask\u001b[0m\u001b[0;34m)\u001b[0m\u001b[0;34m\u001b[0m\u001b[0;34m\u001b[0m\u001b[0m\n\u001b[0m\u001b[1;32m   2659\u001b[0m \u001b[0;34m\u001b[0m\u001b[0m\n\u001b[1;32m   2660\u001b[0m     \u001b[0;32mdef\u001b[0m \u001b[0minsert_row\u001b[0m\u001b[0;34m(\u001b[0m\u001b[0mself\u001b[0m\u001b[0;34m,\u001b[0m \u001b[0mindex\u001b[0m\u001b[0;34m,\u001b[0m \u001b[0mvals\u001b[0m\u001b[0;34m=\u001b[0m\u001b[0;32mNone\u001b[0m\u001b[0;34m,\u001b[0m \u001b[0mmask\u001b[0m\u001b[0;34m=\u001b[0m\u001b[0;32mNone\u001b[0m\u001b[0;34m)\u001b[0m\u001b[0;34m:\u001b[0m\u001b[0;34m\u001b[0m\u001b[0;34m\u001b[0m\u001b[0m\n",
      "\u001b[0;32m~/anaconda3/lib/python3.7/site-packages/astropy/table/table.py\u001b[0m in \u001b[0;36minsert_row\u001b[0;34m(self, index, vals, mask)\u001b[0m\n\u001b[1;32m   2740\u001b[0m \u001b[0;34m\u001b[0m\u001b[0m\n\u001b[1;32m   2741\u001b[0m             \u001b[0;32mif\u001b[0m \u001b[0mlen\u001b[0m\u001b[0;34m(\u001b[0m\u001b[0mself\u001b[0m\u001b[0;34m.\u001b[0m\u001b[0mcolumns\u001b[0m\u001b[0;34m)\u001b[0m \u001b[0;34m!=\u001b[0m \u001b[0mlen\u001b[0m\u001b[0;34m(\u001b[0m\u001b[0mvals\u001b[0m\u001b[0;34m)\u001b[0m\u001b[0;34m:\u001b[0m\u001b[0;34m\u001b[0m\u001b[0;34m\u001b[0m\u001b[0m\n\u001b[0;32m-> 2742\u001b[0;31m                 \u001b[0;32mraise\u001b[0m \u001b[0mValueError\u001b[0m\u001b[0;34m(\u001b[0m\u001b[0;34m'Mismatch between number of vals and columns'\u001b[0m\u001b[0;34m)\u001b[0m\u001b[0;34m\u001b[0m\u001b[0;34m\u001b[0m\u001b[0m\n\u001b[0m\u001b[1;32m   2743\u001b[0m \u001b[0;34m\u001b[0m\u001b[0m\n\u001b[1;32m   2744\u001b[0m             \u001b[0;32mif\u001b[0m \u001b[0mmask\u001b[0m \u001b[0;32mis\u001b[0m \u001b[0;32mnot\u001b[0m \u001b[0;32mNone\u001b[0m\u001b[0;34m:\u001b[0m\u001b[0;34m\u001b[0m\u001b[0;34m\u001b[0m\u001b[0m\n",
      "\u001b[0;31mValueError\u001b[0m: Mismatch between number of vals and columns"
     ]
    }
   ],
   "source": [
    "j = snidoutput[1]\n",
    "Top50 = copy.deepcopy(j[1][0:50])\n",
    "Top5 = copy.deepcopy(Top50[0:5])\n",
    "types = np.unique(Top50[\"type\"])\n",
    "top5Types = np.unique(Top5[\"type\"])\n",
    "\n",
    "row = []\n",
    "row.append(j[0] + \".ascii\")\n",
    "row.append(j[0].split(\"_\")[0])\n",
    "\n",
    "good = j[1][np.where(j[1][\"grade\"] == \"good\")]\n",
    "if(\"SLSN\" in str(j[1][0][\"type\"])):\n",
    "    good = good[np.where(good[\"z\"] <= .5)]\n",
    "else:\n",
    "    good = good[np.where(good[\"z\"] <= .2)]\n",
    "if(len(good) != 0):\n",
    "    row.append(good[0][\"sn\"])\n",
    "    row.append(good[0][\"rlap\"])\n",
    "    row.append(float(good[0][\"z\"]))\n",
    "    row.append(float(good[0][\"zerr\"]))\n",
    "    row.append(1)\n",
    "else:\n",
    "    row.append(j[1][0][\"sn\"])\n",
    "    row.append(j[1][0][\"rlap\"])\n",
    "    row.append(float(j[1][0][\"z\"]))\n",
    "    row.append(float(j[1][0][\"zerr\"]))\n",
    "    row.append(0)\n",
    "\n",
    "if(len(top5Types) >= 3):\n",
    "    for i in Top5:\n",
    "        row.append(i[\"no\"])\n",
    "        row.append(i[\"sn\"])\n",
    "        row.append(i[\"rlap\"])\n",
    "        row.append(i[\"type\"])\n",
    "        row.append(i[\"z\"])\n",
    "        row.append(i[\"zerr\"])\n",
    "        row.append(i[\"age\"])\n",
    "        row.append(i[\"age_flag\"])\n",
    "elif(len(top5Types) == 2):\n",
    "    if(len(types) == 2):\n",
    "        for i in Top5:\n",
    "            row.append(i[\"no\"])\n",
    "            row.append(i[\"sn\"])\n",
    "            row.append(i[\"rlap\"])\n",
    "            row.append(i[\"type\"])\n",
    "            row.append(i[\"z\"])\n",
    "            row.append(i[\"zerr\"])\n",
    "            row.append(i[\"age\"])\n",
    "            row.append(i[\"age_flag\"])\n",
    "    else:\n",
    "        newType = -1\n",
    "        for i in range(len(Top50)):\n",
    "            line = Top50[i]\n",
    "            if(line[\"type\"] not in top5Types):\n",
    "                newType = i\n",
    "                break\n",
    "        for i in range(len(Top5)-1,-1,-1):\n",
    "            line = Top5[i]\n",
    "            unique = list(Top5[\"type\"]).count(line[\"type\"])\n",
    "            if(unique > 1):\n",
    "                Top5[i] = Top50[newType]\n",
    "                break\n",
    "        Top5.sort(\"no\")\n",
    "        for i in Top5:\n",
    "            row.append(i[\"no\"])\n",
    "            row.append(i[\"sn\"])\n",
    "            row.append(i[\"rlap\"])\n",
    "            row.append(i[\"type\"])\n",
    "            row.append(i[\"z\"])\n",
    "            row.append(i[\"zerr\"])\n",
    "            row.append(i[\"age\"])\n",
    "            row.append(i[\"age_flag\"])\n",
    "elif(len(top5Types) == 1):\n",
    "    if(len(types) == 1):\n",
    "        for i in Top5:\n",
    "            row.append(i[\"no\"])\n",
    "            row.append(i[\"sn\"])\n",
    "            row.append(i[\"rlap\"])\n",
    "            row.append(i[\"type\"])\n",
    "            row.append(i[\"z\"])\n",
    "            row.append(i[\"zerr\"])\n",
    "            row.append(i[\"age\"])\n",
    "            row.append(i[\"age_flag\"])\n",
    "    else:\n",
    "        for k in range(3,5):\n",
    "            top5Types = np.unique(Top5[\"type\"])\n",
    "            for i in Top50:\n",
    "                if(i[\"type\"] not in top5Types):\n",
    "                    Top5[k] = i\n",
    "                    break\n",
    "        for i in Top5:\n",
    "            row.append(i[\"no\"])\n",
    "            row.append(i[\"sn\"])\n",
    "            row.append(i[\"rlap\"])\n",
    "            row.append(i[\"type\"])\n",
    "            row.append(i[\"z\"])\n",
    "            row.append(i[\"zerr\"])\n",
    "            row.append(i[\"age\"])\n",
    "            row.append(i[\"age_flag\"])\n",
    "ZTable_best.add_row(row)"
   ]
  },
  {
   "cell_type": "code",
   "execution_count": 68,
   "metadata": {},
   "outputs": [
    {
     "data": {
      "text/html": [
       "<i>Table length=1</i>\n",
       "<table id=\"table140065079475984\" class=\"table-striped table-bordered table-condensed\">\n",
       "<thead><tr><th>Version</th><th>ZTF_Name</th><th>z_sntemplate</th><th>z_rlap</th><th>z_snid</th><th>z_snid_err</th><th>z_level</th><th>rank_1</th><th>sntemplate_1</th><th>rlap_1</th><th>c_snid_1</th><th>z_snid_1</th><th>z_snid_err_1</th><th>age_1</th><th>age_flag_1</th><th>rank_2</th><th>sntemplate_2</th><th>rlap_2</th><th>c_snid_2</th><th>z_snid_2</th><th>z_snid_err_2</th><th>age_2</th><th>age_flag_2</th><th>rank_3</th><th>sntemplate_3</th><th>rlap_3</th><th>c_snid_3</th><th>z_snid_3</th><th>z_snid_err_3</th><th>age_3</th><th>age_flag_3</th><th>rank_4</th><th>sntemplate_4</th><th>rlap_4</th><th>c_snid_4</th><th>z_snid_4</th><th>z_snid_err_4</th><th>age_4</th><th>age_flag_4</th><th>rank_5</th><th>sntemplate_5</th><th>rlap_5</th><th>c_snid_5</th><th>z_snid_5</th><th>z_snid_err_5</th><th>age_5</th><th>age_flag_5</th></tr></thead>\n",
       "<thead><tr><th>str64</th><th>str64</th><th>str64</th><th>float64</th><th>float64</th><th>float64</th><th>int32</th><th>int32</th><th>str64</th><th>float64</th><th>str64</th><th>float64</th><th>float64</th><th>float64</th><th>int32</th><th>int32</th><th>str64</th><th>float64</th><th>str64</th><th>float64</th><th>float64</th><th>float64</th><th>int32</th><th>int32</th><th>str64</th><th>float64</th><th>str64</th><th>float64</th><th>float64</th><th>float64</th><th>int32</th><th>int32</th><th>str64</th><th>float64</th><th>str64</th><th>float64</th><th>float64</th><th>float64</th><th>int32</th><th>int32</th><th>str64</th><th>float64</th><th>str64</th><th>float64</th><th>float64</th><th>float64</th><th>int32</th></tr></thead>\n",
       "<tr><td>ZTF17aaajnki_20180320_P60_v1.ascii</td><td>ZTF17aaajnki</td><td>kcSB2</td><td>17.99</td><td>-0.0</td><td>0.0015</td><td>1</td><td>1</td><td>kcSB2</td><td>17.99</td><td>Gal</td><td>-0.0</td><td>0.0015</td><td>-99.9</td><td>2</td><td>2</td><td>kcSB1</td><td>17.3</td><td>Gal</td><td>0.0001</td><td>0.0016</td><td>-99.9</td><td>2</td><td>3</td><td>PS1-10bzj</td><td>10.61</td><td>Ic-SLSN</td><td>0.0003</td><td>0.0026</td><td>6.55</td><td>0</td><td>4</td><td>PS1-10bzj</td><td>7.03</td><td>Ic-SLSN</td><td>0.0009</td><td>0.0036</td><td>15.64</td><td>0</td><td>8</td><td>sn07it</td><td>5.28</td><td>II-norm</td><td>0.0007</td><td>0.0051</td><td>191.0</td><td>0</td></tr>\n",
       "</table>"
      ],
      "text/plain": [
       "<Table length=1>\n",
       "             Version                 ZTF_Name   ...  age_5  age_flag_5\n",
       "              str64                   str64     ... float64   int32   \n",
       "---------------------------------- ------------ ... ------- ----------\n",
       "ZTF17aaajnki_20180320_P60_v1.ascii ZTF17aaajnki ...   191.0          0"
      ]
     },
     "execution_count": 68,
     "metadata": {},
     "output_type": "execute_result"
    }
   ],
   "source": [
    "ZTable_best"
   ]
  },
  {
   "cell_type": "code",
   "execution_count": 79,
   "metadata": {},
   "outputs": [
    {
     "name": "stdout",
     "output_type": "stream",
     "text": [
      "3\n",
      "4\n"
     ]
    }
   ],
   "source": [
    "for i in range(3,5,1):\n",
    "    print(i)"
   ]
  },
  {
   "cell_type": "code",
   "execution_count": 47,
   "metadata": {},
   "outputs": [],
   "source": [
    "test = [1,2,3]"
   ]
  },
  {
   "cell_type": "code",
   "execution_count": 50,
   "metadata": {},
   "outputs": [
    {
     "data": {
      "text/plain": [
       "True"
      ]
     },
     "execution_count": 50,
     "metadata": {},
     "output_type": "execute_result"
    }
   ],
   "source": [
    "4 not in test"
   ]
  },
  {
   "cell_type": "code",
   "execution_count": 77,
   "metadata": {},
   "outputs": [
    {
     "data": {
      "text/html": [
       "<i>Table length=3</i>\n",
       "<table id=\"table140065092763984\" class=\"table-striped table-bordered table-condensed\">\n",
       "<thead><tr><th>no</th><th>sn</th><th>type</th><th>lap</th><th>rlap</th><th>z</th><th>zerr</th><th>age</th><th>age_flag</th><th>grade</th></tr></thead>\n",
       "<thead><tr><th>int64</th><th>str12</th><th>str7</th><th>float64</th><th>float64</th><th>float64</th><th>float64</th><th>float64</th><th>int64</th><th>str4</th></tr></thead>\n",
       "<tr><td>1</td><td>kcSB2</td><td>Gal</td><td>0.8786</td><td>17.99</td><td>-0.0</td><td>0.0015</td><td>-99.9</td><td>2</td><td>good</td></tr>\n",
       "<tr><td>2</td><td>kcSB1</td><td>Gal</td><td>0.8786</td><td>17.3</td><td>0.0001</td><td>0.0016</td><td>-99.9</td><td>2</td><td>good</td></tr>\n",
       "<tr><td>3</td><td>PS1-10bzj</td><td>Ic-SLSN</td><td>0.4048</td><td>10.61</td><td>0.0003</td><td>0.0026</td><td>6.55</td><td>0</td><td>good</td></tr>\n",
       "</table>"
      ],
      "text/plain": [
       "<Table length=3>\n",
       "  no      sn      type    lap     rlap     z      zerr    age   age_flag grade\n",
       "int64   str12     str7  float64 float64 float64 float64 float64  int64    str4\n",
       "----- --------- ------- ------- ------- ------- ------- ------- -------- -----\n",
       "    1     kcSB2     Gal  0.8786   17.99    -0.0  0.0015   -99.9        2  good\n",
       "    2     kcSB1     Gal  0.8786    17.3  0.0001  0.0016   -99.9        2  good\n",
       "    3 PS1-10bzj Ic-SLSN  0.4048   10.61  0.0003  0.0026    6.55        0  good"
      ]
     },
     "execution_count": 77,
     "metadata": {},
     "output_type": "execute_result"
    }
   ],
   "source": [
    "Top5[0:3]"
   ]
  },
  {
   "cell_type": "code",
   "execution_count": 75,
   "metadata": {},
   "outputs": [],
   "source": [
    "Top5.sort(\"no\")"
   ]
  },
  {
   "cell_type": "code",
   "execution_count": 73,
   "metadata": {},
   "outputs": [],
   "source": [
    "Top5.reverse()"
   ]
  },
  {
   "cell_type": "code",
   "execution_count": 76,
   "metadata": {},
   "outputs": [
    {
     "data": {
      "text/html": [
       "<i>Table length=5</i>\n",
       "<table id=\"table140065800298704\" class=\"table-striped table-bordered table-condensed\">\n",
       "<thead><tr><th>no</th><th>sn</th><th>type</th><th>lap</th><th>rlap</th><th>z</th><th>zerr</th><th>age</th><th>age_flag</th><th>grade</th></tr></thead>\n",
       "<thead><tr><th>int64</th><th>str12</th><th>str7</th><th>float64</th><th>float64</th><th>float64</th><th>float64</th><th>float64</th><th>int64</th><th>str4</th></tr></thead>\n",
       "<tr><td>1</td><td>kcSB2</td><td>Gal</td><td>0.8786</td><td>17.99</td><td>-0.0</td><td>0.0015</td><td>-99.9</td><td>2</td><td>good</td></tr>\n",
       "<tr><td>2</td><td>kcSB1</td><td>Gal</td><td>0.8786</td><td>17.3</td><td>0.0001</td><td>0.0016</td><td>-99.9</td><td>2</td><td>good</td></tr>\n",
       "<tr><td>3</td><td>PS1-10bzj</td><td>Ic-SLSN</td><td>0.4048</td><td>10.61</td><td>0.0003</td><td>0.0026</td><td>6.55</td><td>0</td><td>good</td></tr>\n",
       "<tr><td>4</td><td>PS1-10bzj</td><td>Ic-SLSN</td><td>0.4792</td><td>7.03</td><td>0.0009</td><td>0.0036</td><td>15.64</td><td>0</td><td>good</td></tr>\n",
       "<tr><td>8</td><td>sn07it</td><td>II-norm</td><td>0.5551</td><td>5.28</td><td>0.0007</td><td>0.0051</td><td>191.0</td><td>0</td><td>good</td></tr>\n",
       "</table>"
      ],
      "text/plain": [
       "<Table length=5>\n",
       "  no      sn      type    lap     rlap     z      zerr    age   age_flag grade\n",
       "int64   str12     str7  float64 float64 float64 float64 float64  int64    str4\n",
       "----- --------- ------- ------- ------- ------- ------- ------- -------- -----\n",
       "    1     kcSB2     Gal  0.8786   17.99    -0.0  0.0015   -99.9        2  good\n",
       "    2     kcSB1     Gal  0.8786    17.3  0.0001  0.0016   -99.9        2  good\n",
       "    3 PS1-10bzj Ic-SLSN  0.4048   10.61  0.0003  0.0026    6.55        0  good\n",
       "    4 PS1-10bzj Ic-SLSN  0.4792    7.03  0.0009  0.0036   15.64        0  good\n",
       "    8    sn07it II-norm  0.5551    5.28  0.0007  0.0051   191.0        0  good"
      ]
     },
     "execution_count": 76,
     "metadata": {},
     "output_type": "execute_result"
    }
   ],
   "source": [
    "Top5"
   ]
  },
  {
   "cell_type": "code",
   "execution_count": 81,
   "metadata": {},
   "outputs": [
    {
     "data": {
      "text/plain": [
       "array(['SN2017iuk_20181204_Keck1_v1',\n",
       "       <Table length=6438>\n",
       "  no     sn      type    lap     rlap     z      zerr    age   age_flag grade\n",
       "int64  str12     str7  float64 float64 float64 float64 float64  int64    str4\n",
       "----- -------- ------- ------- ------- ------- ------- ------- -------- -----\n",
       "    1    kcSB5     Gal  1.1697    5.66  0.0378  0.0028   -99.9        2  good\n",
       "    2    kcSB1     Gal  1.1697    5.43   0.037  0.0028   -99.9        2  good\n",
       "    3    kcSB2     Gal  1.1697    5.11  0.0369   0.003   -99.9        2  good\n",
       "    4    kcSB6     Gal  1.1697    4.83   0.037   0.003   -99.9        2  good\n",
       "    5    kcSB4     Gal  1.1697    4.81  0.0372  0.0031   -99.9        2  good\n",
       "    6     kcSc     Gal  0.9409    4.79  0.0373  0.0031   -99.9        2  good\n",
       "    7   sn98bw   Ic-BL  1.0275    4.35  0.0094  0.0179    15.7        0   bad\n",
       "    8 sn1998bw   Ic-BL  1.0275    4.35  0.0094  0.0177    15.7        0   bad\n",
       "    9     kcS0     Gal  1.1697     4.3   0.694  0.0046   -99.9        2   bad\n",
       "   10    kcSB3     Gal  1.1697    4.22  0.0381  0.0033   -99.9        2  good\n",
       "  ...      ...     ...     ...     ...     ...     ...     ...      ...   ...\n",
       " 6429   sn99di Ib-norm  0.7067    0.75  0.2582  0.0242    30.5        1   bad\n",
       " 6430 sn2004dt Ia-norm  0.7311    0.75  0.1799  0.0454    -9.9        0   bad\n",
       " 6431  sn1990B Ic-norm  0.4576    0.73  0.0433  0.0374    47.4        0  good\n",
       " 6432    sn90B Ic-norm  0.4576    0.73  0.0433  0.0374    47.4        0  good\n",
       " 6433   sn97ef   Ic-BL  0.8597    0.71  0.9717  0.0278   104.8        0   bad\n",
       " 6434 sn1997ef   Ic-BL  0.8597    0.71  0.9716  0.0278   104.8        0   bad\n",
       " 6435 LSQ12dlf Ic-SLSN  0.5023    0.65   0.091  0.0084     8.0        0   bad\n",
       " 6436    sn90K II-norm  0.6119    0.63  0.0744  0.0137   136.2        1   bad\n",
       " 6437  sn1990K II-norm  0.6119    0.62   0.075  0.0137   136.1        1   bad\n",
       " 6438 sn1999em II-norm  0.4522     0.6  0.0161  0.0172   510.9        0   bad],\n",
       "      dtype=object)"
      ]
     },
     "execution_count": 81,
     "metadata": {},
     "output_type": "execute_result"
    }
   ],
   "source": [
    "snidoutput[1]"
   ]
  },
  {
   "cell_type": "code",
   "execution_count": null,
   "metadata": {},
   "outputs": [],
   "source": []
  }
 ],
 "metadata": {
  "kernelspec": {
   "display_name": "Python 3",
   "language": "python",
   "name": "python3"
  },
  "language_info": {
   "codemirror_mode": {
    "name": "ipython",
    "version": 3
   },
   "file_extension": ".py",
   "mimetype": "text/x-python",
   "name": "python",
   "nbconvert_exporter": "python",
   "pygments_lexer": "ipython3",
   "version": "3.7.6"
  }
 },
 "nbformat": 4,
 "nbformat_minor": 4
}
