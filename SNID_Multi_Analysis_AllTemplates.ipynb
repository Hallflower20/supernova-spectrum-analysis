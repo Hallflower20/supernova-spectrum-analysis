{
 "cells": [
  {
   "cell_type": "code",
   "execution_count": 1,
   "metadata": {},
   "outputs": [],
   "source": [
    "import subprocess\n",
    "import shlex\n",
    "import pandas as pd\n",
    "import numpy as np\n",
    "from astropy.table import Table\n",
    "from astropy.table import Column\n",
    "import os\n",
    "import glob2\n",
    "import matplotlib.pyplot as plt\n",
    "from matplotlib.backends.backend_pdf import PdfPages\n",
    "import SNID_Analysis\n",
    "import numpy as np\n",
    "import gc\n",
    "import glob"
   ]
  },
  {
   "cell_type": "code",
   "execution_count": 2,
   "metadata": {},
   "outputs": [],
   "source": [
    "sample = Table.read(\"/home/xhall/Documents/NewZTF/ML_sample.ascii\", format = \"ascii\")"
   ]
  },
  {
   "cell_type": "code",
   "execution_count": 3,
   "metadata": {},
   "outputs": [],
   "source": [
    "sample_location = \"/home/xhall/Documents/NewZTF/spectra/\"\n",
    "source = \"/home/xhall/Documents/NewZTF/SNIDoutput/\"\n",
    "image_output = \"/home/xhall/Documents/NewZTF/Images/\"\n",
    "snid = \"/home/xhall/Documents/SNID/snid-5.0/snid\""
   ]
  },
  {
   "cell_type": "code",
   "execution_count": 4,
   "metadata": {},
   "outputs": [
    {
     "data": {
      "text/plain": [
       "8843"
      ]
     },
     "execution_count": 4,
     "metadata": {},
     "output_type": "execute_result"
    }
   ],
   "source": [
    "np.size(np.unique(sample[\"col8\"]))"
   ]
  },
  {
   "cell_type": "code",
   "execution_count": null,
   "metadata": {},
   "outputs": [
    {
     "name": "stdout",
     "output_type": "stream",
     "text": [
      "0\n"
     ]
    }
   ],
   "source": [
    "error_array = []\n",
    "counter = 0\n",
    "dont_work = 0\n",
    "dont_work_array = []\n",
    "for i in np.unique(sample[\"col8\"]):\n",
    "    gc.collect()\n",
    "    try:\n",
    "        filenoascii = i.split(\".\")[0]\n",
    "\n",
    "        fnamelist = sample_location + str(i)\n",
    "\n",
    "        outputname = str(filenoascii)\n",
    "\n",
    "        sample_location_temp = sample_location + str(filenoascii)\n",
    "\n",
    "        output, error, bashCommand = SNID_Analysis.run_files(sample_location_temp, fnamelist, source, filenoascii)\n",
    "\n",
    "        if(not(\"No template meets\" in str(output)) and not(\"Correlation function is all zero!\" in str(output))):\n",
    "            SNID_Analysis.plot_best_15(sample_location_temp, outputname, source, image_output)\n",
    "            gc.collect()\n",
    "            SNID_Analysis.parse_output(sample_location_temp, source, outputname, filenoascii)\n",
    "            dont_work += 1\n",
    "            dont_work_array.append(filenoascii)\n",
    "        else:\n",
    "            print(i, bashCommand)\n",
    "    except:\n",
    "        print(i, output, bashCommand)\n",
    "\n",
    "    if(counter % 100 == 0):\n",
    "        print(counter)\n",
    "    counter+=1"
   ]
  },
  {
   "cell_type": "code",
   "execution_count": 9,
   "metadata": {},
   "outputs": [
    {
     "name": "stdout",
     "output_type": "stream",
     "text": [
      "ZTF17aaaukqn_20180904_P60_v1.ascii\n",
      "ZTF17aaawgkc_20180822_P60_v1.ascii\n",
      "ZTF17aaazdba_20190309_Gemini_N_v2.ascii\n",
      "ZTF17aaazdba_20190323_Gemini_N_v1.ascii\n",
      "ZTF17aaazdba_20190324_P60_v1.ascii\n",
      "ZTF17aaazdba_20190424_P60_v1.ascii\n",
      "ZTF17aaazdba_20190502_DCT_v1.ascii\n",
      "ZTF17aaazdba_20191023_DCT_v1.ascii\n",
      "ZTF17aabcpcp_20181102_P60_v1.ascii\n",
      "ZTF17aadcbei_20181117_P60_v1.ascii\n",
      "ZTF17aadlxmv_20200123_P60_v1.ascii\n",
      "ZTF18aaaibml_20200219_Keck1_v1.ascii\n",
      "ZTF18aaaokus_20181110_P60_v1.ascii\n",
      "ZTF18aabcvnq_20180604_P60_v1.ascii\n",
      "ZTF18aabfxpw_20181220_P60_v1.ascii\n",
      "ZTF18aabicqe_20181103_P60_v1.ascii\n",
      "ZTF18aabilqu_20180522_P60_v1.ascii\n",
      "ZTF18aabssth_20180309_P60_v1.ascii\n",
      "ZTF18aabtxvd_20180307_P60_v1.ascii\n",
      "ZTF18aabtxvd_20180326_P60_v1.ascii\n",
      "ZTF18aabtxvd_20180419_Gemini_N_v1.ascii\n",
      "ZTF18aabtxvd_20180505_Gemini_N_v1.ascii\n",
      "ZTF18aabvmws_20181110_P60_v1.ascii\n",
      "ZTF18aabvpbb_20180919_P60_v1.ascii\n",
      "ZTF18aabybkt_20180316_P60_v1.ascii\n",
      "ZTF18aadbtae_20190701_P200_v2.ascii\n",
      "ZTF18aadkjmo_20181102_P60_v1.ascii\n",
      "ZTF18aadnqwz_20180831_P60_v1.ascii\n",
      "ZTF18aadzfso_20200208_LT_v1.ascii\n",
      "ZTF18aaenfaa_20180922_P60_v1.ascii\n",
      "ZTF18aaeoiwu_20191019_P60_v1.ascii\n",
      "100\n"
     ]
    }
   ],
   "source": [
    "error_array = []\n",
    "counter = 1\n",
    "dont_work = 0\n",
    "dont_work_array = []\n",
    "for i in np.unique(sample[\"col8\"]):\n",
    "    try:\n",
    "        filenoascii = i.split(\".\")[0]\n",
    "\n",
    "        fnamelist = sample_location + str(i)\n",
    "\n",
    "        outputname = str(filenoascii)\n",
    "\n",
    "        sample_location_temp = sample_location + str(filenoascii)\n",
    "        SNID_Analysis.parse_output(sample_location_temp, source, outputname, filenoascii)\n",
    "    except:\n",
    "        print(i)\n",
    "        dont_work += 1\n",
    "    if(counter % 100 == 0):\n",
    "        print(counter)\n",
    "        break\n",
    "    counter+=1"
   ]
  },
  {
   "cell_type": "code",
   "execution_count": 6,
   "metadata": {},
   "outputs": [
    {
     "data": {
      "text/plain": [
       "3557"
      ]
     },
     "execution_count": 6,
     "metadata": {},
     "output_type": "execute_result"
    }
   ],
   "source": [
    "dont_work"
   ]
  },
  {
   "cell_type": "code",
   "execution_count": null,
   "metadata": {},
   "outputs": [],
   "source": []
  }
 ],
 "metadata": {
  "kernelspec": {
   "display_name": "Python 3",
   "language": "python",
   "name": "python3"
  },
  "language_info": {
   "codemirror_mode": {
    "name": "ipython",
    "version": 3
   },
   "file_extension": ".py",
   "mimetype": "text/x-python",
   "name": "python",
   "nbconvert_exporter": "python",
   "pygments_lexer": "ipython3",
   "version": "3.7.6"
  }
 },
 "nbformat": 4,
 "nbformat_minor": 4
}
