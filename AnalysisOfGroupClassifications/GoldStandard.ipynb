{
 "cells": [
  {
   "cell_type": "code",
   "execution_count": 48,
   "metadata": {},
   "outputs": [],
   "source": [
    "import numpy as np\n",
    "import pandas as pd\n",
    "import glob\n",
    "from astropy.table import Table\n",
    "import matplotlib.pyplot as plt\n",
    "import json \n",
    "import collections\n",
    "import astropy"
   ]
  },
  {
   "cell_type": "code",
   "execution_count": 2,
   "metadata": {},
   "outputs": [],
   "source": [
    "sample = Table.read(\"C:/Users/20xha/Documents/Caltech/Research/superfit/ZTFI_data/sample/SEDM_ML_sample.ascii\", format = \"ascii\")\n",
    "sample.rename_column('col1', 'ZTF_Name')\n",
    "sample.rename_column('col2', \"Class\")\n",
    "sample.rename_column('col3', \"redshift\")\n",
    "sample.rename_column('col8', \"Version\")"
   ]
  },
  {
   "cell_type": "code",
   "execution_count": 27,
   "metadata": {},
   "outputs": [],
   "source": [
    "class_new = Table.from_pandas(pd.read_csv(r'thermonuclear-white-dwarf-classifications2.csv'))"
   ]
  },
  {
   "cell_type": "code",
   "execution_count": 28,
   "metadata": {},
   "outputs": [],
   "source": [
    "classification = class_new[np.where(class_new[\"workflow_version\"] == 98.24)[0]]"
   ]
  },
  {
   "cell_type": "code",
   "execution_count": 29,
   "metadata": {},
   "outputs": [],
   "source": [
    "classifiers = list(classification[\"user_name\"].data)\n",
    "unique_names = np.unique(classifiers)\n",
    "nums = []\n",
    "for i in unique_names:\n",
    "    nums.append(classifiers.count(i))\n",
    "nums = np.asarray(nums)"
   ]
  },
  {
   "cell_type": "code",
   "execution_count": 30,
   "metadata": {},
   "outputs": [
    {
     "data": {
      "text/plain": [
       "<BarContainer object of 17 artists>"
      ]
     },
     "execution_count": 30,
     "metadata": {},
     "output_type": "execute_result"
    },
    {
     "data": {
      "image/png": "[encoded data removed]",
      "text/plain": [
       "<Figure size 2160x720 with 1 Axes>"
      ]
     },
     "metadata": {
      "needs_background": "light"
     },
     "output_type": "display_data"
    }
   ],
   "source": [
    "fig = plt.figure(figsize = (30,10))\n",
    "plt.bar(unique_names, nums)"
   ]
  },
  {
   "cell_type": "code",
   "execution_count": 31,
   "metadata": {},
   "outputs": [
    {
     "name": "stdout",
     "output_type": "stream",
     "text": [
      "0\n",
      "200\n",
      "400\n",
      "600\n",
      "800\n",
      "1000\n"
     ]
    },
    {
     "name": "stderr",
     "output_type": "stream",
     "text": [
      "C:\\Users\\20xha\\anaconda3\\lib\\site-packages\\numpy\\core\\_asarray.py:102: VisibleDeprecationWarning: Creating an ndarray from ragged nested sequences (which is a list-or-tuple of lists-or-tuples-or ndarrays with different lengths or shapes) is deprecated. If you meant to do this, you must specify 'dtype=object' when creating the ndarray.\n",
      "  return array(a, dtype, copy=False, order=order)\n"
     ]
    }
   ],
   "source": [
    "subject_ids_unique = np.unique(classification[\"subject_ids\"])\n",
    "\n",
    "data = []\n",
    "counter = 0\n",
    "for ids in subject_ids_unique:\n",
    "    if(counter % 200 == 0):\n",
    "        print(counter)\n",
    "    counter += 1\n",
    "    lines = np.where(classification[\"subject_ids\"] == ids)[0]\n",
    "    data.append([ids, lines])\n",
    "    \n",
    "data_np = np.asarray(data)"
   ]
  },
  {
   "cell_type": "code",
   "execution_count": 32,
   "metadata": {},
   "outputs": [
    {
     "data": {
      "text/plain": [
       "2"
      ]
     },
     "execution_count": 32,
     "metadata": {},
     "output_type": "execute_result"
    }
   ],
   "source": [
    "data_array = []\n",
    "max_len = 0\n",
    "for i in data_np:\n",
    "    if(len(i[1]) > 1):\n",
    "        if(len(i[1])> max_len):\n",
    "            max_len = len(i[1])\n",
    "        data_array.append([i[0], classification[i[1]]])\n",
    "max_len"
   ]
  },
  {
   "cell_type": "code",
   "execution_count": 43,
   "metadata": {},
   "outputs": [],
   "source": [
    "ResultsTable_Zooniverse = Table(\n",
    "                    names=(\"ZTF_Name\", \"subject_ids\", \"classifier_1\", \"classification_1\", \"best_match_1\", \"classifier_2\", \"classification_2\", \"best_match_2\", \"classifier_3\", \"classification_3\", \"best_match_3\",\n",
    "                           \"classifier_4\", \"classification_4\", \"best_match_4\", \"classifier_5\", \"classification_5\", \"best_match_5\"\n",
    "                    ),\n",
    "                    meta={\"name\": \"Spectrum Results after Zooniverse\"},\n",
    "                    dtype=(\"U64\", \"int32\", \"U64\", \"U64\", \"U64\", \"U64\", \"U64\", \"U64\", \"U64\", \"U64\", \"U64\", \"U64\", \"U64\", \"U64\", \"U64\", \"U64\", \"U64\"\n",
    "                          )\n",
    "                    )\n",
    "for line in data_array:\n",
    "    row = []\n",
    "    data = line[1]\n",
    "    metadata = json.loads(data[0][\"subject_data\"])[str(line[0])]\n",
    "    row.append(metadata[\"ZTF_Name\"])\n",
    "    row.append(line[0])\n",
    "    for i in data:\n",
    "        if(i[\"user_name\"] not in row):\n",
    "            row.append(i[\"user_name\"])\n",
    "            value = json.loads(i[\"annotations\"])[0][\"value\"]\n",
    "            if(value is not None):\n",
    "                given_type = value[0][\"choice\"]\n",
    "                if(given_type == \"NOGOODMATCH\"):\n",
    "                    row.extend([given_type, \"NA\"])\n",
    "                elif(given_type == \"CANNOTBECLASSIFIED\"):\n",
    "                    row.extend([given_type, \"NA\"])\n",
    "                else:\n",
    "                    if(given_type == \"NONSNAGNORCVORGALORETC\"):\n",
    "                        given_type = given_type# + \"-\" + value[0][\"answers\"][\"NOTASNSUBTYPE\"]\n",
    "                    row.append(given_type)\n",
    "                    row.append(value[0][\"answers\"][\"IFSNIDSUPERFITWHICHIMAGEPROVIDESTHEBESTMATCHMARSHAL999\"])\n",
    "    if(len(row) == 8):\n",
    "        row.extend([\"NA\",\"NA\",\"NA\",\"NA\",\"NA\",\"NA\",\"NA\",\"NA\",\"NA\"])\n",
    "    if(len(row) == 11):\n",
    "        row.extend([\"NA\",\"NA\",\"NA\",\"NA\",\"NA\",\"NA\"])\n",
    "    if(len(row) == 14):\n",
    "        row.extend([\"NA\",\"NA\",\"NA\"])\n",
    "    ResultsTable_Zooniverse.add_row(row)"
   ]
  },
  {
   "cell_type": "code",
   "execution_count": 44,
   "metadata": {},
   "outputs": [
    {
     "data": {
      "text/html": [
       "<i>Table length=442</i>\n",
       "<table id=\"table1454163692800\" class=\"table-striped table-bordered table-condensed\">\n",
       "<thead><tr><th>ZTF_Name</th><th>subject_ids</th><th>classifier_1</th><th>classification_1</th><th>best_match_1</th><th>classifier_2</th><th>classification_2</th><th>best_match_2</th><th>classifier_3</th><th>classification_3</th><th>best_match_3</th><th>classifier_4</th><th>classification_4</th><th>best_match_4</th><th>classifier_5</th><th>classification_5</th><th>best_match_5</th></tr></thead>\n",
       "<thead><tr><th>str64</th><th>int32</th><th>str64</th><th>str64</th><th>str64</th><th>str64</th><th>str64</th><th>str64</th><th>str64</th><th>str64</th><th>str64</th><th>str64</th><th>str64</th><th>str64</th><th>str64</th><th>str64</th><th>str64</th></tr></thead>\n",
       "<tr><td>ZTF18abokhip</td><td>68677455</td><td>steveschulze</td><td>CANNOTBECLASSIFIED</td><td>NA</td><td>dperley</td><td>NONSNAGNORCVORGALORETC</td><td>999</td><td>NA</td><td>NA</td><td>NA</td><td>NA</td><td>NA</td><td>NA</td><td>NA</td><td>NA</td><td>NA</td></tr>\n",
       "<tr><td>ZTF18abquyqj</td><td>68677461</td><td>ahreedy</td><td>SNIANORM</td><td>1</td><td>K-Ryan</td><td>SNIANORM</td><td>3</td><td>NA</td><td>NA</td><td>NA</td><td>NA</td><td>NA</td><td>NA</td><td>NA</td><td>NA</td><td>NA</td></tr>\n",
       "<tr><td>ZTF18abrqfjs</td><td>68677464</td><td>iandreoni</td><td>NONSNAGNORCVORGALORETC</td><td>999</td><td>K-Ryan</td><td>NONSNAGNORCVORGALORETC</td><td>999</td><td>NA</td><td>NA</td><td>NA</td><td>NA</td><td>NA</td><td>NA</td><td>NA</td><td>NA</td><td>NA</td></tr>\n",
       "<tr><td>ZTF18absanfq</td><td>68677469</td><td>adamamiller</td><td>NONSNAGNORCVORGALORETC</td><td>999</td><td>dperley</td><td>NONSNAGNORCVORGALORETC</td><td>999</td><td>NA</td><td>NA</td><td>NA</td><td>NA</td><td>NA</td><td>NA</td><td>NA</td><td>NA</td><td>NA</td></tr>\n",
       "<tr><td>ZTF18absjiej</td><td>68677470</td><td>noralinn2</td><td>NONSNAGNORCVORGALORETC</td><td>999</td><td>saberyoung</td><td>NONSNAGNORCVORGALORETC</td><td>999</td><td>NA</td><td>NA</td><td>NA</td><td>NA</td><td>NA</td><td>NA</td><td>NA</td><td>NA</td><td>NA</td></tr>\n",
       "<tr><td>ZTF18abskbng</td><td>68677472</td><td>steveschulze</td><td>NONSNAGNORCVORGALORETC</td><td>999</td><td>saberyoung</td><td>NONSNAGNORCVORGALORETC</td><td>999</td><td>NA</td><td>NA</td><td>NA</td><td>NA</td><td>NA</td><td>NA</td><td>NA</td><td>NA</td><td>NA</td></tr>\n",
       "<tr><td>ZTF18absrcps</td><td>68677477</td><td>noralinn2</td><td>SNIIN</td><td>1</td><td>dperley</td><td>CANNOTBECLASSIFIED</td><td>NA</td><td>NA</td><td>NA</td><td>NA</td><td>NA</td><td>NA</td><td>NA</td><td>NA</td><td>NA</td><td>NA</td></tr>\n",
       "<tr><td>ZTF18abunlhk</td><td>68677505</td><td>saberyoung</td><td>NONSNAGNORCVORGALORETC</td><td>999</td><td>Young-Lo</td><td>NONSNAGNORCVORGALORETC</td><td>1</td><td>NA</td><td>NA</td><td>NA</td><td>NA</td><td>NA</td><td>NA</td><td>NA</td><td>NA</td><td>NA</td></tr>\n",
       "<tr><td>ZTF18abuqkdh</td><td>68677507</td><td>adamamiller</td><td>NONSNAGNORCVORGALORETC</td><td>1</td><td>steveschulze</td><td>NONSNAGNORCVORGALORETC</td><td>1</td><td>NA</td><td>NA</td><td>NA</td><td>NA</td><td>NA</td><td>NA</td><td>NA</td><td>NA</td><td>NA</td></tr>\n",
       "<tr><td>ZTF18abvassm</td><td>68677510</td><td>noralinn2</td><td>NONSNAGNORCVORGALORETC</td><td>999</td><td>dperley</td><td>NONSNAGNORCVORGALORETC</td><td>999</td><td>NA</td><td>NA</td><td>NA</td><td>NA</td><td>NA</td><td>NA</td><td>NA</td><td>NA</td><td>NA</td></tr>\n",
       "<tr><td>...</td><td>...</td><td>...</td><td>...</td><td>...</td><td>...</td><td>...</td><td>...</td><td>...</td><td>...</td><td>...</td><td>...</td><td>...</td><td>...</td><td>...</td><td>...</td><td>...</td></tr>\n",
       "<tr><td>ZTF20abzcokv</td><td>68680009</td><td>saberyoung</td><td>SNIANORM</td><td>1</td><td>tsit</td><td>SNIANORM</td><td>1</td><td>NA</td><td>NA</td><td>NA</td><td>NA</td><td>NA</td><td>NA</td><td>NA</td><td>NA</td><td>NA</td></tr>\n",
       "<tr><td>ZTF20abzcrno</td><td>68680010</td><td>noralinn2</td><td>CANNOTBECLASSIFIED</td><td>NA</td><td>Young-Lo</td><td>CANNOTBECLASSIFIED</td><td>NA</td><td>NA</td><td>NA</td><td>NA</td><td>NA</td><td>NA</td><td>NA</td><td>NA</td><td>NA</td><td>NA</td></tr>\n",
       "<tr><td>ZTF20abzjcdg</td><td>68680021</td><td>noralinn2</td><td>SNIC</td><td>2</td><td>adamamiller</td><td>SNIC</td><td>2</td><td>NA</td><td>NA</td><td>NA</td><td>NA</td><td>NA</td><td>NA</td><td>NA</td><td>NA</td><td>NA</td></tr>\n",
       "<tr><td>ZTF20acajwft</td><td>68680040</td><td>cfremling</td><td>NONSNAGNORCVORGALORETC</td><td>999</td><td>steveschulze</td><td>NONSNAGNORCVORGALORETC</td><td>999</td><td>NA</td><td>NA</td><td>NA</td><td>NA</td><td>NA</td><td>NA</td><td>NA</td><td>NA</td><td>NA</td></tr>\n",
       "<tr><td>ZTF20acbcfaa</td><td>68680043</td><td>cfremling</td><td>SNIIN</td><td>999</td><td>steveschulze</td><td>SNIIN</td><td>999</td><td>NA</td><td>NA</td><td>NA</td><td>NA</td><td>NA</td><td>NA</td><td>NA</td><td>NA</td><td>NA</td></tr>\n",
       "<tr><td>ZTF20acbeanu</td><td>68680046</td><td>saberyoung</td><td>SNIANORM</td><td>1</td><td>Young-Lo</td><td>SNIANORM</td><td>1</td><td>NA</td><td>NA</td><td>NA</td><td>NA</td><td>NA</td><td>NA</td><td>NA</td><td>NA</td><td>NA</td></tr>\n",
       "<tr><td>ZTF21aamqgid</td><td>68680062</td><td>steveschulze</td><td>SNIIB</td><td>999</td><td>saberyoung</td><td>SNIINORM</td><td>999</td><td>NA</td><td>NA</td><td>NA</td><td>NA</td><td>NA</td><td>NA</td><td>NA</td><td>NA</td><td>NA</td></tr>\n",
       "<tr><td>ZTF21aaokvio</td><td>68680064</td><td>steveschulze</td><td>SNIIN</td><td>999</td><td>K-Ryan</td><td>CANNOTBECLASSIFIED</td><td>NA</td><td>NA</td><td>NA</td><td>NA</td><td>NA</td><td>NA</td><td>NA</td><td>NA</td><td>NA</td><td>NA</td></tr>\n",
       "<tr><td>ZTF21aauuybx</td><td>68680075</td><td>noralinn2</td><td>NONSNAGNORCVORGALORETC</td><td>1</td><td>tsit</td><td>NONSNAGNORCVORGALORETC</td><td>999</td><td>NA</td><td>NA</td><td>NA</td><td>NA</td><td>NA</td><td>NA</td><td>NA</td><td>NA</td><td>NA</td></tr>\n",
       "<tr><td>ZTF21aavdqgf</td><td>68680077</td><td>Hallflower20</td><td>SNICSLSN</td><td>1</td><td>steveschulze</td><td>CANNOTBECLASSIFIED</td><td>NA</td><td>NA</td><td>NA</td><td>NA</td><td>NA</td><td>NA</td><td>NA</td><td>NA</td><td>NA</td><td>NA</td></tr>\n",
       "</table>"
      ],
      "text/plain": [
       "<Table length=442>\n",
       "  ZTF_Name   subject_ids classifier_1 ... classification_5 best_match_5\n",
       "   str64        int32       str64     ...      str64          str64    \n",
       "------------ ----------- ------------ ... ---------------- ------------\n",
       "ZTF18abokhip    68677455 steveschulze ...               NA           NA\n",
       "ZTF18abquyqj    68677461      ahreedy ...               NA           NA\n",
       "ZTF18abrqfjs    68677464    iandreoni ...               NA           NA\n",
       "ZTF18absanfq    68677469  adamamiller ...               NA           NA\n",
       "ZTF18absjiej    68677470    noralinn2 ...               NA           NA\n",
       "ZTF18abskbng    68677472 steveschulze ...               NA           NA\n",
       "ZTF18absrcps    68677477    noralinn2 ...               NA           NA\n",
       "ZTF18abunlhk    68677505   saberyoung ...               NA           NA\n",
       "ZTF18abuqkdh    68677507  adamamiller ...               NA           NA\n",
       "ZTF18abvassm    68677510    noralinn2 ...               NA           NA\n",
       "         ...         ...          ... ...              ...          ...\n",
       "ZTF20abzcokv    68680009   saberyoung ...               NA           NA\n",
       "ZTF20abzcrno    68680010    noralinn2 ...               NA           NA\n",
       "ZTF20abzjcdg    68680021    noralinn2 ...               NA           NA\n",
       "ZTF20acajwft    68680040    cfremling ...               NA           NA\n",
       "ZTF20acbcfaa    68680043    cfremling ...               NA           NA\n",
       "ZTF20acbeanu    68680046   saberyoung ...               NA           NA\n",
       "ZTF21aamqgid    68680062 steveschulze ...               NA           NA\n",
       "ZTF21aaokvio    68680064 steveschulze ...               NA           NA\n",
       "ZTF21aauuybx    68680075    noralinn2 ...               NA           NA\n",
       "ZTF21aavdqgf    68680077 Hallflower20 ...               NA           NA"
      ]
     },
     "execution_count": 44,
     "metadata": {},
     "output_type": "execute_result"
    }
   ],
   "source": [
    "ResultsTable_Zooniverse"
   ]
  },
  {
   "cell_type": "code",
   "execution_count": 45,
   "metadata": {},
   "outputs": [],
   "source": [
    "agree = []\n",
    "agree_id = []\n",
    "disagree_id = []\n",
    "counter = 0\n",
    "for i in ResultsTable_Zooniverse:\n",
    "    classes = i[\"classification_1\", \"classification_2\", \"classification_3\", \"classification_4\", \"classification_5\"]\n",
    "    class_list = list(classes)\n",
    "    class_list[:] = [x for x in class_list if x != \"NA\"]\n",
    "    class_list[:] = [x for x in class_list if x != \"NOGOODMATCH\"]\n",
    "    if(len(class_list) > 1):\n",
    "        unique = np.unique(class_list)\n",
    "        if(len(unique) == 1):\n",
    "            agree.append(i[\"ZTF_Name\"])\n",
    "            agree_id.append(counter)\n",
    "        else:\n",
    "            disagree_id.append(counter)\n",
    "    else:\n",
    "        disagree_id.append(counter)\n",
    "    counter += 1"
   ]
  },
  {
   "cell_type": "code",
   "execution_count": 49,
   "metadata": {},
   "outputs": [],
   "source": [
    "joined_table = astropy.table.join(ResultsTable_Zooniverse[agree_id], sample)"
   ]
  },
  {
   "cell_type": "code",
   "execution_count": 54,
   "metadata": {},
   "outputs": [
    {
     "data": {
      "text/html": [
       "<i>Table length=127</i>\n",
       "<table id=\"table1454163743120\" class=\"table-striped table-bordered table-condensed\">\n",
       "<thead><tr><th>ZTF_Name</th><th>subject_ids</th><th>classifier_1</th><th>classification_1</th><th>best_match_1</th><th>classifier_2</th><th>classification_2</th><th>best_match_2</th><th>classifier_3</th><th>classification_3</th><th>best_match_3</th><th>classifier_4</th><th>classification_4</th><th>best_match_4</th><th>classifier_5</th><th>classification_5</th><th>best_match_5</th></tr></thead>\n",
       "<thead><tr><th>str64</th><th>int32</th><th>str64</th><th>str64</th><th>str64</th><th>str64</th><th>str64</th><th>str64</th><th>str64</th><th>str64</th><th>str64</th><th>str64</th><th>str64</th><th>str64</th><th>str64</th><th>str64</th><th>str64</th></tr></thead>\n",
       "<tr><td>ZTF18abokhip</td><td>68677455</td><td>steveschulze</td><td>CANNOTBECLASSIFIED</td><td>NA</td><td>dperley</td><td>NONSNAGNORCVORGALORETC</td><td>999</td><td>NA</td><td>NA</td><td>NA</td><td>NA</td><td>NA</td><td>NA</td><td>NA</td><td>NA</td><td>NA</td></tr>\n",
       "<tr><td>ZTF18absrcps</td><td>68677477</td><td>noralinn2</td><td>SNIIN</td><td>1</td><td>dperley</td><td>CANNOTBECLASSIFIED</td><td>NA</td><td>NA</td><td>NA</td><td>NA</td><td>NA</td><td>NA</td><td>NA</td><td>NA</td><td>NA</td><td>NA</td></tr>\n",
       "<tr><td>ZTF18abwlopg</td><td>68677539</td><td>adamamiller</td><td>SNIANORM</td><td>999</td><td>saberyoung</td><td>SNIA91T</td><td>999</td><td>NA</td><td>NA</td><td>NA</td><td>NA</td><td>NA</td><td>NA</td><td>NA</td><td>NA</td><td>NA</td></tr>\n",
       "<tr><td>ZTF18abxhsyn</td><td>68677546</td><td>saberyoung</td><td>SNIANORM</td><td>999</td><td>Young-Lo</td><td>SNIINORM</td><td>1</td><td>NA</td><td>NA</td><td>NA</td><td>NA</td><td>NA</td><td>NA</td><td>NA</td><td>NA</td><td>NA</td></tr>\n",
       "<tr><td>ZTF18abzrsuh</td><td>68677562</td><td>K-Ryan</td><td>NONSNAGNORCVORGALORETC</td><td>999</td><td>Young-Lo</td><td>CANNOTBECLASSIFIED</td><td>NA</td><td>NA</td><td>NA</td><td>NA</td><td>NA</td><td>NA</td><td>NA</td><td>NA</td><td>NA</td><td>NA</td></tr>\n",
       "<tr><td>ZTF18acbwfza</td><td>68677582</td><td>Young-Lo</td><td>SNIIN</td><td>3</td><td>mrchu</td><td>NONSNAGNORCVORGALORETC</td><td>999</td><td>NA</td><td>NA</td><td>NA</td><td>NA</td><td>NA</td><td>NA</td><td>NA</td><td>NA</td><td>NA</td></tr>\n",
       "<tr><td>ZTF18acdzpgs</td><td>68677601</td><td>saberyoung</td><td>NONSNAGNORCVORGALORETC</td><td>1</td><td>steveschulze</td><td>SNIANORM</td><td>999</td><td>NA</td><td>NA</td><td>NA</td><td>NA</td><td>NA</td><td>NA</td><td>NA</td><td>NA</td><td>NA</td></tr>\n",
       "<tr><td>ZTF18acgqliz</td><td>68677615</td><td>noralinn2</td><td>CANNOTBECLASSIFIED</td><td>NA</td><td>K-Ryan</td><td>NONSNAGNORCVORGALORETC</td><td>999</td><td>NA</td><td>NA</td><td>NA</td><td>NA</td><td>NA</td><td>NA</td><td>NA</td><td>NA</td><td>NA</td></tr>\n",
       "<tr><td>ZTF18achepjg</td><td>68677621</td><td>steveschulze</td><td>CANNOTBECLASSIFIED</td><td>NA</td><td>Young-Lo</td><td>SNIINORM</td><td>1</td><td>NA</td><td>NA</td><td>NA</td><td>NA</td><td>NA</td><td>NA</td><td>NA</td><td>NA</td><td>NA</td></tr>\n",
       "<tr><td>ZTF18aclkdrz</td><td>68677629</td><td>steveschulze</td><td>CANNOTBECLASSIFIED</td><td>NA</td><td>K-Ryan</td><td>SNIIB</td><td>1</td><td>NA</td><td>NA</td><td>NA</td><td>NA</td><td>NA</td><td>NA</td><td>NA</td><td>NA</td><td>NA</td></tr>\n",
       "<tr><td>...</td><td>...</td><td>...</td><td>...</td><td>...</td><td>...</td><td>...</td><td>...</td><td>...</td><td>...</td><td>...</td><td>...</td><td>...</td><td>...</td><td>...</td><td>...</td><td>...</td></tr>\n",
       "<tr><td>ZTF20abglyot</td><td>68679849</td><td>K-Ryan</td><td>SNIA91T</td><td>10</td><td>Young-Lo</td><td>CANNOTBECLASSIFIED</td><td>NA</td><td>NA</td><td>NA</td><td>NA</td><td>NA</td><td>NA</td><td>NA</td><td>NA</td><td>NA</td><td>NA</td></tr>\n",
       "<tr><td>ZTF20abgxwyt</td><td>68679867</td><td>dperley</td><td>NONSNAGNORCVORGALORETC</td><td>999</td><td>K-Ryan</td><td>SNICSLSN</td><td>7</td><td>NA</td><td>NA</td><td>NA</td><td>NA</td><td>NA</td><td>NA</td><td>NA</td><td>NA</td><td>NA</td></tr>\n",
       "<tr><td>ZTF20abjtavx</td><td>68679906</td><td>tsit</td><td>SNIB</td><td>999</td><td>K-Ryan</td><td>SNIIB</td><td>10</td><td>NA</td><td>NA</td><td>NA</td><td>NA</td><td>NA</td><td>NA</td><td>NA</td><td>NA</td><td>NA</td></tr>\n",
       "<tr><td>ZTF20abjwuju</td><td>68679915</td><td>saberyoung</td><td>SNIA91T</td><td>1</td><td>K-Ryan</td><td>SNIANORM</td><td>10</td><td>NA</td><td>NA</td><td>NA</td><td>NA</td><td>NA</td><td>NA</td><td>NA</td><td>NA</td><td>NA</td></tr>\n",
       "<tr><td>ZTF20abjzapi</td><td>68679924</td><td>noralinn2</td><td>CANNOTBECLASSIFIED</td><td>NA</td><td>K-Ryan</td><td>SNIA91T</td><td>1</td><td>NA</td><td>NA</td><td>NA</td><td>NA</td><td>NA</td><td>NA</td><td>NA</td><td>NA</td><td>NA</td></tr>\n",
       "<tr><td>ZTF20abytful</td><td>68679984</td><td>cfremling</td><td>NONSNAGNORCVORGALORETC</td><td>999</td><td>mrchu</td><td>CANNOTBECLASSIFIED</td><td>NA</td><td>NA</td><td>NA</td><td>NA</td><td>NA</td><td>NA</td><td>NA</td><td>NA</td><td>NA</td><td>NA</td></tr>\n",
       "<tr><td>ZTF20abyxogn</td><td>68679995</td><td>K-Ryan</td><td>NONSNAGNORCVORGALORETC</td><td>999</td><td>Young-Lo</td><td>CANNOTBECLASSIFIED</td><td>NA</td><td>NA</td><td>NA</td><td>NA</td><td>NA</td><td>NA</td><td>NA</td><td>NA</td><td>NA</td><td>NA</td></tr>\n",
       "<tr><td>ZTF21aamqgid</td><td>68680062</td><td>steveschulze</td><td>SNIIB</td><td>999</td><td>saberyoung</td><td>SNIINORM</td><td>999</td><td>NA</td><td>NA</td><td>NA</td><td>NA</td><td>NA</td><td>NA</td><td>NA</td><td>NA</td><td>NA</td></tr>\n",
       "<tr><td>ZTF21aaokvio</td><td>68680064</td><td>steveschulze</td><td>SNIIN</td><td>999</td><td>K-Ryan</td><td>CANNOTBECLASSIFIED</td><td>NA</td><td>NA</td><td>NA</td><td>NA</td><td>NA</td><td>NA</td><td>NA</td><td>NA</td><td>NA</td><td>NA</td></tr>\n",
       "<tr><td>ZTF21aavdqgf</td><td>68680077</td><td>Hallflower20</td><td>SNICSLSN</td><td>1</td><td>steveschulze</td><td>CANNOTBECLASSIFIED</td><td>NA</td><td>NA</td><td>NA</td><td>NA</td><td>NA</td><td>NA</td><td>NA</td><td>NA</td><td>NA</td><td>NA</td></tr>\n",
       "</table>"
      ],
      "text/plain": [
       "<Table length=127>\n",
       "  ZTF_Name   subject_ids classifier_1 ... classification_5 best_match_5\n",
       "   str64        int32       str64     ...      str64          str64    \n",
       "------------ ----------- ------------ ... ---------------- ------------\n",
       "ZTF18abokhip    68677455 steveschulze ...               NA           NA\n",
       "ZTF18absrcps    68677477    noralinn2 ...               NA           NA\n",
       "ZTF18abwlopg    68677539  adamamiller ...               NA           NA\n",
       "ZTF18abxhsyn    68677546   saberyoung ...               NA           NA\n",
       "ZTF18abzrsuh    68677562       K-Ryan ...               NA           NA\n",
       "ZTF18acbwfza    68677582     Young-Lo ...               NA           NA\n",
       "ZTF18acdzpgs    68677601   saberyoung ...               NA           NA\n",
       "ZTF18acgqliz    68677615    noralinn2 ...               NA           NA\n",
       "ZTF18achepjg    68677621 steveschulze ...               NA           NA\n",
       "ZTF18aclkdrz    68677629 steveschulze ...               NA           NA\n",
       "         ...         ...          ... ...              ...          ...\n",
       "ZTF20abglyot    68679849       K-Ryan ...               NA           NA\n",
       "ZTF20abgxwyt    68679867      dperley ...               NA           NA\n",
       "ZTF20abjtavx    68679906         tsit ...               NA           NA\n",
       "ZTF20abjwuju    68679915   saberyoung ...               NA           NA\n",
       "ZTF20abjzapi    68679924    noralinn2 ...               NA           NA\n",
       "ZTF20abytful    68679984    cfremling ...               NA           NA\n",
       "ZTF20abyxogn    68679995       K-Ryan ...               NA           NA\n",
       "ZTF21aamqgid    68680062 steveschulze ...               NA           NA\n",
       "ZTF21aaokvio    68680064 steveschulze ...               NA           NA\n",
       "ZTF21aavdqgf    68680077 Hallflower20 ...               NA           NA"
      ]
     },
     "execution_count": 54,
     "metadata": {},
     "output_type": "execute_result"
    }
   ],
   "source": [
    "ResultsTable_Zooniverse[disagree_id]"
   ]
  },
  {
   "cell_type": "code",
   "execution_count": null,
   "metadata": {},
   "outputs": [],
   "source": []
  }
 ],
 "metadata": {
  "kernelspec": {
   "display_name": "Python 3",
   "language": "python",
   "name": "python3"
  },
  "language_info": {
   "codemirror_mode": {
    "name": "ipython",
    "version": 3
   },
   "file_extension": ".py",
   "mimetype": "text/x-python",
   "name": "python",
   "nbconvert_exporter": "python",
   "pygments_lexer": "ipython3",
   "version": "3.8.5"
  }
 },
 "nbformat": 4,
 "nbformat_minor": 4
}
