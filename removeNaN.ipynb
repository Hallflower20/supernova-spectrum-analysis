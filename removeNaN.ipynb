{
 "cells": [
  {
   "cell_type": "code",
   "execution_count": 1,
   "metadata": {},
   "outputs": [],
   "source": [
    "import subprocess\n",
    "import shlex\n",
    "import pandas as pd\n",
    "import numpy as np\n",
    "from astropy.table import Table\n",
    "from astropy.table import Column\n",
    "import astropy\n",
    "import os\n",
    "import glob2\n",
    "import matplotlib.pyplot as plt\n",
    "from matplotlib.backends.backend_pdf import PdfPages"
   ]
  },
  {
   "cell_type": "code",
   "execution_count": 2,
   "metadata": {},
   "outputs": [],
   "source": [
    "sample_location = \"/home/xhall/Documents/NewZTF/spectra/\"\n",
    "new_sample_location = \"/home/xhall/Documents/NewZTF/spectra_nonan/\"\n",
    "source = \"/home/xhall/Documents/NewZTF/SNIDoutput/\"\n",
    "image_output = \"/home/xhall/Documents/NewZTF/Images/\"\n",
    "snid = \"/home/xhall/Documents/SNID/snid-5.0/snid\""
   ]
  },
  {
   "cell_type": "code",
   "execution_count": 3,
   "metadata": {},
   "outputs": [],
   "source": [
    "sample = Table.read(\"/home/xhall/Documents/NewZTF/ML_sample.ascii\", format = \"ascii\")"
   ]
  },
  {
   "cell_type": "code",
   "execution_count": 4,
   "metadata": {},
   "outputs": [
    {
     "name": "stdout",
     "output_type": "stream",
     "text": [
      "ZTF18abcfdzu_20181229_NOT_v1.ascii\n",
      "ZTF18acbwaxk_20190110_NOT_v1.ascii\n",
      "ZTF18aceqrrs_20190227_NOT_v1.ascii\n",
      "ZTF18acsjrbc_20190102_NOT_v1.ascii\n",
      "ZTF19aafmyow_20190816_NOT_v1.ascii\n",
      "ZTF19aapfmki_20190511_NOT_v1.ascii\n",
      "ZTF19abdoior_20190815_NOT_v1.ascii\n",
      "ZTF19abucwzt_20200127_NOT_v1.ascii\n",
      "ZTF20aaelulu_20200114_NOT_v1.ascii\n",
      "ZTF20aalrqbu_20200506_NOT_v1.ascii\n"
     ]
    }
   ],
   "source": [
    "for i in np.unique(sample[\"col8\"]):\n",
    "    try:\n",
    "        spectra = Table.from_pandas(Table.read(sample_location + str(i), format = \"ascii\").to_pandas().dropna())\n",
    "        astropy.io.ascii.write(spectra, new_sample_location + str(i), overwrite=True, format = \"no_header\")\n",
    "    except:\n",
    "        print(i)"
   ]
  },
  {
   "cell_type": "code",
   "execution_count": null,
   "metadata": {},
   "outputs": [],
   "source": []
  }
 ],
 "metadata": {
  "kernelspec": {
   "display_name": "Python 3",
   "language": "python",
   "name": "python3"
  },
  "language_info": {
   "codemirror_mode": {
    "name": "ipython",
    "version": 3
   },
   "file_extension": ".py",
   "mimetype": "text/x-python",
   "name": "python",
   "nbconvert_exporter": "python",
   "pygments_lexer": "ipython3",
   "version": "3.7.6"
  }
 },
 "nbformat": 4,
 "nbformat_minor": 4
}
