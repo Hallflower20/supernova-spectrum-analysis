{
 "cells": [
  {
   "cell_type": "code",
   "execution_count": 1,
   "metadata": {},
   "outputs": [],
   "source": [
    "# import subprocess\n",
    "import shlex\n",
    "import pandas as pd\n",
    "import numpy as np\n",
    "from astropy.table import Table\n",
    "from astropy.table import Column\n",
    "import astropy\n",
    "import os\n",
    "import glob2\n",
    "import matplotlib.pyplot as plt\n",
    "from matplotlib.backends.backend_pdf import PdfPages"
   ]
  },
  {
   "cell_type": "code",
   "execution_count": 2,
   "metadata": {},
   "outputs": [],
   "source": [
    "sample_location = \"/home/xhall/Documents/ZTFI/sample/spectra/\"\n",
    "new_sample_location = \"/home/xhall/Documents/ZTFI/sample_nonan/\""
   ]
  },
  {
   "cell_type": "code",
   "execution_count": 3,
   "metadata": {},
   "outputs": [],
   "source": [
    "sample = Table.read(\"/home/xhall/Documents/ZTFI/sample/SEDM_ML_sample.ascii\", format = \"ascii\")"
   ]
  },
  {
   "cell_type": "code",
   "execution_count": 5,
   "metadata": {},
   "outputs": [
    {
     "name": "stdout",
     "output_type": "stream",
     "text": [
      "0\n",
      "ZTF18abcfdzu_20181229_NOT_v1.ascii\n",
      "1000\n",
      "ZTF18acbwaxk_20190110_NOT_v1.ascii\n",
      "2000\n",
      "ZTF18aceqrrs_20190227_NOT_v1.ascii\n",
      "ZTF18acsjrbc_20190102_NOT_v1.ascii\n",
      "ZTF19aafmyow_20190816_NOT_v1.ascii\n",
      "3000\n",
      "ZTF19aapfmki_20190511_NOT_v1.ascii\n",
      "4000\n",
      "ZTF19abdoior_20190815_NOT_v1.ascii\n",
      "5000\n",
      "ZTF19abucwzt_20200127_NOT_v1.ascii\n",
      "6000\n",
      "7000\n",
      "ZTF20aaelulu_20200114_NOT_v1.ascii\n",
      "ZTF20aalrqbu_20200506_NOT_v1.ascii\n",
      "8000\n",
      "ZTF20aaynrrh_20200517_Lick_3-m_v2.ascii\n",
      "ZTF20aaynrrh_20200517_Lick_3-m_v3.ascii\n",
      "9000\n",
      "10000\n"
     ]
    }
   ],
   "source": [
    "counter = 0\n",
    "for i in np.unique(sample[\"col8\"]):\n",
    "    if(counter % 1000 == 0): print(counter)\n",
    "    try:\n",
    "        spectra = Table.from_pandas(Table.read(sample_location + str(i), format = \"ascii\").to_pandas().dropna())\n",
    "        astropy.io.ascii.write(spectra, new_sample_location + str(i), overwrite=True, format = \"no_header\")\n",
    "    except:\n",
    "        print(i)\n",
    "    counter += 1"
   ]
  },
  {
   "cell_type": "code",
   "execution_count": 6,
   "metadata": {},
   "outputs": [
    {
     "ename": "InconsistentTableError",
     "evalue": "\nERROR: Unable to guess table format with the guesses listed below:\nReader:Ecsv fast_reader: {'enable': True} fill_values: [('', '0')] strict_names: True\nReader:FixedWidthTwoLine fast_reader: {'enable': True} fill_values: [('', '0')] strict_names: True\nReader:RST fast_reader: {'enable': True} fill_values: [('', '0')] strict_names: True\nReader:FastBasic fast_reader: {'enable': True} fill_values: [('', '0')] strict_names: True\nReader:Basic fast_reader: {'enable': True} fill_values: [('', '0')] strict_names: True\nReader:FastRdb fast_reader: {'enable': True} fill_values: [('', '0')] strict_names: True\nReader:Rdb fast_reader: {'enable': True} fill_values: [('', '0')] strict_names: True\nReader:FastTab fast_reader: {'enable': True} fill_values: [('', '0')] strict_names: True\nReader:Tab fast_reader: {'enable': True} fill_values: [('', '0')] strict_names: True\nReader:Cds fast_reader: {'enable': True} fill_values: [('', '0')] strict_names: True\nReader:Daophot fast_reader: {'enable': True} fill_values: [('', '0')] strict_names: True\nReader:SExtractor fast_reader: {'enable': True} fill_values: [('', '0')] strict_names: True\nReader:Ipac fast_reader: {'enable': True} fill_values: [('', '0')] strict_names: True\nReader:Latex fast_reader: {'enable': True} fill_values: [('', '0')] strict_names: True\nReader:AASTex fast_reader: {'enable': True} fill_values: [('', '0')] strict_names: True\nReader:FastCommentedHeader delimiter: '|' fast_reader: {'enable': True} fill_values: [('', '0')] quotechar: '\"' strict_names: True\nReader:FastCommentedHeader delimiter: '|' fast_reader: {'enable': True} fill_values: [('', '0')] quotechar: \"'\" strict_names: True\nReader:FastCommentedHeader delimiter: ',' fast_reader: {'enable': True} fill_values: [('', '0')] quotechar: '\"' strict_names: True\nReader:FastCommentedHeader delimiter: ',' fast_reader: {'enable': True} fill_values: [('', '0')] quotechar: \"'\" strict_names: True\nReader:FastCommentedHeader delimiter: ' ' fast_reader: {'enable': True} fill_values: [('', '0')] quotechar: '\"' strict_names: True\nReader:FastCommentedHeader delimiter: ' ' fast_reader: {'enable': True} fill_values: [('', '0')] quotechar: \"'\" strict_names: True\nReader:FastCommentedHeader delimiter: '\\\\s' fast_reader: {'enable': True} fill_values: [('', '0')] quotechar: '\"' strict_names: True\nReader:FastCommentedHeader delimiter: '\\\\s' fast_reader: {'enable': True} fill_values: [('', '0')] quotechar: \"'\" strict_names: True\nReader:CommentedHeader delimiter: '|' fast_reader: {'enable': True} fill_values: [('', '0')] quotechar: '\"' strict_names: True\nReader:CommentedHeader delimiter: '|' fast_reader: {'enable': True} fill_values: [('', '0')] quotechar: \"'\" strict_names: True\nReader:CommentedHeader delimiter: ',' fast_reader: {'enable': True} fill_values: [('', '0')] quotechar: '\"' strict_names: True\nReader:CommentedHeader delimiter: ',' fast_reader: {'enable': True} fill_values: [('', '0')] quotechar: \"'\" strict_names: True\nReader:CommentedHeader delimiter: ' ' fast_reader: {'enable': True} fill_values: [('', '0')] quotechar: '\"' strict_names: True\nReader:CommentedHeader delimiter: ' ' fast_reader: {'enable': True} fill_values: [('', '0')] quotechar: \"'\" strict_names: True\nReader:CommentedHeader delimiter: '\\\\s' fast_reader: {'enable': True} fill_values: [('', '0')] quotechar: '\"' strict_names: True\nReader:CommentedHeader delimiter: '\\\\s' fast_reader: {'enable': True} fill_values: [('', '0')] quotechar: \"'\" strict_names: True\nReader:FastBasic delimiter: '|' fast_reader: {'enable': True} fill_values: [('', '0')] quotechar: '\"' strict_names: True\nReader:FastBasic delimiter: '|' fast_reader: {'enable': True} fill_values: [('', '0')] quotechar: \"'\" strict_names: True\nReader:FastBasic delimiter: ',' fast_reader: {'enable': True} fill_values: [('', '0')] quotechar: '\"' strict_names: True\nReader:FastBasic delimiter: ',' fast_reader: {'enable': True} fill_values: [('', '0')] quotechar: \"'\" strict_names: True\nReader:FastBasic delimiter: ' ' fast_reader: {'enable': True} fill_values: [('', '0')] quotechar: '\"' strict_names: True\nReader:FastBasic delimiter: ' ' fast_reader: {'enable': True} fill_values: [('', '0')] quotechar: \"'\" strict_names: True\nReader:FastBasic delimiter: '\\\\s' fast_reader: {'enable': True} fill_values: [('', '0')] quotechar: '\"' strict_names: True\nReader:FastBasic delimiter: '\\\\s' fast_reader: {'enable': True} fill_values: [('', '0')] quotechar: \"'\" strict_names: True\nReader:Basic delimiter: '|' fast_reader: {'enable': True} fill_values: [('', '0')] quotechar: '\"' strict_names: True\nReader:Basic delimiter: '|' fast_reader: {'enable': True} fill_values: [('', '0')] quotechar: \"'\" strict_names: True\nReader:Basic delimiter: ',' fast_reader: {'enable': True} fill_values: [('', '0')] quotechar: '\"' strict_names: True\nReader:Basic delimiter: ',' fast_reader: {'enable': True} fill_values: [('', '0')] quotechar: \"'\" strict_names: True\nReader:Basic delimiter: ' ' fast_reader: {'enable': True} fill_values: [('', '0')] quotechar: '\"' strict_names: True\nReader:Basic delimiter: ' ' fast_reader: {'enable': True} fill_values: [('', '0')] quotechar: \"'\" strict_names: True\nReader:Basic delimiter: '\\\\s' fast_reader: {'enable': True} fill_values: [('', '0')] quotechar: '\"' strict_names: True\nReader:Basic delimiter: '\\\\s' fast_reader: {'enable': True} fill_values: [('', '0')] quotechar: \"'\" strict_names: True\nReader:FastNoHeader delimiter: '|' fast_reader: {'enable': True} fill_values: [('', '0')] quotechar: '\"' strict_names: True\nReader:FastNoHeader delimiter: '|' fast_reader: {'enable': True} fill_values: [('', '0')] quotechar: \"'\" strict_names: True\nReader:FastNoHeader delimiter: ',' fast_reader: {'enable': True} fill_values: [('', '0')] quotechar: '\"' strict_names: True\nReader:FastNoHeader delimiter: ',' fast_reader: {'enable': True} fill_values: [('', '0')] quotechar: \"'\" strict_names: True\nReader:FastNoHeader delimiter: ' ' fast_reader: {'enable': True} fill_values: [('', '0')] quotechar: '\"' strict_names: True\nReader:FastNoHeader delimiter: ' ' fast_reader: {'enable': True} fill_values: [('', '0')] quotechar: \"'\" strict_names: True\nReader:FastNoHeader delimiter: '\\\\s' fast_reader: {'enable': True} fill_values: [('', '0')] quotechar: '\"' strict_names: True\nReader:FastNoHeader delimiter: '\\\\s' fast_reader: {'enable': True} fill_values: [('', '0')] quotechar: \"'\" strict_names: True\nReader:NoHeader delimiter: '|' fast_reader: {'enable': True} fill_values: [('', '0')] quotechar: '\"' strict_names: True\nReader:NoHeader delimiter: '|' fast_reader: {'enable': True} fill_values: [('', '0')] quotechar: \"'\" strict_names: True\nReader:NoHeader delimiter: ',' fast_reader: {'enable': True} fill_values: [('', '0')] quotechar: '\"' strict_names: True\nReader:NoHeader delimiter: ',' fast_reader: {'enable': True} fill_values: [('', '0')] quotechar: \"'\" strict_names: True\nReader:NoHeader delimiter: ' ' fast_reader: {'enable': True} fill_values: [('', '0')] quotechar: '\"' strict_names: True\nReader:NoHeader delimiter: ' ' fast_reader: {'enable': True} fill_values: [('', '0')] quotechar: \"'\" strict_names: True\nReader:NoHeader delimiter: '\\\\s' fast_reader: {'enable': True} fill_values: [('', '0')] quotechar: '\"' strict_names: True\nReader:NoHeader delimiter: '\\\\s' fast_reader: {'enable': True} fill_values: [('', '0')] quotechar: \"'\" strict_names: True\nReader:Basic fast_reader: {'enable': True} fill_values: [('', '0')]\n\n************************************************************************\n** ERROR: Unable to guess table format with the guesses listed above. **\n**                                                                    **\n** To figure out why the table did not read, use guess=False and      **\n** fast_reader=False, along with any appropriate arguments to read(). **\n** In particular specify the format and any known attributes like the **\n** delimiter.                                                         **\n************************************************************************",
     "output_type": "error",
     "traceback": [
      "\u001b[0;31m---------------------------------------------------------------------------\u001b[0m",
      "\u001b[0;31mInconsistentTableError\u001b[0m                    Traceback (most recent call last)",
      "\u001b[0;32m~/anaconda3/lib/python3.7/site-packages/astropy/io/ascii/ui.py\u001b[0m in \u001b[0;36m_guess\u001b[0;34m(table, read_kwargs, format, fast_reader)\u001b[0m\n\u001b[1;32m    463\u001b[0m             \u001b[0mreader\u001b[0m \u001b[0;34m=\u001b[0m \u001b[0mget_reader\u001b[0m\u001b[0;34m(\u001b[0m\u001b[0;34m**\u001b[0m\u001b[0mread_kwargs\u001b[0m\u001b[0;34m)\u001b[0m\u001b[0;34m\u001b[0m\u001b[0;34m\u001b[0m\u001b[0m\n\u001b[0;32m--> 464\u001b[0;31m             \u001b[0mdat\u001b[0m \u001b[0;34m=\u001b[0m \u001b[0mreader\u001b[0m\u001b[0;34m.\u001b[0m\u001b[0mread\u001b[0m\u001b[0;34m(\u001b[0m\u001b[0mtable\u001b[0m\u001b[0;34m)\u001b[0m\u001b[0;34m\u001b[0m\u001b[0;34m\u001b[0m\u001b[0m\n\u001b[0m\u001b[1;32m    465\u001b[0m             _read_trace.append({'kwargs': copy.deepcopy(read_kwargs),\n",
      "\u001b[0;32m~/anaconda3/lib/python3.7/site-packages/astropy/io/ascii/core.py\u001b[0m in \u001b[0;36mread\u001b[0;34m(self, table)\u001b[0m\n\u001b[1;32m   1195\u001b[0m \u001b[0;34m\u001b[0m\u001b[0m\n\u001b[0;32m-> 1196\u001b[0;31m                     \u001b[0;32mraise\u001b[0m \u001b[0mInconsistentTableError\u001b[0m\u001b[0;34m(\u001b[0m\u001b[0merrmsg\u001b[0m\u001b[0;34m)\u001b[0m\u001b[0;34m\u001b[0m\u001b[0;34m\u001b[0m\u001b[0m\n\u001b[0m\u001b[1;32m   1197\u001b[0m \u001b[0;34m\u001b[0m\u001b[0m\n",
      "\u001b[0;31mInconsistentTableError\u001b[0m: Number of header columns (7) inconsistent with data columns (2) at data line 0\nHeader values: ['3908.76855469', '[', '2.27030328e-18', '5.84842129e-19', '1.61639746e-18', '...,', '2.45499658e-18']\nData values: ['2.45500195e-18', '2.45796057e-18]']",
      "\nDuring handling of the above exception, another exception occurred:\n",
      "\u001b[0;31mInconsistentTableError\u001b[0m                    Traceback (most recent call last)",
      "\u001b[0;32m<ipython-input-6-cda521fd2271>\u001b[0m in \u001b[0;36m<module>\u001b[0;34m\u001b[0m\n\u001b[1;32m      1\u001b[0m \u001b[0mi\u001b[0m \u001b[0;34m=\u001b[0m \u001b[0;34m\"ZTF18abcfdzu_20181229_NOT_v1.ascii\"\u001b[0m\u001b[0;34m\u001b[0m\u001b[0;34m\u001b[0m\u001b[0m\n\u001b[0;32m----> 2\u001b[0;31m \u001b[0mspectra\u001b[0m \u001b[0;34m=\u001b[0m \u001b[0mTable\u001b[0m\u001b[0;34m.\u001b[0m\u001b[0mfrom_pandas\u001b[0m\u001b[0;34m(\u001b[0m\u001b[0mTable\u001b[0m\u001b[0;34m.\u001b[0m\u001b[0mread\u001b[0m\u001b[0;34m(\u001b[0m\u001b[0msample_location\u001b[0m \u001b[0;34m+\u001b[0m \u001b[0mstr\u001b[0m\u001b[0;34m(\u001b[0m\u001b[0mi\u001b[0m\u001b[0;34m)\u001b[0m\u001b[0;34m,\u001b[0m \u001b[0mformat\u001b[0m \u001b[0;34m=\u001b[0m \u001b[0;34m\"ascii\"\u001b[0m\u001b[0;34m)\u001b[0m\u001b[0;34m.\u001b[0m\u001b[0mto_pandas\u001b[0m\u001b[0;34m(\u001b[0m\u001b[0;34m)\u001b[0m\u001b[0;34m.\u001b[0m\u001b[0mdropna\u001b[0m\u001b[0;34m(\u001b[0m\u001b[0;34m)\u001b[0m\u001b[0;34m)\u001b[0m\u001b[0;34m\u001b[0m\u001b[0;34m\u001b[0m\u001b[0m\n\u001b[0m\u001b[1;32m      3\u001b[0m \u001b[0mastropy\u001b[0m\u001b[0;34m.\u001b[0m\u001b[0mio\u001b[0m\u001b[0;34m.\u001b[0m\u001b[0mascii\u001b[0m\u001b[0;34m.\u001b[0m\u001b[0mwrite\u001b[0m\u001b[0;34m(\u001b[0m\u001b[0mspectra\u001b[0m\u001b[0;34m,\u001b[0m \u001b[0mnew_sample_location\u001b[0m \u001b[0;34m+\u001b[0m \u001b[0mstr\u001b[0m\u001b[0;34m(\u001b[0m\u001b[0mi\u001b[0m\u001b[0;34m)\u001b[0m\u001b[0;34m,\u001b[0m \u001b[0moverwrite\u001b[0m\u001b[0;34m=\u001b[0m\u001b[0;32mTrue\u001b[0m\u001b[0;34m,\u001b[0m \u001b[0mformat\u001b[0m \u001b[0;34m=\u001b[0m \u001b[0;34m\"no_header\"\u001b[0m\u001b[0;34m)\u001b[0m\u001b[0;34m\u001b[0m\u001b[0;34m\u001b[0m\u001b[0m\n",
      "\u001b[0;32m~/anaconda3/lib/python3.7/site-packages/astropy/table/connect.py\u001b[0m in \u001b[0;36m__call__\u001b[0;34m(self, *args, **kwargs)\u001b[0m\n\u001b[1;32m     50\u001b[0m     \u001b[0;32mdef\u001b[0m \u001b[0m__call__\u001b[0m\u001b[0;34m(\u001b[0m\u001b[0mself\u001b[0m\u001b[0;34m,\u001b[0m \u001b[0;34m*\u001b[0m\u001b[0margs\u001b[0m\u001b[0;34m,\u001b[0m \u001b[0;34m**\u001b[0m\u001b[0mkwargs\u001b[0m\u001b[0;34m)\u001b[0m\u001b[0;34m:\u001b[0m\u001b[0;34m\u001b[0m\u001b[0;34m\u001b[0m\u001b[0m\n\u001b[1;32m     51\u001b[0m         \u001b[0mcls\u001b[0m \u001b[0;34m=\u001b[0m \u001b[0mself\u001b[0m\u001b[0;34m.\u001b[0m\u001b[0m_cls\u001b[0m\u001b[0;34m\u001b[0m\u001b[0;34m\u001b[0m\u001b[0m\n\u001b[0;32m---> 52\u001b[0;31m         \u001b[0mout\u001b[0m \u001b[0;34m=\u001b[0m \u001b[0mregistry\u001b[0m\u001b[0;34m.\u001b[0m\u001b[0mread\u001b[0m\u001b[0;34m(\u001b[0m\u001b[0mcls\u001b[0m\u001b[0;34m,\u001b[0m \u001b[0;34m*\u001b[0m\u001b[0margs\u001b[0m\u001b[0;34m,\u001b[0m \u001b[0;34m**\u001b[0m\u001b[0mkwargs\u001b[0m\u001b[0;34m)\u001b[0m\u001b[0;34m\u001b[0m\u001b[0;34m\u001b[0m\u001b[0m\n\u001b[0m\u001b[1;32m     53\u001b[0m \u001b[0;34m\u001b[0m\u001b[0m\n\u001b[1;32m     54\u001b[0m         \u001b[0;31m# For some readers (e.g., ascii.ecsv), the returned `out` class is not\u001b[0m\u001b[0;34m\u001b[0m\u001b[0;34m\u001b[0m\u001b[0;34m\u001b[0m\u001b[0m\n",
      "\u001b[0;32m~/anaconda3/lib/python3.7/site-packages/astropy/io/registry.py\u001b[0m in \u001b[0;36mread\u001b[0;34m(cls, format, *args, **kwargs)\u001b[0m\n\u001b[1;32m    521\u001b[0m \u001b[0;34m\u001b[0m\u001b[0m\n\u001b[1;32m    522\u001b[0m         \u001b[0mreader\u001b[0m \u001b[0;34m=\u001b[0m \u001b[0mget_reader\u001b[0m\u001b[0;34m(\u001b[0m\u001b[0mformat\u001b[0m\u001b[0;34m,\u001b[0m \u001b[0mcls\u001b[0m\u001b[0;34m)\u001b[0m\u001b[0;34m\u001b[0m\u001b[0;34m\u001b[0m\u001b[0m\n\u001b[0;32m--> 523\u001b[0;31m         \u001b[0mdata\u001b[0m \u001b[0;34m=\u001b[0m \u001b[0mreader\u001b[0m\u001b[0;34m(\u001b[0m\u001b[0;34m*\u001b[0m\u001b[0margs\u001b[0m\u001b[0;34m,\u001b[0m \u001b[0;34m**\u001b[0m\u001b[0mkwargs\u001b[0m\u001b[0;34m)\u001b[0m\u001b[0;34m\u001b[0m\u001b[0;34m\u001b[0m\u001b[0m\n\u001b[0m\u001b[1;32m    524\u001b[0m \u001b[0;34m\u001b[0m\u001b[0m\n\u001b[1;32m    525\u001b[0m         \u001b[0;32mif\u001b[0m \u001b[0;32mnot\u001b[0m \u001b[0misinstance\u001b[0m\u001b[0;34m(\u001b[0m\u001b[0mdata\u001b[0m\u001b[0;34m,\u001b[0m \u001b[0mcls\u001b[0m\u001b[0;34m)\u001b[0m\u001b[0;34m:\u001b[0m\u001b[0;34m\u001b[0m\u001b[0;34m\u001b[0m\u001b[0m\n",
      "\u001b[0;32m~/anaconda3/lib/python3.7/site-packages/astropy/io/ascii/connect.py\u001b[0m in \u001b[0;36mio_read\u001b[0;34m(format, filename, **kwargs)\u001b[0m\n\u001b[1;32m     17\u001b[0m         \u001b[0mformat\u001b[0m \u001b[0;34m=\u001b[0m \u001b[0mre\u001b[0m\u001b[0;34m.\u001b[0m\u001b[0msub\u001b[0m\u001b[0;34m(\u001b[0m\u001b[0;34mr'^ascii\\.'\u001b[0m\u001b[0;34m,\u001b[0m \u001b[0;34m''\u001b[0m\u001b[0;34m,\u001b[0m \u001b[0mformat\u001b[0m\u001b[0;34m)\u001b[0m\u001b[0;34m\u001b[0m\u001b[0;34m\u001b[0m\u001b[0m\n\u001b[1;32m     18\u001b[0m         \u001b[0mkwargs\u001b[0m\u001b[0;34m[\u001b[0m\u001b[0;34m'format'\u001b[0m\u001b[0;34m]\u001b[0m \u001b[0;34m=\u001b[0m \u001b[0mformat\u001b[0m\u001b[0;34m\u001b[0m\u001b[0;34m\u001b[0m\u001b[0m\n\u001b[0;32m---> 19\u001b[0;31m     \u001b[0;32mreturn\u001b[0m \u001b[0mread\u001b[0m\u001b[0;34m(\u001b[0m\u001b[0mfilename\u001b[0m\u001b[0;34m,\u001b[0m \u001b[0;34m**\u001b[0m\u001b[0mkwargs\u001b[0m\u001b[0;34m)\u001b[0m\u001b[0;34m\u001b[0m\u001b[0;34m\u001b[0m\u001b[0m\n\u001b[0m\u001b[1;32m     20\u001b[0m \u001b[0;34m\u001b[0m\u001b[0m\n\u001b[1;32m     21\u001b[0m \u001b[0;34m\u001b[0m\u001b[0m\n",
      "\u001b[0;32m~/anaconda3/lib/python3.7/site-packages/astropy/io/ascii/ui.py\u001b[0m in \u001b[0;36mread\u001b[0;34m(table, guess, **kwargs)\u001b[0m\n\u001b[1;32m    285\u001b[0m         \u001b[0;31m# through below to the non-guess way so that any problems result in a\u001b[0m\u001b[0;34m\u001b[0m\u001b[0;34m\u001b[0m\u001b[0;34m\u001b[0m\u001b[0m\n\u001b[1;32m    286\u001b[0m         \u001b[0;31m# more useful traceback.\u001b[0m\u001b[0;34m\u001b[0m\u001b[0;34m\u001b[0m\u001b[0;34m\u001b[0m\u001b[0m\n\u001b[0;32m--> 287\u001b[0;31m         \u001b[0mdat\u001b[0m \u001b[0;34m=\u001b[0m \u001b[0m_guess\u001b[0m\u001b[0;34m(\u001b[0m\u001b[0mtable\u001b[0m\u001b[0;34m,\u001b[0m \u001b[0mnew_kwargs\u001b[0m\u001b[0;34m,\u001b[0m \u001b[0mformat\u001b[0m\u001b[0;34m,\u001b[0m \u001b[0mfast_reader\u001b[0m\u001b[0;34m)\u001b[0m\u001b[0;34m\u001b[0m\u001b[0;34m\u001b[0m\u001b[0m\n\u001b[0m\u001b[1;32m    288\u001b[0m         \u001b[0;32mif\u001b[0m \u001b[0mdat\u001b[0m \u001b[0;32mis\u001b[0m \u001b[0;32mNone\u001b[0m\u001b[0;34m:\u001b[0m\u001b[0;34m\u001b[0m\u001b[0;34m\u001b[0m\u001b[0m\n\u001b[1;32m    289\u001b[0m             \u001b[0mguess\u001b[0m \u001b[0;34m=\u001b[0m \u001b[0;32mFalse\u001b[0m\u001b[0;34m\u001b[0m\u001b[0;34m\u001b[0m\u001b[0m\n",
      "\u001b[0;32m~/anaconda3/lib/python3.7/site-packages/astropy/io/ascii/ui.py\u001b[0m in \u001b[0;36m_guess\u001b[0;34m(table, read_kwargs, format, fast_reader)\u001b[0m\n\u001b[1;32m    494\u001b[0m                    '************************************************************************']\n\u001b[1;32m    495\u001b[0m             \u001b[0mlines\u001b[0m\u001b[0;34m.\u001b[0m\u001b[0mextend\u001b[0m\u001b[0;34m(\u001b[0m\u001b[0mmsg\u001b[0m\u001b[0;34m)\u001b[0m\u001b[0;34m\u001b[0m\u001b[0;34m\u001b[0m\u001b[0m\n\u001b[0;32m--> 496\u001b[0;31m             \u001b[0;32mraise\u001b[0m \u001b[0mcore\u001b[0m\u001b[0;34m.\u001b[0m\u001b[0mInconsistentTableError\u001b[0m\u001b[0;34m(\u001b[0m\u001b[0;34m'\\n'\u001b[0m\u001b[0;34m.\u001b[0m\u001b[0mjoin\u001b[0m\u001b[0;34m(\u001b[0m\u001b[0mlines\u001b[0m\u001b[0;34m)\u001b[0m\u001b[0;34m)\u001b[0m\u001b[0;34m\u001b[0m\u001b[0;34m\u001b[0m\u001b[0m\n\u001b[0m\u001b[1;32m    497\u001b[0m \u001b[0;34m\u001b[0m\u001b[0m\n\u001b[1;32m    498\u001b[0m \u001b[0;34m\u001b[0m\u001b[0m\n",
      "\u001b[0;31mInconsistentTableError\u001b[0m: \nERROR: Unable to guess table format with the guesses listed below:\nReader:Ecsv fast_reader: {'enable': True} fill_values: [('', '0')] strict_names: True\nReader:FixedWidthTwoLine fast_reader: {'enable': True} fill_values: [('', '0')] strict_names: True\nReader:RST fast_reader: {'enable': True} fill_values: [('', '0')] strict_names: True\nReader:FastBasic fast_reader: {'enable': True} fill_values: [('', '0')] strict_names: True\nReader:Basic fast_reader: {'enable': True} fill_values: [('', '0')] strict_names: True\nReader:FastRdb fast_reader: {'enable': True} fill_values: [('', '0')] strict_names: True\nReader:Rdb fast_reader: {'enable': True} fill_values: [('', '0')] strict_names: True\nReader:FastTab fast_reader: {'enable': True} fill_values: [('', '0')] strict_names: True\nReader:Tab fast_reader: {'enable': True} fill_values: [('', '0')] strict_names: True\nReader:Cds fast_reader: {'enable': True} fill_values: [('', '0')] strict_names: True\nReader:Daophot fast_reader: {'enable': True} fill_values: [('', '0')] strict_names: True\nReader:SExtractor fast_reader: {'enable': True} fill_values: [('', '0')] strict_names: True\nReader:Ipac fast_reader: {'enable': True} fill_values: [('', '0')] strict_names: True\nReader:Latex fast_reader: {'enable': True} fill_values: [('', '0')] strict_names: True\nReader:AASTex fast_reader: {'enable': True} fill_values: [('', '0')] strict_names: True\nReader:FastCommentedHeader delimiter: '|' fast_reader: {'enable': True} fill_values: [('', '0')] quotechar: '\"' strict_names: True\nReader:FastCommentedHeader delimiter: '|' fast_reader: {'enable': True} fill_values: [('', '0')] quotechar: \"'\" strict_names: True\nReader:FastCommentedHeader delimiter: ',' fast_reader: {'enable': True} fill_values: [('', '0')] quotechar: '\"' strict_names: True\nReader:FastCommentedHeader delimiter: ',' fast_reader: {'enable': True} fill_values: [('', '0')] quotechar: \"'\" strict_names: True\nReader:FastCommentedHeader delimiter: ' ' fast_reader: {'enable': True} fill_values: [('', '0')] quotechar: '\"' strict_names: True\nReader:FastCommentedHeader delimiter: ' ' fast_reader: {'enable': True} fill_values: [('', '0')] quotechar: \"'\" strict_names: True\nReader:FastCommentedHeader delimiter: '\\\\s' fast_reader: {'enable': True} fill_values: [('', '0')] quotechar: '\"' strict_names: True\nReader:FastCommentedHeader delimiter: '\\\\s' fast_reader: {'enable': True} fill_values: [('', '0')] quotechar: \"'\" strict_names: True\nReader:CommentedHeader delimiter: '|' fast_reader: {'enable': True} fill_values: [('', '0')] quotechar: '\"' strict_names: True\nReader:CommentedHeader delimiter: '|' fast_reader: {'enable': True} fill_values: [('', '0')] quotechar: \"'\" strict_names: True\nReader:CommentedHeader delimiter: ',' fast_reader: {'enable': True} fill_values: [('', '0')] quotechar: '\"' strict_names: True\nReader:CommentedHeader delimiter: ',' fast_reader: {'enable': True} fill_values: [('', '0')] quotechar: \"'\" strict_names: True\nReader:CommentedHeader delimiter: ' ' fast_reader: {'enable': True} fill_values: [('', '0')] quotechar: '\"' strict_names: True\nReader:CommentedHeader delimiter: ' ' fast_reader: {'enable': True} fill_values: [('', '0')] quotechar: \"'\" strict_names: True\nReader:CommentedHeader delimiter: '\\\\s' fast_reader: {'enable': True} fill_values: [('', '0')] quotechar: '\"' strict_names: True\nReader:CommentedHeader delimiter: '\\\\s' fast_reader: {'enable': True} fill_values: [('', '0')] quotechar: \"'\" strict_names: True\nReader:FastBasic delimiter: '|' fast_reader: {'enable': True} fill_values: [('', '0')] quotechar: '\"' strict_names: True\nReader:FastBasic delimiter: '|' fast_reader: {'enable': True} fill_values: [('', '0')] quotechar: \"'\" strict_names: True\nReader:FastBasic delimiter: ',' fast_reader: {'enable': True} fill_values: [('', '0')] quotechar: '\"' strict_names: True\nReader:FastBasic delimiter: ',' fast_reader: {'enable': True} fill_values: [('', '0')] quotechar: \"'\" strict_names: True\nReader:FastBasic delimiter: ' ' fast_reader: {'enable': True} fill_values: [('', '0')] quotechar: '\"' strict_names: True\nReader:FastBasic delimiter: ' ' fast_reader: {'enable': True} fill_values: [('', '0')] quotechar: \"'\" strict_names: True\nReader:FastBasic delimiter: '\\\\s' fast_reader: {'enable': True} fill_values: [('', '0')] quotechar: '\"' strict_names: True\nReader:FastBasic delimiter: '\\\\s' fast_reader: {'enable': True} fill_values: [('', '0')] quotechar: \"'\" strict_names: True\nReader:Basic delimiter: '|' fast_reader: {'enable': True} fill_values: [('', '0')] quotechar: '\"' strict_names: True\nReader:Basic delimiter: '|' fast_reader: {'enable': True} fill_values: [('', '0')] quotechar: \"'\" strict_names: True\nReader:Basic delimiter: ',' fast_reader: {'enable': True} fill_values: [('', '0')] quotechar: '\"' strict_names: True\nReader:Basic delimiter: ',' fast_reader: {'enable': True} fill_values: [('', '0')] quotechar: \"'\" strict_names: True\nReader:Basic delimiter: ' ' fast_reader: {'enable': True} fill_values: [('', '0')] quotechar: '\"' strict_names: True\nReader:Basic delimiter: ' ' fast_reader: {'enable': True} fill_values: [('', '0')] quotechar: \"'\" strict_names: True\nReader:Basic delimiter: '\\\\s' fast_reader: {'enable': True} fill_values: [('', '0')] quotechar: '\"' strict_names: True\nReader:Basic delimiter: '\\\\s' fast_reader: {'enable': True} fill_values: [('', '0')] quotechar: \"'\" strict_names: True\nReader:FastNoHeader delimiter: '|' fast_reader: {'enable': True} fill_values: [('', '0')] quotechar: '\"' strict_names: True\nReader:FastNoHeader delimiter: '|' fast_reader: {'enable': True} fill_values: [('', '0')] quotechar: \"'\" strict_names: True\nReader:FastNoHeader delimiter: ',' fast_reader: {'enable': True} fill_values: [('', '0')] quotechar: '\"' strict_names: True\nReader:FastNoHeader delimiter: ',' fast_reader: {'enable': True} fill_values: [('', '0')] quotechar: \"'\" strict_names: True\nReader:FastNoHeader delimiter: ' ' fast_reader: {'enable': True} fill_values: [('', '0')] quotechar: '\"' strict_names: True\nReader:FastNoHeader delimiter: ' ' fast_reader: {'enable': True} fill_values: [('', '0')] quotechar: \"'\" strict_names: True\nReader:FastNoHeader delimiter: '\\\\s' fast_reader: {'enable': True} fill_values: [('', '0')] quotechar: '\"' strict_names: True\nReader:FastNoHeader delimiter: '\\\\s' fast_reader: {'enable': True} fill_values: [('', '0')] quotechar: \"'\" strict_names: True\nReader:NoHeader delimiter: '|' fast_reader: {'enable': True} fill_values: [('', '0')] quotechar: '\"' strict_names: True\nReader:NoHeader delimiter: '|' fast_reader: {'enable': True} fill_values: [('', '0')] quotechar: \"'\" strict_names: True\nReader:NoHeader delimiter: ',' fast_reader: {'enable': True} fill_values: [('', '0')] quotechar: '\"' strict_names: True\nReader:NoHeader delimiter: ',' fast_reader: {'enable': True} fill_values: [('', '0')] quotechar: \"'\" strict_names: True\nReader:NoHeader delimiter: ' ' fast_reader: {'enable': True} fill_values: [('', '0')] quotechar: '\"' strict_names: True\nReader:NoHeader delimiter: ' ' fast_reader: {'enable': True} fill_values: [('', '0')] quotechar: \"'\" strict_names: True\nReader:NoHeader delimiter: '\\\\s' fast_reader: {'enable': True} fill_values: [('', '0')] quotechar: '\"' strict_names: True\nReader:NoHeader delimiter: '\\\\s' fast_reader: {'enable': True} fill_values: [('', '0')] quotechar: \"'\" strict_names: True\nReader:Basic fast_reader: {'enable': True} fill_values: [('', '0')]\n\n************************************************************************\n** ERROR: Unable to guess table format with the guesses listed above. **\n**                                                                    **\n** To figure out why the table did not read, use guess=False and      **\n** fast_reader=False, along with any appropriate arguments to read(). **\n** In particular specify the format and any known attributes like the **\n** delimiter.                                                         **\n************************************************************************"
     ]
    }
   ],
   "source": [
    "i = \"ZTF18abcfdzu_20181229_NOT_v1.ascii\"\n",
    "spectra = Table.from_pandas(Table.read(sample_location + str(i), format = \"ascii\").to_pandas().dropna())\n",
    "astropy.io.ascii.write(spectra, new_sample_location + str(i), overwrite=True, format = \"no_header\")"
   ]
  },
  {
   "cell_type": "code",
   "execution_count": null,
   "metadata": {},
   "outputs": [],
   "source": []
  }
 ],
 "metadata": {
  "kernelspec": {
   "display_name": "Python 3",
   "language": "python",
   "name": "python3"
  },
  "language_info": {
   "codemirror_mode": {
    "name": "ipython",
    "version": 3
   },
   "file_extension": ".py",
   "mimetype": "text/x-python",
   "name": "python",
   "nbconvert_exporter": "python",
   "pygments_lexer": "ipython3",
   "version": "3.7.6"
  }
 },
 "nbformat": 4,
 "nbformat_minor": 4
}
