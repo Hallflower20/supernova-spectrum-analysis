{
 "cells": [
  {
   "cell_type": "code",
   "execution_count": 1,
   "metadata": {},
   "outputs": [],
   "source": [
    "import subprocess\n",
    "import shlex\n",
    "import pandas as pd\n",
    "import numpy as np\n",
    "from astropy.table import Table\n",
    "from astropy.table import Column\n",
    "import os\n",
    "import glob2\n",
    "import matplotlib.pyplot as plt\n",
    "from matplotlib.backends.backend_pdf import PdfPages\n",
    "import SNID_Analysis\n",
    "import numpy as np"
   ]
  },
  {
   "cell_type": "code",
   "execution_count": 2,
   "metadata": {},
   "outputs": [],
   "source": [
    "sample = Table.read(\"/home/xjh0560/SNID/sample/SEDM_ML_sample.ascii\", format = \"ascii\")"
   ]
  },
  {
   "cell_type": "code",
   "execution_count": 3,
   "metadata": {},
   "outputs": [],
   "source": [
    "sample_location = \"/home/xjh0560/SNID/sample/spectra/\"\n",
    "source = \"/home/xjh0560/SNID/snid_outputs/\"\n",
    "image_output = \"/home/xjh0560/SNID/snid_outputs/SNIDimages/\""
   ]
  },
  {
   "cell_type": "code",
   "execution_count": 4,
   "metadata": {},
   "outputs": [],
   "source": [
    "#sample[np.where(sample[\"col1\"] == \"ZTF17aaaukqn\")]"
   ]
  },
  {
   "cell_type": "code",
   "execution_count": 5,
   "metadata": {},
   "outputs": [
    {
     "name": "stdout",
     "output_type": "stream",
     "text": [
      "0\n"
     ]
    }
   ],
   "source": [
    "error_array = []\n",
    "counter = 0\n",
    "for i in np.unique(sample[\"col1\"]):\n",
    "    fnamelist = \"\"\n",
    "    #for j in (sample[np.where(i == sample[\"col1\"])][\"col8\"]):\n",
    "    #    fnamelist += sample_location + str(j) + \" \"\n",
    "    fnamelist = sample_location + sample[np.where(i == sample[\"col1\"])][\"col8\"][-1]\n",
    "    sample_location_temp = sample_location + str(i)\n",
    "\n",
    "    output, error = SNID_Analysis.run_files(sample_location_temp, fnamelist, source)\n",
    "\n",
    "    if(not(\"No template meets\" in str(output))):\n",
    "        SNID_Analysis.plot_best_15(sample_location_temp, fnamelist, source, image_output)\n",
    "        SNID_Analysis.parse_output(sample_location_temp, fnamelist, source)\n",
    "    else:\n",
    "        print(i)\n",
    "    \n",
    "    if(counter % 100 == 0):\n",
    "        print(counter)\n",
    "    counter+=1"
   ]
  },
  {
   "cell_type": "code",
   "execution_count": null,
   "metadata": {},
   "outputs": [],
   "source": [
    "#output, error = SNID_Analysis.run_files(sample_location_temp, fnamelist, source)"
   ]
  },
  {
   "cell_type": "code",
   "execution_count": null,
   "metadata": {},
   "outputs": [],
   "source": [
    "#fnamelist"
   ]
  },
  {
   "cell_type": "code",
   "execution_count": null,
   "metadata": {},
   "outputs": [],
   "source": [
    "#\"No template meets\" in str(output)"
   ]
  },
  {
   "cell_type": "code",
   "execution_count": null,
   "metadata": {},
   "outputs": [],
   "source": []
  }
 ],
 "metadata": {
  "kernelspec": {
   "display_name": "Python 3",
   "language": "python",
   "name": "python3"
  },
  "language_info": {
   "codemirror_mode": {
    "name": "ipython",
    "version": 3
   },
   "file_extension": ".py",
   "mimetype": "text/x-python",
   "name": "python",
   "nbconvert_exporter": "python",
   "pygments_lexer": "ipython3",
   "version": "3.7.4"
  }
 },
 "nbformat": 4,
 "nbformat_minor": 2
}
