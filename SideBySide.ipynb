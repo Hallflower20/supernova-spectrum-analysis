{
 "cells": [
  {
   "cell_type": "code",
   "execution_count": 1,
   "metadata": {},
   "outputs": [
    {
     "ename": "ModuleNotFoundError",
     "evalue": "No module named 'astrodash'",
     "output_type": "error",
     "traceback": [
      "\u001b[0;31m---------------------------------------------------------------------------\u001b[0m",
      "\u001b[0;31mModuleNotFoundError\u001b[0m                       Traceback (most recent call last)",
      "\u001b[0;32m<ipython-input-1-212ec3454ff7>\u001b[0m in \u001b[0;36m<module>\u001b[0;34m\u001b[0m\n\u001b[0;32m----> 1\u001b[0;31m \u001b[0;32mimport\u001b[0m \u001b[0mastrodash\u001b[0m\u001b[0;34m\u001b[0m\u001b[0;34m\u001b[0m\u001b[0m\n\u001b[0m",
      "\u001b[0;31mModuleNotFoundError\u001b[0m: No module named 'astrodash'"
     ]
    }
   ],
   "source": [
    "import astrodash"
   ]
  },
  {
   "cell_type": "code",
   "execution_count": 2,
   "metadata": {},
   "outputs": [],
   "source": [
    "import os\n",
    "import astropy\n",
    "import numpy as np\n",
    "from astropy.table import Table\n",
    "from astropy.table import Column\n",
    "import glob\n",
    "import matplotlib.pyplot as plt\n",
    "import pandas as pd\n",
    "from collections import Counter\n",
    "from mpl_toolkits.mplot3d import Axes3D"
   ]
  },
  {
   "cell_type": "code",
   "execution_count": 3,
   "metadata": {},
   "outputs": [],
   "source": [
    "sample_location = \"/home/xhall/Documents/NewZTF/spectra_nonan/\"\n",
    "dash = \"/home/xhall/Documents/DASH/\""
   ]
  },
  {
   "cell_type": "code",
   "execution_count": 5,
   "metadata": {},
   "outputs": [],
   "source": [
    "SEDM_ML_sample = Table.read(\"/home/xhall/Documents/NewZTF/ML_sample.ascii\", format = \"ascii\")\n",
    "SEDM_ML_sample.rename_column('col1', 'ZTF_Name')\n",
    "SEDM_ML_sample.rename_column('col2', \"Class\")\n",
    "SEDM_ML_sample.rename_column('col8', \"Version\")"
   ]
  },
  {
   "cell_type": "code",
   "execution_count": 6,
   "metadata": {},
   "outputs": [],
   "source": [
    "dashoutput = np.load(dash+\"output.npy\",allow_pickle=True)"
   ]
  },
  {
   "cell_type": "code",
   "execution_count": 7,
   "metadata": {},
   "outputs": [],
   "source": [
    "snidoutput = np.load(\"/home/xhall/Documents/NewZTF/sample_2018/SNID_2018_output.npy\", allow_pickle=True)"
   ]
  },
  {
   "cell_type": "code",
   "execution_count": 9,
   "metadata": {},
   "outputs": [],
   "source": [
    "final_rcf_table = Table.from_pandas(pd.read_hdf(\"/home/xhall/Documents/NewZTF/final_rcf_table.h5\"))"
   ]
  },
  {
   "cell_type": "code",
   "execution_count": 10,
   "metadata": {},
   "outputs": [
    {
     "data": {
      "text/plain": [
       "764"
      ]
     },
     "execution_count": 10,
     "metadata": {},
     "output_type": "execute_result"
    }
   ],
   "source": [
    "len(final_rcf_table)"
   ]
  },
  {
   "cell_type": "code",
   "execution_count": 11,
   "metadata": {},
   "outputs": [],
   "source": [
    "ResultsTable_List_confidence = []\n",
    "ranges = np.linspace(0, 1, 101)\n",
    "for confidence in ranges:\n",
    "    count = 0\n",
    "    ResultsTable = Table(\n",
    "                    names=(\"ZTF_Name\", \"Dash\", \"Confidence\",\n",
    "                    ),\n",
    "                    meta={\"name\": \"Spectrum Results after SNID\"},\n",
    "                    dtype=(\"U64\", \"U64\", \"float64\",\n",
    "                          )\n",
    "                    )\n",
    "\n",
    "    for i in dashoutput:\n",
    "        row = []\n",
    "        row.append(i[-1])\n",
    "        reliable = np.where(np.asarray(i[4]) != 'Unreliable matches')[0]\n",
    "        if(len(reliable) != 0):\n",
    "            best = np.asarray(i[2])[:,0][reliable]\n",
    "            c = Counter(best)\n",
    "            best_rlap = float(min(np.asarray(i[2])[:,2][reliable]))\n",
    "            if(best_rlap > confidence):\n",
    "                row.append(c.most_common()[0][0])\n",
    "                row.append(best_rlap)\n",
    "                ResultsTable.add_row(row)\n",
    "\n",
    "        count += 1\n",
    "    if(count % 50 == 0):\n",
    "        print(count)\n",
    "            \n",
    "    if(len(ResultsTable) != 0):\n",
    "        ResultsTable_List_confidence.append([confidence,ResultsTable])"
   ]
  },
  {
   "cell_type": "code",
   "execution_count": 12,
   "metadata": {},
   "outputs": [],
   "source": [
    "negative = 0\n",
    "positive = 0\n",
    "JoinedResults = final_rcf_table\n",
    "for j in JoinedResults:\n",
    "    correct_1a = \"Ia\" in j[\"sn_type\"]\n",
    "    if(correct_1a):\n",
    "        positive += 1\n",
    "    if(not(correct_1a)):\n",
    "        negative += 1"
   ]
  },
  {
   "cell_type": "code",
   "execution_count": 13,
   "metadata": {},
   "outputs": [],
   "source": [
    "counters_confidence_1a = [] \n",
    "for i in ResultsTable_List_confidence:\n",
    "    truepositive = 0\n",
    "    falsepositive = 0\n",
    "    JoinedResults = astropy.table.join(i[1], final_rcf_table)\n",
    "    \n",
    "    for j in JoinedResults:\n",
    "        correct_1a = \"Ia\" in j[\"sn_type\"]\n",
    "        classified_1a = \"Ia\" in j[\"Dash\"]\n",
    "        if(correct_1a == True and classified_1a == True):\n",
    "            truepositive += 1\n",
    "        if(correct_1a != True and classified_1a == True):\n",
    "            falsepositive += 1\n",
    "    counters_confidence_1a.append([i[0],truepositive/(positive),falsepositive/(negative),len(JoinedResults)])\n",
    "counters_confidence_1a = np.asarray(counters_confidence_1a)"
   ]
  },
  {
   "cell_type": "code",
   "execution_count": 14,
   "metadata": {},
   "outputs": [
    {
     "name": "stdout",
     "output_type": "stream",
     "text": [
      "100\n"
     ]
    }
   ],
   "source": [
    "ranges = np.linspace(0, 25, 100)\n",
    "ResultsTable_List_rlap = []\n",
    "count = 0\n",
    "\n",
    "for i in ranges:\n",
    "    ResultsTable = Table(\n",
    "                    names=(\"ZTF_Name\", \"Closest\"\n",
    "                    ),\n",
    "                    meta={\"name\": \"Spectrum Results after SNID\"},\n",
    "                    dtype=(\"U64\", \"U64\"\n",
    "                          )\n",
    "                    )\n",
    "    for j in snidoutput:\n",
    "        row = []\n",
    "        row.append(j[0])\n",
    "        if(np.max(j[1][\"rlap\"]) > i):\n",
    "            row.append(j[1][0][\"type\"])\n",
    "            ResultsTable.add_row(row)\n",
    "    \n",
    "    count += 1\n",
    "    if(len(ResultsTable) != 0):\n",
    "        ResultsTable_List_rlap.append([i,ResultsTable])\n",
    "    if(count% 100 == 0):\n",
    "        print(count)"
   ]
  },
  {
   "cell_type": "code",
   "execution_count": 110,
   "metadata": {},
   "outputs": [],
   "source": [
    "negative = 0\n",
    "positive = 0\n",
    "for j in final_rcf_table:\n",
    "    correct_1a = \"Ia\" in j[\"sn_type\"]\n",
    "    if(correct_1a):\n",
    "        positive += 1\n",
    "    if(not(correct_1a)):\n",
    "        negative += 1"
   ]
  },
  {
   "cell_type": "code",
   "execution_count": 16,
   "metadata": {},
   "outputs": [],
   "source": [
    "counters_rlap_1a = [] \n",
    "for i in ResultsTable_List_rlap:\n",
    "    truepositive = 0\n",
    "    falsepositive = 0\n",
    "    JoinedResults = astropy.table.join(i[1], final_rcf_table)\n",
    "    for j in JoinedResults:\n",
    "        correct_1a = \"Ia\" in j[\"sn_type\"]\n",
    "        classified_1a = \"Ia\" in j[\"Closest\"]\n",
    "        if(correct_1a == True and classified_1a == True):\n",
    "            truepositive += 1\n",
    "        if(correct_1a != True and classified_1a == True):\n",
    "            falsepositive += 1\n",
    "    counters_rlap_1a.append([i[0],truepositive/(positive),falsepositive/(negative),len(JoinedResults), truepositive, falsepositive])\n",
    "counters_rlap_1a = np.asarray(counters_rlap_1a)"
   ]
  },
  {
   "cell_type": "code",
   "execution_count": 17,
   "metadata": {},
   "outputs": [
    {
     "name": "stdout",
     "output_type": "stream",
     "text": [
      "547 217\n",
      "0 0\n"
     ]
    }
   ],
   "source": [
    "print(positive,negative)\n",
    "print(truepositive,falsepositive)"
   ]
  },
  {
   "cell_type": "code",
   "execution_count": 36,
   "metadata": {},
   "outputs": [],
   "source": [
    "snid_results = Table.read(\"/home/xhall/Documents/NewZTF/sample_2018/ML_sample_snid_2018.csv\")"
   ]
  },
  {
   "cell_type": "code",
   "execution_count": 37,
   "metadata": {},
   "outputs": [
    {
     "data": {
      "text/html": [
       "<i>Row index=0</i>\n",
       "<table id=\"table139722585911760\">\n",
       "<thead><tr><th>Version</th><th>ZTF_Name</th><th>sntemplate</th><th>c_rlap</th><th>c_snid</th><th>z_rlap</th><th>z_snid</th><th>z_snid_err</th><th>age</th><th>age_flag</th><th>z_level</th><th>TNS_Name</th><th>discovered_by</th><th>tns_internal_name</th><th>RA_sn</th><th>Dec_sn</th><th>sn_type</th><th>z_sn</th><th>g_jd_max</th><th>g_max</th><th>g_unc_max</th><th>r_jd_max</th><th>r_max</th><th>r_unc_max</th><th>ebv</th><th>host_name_PS1</th><th>RA_host_PS1</th><th>Dec_host_PS1</th><th>z_host</th><th>sep</th><th>projected_kpc</th><th>gKron_PS1</th><th>rKron_PS1</th><th>iKron_PS1</th><th>zKron_PS1</th><th>yKron_PS1</th><th>w1_host</th><th>w2_host</th><th>ebv_host</th><th>Class</th><th>col3</th><th>col4</th><th>col5</th><th>col6</th><th>col7</th><th>col9</th></tr></thead>\n",
       "<thead><tr><th>str39</th><th>str12</th><th>str11</th><th>float64</th><th>str7</th><th>float64</th><th>float64</th><th>float64</th><th>float64</th><th>int64</th><th>int64</th><th>str9</th><th>str13</th><th>str29</th><th>float64</th><th>float64</th><th>str9</th><th>float64</th><th>float64</th><th>float64</th><th>float64</th><th>float64</th><th>float64</th><th>float64</th><th>float64</th><th>str21</th><th>float64</th><th>float64</th><th>float64</th><th>float64</th><th>float64</th><th>float64</th><th>float64</th><th>float64</th><th>float64</th><th>float64</th><th>float64</th><th>float64</th><th>float64</th><th>str9</th><th>float64</th><th>float64</th><th>float64</th><th>float64</th><th>float64</th><th>int64</th></tr></thead>\n",
       "<tr><td>ZTF18aabssth_20180309_P60_v1.ascii</td><td>ZTF18aabssth</td><td>sn2011dh</td><td>7.86</td><td>IIb</td><td>7.86</td><td>0.0358</td><td>0.0075</td><td>-15.6</td><td>0</td><td>1</td><td>SN2018aex</td><td>ZTF</td><td>ZTF18aabssth</td><td>165.1891017637735</td><td>22.287497041839774</td><td>II</td><td>0.026000000000000002</td><td>2458494.0531481</td><td>20.44230842590332</td><td>0.1942138969898224</td><td>2458218.7148727</td><td>18.741601943969727</td><td>0.0452471598982811</td><td>0.01536</td><td>PSO J165.1878+22.2877</td><td>165.18778907</td><td>22.28771869</td><td>0.022914</td><td>4.444857426598462</td><td>2.0566548608097266</td><td>16.885400772094727</td><td>16.492399215698242</td><td>16.382200241088867</td><td>16.378400802612305</td><td>16.610000610351562</td><td>15.79401524178536</td><td>16.38349243564084</td><td>0.015369999999999997</td><td>II</td><td>0.026</td><td>0.022914</td><td>2458186.5</td><td>2458218.66</td><td>-32.16</td><td>1</td></tr>\n",
       "</table>"
      ],
      "text/plain": [
       "<Row index=0>\n",
       "             Version                 ZTF_Name   sntemplate  c_rlap c_snid  z_rlap  z_snid z_snid_err   age   age_flag z_level  TNS_Name discovered_by tns_internal_name       RA_sn             Dec_sn       sn_type         z_sn             g_jd_max          g_max           g_unc_max          r_jd_max          r_max            r_unc_max        ebv       host_name_PS1     RA_host_PS1  Dec_host_PS1  z_host         sep          projected_kpc        gKron_PS1          rKron_PS1          iKron_PS1          zKron_PS1          yKron_PS1           w1_host           w2_host            ebv_host       Class   col3    col4      col5      col6      col7   col9\n",
       "              str39                   str12       str11    float64  str7  float64 float64  float64   float64  int64    int64     str9       str13           str29            float64           float64         str9        float64            float64          float64           float64           float64          float64            float64       float64         str21           float64      float64    float64       float64           float64            float64            float64            float64            float64            float64            float64           float64            float64         str9 float64 float64   float64   float64   float64 int64\n",
       "---------------------------------- ------------ ---------- ------- ------ ------- ------- ---------- ------- -------- ------- --------- ------------- ----------------- ----------------- ------------------ ------- -------------------- --------------- ----------------- ------------------ --------------- ------------------ ------------------ ------- --------------------- ------------ ------------ -------- ----------------- ------------------ ------------------ ------------------ ------------------ ------------------ ------------------ ----------------- ----------------- -------------------- ----- ------- -------- --------- ---------- ------- -----\n",
       "ZTF18aabssth_20180309_P60_v1.ascii ZTF18aabssth   sn2011dh    7.86    IIb    7.86  0.0358     0.0075   -15.6        0       1 SN2018aex           ZTF      ZTF18aabssth 165.1891017637735 22.287497041839774      II 0.026000000000000002 2458494.0531481 20.44230842590332 0.1942138969898224 2458218.7148727 18.741601943969727 0.0452471598982811 0.01536 PSO J165.1878+22.2877 165.18778907  22.28771869 0.022914 4.444857426598462 2.0566548608097266 16.885400772094727 16.492399215698242 16.382200241088867 16.378400802612305 16.610000610351562 15.79401524178536 16.38349243564084 0.015369999999999997    II   0.026 0.022914 2458186.5 2458218.66  -32.16     1"
      ]
     },
     "execution_count": 37,
     "metadata": {},
     "output_type": "execute_result"
    }
   ],
   "source": [
    "snid_results[0]"
   ]
  },
  {
   "cell_type": "code",
   "execution_count": 140,
   "metadata": {},
   "outputs": [],
   "source": [
    "indicies = []\n",
    "for i in np.unique(snid_results[\"ZTF_Name\"]):\n",
    "    indicies.append(np.where(snid_results[\"ZTF_Name\"] == i)[0][-1])"
   ]
  },
  {
   "cell_type": "code",
   "execution_count": 143,
   "metadata": {},
   "outputs": [],
   "source": [
    "snid_results_unique = snid_results[indicies]"
   ]
  },
  {
   "cell_type": "code",
   "execution_count": 171,
   "metadata": {},
   "outputs": [],
   "source": [
    "negative = 0\n",
    "positive = 0\n",
    "for j in snid_results:\n",
    "    correct_1a = \"Ia\" in j[\"sn_type\"]\n",
    "    if(correct_1a):\n",
    "        positive += 1\n",
    "    if(not(correct_1a)):\n",
    "        negative += 1"
   ]
  },
  {
   "cell_type": "code",
   "execution_count": 172,
   "metadata": {},
   "outputs": [
    {
     "name": "stdout",
     "output_type": "stream",
     "text": [
      "ZTF18aavskep_20190119_NOT_v1.ascii Ia-csm IIn\n"
     ]
    }
   ],
   "source": [
    "counters_rlap_1a = [] \n",
    "for i in np.linspace(0,25,101):\n",
    "    truepositive = 0\n",
    "    falsepositive = 0\n",
    "    JoinedResults = snid_results[np.where(snid_results[\"c_rlap\"] > i)]\n",
    "    for line in JoinedResults:\n",
    "        correct_1a = \"Ia\" in line[\"sn_type\"]\n",
    "        classified_1a = \"Ia\" in line[\"c_snid\"]\n",
    "        if(correct_1a == True and classified_1a == True):\n",
    "            truepositive += 1\n",
    "        if(correct_1a != True and classified_1a == True):\n",
    "            falsepositive += 1\n",
    "            if(i == 25):\n",
    "                print(line[\"Version\"], line[\"c_snid\"], line[\"sn_type\"])\n",
    "    counters_rlap_1a.append([i,truepositive/(positive),falsepositive/(negative),len(JoinedResults), truepositive, falsepositive])\n",
    "counters_rlap_1a = np.asarray(counters_rlap_1a)"
   ]
  },
  {
   "cell_type": "code",
   "execution_count": 130,
   "metadata": {},
   "outputs": [
    {
     "data": {
      "text/plain": [
       "array([[0.00000000e+00, 9.26873857e-01, 1.10599078e-01, 1.54300000e+03,\n",
       "        5.07000000e+02, 2.40000000e+01],\n",
       "       [1.00000000e+00, 9.26873857e-01, 1.10599078e-01, 1.54300000e+03,\n",
       "        5.07000000e+02, 2.40000000e+01],\n",
       "       [2.00000000e+00, 9.26873857e-01, 1.10599078e-01, 1.54200000e+03,\n",
       "        5.07000000e+02, 2.40000000e+01],\n",
       "       [3.00000000e+00, 9.26873857e-01, 1.10599078e-01, 1.53900000e+03,\n",
       "        5.07000000e+02, 2.40000000e+01],\n",
       "       [4.00000000e+00, 9.26873857e-01, 1.05990783e-01, 1.52900000e+03,\n",
       "        5.07000000e+02, 2.30000000e+01],\n",
       "       [5.00000000e+00, 9.26873857e-01, 9.21658986e-02, 1.45000000e+03,\n",
       "        5.07000000e+02, 2.00000000e+01],\n",
       "       [6.00000000e+00, 9.17733090e-01, 7.37327189e-02, 1.27900000e+03,\n",
       "        5.02000000e+02, 1.60000000e+01],\n",
       "       [7.00000000e+00, 8.81170018e-01, 5.06912442e-02, 1.10200000e+03,\n",
       "        4.82000000e+02, 1.10000000e+01],\n",
       "       [8.00000000e+00, 8.20840951e-01, 3.68663594e-02, 9.66000000e+02,\n",
       "        4.49000000e+02, 8.00000000e+00],\n",
       "       [9.00000000e+00, 7.64168190e-01, 3.22580645e-02, 8.34000000e+02,\n",
       "        4.18000000e+02, 7.00000000e+00],\n",
       "       [1.00000000e+01, 7.03839122e-01, 9.21658986e-03, 7.08000000e+02,\n",
       "        3.85000000e+02, 2.00000000e+00],\n",
       "       [1.10000000e+01, 6.32541133e-01, 1.38248848e-02, 5.93000000e+02,\n",
       "        3.46000000e+02, 3.00000000e+00],\n",
       "       [1.20000000e+01, 5.70383912e-01, 1.38248848e-02, 5.10000000e+02,\n",
       "        3.12000000e+02, 3.00000000e+00],\n",
       "       [1.30000000e+01, 5.28336380e-01, 1.38248848e-02, 4.47000000e+02,\n",
       "        2.89000000e+02, 3.00000000e+00],\n",
       "       [1.40000000e+01, 4.66179159e-01, 1.38248848e-02, 3.80000000e+02,\n",
       "        2.55000000e+02, 3.00000000e+00],\n",
       "       [1.50000000e+01, 4.09506399e-01, 9.21658986e-03, 3.25000000e+02,\n",
       "        2.24000000e+02, 2.00000000e+00],\n",
       "       [1.60000000e+01, 3.40036563e-01, 9.21658986e-03, 2.64000000e+02,\n",
       "        1.86000000e+02, 2.00000000e+00],\n",
       "       [1.70000000e+01, 2.76051188e-01, 4.60829493e-03, 2.04000000e+02,\n",
       "        1.51000000e+02, 1.00000000e+00],\n",
       "       [1.80000000e+01, 2.23034735e-01, 4.60829493e-03, 1.59000000e+02,\n",
       "        1.22000000e+02, 1.00000000e+00],\n",
       "       [1.90000000e+01, 1.79159049e-01, 4.60829493e-03, 1.28000000e+02,\n",
       "        9.80000000e+01, 1.00000000e+00],\n",
       "       [2.00000000e+01, 1.48080439e-01, 4.60829493e-03, 9.90000000e+01,\n",
       "        8.10000000e+01, 1.00000000e+00],\n",
       "       [2.10000000e+01, 1.13345521e-01, 4.60829493e-03, 7.80000000e+01,\n",
       "        6.20000000e+01, 1.00000000e+00],\n",
       "       [2.20000000e+01, 8.59232176e-02, 4.60829493e-03, 5.70000000e+01,\n",
       "        4.70000000e+01, 1.00000000e+00],\n",
       "       [2.30000000e+01, 7.31261426e-02, 4.60829493e-03, 5.00000000e+01,\n",
       "        4.00000000e+01, 1.00000000e+00],\n",
       "       [2.40000000e+01, 5.30164534e-02, 4.60829493e-03, 3.70000000e+01,\n",
       "        2.90000000e+01, 1.00000000e+00],\n",
       "       [2.50000000e+01, 4.57038391e-02, 4.60829493e-03, 3.20000000e+01,\n",
       "        2.50000000e+01, 1.00000000e+00]])"
      ]
     },
     "execution_count": 130,
     "metadata": {},
     "output_type": "execute_result"
    }
   ],
   "source": [
    "counters_rlap_1a"
   ]
  },
  {
   "cell_type": "code",
   "execution_count": 113,
   "metadata": {},
   "outputs": [
    {
     "data": {
      "text/plain": [
       "3"
      ]
     },
     "execution_count": 113,
     "metadata": {},
     "output_type": "execute_result"
    }
   ],
   "source": [
    "len(JoinedResults[np.where(JoinedResults[\"ZTF_Name\"] == ztf)])"
   ]
  },
  {
   "cell_type": "code",
   "execution_count": 114,
   "metadata": {},
   "outputs": [
    {
     "data": {
      "text/plain": [
       "array([], shape=(0, 6), dtype=float64)"
      ]
     },
     "execution_count": 114,
     "metadata": {},
     "output_type": "execute_result"
    }
   ],
   "source": [
    "counters_rlap_1a[counters_rlap_1a[:,0] == 13]"
   ]
  },
  {
   "cell_type": "code",
   "execution_count": 173,
   "metadata": {},
   "outputs": [
    {
     "data": {
      "text/plain": [
       "Text(0, 0.5, 'True Positive Rate')"
      ]
     },
     "execution_count": 173,
     "metadata": {},
     "output_type": "execute_result"
    },
    {
     "data": {
      "image/png": "[encoded data removed]",
      "text/plain": [
       "<Figure size 432x288 with 1 Axes>"
      ]
     },
     "metadata": {
      "needs_background": "light"
     },
     "output_type": "display_data"
    }
   ],
   "source": [
    "plt.scatter(counters_rlap_1a[:,2], counters_rlap_1a[:,1], color = \"blue\")\n",
    "#plt.plot(counters_confidence_1a[:,2], counters_confidence_1a[:,1], color = \"red\")\n",
    "plt.title(\"ROC of if it is a 1a\")\n",
    "plt.xlabel(\"False Positive Rate\")\n",
    "plt.ylabel(\"True Positive Rate\")"
   ]
  },
  {
   "cell_type": "code",
   "execution_count": 19,
   "metadata": {},
   "outputs": [
    {
     "data": {
      "text/plain": [
       "array([0., 0., 0., 0., 0., 0.])"
      ]
     },
     "execution_count": 19,
     "metadata": {},
     "output_type": "execute_result"
    }
   ],
   "source": [
    "counters_rlap_1a[np.where(counters_rlap_1a[:,2] == 0)][0]"
   ]
  },
  {
   "cell_type": "code",
   "execution_count": 20,
   "metadata": {},
   "outputs": [],
   "source": [
    "counters_confidence = [] \n",
    "for i in ResultsTable_List_confidence:\n",
    "    truepositive = 0\n",
    "    wrong = []\n",
    "    JoinedResults = astropy.table.join(i[1], final_rcf_table)\n",
    "    for j in JoinedResults:\n",
    "        if(j[\"sn_type\"] != '-'):\n",
    "            correct_1a = \"Ia\" in j[\"sn_type\"]\n",
    "            classified_1a = \"Ia\" in j[\"Dash\"]\n",
    "            if(correct_1a == True and classified_1a == True):\n",
    "                truepositive += 1\n",
    "    wrong = np.asarray(wrong)\n",
    "    counters_confidence.append([i[0],truepositive,positive, wrong])\n",
    "counters_confidence = np.asarray(counters_confidence)"
   ]
  },
  {
   "cell_type": "code",
   "execution_count": 21,
   "metadata": {},
   "outputs": [
    {
     "data": {
      "text/plain": [
       "Text(0, 0.5, 'true positive rate')"
      ]
     },
     "execution_count": 21,
     "metadata": {},
     "output_type": "execute_result"
    },
    {
     "data": {
      "image/png": "[encoded data removed]",
      "text/plain": [
       "<Figure size 432x288 with 1 Axes>"
      ]
     },
     "metadata": {
      "needs_background": "light"
     },
     "output_type": "display_data"
    }
   ],
   "source": [
    "plt.plot(counters_confidence[:,0], counters_confidence[:,1]/(counters_confidence[:,2]), color = \"red\")\n",
    "plt.title(\"confidence vs true positive rate\")\n",
    "plt.xlabel(\"confidence\")\n",
    "plt.ylabel(\"true positive rate\")"
   ]
  },
  {
   "cell_type": "code",
   "execution_count": 22,
   "metadata": {},
   "outputs": [],
   "source": [
    "counters_rlap = [] \n",
    "for i in ResultsTable_List_rlap:\n",
    "    counter = 0\n",
    "    wrong = []\n",
    "    JoinedResults = astropy.table.join(i[1], final_rcf_table)\n",
    "    for j in JoinedResults:\n",
    "        correct_1a = \"Ia\" in j[\"sn_type\"]\n",
    "        classified_1a = \"Ia\" in j[\"Closest\"]\n",
    "        if(correct_1a==classified_1a):\n",
    "            counter += 1\n",
    "        else:\n",
    "            wrong.append([j[\"ZTF_Name\"], j[\"sn_type\"], j[\"Closest\"]])\n",
    "    wrong = np.asarray(wrong)\n",
    "    counters_rlap.append([i[0],counter,len(JoinedResults), wrong])\n",
    "counters_rlap = np.asarray(counters_rlap)"
   ]
  },
  {
   "cell_type": "code",
   "execution_count": 45,
   "metadata": {},
   "outputs": [
    {
     "ename": "ZeroDivisionError",
     "evalue": "division by zero",
     "output_type": "error",
     "traceback": [
      "\u001b[0;31m---------------------------------------------------------------------------\u001b[0m",
      "\u001b[0;31mZeroDivisionError\u001b[0m                         Traceback (most recent call last)",
      "\u001b[0;32m<ipython-input-45-7c84881f035c>\u001b[0m in \u001b[0;36m<module>\u001b[0;34m\u001b[0m\n\u001b[0;32m----> 1\u001b[0;31m \u001b[0mplt\u001b[0m\u001b[0;34m.\u001b[0m\u001b[0mplot\u001b[0m\u001b[0;34m(\u001b[0m\u001b[0mcounters_rlap\u001b[0m\u001b[0;34m[\u001b[0m\u001b[0;34m:\u001b[0m\u001b[0;34m,\u001b[0m\u001b[0;36m0\u001b[0m\u001b[0;34m]\u001b[0m\u001b[0;34m,\u001b[0m \u001b[0mcounters_rlap\u001b[0m\u001b[0;34m[\u001b[0m\u001b[0;34m:\u001b[0m\u001b[0;34m,\u001b[0m\u001b[0;36m1\u001b[0m\u001b[0;34m]\u001b[0m\u001b[0;34m/\u001b[0m\u001b[0mcounters_rlap\u001b[0m\u001b[0;34m[\u001b[0m\u001b[0;34m:\u001b[0m\u001b[0;34m,\u001b[0m\u001b[0;36m2\u001b[0m\u001b[0;34m]\u001b[0m\u001b[0;34m,\u001b[0m \u001b[0mcolor\u001b[0m \u001b[0;34m=\u001b[0m \u001b[0;34m\"blue\"\u001b[0m\u001b[0;34m)\u001b[0m\u001b[0;34m\u001b[0m\u001b[0;34m\u001b[0m\u001b[0m\n\u001b[0m\u001b[1;32m      2\u001b[0m \u001b[0mplt\u001b[0m\u001b[0;34m.\u001b[0m\u001b[0mxlim\u001b[0m\u001b[0;34m(\u001b[0m\u001b[0;36m0\u001b[0m\u001b[0;34m,\u001b[0m \u001b[0;36m25\u001b[0m\u001b[0;34m)\u001b[0m\u001b[0;34m\u001b[0m\u001b[0;34m\u001b[0m\u001b[0m\n\u001b[1;32m      3\u001b[0m \u001b[0mplt\u001b[0m\u001b[0;34m.\u001b[0m\u001b[0mtitle\u001b[0m\u001b[0;34m(\u001b[0m\u001b[0;34m\"rlap vs accuracy\"\u001b[0m\u001b[0;34m)\u001b[0m\u001b[0;34m\u001b[0m\u001b[0;34m\u001b[0m\u001b[0m\n\u001b[1;32m      4\u001b[0m \u001b[0mplt\u001b[0m\u001b[0;34m.\u001b[0m\u001b[0mxlabel\u001b[0m\u001b[0;34m(\u001b[0m\u001b[0;34m\"rlap\"\u001b[0m\u001b[0;34m)\u001b[0m\u001b[0;34m\u001b[0m\u001b[0;34m\u001b[0m\u001b[0m\n\u001b[1;32m      5\u001b[0m \u001b[0mplt\u001b[0m\u001b[0;34m.\u001b[0m\u001b[0mylabel\u001b[0m\u001b[0;34m(\u001b[0m\u001b[0;34m\"accuracy\"\u001b[0m\u001b[0;34m)\u001b[0m\u001b[0;34m\u001b[0m\u001b[0;34m\u001b[0m\u001b[0m\n",
      "\u001b[0;31mZeroDivisionError\u001b[0m: division by zero"
     ]
    }
   ],
   "source": [
    "plt.plot(counters_rlap[:,0], counters_rlap[:,1]/counters_rlap[:,2], color = \"blue\")\n",
    "plt.xlim(0, 25)\n",
    "plt.title(\"rlap vs accuracy\")\n",
    "plt.xlabel(\"rlap\")\n",
    "plt.ylabel(\"accuracy\")"
   ]
  },
  {
   "cell_type": "code",
   "execution_count": 46,
   "metadata": {},
   "outputs": [],
   "source": [
    "ResultsTable_List_confidence_rlap = []\n",
    "ranges = np.linspace(0, 25, 101)\n",
    "for rlap in ranges:\n",
    "    count = 0\n",
    "    ResultsTable = Table(\n",
    "                    names=(\"ZTF_Name\", \"Dash\", \"Confidence\",\n",
    "                    ),\n",
    "                    meta={\"name\": \"Spectrum Results after SNID\"},\n",
    "                    dtype=(\"U64\", \"U64\", \"float64\",\n",
    "                          )\n",
    "                    )\n",
    "\n",
    "    for i in dashoutput:\n",
    "        row = []\n",
    "        row.append(i[-1])\n",
    "        reliable = np.where(np.asarray(i[4]) != 'Unreliable matches')[0]\n",
    "        if(len(reliable) != 0):\n",
    "            best = np.asarray(i[2])[:,0][reliable]\n",
    "            c = Counter(best)\n",
    "            rlap_list = []\n",
    "            for rlap_vals in np.asarray(i[3]):\n",
    "                rlap_list.append(float(rlap_vals.split(\":\")[-1]))\n",
    "            best_rlap = np.max(rlap_list)\n",
    "            if(best_rlap > rlap):\n",
    "                row.append(c.most_common()[0][0])\n",
    "                row.append(best_rlap)\n",
    "                ResultsTable.add_row(row)\n",
    "\n",
    "        count += 1\n",
    "    if(count % 50 == 0):\n",
    "        print(count)\n",
    "            \n",
    "    if(len(ResultsTable) != 0):\n",
    "        ResultsTable_List_confidence_rlap.append([rlap,ResultsTable])"
   ]
  },
  {
   "cell_type": "code",
   "execution_count": 47,
   "metadata": {},
   "outputs": [],
   "source": [
    "counters_confidence_rlap = [] \n",
    "for i in ResultsTable_List_confidence_rlap:\n",
    "    counter = 0\n",
    "    wrong = []\n",
    "    JoinedResults = astropy.table.join(i[1], final_rcf_table)\n",
    "    for j in JoinedResults:\n",
    "        if(j[\"sn_type\"] != '-'):\n",
    "            correct_1a = \"Ia\" in j[\"sn_type\"]\n",
    "            classified_1a = \"Ia\" in j[\"Dash\"]\n",
    "            if(correct_1a==classified_1a):\n",
    "                counter += 1\n",
    "            else:\n",
    "                wrong.append([j[\"ZTF_Name\"], j[\"sn_type\"], j[\"Dash\"]])\n",
    "    wrong = np.asarray(wrong)\n",
    "    if(counter != 0):\n",
    "        counters_confidence_rlap.append([i[0],counter,len(JoinedResults), wrong])\n",
    "counters_confidence_rlap = np.asarray(counters_confidence_rlap)"
   ]
  },
  {
   "cell_type": "code",
   "execution_count": 48,
   "metadata": {},
   "outputs": [
    {
     "data": {
      "text/plain": [
       "Text(0, 0.5, 'true positive')"
      ]
     },
     "execution_count": 48,
     "metadata": {},
     "output_type": "execute_result"
    },
    {
     "data": {
      "image/png": "[encoded data removed]",
      "text/plain": [
       "<Figure size 432x288 with 1 Axes>"
      ]
     },
     "metadata": {
      "needs_background": "light"
     },
     "output_type": "display_data"
    }
   ],
   "source": [
    "plt.plot(counters_confidence_rlap[:,0], counters_confidence_rlap[:,1]/counters_confidence_rlap[:,2], color = \"red\")\n",
    "plt.title(\"rlap vs true positive\")\n",
    "plt.xlabel(\"rlap\")\n",
    "plt.ylabel(\"true positive\")"
   ]
  },
  {
   "cell_type": "code",
   "execution_count": 49,
   "metadata": {},
   "outputs": [
    {
     "ename": "ZeroDivisionError",
     "evalue": "division by zero",
     "output_type": "error",
     "traceback": [
      "\u001b[0;31m---------------------------------------------------------------------------\u001b[0m",
      "\u001b[0;31mZeroDivisionError\u001b[0m                         Traceback (most recent call last)",
      "\u001b[0;32m<ipython-input-49-89a285bfaf3d>\u001b[0m in \u001b[0;36m<module>\u001b[0;34m\u001b[0m\n\u001b[1;32m      1\u001b[0m \u001b[0mfig\u001b[0m \u001b[0;34m=\u001b[0m \u001b[0mplt\u001b[0m\u001b[0;34m.\u001b[0m\u001b[0mfigure\u001b[0m\u001b[0;34m(\u001b[0m\u001b[0mfigsize\u001b[0m \u001b[0;34m=\u001b[0m \u001b[0;34m(\u001b[0m\u001b[0;36m20\u001b[0m\u001b[0;34m,\u001b[0m\u001b[0;36m10\u001b[0m\u001b[0;34m)\u001b[0m\u001b[0;34m)\u001b[0m\u001b[0;34m\u001b[0m\u001b[0;34m\u001b[0m\u001b[0m\n\u001b[1;32m      2\u001b[0m \u001b[0mplt\u001b[0m\u001b[0;34m.\u001b[0m\u001b[0mplot\u001b[0m\u001b[0;34m(\u001b[0m\u001b[0mcounters_confidence_rlap\u001b[0m\u001b[0;34m[\u001b[0m\u001b[0;34m:\u001b[0m\u001b[0;34m,\u001b[0m\u001b[0;36m0\u001b[0m\u001b[0;34m]\u001b[0m\u001b[0;34m,\u001b[0m \u001b[0mcounters_confidence_rlap\u001b[0m\u001b[0;34m[\u001b[0m\u001b[0;34m:\u001b[0m\u001b[0;34m,\u001b[0m\u001b[0;36m1\u001b[0m\u001b[0;34m]\u001b[0m\u001b[0;34m/\u001b[0m\u001b[0mcounters_confidence_rlap\u001b[0m\u001b[0;34m[\u001b[0m\u001b[0;34m:\u001b[0m\u001b[0;34m,\u001b[0m\u001b[0;36m2\u001b[0m\u001b[0;34m]\u001b[0m\u001b[0;34m,\u001b[0m \u001b[0mcolor\u001b[0m \u001b[0;34m=\u001b[0m \u001b[0;34m\"red\"\u001b[0m\u001b[0;34m)\u001b[0m\u001b[0;34m\u001b[0m\u001b[0;34m\u001b[0m\u001b[0m\n\u001b[0;32m----> 3\u001b[0;31m \u001b[0mplt\u001b[0m\u001b[0;34m.\u001b[0m\u001b[0mplot\u001b[0m\u001b[0;34m(\u001b[0m\u001b[0mcounters_rlap\u001b[0m\u001b[0;34m[\u001b[0m\u001b[0;34m:\u001b[0m\u001b[0;34m,\u001b[0m\u001b[0;36m0\u001b[0m\u001b[0;34m]\u001b[0m\u001b[0;34m,\u001b[0m \u001b[0mcounters_rlap\u001b[0m\u001b[0;34m[\u001b[0m\u001b[0;34m:\u001b[0m\u001b[0;34m,\u001b[0m\u001b[0;36m1\u001b[0m\u001b[0;34m]\u001b[0m\u001b[0;34m/\u001b[0m\u001b[0mcounters_rlap\u001b[0m\u001b[0;34m[\u001b[0m\u001b[0;34m:\u001b[0m\u001b[0;34m,\u001b[0m\u001b[0;36m2\u001b[0m\u001b[0;34m]\u001b[0m\u001b[0;34m,\u001b[0m \u001b[0mcolor\u001b[0m \u001b[0;34m=\u001b[0m \u001b[0;34m\"blue\"\u001b[0m\u001b[0;34m)\u001b[0m\u001b[0;34m\u001b[0m\u001b[0;34m\u001b[0m\u001b[0m\n\u001b[0m\u001b[1;32m      4\u001b[0m \u001b[0mplt\u001b[0m\u001b[0;34m.\u001b[0m\u001b[0mtitle\u001b[0m\u001b[0;34m(\u001b[0m\u001b[0;34m\"rlap vs Accuracy\"\u001b[0m\u001b[0;34m)\u001b[0m\u001b[0;34m\u001b[0m\u001b[0;34m\u001b[0m\u001b[0m\n\u001b[1;32m      5\u001b[0m \u001b[0mplt\u001b[0m\u001b[0;34m.\u001b[0m\u001b[0mxlabel\u001b[0m\u001b[0;34m(\u001b[0m\u001b[0;34m\"rlap\"\u001b[0m\u001b[0;34m)\u001b[0m\u001b[0;34m\u001b[0m\u001b[0;34m\u001b[0m\u001b[0m\n",
      "\u001b[0;31mZeroDivisionError\u001b[0m: division by zero"
     ]
    },
    {
     "data": {
      "image/png": "[encoded data removed]",
      "text/plain": [
       "<Figure size 1440x720 with 1 Axes>"
      ]
     },
     "metadata": {
      "needs_background": "light"
     },
     "output_type": "display_data"
    }
   ],
   "source": [
    "fig = plt.figure(figsize = (20,10))\n",
    "plt.plot(counters_confidence_rlap[:,0], counters_confidence_rlap[:,1]/counters_confidence_rlap[:,2], color = \"red\")\n",
    "plt.plot(counters_rlap[:,0], counters_rlap[:,1]/counters_rlap[:,2], color = \"blue\")\n",
    "plt.title(\"rlap vs Accuracy\")\n",
    "plt.xlabel(\"rlap\")\n",
    "plt.ylabel(\"Accuracy\")"
   ]
  },
  {
   "cell_type": "code",
   "execution_count": 50,
   "metadata": {},
   "outputs": [],
   "source": [
    "counters_confidence_1a_rlap = [] \n",
    "for i in ResultsTable_List_confidence_rlap:\n",
    "    truepositive = 0\n",
    "    falsepositive = 0\n",
    "    JoinedResults = astropy.table.join(i[1], final_rcf_table)\n",
    "    \n",
    "    for j in JoinedResults:\n",
    "        correct_1a = \"Ia\" in j[\"sn_type\"]\n",
    "        classified_1a = \"Ia\" in j[\"Dash\"]\n",
    "        if(correct_1a == True and classified_1a == True):\n",
    "            truepositive += 1\n",
    "        if(correct_1a != True and classified_1a == True):\n",
    "            falsepositive += 1\n",
    "    counters_confidence_1a_rlap.append([i[0],truepositive/(positive),falsepositive/(negative),len(JoinedResults), truepositive, falsepositive])\n",
    "counters_confidence_1a_rlap = np.asarray(counters_confidence_1a_rlap)"
   ]
  },
  {
   "cell_type": "code",
   "execution_count": 174,
   "metadata": {},
   "outputs": [
    {
     "data": {
      "text/plain": [
       "Text(0, 0.5, 'True Positive Rate')"
      ]
     },
     "execution_count": 174,
     "metadata": {},
     "output_type": "execute_result"
    },
    {
     "data": {
      "image/png": "[encoded data removed]",
      "text/plain": [
       "<Figure size 432x288 with 1 Axes>"
      ]
     },
     "metadata": {
      "needs_background": "light"
     },
     "output_type": "display_data"
    }
   ],
   "source": [
    "snidroc = plt.scatter(counters_rlap_1a[:,2], counters_rlap_1a[:,1], color = \"blue\")\n",
    "dashroc = plt.scatter(counters_confidence_1a_rlap[:,2], counters_confidence_1a_rlap[:,1], color = \"red\")\n",
    "#plt.text(counters_rlap_1a[:,2], counters_rlap_1a[:,1], counters_rlap_1a[:,0])\n",
    "plt.title(\"ROC of if it is a 1a\")\n",
    "plt.xlabel(\"False Positive Rate\")\n",
    "plt.ylabel(\"True Positive Rate\")"
   ]
  },
  {
   "cell_type": "code",
   "execution_count": 175,
   "metadata": {},
   "outputs": [],
   "source": [
    "TPRFPRSNID = Table(\n",
    "                    names=(\"FPR\", \"TPR\",\n",
    "                    ),\n",
    "                    meta={\"name\": \"Spectrum Results after SNID\"},\n",
    "                    dtype=(\"float64\", \"float64\",\n",
    "                          )\n",
    "                    )\n",
    "for i in zip(counters_rlap_1a[:,2], counters_rlap_1a[:,1]):\n",
    "    TPRFPRSNID.add_row(i)"
   ]
  },
  {
   "cell_type": "code",
   "execution_count": 176,
   "metadata": {},
   "outputs": [],
   "source": [
    "TPRFPRDASH = Table(\n",
    "                    names=(\"FPR\", \"TPR\",\n",
    "                    ),\n",
    "                    meta={\"name\": \"Spectrum Results after SNID\"},\n",
    "                    dtype=(\"float64\", \"float64\",\n",
    "                          )\n",
    "                    )\n",
    "for i in zip(counters_confidence_1a_rlap[:,2], counters_confidence_1a_rlap[:,1]):\n",
    "    TPRFPRDASH.add_row(i)"
   ]
  },
  {
   "cell_type": "code",
   "execution_count": 177,
   "metadata": {},
   "outputs": [],
   "source": [
    "astropy.io.ascii.write(TPRFPRSNID, 'TPRFPRSNID.ascii', format='fast_tab', fast_writer=False) \n",
    "astropy.io.ascii.write(TPRFPRDASH, 'TPRFPRDASH.ascii', format='fast_tab', fast_writer=False) "
   ]
  },
  {
   "cell_type": "code",
   "execution_count": 52,
   "metadata": {},
   "outputs": [
    {
     "data": {
      "text/plain": [
       "array([9.50000000e+00, 6.35910224e-02, 0.00000000e+00, 8.80000000e+01,\n",
       "       5.10000000e+01, 0.00000000e+00])"
      ]
     },
     "execution_count": 52,
     "metadata": {},
     "output_type": "execute_result"
    }
   ],
   "source": [
    "counters_confidence_1a_rlap[np.where(counters_confidence_1a_rlap[:,2] == 0)][0]"
   ]
  },
  {
   "cell_type": "code",
   "execution_count": null,
   "metadata": {},
   "outputs": [],
   "source": [
    "ResultsTable_List_confidence_rlap = []\n",
    "ranges = np.linspace(0, 25, 6)\n",
    "for rlap in ranges:\n",
    "    count = 0\n",
    "    ResultsTable = Table(\n",
    "                    names=(\"ZTF_Name\", \"Dash\", \"Confidence\",\n",
    "                    ),\n",
    "                    meta={\"name\": \"Spectrum Results after SNID\"},\n",
    "                    dtype=(\"U64\", \"U64\", \"float64\",\n",
    "                          )\n",
    "                    )\n",
    "\n",
    "    for i in dashoutput:\n",
    "        row = []\n",
    "        row.append(i[-1])\n",
    "        reliable = np.where(np.asarray(i[4]) != 'Unreliable matches')[0]\n",
    "        if(len(reliable) != 0):\n",
    "            best = np.asarray(i[2])[:,0][reliable]\n",
    "            c = Counter(best)\n",
    "            rlap_list = []\n",
    "            for rlap_vals in np.asarray(i[3]):\n",
    "                rlap_list.append(float(rlap_vals.split(\":\")[-1]))\n",
    "            best_rlap = np.max(rlap_list)\n",
    "            if(best_rlap > rlap):\n",
    "                row.append(c.most_common()[0][0])\n",
    "                row.append(best_rlap)\n",
    "                ResultsTable.add_row(row)\n",
    "\n",
    "        count += 1\n",
    "    if(count % 50 == 0):\n",
    "        print(count)\n",
    "            \n",
    "    if(len(ResultsTable) != 0):\n",
    "        ResultsTable_List_confidence_rlap.append([rlap,ResultsTable])"
   ]
  },
  {
   "cell_type": "code",
   "execution_count": null,
   "metadata": {},
   "outputs": [],
   "source": [
    "ranges = np.linspace(0, 25, 6)\n",
    "ResultsTable_List_rlap = []\n",
    "count = 0\n",
    "\n",
    "for i in ranges:\n",
    "    ResultsTable = Table(\n",
    "                    names=(\"ZTF_Name\", \"Closest\"\n",
    "                    ),\n",
    "                    meta={\"name\": \"Spectrum Results after SNID\"},\n",
    "                    dtype=(\"U64\", \"U64\"\n",
    "                          )\n",
    "                    )\n",
    "    for j in snidoutput:\n",
    "        row = []\n",
    "        row.append(j[0])\n",
    "        if(np.max(j[1][\"rlap\"]) > i):\n",
    "            row.append(j[1][0][\"type\"])\n",
    "            ResultsTable.add_row(row)\n",
    "    \n",
    "    count += 1\n",
    "    if(len(ResultsTable) != 0):\n",
    "        ResultsTable_List_rlap.append([i,ResultsTable])\n",
    "    if(count% 100 == 0):\n",
    "        print(count)"
   ]
  },
  {
   "cell_type": "code",
   "execution_count": null,
   "metadata": {},
   "outputs": [],
   "source": [
    "counters_confidence_1a_rlap = [] \n",
    "for i in ResultsTable_List_confidence_rlap:\n",
    "    truepositive = 0\n",
    "    falsepositive = 0\n",
    "    JoinedResults = astropy.table.join(i[1], final_rcf_table)\n",
    "    \n",
    "    for j in JoinedResults:\n",
    "        correct_1a = \"Ia\" in j[\"sn_type\"]\n",
    "        classified_1a = \"Ia\" in j[\"Dash\"]\n",
    "        if(correct_1a == True and classified_1a == True):\n",
    "            truepositive += 1\n",
    "        if(correct_1a != True and classified_1a == True):\n",
    "            falsepositive += 1\n",
    "    counters_confidence_1a_rlap.append([i[0],truepositive/(positive),falsepositive/(negative),len(JoinedResults), truepositive, falsepositive])\n",
    "counters_confidence_1a_rlap = np.asarray(counters_confidence_1a_rlap)"
   ]
  },
  {
   "cell_type": "code",
   "execution_count": null,
   "metadata": {},
   "outputs": [],
   "source": [
    "counters_rlap_1a = [] \n",
    "for i in ResultsTable_List_rlap:\n",
    "    truepositive = 0\n",
    "    falsepositive = 0\n",
    "    JoinedResults = astropy.table.join(i[1], final_rcf_table)\n",
    "    for j in JoinedResults:\n",
    "        correct_1a = \"Ia\" in j[\"sn_type\"]\n",
    "        classified_1a = \"Ia\" in j[\"Closest\"]\n",
    "        if(correct_1a == True and classified_1a == True):\n",
    "            truepositive += 1\n",
    "        if(correct_1a != True and classified_1a == True):\n",
    "            falsepositive += 1\n",
    "    counters_rlap_1a.append([i[0],truepositive/(positive),falsepositive/(negative),len(JoinedResults), truepositive, falsepositive])\n",
    "counters_rlap_1a = np.asarray(counters_rlap_1a)"
   ]
  },
  {
   "cell_type": "code",
   "execution_count": null,
   "metadata": {},
   "outputs": [],
   "source": [
    "fig = plt.figure(figsize = (10,10))\n",
    "plt.scatter(counters_rlap_1a[:,2], counters_rlap_1a[:,1], color = \"blue\")\n",
    "plt.scatter(counters_confidence_1a_rlap[:,2], counters_confidence_1a_rlap[:,1], color = \"red\")\n",
    "for i in counters_rlap_1a:\n",
    "    plt.text(i[2]+.002,i[1]+.002,\">\"+str(i[0]))\n",
    "for i in counters_confidence_1a_rlap:\n",
    "    plt.text(i[2]+.002,i[1]+.002,\">\"+str(i[0]))\n",
    "plt.title(\"TPR vs. FPR for different rlap thresholds\")\n",
    "plt.xlabel(\"False Positive Rate\")\n",
    "plt.ylabel(\"True Positive Rate\")"
   ]
  },
  {
   "cell_type": "code",
   "execution_count": null,
   "metadata": {},
   "outputs": [],
   "source": [
    "counters_rlap_1a[0]"
   ]
  },
  {
   "cell_type": "code",
   "execution_count": null,
   "metadata": {},
   "outputs": [],
   "source": [
    "actual_c = Counter(final_rcf_table[\"sn_type\"])\n",
    "actual_list = np.flip(np.asarray(actual_c.most_common()))"
   ]
  },
  {
   "cell_type": "code",
   "execution_count": null,
   "metadata": {},
   "outputs": [],
   "source": [
    "fig = plt.figure(figsize = (20,10))\n",
    "ax = fig.add_axes([0,0,1,1])\n",
    "ax.bar(actual_list[:,1], actual_list[:,0].astype(int), label = \"Wrong\")"
   ]
  },
  {
   "cell_type": "code",
   "execution_count": null,
   "metadata": {},
   "outputs": [],
   "source": []
  },
  {
   "cell_type": "code",
   "execution_count": null,
   "metadata": {},
   "outputs": [],
   "source": []
  }
 ],
 "metadata": {
  "kernelspec": {
   "display_name": "Python 3",
   "language": "python",
   "name": "python3"
  },
  "language_info": {
   "codemirror_mode": {
    "name": "ipython",
    "version": 3
   },
   "file_extension": ".py",
   "mimetype": "text/x-python",
   "name": "python",
   "nbconvert_exporter": "python",
   "pygments_lexer": "ipython3",
   "version": "3.7.6"
  }
 },
 "nbformat": 4,
 "nbformat_minor": 4
}
