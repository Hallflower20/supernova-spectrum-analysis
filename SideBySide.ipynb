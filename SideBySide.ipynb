{
 "cells": [
  {
   "cell_type": "code",
   "execution_count": 2,
   "metadata": {},
   "outputs": [],
   "source": [
    "import os\n",
    "import astropy\n",
    "import numpy as np\n",
    "from astropy.table import Table\n",
    "from astropy.table import Column\n",
    "import glob\n",
    "import matplotlib.pyplot as plt\n",
    "import pandas as pd\n",
    "from collections import Counter\n",
    "from mpl_toolkits.mplot3d import Axes3D"
   ]
  },
  {
   "cell_type": "code",
   "execution_count": 3,
   "metadata": {},
   "outputs": [],
   "source": [
    "sample_location = \"/home/hallflower/sample/spectra/\"\n",
    "dash = \"C:/users/20xha/Documents/Caltech/Research/DASH/\""
   ]
  },
  {
   "cell_type": "code",
   "execution_count": 5,
   "metadata": {},
   "outputs": [],
   "source": [
    "SEDM_ML_sample = Table.read(\"C:/Users/20xha/Documents/Caltech/Research/SEDM_ML_sample.ascii\", format = \"ascii\")\n",
    "SEDM_ML_sample.rename_column('col1', 'ZTF_Name')\n",
    "SEDM_ML_sample.rename_column('col2', \"Class\")\n",
    "SEDM_ML_sample.rename_column('col8', \"Version\")"
   ]
  },
  {
   "cell_type": "code",
   "execution_count": 6,
   "metadata": {},
   "outputs": [],
   "source": [
    "dashoutput = np.load(dash+\"output.npy\",allow_pickle=True)"
   ]
  },
  {
   "cell_type": "code",
   "execution_count": 7,
   "metadata": {},
   "outputs": [],
   "source": [
    "snidoutput = np.load(\"/home/xhall/Documents/NewZTF/sample_2018/SNID_2018_output.npy\", allow_pickle=True)"
   ]
  },
  {
   "cell_type": "code",
   "execution_count": 9,
   "metadata": {},
   "outputs": [],
   "source": [
    "final_rcf_table = Table.from_pandas(pd.read_hdf(\"C:/users/20xha/Documents/Caltech/Research/final_rcf_table.h5\"))"
   ]
  },
  {
   "cell_type": "code",
   "execution_count": 10,
   "metadata": {},
   "outputs": [
    {
     "data": {
      "text/plain": [
       "764"
      ]
     },
     "execution_count": 10,
     "metadata": {},
     "output_type": "execute_result"
    }
   ],
   "source": [
    "len(final_rcf_table)"
   ]
  },
  {
   "cell_type": "code",
   "execution_count": 18,
   "metadata": {},
   "outputs": [],
   "source": [
    "ResultsTable_List_confidence = []\n",
    "ranges = np.linspace(0.1836, 1, 101)\n",
    "for confidence in ranges:\n",
    "    count = 0\n",
    "    ResultsTable = Table(\n",
    "                    names=(\"ZTF_Name\", \"Dash\", \"Confidence\",\n",
    "                    ),\n",
    "                    meta={\"name\": \"Spectrum Results after SNID\"},\n",
    "                    dtype=(\"U64\", \"U64\", \"float64\",\n",
    "                          )\n",
    "                    )\n",
    "\n",
    "    for i in dashoutput:\n",
    "        row = []\n",
    "        row.append(i[-1])\n",
    "        reliable = np.where(np.asarray(i[4]) != 'Unreliable matches')[0]\n",
    "        if(len(reliable) != 0):\n",
    "            best = np.asarray(i[2])[:,0][reliable]\n",
    "            c = Counter(best)\n",
    "            best_rlap = float(min(np.asarray(i[2])[:,2][reliable]))\n",
    "            if(best_rlap > confidence):\n",
    "                row.append(c.most_common()[0][0])\n",
    "                row.append(best_rlap)\n",
    "                ResultsTable.add_row(row)\n",
    "\n",
    "        count += 1\n",
    "    if(count % 50 == 0):\n",
    "        print(count)\n",
    "            \n",
    "    if(len(ResultsTable) != 0):\n",
    "        ResultsTable_List_confidence.append([confidence,ResultsTable])"
   ]
  },
  {
   "cell_type": "code",
   "execution_count": 19,
   "metadata": {},
   "outputs": [],
   "source": [
    "negative = 0\n",
    "positive = 0\n",
    "JoinedResults = final_rcf_table\n",
    "for j in JoinedResults:\n",
    "    correct_1a = \"Ia\" in j[\"sn_type\"]\n",
    "    if(correct_1a):\n",
    "        positive += 1\n",
    "    if(not(correct_1a)):\n",
    "        negative += 1"
   ]
  },
  {
   "cell_type": "code",
   "execution_count": 20,
   "metadata": {},
   "outputs": [
    {
     "name": "stdout",
     "output_type": "stream",
     "text": [
      "1.0\n",
      "0.4093\n"
     ]
    }
   ],
   "source": [
    "print(max(ResultsTable_List_confidence[0][1][\"Confidence\"]))\n",
    "print(min(ResultsTable_List_confidence[0][1][\"Confidence\"]))"
   ]
  },
  {
   "cell_type": "code",
   "execution_count": 21,
   "metadata": {},
   "outputs": [],
   "source": [
    "counters_confidence_1a = [] \n",
    "for i in ResultsTable_List_confidence:\n",
    "    truepositive = 0\n",
    "    falsepositive = 0\n",
    "    JoinedResults = astropy.table.join(i[1], final_rcf_table)\n",
    "    \n",
    "    for j in JoinedResults:\n",
    "        correct_1a = \"Ia\" in j[\"sn_type\"]\n",
    "        classified_1a = \"Ia\" in j[\"Dash\"]\n",
    "        if(correct_1a == True and classified_1a == True):\n",
    "            truepositive += 1\n",
    "        if(correct_1a != True and classified_1a == True):\n",
    "            falsepositive += 1\n",
    "    counters_confidence_1a.append([i[0],truepositive/(positive),falsepositive/(negative),len(JoinedResults)])\n",
    "counters_confidence_1a = np.asarray(counters_confidence_1a)"
   ]
  },
  {
   "cell_type": "code",
   "execution_count": 25,
   "metadata": {},
   "outputs": [],
   "source": [
    "tprfpr_dash = Table(\n",
    "                names=(\"confidence_dash\", \"tpr_dash\", \"fpr_dash\"\n",
    "                ),\n",
    "                meta={\"name\": \"Comparison of Three Programs\"},\n",
    "                dtype=(\"float64\", \"float64\", \"float64\"\n",
    "                      )) \n",
    "for i in ResultsTable_List_confidence:\n",
    "    truepositive = 0\n",
    "    falsepositive = 0\n",
    "    JoinedResults = astropy.table.join(i[1], final_rcf_table)\n",
    "    \n",
    "    for j in JoinedResults:\n",
    "        correct_1a = \"Ia\" in j[\"sn_type\"]\n",
    "        classified_1a = \"Ia\" in j[\"Dash\"]\n",
    "        if(correct_1a == True and classified_1a == True):\n",
    "            truepositive += 1\n",
    "        if(correct_1a != True and classified_1a == True):\n",
    "            falsepositive += 1\n",
    "    tprfpr_dash.add_row([i[0],truepositive/(positive),falsepositive/(negative)])"
   ]
  },
  {
   "cell_type": "code",
   "execution_count": 27,
   "metadata": {},
   "outputs": [],
   "source": [
    "from astropy.io import ascii\n",
    "ascii.write(tprfpr_dash, \"tprfpr_dash_confidence.ascii\")"
   ]
  },
  {
   "cell_type": "code",
   "execution_count": 12,
   "metadata": {},
   "outputs": [
    {
     "name": "stdout",
     "output_type": "stream",
     "text": [
      "100\n"
     ]
    }
   ],
   "source": [
    "ranges = np.linspace(0, 25, 100)\n",
    "ResultsTable_List_rlap = []\n",
    "count = 0\n",
    "\n",
    "for i in ranges:\n",
    "    ResultsTable = Table(\n",
    "                    names=(\"ZTF_Name\", \"Closest\"\n",
    "                    ),\n",
    "                    meta={\"name\": \"Spectrum Results after SNID\"},\n",
    "                    dtype=(\"U64\", \"U64\"\n",
    "                          )\n",
    "                    )\n",
    "    for j in snidoutput:\n",
    "        row = []\n",
    "        row.append(j[0])\n",
    "        if(np.max(j[1][\"rlap\"]) > i):\n",
    "            row.append(j[1][0][\"type\"])\n",
    "            ResultsTable.add_row(row)\n",
    "    \n",
    "    count += 1\n",
    "    if(len(ResultsTable) != 0):\n",
    "        ResultsTable_List_rlap.append([i,ResultsTable])\n",
    "    if(count% 100 == 0):\n",
    "        print(count)"
   ]
  },
  {
   "cell_type": "code",
   "execution_count": 110,
   "metadata": {},
   "outputs": [],
   "source": [
    "negative = 0\n",
    "positive = 0\n",
    "for j in final_rcf_table:\n",
    "    correct_1a = \"Ia\" in j[\"sn_type\"]\n",
    "    if(correct_1a):\n",
    "        positive += 1\n",
    "    if(not(correct_1a)):\n",
    "        negative += 1"
   ]
  },
  {
   "cell_type": "code",
   "execution_count": 16,
   "metadata": {},
   "outputs": [],
   "source": [
    "counters_rlap_1a = [] \n",
    "for i in ResultsTable_List_rlap:\n",
    "    truepositive = 0\n",
    "    falsepositive = 0\n",
    "    JoinedResults = astropy.table.join(i[1], final_rcf_table)\n",
    "    for j in JoinedResults:\n",
    "        correct_1a = \"Ia\" in j[\"sn_type\"]\n",
    "        classified_1a = \"Ia\" in j[\"Closest\"]\n",
    "        if(correct_1a == True and classified_1a == True):\n",
    "            truepositive += 1\n",
    "        if(correct_1a != True and classified_1a == True):\n",
    "            falsepositive += 1\n",
    "    counters_rlap_1a.append([i[0],truepositive/(positive),falsepositive/(negative),len(JoinedResults), truepositive, falsepositive])\n",
    "counters_rlap_1a = np.asarray(counters_rlap_1a)"
   ]
  },
  {
   "cell_type": "code",
   "execution_count": 17,
   "metadata": {},
   "outputs": [
    {
     "name": "stdout",
     "output_type": "stream",
     "text": [
      "547 217\n",
      "0 0\n"
     ]
    }
   ],
   "source": [
    "print(positive,negative)\n",
    "print(truepositive,falsepositive)"
   ]
  },
  {
   "cell_type": "code",
   "execution_count": 22,
   "metadata": {},
   "outputs": [
    {
     "data": {
      "text/plain": [
       "Text(0, 0.5, 'True Positive Rate')"
      ]
     },
     "execution_count": 22,
     "metadata": {},
     "output_type": "execute_result"
    },
    {
     "data": {
      "image/png": "[encoded data removed]",
      "text/plain": [
       "<Figure size 432x288 with 1 Axes>"
      ]
     },
     "metadata": {
      "needs_background": "light"
     },
     "output_type": "display_data"
    }
   ],
   "source": [
    "#plt.plot(counters_rlap_1a[:,2], counters_rlap_1a[:,1], color = \"blue\")\n",
    "plt.plot(counters_confidence_1a[:,2], counters_confidence_1a[:,1], color = \"red\")\n",
    "plt.title(\"ROC of if it is a 1a\")\n",
    "plt.xlabel(\"False Positive Rate\")\n",
    "plt.ylabel(\"True Positive Rate\")"
   ]
  },
  {
   "cell_type": "code",
   "execution_count": 13,
   "metadata": {},
   "outputs": [
    {
     "data": {
      "text/plain": [
       "array([[0.00000000e+00, 5.59414991e-01, 5.06912442e-02, 4.89000000e+02],\n",
       "       [1.00000000e-02, 5.59414991e-01, 5.06912442e-02, 4.89000000e+02],\n",
       "       [2.00000000e-02, 5.59414991e-01, 5.06912442e-02, 4.89000000e+02],\n",
       "       [3.00000000e-02, 5.59414991e-01, 5.06912442e-02, 4.89000000e+02],\n",
       "       [4.00000000e-02, 5.59414991e-01, 5.06912442e-02, 4.89000000e+02],\n",
       "       [5.00000000e-02, 5.59414991e-01, 5.06912442e-02, 4.89000000e+02],\n",
       "       [6.00000000e-02, 5.59414991e-01, 5.06912442e-02, 4.89000000e+02],\n",
       "       [7.00000000e-02, 5.59414991e-01, 5.06912442e-02, 4.89000000e+02],\n",
       "       [8.00000000e-02, 5.59414991e-01, 5.06912442e-02, 4.89000000e+02],\n",
       "       [9.00000000e-02, 5.59414991e-01, 5.06912442e-02, 4.89000000e+02],\n",
       "       [1.00000000e-01, 5.59414991e-01, 5.06912442e-02, 4.89000000e+02],\n",
       "       [1.10000000e-01, 5.59414991e-01, 5.06912442e-02, 4.89000000e+02],\n",
       "       [1.20000000e-01, 5.59414991e-01, 5.06912442e-02, 4.89000000e+02],\n",
       "       [1.30000000e-01, 5.59414991e-01, 5.06912442e-02, 4.89000000e+02],\n",
       "       [1.40000000e-01, 5.59414991e-01, 5.06912442e-02, 4.89000000e+02],\n",
       "       [1.50000000e-01, 5.59414991e-01, 5.06912442e-02, 4.89000000e+02],\n",
       "       [1.60000000e-01, 5.59414991e-01, 5.06912442e-02, 4.89000000e+02],\n",
       "       [1.70000000e-01, 5.59414991e-01, 5.06912442e-02, 4.89000000e+02],\n",
       "       [1.80000000e-01, 5.59414991e-01, 5.06912442e-02, 4.89000000e+02],\n",
       "       [1.90000000e-01, 5.59414991e-01, 5.06912442e-02, 4.89000000e+02],\n",
       "       [2.00000000e-01, 5.59414991e-01, 5.06912442e-02, 4.89000000e+02],\n",
       "       [2.10000000e-01, 5.59414991e-01, 5.06912442e-02, 4.89000000e+02],\n",
       "       [2.20000000e-01, 5.59414991e-01, 5.06912442e-02, 4.89000000e+02],\n",
       "       [2.30000000e-01, 5.59414991e-01, 5.06912442e-02, 4.89000000e+02],\n",
       "       [2.40000000e-01, 5.59414991e-01, 5.06912442e-02, 4.89000000e+02],\n",
       "       [2.50000000e-01, 5.59414991e-01, 5.06912442e-02, 4.89000000e+02],\n",
       "       [2.60000000e-01, 5.59414991e-01, 5.06912442e-02, 4.89000000e+02],\n",
       "       [2.70000000e-01, 5.59414991e-01, 5.06912442e-02, 4.89000000e+02],\n",
       "       [2.80000000e-01, 5.59414991e-01, 5.06912442e-02, 4.89000000e+02],\n",
       "       [2.90000000e-01, 5.59414991e-01, 5.06912442e-02, 4.89000000e+02],\n",
       "       [3.00000000e-01, 5.59414991e-01, 5.06912442e-02, 4.89000000e+02],\n",
       "       [3.10000000e-01, 5.59414991e-01, 5.06912442e-02, 4.89000000e+02],\n",
       "       [3.20000000e-01, 5.59414991e-01, 5.06912442e-02, 4.89000000e+02],\n",
       "       [3.30000000e-01, 5.59414991e-01, 5.06912442e-02, 4.89000000e+02],\n",
       "       [3.40000000e-01, 5.59414991e-01, 5.06912442e-02, 4.89000000e+02],\n",
       "       [3.50000000e-01, 5.59414991e-01, 5.06912442e-02, 4.89000000e+02],\n",
       "       [3.60000000e-01, 5.59414991e-01, 5.06912442e-02, 4.89000000e+02],\n",
       "       [3.70000000e-01, 5.59414991e-01, 5.06912442e-02, 4.89000000e+02],\n",
       "       [3.80000000e-01, 5.59414991e-01, 5.06912442e-02, 4.89000000e+02],\n",
       "       [3.90000000e-01, 5.59414991e-01, 5.06912442e-02, 4.89000000e+02],\n",
       "       [4.00000000e-01, 5.59414991e-01, 5.06912442e-02, 4.89000000e+02],\n",
       "       [4.10000000e-01, 5.59414991e-01, 5.06912442e-02, 4.89000000e+02],\n",
       "       [4.20000000e-01, 5.59414991e-01, 5.06912442e-02, 4.89000000e+02],\n",
       "       [4.30000000e-01, 5.59414991e-01, 5.06912442e-02, 4.89000000e+02],\n",
       "       [4.40000000e-01, 5.59414991e-01, 5.06912442e-02, 4.89000000e+02],\n",
       "       [4.50000000e-01, 5.59414991e-01, 5.06912442e-02, 4.89000000e+02],\n",
       "       [4.60000000e-01, 5.59414991e-01, 5.06912442e-02, 4.89000000e+02],\n",
       "       [4.70000000e-01, 5.59414991e-01, 5.06912442e-02, 4.88000000e+02],\n",
       "       [4.80000000e-01, 5.59414991e-01, 5.06912442e-02, 4.88000000e+02],\n",
       "       [4.90000000e-01, 5.59414991e-01, 5.06912442e-02, 4.88000000e+02],\n",
       "       [5.00000000e-01, 5.59414991e-01, 5.06912442e-02, 4.88000000e+02],\n",
       "       [5.10000000e-01, 5.59414991e-01, 5.06912442e-02, 4.88000000e+02],\n",
       "       [5.20000000e-01, 5.59414991e-01, 5.06912442e-02, 4.88000000e+02],\n",
       "       [5.30000000e-01, 5.59414991e-01, 5.06912442e-02, 4.88000000e+02],\n",
       "       [5.40000000e-01, 5.59414991e-01, 5.06912442e-02, 4.88000000e+02],\n",
       "       [5.50000000e-01, 5.57586837e-01, 5.06912442e-02, 4.87000000e+02],\n",
       "       [5.60000000e-01, 5.57586837e-01, 5.06912442e-02, 4.87000000e+02],\n",
       "       [5.70000000e-01, 5.57586837e-01, 5.06912442e-02, 4.87000000e+02],\n",
       "       [5.80000000e-01, 5.55758684e-01, 5.06912442e-02, 4.86000000e+02],\n",
       "       [5.90000000e-01, 5.55758684e-01, 5.06912442e-02, 4.86000000e+02],\n",
       "       [6.00000000e-01, 5.55758684e-01, 5.06912442e-02, 4.85000000e+02],\n",
       "       [6.10000000e-01, 5.55758684e-01, 5.06912442e-02, 4.83000000e+02],\n",
       "       [6.20000000e-01, 5.53930530e-01, 5.06912442e-02, 4.82000000e+02],\n",
       "       [6.30000000e-01, 5.53930530e-01, 5.06912442e-02, 4.81000000e+02],\n",
       "       [6.40000000e-01, 5.53930530e-01, 5.06912442e-02, 4.78000000e+02],\n",
       "       [6.50000000e-01, 5.53930530e-01, 5.06912442e-02, 4.77000000e+02],\n",
       "       [6.60000000e-01, 5.53930530e-01, 5.06912442e-02, 4.76000000e+02],\n",
       "       [6.70000000e-01, 5.52102377e-01, 5.06912442e-02, 4.75000000e+02],\n",
       "       [6.80000000e-01, 5.52102377e-01, 5.06912442e-02, 4.75000000e+02],\n",
       "       [6.90000000e-01, 5.52102377e-01, 5.06912442e-02, 4.74000000e+02],\n",
       "       [7.00000000e-01, 5.52102377e-01, 5.06912442e-02, 4.74000000e+02],\n",
       "       [7.10000000e-01, 5.52102377e-01, 5.06912442e-02, 4.74000000e+02],\n",
       "       [7.20000000e-01, 5.50274223e-01, 5.06912442e-02, 4.73000000e+02],\n",
       "       [7.30000000e-01, 5.50274223e-01, 5.06912442e-02, 4.72000000e+02],\n",
       "       [7.40000000e-01, 5.48446069e-01, 5.06912442e-02, 4.70000000e+02],\n",
       "       [7.50000000e-01, 5.48446069e-01, 5.06912442e-02, 4.69000000e+02],\n",
       "       [7.60000000e-01, 5.44789762e-01, 5.06912442e-02, 4.66000000e+02],\n",
       "       [7.70000000e-01, 5.44789762e-01, 5.06912442e-02, 4.65000000e+02],\n",
       "       [7.80000000e-01, 5.44789762e-01, 5.06912442e-02, 4.64000000e+02],\n",
       "       [7.90000000e-01, 5.42961609e-01, 5.06912442e-02, 4.61000000e+02],\n",
       "       [8.00000000e-01, 5.41133455e-01, 5.06912442e-02, 4.59000000e+02],\n",
       "       [8.10000000e-01, 5.41133455e-01, 5.06912442e-02, 4.59000000e+02],\n",
       "       [8.20000000e-01, 5.39305302e-01, 5.06912442e-02, 4.57000000e+02],\n",
       "       [8.30000000e-01, 5.37477148e-01, 5.06912442e-02, 4.53000000e+02],\n",
       "       [8.40000000e-01, 5.37477148e-01, 5.06912442e-02, 4.51000000e+02],\n",
       "       [8.50000000e-01, 5.35648995e-01, 5.06912442e-02, 4.50000000e+02],\n",
       "       [8.60000000e-01, 5.35648995e-01, 5.06912442e-02, 4.48000000e+02],\n",
       "       [8.70000000e-01, 5.31992687e-01, 5.06912442e-02, 4.46000000e+02],\n",
       "       [8.80000000e-01, 5.31992687e-01, 5.06912442e-02, 4.44000000e+02],\n",
       "       [8.90000000e-01, 5.31992687e-01, 5.06912442e-02, 4.40000000e+02],\n",
       "       [9.00000000e-01, 5.30164534e-01, 4.60829493e-02, 4.36000000e+02],\n",
       "       [9.10000000e-01, 5.26508227e-01, 4.60829493e-02, 4.31000000e+02],\n",
       "       [9.20000000e-01, 5.22851920e-01, 4.60829493e-02, 4.27000000e+02],\n",
       "       [9.30000000e-01, 5.19195612e-01, 4.14746544e-02, 4.22000000e+02],\n",
       "       [9.40000000e-01, 5.17367459e-01, 4.14746544e-02, 4.19000000e+02],\n",
       "       [9.50000000e-01, 5.15539305e-01, 4.14746544e-02, 4.11000000e+02],\n",
       "       [9.60000000e-01, 5.11882998e-01, 4.14746544e-02, 4.06000000e+02],\n",
       "       [9.70000000e-01, 5.08226691e-01, 4.14746544e-02, 3.96000000e+02],\n",
       "       [9.80000000e-01, 5.02742230e-01, 4.14746544e-02, 3.86000000e+02],\n",
       "       [9.90000000e-01, 4.80804388e-01, 2.76497696e-02, 3.64000000e+02]])"
      ]
     },
     "execution_count": 13,
     "metadata": {},
     "output_type": "execute_result"
    }
   ],
   "source": [
    "counters_confidence_1a"
   ]
  },
  {
   "cell_type": "code",
   "execution_count": 17,
   "metadata": {},
   "outputs": [
    {
     "data": {
      "text/plain": [
       "array([0., 0., 0., 0., 0., 0.])"
      ]
     },
     "execution_count": 19,
     "metadata": {},
     "output_type": "execute_result"
    }
   ],
   "source": [
    "counters_rlap_1a[np.where(counters_rlap_1a[:,2] == 0)][0]"
   ]
  },
  {
   "cell_type": "code",
   "execution_count": 20,
   "metadata": {},
   "outputs": [],
   "source": [
    "counters_confidence = [] \n",
    "for i in ResultsTable_List_confidence:\n",
    "    truepositive = 0\n",
    "    wrong = []\n",
    "    JoinedResults = astropy.table.join(i[1], final_rcf_table)\n",
    "    for j in JoinedResults:\n",
    "        if(j[\"sn_type\"] != '-'):\n",
    "            correct_1a = \"Ia\" in j[\"sn_type\"]\n",
    "            classified_1a = \"Ia\" in j[\"Dash\"]\n",
    "            if(correct_1a == True and classified_1a == True):\n",
    "                truepositive += 1\n",
    "    wrong = np.asarray(wrong)\n",
    "    counters_confidence.append([i[0],truepositive,positive, wrong])\n",
    "counters_confidence = np.asarray(counters_confidence)"
   ]
  },
  {
   "cell_type": "code",
   "execution_count": 21,
   "metadata": {},
   "outputs": [
    {
     "data": {
      "text/plain": [
       "Text(0, 0.5, 'true positive rate')"
      ]
     },
     "execution_count": 21,
     "metadata": {},
     "output_type": "execute_result"
    },
    {
     "data": {
      "image/png": "[encoded data removed]",
      "text/plain": [
       "<Figure size 432x288 with 1 Axes>"
      ]
     },
     "metadata": {
      "needs_background": "light"
     },
     "output_type": "display_data"
    }
   ],
   "source": [
    "plt.plot(counters_confidence[:,0], counters_confidence[:,1]/(counters_confidence[:,2]), color = \"red\")\n",
    "plt.title(\"confidence vs true positive rate\")\n",
    "plt.xlabel(\"confidence\")\n",
    "plt.ylabel(\"true positive rate\")"
   ]
  },
  {
   "cell_type": "code",
   "execution_count": 22,
   "metadata": {},
   "outputs": [],
   "source": [
    "counters_rlap = [] \n",
    "for i in ResultsTable_List_rlap:\n",
    "    counter = 0\n",
    "    wrong = []\n",
    "    JoinedResults = astropy.table.join(i[1], final_rcf_table)\n",
    "    for j in JoinedResults:\n",
    "        correct_1a = \"Ia\" in j[\"sn_type\"]\n",
    "        classified_1a = \"Ia\" in j[\"Closest\"]\n",
    "        if(correct_1a==classified_1a):\n",
    "            counter += 1\n",
    "        else:\n",
    "            wrong.append([j[\"ZTF_Name\"], j[\"sn_type\"], j[\"Closest\"]])\n",
    "    wrong = np.asarray(wrong)\n",
    "    counters_rlap.append([i[0],counter,len(JoinedResults), wrong])\n",
    "counters_rlap = np.asarray(counters_rlap)"
   ]
  },
  {
   "cell_type": "code",
   "execution_count": 45,
   "metadata": {},
   "outputs": [
    {
     "ename": "ZeroDivisionError",
     "evalue": "division by zero",
     "output_type": "error",
     "traceback": [
      "\u001b[0;31m---------------------------------------------------------------------------\u001b[0m",
      "\u001b[0;31mZeroDivisionError\u001b[0m                         Traceback (most recent call last)",
      "\u001b[0;32m<ipython-input-45-7c84881f035c>\u001b[0m in \u001b[0;36m<module>\u001b[0;34m\u001b[0m\n\u001b[0;32m----> 1\u001b[0;31m \u001b[0mplt\u001b[0m\u001b[0;34m.\u001b[0m\u001b[0mplot\u001b[0m\u001b[0;34m(\u001b[0m\u001b[0mcounters_rlap\u001b[0m\u001b[0;34m[\u001b[0m\u001b[0;34m:\u001b[0m\u001b[0;34m,\u001b[0m\u001b[0;36m0\u001b[0m\u001b[0;34m]\u001b[0m\u001b[0;34m,\u001b[0m \u001b[0mcounters_rlap\u001b[0m\u001b[0;34m[\u001b[0m\u001b[0;34m:\u001b[0m\u001b[0;34m,\u001b[0m\u001b[0;36m1\u001b[0m\u001b[0;34m]\u001b[0m\u001b[0;34m/\u001b[0m\u001b[0mcounters_rlap\u001b[0m\u001b[0;34m[\u001b[0m\u001b[0;34m:\u001b[0m\u001b[0;34m,\u001b[0m\u001b[0;36m2\u001b[0m\u001b[0;34m]\u001b[0m\u001b[0;34m,\u001b[0m \u001b[0mcolor\u001b[0m \u001b[0;34m=\u001b[0m \u001b[0;34m\"blue\"\u001b[0m\u001b[0;34m)\u001b[0m\u001b[0;34m\u001b[0m\u001b[0;34m\u001b[0m\u001b[0m\n\u001b[0m\u001b[1;32m      2\u001b[0m \u001b[0mplt\u001b[0m\u001b[0;34m.\u001b[0m\u001b[0mxlim\u001b[0m\u001b[0;34m(\u001b[0m\u001b[0;36m0\u001b[0m\u001b[0;34m,\u001b[0m \u001b[0;36m25\u001b[0m\u001b[0;34m)\u001b[0m\u001b[0;34m\u001b[0m\u001b[0;34m\u001b[0m\u001b[0m\n\u001b[1;32m      3\u001b[0m \u001b[0mplt\u001b[0m\u001b[0;34m.\u001b[0m\u001b[0mtitle\u001b[0m\u001b[0;34m(\u001b[0m\u001b[0;34m\"rlap vs accuracy\"\u001b[0m\u001b[0;34m)\u001b[0m\u001b[0;34m\u001b[0m\u001b[0;34m\u001b[0m\u001b[0m\n\u001b[1;32m      4\u001b[0m \u001b[0mplt\u001b[0m\u001b[0;34m.\u001b[0m\u001b[0mxlabel\u001b[0m\u001b[0;34m(\u001b[0m\u001b[0;34m\"rlap\"\u001b[0m\u001b[0;34m)\u001b[0m\u001b[0;34m\u001b[0m\u001b[0;34m\u001b[0m\u001b[0m\n\u001b[1;32m      5\u001b[0m \u001b[0mplt\u001b[0m\u001b[0;34m.\u001b[0m\u001b[0mylabel\u001b[0m\u001b[0;34m(\u001b[0m\u001b[0;34m\"accuracy\"\u001b[0m\u001b[0;34m)\u001b[0m\u001b[0;34m\u001b[0m\u001b[0;34m\u001b[0m\u001b[0m\n",
      "\u001b[0;31mZeroDivisionError\u001b[0m: division by zero"
     ]
    }
   ],
   "source": [
    "plt.plot(counters_rlap[:,0], counters_rlap[:,1]/counters_rlap[:,2], color = \"blue\")\n",
    "plt.xlim(0, 25)\n",
    "plt.title(\"rlap vs accuracy\")\n",
    "plt.xlabel(\"rlap\")\n",
    "plt.ylabel(\"accuracy\")"
   ]
  },
  {
   "cell_type": "code",
   "execution_count": 46,
   "metadata": {},
   "outputs": [],
   "source": [
    "ResultsTable_List_confidence_rlap = []\n",
    "ranges = np.linspace(0, 25, 101)\n",
    "for rlap in ranges:\n",
    "    count = 0\n",
    "    ResultsTable = Table(\n",
    "                    names=(\"ZTF_Name\", \"Dash\", \"Confidence\",\n",
    "                    ),\n",
    "                    meta={\"name\": \"Spectrum Results after SNID\"},\n",
    "                    dtype=(\"U64\", \"U64\", \"float64\",\n",
    "                          )\n",
    "                    )\n",
    "\n",
    "    for i in dashoutput:\n",
    "        row = []\n",
    "        row.append(i[-1])\n",
    "        reliable = np.where(np.asarray(i[4]) != 'Unreliable matches')[0]\n",
    "        if(len(reliable) != 0):\n",
    "            best = np.asarray(i[2])[:,0][reliable]\n",
    "            c = Counter(best)\n",
    "            rlap_list = []\n",
    "            for rlap_vals in np.asarray(i[3]):\n",
    "                rlap_list.append(float(rlap_vals.split(\":\")[-1]))\n",
    "            best_rlap = np.max(rlap_list)\n",
    "            if(best_rlap > rlap):\n",
    "                row.append(c.most_common()[0][0])\n",
    "                row.append(best_rlap)\n",
    "                ResultsTable.add_row(row)\n",
    "\n",
    "        count += 1\n",
    "    if(count % 50 == 0):\n",
    "        print(count)\n",
    "            \n",
    "    if(len(ResultsTable) != 0):\n",
    "        ResultsTable_List_confidence_rlap.append([rlap,ResultsTable])"
   ]
  },
  {
   "cell_type": "code",
   "execution_count": 47,
   "metadata": {},
   "outputs": [],
   "source": [
    "counters_confidence_rlap = [] \n",
    "for i in ResultsTable_List_confidence_rlap:\n",
    "    counter = 0\n",
    "    wrong = []\n",
    "    JoinedResults = astropy.table.join(i[1], final_rcf_table)\n",
    "    for j in JoinedResults:\n",
    "        if(j[\"sn_type\"] != '-'):\n",
    "            correct_1a = \"Ia\" in j[\"sn_type\"]\n",
    "            classified_1a = \"Ia\" in j[\"Dash\"]\n",
    "            if(correct_1a==classified_1a):\n",
    "                counter += 1\n",
    "            else:\n",
    "                wrong.append([j[\"ZTF_Name\"], j[\"sn_type\"], j[\"Dash\"]])\n",
    "    wrong = np.asarray(wrong)\n",
    "    if(counter != 0):\n",
    "        counters_confidence_rlap.append([i[0],counter,len(JoinedResults), wrong])\n",
    "counters_confidence_rlap = np.asarray(counters_confidence_rlap)"
   ]
  },
  {
   "cell_type": "code",
   "execution_count": 48,
   "metadata": {},
   "outputs": [
    {
     "data": {
      "text/plain": [
       "Text(0, 0.5, 'true positive')"
      ]
     },
     "execution_count": 48,
     "metadata": {},
     "output_type": "execute_result"
    },
    {
     "data": {
      "image/png": "[encoded data removed]",
      "text/plain": [
       "<Figure size 432x288 with 1 Axes>"
      ]
     },
     "metadata": {
      "needs_background": "light"
     },
     "output_type": "display_data"
    }
   ],
   "source": [
    "plt.plot(counters_confidence_rlap[:,0], counters_confidence_rlap[:,1]/counters_confidence_rlap[:,2], color = \"red\")\n",
    "plt.title(\"rlap vs true positive\")\n",
    "plt.xlabel(\"rlap\")\n",
    "plt.ylabel(\"true positive\")"
   ]
  },
  {
   "cell_type": "code",
   "execution_count": 49,
   "metadata": {},
   "outputs": [
    {
     "ename": "ZeroDivisionError",
     "evalue": "division by zero",
     "output_type": "error",
     "traceback": [
      "\u001b[0;31m---------------------------------------------------------------------------\u001b[0m",
      "\u001b[0;31mZeroDivisionError\u001b[0m                         Traceback (most recent call last)",
      "\u001b[0;32m<ipython-input-49-89a285bfaf3d>\u001b[0m in \u001b[0;36m<module>\u001b[0;34m\u001b[0m\n\u001b[1;32m      1\u001b[0m \u001b[0mfig\u001b[0m \u001b[0;34m=\u001b[0m \u001b[0mplt\u001b[0m\u001b[0;34m.\u001b[0m\u001b[0mfigure\u001b[0m\u001b[0;34m(\u001b[0m\u001b[0mfigsize\u001b[0m \u001b[0;34m=\u001b[0m \u001b[0;34m(\u001b[0m\u001b[0;36m20\u001b[0m\u001b[0;34m,\u001b[0m\u001b[0;36m10\u001b[0m\u001b[0;34m)\u001b[0m\u001b[0;34m)\u001b[0m\u001b[0;34m\u001b[0m\u001b[0;34m\u001b[0m\u001b[0m\n\u001b[1;32m      2\u001b[0m \u001b[0mplt\u001b[0m\u001b[0;34m.\u001b[0m\u001b[0mplot\u001b[0m\u001b[0;34m(\u001b[0m\u001b[0mcounters_confidence_rlap\u001b[0m\u001b[0;34m[\u001b[0m\u001b[0;34m:\u001b[0m\u001b[0;34m,\u001b[0m\u001b[0;36m0\u001b[0m\u001b[0;34m]\u001b[0m\u001b[0;34m,\u001b[0m \u001b[0mcounters_confidence_rlap\u001b[0m\u001b[0;34m[\u001b[0m\u001b[0;34m:\u001b[0m\u001b[0;34m,\u001b[0m\u001b[0;36m1\u001b[0m\u001b[0;34m]\u001b[0m\u001b[0;34m/\u001b[0m\u001b[0mcounters_confidence_rlap\u001b[0m\u001b[0;34m[\u001b[0m\u001b[0;34m:\u001b[0m\u001b[0;34m,\u001b[0m\u001b[0;36m2\u001b[0m\u001b[0;34m]\u001b[0m\u001b[0;34m,\u001b[0m \u001b[0mcolor\u001b[0m \u001b[0;34m=\u001b[0m \u001b[0;34m\"red\"\u001b[0m\u001b[0;34m)\u001b[0m\u001b[0;34m\u001b[0m\u001b[0;34m\u001b[0m\u001b[0m\n\u001b[0;32m----> 3\u001b[0;31m \u001b[0mplt\u001b[0m\u001b[0;34m.\u001b[0m\u001b[0mplot\u001b[0m\u001b[0;34m(\u001b[0m\u001b[0mcounters_rlap\u001b[0m\u001b[0;34m[\u001b[0m\u001b[0;34m:\u001b[0m\u001b[0;34m,\u001b[0m\u001b[0;36m0\u001b[0m\u001b[0;34m]\u001b[0m\u001b[0;34m,\u001b[0m \u001b[0mcounters_rlap\u001b[0m\u001b[0;34m[\u001b[0m\u001b[0;34m:\u001b[0m\u001b[0;34m,\u001b[0m\u001b[0;36m1\u001b[0m\u001b[0;34m]\u001b[0m\u001b[0;34m/\u001b[0m\u001b[0mcounters_rlap\u001b[0m\u001b[0;34m[\u001b[0m\u001b[0;34m:\u001b[0m\u001b[0;34m,\u001b[0m\u001b[0;36m2\u001b[0m\u001b[0;34m]\u001b[0m\u001b[0;34m,\u001b[0m \u001b[0mcolor\u001b[0m \u001b[0;34m=\u001b[0m \u001b[0;34m\"blue\"\u001b[0m\u001b[0;34m)\u001b[0m\u001b[0;34m\u001b[0m\u001b[0;34m\u001b[0m\u001b[0m\n\u001b[0m\u001b[1;32m      4\u001b[0m \u001b[0mplt\u001b[0m\u001b[0;34m.\u001b[0m\u001b[0mtitle\u001b[0m\u001b[0;34m(\u001b[0m\u001b[0;34m\"rlap vs Accuracy\"\u001b[0m\u001b[0;34m)\u001b[0m\u001b[0;34m\u001b[0m\u001b[0;34m\u001b[0m\u001b[0m\n\u001b[1;32m      5\u001b[0m \u001b[0mplt\u001b[0m\u001b[0;34m.\u001b[0m\u001b[0mxlabel\u001b[0m\u001b[0;34m(\u001b[0m\u001b[0;34m\"rlap\"\u001b[0m\u001b[0;34m)\u001b[0m\u001b[0;34m\u001b[0m\u001b[0;34m\u001b[0m\u001b[0m\n",
      "\u001b[0;31mZeroDivisionError\u001b[0m: division by zero"
     ]
    },
    {
     "data": {
      "image/png": "[encoded data removed]",
      "text/plain": [
       "<Figure size 1440x720 with 1 Axes>"
      ]
     },
     "metadata": {
      "needs_background": "light"
     },
     "output_type": "display_data"
    }
   ],
   "source": [
    "fig = plt.figure(figsize = (20,10))\n",
    "plt.plot(counters_confidence_rlap[:,0], counters_confidence_rlap[:,1]/counters_confidence_rlap[:,2], color = \"red\")\n",
    "plt.plot(counters_rlap[:,0], counters_rlap[:,1]/counters_rlap[:,2], color = \"blue\")\n",
    "plt.title(\"rlap vs Accuracy\")\n",
    "plt.xlabel(\"rlap\")\n",
    "plt.ylabel(\"Accuracy\")"
   ]
  },
  {
   "cell_type": "code",
   "execution_count": 50,
   "metadata": {},
   "outputs": [],
   "source": [
    "counters_confidence_1a_rlap = [] \n",
    "for i in ResultsTable_List_confidence_rlap:\n",
    "    truepositive = 0\n",
    "    falsepositive = 0\n",
    "    JoinedResults = astropy.table.join(i[1], final_rcf_table)\n",
    "    \n",
    "    for j in JoinedResults:\n",
    "        correct_1a = \"Ia\" in j[\"sn_type\"]\n",
    "        classified_1a = \"Ia\" in j[\"Dash\"]\n",
    "        if(correct_1a == True and classified_1a == True):\n",
    "            truepositive += 1\n",
    "        if(correct_1a != True and classified_1a == True):\n",
    "            falsepositive += 1\n",
    "    counters_confidence_1a_rlap.append([i[0],truepositive/(positive),falsepositive/(negative),len(JoinedResults), truepositive, falsepositive])\n",
    "counters_confidence_1a_rlap = np.asarray(counters_confidence_1a_rlap)"
   ]
  },
  {
   "cell_type": "code",
   "execution_count": 174,
   "metadata": {},
   "outputs": [
    {
     "data": {
      "text/plain": [
       "Text(0, 0.5, 'True Positive Rate')"
      ]
     },
     "execution_count": 174,
     "metadata": {},
     "output_type": "execute_result"
    },
    {
     "data": {
      "image/png": "[encoded data removed]",
      "text/plain": [
       "<Figure size 432x288 with 1 Axes>"
      ]
     },
     "metadata": {
      "needs_background": "light"
     },
     "output_type": "display_data"
    }
   ],
   "source": [
    "snidroc = plt.scatter(counters_rlap_1a[:,2], counters_rlap_1a[:,1], color = \"blue\")\n",
    "dashroc = plt.scatter(counters_confidence_1a_rlap[:,2], counters_confidence_1a_rlap[:,1], color = \"red\")\n",
    "#plt.text(counters_rlap_1a[:,2], counters_rlap_1a[:,1], counters_rlap_1a[:,0])\n",
    "plt.title(\"ROC of if it is a 1a\")\n",
    "plt.xlabel(\"False Positive Rate\")\n",
    "plt.ylabel(\"True Positive Rate\")"
   ]
  },
  {
   "cell_type": "code",
   "execution_count": 175,
   "metadata": {},
   "outputs": [],
   "source": [
    "TPRFPRSNID = Table(\n",
    "                    names=(\"FPR\", \"TPR\",\n",
    "                    ),\n",
    "                    meta={\"name\": \"Spectrum Results after SNID\"},\n",
    "                    dtype=(\"float64\", \"float64\",\n",
    "                          )\n",
    "                    )\n",
    "for i in zip(counters_rlap_1a[:,2], counters_rlap_1a[:,1]):\n",
    "    TPRFPRSNID.add_row(i)"
   ]
  },
  {
   "cell_type": "code",
   "execution_count": 176,
   "metadata": {},
   "outputs": [],
   "source": [
    "TPRFPRDASH = Table(\n",
    "                    names=(\"FPR\", \"TPR\",\n",
    "                    ),\n",
    "                    meta={\"name\": \"Spectrum Results after SNID\"},\n",
    "                    dtype=(\"float64\", \"float64\",\n",
    "                          )\n",
    "                    )\n",
    "for i in zip(counters_confidence_1a_rlap[:,2], counters_confidence_1a_rlap[:,1]):\n",
    "    TPRFPRDASH.add_row(i)"
   ]
  },
  {
   "cell_type": "code",
   "execution_count": 177,
   "metadata": {},
   "outputs": [],
   "source": [
    "astropy.io.ascii.write(TPRFPRSNID, 'TPRFPRSNID.ascii', format='fast_tab', fast_writer=False) \n",
    "astropy.io.ascii.write(TPRFPRDASH, 'TPRFPRDASH.ascii', format='fast_tab', fast_writer=False) "
   ]
  },
  {
   "cell_type": "code",
   "execution_count": 52,
   "metadata": {},
   "outputs": [
    {
     "data": {
      "text/plain": [
       "array([9.50000000e+00, 6.35910224e-02, 0.00000000e+00, 8.80000000e+01,\n",
       "       5.10000000e+01, 0.00000000e+00])"
      ]
     },
     "execution_count": 52,
     "metadata": {},
     "output_type": "execute_result"
    }
   ],
   "source": [
    "counters_confidence_1a_rlap[np.where(counters_confidence_1a_rlap[:,2] == 0)][0]"
   ]
  },
  {
   "cell_type": "code",
   "execution_count": null,
   "metadata": {},
   "outputs": [],
   "source": [
    "ResultsTable_List_confidence_rlap = []\n",
    "ranges = np.linspace(0, 25, 6)\n",
    "for rlap in ranges:\n",
    "    count = 0\n",
    "    ResultsTable = Table(\n",
    "                    names=(\"ZTF_Name\", \"Dash\", \"Confidence\",\n",
    "                    ),\n",
    "                    meta={\"name\": \"Spectrum Results after SNID\"},\n",
    "                    dtype=(\"U64\", \"U64\", \"float64\",\n",
    "                          )\n",
    "                    )\n",
    "\n",
    "    for i in dashoutput:\n",
    "        row = []\n",
    "        row.append(i[-1])\n",
    "        reliable = np.where(np.asarray(i[4]) != 'Unreliable matches')[0]\n",
    "        if(len(reliable) != 0):\n",
    "            best = np.asarray(i[2])[:,0][reliable]\n",
    "            c = Counter(best)\n",
    "            rlap_list = []\n",
    "            for rlap_vals in np.asarray(i[3]):\n",
    "                rlap_list.append(float(rlap_vals.split(\":\")[-1]))\n",
    "            best_rlap = np.max(rlap_list)\n",
    "            if(best_rlap > rlap):\n",
    "                row.append(c.most_common()[0][0])\n",
    "                row.append(best_rlap)\n",
    "                ResultsTable.add_row(row)\n",
    "\n",
    "        count += 1\n",
    "    if(count % 50 == 0):\n",
    "        print(count)\n",
    "            \n",
    "    if(len(ResultsTable) != 0):\n",
    "        ResultsTable_List_confidence_rlap.append([rlap,ResultsTable])"
   ]
  },
  {
   "cell_type": "code",
   "execution_count": null,
   "metadata": {},
   "outputs": [],
   "source": [
    "ranges = np.linspace(0, 25, 6)\n",
    "ResultsTable_List_rlap = []\n",
    "count = 0\n",
    "\n",
    "for i in ranges:\n",
    "    ResultsTable = Table(\n",
    "                    names=(\"ZTF_Name\", \"Closest\"\n",
    "                    ),\n",
    "                    meta={\"name\": \"Spectrum Results after SNID\"},\n",
    "                    dtype=(\"U64\", \"U64\"\n",
    "                          )\n",
    "                    )\n",
    "    for j in snidoutput:\n",
    "        row = []\n",
    "        row.append(j[0])\n",
    "        if(np.max(j[1][\"rlap\"]) > i):\n",
    "            row.append(j[1][0][\"type\"])\n",
    "            ResultsTable.add_row(row)\n",
    "    \n",
    "    count += 1\n",
    "    if(len(ResultsTable) != 0):\n",
    "        ResultsTable_List_rlap.append([i,ResultsTable])\n",
    "    if(count% 100 == 0):\n",
    "        print(count)"
   ]
  },
  {
   "cell_type": "code",
   "execution_count": null,
   "metadata": {},
   "outputs": [],
   "source": [
    "counters_confidence_1a_rlap = [] \n",
    "for i in ResultsTable_List_confidence_rlap:\n",
    "    truepositive = 0\n",
    "    falsepositive = 0\n",
    "    JoinedResults = astropy.table.join(i[1], final_rcf_table)\n",
    "    \n",
    "    for j in JoinedResults:\n",
    "        correct_1a = \"Ia\" in j[\"sn_type\"]\n",
    "        classified_1a = \"Ia\" in j[\"Dash\"]\n",
    "        if(correct_1a == True and classified_1a == True):\n",
    "            truepositive += 1\n",
    "        if(correct_1a != True and classified_1a == True):\n",
    "            falsepositive += 1\n",
    "    counters_confidence_1a_rlap.append([i[0],truepositive/(positive),falsepositive/(negative),len(JoinedResults), truepositive, falsepositive])\n",
    "counters_confidence_1a_rlap = np.asarray(counters_confidence_1a_rlap)"
   ]
  },
  {
   "cell_type": "code",
   "execution_count": null,
   "metadata": {},
   "outputs": [],
   "source": [
    "counters_rlap_1a = [] \n",
    "for i in ResultsTable_List_rlap:\n",
    "    truepositive = 0\n",
    "    falsepositive = 0\n",
    "    JoinedResults = astropy.table.join(i[1], final_rcf_table)\n",
    "    for j in JoinedResults:\n",
    "        correct_1a = \"Ia\" in j[\"sn_type\"]\n",
    "        classified_1a = \"Ia\" in j[\"Closest\"]\n",
    "        if(correct_1a == True and classified_1a == True):\n",
    "            truepositive += 1\n",
    "        if(correct_1a != True and classified_1a == True):\n",
    "            falsepositive += 1\n",
    "    counters_rlap_1a.append([i[0],truepositive/(positive),falsepositive/(negative),len(JoinedResults), truepositive, falsepositive])\n",
    "counters_rlap_1a = np.asarray(counters_rlap_1a)"
   ]
  },
  {
   "cell_type": "code",
   "execution_count": null,
   "metadata": {},
   "outputs": [],
   "source": [
    "fig = plt.figure(figsize = (10,10))\n",
    "plt.scatter(counters_rlap_1a[:,2], counters_rlap_1a[:,1], color = \"blue\")\n",
    "plt.scatter(counters_confidence_1a_rlap[:,2], counters_confidence_1a_rlap[:,1], color = \"red\")\n",
    "for i in counters_rlap_1a:\n",
    "    plt.text(i[2]+.002,i[1]+.002,\">\"+str(i[0]))\n",
    "for i in counters_confidence_1a_rlap:\n",
    "    plt.text(i[2]+.002,i[1]+.002,\">\"+str(i[0]))\n",
    "plt.title(\"TPR vs. FPR for different rlap thresholds\")\n",
    "plt.xlabel(\"False Positive Rate\")\n",
    "plt.ylabel(\"True Positive Rate\")"
   ]
  },
  {
   "cell_type": "code",
   "execution_count": null,
   "metadata": {},
   "outputs": [],
   "source": [
    "counters_rlap_1a[0]"
   ]
  },
  {
   "cell_type": "code",
   "execution_count": null,
   "metadata": {},
   "outputs": [],
   "source": [
    "actual_c = Counter(final_rcf_table[\"sn_type\"])\n",
    "actual_list = np.flip(np.asarray(actual_c.most_common()))"
   ]
  },
  {
   "cell_type": "code",
   "execution_count": null,
   "metadata": {},
   "outputs": [],
   "source": [
    "fig = plt.figure(figsize = (20,10))\n",
    "ax = fig.add_axes([0,0,1,1])\n",
    "ax.bar(actual_list[:,1], actual_list[:,0].astype(int), label = \"Wrong\")"
   ]
  },
  {
   "cell_type": "code",
   "execution_count": null,
   "metadata": {},
   "outputs": [],
   "source": []
  },
  {
   "cell_type": "code",
   "execution_count": null,
   "metadata": {},
   "outputs": [],
   "source": []
  }
 ],
 "metadata": {
  "kernelspec": {
   "display_name": "Python 3",
   "language": "python",
   "name": "python3"
  },
  "language_info": {
   "codemirror_mode": {
    "name": "ipython",
    "version": 3
   },
   "file_extension": ".py",
   "mimetype": "text/x-python",
   "name": "python",
   "nbconvert_exporter": "python",
   "pygments_lexer": "ipython3",
   "version": "3.8.5"
  }
 },
 "nbformat": 4,
 "nbformat_minor": 4
}
