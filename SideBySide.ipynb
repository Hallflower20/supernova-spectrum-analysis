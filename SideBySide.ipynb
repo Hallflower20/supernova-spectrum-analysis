{
 "cells": [
  {
   "cell_type": "code",
   "execution_count": 1,
   "metadata": {},
   "outputs": [
    {
     "name": "stdout",
     "output_type": "stream",
     "text": [
      "WARNING:tensorflow:From /home/hallflower/anaconda3/lib/python3.7/site-packages/tensorflow/python/compat/v2_compat.py:96: disable_resource_variables (from tensorflow.python.ops.variable_scope) is deprecated and will be removed in a future version.\n",
      "Instructions for updating:\n",
      "non-resource variables are not supported in the long term\n"
     ]
    }
   ],
   "source": [
    "import astrodash"
   ]
  },
  {
   "cell_type": "code",
   "execution_count": 2,
   "metadata": {},
   "outputs": [],
   "source": [
    "import os\n",
    "import astropy\n",
    "import numpy as np\n",
    "from astropy.table import Table\n",
    "from astropy.table import Column\n",
    "import glob\n",
    "import matplotlib.pyplot as plt\n",
    "import pandas as pd\n",
    "from collections import Counter\n",
    "from mpl_toolkits.mplot3d import Axes3D"
   ]
  },
  {
   "cell_type": "code",
   "execution_count": 3,
   "metadata": {},
   "outputs": [],
   "source": [
    "sample_location = \"/home/hallflower/sample/spectra/\"\n",
    "dash = \"/mnt/c/users/20xha/Documents/Caltech/Research/DASH/\""
   ]
  },
  {
   "cell_type": "code",
   "execution_count": 4,
   "metadata": {},
   "outputs": [],
   "source": [
    "SEDM_ML_sample = Table.read(\"/mnt/c/Users/20xha/Documents/Caltech/Research/SEDM_ML_sample.ascii\", format = \"ascii\")\n",
    "SEDM_ML_sample.rename_column('col1', 'ZTF_Name')\n",
    "SEDM_ML_sample.rename_column('col2', \"Class\")\n",
    "SEDM_ML_sample.rename_column('col8', \"Version\")"
   ]
  },
  {
   "cell_type": "code",
   "execution_count": 5,
   "metadata": {},
   "outputs": [],
   "source": [
    "dashoutput = np.load(dash+\"output.npy\",allow_pickle=True)"
   ]
  },
  {
   "cell_type": "code",
   "execution_count": 6,
   "metadata": {},
   "outputs": [],
   "source": [
    "snidoutput = np.load(\"SNID_results_rlap3.npy\", allow_pickle=True)"
   ]
  },
  {
   "cell_type": "code",
   "execution_count": 7,
   "metadata": {},
   "outputs": [],
   "source": [
    "final_rcf_table = Table.from_pandas(pd.read_hdf(\"/mnt/c/users/20xha/Documents/Caltech/Research/final_rcf_table.h5\"))"
   ]
  },
  {
   "cell_type": "code",
   "execution_count": 8,
   "metadata": {},
   "outputs": [
    {
     "data": {
      "text/plain": [
       "764"
      ]
     },
     "execution_count": 8,
     "metadata": {},
     "output_type": "execute_result"
    }
   ],
   "source": [
    "len(final_rcf_table)"
   ]
  },
  {
   "cell_type": "code",
   "execution_count": 9,
   "metadata": {},
   "outputs": [],
   "source": [
    "ResultsTable_List_confidence = []\n",
    "ranges = np.linspace(0, 1, 101)\n",
    "for confidence in ranges:\n",
    "    count = 0\n",
    "    ResultsTable = Table(\n",
    "                    names=(\"ZTF_Name\", \"Dash\", \"Confidence\",\n",
    "                    ),\n",
    "                    meta={\"name\": \"Spectrum Results after SNID\"},\n",
    "                    dtype=(\"U64\", \"U64\", \"float64\",\n",
    "                          )\n",
    "                    )\n",
    "\n",
    "    for i in dashoutput:\n",
    "        row = []\n",
    "        row.append(i[-1])\n",
    "        reliable = np.where(np.asarray(i[4]) != 'Unreliable matches')[0]\n",
    "        if(len(reliable) != 0):\n",
    "            best = np.asarray(i[2])[:,0][reliable]\n",
    "            c = Counter(best)\n",
    "            best_rlap = float(min(np.asarray(i[2])[:,2][reliable]))\n",
    "            if(best_rlap > confidence):\n",
    "                row.append(c.most_common()[0][0])\n",
    "                row.append(best_rlap)\n",
    "                ResultsTable.add_row(row)\n",
    "\n",
    "        count += 1\n",
    "    if(count % 50 == 0):\n",
    "        print(count)\n",
    "            \n",
    "    if(len(ResultsTable) != 0):\n",
    "        ResultsTable_List_confidence.append([confidence,ResultsTable])"
   ]
  },
  {
   "cell_type": "code",
   "execution_count": 10,
   "metadata": {},
   "outputs": [],
   "source": [
    "negative = 0\n",
    "positive = 0\n",
    "JoinedResults = final_rcf_table\n",
    "for j in JoinedResults:\n",
    "    correct_1a = \"Ia\" in j[\"sn_type\"]\n",
    "    if(correct_1a):\n",
    "        positive += 1\n",
    "    if(not(correct_1a)):\n",
    "        negative += 1"
   ]
  },
  {
   "cell_type": "code",
   "execution_count": 11,
   "metadata": {},
   "outputs": [],
   "source": [
    "counters_confidence_1a = [] \n",
    "for i in ResultsTable_List_confidence:\n",
    "    truepositive = 0\n",
    "    falsepositive = 0\n",
    "    JoinedResults = astropy.table.join(i[1], final_rcf_table)\n",
    "    \n",
    "    for j in JoinedResults:\n",
    "        correct_1a = \"Ia\" in j[\"sn_type\"]\n",
    "        classified_1a = \"Ia\" in j[\"Dash\"]\n",
    "        if(correct_1a == True and classified_1a == True):\n",
    "            truepositive += 1\n",
    "        if(correct_1a != True and classified_1a == True):\n",
    "            falsepositive += 1\n",
    "    counters_confidence_1a.append([i[0],truepositive/(positive),falsepositive/(negative),len(JoinedResults)])\n",
    "counters_confidence_1a = np.asarray(counters_confidence_1a)"
   ]
  },
  {
   "cell_type": "code",
   "execution_count": 12,
   "metadata": {},
   "outputs": [
    {
     "name": "stdout",
     "output_type": "stream",
     "text": [
      "100\n"
     ]
    }
   ],
   "source": [
    "ranges = np.linspace(0, 25, 100)\n",
    "ResultsTable_List_rlap = []\n",
    "count = 0\n",
    "\n",
    "for i in ranges:\n",
    "    ResultsTable = Table(\n",
    "                    names=(\"ZTF_Name\", \"Closest\"\n",
    "                    ),\n",
    "                    meta={\"name\": \"Spectrum Results after SNID\"},\n",
    "                    dtype=(\"U64\", \"U64\"\n",
    "                          )\n",
    "                    )\n",
    "    for j in snidoutput:\n",
    "        row = []\n",
    "        row.append(j[0])\n",
    "        if(np.max(j[1][\"rlap\"]) > i):\n",
    "            row.append(j[1][0][\"type\"])\n",
    "            ResultsTable.add_row(row)\n",
    "    \n",
    "    count += 1\n",
    "    if(len(ResultsTable) != 0):\n",
    "        ResultsTable_List_rlap.append([i,ResultsTable])\n",
    "    if(count% 100 == 0):\n",
    "        print(count)"
   ]
  },
  {
   "cell_type": "code",
   "execution_count": 13,
   "metadata": {},
   "outputs": [],
   "source": [
    "negative = 0\n",
    "positive = 0\n",
    "for j in final_rcf_table:\n",
    "    correct_1a = \"Ia\" in j[\"sn_type\"]\n",
    "    if(correct_1a):\n",
    "        positive += 1\n",
    "    if(not(correct_1a)):\n",
    "        negative += 1"
   ]
  },
  {
   "cell_type": "code",
   "execution_count": 14,
   "metadata": {},
   "outputs": [],
   "source": [
    "counters_rlap_1a = [] \n",
    "for i in ResultsTable_List_rlap:\n",
    "    truepositive = 0\n",
    "    falsepositive = 0\n",
    "    JoinedResults = astropy.table.join(i[1], final_rcf_table)\n",
    "    for j in JoinedResults:\n",
    "        correct_1a = \"Ia\" in j[\"sn_type\"]\n",
    "        classified_1a = \"Ia\" in j[\"Closest\"]\n",
    "        if(correct_1a == True and classified_1a == True):\n",
    "            truepositive += 1\n",
    "        if(correct_1a != True and classified_1a == True):\n",
    "            falsepositive += 1\n",
    "    counters_rlap_1a.append([i[0],truepositive/(positive),falsepositive/(negative),len(JoinedResults), truepositive, falsepositive])\n",
    "counters_rlap_1a = np.asarray(counters_rlap_1a)"
   ]
  },
  {
   "cell_type": "code",
   "execution_count": 15,
   "metadata": {},
   "outputs": [
    {
     "name": "stdout",
     "output_type": "stream",
     "text": [
      "547 217\n",
      "15 0\n"
     ]
    }
   ],
   "source": [
    "print(positive,negative)\n",
    "print(truepositive,falsepositive)"
   ]
  },
  {
   "cell_type": "code",
   "execution_count": 16,
   "metadata": {},
   "outputs": [
    {
     "data": {
      "text/plain": [
       "Text(0, 0.5, 'True Positive Rate')"
      ]
     },
     "execution_count": 16,
     "metadata": {},
     "output_type": "execute_result"
    },
    {
     "data": {
      "image/png": "[encoded data removed]",
      "text/plain": [
       "<Figure size 432x288 with 1 Axes>"
      ]
     },
     "metadata": {
      "needs_background": "light"
     },
     "output_type": "display_data"
    }
   ],
   "source": [
    "plt.plot(counters_rlap_1a[:,2], counters_rlap_1a[:,1], color = \"blue\")\n",
    "plt.plot(counters_confidence_1a[:,2], counters_confidence_1a[:,1], color = \"red\")\n",
    "plt.title(\"ROC of if it is a 1a\")\n",
    "plt.xlabel(\"False Positive Rate\")\n",
    "plt.ylabel(\"True Positive Rate\")"
   ]
  },
  {
   "cell_type": "code",
   "execution_count": 17,
   "metadata": {},
   "outputs": [
    {
     "data": {
      "text/plain": [
       "array([  9.84848485,   0.51371115,   0.        , 318.        ,\n",
       "       281.        ,   0.        ])"
      ]
     },
     "execution_count": 17,
     "metadata": {},
     "output_type": "execute_result"
    }
   ],
   "source": [
    "counters_rlap_1a[np.where(counters_rlap_1a[:,2] == 0)][0]"
   ]
  },
  {
   "cell_type": "code",
   "execution_count": 18,
   "metadata": {},
   "outputs": [],
   "source": [
    "counters_confidence = [] \n",
    "for i in ResultsTable_List_confidence:\n",
    "    truepositive = 0\n",
    "    wrong = []\n",
    "    JoinedResults = astropy.table.join(i[1], final_rcf_table)\n",
    "    for j in JoinedResults:\n",
    "        if(j[\"sn_type\"] != '-'):\n",
    "            correct_1a = \"Ia\" in j[\"sn_type\"]\n",
    "            classified_1a = \"Ia\" in j[\"Dash\"]\n",
    "            if(correct_1a == True and classified_1a == True):\n",
    "                truepositive += 1\n",
    "    wrong = np.asarray(wrong)\n",
    "    counters_confidence.append([i[0],truepositive,positive, wrong])\n",
    "counters_confidence = np.asarray(counters_confidence)"
   ]
  },
  {
   "cell_type": "code",
   "execution_count": 19,
   "metadata": {},
   "outputs": [
    {
     "data": {
      "text/plain": [
       "Text(0, 0.5, 'true positive rate')"
      ]
     },
     "execution_count": 19,
     "metadata": {},
     "output_type": "execute_result"
    },
    {
     "data": {
      "image/png": "[encoded data removed]",
      "text/plain": [
       "<Figure size 432x288 with 1 Axes>"
      ]
     },
     "metadata": {
      "needs_background": "light"
     },
     "output_type": "display_data"
    }
   ],
   "source": [
    "plt.plot(counters_confidence[:,0], counters_confidence[:,1]/(counters_confidence[:,2]), color = \"red\")\n",
    "plt.title(\"confidence vs true positive rate\")\n",
    "plt.xlabel(\"confidence\")\n",
    "plt.ylabel(\"true positive rate\")"
   ]
  },
  {
   "cell_type": "code",
   "execution_count": 20,
   "metadata": {},
   "outputs": [],
   "source": [
    "counters_rlap = [] \n",
    "for i in ResultsTable_List_rlap:\n",
    "    counter = 0\n",
    "    wrong = []\n",
    "    JoinedResults = astropy.table.join(i[1], final_rcf_table)\n",
    "    for j in JoinedResults:\n",
    "        correct_1a = \"Ia\" in j[\"sn_type\"]\n",
    "        classified_1a = \"Ia\" in j[\"Closest\"]\n",
    "        if(correct_1a==classified_1a):\n",
    "            counter += 1\n",
    "        else:\n",
    "            wrong.append([j[\"ZTF_Name\"], j[\"sn_type\"], j[\"Closest\"]])\n",
    "    wrong = np.asarray(wrong)\n",
    "    counters_rlap.append([i[0],counter,len(JoinedResults), wrong])\n",
    "counters_rlap = np.asarray(counters_rlap)"
   ]
  },
  {
   "cell_type": "code",
   "execution_count": 21,
   "metadata": {},
   "outputs": [
    {
     "data": {
      "text/plain": [
       "Text(0, 0.5, 'accuracy')"
      ]
     },
     "execution_count": 21,
     "metadata": {},
     "output_type": "execute_result"
    },
    {
     "data": {
      "image/png": "[encoded data removed]",
      "text/plain": [
       "<Figure size 432x288 with 1 Axes>"
      ]
     },
     "metadata": {
      "needs_background": "light"
     },
     "output_type": "display_data"
    }
   ],
   "source": [
    "plt.plot(counters_rlap[:,0], counters_rlap[:,1]/counters_rlap[:,2], color = \"blue\")\n",
    "plt.xlim(0, 25)\n",
    "plt.title(\"rlap vs accuracy\")\n",
    "plt.xlabel(\"rlap\")\n",
    "plt.ylabel(\"accuracy\")"
   ]
  },
  {
   "cell_type": "code",
   "execution_count": 22,
   "metadata": {},
   "outputs": [],
   "source": [
    "ResultsTable_List_confidence_rlap = []\n",
    "ranges = np.linspace(0, 25, 101)\n",
    "for rlap in ranges:\n",
    "    count = 0\n",
    "    ResultsTable = Table(\n",
    "                    names=(\"ZTF_Name\", \"Dash\", \"Confidence\",\n",
    "                    ),\n",
    "                    meta={\"name\": \"Spectrum Results after SNID\"},\n",
    "                    dtype=(\"U64\", \"U64\", \"float64\",\n",
    "                          )\n",
    "                    )\n",
    "\n",
    "    for i in dashoutput:\n",
    "        row = []\n",
    "        row.append(i[-1])\n",
    "        reliable = np.where(np.asarray(i[4]) != 'Unreliable matches')[0]\n",
    "        if(len(reliable) != 0):\n",
    "            best = np.asarray(i[2])[:,0][reliable]\n",
    "            c = Counter(best)\n",
    "            rlap_list = []\n",
    "            for rlap_vals in np.asarray(i[3]):\n",
    "                rlap_list.append(float(rlap_vals.split(\":\")[-1]))\n",
    "            best_rlap = np.max(rlap_list)\n",
    "            if(best_rlap > rlap):\n",
    "                row.append(c.most_common()[0][0])\n",
    "                row.append(best_rlap)\n",
    "                ResultsTable.add_row(row)\n",
    "\n",
    "        count += 1\n",
    "    if(count % 50 == 0):\n",
    "        print(count)\n",
    "            \n",
    "    if(len(ResultsTable) != 0):\n",
    "        ResultsTable_List_confidence_rlap.append([rlap,ResultsTable])"
   ]
  },
  {
   "cell_type": "code",
   "execution_count": 23,
   "metadata": {},
   "outputs": [],
   "source": [
    "counters_confidence_rlap = [] \n",
    "for i in ResultsTable_List_confidence_rlap:\n",
    "    counter = 0\n",
    "    wrong = []\n",
    "    JoinedResults = astropy.table.join(i[1], final_rcf_table)\n",
    "    for j in JoinedResults:\n",
    "        if(j[\"sn_type\"] != '-'):\n",
    "            correct_1a = \"Ia\" in j[\"sn_type\"]\n",
    "            classified_1a = \"Ia\" in j[\"Dash\"]\n",
    "            if(correct_1a==classified_1a):\n",
    "                counter += 1\n",
    "            else:\n",
    "                wrong.append([j[\"ZTF_Name\"], j[\"sn_type\"], j[\"Dash\"]])\n",
    "    wrong = np.asarray(wrong)\n",
    "    if(counter != 0):\n",
    "        counters_confidence_rlap.append([i[0],counter,len(JoinedResults), wrong])\n",
    "counters_confidence_rlap = np.asarray(counters_confidence_rlap)"
   ]
  },
  {
   "cell_type": "code",
   "execution_count": 24,
   "metadata": {},
   "outputs": [
    {
     "data": {
      "text/plain": [
       "Text(0, 0.5, 'true positive')"
      ]
     },
     "execution_count": 24,
     "metadata": {},
     "output_type": "execute_result"
    },
    {
     "data": {
      "image/png": "[encoded data removed]",
      "text/plain": [
       "<Figure size 432x288 with 1 Axes>"
      ]
     },
     "metadata": {
      "needs_background": "light"
     },
     "output_type": "display_data"
    }
   ],
   "source": [
    "plt.plot(counters_confidence_rlap[:,0], counters_confidence_rlap[:,1]/counters_confidence_rlap[:,2], color = \"red\")\n",
    "plt.title(\"rlap vs true positive\")\n",
    "plt.xlabel(\"rlap\")\n",
    "plt.ylabel(\"true positive\")"
   ]
  },
  {
   "cell_type": "code",
   "execution_count": 46,
   "metadata": {},
   "outputs": [
    {
     "data": {
      "text/plain": [
       "Text(0, 0.5, 'Accuracy')"
      ]
     },
     "execution_count": 46,
     "metadata": {},
     "output_type": "execute_result"
    },
    {
     "data": {
      "image/png": "[encoded data removed]",
      "text/plain": [
       "<Figure size 1440x720 with 1 Axes>"
      ]
     },
     "metadata": {
      "needs_background": "light"
     },
     "output_type": "display_data"
    }
   ],
   "source": [
    "fig = plt.figure(figsize = (20,10))\n",
    "plt.plot(counters_confidence_rlap[:,0], counters_confidence_rlap[:,1]/counters_confidence_rlap[:,2], color = \"red\")\n",
    "plt.plot(counters_rlap[:,0], counters_rlap[:,1]/counters_rlap[:,2], color = \"blue\")\n",
    "plt.title(\"rlap vs Accuracy\")\n",
    "plt.xlabel(\"rlap\")\n",
    "plt.ylabel(\"Accuracy\")"
   ]
  },
  {
   "cell_type": "code",
   "execution_count": 26,
   "metadata": {},
   "outputs": [],
   "source": [
    "counters_confidence_1a_rlap = [] \n",
    "for i in ResultsTable_List_confidence_rlap:\n",
    "    truepositive = 0\n",
    "    falsepositive = 0\n",
    "    JoinedResults = astropy.table.join(i[1], final_rcf_table)\n",
    "    \n",
    "    for j in JoinedResults:\n",
    "        correct_1a = \"Ia\" in j[\"sn_type\"]\n",
    "        classified_1a = \"Ia\" in j[\"Dash\"]\n",
    "        if(correct_1a == True and classified_1a == True):\n",
    "            truepositive += 1\n",
    "        if(correct_1a != True and classified_1a == True):\n",
    "            falsepositive += 1\n",
    "    counters_confidence_1a_rlap.append([i[0],truepositive/(positive),falsepositive/(negative),len(JoinedResults), truepositive, falsepositive])\n",
    "counters_confidence_1a_rlap = np.asarray(counters_confidence_1a_rlap)"
   ]
  },
  {
   "cell_type": "code",
   "execution_count": 31,
   "metadata": {},
   "outputs": [
    {
     "data": {
      "text/plain": [
       "Text(0, 0.5, 'True Positive Rate')"
      ]
     },
     "execution_count": 31,
     "metadata": {},
     "output_type": "execute_result"
    },
    {
     "data": {
      "image/png": "[encoded data removed]",
      "text/plain": [
       "<Figure size 432x288 with 1 Axes>"
      ]
     },
     "metadata": {
      "needs_background": "light"
     },
     "output_type": "display_data"
    }
   ],
   "source": [
    "plt.scatter(counters_rlap_1a[:,2], counters_rlap_1a[:,1], color = \"blue\")\n",
    "plt.scatter(counters_confidence_1a_rlap[:,2], counters_confidence_1a_rlap[:,1], color = \"red\")\n",
    "#plt.text(counters_rlap_1a[:,2], counters_rlap_1a[:,1], counters_rlap_1a[:,0])\n",
    "plt.title(\"ROC of if it is a 1a\")\n",
    "plt.xlabel(\"False Positive Rate\")\n",
    "plt.ylabel(\"True Positive Rate\")"
   ]
  },
  {
   "cell_type": "code",
   "execution_count": 28,
   "metadata": {},
   "outputs": [
    {
     "data": {
      "text/plain": [
       "array([ 9.5       ,  0.09323583,  0.        , 88.        , 51.        ,\n",
       "        0.        ])"
      ]
     },
     "execution_count": 28,
     "metadata": {},
     "output_type": "execute_result"
    }
   ],
   "source": [
    "counters_confidence_1a_rlap[np.where(counters_confidence_1a_rlap[:,2] == 0)][0]"
   ]
  },
  {
   "cell_type": "code",
   "execution_count": 32,
   "metadata": {},
   "outputs": [],
   "source": [
    "ResultsTable_List_confidence_rlap = []\n",
    "ranges = np.linspace(0, 25, 6)\n",
    "for rlap in ranges:\n",
    "    count = 0\n",
    "    ResultsTable = Table(\n",
    "                    names=(\"ZTF_Name\", \"Dash\", \"Confidence\",\n",
    "                    ),\n",
    "                    meta={\"name\": \"Spectrum Results after SNID\"},\n",
    "                    dtype=(\"U64\", \"U64\", \"float64\",\n",
    "                          )\n",
    "                    )\n",
    "\n",
    "    for i in dashoutput:\n",
    "        row = []\n",
    "        row.append(i[-1])\n",
    "        reliable = np.where(np.asarray(i[4]) != 'Unreliable matches')[0]\n",
    "        if(len(reliable) != 0):\n",
    "            best = np.asarray(i[2])[:,0][reliable]\n",
    "            c = Counter(best)\n",
    "            rlap_list = []\n",
    "            for rlap_vals in np.asarray(i[3]):\n",
    "                rlap_list.append(float(rlap_vals.split(\":\")[-1]))\n",
    "            best_rlap = np.max(rlap_list)\n",
    "            if(best_rlap > rlap):\n",
    "                row.append(c.most_common()[0][0])\n",
    "                row.append(best_rlap)\n",
    "                ResultsTable.add_row(row)\n",
    "\n",
    "        count += 1\n",
    "    if(count % 50 == 0):\n",
    "        print(count)\n",
    "            \n",
    "    if(len(ResultsTable) != 0):\n",
    "        ResultsTable_List_confidence_rlap.append([rlap,ResultsTable])"
   ]
  },
  {
   "cell_type": "code",
   "execution_count": 33,
   "metadata": {},
   "outputs": [],
   "source": [
    "ranges = np.linspace(0, 25, 6)\n",
    "ResultsTable_List_rlap = []\n",
    "count = 0\n",
    "\n",
    "for i in ranges:\n",
    "    ResultsTable = Table(\n",
    "                    names=(\"ZTF_Name\", \"Closest\"\n",
    "                    ),\n",
    "                    meta={\"name\": \"Spectrum Results after SNID\"},\n",
    "                    dtype=(\"U64\", \"U64\"\n",
    "                          )\n",
    "                    )\n",
    "    for j in snidoutput:\n",
    "        row = []\n",
    "        row.append(j[0])\n",
    "        if(np.max(j[1][\"rlap\"]) > i):\n",
    "            row.append(j[1][0][\"type\"])\n",
    "            ResultsTable.add_row(row)\n",
    "    \n",
    "    count += 1\n",
    "    if(len(ResultsTable) != 0):\n",
    "        ResultsTable_List_rlap.append([i,ResultsTable])\n",
    "    if(count% 100 == 0):\n",
    "        print(count)"
   ]
  },
  {
   "cell_type": "code",
   "execution_count": 34,
   "metadata": {},
   "outputs": [],
   "source": [
    "counters_confidence_1a_rlap = [] \n",
    "for i in ResultsTable_List_confidence_rlap:\n",
    "    truepositive = 0\n",
    "    falsepositive = 0\n",
    "    JoinedResults = astropy.table.join(i[1], final_rcf_table)\n",
    "    \n",
    "    for j in JoinedResults:\n",
    "        correct_1a = \"Ia\" in j[\"sn_type\"]\n",
    "        classified_1a = \"Ia\" in j[\"Dash\"]\n",
    "        if(correct_1a == True and classified_1a == True):\n",
    "            truepositive += 1\n",
    "        if(correct_1a != True and classified_1a == True):\n",
    "            falsepositive += 1\n",
    "    counters_confidence_1a_rlap.append([i[0],truepositive/(positive),falsepositive/(negative),len(JoinedResults), truepositive, falsepositive])\n",
    "counters_confidence_1a_rlap = np.asarray(counters_confidence_1a_rlap)"
   ]
  },
  {
   "cell_type": "code",
   "execution_count": 35,
   "metadata": {},
   "outputs": [],
   "source": [
    "counters_rlap_1a = [] \n",
    "for i in ResultsTable_List_rlap:\n",
    "    truepositive = 0\n",
    "    falsepositive = 0\n",
    "    JoinedResults = astropy.table.join(i[1], final_rcf_table)\n",
    "    for j in JoinedResults:\n",
    "        correct_1a = \"Ia\" in j[\"sn_type\"]\n",
    "        classified_1a = \"Ia\" in j[\"Closest\"]\n",
    "        if(correct_1a == True and classified_1a == True):\n",
    "            truepositive += 1\n",
    "        if(correct_1a != True and classified_1a == True):\n",
    "            falsepositive += 1\n",
    "    counters_rlap_1a.append([i[0],truepositive/(positive),falsepositive/(negative),len(JoinedResults), truepositive, falsepositive])\n",
    "counters_rlap_1a = np.asarray(counters_rlap_1a)"
   ]
  },
  {
   "cell_type": "code",
   "execution_count": 53,
   "metadata": {},
   "outputs": [
    {
     "data": {
      "text/plain": [
       "Text(0, 0.5, 'True Positive Rate')"
      ]
     },
     "execution_count": 53,
     "metadata": {},
     "output_type": "execute_result"
    },
    {
     "data": {
      "image/png": "[encoded data removed]",
      "text/plain": [
       "<Figure size 720x720 with 1 Axes>"
      ]
     },
     "metadata": {
      "needs_background": "light"
     },
     "output_type": "display_data"
    }
   ],
   "source": [
    "fig = plt.figure(figsize = (10,10))\n",
    "plt.scatter(counters_rlap_1a[:,2], counters_rlap_1a[:,1], color = \"blue\")\n",
    "plt.scatter(counters_confidence_1a_rlap[:,2], counters_confidence_1a_rlap[:,1], color = \"red\")\n",
    "for i in counters_rlap_1a:\n",
    "    plt.text(i[2]+.002,i[1]+.002,\">\"+str(i[0]))\n",
    "for i in counters_confidence_1a_rlap:\n",
    "    plt.text(i[2]+.002,i[1]+.002,\">\"+str(i[0]))\n",
    "plt.title(\"TPR vs. FPR for different rlap thresholds\")\n",
    "plt.xlabel(\"False Positive Rate\")\n",
    "plt.ylabel(\"True Positive Rate\")"
   ]
  },
  {
   "cell_type": "code",
   "execution_count": 39,
   "metadata": {},
   "outputs": [
    {
     "data": {
      "text/plain": [
       "array([0.00000000e+00, 7.69652651e-01, 1.29032258e-01, 6.14000000e+02,\n",
       "       4.21000000e+02, 2.80000000e+01])"
      ]
     },
     "execution_count": 39,
     "metadata": {},
     "output_type": "execute_result"
    }
   ],
   "source": [
    "counters_rlap_1a[0]"
   ]
  },
  {
   "cell_type": "code",
   "execution_count": 56,
   "metadata": {},
   "outputs": [],
   "source": [
    "actual_c = Counter(final_rcf_table[\"sn_type\"])\n",
    "actual_list = np.flip(np.asarray(actual_c.most_common()))"
   ]
  },
  {
   "cell_type": "code",
   "execution_count": 57,
   "metadata": {},
   "outputs": [
    {
     "data": {
      "text/plain": [
       "<BarContainer object of 19 artists>"
      ]
     },
     "execution_count": 57,
     "metadata": {},
     "output_type": "execute_result"
    },
    {
     "data": {
      "image/png": "[encoded data removed]",
      "text/plain": [
       "<Figure size 1440x720 with 1 Axes>"
      ]
     },
     "metadata": {
      "needs_background": "light"
     },
     "output_type": "display_data"
    }
   ],
   "source": [
    "fig = plt.figure(figsize = (20,10))\n",
    "ax = fig.add_axes([0,0,1,1])\n",
    "ax.bar(actual_list[:,1], actual_list[:,0].astype(int), label = \"Wrong\")"
   ]
  },
  {
   "cell_type": "code",
   "execution_count": null,
   "metadata": {},
   "outputs": [],
   "source": []
  },
  {
   "cell_type": "code",
   "execution_count": null,
   "metadata": {},
   "outputs": [],
   "source": []
  }
 ],
 "metadata": {
  "kernelspec": {
   "display_name": "Python 3",
   "language": "python",
   "name": "python3"
  },
  "language_info": {
   "codemirror_mode": {
    "name": "ipython",
    "version": 3
   },
   "file_extension": ".py",
   "mimetype": "text/x-python",
   "name": "python",
   "nbconvert_exporter": "python",
   "pygments_lexer": "ipython3",
   "version": "3.7.6"
  }
 },
 "nbformat": 4,
 "nbformat_minor": 4
}
